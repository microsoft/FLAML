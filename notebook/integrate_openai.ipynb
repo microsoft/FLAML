{
 "cells": [
  {
   "attachments": {},
   "cell_type": "markdown",
   "metadata": {
    "slideshow": {
     "slide_type": "slide"
    }
   },
   "source": [
    "Copyright (c) Microsoft Corporation. All rights reserved. \n",
    "\n",
    "Licensed under the MIT License.\n",
    "\n",
    "# Use FLAML to Tune OpenAI Models\n",
    "\n",
    "In this notebook, we tune OpenAI models for code generation. We use [the HumanEval benchmark](https://huggingface.co/datasets/openai_humaneval) released by OpenAI for synthesizing programs from docstrings. \n",
    "\n",
    "## Requirements\n",
    "\n",
    "FLAML requires `Python>=3.7`. To run this notebook example, please install flaml with the [openai] option:\n",
    "```bash\n",
    "pip install flaml[openai]\n",
    "```"
   ]
  },
  {
   "cell_type": "code",
   "execution_count": null,
   "metadata": {},
   "outputs": [],
   "source": [
    "%pip install flaml[openai] datasets"
   ]
  },
  {
   "attachments": {},
   "cell_type": "markdown",
   "metadata": {},
   "source": [
    "Set your OpenAI key:"
   ]
  },
  {
   "cell_type": "code",
   "execution_count": 1,
   "metadata": {},
   "outputs": [],
   "source": [
    "import os\n",
    "\n",
    "if \"OPENAI_API_KEY\" not in os.environ:\n",
    "    os.environ[\"OPENAI_API_KEY\"] = \"<your OpenAI API key here>\""
   ]
  },
  {
   "attachments": {},
   "cell_type": "markdown",
   "metadata": {},
   "source": [
    "## Load dataset\n",
    "\n",
    "First, we load the humaneval dataset. The dataset contains 164 examples. We use the first 20 for tuning the generation hyperparameters and the remaining for evaluation. In each example, the \"prompt\" is the prompt string for eliciting the code generation, \"test\" is the Python code for unit test for the example, and \"entry_point\" is the function name to be tested."
   ]
  },
  {
   "cell_type": "code",
   "execution_count": 2,
   "metadata": {},
   "outputs": [
    {
     "name": "stderr",
     "output_type": "stream",
     "text": [
      "Found cached dataset openai_humaneval (/home/vscode/.cache/huggingface/datasets/openai_humaneval/openai_humaneval/1.0.0/2955cebd73602e828fa8c0a424c594e5fab4ec863b316ca98f3d8fdb6a626e75)\n"
     ]
    },
    {
     "data": {
      "application/vnd.jupyter.widget-view+json": {
       "model_id": "8f405df00f714b10acf940e86db385dc",
       "version_major": 2,
       "version_minor": 0
      },
      "text/plain": [
       "  0%|          | 0/1 [00:00<?, ?it/s]"
      ]
     },
     "metadata": {},
     "output_type": "display_data"
    },
    {
     "name": "stderr",
     "output_type": "stream",
     "text": [
      "Loading cached shuffled indices for dataset at /home/vscode/.cache/huggingface/datasets/openai_humaneval/openai_humaneval/1.0.0/2955cebd73602e828fa8c0a424c594e5fab4ec863b316ca98f3d8fdb6a626e75/cache-1e8448101c1b32e8.arrow\n"
     ]
    }
   ],
   "source": [
    "import datasets\n",
    "\n",
    "seed = 41\n",
    "data = datasets.load_dataset(\"openai_humaneval\")[\"test\"].shuffle(seed=seed)\n",
    "n_tune_data = 20\n",
    "tune_data = [\n",
    "    {\n",
    "        \"prompt\": data[x][\"prompt\"],\n",
    "        \"test\": data[x][\"test\"],\n",
    "        \"entry_point\": data[x][\"entry_point\"],\n",
    "    }\n",
    "    for x in range(n_tune_data)\n",
    "]\n",
    "test_data = [\n",
    "    {\n",
    "        \"prompt\": data[x][\"prompt\"],\n",
    "        \"test\": data[x][\"test\"],\n",
    "        \"entry_point\": data[x][\"entry_point\"],\n",
    "    }\n",
    "    for x in range(n_tune_data, len(data))\n",
    "]\n"
   ]
  },
  {
   "attachments": {},
   "cell_type": "markdown",
   "metadata": {
    "slideshow": {
     "slide_type": "slide"
    }
   },
   "source": [
    "Check a tuning example:"
   ]
  },
  {
   "cell_type": "code",
   "execution_count": 31,
   "metadata": {
    "slideshow": {
     "slide_type": "subslide"
    },
    "tags": []
   },
   "outputs": [
    {
     "name": "stdout",
     "output_type": "stream",
     "text": [
      "\n",
      "def compare(game,guess):\n",
      "    \"\"\"I think we all remember that feeling when the result of some long-awaited\n",
      "    event is finally known. The feelings and thoughts you have at that moment are\n",
      "    definitely worth noting down and comparing.\n",
      "    Your task is to determine if a person correctly guessed the results of a number of matches.\n",
      "    You are given two arrays of scores and guesses of equal length, where each index shows a match. \n",
      "    Return an array of the same length denoting how far off each guess was. If they have guessed correctly,\n",
      "    the value is 0, and if not, the value is the absolute difference between the guess and the score.\n",
      "    \n",
      "    \n",
      "    example:\n",
      "\n",
      "    compare([1,2,3,4,5,1],[1,2,3,4,2,-2]) -> [0,0,0,0,3,3]\n",
      "    compare([0,5,0,0,0,4],[4,1,1,0,0,-2]) -> [4,4,1,0,0,6]\n",
      "    \"\"\"\n",
      "\n"
     ]
    }
   ],
   "source": [
    "print(tune_data[1][\"prompt\"])"
   ]
  },
  {
   "attachments": {},
   "cell_type": "markdown",
   "metadata": {},
   "source": [
    "Here is one example of the unit test code for verifying the correctness of the generated code:"
   ]
  },
  {
   "cell_type": "code",
   "execution_count": 32,
   "metadata": {},
   "outputs": [
    {
     "name": "stdout",
     "output_type": "stream",
     "text": [
      "def check(candidate):\n",
      "\n",
      "    # Check some simple cases\n",
      "    assert candidate([1,2,3,4,5,1],[1,2,3,4,2,-2])==[0,0,0,0,3,3], \"This prints if this assert fails 1 (good for debugging!)\"\n",
      "    assert candidate([0,0,0,0,0,0],[0,0,0,0,0,0])==[0,0,0,0,0,0], \"This prints if this assert fails 1 (good for debugging!)\"\n",
      "    assert candidate([1,2,3],[-1,-2,-3])==[2,4,6], \"This prints if this assert fails 1 (good for debugging!)\"\n",
      "    assert candidate([1,2,3,5],[-1,2,3,4])==[2,0,0,1], \"This prints if this assert fails 1 (good for debugging!)\"\n",
      "\n",
      "    # Check some edge cases that are easy to work out by hand.\n",
      "    assert True, \"This prints if this assert fails 2 (also good for debugging!)\"\n",
      "\n",
      "\n"
     ]
    }
   ],
   "source": [
    "print(tune_data[1][\"test\"])"
   ]
  },
  {
   "attachments": {},
   "cell_type": "markdown",
   "metadata": {},
   "source": [
    "## Define Success Metric\n",
    "\n",
    "Before we start tuning, we need to define the success metric we want to opotimize. For each code generation task, if one of the returned responses can pass the test, we consider the task as successfully solved. Then we can define the mean success rate of a collection of tasks.\n",
    "\n",
    "### Define a code executor\n",
    "\n",
    "First, we write a simple code executor. The code executor takes the generated code and the test code as the input, and execute them with a timer."
   ]
  },
  {
   "cell_type": "code",
   "execution_count": 4,
   "metadata": {},
   "outputs": [],
   "source": [
    "import signal\n",
    "import subprocess\n",
    "import sys\n",
    "\n",
    "def timeout_handler(signum, frame):\n",
    "    raise TimeoutError(\"Timed out!\")\n",
    "\n",
    "signal.signal(signal.SIGALRM, timeout_handler)\n",
    "max_exec_time = 3  # seconds\n",
    "\n",
    "def execute_code(code):\n",
    "    code = code.strip()\n",
    "    with open(\"codetest.py\", \"w\") as fout:\n",
    "        fout.write(code)\n",
    "    try:\n",
    "        signal.alarm(max_exec_time)\n",
    "        result = subprocess.run(\n",
    "            [sys.executable, \"codetest.py\"],\n",
    "            stdout=subprocess.DEVNULL,\n",
    "            stderr=subprocess.PIPE,\n",
    "        )\n",
    "        signal.alarm(0)\n",
    "    except TimeoutError:\n",
    "        return 0\n",
    "    return int(result.returncode == 0)"
   ]
  },
  {
   "attachments": {},
   "cell_type": "markdown",
   "metadata": {},
   "source": [
    "This function will create a temp file \"codetest.py\" and execute it in a separate process. It allows for 3 seconds to finish that code.\n",
    "\n",
    "### Define a function to evaluate the success for a given program synthesis task"
   ]
  },
  {
   "cell_type": "code",
   "execution_count": 5,
   "metadata": {},
   "outputs": [],
   "source": [
    "def success_metrics(responses, prompt, test, entry_point):\n",
    "    \"\"\"Check if the task is successful.\n",
    "\n",
    "    Args:\n",
    "        responses (list): The list of responses.\n",
    "        prompt (str): The input prompt.\n",
    "        test (str): The test code.\n",
    "        entry_point (str): The name of the function.\n",
    "\n",
    "    Returns:\n",
    "        dict: The success metrics.\n",
    "    \"\"\"\n",
    "    success_list = []\n",
    "    n = len(responses)\n",
    "    for i in range(n):\n",
    "        response = responses[i]\n",
    "        code = f\"{prompt}{response}\\n{test}\\ncheck({entry_point})\"\n",
    "        succeed = execute_code(code)\n",
    "        success_list.append(succeed)\n",
    "    return {\n",
    "        \"expected_success\": 1 - pow(1 - sum(success_list) / n, n),\n",
    "        \"success\": any(s for s in success_list),\n",
    "    }\n"
   ]
  },
  {
   "attachments": {},
   "cell_type": "markdown",
   "metadata": {
    "slideshow": {
     "slide_type": "slide"
    }
   },
   "source": [
    "## Use the tuning data to find a good configuration\n",
    "\n",
    "### Import the oai and tune subpackages from flaml.\n",
    "\n",
    "FLAML has provided an API for hyperparameter optimization of OpenAI models: `oai.Completion.tune` and to make a request with the tuned config: `oai.Completion.create`. First, we import oai from flaml:"
   ]
  },
  {
   "cell_type": "code",
   "execution_count": 6,
   "metadata": {
    "slideshow": {
     "slide_type": "slide"
    }
   },
   "outputs": [],
   "source": [
    "from flaml import oai, tune"
   ]
  },
  {
   "attachments": {},
   "cell_type": "markdown",
   "metadata": {},
   "source": [
    "For (local) reproducibility and cost efficiency, we cache responses from OpenAI."
   ]
  },
  {
   "cell_type": "code",
   "execution_count": 7,
   "metadata": {
    "slideshow": {
     "slide_type": "slide"
    }
   },
   "outputs": [],
   "source": [
    "oai.Completion.set_cache(seed)"
   ]
  },
  {
   "attachments": {},
   "cell_type": "markdown",
   "metadata": {},
   "source": [
    "This will create a disk cache in \".cache/{seed}\". You can change `cache_path` in `set_cache()`. The cache for different seeds are stored separately.\n",
    "\n",
    "### Perform tuning\n",
    "\n",
    "The tuning will take a while to finish, depending on the optimization budget (~15 mins for the current budget). The tuning will be performed under the specified optimization budgets.\n",
    "\n",
    "* inference_budget is the target average inference budget per instance in the benchmark. For example, 0.02 means the target inference budget is 0.02 dollars, which translates to 1000 tokens (input + output combined) if the Davinci model is used.\n",
    "* optimization_budget is the total budget allowed to perform the tuning. For example, 5 means 5 dollars are allowed in total, which translates to 250K tokens for the Davinci model.\n",
    "* num_sumples is the number of different hyperparameter configurations which is allowed to try. The tuning will stop after either num_samples trials or after optimization_budget dollars spent, whichever happens first. -1 means no hard restriction in the number of trials and the actual number is decided by optimization_budget.\n",
    "\n",
    "Users can specify tuning data, optimization metric, optimization mode, evaluation function, search spaces etc.. The default search space is \n",
    "```python\n",
    "    price1K = {\n",
    "        \"text-ada-001\": 0.0004,\n",
    "        \"text-babbage-001\": 0.0005,\n",
    "        \"text-curie-001\": 0.002,\n",
    "        \"code-cushman-001\": 0.002,  # TODO: update when available\n",
    "        \"code-davinci-002\": 0.02,  # TODO: update when available\n",
    "        \"text-davinci-002\": 0.02,\n",
    "        \"text-davinci-003\": 0.02,\n",
    "    }\n",
    "\n",
    "    default_search_space = {\n",
    "        \"model\": tune.choice(list(price1K.keys())),\n",
    "        \"temperature_or_top_p\": tune.choice(\n",
    "            [\n",
    "                {\"temperature\": tune.uniform(0, 1)},\n",
    "                {\"top_p\": tune.uniform(0, 1)},\n",
    "            ]\n",
    "        ),\n",
    "        \"max_tokens\": tune.lograndint(100, 1000),\n",
    "        \"n\": tune.randint(1, 100),\n",
    "        \"prompt\": \"{prompt}\",\n",
    "    }\n",
    "```\n",
    "The default search space can be overriden by users' input.\n",
    "For example, the following code specifies two choices for the model, four choices for the prompt and a fixed list of stop sequences. For hyperparameters which don't appear in users' input, the default search space will be used."
   ]
  },
  {
   "cell_type": "code",
   "execution_count": 27,
   "metadata": {},
   "outputs": [
    {
     "name": "stderr",
     "output_type": "stream",
     "text": [
      "\u001b[32m[I 2023-01-31 05:11:10,122]\u001b[0m A new study created in memory with name: optuna\u001b[0m\n"
     ]
    },
    {
     "name": "stdout",
     "output_type": "stream",
     "text": [
      "[flaml.tune.tune: 01-31 05:11:10] {786} INFO - trial 1 config: {'model': 'code-davinci-002', 'temperature_or_top_p': {'temperature': 0.36865945026811975}, 'max_tokens': 443, 'n': 1, 'prompt': 1, 'stop': 0}\n",
      "[flaml.tune.tune: 01-31 05:11:10] {204} INFO - result: {'expected_success': 0.5, 'success': 0.5, 'total_cost': 0.09002000000000002, 'cost': 0.09002000000000002, 'inference_cost': 0.004501000000000001, 'training_iteration': 0, 'config': {'model': 'code-davinci-002', 'temperature_or_top_p': {'temperature': 0.36865945026811975}, 'max_tokens': 443, 'n': 1, 'prompt': 1, 'stop': 0}, 'config/model': 'code-davinci-002', 'config/temperature_or_top_p': {'temperature': 0.36865945026811975}, 'config/max_tokens': 443, 'config/n': 1, 'config/prompt': 1, 'config/stop': 0, 'experiment_tag': 'exp', 'time_total_s': 0.7275853157043457}\n",
      "[flaml.tune.tune: 01-31 05:11:10] {786} INFO - trial 2 config: {'model': 'code-cushman-001', 'temperature_or_top_p': {'top_p': 0.4985070123025904}, 'max_tokens': 167, 'n': 20, 'prompt': 0, 'stop': 0}\n",
      "[flaml.tune.tune: 01-31 05:12:03] {204} INFO - result: {'expected_success': 0.5474764935238146, 'success': 0.55, 'total_cost': 0.153384, 'cost': 0.063364, 'inference_cost': 0.0029842, 'training_iteration': 0, 'config': {'model': 'code-cushman-001', 'temperature_or_top_p': {'top_p': 0.4985070123025904}, 'max_tokens': 167, 'n': 20, 'prompt': 0, 'stop': 0}, 'config/model': 'code-cushman-001', 'config/temperature_or_top_p': {'top_p': 0.4985070123025904}, 'config/max_tokens': 167, 'config/n': 20, 'config/prompt': 0, 'config/stop': 0, 'experiment_tag': 'exp', 'time_total_s': 52.45032858848572}\n",
      "[flaml.tune.tune: 01-31 05:12:03] {786} INFO - trial 3 config: {'model': 'code-cushman-001', 'temperature_or_top_p': {'top_p': 0.6125260668293881}, 'max_tokens': 526, 'n': 29, 'prompt': 0, 'stop': 0}\n",
      "[flaml.tune.tune: 01-31 05:13:44] {204} INFO - result: {'expected_success': 0.5923540137307484, 'success': 0.6, 'total_cost': 0.257398, 'cost': 0.10401399999999998, 'inference_cost': 0.0050267, 'training_iteration': 0, 'config': {'model': 'code-cushman-001', 'temperature_or_top_p': {'top_p': 0.6125260668293881}, 'max_tokens': 526, 'n': 29, 'prompt': 0, 'stop': 0}, 'config/model': 'code-cushman-001', 'config/temperature_or_top_p': {'top_p': 0.6125260668293881}, 'config/max_tokens': 526, 'config/n': 29, 'config/prompt': 0, 'config/stop': 0, 'experiment_tag': 'exp', 'time_total_s': 100.82104420661926}\n",
      "[flaml.tune.tune: 01-31 05:13:44] {786} INFO - trial 4 config: {'model': 'code-cushman-001', 'max_tokens': 530, 'n': 19, 'prompt': 0, 'stop': 0, 'temperature_or_top_p': {'top_p': 0.47582687479194763}}\n",
      "[flaml.tune.tune: 01-31 05:15:02] {204} INFO - result: {'expected_success': 0.563641676651743, 'success': 0.6, 'total_cost': 0.336452, 'cost': 0.079054, 'inference_cost': 0.0037800000000000004, 'training_iteration': 0, 'config': {'model': 'code-cushman-001', 'max_tokens': 530, 'n': 19, 'prompt': 0, 'stop': 0, 'temperature_or_top_p': {'top_p': 0.47582687479194763}}, 'config/model': 'code-cushman-001', 'config/max_tokens': 530, 'config/n': 19, 'config/prompt': 0, 'config/stop': 0, 'config/temperature_or_top_p': {'top_p': 0.47582687479194763}, 'experiment_tag': 'exp', 'time_total_s': 78.0147819519043}\n",
      "[flaml.tune.tune: 01-31 05:15:02] {786} INFO - trial 5 config: {'model': 'code-davinci-002', 'temperature_or_top_p': {'temperature': 0.6177669784693172}, 'max_tokens': 325, 'n': 65, 'prompt': 3, 'stop': 0}\n",
      "[flaml.tune.tune: 01-31 05:15:35] {204} INFO - result: {'expected_success': 0, 'total_cost': 0.39793199999999995, 'cost': 0.06147999999999999, 'training_iteration': 0, 'config': {'model': 'code-davinci-002', 'temperature_or_top_p': {'temperature': 0.6177669784693172}, 'max_tokens': 325, 'n': 65, 'prompt': 3, 'stop': 0}, 'config/model': 'code-davinci-002', 'config/temperature_or_top_p': {'temperature': 0.6177669784693172}, 'config/max_tokens': 325, 'config/n': 65, 'config/prompt': 3, 'config/stop': 0, 'experiment_tag': 'exp', 'time_total_s': 33.06148052215576}\n",
      "[flaml.tune.tune: 01-31 05:15:35] {786} INFO - trial 6 config: {'model': 'code-cushman-001', 'temperature_or_top_p': {'temperature': 0.8286813263076767}, 'max_tokens': 111, 'n': 63, 'prompt': 3, 'stop': 0}\n",
      "[flaml.tune.tune: 01-31 05:17:29] {204} INFO - result: {'expected_success': 0.5786386219489825, 'success': 0.6, 'total_cost': 0.5901299999999999, 'cost': 0.19219799999999998, 'inference_cost': 0.009192200000000001, 'training_iteration': 0, 'config': {'model': 'code-cushman-001', 'temperature_or_top_p': {'temperature': 0.8286813263076767}, 'max_tokens': 111, 'n': 63, 'prompt': 3, 'stop': 0}, 'config/model': 'code-cushman-001', 'config/temperature_or_top_p': {'temperature': 0.8286813263076767}, 'config/max_tokens': 111, 'config/n': 63, 'config/prompt': 3, 'config/stop': 0, 'experiment_tag': 'exp', 'time_total_s': 114.14731812477112}\n",
      "[flaml.tune.tune: 01-31 05:17:29] {786} INFO - trial 7 config: {'model': 'code-davinci-002', 'temperature_or_top_p': {'top_p': 0.3255116378322488}, 'max_tokens': 146, 'n': 39, 'prompt': 1, 'stop': 0}\n",
      "[flaml.tune.tune: 01-31 05:17:55] {204} INFO - result: {'expected_success': 0, 'total_cost': 0.6563299999999999, 'cost': 0.06620000000000001, 'training_iteration': 0, 'config': {'model': 'code-davinci-002', 'temperature_or_top_p': {'top_p': 0.3255116378322488}, 'max_tokens': 146, 'n': 39, 'prompt': 1, 'stop': 0}, 'config/model': 'code-davinci-002', 'config/temperature_or_top_p': {'top_p': 0.3255116378322488}, 'config/max_tokens': 146, 'config/n': 39, 'config/prompt': 1, 'config/stop': 0, 'experiment_tag': 'exp', 'time_total_s': 26.52694082260132}\n",
      "[flaml.tune.tune: 01-31 05:17:55] {786} INFO - trial 8 config: {'model': 'code-davinci-002', 'temperature_or_top_p': {'top_p': 0.25137413420705934}, 'max_tokens': 395, 'n': 90, 'prompt': 1, 'stop': 0}\n",
      "[flaml.tune.tune: 01-31 05:17:55] {204} INFO - result: {'inference_cost': inf, 'expected_success': -inf, 'cost': 0, 'training_iteration': 0, 'config': {'model': 'code-davinci-002', 'temperature_or_top_p': {'top_p': 0.25137413420705934}, 'max_tokens': 395, 'n': 90, 'prompt': 1, 'stop': 0}, 'config/model': 'code-davinci-002', 'config/temperature_or_top_p': {'top_p': 0.25137413420705934}, 'config/max_tokens': 395, 'config/n': 90, 'config/prompt': 1, 'config/stop': 0, 'experiment_tag': 'exp', 'time_total_s': 0.0007882118225097656}\n",
      "[flaml.tune.tune: 01-31 05:17:55] {786} INFO - trial 9 config: {'model': 'code-davinci-002', 'temperature_or_top_p': {'top_p': 0.039959208689977266}, 'max_tokens': 268, 'n': 32, 'prompt': 3, 'stop': 0}\n",
      "[flaml.tune.tune: 01-31 05:18:19] {204} INFO - result: {'expected_success': 0, 'total_cost': 0.8027299999999998, 'cost': 0.1464, 'training_iteration': 0, 'config': {'model': 'code-davinci-002', 'temperature_or_top_p': {'top_p': 0.039959208689977266}, 'max_tokens': 268, 'n': 32, 'prompt': 3, 'stop': 0}, 'config/model': 'code-davinci-002', 'config/temperature_or_top_p': {'top_p': 0.039959208689977266}, 'config/max_tokens': 268, 'config/n': 32, 'config/prompt': 3, 'config/stop': 0, 'experiment_tag': 'exp', 'time_total_s': 23.199244499206543}\n",
      "[flaml.tune.tune: 01-31 05:18:19] {786} INFO - trial 10 config: {'model': 'code-davinci-002', 'temperature_or_top_p': {'top_p': 0.5134666274082884}, 'max_tokens': 395, 'n': 26, 'prompt': 2, 'stop': 0}\n",
      "[flaml.tune.tune: 01-31 05:18:57] {204} INFO - result: {'expected_success': 0, 'total_cost': 0.9142099999999999, 'cost': 0.11148, 'training_iteration': 0, 'config': {'model': 'code-davinci-002', 'temperature_or_top_p': {'top_p': 0.5134666274082884}, 'max_tokens': 395, 'n': 26, 'prompt': 2, 'stop': 0}, 'config/model': 'code-davinci-002', 'config/temperature_or_top_p': {'top_p': 0.5134666274082884}, 'config/max_tokens': 395, 'config/n': 26, 'config/prompt': 2, 'config/stop': 0, 'experiment_tag': 'exp', 'time_total_s': 38.22224974632263}\n",
      "[flaml.tune.tune: 01-31 05:18:57] {786} INFO - trial 11 config: {'model': 'code-davinci-002', 'temperature_or_top_p': {'temperature': 0.06425106069482445}, 'max_tokens': 952, 'n': 34, 'prompt': 1, 'stop': 0}\n",
      "[flaml.tune.tune: 01-31 05:18:57] {204} INFO - result: {'inference_cost': inf, 'expected_success': -inf, 'cost': 0, 'training_iteration': 0, 'config': {'model': 'code-davinci-002', 'temperature_or_top_p': {'temperature': 0.06425106069482445}, 'max_tokens': 952, 'n': 34, 'prompt': 1, 'stop': 0}, 'config/model': 'code-davinci-002', 'config/temperature_or_top_p': {'temperature': 0.06425106069482445}, 'config/max_tokens': 952, 'config/n': 34, 'config/prompt': 1, 'config/stop': 0, 'experiment_tag': 'exp', 'time_total_s': 0.0009565353393554688}\n",
      "[flaml.tune.tune: 01-31 05:18:57] {786} INFO - trial 12 config: {'model': 'code-davinci-002', 'temperature_or_top_p': {'temperature': 0.46453080777933253}, 'max_tokens': 604, 'n': 72, 'prompt': 0, 'stop': 0}\n",
      "[flaml.tune.tune: 01-31 05:19:28] {204} INFO - result: {'expected_success': 0, 'total_cost': 0.9701499999999998, 'cost': 0.055940000000000004, 'training_iteration': 0, 'config': {'model': 'code-davinci-002', 'temperature_or_top_p': {'temperature': 0.46453080777933253}, 'max_tokens': 604, 'n': 72, 'prompt': 0, 'stop': 0}, 'config/model': 'code-davinci-002', 'config/temperature_or_top_p': {'temperature': 0.46453080777933253}, 'config/max_tokens': 604, 'config/n': 72, 'config/prompt': 0, 'config/stop': 0, 'experiment_tag': 'exp', 'time_total_s': 30.932607412338257}\n",
      "[flaml.tune.tune: 01-31 05:19:28] {786} INFO - trial 13 config: {'model': 'code-davinci-002', 'temperature_or_top_p': {'temperature': 0.05047767015399762}, 'max_tokens': 217, 'n': 11, 'prompt': 1, 'stop': 0}\n",
      "[flaml.tune.tune: 01-31 05:20:57] {204} INFO - result: {'expected_success': 0.5445005650238918, 'success': 0.55, 'total_cost': 1.2707499999999996, 'cost': 0.3006, 'inference_cost': 0.013977999999999999, 'training_iteration': 0, 'config': {'model': 'code-davinci-002', 'temperature_or_top_p': {'temperature': 0.05047767015399762}, 'max_tokens': 217, 'n': 11, 'prompt': 1, 'stop': 0}, 'config/model': 'code-davinci-002', 'config/temperature_or_top_p': {'temperature': 0.05047767015399762}, 'config/max_tokens': 217, 'config/n': 11, 'config/prompt': 1, 'config/stop': 0, 'experiment_tag': 'exp', 'time_total_s': 88.96157670021057}\n",
      "[flaml.tune.tune: 01-31 05:20:57] {786} INFO - trial 14 config: {'model': 'code-cushman-001', 'temperature_or_top_p': {'top_p': 0.9770922524005169}, 'max_tokens': 954, 'n': 2, 'prompt': 0, 'stop': 0}\n",
      "[flaml.tune.tune: 01-31 05:21:30] {204} INFO - result: {'expected_success': 0.2, 'success': 0.25, 'total_cost': 1.284298, 'cost': 0.013548000000000001, 'inference_cost': 0.0006567999999999999, 'training_iteration': 0, 'config': {'model': 'code-cushman-001', 'temperature_or_top_p': {'top_p': 0.9770922524005169}, 'max_tokens': 954, 'n': 2, 'prompt': 0, 'stop': 0}, 'config/model': 'code-cushman-001', 'config/temperature_or_top_p': {'top_p': 0.9770922524005169}, 'config/max_tokens': 954, 'config/n': 2, 'config/prompt': 0, 'config/stop': 0, 'experiment_tag': 'exp', 'time_total_s': 32.96692943572998}\n",
      "[flaml.tune.tune: 01-31 05:21:30] {786} INFO - trial 15 config: {'model': 'code-cushman-001', 'temperature_or_top_p': {'temperature': 0.9948498168822479}, 'max_tokens': 102, 'n': 56, 'prompt': 0, 'stop': 0}\n",
      "[flaml.tune.tune: 01-31 05:23:25] {204} INFO - result: {'expected_success': 0.5248941706590128, 'success': 0.55, 'total_cost': 1.4453799999999999, 'cost': 0.16108199999999998, 'inference_cost': 0.0078542, 'training_iteration': 0, 'config': {'model': 'code-cushman-001', 'temperature_or_top_p': {'temperature': 0.9948498168822479}, 'max_tokens': 102, 'n': 56, 'prompt': 0, 'stop': 0}, 'config/model': 'code-cushman-001', 'config/temperature_or_top_p': {'temperature': 0.9948498168822479}, 'config/max_tokens': 102, 'config/n': 56, 'config/prompt': 0, 'config/stop': 0, 'experiment_tag': 'exp', 'time_total_s': 115.53481578826904}\n",
      "[flaml.tune.tune: 01-31 05:23:25] {786} INFO - trial 16 config: {'model': 'code-cushman-001', 'temperature_or_top_p': {'temperature': 0.975006129929274}, 'max_tokens': 685, 'n': 74, 'prompt': 3, 'stop': 0}\n",
      "[flaml.tune.tune: 01-31 05:24:33] {204} INFO - result: {'expected_success': 0, 'total_cost': 1.663592, 'cost': 0.21821200000000002, 'training_iteration': 0, 'config': {'model': 'code-cushman-001', 'temperature_or_top_p': {'temperature': 0.975006129929274}, 'max_tokens': 685, 'n': 74, 'prompt': 3, 'stop': 0}, 'config/model': 'code-cushman-001', 'config/temperature_or_top_p': {'temperature': 0.975006129929274}, 'config/max_tokens': 685, 'config/n': 74, 'config/prompt': 3, 'config/stop': 0, 'experiment_tag': 'exp', 'time_total_s': 67.37827801704407}\n",
      "[flaml.tune.tune: 01-31 05:24:33] {786} INFO - trial 17 config: {'model': 'code-cushman-001', 'temperature_or_top_p': {'top_p': 0.7442551278612941}, 'max_tokens': 558, 'n': 98, 'prompt': 2, 'stop': 0}\n",
      "[flaml.tune.tune: 01-31 05:25:11] {204} INFO - result: {'expected_success': 0, 'total_cost': 1.7675619999999999, 'cost': 0.10397, 'training_iteration': 0, 'config': {'model': 'code-cushman-001', 'temperature_or_top_p': {'top_p': 0.7442551278612941}, 'max_tokens': 558, 'n': 98, 'prompt': 2, 'stop': 0}, 'config/model': 'code-cushman-001', 'config/temperature_or_top_p': {'top_p': 0.7442551278612941}, 'config/max_tokens': 558, 'config/n': 98, 'config/prompt': 2, 'config/stop': 0, 'experiment_tag': 'exp', 'time_total_s': 38.8056058883667}\n",
      "[flaml.tune.tune: 01-31 05:25:11] {786} INFO - trial 18 config: {'model': 'code-cushman-001', 'temperature_or_top_p': {'temperature': 0.6916930765025802}, 'max_tokens': 101, 'n': 50, 'prompt': 0, 'stop': 0}\n",
      "[flaml.tune.tune: 01-31 05:26:23] {204} INFO - result: {'expected_success': 0.6741261489531748, 'success': 0.75, 'total_cost': 1.8943160000000003, 'cost': 0.126754, 'inference_cost': 0.0063377, 'training_iteration': 0, 'config': {'model': 'code-cushman-001', 'temperature_or_top_p': {'temperature': 0.6916930765025802}, 'max_tokens': 101, 'n': 50, 'prompt': 0, 'stop': 0}, 'config/model': 'code-cushman-001', 'config/temperature_or_top_p': {'temperature': 0.6916930765025802}, 'config/max_tokens': 101, 'config/n': 50, 'config/prompt': 0, 'config/stop': 0, 'experiment_tag': 'exp', 'time_total_s': 71.48271369934082}\n",
      "[flaml.tune.tune: 01-31 05:26:23] {786} INFO - trial 19 config: {'model': 'code-cushman-001', 'temperature_or_top_p': {'top_p': 0.7049797032904539}, 'max_tokens': 161, 'n': 46, 'prompt': 0, 'stop': 0}\n",
      "[flaml.tune.tune: 01-31 05:26:55] {204} INFO - result: {'expected_success': 0, 'total_cost': 2.005386, 'cost': 0.11107, 'training_iteration': 0, 'config': {'model': 'code-cushman-001', 'temperature_or_top_p': {'top_p': 0.7049797032904539}, 'max_tokens': 161, 'n': 46, 'prompt': 0, 'stop': 0}, 'config/model': 'code-cushman-001', 'config/temperature_or_top_p': {'top_p': 0.7049797032904539}, 'config/max_tokens': 161, 'config/n': 46, 'config/prompt': 0, 'config/stop': 0, 'experiment_tag': 'exp', 'time_total_s': 31.755625009536743}\n",
      "[flaml.tune.tune: 01-31 05:26:55] {807} WARNING - fail to sample a trial for 100 times in a row, stopping.\n"
     ]
    }
   ],
   "source": [
    "config, analysis = oai.Completion.tune(\n",
    "    data=tune_data,  # the data for tuning\n",
    "    metric=\"expected_success\",  # the metric to optimize\n",
    "    mode=\"max\",  # the optimization mode\n",
    "    eval_func=success_metrics,  # the evaluation function to return the success metrics\n",
    "    # log_file_name=\"logs/humaneval.log\",  # the log file name\n",
    "    inference_budget=0.02,  # the inference budget (dollar)\n",
    "    optimization_budget=2,  # the optimization budget (dollar)\n",
    "    # num_samples can further limit the number of trials for different hyperparameter configurations;\n",
    "    # -1 means decided by the optimization budget only\n",
    "    num_samples=-1,\n",
    "    model=tune.choice(\n",
    "        [\n",
    "            # These two models are currently free to use,\n",
    "            # so no actual cost will incur.\n",
    "            # We use a pseudo price according to their size to simulate the case\n",
    "            # where the cost is not zero.\n",
    "            \"code-cushman-001\", \n",
    "            \"code-davinci-002\",\n",
    "        ]\n",
    "    ),\n",
    "    prompt=[\n",
    "        \"{prompt}\",\n",
    "        \"# Python 3{prompt}\",\n",
    "        \"Complete the following Python function:{prompt}\",\n",
    "        \"Complete the following Python function while including necessary import statements inside the function:{prompt}\",\n",
    "    ],  # the prompt templates to choose from\n",
    "    stop=[\"\\nclass\", \"\\ndef\", \"\\nif\", \"\\nprint\"],  # the stop sequence\n",
    ")\n"
   ]
  },
  {
   "attachments": {},
   "cell_type": "markdown",
   "metadata": {},
   "source": [
    "### Output tuning results\n",
    "\n",
    "After the tuning, we can print out the config and the result found by FLAML:"
   ]
  },
  {
   "cell_type": "code",
   "execution_count": 28,
   "metadata": {},
   "outputs": [
    {
     "name": "stdout",
     "output_type": "stream",
     "text": [
      "optimized config {'model': 'code-cushman-001', 'max_tokens': 101, 'n': 50, 'prompt': '{prompt}', 'stop': ['\\nclass', '\\ndef', '\\nif', '\\nprint'], 'temperature': 0.6916930765025802}\n",
      "best result on tuning data {'expected_success': 0.6741261489531748, 'success': 0.75, 'total_cost': 1.8943160000000003, 'cost': 0.126754, 'inference_cost': 0.0063377, 'training_iteration': 0, 'config': {'model': 'code-cushman-001', 'temperature_or_top_p': {'temperature': 0.6916930765025802}, 'max_tokens': 101, 'n': 50, 'prompt': 0, 'stop': 0}, 'config/model': 'code-cushman-001', 'config/temperature_or_top_p': {'temperature': 0.6916930765025802}, 'config/max_tokens': 101, 'config/n': 50, 'config/prompt': 0, 'config/stop': 0, 'experiment_tag': 'exp', 'time_total_s': 71.48271369934082}\n"
     ]
    }
   ],
   "source": [
    "print(\"optimized config\", config)\n",
    "print(\"best result on tuning data\", analysis.best_result)"
   ]
  },
  {
   "attachments": {},
   "cell_type": "markdown",
   "metadata": {
    "slideshow": {
     "slide_type": "slide"
    }
   },
   "source": [
    "### Make a request with the tuned config\n",
    "\n",
    "We can apply the tuned config on the request for an example task:"
   ]
  },
  {
   "cell_type": "code",
   "execution_count": 29,
   "metadata": {
    "slideshow": {
     "slide_type": "subslide"
    },
    "tags": []
   },
   "outputs": [
    {
     "name": "stdout",
     "output_type": "stream",
     "text": [
      "{\n",
      "  \"choices\": [\n",
      "    {\n",
      "      \"finish_reason\": \"stop\",\n",
      "      \"index\": 0,\n",
      "      \"logprobs\": null,\n",
      "      \"text\": \"    return [abs(g-s) for g,s in zip(guess,game)]\"\n",
      "    },\n",
      "    {\n",
      "      \"finish_reason\": \"stop\",\n",
      "      \"index\": 1,\n",
      "      \"logprobs\": null,\n",
      "      \"text\": \"    return [0 if game[i] == guess[i] else abs(guess[i]-game[i]) for i in range(len(guess))]\\n\"\n",
      "    },\n",
      "    {\n",
      "      \"finish_reason\": \"stop\",\n",
      "      \"index\": 2,\n",
      "      \"logprobs\": null,\n",
      "      \"text\": \"    return [abs(x-y) for x,y in zip(game,guess)]\"\n",
      "    },\n",
      "    {\n",
      "      \"finish_reason\": \"length\",\n",
      "      \"index\": 3,\n",
      "      \"logprobs\": null,\n",
      "      \"text\": \"    if len(game) != len(guess):\\n        return \\\"Please enter equal array lengths\\\"\\n    for i in range(len(game)):\\n        if game[i] == guess[i]:\\n            guess[i] = 0\\n        else:\\n            guess[i] = abs(guess[i] - game[i])\\n    return guess\\n\\ngame = [1,2,3,4,5,1]\\ngu\"\n",
      "    },\n",
      "    {\n",
      "      \"finish_reason\": \"stop\",\n",
      "      \"index\": 4,\n",
      "      \"logprobs\": null,\n",
      "      \"text\": \"    \\n    \\n    return [abs(x-y) for x,y in zip(game,guess)]\"\n",
      "    },\n",
      "    {\n",
      "      \"finish_reason\": \"stop\",\n",
      "      \"index\": 5,\n",
      "      \"logprobs\": null,\n",
      "      \"text\": \"    return [i-j for i,j in zip(guess,game)]\"\n",
      "    },\n",
      "    {\n",
      "      \"finish_reason\": \"stop\",\n",
      "      \"index\": 6,\n",
      "      \"logprobs\": null,\n",
      "      \"text\": \"    return [x if x == y else abs(x-y) for x, y in zip(game, guess)]\"\n",
      "    },\n",
      "    {\n",
      "      \"finish_reason\": \"stop\",\n",
      "      \"index\": 7,\n",
      "      \"logprobs\": null,\n",
      "      \"text\": \"\\n    def dist(a,b):\\n        return abs(a-b)\\n\\n    return [dist(guess,game[idx]) for idx in range(len(game))]\\n\"\n",
      "    },\n",
      "    {\n",
      "      \"finish_reason\": \"stop\",\n",
      "      \"index\": 8,\n",
      "      \"logprobs\": null,\n",
      "      \"text\": \"    return [abs(guess-score) for guess,score in zip(guess,game)]\\n\"\n",
      "    },\n",
      "    {\n",
      "      \"finish_reason\": \"stop\",\n",
      "      \"index\": 9,\n",
      "      \"logprobs\": null,\n",
      "      \"text\": \"    return [abs(guess[i] - game[i]) for i in range(len(guess))]\"\n",
      "    },\n",
      "    {\n",
      "      \"finish_reason\": \"stop\",\n",
      "      \"index\": 10,\n",
      "      \"logprobs\": null,\n",
      "      \"text\": \"    return [abs(game[i] - guess[i]) for i in range(len(game))]\"\n",
      "    },\n",
      "    {\n",
      "      \"finish_reason\": \"stop\",\n",
      "      \"index\": 11,\n",
      "      \"logprobs\": null,\n",
      "      \"text\": \"    #your code here\\n    return [abs(game[i] - guess[i]) for i in range(len(game))]\"\n",
      "    },\n",
      "    {\n",
      "      \"finish_reason\": \"length\",\n",
      "      \"index\": 12,\n",
      "      \"logprobs\": null,\n",
      "      \"text\": \"    return [ (guess[i] - game[i]) for i in range(len(game))]\\n\\nassert compare([1,2,3,4,5,1],[1,2,3,4,2,-2]) == [0,0,0,0,3,3]\\nassert compare([0,5,0,0,0,4],[4,1,1,0,0,-2]) == [4,4\"\n",
      "    },\n",
      "    {\n",
      "      \"finish_reason\": \"stop\",\n",
      "      \"index\": 13,\n",
      "      \"logprobs\": null,\n",
      "      \"text\": \"\\n\\n    return [abs(guess - game[i]) for i in range(len(game))]\\n\\n\\n\"\n",
      "    },\n",
      "    {\n",
      "      \"finish_reason\": \"stop\",\n",
      "      \"index\": 14,\n",
      "      \"logprobs\": null,\n",
      "      \"text\": \"    return [abs(a-b) for a,b in zip(game,guess)]\\n\\n#tests\"\n",
      "    },\n",
      "    {\n",
      "      \"finish_reason\": \"stop\",\n",
      "      \"index\": 15,\n",
      "      \"logprobs\": null,\n",
      "      \"text\": \"    pass\\n    \"\n",
      "    },\n",
      "    {\n",
      "      \"finish_reason\": \"stop\",\n",
      "      \"index\": 16,\n",
      "      \"logprobs\": null,\n",
      "      \"text\": \"    res=[]\\n    for i in range(len(guess)):\\n        if guess[i]==game[i]:\\n            res.append(0)\\n        else:\\n            res.append(abs(guess[i]-game[i]))\\n    return res\\n\\n\"\n",
      "    },\n",
      "    {\n",
      "      \"finish_reason\": \"length\",\n",
      "      \"index\": 17,\n",
      "      \"logprobs\": null,\n",
      "      \"text\": \"    return [abs(game[i]-guess[i]) for i in range(len(game))]\\n    \\n\\n# testcases\\nscore = [1,2,3,4,5,1]\\nguess = [1,2,3,4,2,-2]\\nassert compare(score,guess) == [0,0,0,0,3,3]\\n\\nscore = [0,5,0,0,\"\n",
      "    },\n",
      "    {\n",
      "      \"finish_reason\": \"stop\",\n",
      "      \"index\": 18,\n",
      "      \"logprobs\": null,\n",
      "      \"text\": \"    return [abs(guess[i]-game[i]) for i in range(len(game))]\"\n",
      "    },\n",
      "    {\n",
      "      \"finish_reason\": \"stop\",\n",
      "      \"index\": 19,\n",
      "      \"logprobs\": null,\n",
      "      \"text\": \"    return [int(abs(score-guess)) for score,guess in zip(game,guess)]\\n\\n# ==========================================================================================================\\n#                                                                            2D\\n# ==========================================================================================================\\n\\n\"\n",
      "    },\n",
      "    {\n",
      "      \"finish_reason\": \"stop\",\n",
      "      \"index\": 20,\n",
      "      \"logprobs\": null,\n",
      "      \"text\": \"    return [abs(guess[i]-game[i]) for i in range(0, len(guess))]\"\n",
      "    },\n",
      "    {\n",
      "      \"finish_reason\": \"stop\",\n",
      "      \"index\": 21,\n",
      "      \"logprobs\": null,\n",
      "      \"text\": \"    if not guess or not game or len(guess) != len(game):\\n        return []\\n    return [abs(a - b) for a, b in zip(game, guess)]\\n\"\n",
      "    },\n",
      "    {\n",
      "      \"finish_reason\": \"stop\",\n",
      "      \"index\": 22,\n",
      "      \"logprobs\": null,\n",
      "      \"text\": \"    return [abs(a-b) for a,b in zip(game,guess)]\\n\\n#print(compare([1,2,3,4,5,1],[1,2,3,4,2,-2]))\\n#print(compare([0,5,0,0,0,4],[4,1,1,0,0,-2]))\\n\\n# 10\\n# 10.1\"\n",
      "    },\n",
      "    {\n",
      "      \"finish_reason\": \"stop\",\n",
      "      \"index\": 23,\n",
      "      \"logprobs\": null,\n",
      "      \"text\": \"    results = []\\n    for x in range(len(guess)):\\n        if guess[x] == game[x]:\\n            results.append(0)\\n        else:\\n            results.append(abs(guess[x] - game[x]))\\n    return results\"\n",
      "    },\n",
      "    {\n",
      "      \"finish_reason\": \"stop\",\n",
      "      \"index\": 24,\n",
      "      \"logprobs\": null,\n",
      "      \"text\": \"    if len(game) != len(guess):\\n        return \\\"error\\\"\\n    else:\\n        result = []\\n        for i in range(len(game)):\\n            if game[i] == guess[i]:\\n                result.append(0)\\n            else:\\n                result.append(abs(guess[i]-game[i]))\\n    return result\\n\\n#COUNT PRIMES\"\n",
      "    },\n",
      "    {\n",
      "      \"finish_reason\": \"stop\",\n",
      "      \"index\": 25,\n",
      "      \"logprobs\": null,\n",
      "      \"text\": \"    return [abs(guess[i]-game[i]) for i in range(len(guess))]\\n\\n\"\n",
      "    },\n",
      "    {\n",
      "      \"finish_reason\": \"stop\",\n",
      "      \"index\": 26,\n",
      "      \"logprobs\": null,\n",
      "      \"text\": \"    return [abs(guess[i] - game[i]) for i in range(len(guess))]\"\n",
      "    },\n",
      "    {\n",
      "      \"finish_reason\": \"stop\",\n",
      "      \"index\": 27,\n",
      "      \"logprobs\": null,\n",
      "      \"text\": \"    \\n    answer=[]\\n    for i in range(len(game)):\\n        if game[i]==guess[i]:\\n            answer.append(0)\\n        else:\\n            answer.append(abs(game[i]-guess[i]))\\n    return answer\"\n",
      "    },\n",
      "    {\n",
      "      \"finish_reason\": \"stop\",\n",
      "      \"index\": 28,\n",
      "      \"logprobs\": null,\n",
      "      \"text\": \"    \\n    return [abs(guess - game[i]) for i in range(len(game))]\"\n",
      "    },\n",
      "    {\n",
      "      \"finish_reason\": \"stop\",\n",
      "      \"index\": 29,\n",
      "      \"logprobs\": null,\n",
      "      \"text\": \"    # list comprehension\\n    # return [abs(guess[i] - game[i]) for i in range(len(guess))]\\n    \\n    # map\\n    return list(map(lambda x: abs(x[0] - x[1]), zip(guess,game)))\"\n",
      "    },\n",
      "    {\n",
      "      \"finish_reason\": \"stop\",\n",
      "      \"index\": 30,\n",
      "      \"logprobs\": null,\n",
      "      \"text\": \"    \\n    differences = []\\n    for i in range(len(game)):\\n        differences.append(guess[i] - game[i])\\n    return differences\\n\"\n",
      "    },\n",
      "    {\n",
      "      \"finish_reason\": \"stop\",\n",
      "      \"index\": 31,\n",
      "      \"logprobs\": null,\n",
      "      \"text\": \"    return [abs(guess[i] - game[i]) for i in range(len(guess))]\"\n",
      "    },\n",
      "    {\n",
      "      \"finish_reason\": \"length\",\n",
      "      \"index\": 32,\n",
      "      \"logprobs\": null,\n",
      "      \"text\": \"    return [abs(game[i]-guess[i]) for i in range(len(game))]\\n\\n# <QUESTION 2>\\n\\n# Define a function which has three parameters:\\n#\\n# - total (type float) which represents the budget total available\\n# - spent (type float) which represents the total amount already spent\\n# - save (type float) which represents the amount saved to date\\n# \\n# The function should return a\"\n",
      "    },\n",
      "    {\n",
      "      \"finish_reason\": \"stop\",\n",
      "      \"index\": 33,\n",
      "      \"logprobs\": null,\n",
      "      \"text\": \"    return [abs(guess[i]-game[i]) for i in range(len(guess))]\\n\\n\\n\"\n",
      "    },\n",
      "    {\n",
      "      \"finish_reason\": \"length\",\n",
      "      \"index\": 34,\n",
      "      \"logprobs\": null,\n",
      "      \"text\": \"    return [abs(guess[i]-game[i]) for i in range(len(game))]\\n    \\n    \\n    \\n    \\n    \\n    \\n    \\n    \\n    \\n    \\n    \\n    \\n    \\n    \\n    \\n    \\n    \\n    \\n    \\n    \\n    \\n    \\n    \\n    \\n    \\n    \\n    \\n    \\n    \\n    \\n    \\n    \\n    \\n    \\n    \\n    \\n    \\n    \"\n",
      "    },\n",
      "    {\n",
      "      \"finish_reason\": \"stop\",\n",
      "      \"index\": 35,\n",
      "      \"logprobs\": null,\n",
      "      \"text\": \"    return [abs(a-b) for a,b in zip(game,guess)]\\n\\n#####################################################################\\n\"\n",
      "    },\n",
      "    {\n",
      "      \"finish_reason\": \"stop\",\n",
      "      \"index\": 36,\n",
      "      \"logprobs\": null,\n",
      "      \"text\": \"    \\n    return [abs(game[x] - guess[x]) for x in range(len(game))]\\n    \"\n",
      "    },\n",
      "    {\n",
      "      \"finish_reason\": \"length\",\n",
      "      \"index\": 37,\n",
      "      \"logprobs\": null,\n",
      "      \"text\": \"    \\n    #filter out non-integers\\n    guess = [int(x) for x in guess]\\n    score = [int(x) for x in game]\\n    final = []\\n    if (len(guess) != len(score)):\\n        return []\\n    \\n    for x in range(len(guess)):\\n        num = abs(score[x]-guess[x])\\n        final.append(num)\"\n",
      "    },\n",
      "    {\n",
      "      \"finish_reason\": \"stop\",\n",
      "      \"index\": 38,\n",
      "      \"logprobs\": null,\n",
      "      \"text\": \"    return [abs(guess[i]-game[i]) for i in range(len(guess))]\\n    \\n    \\n    \\n    \\n    \\n    \\n    \"\n",
      "    },\n",
      "    {\n",
      "      \"finish_reason\": \"length\",\n",
      "      \"index\": 39,\n",
      "      \"logprobs\": null,\n",
      "      \"text\": \"    for i in range(len(guess)):\\n        if guess[i] == game[i]:\\n            guess[i] = 0\\n        else:\\n            guess[i] = abs(guess[i]-game[i])\\n    return guess\\n\\n#print(compare([1,2,3,4,5,1],[1,2,3,4,2,3]))\\n\\n# [0,0,0\"\n",
      "    },\n",
      "    {\n",
      "      \"finish_reason\": \"stop\",\n",
      "      \"index\": 40,\n",
      "      \"logprobs\": null,\n",
      "      \"text\": \"    return [abs(guess[i] - game[i]) for i in range(len(game))]\"\n",
      "    },\n",
      "    {\n",
      "      \"finish_reason\": \"stop\",\n",
      "      \"index\": 41,\n",
      "      \"logprobs\": null,\n",
      "      \"text\": \"    return [abs(game[i]-guess[i]) for i in range(len(game))]\\n    #return [abs(guess[i]-game[i]) for i in range(len(guess))]\\n    \\n    \\n\\n#TEST. DO NOT TOUCH WHAT IS WRITTEN BELOW THIS LINE\\n\\n#test for compare\"\n",
      "    },\n",
      "    {\n",
      "      \"finish_reason\": \"stop\",\n",
      "      \"index\": 42,\n",
      "      \"logprobs\": null,\n",
      "      \"text\": \"    return [abs(a-b) for a,b in zip(game,guess)]\\n\"\n",
      "    },\n",
      "    {\n",
      "      \"finish_reason\": \"stop\",\n",
      "      \"index\": 43,\n",
      "      \"logprobs\": null,\n",
      "      \"text\": \"    return [abs(guess[i]-game[i]) for i in range(len(guess))]\\n\\n#make a function that will find the next consecutive number, if one exists\\n\"\n",
      "    },\n",
      "    {\n",
      "      \"finish_reason\": \"stop\",\n",
      "      \"index\": 44,\n",
      "      \"logprobs\": null,\n",
      "      \"text\": \"    return [abs(game[i]-guess[i]) for i in range(len(game))]\\n\\n\"\n",
      "    },\n",
      "    {\n",
      "      \"finish_reason\": \"stop\",\n",
      "      \"index\": 45,\n",
      "      \"logprobs\": null,\n",
      "      \"text\": \"    \\n    \\n    def check(g, c):\\n        if g == c:\\n            return 0\\n        return abs(g-c)\\n    return [check(guess[i], game[i]) for i in range(len(guess))]\\n    \\n\"\n",
      "    },\n",
      "    {\n",
      "      \"finish_reason\": \"stop\",\n",
      "      \"index\": 46,\n",
      "      \"logprobs\": null,\n",
      "      \"text\": \"    return [abs(a-b) for a,b in zip(game,guess)]\\n\\n\"\n",
      "    },\n",
      "    {\n",
      "      \"finish_reason\": \"stop\",\n",
      "      \"index\": 47,\n",
      "      \"logprobs\": null,\n",
      "      \"text\": \"    \\n    score=len(game)\\n    result=[]\\n    \\n    for i in range(score):\\n        if game[i]==guess[i]:\\n            result.append(0)\\n        else:\\n            result.append(abs(game[i]-guess[i]))\\n            \\n    return result\\n\\n\\n# In[29]:\\n\\n\\n#Test Cases\"\n",
      "    },\n",
      "    {\n",
      "      \"finish_reason\": \"length\",\n",
      "      \"index\": 48,\n",
      "      \"logprobs\": null,\n",
      "      \"text\": \"    return [abs(a-b) for a,b in zip(guess,game)]\\n##\\n##class Test(unittest.TestCase):\\n##    def test(self):\\n##        self.assertEqual(compare([1,2,3,4,5,1],[1,2,3,4,2,-2]),[0,0,0,0,3,3])\\n##        self.assertEqual\"\n",
      "    },\n",
      "    {\n",
      "      \"finish_reason\": \"stop\",\n",
      "      \"index\": 49,\n",
      "      \"logprobs\": null,\n",
      "      \"text\": \"    diff = []\\n    for (score,guess) in zip(game,guess):\\n        if guess == score:\\n            diff.append(0)\\n        else:\\n            diff.append(abs(guess-score))\\n    return diff\"\n",
      "    }\n",
      "  ],\n",
      "  \"created\": 1675142712,\n",
      "  \"id\": \"cmpl-6edQmOdhMVGTLjr9VyCNjMJXPPGyF\",\n",
      "  \"model\": \"code-cushman-001\",\n",
      "  \"object\": \"text_completion\",\n",
      "  \"usage\": {\n",
      "    \"completion_tokens\": 2473,\n",
      "    \"prompt_tokens\": 239,\n",
      "    \"total_tokens\": 2712\n",
      "  }\n",
      "}\n",
      "{'expected_success': 1.0, 'success': True}\n"
     ]
    }
   ],
   "source": [
    "responses = oai.Completion.create(context=tune_data[1], **config)\n",
    "print(responses)\n",
    "print(success_metrics([response[\"text\"].rstrip() for response in responses[\"choices\"]], **tune_data[1]))\n"
   ]
  },
  {
   "attachments": {},
   "cell_type": "markdown",
   "metadata": {},
   "source": [
    "### Evaluate the success rate on the test data\n",
    "\n",
    "You can use flaml's `oai.Completion.eval` to evaluate the performance of an entire dataset with the tuned config. To do that you need to set `oai.Completion.data` to the data to evaluate. The following code will take a while to evaluate all the 144 test data instances. Compared to the baseline success rate (0.46) on the [HELM benchmark](https://crfm.stanford.edu/helm/latest/?group=code_humaneval), the tuned config has a success rate of 0.69. It can be further improved if the inference budget and optimization budget are further increased."
   ]
  },
  {
   "cell_type": "code",
   "execution_count": 30,
   "metadata": {},
   "outputs": [
    {
     "name": "stdout",
     "output_type": "stream",
     "text": [
      "{'expected_success': 0.6403351476785801, 'success': 0.6875, 'total_cost': 2.835363999999997, 'cost': 0.8299779999999999, 'inference_cost': 0.005763736111111111}\n"
     ]
    }
   ],
   "source": [
    "oai.Completion.data = test_data\n",
    "result = oai.Completion.eval(analysis.best_config, prune=False, eval_only=True)\n",
    "print(result)\n"
   ]
  }
 ],
 "metadata": {
  "kernelspec": {
   "display_name": "Python 3",
   "language": "python",
   "name": "python3"
  },
  "language_info": {
   "codemirror_mode": {
    "name": "ipython",
    "version": 3
   },
   "file_extension": ".py",
   "mimetype": "text/x-python",
   "name": "python",
   "nbconvert_exporter": "python",
   "pygments_lexer": "ipython3",
   "version": "3.9.15 (main, Oct 26 2022, 03:47:43) \n[GCC 10.2.1 20210110]"
  },
  "vscode": {
   "interpreter": {
    "hash": "949777d72b0d2535278d3dc13498b2535136f6dfe0678499012e853ee9abcab1"
   }
  }
 },
 "nbformat": 4,
 "nbformat_minor": 2
}
