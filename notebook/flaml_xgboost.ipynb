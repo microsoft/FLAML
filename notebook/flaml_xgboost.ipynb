{
 "cells": [
  {
   "cell_type": "markdown",
   "source": [
    "Copyright (c) 2020-2021 Microsoft Corporation. All rights reserved. \n",
    "\n",
    "Licensed under the MIT License.\n",
    "\n",
    "# Tune XGBoost with FLAML Library\n",
    "\n",
    "\n",
    "## 1. Introduction\n",
    "\n",
    "FLAML is a Python library (https://github.com/microsoft/FLAML) designed to automatically produce accurate machine learning models \n",
    "with low computational cost. It is fast and cheap. The simple and lightweight design makes it easy \n",
    "to use and extend, such as adding new learners. FLAML can \n",
    "- serve as an economical AutoML engine,\n",
    "- be used as a fast hyperparameter tuning tool, or \n",
    "- be embedded in self-tuning software that requires low latency & resource in repetitive\n",
    "   tuning tasks.\n",
    "\n",
    "In this notebook, we demonstrate how to use FLAML library to tune hyperparameters of XGBoost with a regression example.\n",
    "\n",
    "FLAML requires `Python>=3.6`. To run this notebook example, please install flaml with the `notebook` option:\n",
    "```bash\n",
    "pip install flaml[notebook]\n",
    "```"
   ],
   "metadata": {
    "slideshow": {
     "slide_type": "slide"
    }
   }
  },
  {
   "cell_type": "code",
   "execution_count": null,
   "source": [
    "!pip install flaml[notebook];"
   ],
   "outputs": [],
   "metadata": {}
  },
  {
   "cell_type": "markdown",
   "source": [
    "## 2. Regression Example\n",
    "### Load data and preprocess\n",
    "\n",
    "Download [houses dataset](https://www.openml.org/d/537) from OpenML. The task is to predict median price of the house in the region based on demographic composition and a state of housing market in the region."
   ],
   "metadata": {
    "slideshow": {
     "slide_type": "slide"
    }
   }
  },
  {
   "cell_type": "code",
   "execution_count": 1,
   "source": [
    "from flaml.data import load_openml_dataset\n",
    "X_train, X_test, y_train, y_test = load_openml_dataset(dataset_id=537, data_dir='./')"
   ],
   "outputs": [
    {
     "output_type": "stream",
     "name": "stdout",
     "text": [
      "load dataset from ./openml_ds537.pkl\n",
      "Dataset name: houses\n",
      "X_train.shape: (15480, 8), y_train.shape: (15480,);\n",
      "X_test.shape: (5160, 8), y_test.shape: (5160,)\n"
     ]
    }
   ],
   "metadata": {
    "slideshow": {
     "slide_type": "subslide"
    },
    "tags": []
   }
  },
  {
   "cell_type": "markdown",
   "source": [
    "### Run FLAML\n",
    "In the FLAML automl run configuration, users can specify the task type, time budget, error metric, learner list, whether to subsample, resampling strategy type, and so on. All these arguments have default values which will be used if users do not provide them. "
   ],
   "metadata": {
    "slideshow": {
     "slide_type": "slide"
    }
   }
  },
  {
   "cell_type": "code",
   "execution_count": 2,
   "source": [
    "''' import AutoML class from flaml package '''\n",
    "from flaml import AutoML\n",
    "automl = AutoML()"
   ],
   "outputs": [],
   "metadata": {
    "slideshow": {
     "slide_type": "slide"
    }
   }
  },
  {
   "cell_type": "code",
   "execution_count": 3,
   "source": [
    "settings = {\n",
    "    \"time_budget\": 60,  # total running time in seconds\n",
    "    \"metric\": 'r2',  # primary metrics for regression can be chosen from: ['mae','mse','r2']\n",
    "    \"estimator_list\": ['xgboost'],  # list of ML learners; we tune xgboost in this example\n",
    "    \"task\": 'regression',  # task type    \n",
    "    \"log_file_name\": 'houses_experiment.log',  # flaml log file\n",
    "}"
   ],
   "outputs": [],
   "metadata": {
    "slideshow": {
     "slide_type": "slide"
    }
   }
  },
  {
   "cell_type": "code",
   "execution_count": 4,
   "source": [
    "'''The main flaml automl API'''\n",
    "automl.fit(X_train=X_train, y_train=y_train, **settings)"
   ],
   "outputs": [
    {
     "output_type": "stream",
     "name": "stderr",
     "text": [
      "[flaml.automl: 08-22 21:23:40] {1130} INFO - Evaluation method: cv\n",
      "[flaml.automl: 08-22 21:23:40] {634} INFO - Using RepeatedKFold\n",
      "[flaml.automl: 08-22 21:23:40] {1155} INFO - Minimizing error metric: 1-r2\n",
      "[flaml.automl: 08-22 21:23:40] {1175} INFO - List of ML learners in AutoML Run: ['xgboost']\n",
      "[flaml.automl: 08-22 21:23:40] {1358} INFO - iteration 0, current learner xgboost\n",
      "[flaml.automl: 08-22 21:23:41] {1515} INFO -  at 0.4s,\tbest xgboost's error=2.1267,\tbest xgboost's error=2.1267\n",
      "[flaml.automl: 08-22 21:23:41] {1358} INFO - iteration 1, current learner xgboost\n",
      "[flaml.automl: 08-22 21:23:41] {1515} INFO -  at 0.6s,\tbest xgboost's error=2.1267,\tbest xgboost's error=2.1267\n",
      "[flaml.automl: 08-22 21:23:41] {1358} INFO - iteration 2, current learner xgboost\n",
      "[flaml.automl: 08-22 21:23:41] {1515} INFO -  at 0.7s,\tbest xgboost's error=0.8485,\tbest xgboost's error=0.8485\n",
      "[flaml.automl: 08-22 21:23:41] {1358} INFO - iteration 3, current learner xgboost\n",
      "[flaml.automl: 08-22 21:23:41] {1515} INFO -  at 0.9s,\tbest xgboost's error=0.3799,\tbest xgboost's error=0.3799\n",
      "[flaml.automl: 08-22 21:23:41] {1358} INFO - iteration 4, current learner xgboost\n",
      "[flaml.automl: 08-22 21:23:41] {1515} INFO -  at 1.0s,\tbest xgboost's error=0.3799,\tbest xgboost's error=0.3799\n",
      "[flaml.automl: 08-22 21:23:41] {1358} INFO - iteration 5, current learner xgboost\n",
      "[flaml.automl: 08-22 21:23:41] {1515} INFO -  at 1.2s,\tbest xgboost's error=0.3799,\tbest xgboost's error=0.3799\n",
      "[flaml.automl: 08-22 21:23:41] {1358} INFO - iteration 6, current learner xgboost\n",
      "[flaml.automl: 08-22 21:23:41] {1515} INFO -  at 1.4s,\tbest xgboost's error=0.2992,\tbest xgboost's error=0.2992\n",
      "[flaml.automl: 08-22 21:23:41] {1358} INFO - iteration 7, current learner xgboost\n",
      "[flaml.automl: 08-22 21:23:42] {1515} INFO -  at 1.6s,\tbest xgboost's error=0.2992,\tbest xgboost's error=0.2992\n",
      "[flaml.automl: 08-22 21:23:42] {1358} INFO - iteration 8, current learner xgboost\n",
      "[flaml.automl: 08-22 21:23:42] {1515} INFO -  at 1.8s,\tbest xgboost's error=0.2992,\tbest xgboost's error=0.2992\n",
      "[flaml.automl: 08-22 21:23:42] {1358} INFO - iteration 9, current learner xgboost\n",
      "[flaml.automl: 08-22 21:23:42] {1515} INFO -  at 2.0s,\tbest xgboost's error=0.2513,\tbest xgboost's error=0.2513\n",
      "[flaml.automl: 08-22 21:23:42] {1358} INFO - iteration 10, current learner xgboost\n",
      "[flaml.automl: 08-22 21:23:42] {1515} INFO -  at 2.2s,\tbest xgboost's error=0.2513,\tbest xgboost's error=0.2513\n",
      "[flaml.automl: 08-22 21:23:42] {1358} INFO - iteration 11, current learner xgboost\n",
      "[flaml.automl: 08-22 21:23:43] {1515} INFO -  at 2.4s,\tbest xgboost's error=0.2513,\tbest xgboost's error=0.2513\n",
      "[flaml.automl: 08-22 21:23:43] {1358} INFO - iteration 12, current learner xgboost\n",
      "[flaml.automl: 08-22 21:23:43] {1515} INFO -  at 2.6s,\tbest xgboost's error=0.2113,\tbest xgboost's error=0.2113\n",
      "[flaml.automl: 08-22 21:23:43] {1358} INFO - iteration 13, current learner xgboost\n",
      "[flaml.automl: 08-22 21:23:43] {1515} INFO -  at 2.8s,\tbest xgboost's error=0.2113,\tbest xgboost's error=0.2113\n",
      "[flaml.automl: 08-22 21:23:43] {1358} INFO - iteration 14, current learner xgboost\n",
      "[flaml.automl: 08-22 21:23:43] {1515} INFO -  at 3.2s,\tbest xgboost's error=0.2090,\tbest xgboost's error=0.2090\n",
      "[flaml.automl: 08-22 21:23:43] {1358} INFO - iteration 15, current learner xgboost\n",
      "[flaml.automl: 08-22 21:23:44] {1515} INFO -  at 3.6s,\tbest xgboost's error=0.2090,\tbest xgboost's error=0.2090\n",
      "[flaml.automl: 08-22 21:23:44] {1358} INFO - iteration 16, current learner xgboost\n",
      "[flaml.automl: 08-22 21:23:44] {1515} INFO -  at 4.1s,\tbest xgboost's error=0.1919,\tbest xgboost's error=0.1919\n",
      "[flaml.automl: 08-22 21:23:44] {1358} INFO - iteration 17, current learner xgboost\n",
      "[flaml.automl: 08-22 21:23:45] {1515} INFO -  at 4.4s,\tbest xgboost's error=0.1919,\tbest xgboost's error=0.1919\n",
      "[flaml.automl: 08-22 21:23:45] {1358} INFO - iteration 18, current learner xgboost\n",
      "[flaml.automl: 08-22 21:23:47] {1515} INFO -  at 6.9s,\tbest xgboost's error=0.1797,\tbest xgboost's error=0.1797\n",
      "[flaml.automl: 08-22 21:23:47] {1358} INFO - iteration 19, current learner xgboost\n",
      "[flaml.automl: 08-22 21:23:48] {1515} INFO -  at 7.9s,\tbest xgboost's error=0.1797,\tbest xgboost's error=0.1797\n",
      "[flaml.automl: 08-22 21:23:48] {1358} INFO - iteration 20, current learner xgboost\n",
      "[flaml.automl: 08-22 21:24:00] {1515} INFO -  at 20.2s,\tbest xgboost's error=0.1797,\tbest xgboost's error=0.1797\n",
      "[flaml.automl: 08-22 21:24:00] {1358} INFO - iteration 21, current learner xgboost\n",
      "[flaml.automl: 08-22 21:24:02] {1515} INFO -  at 21.9s,\tbest xgboost's error=0.1797,\tbest xgboost's error=0.1797\n",
      "[flaml.automl: 08-22 21:24:02] {1358} INFO - iteration 22, current learner xgboost\n",
      "[flaml.automl: 08-22 21:24:06] {1515} INFO -  at 25.8s,\tbest xgboost's error=0.1782,\tbest xgboost's error=0.1782\n",
      "[flaml.automl: 08-22 21:24:06] {1358} INFO - iteration 23, current learner xgboost\n",
      "[flaml.automl: 08-22 21:24:08] {1515} INFO -  at 28.3s,\tbest xgboost's error=0.1782,\tbest xgboost's error=0.1782\n",
      "[flaml.automl: 08-22 21:24:08] {1358} INFO - iteration 24, current learner xgboost\n",
      "[flaml.automl: 08-22 21:24:15] {1515} INFO -  at 34.7s,\tbest xgboost's error=0.1782,\tbest xgboost's error=0.1782\n",
      "[flaml.automl: 08-22 21:24:15] {1358} INFO - iteration 25, current learner xgboost\n",
      "[flaml.automl: 08-22 21:24:16] {1515} INFO -  at 35.5s,\tbest xgboost's error=0.1782,\tbest xgboost's error=0.1782\n",
      "[flaml.automl: 08-22 21:24:16] {1358} INFO - iteration 26, current learner xgboost\n",
      "[flaml.automl: 08-22 21:24:39] {1515} INFO -  at 58.5s,\tbest xgboost's error=0.1660,\tbest xgboost's error=0.1660\n",
      "[flaml.automl: 08-22 21:24:39] {1592} INFO - selected model: <xgboost.core.Booster object at 0x7f9bd5e340d0>\n",
      "[flaml.automl: 08-22 21:24:43] {1633} INFO - retrain xgboost for 4.4s\n",
      "[flaml.automl: 08-22 21:24:43] {1636} INFO - retrained model: <xgboost.core.Booster object at 0x7f9bd5e34820>\n",
      "[flaml.automl: 08-22 21:24:43] {1199} INFO - fit succeeded\n",
      "[flaml.automl: 08-22 21:24:43] {1200} INFO - Time taken to find the best model: 58.49340343475342\n",
      "[flaml.automl: 08-22 21:24:43] {1205} WARNING - Time taken to find the best model is 97% of the provided time budget and not all estimators' hyperparameter search converged. Consider increasing the time budget.\n"
     ]
    }
   ],
   "metadata": {
    "slideshow": {
     "slide_type": "slide"
    },
    "tags": []
   }
  },
  {
   "cell_type": "markdown",
   "source": [
    "### Best model and metric"
   ],
   "metadata": {
    "slideshow": {
     "slide_type": "slide"
    }
   }
  },
  {
   "cell_type": "code",
   "execution_count": 5,
   "source": [
    "''' retrieve best config'''\n",
    "print('Best hyperparmeter config:', automl.best_config)\n",
    "print('Best r2 on validation data: {0:.4g}'.format(1 - automl.best_loss))\n",
    "print('Training duration of best run: {0:.4g} s'.format(automl.best_config_train_time))"
   ],
   "outputs": [
    {
     "output_type": "stream",
     "name": "stdout",
     "text": [
      "Best hyperparmeter config: {'n_estimators': 776, 'max_leaves': 160, 'min_child_weight': 32.57408640781376, 'learning_rate': 0.03478685333241491, 'subsample': 0.9152991332236934, 'colsample_bylevel': 0.5656764254642628, 'colsample_bytree': 0.7313266091895249, 'reg_alpha': 0.005771390107656191, 'reg_lambda': 1.4912667278658753}\n",
      "Best r2 on validation data: 0.834\n",
      "Training duration of best run: 23 s\n"
     ]
    }
   ],
   "metadata": {
    "slideshow": {
     "slide_type": "slide"
    },
    "tags": []
   }
  },
  {
   "cell_type": "code",
   "execution_count": 6,
   "source": [
    "automl.model.estimator"
   ],
   "outputs": [
    {
     "output_type": "execute_result",
     "data": {
      "text/plain": [
       "<xgboost.core.Booster at 0x7f9bd5e34820>"
      ]
     },
     "metadata": {},
     "execution_count": 6
    }
   ],
   "metadata": {
    "slideshow": {
     "slide_type": "slide"
    }
   }
  },
  {
   "cell_type": "code",
   "execution_count": 7,
   "source": [
    "''' pickle and save the automl object '''\n",
    "import pickle\n",
    "with open('automl.pkl', 'wb') as f:\n",
    "    pickle.dump(automl, f, pickle.HIGHEST_PROTOCOL)"
   ],
   "outputs": [],
   "metadata": {
    "slideshow": {
     "slide_type": "slide"
    }
   }
  },
  {
   "cell_type": "code",
   "execution_count": 8,
   "source": [
    "''' compute predictions of testing dataset ''' \n",
    "y_pred = automl.predict(X_test)\n",
    "print('Predicted labels', y_pred)\n",
    "print('True labels', y_test)"
   ],
   "outputs": [
    {
     "output_type": "stream",
     "name": "stdout",
     "text": [
      "Predicted labels [137582.95 255519.23 139866.06 ... 185638.95 202493.78 269308.22]\n",
      "True labels 14740    136900.0\n",
      "10101    241300.0\n",
      "20566    200700.0\n",
      "2670      72500.0\n",
      "15709    460000.0\n",
      "           ...   \n",
      "13132    121200.0\n",
      "8228     137500.0\n",
      "3948     160900.0\n",
      "8522     227300.0\n",
      "16798    265600.0\n",
      "Name: median_house_value, Length: 5160, dtype: float64\n"
     ]
    }
   ],
   "metadata": {
    "slideshow": {
     "slide_type": "slide"
    },
    "tags": []
   }
  },
  {
   "cell_type": "code",
   "execution_count": 9,
   "source": [
    "''' compute different metric values on testing dataset'''\n",
    "from flaml.ml import sklearn_metric_loss_score\n",
    "print('r2', '=', 1 - sklearn_metric_loss_score('r2', y_pred, y_test))\n",
    "print('mse', '=', sklearn_metric_loss_score('mse', y_pred, y_test))\n",
    "print('mae', '=', sklearn_metric_loss_score('mae', y_pred, y_test))"
   ],
   "outputs": [
    {
     "output_type": "stream",
     "name": "stdout",
     "text": [
      "r2 = 0.8439648010832427\n",
      "mse = 2062552297.5716143\n",
      "mae = 30303.196008584666\n"
     ]
    }
   ],
   "metadata": {
    "slideshow": {
     "slide_type": "slide"
    },
    "tags": []
   }
  },
  {
   "cell_type": "code",
   "execution_count": 10,
   "source": [
    "from flaml.data import get_output_from_log\n",
    "time_history, best_valid_loss_history, valid_loss_history, config_history, train_loss_history = \\\n",
    "    get_output_from_log(filename=settings['log_file_name'], time_budget=60)\n",
    "\n",
    "for config in config_history:\n",
    "    print(config)"
   ],
   "outputs": [
    {
     "output_type": "stream",
     "name": "stdout",
     "text": [
      "{'Current Learner': 'xgboost', 'Current Sample': 15480, 'Current Hyper-parameters': {'n_estimators': 4, 'max_leaves': 4, 'min_child_weight': 0.9999999999999993, 'learning_rate': 0.09999999999999995, 'subsample': 1.0, 'colsample_bylevel': 1.0, 'colsample_bytree': 1.0, 'reg_alpha': 0.0009765625, 'reg_lambda': 1.0}, 'Best Learner': 'xgboost', 'Best Hyper-parameters': {'n_estimators': 4, 'max_leaves': 4, 'min_child_weight': 0.9999999999999993, 'learning_rate': 0.09999999999999995, 'subsample': 1.0, 'colsample_bylevel': 1.0, 'colsample_bytree': 1.0, 'reg_alpha': 0.0009765625, 'reg_lambda': 1.0}}\n",
      "{'Current Learner': 'xgboost', 'Current Sample': 15480, 'Current Hyper-parameters': {'n_estimators': 4, 'max_leaves': 4, 'min_child_weight': 0.26208115308159446, 'learning_rate': 0.25912534572860507, 'subsample': 0.9266743941610592, 'colsample_bylevel': 1.0, 'colsample_bytree': 1.0, 'reg_alpha': 0.0013933617380144255, 'reg_lambda': 0.18096917948292954}, 'Best Learner': 'xgboost', 'Best Hyper-parameters': {'n_estimators': 4, 'max_leaves': 4, 'min_child_weight': 0.26208115308159446, 'learning_rate': 0.25912534572860507, 'subsample': 0.9266743941610592, 'colsample_bylevel': 1.0, 'colsample_bytree': 1.0, 'reg_alpha': 0.0013933617380144255, 'reg_lambda': 0.18096917948292954}}\n",
      "{'Current Learner': 'xgboost', 'Current Sample': 15480, 'Current Hyper-parameters': {'n_estimators': 4, 'max_leaves': 4, 'min_child_weight': 1.8630223791106992, 'learning_rate': 1.0, 'subsample': 0.8513627344387318, 'colsample_bylevel': 1.0, 'colsample_bytree': 0.946138073111236, 'reg_alpha': 0.0018311776973217071, 'reg_lambda': 0.27901659190538414}, 'Best Learner': 'xgboost', 'Best Hyper-parameters': {'n_estimators': 4, 'max_leaves': 4, 'min_child_weight': 1.8630223791106992, 'learning_rate': 1.0, 'subsample': 0.8513627344387318, 'colsample_bylevel': 1.0, 'colsample_bytree': 0.946138073111236, 'reg_alpha': 0.0018311776973217071, 'reg_lambda': 0.27901659190538414}}\n",
      "{'Current Learner': 'xgboost', 'Current Sample': 15480, 'Current Hyper-parameters': {'n_estimators': 11, 'max_leaves': 4, 'min_child_weight': 5.909231502320296, 'learning_rate': 1.0, 'subsample': 0.8894434216129232, 'colsample_bylevel': 1.0, 'colsample_bytree': 1.0, 'reg_alpha': 0.0013605736901132325, 'reg_lambda': 0.1222158118565165}, 'Best Learner': 'xgboost', 'Best Hyper-parameters': {'n_estimators': 11, 'max_leaves': 4, 'min_child_weight': 5.909231502320296, 'learning_rate': 1.0, 'subsample': 0.8894434216129232, 'colsample_bylevel': 1.0, 'colsample_bytree': 1.0, 'reg_alpha': 0.0013605736901132325, 'reg_lambda': 0.1222158118565165}}\n",
      "{'Current Learner': 'xgboost', 'Current Sample': 15480, 'Current Hyper-parameters': {'n_estimators': 11, 'max_leaves': 11, 'min_child_weight': 8.517629386811171, 'learning_rate': 1.0, 'subsample': 0.9233328006239466, 'colsample_bylevel': 1.0, 'colsample_bytree': 0.9468117873770695, 'reg_alpha': 0.034996420228767956, 'reg_lambda': 0.6169079461473819}, 'Best Learner': 'xgboost', 'Best Hyper-parameters': {'n_estimators': 11, 'max_leaves': 11, 'min_child_weight': 8.517629386811171, 'learning_rate': 1.0, 'subsample': 0.9233328006239466, 'colsample_bylevel': 1.0, 'colsample_bytree': 0.9468117873770695, 'reg_alpha': 0.034996420228767956, 'reg_lambda': 0.6169079461473819}}\n",
      "{'Current Learner': 'xgboost', 'Current Sample': 15480, 'Current Hyper-parameters': {'n_estimators': 20, 'max_leaves': 15, 'min_child_weight': 43.62419686983011, 'learning_rate': 0.6413547778096401, 'subsample': 1.0, 'colsample_bylevel': 1.0, 'colsample_bytree': 0.8481188761562112, 'reg_alpha': 0.01241885232679939, 'reg_lambda': 0.21352682817916652}, 'Best Learner': 'xgboost', 'Best Hyper-parameters': {'n_estimators': 20, 'max_leaves': 15, 'min_child_weight': 43.62419686983011, 'learning_rate': 0.6413547778096401, 'subsample': 1.0, 'colsample_bylevel': 1.0, 'colsample_bytree': 0.8481188761562112, 'reg_alpha': 0.01241885232679939, 'reg_lambda': 0.21352682817916652}}\n",
      "{'Current Learner': 'xgboost', 'Current Sample': 15480, 'Current Hyper-parameters': {'n_estimators': 58, 'max_leaves': 8, 'min_child_weight': 51.84874392377363, 'learning_rate': 0.23511987355535005, 'subsample': 1.0, 'colsample_bylevel': 0.8182737361783602, 'colsample_bytree': 0.8031986460435498, 'reg_alpha': 0.00400039941928546, 'reg_lambda': 0.3870252968100477}, 'Best Learner': 'xgboost', 'Best Hyper-parameters': {'n_estimators': 58, 'max_leaves': 8, 'min_child_weight': 51.84874392377363, 'learning_rate': 0.23511987355535005, 'subsample': 1.0, 'colsample_bylevel': 0.8182737361783602, 'colsample_bytree': 0.8031986460435498, 'reg_alpha': 0.00400039941928546, 'reg_lambda': 0.3870252968100477}}\n",
      "{'Current Learner': 'xgboost', 'Current Sample': 15480, 'Current Hyper-parameters': {'n_estimators': 101, 'max_leaves': 14, 'min_child_weight': 7.444058088783045, 'learning_rate': 0.39220715578198356, 'subsample': 1.0, 'colsample_bylevel': 0.6274332478496758, 'colsample_bytree': 0.7190251742957809, 'reg_alpha': 0.007212902167942765, 'reg_lambda': 0.20172056689658158}, 'Best Learner': 'xgboost', 'Best Hyper-parameters': {'n_estimators': 101, 'max_leaves': 14, 'min_child_weight': 7.444058088783045, 'learning_rate': 0.39220715578198356, 'subsample': 1.0, 'colsample_bylevel': 0.6274332478496758, 'colsample_bytree': 0.7190251742957809, 'reg_alpha': 0.007212902167942765, 'reg_lambda': 0.20172056689658158}}\n",
      "{'Current Learner': 'xgboost', 'Current Sample': 15480, 'Current Hyper-parameters': {'n_estimators': 205, 'max_leaves': 30, 'min_child_weight': 5.450621032615104, 'learning_rate': 0.12229148765139466, 'subsample': 0.8895588746662894, 'colsample_bylevel': 0.47518959001130784, 'colsample_bytree': 0.6845612830806885, 'reg_alpha': 0.01126059820390593, 'reg_lambda': 0.08170816686602438}, 'Best Learner': 'xgboost', 'Best Hyper-parameters': {'n_estimators': 205, 'max_leaves': 30, 'min_child_weight': 5.450621032615104, 'learning_rate': 0.12229148765139466, 'subsample': 0.8895588746662894, 'colsample_bylevel': 0.47518959001130784, 'colsample_bytree': 0.6845612830806885, 'reg_alpha': 0.01126059820390593, 'reg_lambda': 0.08170816686602438}}\n",
      "{'Current Learner': 'xgboost', 'Current Sample': 15480, 'Current Hyper-parameters': {'n_estimators': 222, 'max_leaves': 62, 'min_child_weight': 7.5054716192185795, 'learning_rate': 0.04623175582706431, 'subsample': 0.8756054034199897, 'colsample_bylevel': 0.44768367042684304, 'colsample_bytree': 0.7352307811741962, 'reg_alpha': 0.0009765625, 'reg_lambda': 0.6207832675443758}, 'Best Learner': 'xgboost', 'Best Hyper-parameters': {'n_estimators': 222, 'max_leaves': 62, 'min_child_weight': 7.5054716192185795, 'learning_rate': 0.04623175582706431, 'subsample': 0.8756054034199897, 'colsample_bylevel': 0.44768367042684304, 'colsample_bytree': 0.7352307811741962, 'reg_alpha': 0.0009765625, 'reg_lambda': 0.6207832675443758}}\n",
      "{'Current Learner': 'xgboost', 'Current Sample': 15480, 'Current Hyper-parameters': {'n_estimators': 776, 'max_leaves': 160, 'min_child_weight': 32.57408640781376, 'learning_rate': 0.03478685333241491, 'subsample': 0.9152991332236934, 'colsample_bylevel': 0.5656764254642628, 'colsample_bytree': 0.7313266091895249, 'reg_alpha': 0.005771390107656191, 'reg_lambda': 1.4912667278658753}, 'Best Learner': 'xgboost', 'Best Hyper-parameters': {'n_estimators': 776, 'max_leaves': 160, 'min_child_weight': 32.57408640781376, 'learning_rate': 0.03478685333241491, 'subsample': 0.9152991332236934, 'colsample_bylevel': 0.5656764254642628, 'colsample_bytree': 0.7313266091895249, 'reg_alpha': 0.005771390107656191, 'reg_lambda': 1.4912667278658753}}\n"
     ]
    }
   ],
   "metadata": {
    "slideshow": {
     "slide_type": "subslide"
    },
    "tags": []
   }
  },
  {
   "cell_type": "code",
   "execution_count": 11,
   "source": [
    "import matplotlib.pyplot as plt\n",
    "import numpy as np\n",
    "\n",
    "plt.title('Learning Curve')\n",
    "plt.xlabel('Wall Clock Time (s)')\n",
    "plt.ylabel('Validation r2')\n",
    "plt.scatter(time_history, 1 - np.array(valid_loss_history))\n",
    "plt.step(time_history, 1 - np.array(best_valid_loss_history), where='post')\n",
    "plt.show()"
   ],
   "outputs": [
    {
     "output_type": "display_data",
     "data": {
      "text/plain": [
       "<Figure size 432x288 with 1 Axes>"
      ],
      "image/svg+xml": "<?xml version=\"1.0\" encoding=\"utf-8\" standalone=\"no\"?>\n<!DOCTYPE svg PUBLIC \"-//W3C//DTD SVG 1.1//EN\"\n  \"http://www.w3.org/Graphics/SVG/1.1/DTD/svg11.dtd\">\n<!-- Created with matplotlib (https://matplotlib.org/) -->\n<svg height=\"277.314375pt\" version=\"1.1\" viewBox=\"0 0 400.523437 277.314375\" width=\"400.523437pt\" xmlns=\"http://www.w3.org/2000/svg\" xmlns:xlink=\"http://www.w3.org/1999/xlink\">\n <defs>\n  <style type=\"text/css\">\n*{stroke-linecap:butt;stroke-linejoin:round;}\n  </style>\n </defs>\n <g id=\"figure_1\">\n  <g id=\"patch_1\">\n   <path d=\"M 0 277.314375 \nL 400.523437 277.314375 \nL 400.523437 0 \nL 0 0 \nz\n\" style=\"fill:none;\"/>\n  </g>\n  <g id=\"axes_1\">\n   <g id=\"patch_2\">\n    <path d=\"M 58.523438 239.758125 \nL 393.323438 239.758125 \nL 393.323438 22.318125 \nL 58.523438 22.318125 \nz\n\" style=\"fill:#ffffff;\"/>\n   </g>\n   <g id=\"PathCollection_1\">\n    <defs>\n     <path d=\"M 0 3 \nC 0.795609 3 1.55874 2.683901 2.12132 2.12132 \nC 2.683901 1.55874 3 0.795609 3 0 \nC 3 -0.795609 2.683901 -1.55874 2.12132 -2.12132 \nC 1.55874 -2.683901 0.795609 -3 0 -3 \nC -0.795609 -3 -1.55874 -2.683901 -2.12132 -2.12132 \nC -2.683901 -1.55874 -3 -0.795609 -3 0 \nC -3 0.795609 -2.683901 1.55874 -2.12132 2.12132 \nC -1.55874 2.683901 -0.795609 3 0 3 \nz\n\" id=\"md3556711e5\" style=\"stroke:#1f77b4;\"/>\n    </defs>\n    <g clip-path=\"url(#p85e8846a2f)\">\n     <use style=\"fill:#1f77b4;stroke:#1f77b4;\" x=\"73.741619\" xlink:href=\"#md3556711e5\" y=\"229.874489\"/>\n     <use style=\"fill:#1f77b4;stroke:#1f77b4;\" x=\"75.209547\" xlink:href=\"#md3556711e5\" y=\"101.005857\"/>\n     <use style=\"fill:#1f77b4;stroke:#1f77b4;\" x=\"75.947867\" xlink:href=\"#md3556711e5\" y=\"53.773255\"/>\n     <use style=\"fill:#1f77b4;stroke:#1f77b4;\" x=\"78.517607\" xlink:href=\"#md3556711e5\" y=\"45.63688\"/>\n     <use style=\"fill:#1f77b4;stroke:#1f77b4;\" x=\"82.085299\" xlink:href=\"#md3556711e5\" y=\"40.804082\"/>\n     <use style=\"fill:#1f77b4;stroke:#1f77b4;\" x=\"85.204925\" xlink:href=\"#md3556711e5\" y=\"36.777021\"/>\n     <use style=\"fill:#1f77b4;stroke:#1f77b4;\" x=\"88.225542\" xlink:href=\"#md3556711e5\" y=\"36.538765\"/>\n     <use style=\"fill:#1f77b4;stroke:#1f77b4;\" x=\"93.145389\" xlink:href=\"#md3556711e5\" y=\"34.819928\"/>\n     <use style=\"fill:#1f77b4;stroke:#1f77b4;\" x=\"107.428782\" xlink:href=\"#md3556711e5\" y=\"33.582329\"/>\n     <use style=\"fill:#1f77b4;stroke:#1f77b4;\" x=\"206.9373\" xlink:href=\"#md3556711e5\" y=\"33.435624\"/>\n     <use style=\"fill:#1f77b4;stroke:#1f77b4;\" x=\"378.105256\" xlink:href=\"#md3556711e5\" y=\"32.201761\"/>\n    </g>\n   </g>\n   <g id=\"matplotlib.axis_1\">\n    <g id=\"xtick_1\">\n     <g id=\"line2d_1\">\n      <defs>\n       <path d=\"M 0 0 \nL 0 3.5 \n\" id=\"m2cd96c24c9\" style=\"stroke:#000000;stroke-width:0.8;\"/>\n      </defs>\n      <g>\n       <use style=\"stroke:#000000;stroke-width:0.8;\" x=\"71.427096\" xlink:href=\"#m2cd96c24c9\" y=\"239.758125\"/>\n      </g>\n     </g>\n     <g id=\"text_1\">\n      <!-- 0 -->\n      <defs>\n       <path d=\"M 31.78125 66.40625 \nQ 24.171875 66.40625 20.328125 58.90625 \nQ 16.5 51.421875 16.5 36.375 \nQ 16.5 21.390625 20.328125 13.890625 \nQ 24.171875 6.390625 31.78125 6.390625 \nQ 39.453125 6.390625 43.28125 13.890625 \nQ 47.125 21.390625 47.125 36.375 \nQ 47.125 51.421875 43.28125 58.90625 \nQ 39.453125 66.40625 31.78125 66.40625 \nz\nM 31.78125 74.21875 \nQ 44.046875 74.21875 50.515625 64.515625 \nQ 56.984375 54.828125 56.984375 36.375 \nQ 56.984375 17.96875 50.515625 8.265625 \nQ 44.046875 -1.421875 31.78125 -1.421875 \nQ 19.53125 -1.421875 13.0625 8.265625 \nQ 6.59375 17.96875 6.59375 36.375 \nQ 6.59375 54.828125 13.0625 64.515625 \nQ 19.53125 74.21875 31.78125 74.21875 \nz\n\" id=\"DejaVuSans-48\"/>\n      </defs>\n      <g transform=\"translate(68.245846 254.356562)scale(0.1 -0.1)\">\n       <use xlink:href=\"#DejaVuSans-48\"/>\n      </g>\n     </g>\n    </g>\n    <g id=\"xtick_2\">\n     <g id=\"line2d_2\">\n      <g>\n       <use style=\"stroke:#000000;stroke-width:0.8;\" x=\"123.856625\" xlink:href=\"#m2cd96c24c9\" y=\"239.758125\"/>\n      </g>\n     </g>\n     <g id=\"text_2\">\n      <!-- 10 -->\n      <defs>\n       <path d=\"M 12.40625 8.296875 \nL 28.515625 8.296875 \nL 28.515625 63.921875 \nL 10.984375 60.40625 \nL 10.984375 69.390625 \nL 28.421875 72.90625 \nL 38.28125 72.90625 \nL 38.28125 8.296875 \nL 54.390625 8.296875 \nL 54.390625 0 \nL 12.40625 0 \nz\n\" id=\"DejaVuSans-49\"/>\n      </defs>\n      <g transform=\"translate(117.494125 254.356562)scale(0.1 -0.1)\">\n       <use xlink:href=\"#DejaVuSans-49\"/>\n       <use x=\"63.623047\" xlink:href=\"#DejaVuSans-48\"/>\n      </g>\n     </g>\n    </g>\n    <g id=\"xtick_3\">\n     <g id=\"line2d_3\">\n      <g>\n       <use style=\"stroke:#000000;stroke-width:0.8;\" x=\"176.286154\" xlink:href=\"#m2cd96c24c9\" y=\"239.758125\"/>\n      </g>\n     </g>\n     <g id=\"text_3\">\n      <!-- 20 -->\n      <defs>\n       <path d=\"M 19.1875 8.296875 \nL 53.609375 8.296875 \nL 53.609375 0 \nL 7.328125 0 \nL 7.328125 8.296875 \nQ 12.9375 14.109375 22.625 23.890625 \nQ 32.328125 33.6875 34.8125 36.53125 \nQ 39.546875 41.84375 41.421875 45.53125 \nQ 43.3125 49.21875 43.3125 52.78125 \nQ 43.3125 58.59375 39.234375 62.25 \nQ 35.15625 65.921875 28.609375 65.921875 \nQ 23.96875 65.921875 18.8125 64.3125 \nQ 13.671875 62.703125 7.8125 59.421875 \nL 7.8125 69.390625 \nQ 13.765625 71.78125 18.9375 73 \nQ 24.125 74.21875 28.421875 74.21875 \nQ 39.75 74.21875 46.484375 68.546875 \nQ 53.21875 62.890625 53.21875 53.421875 \nQ 53.21875 48.921875 51.53125 44.890625 \nQ 49.859375 40.875 45.40625 35.40625 \nQ 44.1875 33.984375 37.640625 27.21875 \nQ 31.109375 20.453125 19.1875 8.296875 \nz\n\" id=\"DejaVuSans-50\"/>\n      </defs>\n      <g transform=\"translate(169.923654 254.356562)scale(0.1 -0.1)\">\n       <use xlink:href=\"#DejaVuSans-50\"/>\n       <use x=\"63.623047\" xlink:href=\"#DejaVuSans-48\"/>\n      </g>\n     </g>\n    </g>\n    <g id=\"xtick_4\">\n     <g id=\"line2d_4\">\n      <g>\n       <use style=\"stroke:#000000;stroke-width:0.8;\" x=\"228.715683\" xlink:href=\"#m2cd96c24c9\" y=\"239.758125\"/>\n      </g>\n     </g>\n     <g id=\"text_4\">\n      <!-- 30 -->\n      <defs>\n       <path d=\"M 40.578125 39.3125 \nQ 47.65625 37.796875 51.625 33 \nQ 55.609375 28.21875 55.609375 21.1875 \nQ 55.609375 10.40625 48.1875 4.484375 \nQ 40.765625 -1.421875 27.09375 -1.421875 \nQ 22.515625 -1.421875 17.65625 -0.515625 \nQ 12.796875 0.390625 7.625 2.203125 \nL 7.625 11.71875 \nQ 11.71875 9.328125 16.59375 8.109375 \nQ 21.484375 6.890625 26.8125 6.890625 \nQ 36.078125 6.890625 40.9375 10.546875 \nQ 45.796875 14.203125 45.796875 21.1875 \nQ 45.796875 27.640625 41.28125 31.265625 \nQ 36.765625 34.90625 28.71875 34.90625 \nL 20.21875 34.90625 \nL 20.21875 43.015625 \nL 29.109375 43.015625 \nQ 36.375 43.015625 40.234375 45.921875 \nQ 44.09375 48.828125 44.09375 54.296875 \nQ 44.09375 59.90625 40.109375 62.90625 \nQ 36.140625 65.921875 28.71875 65.921875 \nQ 24.65625 65.921875 20.015625 65.03125 \nQ 15.375 64.15625 9.8125 62.3125 \nL 9.8125 71.09375 \nQ 15.4375 72.65625 20.34375 73.4375 \nQ 25.25 74.21875 29.59375 74.21875 \nQ 40.828125 74.21875 47.359375 69.109375 \nQ 53.90625 64.015625 53.90625 55.328125 \nQ 53.90625 49.265625 50.4375 45.09375 \nQ 46.96875 40.921875 40.578125 39.3125 \nz\n\" id=\"DejaVuSans-51\"/>\n      </defs>\n      <g transform=\"translate(222.353183 254.356562)scale(0.1 -0.1)\">\n       <use xlink:href=\"#DejaVuSans-51\"/>\n       <use x=\"63.623047\" xlink:href=\"#DejaVuSans-48\"/>\n      </g>\n     </g>\n    </g>\n    <g id=\"xtick_5\">\n     <g id=\"line2d_5\">\n      <g>\n       <use style=\"stroke:#000000;stroke-width:0.8;\" x=\"281.145212\" xlink:href=\"#m2cd96c24c9\" y=\"239.758125\"/>\n      </g>\n     </g>\n     <g id=\"text_5\">\n      <!-- 40 -->\n      <defs>\n       <path d=\"M 37.796875 64.3125 \nL 12.890625 25.390625 \nL 37.796875 25.390625 \nz\nM 35.203125 72.90625 \nL 47.609375 72.90625 \nL 47.609375 25.390625 \nL 58.015625 25.390625 \nL 58.015625 17.1875 \nL 47.609375 17.1875 \nL 47.609375 0 \nL 37.796875 0 \nL 37.796875 17.1875 \nL 4.890625 17.1875 \nL 4.890625 26.703125 \nz\n\" id=\"DejaVuSans-52\"/>\n      </defs>\n      <g transform=\"translate(274.782712 254.356562)scale(0.1 -0.1)\">\n       <use xlink:href=\"#DejaVuSans-52\"/>\n       <use x=\"63.623047\" xlink:href=\"#DejaVuSans-48\"/>\n      </g>\n     </g>\n    </g>\n    <g id=\"xtick_6\">\n     <g id=\"line2d_6\">\n      <g>\n       <use style=\"stroke:#000000;stroke-width:0.8;\" x=\"333.574741\" xlink:href=\"#m2cd96c24c9\" y=\"239.758125\"/>\n      </g>\n     </g>\n     <g id=\"text_6\">\n      <!-- 50 -->\n      <defs>\n       <path d=\"M 10.796875 72.90625 \nL 49.515625 72.90625 \nL 49.515625 64.59375 \nL 19.828125 64.59375 \nL 19.828125 46.734375 \nQ 21.96875 47.46875 24.109375 47.828125 \nQ 26.265625 48.1875 28.421875 48.1875 \nQ 40.625 48.1875 47.75 41.5 \nQ 54.890625 34.8125 54.890625 23.390625 \nQ 54.890625 11.625 47.5625 5.09375 \nQ 40.234375 -1.421875 26.90625 -1.421875 \nQ 22.3125 -1.421875 17.546875 -0.640625 \nQ 12.796875 0.140625 7.71875 1.703125 \nL 7.71875 11.625 \nQ 12.109375 9.234375 16.796875 8.0625 \nQ 21.484375 6.890625 26.703125 6.890625 \nQ 35.15625 6.890625 40.078125 11.328125 \nQ 45.015625 15.765625 45.015625 23.390625 \nQ 45.015625 31 40.078125 35.4375 \nQ 35.15625 39.890625 26.703125 39.890625 \nQ 22.75 39.890625 18.8125 39.015625 \nQ 14.890625 38.140625 10.796875 36.28125 \nz\n\" id=\"DejaVuSans-53\"/>\n      </defs>\n      <g transform=\"translate(327.212241 254.356562)scale(0.1 -0.1)\">\n       <use xlink:href=\"#DejaVuSans-53\"/>\n       <use x=\"63.623047\" xlink:href=\"#DejaVuSans-48\"/>\n      </g>\n     </g>\n    </g>\n    <g id=\"xtick_7\">\n     <g id=\"line2d_7\">\n      <g>\n       <use style=\"stroke:#000000;stroke-width:0.8;\" x=\"386.004271\" xlink:href=\"#m2cd96c24c9\" y=\"239.758125\"/>\n      </g>\n     </g>\n     <g id=\"text_7\">\n      <!-- 60 -->\n      <defs>\n       <path d=\"M 33.015625 40.375 \nQ 26.375 40.375 22.484375 35.828125 \nQ 18.609375 31.296875 18.609375 23.390625 \nQ 18.609375 15.53125 22.484375 10.953125 \nQ 26.375 6.390625 33.015625 6.390625 \nQ 39.65625 6.390625 43.53125 10.953125 \nQ 47.40625 15.53125 47.40625 23.390625 \nQ 47.40625 31.296875 43.53125 35.828125 \nQ 39.65625 40.375 33.015625 40.375 \nz\nM 52.59375 71.296875 \nL 52.59375 62.3125 \nQ 48.875 64.0625 45.09375 64.984375 \nQ 41.3125 65.921875 37.59375 65.921875 \nQ 27.828125 65.921875 22.671875 59.328125 \nQ 17.53125 52.734375 16.796875 39.40625 \nQ 19.671875 43.65625 24.015625 45.921875 \nQ 28.375 48.1875 33.59375 48.1875 \nQ 44.578125 48.1875 50.953125 41.515625 \nQ 57.328125 34.859375 57.328125 23.390625 \nQ 57.328125 12.15625 50.6875 5.359375 \nQ 44.046875 -1.421875 33.015625 -1.421875 \nQ 20.359375 -1.421875 13.671875 8.265625 \nQ 6.984375 17.96875 6.984375 36.375 \nQ 6.984375 53.65625 15.1875 63.9375 \nQ 23.390625 74.21875 37.203125 74.21875 \nQ 40.921875 74.21875 44.703125 73.484375 \nQ 48.484375 72.75 52.59375 71.296875 \nz\n\" id=\"DejaVuSans-54\"/>\n      </defs>\n      <g transform=\"translate(379.641771 254.356562)scale(0.1 -0.1)\">\n       <use xlink:href=\"#DejaVuSans-54\"/>\n       <use x=\"63.623047\" xlink:href=\"#DejaVuSans-48\"/>\n      </g>\n     </g>\n    </g>\n    <g id=\"text_8\">\n     <!-- Wall Clock Time (s) -->\n     <defs>\n      <path d=\"M 3.328125 72.90625 \nL 13.28125 72.90625 \nL 28.609375 11.28125 \nL 43.890625 72.90625 \nL 54.984375 72.90625 \nL 70.3125 11.28125 \nL 85.59375 72.90625 \nL 95.609375 72.90625 \nL 77.296875 0 \nL 64.890625 0 \nL 49.515625 63.28125 \nL 33.984375 0 \nL 21.578125 0 \nz\n\" id=\"DejaVuSans-87\"/>\n      <path d=\"M 34.28125 27.484375 \nQ 23.390625 27.484375 19.1875 25 \nQ 14.984375 22.515625 14.984375 16.5 \nQ 14.984375 11.71875 18.140625 8.90625 \nQ 21.296875 6.109375 26.703125 6.109375 \nQ 34.1875 6.109375 38.703125 11.40625 \nQ 43.21875 16.703125 43.21875 25.484375 \nL 43.21875 27.484375 \nz\nM 52.203125 31.203125 \nL 52.203125 0 \nL 43.21875 0 \nL 43.21875 8.296875 \nQ 40.140625 3.328125 35.546875 0.953125 \nQ 30.953125 -1.421875 24.3125 -1.421875 \nQ 15.921875 -1.421875 10.953125 3.296875 \nQ 6 8.015625 6 15.921875 \nQ 6 25.140625 12.171875 29.828125 \nQ 18.359375 34.515625 30.609375 34.515625 \nL 43.21875 34.515625 \nL 43.21875 35.40625 \nQ 43.21875 41.609375 39.140625 45 \nQ 35.0625 48.390625 27.6875 48.390625 \nQ 23 48.390625 18.546875 47.265625 \nQ 14.109375 46.140625 10.015625 43.890625 \nL 10.015625 52.203125 \nQ 14.9375 54.109375 19.578125 55.046875 \nQ 24.21875 56 28.609375 56 \nQ 40.484375 56 46.34375 49.84375 \nQ 52.203125 43.703125 52.203125 31.203125 \nz\n\" id=\"DejaVuSans-97\"/>\n      <path d=\"M 9.421875 75.984375 \nL 18.40625 75.984375 \nL 18.40625 0 \nL 9.421875 0 \nz\n\" id=\"DejaVuSans-108\"/>\n      <path id=\"DejaVuSans-32\"/>\n      <path d=\"M 64.40625 67.28125 \nL 64.40625 56.890625 \nQ 59.421875 61.53125 53.78125 63.8125 \nQ 48.140625 66.109375 41.796875 66.109375 \nQ 29.296875 66.109375 22.65625 58.46875 \nQ 16.015625 50.828125 16.015625 36.375 \nQ 16.015625 21.96875 22.65625 14.328125 \nQ 29.296875 6.6875 41.796875 6.6875 \nQ 48.140625 6.6875 53.78125 8.984375 \nQ 59.421875 11.28125 64.40625 15.921875 \nL 64.40625 5.609375 \nQ 59.234375 2.09375 53.4375 0.328125 \nQ 47.65625 -1.421875 41.21875 -1.421875 \nQ 24.65625 -1.421875 15.125 8.703125 \nQ 5.609375 18.84375 5.609375 36.375 \nQ 5.609375 53.953125 15.125 64.078125 \nQ 24.65625 74.21875 41.21875 74.21875 \nQ 47.75 74.21875 53.53125 72.484375 \nQ 59.328125 70.75 64.40625 67.28125 \nz\n\" id=\"DejaVuSans-67\"/>\n      <path d=\"M 30.609375 48.390625 \nQ 23.390625 48.390625 19.1875 42.75 \nQ 14.984375 37.109375 14.984375 27.296875 \nQ 14.984375 17.484375 19.15625 11.84375 \nQ 23.34375 6.203125 30.609375 6.203125 \nQ 37.796875 6.203125 41.984375 11.859375 \nQ 46.1875 17.53125 46.1875 27.296875 \nQ 46.1875 37.015625 41.984375 42.703125 \nQ 37.796875 48.390625 30.609375 48.390625 \nz\nM 30.609375 56 \nQ 42.328125 56 49.015625 48.375 \nQ 55.71875 40.765625 55.71875 27.296875 \nQ 55.71875 13.875 49.015625 6.21875 \nQ 42.328125 -1.421875 30.609375 -1.421875 \nQ 18.84375 -1.421875 12.171875 6.21875 \nQ 5.515625 13.875 5.515625 27.296875 \nQ 5.515625 40.765625 12.171875 48.375 \nQ 18.84375 56 30.609375 56 \nz\n\" id=\"DejaVuSans-111\"/>\n      <path d=\"M 48.78125 52.59375 \nL 48.78125 44.1875 \nQ 44.96875 46.296875 41.140625 47.34375 \nQ 37.3125 48.390625 33.40625 48.390625 \nQ 24.65625 48.390625 19.8125 42.84375 \nQ 14.984375 37.3125 14.984375 27.296875 \nQ 14.984375 17.28125 19.8125 11.734375 \nQ 24.65625 6.203125 33.40625 6.203125 \nQ 37.3125 6.203125 41.140625 7.25 \nQ 44.96875 8.296875 48.78125 10.40625 \nL 48.78125 2.09375 \nQ 45.015625 0.34375 40.984375 -0.53125 \nQ 36.96875 -1.421875 32.421875 -1.421875 \nQ 20.0625 -1.421875 12.78125 6.34375 \nQ 5.515625 14.109375 5.515625 27.296875 \nQ 5.515625 40.671875 12.859375 48.328125 \nQ 20.21875 56 33.015625 56 \nQ 37.15625 56 41.109375 55.140625 \nQ 45.0625 54.296875 48.78125 52.59375 \nz\n\" id=\"DejaVuSans-99\"/>\n      <path d=\"M 9.078125 75.984375 \nL 18.109375 75.984375 \nL 18.109375 31.109375 \nL 44.921875 54.6875 \nL 56.390625 54.6875 \nL 27.390625 29.109375 \nL 57.625 0 \nL 45.90625 0 \nL 18.109375 26.703125 \nL 18.109375 0 \nL 9.078125 0 \nz\n\" id=\"DejaVuSans-107\"/>\n      <path d=\"M -0.296875 72.90625 \nL 61.375 72.90625 \nL 61.375 64.59375 \nL 35.5 64.59375 \nL 35.5 0 \nL 25.59375 0 \nL 25.59375 64.59375 \nL -0.296875 64.59375 \nz\n\" id=\"DejaVuSans-84\"/>\n      <path d=\"M 9.421875 54.6875 \nL 18.40625 54.6875 \nL 18.40625 0 \nL 9.421875 0 \nz\nM 9.421875 75.984375 \nL 18.40625 75.984375 \nL 18.40625 64.59375 \nL 9.421875 64.59375 \nz\n\" id=\"DejaVuSans-105\"/>\n      <path d=\"M 52 44.1875 \nQ 55.375 50.25 60.0625 53.125 \nQ 64.75 56 71.09375 56 \nQ 79.640625 56 84.28125 50.015625 \nQ 88.921875 44.046875 88.921875 33.015625 \nL 88.921875 0 \nL 79.890625 0 \nL 79.890625 32.71875 \nQ 79.890625 40.578125 77.09375 44.375 \nQ 74.3125 48.1875 68.609375 48.1875 \nQ 61.625 48.1875 57.5625 43.546875 \nQ 53.515625 38.921875 53.515625 30.90625 \nL 53.515625 0 \nL 44.484375 0 \nL 44.484375 32.71875 \nQ 44.484375 40.625 41.703125 44.40625 \nQ 38.921875 48.1875 33.109375 48.1875 \nQ 26.21875 48.1875 22.15625 43.53125 \nQ 18.109375 38.875 18.109375 30.90625 \nL 18.109375 0 \nL 9.078125 0 \nL 9.078125 54.6875 \nL 18.109375 54.6875 \nL 18.109375 46.1875 \nQ 21.1875 51.21875 25.484375 53.609375 \nQ 29.78125 56 35.6875 56 \nQ 41.65625 56 45.828125 52.96875 \nQ 50 49.953125 52 44.1875 \nz\n\" id=\"DejaVuSans-109\"/>\n      <path d=\"M 56.203125 29.59375 \nL 56.203125 25.203125 \nL 14.890625 25.203125 \nQ 15.484375 15.921875 20.484375 11.0625 \nQ 25.484375 6.203125 34.421875 6.203125 \nQ 39.59375 6.203125 44.453125 7.46875 \nQ 49.3125 8.734375 54.109375 11.28125 \nL 54.109375 2.78125 \nQ 49.265625 0.734375 44.1875 -0.34375 \nQ 39.109375 -1.421875 33.890625 -1.421875 \nQ 20.796875 -1.421875 13.15625 6.1875 \nQ 5.515625 13.8125 5.515625 26.8125 \nQ 5.515625 40.234375 12.765625 48.109375 \nQ 20.015625 56 32.328125 56 \nQ 43.359375 56 49.78125 48.890625 \nQ 56.203125 41.796875 56.203125 29.59375 \nz\nM 47.21875 32.234375 \nQ 47.125 39.59375 43.09375 43.984375 \nQ 39.0625 48.390625 32.421875 48.390625 \nQ 24.90625 48.390625 20.390625 44.140625 \nQ 15.875 39.890625 15.1875 32.171875 \nz\n\" id=\"DejaVuSans-101\"/>\n      <path d=\"M 31 75.875 \nQ 24.46875 64.65625 21.28125 53.65625 \nQ 18.109375 42.671875 18.109375 31.390625 \nQ 18.109375 20.125 21.3125 9.0625 \nQ 24.515625 -2 31 -13.1875 \nL 23.1875 -13.1875 \nQ 15.875 -1.703125 12.234375 9.375 \nQ 8.59375 20.453125 8.59375 31.390625 \nQ 8.59375 42.28125 12.203125 53.3125 \nQ 15.828125 64.359375 23.1875 75.875 \nz\n\" id=\"DejaVuSans-40\"/>\n      <path d=\"M 44.28125 53.078125 \nL 44.28125 44.578125 \nQ 40.484375 46.53125 36.375 47.5 \nQ 32.28125 48.484375 27.875 48.484375 \nQ 21.1875 48.484375 17.84375 46.4375 \nQ 14.5 44.390625 14.5 40.28125 \nQ 14.5 37.15625 16.890625 35.375 \nQ 19.28125 33.59375 26.515625 31.984375 \nL 29.59375 31.296875 \nQ 39.15625 29.25 43.1875 25.515625 \nQ 47.21875 21.78125 47.21875 15.09375 \nQ 47.21875 7.46875 41.1875 3.015625 \nQ 35.15625 -1.421875 24.609375 -1.421875 \nQ 20.21875 -1.421875 15.453125 -0.5625 \nQ 10.6875 0.296875 5.421875 2 \nL 5.421875 11.28125 \nQ 10.40625 8.6875 15.234375 7.390625 \nQ 20.0625 6.109375 24.8125 6.109375 \nQ 31.15625 6.109375 34.5625 8.28125 \nQ 37.984375 10.453125 37.984375 14.40625 \nQ 37.984375 18.0625 35.515625 20.015625 \nQ 33.0625 21.96875 24.703125 23.78125 \nL 21.578125 24.515625 \nQ 13.234375 26.265625 9.515625 29.90625 \nQ 5.8125 33.546875 5.8125 39.890625 \nQ 5.8125 47.609375 11.28125 51.796875 \nQ 16.75 56 26.8125 56 \nQ 31.78125 56 36.171875 55.265625 \nQ 40.578125 54.546875 44.28125 53.078125 \nz\n\" id=\"DejaVuSans-115\"/>\n      <path d=\"M 8.015625 75.875 \nL 15.828125 75.875 \nQ 23.140625 64.359375 26.78125 53.3125 \nQ 30.421875 42.28125 30.421875 31.390625 \nQ 30.421875 20.453125 26.78125 9.375 \nQ 23.140625 -1.703125 15.828125 -13.1875 \nL 8.015625 -13.1875 \nQ 14.5 -2 17.703125 9.0625 \nQ 20.90625 20.125 20.90625 31.390625 \nQ 20.90625 42.671875 17.703125 53.65625 \nQ 14.5 64.65625 8.015625 75.875 \nz\n\" id=\"DejaVuSans-41\"/>\n     </defs>\n     <g transform=\"translate(178.364844 268.034687)scale(0.1 -0.1)\">\n      <use xlink:href=\"#DejaVuSans-87\"/>\n      <use x=\"92.501953\" xlink:href=\"#DejaVuSans-97\"/>\n      <use x=\"153.78125\" xlink:href=\"#DejaVuSans-108\"/>\n      <use x=\"181.564453\" xlink:href=\"#DejaVuSans-108\"/>\n      <use x=\"209.347656\" xlink:href=\"#DejaVuSans-32\"/>\n      <use x=\"241.134766\" xlink:href=\"#DejaVuSans-67\"/>\n      <use x=\"310.958984\" xlink:href=\"#DejaVuSans-108\"/>\n      <use x=\"338.742188\" xlink:href=\"#DejaVuSans-111\"/>\n      <use x=\"399.923828\" xlink:href=\"#DejaVuSans-99\"/>\n      <use x=\"454.904297\" xlink:href=\"#DejaVuSans-107\"/>\n      <use x=\"512.814453\" xlink:href=\"#DejaVuSans-32\"/>\n      <use x=\"544.601562\" xlink:href=\"#DejaVuSans-84\"/>\n      <use x=\"602.560547\" xlink:href=\"#DejaVuSans-105\"/>\n      <use x=\"630.34375\" xlink:href=\"#DejaVuSans-109\"/>\n      <use x=\"727.755859\" xlink:href=\"#DejaVuSans-101\"/>\n      <use x=\"789.279297\" xlink:href=\"#DejaVuSans-32\"/>\n      <use x=\"821.066406\" xlink:href=\"#DejaVuSans-40\"/>\n      <use x=\"860.080078\" xlink:href=\"#DejaVuSans-115\"/>\n      <use x=\"912.179688\" xlink:href=\"#DejaVuSans-41\"/>\n     </g>\n    </g>\n   </g>\n   <g id=\"matplotlib.axis_2\">\n    <g id=\"ytick_1\">\n     <g id=\"line2d_8\">\n      <defs>\n       <path d=\"M 0 0 \nL -3.5 0 \n\" id=\"m585a7bdefa\" style=\"stroke:#000000;stroke-width:0.8;\"/>\n      </defs>\n      <g>\n       <use style=\"stroke:#000000;stroke-width:0.8;\" x=\"58.523438\" xlink:href=\"#m585a7bdefa\" y=\"217.097069\"/>\n      </g>\n     </g>\n     <g id=\"text_9\">\n      <!-- −1.00 -->\n      <defs>\n       <path d=\"M 10.59375 35.5 \nL 73.1875 35.5 \nL 73.1875 27.203125 \nL 10.59375 27.203125 \nz\n\" id=\"DejaVuSans-8722\"/>\n       <path d=\"M 10.6875 12.40625 \nL 21 12.40625 \nL 21 0 \nL 10.6875 0 \nz\n\" id=\"DejaVuSans-46\"/>\n      </defs>\n      <g transform=\"translate(20.878125 220.896288)scale(0.1 -0.1)\">\n       <use xlink:href=\"#DejaVuSans-8722\"/>\n       <use x=\"83.789062\" xlink:href=\"#DejaVuSans-49\"/>\n       <use x=\"147.412109\" xlink:href=\"#DejaVuSans-46\"/>\n       <use x=\"179.199219\" xlink:href=\"#DejaVuSans-48\"/>\n       <use x=\"242.822266\" xlink:href=\"#DejaVuSans-48\"/>\n      </g>\n     </g>\n    </g>\n    <g id=\"ytick_2\">\n     <g id=\"line2d_9\">\n      <g>\n       <use style=\"stroke:#000000;stroke-width:0.8;\" x=\"58.523438\" xlink:href=\"#m585a7bdefa\" y=\"191.89376\"/>\n      </g>\n     </g>\n     <g id=\"text_10\">\n      <!-- −0.75 -->\n      <defs>\n       <path d=\"M 8.203125 72.90625 \nL 55.078125 72.90625 \nL 55.078125 68.703125 \nL 28.609375 0 \nL 18.3125 0 \nL 43.21875 64.59375 \nL 8.203125 64.59375 \nz\n\" id=\"DejaVuSans-55\"/>\n      </defs>\n      <g transform=\"translate(20.878125 195.692978)scale(0.1 -0.1)\">\n       <use xlink:href=\"#DejaVuSans-8722\"/>\n       <use x=\"83.789062\" xlink:href=\"#DejaVuSans-48\"/>\n       <use x=\"147.412109\" xlink:href=\"#DejaVuSans-46\"/>\n       <use x=\"179.199219\" xlink:href=\"#DejaVuSans-55\"/>\n       <use x=\"242.822266\" xlink:href=\"#DejaVuSans-53\"/>\n      </g>\n     </g>\n    </g>\n    <g id=\"ytick_3\">\n     <g id=\"line2d_10\">\n      <g>\n       <use style=\"stroke:#000000;stroke-width:0.8;\" x=\"58.523438\" xlink:href=\"#m585a7bdefa\" y=\"166.69045\"/>\n      </g>\n     </g>\n     <g id=\"text_11\">\n      <!-- −0.50 -->\n      <g transform=\"translate(20.878125 170.489669)scale(0.1 -0.1)\">\n       <use xlink:href=\"#DejaVuSans-8722\"/>\n       <use x=\"83.789062\" xlink:href=\"#DejaVuSans-48\"/>\n       <use x=\"147.412109\" xlink:href=\"#DejaVuSans-46\"/>\n       <use x=\"179.199219\" xlink:href=\"#DejaVuSans-53\"/>\n       <use x=\"242.822266\" xlink:href=\"#DejaVuSans-48\"/>\n      </g>\n     </g>\n    </g>\n    <g id=\"ytick_4\">\n     <g id=\"line2d_11\">\n      <g>\n       <use style=\"stroke:#000000;stroke-width:0.8;\" x=\"58.523438\" xlink:href=\"#m585a7bdefa\" y=\"141.487141\"/>\n      </g>\n     </g>\n     <g id=\"text_12\">\n      <!-- −0.25 -->\n      <g transform=\"translate(20.878125 145.28636)scale(0.1 -0.1)\">\n       <use xlink:href=\"#DejaVuSans-8722\"/>\n       <use x=\"83.789062\" xlink:href=\"#DejaVuSans-48\"/>\n       <use x=\"147.412109\" xlink:href=\"#DejaVuSans-46\"/>\n       <use x=\"179.199219\" xlink:href=\"#DejaVuSans-50\"/>\n       <use x=\"242.822266\" xlink:href=\"#DejaVuSans-53\"/>\n      </g>\n     </g>\n    </g>\n    <g id=\"ytick_5\">\n     <g id=\"line2d_12\">\n      <g>\n       <use style=\"stroke:#000000;stroke-width:0.8;\" x=\"58.523438\" xlink:href=\"#m585a7bdefa\" y=\"116.283832\"/>\n      </g>\n     </g>\n     <g id=\"text_13\">\n      <!-- 0.00 -->\n      <g transform=\"translate(29.257813 120.083051)scale(0.1 -0.1)\">\n       <use xlink:href=\"#DejaVuSans-48\"/>\n       <use x=\"63.623047\" xlink:href=\"#DejaVuSans-46\"/>\n       <use x=\"95.410156\" xlink:href=\"#DejaVuSans-48\"/>\n       <use x=\"159.033203\" xlink:href=\"#DejaVuSans-48\"/>\n      </g>\n     </g>\n    </g>\n    <g id=\"ytick_6\">\n     <g id=\"line2d_13\">\n      <g>\n       <use style=\"stroke:#000000;stroke-width:0.8;\" x=\"58.523438\" xlink:href=\"#m585a7bdefa\" y=\"91.080522\"/>\n      </g>\n     </g>\n     <g id=\"text_14\">\n      <!-- 0.25 -->\n      <g transform=\"translate(29.257813 94.879741)scale(0.1 -0.1)\">\n       <use xlink:href=\"#DejaVuSans-48\"/>\n       <use x=\"63.623047\" xlink:href=\"#DejaVuSans-46\"/>\n       <use x=\"95.410156\" xlink:href=\"#DejaVuSans-50\"/>\n       <use x=\"159.033203\" xlink:href=\"#DejaVuSans-53\"/>\n      </g>\n     </g>\n    </g>\n    <g id=\"ytick_7\">\n     <g id=\"line2d_14\">\n      <g>\n       <use style=\"stroke:#000000;stroke-width:0.8;\" x=\"58.523438\" xlink:href=\"#m585a7bdefa\" y=\"65.877213\"/>\n      </g>\n     </g>\n     <g id=\"text_15\">\n      <!-- 0.50 -->\n      <g transform=\"translate(29.257813 69.676432)scale(0.1 -0.1)\">\n       <use xlink:href=\"#DejaVuSans-48\"/>\n       <use x=\"63.623047\" xlink:href=\"#DejaVuSans-46\"/>\n       <use x=\"95.410156\" xlink:href=\"#DejaVuSans-53\"/>\n       <use x=\"159.033203\" xlink:href=\"#DejaVuSans-48\"/>\n      </g>\n     </g>\n    </g>\n    <g id=\"ytick_8\">\n     <g id=\"line2d_15\">\n      <g>\n       <use style=\"stroke:#000000;stroke-width:0.8;\" x=\"58.523438\" xlink:href=\"#m585a7bdefa\" y=\"40.673904\"/>\n      </g>\n     </g>\n     <g id=\"text_16\">\n      <!-- 0.75 -->\n      <g transform=\"translate(29.257813 44.473123)scale(0.1 -0.1)\">\n       <use xlink:href=\"#DejaVuSans-48\"/>\n       <use x=\"63.623047\" xlink:href=\"#DejaVuSans-46\"/>\n       <use x=\"95.410156\" xlink:href=\"#DejaVuSans-55\"/>\n       <use x=\"159.033203\" xlink:href=\"#DejaVuSans-53\"/>\n      </g>\n     </g>\n    </g>\n    <g id=\"text_17\">\n     <!-- Validation r2 -->\n     <defs>\n      <path d=\"M 28.609375 0 \nL 0.78125 72.90625 \nL 11.078125 72.90625 \nL 34.1875 11.53125 \nL 57.328125 72.90625 \nL 67.578125 72.90625 \nL 39.796875 0 \nz\n\" id=\"DejaVuSans-86\"/>\n      <path d=\"M 45.40625 46.390625 \nL 45.40625 75.984375 \nL 54.390625 75.984375 \nL 54.390625 0 \nL 45.40625 0 \nL 45.40625 8.203125 \nQ 42.578125 3.328125 38.25 0.953125 \nQ 33.9375 -1.421875 27.875 -1.421875 \nQ 17.96875 -1.421875 11.734375 6.484375 \nQ 5.515625 14.40625 5.515625 27.296875 \nQ 5.515625 40.1875 11.734375 48.09375 \nQ 17.96875 56 27.875 56 \nQ 33.9375 56 38.25 53.625 \nQ 42.578125 51.265625 45.40625 46.390625 \nz\nM 14.796875 27.296875 \nQ 14.796875 17.390625 18.875 11.75 \nQ 22.953125 6.109375 30.078125 6.109375 \nQ 37.203125 6.109375 41.296875 11.75 \nQ 45.40625 17.390625 45.40625 27.296875 \nQ 45.40625 37.203125 41.296875 42.84375 \nQ 37.203125 48.484375 30.078125 48.484375 \nQ 22.953125 48.484375 18.875 42.84375 \nQ 14.796875 37.203125 14.796875 27.296875 \nz\n\" id=\"DejaVuSans-100\"/>\n      <path d=\"M 18.3125 70.21875 \nL 18.3125 54.6875 \nL 36.8125 54.6875 \nL 36.8125 47.703125 \nL 18.3125 47.703125 \nL 18.3125 18.015625 \nQ 18.3125 11.328125 20.140625 9.421875 \nQ 21.96875 7.515625 27.59375 7.515625 \nL 36.8125 7.515625 \nL 36.8125 0 \nL 27.59375 0 \nQ 17.1875 0 13.234375 3.875 \nQ 9.28125 7.765625 9.28125 18.015625 \nL 9.28125 47.703125 \nL 2.6875 47.703125 \nL 2.6875 54.6875 \nL 9.28125 54.6875 \nL 9.28125 70.21875 \nz\n\" id=\"DejaVuSans-116\"/>\n      <path d=\"M 54.890625 33.015625 \nL 54.890625 0 \nL 45.90625 0 \nL 45.90625 32.71875 \nQ 45.90625 40.484375 42.875 44.328125 \nQ 39.84375 48.1875 33.796875 48.1875 \nQ 26.515625 48.1875 22.3125 43.546875 \nQ 18.109375 38.921875 18.109375 30.90625 \nL 18.109375 0 \nL 9.078125 0 \nL 9.078125 54.6875 \nL 18.109375 54.6875 \nL 18.109375 46.1875 \nQ 21.34375 51.125 25.703125 53.5625 \nQ 30.078125 56 35.796875 56 \nQ 45.21875 56 50.046875 50.171875 \nQ 54.890625 44.34375 54.890625 33.015625 \nz\n\" id=\"DejaVuSans-110\"/>\n      <path d=\"M 41.109375 46.296875 \nQ 39.59375 47.171875 37.8125 47.578125 \nQ 36.03125 48 33.890625 48 \nQ 26.265625 48 22.1875 43.046875 \nQ 18.109375 38.09375 18.109375 28.8125 \nL 18.109375 0 \nL 9.078125 0 \nL 9.078125 54.6875 \nL 18.109375 54.6875 \nL 18.109375 46.1875 \nQ 20.953125 51.171875 25.484375 53.578125 \nQ 30.03125 56 36.53125 56 \nQ 37.453125 56 38.578125 55.875 \nQ 39.703125 55.765625 41.0625 55.515625 \nz\n\" id=\"DejaVuSans-114\"/>\n     </defs>\n     <g transform=\"translate(14.798438 162.554531)rotate(-90)scale(0.1 -0.1)\">\n      <use xlink:href=\"#DejaVuSans-86\"/>\n      <use x=\"60.658203\" xlink:href=\"#DejaVuSans-97\"/>\n      <use x=\"121.9375\" xlink:href=\"#DejaVuSans-108\"/>\n      <use x=\"149.720703\" xlink:href=\"#DejaVuSans-105\"/>\n      <use x=\"177.503906\" xlink:href=\"#DejaVuSans-100\"/>\n      <use x=\"240.980469\" xlink:href=\"#DejaVuSans-97\"/>\n      <use x=\"302.259766\" xlink:href=\"#DejaVuSans-116\"/>\n      <use x=\"341.46875\" xlink:href=\"#DejaVuSans-105\"/>\n      <use x=\"369.251953\" xlink:href=\"#DejaVuSans-111\"/>\n      <use x=\"430.433594\" xlink:href=\"#DejaVuSans-110\"/>\n      <use x=\"493.8125\" xlink:href=\"#DejaVuSans-32\"/>\n      <use x=\"525.599609\" xlink:href=\"#DejaVuSans-114\"/>\n      <use x=\"566.712891\" xlink:href=\"#DejaVuSans-50\"/>\n     </g>\n    </g>\n   </g>\n   <g id=\"line2d_16\">\n    <path clip-path=\"url(#p85e8846a2f)\" d=\"M 73.741619 229.874489 \nL 75.209547 229.874489 \nL 75.209547 101.005857 \nL 75.947867 101.005857 \nL 75.947867 53.773255 \nL 78.517607 53.773255 \nL 78.517607 45.63688 \nL 82.085299 45.63688 \nL 82.085299 40.804082 \nL 85.204925 40.804082 \nL 85.204925 36.777021 \nL 88.225542 36.777021 \nL 88.225542 36.538765 \nL 93.145389 36.538765 \nL 93.145389 34.819928 \nL 107.428782 34.819928 \nL 107.428782 33.582329 \nL 206.9373 33.582329 \nL 206.9373 33.435624 \nL 378.105256 33.435624 \nL 378.105256 32.201761 \n\" style=\"fill:none;stroke:#1f77b4;stroke-linecap:square;stroke-width:1.5;\"/>\n   </g>\n   <g id=\"patch_3\">\n    <path d=\"M 58.523438 239.758125 \nL 58.523438 22.318125 \n\" style=\"fill:none;stroke:#000000;stroke-linecap:square;stroke-linejoin:miter;stroke-width:0.8;\"/>\n   </g>\n   <g id=\"patch_4\">\n    <path d=\"M 393.323438 239.758125 \nL 393.323438 22.318125 \n\" style=\"fill:none;stroke:#000000;stroke-linecap:square;stroke-linejoin:miter;stroke-width:0.8;\"/>\n   </g>\n   <g id=\"patch_5\">\n    <path d=\"M 58.523438 239.758125 \nL 393.323438 239.758125 \n\" style=\"fill:none;stroke:#000000;stroke-linecap:square;stroke-linejoin:miter;stroke-width:0.8;\"/>\n   </g>\n   <g id=\"patch_6\">\n    <path d=\"M 58.523438 22.318125 \nL 393.323438 22.318125 \n\" style=\"fill:none;stroke:#000000;stroke-linecap:square;stroke-linejoin:miter;stroke-width:0.8;\"/>\n   </g>\n   <g id=\"text_18\">\n    <!-- Learning Curve -->\n    <defs>\n     <path d=\"M 9.8125 72.90625 \nL 19.671875 72.90625 \nL 19.671875 8.296875 \nL 55.171875 8.296875 \nL 55.171875 0 \nL 9.8125 0 \nz\n\" id=\"DejaVuSans-76\"/>\n     <path d=\"M 45.40625 27.984375 \nQ 45.40625 37.75 41.375 43.109375 \nQ 37.359375 48.484375 30.078125 48.484375 \nQ 22.859375 48.484375 18.828125 43.109375 \nQ 14.796875 37.75 14.796875 27.984375 \nQ 14.796875 18.265625 18.828125 12.890625 \nQ 22.859375 7.515625 30.078125 7.515625 \nQ 37.359375 7.515625 41.375 12.890625 \nQ 45.40625 18.265625 45.40625 27.984375 \nz\nM 54.390625 6.78125 \nQ 54.390625 -7.171875 48.1875 -13.984375 \nQ 42 -20.796875 29.203125 -20.796875 \nQ 24.46875 -20.796875 20.265625 -20.09375 \nQ 16.0625 -19.390625 12.109375 -17.921875 \nL 12.109375 -9.1875 \nQ 16.0625 -11.328125 19.921875 -12.34375 \nQ 23.78125 -13.375 27.78125 -13.375 \nQ 36.625 -13.375 41.015625 -8.765625 \nQ 45.40625 -4.15625 45.40625 5.171875 \nL 45.40625 9.625 \nQ 42.625 4.78125 38.28125 2.390625 \nQ 33.9375 0 27.875 0 \nQ 17.828125 0 11.671875 7.65625 \nQ 5.515625 15.328125 5.515625 27.984375 \nQ 5.515625 40.671875 11.671875 48.328125 \nQ 17.828125 56 27.875 56 \nQ 33.9375 56 38.28125 53.609375 \nQ 42.625 51.21875 45.40625 46.390625 \nL 45.40625 54.6875 \nL 54.390625 54.6875 \nz\n\" id=\"DejaVuSans-103\"/>\n     <path d=\"M 8.5 21.578125 \nL 8.5 54.6875 \nL 17.484375 54.6875 \nL 17.484375 21.921875 \nQ 17.484375 14.15625 20.5 10.265625 \nQ 23.53125 6.390625 29.59375 6.390625 \nQ 36.859375 6.390625 41.078125 11.03125 \nQ 45.3125 15.671875 45.3125 23.6875 \nL 45.3125 54.6875 \nL 54.296875 54.6875 \nL 54.296875 0 \nL 45.3125 0 \nL 45.3125 8.40625 \nQ 42.046875 3.421875 37.71875 1 \nQ 33.40625 -1.421875 27.6875 -1.421875 \nQ 18.265625 -1.421875 13.375 4.4375 \nQ 8.5 10.296875 8.5 21.578125 \nz\nM 31.109375 56 \nz\n\" id=\"DejaVuSans-117\"/>\n     <path d=\"M 2.984375 54.6875 \nL 12.5 54.6875 \nL 29.59375 8.796875 \nL 46.6875 54.6875 \nL 56.203125 54.6875 \nL 35.6875 0 \nL 23.484375 0 \nz\n\" id=\"DejaVuSans-118\"/>\n    </defs>\n    <g transform=\"translate(180.265312 16.318125)scale(0.12 -0.12)\">\n     <use xlink:href=\"#DejaVuSans-76\"/>\n     <use x=\"53.962891\" xlink:href=\"#DejaVuSans-101\"/>\n     <use x=\"115.486328\" xlink:href=\"#DejaVuSans-97\"/>\n     <use x=\"176.765625\" xlink:href=\"#DejaVuSans-114\"/>\n     <use x=\"216.128906\" xlink:href=\"#DejaVuSans-110\"/>\n     <use x=\"279.507812\" xlink:href=\"#DejaVuSans-105\"/>\n     <use x=\"307.291016\" xlink:href=\"#DejaVuSans-110\"/>\n     <use x=\"370.669922\" xlink:href=\"#DejaVuSans-103\"/>\n     <use x=\"434.146484\" xlink:href=\"#DejaVuSans-32\"/>\n     <use x=\"465.933594\" xlink:href=\"#DejaVuSans-67\"/>\n     <use x=\"535.757812\" xlink:href=\"#DejaVuSans-117\"/>\n     <use x=\"599.136719\" xlink:href=\"#DejaVuSans-114\"/>\n     <use x=\"640.25\" xlink:href=\"#DejaVuSans-118\"/>\n     <use x=\"699.429688\" xlink:href=\"#DejaVuSans-101\"/>\n    </g>\n   </g>\n  </g>\n </g>\n <defs>\n  <clipPath id=\"p85e8846a2f\">\n   <rect height=\"217.44\" width=\"334.8\" x=\"58.523438\" y=\"22.318125\"/>\n  </clipPath>\n </defs>\n</svg>\n",
      "image/png": "[encoded data removed]"
     },
     "metadata": {
      "needs_background": "light"
     }
    }
   ],
   "metadata": {
    "slideshow": {
     "slide_type": "slide"
    }
   }
  },
  {
   "cell_type": "markdown",
   "source": [
    "## 3. Comparison with untuned XGBoost\n",
    "\n",
    "### FLAML's accuracy"
   ],
   "metadata": {}
  },
  {
   "cell_type": "code",
   "execution_count": 12,
   "source": [
    "print('flaml (60s) r2', '=', 1 - sklearn_metric_loss_score('r2', y_pred, y_test))"
   ],
   "outputs": [
    {
     "output_type": "stream",
     "name": "stdout",
     "text": [
      "flaml (60s) r2 = 0.8439648010832427\n"
     ]
    }
   ],
   "metadata": {
    "tags": []
   }
  },
  {
   "cell_type": "markdown",
   "source": [
    "### Default XGBoost"
   ],
   "metadata": {}
  },
  {
   "cell_type": "code",
   "execution_count": 13,
   "source": [
    "from xgboost import XGBRegressor\n",
    "xgb = XGBRegressor()"
   ],
   "outputs": [],
   "metadata": {}
  },
  {
   "cell_type": "code",
   "execution_count": 14,
   "source": [
    "xgb.fit(X_train, y_train)"
   ],
   "outputs": [
    {
     "output_type": "execute_result",
     "data": {
      "text/plain": [
       "XGBRegressor(base_score=0.5, booster='gbtree', colsample_bylevel=1,\n",
       "             colsample_bynode=1, colsample_bytree=1, gamma=0, gpu_id=-1,\n",
       "             importance_type='gain', interaction_constraints='',\n",
       "             learning_rate=0.300000012, max_delta_step=0, max_depth=6,\n",
       "             min_child_weight=1, missing=nan, monotone_constraints='()',\n",
       "             n_estimators=100, n_jobs=0, num_parallel_tree=1, random_state=0,\n",
       "             reg_alpha=0, reg_lambda=1, scale_pos_weight=1, subsample=1,\n",
       "             tree_method='exact', validate_parameters=1, verbosity=None)"
      ]
     },
     "metadata": {},
     "execution_count": 14
    }
   ],
   "metadata": {}
  },
  {
   "cell_type": "code",
   "execution_count": 15,
   "source": [
    "y_pred = xgb.predict(X_test)\n",
    "from flaml.ml import sklearn_metric_loss_score\n",
    "print('default xgboost r2', '=', 1 - sklearn_metric_loss_score('r2', y_pred, y_test))"
   ],
   "outputs": [
    {
     "output_type": "stream",
     "name": "stdout",
     "text": [
      "default xgboost r2 = 0.8265451174596482\n"
     ]
    }
   ],
   "metadata": {
    "tags": []
   }
  },
  {
   "cell_type": "markdown",
   "source": [
    "## 4. Add customized XGBoost learners in FLAML\n",
    "You can easily enable a custom objective function by adding a customized XGBoost learner (XGBoostEstimator for regression tasks, and XGBoostSklearnEstimator for classification tasks) in FLAML. In the following example, we show how to add such a customized XGBoostEstimator with a custom objective function. "
   ],
   "metadata": {}
  },
  {
   "cell_type": "code",
   "execution_count": 16,
   "source": [
    "import numpy as np \n",
    "\n",
    "''' define your customized objective function '''\n",
    "def logregobj(preds, dtrain):\n",
    "    labels = dtrain.get_label()\n",
    "    preds = 1.0 / (1.0 + np.exp(-preds)) # transform raw leaf weight\n",
    "    grad = preds - labels\n",
    "    hess = preds * (1.0 - preds)\n",
    "    return grad, hess\n",
    "\n",
    "''' create customized XGBoost learners class with your objective function '''\n",
    "from flaml.model import XGBoostEstimator\n",
    "\n",
    "\n",
    "class MyXGB1(XGBoostEstimator):\n",
    "    '''XGBoostEstimator with the logregobj function as the objective function\n",
    "    '''\n",
    "\n",
    "    def __init__(self, **params):\n",
    "        super().__init__(objective=logregobj, **params) \n",
    "\n",
    "\n",
    "class MyXGB2(XGBoostEstimator):\n",
    "    '''XGBoostEstimator with 'reg:squarederror' as the objective function\n",
    "    '''\n",
    "\n",
    "    def __init__(self, **params):\n",
    "        super().__init__(objective='reg:gamma', **params)\n",
    "\n",
    "\n",
    "from flaml import AutoML\n",
    "automl = AutoML()\n",
    "automl.add_learner(learner_name='my_xgb1', learner_class=MyXGB1)\n",
    "automl.add_learner(learner_name='my_xgb2', learner_class=MyXGB2)\n",
    "settings = {\n",
    "    \"time_budget\": 30,  # total running time in seconds\n",
    "    \"metric\": 'r2',  # primary metrics for regression can be chosen from: ['mae','mse','r2']\n",
    "    \"estimator_list\": ['my_xgb1', 'my_xgb2'],  # list of ML learners; we tune lightgbm in this example\n",
    "    \"task\": 'regression',  # task type    \n",
    "    \"log_file_name\": 'houses_experiment_my_xgb.log',  # flaml log file\n",
    "}\n",
    "automl.fit(X_train=X_train, y_train=y_train, **settings)"
   ],
   "outputs": [
    {
     "output_type": "stream",
     "name": "stderr",
     "text": [
      "[flaml.automl: 08-22 21:24:46] {1130} INFO - Evaluation method: holdout\n",
      "[flaml.automl: 08-22 21:24:46] {634} INFO - Using RepeatedKFold\n",
      "[flaml.automl: 08-22 21:24:46] {1155} INFO - Minimizing error metric: 1-r2\n",
      "[flaml.automl: 08-22 21:24:46] {1175} INFO - List of ML learners in AutoML Run: ['my_xgb1', 'my_xgb2']\n",
      "[flaml.automl: 08-22 21:24:46] {1358} INFO - iteration 0, current learner my_xgb1\n",
      "[flaml.automl: 08-22 21:24:46] {1515} INFO -  at 0.1s,\tbest my_xgb1's error=53750617.1059,\tbest my_xgb1's error=53750617.1059\n",
      "[flaml.automl: 08-22 21:24:46] {1358} INFO - iteration 1, current learner my_xgb1\n",
      "[flaml.automl: 08-22 21:24:46] {1515} INFO -  at 0.1s,\tbest my_xgb1's error=260718.5183,\tbest my_xgb1's error=260718.5183\n",
      "[flaml.automl: 08-22 21:24:46] {1358} INFO - iteration 2, current learner my_xgb2\n",
      "[flaml.automl: 08-22 21:24:46] {1515} INFO -  at 0.1s,\tbest my_xgb2's error=4.1611,\tbest my_xgb2's error=4.1611\n",
      "[flaml.automl: 08-22 21:24:46] {1358} INFO - iteration 3, current learner my_xgb2\n",
      "[flaml.automl: 08-22 21:24:46] {1515} INFO -  at 0.2s,\tbest my_xgb2's error=4.1611,\tbest my_xgb2's error=4.1611\n",
      "[flaml.automl: 08-22 21:24:46] {1358} INFO - iteration 4, current learner my_xgb1\n",
      "[flaml.automl: 08-22 21:24:46] {1515} INFO -  at 0.2s,\tbest my_xgb1's error=260718.5183,\tbest my_xgb2's error=4.1611\n",
      "[flaml.automl: 08-22 21:24:46] {1358} INFO - iteration 5, current learner my_xgb1\n",
      "[flaml.automl: 08-22 21:24:46] {1515} INFO -  at 0.2s,\tbest my_xgb1's error=260718.5183,\tbest my_xgb2's error=4.1611\n",
      "[flaml.automl: 08-22 21:24:46] {1358} INFO - iteration 6, current learner my_xgb1\n",
      "[flaml.automl: 08-22 21:24:46] {1515} INFO -  at 0.3s,\tbest my_xgb1's error=40726.5769,\tbest my_xgb2's error=4.1611\n",
      "[flaml.automl: 08-22 21:24:46] {1358} INFO - iteration 7, current learner my_xgb1\n",
      "[flaml.automl: 08-22 21:24:46] {1515} INFO -  at 0.3s,\tbest my_xgb1's error=1918.9637,\tbest my_xgb2's error=4.1611\n",
      "[flaml.automl: 08-22 21:24:46] {1358} INFO - iteration 8, current learner my_xgb1\n",
      "[flaml.automl: 08-22 21:24:46] {1515} INFO -  at 0.3s,\tbest my_xgb1's error=1918.9637,\tbest my_xgb2's error=4.1611\n",
      "[flaml.automl: 08-22 21:24:46] {1358} INFO - iteration 9, current learner my_xgb1\n",
      "[flaml.automl: 08-22 21:24:46] {1515} INFO -  at 0.3s,\tbest my_xgb1's error=1918.9637,\tbest my_xgb2's error=4.1611\n",
      "[flaml.automl: 08-22 21:24:46] {1358} INFO - iteration 10, current learner my_xgb2\n",
      "[flaml.automl: 08-22 21:24:46] {1515} INFO -  at 0.4s,\tbest my_xgb2's error=4.1611,\tbest my_xgb2's error=4.1611\n",
      "[flaml.automl: 08-22 21:24:46] {1358} INFO - iteration 11, current learner my_xgb2\n",
      "[flaml.automl: 08-22 21:24:46] {1515} INFO -  at 0.4s,\tbest my_xgb2's error=4.1603,\tbest my_xgb2's error=4.1603\n",
      "[flaml.automl: 08-22 21:24:46] {1358} INFO - iteration 12, current learner my_xgb2\n",
      "[flaml.automl: 08-22 21:24:46] {1515} INFO -  at 0.5s,\tbest my_xgb2's error=4.1603,\tbest my_xgb2's error=4.1603\n",
      "[flaml.automl: 08-22 21:24:46] {1358} INFO - iteration 13, current learner my_xgb2\n",
      "[flaml.automl: 08-22 21:24:46] {1515} INFO -  at 0.5s,\tbest my_xgb2's error=4.1603,\tbest my_xgb2's error=4.1603\n",
      "[flaml.automl: 08-22 21:24:46] {1358} INFO - iteration 14, current learner my_xgb1\n",
      "[flaml.automl: 08-22 21:24:46] {1515} INFO -  at 0.5s,\tbest my_xgb1's error=1918.9637,\tbest my_xgb2's error=4.1603\n",
      "[flaml.automl: 08-22 21:24:46] {1358} INFO - iteration 15, current learner my_xgb2\n",
      "[flaml.automl: 08-22 21:24:46] {1515} INFO -  at 0.6s,\tbest my_xgb2's error=3.8476,\tbest my_xgb2's error=3.8476\n",
      "[flaml.automl: 08-22 21:24:46] {1358} INFO - iteration 16, current learner my_xgb1\n",
      "[flaml.automl: 08-22 21:24:46] {1515} INFO -  at 0.6s,\tbest my_xgb1's error=93.9115,\tbest my_xgb2's error=3.8476\n",
      "[flaml.automl: 08-22 21:24:46] {1358} INFO - iteration 17, current learner my_xgb2\n",
      "[flaml.automl: 08-22 21:24:46] {1515} INFO -  at 0.7s,\tbest my_xgb2's error=0.3645,\tbest my_xgb2's error=0.3645\n",
      "[flaml.automl: 08-22 21:24:46] {1358} INFO - iteration 18, current learner my_xgb2\n",
      "[flaml.automl: 08-22 21:24:46] {1515} INFO -  at 0.7s,\tbest my_xgb2's error=0.3645,\tbest my_xgb2's error=0.3645\n",
      "[flaml.automl: 08-22 21:24:46] {1358} INFO - iteration 19, current learner my_xgb2\n",
      "[flaml.automl: 08-22 21:24:46] {1515} INFO -  at 0.8s,\tbest my_xgb2's error=0.3139,\tbest my_xgb2's error=0.3139\n",
      "[flaml.automl: 08-22 21:24:46] {1358} INFO - iteration 20, current learner my_xgb1\n",
      "[flaml.automl: 08-22 21:24:46] {1515} INFO -  at 0.8s,\tbest my_xgb1's error=93.9115,\tbest my_xgb2's error=0.3139\n",
      "[flaml.automl: 08-22 21:24:46] {1358} INFO - iteration 21, current learner my_xgb1\n",
      "[flaml.automl: 08-22 21:24:47] {1515} INFO -  at 0.8s,\tbest my_xgb1's error=12.3445,\tbest my_xgb2's error=0.3139\n",
      "[flaml.automl: 08-22 21:24:47] {1358} INFO - iteration 22, current learner my_xgb2\n",
      "[flaml.automl: 08-22 21:24:47] {1515} INFO -  at 0.9s,\tbest my_xgb2's error=0.3139,\tbest my_xgb2's error=0.3139\n",
      "[flaml.automl: 08-22 21:24:47] {1358} INFO - iteration 23, current learner my_xgb2\n",
      "[flaml.automl: 08-22 21:24:47] {1515} INFO -  at 1.0s,\tbest my_xgb2's error=0.3139,\tbest my_xgb2's error=0.3139\n",
      "[flaml.automl: 08-22 21:24:47] {1358} INFO - iteration 24, current learner my_xgb1\n",
      "[flaml.automl: 08-22 21:24:47] {1515} INFO -  at 1.0s,\tbest my_xgb1's error=12.3445,\tbest my_xgb2's error=0.3139\n",
      "[flaml.automl: 08-22 21:24:47] {1358} INFO - iteration 25, current learner my_xgb2\n",
      "[flaml.automl: 08-22 21:24:47] {1515} INFO -  at 1.1s,\tbest my_xgb2's error=0.2254,\tbest my_xgb2's error=0.2254\n",
      "[flaml.automl: 08-22 21:24:47] {1358} INFO - iteration 26, current learner my_xgb2\n",
      "[flaml.automl: 08-22 21:24:47] {1515} INFO -  at 1.1s,\tbest my_xgb2's error=0.2254,\tbest my_xgb2's error=0.2254\n",
      "[flaml.automl: 08-22 21:24:47] {1358} INFO - iteration 27, current learner my_xgb2\n",
      "[flaml.automl: 08-22 21:24:47] {1515} INFO -  at 1.3s,\tbest my_xgb2's error=0.2254,\tbest my_xgb2's error=0.2254\n",
      "[flaml.automl: 08-22 21:24:47] {1358} INFO - iteration 28, current learner my_xgb1\n",
      "[flaml.automl: 08-22 21:24:47] {1515} INFO -  at 1.3s,\tbest my_xgb1's error=12.3445,\tbest my_xgb2's error=0.2254\n",
      "[flaml.automl: 08-22 21:24:47] {1358} INFO - iteration 29, current learner my_xgb1\n",
      "[flaml.automl: 08-22 21:24:47] {1515} INFO -  at 1.3s,\tbest my_xgb1's error=4.1558,\tbest my_xgb2's error=0.2254\n",
      "[flaml.automl: 08-22 21:24:47] {1358} INFO - iteration 30, current learner my_xgb1\n",
      "[flaml.automl: 08-22 21:24:47] {1515} INFO -  at 1.4s,\tbest my_xgb1's error=2.4948,\tbest my_xgb2's error=0.2254\n",
      "[flaml.automl: 08-22 21:24:47] {1358} INFO - iteration 31, current learner my_xgb2\n",
      "[flaml.automl: 08-22 21:24:47] {1515} INFO -  at 1.4s,\tbest my_xgb2's error=0.2254,\tbest my_xgb2's error=0.2254\n",
      "[flaml.automl: 08-22 21:24:47] {1358} INFO - iteration 32, current learner my_xgb1\n",
      "[flaml.automl: 08-22 21:24:47] {1515} INFO -  at 1.5s,\tbest my_xgb1's error=2.4948,\tbest my_xgb2's error=0.2254\n",
      "[flaml.automl: 08-22 21:24:47] {1358} INFO - iteration 33, current learner my_xgb1\n",
      "[flaml.automl: 08-22 21:24:47] {1515} INFO -  at 1.5s,\tbest my_xgb1's error=2.4948,\tbest my_xgb2's error=0.2254\n",
      "[flaml.automl: 08-22 21:24:47] {1358} INFO - iteration 34, current learner my_xgb2\n",
      "[flaml.automl: 08-22 21:24:47] {1515} INFO -  at 1.6s,\tbest my_xgb2's error=0.2254,\tbest my_xgb2's error=0.2254\n",
      "[flaml.automl: 08-22 21:24:47] {1358} INFO - iteration 35, current learner my_xgb1\n",
      "[flaml.automl: 08-22 21:24:47] {1515} INFO -  at 1.7s,\tbest my_xgb1's error=1.4151,\tbest my_xgb2's error=0.2254\n",
      "[flaml.automl: 08-22 21:24:47] {1358} INFO - iteration 36, current learner my_xgb2\n",
      "[flaml.automl: 08-22 21:24:47] {1515} INFO -  at 1.7s,\tbest my_xgb2's error=0.2254,\tbest my_xgb2's error=0.2254\n",
      "[flaml.automl: 08-22 21:24:47] {1358} INFO - iteration 37, current learner my_xgb1\n",
      "[flaml.automl: 08-22 21:24:47] {1515} INFO -  at 1.7s,\tbest my_xgb1's error=1.4151,\tbest my_xgb2's error=0.2254\n",
      "[flaml.automl: 08-22 21:24:47] {1358} INFO - iteration 38, current learner my_xgb2\n",
      "[flaml.automl: 08-22 21:24:48] {1515} INFO -  at 2.0s,\tbest my_xgb2's error=0.2254,\tbest my_xgb2's error=0.2254\n",
      "[flaml.automl: 08-22 21:24:48] {1358} INFO - iteration 39, current learner my_xgb2\n",
      "[flaml.automl: 08-22 21:24:48] {1515} INFO -  at 2.0s,\tbest my_xgb2's error=0.2254,\tbest my_xgb2's error=0.2254\n",
      "[flaml.automl: 08-22 21:24:48] {1358} INFO - iteration 40, current learner my_xgb1\n",
      "[flaml.automl: 08-22 21:24:48] {1515} INFO -  at 2.1s,\tbest my_xgb1's error=1.4151,\tbest my_xgb2's error=0.2254\n",
      "[flaml.automl: 08-22 21:24:48] {1358} INFO - iteration 41, current learner my_xgb2\n",
      "[flaml.automl: 08-22 21:24:48] {1515} INFO -  at 2.4s,\tbest my_xgb2's error=0.1900,\tbest my_xgb2's error=0.1900\n",
      "[flaml.automl: 08-22 21:24:48] {1358} INFO - iteration 42, current learner my_xgb2\n",
      "[flaml.automl: 08-22 21:24:48] {1515} INFO -  at 2.6s,\tbest my_xgb2's error=0.1900,\tbest my_xgb2's error=0.1900\n",
      "[flaml.automl: 08-22 21:24:48] {1358} INFO - iteration 43, current learner my_xgb2\n",
      "[flaml.automl: 08-22 21:24:48] {1515} INFO -  at 2.8s,\tbest my_xgb2's error=0.1900,\tbest my_xgb2's error=0.1900\n",
      "[flaml.automl: 08-22 21:24:48] {1358} INFO - iteration 44, current learner my_xgb1\n",
      "[flaml.automl: 08-22 21:24:49] {1515} INFO -  at 2.9s,\tbest my_xgb1's error=1.4151,\tbest my_xgb2's error=0.1900\n",
      "[flaml.automl: 08-22 21:24:49] {1358} INFO - iteration 45, current learner my_xgb2\n",
      "[flaml.automl: 08-22 21:24:49] {1515} INFO -  at 2.9s,\tbest my_xgb2's error=0.1900,\tbest my_xgb2's error=0.1900\n",
      "[flaml.automl: 08-22 21:24:49] {1358} INFO - iteration 46, current learner my_xgb1\n",
      "[flaml.automl: 08-22 21:24:49] {1515} INFO -  at 3.0s,\tbest my_xgb1's error=1.4151,\tbest my_xgb2's error=0.1900\n",
      "[flaml.automl: 08-22 21:24:49] {1358} INFO - iteration 47, current learner my_xgb1\n",
      "[flaml.automl: 08-22 21:24:49] {1515} INFO -  at 3.0s,\tbest my_xgb1's error=1.4151,\tbest my_xgb2's error=0.1900\n",
      "[flaml.automl: 08-22 21:24:49] {1358} INFO - iteration 48, current learner my_xgb2\n",
      "[flaml.automl: 08-22 21:24:49] {1515} INFO -  at 3.7s,\tbest my_xgb2's error=0.1900,\tbest my_xgb2's error=0.1900\n",
      "[flaml.automl: 08-22 21:24:49] {1358} INFO - iteration 49, current learner my_xgb1\n",
      "[flaml.automl: 08-22 21:24:49] {1515} INFO -  at 3.8s,\tbest my_xgb1's error=1.4151,\tbest my_xgb2's error=0.1900\n",
      "[flaml.automl: 08-22 21:24:49] {1358} INFO - iteration 50, current learner my_xgb1\n",
      "[flaml.automl: 08-22 21:24:50] {1515} INFO -  at 3.8s,\tbest my_xgb1's error=1.4151,\tbest my_xgb2's error=0.1900\n",
      "[flaml.automl: 08-22 21:24:50] {1358} INFO - iteration 51, current learner my_xgb1\n",
      "[flaml.automl: 08-22 21:24:50] {1515} INFO -  at 3.9s,\tbest my_xgb1's error=1.0011,\tbest my_xgb2's error=0.1900\n",
      "[flaml.automl: 08-22 21:24:50] {1358} INFO - iteration 52, current learner my_xgb1\n",
      "[flaml.automl: 08-22 21:24:50] {1515} INFO -  at 4.0s,\tbest my_xgb1's error=1.0011,\tbest my_xgb2's error=0.1900\n",
      "[flaml.automl: 08-22 21:24:50] {1358} INFO - iteration 53, current learner my_xgb2\n",
      "[flaml.automl: 08-22 21:24:50] {1515} INFO -  at 4.1s,\tbest my_xgb2's error=0.1900,\tbest my_xgb2's error=0.1900\n",
      "[flaml.automl: 08-22 21:24:50] {1358} INFO - iteration 54, current learner my_xgb1\n",
      "[flaml.automl: 08-22 21:24:50] {1515} INFO -  at 4.2s,\tbest my_xgb1's error=1.0011,\tbest my_xgb2's error=0.1900\n",
      "[flaml.automl: 08-22 21:24:50] {1358} INFO - iteration 55, current learner my_xgb1\n",
      "[flaml.automl: 08-22 21:24:50] {1515} INFO -  at 4.3s,\tbest my_xgb1's error=1.0011,\tbest my_xgb2's error=0.1900\n",
      "[flaml.automl: 08-22 21:24:50] {1358} INFO - iteration 56, current learner my_xgb2\n",
      "[flaml.automl: 08-22 21:24:51] {1515} INFO -  at 5.5s,\tbest my_xgb2's error=0.1865,\tbest my_xgb2's error=0.1865\n",
      "[flaml.automl: 08-22 21:24:51] {1358} INFO - iteration 57, current learner my_xgb1\n",
      "[flaml.automl: 08-22 21:24:52] {1515} INFO -  at 5.8s,\tbest my_xgb1's error=1.0011,\tbest my_xgb2's error=0.1865\n",
      "[flaml.automl: 08-22 21:24:52] {1358} INFO - iteration 58, current learner my_xgb2\n",
      "[flaml.automl: 08-22 21:24:52] {1515} INFO -  at 6.3s,\tbest my_xgb2's error=0.1790,\tbest my_xgb2's error=0.1790\n",
      "[flaml.automl: 08-22 21:24:52] {1358} INFO - iteration 59, current learner my_xgb2\n",
      "[flaml.automl: 08-22 21:24:53] {1515} INFO -  at 7.3s,\tbest my_xgb2's error=0.1790,\tbest my_xgb2's error=0.1790\n",
      "[flaml.automl: 08-22 21:24:53] {1358} INFO - iteration 60, current learner my_xgb2\n",
      "[flaml.automl: 08-22 21:24:53] {1515} INFO -  at 7.4s,\tbest my_xgb2's error=0.1790,\tbest my_xgb2's error=0.1790\n",
      "[flaml.automl: 08-22 21:24:53] {1358} INFO - iteration 61, current learner my_xgb2\n",
      "[flaml.automl: 08-22 21:24:56] {1515} INFO -  at 10.6s,\tbest my_xgb2's error=0.1707,\tbest my_xgb2's error=0.1707\n",
      "[flaml.automl: 08-22 21:24:56] {1358} INFO - iteration 62, current learner my_xgb1\n",
      "[flaml.automl: 08-22 21:24:56] {1515} INFO -  at 10.7s,\tbest my_xgb1's error=1.0011,\tbest my_xgb2's error=0.1707\n",
      "[flaml.automl: 08-22 21:24:56] {1358} INFO - iteration 63, current learner my_xgb1\n",
      "[flaml.automl: 08-22 21:24:57] {1515} INFO -  at 10.8s,\tbest my_xgb1's error=1.0011,\tbest my_xgb2's error=0.1707\n",
      "[flaml.automl: 08-22 21:24:57] {1358} INFO - iteration 64, current learner my_xgb2\n",
      "[flaml.automl: 08-22 21:24:58] {1515} INFO -  at 12.3s,\tbest my_xgb2's error=0.1707,\tbest my_xgb2's error=0.1707\n",
      "[flaml.automl: 08-22 21:24:58] {1358} INFO - iteration 65, current learner my_xgb1\n",
      "[flaml.automl: 08-22 21:24:58] {1515} INFO -  at 12.5s,\tbest my_xgb1's error=1.0011,\tbest my_xgb2's error=0.1707\n",
      "[flaml.automl: 08-22 21:24:58] {1358} INFO - iteration 66, current learner my_xgb1\n",
      "[flaml.automl: 08-22 21:24:58] {1515} INFO -  at 12.5s,\tbest my_xgb1's error=1.0011,\tbest my_xgb2's error=0.1707\n",
      "[flaml.automl: 08-22 21:24:58] {1358} INFO - iteration 67, current learner my_xgb2\n",
      "[flaml.automl: 08-22 21:25:02] {1515} INFO -  at 16.2s,\tbest my_xgb2's error=0.1707,\tbest my_xgb2's error=0.1707\n",
      "[flaml.automl: 08-22 21:25:02] {1358} INFO - iteration 68, current learner my_xgb2\n",
      "[flaml.automl: 08-22 21:25:06] {1515} INFO -  at 20.1s,\tbest my_xgb2's error=0.1699,\tbest my_xgb2's error=0.1699\n",
      "[flaml.automl: 08-22 21:25:06] {1358} INFO - iteration 69, current learner my_xgb1\n",
      "[flaml.automl: 08-22 21:25:06] {1515} INFO -  at 20.5s,\tbest my_xgb1's error=1.0011,\tbest my_xgb2's error=0.1699\n",
      "[flaml.automl: 08-22 21:25:06] {1358} INFO - iteration 70, current learner my_xgb2\n",
      "[flaml.automl: 08-22 21:25:11] {1515} INFO -  at 25.4s,\tbest my_xgb2's error=0.1685,\tbest my_xgb2's error=0.1685\n",
      "[flaml.automl: 08-22 21:25:11] {1358} INFO - iteration 71, current learner my_xgb1\n",
      "[flaml.automl: 08-22 21:25:11] {1515} INFO -  at 25.4s,\tbest my_xgb1's error=1.0011,\tbest my_xgb2's error=0.1685\n",
      "[flaml.automl: 08-22 21:25:11] {1358} INFO - iteration 72, current learner my_xgb1\n",
      "[flaml.automl: 08-22 21:25:11] {1515} INFO -  at 25.5s,\tbest my_xgb1's error=1.0011,\tbest my_xgb2's error=0.1685\n",
      "[flaml.automl: 08-22 21:25:11] {1358} INFO - iteration 73, current learner my_xgb1\n",
      "[flaml.automl: 08-22 21:25:11] {1515} INFO -  at 25.6s,\tbest my_xgb1's error=1.0011,\tbest my_xgb2's error=0.1685\n",
      "[flaml.automl: 08-22 21:25:11] {1358} INFO - iteration 74, current learner my_xgb1\n",
      "[flaml.automl: 08-22 21:25:11] {1515} INFO -  at 25.8s,\tbest my_xgb1's error=1.0011,\tbest my_xgb2's error=0.1685\n",
      "[flaml.automl: 08-22 21:25:11] {1358} INFO - iteration 75, current learner my_xgb1\n",
      "[flaml.automl: 08-22 21:25:12] {1515} INFO -  at 25.8s,\tbest my_xgb1's error=1.0011,\tbest my_xgb2's error=0.1685\n",
      "[flaml.automl: 08-22 21:25:12] {1358} INFO - iteration 76, current learner my_xgb1\n",
      "[flaml.automl: 08-22 21:25:12] {1515} INFO -  at 25.9s,\tbest my_xgb1's error=1.0011,\tbest my_xgb2's error=0.1685\n",
      "[flaml.automl: 08-22 21:25:12] {1358} INFO - iteration 77, current learner my_xgb1\n",
      "[flaml.automl: 08-22 21:25:12] {1515} INFO -  at 26.1s,\tbest my_xgb1's error=1.0011,\tbest my_xgb2's error=0.1685\n",
      "[flaml.automl: 08-22 21:25:12] {1358} INFO - iteration 78, current learner my_xgb1\n",
      "[flaml.automl: 08-22 21:25:12] {1515} INFO -  at 26.2s,\tbest my_xgb1's error=1.0011,\tbest my_xgb2's error=0.1685\n",
      "[flaml.automl: 08-22 21:25:12] {1358} INFO - iteration 79, current learner my_xgb1\n",
      "[flaml.automl: 08-22 21:25:12] {1515} INFO -  at 26.2s,\tbest my_xgb1's error=1.0011,\tbest my_xgb2's error=0.1685\n",
      "[flaml.automl: 08-22 21:25:12] {1358} INFO - iteration 80, current learner my_xgb1\n",
      "[flaml.automl: 08-22 21:25:12] {1515} INFO -  at 26.4s,\tbest my_xgb1's error=1.0011,\tbest my_xgb2's error=0.1685\n",
      "[flaml.automl: 08-22 21:25:12] {1358} INFO - iteration 81, current learner my_xgb1\n",
      "[flaml.automl: 08-22 21:25:12] {1515} INFO -  at 26.5s,\tbest my_xgb1's error=1.0011,\tbest my_xgb2's error=0.1685\n",
      "[flaml.automl: 08-22 21:25:12] {1358} INFO - iteration 82, current learner my_xgb1\n",
      "[flaml.automl: 08-22 21:25:12] {1515} INFO -  at 26.5s,\tbest my_xgb1's error=1.0011,\tbest my_xgb2's error=0.1685\n",
      "[flaml.automl: 08-22 21:25:12] {1358} INFO - iteration 83, current learner my_xgb1\n",
      "[flaml.automl: 08-22 21:25:12] {1515} INFO -  at 26.7s,\tbest my_xgb1's error=1.0011,\tbest my_xgb2's error=0.1685\n",
      "[flaml.automl: 08-22 21:25:12] {1358} INFO - iteration 84, current learner my_xgb1\n",
      "[flaml.automl: 08-22 21:25:13] {1515} INFO -  at 26.9s,\tbest my_xgb1's error=1.0011,\tbest my_xgb2's error=0.1685\n",
      "[flaml.automl: 08-22 21:25:13] {1358} INFO - iteration 85, current learner my_xgb1\n",
      "[flaml.automl: 08-22 21:25:13] {1515} INFO -  at 27.0s,\tbest my_xgb1's error=1.0011,\tbest my_xgb2's error=0.1685\n",
      "[flaml.automl: 08-22 21:25:13] {1358} INFO - iteration 86, current learner my_xgb1\n",
      "[flaml.automl: 08-22 21:25:13] {1515} INFO -  at 27.1s,\tbest my_xgb1's error=1.0011,\tbest my_xgb2's error=0.1685\n",
      "[flaml.automl: 08-22 21:25:13] {1358} INFO - iteration 87, current learner my_xgb1\n",
      "[flaml.automl: 08-22 21:25:13] {1515} INFO -  at 27.2s,\tbest my_xgb1's error=1.0011,\tbest my_xgb2's error=0.1685\n",
      "[flaml.automl: 08-22 21:25:13] {1358} INFO - iteration 88, current learner my_xgb1\n",
      "[flaml.automl: 08-22 21:25:13] {1515} INFO -  at 27.3s,\tbest my_xgb1's error=1.0011,\tbest my_xgb2's error=0.1685\n",
      "[flaml.automl: 08-22 21:25:13] {1358} INFO - iteration 89, current learner my_xgb1\n",
      "[flaml.automl: 08-22 21:25:13] {1515} INFO -  at 27.4s,\tbest my_xgb1's error=1.0011,\tbest my_xgb2's error=0.1685\n",
      "[flaml.automl: 08-22 21:25:13] {1358} INFO - iteration 90, current learner my_xgb1\n",
      "[flaml.automl: 08-22 21:25:13] {1515} INFO -  at 27.5s,\tbest my_xgb1's error=1.0011,\tbest my_xgb2's error=0.1685\n",
      "[flaml.automl: 08-22 21:25:13] {1358} INFO - iteration 91, current learner my_xgb1\n",
      "[flaml.automl: 08-22 21:25:13] {1515} INFO -  at 27.6s,\tbest my_xgb1's error=1.0011,\tbest my_xgb2's error=0.1685\n",
      "[flaml.automl: 08-22 21:25:13] {1358} INFO - iteration 92, current learner my_xgb1\n",
      "[flaml.automl: 08-22 21:25:13] {1515} INFO -  at 27.7s,\tbest my_xgb1's error=1.0011,\tbest my_xgb2's error=0.1685\n",
      "[flaml.automl: 08-22 21:25:13] {1358} INFO - iteration 93, current learner my_xgb1\n",
      "[flaml.automl: 08-22 21:25:13] {1515} INFO -  at 27.8s,\tbest my_xgb1's error=1.0011,\tbest my_xgb2's error=0.1685\n",
      "[flaml.automl: 08-22 21:25:13] {1358} INFO - iteration 94, current learner my_xgb1\n",
      "[flaml.automl: 08-22 21:25:14] {1515} INFO -  at 27.9s,\tbest my_xgb1's error=1.0011,\tbest my_xgb2's error=0.1685\n",
      "[flaml.automl: 08-22 21:25:14] {1358} INFO - iteration 95, current learner my_xgb1\n",
      "[flaml.automl: 08-22 21:25:14] {1515} INFO -  at 28.0s,\tbest my_xgb1's error=1.0011,\tbest my_xgb2's error=0.1685\n",
      "[flaml.automl: 08-22 21:25:14] {1358} INFO - iteration 96, current learner my_xgb1\n",
      "[flaml.automl: 08-22 21:25:14] {1515} INFO -  at 28.2s,\tbest my_xgb1's error=1.0011,\tbest my_xgb2's error=0.1685\n",
      "[flaml.automl: 08-22 21:25:14] {1358} INFO - iteration 97, current learner my_xgb1\n",
      "[flaml.automl: 08-22 21:25:14] {1515} INFO -  at 28.3s,\tbest my_xgb1's error=1.0011,\tbest my_xgb2's error=0.1685\n",
      "[flaml.automl: 08-22 21:25:14] {1358} INFO - iteration 98, current learner my_xgb1\n",
      "[flaml.automl: 08-22 21:25:14] {1515} INFO -  at 28.4s,\tbest my_xgb1's error=1.0011,\tbest my_xgb2's error=0.1685\n",
      "[flaml.automl: 08-22 21:25:14] {1358} INFO - iteration 99, current learner my_xgb1\n",
      "[flaml.automl: 08-22 21:25:14] {1515} INFO -  at 28.5s,\tbest my_xgb1's error=1.0011,\tbest my_xgb2's error=0.1685\n",
      "[flaml.automl: 08-22 21:25:14] {1358} INFO - iteration 100, current learner my_xgb1\n",
      "[flaml.automl: 08-22 21:25:14] {1515} INFO -  at 28.5s,\tbest my_xgb1's error=1.0011,\tbest my_xgb2's error=0.1685\n",
      "[flaml.automl: 08-22 21:25:14] {1358} INFO - iteration 101, current learner my_xgb1\n",
      "[flaml.automl: 08-22 21:25:14] {1515} INFO -  at 28.8s,\tbest my_xgb1's error=1.0011,\tbest my_xgb2's error=0.1685\n",
      "[flaml.automl: 08-22 21:25:14] {1358} INFO - iteration 102, current learner my_xgb1\n",
      "[flaml.automl: 08-22 21:25:15] {1515} INFO -  at 28.8s,\tbest my_xgb1's error=1.0011,\tbest my_xgb2's error=0.1685\n",
      "[flaml.automl: 08-22 21:25:15] {1358} INFO - iteration 103, current learner my_xgb1\n",
      "[flaml.automl: 08-22 21:25:15] {1515} INFO -  at 28.9s,\tbest my_xgb1's error=1.0011,\tbest my_xgb2's error=0.1685\n",
      "[flaml.automl: 08-22 21:25:15] {1358} INFO - iteration 104, current learner my_xgb1\n",
      "[flaml.automl: 08-22 21:25:15] {1515} INFO -  at 29.1s,\tbest my_xgb1's error=1.0011,\tbest my_xgb2's error=0.1685\n",
      "[flaml.automl: 08-22 21:25:15] {1358} INFO - iteration 105, current learner my_xgb1\n",
      "[flaml.automl: 08-22 21:25:15] {1515} INFO -  at 29.1s,\tbest my_xgb1's error=1.0011,\tbest my_xgb2's error=0.1685\n",
      "[flaml.automl: 08-22 21:25:15] {1358} INFO - iteration 106, current learner my_xgb1\n",
      "[flaml.automl: 08-22 21:25:15] {1515} INFO -  at 29.3s,\tbest my_xgb1's error=1.0011,\tbest my_xgb2's error=0.1685\n",
      "[flaml.automl: 08-22 21:25:15] {1358} INFO - iteration 107, current learner my_xgb1\n",
      "[flaml.automl: 08-22 21:25:15] {1515} INFO -  at 29.3s,\tbest my_xgb1's error=1.0011,\tbest my_xgb2's error=0.1685\n",
      "[flaml.automl: 08-22 21:25:15] {1358} INFO - iteration 108, current learner my_xgb1\n",
      "[flaml.automl: 08-22 21:25:15] {1515} INFO -  at 29.4s,\tbest my_xgb1's error=1.0011,\tbest my_xgb2's error=0.1685\n",
      "[flaml.automl: 08-22 21:25:15] {1358} INFO - iteration 109, current learner my_xgb1\n",
      "[flaml.automl: 08-22 21:25:15] {1515} INFO -  at 29.5s,\tbest my_xgb1's error=1.0011,\tbest my_xgb2's error=0.1685\n",
      "[flaml.automl: 08-22 21:25:15] {1358} INFO - iteration 110, current learner my_xgb1\n",
      "[flaml.automl: 08-22 21:25:15] {1515} INFO -  at 29.6s,\tbest my_xgb1's error=1.0011,\tbest my_xgb2's error=0.1685\n",
      "[flaml.automl: 08-22 21:25:15] {1358} INFO - iteration 111, current learner my_xgb1\n",
      "[flaml.automl: 08-22 21:25:15] {1515} INFO -  at 29.7s,\tbest my_xgb1's error=1.0011,\tbest my_xgb2's error=0.1685\n",
      "[flaml.automl: 08-22 21:25:15] {1358} INFO - iteration 112, current learner my_xgb1\n",
      "[flaml.automl: 08-22 21:25:16] {1515} INFO -  at 29.9s,\tbest my_xgb1's error=1.0011,\tbest my_xgb2's error=0.1685\n",
      "[flaml.automl: 08-22 21:25:16] {1358} INFO - iteration 113, current learner my_xgb1\n",
      "[flaml.automl: 08-22 21:25:16] {1515} INFO -  at 29.9s,\tbest my_xgb1's error=1.0011,\tbest my_xgb2's error=0.1685\n",
      "[flaml.automl: 08-22 21:25:16] {1592} INFO - selected model: <xgboost.core.Booster object at 0x7f9bd50f8df0>\n",
      "[flaml.automl: 08-22 21:25:20] {1633} INFO - retrain my_xgb2 for 4.5s\n",
      "[flaml.automl: 08-22 21:25:20] {1636} INFO - retrained model: <xgboost.core.Booster object at 0x7f9bd5e32a00>\n",
      "[flaml.automl: 08-22 21:25:20] {1199} INFO - fit succeeded\n",
      "[flaml.automl: 08-22 21:25:20] {1200} INFO - Time taken to find the best model: 25.375203132629395\n",
      "[flaml.automl: 08-22 21:25:20] {1205} WARNING - Time taken to find the best model is 85% of the provided time budget and not all estimators' hyperparameter search converged. Consider increasing the time budget.\n"
     ]
    }
   ],
   "metadata": {
    "tags": []
   }
  },
  {
   "cell_type": "code",
   "execution_count": 17,
   "source": [
    "print('Best hyperparmeter config:', automl.best_config)\n",
    "print('Best r2 on validation data: {0:.4g}'.format(1-automl.best_loss))\n",
    "print('Training duration of best run: {0:.4g} s'.format(automl.best_config_train_time))\n",
    "\n",
    "y_pred = automl.predict(X_test)\n",
    "print('Predicted labels', y_pred)\n",
    "print('True labels', y_test)\n",
    "\n",
    "from flaml.ml import sklearn_metric_loss_score\n",
    "print('r2', '=', 1 - sklearn_metric_loss_score('r2', y_pred, y_test))\n",
    "print('mse', '=', sklearn_metric_loss_score('mse', y_pred, y_test))\n",
    "print('mae', '=', sklearn_metric_loss_score('mae', y_pred, y_test))"
   ],
   "outputs": [
    {
     "output_type": "stream",
     "name": "stdout",
     "text": [
      "Best hyperparmeter config: {'n_estimators': 810, 'max_leaves': 148, 'min_child_weight': 30.65305732414229, 'learning_rate': 0.05793074143079172, 'subsample': 0.9452642648281835, 'colsample_bylevel': 0.8662229421401874, 'colsample_bytree': 0.7851677398738949, 'reg_alpha': 0.00738292823760415, 'reg_lambda': 1.2202619267865558}\n",
      "Best r2 on validation data: 0.8315\n",
      "Training duration of best run: 4.888 s\n",
      "Predicted labels [146309.06 253975.23 148795.17 ... 192561.88 182641.44 270495.53]\n",
      "True labels 14740    136900.0\n",
      "10101    241300.0\n",
      "20566    200700.0\n",
      "2670      72500.0\n",
      "15709    460000.0\n",
      "           ...   \n",
      "13132    121200.0\n",
      "8228     137500.0\n",
      "3948     160900.0\n",
      "8522     227300.0\n",
      "16798    265600.0\n",
      "Name: median_house_value, Length: 5160, dtype: float64\n",
      "r2 = 0.8483896546182459\n",
      "mse = 2004062342.1743872\n",
      "mae = 28633.257468053536\n"
     ]
    }
   ],
   "metadata": {
    "tags": []
   }
  },
  {
   "cell_type": "code",
   "execution_count": null,
   "source": [],
   "outputs": [],
   "metadata": {}
  }
 ],
 "metadata": {
  "kernelspec": {
   "name": "python3",
   "display_name": "Python 3.8.0 64-bit ('blend': conda)"
  },
  "language_info": {
   "codemirror_mode": {
    "name": "ipython",
    "version": 3
   },
   "file_extension": ".py",
   "mimetype": "text/x-python",
   "name": "python",
   "nbconvert_exporter": "python",
   "pygments_lexer": "ipython3",
   "version": "3.8.0"
  },
  "interpreter": {
   "hash": "0cfea3304185a9579d09e0953576b57c8581e46e6ebc6dfeb681bc5a511f7544"
  }
 },
 "nbformat": 4,
 "nbformat_minor": 2
}