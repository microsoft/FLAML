{
 "cells": [
  {
   "cell_type": "markdown",
   "metadata": {
    "slideshow": {
     "slide_type": "slide"
    }
   },
   "source": [
    "Copyright (c) Microsoft Corporation. All rights reserved. \n",
    "\n",
    "Licensed under the MIT License.\n",
    "\n",
    "# Tune XGBoost with FLAML Library\n",
    "\n",
    "\n",
    "## 1. Introduction\n",
    "\n",
    "FLAML is a Python library (https://github.com/microsoft/FLAML) designed to automatically produce accurate machine learning models \n",
    "with low computational cost. It is fast and cheap. The simple and lightweight design makes it easy \n",
    "to use and extend, such as adding new learners. FLAML can \n",
    "- serve as an economical AutoML engine,\n",
    "- be used as a fast hyperparameter tuning tool, or \n",
    "- be embedded in self-tuning software that requires low latency & resource in repetitive\n",
    "   tuning tasks.\n",
    "\n",
    "In this notebook, we demonstrate how to use FLAML library to tune hyperparameters of XGBoost with a regression example.\n",
    "\n",
    "FLAML requires `Python>=3.6`. To run this notebook example, please install flaml with the `notebook` option:\n",
    "```bash\n",
    "pip install flaml[notebook]\n",
    "```"
   ]
  },
  {
   "cell_type": "code",
   "execution_count": null,
   "metadata": {},
   "outputs": [],
   "source": [
    "!pip install flaml[notebook];"
   ]
  },
  {
   "cell_type": "markdown",
   "metadata": {
    "slideshow": {
     "slide_type": "slide"
    }
   },
   "source": [
    "## 2. Regression Example\n",
    "### Load data and preprocess\n",
    "\n",
    "Download [houses dataset](https://www.openml.org/d/537) from OpenML. The task is to predict median price of the house in the region based on demographic composition and a state of housing market in the region."
   ]
  },
  {
   "cell_type": "code",
   "execution_count": 1,
   "metadata": {
    "slideshow": {
     "slide_type": "subslide"
    },
    "tags": []
   },
   "outputs": [
    {
     "name": "stdout",
     "output_type": "stream",
     "text": [
      "load dataset from ./openml_ds537.pkl\n",
      "Dataset name: houses\n",
      "X_train.shape: (15480, 8), y_train.shape: (15480,);\n",
      "X_test.shape: (5160, 8), y_test.shape: (5160,)\n"
     ]
    }
   ],
   "source": [
    "from flaml.data import load_openml_dataset\n",
    "X_train, X_test, y_train, y_test = load_openml_dataset(dataset_id=537, data_dir='./')"
   ]
  },
  {
   "cell_type": "markdown",
   "metadata": {
    "slideshow": {
     "slide_type": "slide"
    }
   },
   "source": [
    "### Run FLAML\n",
    "In the FLAML automl run configuration, users can specify the task type, time budget, error metric, learner list, whether to subsample, resampling strategy type, and so on. All these arguments have default values which will be used if users do not provide them. "
   ]
  },
  {
   "cell_type": "code",
   "execution_count": 2,
   "metadata": {
    "slideshow": {
     "slide_type": "slide"
    }
   },
   "outputs": [],
   "source": [
    "''' import AutoML class from flaml package '''\n",
    "from flaml import AutoML\n",
    "automl = AutoML()"
   ]
  },
  {
   "cell_type": "code",
   "execution_count": 3,
   "metadata": {
    "slideshow": {
     "slide_type": "slide"
    }
   },
   "outputs": [],
   "source": [
    "settings = {\n",
    "    \"time_budget\": 120,  # total running time in seconds\n",
    "    \"metric\": 'r2',  # primary metrics for regression can be chosen from: ['mae','mse','r2']\n",
    "    \"estimator_list\": ['xgboost'],  # list of ML learners; we tune xgboost in this example\n",
    "    \"task\": 'regression',  # task type    \n",
    "    \"log_file_name\": 'houses_experiment.log',  # flaml log file\n",
    "}"
   ]
  },
  {
   "cell_type": "code",
   "execution_count": 4,
   "metadata": {
    "slideshow": {
     "slide_type": "slide"
    },
    "tags": []
   },
   "outputs": [
    {
     "name": "stderr",
     "output_type": "stream",
     "text": [
      "[flaml.automl: 11-23 01:28:26] {1861} INFO - task = regression\n",
      "[flaml.automl: 11-23 01:28:26] {1863} INFO - Data split method: uniform\n",
      "[flaml.automl: 11-23 01:28:26] {1867} INFO - Evaluation method: cv\n",
      "[flaml.automl: 11-23 01:28:26] {1933} INFO - Minimizing error metric: 1-r2\n",
      "[flaml.automl: 11-23 01:28:26] {1985} INFO - List of ML learners in AutoML Run: ['xgboost']\n",
      "[flaml.automl: 11-23 01:28:26] {2223} INFO - iteration 0, current learner xgboost\n",
      "[flaml.automl: 11-23 01:28:26] {2337} INFO - Estimated sufficient time budget=1362s. Estimated necessary time budget=1s.\n",
      "[flaml.automl: 11-23 01:28:26] {2417} INFO -  at 0.2s,\testimator xgboost's best error=2.1267,\tbest estimator xgboost's best error=2.1267\n",
      "[flaml.automl: 11-23 01:28:26] {2223} INFO - iteration 1, current learner xgboost\n",
      "[flaml.automl: 11-23 01:28:26] {2417} INFO -  at 0.3s,\testimator xgboost's best error=2.1267,\tbest estimator xgboost's best error=2.1267\n",
      "[flaml.automl: 11-23 01:28:26] {2223} INFO - iteration 2, current learner xgboost\n",
      "[flaml.automl: 11-23 01:28:26] {2417} INFO -  at 0.4s,\testimator xgboost's best error=0.8485,\tbest estimator xgboost's best error=0.8485\n",
      "[flaml.automl: 11-23 01:28:26] {2223} INFO - iteration 3, current learner xgboost\n",
      "[flaml.automl: 11-23 01:28:27] {2417} INFO -  at 0.5s,\testimator xgboost's best error=0.3799,\tbest estimator xgboost's best error=0.3799\n",
      "[flaml.automl: 11-23 01:28:27] {2223} INFO - iteration 4, current learner xgboost\n",
      "[flaml.automl: 11-23 01:28:27] {2417} INFO -  at 0.6s,\testimator xgboost's best error=0.3799,\tbest estimator xgboost's best error=0.3799\n",
      "[flaml.automl: 11-23 01:28:27] {2223} INFO - iteration 5, current learner xgboost\n",
      "[flaml.automl: 11-23 01:28:27] {2417} INFO -  at 0.8s,\testimator xgboost's best error=0.3799,\tbest estimator xgboost's best error=0.3799\n",
      "[flaml.automl: 11-23 01:28:27] {2223} INFO - iteration 6, current learner xgboost\n",
      "[flaml.automl: 11-23 01:28:27] {2417} INFO -  at 1.0s,\testimator xgboost's best error=0.2992,\tbest estimator xgboost's best error=0.2992\n",
      "[flaml.automl: 11-23 01:28:27] {2223} INFO - iteration 7, current learner xgboost\n",
      "[flaml.automl: 11-23 01:28:27] {2417} INFO -  at 1.2s,\testimator xgboost's best error=0.2992,\tbest estimator xgboost's best error=0.2992\n",
      "[flaml.automl: 11-23 01:28:27] {2223} INFO - iteration 8, current learner xgboost\n",
      "[flaml.automl: 11-23 01:28:27] {2417} INFO -  at 1.3s,\testimator xgboost's best error=0.2992,\tbest estimator xgboost's best error=0.2992\n",
      "[flaml.automl: 11-23 01:28:27] {2223} INFO - iteration 9, current learner xgboost\n",
      "[flaml.automl: 11-23 01:28:28] {2417} INFO -  at 1.5s,\testimator xgboost's best error=0.2513,\tbest estimator xgboost's best error=0.2513\n",
      "[flaml.automl: 11-23 01:28:28] {2223} INFO - iteration 10, current learner xgboost\n",
      "[flaml.automl: 11-23 01:28:28] {2417} INFO -  at 1.6s,\testimator xgboost's best error=0.2513,\tbest estimator xgboost's best error=0.2513\n",
      "[flaml.automl: 11-23 01:28:28] {2223} INFO - iteration 11, current learner xgboost\n",
      "[flaml.automl: 11-23 01:28:28] {2417} INFO -  at 1.8s,\testimator xgboost's best error=0.2513,\tbest estimator xgboost's best error=0.2513\n",
      "[flaml.automl: 11-23 01:28:28] {2223} INFO - iteration 12, current learner xgboost\n",
      "[flaml.automl: 11-23 01:28:28] {2417} INFO -  at 2.1s,\testimator xgboost's best error=0.2113,\tbest estimator xgboost's best error=0.2113\n",
      "[flaml.automl: 11-23 01:28:28] {2223} INFO - iteration 13, current learner xgboost\n",
      "[flaml.automl: 11-23 01:28:28] {2417} INFO -  at 2.3s,\testimator xgboost's best error=0.2113,\tbest estimator xgboost's best error=0.2113\n",
      "[flaml.automl: 11-23 01:28:28] {2223} INFO - iteration 14, current learner xgboost\n",
      "[flaml.automl: 11-23 01:28:29] {2417} INFO -  at 2.9s,\testimator xgboost's best error=0.2090,\tbest estimator xgboost's best error=0.2090\n",
      "[flaml.automl: 11-23 01:28:29] {2223} INFO - iteration 15, current learner xgboost\n",
      "[flaml.automl: 11-23 01:28:29] {2417} INFO -  at 3.4s,\testimator xgboost's best error=0.2090,\tbest estimator xgboost's best error=0.2090\n",
      "[flaml.automl: 11-23 01:28:29] {2223} INFO - iteration 16, current learner xgboost\n",
      "[flaml.automl: 11-23 01:28:31] {2417} INFO -  at 4.7s,\testimator xgboost's best error=0.1919,\tbest estimator xgboost's best error=0.1919\n",
      "[flaml.automl: 11-23 01:28:31] {2223} INFO - iteration 17, current learner xgboost\n",
      "[flaml.automl: 11-23 01:28:31] {2417} INFO -  at 5.1s,\testimator xgboost's best error=0.1919,\tbest estimator xgboost's best error=0.1919\n",
      "[flaml.automl: 11-23 01:28:31] {2223} INFO - iteration 18, current learner xgboost\n",
      "[flaml.automl: 11-23 01:28:34] {2417} INFO -  at 8.1s,\testimator xgboost's best error=0.1797,\tbest estimator xgboost's best error=0.1797\n",
      "[flaml.automl: 11-23 01:28:34] {2223} INFO - iteration 19, current learner xgboost\n",
      "[flaml.automl: 11-23 01:28:35] {2417} INFO -  at 8.8s,\testimator xgboost's best error=0.1797,\tbest estimator xgboost's best error=0.1797\n",
      "[flaml.automl: 11-23 01:28:35] {2223} INFO - iteration 20, current learner xgboost\n",
      "[flaml.automl: 11-23 01:29:03] {2417} INFO -  at 36.8s,\testimator xgboost's best error=0.1797,\tbest estimator xgboost's best error=0.1797\n",
      "[flaml.automl: 11-23 01:29:03] {2223} INFO - iteration 21, current learner xgboost\n",
      "[flaml.automl: 11-23 01:29:05] {2417} INFO -  at 38.9s,\testimator xgboost's best error=0.1797,\tbest estimator xgboost's best error=0.1797\n",
      "[flaml.automl: 11-23 01:29:05] {2223} INFO - iteration 22, current learner xgboost\n",
      "[flaml.automl: 11-23 01:29:11] {2417} INFO -  at 45.4s,\testimator xgboost's best error=0.1782,\tbest estimator xgboost's best error=0.1782\n",
      "[flaml.automl: 11-23 01:29:11] {2223} INFO - iteration 23, current learner xgboost\n",
      "[flaml.automl: 11-23 01:29:17] {2417} INFO -  at 51.2s,\testimator xgboost's best error=0.1782,\tbest estimator xgboost's best error=0.1782\n",
      "[flaml.automl: 11-23 01:29:17] {2223} INFO - iteration 24, current learner xgboost\n",
      "[flaml.automl: 11-23 01:29:25] {2417} INFO -  at 58.5s,\testimator xgboost's best error=0.1782,\tbest estimator xgboost's best error=0.1782\n",
      "[flaml.automl: 11-23 01:29:25] {2223} INFO - iteration 25, current learner xgboost\n",
      "[flaml.automl: 11-23 01:29:26] {2417} INFO -  at 59.8s,\testimator xgboost's best error=0.1782,\tbest estimator xgboost's best error=0.1782\n",
      "[flaml.automl: 11-23 01:29:26] {2223} INFO - iteration 26, current learner xgboost\n",
      "[flaml.automl: 11-23 01:30:13] {2417} INFO -  at 107.3s,\testimator xgboost's best error=0.1660,\tbest estimator xgboost's best error=0.1660\n",
      "[flaml.automl: 11-23 01:30:23] {2629} INFO - retrain xgboost for 9.5s\n",
      "[flaml.automl: 11-23 01:30:23] {2634} INFO - retrained model: XGBRegressor(base_score=0.5, booster='gbtree',\n",
      "             colsample_bylevel=0.5656764254642628, colsample_bynode=1,\n",
      "             colsample_bytree=0.7313266091895249, gamma=0, gpu_id=-1,\n",
      "             grow_policy='lossguide', importance_type='gain',\n",
      "             interaction_constraints='', learning_rate=0.034786853332414935,\n",
      "             max_delta_step=0, max_depth=0, max_leaves=160,\n",
      "             min_child_weight=32.57408640781376, missing=nan,\n",
      "             monotone_constraints='()', n_estimators=776, n_jobs=-1,\n",
      "             num_parallel_tree=1, random_state=0,\n",
      "             reg_alpha=0.005771390107656191, reg_lambda=1.49126672786588,\n",
      "             scale_pos_weight=1, subsample=0.9152991332236934,\n",
      "             tree_method='hist', use_label_encoder=False, validate_parameters=1,\n",
      "             verbosity=0)\n",
      "[flaml.automl: 11-23 01:30:23] {2014} INFO - fit succeeded\n",
      "[flaml.automl: 11-23 01:30:23] {2016} INFO - Time taken to find the best model: 107.32724642753601\n",
      "[flaml.automl: 11-23 01:30:23] {2030} WARNING - Time taken to find the best model is 89% of the provided time budget and not all estimators' hyperparameter search converged. Consider increasing the time budget.\n"
     ]
    }
   ],
   "source": [
    "'''The main flaml automl API'''\n",
    "automl.fit(X_train=X_train, y_train=y_train, **settings)"
   ]
  },
  {
   "cell_type": "markdown",
   "metadata": {
    "slideshow": {
     "slide_type": "slide"
    }
   },
   "source": [
    "### Best model and metric"
   ]
  },
  {
   "cell_type": "code",
   "execution_count": 5,
   "metadata": {
    "slideshow": {
     "slide_type": "slide"
    },
    "tags": []
   },
   "outputs": [
    {
     "name": "stdout",
     "output_type": "stream",
     "text": [
      "Best hyperparmeter config: {'n_estimators': 776, 'max_leaves': 160, 'min_child_weight': 32.57408640781376, 'learning_rate': 0.034786853332414935, 'subsample': 0.9152991332236934, 'colsample_bylevel': 0.5656764254642628, 'colsample_bytree': 0.7313266091895249, 'reg_alpha': 0.005771390107656191, 'reg_lambda': 1.49126672786588}\n",
      "Best r2 on validation data: 0.834\n",
      "Training duration of best run: 9.471 s\n"
     ]
    }
   ],
   "source": [
    "# retrieve best config\n",
    "print('Best hyperparmeter config:', automl.best_config)\n",
    "print('Best r2 on validation data: {0:.4g}'.format(1 - automl.best_loss))\n",
    "print('Training duration of best run: {0:.4g} s'.format(automl.best_config_train_time))"
   ]
  },
  {
   "cell_type": "code",
   "execution_count": 6,
   "metadata": {
    "slideshow": {
     "slide_type": "slide"
    }
   },
   "outputs": [
    {
     "data": {
      "text/plain": [
       "XGBRegressor(base_score=0.5, booster='gbtree',\n",
       "             colsample_bylevel=0.5656764254642628, colsample_bynode=1,\n",
       "             colsample_bytree=0.7313266091895249, gamma=0, gpu_id=-1,\n",
       "             grow_policy='lossguide', importance_type='gain',\n",
       "             interaction_constraints='', learning_rate=0.034786853332414935,\n",
       "             max_delta_step=0, max_depth=0, max_leaves=160,\n",
       "             min_child_weight=32.57408640781376, missing=nan,\n",
       "             monotone_constraints='()', n_estimators=776, n_jobs=-1,\n",
       "             num_parallel_tree=1, random_state=0,\n",
       "             reg_alpha=0.005771390107656191, reg_lambda=1.49126672786588,\n",
       "             scale_pos_weight=1, subsample=0.9152991332236934,\n",
       "             tree_method='hist', use_label_encoder=False, validate_parameters=1,\n",
       "             verbosity=0)"
      ]
     },
     "execution_count": 6,
     "metadata": {},
     "output_type": "execute_result"
    }
   ],
   "source": [
    "automl.model.estimator"
   ]
  },
  {
   "cell_type": "code",
   "execution_count": 7,
   "metadata": {},
   "outputs": [
    {
     "data": {
      "text/plain": [
       "<BarContainer object of 8 artists>"
      ]
     },
     "execution_count": 7,
     "metadata": {},
     "output_type": "execute_result"
    },
    {
     "data": {
      "image/png": "[encoded data removed]",
      "text/plain": [
       "<Figure size 432x288 with 1 Axes>"
      ]
     },
     "metadata": {
      "needs_background": "light"
     },
     "output_type": "display_data"
    }
   ],
   "source": [
    "# plot feature importance\n",
    "import matplotlib.pyplot as plt\n",
    "plt.barh(X_train.columns, automl.model.estimator.feature_importances_)"
   ]
  },
  {
   "cell_type": "code",
   "execution_count": 8,
   "metadata": {
    "slideshow": {
     "slide_type": "slide"
    }
   },
   "outputs": [],
   "source": [
    "# pickle and save the automl object\n",
    "import pickle\n",
    "with open('automl.pkl', 'wb') as f:\n",
    "    pickle.dump(automl, f, pickle.HIGHEST_PROTOCOL)"
   ]
  },
  {
   "cell_type": "code",
   "execution_count": 9,
   "metadata": {
    "slideshow": {
     "slide_type": "slide"
    },
    "tags": []
   },
   "outputs": [
    {
     "name": "stdout",
     "output_type": "stream",
     "text": [
      "Predicted labels [137582.95 255519.23 139866.06 ... 185638.95 202493.78 269308.22]\n",
      "True labels 14740    136900.0\n",
      "10101    241300.0\n",
      "20566    200700.0\n",
      "2670      72500.0\n",
      "15709    460000.0\n",
      "           ...   \n",
      "13132    121200.0\n",
      "8228     137500.0\n",
      "3948     160900.0\n",
      "8522     227300.0\n",
      "16798    265600.0\n",
      "Name: median_house_value, Length: 5160, dtype: float64\n"
     ]
    }
   ],
   "source": [
    "# compute predictions of testing dataset\n",
    "y_pred = automl.predict(X_test)\n",
    "print('Predicted labels', y_pred)\n",
    "print('True labels', y_test)"
   ]
  },
  {
   "cell_type": "code",
   "execution_count": 10,
   "metadata": {
    "slideshow": {
     "slide_type": "slide"
    },
    "tags": []
   },
   "outputs": [
    {
     "name": "stdout",
     "output_type": "stream",
     "text": [
      "r2 = 0.8439648010782455\n",
      "mse = 2062552297.637671\n",
      "mae = 30303.196010098716\n"
     ]
    }
   ],
   "source": [
    "# compute different metric values on testing dataset\n",
    "from flaml.ml import sklearn_metric_loss_score\n",
    "print('r2', '=', 1 - sklearn_metric_loss_score('r2', y_pred, y_test))\n",
    "print('mse', '=', sklearn_metric_loss_score('mse', y_pred, y_test))\n",
    "print('mae', '=', sklearn_metric_loss_score('mae', y_pred, y_test))"
   ]
  },
  {
   "cell_type": "code",
   "execution_count": 11,
   "metadata": {
    "slideshow": {
     "slide_type": "subslide"
    },
    "tags": []
   },
   "outputs": [
    {
     "name": "stdout",
     "output_type": "stream",
     "text": [
      "{'Current Learner': 'xgboost', 'Current Sample': 15480, 'Current Hyper-parameters': {'n_estimators': 4, 'max_leaves': 4, 'min_child_weight': 0.9999999999999993, 'learning_rate': 0.09999999999999995, 'subsample': 1.0, 'colsample_bylevel': 1.0, 'colsample_bytree': 1.0, 'reg_alpha': 0.0009765625, 'reg_lambda': 1.0}, 'Best Learner': 'xgboost', 'Best Hyper-parameters': {'n_estimators': 4, 'max_leaves': 4, 'min_child_weight': 0.9999999999999993, 'learning_rate': 0.09999999999999995, 'subsample': 1.0, 'colsample_bylevel': 1.0, 'colsample_bytree': 1.0, 'reg_alpha': 0.0009765625, 'reg_lambda': 1.0}}\n",
      "{'Current Learner': 'xgboost', 'Current Sample': 15480, 'Current Hyper-parameters': {'n_estimators': 4, 'max_leaves': 4, 'min_child_weight': 0.26208115308159446, 'learning_rate': 0.25912534572860485, 'subsample': 0.9266743941610592, 'colsample_bylevel': 1.0, 'colsample_bytree': 1.0, 'reg_alpha': 0.0013933617380144255, 'reg_lambda': 0.18096917948292954}, 'Best Learner': 'xgboost', 'Best Hyper-parameters': {'n_estimators': 4, 'max_leaves': 4, 'min_child_weight': 0.26208115308159446, 'learning_rate': 0.25912534572860485, 'subsample': 0.9266743941610592, 'colsample_bylevel': 1.0, 'colsample_bytree': 1.0, 'reg_alpha': 0.0013933617380144255, 'reg_lambda': 0.18096917948292954}}\n",
      "{'Current Learner': 'xgboost', 'Current Sample': 15480, 'Current Hyper-parameters': {'n_estimators': 4, 'max_leaves': 4, 'min_child_weight': 1.8630223791106992, 'learning_rate': 1.0, 'subsample': 0.8513627344387318, 'colsample_bylevel': 1.0, 'colsample_bytree': 0.946138073111236, 'reg_alpha': 0.0018311776973217073, 'reg_lambda': 0.27901659190538414}, 'Best Learner': 'xgboost', 'Best Hyper-parameters': {'n_estimators': 4, 'max_leaves': 4, 'min_child_weight': 1.8630223791106992, 'learning_rate': 1.0, 'subsample': 0.8513627344387318, 'colsample_bylevel': 1.0, 'colsample_bytree': 0.946138073111236, 'reg_alpha': 0.0018311776973217073, 'reg_lambda': 0.27901659190538414}}\n",
      "{'Current Learner': 'xgboost', 'Current Sample': 15480, 'Current Hyper-parameters': {'n_estimators': 11, 'max_leaves': 4, 'min_child_weight': 5.909231502320296, 'learning_rate': 1.0, 'subsample': 0.8894434216129232, 'colsample_bylevel': 1.0, 'colsample_bytree': 1.0, 'reg_alpha': 0.0013605736901132325, 'reg_lambda': 0.1222158118565165}, 'Best Learner': 'xgboost', 'Best Hyper-parameters': {'n_estimators': 11, 'max_leaves': 4, 'min_child_weight': 5.909231502320296, 'learning_rate': 1.0, 'subsample': 0.8894434216129232, 'colsample_bylevel': 1.0, 'colsample_bytree': 1.0, 'reg_alpha': 0.0013605736901132325, 'reg_lambda': 0.1222158118565165}}\n",
      "{'Current Learner': 'xgboost', 'Current Sample': 15480, 'Current Hyper-parameters': {'n_estimators': 11, 'max_leaves': 11, 'min_child_weight': 8.517629386811171, 'learning_rate': 1.0, 'subsample': 0.9233328006239466, 'colsample_bylevel': 1.0, 'colsample_bytree': 0.9468117873770695, 'reg_alpha': 0.034996420228767956, 'reg_lambda': 0.6169079461473824}, 'Best Learner': 'xgboost', 'Best Hyper-parameters': {'n_estimators': 11, 'max_leaves': 11, 'min_child_weight': 8.517629386811171, 'learning_rate': 1.0, 'subsample': 0.9233328006239466, 'colsample_bylevel': 1.0, 'colsample_bytree': 0.9468117873770695, 'reg_alpha': 0.034996420228767956, 'reg_lambda': 0.6169079461473824}}\n",
      "{'Current Learner': 'xgboost', 'Current Sample': 15480, 'Current Hyper-parameters': {'n_estimators': 20, 'max_leaves': 15, 'min_child_weight': 43.62419686983011, 'learning_rate': 0.6413547778096401, 'subsample': 1.0, 'colsample_bylevel': 1.0, 'colsample_bytree': 0.8481188761562112, 'reg_alpha': 0.01241885232679939, 'reg_lambda': 0.21352682817916668}, 'Best Learner': 'xgboost', 'Best Hyper-parameters': {'n_estimators': 20, 'max_leaves': 15, 'min_child_weight': 43.62419686983011, 'learning_rate': 0.6413547778096401, 'subsample': 1.0, 'colsample_bylevel': 1.0, 'colsample_bytree': 0.8481188761562112, 'reg_alpha': 0.01241885232679939, 'reg_lambda': 0.21352682817916668}}\n",
      "{'Current Learner': 'xgboost', 'Current Sample': 15480, 'Current Hyper-parameters': {'n_estimators': 58, 'max_leaves': 8, 'min_child_weight': 51.84874392377357, 'learning_rate': 0.23511987355535005, 'subsample': 1.0, 'colsample_bylevel': 0.8182737361783602, 'colsample_bytree': 0.8031986460435498, 'reg_alpha': 0.00400039941928546, 'reg_lambda': 0.38702529681004805}, 'Best Learner': 'xgboost', 'Best Hyper-parameters': {'n_estimators': 58, 'max_leaves': 8, 'min_child_weight': 51.84874392377357, 'learning_rate': 0.23511987355535005, 'subsample': 1.0, 'colsample_bylevel': 0.8182737361783602, 'colsample_bytree': 0.8031986460435498, 'reg_alpha': 0.00400039941928546, 'reg_lambda': 0.38702529681004805}}\n",
      "{'Current Learner': 'xgboost', 'Current Sample': 15480, 'Current Hyper-parameters': {'n_estimators': 101, 'max_leaves': 14, 'min_child_weight': 7.444058088783035, 'learning_rate': 0.39220715578198356, 'subsample': 1.0, 'colsample_bylevel': 0.6274332478496758, 'colsample_bytree': 0.7190251742957809, 'reg_alpha': 0.007212902167942765, 'reg_lambda': 0.20172056689658188}, 'Best Learner': 'xgboost', 'Best Hyper-parameters': {'n_estimators': 101, 'max_leaves': 14, 'min_child_weight': 7.444058088783035, 'learning_rate': 0.39220715578198356, 'subsample': 1.0, 'colsample_bylevel': 0.6274332478496758, 'colsample_bytree': 0.7190251742957809, 'reg_alpha': 0.007212902167942765, 'reg_lambda': 0.20172056689658188}}\n",
      "{'Current Learner': 'xgboost', 'Current Sample': 15480, 'Current Hyper-parameters': {'n_estimators': 205, 'max_leaves': 30, 'min_child_weight': 5.450621032615097, 'learning_rate': 0.12229148765139466, 'subsample': 0.8895588746662894, 'colsample_bylevel': 0.47518959001130784, 'colsample_bytree': 0.6845612830806885, 'reg_alpha': 0.01126059820390593, 'reg_lambda': 0.08170816686602457}, 'Best Learner': 'xgboost', 'Best Hyper-parameters': {'n_estimators': 205, 'max_leaves': 30, 'min_child_weight': 5.450621032615097, 'learning_rate': 0.12229148765139466, 'subsample': 0.8895588746662894, 'colsample_bylevel': 0.47518959001130784, 'colsample_bytree': 0.6845612830806885, 'reg_alpha': 0.01126059820390593, 'reg_lambda': 0.08170816686602457}}\n",
      "{'Current Learner': 'xgboost', 'Current Sample': 15480, 'Current Hyper-parameters': {'n_estimators': 222, 'max_leaves': 62, 'min_child_weight': 7.5054716192185795, 'learning_rate': 0.04623175582706435, 'subsample': 0.8756054034199897, 'colsample_bylevel': 0.44768367042684304, 'colsample_bytree': 0.7352307811741962, 'reg_alpha': 0.0009765625, 'reg_lambda': 0.6207832675443773}, 'Best Learner': 'xgboost', 'Best Hyper-parameters': {'n_estimators': 222, 'max_leaves': 62, 'min_child_weight': 7.5054716192185795, 'learning_rate': 0.04623175582706435, 'subsample': 0.8756054034199897, 'colsample_bylevel': 0.44768367042684304, 'colsample_bytree': 0.7352307811741962, 'reg_alpha': 0.0009765625, 'reg_lambda': 0.6207832675443773}}\n"
     ]
    }
   ],
   "source": [
    "from flaml.data import get_output_from_log\n",
    "time_history, best_valid_loss_history, valid_loss_history, config_history, metric_history = \\\n",
    "    get_output_from_log(filename=settings['log_file_name'], time_budget=60)\n",
    "\n",
    "for config in config_history:\n",
    "    print(config)"
   ]
  },
  {
   "cell_type": "code",
   "execution_count": 12,
   "metadata": {
    "slideshow": {
     "slide_type": "slide"
    }
   },
   "outputs": [
    {
     "data": {
      "image/png": "[encoded data removed]",
      "text/plain": [
       "<Figure size 432x288 with 1 Axes>"
      ]
     },
     "metadata": {
      "needs_background": "light"
     },
     "output_type": "display_data"
    }
   ],
   "source": [
    "import matplotlib.pyplot as plt\n",
    "import numpy as np\n",
    "\n",
    "plt.title('Learning Curve')\n",
    "plt.xlabel('Wall Clock Time (s)')\n",
    "plt.ylabel('Validation r2')\n",
    "plt.scatter(time_history, 1 - np.array(valid_loss_history))\n",
    "plt.step(time_history, 1 - np.array(best_valid_loss_history), where='post')\n",
    "plt.show()"
   ]
  },
  {
   "cell_type": "markdown",
   "metadata": {},
   "source": [
    "## 3. Comparison with untuned XGBoost\n",
    "\n",
    "### FLAML's accuracy"
   ]
  },
  {
   "cell_type": "code",
   "execution_count": 13,
   "metadata": {
    "tags": []
   },
   "outputs": [
    {
     "name": "stdout",
     "output_type": "stream",
     "text": [
      "flaml (120s) r2 = 0.8439648010782455\n"
     ]
    }
   ],
   "source": [
    "print('flaml (120s) r2', '=', 1 - sklearn_metric_loss_score('r2', y_pred, y_test))"
   ]
  },
  {
   "cell_type": "markdown",
   "metadata": {},
   "source": [
    "### Default XGBoost"
   ]
  },
  {
   "cell_type": "code",
   "execution_count": 14,
   "metadata": {},
   "outputs": [],
   "source": [
    "from xgboost import XGBRegressor\n",
    "xgb = XGBRegressor()"
   ]
  },
  {
   "cell_type": "code",
   "execution_count": 15,
   "metadata": {},
   "outputs": [
    {
     "data": {
      "text/plain": [
       "XGBRegressor(base_score=0.5, booster='gbtree', colsample_bylevel=1,\n",
       "             colsample_bynode=1, colsample_bytree=1, gamma=0, gpu_id=-1,\n",
       "             importance_type='gain', interaction_constraints='',\n",
       "             learning_rate=0.300000012, max_delta_step=0, max_depth=6,\n",
       "             min_child_weight=1, missing=nan, monotone_constraints='()',\n",
       "             n_estimators=100, n_jobs=32, num_parallel_tree=1, random_state=0,\n",
       "             reg_alpha=0, reg_lambda=1, scale_pos_weight=1, subsample=1,\n",
       "             tree_method='exact', validate_parameters=1, verbosity=None)"
      ]
     },
     "execution_count": 15,
     "metadata": {},
     "output_type": "execute_result"
    }
   ],
   "source": [
    "xgb.fit(X_train, y_train)"
   ]
  },
  {
   "cell_type": "code",
   "execution_count": 16,
   "metadata": {
    "tags": []
   },
   "outputs": [
    {
     "name": "stdout",
     "output_type": "stream",
     "text": [
      "default xgboost r2 = 0.8265451174596482\n"
     ]
    }
   ],
   "source": [
    "y_pred = xgb.predict(X_test)\n",
    "from flaml.ml import sklearn_metric_loss_score\n",
    "print('default xgboost r2', '=', 1 - sklearn_metric_loss_score('r2', y_pred, y_test))"
   ]
  },
  {
   "cell_type": "markdown",
   "metadata": {},
   "source": [
    "## 4. Add customized XGBoost learners in FLAML\n",
    "You can easily enable a custom objective function by adding a customized XGBoost learner (inherit XGBoostEstimator or XGBoostSklearnEstimator) in FLAML. In the following example, we show how to add such a customized XGBoost learner with a custom objective function. "
   ]
  },
  {
   "cell_type": "code",
   "execution_count": 17,
   "metadata": {
    "tags": []
   },
   "outputs": [
    {
     "name": "stderr",
     "output_type": "stream",
     "text": [
      "[flaml.automl: 11-23 01:30:27] {1861} INFO - task = regression\n",
      "[flaml.automl: 11-23 01:30:27] {1863} INFO - Data split method: uniform\n",
      "[flaml.automl: 11-23 01:30:27] {1867} INFO - Evaluation method: holdout\n",
      "[flaml.automl: 11-23 01:30:27] {1933} INFO - Minimizing error metric: 1-r2\n",
      "[flaml.automl: 11-23 01:30:27] {1985} INFO - List of ML learners in AutoML Run: ['my_xgb1', 'my_xgb2']\n",
      "[flaml.automl: 11-23 01:30:27] {2223} INFO - iteration 0, current learner my_xgb1\n",
      "[flaml.automl: 11-23 01:30:27] {2337} INFO - Estimated sufficient time budget=341s. Estimated necessary time budget=0s.\n",
      "[flaml.automl: 11-23 01:30:27] {2417} INFO -  at 0.1s,\testimator my_xgb1's best error=1.7590,\tbest estimator my_xgb1's best error=1.7590\n",
      "[flaml.automl: 11-23 01:30:27] {2223} INFO - iteration 1, current learner my_xgb1\n",
      "[flaml.automl: 11-23 01:30:27] {2417} INFO -  at 0.1s,\testimator my_xgb1's best error=0.7534,\tbest estimator my_xgb1's best error=0.7534\n",
      "[flaml.automl: 11-23 01:30:27] {2223} INFO - iteration 2, current learner my_xgb1\n",
      "[flaml.automl: 11-23 01:30:27] {2417} INFO -  at 0.1s,\testimator my_xgb1's best error=0.7534,\tbest estimator my_xgb1's best error=0.7534\n",
      "[flaml.automl: 11-23 01:30:27] {2223} INFO - iteration 3, current learner my_xgb1\n",
      "[flaml.automl: 11-23 01:30:27] {2417} INFO -  at 0.1s,\testimator my_xgb1's best error=0.7534,\tbest estimator my_xgb1's best error=0.7534\n",
      "[flaml.automl: 11-23 01:30:27] {2223} INFO - iteration 4, current learner my_xgb2\n",
      "[flaml.automl: 11-23 01:30:27] {2417} INFO -  at 0.2s,\testimator my_xgb2's best error=4.1611,\tbest estimator my_xgb1's best error=0.7534\n",
      "[flaml.automl: 11-23 01:30:27] {2223} INFO - iteration 5, current learner my_xgb1\n",
      "[flaml.automl: 11-23 01:30:27] {2417} INFO -  at 0.2s,\testimator my_xgb1's best error=0.7534,\tbest estimator my_xgb1's best error=0.7534\n",
      "[flaml.automl: 11-23 01:30:27] {2223} INFO - iteration 6, current learner my_xgb1\n",
      "[flaml.automl: 11-23 01:30:27] {2417} INFO -  at 0.2s,\testimator my_xgb1's best error=0.7534,\tbest estimator my_xgb1's best error=0.7534\n",
      "[flaml.automl: 11-23 01:30:27] {2223} INFO - iteration 7, current learner my_xgb1\n",
      "[flaml.automl: 11-23 01:30:27] {2417} INFO -  at 0.2s,\testimator my_xgb1's best error=0.7534,\tbest estimator my_xgb1's best error=0.7534\n",
      "[flaml.automl: 11-23 01:30:27] {2223} INFO - iteration 8, current learner my_xgb1\n",
      "[flaml.automl: 11-23 01:30:27] {2417} INFO -  at 0.3s,\testimator my_xgb1's best error=0.4908,\tbest estimator my_xgb1's best error=0.4908\n",
      "[flaml.automl: 11-23 01:30:27] {2223} INFO - iteration 9, current learner my_xgb2\n",
      "[flaml.automl: 11-23 01:30:27] {2417} INFO -  at 0.3s,\testimator my_xgb2's best error=4.1611,\tbest estimator my_xgb1's best error=0.4908\n",
      "[flaml.automl: 11-23 01:30:27] {2223} INFO - iteration 10, current learner my_xgb1\n",
      "[flaml.automl: 11-23 01:30:27] {2417} INFO -  at 0.3s,\testimator my_xgb1's best error=0.4908,\tbest estimator my_xgb1's best error=0.4908\n",
      "[flaml.automl: 11-23 01:30:27] {2223} INFO - iteration 11, current learner my_xgb1\n",
      "[flaml.automl: 11-23 01:30:27] {2417} INFO -  at 0.4s,\testimator my_xgb1's best error=0.4908,\tbest estimator my_xgb1's best error=0.4908\n",
      "[flaml.automl: 11-23 01:30:27] {2223} INFO - iteration 12, current learner my_xgb1\n",
      "[flaml.automl: 11-23 01:30:27] {2417} INFO -  at 0.4s,\testimator my_xgb1's best error=0.4908,\tbest estimator my_xgb1's best error=0.4908\n",
      "[flaml.automl: 11-23 01:30:27] {2223} INFO - iteration 13, current learner my_xgb1\n",
      "[flaml.automl: 11-23 01:30:27] {2417} INFO -  at 0.4s,\testimator my_xgb1's best error=0.4908,\tbest estimator my_xgb1's best error=0.4908\n",
      "[flaml.automl: 11-23 01:30:27] {2223} INFO - iteration 14, current learner my_xgb1\n",
      "[flaml.automl: 11-23 01:30:27] {2417} INFO -  at 0.5s,\testimator my_xgb1's best error=0.4908,\tbest estimator my_xgb1's best error=0.4908\n",
      "[flaml.automl: 11-23 01:30:27] {2223} INFO - iteration 15, current learner my_xgb1\n",
      "[flaml.automl: 11-23 01:30:27] {2417} INFO -  at 0.5s,\testimator my_xgb1's best error=0.4908,\tbest estimator my_xgb1's best error=0.4908\n",
      "[flaml.automl: 11-23 01:30:27] {2223} INFO - iteration 16, current learner my_xgb1\n",
      "[flaml.automl: 11-23 01:30:27] {2417} INFO -  at 0.5s,\testimator my_xgb1's best error=0.4908,\tbest estimator my_xgb1's best error=0.4908\n",
      "[flaml.automl: 11-23 01:30:27] {2223} INFO - iteration 17, current learner my_xgb1\n",
      "[flaml.automl: 11-23 01:30:27] {2417} INFO -  at 0.6s,\testimator my_xgb1's best error=0.4908,\tbest estimator my_xgb1's best error=0.4908\n",
      "[flaml.automl: 11-23 01:30:27] {2223} INFO - iteration 18, current learner my_xgb1\n",
      "[flaml.automl: 11-23 01:30:27] {2417} INFO -  at 0.6s,\testimator my_xgb1's best error=0.4908,\tbest estimator my_xgb1's best error=0.4908\n",
      "[flaml.automl: 11-23 01:30:27] {2223} INFO - iteration 19, current learner my_xgb1\n",
      "[flaml.automl: 11-23 01:30:27] {2417} INFO -  at 0.6s,\testimator my_xgb1's best error=0.4908,\tbest estimator my_xgb1's best error=0.4908\n",
      "[flaml.automl: 11-23 01:30:27] {2223} INFO - iteration 20, current learner my_xgb1\n",
      "[flaml.automl: 11-23 01:30:27] {2417} INFO -  at 0.7s,\testimator my_xgb1's best error=0.4908,\tbest estimator my_xgb1's best error=0.4908\n",
      "[flaml.automl: 11-23 01:30:27] {2223} INFO - iteration 21, current learner my_xgb1\n",
      "[flaml.automl: 11-23 01:30:27] {2417} INFO -  at 0.7s,\testimator my_xgb1's best error=0.4908,\tbest estimator my_xgb1's best error=0.4908\n",
      "[flaml.automl: 11-23 01:30:27] {2223} INFO - iteration 22, current learner my_xgb1\n",
      "[flaml.automl: 11-23 01:30:27] {2417} INFO -  at 0.8s,\testimator my_xgb1's best error=0.4908,\tbest estimator my_xgb1's best error=0.4908\n",
      "[flaml.automl: 11-23 01:30:27] {2223} INFO - iteration 23, current learner my_xgb1\n",
      "[flaml.automl: 11-23 01:30:27] {2417} INFO -  at 0.8s,\testimator my_xgb1's best error=0.4908,\tbest estimator my_xgb1's best error=0.4908\n",
      "[flaml.automl: 11-23 01:30:27] {2223} INFO - iteration 24, current learner my_xgb1\n",
      "[flaml.automl: 11-23 01:30:27] {2417} INFO -  at 0.8s,\testimator my_xgb1's best error=0.4908,\tbest estimator my_xgb1's best error=0.4908\n",
      "[flaml.automl: 11-23 01:30:27] {2223} INFO - iteration 25, current learner my_xgb1\n",
      "[flaml.automl: 11-23 01:30:27] {2417} INFO -  at 0.9s,\testimator my_xgb1's best error=0.4842,\tbest estimator my_xgb1's best error=0.4842\n",
      "[flaml.automl: 11-23 01:30:27] {2223} INFO - iteration 26, current learner my_xgb1\n",
      "[flaml.automl: 11-23 01:30:28] {2417} INFO -  at 0.9s,\testimator my_xgb1's best error=0.4842,\tbest estimator my_xgb1's best error=0.4842\n",
      "[flaml.automl: 11-23 01:30:28] {2223} INFO - iteration 27, current learner my_xgb1\n",
      "[flaml.automl: 11-23 01:30:28] {2417} INFO -  at 1.0s,\testimator my_xgb1's best error=0.4842,\tbest estimator my_xgb1's best error=0.4842\n",
      "[flaml.automl: 11-23 01:30:28] {2223} INFO - iteration 28, current learner my_xgb1\n",
      "[flaml.automl: 11-23 01:30:28] {2417} INFO -  at 1.0s,\testimator my_xgb1's best error=0.4842,\tbest estimator my_xgb1's best error=0.4842\n",
      "[flaml.automl: 11-23 01:30:28] {2223} INFO - iteration 29, current learner my_xgb1\n",
      "[flaml.automl: 11-23 01:30:28] {2417} INFO -  at 1.0s,\testimator my_xgb1's best error=0.4842,\tbest estimator my_xgb1's best error=0.4842\n",
      "[flaml.automl: 11-23 01:30:28] {2223} INFO - iteration 30, current learner my_xgb1\n",
      "[flaml.automl: 11-23 01:30:28] {2417} INFO -  at 1.1s,\testimator my_xgb1's best error=0.4842,\tbest estimator my_xgb1's best error=0.4842\n",
      "[flaml.automl: 11-23 01:30:28] {2223} INFO - iteration 31, current learner my_xgb1\n",
      "[flaml.automl: 11-23 01:30:28] {2417} INFO -  at 1.2s,\testimator my_xgb1's best error=0.4842,\tbest estimator my_xgb1's best error=0.4842\n",
      "[flaml.automl: 11-23 01:30:28] {2223} INFO - iteration 32, current learner my_xgb1\n",
      "[flaml.automl: 11-23 01:30:28] {2417} INFO -  at 1.2s,\testimator my_xgb1's best error=0.4842,\tbest estimator my_xgb1's best error=0.4842\n",
      "[flaml.automl: 11-23 01:30:28] {2223} INFO - iteration 33, current learner my_xgb1\n",
      "[flaml.automl: 11-23 01:30:28] {2417} INFO -  at 1.3s,\testimator my_xgb1's best error=0.4836,\tbest estimator my_xgb1's best error=0.4836\n",
      "[flaml.automl: 11-23 01:30:28] {2223} INFO - iteration 34, current learner my_xgb1\n",
      "[flaml.automl: 11-23 01:30:28] {2417} INFO -  at 1.3s,\testimator my_xgb1's best error=0.4836,\tbest estimator my_xgb1's best error=0.4836\n",
      "[flaml.automl: 11-23 01:30:28] {2223} INFO - iteration 35, current learner my_xgb1\n",
      "[flaml.automl: 11-23 01:30:28] {2417} INFO -  at 1.3s,\testimator my_xgb1's best error=0.4836,\tbest estimator my_xgb1's best error=0.4836\n",
      "[flaml.automl: 11-23 01:30:28] {2223} INFO - iteration 36, current learner my_xgb1\n",
      "[flaml.automl: 11-23 01:30:28] {2417} INFO -  at 1.4s,\testimator my_xgb1's best error=0.4836,\tbest estimator my_xgb1's best error=0.4836\n",
      "[flaml.automl: 11-23 01:30:28] {2223} INFO - iteration 37, current learner my_xgb1\n",
      "[flaml.automl: 11-23 01:30:28] {2417} INFO -  at 1.4s,\testimator my_xgb1's best error=0.4836,\tbest estimator my_xgb1's best error=0.4836\n",
      "[flaml.automl: 11-23 01:30:28] {2223} INFO - iteration 38, current learner my_xgb1\n",
      "[flaml.automl: 11-23 01:30:28] {2417} INFO -  at 1.5s,\testimator my_xgb1's best error=0.4836,\tbest estimator my_xgb1's best error=0.4836\n",
      "[flaml.automl: 11-23 01:30:28] {2223} INFO - iteration 39, current learner my_xgb1\n",
      "[flaml.automl: 11-23 01:30:28] {2417} INFO -  at 1.5s,\testimator my_xgb1's best error=0.4836,\tbest estimator my_xgb1's best error=0.4836\n",
      "[flaml.automl: 11-23 01:30:28] {2223} INFO - iteration 40, current learner my_xgb1\n",
      "[flaml.automl: 11-23 01:30:28] {2417} INFO -  at 1.6s,\testimator my_xgb1's best error=0.4836,\tbest estimator my_xgb1's best error=0.4836\n",
      "[flaml.automl: 11-23 01:30:28] {2223} INFO - iteration 41, current learner my_xgb1\n",
      "[flaml.automl: 11-23 01:30:28] {2417} INFO -  at 1.6s,\testimator my_xgb1's best error=0.4836,\tbest estimator my_xgb1's best error=0.4836\n",
      "[flaml.automl: 11-23 01:30:28] {2223} INFO - iteration 42, current learner my_xgb1\n",
      "[flaml.automl: 11-23 01:30:28] {2417} INFO -  at 1.6s,\testimator my_xgb1's best error=0.4836,\tbest estimator my_xgb1's best error=0.4836\n",
      "[flaml.automl: 11-23 01:30:28] {2223} INFO - iteration 43, current learner my_xgb1\n",
      "[flaml.automl: 11-23 01:30:28] {2417} INFO -  at 1.7s,\testimator my_xgb1's best error=0.4836,\tbest estimator my_xgb1's best error=0.4836\n",
      "[flaml.automl: 11-23 01:30:28] {2223} INFO - iteration 44, current learner my_xgb1\n",
      "[flaml.automl: 11-23 01:30:28] {2417} INFO -  at 1.7s,\testimator my_xgb1's best error=0.4836,\tbest estimator my_xgb1's best error=0.4836\n",
      "[flaml.automl: 11-23 01:30:28] {2223} INFO - iteration 45, current learner my_xgb1\n",
      "[flaml.automl: 11-23 01:30:28] {2417} INFO -  at 1.8s,\testimator my_xgb1's best error=0.4836,\tbest estimator my_xgb1's best error=0.4836\n",
      "[flaml.automl: 11-23 01:30:28] {2223} INFO - iteration 46, current learner my_xgb1\n",
      "[flaml.automl: 11-23 01:30:28] {2417} INFO -  at 1.8s,\testimator my_xgb1's best error=0.4836,\tbest estimator my_xgb1's best error=0.4836\n",
      "[flaml.automl: 11-23 01:30:28] {2223} INFO - iteration 47, current learner my_xgb1\n",
      "[flaml.automl: 11-23 01:30:28] {2417} INFO -  at 1.8s,\testimator my_xgb1's best error=0.4836,\tbest estimator my_xgb1's best error=0.4836\n",
      "[flaml.automl: 11-23 01:30:28] {2223} INFO - iteration 48, current learner my_xgb1\n",
      "[flaml.automl: 11-23 01:30:28] {2417} INFO -  at 1.8s,\testimator my_xgb1's best error=0.4836,\tbest estimator my_xgb1's best error=0.4836\n",
      "[flaml.automl: 11-23 01:30:28] {2223} INFO - iteration 49, current learner my_xgb1\n",
      "[flaml.automl: 11-23 01:30:28] {2417} INFO -  at 1.9s,\testimator my_xgb1's best error=0.4836,\tbest estimator my_xgb1's best error=0.4836\n",
      "[flaml.automl: 11-23 01:30:28] {2223} INFO - iteration 50, current learner my_xgb1\n",
      "[flaml.automl: 11-23 01:30:28] {2417} INFO -  at 1.9s,\testimator my_xgb1's best error=0.4836,\tbest estimator my_xgb1's best error=0.4836\n",
      "[flaml.automl: 11-23 01:30:28] {2223} INFO - iteration 51, current learner my_xgb1\n",
      "[flaml.automl: 11-23 01:30:29] {2417} INFO -  at 2.0s,\testimator my_xgb1's best error=0.4110,\tbest estimator my_xgb1's best error=0.4110\n",
      "[flaml.automl: 11-23 01:30:29] {2223} INFO - iteration 52, current learner my_xgb1\n",
      "[flaml.automl: 11-23 01:30:29] {2417} INFO -  at 2.0s,\testimator my_xgb1's best error=0.4110,\tbest estimator my_xgb1's best error=0.4110\n",
      "[flaml.automl: 11-23 01:30:29] {2223} INFO - iteration 53, current learner my_xgb1\n",
      "[flaml.automl: 11-23 01:30:29] {2417} INFO -  at 2.0s,\testimator my_xgb1's best error=0.4110,\tbest estimator my_xgb1's best error=0.4110\n",
      "[flaml.automl: 11-23 01:30:29] {2223} INFO - iteration 54, current learner my_xgb1\n",
      "[flaml.automl: 11-23 01:30:29] {2417} INFO -  at 2.1s,\testimator my_xgb1's best error=0.4110,\tbest estimator my_xgb1's best error=0.4110\n",
      "[flaml.automl: 11-23 01:30:29] {2223} INFO - iteration 55, current learner my_xgb1\n",
      "[flaml.automl: 11-23 01:30:29] {2417} INFO -  at 2.1s,\testimator my_xgb1's best error=0.4110,\tbest estimator my_xgb1's best error=0.4110\n",
      "[flaml.automl: 11-23 01:30:29] {2223} INFO - iteration 56, current learner my_xgb1\n",
      "[flaml.automl: 11-23 01:30:29] {2417} INFO -  at 2.2s,\testimator my_xgb1's best error=0.4110,\tbest estimator my_xgb1's best error=0.4110\n",
      "[flaml.automl: 11-23 01:30:29] {2223} INFO - iteration 57, current learner my_xgb1\n",
      "[flaml.automl: 11-23 01:30:29] {2417} INFO -  at 2.3s,\testimator my_xgb1's best error=0.4110,\tbest estimator my_xgb1's best error=0.4110\n",
      "[flaml.automl: 11-23 01:30:29] {2223} INFO - iteration 58, current learner my_xgb1\n",
      "[flaml.automl: 11-23 01:30:29] {2417} INFO -  at 2.3s,\testimator my_xgb1's best error=0.4110,\tbest estimator my_xgb1's best error=0.4110\n",
      "[flaml.automl: 11-23 01:30:29] {2223} INFO - iteration 59, current learner my_xgb1\n",
      "[flaml.automl: 11-23 01:30:29] {2417} INFO -  at 2.3s,\testimator my_xgb1's best error=0.4110,\tbest estimator my_xgb1's best error=0.4110\n",
      "[flaml.automl: 11-23 01:30:29] {2223} INFO - iteration 60, current learner my_xgb1\n",
      "[flaml.automl: 11-23 01:30:29] {2417} INFO -  at 2.4s,\testimator my_xgb1's best error=0.4110,\tbest estimator my_xgb1's best error=0.4110\n",
      "[flaml.automl: 11-23 01:30:29] {2223} INFO - iteration 61, current learner my_xgb1\n",
      "[flaml.automl: 11-23 01:30:29] {2417} INFO -  at 2.4s,\testimator my_xgb1's best error=0.4110,\tbest estimator my_xgb1's best error=0.4110\n",
      "[flaml.automl: 11-23 01:30:29] {2223} INFO - iteration 62, current learner my_xgb1\n",
      "[flaml.automl: 11-23 01:30:29] {2417} INFO -  at 2.5s,\testimator my_xgb1's best error=0.4110,\tbest estimator my_xgb1's best error=0.4110\n",
      "[flaml.automl: 11-23 01:30:29] {2223} INFO - iteration 63, current learner my_xgb1\n",
      "[flaml.automl: 11-23 01:30:29] {2417} INFO -  at 2.5s,\testimator my_xgb1's best error=0.4110,\tbest estimator my_xgb1's best error=0.4110\n",
      "[flaml.automl: 11-23 01:30:29] {2223} INFO - iteration 64, current learner my_xgb1\n",
      "[flaml.automl: 11-23 01:30:29] {2417} INFO -  at 2.6s,\testimator my_xgb1's best error=0.4110,\tbest estimator my_xgb1's best error=0.4110\n",
      "[flaml.automl: 11-23 01:30:29] {2223} INFO - iteration 65, current learner my_xgb1\n",
      "[flaml.automl: 11-23 01:30:29] {2417} INFO -  at 2.6s,\testimator my_xgb1's best error=0.4110,\tbest estimator my_xgb1's best error=0.4110\n",
      "[flaml.automl: 11-23 01:30:29] {2223} INFO - iteration 66, current learner my_xgb1\n",
      "[flaml.automl: 11-23 01:30:29] {2417} INFO -  at 2.6s,\testimator my_xgb1's best error=0.4110,\tbest estimator my_xgb1's best error=0.4110\n",
      "[flaml.automl: 11-23 01:30:29] {2223} INFO - iteration 67, current learner my_xgb1\n",
      "[flaml.automl: 11-23 01:30:29] {2417} INFO -  at 2.8s,\testimator my_xgb1's best error=0.3716,\tbest estimator my_xgb1's best error=0.3716\n",
      "[flaml.automl: 11-23 01:30:29] {2223} INFO - iteration 68, current learner my_xgb1\n",
      "[flaml.automl: 11-23 01:30:29] {2417} INFO -  at 2.8s,\testimator my_xgb1's best error=0.3716,\tbest estimator my_xgb1's best error=0.3716\n",
      "[flaml.automl: 11-23 01:30:29] {2223} INFO - iteration 69, current learner my_xgb1\n",
      "[flaml.automl: 11-23 01:30:29] {2417} INFO -  at 2.9s,\testimator my_xgb1's best error=0.3716,\tbest estimator my_xgb1's best error=0.3716\n",
      "[flaml.automl: 11-23 01:30:29] {2223} INFO - iteration 70, current learner my_xgb1\n",
      "[flaml.automl: 11-23 01:30:30] {2417} INFO -  at 3.0s,\testimator my_xgb1's best error=0.3716,\tbest estimator my_xgb1's best error=0.3716\n",
      "[flaml.automl: 11-23 01:30:30] {2223} INFO - iteration 71, current learner my_xgb1\n",
      "[flaml.automl: 11-23 01:30:30] {2417} INFO -  at 3.1s,\testimator my_xgb1's best error=0.3716,\tbest estimator my_xgb1's best error=0.3716\n",
      "[flaml.automl: 11-23 01:30:30] {2223} INFO - iteration 72, current learner my_xgb1\n",
      "[flaml.automl: 11-23 01:30:30] {2417} INFO -  at 3.2s,\testimator my_xgb1's best error=0.3716,\tbest estimator my_xgb1's best error=0.3716\n",
      "[flaml.automl: 11-23 01:30:30] {2223} INFO - iteration 73, current learner my_xgb1\n",
      "[flaml.automl: 11-23 01:30:30] {2417} INFO -  at 3.4s,\testimator my_xgb1's best error=0.3716,\tbest estimator my_xgb1's best error=0.3716\n",
      "[flaml.automl: 11-23 01:30:30] {2223} INFO - iteration 74, current learner my_xgb1\n",
      "[flaml.automl: 11-23 01:30:30] {2417} INFO -  at 3.6s,\testimator my_xgb1's best error=0.3716,\tbest estimator my_xgb1's best error=0.3716\n",
      "[flaml.automl: 11-23 01:30:30] {2223} INFO - iteration 75, current learner my_xgb1\n",
      "[flaml.automl: 11-23 01:30:30] {2417} INFO -  at 3.7s,\testimator my_xgb1's best error=0.3716,\tbest estimator my_xgb1's best error=0.3716\n",
      "[flaml.automl: 11-23 01:30:30] {2223} INFO - iteration 76, current learner my_xgb1\n",
      "[flaml.automl: 11-23 01:30:31] {2417} INFO -  at 4.0s,\testimator my_xgb1's best error=0.3716,\tbest estimator my_xgb1's best error=0.3716\n",
      "[flaml.automl: 11-23 01:30:31] {2223} INFO - iteration 77, current learner my_xgb1\n",
      "[flaml.automl: 11-23 01:30:31] {2417} INFO -  at 4.0s,\testimator my_xgb1's best error=0.3716,\tbest estimator my_xgb1's best error=0.3716\n",
      "[flaml.automl: 11-23 01:30:31] {2223} INFO - iteration 78, current learner my_xgb1\n",
      "[flaml.automl: 11-23 01:30:31] {2417} INFO -  at 4.2s,\testimator my_xgb1's best error=0.3716,\tbest estimator my_xgb1's best error=0.3716\n",
      "[flaml.automl: 11-23 01:30:31] {2223} INFO - iteration 79, current learner my_xgb1\n",
      "[flaml.automl: 11-23 01:30:31] {2417} INFO -  at 4.4s,\testimator my_xgb1's best error=0.3716,\tbest estimator my_xgb1's best error=0.3716\n",
      "[flaml.automl: 11-23 01:30:31] {2223} INFO - iteration 80, current learner my_xgb1\n",
      "[flaml.automl: 11-23 01:30:31] {2417} INFO -  at 4.5s,\testimator my_xgb1's best error=0.3716,\tbest estimator my_xgb1's best error=0.3716\n",
      "[flaml.automl: 11-23 01:30:31] {2223} INFO - iteration 81, current learner my_xgb1\n",
      "[flaml.automl: 11-23 01:30:31] {2417} INFO -  at 4.8s,\testimator my_xgb1's best error=0.3716,\tbest estimator my_xgb1's best error=0.3716\n",
      "[flaml.automl: 11-23 01:30:31] {2223} INFO - iteration 82, current learner my_xgb1\n",
      "[flaml.automl: 11-23 01:30:31] {2417} INFO -  at 4.9s,\testimator my_xgb1's best error=0.3716,\tbest estimator my_xgb1's best error=0.3716\n",
      "[flaml.automl: 11-23 01:30:31] {2223} INFO - iteration 83, current learner my_xgb1\n",
      "[flaml.automl: 11-23 01:30:32] {2417} INFO -  at 5.3s,\testimator my_xgb1's best error=0.3716,\tbest estimator my_xgb1's best error=0.3716\n",
      "[flaml.automl: 11-23 01:30:32] {2223} INFO - iteration 84, current learner my_xgb1\n",
      "[flaml.automl: 11-23 01:30:32] {2417} INFO -  at 5.4s,\testimator my_xgb1's best error=0.3716,\tbest estimator my_xgb1's best error=0.3716\n",
      "[flaml.automl: 11-23 01:30:32] {2223} INFO - iteration 85, current learner my_xgb1\n",
      "[flaml.automl: 11-23 01:30:32] {2417} INFO -  at 5.6s,\testimator my_xgb1's best error=0.3716,\tbest estimator my_xgb1's best error=0.3716\n",
      "[flaml.automl: 11-23 01:30:32] {2223} INFO - iteration 86, current learner my_xgb1\n",
      "[flaml.automl: 11-23 01:30:32] {2417} INFO -  at 5.8s,\testimator my_xgb1's best error=0.3716,\tbest estimator my_xgb1's best error=0.3716\n",
      "[flaml.automl: 11-23 01:30:32] {2223} INFO - iteration 87, current learner my_xgb1\n",
      "[flaml.automl: 11-23 01:30:33] {2417} INFO -  at 6.4s,\testimator my_xgb1's best error=0.3716,\tbest estimator my_xgb1's best error=0.3716\n",
      "[flaml.automl: 11-23 01:30:33] {2223} INFO - iteration 88, current learner my_xgb1\n",
      "[flaml.automl: 11-23 01:30:33] {2417} INFO -  at 6.5s,\testimator my_xgb1's best error=0.3716,\tbest estimator my_xgb1's best error=0.3716\n",
      "[flaml.automl: 11-23 01:30:33] {2223} INFO - iteration 89, current learner my_xgb1\n",
      "[flaml.automl: 11-23 01:30:33] {2417} INFO -  at 6.6s,\testimator my_xgb1's best error=0.3716,\tbest estimator my_xgb1's best error=0.3716\n",
      "[flaml.automl: 11-23 01:30:33] {2223} INFO - iteration 90, current learner my_xgb1\n",
      "[flaml.automl: 11-23 01:30:33] {2417} INFO -  at 6.8s,\testimator my_xgb1's best error=0.3716,\tbest estimator my_xgb1's best error=0.3716\n",
      "[flaml.automl: 11-23 01:30:33] {2223} INFO - iteration 91, current learner my_xgb1\n",
      "[flaml.automl: 11-23 01:30:34] {2417} INFO -  at 7.2s,\testimator my_xgb1's best error=0.3716,\tbest estimator my_xgb1's best error=0.3716\n",
      "[flaml.automl: 11-23 01:30:34] {2223} INFO - iteration 92, current learner my_xgb1\n",
      "[flaml.automl: 11-23 01:30:34] {2417} INFO -  at 7.3s,\testimator my_xgb1's best error=0.3716,\tbest estimator my_xgb1's best error=0.3716\n",
      "[flaml.automl: 11-23 01:30:34] {2223} INFO - iteration 93, current learner my_xgb1\n",
      "[flaml.automl: 11-23 01:30:34] {2417} INFO -  at 7.5s,\testimator my_xgb1's best error=0.3716,\tbest estimator my_xgb1's best error=0.3716\n",
      "[flaml.automl: 11-23 01:30:34] {2223} INFO - iteration 94, current learner my_xgb1\n",
      "[flaml.automl: 11-23 01:30:34] {2417} INFO -  at 7.6s,\testimator my_xgb1's best error=0.3716,\tbest estimator my_xgb1's best error=0.3716\n",
      "[flaml.automl: 11-23 01:30:34] {2223} INFO - iteration 95, current learner my_xgb1\n",
      "[flaml.automl: 11-23 01:30:34] {2417} INFO -  at 7.7s,\testimator my_xgb1's best error=0.3716,\tbest estimator my_xgb1's best error=0.3716\n",
      "[flaml.automl: 11-23 01:30:34] {2223} INFO - iteration 96, current learner my_xgb1\n",
      "[flaml.automl: 11-23 01:30:35] {2417} INFO -  at 8.1s,\testimator my_xgb1's best error=0.3716,\tbest estimator my_xgb1's best error=0.3716\n",
      "[flaml.automl: 11-23 01:30:35] {2223} INFO - iteration 97, current learner my_xgb1\n",
      "[flaml.automl: 11-23 01:30:35] {2417} INFO -  at 8.1s,\testimator my_xgb1's best error=0.3716,\tbest estimator my_xgb1's best error=0.3716\n",
      "[flaml.automl: 11-23 01:30:35] {2223} INFO - iteration 98, current learner my_xgb1\n",
      "[flaml.automl: 11-23 01:30:35] {2417} INFO -  at 8.5s,\testimator my_xgb1's best error=0.3716,\tbest estimator my_xgb1's best error=0.3716\n",
      "[flaml.automl: 11-23 01:30:35] {2223} INFO - iteration 99, current learner my_xgb1\n",
      "[flaml.automl: 11-23 01:30:35] {2417} INFO -  at 8.6s,\testimator my_xgb1's best error=0.3716,\tbest estimator my_xgb1's best error=0.3716\n",
      "[flaml.automl: 11-23 01:30:35] {2223} INFO - iteration 100, current learner my_xgb1\n",
      "[flaml.automl: 11-23 01:30:35] {2417} INFO -  at 8.7s,\testimator my_xgb1's best error=0.3716,\tbest estimator my_xgb1's best error=0.3716\n",
      "[flaml.automl: 11-23 01:30:35] {2223} INFO - iteration 101, current learner my_xgb1\n",
      "[flaml.automl: 11-23 01:30:35] {2417} INFO -  at 8.8s,\testimator my_xgb1's best error=0.3716,\tbest estimator my_xgb1's best error=0.3716\n",
      "[flaml.automl: 11-23 01:30:35] {2223} INFO - iteration 102, current learner my_xgb1\n",
      "[flaml.automl: 11-23 01:30:35] {2417} INFO -  at 8.9s,\testimator my_xgb1's best error=0.3716,\tbest estimator my_xgb1's best error=0.3716\n",
      "[flaml.automl: 11-23 01:30:36] {2223} INFO - iteration 103, current learner my_xgb1\n",
      "[flaml.automl: 11-23 01:30:36] {2417} INFO -  at 9.0s,\testimator my_xgb1's best error=0.3716,\tbest estimator my_xgb1's best error=0.3716\n",
      "[flaml.automl: 11-23 01:30:36] {2223} INFO - iteration 104, current learner my_xgb1\n",
      "[flaml.automl: 11-23 01:30:36] {2417} INFO -  at 9.1s,\testimator my_xgb1's best error=0.3716,\tbest estimator my_xgb1's best error=0.3716\n",
      "[flaml.automl: 11-23 01:30:36] {2223} INFO - iteration 105, current learner my_xgb1\n",
      "[flaml.automl: 11-23 01:30:36] {2417} INFO -  at 9.2s,\testimator my_xgb1's best error=0.3716,\tbest estimator my_xgb1's best error=0.3716\n",
      "[flaml.automl: 11-23 01:30:36] {2223} INFO - iteration 106, current learner my_xgb1\n",
      "[flaml.automl: 11-23 01:30:36] {2417} INFO -  at 9.4s,\testimator my_xgb1's best error=0.3716,\tbest estimator my_xgb1's best error=0.3716\n",
      "[flaml.automl: 11-23 01:30:36] {2223} INFO - iteration 107, current learner my_xgb1\n",
      "[flaml.automl: 11-23 01:30:36] {2417} INFO -  at 9.4s,\testimator my_xgb1's best error=0.3716,\tbest estimator my_xgb1's best error=0.3716\n",
      "[flaml.automl: 11-23 01:30:36] {2223} INFO - iteration 108, current learner my_xgb1\n",
      "[flaml.automl: 11-23 01:30:36] {2417} INFO -  at 9.6s,\testimator my_xgb1's best error=0.3716,\tbest estimator my_xgb1's best error=0.3716\n",
      "[flaml.automl: 11-23 01:30:36] {2223} INFO - iteration 109, current learner my_xgb1\n",
      "[flaml.automl: 11-23 01:30:37] {2417} INFO -  at 10.0s,\testimator my_xgb1's best error=0.3716,\tbest estimator my_xgb1's best error=0.3716\n",
      "[flaml.automl: 11-23 01:30:37] {2223} INFO - iteration 110, current learner my_xgb1\n",
      "[flaml.automl: 11-23 01:30:37] {2417} INFO -  at 10.1s,\testimator my_xgb1's best error=0.3499,\tbest estimator my_xgb1's best error=0.3499\n",
      "[flaml.automl: 11-23 01:30:37] {2223} INFO - iteration 111, current learner my_xgb1\n",
      "[flaml.automl: 11-23 01:30:37] {2417} INFO -  at 10.2s,\testimator my_xgb1's best error=0.3499,\tbest estimator my_xgb1's best error=0.3499\n",
      "[flaml.automl: 11-23 01:30:37] {2223} INFO - iteration 112, current learner my_xgb1\n",
      "[flaml.automl: 11-23 01:30:37] {2417} INFO -  at 10.3s,\testimator my_xgb1's best error=0.3499,\tbest estimator my_xgb1's best error=0.3499\n",
      "[flaml.automl: 11-23 01:30:37] {2223} INFO - iteration 113, current learner my_xgb1\n",
      "[flaml.automl: 11-23 01:30:37] {2417} INFO -  at 10.4s,\testimator my_xgb1's best error=0.3499,\tbest estimator my_xgb1's best error=0.3499\n",
      "[flaml.automl: 11-23 01:30:37] {2223} INFO - iteration 114, current learner my_xgb1\n",
      "[flaml.automl: 11-23 01:30:37] {2417} INFO -  at 10.4s,\testimator my_xgb1's best error=0.3499,\tbest estimator my_xgb1's best error=0.3499\n",
      "[flaml.automl: 11-23 01:30:37] {2223} INFO - iteration 115, current learner my_xgb1\n",
      "[flaml.automl: 11-23 01:30:37] {2417} INFO -  at 10.4s,\testimator my_xgb1's best error=0.3499,\tbest estimator my_xgb1's best error=0.3499\n",
      "[flaml.automl: 11-23 01:30:37] {2223} INFO - iteration 116, current learner my_xgb1\n",
      "[flaml.automl: 11-23 01:30:37] {2417} INFO -  at 10.5s,\testimator my_xgb1's best error=0.3499,\tbest estimator my_xgb1's best error=0.3499\n",
      "[flaml.automl: 11-23 01:30:37] {2223} INFO - iteration 117, current learner my_xgb1\n",
      "[flaml.automl: 11-23 01:30:37] {2417} INFO -  at 10.6s,\testimator my_xgb1's best error=0.3499,\tbest estimator my_xgb1's best error=0.3499\n",
      "[flaml.automl: 11-23 01:30:37] {2223} INFO - iteration 118, current learner my_xgb1\n",
      "[flaml.automl: 11-23 01:30:37] {2417} INFO -  at 10.7s,\testimator my_xgb1's best error=0.3499,\tbest estimator my_xgb1's best error=0.3499\n",
      "[flaml.automl: 11-23 01:30:37] {2223} INFO - iteration 119, current learner my_xgb1\n",
      "[flaml.automl: 11-23 01:30:37] {2417} INFO -  at 10.7s,\testimator my_xgb1's best error=0.3499,\tbest estimator my_xgb1's best error=0.3499\n",
      "[flaml.automl: 11-23 01:30:37] {2223} INFO - iteration 120, current learner my_xgb1\n",
      "[flaml.automl: 11-23 01:30:37] {2417} INFO -  at 10.8s,\testimator my_xgb1's best error=0.3499,\tbest estimator my_xgb1's best error=0.3499\n",
      "[flaml.automl: 11-23 01:30:37] {2223} INFO - iteration 121, current learner my_xgb1\n",
      "[flaml.automl: 11-23 01:30:37] {2417} INFO -  at 10.8s,\testimator my_xgb1's best error=0.3499,\tbest estimator my_xgb1's best error=0.3499\n",
      "[flaml.automl: 11-23 01:30:37] {2223} INFO - iteration 122, current learner my_xgb1\n",
      "[flaml.automl: 11-23 01:30:38] {2417} INFO -  at 11.0s,\testimator my_xgb1's best error=0.3499,\tbest estimator my_xgb1's best error=0.3499\n",
      "[flaml.automl: 11-23 01:30:38] {2223} INFO - iteration 123, current learner my_xgb1\n",
      "[flaml.automl: 11-23 01:30:38] {2417} INFO -  at 11.1s,\testimator my_xgb1's best error=0.3499,\tbest estimator my_xgb1's best error=0.3499\n",
      "[flaml.automl: 11-23 01:30:38] {2223} INFO - iteration 124, current learner my_xgb1\n",
      "[flaml.automl: 11-23 01:30:38] {2417} INFO -  at 11.2s,\testimator my_xgb1's best error=0.3499,\tbest estimator my_xgb1's best error=0.3499\n",
      "[flaml.automl: 11-23 01:30:38] {2223} INFO - iteration 125, current learner my_xgb1\n",
      "[flaml.automl: 11-23 01:30:38] {2417} INFO -  at 11.3s,\testimator my_xgb1's best error=0.3499,\tbest estimator my_xgb1's best error=0.3499\n",
      "[flaml.automl: 11-23 01:30:38] {2223} INFO - iteration 126, current learner my_xgb1\n",
      "[flaml.automl: 11-23 01:30:38] {2417} INFO -  at 11.4s,\testimator my_xgb1's best error=0.3499,\tbest estimator my_xgb1's best error=0.3499\n",
      "[flaml.automl: 11-23 01:30:38] {2223} INFO - iteration 127, current learner my_xgb1\n",
      "[flaml.automl: 11-23 01:30:38] {2417} INFO -  at 11.6s,\testimator my_xgb1's best error=0.3499,\tbest estimator my_xgb1's best error=0.3499\n",
      "[flaml.automl: 11-23 01:30:38] {2223} INFO - iteration 128, current learner my_xgb1\n",
      "[flaml.automl: 11-23 01:30:38] {2417} INFO -  at 11.6s,\testimator my_xgb1's best error=0.3499,\tbest estimator my_xgb1's best error=0.3499\n",
      "[flaml.automl: 11-23 01:30:38] {2223} INFO - iteration 129, current learner my_xgb1\n",
      "[flaml.automl: 11-23 01:30:38] {2417} INFO -  at 11.7s,\testimator my_xgb1's best error=0.3499,\tbest estimator my_xgb1's best error=0.3499\n",
      "[flaml.automl: 11-23 01:30:38] {2223} INFO - iteration 130, current learner my_xgb1\n",
      "[flaml.automl: 11-23 01:30:38] {2417} INFO -  at 11.8s,\testimator my_xgb1's best error=0.3499,\tbest estimator my_xgb1's best error=0.3499\n",
      "[flaml.automl: 11-23 01:30:38] {2223} INFO - iteration 131, current learner my_xgb1\n",
      "[flaml.automl: 11-23 01:30:38] {2417} INFO -  at 11.8s,\testimator my_xgb1's best error=0.3499,\tbest estimator my_xgb1's best error=0.3499\n",
      "[flaml.automl: 11-23 01:30:38] {2223} INFO - iteration 132, current learner my_xgb1\n",
      "[flaml.automl: 11-23 01:30:38] {2417} INFO -  at 11.9s,\testimator my_xgb1's best error=0.3499,\tbest estimator my_xgb1's best error=0.3499\n",
      "[flaml.automl: 11-23 01:30:38] {2223} INFO - iteration 133, current learner my_xgb1\n",
      "[flaml.automl: 11-23 01:30:39] {2417} INFO -  at 12.0s,\testimator my_xgb1's best error=0.3347,\tbest estimator my_xgb1's best error=0.3347\n",
      "[flaml.automl: 11-23 01:30:39] {2223} INFO - iteration 134, current learner my_xgb1\n",
      "[flaml.automl: 11-23 01:30:39] {2417} INFO -  at 12.0s,\testimator my_xgb1's best error=0.3347,\tbest estimator my_xgb1's best error=0.3347\n",
      "[flaml.automl: 11-23 01:30:39] {2223} INFO - iteration 135, current learner my_xgb1\n",
      "[flaml.automl: 11-23 01:30:39] {2417} INFO -  at 12.1s,\testimator my_xgb1's best error=0.3347,\tbest estimator my_xgb1's best error=0.3347\n",
      "[flaml.automl: 11-23 01:30:39] {2223} INFO - iteration 136, current learner my_xgb1\n",
      "[flaml.automl: 11-23 01:30:39] {2417} INFO -  at 12.2s,\testimator my_xgb1's best error=0.3347,\tbest estimator my_xgb1's best error=0.3347\n",
      "[flaml.automl: 11-23 01:30:39] {2223} INFO - iteration 137, current learner my_xgb1\n",
      "[flaml.automl: 11-23 01:30:39] {2417} INFO -  at 12.3s,\testimator my_xgb1's best error=0.3347,\tbest estimator my_xgb1's best error=0.3347\n",
      "[flaml.automl: 11-23 01:30:39] {2223} INFO - iteration 138, current learner my_xgb1\n",
      "[flaml.automl: 11-23 01:30:39] {2417} INFO -  at 12.4s,\testimator my_xgb1's best error=0.3347,\tbest estimator my_xgb1's best error=0.3347\n",
      "[flaml.automl: 11-23 01:30:39] {2223} INFO - iteration 139, current learner my_xgb1\n",
      "[flaml.automl: 11-23 01:30:39] {2417} INFO -  at 12.5s,\testimator my_xgb1's best error=0.3347,\tbest estimator my_xgb1's best error=0.3347\n",
      "[flaml.automl: 11-23 01:30:39] {2223} INFO - iteration 140, current learner my_xgb1\n",
      "[flaml.automl: 11-23 01:30:39] {2417} INFO -  at 12.5s,\testimator my_xgb1's best error=0.3347,\tbest estimator my_xgb1's best error=0.3347\n",
      "[flaml.automl: 11-23 01:30:39] {2223} INFO - iteration 141, current learner my_xgb1\n",
      "[flaml.automl: 11-23 01:30:39] {2417} INFO -  at 12.6s,\testimator my_xgb1's best error=0.3347,\tbest estimator my_xgb1's best error=0.3347\n",
      "[flaml.automl: 11-23 01:30:39] {2223} INFO - iteration 142, current learner my_xgb1\n",
      "[flaml.automl: 11-23 01:30:39] {2417} INFO -  at 12.7s,\testimator my_xgb1's best error=0.3347,\tbest estimator my_xgb1's best error=0.3347\n",
      "[flaml.automl: 11-23 01:30:39] {2223} INFO - iteration 143, current learner my_xgb1\n",
      "[flaml.automl: 11-23 01:30:39] {2417} INFO -  at 12.8s,\testimator my_xgb1's best error=0.3347,\tbest estimator my_xgb1's best error=0.3347\n",
      "[flaml.automl: 11-23 01:30:39] {2223} INFO - iteration 144, current learner my_xgb1\n",
      "[flaml.automl: 11-23 01:30:39] {2417} INFO -  at 12.8s,\testimator my_xgb1's best error=0.3347,\tbest estimator my_xgb1's best error=0.3347\n",
      "[flaml.automl: 11-23 01:30:39] {2223} INFO - iteration 145, current learner my_xgb1\n",
      "[flaml.automl: 11-23 01:30:40] {2417} INFO -  at 13.0s,\testimator my_xgb1's best error=0.3347,\tbest estimator my_xgb1's best error=0.3347\n",
      "[flaml.automl: 11-23 01:30:40] {2223} INFO - iteration 146, current learner my_xgb1\n",
      "[flaml.automl: 11-23 01:30:40] {2417} INFO -  at 13.1s,\testimator my_xgb1's best error=0.3347,\tbest estimator my_xgb1's best error=0.3347\n",
      "[flaml.automl: 11-23 01:30:40] {2223} INFO - iteration 147, current learner my_xgb1\n",
      "[flaml.automl: 11-23 01:30:40] {2417} INFO -  at 13.2s,\testimator my_xgb1's best error=0.3347,\tbest estimator my_xgb1's best error=0.3347\n",
      "[flaml.automl: 11-23 01:30:40] {2223} INFO - iteration 148, current learner my_xgb1\n",
      "[flaml.automl: 11-23 01:30:40] {2417} INFO -  at 13.2s,\testimator my_xgb1's best error=0.3347,\tbest estimator my_xgb1's best error=0.3347\n",
      "[flaml.automl: 11-23 01:30:40] {2223} INFO - iteration 149, current learner my_xgb1\n",
      "[flaml.automl: 11-23 01:30:40] {2417} INFO -  at 13.3s,\testimator my_xgb1's best error=0.3347,\tbest estimator my_xgb1's best error=0.3347\n",
      "[flaml.automl: 11-23 01:30:40] {2223} INFO - iteration 150, current learner my_xgb1\n",
      "[flaml.automl: 11-23 01:30:40] {2417} INFO -  at 13.4s,\testimator my_xgb1's best error=0.3347,\tbest estimator my_xgb1's best error=0.3347\n",
      "[flaml.automl: 11-23 01:30:40] {2223} INFO - iteration 151, current learner my_xgb1\n",
      "[flaml.automl: 11-23 01:30:40] {2417} INFO -  at 13.5s,\testimator my_xgb1's best error=0.3347,\tbest estimator my_xgb1's best error=0.3347\n",
      "[flaml.automl: 11-23 01:30:40] {2223} INFO - iteration 152, current learner my_xgb1\n",
      "[flaml.automl: 11-23 01:30:40] {2417} INFO -  at 13.5s,\testimator my_xgb1's best error=0.3347,\tbest estimator my_xgb1's best error=0.3347\n",
      "[flaml.automl: 11-23 01:30:40] {2223} INFO - iteration 153, current learner my_xgb1\n",
      "[flaml.automl: 11-23 01:30:40] {2417} INFO -  at 13.6s,\testimator my_xgb1's best error=0.3347,\tbest estimator my_xgb1's best error=0.3347\n",
      "[flaml.automl: 11-23 01:30:40] {2223} INFO - iteration 154, current learner my_xgb1\n",
      "[flaml.automl: 11-23 01:30:40] {2417} INFO -  at 13.7s,\testimator my_xgb1's best error=0.3347,\tbest estimator my_xgb1's best error=0.3347\n",
      "[flaml.automl: 11-23 01:30:40] {2223} INFO - iteration 155, current learner my_xgb1\n",
      "[flaml.automl: 11-23 01:30:40] {2417} INFO -  at 13.8s,\testimator my_xgb1's best error=0.3347,\tbest estimator my_xgb1's best error=0.3347\n",
      "[flaml.automl: 11-23 01:30:40] {2223} INFO - iteration 156, current learner my_xgb1\n",
      "[flaml.automl: 11-23 01:30:40] {2417} INFO -  at 13.9s,\testimator my_xgb1's best error=0.3347,\tbest estimator my_xgb1's best error=0.3347\n",
      "[flaml.automl: 11-23 01:30:40] {2223} INFO - iteration 157, current learner my_xgb1\n",
      "[flaml.automl: 11-23 01:30:41] {2417} INFO -  at 14.0s,\testimator my_xgb1's best error=0.3347,\tbest estimator my_xgb1's best error=0.3347\n",
      "[flaml.automl: 11-23 01:30:41] {2223} INFO - iteration 158, current learner my_xgb1\n",
      "[flaml.automl: 11-23 01:30:41] {2417} INFO -  at 14.0s,\testimator my_xgb1's best error=0.3347,\tbest estimator my_xgb1's best error=0.3347\n",
      "[flaml.automl: 11-23 01:30:41] {2223} INFO - iteration 159, current learner my_xgb1\n",
      "[flaml.automl: 11-23 01:30:41] {2417} INFO -  at 14.2s,\testimator my_xgb1's best error=0.3347,\tbest estimator my_xgb1's best error=0.3347\n",
      "[flaml.automl: 11-23 01:30:41] {2223} INFO - iteration 160, current learner my_xgb1\n",
      "[flaml.automl: 11-23 01:30:41] {2417} INFO -  at 14.6s,\testimator my_xgb1's best error=0.3347,\tbest estimator my_xgb1's best error=0.3347\n",
      "[flaml.automl: 11-23 01:30:41] {2223} INFO - iteration 161, current learner my_xgb1\n",
      "[flaml.automl: 11-23 01:30:41] {2417} INFO -  at 14.6s,\testimator my_xgb1's best error=0.3347,\tbest estimator my_xgb1's best error=0.3347\n",
      "[flaml.automl: 11-23 01:30:41] {2223} INFO - iteration 162, current learner my_xgb1\n",
      "[flaml.automl: 11-23 01:30:41] {2417} INFO -  at 14.8s,\testimator my_xgb1's best error=0.3347,\tbest estimator my_xgb1's best error=0.3347\n",
      "[flaml.automl: 11-23 01:30:41] {2223} INFO - iteration 163, current learner my_xgb1\n",
      "[flaml.automl: 11-23 01:30:41] {2417} INFO -  at 14.9s,\testimator my_xgb1's best error=0.3347,\tbest estimator my_xgb1's best error=0.3347\n",
      "[flaml.automl: 11-23 01:30:41] {2223} INFO - iteration 164, current learner my_xgb1\n",
      "[flaml.automl: 11-23 01:30:42] {2417} INFO -  at 15.0s,\testimator my_xgb1's best error=0.3347,\tbest estimator my_xgb1's best error=0.3347\n",
      "[flaml.automl: 11-23 01:30:42] {2223} INFO - iteration 165, current learner my_xgb1\n",
      "[flaml.automl: 11-23 01:30:42] {2417} INFO -  at 15.1s,\testimator my_xgb1's best error=0.3347,\tbest estimator my_xgb1's best error=0.3347\n",
      "[flaml.automl: 11-23 01:30:42] {2223} INFO - iteration 166, current learner my_xgb1\n",
      "[flaml.automl: 11-23 01:30:42] {2417} INFO -  at 15.2s,\testimator my_xgb1's best error=0.3347,\tbest estimator my_xgb1's best error=0.3347\n",
      "[flaml.automl: 11-23 01:30:42] {2223} INFO - iteration 167, current learner my_xgb1\n",
      "[flaml.automl: 11-23 01:30:42] {2417} INFO -  at 15.2s,\testimator my_xgb1's best error=0.3347,\tbest estimator my_xgb1's best error=0.3347\n",
      "[flaml.automl: 11-23 01:30:42] {2223} INFO - iteration 168, current learner my_xgb1\n",
      "[flaml.automl: 11-23 01:30:42] {2417} INFO -  at 15.3s,\testimator my_xgb1's best error=0.3347,\tbest estimator my_xgb1's best error=0.3347\n",
      "[flaml.automl: 11-23 01:30:42] {2223} INFO - iteration 169, current learner my_xgb1\n",
      "[flaml.automl: 11-23 01:30:42] {2417} INFO -  at 15.4s,\testimator my_xgb1's best error=0.3347,\tbest estimator my_xgb1's best error=0.3347\n",
      "[flaml.automl: 11-23 01:30:42] {2223} INFO - iteration 170, current learner my_xgb1\n",
      "[flaml.automl: 11-23 01:30:42] {2417} INFO -  at 15.4s,\testimator my_xgb1's best error=0.3347,\tbest estimator my_xgb1's best error=0.3347\n",
      "[flaml.automl: 11-23 01:30:42] {2223} INFO - iteration 171, current learner my_xgb1\n",
      "[flaml.automl: 11-23 01:30:42] {2417} INFO -  at 15.6s,\testimator my_xgb1's best error=0.3347,\tbest estimator my_xgb1's best error=0.3347\n",
      "[flaml.automl: 11-23 01:30:42] {2223} INFO - iteration 172, current learner my_xgb1\n",
      "[flaml.automl: 11-23 01:30:42] {2417} INFO -  at 15.6s,\testimator my_xgb1's best error=0.3347,\tbest estimator my_xgb1's best error=0.3347\n",
      "[flaml.automl: 11-23 01:30:42] {2223} INFO - iteration 173, current learner my_xgb1\n",
      "[flaml.automl: 11-23 01:30:42] {2417} INFO -  at 15.8s,\testimator my_xgb1's best error=0.3347,\tbest estimator my_xgb1's best error=0.3347\n",
      "[flaml.automl: 11-23 01:30:42] {2223} INFO - iteration 174, current learner my_xgb1\n",
      "[flaml.automl: 11-23 01:30:42] {2417} INFO -  at 15.8s,\testimator my_xgb1's best error=0.3347,\tbest estimator my_xgb1's best error=0.3347\n",
      "[flaml.automl: 11-23 01:30:42] {2223} INFO - iteration 175, current learner my_xgb1\n",
      "[flaml.automl: 11-23 01:30:42] {2417} INFO -  at 15.9s,\testimator my_xgb1's best error=0.3347,\tbest estimator my_xgb1's best error=0.3347\n",
      "[flaml.automl: 11-23 01:30:42] {2223} INFO - iteration 176, current learner my_xgb1\n",
      "[flaml.automl: 11-23 01:30:43] {2417} INFO -  at 16.0s,\testimator my_xgb1's best error=0.3347,\tbest estimator my_xgb1's best error=0.3347\n",
      "[flaml.automl: 11-23 01:30:43] {2223} INFO - iteration 177, current learner my_xgb1\n",
      "[flaml.automl: 11-23 01:30:43] {2417} INFO -  at 16.1s,\testimator my_xgb1's best error=0.3347,\tbest estimator my_xgb1's best error=0.3347\n",
      "[flaml.automl: 11-23 01:30:43] {2223} INFO - iteration 178, current learner my_xgb1\n",
      "[flaml.automl: 11-23 01:30:43] {2417} INFO -  at 16.1s,\testimator my_xgb1's best error=0.3347,\tbest estimator my_xgb1's best error=0.3347\n",
      "[flaml.automl: 11-23 01:30:43] {2223} INFO - iteration 179, current learner my_xgb1\n",
      "[flaml.automl: 11-23 01:30:43] {2417} INFO -  at 16.2s,\testimator my_xgb1's best error=0.3347,\tbest estimator my_xgb1's best error=0.3347\n",
      "[flaml.automl: 11-23 01:30:43] {2223} INFO - iteration 180, current learner my_xgb1\n",
      "[flaml.automl: 11-23 01:30:43] {2417} INFO -  at 16.3s,\testimator my_xgb1's best error=0.3347,\tbest estimator my_xgb1's best error=0.3347\n",
      "[flaml.automl: 11-23 01:30:43] {2223} INFO - iteration 181, current learner my_xgb1\n",
      "[flaml.automl: 11-23 01:30:43] {2417} INFO -  at 16.4s,\testimator my_xgb1's best error=0.3347,\tbest estimator my_xgb1's best error=0.3347\n",
      "[flaml.automl: 11-23 01:30:43] {2223} INFO - iteration 182, current learner my_xgb1\n",
      "[flaml.automl: 11-23 01:30:43] {2417} INFO -  at 16.5s,\testimator my_xgb1's best error=0.3347,\tbest estimator my_xgb1's best error=0.3347\n",
      "[flaml.automl: 11-23 01:30:43] {2223} INFO - iteration 183, current learner my_xgb1\n",
      "[flaml.automl: 11-23 01:30:43] {2417} INFO -  at 16.6s,\testimator my_xgb1's best error=0.3347,\tbest estimator my_xgb1's best error=0.3347\n",
      "[flaml.automl: 11-23 01:30:43] {2223} INFO - iteration 184, current learner my_xgb1\n",
      "[flaml.automl: 11-23 01:30:43] {2417} INFO -  at 16.7s,\testimator my_xgb1's best error=0.3347,\tbest estimator my_xgb1's best error=0.3347\n",
      "[flaml.automl: 11-23 01:30:43] {2223} INFO - iteration 185, current learner my_xgb1\n",
      "[flaml.automl: 11-23 01:30:43] {2417} INFO -  at 16.8s,\testimator my_xgb1's best error=0.3347,\tbest estimator my_xgb1's best error=0.3347\n",
      "[flaml.automl: 11-23 01:30:43] {2223} INFO - iteration 186, current learner my_xgb1\n",
      "[flaml.automl: 11-23 01:30:44] {2417} INFO -  at 17.0s,\testimator my_xgb1's best error=0.3347,\tbest estimator my_xgb1's best error=0.3347\n",
      "[flaml.automl: 11-23 01:30:44] {2223} INFO - iteration 187, current learner my_xgb1\n",
      "[flaml.automl: 11-23 01:30:44] {2417} INFO -  at 17.0s,\testimator my_xgb1's best error=0.3347,\tbest estimator my_xgb1's best error=0.3347\n",
      "[flaml.automl: 11-23 01:30:44] {2223} INFO - iteration 188, current learner my_xgb1\n",
      "[flaml.automl: 11-23 01:30:44] {2417} INFO -  at 17.2s,\testimator my_xgb1's best error=0.3347,\tbest estimator my_xgb1's best error=0.3347\n",
      "[flaml.automl: 11-23 01:30:44] {2223} INFO - iteration 189, current learner my_xgb1\n",
      "[flaml.automl: 11-23 01:30:44] {2417} INFO -  at 17.2s,\testimator my_xgb1's best error=0.3347,\tbest estimator my_xgb1's best error=0.3347\n",
      "[flaml.automl: 11-23 01:30:44] {2223} INFO - iteration 190, current learner my_xgb1\n",
      "[flaml.automl: 11-23 01:30:44] {2417} INFO -  at 17.3s,\testimator my_xgb1's best error=0.3347,\tbest estimator my_xgb1's best error=0.3347\n",
      "[flaml.automl: 11-23 01:30:44] {2223} INFO - iteration 191, current learner my_xgb1\n",
      "[flaml.automl: 11-23 01:30:44] {2417} INFO -  at 17.5s,\testimator my_xgb1's best error=0.3347,\tbest estimator my_xgb1's best error=0.3347\n",
      "[flaml.automl: 11-23 01:30:44] {2223} INFO - iteration 192, current learner my_xgb1\n",
      "[flaml.automl: 11-23 01:30:44] {2417} INFO -  at 17.6s,\testimator my_xgb1's best error=0.3347,\tbest estimator my_xgb1's best error=0.3347\n",
      "[flaml.automl: 11-23 01:30:44] {2223} INFO - iteration 193, current learner my_xgb1\n",
      "[flaml.automl: 11-23 01:30:44] {2417} INFO -  at 17.6s,\testimator my_xgb1's best error=0.3347,\tbest estimator my_xgb1's best error=0.3347\n",
      "[flaml.automl: 11-23 01:30:44] {2223} INFO - iteration 194, current learner my_xgb1\n",
      "[flaml.automl: 11-23 01:30:44] {2417} INFO -  at 17.7s,\testimator my_xgb1's best error=0.3347,\tbest estimator my_xgb1's best error=0.3347\n",
      "[flaml.automl: 11-23 01:30:44] {2223} INFO - iteration 195, current learner my_xgb1\n",
      "[flaml.automl: 11-23 01:30:44] {2417} INFO -  at 17.7s,\testimator my_xgb1's best error=0.3347,\tbest estimator my_xgb1's best error=0.3347\n",
      "[flaml.automl: 11-23 01:30:44] {2223} INFO - iteration 196, current learner my_xgb1\n",
      "[flaml.automl: 11-23 01:30:45] {2417} INFO -  at 18.1s,\testimator my_xgb1's best error=0.3347,\tbest estimator my_xgb1's best error=0.3347\n",
      "[flaml.automl: 11-23 01:30:45] {2223} INFO - iteration 197, current learner my_xgb1\n",
      "[flaml.automl: 11-23 01:30:45] {2417} INFO -  at 18.2s,\testimator my_xgb1's best error=0.3347,\tbest estimator my_xgb1's best error=0.3347\n",
      "[flaml.automl: 11-23 01:30:45] {2223} INFO - iteration 198, current learner my_xgb1\n",
      "[flaml.automl: 11-23 01:30:45] {2417} INFO -  at 18.3s,\testimator my_xgb1's best error=0.3347,\tbest estimator my_xgb1's best error=0.3347\n",
      "[flaml.automl: 11-23 01:30:45] {2223} INFO - iteration 199, current learner my_xgb1\n",
      "[flaml.automl: 11-23 01:30:45] {2417} INFO -  at 18.4s,\testimator my_xgb1's best error=0.3347,\tbest estimator my_xgb1's best error=0.3347\n",
      "[flaml.automl: 11-23 01:30:45] {2223} INFO - iteration 200, current learner my_xgb1\n",
      "[flaml.automl: 11-23 01:30:45] {2417} INFO -  at 18.5s,\testimator my_xgb1's best error=0.3347,\tbest estimator my_xgb1's best error=0.3347\n",
      "[flaml.automl: 11-23 01:30:45] {2223} INFO - iteration 201, current learner my_xgb1\n",
      "[flaml.automl: 11-23 01:30:45] {2417} INFO -  at 18.5s,\testimator my_xgb1's best error=0.3347,\tbest estimator my_xgb1's best error=0.3347\n",
      "[flaml.automl: 11-23 01:30:45] {2223} INFO - iteration 202, current learner my_xgb1\n",
      "[flaml.automl: 11-23 01:30:45] {2417} INFO -  at 18.6s,\testimator my_xgb1's best error=0.3347,\tbest estimator my_xgb1's best error=0.3347\n",
      "[flaml.automl: 11-23 01:30:45] {2223} INFO - iteration 203, current learner my_xgb1\n",
      "[flaml.automl: 11-23 01:30:45] {2417} INFO -  at 18.8s,\testimator my_xgb1's best error=0.3347,\tbest estimator my_xgb1's best error=0.3347\n",
      "[flaml.automl: 11-23 01:30:45] {2223} INFO - iteration 204, current learner my_xgb1\n",
      "[flaml.automl: 11-23 01:30:45] {2417} INFO -  at 18.9s,\testimator my_xgb1's best error=0.3347,\tbest estimator my_xgb1's best error=0.3347\n",
      "[flaml.automl: 11-23 01:30:45] {2223} INFO - iteration 205, current learner my_xgb1\n",
      "[flaml.automl: 11-23 01:30:46] {2417} INFO -  at 19.0s,\testimator my_xgb1's best error=0.3347,\tbest estimator my_xgb1's best error=0.3347\n",
      "[flaml.automl: 11-23 01:30:46] {2223} INFO - iteration 206, current learner my_xgb1\n",
      "[flaml.automl: 11-23 01:30:46] {2417} INFO -  at 19.1s,\testimator my_xgb1's best error=0.3347,\tbest estimator my_xgb1's best error=0.3347\n",
      "[flaml.automl: 11-23 01:30:46] {2223} INFO - iteration 207, current learner my_xgb1\n",
      "[flaml.automl: 11-23 01:30:46] {2417} INFO -  at 19.2s,\testimator my_xgb1's best error=0.3347,\tbest estimator my_xgb1's best error=0.3347\n",
      "[flaml.automl: 11-23 01:30:46] {2223} INFO - iteration 208, current learner my_xgb1\n",
      "[flaml.automl: 11-23 01:30:46] {2417} INFO -  at 19.3s,\testimator my_xgb1's best error=0.3347,\tbest estimator my_xgb1's best error=0.3347\n",
      "[flaml.automl: 11-23 01:30:46] {2223} INFO - iteration 209, current learner my_xgb1\n",
      "[flaml.automl: 11-23 01:30:46] {2417} INFO -  at 19.5s,\testimator my_xgb1's best error=0.3347,\tbest estimator my_xgb1's best error=0.3347\n",
      "[flaml.automl: 11-23 01:30:46] {2223} INFO - iteration 210, current learner my_xgb1\n",
      "[flaml.automl: 11-23 01:30:46] {2417} INFO -  at 19.5s,\testimator my_xgb1's best error=0.3347,\tbest estimator my_xgb1's best error=0.3347\n",
      "[flaml.automl: 11-23 01:30:46] {2223} INFO - iteration 211, current learner my_xgb1\n",
      "[flaml.automl: 11-23 01:30:46] {2417} INFO -  at 19.7s,\testimator my_xgb1's best error=0.3347,\tbest estimator my_xgb1's best error=0.3347\n",
      "[flaml.automl: 11-23 01:30:46] {2223} INFO - iteration 212, current learner my_xgb1\n",
      "[flaml.automl: 11-23 01:30:46] {2417} INFO -  at 19.7s,\testimator my_xgb1's best error=0.3347,\tbest estimator my_xgb1's best error=0.3347\n",
      "[flaml.automl: 11-23 01:30:46] {2223} INFO - iteration 213, current learner my_xgb1\n",
      "[flaml.automl: 11-23 01:30:46] {2417} INFO -  at 19.8s,\testimator my_xgb1's best error=0.3347,\tbest estimator my_xgb1's best error=0.3347\n",
      "[flaml.automl: 11-23 01:30:46] {2223} INFO - iteration 214, current learner my_xgb1\n",
      "[flaml.automl: 11-23 01:30:46] {2417} INFO -  at 19.8s,\testimator my_xgb1's best error=0.3347,\tbest estimator my_xgb1's best error=0.3347\n",
      "[flaml.automl: 11-23 01:30:46] {2223} INFO - iteration 215, current learner my_xgb1\n",
      "[flaml.automl: 11-23 01:30:47] {2417} INFO -  at 20.0s,\testimator my_xgb1's best error=0.3347,\tbest estimator my_xgb1's best error=0.3347\n",
      "[flaml.automl: 11-23 01:30:47] {2223} INFO - iteration 216, current learner my_xgb1\n",
      "[flaml.automl: 11-23 01:30:47] {2417} INFO -  at 20.1s,\testimator my_xgb1's best error=0.3347,\tbest estimator my_xgb1's best error=0.3347\n",
      "[flaml.automl: 11-23 01:30:47] {2223} INFO - iteration 217, current learner my_xgb1\n",
      "[flaml.automl: 11-23 01:30:47] {2417} INFO -  at 20.2s,\testimator my_xgb1's best error=0.3347,\tbest estimator my_xgb1's best error=0.3347\n",
      "[flaml.automl: 11-23 01:30:47] {2223} INFO - iteration 218, current learner my_xgb1\n",
      "[flaml.automl: 11-23 01:30:47] {2417} INFO -  at 20.3s,\testimator my_xgb1's best error=0.3347,\tbest estimator my_xgb1's best error=0.3347\n",
      "[flaml.automl: 11-23 01:30:47] {2223} INFO - iteration 219, current learner my_xgb1\n",
      "[flaml.automl: 11-23 01:30:47] {2417} INFO -  at 20.4s,\testimator my_xgb1's best error=0.3347,\tbest estimator my_xgb1's best error=0.3347\n",
      "[flaml.automl: 11-23 01:30:47] {2223} INFO - iteration 220, current learner my_xgb1\n",
      "[flaml.automl: 11-23 01:30:47] {2417} INFO -  at 20.6s,\testimator my_xgb1's best error=0.3347,\tbest estimator my_xgb1's best error=0.3347\n",
      "[flaml.automl: 11-23 01:30:47] {2223} INFO - iteration 221, current learner my_xgb1\n",
      "[flaml.automl: 11-23 01:30:47] {2417} INFO -  at 20.8s,\testimator my_xgb1's best error=0.3347,\tbest estimator my_xgb1's best error=0.3347\n",
      "[flaml.automl: 11-23 01:30:47] {2223} INFO - iteration 222, current learner my_xgb1\n",
      "[flaml.automl: 11-23 01:30:47] {2417} INFO -  at 20.8s,\testimator my_xgb1's best error=0.3347,\tbest estimator my_xgb1's best error=0.3347\n",
      "[flaml.automl: 11-23 01:30:47] {2223} INFO - iteration 223, current learner my_xgb1\n",
      "[flaml.automl: 11-23 01:30:47] {2417} INFO -  at 20.9s,\testimator my_xgb1's best error=0.3347,\tbest estimator my_xgb1's best error=0.3347\n",
      "[flaml.automl: 11-23 01:30:47] {2223} INFO - iteration 224, current learner my_xgb1\n",
      "[flaml.automl: 11-23 01:30:48] {2417} INFO -  at 21.0s,\testimator my_xgb1's best error=0.3347,\tbest estimator my_xgb1's best error=0.3347\n",
      "[flaml.automl: 11-23 01:30:48] {2223} INFO - iteration 225, current learner my_xgb1\n",
      "[flaml.automl: 11-23 01:30:48] {2417} INFO -  at 21.1s,\testimator my_xgb1's best error=0.3347,\tbest estimator my_xgb1's best error=0.3347\n",
      "[flaml.automl: 11-23 01:30:48] {2223} INFO - iteration 226, current learner my_xgb1\n",
      "[flaml.automl: 11-23 01:30:48] {2417} INFO -  at 21.3s,\testimator my_xgb1's best error=0.3347,\tbest estimator my_xgb1's best error=0.3347\n",
      "[flaml.automl: 11-23 01:30:48] {2223} INFO - iteration 227, current learner my_xgb1\n",
      "[flaml.automl: 11-23 01:30:48] {2417} INFO -  at 21.4s,\testimator my_xgb1's best error=0.3347,\tbest estimator my_xgb1's best error=0.3347\n",
      "[flaml.automl: 11-23 01:30:48] {2223} INFO - iteration 228, current learner my_xgb1\n",
      "[flaml.automl: 11-23 01:30:48] {2417} INFO -  at 21.6s,\testimator my_xgb1's best error=0.3347,\tbest estimator my_xgb1's best error=0.3347\n",
      "[flaml.automl: 11-23 01:30:48] {2223} INFO - iteration 229, current learner my_xgb1\n",
      "[flaml.automl: 11-23 01:30:48] {2417} INFO -  at 21.6s,\testimator my_xgb1's best error=0.3347,\tbest estimator my_xgb1's best error=0.3347\n",
      "[flaml.automl: 11-23 01:30:48] {2223} INFO - iteration 230, current learner my_xgb1\n",
      "[flaml.automl: 11-23 01:30:48] {2417} INFO -  at 21.7s,\testimator my_xgb1's best error=0.3347,\tbest estimator my_xgb1's best error=0.3347\n",
      "[flaml.automl: 11-23 01:30:48] {2223} INFO - iteration 231, current learner my_xgb1\n",
      "[flaml.automl: 11-23 01:30:48] {2417} INFO -  at 21.8s,\testimator my_xgb1's best error=0.3347,\tbest estimator my_xgb1's best error=0.3347\n",
      "[flaml.automl: 11-23 01:30:48] {2223} INFO - iteration 232, current learner my_xgb1\n",
      "[flaml.automl: 11-23 01:30:49] {2417} INFO -  at 21.9s,\testimator my_xgb1's best error=0.3347,\tbest estimator my_xgb1's best error=0.3347\n",
      "[flaml.automl: 11-23 01:30:49] {2223} INFO - iteration 233, current learner my_xgb1\n",
      "[flaml.automl: 11-23 01:30:49] {2417} INFO -  at 22.0s,\testimator my_xgb1's best error=0.3347,\tbest estimator my_xgb1's best error=0.3347\n",
      "[flaml.automl: 11-23 01:30:49] {2223} INFO - iteration 234, current learner my_xgb1\n",
      "[flaml.automl: 11-23 01:30:49] {2417} INFO -  at 22.1s,\testimator my_xgb1's best error=0.3347,\tbest estimator my_xgb1's best error=0.3347\n",
      "[flaml.automl: 11-23 01:30:49] {2223} INFO - iteration 235, current learner my_xgb1\n",
      "[flaml.automl: 11-23 01:30:49] {2417} INFO -  at 22.2s,\testimator my_xgb1's best error=0.3347,\tbest estimator my_xgb1's best error=0.3347\n",
      "[flaml.automl: 11-23 01:30:49] {2223} INFO - iteration 236, current learner my_xgb1\n",
      "[flaml.automl: 11-23 01:30:49] {2417} INFO -  at 22.3s,\testimator my_xgb1's best error=0.3347,\tbest estimator my_xgb1's best error=0.3347\n",
      "[flaml.automl: 11-23 01:30:49] {2223} INFO - iteration 237, current learner my_xgb1\n",
      "[flaml.automl: 11-23 01:30:49] {2417} INFO -  at 22.4s,\testimator my_xgb1's best error=0.3347,\tbest estimator my_xgb1's best error=0.3347\n",
      "[flaml.automl: 11-23 01:30:49] {2223} INFO - iteration 238, current learner my_xgb1\n",
      "[flaml.automl: 11-23 01:30:49] {2417} INFO -  at 22.5s,\testimator my_xgb1's best error=0.3347,\tbest estimator my_xgb1's best error=0.3347\n",
      "[flaml.automl: 11-23 01:30:49] {2223} INFO - iteration 239, current learner my_xgb1\n",
      "[flaml.automl: 11-23 01:30:49] {2417} INFO -  at 22.6s,\testimator my_xgb1's best error=0.3347,\tbest estimator my_xgb1's best error=0.3347\n",
      "[flaml.automl: 11-23 01:30:49] {2223} INFO - iteration 240, current learner my_xgb1\n",
      "[flaml.automl: 11-23 01:30:49] {2417} INFO -  at 22.6s,\testimator my_xgb1's best error=0.3347,\tbest estimator my_xgb1's best error=0.3347\n",
      "[flaml.automl: 11-23 01:30:49] {2223} INFO - iteration 241, current learner my_xgb1\n",
      "[flaml.automl: 11-23 01:30:49] {2417} INFO -  at 22.8s,\testimator my_xgb1's best error=0.3347,\tbest estimator my_xgb1's best error=0.3347\n",
      "[flaml.automl: 11-23 01:30:49] {2223} INFO - iteration 242, current learner my_xgb1\n",
      "[flaml.automl: 11-23 01:30:49] {2417} INFO -  at 22.8s,\testimator my_xgb1's best error=0.3347,\tbest estimator my_xgb1's best error=0.3347\n",
      "[flaml.automl: 11-23 01:30:49] {2223} INFO - iteration 243, current learner my_xgb1\n",
      "[flaml.automl: 11-23 01:30:50] {2417} INFO -  at 23.0s,\testimator my_xgb1's best error=0.3347,\tbest estimator my_xgb1's best error=0.3347\n",
      "[flaml.automl: 11-23 01:30:50] {2223} INFO - iteration 244, current learner my_xgb1\n",
      "[flaml.automl: 11-23 01:30:50] {2417} INFO -  at 23.2s,\testimator my_xgb1's best error=0.3347,\tbest estimator my_xgb1's best error=0.3347\n",
      "[flaml.automl: 11-23 01:30:50] {2223} INFO - iteration 245, current learner my_xgb1\n",
      "[flaml.automl: 11-23 01:30:50] {2417} INFO -  at 23.3s,\testimator my_xgb1's best error=0.3347,\tbest estimator my_xgb1's best error=0.3347\n",
      "[flaml.automl: 11-23 01:30:50] {2223} INFO - iteration 246, current learner my_xgb1\n",
      "[flaml.automl: 11-23 01:30:50] {2417} INFO -  at 23.4s,\testimator my_xgb1's best error=0.3347,\tbest estimator my_xgb1's best error=0.3347\n",
      "[flaml.automl: 11-23 01:30:50] {2223} INFO - iteration 247, current learner my_xgb1\n",
      "[flaml.automl: 11-23 01:30:50] {2417} INFO -  at 23.5s,\testimator my_xgb1's best error=0.3347,\tbest estimator my_xgb1's best error=0.3347\n",
      "[flaml.automl: 11-23 01:30:50] {2223} INFO - iteration 248, current learner my_xgb1\n",
      "[flaml.automl: 11-23 01:30:50] {2417} INFO -  at 23.6s,\testimator my_xgb1's best error=0.3347,\tbest estimator my_xgb1's best error=0.3347\n",
      "[flaml.automl: 11-23 01:30:50] {2223} INFO - iteration 249, current learner my_xgb1\n",
      "[flaml.automl: 11-23 01:30:50] {2417} INFO -  at 23.7s,\testimator my_xgb1's best error=0.3347,\tbest estimator my_xgb1's best error=0.3347\n",
      "[flaml.automl: 11-23 01:30:50] {2223} INFO - iteration 250, current learner my_xgb1\n",
      "[flaml.automl: 11-23 01:30:50] {2417} INFO -  at 23.7s,\testimator my_xgb1's best error=0.3347,\tbest estimator my_xgb1's best error=0.3347\n",
      "[flaml.automl: 11-23 01:30:50] {2223} INFO - iteration 251, current learner my_xgb1\n",
      "[flaml.automl: 11-23 01:30:50] {2417} INFO -  at 23.9s,\testimator my_xgb1's best error=0.3347,\tbest estimator my_xgb1's best error=0.3347\n",
      "[flaml.automl: 11-23 01:30:50] {2223} INFO - iteration 252, current learner my_xgb1\n",
      "[flaml.automl: 11-23 01:30:50] {2417} INFO -  at 23.9s,\testimator my_xgb1's best error=0.3347,\tbest estimator my_xgb1's best error=0.3347\n",
      "[flaml.automl: 11-23 01:30:51] {2223} INFO - iteration 253, current learner my_xgb1\n",
      "[flaml.automl: 11-23 01:30:51] {2417} INFO -  at 24.0s,\testimator my_xgb1's best error=0.3347,\tbest estimator my_xgb1's best error=0.3347\n",
      "[flaml.automl: 11-23 01:30:51] {2223} INFO - iteration 254, current learner my_xgb1\n",
      "[flaml.automl: 11-23 01:30:51] {2417} INFO -  at 24.1s,\testimator my_xgb1's best error=0.3347,\tbest estimator my_xgb1's best error=0.3347\n",
      "[flaml.automl: 11-23 01:30:51] {2223} INFO - iteration 255, current learner my_xgb1\n",
      "[flaml.automl: 11-23 01:30:51] {2417} INFO -  at 24.2s,\testimator my_xgb1's best error=0.3347,\tbest estimator my_xgb1's best error=0.3347\n",
      "[flaml.automl: 11-23 01:30:51] {2223} INFO - iteration 256, current learner my_xgb1\n",
      "[flaml.automl: 11-23 01:30:51] {2417} INFO -  at 24.3s,\testimator my_xgb1's best error=0.3347,\tbest estimator my_xgb1's best error=0.3347\n",
      "[flaml.automl: 11-23 01:30:51] {2223} INFO - iteration 257, current learner my_xgb1\n",
      "[flaml.automl: 11-23 01:30:51] {2417} INFO -  at 24.4s,\testimator my_xgb1's best error=0.3347,\tbest estimator my_xgb1's best error=0.3347\n",
      "[flaml.automl: 11-23 01:30:51] {2223} INFO - iteration 258, current learner my_xgb1\n",
      "[flaml.automl: 11-23 01:30:51] {2417} INFO -  at 24.5s,\testimator my_xgb1's best error=0.3347,\tbest estimator my_xgb1's best error=0.3347\n",
      "[flaml.automl: 11-23 01:30:51] {2223} INFO - iteration 259, current learner my_xgb1\n",
      "[flaml.automl: 11-23 01:30:51] {2417} INFO -  at 24.6s,\testimator my_xgb1's best error=0.3347,\tbest estimator my_xgb1's best error=0.3347\n",
      "[flaml.automl: 11-23 01:30:51] {2223} INFO - iteration 260, current learner my_xgb1\n",
      "[flaml.automl: 11-23 01:30:51] {2417} INFO -  at 24.6s,\testimator my_xgb1's best error=0.3347,\tbest estimator my_xgb1's best error=0.3347\n",
      "[flaml.automl: 11-23 01:30:51] {2223} INFO - iteration 261, current learner my_xgb1\n",
      "[flaml.automl: 11-23 01:30:51] {2417} INFO -  at 24.9s,\testimator my_xgb1's best error=0.3347,\tbest estimator my_xgb1's best error=0.3347\n",
      "[flaml.automl: 11-23 01:30:51] {2223} INFO - iteration 262, current learner my_xgb1\n",
      "[flaml.automl: 11-23 01:30:52] {2417} INFO -  at 25.0s,\testimator my_xgb1's best error=0.3347,\tbest estimator my_xgb1's best error=0.3347\n",
      "[flaml.automl: 11-23 01:30:52] {2223} INFO - iteration 263, current learner my_xgb1\n",
      "[flaml.automl: 11-23 01:30:52] {2417} INFO -  at 25.0s,\testimator my_xgb1's best error=0.3347,\tbest estimator my_xgb1's best error=0.3347\n",
      "[flaml.automl: 11-23 01:30:52] {2223} INFO - iteration 264, current learner my_xgb1\n",
      "[flaml.automl: 11-23 01:30:52] {2417} INFO -  at 25.1s,\testimator my_xgb1's best error=0.3347,\tbest estimator my_xgb1's best error=0.3347\n",
      "[flaml.automl: 11-23 01:30:52] {2223} INFO - iteration 265, current learner my_xgb1\n",
      "[flaml.automl: 11-23 01:30:52] {2417} INFO -  at 25.2s,\testimator my_xgb1's best error=0.3347,\tbest estimator my_xgb1's best error=0.3347\n",
      "[flaml.automl: 11-23 01:30:52] {2223} INFO - iteration 266, current learner my_xgb1\n",
      "[flaml.automl: 11-23 01:30:52] {2417} INFO -  at 25.4s,\testimator my_xgb1's best error=0.3347,\tbest estimator my_xgb1's best error=0.3347\n",
      "[flaml.automl: 11-23 01:30:52] {2223} INFO - iteration 267, current learner my_xgb1\n",
      "[flaml.automl: 11-23 01:30:52] {2417} INFO -  at 25.4s,\testimator my_xgb1's best error=0.3347,\tbest estimator my_xgb1's best error=0.3347\n",
      "[flaml.automl: 11-23 01:30:52] {2223} INFO - iteration 268, current learner my_xgb1\n",
      "[flaml.automl: 11-23 01:30:52] {2417} INFO -  at 25.5s,\testimator my_xgb1's best error=0.3347,\tbest estimator my_xgb1's best error=0.3347\n",
      "[flaml.automl: 11-23 01:30:52] {2223} INFO - iteration 269, current learner my_xgb1\n",
      "[flaml.automl: 11-23 01:30:52] {2417} INFO -  at 25.6s,\testimator my_xgb1's best error=0.3347,\tbest estimator my_xgb1's best error=0.3347\n",
      "[flaml.automl: 11-23 01:30:52] {2223} INFO - iteration 270, current learner my_xgb1\n",
      "[flaml.automl: 11-23 01:30:52] {2417} INFO -  at 25.7s,\testimator my_xgb1's best error=0.3347,\tbest estimator my_xgb1's best error=0.3347\n",
      "[flaml.automl: 11-23 01:30:52] {2223} INFO - iteration 271, current learner my_xgb1\n",
      "[flaml.automl: 11-23 01:30:52] {2417} INFO -  at 25.8s,\testimator my_xgb1's best error=0.3347,\tbest estimator my_xgb1's best error=0.3347\n",
      "[flaml.automl: 11-23 01:30:52] {2223} INFO - iteration 272, current learner my_xgb1\n",
      "[flaml.automl: 11-23 01:30:53] {2417} INFO -  at 25.9s,\testimator my_xgb1's best error=0.3347,\tbest estimator my_xgb1's best error=0.3347\n",
      "[flaml.automl: 11-23 01:30:53] {2223} INFO - iteration 273, current learner my_xgb1\n",
      "[flaml.automl: 11-23 01:30:53] {2417} INFO -  at 26.0s,\testimator my_xgb1's best error=0.3347,\tbest estimator my_xgb1's best error=0.3347\n",
      "[flaml.automl: 11-23 01:30:53] {2223} INFO - iteration 274, current learner my_xgb1\n",
      "[flaml.automl: 11-23 01:30:53] {2417} INFO -  at 26.2s,\testimator my_xgb1's best error=0.3347,\tbest estimator my_xgb1's best error=0.3347\n",
      "[flaml.automl: 11-23 01:30:53] {2223} INFO - iteration 275, current learner my_xgb1\n",
      "[flaml.automl: 11-23 01:30:53] {2417} INFO -  at 26.4s,\testimator my_xgb1's best error=0.3347,\tbest estimator my_xgb1's best error=0.3347\n",
      "[flaml.automl: 11-23 01:30:53] {2223} INFO - iteration 276, current learner my_xgb1\n",
      "[flaml.automl: 11-23 01:30:53] {2417} INFO -  at 26.4s,\testimator my_xgb1's best error=0.3347,\tbest estimator my_xgb1's best error=0.3347\n",
      "[flaml.automl: 11-23 01:30:53] {2223} INFO - iteration 277, current learner my_xgb1\n",
      "[flaml.automl: 11-23 01:30:53] {2417} INFO -  at 26.5s,\testimator my_xgb1's best error=0.3347,\tbest estimator my_xgb1's best error=0.3347\n",
      "[flaml.automl: 11-23 01:30:53] {2223} INFO - iteration 278, current learner my_xgb1\n",
      "[flaml.automl: 11-23 01:30:53] {2417} INFO -  at 26.6s,\testimator my_xgb1's best error=0.3347,\tbest estimator my_xgb1's best error=0.3347\n",
      "[flaml.automl: 11-23 01:30:53] {2223} INFO - iteration 279, current learner my_xgb1\n",
      "[flaml.automl: 11-23 01:30:53] {2417} INFO -  at 26.7s,\testimator my_xgb1's best error=0.3347,\tbest estimator my_xgb1's best error=0.3347\n",
      "[flaml.automl: 11-23 01:30:53] {2223} INFO - iteration 280, current learner my_xgb1\n",
      "[flaml.automl: 11-23 01:30:53] {2417} INFO -  at 26.8s,\testimator my_xgb1's best error=0.3347,\tbest estimator my_xgb1's best error=0.3347\n",
      "[flaml.automl: 11-23 01:30:53] {2223} INFO - iteration 281, current learner my_xgb1\n",
      "[flaml.automl: 11-23 01:30:53] {2417} INFO -  at 26.9s,\testimator my_xgb1's best error=0.3347,\tbest estimator my_xgb1's best error=0.3347\n",
      "[flaml.automl: 11-23 01:30:53] {2223} INFO - iteration 282, current learner my_xgb1\n",
      "[flaml.automl: 11-23 01:30:54] {2417} INFO -  at 26.9s,\testimator my_xgb1's best error=0.3347,\tbest estimator my_xgb1's best error=0.3347\n",
      "[flaml.automl: 11-23 01:30:54] {2223} INFO - iteration 283, current learner my_xgb1\n",
      "[flaml.automl: 11-23 01:30:54] {2417} INFO -  at 27.0s,\testimator my_xgb1's best error=0.3347,\tbest estimator my_xgb1's best error=0.3347\n",
      "[flaml.automl: 11-23 01:30:54] {2223} INFO - iteration 284, current learner my_xgb1\n",
      "[flaml.automl: 11-23 01:30:54] {2417} INFO -  at 27.1s,\testimator my_xgb1's best error=0.3347,\tbest estimator my_xgb1's best error=0.3347\n",
      "[flaml.automl: 11-23 01:30:54] {2223} INFO - iteration 285, current learner my_xgb1\n",
      "[flaml.automl: 11-23 01:30:54] {2417} INFO -  at 27.2s,\testimator my_xgb1's best error=0.3347,\tbest estimator my_xgb1's best error=0.3347\n",
      "[flaml.automl: 11-23 01:30:54] {2223} INFO - iteration 286, current learner my_xgb1\n",
      "[flaml.automl: 11-23 01:30:54] {2417} INFO -  at 27.3s,\testimator my_xgb1's best error=0.3347,\tbest estimator my_xgb1's best error=0.3347\n",
      "[flaml.automl: 11-23 01:30:54] {2223} INFO - iteration 287, current learner my_xgb1\n",
      "[flaml.automl: 11-23 01:30:54] {2417} INFO -  at 27.4s,\testimator my_xgb1's best error=0.3347,\tbest estimator my_xgb1's best error=0.3347\n",
      "[flaml.automl: 11-23 01:30:54] {2223} INFO - iteration 288, current learner my_xgb1\n",
      "[flaml.automl: 11-23 01:30:54] {2417} INFO -  at 27.4s,\testimator my_xgb1's best error=0.3347,\tbest estimator my_xgb1's best error=0.3347\n",
      "[flaml.automl: 11-23 01:30:54] {2223} INFO - iteration 289, current learner my_xgb1\n",
      "[flaml.automl: 11-23 01:30:54] {2417} INFO -  at 27.6s,\testimator my_xgb1's best error=0.3347,\tbest estimator my_xgb1's best error=0.3347\n",
      "[flaml.automl: 11-23 01:30:54] {2223} INFO - iteration 290, current learner my_xgb1\n",
      "[flaml.automl: 11-23 01:30:54] {2417} INFO -  at 27.7s,\testimator my_xgb1's best error=0.3347,\tbest estimator my_xgb1's best error=0.3347\n",
      "[flaml.automl: 11-23 01:30:54] {2223} INFO - iteration 291, current learner my_xgb1\n",
      "[flaml.automl: 11-23 01:30:54] {2417} INFO -  at 27.8s,\testimator my_xgb1's best error=0.3347,\tbest estimator my_xgb1's best error=0.3347\n",
      "[flaml.automl: 11-23 01:30:54] {2223} INFO - iteration 292, current learner my_xgb1\n",
      "[flaml.automl: 11-23 01:30:54] {2417} INFO -  at 27.8s,\testimator my_xgb1's best error=0.3347,\tbest estimator my_xgb1's best error=0.3347\n",
      "[flaml.automl: 11-23 01:30:54] {2223} INFO - iteration 293, current learner my_xgb1\n",
      "[flaml.automl: 11-23 01:30:55] {2417} INFO -  at 28.1s,\testimator my_xgb1's best error=0.3347,\tbest estimator my_xgb1's best error=0.3347\n",
      "[flaml.automl: 11-23 01:30:55] {2223} INFO - iteration 294, current learner my_xgb1\n",
      "[flaml.automl: 11-23 01:30:55] {2417} INFO -  at 28.1s,\testimator my_xgb1's best error=0.3347,\tbest estimator my_xgb1's best error=0.3347\n",
      "[flaml.automl: 11-23 01:30:55] {2223} INFO - iteration 295, current learner my_xgb1\n",
      "[flaml.automl: 11-23 01:30:55] {2417} INFO -  at 28.2s,\testimator my_xgb1's best error=0.3347,\tbest estimator my_xgb1's best error=0.3347\n",
      "[flaml.automl: 11-23 01:30:55] {2223} INFO - iteration 296, current learner my_xgb1\n",
      "[flaml.automl: 11-23 01:30:55] {2417} INFO -  at 28.3s,\testimator my_xgb1's best error=0.3347,\tbest estimator my_xgb1's best error=0.3347\n",
      "[flaml.automl: 11-23 01:30:55] {2223} INFO - iteration 297, current learner my_xgb1\n",
      "[flaml.automl: 11-23 01:30:55] {2417} INFO -  at 28.4s,\testimator my_xgb1's best error=0.3347,\tbest estimator my_xgb1's best error=0.3347\n",
      "[flaml.automl: 11-23 01:30:55] {2223} INFO - iteration 298, current learner my_xgb1\n",
      "[flaml.automl: 11-23 01:30:55] {2417} INFO -  at 28.5s,\testimator my_xgb1's best error=0.3347,\tbest estimator my_xgb1's best error=0.3347\n",
      "[flaml.automl: 11-23 01:30:55] {2223} INFO - iteration 299, current learner my_xgb1\n",
      "[flaml.automl: 11-23 01:30:55] {2417} INFO -  at 28.6s,\testimator my_xgb1's best error=0.3347,\tbest estimator my_xgb1's best error=0.3347\n",
      "[flaml.automl: 11-23 01:30:55] {2223} INFO - iteration 300, current learner my_xgb1\n",
      "[flaml.automl: 11-23 01:30:55] {2417} INFO -  at 28.6s,\testimator my_xgb1's best error=0.3347,\tbest estimator my_xgb1's best error=0.3347\n",
      "[flaml.automl: 11-23 01:30:55] {2223} INFO - iteration 301, current learner my_xgb1\n",
      "[flaml.automl: 11-23 01:30:55] {2417} INFO -  at 28.7s,\testimator my_xgb1's best error=0.3347,\tbest estimator my_xgb1's best error=0.3347\n",
      "[flaml.automl: 11-23 01:30:55] {2223} INFO - iteration 302, current learner my_xgb1\n",
      "[flaml.automl: 11-23 01:30:55] {2417} INFO -  at 28.8s,\testimator my_xgb1's best error=0.3347,\tbest estimator my_xgb1's best error=0.3347\n",
      "[flaml.automl: 11-23 01:30:55] {2223} INFO - iteration 303, current learner my_xgb1\n",
      "[flaml.automl: 11-23 01:30:55] {2417} INFO -  at 28.9s,\testimator my_xgb1's best error=0.3347,\tbest estimator my_xgb1's best error=0.3347\n",
      "[flaml.automl: 11-23 01:30:55] {2223} INFO - iteration 304, current learner my_xgb1\n",
      "[flaml.automl: 11-23 01:30:56] {2417} INFO -  at 29.0s,\testimator my_xgb1's best error=0.3347,\tbest estimator my_xgb1's best error=0.3347\n",
      "[flaml.automl: 11-23 01:30:56] {2223} INFO - iteration 305, current learner my_xgb1\n",
      "[flaml.automl: 11-23 01:30:56] {2417} INFO -  at 29.0s,\testimator my_xgb1's best error=0.3347,\tbest estimator my_xgb1's best error=0.3347\n",
      "[flaml.automl: 11-23 01:30:56] {2223} INFO - iteration 306, current learner my_xgb1\n",
      "[flaml.automl: 11-23 01:30:56] {2417} INFO -  at 29.2s,\testimator my_xgb1's best error=0.3347,\tbest estimator my_xgb1's best error=0.3347\n",
      "[flaml.automl: 11-23 01:30:56] {2223} INFO - iteration 307, current learner my_xgb1\n",
      "[flaml.automl: 11-23 01:30:56] {2417} INFO -  at 29.3s,\testimator my_xgb1's best error=0.3347,\tbest estimator my_xgb1's best error=0.3347\n",
      "[flaml.automl: 11-23 01:30:56] {2223} INFO - iteration 308, current learner my_xgb1\n",
      "[flaml.automl: 11-23 01:30:56] {2417} INFO -  at 29.6s,\testimator my_xgb1's best error=0.3347,\tbest estimator my_xgb1's best error=0.3347\n",
      "[flaml.automl: 11-23 01:30:56] {2223} INFO - iteration 309, current learner my_xgb1\n",
      "[flaml.automl: 11-23 01:30:56] {2417} INFO -  at 29.8s,\testimator my_xgb1's best error=0.3347,\tbest estimator my_xgb1's best error=0.3347\n",
      "[flaml.automl: 11-23 01:30:56] {2223} INFO - iteration 310, current learner my_xgb1\n",
      "[flaml.automl: 11-23 01:30:56] {2417} INFO -  at 29.8s,\testimator my_xgb1's best error=0.3347,\tbest estimator my_xgb1's best error=0.3347\n",
      "[flaml.automl: 11-23 01:30:56] {2223} INFO - iteration 311, current learner my_xgb1\n",
      "[flaml.automl: 11-23 01:30:57] {2417} INFO -  at 30.0s,\testimator my_xgb1's best error=0.3347,\tbest estimator my_xgb1's best error=0.3347\n",
      "[flaml.automl: 11-23 01:30:57] {2223} INFO - iteration 312, current learner my_xgb2\n",
      "[flaml.automl: 11-23 01:30:57] {2417} INFO -  at 30.0s,\testimator my_xgb2's best error=4.1611,\tbest estimator my_xgb1's best error=0.3347\n",
      "[flaml.automl: 11-23 01:30:57] {2629} INFO - retrain my_xgb1 for 0.1s\n",
      "[flaml.automl: 11-23 01:30:57] {2634} INFO - retrained model: <xgboost.core.Booster object at 0x7f6d745f0650>\n",
      "[flaml.automl: 11-23 01:30:57] {2014} INFO - fit succeeded\n",
      "[flaml.automl: 11-23 01:30:57] {2016} INFO - Time taken to find the best model: 11.981720209121704\n"
     ]
    }
   ],
   "source": [
    "import numpy as np \n",
    "\n",
    "# define your customized objective function\n",
    "def logregobj(preds, dtrain):\n",
    "    labels = dtrain.get_label()\n",
    "    preds = 1.0 / (1.0 + np.exp(-preds)) # transform raw leaf weight\n",
    "    grad = preds - labels\n",
    "    hess = preds * (1.0 - preds)\n",
    "    return grad, hess\n",
    "\n",
    "# create customized XGBoost learners class with your objective function\n",
    "from flaml.model import XGBoostEstimator\n",
    "\n",
    "\n",
    "class MyXGB1(XGBoostEstimator):\n",
    "    \"XGBoostEstimator with the logregobj function as the objective function\"\n",
    "\n",
    "    def __init__(self, **config):\n",
    "        super().__init__(objective=logregobj, **config) \n",
    "\n",
    "\n",
    "class MyXGB2(XGBoostEstimator):\n",
    "    \"\"\"XGBoostEstimator with 'reg:squarederror' as the objective function\"\"\"\n",
    "\n",
    "    def __init__(self, **config):\n",
    "        super().__init__(objective='reg:gamma', **config)\n",
    "\n",
    "\n",
    "from flaml import AutoML\n",
    "automl = AutoML()\n",
    "automl.add_learner(learner_name='my_xgb1', learner_class=MyXGB1)\n",
    "automl.add_learner(learner_name='my_xgb2', learner_class=MyXGB2)\n",
    "settings = {\n",
    "    \"time_budget\": 30,  # total running time in seconds\n",
    "    \"metric\": 'r2',  # primary metrics for regression can be chosen from: ['mae','mse','r2']\n",
    "    \"estimator_list\": ['my_xgb1', 'my_xgb2'],  # list of ML learners; we tune lightgbm in this example\n",
    "    \"task\": 'regression',  # task type    \n",
    "    \"log_file_name\": 'houses_experiment_my_xgb.log',  # flaml log file\n",
    "}\n",
    "automl.fit(X_train=X_train, y_train=y_train, **settings)"
   ]
  },
  {
   "cell_type": "code",
   "execution_count": 18,
   "metadata": {
    "tags": []
   },
   "outputs": [
    {
     "name": "stdout",
     "output_type": "stream",
     "text": [
      "Best hyperparmeter config: {'n_estimators': 28, 'max_leaves': 182, 'max_depth': 0, 'min_child_weight': 0.001, 'learning_rate': 0.2276973644896658, 'subsample': 0.6775148384104485, 'colsample_bylevel': 0.9912902070149149, 'colsample_bytree': 1.0, 'reg_alpha': 0.07330248020902469, 'reg_lambda': 0.36054508770487687}\n",
      "Best r2 on validation data: 0.6653\n",
      "Training duration of best run: 0.09387 s\n",
      "Predicted labels\n",
      "[172378.17 248509.11 156986.72 ... 201823.47 238128.38 273842.53]\n",
      "True labels\n",
      "14740    136900.0\n",
      "10101    241300.0\n",
      "20566    200700.0\n",
      "2670      72500.0\n",
      "15709    460000.0\n",
      "           ...   \n",
      "13132    121200.0\n",
      "8228     137500.0\n",
      "3948     160900.0\n",
      "8522     227300.0\n",
      "16798    265600.0\n",
      "Name: median_house_value, Length: 5160, dtype: float64\n",
      "r2 = 0.6722200251197084\n",
      "mse = 4332761742.09886\n",
      "mae = 43937.87377986465\n"
     ]
    }
   ],
   "source": [
    "print('Best hyperparmeter config:', automl.best_config)\n",
    "print('Best r2 on validation data: {0:.4g}'.format(1-automl.best_loss))\n",
    "print('Training duration of best run: {0:.4g} s'.format(automl.best_config_train_time))\n",
    "\n",
    "y_pred = automl.predict(X_test)\n",
    "print(f'Predicted labels\\n{y_pred}')\n",
    "print(f'True labels\\n{y_test}')\n",
    "\n",
    "from flaml.ml import sklearn_metric_loss_score\n",
    "print('r2', '=', 1 - sklearn_metric_loss_score('r2', y_pred, y_test))\n",
    "print('mse', '=', sklearn_metric_loss_score('mse', y_pred, y_test))\n",
    "print('mae', '=', sklearn_metric_loss_score('mae', y_pred, y_test))"
   ]
  }
 ],
 "metadata": {
  "interpreter": {
   "hash": "0cfea3304185a9579d09e0953576b57c8581e46e6ebc6dfeb681bc5a511f7544"
  },
  "kernelspec": {
   "display_name": "Python 3.8.0 64-bit ('blend': conda)",
   "name": "python3"
  },
  "language_info": {
   "codemirror_mode": {
    "name": "ipython",
    "version": 3
   },
   "file_extension": ".py",
   "mimetype": "text/x-python",
   "name": "python",
   "nbconvert_exporter": "python",
   "pygments_lexer": "ipython3",
   "version": "3.7.12"
  }
 },
 "nbformat": 4,
 "nbformat_minor": 2
}
