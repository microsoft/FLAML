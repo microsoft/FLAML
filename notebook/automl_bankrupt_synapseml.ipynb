{
  "cells": [
    {
      "attachments": {},
      "cell_type": "markdown",
      "metadata": {},
      "source": [
        "# FLAML AutoML on Apache Spark \n",
        "\n",
        "|  | | | | |\n",
        "|-----|-----|--------|--------|--------|\n",
        "|![synapse](https://microsoft.github.io/SynapseML/img/logo.svg)| <img src=\"https://www.microsoft.com/en-us/research/uploads/prod/2020/02/flaml-1024x406.png\" alt=\"drawing\" width=\"200\"/> | ![image-alt-text](https://th.bing.com/th/id/OIP.5aNnFabBKoYIYhoTrNc_CAHaHa?w=174&h=180&c=7&r=0&o=5&pid=1.7)| \n",
        "\n",
        "\n",
        "<style>\n",
        "td, th {\n",
        "   border: none!important;\n",
        "}\n",
        "</style>\n",
        "### Goal\n",
        "\n",
        "\n",
        "## 1. Introduction\n",
        "\n",
        "### FLAML\n",
        "FLAML is a Python library (https://github.com/microsoft/FLAML) designed to automatically produce accurate machine learning models \n",
        "with low computational cost. It is fast and economical. The simple and lightweight design makes it easy \n",
        "to use and extend, such as adding new learners. FLAML can \n",
        "- serve as an economical AutoML engine,\n",
        "- be used as a fast hyperparameter tuning tool, or \n",
        "- be embedded in self-tuning software that requires low latency & resource in repetitive\n",
        "   tuning tasks.\n",
        "\n",
        "In this notebook, we demonstrate how to use FLAML library to do AutoML for SynapseML models and Apache Spark dataframes. We also compare the results between FLAML AutoML and the default SynapseML. \n",
        " "
      ]
    },
    {
      "cell_type": "code",
      "execution_count": 1,
      "metadata": {
        "jupyter": {
          "outputs_hidden": true,
          "source_hidden": false
        }
      },
      "outputs": [
        {
          "data": {
            "application/vnd.livy.statement-meta+json": {
              "execution_finish_time": "2023-04-19T00:49:35.7617208Z",
              "execution_start_time": "2023-04-19T00:49:35.7615143Z",
              "livy_statement_state": "available",
              "parent_msg_id": "aada545e-b4b9-4f61-b8f0-0921580f4c4c",
              "queued_time": "2023-04-19T00:41:29.8670317Z",
              "session_id": "27",
              "session_start_time": null,
              "spark_jobs": null,
              "spark_pool": null,
              "state": "finished",
              "statement_id": -1
            },
            "text/plain": [
              "StatementMeta(, 27, -1, Finished, Available)"
            ]
          },
          "metadata": {},
          "output_type": "display_data"
        },
        {
          "data": {},
          "execution_count": 1,
          "metadata": {},
          "output_type": "execute_result"
        },
        {
          "name": "stdout",
          "output_type": "stream",
          "text": [
            "Collecting flaml[synapse]@ git+https://github.com/microsoft/FLAML.git\n",
            "  Cloning https://github.com/microsoft/FLAML.git to /tmp/pip-install-9bp9bnbp/flaml_f9ddffb8b30b4c1aaffd650b9b9ac29a\n",
            "  Running command git clone --filter=blob:none --quiet https://github.com/microsoft/FLAML.git /tmp/pip-install-9bp9bnbp/flaml_f9ddffb8b30b4c1aaffd650b9b9ac29a\n",
            "  Resolved https://github.com/microsoft/FLAML.git to commit 99bb0a8425a58a537ae34347c867b4bc05310471\n",
            "  Preparing metadata (setup.py) ... \u001b[?25l-\b \b\\\b \bdone\n",
            "\u001b[?25hCollecting xgboost==1.6.1\n",
            "  Downloading xgboost-1.6.1-py3-none-manylinux2014_x86_64.whl (192.9 MB)\n",
            "\u001b[2K     \u001b[90m━━━━━━━━━━━━━━━━━━━━━━━━━━━━━━━━━━━━━━\u001b[0m \u001b[32m192.9/192.9 MB\u001b[0m \u001b[31m22.1 MB/s\u001b[0m eta \u001b[36m0:00:00\u001b[0m00:01\u001b[0m00:01\u001b[0m\n",
            "\u001b[?25hCollecting pandas==1.5.1\n",
            "  Downloading pandas-1.5.1-cp38-cp38-manylinux_2_17_x86_64.manylinux2014_x86_64.whl (12.2 MB)\n",
            "\u001b[2K     \u001b[90m━━━━━━━━━━━━━━━━━━━━━━━━━━━━━━━━━━━━━━━━\u001b[0m \u001b[32m12.2/12.2 MB\u001b[0m \u001b[31m96.6 MB/s\u001b[0m eta \u001b[36m0:00:00\u001b[0m00:01\u001b[0m00:01\u001b[0m\n",
            "\u001b[?25hCollecting numpy==1.23.4\n",
            "  Downloading numpy-1.23.4-cp38-cp38-manylinux_2_17_x86_64.manylinux2014_x86_64.whl (17.1 MB)\n",
            "\u001b[2K     \u001b[90m━━━━━━━━━━━━━━━━━━━━━━━━━━━━━━━━━━━━━━━━\u001b[0m \u001b[32m17.1/17.1 MB\u001b[0m \u001b[31m98.0 MB/s\u001b[0m eta \u001b[36m0:00:00\u001b[0m00:01\u001b[0m00:01\u001b[0m\n",
            "\u001b[?25hCollecting scipy\n",
            "  Downloading scipy-1.10.1-cp38-cp38-manylinux_2_17_x86_64.manylinux2014_x86_64.whl (34.5 MB)\n",
            "\u001b[2K     \u001b[90m━━━━━━━━━━━━━━━━━━━━━━━━━━━━━━━━━━━━━━━━\u001b[0m \u001b[32m34.5/34.5 MB\u001b[0m \u001b[31m82.3 MB/s\u001b[0m eta \u001b[36m0:00:00\u001b[0m00:01\u001b[0m00:01\u001b[0m\n",
            "\u001b[?25hCollecting pytz>=2020.1\n",
            "  Downloading pytz-2023.3-py2.py3-none-any.whl (502 kB)\n",
            "\u001b[2K     \u001b[90m━━━━━━━━━━━━━━━━━━━━━━━━━━━━━━━━━━━━━\u001b[0m \u001b[32m502.3/502.3 KB\u001b[0m \u001b[31m125.9 MB/s\u001b[0m eta \u001b[36m0:00:00\u001b[0m\n",
            "\u001b[?25hCollecting python-dateutil>=2.8.1\n",
            "  Downloading python_dateutil-2.8.2-py2.py3-none-any.whl (247 kB)\n",
            "\u001b[2K     \u001b[90m━━━━━━━━━━━━━━━━━━━━━━━━━━━━━━━━━━━━━\u001b[0m \u001b[32m247.7/247.7 KB\u001b[0m \u001b[31m104.4 MB/s\u001b[0m eta \u001b[36m0:00:00\u001b[0m\n",
            "\u001b[?25hCollecting lightgbm>=2.3.1\n",
            "  Downloading lightgbm-3.3.5-py3-none-manylinux1_x86_64.whl (2.0 MB)\n",
            "\u001b[2K     \u001b[90m━━━━━━━━━━━━━━━━━━━━━━━━━━━━━━━━━━━━━━━━\u001b[0m \u001b[32m2.0/2.0 MB\u001b[0m \u001b[31m137.2 MB/s\u001b[0m eta \u001b[36m0:00:00\u001b[0m\n",
            "\u001b[?25hCollecting scikit-learn>=0.24\n",
            "  Downloading scikit_learn-1.2.2-cp38-cp38-manylinux_2_17_x86_64.manylinux2014_x86_64.whl (9.8 MB)\n",
            "\u001b[2K     \u001b[90m━━━━━━━━━━━━━━━━━━━━━━━━━━━━━━━━━━━━━━━━\u001b[0m \u001b[32m9.8/9.8 MB\u001b[0m \u001b[31m148.5 MB/s\u001b[0m eta \u001b[36m0:00:00\u001b[0ma \u001b[36m0:00:01\u001b[0m\n",
            "\u001b[?25hCollecting joblibspark>=0.5.0\n",
            "  Downloading joblibspark-0.5.1-py3-none-any.whl (15 kB)\n",
            "Collecting optuna==2.8.0\n",
            "  Downloading optuna-2.8.0-py3-none-any.whl (301 kB)\n",
            "\u001b[2K     \u001b[90m━━━━━━━━━━━━━━━━━━━━━━━━━━━━━━━━━━━━━\u001b[0m \u001b[32m302.0/302.0 KB\u001b[0m \u001b[31m107.0 MB/s\u001b[0m eta \u001b[36m0:00:00\u001b[0m\n",
            "\u001b[?25hCollecting pyspark>=3.2.0\n",
            "  Downloading pyspark-3.4.0.tar.gz (310.8 MB)\n",
            "\u001b[2K     \u001b[90m━━━━━━━━━━━━━━━━━━━━━━━━━━━━━━━━━━━━━━\u001b[0m \u001b[32m310.8/310.8 MB\u001b[0m \u001b[31m18.0 MB/s\u001b[0m eta \u001b[36m0:00:00\u001b[0m00:01\u001b[0m00:01\u001b[0m\n",
            "\u001b[?25h  Preparing metadata (setup.py) ... \u001b[?25l-\b \bdone\n",
            "\u001b[?25hCollecting colorlog\n",
            "  Downloading colorlog-6.7.0-py2.py3-none-any.whl (11 kB)\n",
            "Collecting cmaes>=0.8.2\n",
            "  Downloading cmaes-0.9.1-py3-none-any.whl (21 kB)\n",
            "Collecting cliff\n",
            "  Downloading cliff-4.2.0-py3-none-any.whl (81 kB)\n",
            "\u001b[2K     \u001b[90m━━━━━━━━━━━━━━━━━━━━━━━━━━━━━━━━━━━━━━━━\u001b[0m \u001b[32m81.0/81.0 KB\u001b[0m \u001b[31m44.4 MB/s\u001b[0m eta \u001b[36m0:00:00\u001b[0m\n",
            "\u001b[?25hCollecting packaging>=20.0\n",
            "  Downloading packaging-23.1-py3-none-any.whl (48 kB)\n",
            "\u001b[2K     \u001b[90m━━━━━━━━━━━━━━━━━━━━━━━━━━━━━━━━━━━━━━━━\u001b[0m \u001b[32m48.9/48.9 KB\u001b[0m \u001b[31m27.4 MB/s\u001b[0m eta \u001b[36m0:00:00\u001b[0m\n",
            "\u001b[?25hCollecting alembic\n",
            "  Downloading alembic-1.10.3-py3-none-any.whl (212 kB)\n",
            "\u001b[2K     \u001b[90m━━━━━━━━━━━━━━━━━━━━━━━━━━━━━━━━━━━━━━\u001b[0m \u001b[32m212.3/212.3 KB\u001b[0m \u001b[31m70.2 MB/s\u001b[0m eta \u001b[36m0:00:00\u001b[0m\n",
            "\u001b[?25hCollecting sqlalchemy>=1.1.0\n",
            "  Downloading SQLAlchemy-2.0.9-cp38-cp38-manylinux_2_17_x86_64.manylinux2014_x86_64.whl (2.8 MB)\n",
            "\u001b[2K     \u001b[90m━━━━━━━━━━━━━━━━━━━━━━━━━━━━━━━━━━━━━━━━\u001b[0m \u001b[32m2.8/2.8 MB\u001b[0m \u001b[31m123.7 MB/s\u001b[0m eta \u001b[36m0:00:00\u001b[0m\n",
            "\u001b[?25hCollecting tqdm\n",
            "  Downloading tqdm-4.65.0-py3-none-any.whl (77 kB)\n",
            "\u001b[2K     \u001b[90m━━━━━━━━━━━━━━━━━━━━━━━━━━━━━━━━━━━━━━━━\u001b[0m \u001b[32m77.1/77.1 KB\u001b[0m \u001b[31m34.6 MB/s\u001b[0m eta \u001b[36m0:00:00\u001b[0m\n",
            "\u001b[?25hCollecting joblib>=0.14\n",
            "  Downloading joblib-1.2.0-py3-none-any.whl (297 kB)\n",
            "\u001b[2K     \u001b[90m━━━━━━━━━━━━━━━━━━━━━━━━━━━━━━━━━━━━━\u001b[0m \u001b[32m298.0/298.0 KB\u001b[0m \u001b[31m114.1 MB/s\u001b[0m eta \u001b[36m0:00:00\u001b[0m\n",
            "\u001b[?25hCollecting wheel\n",
            "  Downloading wheel-0.40.0-py3-none-any.whl (64 kB)\n",
            "\u001b[2K     \u001b[90m━━━━━━━━━━━━━━━━━━━━━━━━━━━━━━━━━━━━━━━━\u001b[0m \u001b[32m64.5/64.5 KB\u001b[0m \u001b[31m27.4 MB/s\u001b[0m eta \u001b[36m0:00:00\u001b[0m\n",
            "\u001b[?25hCollecting py4j==0.10.9.7\n",
            "  Downloading py4j-0.10.9.7-py2.py3-none-any.whl (200 kB)\n",
            "\u001b[2K     \u001b[90m━━━━━━━━━━━━━━━━━━━━━━━━━━━━━━━━━━━━━━\u001b[0m \u001b[32m200.5/200.5 KB\u001b[0m \u001b[31m84.1 MB/s\u001b[0m eta \u001b[36m0:00:00\u001b[0m\n",
            "\u001b[?25hCollecting six>=1.5\n",
            "  Downloading six-1.16.0-py2.py3-none-any.whl (11 kB)\n",
            "Collecting threadpoolctl>=2.0.0\n",
            "  Downloading threadpoolctl-3.1.0-py3-none-any.whl (14 kB)\n",
            "Collecting greenlet!=0.4.17\n",
            "  Downloading greenlet-2.0.2-cp38-cp38-manylinux_2_17_x86_64.manylinux2014_x86_64.whl (618 kB)\n",
            "\u001b[2K     \u001b[90m━━━━━━━━━━━━━━━━━━━━━━━━━━━━━━━━━━━━━\u001b[0m \u001b[32m618.5/618.5 KB\u001b[0m \u001b[31m131.2 MB/s\u001b[0m eta \u001b[36m0:00:00\u001b[0m\n",
            "\u001b[?25hCollecting typing-extensions>=4.2.0\n",
            "  Downloading typing_extensions-4.5.0-py3-none-any.whl (27 kB)\n",
            "Collecting importlib-metadata\n",
            "  Downloading importlib_metadata-6.5.0-py3-none-any.whl (22 kB)\n",
            "Collecting Mako\n",
            "  Downloading Mako-1.2.4-py3-none-any.whl (78 kB)\n",
            "\u001b[2K     \u001b[90m━━━━━━━━━━━━━━━━━━━━━━━━━━━━━━━━━━━━━━━━\u001b[0m \u001b[32m78.7/78.7 KB\u001b[0m \u001b[31m39.8 MB/s\u001b[0m eta \u001b[36m0:00:00\u001b[0m\n",
            "\u001b[?25hCollecting importlib-resources\n",
            "  Downloading importlib_resources-5.12.0-py3-none-any.whl (36 kB)\n",
            "Collecting cmd2>=1.0.0\n",
            "  Downloading cmd2-2.4.3-py3-none-any.whl (147 kB)\n",
            "\u001b[2K     \u001b[90m━━━━━━━━━━━━━━━━━━━━━━━━━━━━━━━━━━━━━━\u001b[0m \u001b[32m147.2/147.2 KB\u001b[0m \u001b[31m68.7 MB/s\u001b[0m eta \u001b[36m0:00:00\u001b[0m\n",
            "\u001b[?25hCollecting autopage>=0.4.0\n",
            "  Downloading autopage-0.5.1-py3-none-any.whl (29 kB)\n",
            "Collecting PrettyTable>=0.7.2\n",
            "  Downloading prettytable-3.7.0-py3-none-any.whl (27 kB)\n",
            "Collecting stevedore>=2.0.1\n",
            "  Downloading stevedore-5.0.0-py3-none-any.whl (49 kB)\n",
            "\u001b[2K     \u001b[90m━━━━━━━━━━━━━━━━━━━━━━━━━━━━━━━━━━━━━━━━\u001b[0m \u001b[32m49.6/49.6 KB\u001b[0m \u001b[31m23.9 MB/s\u001b[0m eta \u001b[36m0:00:00\u001b[0m\n",
            "\u001b[?25hCollecting PyYAML>=3.12\n",
            "  Downloading PyYAML-6.0-cp38-cp38-manylinux_2_5_x86_64.manylinux1_x86_64.manylinux_2_12_x86_64.manylinux2010_x86_64.whl (701 kB)\n",
            "\u001b[2K     \u001b[90m━━━━━━━━━━━━━━━━━━━━━━━━━━━━━━━━━━━━━\u001b[0m \u001b[32m701.2/701.2 KB\u001b[0m \u001b[31m121.5 MB/s\u001b[0m eta \u001b[36m0:00:00\u001b[0m\n",
            "\u001b[?25hCollecting wcwidth>=0.1.7\n",
            "  Downloading wcwidth-0.2.6-py2.py3-none-any.whl (29 kB)\n",
            "Collecting attrs>=16.3.0\n",
            "  Downloading attrs-23.1.0-py3-none-any.whl (61 kB)\n",
            "\u001b[2K     \u001b[90m━━━━━━━━━━━━━━━━━━━━━━━━━━━━━━━━━━━━━━━━\u001b[0m \u001b[32m61.2/61.2 KB\u001b[0m \u001b[31m33.2 MB/s\u001b[0m eta \u001b[36m0:00:00\u001b[0m\n",
            "\u001b[?25hCollecting pyperclip>=1.6\n",
            "  Downloading pyperclip-1.8.2.tar.gz (20 kB)\n",
            "  Preparing metadata (setup.py) ... \u001b[?25l-\b \bdone\n",
            "\u001b[?25hCollecting zipp>=0.5\n",
            "  Downloading zipp-3.15.0-py3-none-any.whl (6.8 kB)\n",
            "Collecting pbr!=2.1.0,>=2.0.0\n",
            "  Downloading pbr-5.11.1-py2.py3-none-any.whl (112 kB)\n",
            "\u001b[2K     \u001b[90m━━━━━━━━━━━━━━━━━━━━━━━━━━━━━━━━━━━━━━\u001b[0m \u001b[32m112.7/112.7 KB\u001b[0m \u001b[31m51.1 MB/s\u001b[0m eta \u001b[36m0:00:00\u001b[0m\n",
            "\u001b[?25hCollecting MarkupSafe>=0.9.2\n",
            "  Downloading MarkupSafe-2.1.2-cp38-cp38-manylinux_2_17_x86_64.manylinux2014_x86_64.whl (25 kB)\n",
            "Building wheels for collected packages: pyspark, flaml, pyperclip\n",
            "  Building wheel for pyspark (setup.py) ... \u001b[?25l-\b \b\\\b \b|\b \b/\b \b-\b \b\\\b \b|\b \b/\b \b-\b \b\\\b \b|\b \b/\b \b-\b \b\\\b \b|\b \b/\b \b-\b \b\\\b \b|\b \b/\b \b-\b \b\\\b \b|\b \b/\b \b-\b \b\\\b \b|\b \b/\b \b-\b \b\\\b \b|\b \b/\b \b-\b \b\\\b \b|\b \b/\b \b-\b \b\\\b \b|\b \b/\b \bdone\n",
            "\u001b[?25h  Created wheel for pyspark: filename=pyspark-3.4.0-py2.py3-none-any.whl size=311317145 sha256=27ed3d6841f2401a2d7018b6b56c164357334e10761228b12c0e5294db8985a4\n",
            "  Stored in directory: /home/trusted-service-user/.cache/pip/wheels/27/3e/a7/888155c6a7f230b13a394f4999b90fdfaed00596c68d3de307\n",
            "  Building wheel for flaml (setup.py) ... \u001b[?25l-\b \b\\\b \bdone\n",
            "\u001b[?25h  Created wheel for flaml: filename=FLAML-1.2.1-py3-none-any.whl size=248482 sha256=01f9d2f101b46c0104ad8919d4a65470ce54f23ef8b3671ac4bb12c2ba6db7dd\n",
            "  Stored in directory: /tmp/pip-ephem-wheel-cache-o_3986sn/wheels/5c/1a/48/c07dfe482b630f96d7258700d361a971759465895f9dd768ee\n",
            "  Building wheel for pyperclip (setup.py) ... \u001b[?25l-\b \bdone\n",
            "\u001b[?25h  Created wheel for pyperclip: filename=pyperclip-1.8.2-py3-none-any.whl size=11107 sha256=e1d85f669e71af3e8f45ffedf4e41257741b841bef852247b94ba8bfff3162ba\n",
            "  Stored in directory: /home/trusted-service-user/.cache/pip/wheels/7f/1a/65/84ff8c386bec21fca6d220ea1f5498a0367883a78dd5ba6122\n",
            "Successfully built pyspark flaml pyperclip\n",
            "Installing collected packages: wcwidth, pytz, pyperclip, py4j, zipp, wheel, typing-extensions, tqdm, threadpoolctl, six, PyYAML, pyspark, PrettyTable, pbr, packaging, numpy, MarkupSafe, joblib, greenlet, colorlog, autopage, attrs, stevedore, sqlalchemy, scipy, python-dateutil, Mako, joblibspark, importlib-resources, importlib-metadata, cmd2, cmaes, xgboost, scikit-learn, pandas, cliff, alembic, optuna, lightgbm, flaml\n",
            "  Attempting uninstall: wcwidth\n",
            "    Found existing installation: wcwidth 0.2.5\n",
            "    Not uninstalling wcwidth at /home/trusted-service-user/cluster-env/env/lib/python3.8/site-packages, outside environment /nfs4/pyenv-8895058f-cb80-488b-b82d-c341dcde311f\n",
            "    Can't uninstall 'wcwidth'. No files were found to uninstall.\n",
            "  Attempting uninstall: pytz\n",
            "    Found existing installation: pytz 2021.1\n",
            "    Not uninstalling pytz at /home/trusted-service-user/cluster-env/env/lib/python3.8/site-packages, outside environment /nfs4/pyenv-8895058f-cb80-488b-b82d-c341dcde311f\n",
            "    Can't uninstall 'pytz'. No files were found to uninstall.\n",
            "  Attempting uninstall: pyperclip\n",
            "    Found existing installation: pyperclip 1.8.2\n",
            "    Not uninstalling pyperclip at /home/trusted-service-user/cluster-env/env/lib/python3.8/site-packages, outside environment /nfs4/pyenv-8895058f-cb80-488b-b82d-c341dcde311f\n",
            "    Can't uninstall 'pyperclip'. No files were found to uninstall.\n",
            "  Attempting uninstall: py4j\n",
            "    Found existing installation: py4j 0.10.9.3\n",
            "    Not uninstalling py4j at /home/trusted-service-user/cluster-env/env/lib/python3.8/site-packages, outside environment /nfs4/pyenv-8895058f-cb80-488b-b82d-c341dcde311f\n",
            "    Can't uninstall 'py4j'. No files were found to uninstall.\n",
            "  Attempting uninstall: zipp\n",
            "    Found existing installation: zipp 3.5.0\n",
            "    Not uninstalling zipp at /home/trusted-service-user/cluster-env/env/lib/python3.8/site-packages, outside environment /nfs4/pyenv-8895058f-cb80-488b-b82d-c341dcde311f\n",
            "    Can't uninstall 'zipp'. No files were found to uninstall.\n",
            "  Attempting uninstall: wheel\n",
            "    Found existing installation: wheel 0.36.2\n",
            "    Not uninstalling wheel at /home/trusted-service-user/cluster-env/env/lib/python3.8/site-packages, outside environment /nfs4/pyenv-8895058f-cb80-488b-b82d-c341dcde311f\n",
            "    Can't uninstall 'wheel'. No files were found to uninstall.\n",
            "  Attempting uninstall: typing-extensions\n",
            "    Found existing installation: typing-extensions 3.10.0.0\n",
            "    Not uninstalling typing-extensions at /home/trusted-service-user/cluster-env/env/lib/python3.8/site-packages, outside environment /nfs4/pyenv-8895058f-cb80-488b-b82d-c341dcde311f\n",
            "    Can't uninstall 'typing-extensions'. No files were found to uninstall.\n",
            "  Attempting uninstall: tqdm\n",
            "    Found existing installation: tqdm 4.61.2\n",
            "    Not uninstalling tqdm at /home/trusted-service-user/cluster-env/env/lib/python3.8/site-packages, outside environment /nfs4/pyenv-8895058f-cb80-488b-b82d-c341dcde311f\n",
            "    Can't uninstall 'tqdm'. No files were found to uninstall.\n",
            "  Attempting uninstall: threadpoolctl\n",
            "    Found existing installation: threadpoolctl 2.1.0\n",
            "    Not uninstalling threadpoolctl at /home/trusted-service-user/cluster-env/env/lib/python3.8/site-packages, outside environment /nfs4/pyenv-8895058f-cb80-488b-b82d-c341dcde311f\n",
            "    Can't uninstall 'threadpoolctl'. No files were found to uninstall.\n",
            "  Attempting uninstall: six\n",
            "    Found existing installation: six 1.16.0\n",
            "    Not uninstalling six at /home/trusted-service-user/cluster-env/env/lib/python3.8/site-packages, outside environment /nfs4/pyenv-8895058f-cb80-488b-b82d-c341dcde311f\n",
            "    Can't uninstall 'six'. No files were found to uninstall.\n",
            "  Attempting uninstall: PyYAML\n",
            "    Found existing installation: PyYAML 5.4.1\n",
            "    Not uninstalling pyyaml at /home/trusted-service-user/cluster-env/env/lib/python3.8/site-packages, outside environment /nfs4/pyenv-8895058f-cb80-488b-b82d-c341dcde311f\n",
            "    Can't uninstall 'PyYAML'. No files were found to uninstall.\n",
            "  Attempting uninstall: pyspark\n",
            "    Found existing installation: pyspark 3.2.1\n",
            "    Not uninstalling pyspark at /home/trusted-service-user/cluster-env/env/lib/python3.8/site-packages, outside environment /nfs4/pyenv-8895058f-cb80-488b-b82d-c341dcde311f\n",
            "    Can't uninstall 'pyspark'. No files were found to uninstall.\n",
            "  Attempting uninstall: PrettyTable\n",
            "    Found existing installation: prettytable 2.4.0\n",
            "    Not uninstalling prettytable at /home/trusted-service-user/cluster-env/env/lib/python3.8/site-packages, outside environment /nfs4/pyenv-8895058f-cb80-488b-b82d-c341dcde311f\n",
            "    Can't uninstall 'prettytable'. No files were found to uninstall.\n",
            "  Attempting uninstall: packaging\n",
            "    Found existing installation: packaging 21.0\n",
            "    Not uninstalling packaging at /home/trusted-service-user/cluster-env/env/lib/python3.8/site-packages, outside environment /nfs4/pyenv-8895058f-cb80-488b-b82d-c341dcde311f\n",
            "    Can't uninstall 'packaging'. No files were found to uninstall.\n",
            "  Attempting uninstall: numpy\n",
            "    Found existing installation: numpy 1.19.4\n",
            "    Not uninstalling numpy at /home/trusted-service-user/cluster-env/env/lib/python3.8/site-packages, outside environment /nfs4/pyenv-8895058f-cb80-488b-b82d-c341dcde311f\n",
            "    Can't uninstall 'numpy'. No files were found to uninstall.\n",
            "  Attempting uninstall: MarkupSafe\n",
            "    Found existing installation: MarkupSafe 2.0.1\n",
            "    Not uninstalling markupsafe at /home/trusted-service-user/cluster-env/env/lib/python3.8/site-packages, outside environment /nfs4/pyenv-8895058f-cb80-488b-b82d-c341dcde311f\n",
            "    Can't uninstall 'MarkupSafe'. No files were found to uninstall.\n",
            "  Attempting uninstall: joblib\n",
            "    Found existing installation: joblib 1.0.1\n",
            "    Not uninstalling joblib at /home/trusted-service-user/cluster-env/env/lib/python3.8/site-packages, outside environment /nfs4/pyenv-8895058f-cb80-488b-b82d-c341dcde311f\n",
            "    Can't uninstall 'joblib'. No files were found to uninstall.\n",
            "  Attempting uninstall: greenlet\n",
            "    Found existing installation: greenlet 1.1.0\n",
            "    Not uninstalling greenlet at /home/trusted-service-user/cluster-env/env/lib/python3.8/site-packages, outside environment /nfs4/pyenv-8895058f-cb80-488b-b82d-c341dcde311f\n",
            "    Can't uninstall 'greenlet'. No files were found to uninstall.\n",
            "  Attempting uninstall: attrs\n",
            "    Found existing installation: attrs 21.2.0\n",
            "    Not uninstalling attrs at /home/trusted-service-user/cluster-env/env/lib/python3.8/site-packages, outside environment /nfs4/pyenv-8895058f-cb80-488b-b82d-c341dcde311f\n",
            "    Can't uninstall 'attrs'. No files were found to uninstall.\n",
            "  Attempting uninstall: sqlalchemy\n",
            "    Found existing installation: SQLAlchemy 1.4.20\n",
            "    Not uninstalling sqlalchemy at /home/trusted-service-user/cluster-env/env/lib/python3.8/site-packages, outside environment /nfs4/pyenv-8895058f-cb80-488b-b82d-c341dcde311f\n",
            "    Can't uninstall 'SQLAlchemy'. No files were found to uninstall.\n",
            "  Attempting uninstall: scipy\n",
            "    Found existing installation: scipy 1.5.3\n",
            "    Not uninstalling scipy at /home/trusted-service-user/cluster-env/env/lib/python3.8/site-packages, outside environment /nfs4/pyenv-8895058f-cb80-488b-b82d-c341dcde311f\n",
            "    Can't uninstall 'scipy'. No files were found to uninstall.\n",
            "  Attempting uninstall: python-dateutil\n",
            "    Found existing installation: python-dateutil 2.8.1\n",
            "    Not uninstalling python-dateutil at /home/trusted-service-user/cluster-env/env/lib/python3.8/site-packages, outside environment /nfs4/pyenv-8895058f-cb80-488b-b82d-c341dcde311f\n",
            "    Can't uninstall 'python-dateutil'. No files were found to uninstall.\n",
            "  Attempting uninstall: importlib-resources\n",
            "    Found existing installation: importlib-resources 5.10.0\n",
            "    Not uninstalling importlib-resources at /home/trusted-service-user/cluster-env/env/lib/python3.8/site-packages, outside environment /nfs4/pyenv-8895058f-cb80-488b-b82d-c341dcde311f\n",
            "    Can't uninstall 'importlib-resources'. No files were found to uninstall.\n",
            "  Attempting uninstall: importlib-metadata\n",
            "    Found existing installation: importlib-metadata 4.6.1\n",
            "    Not uninstalling importlib-metadata at /home/trusted-service-user/cluster-env/env/lib/python3.8/site-packages, outside environment /nfs4/pyenv-8895058f-cb80-488b-b82d-c341dcde311f\n",
            "    Can't uninstall 'importlib-metadata'. No files were found to uninstall.\n",
            "  Attempting uninstall: xgboost\n",
            "    Found existing installation: xgboost 1.4.0\n",
            "    Not uninstalling xgboost at /home/trusted-service-user/cluster-env/env/lib/python3.8/site-packages, outside environment /nfs4/pyenv-8895058f-cb80-488b-b82d-c341dcde311f\n",
            "    Can't uninstall 'xgboost'. No files were found to uninstall.\n",
            "  Attempting uninstall: scikit-learn\n",
            "    Found existing installation: scikit-learn 0.23.2\n",
            "    Not uninstalling scikit-learn at /home/trusted-service-user/cluster-env/env/lib/python3.8/site-packages, outside environment /nfs4/pyenv-8895058f-cb80-488b-b82d-c341dcde311f\n",
            "    Can't uninstall 'scikit-learn'. No files were found to uninstall.\n",
            "  Attempting uninstall: pandas\n",
            "    Found existing installation: pandas 1.2.3\n",
            "    Not uninstalling pandas at /home/trusted-service-user/cluster-env/env/lib/python3.8/site-packages, outside environment /nfs4/pyenv-8895058f-cb80-488b-b82d-c341dcde311f\n",
            "    Can't uninstall 'pandas'. No files were found to uninstall.\n",
            "  Attempting uninstall: lightgbm\n",
            "    Found existing installation: lightgbm 3.2.1\n",
            "    Not uninstalling lightgbm at /home/trusted-service-user/cluster-env/env/lib/python3.8/site-packages, outside environment /nfs4/pyenv-8895058f-cb80-488b-b82d-c341dcde311f\n",
            "    Can't uninstall 'lightgbm'. No files were found to uninstall.\n",
            "\u001b[31mERROR: pip's dependency resolver does not currently take into account all the packages that are installed. This behaviour is the source of the following dependency conflicts.\n",
            "tensorflow 2.4.1 requires six~=1.15.0, but you have six 1.16.0 which is incompatible.\n",
            "tensorflow 2.4.1 requires typing-extensions~=3.7.4, but you have typing-extensions 4.5.0 which is incompatible.\n",
            "pmdarima 1.8.2 requires numpy~=1.19.0, but you have numpy 1.23.4 which is incompatible.\n",
            "koalas 1.8.0 requires numpy<1.20.0,>=1.14, but you have numpy 1.23.4 which is incompatible.\n",
            "gevent 21.1.2 requires greenlet<2.0,>=0.4.17; platform_python_implementation == \"CPython\", but you have greenlet 2.0.2 which is incompatible.\u001b[0m\u001b[31m\n",
            "\u001b[0mSuccessfully installed Mako-1.2.4 MarkupSafe-2.1.2 PrettyTable-3.7.0 PyYAML-6.0 alembic-1.10.3 attrs-23.1.0 autopage-0.5.1 cliff-4.2.0 cmaes-0.9.1 cmd2-2.4.3 colorlog-6.7.0 flaml-1.2.1 greenlet-2.0.2 importlib-metadata-6.5.0 importlib-resources-5.12.0 joblib-1.2.0 joblibspark-0.5.1 lightgbm-3.3.5 numpy-1.23.4 optuna-2.8.0 packaging-23.1 pandas-1.5.1 pbr-5.11.1 py4j-0.10.9.7 pyperclip-1.8.2 pyspark-3.4.0 python-dateutil-2.8.2 pytz-2023.3 scikit-learn-1.2.2 scipy-1.10.1 six-1.16.0 sqlalchemy-2.0.9 stevedore-5.0.0 threadpoolctl-3.1.0 tqdm-4.65.0 typing-extensions-4.5.0 wcwidth-0.2.6 wheel-0.40.0 xgboost-1.6.1 zipp-3.15.0\n",
            "\u001b[33mWARNING: You are using pip version 22.0.4; however, version 23.1 is available.\n",
            "You should consider upgrading via the '/nfs4/pyenv-8895058f-cb80-488b-b82d-c341dcde311f/bin/python -m pip install --upgrade pip' command.\u001b[0m\u001b[33m\n",
            "\u001b[0mNote: you may need to restart the kernel to use updated packages.\n"
          ]
        },
        {
          "data": {},
          "execution_count": 1,
          "metadata": {},
          "output_type": "execute_result"
        },
        {
          "name": "stdout",
          "output_type": "stream",
          "text": [
            "Warning: PySpark kernel has been restarted to use updated packages.\n",
            "\n"
          ]
        }
      ],
      "source": [
        "%pip install flaml[synapse]==1.2.1 xgboost==1.6.1 pandas==1.5.1 numpy==1.23.4 --force-reinstall"
      ]
    },
    {
      "attachments": {},
      "cell_type": "markdown",
      "metadata": {},
      "source": [
        "Uncomment `_init_spark()` if run in local spark env."
      ]
    },
    {
      "cell_type": "code",
      "execution_count": null,
      "metadata": {},
      "outputs": [],
      "source": [
        "def _init_spark():\n",
        "    import pyspark\n",
        "\n",
        "    spark = (\n",
        "        pyspark.sql.SparkSession.builder.appName(\"MyApp\")\n",
        "        .master(\"local[2]\")\n",
        "        .config(\n",
        "            \"spark.jars.packages\",\n",
        "            (\n",
        "                \"com.microsoft.azure:synapseml_2.12:0.10.2,\"\n",
        "                \"org.apache.hadoop:hadoop-azure:3.3.5,\"\n",
        "                \"com.microsoft.azure:azure-storage:8.6.6\"\n",
        "            ),\n",
        "        )\n",
        "        .config(\"spark.jars.repositories\", \"https://mmlspark.azureedge.net/maven\")\n",
        "        .config(\"spark.sql.debug.maxToStringFields\", \"100\")\n",
        "        .getOrCreate()\n",
        "    )\n",
        "    return spark\n",
        "\n",
        "# spark = _init_spark()"
      ]
    },
    {
      "cell_type": "code",
      "execution_count": 2,
      "metadata": {
        "jupyter": {
          "outputs_hidden": false,
          "source_hidden": false
        },
        "nteract": {
          "transient": {
            "deleting": false
          }
        }
      },
      "outputs": [
        {
          "data": {
            "application/vnd.livy.statement-meta+json": {
              "execution_finish_time": "2023-04-19T00:49:38.7324858Z",
              "execution_start_time": "2023-04-19T00:49:38.4750792Z",
              "livy_statement_state": "available",
              "parent_msg_id": "fa770a66-05ff-46d0-81b3-3f21c6be1ecd",
              "queued_time": "2023-04-19T00:41:29.8741671Z",
              "session_id": "27",
              "session_start_time": null,
              "spark_jobs": null,
              "spark_pool": "automl",
              "state": "finished",
              "statement_id": 8
            },
            "text/plain": [
              "StatementMeta(automl, 27, 8, Finished, Available)"
            ]
          },
          "metadata": {},
          "output_type": "display_data"
        }
      ],
      "source": [
        "spark.conf.set(\"spark.sql.execution.arrow.pyspark.enabled\", \"false\")"
      ]
    },
    {
      "cell_type": "markdown",
      "metadata": {
        "nteract": {
          "transient": {
            "deleting": false
          }
        }
      },
      "source": [
        "## Demo overview\n",
        "In this example, we use FLAML & Apache Spark to build a classification model in order to predict bankruptcy.\n",
        "1. **Tune**: Given an Apache Spark dataframe, we can use FLAML to tune a SynapseML Spark-based model.\n",
        "2. **AutoML**: Given an Apache Spark dataframe, we can run AutoML to find the best classification model given our constraints.\n"
      ]
    },
    {
      "cell_type": "markdown",
      "metadata": {},
      "source": [
        "## 2. Load data and preprocess"
      ]
    },
    {
      "cell_type": "code",
      "execution_count": 3,
      "metadata": {},
      "outputs": [
        {
          "data": {
            "application/vnd.livy.statement-meta+json": {
              "execution_finish_time": "2023-04-19T00:50:12.8686555Z",
              "execution_start_time": "2023-04-19T00:49:39.0071841Z",
              "livy_statement_state": "available",
              "parent_msg_id": "f4fddcb8-daa9-4e51-82df-a026ad09848d",
              "queued_time": "2023-04-19T00:41:29.8758509Z",
              "session_id": "27",
              "session_start_time": null,
              "spark_jobs": null,
              "spark_pool": "automl",
              "state": "finished",
              "statement_id": 9
            },
            "text/plain": [
              "StatementMeta(automl, 27, 9, Finished, Available)"
            ]
          },
          "metadata": {},
          "output_type": "display_data"
        },
        {
          "name": "stdout",
          "output_type": "stream",
          "text": [
            "records read: 6819\n"
          ]
        }
      ],
      "source": [
        "df = (\n",
        "    spark.read.format(\"csv\")\n",
        "    .option(\"header\", True)\n",
        "    .option(\"inferSchema\", True)\n",
        "    .load(\n",
        "        \"wasbs://publicwasb@mmlspark.blob.core.windows.net/company_bankruptcy_prediction_data.csv\"\n",
        "    )\n",
        ")\n",
        "# print dataset size\n",
        "print(\"records read: \" + str(df.count()))"
      ]
    },
    {
      "cell_type": "code",
      "execution_count": 4,
      "metadata": {
        "collapsed": false,
        "jupyter": {
          "outputs_hidden": false,
          "source_hidden": false
        },
        "nteract": {
          "transient": {
            "deleting": false
          }
        }
      },
      "outputs": [
        {
          "data": {
            "application/vnd.livy.statement-meta+json": {
              "execution_finish_time": "2023-04-19T00:50:17.1147492Z",
              "execution_start_time": "2023-04-19T00:50:13.1478957Z",
              "livy_statement_state": "available",
              "parent_msg_id": "c3124278-a1fc-4678-ab90-8c1c61b252ed",
              "queued_time": "2023-04-19T00:41:29.8770146Z",
              "session_id": "27",
              "session_start_time": null,
              "spark_jobs": null,
              "spark_pool": "automl",
              "state": "finished",
              "statement_id": 10
            },
            "text/plain": [
              "StatementMeta(automl, 27, 10, Finished, Available)"
            ]
          },
          "metadata": {},
          "output_type": "display_data"
        },
        {
          "data": {
            "application/vnd.synapse.widget-view+json": {
              "widget_id": "27e3f6a9-6707-4f94-93cf-05ea98845414",
              "widget_type": "Synapse.DataFrame"
            },
            "text/plain": [
              "SynapseWidget(Synapse.DataFrame, 27e3f6a9-6707-4f94-93cf-05ea98845414)"
            ]
          },
          "metadata": {},
          "output_type": "display_data"
        }
      ],
      "source": [
        "display(df)"
      ]
    },
    {
      "cell_type": "markdown",
      "metadata": {},
      "source": [
        "Split the dataset into train and test"
      ]
    },
    {
      "cell_type": "code",
      "execution_count": 19,
      "metadata": {},
      "outputs": [
        {
          "data": {
            "application/vnd.livy.statement-meta+json": {
              "execution_finish_time": "2023-04-19T00:55:34.297498Z",
              "execution_start_time": "2023-04-19T00:55:34.0061545Z",
              "livy_statement_state": "available",
              "parent_msg_id": "b7b9be0c-e8cb-4229-a2fb-95f5e0a9bd8f",
              "queued_time": "2023-04-19T00:55:33.7779796Z",
              "session_id": "27",
              "session_start_time": null,
              "spark_jobs": null,
              "spark_pool": "automl",
              "state": "finished",
              "statement_id": 25
            },
            "text/plain": [
              "StatementMeta(automl, 27, 25, Finished, Available)"
            ]
          },
          "metadata": {},
          "output_type": "display_data"
        }
      ],
      "source": [
        "train_raw, test_raw = df.randomSplit([0.8, 0.2], seed=41)"
      ]
    },
    {
      "cell_type": "markdown",
      "metadata": {},
      "source": [
        "Add featurizer to convert features to vector"
      ]
    },
    {
      "cell_type": "code",
      "execution_count": 20,
      "metadata": {},
      "outputs": [
        {
          "data": {
            "application/vnd.livy.statement-meta+json": {
              "execution_finish_time": "2023-04-19T00:55:49.7837815Z",
              "execution_start_time": "2023-04-19T00:55:49.5176322Z",
              "livy_statement_state": "available",
              "parent_msg_id": "faa6ab52-b98d-4e32-b569-ee27c282ff6e",
              "queued_time": "2023-04-19T00:55:49.2823774Z",
              "session_id": "27",
              "session_start_time": null,
              "spark_jobs": null,
              "spark_pool": "automl",
              "state": "finished",
              "statement_id": 26
            },
            "text/plain": [
              "StatementMeta(automl, 27, 26, Finished, Available)"
            ]
          },
          "metadata": {},
          "output_type": "display_data"
        }
      ],
      "source": [
        "from pyspark.ml.feature import VectorAssembler\n",
        "\n",
        "feature_cols = df.columns[1:]\n",
        "featurizer = VectorAssembler(inputCols=feature_cols, outputCol=\"features\")\n",
        "train_data = featurizer.transform(train_raw)[\"Bankrupt?\", \"features\"]\n",
        "test_data = featurizer.transform(test_raw)[\"Bankrupt?\", \"features\"]"
      ]
    },
    {
      "cell_type": "markdown",
      "metadata": {},
      "source": [
        "### Default SynapseML LightGBM"
      ]
    },
    {
      "cell_type": "code",
      "execution_count": 21,
      "metadata": {},
      "outputs": [
        {
          "data": {
            "application/vnd.livy.statement-meta+json": {
              "execution_finish_time": "2023-04-19T00:56:14.2639565Z",
              "execution_start_time": "2023-04-19T00:55:53.757847Z",
              "livy_statement_state": "available",
              "parent_msg_id": "29d11dfb-a2ef-4a1e-9dc6-d41d832e83ed",
              "queued_time": "2023-04-19T00:55:53.5050188Z",
              "session_id": "27",
              "session_start_time": null,
              "spark_jobs": null,
              "spark_pool": "automl",
              "state": "finished",
              "statement_id": 27
            },
            "text/plain": [
              "StatementMeta(automl, 27, 27, Finished, Available)"
            ]
          },
          "metadata": {},
          "output_type": "display_data"
        }
      ],
      "source": [
        "from synapse.ml.lightgbm import LightGBMClassifier\n",
        "\n",
        "model = LightGBMClassifier(\n",
        "    objective=\"binary\", featuresCol=\"features\", labelCol=\"Bankrupt?\", isUnbalance=True\n",
        ")\n",
        "\n",
        "model = model.fit(train_data)"
      ]
    },
    {
      "cell_type": "markdown",
      "metadata": {},
      "source": [
        "#### Model Prediction"
      ]
    },
    {
      "cell_type": "code",
      "execution_count": 22,
      "metadata": {
        "collapsed": false
      },
      "outputs": [
        {
          "data": {
            "application/vnd.livy.statement-meta+json": {
              "execution_finish_time": "2023-04-19T00:56:19.165521Z",
              "execution_start_time": "2023-04-19T00:56:14.5127236Z",
              "livy_statement_state": "available",
              "parent_msg_id": "27aa0ad6-99e5-489f-ab26-b26b1f10834e",
              "queued_time": "2023-04-19T00:55:56.0549337Z",
              "session_id": "27",
              "session_start_time": null,
              "spark_jobs": null,
              "spark_pool": "automl",
              "state": "finished",
              "statement_id": 28
            },
            "text/plain": [
              "StatementMeta(automl, 27, 28, Finished, Available)"
            ]
          },
          "metadata": {},
          "output_type": "display_data"
        },
        {
          "name": "stdout",
          "output_type": "stream",
          "text": [
            "+---------------+--------------------+------------------+-------------------+------------------+------------------+\n",
            "|evaluation_type|    confusion_matrix|          accuracy|          precision|            recall|               AUC|\n",
            "+---------------+--------------------+------------------+-------------------+------------------+------------------+\n",
            "| Classification|1253.0  20.0  \\n2...|0.9627942293090357|0.42857142857142855|0.3409090909090909|0.6625990859101621|\n",
            "+---------------+--------------------+------------------+-------------------+------------------+------------------+\n",
            "\n"
          ]
        }
      ],
      "source": [
        "def predict(model, test_data=test_data):\n",
        "    from synapse.ml.train import ComputeModelStatistics\n",
        "\n",
        "    predictions = model.transform(test_data)\n",
        "    \n",
        "    metrics = ComputeModelStatistics(\n",
        "        evaluationMetric=\"classification\",\n",
        "        labelCol=\"Bankrupt?\",\n",
        "        scoredLabelsCol=\"prediction\",\n",
        "    ).transform(predictions)\n",
        "    return metrics\n",
        "\n",
        "default_metrics = predict(model)\n",
        "default_metrics.show()"
      ]
    },
    {
      "cell_type": "markdown",
      "metadata": {
        "nteract": {
          "transient": {
            "deleting": false
          }
        }
      },
      "source": [
        "## Run FLAML Tune"
      ]
    },
    {
      "cell_type": "code",
      "execution_count": 23,
      "metadata": {
        "jupyter": {
          "outputs_hidden": false,
          "source_hidden": false
        },
        "nteract": {
          "transient": {
            "deleting": false
          }
        }
      },
      "outputs": [
        {
          "data": {
            "application/vnd.livy.statement-meta+json": {
              "execution_finish_time": "2023-04-19T00:56:19.7604089Z",
              "execution_start_time": "2023-04-19T00:56:19.4650633Z",
              "livy_statement_state": "available",
              "parent_msg_id": "22ff4c92-83c4-433e-8525-4ecb193c7d4e",
              "queued_time": "2023-04-19T00:55:59.6397744Z",
              "session_id": "27",
              "session_start_time": null,
              "spark_jobs": null,
              "spark_pool": "automl",
              "state": "finished",
              "statement_id": 29
            },
            "text/plain": [
              "StatementMeta(automl, 27, 29, Finished, Available)"
            ]
          },
          "metadata": {},
          "output_type": "display_data"
        }
      ],
      "source": [
        "train_data_sub, val_data_sub = train_data.randomSplit([0.8, 0.2], seed=41)"
      ]
    },
    {
      "cell_type": "code",
      "execution_count": 10,
      "metadata": {
        "jupyter": {
          "outputs_hidden": false,
          "source_hidden": false
        },
        "nteract": {
          "transient": {
            "deleting": false
          }
        }
      },
      "outputs": [
        {
          "data": {
            "application/vnd.livy.statement-meta+json": {
              "execution_finish_time": "2023-04-19T00:50:56.2968207Z",
              "execution_start_time": "2023-04-19T00:50:56.0058549Z",
              "livy_statement_state": "available",
              "parent_msg_id": "f0106eec-a889-4e51-86b2-ea899afb7612",
              "queued_time": "2023-04-19T00:41:29.8989617Z",
              "session_id": "27",
              "session_start_time": null,
              "spark_jobs": null,
              "spark_pool": "automl",
              "state": "finished",
              "statement_id": 16
            },
            "text/plain": [
              "StatementMeta(automl, 27, 16, Finished, Available)"
            ]
          },
          "metadata": {},
          "output_type": "display_data"
        }
      ],
      "source": [
        "def train(lambdaL1, learningRate, numLeaves, numIterations, train_data=train_data_sub, val_data=val_data_sub):\n",
        "    \"\"\"\n",
        "    This train() function:\n",
        "     - takes hyperparameters as inputs (for tuning later)\n",
        "     - returns the AUC score on the validation dataset\n",
        "\n",
        "    Wrapping code as a function makes it easier to reuse the code later for tuning.\n",
        "    \"\"\"\n",
        "\n",
        "    lgc = LightGBMClassifier(\n",
        "        objective=\"binary\",\n",
        "        lambdaL1=lambdaL1,\n",
        "        learningRate=learningRate,\n",
        "        numLeaves=numLeaves,\n",
        "        labelCol=\"Bankrupt?\",\n",
        "        numIterations=numIterations,\n",
        "        isUnbalance=True,\n",
        "        featuresCol=\"features\",\n",
        "    )\n",
        "\n",
        "    model = lgc.fit(train_data)\n",
        "\n",
        "    # Define an evaluation metric and evaluate the model on the validation dataset.\n",
        "    eval_metric = predict(model, val_data)\n",
        "    eval_metric = eval_metric.toPandas()['AUC'][0]\n",
        "\n",
        "    return model, eval_metric"
      ]
    },
    {
      "cell_type": "code",
      "execution_count": 24,
      "metadata": {
        "jupyter": {
          "outputs_hidden": true,
          "source_hidden": false
        },
        "nteract": {
          "transient": {
            "deleting": false
          }
        }
      },
      "outputs": [
        {
          "data": {
            "application/vnd.livy.statement-meta+json": {
              "execution_finish_time": "2023-04-19T00:56:20.3156028Z",
              "execution_start_time": "2023-04-19T00:56:20.0366204Z",
              "livy_statement_state": "available",
              "parent_msg_id": "c5c60e40-1edf-4d4f-a106-77ac86ba288c",
              "queued_time": "2023-04-19T00:56:07.4221398Z",
              "session_id": "27",
              "session_start_time": null,
              "spark_jobs": null,
              "spark_pool": "automl",
              "state": "finished",
              "statement_id": 30
            },
            "text/plain": [
              "StatementMeta(automl, 27, 30, Finished, Available)"
            ]
          },
          "metadata": {},
          "output_type": "display_data"
        }
      ],
      "source": [
        "import flaml\n",
        "import time\n",
        "\n",
        "# define the search space\n",
        "params = {\n",
        "    \"lambdaL1\": flaml.tune.uniform(0.001, 1),\n",
        "    \"learningRate\": flaml.tune.uniform(0.001, 1),\n",
        "    \"numLeaves\": flaml.tune.randint(30, 100),\n",
        "    \"numIterations\": flaml.tune.randint(100, 300),\n",
        "}\n",
        "\n",
        "# define the tune function\n",
        "def flaml_tune(config):\n",
        "    _, metric = train(**config)\n",
        "    return {\"auc\": metric}"
      ]
    },
    {
      "cell_type": "code",
      "execution_count": 25,
      "metadata": {
        "jupyter": {
          "outputs_hidden": false,
          "source_hidden": false
        },
        "nteract": {
          "transient": {
            "deleting": false
          }
        }
      },
      "outputs": [
        {
          "data": {
            "application/vnd.livy.statement-meta+json": {
              "execution_finish_time": "2023-04-19T00:57:20.6355868Z",
              "execution_start_time": "2023-04-19T00:56:20.5770855Z",
              "livy_statement_state": "available",
              "parent_msg_id": "ea4962b9-33e8-459b-8b6f-acb4ae7a13d8",
              "queued_time": "2023-04-19T00:56:10.1336409Z",
              "session_id": "27",
              "session_start_time": null,
              "spark_jobs": null,
              "spark_pool": "automl",
              "state": "finished",
              "statement_id": 31
            },
            "text/plain": [
              "StatementMeta(automl, 27, 31, Finished, Available)"
            ]
          },
          "metadata": {},
          "output_type": "display_data"
        },
        {
          "name": "stdout",
          "output_type": "stream",
          "text": [
            "[flaml.tune.tune: 04-19 00:56:20] {508} INFO - Using search algorithm BlendSearch.\n",
            "No low-cost partial config given to the search algorithm. For cost-frugal search, consider providing low-cost values for cost-related hps via 'low_cost_partial_config'. More info can be found at https://microsoft.github.io/FLAML/docs/FAQ#about-low_cost_partial_config-in-tune\n",
            "You passed a `space` parameter to OptunaSearch that contained unresolved search space definitions. OptunaSearch should however be instantiated with fully configured search spaces only. To use Ray Tune's automatic search space conversion, pass the space definition as part of the `config` argument to `tune.run()` instead.\n",
            "[flaml.tune.tune: 04-19 00:56:20] {777} INFO - trial 1 config: {'lambdaL1': 0.09833464080607023, 'learningRate': 0.64761881525086, 'numLeaves': 30, 'numIterations': 172}\n",
            "[flaml.tune.tune: 04-19 00:56:46] {197} INFO - result: {'auc': 0.7350263891359782, 'training_iteration': 0, 'config': {'lambdaL1': 0.09833464080607023, 'learningRate': 0.64761881525086, 'numLeaves': 30, 'numIterations': 172}, 'config/lambdaL1': 0.09833464080607023, 'config/learningRate': 0.64761881525086, 'config/numLeaves': 30, 'config/numIterations': 172, 'experiment_tag': 'exp', 'time_total_s': 25.78124713897705}\n",
            "[flaml.tune.tune: 04-19 00:56:46] {777} INFO - trial 2 config: {'lambdaL1': 0.7715493226234792, 'learningRate': 0.021731197410042098, 'numLeaves': 74, 'numIterations': 249}\n",
            "[flaml.tune.tune: 04-19 00:57:19] {197} INFO - result: {'auc': 0.7648994840775662, 'training_iteration': 0, 'config': {'lambdaL1': 0.7715493226234792, 'learningRate': 0.021731197410042098, 'numLeaves': 74, 'numIterations': 249}, 'config/lambdaL1': 0.7715493226234792, 'config/learningRate': 0.021731197410042098, 'config/numLeaves': 74, 'config/numIterations': 249, 'experiment_tag': 'exp', 'time_total_s': 33.43822383880615}\n",
            "[flaml.tune.tune: 04-19 00:57:19] {777} INFO - trial 3 config: {'lambdaL1': 0.49900850529028784, 'learningRate': 0.2255718488853168, 'numLeaves': 43, 'numIterations': 252}\n",
            "\n"
          ]
        }
      ],
      "source": [
        "analysis = flaml.tune.run(\n",
        "    flaml_tune,\n",
        "    params,\n",
        "    time_budget_s=60,\n",
        "    num_samples=100,\n",
        "    metric=\"auc\",\n",
        "    mode=\"max\",\n",
        "    verbose=5,\n",
        "    force_cancel=True,\n",
        "    )"
      ]
    },
    {
      "cell_type": "markdown",
      "metadata": {
        "nteract": {
          "transient": {
            "deleting": false
          }
        }
      },
      "source": [
        "Best config and metric on validation data"
      ]
    },
    {
      "cell_type": "code",
      "execution_count": 26,
      "metadata": {
        "jupyter": {
          "outputs_hidden": false,
          "source_hidden": false
        },
        "nteract": {
          "transient": {
            "deleting": false
          }
        }
      },
      "outputs": [
        {
          "data": {
            "application/vnd.livy.statement-meta+json": {
              "execution_finish_time": "2023-04-19T00:57:21.2098285Z",
              "execution_start_time": "2023-04-19T00:57:20.9439827Z",
              "livy_statement_state": "available",
              "parent_msg_id": "e99f17e0-cd3e-4292-bc10-180386aaf810",
              "queued_time": "2023-04-19T00:56:15.0604124Z",
              "session_id": "27",
              "session_start_time": null,
              "spark_jobs": null,
              "spark_pool": "automl",
              "state": "finished",
              "statement_id": 32
            },
            "text/plain": [
              "StatementMeta(automl, 27, 32, Finished, Available)"
            ]
          },
          "metadata": {},
          "output_type": "display_data"
        },
        {
          "name": "stdout",
          "output_type": "stream",
          "text": [
            "Best config:  {'lambdaL1': 0.7715493226234792, 'learningRate': 0.021731197410042098, 'numLeaves': 74, 'numIterations': 249}\n",
            "Best metrics on validation data:  {'auc': 0.7648994840775662, 'training_iteration': 0, 'config': {'lambdaL1': 0.7715493226234792, 'learningRate': 0.021731197410042098, 'numLeaves': 74, 'numIterations': 249}, 'config/lambdaL1': 0.7715493226234792, 'config/learningRate': 0.021731197410042098, 'config/numLeaves': 74, 'config/numIterations': 249, 'experiment_tag': 'exp', 'time_total_s': 33.43822383880615}\n"
          ]
        }
      ],
      "source": [
        "tune_config = analysis.best_config\n",
        "tune_metrics_val = analysis.best_result\n",
        "print(\"Best config: \", tune_config)\n",
        "print(\"Best metrics on validation data: \", tune_metrics_val)"
      ]
    },
    {
      "cell_type": "markdown",
      "metadata": {
        "nteract": {
          "transient": {
            "deleting": false
          }
        }
      },
      "source": [
        "Retrain model on whole train_data and check metrics on test_data"
      ]
    },
    {
      "cell_type": "code",
      "execution_count": 27,
      "metadata": {
        "jupyter": {
          "outputs_hidden": false,
          "source_hidden": false
        },
        "nteract": {
          "transient": {
            "deleting": false
          }
        }
      },
      "outputs": [
        {
          "data": {
            "application/vnd.livy.statement-meta+json": {
              "execution_finish_time": "2023-04-19T00:58:23.0787571Z",
              "execution_start_time": "2023-04-19T00:57:21.4709435Z",
              "livy_statement_state": "available",
              "parent_msg_id": "35edd709-9c68-4646-8a8f-e757fae8a919",
              "queued_time": "2023-04-19T00:56:18.2245009Z",
              "session_id": "27",
              "session_start_time": null,
              "spark_jobs": null,
              "spark_pool": "automl",
              "state": "finished",
              "statement_id": 33
            },
            "text/plain": [
              "StatementMeta(automl, 27, 33, Finished, Available)"
            ]
          },
          "metadata": {},
          "output_type": "display_data"
        },
        {
          "name": "stdout",
          "output_type": "stream",
          "text": [
            "+---------------+--------------------+------------------+------------------+-------------------+------------------+\n",
            "|evaluation_type|    confusion_matrix|          accuracy|         precision|             recall|               AUC|\n",
            "+---------------+--------------------+------------------+------------------+-------------------+------------------+\n",
            "| Classification|1247.0  26.0  \\n2...|0.9597570235383447|0.3953488372093023|0.38636363636363635|0.6829697207741198|\n",
            "+---------------+--------------------+------------------+------------------+-------------------+------------------+\n",
            "\n"
          ]
        }
      ],
      "source": [
        "tune_model, tune_metrics = train(train_data=train_data, val_data=test_data, **tune_config)\n",
        "tune_metrics = predict(tune_model)\n",
        "tune_metrics.show()"
      ]
    },
    {
      "cell_type": "markdown",
      "metadata": {},
      "source": [
        "### Run FLAML AutoML\n",
        "In the FLAML AutoML run configuration, users can specify the task type, time budget, error metric, learner list, whether to subsample, resampling strategy type, and so on. All these arguments have default values which will be used if users do not provide them. "
      ]
    },
    {
      "cell_type": "code",
      "execution_count": 28,
      "metadata": {},
      "outputs": [
        {
          "data": {
            "application/vnd.livy.statement-meta+json": {
              "execution_finish_time": "2023-04-19T00:58:23.596951Z",
              "execution_start_time": "2023-04-19T00:58:23.3265305Z",
              "livy_statement_state": "available",
              "parent_msg_id": "339c4992-4670-4593-a297-e08970e8ef34",
              "queued_time": "2023-04-19T00:56:23.3561861Z",
              "session_id": "27",
              "session_start_time": null,
              "spark_jobs": null,
              "spark_pool": "automl",
              "state": "finished",
              "statement_id": 34
            },
            "text/plain": [
              "StatementMeta(automl, 27, 34, Finished, Available)"
            ]
          },
          "metadata": {},
          "output_type": "display_data"
        }
      ],
      "source": [
        "''' import AutoML class from the FLAML package '''\n",
        "from flaml import AutoML\n",
        "from flaml.automl.spark.utils import to_pandas_on_spark\n",
        "\n",
        "automl = AutoML()"
      ]
    },
    {
      "cell_type": "code",
      "execution_count": 29,
      "metadata": {},
      "outputs": [
        {
          "data": {
            "application/vnd.livy.statement-meta+json": {
              "execution_finish_time": "2023-04-19T00:58:24.1706079Z",
              "execution_start_time": "2023-04-19T00:58:23.8891255Z",
              "livy_statement_state": "available",
              "parent_msg_id": "ab1eeb7b-d8fc-4917-9b0d-0e9e05778e6b",
              "queued_time": "2023-04-19T00:56:26.0836197Z",
              "session_id": "27",
              "session_start_time": null,
              "spark_jobs": null,
              "spark_pool": "automl",
              "state": "finished",
              "statement_id": 35
            },
            "text/plain": [
              "StatementMeta(automl, 27, 35, Finished, Available)"
            ]
          },
          "metadata": {},
          "output_type": "display_data"
        }
      ],
      "source": [
        "import os\n",
        "settings = {\n",
        "    \"time_budget\": 60,  # total running time in seconds\n",
        "    \"metric\": 'roc_auc',\n",
        "    \"task\": 'classification',  # task type\n",
        "    \"log_file_name\": 'flaml_experiment.log',  # flaml log file\n",
        "    \"seed\": 42,    # random seed\n",
        "    \"force_cancel\": True,  # force stop training once time_budget is used up\n",
        "}"
      ]
    },
    {
      "cell_type": "code",
      "execution_count": 30,
      "metadata": {},
      "outputs": [
        {
          "data": {
            "application/vnd.livy.statement-meta+json": {
              "execution_finish_time": "2023-04-19T00:58:24.6581809Z",
              "execution_start_time": "2023-04-19T00:58:24.4054632Z",
              "livy_statement_state": "available",
              "parent_msg_id": "fad5e330-6ea9-4387-9da0-72090ee12857",
              "queued_time": "2023-04-19T00:56:56.6277279Z",
              "session_id": "27",
              "session_start_time": null,
              "spark_jobs": null,
              "spark_pool": "automl",
              "state": "finished",
              "statement_id": 36
            },
            "text/plain": [
              "StatementMeta(automl, 27, 36, Finished, Available)"
            ]
          },
          "metadata": {},
          "output_type": "display_data"
        },
        {
          "data": {
            "text/plain": [
              "pyspark.pandas.frame.DataFrame"
            ]
          },
          "execution_count": 61,
          "metadata": {},
          "output_type": "execute_result"
        }
      ],
      "source": [
        "df = to_pandas_on_spark(train_data)\n",
        "\n",
        "type(df)"
      ]
    },
    {
      "cell_type": "code",
      "execution_count": 31,
      "metadata": {},
      "outputs": [
        {
          "data": {
            "application/vnd.livy.statement-meta+json": {
              "execution_finish_time": "2023-04-19T00:59:23.5292768Z",
              "execution_start_time": "2023-04-19T00:58:24.9037573Z",
              "livy_statement_state": "available",
              "parent_msg_id": "e85fc33c-0a39-4ec5-a18f-625e4e5991da",
              "queued_time": "2023-04-19T00:57:11.2416765Z",
              "session_id": "27",
              "session_start_time": null,
              "spark_jobs": null,
              "spark_pool": "automl",
              "state": "finished",
              "statement_id": 37
            },
            "text/plain": [
              "StatementMeta(automl, 27, 37, Finished, Available)"
            ]
          },
          "metadata": {},
          "output_type": "display_data"
        },
        {
          "name": "stdout",
          "output_type": "stream",
          "text": [
            "[flaml.automl.logger: 04-19 00:58:37] {1682} INFO - task = classification\n",
            "[flaml.automl.logger: 04-19 00:58:37] {1689} INFO - Data split method: stratified\n",
            "[flaml.automl.logger: 04-19 00:58:37] {1692} INFO - Evaluation method: cv\n",
            "[flaml.automl.logger: 04-19 00:58:38] {1790} INFO - Minimizing error metric: 1-roc_auc\n",
            "[flaml.automl.logger: 04-19 00:58:38] {1900} INFO - List of ML learners in AutoML Run: ['lgbm_spark']\n",
            "[flaml.automl.logger: 04-19 00:58:38] {2210} INFO - iteration 0, current learner lgbm_spark\n",
            "[flaml.automl.logger: 04-19 00:58:48] {2336} INFO - Estimated sufficient time budget=104269s. Estimated necessary time budget=104s.\n",
            "[flaml.automl.logger: 04-19 00:58:48] {2383} INFO -  at 23.9s,\testimator lgbm_spark's best error=0.1077,\tbest estimator lgbm_spark's best error=0.1077\n",
            "[flaml.automl.logger: 04-19 00:58:48] {2210} INFO - iteration 1, current learner lgbm_spark\n",
            "[flaml.automl.logger: 04-19 00:58:56] {2383} INFO -  at 32.0s,\testimator lgbm_spark's best error=0.0962,\tbest estimator lgbm_spark's best error=0.0962\n",
            "[flaml.automl.logger: 04-19 00:58:56] {2210} INFO - iteration 2, current learner lgbm_spark\n",
            "[flaml.automl.logger: 04-19 00:59:05] {2383} INFO -  at 40.2s,\testimator lgbm_spark's best error=0.0943,\tbest estimator lgbm_spark's best error=0.0943\n",
            "[flaml.automl.logger: 04-19 00:59:05] {2210} INFO - iteration 3, current learner lgbm_spark\n",
            "[flaml.automl.logger: 04-19 00:59:13] {2383} INFO -  at 48.4s,\testimator lgbm_spark's best error=0.0760,\tbest estimator lgbm_spark's best error=0.0760\n",
            "[flaml.automl.logger: 04-19 00:59:13] {2210} INFO - iteration 4, current learner lgbm_spark\n",
            "[flaml.automl.logger: 04-19 00:59:21] {2383} INFO -  at 56.5s,\testimator lgbm_spark's best error=0.0760,\tbest estimator lgbm_spark's best error=0.0760\n",
            "[flaml.automl.logger: 04-19 00:59:22] {2619} INFO - retrain lgbm_spark for 0.9s\n",
            "[flaml.automl.logger: 04-19 00:59:22] {2622} INFO - retrained model: LightGBMClassifier_b4bfafdbcfc1\n",
            "[flaml.automl.logger: 04-19 00:59:22] {1930} INFO - fit succeeded\n",
            "[flaml.automl.logger: 04-19 00:59:22] {1931} INFO - Time taken to find the best model: 48.424041748046875\n"
          ]
        }
      ],
      "source": [
        "'''The main flaml automl API'''\n",
        "automl.fit(dataframe=df, label='Bankrupt?', labelCol=\"Bankrupt?\", isUnbalance=True, **settings)"
      ]
    },
    {
      "cell_type": "markdown",
      "metadata": {},
      "source": [
        "### Best model and metric"
      ]
    },
    {
      "cell_type": "code",
      "execution_count": 32,
      "metadata": {},
      "outputs": [
        {
          "data": {
            "application/vnd.livy.statement-meta+json": {
              "execution_finish_time": "2023-04-19T00:59:24.0559557Z",
              "execution_start_time": "2023-04-19T00:59:23.7839019Z",
              "livy_statement_state": "available",
              "parent_msg_id": "211f9184-8589-414a-a39e-33478b83aa4b",
              "queued_time": "2023-04-19T00:57:13.8241448Z",
              "session_id": "27",
              "session_start_time": null,
              "spark_jobs": null,
              "spark_pool": "automl",
              "state": "finished",
              "statement_id": 38
            },
            "text/plain": [
              "StatementMeta(automl, 27, 38, Finished, Available)"
            ]
          },
          "metadata": {},
          "output_type": "display_data"
        },
        {
          "name": "stdout",
          "output_type": "stream",
          "text": [
            "Best hyperparmeter config: {'numIterations': 12, 'numLeaves': 6, 'minDataInLeaf': 17, 'learningRate': 0.1444074361218993, 'log_max_bin': 6, 'featureFraction': 0.9006280463830675, 'lambdaL1': 0.0021638671012090007, 'lambdaL2': 0.8181940184285643}\n",
            "Best roc_auc on validation data: 0.924\n",
            "Training duration of best run: 0.8982 s\n"
          ]
        }
      ],
      "source": [
        "''' retrieve best config'''\n",
        "print('Best hyperparmeter config:', automl.best_config)\n",
        "print('Best roc_auc on validation data: {0:.4g}'.format(1-automl.best_loss))\n",
        "print('Training duration of best run: {0:.4g} s'.format(automl.best_config_train_time))"
      ]
    },
    {
      "cell_type": "code",
      "execution_count": 33,
      "metadata": {
        "collapsed": false
      },
      "outputs": [
        {
          "data": {
            "application/vnd.livy.statement-meta+json": {
              "execution_finish_time": "2023-04-19T00:59:26.6061075Z",
              "execution_start_time": "2023-04-19T00:59:24.3019256Z",
              "livy_statement_state": "available",
              "parent_msg_id": "eb0a6089-adb2-4061-bf64-4e5c4cc228eb",
              "queued_time": "2023-04-19T00:57:15.1750669Z",
              "session_id": "27",
              "session_start_time": null,
              "spark_jobs": null,
              "spark_pool": "automl",
              "state": "finished",
              "statement_id": 39
            },
            "text/plain": [
              "StatementMeta(automl, 27, 39, Finished, Available)"
            ]
          },
          "metadata": {},
          "output_type": "display_data"
        },
        {
          "name": "stdout",
          "output_type": "stream",
          "text": [
            "+---------------+--------------------+------------------+-------------------+------------------+------------------+\n",
            "|evaluation_type|    confusion_matrix|          accuracy|          precision|            recall|               AUC|\n",
            "+---------------+--------------------+------------------+-------------------+------------------+------------------+\n",
            "| Classification|1106.0  167.0  \\n...|0.8686408504176157|0.18536585365853658|0.8636363636363636|0.8662250946225809|\n",
            "+---------------+--------------------+------------------+-------------------+------------------+------------------+\n",
            "\n"
          ]
        }
      ],
      "source": [
        "automl_metrics = predict(automl.model.estimator)\n",
        "automl_metrics.show()"
      ]
    },
    {
      "cell_type": "markdown",
      "metadata": {
        "nteract": {
          "transient": {
            "deleting": false
          }
        }
      },
      "source": [
        "## Use Apache Spark to Parallelize AutoML trials and tuning"
      ]
    },
    {
      "cell_type": "code",
      "execution_count": 38,
      "metadata": {
        "jupyter": {
          "outputs_hidden": false,
          "source_hidden": false
        },
        "nteract": {
          "transient": {
            "deleting": false
          }
        }
      },
      "outputs": [
        {
          "data": {
            "application/vnd.livy.statement-meta+json": {
              "execution_finish_time": "2023-04-19T01:10:17.2334202Z",
              "execution_start_time": "2023-04-19T01:10:16.938071Z",
              "livy_statement_state": "available",
              "parent_msg_id": "380652fc-0702-4dff-ba1b-2a74237b414e",
              "queued_time": "2023-04-19T01:10:16.7003095Z",
              "session_id": "27",
              "session_start_time": null,
              "spark_jobs": null,
              "spark_pool": "automl",
              "state": "finished",
              "statement_id": 44
            },
            "text/plain": [
              "StatementMeta(automl, 27, 44, Finished, Available)"
            ]
          },
          "metadata": {},
          "output_type": "display_data"
        }
      ],
      "source": [
        "settings = {\n",
        "    \"time_budget\": 60,  # total running time in seconds\n",
        "    \"metric\": 'roc_auc',  # primary metrics for regression can be chosen from: ['mae','mse','r2','rmse','mape']\n",
        "    \"task\": 'classification',  # task type    \n",
        "    \"seed\": 7654321,    # random seed\n",
        "    \"use_spark\": True,\n",
        "    \"n_concurrent_trials\": 2,\n",
        "    \"force_cancel\": True,\n",
        "}"
      ]
    },
    {
      "cell_type": "code",
      "execution_count": 39,
      "metadata": {
        "jupyter": {
          "outputs_hidden": false,
          "source_hidden": false
        },
        "nteract": {
          "transient": {
            "deleting": false
          }
        }
      },
      "outputs": [
        {
          "data": {
            "application/vnd.livy.statement-meta+json": {
              "execution_finish_time": "2023-04-19T01:10:18.9486035Z",
              "execution_start_time": "2023-04-19T01:10:17.4782718Z",
              "livy_statement_state": "available",
              "parent_msg_id": "9729f077-c1b9-402e-96b9-4fcd9bc960b4",
              "queued_time": "2023-04-19T01:10:16.7818706Z",
              "session_id": "27",
              "session_start_time": null,
              "spark_jobs": null,
              "spark_pool": "automl",
              "state": "finished",
              "statement_id": 45
            },
            "text/plain": [
              "StatementMeta(automl, 27, 45, Finished, Available)"
            ]
          },
          "metadata": {},
          "output_type": "display_data"
        },
        {
          "data": {
            "text/html": [
              "<div>\n",
              "<style scoped>\n",
              "    .dataframe tbody tr th:only-of-type {\n",
              "        vertical-align: middle;\n",
              "    }\n",
              "\n",
              "    .dataframe tbody tr th {\n",
              "        vertical-align: top;\n",
              "    }\n",
              "\n",
              "    .dataframe thead th {\n",
              "        text-align: right;\n",
              "    }\n",
              "</style>\n",
              "<table border=\"1\" class=\"dataframe\">\n",
              "  <thead>\n",
              "    <tr style=\"text-align: right;\">\n",
              "      <th></th>\n",
              "      <th>Bankrupt?</th>\n",
              "      <th>ROA(C) before interest and depreciation before interest</th>\n",
              "      <th>ROA(A) before interest and % after tax</th>\n",
              "      <th>ROA(B) before interest and depreciation after tax</th>\n",
              "      <th>Operating Gross Margin</th>\n",
              "      <th>Realized Sales Gross Margin</th>\n",
              "      <th>Operating Profit Rate</th>\n",
              "      <th>Pre-tax net Interest Rate</th>\n",
              "      <th>After-tax net Interest Rate</th>\n",
              "      <th>Non-industry income and expenditure/revenue</th>\n",
              "      <th>...</th>\n",
              "      <th>Net Income to Total Assets</th>\n",
              "      <th>Total assets to GNP price</th>\n",
              "      <th>No-credit Interval</th>\n",
              "      <th>Gross Profit to Sales</th>\n",
              "      <th>Net Income to Stockholder's Equity</th>\n",
              "      <th>Liability to Equity</th>\n",
              "      <th>Degree of Financial Leverage (DFL)</th>\n",
              "      <th>Interest Coverage Ratio (Interest expense to EBIT)</th>\n",
              "      <th>Net Income Flag</th>\n",
              "      <th>Equity to Liability</th>\n",
              "    </tr>\n",
              "  </thead>\n",
              "  <tbody>\n",
              "    <tr>\n",
              "      <th>0</th>\n",
              "      <td>0</td>\n",
              "      <td>0.0828</td>\n",
              "      <td>0.0693</td>\n",
              "      <td>0.0884</td>\n",
              "      <td>0.6468</td>\n",
              "      <td>0.6468</td>\n",
              "      <td>0.9971</td>\n",
              "      <td>0.7958</td>\n",
              "      <td>0.8078</td>\n",
              "      <td>0.3047</td>\n",
              "      <td>...</td>\n",
              "      <td>0.0000</td>\n",
              "      <td>0.000000e+00</td>\n",
              "      <td>0.6237</td>\n",
              "      <td>0.6468</td>\n",
              "      <td>0.7483</td>\n",
              "      <td>0.2847</td>\n",
              "      <td>0.0268</td>\n",
              "      <td>0.5652</td>\n",
              "      <td>1.0</td>\n",
              "      <td>0.0199</td>\n",
              "    </tr>\n",
              "    <tr>\n",
              "      <th>1</th>\n",
              "      <td>0</td>\n",
              "      <td>0.1606</td>\n",
              "      <td>0.1788</td>\n",
              "      <td>0.1832</td>\n",
              "      <td>0.5897</td>\n",
              "      <td>0.5897</td>\n",
              "      <td>0.9986</td>\n",
              "      <td>0.7969</td>\n",
              "      <td>0.8088</td>\n",
              "      <td>0.3034</td>\n",
              "      <td>...</td>\n",
              "      <td>0.5917</td>\n",
              "      <td>4.370000e+09</td>\n",
              "      <td>0.6236</td>\n",
              "      <td>0.5897</td>\n",
              "      <td>0.8023</td>\n",
              "      <td>0.2947</td>\n",
              "      <td>0.0268</td>\n",
              "      <td>0.5651</td>\n",
              "      <td>1.0</td>\n",
              "      <td>0.0151</td>\n",
              "    </tr>\n",
              "    <tr>\n",
              "      <th>2</th>\n",
              "      <td>0</td>\n",
              "      <td>0.2040</td>\n",
              "      <td>0.2638</td>\n",
              "      <td>0.2598</td>\n",
              "      <td>0.4483</td>\n",
              "      <td>0.4483</td>\n",
              "      <td>0.9959</td>\n",
              "      <td>0.7937</td>\n",
              "      <td>0.8063</td>\n",
              "      <td>0.3034</td>\n",
              "      <td>...</td>\n",
              "      <td>0.6816</td>\n",
              "      <td>3.000000e-04</td>\n",
              "      <td>0.6221</td>\n",
              "      <td>0.4483</td>\n",
              "      <td>0.8117</td>\n",
              "      <td>0.3038</td>\n",
              "      <td>0.0268</td>\n",
              "      <td>0.5651</td>\n",
              "      <td>1.0</td>\n",
              "      <td>0.0136</td>\n",
              "    </tr>\n",
              "    <tr>\n",
              "      <th>3</th>\n",
              "      <td>0</td>\n",
              "      <td>0.2170</td>\n",
              "      <td>0.1881</td>\n",
              "      <td>0.2451</td>\n",
              "      <td>0.5992</td>\n",
              "      <td>0.5992</td>\n",
              "      <td>0.9962</td>\n",
              "      <td>0.7940</td>\n",
              "      <td>0.8061</td>\n",
              "      <td>0.3034</td>\n",
              "      <td>...</td>\n",
              "      <td>0.6196</td>\n",
              "      <td>1.100000e-03</td>\n",
              "      <td>0.6236</td>\n",
              "      <td>0.5992</td>\n",
              "      <td>0.6346</td>\n",
              "      <td>0.4359</td>\n",
              "      <td>0.0268</td>\n",
              "      <td>0.5650</td>\n",
              "      <td>1.0</td>\n",
              "      <td>0.0108</td>\n",
              "    </tr>\n",
              "    <tr>\n",
              "      <th>4</th>\n",
              "      <td>0</td>\n",
              "      <td>0.2314</td>\n",
              "      <td>0.1628</td>\n",
              "      <td>0.2068</td>\n",
              "      <td>0.6001</td>\n",
              "      <td>0.6001</td>\n",
              "      <td>0.9988</td>\n",
              "      <td>0.7960</td>\n",
              "      <td>0.8078</td>\n",
              "      <td>0.3015</td>\n",
              "      <td>...</td>\n",
              "      <td>0.5269</td>\n",
              "      <td>3.000000e-04</td>\n",
              "      <td>0.6241</td>\n",
              "      <td>0.6001</td>\n",
              "      <td>0.7985</td>\n",
              "      <td>0.2903</td>\n",
              "      <td>0.0268</td>\n",
              "      <td>0.5651</td>\n",
              "      <td>1.0</td>\n",
              "      <td>0.0164</td>\n",
              "    </tr>\n",
              "  </tbody>\n",
              "</table>\n",
              "<p>5 rows × 96 columns</p>\n",
              "</div>"
            ],
            "text/plain": [
              "   Bankrupt?   ROA(C) before interest and depreciation before interest  \\\n",
              "0          0                                             0.0828          \n",
              "1          0                                             0.1606          \n",
              "2          0                                             0.2040          \n",
              "3          0                                             0.2170          \n",
              "4          0                                             0.2314          \n",
              "\n",
              "    ROA(A) before interest and % after tax  \\\n",
              "0                                   0.0693   \n",
              "1                                   0.1788   \n",
              "2                                   0.2638   \n",
              "3                                   0.1881   \n",
              "4                                   0.1628   \n",
              "\n",
              "    ROA(B) before interest and depreciation after tax  \\\n",
              "0                                             0.0884    \n",
              "1                                             0.1832    \n",
              "2                                             0.2598    \n",
              "3                                             0.2451    \n",
              "4                                             0.2068    \n",
              "\n",
              "    Operating Gross Margin   Realized Sales Gross Margin  \\\n",
              "0                   0.6468                        0.6468   \n",
              "1                   0.5897                        0.5897   \n",
              "2                   0.4483                        0.4483   \n",
              "3                   0.5992                        0.5992   \n",
              "4                   0.6001                        0.6001   \n",
              "\n",
              "    Operating Profit Rate   Pre-tax net Interest Rate  \\\n",
              "0                  0.9971                      0.7958   \n",
              "1                  0.9986                      0.7969   \n",
              "2                  0.9959                      0.7937   \n",
              "3                  0.9962                      0.7940   \n",
              "4                  0.9988                      0.7960   \n",
              "\n",
              "    After-tax net Interest Rate   Non-industry income and expenditure/revenue  \\\n",
              "0                        0.8078                                        0.3047   \n",
              "1                        0.8088                                        0.3034   \n",
              "2                        0.8063                                        0.3034   \n",
              "3                        0.8061                                        0.3034   \n",
              "4                        0.8078                                        0.3015   \n",
              "\n",
              "   ...   Net Income to Total Assets   Total assets to GNP price  \\\n",
              "0  ...                       0.0000                0.000000e+00   \n",
              "1  ...                       0.5917                4.370000e+09   \n",
              "2  ...                       0.6816                3.000000e-04   \n",
              "3  ...                       0.6196                1.100000e-03   \n",
              "4  ...                       0.5269                3.000000e-04   \n",
              "\n",
              "    No-credit Interval   Gross Profit to Sales  \\\n",
              "0               0.6237                  0.6468   \n",
              "1               0.6236                  0.5897   \n",
              "2               0.6221                  0.4483   \n",
              "3               0.6236                  0.5992   \n",
              "4               0.6241                  0.6001   \n",
              "\n",
              "    Net Income to Stockholder's Equity   Liability to Equity  \\\n",
              "0                               0.7483                0.2847   \n",
              "1                               0.8023                0.2947   \n",
              "2                               0.8117                0.3038   \n",
              "3                               0.6346                0.4359   \n",
              "4                               0.7985                0.2903   \n",
              "\n",
              "    Degree of Financial Leverage (DFL)  \\\n",
              "0                               0.0268   \n",
              "1                               0.0268   \n",
              "2                               0.0268   \n",
              "3                               0.0268   \n",
              "4                               0.0268   \n",
              "\n",
              "    Interest Coverage Ratio (Interest expense to EBIT)   Net Income Flag  \\\n",
              "0                                             0.5652                 1.0   \n",
              "1                                             0.5651                 1.0   \n",
              "2                                             0.5651                 1.0   \n",
              "3                                             0.5650                 1.0   \n",
              "4                                             0.5651                 1.0   \n",
              "\n",
              "    Equity to Liability  \n",
              "0                0.0199  \n",
              "1                0.0151  \n",
              "2                0.0136  \n",
              "3                0.0108  \n",
              "4                0.0164  \n",
              "\n",
              "[5 rows x 96 columns]"
            ]
          },
          "execution_count": 79,
          "metadata": {},
          "output_type": "execute_result"
        }
      ],
      "source": [
        "pandas_df = train_raw.toPandas()\n",
        "pandas_df.head()"
      ]
    },
    {
      "cell_type": "code",
      "execution_count": 40,
      "metadata": {
        "jupyter": {
          "outputs_hidden": false,
          "source_hidden": false
        },
        "nteract": {
          "transient": {
            "deleting": false
          }
        }
      },
      "outputs": [
        {
          "data": {
            "application/vnd.livy.statement-meta+json": {
              "execution_finish_time": "2023-04-19T01:11:21.5981973Z",
              "execution_start_time": "2023-04-19T01:10:19.220622Z",
              "livy_statement_state": "available",
              "parent_msg_id": "e496aa47-0677-4bec-a07d-d8d5cca778d1",
              "queued_time": "2023-04-19T01:10:16.850107Z",
              "session_id": "27",
              "session_start_time": null,
              "spark_jobs": null,
              "spark_pool": "automl",
              "state": "finished",
              "statement_id": 46
            },
            "text/plain": [
              "StatementMeta(automl, 27, 46, Finished, Available)"
            ]
          },
          "metadata": {},
          "output_type": "display_data"
        },
        {
          "name": "stdout",
          "output_type": "stream",
          "text": [
            "[flaml.automl.logger: 04-19 01:10:19] {1682} INFO - task = classification\n",
            "[flaml.automl.logger: 04-19 01:10:19] {1689} INFO - Data split method: stratified\n",
            "[flaml.automl.logger: 04-19 01:10:19] {1692} INFO - Evaluation method: holdout\n",
            "[flaml.automl.logger: 04-19 01:10:19] {1790} INFO - Minimizing error metric: 1-roc_auc\n",
            "[flaml.automl.logger: 04-19 01:10:19] {1900} INFO - List of ML learners in AutoML Run: ['lgbm', 'rf', 'xgboost', 'extra_tree', 'xgb_limitdepth', 'lrl1']\n",
            "[flaml.tune.tune: 04-19 01:10:19] {701} INFO - Number of trials: 2/1000000, 2 RUNNING, 0 TERMINATED\n",
            "[flaml.tune.tune: 04-19 01:10:22] {721} INFO - Brief result: {'pred_time': 2.9629555301389834e-06, 'wall_clock_time': 2.9545514583587646, 'metric_for_logging': {'pred_time': 2.9629555301389834e-06}, 'val_loss': 0.04636121259998027, 'trained_estimator': <flaml.automl.model.LGBMEstimator object at 0x7fec4bbdf430>}\n",
            "[flaml.tune.tune: 04-19 01:10:22] {721} INFO - Brief result: {'pred_time': 3.1378822050232817e-06, 'wall_clock_time': 3.278108596801758, 'metric_for_logging': {'pred_time': 3.1378822050232817e-06}, 'val_loss': 0.07953984398143588, 'trained_estimator': <flaml.automl.model.RandomForestEstimator object at 0x7fec4bbdfdc0>}\n",
            "[flaml.tune.tune: 04-19 01:10:22] {701} INFO - Number of trials: 4/1000000, 2 RUNNING, 2 TERMINATED\n",
            "[flaml.tune.tune: 04-19 01:10:22] {721} INFO - Brief result: {'pred_time': 2.1473221156908117e-05, 'wall_clock_time': 3.69093656539917, 'metric_for_logging': {'pred_time': 2.1473221156908117e-05}, 'val_loss': 0.07958921694480114, 'trained_estimator': <flaml.automl.model.XGBoostSklearnEstimator object at 0x7fec4bbf3280>}\n",
            "[flaml.tune.tune: 04-19 01:10:22] {721} INFO - Brief result: {'pred_time': 2.9629555301389834e-06, 'wall_clock_time': 3.3738858699798584, 'metric_for_logging': {'pred_time': 2.9629555301389834e-06}, 'val_loss': 0.16322701688555352, 'trained_estimator': <flaml.automl.model.ExtraTreesEstimator object at 0x7fec4bc2ef40>}\n",
            "[flaml.tune.tune: 04-19 01:10:22] {701} INFO - Number of trials: 6/1000000, 2 RUNNING, 4 TERMINATED\n",
            "[flaml.tune.tune: 04-19 01:10:26] {721} INFO - Brief result: {'pred_time': 1.2473351713539898e-05, 'wall_clock_time': 5.134864568710327, 'metric_for_logging': {'pred_time': 1.2473351713539898e-05}, 'val_loss': 0.07889799545768739, 'trained_estimator': <flaml.automl.model.XGBoostLimitDepthEstimator object at 0x7fec4bbdfb50>}\n",
            "[flaml.tune.tune: 04-19 01:10:26] {721} INFO - Brief result: {'pred_time': 3.4497267958046733e-06, 'wall_clock_time': 7.101134300231934, 'metric_for_logging': {'pred_time': 3.4497267958046733e-06}, 'val_loss': 0.44030808729139925, 'trained_estimator': <flaml.automl.model.LRL1Classifier object at 0x7fec4bbeecd0>}\n",
            "[flaml.tune.tune: 04-19 01:10:26] {701} INFO - Number of trials: 8/1000000, 2 RUNNING, 6 TERMINATED\n",
            "[flaml.tune.tune: 04-19 01:10:29] {721} INFO - Brief result: {'pred_time': 3.0635923579119253e-06, 'wall_clock_time': 9.885382890701294, 'metric_for_logging': {'pred_time': 3.0635923579119253e-06}, 'val_loss': 0.13049274217438533, 'trained_estimator': <flaml.automl.model.LGBMEstimator object at 0x7fec4bbe7a00>}\n",
            "[flaml.tune.tune: 04-19 01:10:29] {721} INFO - Brief result: {'pred_time': 4.074711730514747e-06, 'wall_clock_time': 7.192638874053955, 'metric_for_logging': {'pred_time': 4.074711730514747e-06}, 'val_loss': 0.0882294855337219, 'trained_estimator': <flaml.automl.model.LGBMEstimator object at 0x7fec4bbe73d0>}\n",
            "[flaml.tune.tune: 04-19 01:10:29] {701} INFO - Number of trials: 10/1000000, 2 RUNNING, 8 TERMINATED\n",
            "[flaml.tune.tune: 04-19 01:10:29] {721} INFO - Brief result: {'pred_time': 8.28418178834777e-06, 'wall_clock_time': 10.542565107345581, 'metric_for_logging': {'pred_time': 8.28418178834777e-06}, 'val_loss': 0.44030808729139925, 'trained_estimator': <flaml.automl.model.LRL1Classifier object at 0x7fec4bc13c70>}\n",
            "[flaml.tune.tune: 04-19 01:10:29] {721} INFO - Brief result: {'pred_time': 2.766001051750736e-06, 'wall_clock_time': 9.972064971923828, 'metric_for_logging': {'pred_time': 2.766001051750736e-06}, 'val_loss': 0.1094598597807841, 'trained_estimator': <flaml.automl.model.LGBMEstimator object at 0x7fec4bc01ac0>}\n",
            "[flaml.tune.tune: 04-19 01:10:29] {701} INFO - Number of trials: 12/1000000, 2 RUNNING, 10 TERMINATED\n",
            "[flaml.tune.tune: 04-19 01:10:30] {721} INFO - Brief result: {'pred_time': 2.672274907430013e-06, 'wall_clock_time': 11.087923765182495, 'metric_for_logging': {'pred_time': 2.672274907430013e-06}, 'val_loss': 0.44030808729139925, 'trained_estimator': <flaml.automl.model.LRL1Classifier object at 0x7fec4bc014c0>}\n",
            "[flaml.tune.tune: 04-19 01:10:30] {721} INFO - Brief result: {'pred_time': 3.64966150643169e-05, 'wall_clock_time': 11.1082124710083, 'metric_for_logging': {'pred_time': 3.64966150643169e-05}, 'val_loss': 0.44030808729139925, 'trained_estimator': <flaml.automl.model.LRL1Classifier object at 0x7fec4bc01cd0>}\n",
            "[flaml.tune.tune: 04-19 01:10:30] {701} INFO - Number of trials: 14/1000000, 2 RUNNING, 12 TERMINATED\n",
            "[flaml.tune.tune: 04-19 01:10:30] {721} INFO - Brief result: {'pred_time': 2.7305837990581123e-06, 'wall_clock_time': 11.226593255996704, 'metric_for_logging': {'pred_time': 2.7305837990581123e-06}, 'val_loss': 0.11671768539547744, 'trained_estimator': <flaml.automl.model.LGBMEstimator object at 0x7fec4bc02730>}\n",
            "[flaml.tune.tune: 04-19 01:10:30] {721} INFO - Brief result: {'pred_time': 1.1010878327964008e-05, 'wall_clock_time': 11.672830581665039, 'metric_for_logging': {'pred_time': 1.1010878327964008e-05}, 'val_loss': 0.44030808729139925, 'trained_estimator': <flaml.automl.model.LRL1Classifier object at 0x7fec34fbaa30>}\n",
            "[flaml.tune.tune: 04-19 01:10:30] {701} INFO - Number of trials: 16/1000000, 2 RUNNING, 14 TERMINATED\n",
            "[flaml.tune.tune: 04-19 01:10:30] {721} INFO - Brief result: {'pred_time': 3.0679115350695625e-06, 'wall_clock_time': 11.811484813690186, 'metric_for_logging': {'pred_time': 3.0679115350695625e-06}, 'val_loss': 0.06685099239656356, 'trained_estimator': <flaml.automl.model.LGBMEstimator object at 0x7fec34fe8370>}\n",
            "[flaml.tune.tune: 04-19 01:10:30] {721} INFO - Brief result: {'pred_time': 2.525422884070355e-06, 'wall_clock_time': 11.753840208053589, 'metric_for_logging': {'pred_time': 2.525422884070355e-06}, 'val_loss': 0.051347881899871606, 'trained_estimator': <flaml.automl.model.LGBMEstimator object at 0x7fec4bc133d0>}\n",
            "[flaml.tune.tune: 04-19 01:10:30] {701} INFO - Number of trials: 18/1000000, 2 RUNNING, 16 TERMINATED\n",
            "[flaml.tune.tune: 04-19 01:10:31] {721} INFO - Brief result: {'pred_time': 2.8243099433788355e-06, 'wall_clock_time': 11.905105590820312, 'metric_for_logging': {'pred_time': 2.8243099433788355e-06}, 'val_loss': 0.05124913597314107, 'trained_estimator': <flaml.automl.model.LGBMEstimator object at 0x7fec4bc2e6a0>}\n",
            "[flaml.tune.tune: 04-19 01:10:31] {721} INFO - Brief result: {'pred_time': 5.950530370076497e-06, 'wall_clock_time': 11.948493957519531, 'metric_for_logging': {'pred_time': 5.950530370076497e-06}, 'val_loss': 0.056778907870050355, 'trained_estimator': <flaml.automl.model.LGBMEstimator object at 0x7fec4bc02220>}\n",
            "[flaml.tune.tune: 04-19 01:10:31] {701} INFO - Number of trials: 20/1000000, 2 RUNNING, 18 TERMINATED\n",
            "[flaml.tune.tune: 04-19 01:10:31] {721} INFO - Brief result: {'pred_time': 2.7772309123605923e-06, 'wall_clock_time': 12.081507682800293, 'metric_for_logging': {'pred_time': 2.7772309123605923e-06}, 'val_loss': 0.04611434778315393, 'trained_estimator': <flaml.automl.model.LGBMEstimator object at 0x7fec4bc13250>}\n",
            "[flaml.tune.tune: 04-19 01:10:31] {721} INFO - Brief result: {'pred_time': 9.349722793136818e-06, 'wall_clock_time': 12.140351295471191, 'metric_for_logging': {'pred_time': 9.349722793136818e-06}, 'val_loss': 0.06334551199763017, 'trained_estimator': <flaml.automl.model.LGBMEstimator object at 0x7fec34fe86a0>}\n",
            "[flaml.tune.tune: 04-19 01:10:31] {701} INFO - Number of trials: 22/1000000, 2 RUNNING, 20 TERMINATED\n",
            "[flaml.tune.tune: 04-19 01:10:31] {721} INFO - Brief result: {'pred_time': 2.8087609056113423e-06, 'wall_clock_time': 12.278619527816772, 'metric_for_logging': {'pred_time': 2.8087609056113423e-06}, 'val_loss': 0.11923570652710569, 'trained_estimator': <flaml.automl.model.LGBMEstimator object at 0x7fec34fd3670>}\n",
            "[flaml.tune.tune: 04-19 01:10:31] {721} INFO - Brief result: {'pred_time': 2.4744565936102383e-06, 'wall_clock_time': 12.490124225616455, 'metric_for_logging': {'pred_time': 2.4744565936102383e-06}, 'val_loss': 0.05603831341957144, 'trained_estimator': <flaml.automl.model.LGBMEstimator object at 0x7fec34fd3430>}\n",
            "[flaml.tune.tune: 04-19 01:10:31] {701} INFO - Number of trials: 24/1000000, 2 RUNNING, 22 TERMINATED\n",
            "[flaml.tune.tune: 04-19 01:10:31] {721} INFO - Brief result: {'pred_time': 6.302543308423913e-06, 'wall_clock_time': 12.612251281738281, 'metric_for_logging': {'pred_time': 6.302543308423913e-06}, 'val_loss': 0.051644119680063216, 'trained_estimator': <flaml.automl.model.LGBMEstimator object at 0x7fec34fbb5b0>}\n",
            "[flaml.tune.tune: 04-19 01:10:31] {721} INFO - Brief result: {'pred_time': 2.673570660577304e-06, 'wall_clock_time': 12.566608667373657, 'metric_for_logging': {'pred_time': 2.673570660577304e-06}, 'val_loss': 0.0813172706625852, 'trained_estimator': <flaml.automl.model.LGBMEstimator object at 0x7fec34fbb2e0>}\n",
            "[flaml.tune.tune: 04-19 01:10:31] {701} INFO - Number of trials: 26/1000000, 2 RUNNING, 24 TERMINATED\n",
            "[flaml.tune.tune: 04-19 01:10:32] {721} INFO - Brief result: {'pred_time': 6.157850873643073e-06, 'wall_clock_time': 12.828747272491455, 'metric_for_logging': {'pred_time': 6.157850873643073e-06}, 'val_loss': 0.07173891576972447, 'trained_estimator': <flaml.automl.model.LGBMEstimator object at 0x7fec34fbb6a0>}\n",
            "[flaml.tune.tune: 04-19 01:10:32] {721} INFO - Brief result: {'pred_time': 1.0999648467354152e-05, 'wall_clock_time': 12.764892816543579, 'metric_for_logging': {'pred_time': 1.0999648467354152e-05}, 'val_loss': 0.07252888318356865, 'trained_estimator': <flaml.automl.model.LGBMEstimator object at 0x7fec4bc13340>}\n",
            "[flaml.tune.tune: 04-19 01:10:32] {701} INFO - Number of trials: 28/1000000, 2 RUNNING, 26 TERMINATED\n",
            "[flaml.tune.tune: 04-19 01:10:32] {721} INFO - Brief result: {'pred_time': 6.410090819649074e-06, 'wall_clock_time': 13.341551542282104, 'metric_for_logging': {'pred_time': 6.410090819649074e-06}, 'val_loss': 0.11864323096672269, 'trained_estimator': <flaml.automl.model.XGBoostSklearnEstimator object at 0x7fec34ff1340>}\n",
            "[flaml.tune.tune: 04-19 01:10:32] {721} INFO - Brief result: {'pred_time': 7.317118022752845e-06, 'wall_clock_time': 13.118256092071533, 'metric_for_logging': {'pred_time': 7.317118022752845e-06}, 'val_loss': 0.05806260491754711, 'trained_estimator': <flaml.automl.model.LGBMEstimator object at 0x7fec34fe8310>}\n",
            "[flaml.tune.tune: 04-19 01:10:32] {701} INFO - Number of trials: 30/1000000, 2 RUNNING, 28 TERMINATED\n",
            "[flaml.tune.tune: 04-19 01:10:32] {721} INFO - Brief result: {'pred_time': 2.767296804898027e-06, 'wall_clock_time': 13.454796552658081, 'metric_for_logging': {'pred_time': 2.767296804898027e-06}, 'val_loss': 0.06240742569369018, 'trained_estimator': <flaml.automl.model.LGBMEstimator object at 0x7fec34ff1a60>}\n",
            "[flaml.tune.tune: 04-19 01:10:32] {721} INFO - Brief result: {'pred_time': 2.6109425917915674e-06, 'wall_clock_time': 13.412111759185791, 'metric_for_logging': {'pred_time': 2.6109425917915674e-06}, 'val_loss': 0.050508541522662154, 'trained_estimator': <flaml.automl.model.LGBMEstimator object at 0x7fec34fded30>}\n",
            "[flaml.tune.tune: 04-19 01:10:32] {701} INFO - Number of trials: 32/1000000, 2 RUNNING, 30 TERMINATED\n",
            "[flaml.tune.tune: 04-19 01:10:32] {721} INFO - Brief result: {'pred_time': 5.6373900261478145e-06, 'wall_clock_time': 13.58346176147461, 'metric_for_logging': {'pred_time': 5.6373900261478145e-06}, 'val_loss': 0.1298015206872717, 'trained_estimator': <flaml.automl.model.LGBMEstimator object at 0x7fec34fbb310>}\n",
            "[flaml.tune.tune: 04-19 01:10:32] {721} INFO - Brief result: {'pred_time': 5.983788034190303e-06, 'wall_clock_time': 13.700432062149048, 'metric_for_logging': {'pred_time': 5.983788034190303e-06}, 'val_loss': 0.11484151278759747, 'trained_estimator': <flaml.automl.model.LGBMEstimator object at 0x7fec34ff3a90>}\n",
            "[flaml.tune.tune: 04-19 01:10:32] {701} INFO - Number of trials: 34/1000000, 2 RUNNING, 32 TERMINATED\n",
            "[flaml.tune.tune: 04-19 01:10:33] {721} INFO - Brief result: {'pred_time': 8.459972298663596e-06, 'wall_clock_time': 13.909964561462402, 'metric_for_logging': {'pred_time': 8.459972298663596e-06}, 'val_loss': 0.055593956749284024, 'trained_estimator': <flaml.automl.model.LGBMEstimator object at 0x7fec34ff8cd0>}\n",
            "[flaml.tune.tune: 04-19 01:10:33] {721} INFO - Brief result: {'pred_time': 5.493129509082739e-06, 'wall_clock_time': 13.925570249557495, 'metric_for_logging': {'pred_time': 5.493129509082739e-06}, 'val_loss': 0.055939567492841014, 'trained_estimator': <flaml.automl.model.LGBMEstimator object at 0x7fec34ff1c70>}\n",
            "[flaml.tune.tune: 04-19 01:10:33] {701} INFO - Number of trials: 36/1000000, 2 RUNNING, 34 TERMINATED\n",
            "[flaml.tune.tune: 04-19 01:10:33] {721} INFO - Brief result: {'pred_time': 2.6143979335176772e-06, 'wall_clock_time': 14.180267810821533, 'metric_for_logging': {'pred_time': 2.6143979335176772e-06}, 'val_loss': 0.08348968105065668, 'trained_estimator': <flaml.automl.model.LGBMEstimator object at 0x7fec34ff8910>}\n",
            "[flaml.tune.tune: 04-19 01:10:33] {721} INFO - Brief result: {'pred_time': 2.6411768318950264e-06, 'wall_clock_time': 14.71433973312378, 'metric_for_logging': {'pred_time': 2.6411768318950264e-06}, 'val_loss': 0.4402093413646687, 'trained_estimator': <flaml.automl.model.LRL1Classifier object at 0x7fec34fbb8b0>}\n",
            "[flaml.tune.tune: 04-19 01:10:33] {701} INFO - Number of trials: 38/1000000, 2 RUNNING, 36 TERMINATED\n",
            "[flaml.tune.tune: 04-19 01:10:34] {721} INFO - Brief result: {'pred_time': 5.601972773455191e-06, 'wall_clock_time': 14.794866561889648, 'metric_for_logging': {'pred_time': 5.601972773455191e-06}, 'val_loss': 0.10427569862743158, 'trained_estimator': <flaml.automl.model.LGBMEstimator object at 0x7fec34fc67c0>}\n",
            "[flaml.tune.tune: 04-19 01:10:34] {721} INFO - Brief result: {'pred_time': 9.106985036877619e-06, 'wall_clock_time': 14.92939567565918, 'metric_for_logging': {'pred_time': 9.106985036877619e-06}, 'val_loss': 0.0732201046706824, 'trained_estimator': <flaml.automl.model.LGBMEstimator object at 0x7fec34ff3310>}\n",
            "[flaml.tune.tune: 04-19 01:10:34] {701} INFO - Number of trials: 40/1000000, 2 RUNNING, 38 TERMINATED\n",
            "[flaml.tune.tune: 04-19 01:10:34] {721} INFO - Brief result: {'pred_time': 1.1574530947035637e-05, 'wall_clock_time': 15.093894243240356, 'metric_for_logging': {'pred_time': 1.1574530947035637e-05}, 'val_loss': 0.12525920805766755, 'trained_estimator': <flaml.automl.model.LGBMEstimator object at 0x7fec4c089970>}\n",
            "[flaml.tune.tune: 04-19 01:10:34] {721} INFO - Brief result: {'pred_time': 2.6105106740758037e-06, 'wall_clock_time': 15.01662564277649, 'metric_for_logging': {'pred_time': 2.6105106740758037e-06}, 'val_loss': 0.07914486027451362, 'trained_estimator': <flaml.automl.model.LGBMEstimator object at 0x7fec2364fe50>}\n",
            "[flaml.tune.tune: 04-19 01:10:34] {701} INFO - Number of trials: 42/1000000, 2 RUNNING, 40 TERMINATED\n",
            "[flaml.tune.tune: 04-19 01:10:34] {721} INFO - Brief result: {'pred_time': 6.18549360745195e-06, 'wall_clock_time': 15.247915506362915, 'metric_for_logging': {'pred_time': 6.18549360745195e-06}, 'val_loss': 0.11627332872519003, 'trained_estimator': <flaml.automl.model.LGBMEstimator object at 0x7fec34ff8ac0>}\n",
            "[flaml.tune.tune: 04-19 01:10:34] {721} INFO - Brief result: {'pred_time': 5.855508472608483e-06, 'wall_clock_time': 15.360023498535156, 'metric_for_logging': {'pred_time': 5.855508472608483e-06}, 'val_loss': 0.07346696948750864, 'trained_estimator': <flaml.automl.model.LGBMEstimator object at 0x7fec2364fd30>}\n",
            "[flaml.tune.tune: 04-19 01:10:34] {701} INFO - Number of trials: 44/1000000, 2 RUNNING, 42 TERMINATED\n",
            "[flaml.tune.tune: 04-19 01:10:34] {721} INFO - Brief result: {'pred_time': 2.6701153188511944e-06, 'wall_clock_time': 15.488085269927979, 'metric_for_logging': {'pred_time': 2.6701153188511944e-06}, 'val_loss': 0.05534709193245779, 'trained_estimator': <flaml.automl.model.LGBMEstimator object at 0x7fec34fc6460>}\n",
            "[flaml.tune.tune: 04-19 01:10:34] {721} INFO - Brief result: {'pred_time': 9.4831853673078e-06, 'wall_clock_time': 15.555660009384155, 'metric_for_logging': {'pred_time': 9.4831853673078e-06}, 'val_loss': 0.07218327244001177, 'trained_estimator': <flaml.automl.model.LGBMEstimator object at 0x7fec34fc6ee0>}\n",
            "[flaml.tune.tune: 04-19 01:10:34] {701} INFO - Number of trials: 46/1000000, 2 RUNNING, 44 TERMINATED\n",
            "[flaml.tune.tune: 04-19 01:10:35] {721} INFO - Brief result: {'pred_time': 6.73402910647185e-06, 'wall_clock_time': 15.730143547058105, 'metric_for_logging': {'pred_time': 6.73402910647185e-06}, 'val_loss': 0.08077416806556736, 'trained_estimator': <flaml.automl.model.LGBMEstimator object at 0x7fec34fbbaf0>}\n",
            "[flaml.tune.tune: 04-19 01:10:35] {721} INFO - Brief result: {'pred_time': 2.6541343633679375e-06, 'wall_clock_time': 16.115678787231445, 'metric_for_logging': {'pred_time': 2.6541343633679375e-06}, 'val_loss': 0.4402093413646687, 'trained_estimator': <flaml.automl.model.LRL1Classifier object at 0x7fec34ff34f0>}\n",
            "[flaml.tune.tune: 04-19 01:10:35] {701} INFO - Number of trials: 48/1000000, 2 RUNNING, 46 TERMINATED\n",
            "[flaml.tune.tune: 04-19 01:10:35] {721} INFO - Brief result: {'pred_time': 8.3088010981463e-06, 'wall_clock_time': 16.22883939743042, 'metric_for_logging': {'pred_time': 8.3088010981463e-06}, 'val_loss': 0.12920904512688847, 'trained_estimator': <flaml.automl.model.LGBMEstimator object at 0x7fec34fd3b80>}\n",
            "[flaml.tune.tune: 04-19 01:10:35] {721} INFO - Brief result: {'pred_time': 2.6359938193058623e-06, 'wall_clock_time': 16.646353244781494, 'metric_for_logging': {'pred_time': 2.6359938193058623e-06}, 'val_loss': 0.44030808729139925, 'trained_estimator': <flaml.automl.model.LRL1Classifier object at 0x7fec34fdedf0>}\n",
            "[flaml.tune.tune: 04-19 01:10:35] {701} INFO - Number of trials: 50/1000000, 2 RUNNING, 48 TERMINATED\n",
            "[flaml.tune.tune: 04-19 01:10:36] {721} INFO - Brief result: {'pred_time': 3.0307234197423078e-05, 'wall_clock_time': 16.778428554534912, 'metric_for_logging': {'pred_time': 3.0307234197423078e-05}, 'val_loss': 0.06798657055396462, 'trained_estimator': <flaml.automl.model.LGBMEstimator object at 0x7fec4c02b190>}\n",
            "[flaml.tune.tune: 04-19 01:10:36] {721} INFO - Brief result: {'pred_time': 2.4200781531955886e-05, 'wall_clock_time': 16.88268756866455, 'metric_for_logging': {'pred_time': 2.4200781531955886e-05}, 'val_loss': 0.07435568282808336, 'trained_estimator': <flaml.automl.model.LGBMEstimator object at 0x7fec4c1135b0>}\n",
            "[flaml.tune.tune: 04-19 01:10:36] {701} INFO - Number of trials: 52/1000000, 2 RUNNING, 50 TERMINATED\n",
            "[flaml.tune.tune: 04-19 01:10:36] {721} INFO - Brief result: {'pred_time': 2.8074651524640513e-06, 'wall_clock_time': 16.974034309387207, 'metric_for_logging': {'pred_time': 2.8074651524640513e-06}, 'val_loss': 0.05658141601658939, 'trained_estimator': <flaml.automl.model.LGBMEstimator object at 0x7fec34fc6880>}\n",
            "[flaml.tune.tune: 04-19 01:10:36] {721} INFO - Brief result: {'pred_time': 2.6446321736211362e-06, 'wall_clock_time': 17.52650499343872, 'metric_for_logging': {'pred_time': 2.6446321736211362e-06}, 'val_loss': 0.4402093413646687, 'trained_estimator': <flaml.automl.model.LRL1Classifier object at 0x7fec34fbd040>}\n",
            "[flaml.tune.tune: 04-19 01:10:36] {701} INFO - Number of trials: 54/1000000, 2 RUNNING, 52 TERMINATED\n",
            "[flaml.tune.tune: 04-19 01:10:36] {721} INFO - Brief result: {'pred_time': 6.419593009395876e-06, 'wall_clock_time': 17.642486095428467, 'metric_for_logging': {'pred_time': 6.419593009395876e-06}, 'val_loss': 0.09765972153648661, 'trained_estimator': <flaml.automl.model.LGBMEstimator object at 0x7fec4bc01400>}\n",
            "[flaml.tune.tune: 04-19 01:10:36] {721} INFO - Brief result: {'pred_time': 2.5258548017861187e-06, 'wall_clock_time': 17.6002094745636, 'metric_for_logging': {'pred_time': 2.5258548017861187e-06}, 'val_loss': 0.2373852078601758, 'trained_estimator': <flaml.automl.model.LGBMEstimator object at 0x7fec34fdb100>}\n",
            "[flaml.tune.tune: 04-19 01:10:36] {701} INFO - Number of trials: 56/1000000, 2 RUNNING, 54 TERMINATED\n",
            "[flaml.tune.tune: 04-19 01:10:36] {721} INFO - Brief result: {'pred_time': 8.018552393153094e-06, 'wall_clock_time': 17.772863388061523, 'metric_for_logging': {'pred_time': 8.018552393153094e-06}, 'val_loss': 0.11015108126789774, 'trained_estimator': <flaml.automl.model.LGBMEstimator object at 0x7fec34fdbf40>}\n",
            "[flaml.tune.tune: 04-19 01:10:36] {721} INFO - Brief result: {'pred_time': 8.93680945686672e-06, 'wall_clock_time': 17.81844425201416, 'metric_for_logging': {'pred_time': 8.93680945686672e-06}, 'val_loss': 0.06023501530561859, 'trained_estimator': <flaml.automl.model.LGBMEstimator object at 0x7fec4bc01f40>}\n",
            "[flaml.tune.tune: 04-19 01:10:36] {701} INFO - Number of trials: 58/1000000, 2 RUNNING, 56 TERMINATED\n",
            "[flaml.tune.tune: 04-19 01:10:37] {721} INFO - Brief result: {'pred_time': 4.903561827065288e-06, 'wall_clock_time': 17.945078372955322, 'metric_for_logging': {'pred_time': 4.903561827065288e-06}, 'val_loss': 0.11385405352029232, 'trained_estimator': <flaml.automl.model.LGBMEstimator object at 0x7fec34fbd490>}\n",
            "[flaml.tune.tune: 04-19 01:10:37] {721} INFO - Brief result: {'pred_time': 6.04771185612333e-06, 'wall_clock_time': 18.01078748703003, 'metric_for_logging': {'pred_time': 6.04771185612333e-06}, 'val_loss': 0.08250222178335143, 'trained_estimator': <flaml.automl.model.LGBMEstimator object at 0x7fec34fc6730>}\n",
            "[flaml.tune.tune: 04-19 01:10:37] {701} INFO - Number of trials: 60/1000000, 2 RUNNING, 58 TERMINATED\n",
            "[flaml.tune.tune: 04-19 01:10:37] {721} INFO - Brief result: {'pred_time': 3.395737081334211e-06, 'wall_clock_time': 18.21552562713623, 'metric_for_logging': {'pred_time': 3.395737081334211e-06}, 'val_loss': 0.06472795497185735, 'trained_estimator': <flaml.automl.model.LGBMEstimator object at 0x7fec34fcd040>}\n",
            "[flaml.tune.tune: 04-19 01:10:37] {721} INFO - Brief result: {'pred_time': 6.033890489218892e-06, 'wall_clock_time': 18.311420917510986, 'metric_for_logging': {'pred_time': 6.033890489218892e-06}, 'val_loss': 0.10417695270070126, 'trained_estimator': <flaml.automl.model.LGBMEstimator object at 0x7fec34fcd190>}\n",
            "[flaml.tune.tune: 04-19 01:10:37] {701} INFO - Number of trials: 62/1000000, 2 RUNNING, 60 TERMINATED\n",
            "[flaml.tune.tune: 04-19 01:10:37] {721} INFO - Brief result: {'pred_time': 6.0904717099839365e-06, 'wall_clock_time': 18.445258855819702, 'metric_for_logging': {'pred_time': 6.0904717099839365e-06}, 'val_loss': 0.08437839439123151, 'trained_estimator': <flaml.automl.model.LGBMEstimator object at 0x7fec34fefc10>}\n",
            "[flaml.tune.tune: 04-19 01:10:37] {721} INFO - Brief result: {'pred_time': 5.839095599409463e-06, 'wall_clock_time': 18.58301091194153, 'metric_for_logging': {'pred_time': 5.839095599409463e-06}, 'val_loss': 0.0753431420953885, 'trained_estimator': <flaml.automl.model.LGBMEstimator object at 0x7fec34fd3eb0>}\n",
            "[flaml.tune.tune: 04-19 01:10:37] {701} INFO - Number of trials: 64/1000000, 2 RUNNING, 62 TERMINATED\n",
            "[flaml.tune.tune: 04-19 01:10:38] {721} INFO - Brief result: {'pred_time': 5.846438200577445e-06, 'wall_clock_time': 18.726320266723633, 'metric_for_logging': {'pred_time': 5.846438200577445e-06}, 'val_loss': 0.09849906191369606, 'trained_estimator': <flaml.automl.model.LGBMEstimator object at 0x7fec34fbd880>}\n",
            "[flaml.tune.tune: 04-19 01:10:38] {721} INFO - Brief result: {'pred_time': 6.297360295834749e-06, 'wall_clock_time': 18.90593457221985, 'metric_for_logging': {'pred_time': 6.297360295834749e-06}, 'val_loss': 0.059494420855139785, 'trained_estimator': <flaml.automl.model.LGBMEstimator object at 0x7fec34fbdbb0>}\n",
            "[flaml.tune.tune: 04-19 01:10:38] {701} INFO - Number of trials: 66/1000000, 2 RUNNING, 64 TERMINATED\n",
            "[flaml.tune.tune: 04-19 01:10:38] {721} INFO - Brief result: {'pred_time': 3.2454297162484433e-06, 'wall_clock_time': 18.985801696777344, 'metric_for_logging': {'pred_time': 3.2454297162484433e-06}, 'val_loss': 0.09415424113755311, 'trained_estimator': <flaml.automl.model.ExtraTreesEstimator object at 0x7fec34fcc4f0>}\n",
            "[flaml.tune.tune: 04-19 01:10:38] {721} INFO - Brief result: {'pred_time': 9.18429830799932e-06, 'wall_clock_time': 19.04706835746765, 'metric_for_logging': {'pred_time': 9.18429830799932e-06}, 'val_loss': 0.11884072282018354, 'trained_estimator': <flaml.automl.model.LGBMEstimator object at 0x7fec34fcd490>}\n",
            "[flaml.tune.tune: 04-19 01:10:38] {701} INFO - Number of trials: 68/1000000, 2 RUNNING, 66 TERMINATED\n",
            "[flaml.tune.tune: 04-19 01:10:38] {721} INFO - Brief result: {'pred_time': 3.5672084144924e-06, 'wall_clock_time': 19.174312353134155, 'metric_for_logging': {'pred_time': 3.5672084144924e-06}, 'val_loss': 0.06043250715907966, 'trained_estimator': <flaml.automl.model.LGBMEstimator object at 0x7fec34fbdfd0>}\n",
            "[flaml.tune.tune: 04-19 01:10:38] {721} INFO - Brief result: {'pred_time': 3.0838924905528193e-06, 'wall_clock_time': 19.106544256210327, 'metric_for_logging': {'pred_time': 3.0838924905528193e-06}, 'val_loss': 0.1773476844080183, 'trained_estimator': <flaml.automl.model.ExtraTreesEstimator object at 0x7fec34fdb8b0>}\n",
            "[flaml.tune.tune: 04-19 01:10:38] {701} INFO - Number of trials: 70/1000000, 2 RUNNING, 68 TERMINATED\n",
            "[flaml.tune.tune: 04-19 01:10:38] {721} INFO - Brief result: {'pred_time': 2.6657961416935576e-06, 'wall_clock_time': 19.25450086593628, 'metric_for_logging': {'pred_time': 2.6657961416935576e-06}, 'val_loss': 0.07356571541423917, 'trained_estimator': <flaml.automl.model.LGBMEstimator object at 0x7fec34fc4070>}\n",
            "[flaml.tune.tune: 04-19 01:10:38] {721} INFO - Brief result: {'pred_time': 3.0126260674518086e-06, 'wall_clock_time': 19.338970184326172, 'metric_for_logging': {'pred_time': 3.0126260674518086e-06}, 'val_loss': 0.11257035647279534, 'trained_estimator': <flaml.automl.model.LGBMEstimator object at 0x7fec34fcc1f0>}\n",
            "[flaml.tune.tune: 04-19 01:10:38] {701} INFO - Number of trials: 72/1000000, 2 RUNNING, 70 TERMINATED\n",
            "[flaml.tune.tune: 04-19 01:10:38] {721} INFO - Brief result: {'pred_time': 9.176955706831338e-06, 'wall_clock_time': 19.547762393951416, 'metric_for_logging': {'pred_time': 9.176955706831338e-06}, 'val_loss': 0.055198973042361876, 'trained_estimator': <flaml.automl.model.LGBMEstimator object at 0x7fec34fef340>}\n",
            "[flaml.tune.tune: 04-19 01:10:38] {721} INFO - Brief result: {'pred_time': 2.90421472079512e-06, 'wall_clock_time': 19.430681467056274, 'metric_for_logging': {'pred_time': 2.90421472079512e-06}, 'val_loss': 0.07529376913202335, 'trained_estimator': <flaml.automl.model.LGBMEstimator object at 0x7fec34fd3d30>}\n",
            "[flaml.tune.tune: 04-19 01:10:38] {701} INFO - Number of trials: 74/1000000, 2 RUNNING, 72 TERMINATED\n",
            "[flaml.tune.tune: 04-19 01:10:38] {721} INFO - Brief result: {'pred_time': 5.785105884939e-06, 'wall_clock_time': 19.72303557395935, 'metric_for_logging': {'pred_time': 5.785105884939e-06}, 'val_loss': 0.07573812580231065, 'trained_estimator': <flaml.automl.model.LGBMEstimator object at 0x7fec34fc4c70>}\n",
            "[flaml.tune.tune: 04-19 01:10:38] {721} INFO - Brief result: {'pred_time': 6.937462350596553e-06, 'wall_clock_time': 19.632790088653564, 'metric_for_logging': {'pred_time': 6.937462350596553e-06}, 'val_loss': 0.05608768638293671, 'trained_estimator': <flaml.automl.model.LGBMEstimator object at 0x7fec34fc4310>}\n",
            "[flaml.tune.tune: 04-19 01:10:38] {701} INFO - Number of trials: 76/1000000, 2 RUNNING, 74 TERMINATED\n",
            "[flaml.tune.tune: 04-19 01:10:39] {721} INFO - Brief result: {'pred_time': 8.21421111839405e-06, 'wall_clock_time': 19.933900833129883, 'metric_for_logging': {'pred_time': 8.21421111839405e-06}, 'val_loss': 0.1174089068825912, 'trained_estimator': <flaml.automl.model.LGBMEstimator object at 0x7fec35608ee0>}\n",
            "[flaml.tune.tune: 04-19 01:10:39] {721} INFO - Brief result: {'pred_time': 5.2931516066841455e-06, 'wall_clock_time': 19.92952609062195, 'metric_for_logging': {'pred_time': 5.2931516066841455e-06}, 'val_loss': 0.07104769428261082, 'trained_estimator': <flaml.automl.model.LGBMEstimator object at 0x7fec4b9df9a0>}\n",
            "[flaml.tune.tune: 04-19 01:10:39] {701} INFO - Number of trials: 78/1000000, 2 RUNNING, 76 TERMINATED\n",
            "[flaml.tune.tune: 04-19 01:10:39] {721} INFO - Brief result: {'pred_time': 3.788782202679178e-06, 'wall_clock_time': 20.200384855270386, 'metric_for_logging': {'pred_time': 3.788782202679178e-06}, 'val_loss': 0.0743063098647182, 'trained_estimator': <flaml.automl.model.LGBMEstimator object at 0x7fec356027f0>}\n",
            "[flaml.tune.tune: 04-19 01:10:39] {721} INFO - Brief result: {'pred_time': 4.645275033038596e-06, 'wall_clock_time': 20.132648468017578, 'metric_for_logging': {'pred_time': 4.645275033038596e-06}, 'val_loss': 0.13641749777821666, 'trained_estimator': <flaml.automl.model.LGBMEstimator object at 0x7fec4b9fc2e0>}\n",
            "[flaml.tune.tune: 04-19 01:10:39] {701} INFO - Number of trials: 80/1000000, 2 RUNNING, 78 TERMINATED\n",
            "[flaml.tune.tune: 04-19 01:10:39] {721} INFO - Brief result: {'pred_time': 8.836604546809543e-06, 'wall_clock_time': 20.385242700576782, 'metric_for_logging': {'pred_time': 8.836604546809543e-06}, 'val_loss': 0.05100227115631484, 'trained_estimator': <flaml.automl.model.LGBMEstimator object at 0x7fec4b9f0c40>}\n",
            "[flaml.tune.tune: 04-19 01:10:39] {721} INFO - Brief result: {'pred_time': 5.2603258602861045e-06, 'wall_clock_time': 20.43856120109558, 'metric_for_logging': {'pred_time': 5.2603258602861045e-06}, 'val_loss': 0.0940061222474573, 'trained_estimator': <flaml.automl.model.LGBMEstimator object at 0x7fec4b9f0be0>}\n",
            "[flaml.tune.tune: 04-19 01:10:39] {701} INFO - Number of trials: 82/1000000, 2 RUNNING, 80 TERMINATED\n",
            "[flaml.tune.tune: 04-19 01:10:39] {721} INFO - Brief result: {'pred_time': 5.6779902914296025e-06, 'wall_clock_time': 20.56763219833374, 'metric_for_logging': {'pred_time': 5.6779902914296025e-06}, 'val_loss': 0.09306803594351742, 'trained_estimator': <flaml.automl.model.LGBMEstimator object at 0x7fec4b9fc070>}\n",
            "[flaml.tune.tune: 04-19 01:10:39] {721} INFO - Brief result: {'pred_time': 5.091877951138262e-06, 'wall_clock_time': 20.56761121749878, 'metric_for_logging': {'pred_time': 5.091877951138262e-06}, 'val_loss': 0.0489286066949739, 'trained_estimator': <flaml.automl.model.LGBMEstimator object at 0x7fec4ba00dc0>}\n",
            "[flaml.tune.tune: 04-19 01:10:39] {701} INFO - Number of trials: 84/1000000, 2 RUNNING, 82 TERMINATED\n",
            "[flaml.tune.tune: 04-19 01:10:39] {721} INFO - Brief result: {'pred_time': 2.659317375957102e-06, 'wall_clock_time': 20.810898542404175, 'metric_for_logging': {'pred_time': 2.659317375957102e-06}, 'val_loss': 0.0694183864915574, 'trained_estimator': <flaml.automl.model.LGBMEstimator object at 0x7fec4ba00b80>}\n",
            "[flaml.tune.tune: 04-19 01:10:39] {721} INFO - Brief result: {'pred_time': 8.414620938508406e-06, 'wall_clock_time': 20.675727367401123, 'metric_for_logging': {'pred_time': 8.414620938508406e-06}, 'val_loss': 0.11573022612817219, 'trained_estimator': <flaml.automl.model.LGBMEstimator object at 0x7fec4ba00a30>}\n",
            "[flaml.tune.tune: 04-19 01:10:40] {701} INFO - Number of trials: 86/1000000, 2 RUNNING, 84 TERMINATED\n",
            "[flaml.tune.tune: 04-19 01:10:40] {721} INFO - Brief result: {'pred_time': 2.832084462262582e-06, 'wall_clock_time': 20.903096199035645, 'metric_for_logging': {'pred_time': 2.832084462262582e-06}, 'val_loss': 0.04626246667324985, 'trained_estimator': <flaml.automl.model.LGBMEstimator object at 0x7fec4b9f9940>}\n",
            "[flaml.tune.tune: 04-19 01:10:40] {721} INFO - Brief result: {'pred_time': 2.9219233471414317e-06, 'wall_clock_time': 20.932437419891357, 'metric_for_logging': {'pred_time': 2.9219233471414317e-06}, 'val_loss': 0.06018564234225343, 'trained_estimator': <flaml.automl.model.LGBMEstimator object at 0x7fec4b9dd0a0>}\n",
            "[flaml.tune.tune: 04-19 01:10:40] {701} INFO - Number of trials: 88/1000000, 2 RUNNING, 86 TERMINATED\n",
            "[flaml.tune.tune: 04-19 01:10:40] {721} INFO - Brief result: {'pred_time': 6.758216498554617e-06, 'wall_clock_time': 21.03868079185486, 'metric_for_logging': {'pred_time': 6.758216498554617e-06}, 'val_loss': 0.06428359830156993, 'trained_estimator': <flaml.automl.model.LGBMEstimator object at 0x7fec4b9f9490>}\n",
            "[flaml.tune.tune: 04-19 01:10:40] {721} INFO - Brief result: {'pred_time': 2.92408293572025e-06, 'wall_clock_time': 21.065490245819092, 'metric_for_logging': {'pred_time': 2.92408293572025e-06}, 'val_loss': 0.0632961390342649, 'trained_estimator': <flaml.automl.model.LGBMEstimator object at 0x7fec4b9fcfd0>}\n",
            "[flaml.tune.tune: 04-19 01:10:40] {701} INFO - Number of trials: 90/1000000, 2 RUNNING, 88 TERMINATED\n",
            "[flaml.tune.tune: 04-19 01:10:40] {721} INFO - Brief result: {'pred_time': 1.649493756501571e-05, 'wall_clock_time': 21.313084840774536, 'metric_for_logging': {'pred_time': 1.649493756501571e-05}, 'val_loss': 0.06270366347388179, 'trained_estimator': <flaml.automl.model.LGBMEstimator object at 0x7fec4ba02be0>}\n",
            "[flaml.tune.tune: 04-19 01:10:40] {721} INFO - Brief result: {'pred_time': 6.298224131266276e-06, 'wall_clock_time': 21.25125765800476, 'metric_for_logging': {'pred_time': 6.298224131266276e-06}, 'val_loss': 0.05514960007899683, 'trained_estimator': <flaml.automl.model.LGBMEstimator object at 0x7fec4c095c40>}\n",
            "[flaml.tune.tune: 04-19 01:10:40] {701} INFO - Number of trials: 92/1000000, 2 RUNNING, 90 TERMINATED\n",
            "[flaml.tune.tune: 04-19 01:10:40] {721} INFO - Brief result: {'pred_time': 9.413646615069846e-06, 'wall_clock_time': 21.699151277542114, 'metric_for_logging': {'pred_time': 9.413646615069846e-06}, 'val_loss': 0.05332280043448212, 'trained_estimator': <flaml.automl.model.LGBMEstimator object at 0x7fec34fcc400>}\n",
            "[flaml.tune.tune: 04-19 01:10:40] {721} INFO - Brief result: {'pred_time': 5.425318427707838e-06, 'wall_clock_time': 21.548757791519165, 'metric_for_logging': {'pred_time': 5.425318427707838e-06}, 'val_loss': 0.11592771798163315, 'trained_estimator': <flaml.automl.model.LGBMEstimator object at 0x7fec4b9df2b0>}\n",
            "[flaml.tune.tune: 04-19 01:10:40] {701} INFO - Number of trials: 94/1000000, 2 RUNNING, 92 TERMINATED\n",
            "[flaml.tune.tune: 04-19 01:10:40] {721} INFO - Brief result: {'pred_time': 6.139710329580998e-06, 'wall_clock_time': 21.82002091407776, 'metric_for_logging': {'pred_time': 6.139710329580998e-06}, 'val_loss': 0.05159474671669795, 'trained_estimator': <flaml.automl.model.LGBMEstimator object at 0x7fec4c095760>}\n",
            "[flaml.tune.tune: 04-19 01:10:40] {721} INFO - Brief result: {'pred_time': 3.3011471015819605e-06, 'wall_clock_time': 21.81204319000244, 'metric_for_logging': {'pred_time': 3.3011471015819605e-06}, 'val_loss': 0.09059938777525423, 'trained_estimator': <flaml.automl.model.LGBMEstimator object at 0x7fec4c0950a0>}\n",
            "[flaml.tune.tune: 04-19 01:10:41] {701} INFO - Number of trials: 96/1000000, 2 RUNNING, 94 TERMINATED\n",
            "[flaml.tune.tune: 04-19 01:10:41] {721} INFO - Brief result: {'pred_time': 4.165414450825125e-06, 'wall_clock_time': 21.923016786575317, 'metric_for_logging': {'pred_time': 4.165414450825125e-06}, 'val_loss': 0.11385405352029232, 'trained_estimator': <flaml.automl.model.LGBMEstimator object at 0x7fec4cfa5250>}\n",
            "[flaml.tune.tune: 04-19 01:10:41] {721} INFO - Brief result: {'pred_time': 6.249417429384978e-06, 'wall_clock_time': 22.018856048583984, 'metric_for_logging': {'pred_time': 6.249417429384978e-06}, 'val_loss': 0.07075145650241921, 'trained_estimator': <flaml.automl.model.LGBMEstimator object at 0x7fec4b9f9220>}\n",
            "[flaml.tune.tune: 04-19 01:10:41] {701} INFO - Number of trials: 98/1000000, 2 RUNNING, 96 TERMINATED\n",
            "[flaml.tune.tune: 04-19 01:10:41] {721} INFO - Brief result: {'pred_time': 6.034322406934655e-06, 'wall_clock_time': 22.17363977432251, 'metric_for_logging': {'pred_time': 6.034322406934655e-06}, 'val_loss': 0.06887528389453934, 'trained_estimator': <flaml.automl.model.LGBMEstimator object at 0x7fec4cfd2460>}\n",
            "[flaml.tune.tune: 04-19 01:10:41] {721} INFO - Brief result: {'pred_time': 2.9556129289710005e-06, 'wall_clock_time': 22.160629272460938, 'metric_for_logging': {'pred_time': 2.9556129289710005e-06}, 'val_loss': 0.09133998222573325, 'trained_estimator': <flaml.automl.model.LGBMEstimator object at 0x7fec4ceef160>}\n",
            "[flaml.tune.tune: 04-19 01:10:41] {701} INFO - Number of trials: 100/1000000, 2 RUNNING, 98 TERMINATED\n",
            "[flaml.tune.tune: 04-19 01:10:41] {721} INFO - Brief result: {'pred_time': 2.9854152513586958e-06, 'wall_clock_time': 22.27741003036499, 'metric_for_logging': {'pred_time': 2.9854152513586958e-06}, 'val_loss': 0.11449590204404081, 'trained_estimator': <flaml.automl.model.LGBMEstimator object at 0x7fec06746dc0>}\n",
            "[flaml.tune.tune: 04-19 01:10:41] {721} INFO - Brief result: {'pred_time': 5.744073701941448e-06, 'wall_clock_time': 22.31732988357544, 'metric_for_logging': {'pred_time': 5.744073701941448e-06}, 'val_loss': 0.05924755603831344, 'trained_estimator': <flaml.automl.model.LGBMEstimator object at 0x7fec22fa74f0>}\n",
            "[flaml.tune.tune: 04-19 01:10:41] {701} INFO - Number of trials: 102/1000000, 2 RUNNING, 100 TERMINATED\n",
            "[flaml.tune.tune: 04-19 01:10:41] {721} INFO - Brief result: {'pred_time': 1.626947651738706e-05, 'wall_clock_time': 22.530508756637573, 'metric_for_logging': {'pred_time': 1.626947651738706e-05}, 'val_loss': 0.08546459958526709, 'trained_estimator': <flaml.automl.model.LGBMEstimator object at 0x7fec4c021850>}\n",
            "[flaml.tune.tune: 04-19 01:10:41] {721} INFO - Brief result: {'pred_time': 5.756167397982832e-06, 'wall_clock_time': 22.592064142227173, 'metric_for_logging': {'pred_time': 5.756167397982832e-06}, 'val_loss': 0.14668707415819104, 'trained_estimator': <flaml.automl.model.LGBMEstimator object at 0x7fec4c021d30>}\n",
            "[flaml.tune.tune: 04-19 01:10:41] {701} INFO - Number of trials: 104/1000000, 2 RUNNING, 102 TERMINATED\n",
            "[flaml.tune.tune: 04-19 01:10:41] {721} INFO - Brief result: {'pred_time': 2.829492955968e-06, 'wall_clock_time': 22.753239631652832, 'metric_for_logging': {'pred_time': 2.829492955968e-06}, 'val_loss': 0.12071689542806352, 'trained_estimator': <flaml.automl.model.LGBMEstimator object at 0x7fec4cfd2340>}\n",
            "[flaml.tune.tune: 04-19 01:10:41] {721} INFO - Brief result: {'pred_time': 3.902808479640795e-06, 'wall_clock_time': 22.676719188690186, 'metric_for_logging': {'pred_time': 3.902808479640795e-06}, 'val_loss': 0.06507356571541434, 'trained_estimator': <flaml.automl.model.LGBMEstimator object at 0x7fec22f8b6d0>}\n",
            "[flaml.tune.tune: 04-19 01:10:41] {701} INFO - Number of trials: 106/1000000, 2 RUNNING, 104 TERMINATED\n",
            "[flaml.tune.tune: 04-19 01:10:42] {721} INFO - Brief result: {'pred_time': 6.100405817446501e-06, 'wall_clock_time': 22.878417491912842, 'metric_for_logging': {'pred_time': 6.100405817446501e-06}, 'val_loss': 0.06087686382936708, 'trained_estimator': <flaml.automl.model.LGBMEstimator object at 0x7fec22f8bb80>}\n",
            "[flaml.tune.tune: 04-19 01:10:42] {721} INFO - Brief result: {'pred_time': 2.5179075158160664e-05, 'wall_clock_time': 23.052462100982666, 'metric_for_logging': {'pred_time': 2.5179075158160664e-05}, 'val_loss': 0.11869260393008785, 'trained_estimator': <flaml.automl.model.LGBMEstimator object at 0x7fec2325b610>}\n",
            "[flaml.tune.tune: 04-19 01:10:42] {701} INFO - Number of trials: 108/1000000, 2 RUNNING, 106 TERMINATED\n",
            "[flaml.tune.tune: 04-19 01:10:42] {721} INFO - Brief result: {'pred_time': 5.793744239254274e-06, 'wall_clock_time': 23.17588472366333, 'metric_for_logging': {'pred_time': 5.793744239254274e-06}, 'val_loss': 0.08294657845363884, 'trained_estimator': <flaml.automl.model.LGBMEstimator object at 0x7fec4c0281c0>}\n",
            "[flaml.tune.tune: 04-19 01:10:42] {721} INFO - Brief result: {'pred_time': 2.396322678828585e-05, 'wall_clock_time': 23.34018874168396, 'metric_for_logging': {'pred_time': 2.396322678828585e-05}, 'val_loss': 0.06961587834501837, 'trained_estimator': <flaml.automl.model.LGBMEstimator object at 0x7fec4c028af0>}\n",
            "[flaml.tune.tune: 04-19 01:10:42] {701} INFO - Number of trials: 110/1000000, 2 RUNNING, 108 TERMINATED\n",
            "[flaml.tune.tune: 04-19 01:10:42] {721} INFO - Brief result: {'pred_time': 5.7159990504168085e-06, 'wall_clock_time': 23.49625301361084, 'metric_for_logging': {'pred_time': 5.7159990504168085e-06}, 'val_loss': 0.11459464797077112, 'trained_estimator': <flaml.automl.model.LGBMEstimator object at 0x7fec2311ebb0>}\n",
            "[flaml.tune.tune: 04-19 01:10:42] {721} INFO - Brief result: {'pred_time': 3.985304763351661e-06, 'wall_clock_time': 23.621938467025757, 'metric_for_logging': {'pred_time': 3.985304763351661e-06}, 'val_loss': 0.07934235212797469, 'trained_estimator': <flaml.automl.model.LGBMEstimator object at 0x7fec4cfa5970>}\n",
            "[flaml.tune.tune: 04-19 01:10:42] {701} INFO - Number of trials: 112/1000000, 2 RUNNING, 110 TERMINATED\n",
            "[flaml.tune.tune: 04-19 01:10:43] {721} INFO - Brief result: {'pred_time': 6.010998850283415e-06, 'wall_clock_time': 23.92509412765503, 'metric_for_logging': {'pred_time': 6.010998850283415e-06}, 'val_loss': 0.06201244198676814, 'trained_estimator': <flaml.automl.model.LGBMEstimator object at 0x7fec2327ec40>}\n",
            "[flaml.tune.tune: 04-19 01:10:43] {721} INFO - Brief result: {'pred_time': 2.77463940606601e-06, 'wall_clock_time': 23.766287803649902, 'metric_for_logging': {'pred_time': 2.77463940606601e-06}, 'val_loss': 0.05312530858102105, 'trained_estimator': <flaml.automl.model.LGBMEstimator object at 0x7fec2327edf0>}\n",
            "[flaml.tune.tune: 04-19 01:10:43] {701} INFO - Number of trials: 114/1000000, 2 RUNNING, 112 TERMINATED\n",
            "[flaml.tune.tune: 04-19 01:10:43] {721} INFO - Brief result: {'pred_time': 3.0186729154725005e-06, 'wall_clock_time': 24.07707452774048, 'metric_for_logging': {'pred_time': 3.0186729154725005e-06}, 'val_loss': 0.08516836180507548, 'trained_estimator': <flaml.automl.model.LGBMEstimator object at 0x7fec2327e700>}\n",
            "[flaml.tune.tune: 04-19 01:10:43] {721} INFO - Brief result: {'pred_time': 2.608783003212749e-06, 'wall_clock_time': 24.00983738899231, 'metric_for_logging': {'pred_time': 2.608783003212749e-06}, 'val_loss': 0.06764095981040785, 'trained_estimator': <flaml.automl.model.LGBMEstimator object at 0x7fec2327ea90>}\n",
            "[flaml.tune.tune: 04-19 01:10:43] {701} INFO - Number of trials: 116/1000000, 2 RUNNING, 114 TERMINATED\n",
            "[flaml.tune.tune: 04-19 01:10:43] {721} INFO - Brief result: {'pred_time': 3.4251074860061426e-06, 'wall_clock_time': 24.38084888458252, 'metric_for_logging': {'pred_time': 3.4251074860061426e-06}, 'val_loss': 0.06339488496099543, 'trained_estimator': <flaml.automl.model.LGBMEstimator object at 0x7fec4b9119d0>}\n",
            "[flaml.tune.tune: 04-19 01:10:43] {721} INFO - Brief result: {'pred_time': 7.032052330348803e-06, 'wall_clock_time': 24.1881685256958, 'metric_for_logging': {'pred_time': 7.032052330348803e-06}, 'val_loss': 0.04636121259998027, 'trained_estimator': <flaml.automl.model.LGBMEstimator object at 0x7fec4b9111f0>}\n",
            "[flaml.tune.tune: 04-19 01:10:43] {701} INFO - Number of trials: 118/1000000, 2 RUNNING, 116 TERMINATED\n",
            "[flaml.tune.tune: 04-19 01:10:43] {721} INFO - Brief result: {'pred_time': 9.86240912174833e-06, 'wall_clock_time': 24.56498122215271, 'metric_for_logging': {'pred_time': 9.86240912174833e-06}, 'val_loss': 0.07119581317270662, 'trained_estimator': <flaml.automl.model.LGBMEstimator object at 0x7fec35357bb0>}\n",
            "[flaml.tune.tune: 04-19 01:10:43] {721} INFO - Brief result: {'pred_time': 3.183665482894234e-06, 'wall_clock_time': 24.54759931564331, 'metric_for_logging': {'pred_time': 3.183665482894234e-06}, 'val_loss': 0.08887133405747016, 'trained_estimator': <flaml.automl.model.LGBMEstimator object at 0x7fec35357ca0>}\n",
            "[flaml.tune.tune: 04-19 01:10:43] {701} INFO - Number of trials: 120/1000000, 2 RUNNING, 118 TERMINATED\n",
            "[flaml.tune.tune: 04-19 01:10:43] {721} INFO - Brief result: {'pred_time': 2.754339273425116e-06, 'wall_clock_time': 24.789905548095703, 'metric_for_logging': {'pred_time': 2.754339273425116e-06}, 'val_loss': 0.10827490866001788, 'trained_estimator': <flaml.automl.model.LGBMEstimator object at 0x7fec2327e190>}\n",
            "[flaml.tune.tune: 04-19 01:10:43] {721} INFO - Brief result: {'pred_time': 2.649383268494537e-06, 'wall_clock_time': 24.70473837852478, 'metric_for_logging': {'pred_time': 2.649383268494537e-06}, 'val_loss': 0.06028438826898397, 'trained_estimator': <flaml.automl.model.LGBMEstimator object at 0x7fec35357d60>}\n",
            "[flaml.tune.tune: 04-19 01:10:43] {701} INFO - Number of trials: 122/1000000, 2 RUNNING, 120 TERMINATED\n",
            "[flaml.tune.tune: 04-19 01:10:44] {721} INFO - Brief result: {'pred_time': 2.9823918273483496e-06, 'wall_clock_time': 24.895788431167603, 'metric_for_logging': {'pred_time': 2.9823918273483496e-06}, 'val_loss': 0.06685099239656367, 'trained_estimator': <flaml.automl.model.LGBMEstimator object at 0x7fec4bbbe250>}\n",
            "[flaml.tune.tune: 04-19 01:10:44] {721} INFO - Brief result: {'pred_time': 9.796325711236484e-06, 'wall_clock_time': 25.00363516807556, 'metric_for_logging': {'pred_time': 9.796325711236484e-06}, 'val_loss': 0.1250123432408412, 'trained_estimator': <flaml.automl.model.LGBMEstimator object at 0x7fec4b883220>}\n",
            "[flaml.tune.tune: 04-19 01:10:44] {701} INFO - Number of trials: 124/1000000, 2 RUNNING, 122 TERMINATED\n",
            "[flaml.tune.tune: 04-19 01:10:44] {721} INFO - Brief result: {'pred_time': 2.7569307797196982e-06, 'wall_clock_time': 25.178345680236816, 'metric_for_logging': {'pred_time': 2.7569307797196982e-06}, 'val_loss': 0.053767157104769536, 'trained_estimator': <flaml.automl.model.LGBMEstimator object at 0x7fec4b8fa520>}\n",
            "[flaml.tune.tune: 04-19 01:10:44] {721} INFO - Brief result: {'pred_time': 6.0209329577459805e-06, 'wall_clock_time': 25.213536024093628, 'metric_for_logging': {'pred_time': 6.0209329577459805e-06}, 'val_loss': 0.05203910338698525, 'trained_estimator': <flaml.automl.model.LGBMEstimator object at 0x7fec4b8fa370>}\n",
            "[flaml.tune.tune: 04-19 01:10:44] {701} INFO - Number of trials: 126/1000000, 2 RUNNING, 124 TERMINATED\n",
            "[flaml.tune.tune: 04-19 01:10:44] {721} INFO - Brief result: {'pred_time': 5.583832229393116e-06, 'wall_clock_time': 25.35109281539917, 'metric_for_logging': {'pred_time': 5.583832229393116e-06}, 'val_loss': 0.060136269378888274, 'trained_estimator': <flaml.automl.model.LGBMEstimator object at 0x7fec4b8839a0>}\n",
            "[flaml.tune.tune: 04-19 01:10:44] {721} INFO - Brief result: {'pred_time': 7.961107336956522e-06, 'wall_clock_time': 25.331994771957397, 'metric_for_logging': {'pred_time': 7.961107336956522e-06}, 'val_loss': 0.06324676607089952, 'trained_estimator': <flaml.automl.model.LGBMEstimator object at 0x7fec35452400>}\n",
            "[flaml.tune.tune: 04-19 01:10:44] {701} INFO - Number of trials: 128/1000000, 2 RUNNING, 126 TERMINATED\n",
            "[flaml.tune.tune: 04-19 01:10:44] {721} INFO - Brief result: {'pred_time': 5.300494207852129e-06, 'wall_clock_time': 25.485967874526978, 'metric_for_logging': {'pred_time': 5.300494207852129e-06}, 'val_loss': 0.05954379381850505, 'trained_estimator': <flaml.automl.model.LGBMEstimator object at 0x7fec35452e20>}\n",
            "[flaml.tune.tune: 04-19 01:10:44] {721} INFO - Brief result: {'pred_time': 3.0044196308522984e-06, 'wall_clock_time': 25.516738414764404, 'metric_for_logging': {'pred_time': 3.0044196308522984e-06}, 'val_loss': 0.11192850794904707, 'trained_estimator': <flaml.automl.model.LGBMEstimator object at 0x7fec353575b0>}\n",
            "[flaml.tune.tune: 04-19 01:10:44] {701} INFO - Number of trials: 130/1000000, 2 RUNNING, 128 TERMINATED\n",
            "[flaml.tune.tune: 04-19 01:10:44] {721} INFO - Brief result: {'pred_time': 2.8558399366295855e-06, 'wall_clock_time': 25.770437479019165, 'metric_for_logging': {'pred_time': 2.8558399366295855e-06}, 'val_loss': 0.06122247457292396, 'trained_estimator': <flaml.automl.model.LGBMEstimator object at 0x7fec3540be80>}\n",
            "[flaml.tune.tune: 04-19 01:10:44] {721} INFO - Brief result: {'pred_time': 5.801086840422257e-06, 'wall_clock_time': 25.760963678359985, 'metric_for_logging': {'pred_time': 5.801086840422257e-06}, 'val_loss': 0.07178828873308973, 'trained_estimator': <flaml.automl.model.LGBMEstimator object at 0x7fec35382e80>}\n",
            "[flaml.tune.tune: 04-19 01:10:44] {701} INFO - Number of trials: 132/1000000, 2 RUNNING, 130 TERMINATED\n",
            "[flaml.tune.tune: 04-19 01:10:45] {721} INFO - Brief result: {'pred_time': 5.684900974881822e-06, 'wall_clock_time': 26.019713401794434, 'metric_for_logging': {'pred_time': 5.684900974881822e-06}, 'val_loss': 0.05633455119976316, 'trained_estimator': <flaml.automl.model.LGBMEstimator object at 0x7fec4bbbecd0>}\n",
            "[flaml.tune.tune: 04-19 01:10:45] {721} INFO - Brief result: {'pred_time': 5.650347557620726e-06, 'wall_clock_time': 25.950324296951294, 'metric_for_logging': {'pred_time': 5.650347557620726e-06}, 'val_loss': 0.13631875185148612, 'trained_estimator': <flaml.automl.model.LGBMEstimator object at 0x7fec35382fd0>}\n",
            "[flaml.tune.tune: 04-19 01:10:45] {701} INFO - Number of trials: 134/1000000, 2 RUNNING, 132 TERMINATED\n",
            "[flaml.tune.tune: 04-19 01:10:45] {721} INFO - Brief result: {'pred_time': 5.522067996038907e-06, 'wall_clock_time': 26.28586196899414, 'metric_for_logging': {'pred_time': 5.522067996038907e-06}, 'val_loss': 0.060629999012540736, 'trained_estimator': <flaml.automl.model.LGBMEstimator object at 0x7fec4ba5f4f0>}\n",
            "[flaml.tune.tune: 04-19 01:10:45] {721} INFO - Brief result: {'pred_time': 3.1707079514213232e-06, 'wall_clock_time': 26.178901433944702, 'metric_for_logging': {'pred_time': 3.1707079514213232e-06}, 'val_loss': 0.05880319936802603, 'trained_estimator': <flaml.automl.model.LGBMEstimator object at 0x7fec4bb2ba60>}\n",
            "[flaml.tune.tune: 04-19 01:10:45] {701} INFO - Number of trials: 136/1000000, 2 RUNNING, 134 TERMINATED\n",
            "[flaml.tune.tune: 04-19 01:10:45] {721} INFO - Brief result: {'pred_time': 4.254821417988211e-06, 'wall_clock_time': 26.415063619613647, 'metric_for_logging': {'pred_time': 4.254821417988211e-06}, 'val_loss': 0.11977880912412364, 'trained_estimator': <flaml.automl.model.LGBMEstimator object at 0x7fec4ba5f550>}\n",
            "[flaml.tune.tune: 04-19 01:10:45] {721} INFO - Brief result: {'pred_time': 3.474346105603204e-06, 'wall_clock_time': 26.48921513557434, 'metric_for_logging': {'pred_time': 3.474346105603204e-06}, 'val_loss': 0.06927026760146149, 'trained_estimator': <flaml.automl.model.LGBMEstimator object at 0x7fec4ba5fe80>}\n",
            "[flaml.tune.tune: 04-19 01:10:45] {701} INFO - Number of trials: 138/1000000, 2 RUNNING, 136 TERMINATED\n",
            "[flaml.tune.tune: 04-19 01:10:45] {721} INFO - Brief result: {'pred_time': 3.110239471214405e-06, 'wall_clock_time': 26.65872859954834, 'metric_for_logging': {'pred_time': 3.110239471214405e-06}, 'val_loss': 0.04729929890392026, 'trained_estimator': <flaml.automl.model.LGBMEstimator object at 0x7fec4bb86100>}\n",
            "[flaml.tune.tune: 04-19 01:10:45] {721} INFO - Brief result: {'pred_time': 6.504248881685561e-06, 'wall_clock_time': 26.67936396598816, 'metric_for_logging': {'pred_time': 6.504248881685561e-06}, 'val_loss': 0.05445837859188307, 'trained_estimator': <flaml.automl.model.LGBMEstimator object at 0x7fec4bb86eb0>}\n",
            "[flaml.tune.tune: 04-19 01:10:45] {701} INFO - Number of trials: 140/1000000, 2 RUNNING, 138 TERMINATED\n",
            "[flaml.tune.tune: 04-19 01:10:46] {721} INFO - Brief result: {'pred_time': 3.000964289126189e-06, 'wall_clock_time': 26.915833473205566, 'metric_for_logging': {'pred_time': 3.000964289126189e-06}, 'val_loss': 0.09311740890688258, 'trained_estimator': <flaml.automl.model.LGBMEstimator object at 0x7fec4bb2bac0>}\n",
            "[flaml.tune.tune: 04-19 01:10:46] {721} INFO - Brief result: {'pred_time': 2.5223994600600092e-06, 'wall_clock_time': 26.75563335418701, 'metric_for_logging': {'pred_time': 2.5223994600600092e-06}, 'val_loss': 0.11508837760442381, 'trained_estimator': <flaml.automl.model.LGBMEstimator object at 0x7fec4ba5f2b0>}\n",
            "[flaml.tune.tune: 04-19 01:10:46] {701} INFO - Number of trials: 142/1000000, 2 RUNNING, 140 TERMINATED\n",
            "[flaml.tune.tune: 04-19 01:10:46] {721} INFO - Brief result: {'pred_time': 2.4826630302097485e-06, 'wall_clock_time': 26.999792337417603, 'metric_for_logging': {'pred_time': 2.4826630302097485e-06}, 'val_loss': 0.05969191270860086, 'trained_estimator': <flaml.automl.model.LGBMEstimator object at 0x7fec4bb51820>}\n",
            "[flaml.tune.tune: 04-19 01:10:46] {721} INFO - Brief result: {'pred_time': 5.978173103885374e-06, 'wall_clock_time': 27.102710723876953, 'metric_for_logging': {'pred_time': 5.978173103885374e-06}, 'val_loss': 0.1033376123234917, 'trained_estimator': <flaml.automl.model.LGBMEstimator object at 0x7fec4bb51610>}\n",
            "[flaml.tune.tune: 04-19 01:10:46] {701} INFO - Number of trials: 144/1000000, 2 RUNNING, 142 TERMINATED\n",
            "[flaml.tune.tune: 04-19 01:10:46] {721} INFO - Brief result: {'pred_time': 2.6787536731664687e-06, 'wall_clock_time': 27.26138925552368, 'metric_for_logging': {'pred_time': 2.6787536731664687e-06}, 'val_loss': 0.06773970573713839, 'trained_estimator': <flaml.automl.model.LGBMEstimator object at 0x7fec3560efa0>}\n",
            "[flaml.tune.tune: 04-19 01:10:46] {721} INFO - Brief result: {'pred_time': 7.882930230403293e-06, 'wall_clock_time': 27.29090642929077, 'metric_for_logging': {'pred_time': 7.882930230403293e-06}, 'val_loss': 0.05603831341957155, 'trained_estimator': <flaml.automl.model.LGBMEstimator object at 0x7fec354ee7f0>}\n",
            "[flaml.tune.tune: 04-19 01:10:46] {701} INFO - Number of trials: 146/1000000, 2 RUNNING, 144 TERMINATED\n",
            "[flaml.tune.tune: 04-19 01:10:46] {721} INFO - Brief result: {'pred_time': 3.4492948780889097e-06, 'wall_clock_time': 27.43669104576111, 'metric_for_logging': {'pred_time': 3.4492948780889097e-06}, 'val_loss': 0.050854152266219144, 'trained_estimator': <flaml.automl.model.LGBMEstimator object at 0x7fec4bb221f0>}\n",
            "[flaml.tune.tune: 04-19 01:10:46] {721} INFO - Brief result: {'pred_time': 2.1374743917713996e-05, 'wall_clock_time': 27.60170078277588, 'metric_for_logging': {'pred_time': 2.1374743917713996e-05}, 'val_loss': 0.05603831341957144, 'trained_estimator': <flaml.automl.model.LGBMEstimator object at 0x7fec4bb22eb0>}\n",
            "[flaml.tune.tune: 04-19 01:10:46] {701} INFO - Number of trials: 148/1000000, 2 RUNNING, 146 TERMINATED\n",
            "[flaml.tune.tune: 04-19 01:10:47] {721} INFO - Brief result: {'pred_time': 5.791584650675456e-06, 'wall_clock_time': 27.897152423858643, 'metric_for_logging': {'pred_time': 5.791584650675456e-06}, 'val_loss': 0.05564332971264929, 'trained_estimator': <flaml.automl.model.LGBMEstimator object at 0x7fec4bb518b0>}\n",
            "[flaml.tune.tune: 04-19 01:10:47] {721} INFO - Brief result: {'pred_time': 5.852053130882374e-06, 'wall_clock_time': 27.7713520526886, 'metric_for_logging': {'pred_time': 5.852053130882374e-06}, 'val_loss': 0.07144267798953297, 'trained_estimator': <flaml.automl.model.LGBMEstimator object at 0x7fec4bb3bd90>}\n",
            "[flaml.tune.tune: 04-19 01:10:47] {701} INFO - Number of trials: 150/1000000, 2 RUNNING, 148 TERMINATED\n",
            "[flaml.tune.tune: 04-19 01:10:47] {721} INFO - Brief result: {'pred_time': 2.819126930789671e-06, 'wall_clock_time': 27.985836029052734, 'metric_for_logging': {'pred_time': 2.819126930789671e-06}, 'val_loss': 0.07247951022020338, 'trained_estimator': <flaml.automl.model.LGBMEstimator object at 0x7fec4bb3b550>}\n",
            "[flaml.tune.tune: 04-19 01:10:47] {721} INFO - Brief result: {'pred_time': 5.9984732365262685e-06, 'wall_clock_time': 28.041109085083008, 'metric_for_logging': {'pred_time': 5.9984732365262685e-06}, 'val_loss': 0.12392613804680552, 'trained_estimator': <flaml.automl.model.LGBMEstimator object at 0x7fec4bb3b850>}\n",
            "[flaml.tune.tune: 04-19 01:10:47] {701} INFO - Number of trials: 152/1000000, 2 RUNNING, 150 TERMINATED\n",
            "[flaml.tune.tune: 04-19 01:10:47] {721} INFO - Brief result: {'pred_time': 3.1093756357828775e-06, 'wall_clock_time': 28.283621549606323, 'metric_for_logging': {'pred_time': 3.1093756357828775e-06}, 'val_loss': 0.05579144860274521, 'trained_estimator': <flaml.automl.model.LGBMEstimator object at 0x7fec356dd0a0>}\n",
            "[flaml.tune.tune: 04-19 01:10:47] {721} INFO - Brief result: {'pred_time': 6.266262220299763e-06, 'wall_clock_time': 28.21390414237976, 'metric_for_logging': {'pred_time': 6.266262220299763e-06}, 'val_loss': 0.13656561666831246, 'trained_estimator': <flaml.automl.model.LGBMEstimator object at 0x7fec356ddc70>}\n",
            "[flaml.tune.tune: 04-19 01:10:47] {701} INFO - Number of trials: 154/1000000, 2 RUNNING, 152 TERMINATED\n",
            "[flaml.tune.tune: 04-19 01:10:47] {721} INFO - Brief result: {'pred_time': 3.817720689635346e-06, 'wall_clock_time': 28.367319583892822, 'metric_for_logging': {'pred_time': 3.817720689635346e-06}, 'val_loss': 0.07006023501530567, 'trained_estimator': <flaml.automl.model.LGBMEstimator object at 0x7fec35400640>}\n",
            "[flaml.tune.tune: 04-19 01:10:47] {721} INFO - Brief result: {'pred_time': 2.1372152411419414e-05, 'wall_clock_time': 28.473020315170288, 'metric_for_logging': {'pred_time': 2.1372152411419414e-05}, 'val_loss': 0.11652019354201637, 'trained_estimator': <flaml.automl.model.LGBMEstimator object at 0x7fec35400b50>}\n",
            "[flaml.tune.tune: 04-19 01:10:47] {701} INFO - Number of trials: 156/1000000, 2 RUNNING, 154 TERMINATED\n",
            "[flaml.tune.tune: 04-19 01:10:47] {721} INFO - Brief result: {'pred_time': 9.535879328630973e-06, 'wall_clock_time': 28.671865940093994, 'metric_for_logging': {'pred_time': 9.535879328630973e-06}, 'val_loss': 0.05238471413054213, 'trained_estimator': <flaml.automl.model.LGBMEstimator object at 0x7fec4bb8dc40>}\n",
            "[flaml.tune.tune: 04-19 01:10:47] {721} INFO - Brief result: {'pred_time': 2.6986218880915986e-06, 'wall_clock_time': 28.558914184570312, 'metric_for_logging': {'pred_time': 2.6986218880915986e-06}, 'val_loss': 0.06976399723511406, 'trained_estimator': <flaml.automl.model.LGBMEstimator object at 0x7fec4bb8d820>}\n",
            "[flaml.tune.tune: 04-19 01:10:47] {701} INFO - Number of trials: 158/1000000, 2 RUNNING, 156 TERMINATED\n",
            "[flaml.tune.tune: 04-19 01:10:47] {721} INFO - Brief result: {'pred_time': 2.5504741115846494e-06, 'wall_clock_time': 28.771398544311523, 'metric_for_logging': {'pred_time': 2.5504741115846494e-06}, 'val_loss': 0.06176557716994169, 'trained_estimator': <flaml.automl.model.LGBMEstimator object at 0x7fec4bb8dfd0>}\n",
            "[flaml.tune.tune: 04-19 01:10:47] {721} INFO - Brief result: {'pred_time': 6.525412849757982e-06, 'wall_clock_time': 28.801488161087036, 'metric_for_logging': {'pred_time': 6.525412849757982e-06}, 'val_loss': 0.05090352522958441, 'trained_estimator': <flaml.automl.model.LGBMEstimator object at 0x7fec356dd1f0>}\n",
            "[flaml.tune.tune: 04-19 01:10:47] {701} INFO - Number of trials: 160/1000000, 2 RUNNING, 158 TERMINATED\n",
            "[flaml.tune.tune: 04-19 01:10:48] {721} INFO - Brief result: {'pred_time': 2.7310157167738764e-06, 'wall_clock_time': 28.991811275482178, 'metric_for_logging': {'pred_time': 2.7310157167738764e-06}, 'val_loss': 0.09756097560975618, 'trained_estimator': <flaml.automl.model.LGBMEstimator object at 0x7fec353b3730>}\n",
            "[flaml.tune.tune: 04-19 01:10:48] {721} INFO - Brief result: {'pred_time': 6.087016368257826e-06, 'wall_clock_time': 28.992658138275146, 'metric_for_logging': {'pred_time': 6.087016368257826e-06}, 'val_loss': 0.0654191764589711, 'trained_estimator': <flaml.automl.model.LGBMEstimator object at 0x7fec4b938bb0>}\n",
            "[flaml.tune.tune: 04-19 01:10:48] {701} INFO - Number of trials: 162/1000000, 2 RUNNING, 160 TERMINATED\n",
            "[flaml.tune.tune: 04-19 01:10:48] {721} INFO - Brief result: {'pred_time': 2.654998198799465e-06, 'wall_clock_time': 29.154409408569336, 'metric_for_logging': {'pred_time': 2.654998198799465e-06}, 'val_loss': 0.06941838649155718, 'trained_estimator': <flaml.automl.model.LGBMEstimator object at 0x7fec353b37f0>}\n",
            "[flaml.tune.tune: 04-19 01:10:48] {721} INFO - Brief result: {'pred_time': 9.444312772889068e-06, 'wall_clock_time': 29.20253562927246, 'metric_for_logging': {'pred_time': 9.444312772889068e-06}, 'val_loss': 0.12032191172114148, 'trained_estimator': <flaml.automl.model.LGBMEstimator object at 0x7fec4b938c40>}\n",
            "[flaml.tune.tune: 04-19 01:10:48] {701} INFO - Number of trials: 164/1000000, 2 RUNNING, 162 TERMINATED\n",
            "[flaml.tune.tune: 04-19 01:10:48] {721} INFO - Brief result: {'pred_time': 2.8545441834822944e-06, 'wall_clock_time': 29.423895120620728, 'metric_for_logging': {'pred_time': 2.8545441834822944e-06}, 'val_loss': 0.10091833711859377, 'trained_estimator': <flaml.automl.model.LGBMEstimator object at 0x7fec4b968d90>}\n",
            "[flaml.tune.tune: 04-19 01:10:48] {721} INFO - Brief result: {'pred_time': 6.95819440095321e-06, 'wall_clock_time': 29.467605590820312, 'metric_for_logging': {'pred_time': 6.95819440095321e-06}, 'val_loss': 0.05297718969092535, 'trained_estimator': <flaml.automl.model.LGBMEstimator object at 0x7fec4b9683d0>}\n",
            "[flaml.tune.tune: 04-19 01:10:48] {701} INFO - Number of trials: 166/1000000, 2 RUNNING, 164 TERMINATED\n",
            "[flaml.tune.tune: 04-19 01:10:48] {721} INFO - Brief result: {'pred_time': 6.079673767089844e-06, 'wall_clock_time': 29.63276433944702, 'metric_for_logging': {'pred_time': 6.079673767089844e-06}, 'val_loss': 0.054112767848326304, 'trained_estimator': <flaml.automl.model.LGBMEstimator object at 0x7fec353b3c70>}\n",
            "[flaml.tune.tune: 04-19 01:10:48] {721} INFO - Brief result: {'pred_time': 6.118978279224341e-06, 'wall_clock_time': 29.592938661575317, 'metric_for_logging': {'pred_time': 6.118978279224341e-06}, 'val_loss': 0.058556334551199685, 'trained_estimator': <flaml.automl.model.LGBMEstimator object at 0x7fec4b938a90>}\n",
            "[flaml.tune.tune: 04-19 01:10:48] {701} INFO - Number of trials: 168/1000000, 2 RUNNING, 166 TERMINATED\n",
            "[flaml.tune.tune: 04-19 01:10:49] {721} INFO - Brief result: {'pred_time': 2.6830728503241055e-06, 'wall_clock_time': 29.754254817962646, 'metric_for_logging': {'pred_time': 2.6830728503241055e-06}, 'val_loss': 0.05297718969092535, 'trained_estimator': <flaml.automl.model.LGBMEstimator object at 0x7fec34f2e550>}\n",
            "[flaml.tune.tune: 04-19 01:10:49] {721} INFO - Brief result: {'pred_time': 2.916740334552267e-06, 'wall_clock_time': 29.84345054626465, 'metric_for_logging': {'pred_time': 2.916740334552267e-06}, 'val_loss': 0.08151476251604617, 'trained_estimator': <flaml.automl.model.LGBMEstimator object at 0x7fec34f2e340>}\n",
            "[flaml.tune.tune: 04-19 01:10:49] {701} INFO - Number of trials: 170/1000000, 2 RUNNING, 168 TERMINATED\n",
            "[flaml.tune.tune: 04-19 01:10:49] {721} INFO - Brief result: {'pred_time': 5.913817364236583e-06, 'wall_clock_time': 29.988696813583374, 'metric_for_logging': {'pred_time': 5.913817364236583e-06}, 'val_loss': 0.06230867976695964, 'trained_estimator': <flaml.automl.model.LGBMEstimator object at 0x7fec4bb9e490>}\n",
            "[flaml.tune.tune: 04-19 01:10:49] {721} INFO - Brief result: {'pred_time': 6.103429241456848e-06, 'wall_clock_time': 30.003417015075684, 'metric_for_logging': {'pred_time': 6.103429241456848e-06}, 'val_loss': 0.0464599585267107, 'trained_estimator': <flaml.automl.model.LGBMEstimator object at 0x7fec4bb82070>}\n",
            "[flaml.tune.tune: 04-19 01:10:49] {701} INFO - Number of trials: 172/1000000, 2 RUNNING, 170 TERMINATED\n",
            "[flaml.tune.tune: 04-19 01:10:49] {721} INFO - Brief result: {'pred_time': 2.9914620993793877e-06, 'wall_clock_time': 30.08467698097229, 'metric_for_logging': {'pred_time': 2.9914620993793877e-06}, 'val_loss': 0.05549521082255349, 'trained_estimator': <flaml.automl.model.LGBMEstimator object at 0x7fec4bb9e280>}\n",
            "[flaml.tune.tune: 04-19 01:10:49] {721} INFO - Brief result: {'pred_time': 2.528014390364937e-06, 'wall_clock_time': 30.258479833602905, 'metric_for_logging': {'pred_time': 2.528014390364937e-06}, 'val_loss': 0.07692307692307698, 'trained_estimator': <flaml.automl.model.LGBMEstimator object at 0x7fec4bb9ed60>}\n",
            "[flaml.tune.tune: 04-19 01:10:49] {701} INFO - Number of trials: 174/1000000, 2 RUNNING, 172 TERMINATED\n",
            "[flaml.tune.tune: 04-19 01:10:49] {721} INFO - Brief result: {'pred_time': 2.8256056965261265e-06, 'wall_clock_time': 30.337883234024048, 'metric_for_logging': {'pred_time': 2.8256056965261265e-06}, 'val_loss': 0.057322010467068196, 'trained_estimator': <flaml.automl.model.LGBMEstimator object at 0x7fec3538fc10>}\n",
            "[flaml.tune.tune: 04-19 01:10:49] {721} INFO - Brief result: {'pred_time': 7.503706475962764e-06, 'wall_clock_time': 30.442070960998535, 'metric_for_logging': {'pred_time': 7.503706475962764e-06}, 'val_loss': 0.1305421151377505, 'trained_estimator': <flaml.automl.model.LGBMEstimator object at 0x7fec4bb3a310>}\n",
            "[flaml.tune.tune: 04-19 01:10:49] {701} INFO - Number of trials: 176/1000000, 2 RUNNING, 174 TERMINATED\n",
            "[flaml.tune.tune: 04-19 01:10:49] {721} INFO - Brief result: {'pred_time': 2.7495881785517153e-06, 'wall_clock_time': 30.57797908782959, 'metric_for_logging': {'pred_time': 2.7495881785517153e-06}, 'val_loss': 0.07820677397057363, 'trained_estimator': <flaml.automl.model.LGBMEstimator object at 0x7fec4bb3a550>}\n",
            "[flaml.tune.tune: 04-19 01:10:49] {721} INFO - Brief result: {'pred_time': 2.941791562066562e-06, 'wall_clock_time': 30.61523151397705, 'metric_for_logging': {'pred_time': 2.941791562066562e-06}, 'val_loss': 0.054705243408709414, 'trained_estimator': <flaml.automl.model.LGBMEstimator object at 0x7fec4b938d60>}\n",
            "[flaml.tune.tune: 04-19 01:10:49] {701} INFO - Number of trials: 178/1000000, 2 RUNNING, 176 TERMINATED\n",
            "[flaml.tune.tune: 04-19 01:10:49] {721} INFO - Brief result: {'pred_time': 6.585449412249137e-06, 'wall_clock_time': 30.807382106781006, 'metric_for_logging': {'pred_time': 6.585449412249137e-06}, 'val_loss': 0.1426384911622396, 'trained_estimator': <flaml.automl.model.XGBoostLimitDepthEstimator object at 0x7fec4bbbb8e0>}\n",
            "[flaml.tune.tune: 04-19 01:10:49] {721} INFO - Brief result: {'pred_time': 6.213136341260827e-06, 'wall_clock_time': 30.763610363006592, 'metric_for_logging': {'pred_time': 6.213136341260827e-06}, 'val_loss': 0.08506961587834505, 'trained_estimator': <flaml.automl.model.LGBMEstimator object at 0x7fec4bbe2fd0>}\n",
            "[flaml.tune.tune: 04-19 01:10:49] {701} INFO - Number of trials: 180/1000000, 2 RUNNING, 178 TERMINATED\n",
            "[flaml.tune.tune: 04-19 01:10:50] {721} INFO - Brief result: {'pred_time': 3.3482261326002036e-06, 'wall_clock_time': 30.985364198684692, 'metric_for_logging': {'pred_time': 3.3482261326002036e-06}, 'val_loss': 0.12254369507257823, 'trained_estimator': <flaml.automl.model.LGBMEstimator object at 0x7fec4bbbba90>}\n",
            "[flaml.tune.tune: 04-19 01:10:50] {721} INFO - Brief result: {'pred_time': 2.7305837990581123e-06, 'wall_clock_time': 30.894768238067627, 'metric_for_logging': {'pred_time': 2.7305837990581123e-06}, 'val_loss': 0.08511898884171032, 'trained_estimator': <flaml.automl.model.LGBMEstimator object at 0x7fec4b968ac0>}\n",
            "[flaml.tune.tune: 04-19 01:10:50] {701} INFO - Number of trials: 182/1000000, 2 RUNNING, 180 TERMINATED\n",
            "[flaml.tune.tune: 04-19 01:10:50] {721} INFO - Brief result: {'pred_time': 2.0933755929919258e-05, 'wall_clock_time': 31.190297842025757, 'metric_for_logging': {'pred_time': 2.0933755929919258e-05}, 'val_loss': 0.07751555248346009, 'trained_estimator': <flaml.automl.model.LGBMEstimator object at 0x7fec4bbbb880>}\n",
            "[flaml.tune.tune: 04-19 01:10:50] {721} INFO - Brief result: {'pred_time': 6.078378013942553e-06, 'wall_clock_time': 31.18459129333496, 'metric_for_logging': {'pred_time': 6.078378013942553e-06}, 'val_loss': 0.060629999012540736, 'trained_estimator': <flaml.automl.model.LGBMEstimator object at 0x7fec4bbe2f40>}\n",
            "[flaml.tune.tune: 04-19 01:10:50] {701} INFO - Number of trials: 184/1000000, 2 RUNNING, 182 TERMINATED\n",
            "[flaml.tune.tune: 04-19 01:10:50] {721} INFO - Brief result: {'pred_time': 2.6381534078846807e-06, 'wall_clock_time': 31.447407722473145, 'metric_for_logging': {'pred_time': 2.6381534078846807e-06}, 'val_loss': 0.05845758862446926, 'trained_estimator': <flaml.automl.model.LGBMEstimator object at 0x7fec4b901310>}\n",
            "[flaml.tune.tune: 04-19 01:10:50] {721} INFO - Brief result: {'pred_time': 5.920296129973038e-06, 'wall_clock_time': 31.4540798664093, 'metric_for_logging': {'pred_time': 5.920296129973038e-06}, 'val_loss': 0.08630393996247654, 'trained_estimator': <flaml.automl.model.LGBMEstimator object at 0x7fec3536b3a0>}\n",
            "[flaml.tune.tune: 04-19 01:10:50] {701} INFO - Number of trials: 186/1000000, 2 RUNNING, 184 TERMINATED\n",
            "[flaml.tune.tune: 04-19 01:10:50] {721} INFO - Brief result: {'pred_time': 1.126311827397001e-05, 'wall_clock_time': 31.64486312866211, 'metric_for_logging': {'pred_time': 1.126311827397001e-05}, 'val_loss': 0.06773970573713828, 'trained_estimator': <flaml.automl.model.LGBMEstimator object at 0x7fec35612b80>}\n",
            "[flaml.tune.tune: 04-19 01:10:50] {721} INFO - Brief result: {'pred_time': 2.512465352597444e-06, 'wall_clock_time': 31.520182609558105, 'metric_for_logging': {'pred_time': 2.512465352597444e-06}, 'val_loss': 0.08388466475757883, 'trained_estimator': <flaml.automl.model.LGBMEstimator object at 0x7fec4bb9e370>}\n",
            "[flaml.tune.tune: 04-19 01:10:50] {701} INFO - Number of trials: 188/1000000, 2 RUNNING, 186 TERMINATED\n",
            "[flaml.tune.tune: 04-19 01:10:51] {721} INFO - Brief result: {'pred_time': 4.643979279891305e-06, 'wall_clock_time': 31.83918595314026, 'metric_for_logging': {'pred_time': 4.643979279891305e-06}, 'val_loss': 0.09287054409005646, 'trained_estimator': <flaml.automl.model.LGBMEstimator object at 0x7fec350370a0>}\n",
            "[flaml.tune.tune: 04-19 01:10:51] {721} INFO - Brief result: {'pred_time': 2.8687974681024966e-06, 'wall_clock_time': 31.790475130081177, 'metric_for_logging': {'pred_time': 2.8687974681024966e-06}, 'val_loss': 0.06369112274118693, 'trained_estimator': <flaml.automl.model.LGBMEstimator object at 0x7fec35009a00>}\n",
            "[flaml.tune.tune: 04-19 01:10:51] {701} INFO - Number of trials: 190/1000000, 2 RUNNING, 188 TERMINATED\n",
            "[flaml.tune.tune: 04-19 01:10:51] {721} INFO - Brief result: {'pred_time': 3.0778456425321274e-06, 'wall_clock_time': 32.00390648841858, 'metric_for_logging': {'pred_time': 3.0778456425321274e-06}, 'val_loss': 0.04433692110200449, 'trained_estimator': <flaml.automl.model.LGBMEstimator object at 0x7fec4bb9e0d0>}\n",
            "[flaml.tune.tune: 04-19 01:10:51] {721} INFO - Brief result: {'pred_time': 2.587187117424564e-06, 'wall_clock_time': 31.911731004714966, 'metric_for_logging': {'pred_time': 2.587187117424564e-06}, 'val_loss': 0.06699911128665947, 'trained_estimator': <flaml.automl.model.LGBMEstimator object at 0x7fec4b901e80>}\n",
            "[flaml.tune.tune: 04-19 01:10:51] {701} INFO - Number of trials: 192/1000000, 2 RUNNING, 190 TERMINATED\n",
            "[flaml.tune.tune: 04-19 01:10:51] {721} INFO - Brief result: {'pred_time': 2.6200128638226054e-06, 'wall_clock_time': 32.14400100708008, 'metric_for_logging': {'pred_time': 2.6200128638226054e-06}, 'val_loss': 0.1485632467660709, 'trained_estimator': <flaml.automl.model.LGBMEstimator object at 0x7fec356230a0>}\n",
            "[flaml.tune.tune: 04-19 01:10:51] {721} INFO - Brief result: {'pred_time': 5.799359169559202e-06, 'wall_clock_time': 32.168201208114624, 'metric_for_logging': {'pred_time': 5.799359169559202e-06}, 'val_loss': 0.13073960699121168, 'trained_estimator': <flaml.automl.model.LGBMEstimator object at 0x7fec4c026d00>}\n",
            "[flaml.tune.tune: 04-19 01:10:51] {701} INFO - Number of trials: 194/1000000, 2 RUNNING, 192 TERMINATED\n",
            "[flaml.tune.tune: 04-19 01:10:51] {721} INFO - Brief result: {'pred_time': 5.016724268595378e-06, 'wall_clock_time': 32.50045704841614, 'metric_for_logging': {'pred_time': 5.016724268595378e-06}, 'val_loss': 0.14486027451367622, 'trained_estimator': <flaml.automl.model.LGBMEstimator object at 0x7fec4bb9e820>}\n",
            "[flaml.tune.tune: 04-19 01:10:51] {721} INFO - Brief result: {'pred_time': 6.710705549820609e-06, 'wall_clock_time': 32.2952516078949, 'metric_for_logging': {'pred_time': 6.710705549820609e-06}, 'val_loss': 0.08906882591093124, 'trained_estimator': <flaml.automl.model.LGBMEstimator object at 0x7fec35009340>}\n",
            "[flaml.tune.tune: 04-19 01:10:51] {701} INFO - Number of trials: 196/1000000, 2 RUNNING, 194 TERMINATED\n",
            "[flaml.tune.tune: 04-19 01:10:51] {721} INFO - Brief result: {'pred_time': 5.957009135812953e-06, 'wall_clock_time': 32.696682929992676, 'metric_for_logging': {'pred_time': 5.957009135812953e-06}, 'val_loss': 0.10304137454330009, 'trained_estimator': <flaml.automl.model.LGBMEstimator object at 0x7fec076a75b0>}\n",
            "[flaml.tune.tune: 04-19 01:10:51] {721} INFO - Brief result: {'pred_time': 5.950530370076497e-06, 'wall_clock_time': 32.67389702796936, 'metric_for_logging': {'pred_time': 5.950530370076497e-06}, 'val_loss': 0.10605312530858102, 'trained_estimator': <flaml.automl.model.LGBMEstimator object at 0x7fec4bbe27f0>}\n",
            "[flaml.tune.tune: 04-19 01:10:51] {701} INFO - Number of trials: 198/1000000, 2 RUNNING, 196 TERMINATED\n",
            "[flaml.tune.tune: 04-19 01:10:52] {721} INFO - Brief result: {'pred_time': 2.725832704184712e-06, 'wall_clock_time': 32.79148006439209, 'metric_for_logging': {'pred_time': 2.725832704184712e-06}, 'val_loss': 0.20549027352621707, 'trained_estimator': <flaml.automl.model.LGBMEstimator object at 0x7fec356d2970>}\n",
            "[flaml.tune.tune: 04-19 01:10:52] {721} INFO - Brief result: {'pred_time': 2.6394491610319717e-06, 'wall_clock_time': 32.91495752334595, 'metric_for_logging': {'pred_time': 2.6394491610319717e-06}, 'val_loss': 0.06354300385109113, 'trained_estimator': <flaml.automl.model.LGBMEstimator object at 0x7fec4bc10be0>}\n",
            "[flaml.tune.tune: 04-19 01:10:52] {701} INFO - Number of trials: 200/1000000, 2 RUNNING, 198 TERMINATED\n",
            "[flaml.tune.tune: 04-19 01:10:52] {721} INFO - Brief result: {'pred_time': 5.880127782407015e-06, 'wall_clock_time': 33.023895263671875, 'metric_for_logging': {'pred_time': 5.880127782407015e-06}, 'val_loss': 0.056778907870050466, 'trained_estimator': <flaml.automl.model.LGBMEstimator object at 0x7fec356d2fd0>}\n",
            "[flaml.tune.tune: 04-19 01:10:52] {721} INFO - Brief result: {'pred_time': 2.7564988620039346e-06, 'wall_clock_time': 33.02772092819214, 'metric_for_logging': {'pred_time': 2.7564988620039346e-06}, 'val_loss': 0.08062604917547156, 'trained_estimator': <flaml.automl.model.LGBMEstimator object at 0x7fec356d2e80>}\n",
            "[flaml.tune.tune: 04-19 01:10:52] {701} INFO - Number of trials: 202/1000000, 2 RUNNING, 200 TERMINATED\n",
            "[flaml.tune.tune: 04-19 01:10:52] {721} INFO - Brief result: {'pred_time': 5.923319553983385e-06, 'wall_clock_time': 33.15027189254761, 'metric_for_logging': {'pred_time': 5.923319553983385e-06}, 'val_loss': 0.09568480300187632, 'trained_estimator': <flaml.automl.model.LGBMEstimator object at 0x7fec35392220>}\n",
            "[flaml.tune.tune: 04-19 01:10:52] {721} INFO - Brief result: {'pred_time': 2.9448149860769077e-06, 'wall_clock_time': 33.218233823776245, 'metric_for_logging': {'pred_time': 2.9448149860769077e-06}, 'val_loss': 0.10738619531944316, 'trained_estimator': <flaml.automl.model.LGBMEstimator object at 0x7fec35392820>}\n",
            "[flaml.tune.tune: 04-19 01:10:52] {701} INFO - Number of trials: 204/1000000, 2 RUNNING, 202 TERMINATED\n",
            "[flaml.tune.tune: 04-19 01:10:52] {721} INFO - Brief result: {'pred_time': 2.8398589811463286e-06, 'wall_clock_time': 33.45307111740112, 'metric_for_logging': {'pred_time': 2.8398589811463286e-06}, 'val_loss': 0.07430630986471809, 'trained_estimator': <flaml.automl.model.LGBMEstimator object at 0x7fec4bc0d610>}\n",
            "[flaml.tune.tune: 04-19 01:10:52] {721} INFO - Brief result: {'pred_time': 2.51548877660779e-06, 'wall_clock_time': 33.30553865432739, 'metric_for_logging': {'pred_time': 2.51548877660779e-06}, 'val_loss': 0.12116125209835105, 'trained_estimator': <flaml.automl.model.LGBMEstimator object at 0x7fec4b98f580>}\n",
            "[flaml.tune.tune: 04-19 01:10:52] {701} INFO - Number of trials: 206/1000000, 2 RUNNING, 204 TERMINATED\n",
            "[flaml.tune.tune: 04-19 01:10:52] {721} INFO - Brief result: {'pred_time': 5.69526700006015e-06, 'wall_clock_time': 33.58352589607239, 'metric_for_logging': {'pred_time': 5.69526700006015e-06}, 'val_loss': 0.08635331292584192, 'trained_estimator': <flaml.automl.model.LGBMEstimator object at 0x7fec353f6c40>}\n",
            "[flaml.tune.tune: 04-19 01:10:52] {721} INFO - Brief result: {'pred_time': 2.4900056313777315e-06, 'wall_clock_time': 33.53607630729675, 'metric_for_logging': {'pred_time': 2.4900056313777315e-06}, 'val_loss': 0.08279845956354304, 'trained_estimator': <flaml.automl.model.LGBMEstimator object at 0x7fec353f6dc0>}\n",
            "[flaml.tune.tune: 04-19 01:10:52] {701} INFO - Number of trials: 208/1000000, 2 RUNNING, 206 TERMINATED\n",
            "[flaml.tune.tune: 04-19 01:10:52] {721} INFO - Brief result: {'pred_time': 5.34152639084968e-06, 'wall_clock_time': 33.76783299446106, 'metric_for_logging': {'pred_time': 5.34152639084968e-06}, 'val_loss': 0.049274217438530554, 'trained_estimator': <flaml.automl.model.LGBMEstimator object at 0x7fec353f6f70>}\n",
            "[flaml.tune.tune: 04-19 01:10:53] {721} INFO - Brief result: {'pred_time': 9.49700673421224e-06, 'wall_clock_time': 33.82385492324829, 'metric_for_logging': {'pred_time': 9.49700673421224e-06}, 'val_loss': 0.08674829663276395, 'trained_estimator': <flaml.automl.model.LGBMEstimator object at 0x7fec353e3bb0>}\n",
            "[flaml.tune.tune: 04-19 01:10:53] {701} INFO - Number of trials: 210/1000000, 2 RUNNING, 208 TERMINATED\n",
            "[flaml.tune.tune: 04-19 01:10:53] {721} INFO - Brief result: {'pred_time': 5.49096992050392e-06, 'wall_clock_time': 34.218355894088745, 'metric_for_logging': {'pred_time': 5.49096992050392e-06}, 'val_loss': 0.17152167473091728, 'trained_estimator': <flaml.automl.model.LGBMEstimator object at 0x7fec352fb1c0>}\n",
            "[flaml.tune.tune: 04-19 01:10:53] {721} INFO - Brief result: {'pred_time': 3.0247197634931924e-06, 'wall_clock_time': 33.99519920349121, 'metric_for_logging': {'pred_time': 3.0247197634931924e-06}, 'val_loss': 0.12313617063296123, 'trained_estimator': <flaml.automl.model.LGBMEstimator object at 0x7fec352fbeb0>}\n",
            "[flaml.tune.tune: 04-19 01:10:53] {701} INFO - Number of trials: 212/1000000, 2 RUNNING, 210 TERMINATED\n",
            "[flaml.tune.tune: 04-19 01:10:53] {721} INFO - Brief result: {'pred_time': 5.79676766326462e-06, 'wall_clock_time': 34.37370991706848, 'metric_for_logging': {'pred_time': 5.79676766326462e-06}, 'val_loss': 0.1578947368421052, 'trained_estimator': <flaml.automl.model.LGBMEstimator object at 0x7fec352fb910>}\n",
            "[flaml.tune.tune: 04-19 01:10:53] {721} INFO - Brief result: {'pred_time': 2.651974774789119e-06, 'wall_clock_time': 34.314613342285156, 'metric_for_logging': {'pred_time': 2.651974774789119e-06}, 'val_loss': 0.05455712451861361, 'trained_estimator': <flaml.automl.model.LGBMEstimator object at 0x7fec352fb940>}\n",
            "[flaml.tune.tune: 04-19 01:10:53] {701} INFO - Number of trials: 214/1000000, 2 RUNNING, 212 TERMINATED\n",
            "[flaml.tune.tune: 04-19 01:10:53] {721} INFO - Brief result: {'pred_time': 9.071567784184994e-06, 'wall_clock_time': 34.56174850463867, 'metric_for_logging': {'pred_time': 9.071567784184994e-06}, 'val_loss': 0.10402883381060535, 'trained_estimator': <flaml.automl.model.LGBMEstimator object at 0x7fec3494cf70>}\n",
            "[flaml.tune.tune: 04-19 01:10:53] {721} INFO - Brief result: {'pred_time': 5.7172948035640996e-06, 'wall_clock_time': 34.53734111785889, 'metric_for_logging': {'pred_time': 5.7172948035640996e-06}, 'val_loss': 0.07238076429347284, 'trained_estimator': <flaml.automl.model.LGBMEstimator object at 0x7fec3494c7f0>}\n",
            "[flaml.tune.tune: 04-19 01:10:53] {701} INFO - Number of trials: 216/1000000, 2 RUNNING, 214 TERMINATED\n",
            "[flaml.tune.tune: 04-19 01:10:54] {721} INFO - Brief result: {'pred_time': 9.425308393395465e-06, 'wall_clock_time': 34.88150906562805, 'metric_for_logging': {'pred_time': 9.425308393395465e-06}, 'val_loss': 0.1479707712056878, 'trained_estimator': <flaml.automl.model.LGBMEstimator object at 0x7fec353f6220>}\n",
            "[flaml.tune.tune: 04-19 01:10:54] {721} INFO - Brief result: {'pred_time': 2.7465647545413696e-06, 'wall_clock_time': 34.8332679271698, 'metric_for_logging': {'pred_time': 2.7465647545413696e-06}, 'val_loss': 0.049619828182087544, 'trained_estimator': <flaml.automl.model.LGBMEstimator object at 0x7fec34965310>}\n",
            "[flaml.tune.tune: 04-19 01:10:54] {701} INFO - Number of trials: 218/1000000, 2 RUNNING, 216 TERMINATED\n",
            "[flaml.tune.tune: 04-19 01:10:54] {721} INFO - Brief result: {'pred_time': 2.4900056313777315e-06, 'wall_clock_time': 34.96613597869873, 'metric_for_logging': {'pred_time': 2.4900056313777315e-06}, 'val_loss': 0.07904611434778319, 'trained_estimator': <flaml.automl.model.LGBMEstimator object at 0x7fec34972eb0>}\n",
            "[flaml.tune.tune: 04-19 01:10:54] {721} INFO - Brief result: {'pred_time': 2.7323114699211675e-06, 'wall_clock_time': 35.01647138595581, 'metric_for_logging': {'pred_time': 2.7323114699211675e-06}, 'val_loss': 0.060333761232349126, 'trained_estimator': <flaml.automl.model.LGBMEstimator object at 0x7fec34972bb0>}\n",
            "[flaml.tune.tune: 04-19 01:10:54] {701} INFO - Number of trials: 220/1000000, 2 RUNNING, 218 TERMINATED\n",
            "[flaml.tune.tune: 04-19 01:10:54] {721} INFO - Brief result: {'pred_time': 5.6451645450315615e-06, 'wall_clock_time': 35.20986366271973, 'metric_for_logging': {'pred_time': 5.6451645450315615e-06}, 'val_loss': 0.21413054211513782, 'trained_estimator': <flaml.automl.model.LGBMEstimator object at 0x7fec34965df0>}\n",
            "[flaml.tune.tune: 04-19 01:10:54] {721} INFO - Brief result: {'pred_time': 2.86102294921875e-06, 'wall_clock_time': 35.111485958099365, 'metric_for_logging': {'pred_time': 2.86102294921875e-06}, 'val_loss': 0.07410881801125702, 'trained_estimator': <flaml.automl.model.LGBMEstimator object at 0x7fec34881340>}\n",
            "[flaml.tune.tune: 04-19 01:10:54] {701} INFO - Number of trials: 222/1000000, 2 RUNNING, 220 TERMINATED\n",
            "[flaml.tune.tune: 04-19 01:10:54] {721} INFO - Brief result: {'pred_time': 2.972025802170021e-06, 'wall_clock_time': 35.368159770965576, 'metric_for_logging': {'pred_time': 2.972025802170021e-06}, 'val_loss': 0.07652809321615495, 'trained_estimator': <flaml.automl.model.LGBMEstimator object at 0x7fec34881d60>}\n",
            "[flaml.tune.tune: 04-19 01:10:54] {721} INFO - Brief result: {'pred_time': 2.5068504222925157e-06, 'wall_clock_time': 35.347482442855835, 'metric_for_logging': {'pred_time': 2.5068504222925157e-06}, 'val_loss': 0.08329218919719572, 'trained_estimator': <flaml.automl.model.LGBMEstimator object at 0x7fec34881820>}\n",
            "[flaml.tune.tune: 04-19 01:10:54] {701} INFO - Number of trials: 224/1000000, 2 RUNNING, 222 TERMINATED\n",
            "[flaml.tune.tune: 04-19 01:10:54] {721} INFO - Brief result: {'pred_time': 2.96727470729662e-06, 'wall_clock_time': 35.545833587646484, 'metric_for_logging': {'pred_time': 2.96727470729662e-06}, 'val_loss': 0.10837365458674819, 'trained_estimator': <flaml.automl.model.LGBMEstimator object at 0x7fec3489aca0>}\n",
            "[flaml.tune.tune: 04-19 01:10:54] {721} INFO - Brief result: {'pred_time': 8.548515430395154e-06, 'wall_clock_time': 35.56863260269165, 'metric_for_logging': {'pred_time': 8.548515430395154e-06}, 'val_loss': 0.09420361410091838, 'trained_estimator': <flaml.automl.model.LGBMEstimator object at 0x7fec3489abe0>}\n",
            "[flaml.tune.tune: 04-19 01:10:54] {701} INFO - Number of trials: 226/1000000, 2 RUNNING, 224 TERMINATED\n",
            "[flaml.tune.tune: 04-19 01:10:54] {721} INFO - Brief result: {'pred_time': 3.00226004227348e-06, 'wall_clock_time': 35.75267171859741, 'metric_for_logging': {'pred_time': 3.00226004227348e-06}, 'val_loss': 0.11108916757183762, 'trained_estimator': <flaml.automl.model.LGBMEstimator object at 0x7fec3489a700>}\n",
            "[flaml.tune.tune: 04-19 01:10:54] {721} INFO - Brief result: {'pred_time': 2.627787382706352e-06, 'wall_clock_time': 35.69258713722229, 'metric_for_logging': {'pred_time': 2.627787382706352e-06}, 'val_loss': 0.41122741186926015, 'trained_estimator': <flaml.automl.model.LGBMEstimator object at 0x7fec3489af70>}\n",
            "[flaml.tune.tune: 04-19 01:10:54] {701} INFO - Number of trials: 228/1000000, 2 RUNNING, 226 TERMINATED\n",
            "[flaml.tune.tune: 04-19 01:10:55] {721} INFO - Brief result: {'pred_time': 9.312145951865375e-06, 'wall_clock_time': 35.95788073539734, 'metric_for_logging': {'pred_time': 9.312145951865375e-06}, 'val_loss': 0.10491754715118007, 'trained_estimator': <flaml.automl.model.LGBMEstimator object at 0x7fec348a4520>}\n",
            "[flaml.tune.tune: 04-19 01:10:55] {721} INFO - Brief result: {'pred_time': 9.375205938366877e-06, 'wall_clock_time': 35.95219969749451, 'metric_for_logging': {'pred_time': 9.375205938366877e-06}, 'val_loss': 0.06378986866791747, 'trained_estimator': <flaml.automl.model.LGBMEstimator object at 0x7fec348a4130>}\n",
            "[flaml.tune.tune: 04-19 01:10:55] {701} INFO - Number of trials: 230/1000000, 2 RUNNING, 228 TERMINATED\n",
            "[flaml.tune.tune: 04-19 01:10:55] {721} INFO - Brief result: {'pred_time': 3.4726184347401494e-06, 'wall_clock_time': 36.27410364151001, 'metric_for_logging': {'pred_time': 3.4726184347401494e-06}, 'val_loss': 0.10728744939271262, 'trained_estimator': <flaml.automl.model.LGBMEstimator object at 0x7fec34972d30>}\n",
            "[flaml.tune.tune: 04-19 01:10:55] {721} INFO - Brief result: {'pred_time': 3.255795741426772e-06, 'wall_clock_time': 36.23434376716614, 'metric_for_logging': {'pred_time': 3.255795741426772e-06}, 'val_loss': 0.05342154636121266, 'trained_estimator': <flaml.automl.model.LGBMEstimator object at 0x7fec34881430>}\n",
            "[flaml.tune.tune: 04-19 01:10:55] {701} INFO - Number of trials: 232/1000000, 2 RUNNING, 230 TERMINATED\n",
            "[flaml.tune.tune: 04-19 01:10:55] {721} INFO - Brief result: {'pred_time': 2.893848695616791e-06, 'wall_clock_time': 36.45158767700195, 'metric_for_logging': {'pred_time': 2.893848695616791e-06}, 'val_loss': 0.059741285671966016, 'trained_estimator': <flaml.automl.model.LGBMEstimator object at 0x7fec352d30d0>}\n",
            "[flaml.tune.tune: 04-19 01:10:55] {721} INFO - Brief result: {'pred_time': 3.4752099410347315e-06, 'wall_clock_time': 36.45778226852417, 'metric_for_logging': {'pred_time': 3.4752099410347315e-06}, 'val_loss': 0.06744346795694689, 'trained_estimator': <flaml.automl.model.LGBMEstimator object at 0x7fec352bcd90>}\n",
            "[flaml.tune.tune: 04-19 01:10:55] {701} INFO - Number of trials: 234/1000000, 2 RUNNING, 232 TERMINATED\n",
            "[flaml.tune.tune: 04-19 01:10:55] {721} INFO - Brief result: {'pred_time': 9.550132613251174e-06, 'wall_clock_time': 36.67495918273926, 'metric_for_logging': {'pred_time': 9.550132613251174e-06}, 'val_loss': 0.1305421151377505, 'trained_estimator': <flaml.automl.model.LGBMEstimator object at 0x7fec352bcaf0>}\n",
            "[flaml.tune.tune: 04-19 01:10:55] {721} INFO - Brief result: {'pred_time': 2.708555995554164e-06, 'wall_clock_time': 36.53857660293579, 'metric_for_logging': {'pred_time': 2.708555995554164e-06}, 'val_loss': 0.06482670089858789, 'trained_estimator': <flaml.automl.model.LGBMEstimator object at 0x7fec352d3bb0>}\n",
            "[flaml.tune.tune: 04-19 01:10:55] {701} INFO - Number of trials: 236/1000000, 2 RUNNING, 234 TERMINATED\n",
            "[flaml.tune.tune: 04-19 01:10:56] {721} INFO - Brief result: {'pred_time': 7.125346556953762e-06, 'wall_clock_time': 36.97246479988098, 'metric_for_logging': {'pred_time': 7.125346556953762e-06}, 'val_loss': 0.30147131430828467, 'trained_estimator': <flaml.automl.model.LGBMEstimator object at 0x7fec352ec820>}\n",
            "[flaml.tune.tune: 04-19 01:10:56] {721} INFO - Brief result: {'pred_time': 5.7661015054453975e-06, 'wall_clock_time': 36.861183166503906, 'metric_for_logging': {'pred_time': 5.7661015054453975e-06}, 'val_loss': 0.05416214081169157, 'trained_estimator': <flaml.automl.model.LGBMEstimator object at 0x7fec352ecc10>}\n",
            "[flaml.tune.tune: 04-19 01:10:56] {701} INFO - Number of trials: 238/1000000, 2 RUNNING, 236 TERMINATED\n",
            "[flaml.tune.tune: 04-19 01:10:56] {721} INFO - Brief result: {'pred_time': 3.4203563911327417e-06, 'wall_clock_time': 37.19525623321533, 'metric_for_logging': {'pred_time': 3.4203563911327417e-06}, 'val_loss': 0.05564332971264929, 'trained_estimator': <flaml.automl.model.LGBMEstimator object at 0x7fec352ec100>}\n",
            "[flaml.tune.tune: 04-19 01:10:56] {721} INFO - Brief result: {'pred_time': 2.5478826052900674e-06, 'wall_clock_time': 37.06268095970154, 'metric_for_logging': {'pred_time': 2.5478826052900674e-06}, 'val_loss': 0.09884467265725294, 'trained_estimator': <flaml.automl.model.LGBMEstimator object at 0x7fec352ec5b0>}\n",
            "[flaml.tune.tune: 04-19 01:10:56] {701} INFO - Number of trials: 240/1000000, 2 RUNNING, 238 TERMINATED\n",
            "[flaml.tune.tune: 04-19 01:10:56] {721} INFO - Brief result: {'pred_time': 7.863062015478162e-06, 'wall_clock_time': 37.32249116897583, 'metric_for_logging': {'pred_time': 7.863062015478162e-06}, 'val_loss': 0.055544583785918866, 'trained_estimator': <flaml.automl.model.LGBMEstimator object at 0x7fec352efe20>}\n",
            "[flaml.tune.tune: 04-19 01:10:56] {721} INFO - Brief result: {'pred_time': 2.569910408794016e-06, 'wall_clock_time': 37.285977840423584, 'metric_for_logging': {'pred_time': 2.569910408794016e-06}, 'val_loss': 0.09212994963957744, 'trained_estimator': <flaml.automl.model.LGBMEstimator object at 0x7fec352eff40>}\n",
            "[flaml.tune.tune: 04-19 01:10:56] {701} INFO - Number of trials: 242/1000000, 2 RUNNING, 240 TERMINATED\n",
            "[flaml.tune.tune: 04-19 01:10:56] {721} INFO - Brief result: {'pred_time': 7.406093072200167e-06, 'wall_clock_time': 37.459550619125366, 'metric_for_logging': {'pred_time': 7.406093072200167e-06}, 'val_loss': 0.11138540535202912, 'trained_estimator': <flaml.automl.model.LGBMEstimator object at 0x7fec352d3d60>}\n",
            "[flaml.tune.tune: 04-19 01:10:56] {721} INFO - Brief result: {'pred_time': 2.6973261349443076e-06, 'wall_clock_time': 37.50492024421692, 'metric_for_logging': {'pred_time': 2.6973261349443076e-06}, 'val_loss': 0.2591093117408907, 'trained_estimator': <flaml.automl.model.LGBMEstimator object at 0x7fec352eca90>}\n",
            "[flaml.tune.tune: 04-19 01:10:56] {701} INFO - Number of trials: 244/1000000, 2 RUNNING, 242 TERMINATED\n",
            "[flaml.tune.tune: 04-19 01:10:56] {721} INFO - Brief result: {'pred_time': 2.6683876479881397e-06, 'wall_clock_time': 37.67455983161926, 'metric_for_logging': {'pred_time': 2.6683876479881397e-06}, 'val_loss': 0.06729534906685097, 'trained_estimator': <flaml.automl.model.LGBMEstimator object at 0x7fec35286850>}\n",
            "[flaml.tune.tune: 04-19 01:10:56] {721} INFO - Brief result: {'pred_time': 8.607256239739018e-06, 'wall_clock_time': 37.70312213897705, 'metric_for_logging': {'pred_time': 8.607256239739018e-06}, 'val_loss': 0.1175570257726869, 'trained_estimator': <flaml.automl.model.LGBMEstimator object at 0x7fec352860d0>}\n",
            "[flaml.tune.tune: 04-19 01:10:56] {701} INFO - Number of trials: 246/1000000, 2 RUNNING, 244 TERMINATED\n",
            "[flaml.tune.tune: 04-19 01:10:57] {721} INFO - Brief result: {'pred_time': 3.0657519464907437e-06, 'wall_clock_time': 37.822755575180054, 'metric_for_logging': {'pred_time': 3.0657519464907437e-06}, 'val_loss': 0.4621309370988447, 'trained_estimator': <flaml.automl.model.LGBMEstimator object at 0x7fec352aacd0>}\n",
            "[flaml.tune.tune: 04-19 01:10:57] {721} INFO - Brief result: {'pred_time': 5.6136345517808115e-06, 'wall_clock_time': 37.83004283905029, 'metric_for_logging': {'pred_time': 5.6136345517808115e-06}, 'val_loss': 0.13577564925446817, 'trained_estimator': <flaml.automl.model.LGBMEstimator object at 0x7fec3529bc70>}\n",
            "[flaml.tune.tune: 04-19 01:10:57] {701} INFO - Number of trials: 248/1000000, 2 RUNNING, 246 TERMINATED\n",
            "[flaml.tune.tune: 04-19 01:10:57] {721} INFO - Brief result: {'pred_time': 5.581154339555381e-05, 'wall_clock_time': 38.076497077941895, 'metric_for_logging': {'pred_time': 5.581154339555381e-05}, 'val_loss': 0.06453046311839628, 'trained_estimator': <flaml.automl.model.LGBMEstimator object at 0x7fec352aabe0>}\n",
            "[flaml.tune.tune: 04-19 01:10:57] {721} INFO - Brief result: {'pred_time': 5.926774895709494e-06, 'wall_clock_time': 38.15274381637573, 'metric_for_logging': {'pred_time': 5.926774895709494e-06}, 'val_loss': 0.09059938777525434, 'trained_estimator': <flaml.automl.model.LGBMEstimator object at 0x7fec352aa700>}\n",
            "[flaml.tune.tune: 04-19 01:10:57] {701} INFO - Number of trials: 250/1000000, 2 RUNNING, 248 TERMINATED\n",
            "[flaml.tune.tune: 04-19 01:10:57] {721} INFO - Brief result: {'pred_time': 2.4960524793984233e-06, 'wall_clock_time': 38.23988962173462, 'metric_for_logging': {'pred_time': 2.4960524793984233e-06}, 'val_loss': 0.11429841019057951, 'trained_estimator': <flaml.automl.model.LGBMEstimator object at 0x7fec35242ca0>}\n",
            "[flaml.tune.tune: 04-19 01:10:57] {721} INFO - Brief result: {'pred_time': 6.7906103272368945e-06, 'wall_clock_time': 38.34436869621277, 'metric_for_logging': {'pred_time': 6.7906103272368945e-06}, 'val_loss': 0.1371087192653303, 'trained_estimator': <flaml.automl.model.LGBMEstimator object at 0x7fec352429d0>}\n",
            "[flaml.tune.tune: 04-19 01:10:57] {701} INFO - Number of trials: 252/1000000, 2 RUNNING, 250 TERMINATED\n",
            "[flaml.tune.tune: 04-19 01:10:57] {721} INFO - Brief result: {'pred_time': 5.649051804473435e-06, 'wall_clock_time': 38.4815137386322, 'metric_for_logging': {'pred_time': 5.649051804473435e-06}, 'val_loss': 0.061913696060037604, 'trained_estimator': <flaml.automl.model.LGBMEstimator object at 0x7fec35248e20>}\n",
            "[flaml.tune.tune: 04-19 01:10:57] {721} INFO - Brief result: {'pred_time': 2.6454960090526636e-06, 'wall_clock_time': 38.45310354232788, 'metric_for_logging': {'pred_time': 2.6454960090526636e-06}, 'val_loss': 0.08052730324874102, 'trained_estimator': <flaml.automl.model.LGBMEstimator object at 0x7fec352483d0>}\n",
            "[flaml.tune.tune: 04-19 01:10:57] {701} INFO - Number of trials: 254/1000000, 2 RUNNING, 252 TERMINATED\n",
            "[flaml.tune.tune: 04-19 01:10:57] {721} INFO - Brief result: {'pred_time': 2.513761105744735e-06, 'wall_clock_time': 38.581411361694336, 'metric_for_logging': {'pred_time': 2.513761105744735e-06}, 'val_loss': 0.06843092722425193, 'trained_estimator': <flaml.automl.model.LGBMEstimator object at 0x7fec352aaa30>}\n",
            "[flaml.tune.tune: 04-19 01:10:57] {721} INFO - Brief result: {'pred_time': 8.998141772505166e-06, 'wall_clock_time': 38.6700804233551, 'metric_for_logging': {'pred_time': 8.998141772505166e-06}, 'val_loss': 0.1285671966031401, 'trained_estimator': <flaml.automl.model.LGBMEstimator object at 0x7fec352aab80>}\n",
            "[flaml.tune.tune: 04-19 01:10:57] {701} INFO - Number of trials: 256/1000000, 2 RUNNING, 254 TERMINATED\n",
            "[flaml.tune.tune: 04-19 01:10:58] {721} INFO - Brief result: {'pred_time': 3.0113303143045176e-06, 'wall_clock_time': 38.780728578567505, 'metric_for_logging': {'pred_time': 3.0113303143045176e-06}, 'val_loss': 0.13503505480398936, 'trained_estimator': <flaml.automl.model.LGBMEstimator object at 0x7fec3525d700>}\n",
            "[flaml.tune.tune: 04-19 01:10:58] {721} INFO - Brief result: {'pred_time': 7.608662480893343e-06, 'wall_clock_time': 38.83242845535278, 'metric_for_logging': {'pred_time': 7.608662480893343e-06}, 'val_loss': 0.07025772686876675, 'trained_estimator': <flaml.automl.model.LGBMEstimator object at 0x7fec3525d9a0>}\n",
            "[flaml.tune.tune: 04-19 01:10:58] {701} INFO - Number of trials: 258/1000000, 2 RUNNING, 256 TERMINATED\n",
            "[flaml.tune.tune: 04-19 01:10:58] {721} INFO - Brief result: {'pred_time': 3.6324279895727187e-06, 'wall_clock_time': 39.20739531517029, 'metric_for_logging': {'pred_time': 3.6324279895727187e-06}, 'val_loss': 0.09232744149303851, 'trained_estimator': <flaml.automl.model.LGBMEstimator object at 0x7fec35248580>}\n",
            "[flaml.tune.tune: 04-19 01:10:58] {721} INFO - Brief result: {'pred_time': 2.8761400692704795e-06, 'wall_clock_time': 39.027679681777954, 'metric_for_logging': {'pred_time': 2.8761400692704795e-06}, 'val_loss': 0.06255554458378598, 'trained_estimator': <flaml.automl.model.LGBMEstimator object at 0x7fec35273790>}\n",
            "[flaml.tune.tune: 04-19 01:10:58] {701} INFO - Number of trials: 260/1000000, 2 RUNNING, 258 TERMINATED\n",
            "[flaml.tune.tune: 04-19 01:10:58] {721} INFO - Brief result: {'pred_time': 2.554361371026523e-06, 'wall_clock_time': 39.34074378013611, 'metric_for_logging': {'pred_time': 2.554361371026523e-06}, 'val_loss': 0.0765774661795201, 'trained_estimator': <flaml.automl.model.LGBMEstimator object at 0x7fec35273d30>}\n",
            "[flaml.tune.tune: 04-19 01:10:58] {721} INFO - Brief result: {'pred_time': 3.179346305736597e-06, 'wall_clock_time': 39.41369390487671, 'metric_for_logging': {'pred_time': 3.179346305736597e-06}, 'val_loss': 0.09519107336822352, 'trained_estimator': <flaml.automl.model.LGBMEstimator object at 0x7fec35273fa0>}\n",
            "[flaml.tune.tune: 04-19 01:10:58] {701} INFO - Number of trials: 262/1000000, 2 RUNNING, 260 TERMINATED\n",
            "[flaml.tune.tune: 04-19 01:10:58] {721} INFO - Brief result: {'pred_time': 2.9124211573946304e-06, 'wall_clock_time': 39.663169384002686, 'metric_for_logging': {'pred_time': 2.9124211573946304e-06}, 'val_loss': 0.16885553470919323, 'trained_estimator': <flaml.automl.model.LGBMEstimator object at 0x7fec35277a30>}\n",
            "[flaml.tune.tune: 04-19 01:10:58] {721} INFO - Brief result: {'pred_time': 2.803145975306414e-06, 'wall_clock_time': 39.59644675254822, 'metric_for_logging': {'pred_time': 2.803145975306414e-06}, 'val_loss': 0.05342154636121266, 'trained_estimator': <flaml.automl.model.LGBMEstimator object at 0x7fec35277eb0>}\n",
            "[flaml.tune.tune: 04-19 01:10:58] {701} INFO - Number of trials: 264/1000000, 2 RUNNING, 262 TERMINATED\n",
            "[flaml.tune.tune: 04-19 01:10:59] {721} INFO - Brief result: {'pred_time': 3.4821206244869507e-06, 'wall_clock_time': 39.82452154159546, 'metric_for_logging': {'pred_time': 3.4821206244869507e-06}, 'val_loss': 0.23669398637306205, 'trained_estimator': <flaml.automl.model.LGBMEstimator object at 0x7fec352735b0>}\n",
            "[flaml.tune.tune: 04-19 01:10:59] {721} INFO - Brief result: {'pred_time': 2.6787536731664687e-06, 'wall_clock_time': 39.75146722793579, 'metric_for_logging': {'pred_time': 2.6787536731664687e-06}, 'val_loss': 0.07499753135183174, 'trained_estimator': <flaml.automl.model.LGBMEstimator object at 0x7fec35277820>}\n",
            "[flaml.tune.tune: 04-19 01:10:59] {701} INFO - Number of trials: 266/1000000, 2 RUNNING, 264 TERMINATED\n",
            "[flaml.tune.tune: 04-19 01:10:59] {721} INFO - Brief result: {'pred_time': 5.794608074685802e-06, 'wall_clock_time': 40.1025927066803, 'metric_for_logging': {'pred_time': 5.794608074685802e-06}, 'val_loss': 0.08610644810901547, 'trained_estimator': <flaml.automl.model.LGBMEstimator object at 0x7fec35210f40>}\n",
            "[flaml.tune.tune: 04-19 01:10:59] {721} INFO - Brief result: {'pred_time': 2.6079191677812217e-06, 'wall_clock_time': 39.98125743865967, 'metric_for_logging': {'pred_time': 2.6079191677812217e-06}, 'val_loss': 0.05756887528389454, 'trained_estimator': <flaml.automl.model.LGBMEstimator object at 0x7fec352273a0>}\n",
            "[flaml.tune.tune: 04-19 01:10:59] {701} INFO - Number of trials: 268/1000000, 2 RUNNING, 266 TERMINATED\n",
            "[flaml.tune.tune: 04-19 01:10:59] {721} INFO - Brief result: {'pred_time': 2.8990317082059556e-06, 'wall_clock_time': 40.21757125854492, 'metric_for_logging': {'pred_time': 2.8990317082059556e-06}, 'val_loss': 0.14881011158289725, 'trained_estimator': <flaml.automl.model.LGBMEstimator object at 0x7fec35227dc0>}\n",
            "[flaml.tune.tune: 04-19 01:10:59] {721} INFO - Brief result: {'pred_time': 6.962081660395083e-06, 'wall_clock_time': 40.238648414611816, 'metric_for_logging': {'pred_time': 6.962081660395083e-06}, 'val_loss': 0.05391527599486523, 'trained_estimator': <flaml.automl.model.LGBMEstimator object at 0x7fec35210eb0>}\n",
            "[flaml.tune.tune: 04-19 01:10:59] {701} INFO - Number of trials: 270/1000000, 2 RUNNING, 268 TERMINATED\n",
            "[flaml.tune.tune: 04-19 01:10:59] {721} INFO - Brief result: {'pred_time': 3.165093021116395e-06, 'wall_clock_time': 40.4962375164032, 'metric_for_logging': {'pred_time': 3.165093021116395e-06}, 'val_loss': 0.09272242519996055, 'trained_estimator': <flaml.automl.model.LGBMEstimator object at 0x7fec351bd7c0>}\n",
            "[flaml.tune.tune: 04-19 01:10:59] {721} INFO - Brief result: {'pred_time': 4.047932832137398e-06, 'wall_clock_time': 40.44546318054199, 'metric_for_logging': {'pred_time': 4.047932832137398e-06}, 'val_loss': 0.08492149698824925, 'trained_estimator': <flaml.automl.model.LGBMEstimator object at 0x7fec351bd9a0>}\n",
            "[flaml.tune.tune: 04-19 01:10:59] {701} INFO - Number of trials: 272/1000000, 2 RUNNING, 270 TERMINATED\n",
            "[flaml.tune.tune: 04-19 01:10:59] {721} INFO - Brief result: {'pred_time': 6.80875087129897e-06, 'wall_clock_time': 40.72140169143677, 'metric_for_logging': {'pred_time': 6.80875087129897e-06}, 'val_loss': 0.09805470524340876, 'trained_estimator': <flaml.automl.model.LGBMEstimator object at 0x7fec35227df0>}\n",
            "[flaml.tune.tune: 04-19 01:10:59] {721} INFO - Brief result: {'pred_time': 1.701237498850062e-05, 'wall_clock_time': 40.7727632522583, 'metric_for_logging': {'pred_time': 1.701237498850062e-05}, 'val_loss': 0.08047793028537575, 'trained_estimator': <flaml.automl.model.LGBMEstimator object at 0x7fec35227460>}\n",
            "[flaml.tune.tune: 04-19 01:10:59] {701} INFO - Number of trials: 274/1000000, 2 RUNNING, 272 TERMINATED\n",
            "[flaml.tune.tune: 04-19 01:11:00] {721} INFO - Brief result: {'pred_time': 8.19434290346892e-06, 'wall_clock_time': 40.864758014678955, 'metric_for_logging': {'pred_time': 8.19434290346892e-06}, 'val_loss': 0.09237681445640367, 'trained_estimator': <flaml.automl.model.LGBMEstimator object at 0x7fec351bd0d0>}\n",
            "[flaml.tune.tune: 04-19 01:11:00] {721} INFO - Brief result: {'pred_time': 2.670547236566958e-06, 'wall_clock_time': 40.98264765739441, 'metric_for_logging': {'pred_time': 2.670547236566958e-06}, 'val_loss': 0.055248346005727256, 'trained_estimator': <flaml.automl.model.LGBMEstimator object at 0x7fec351c1f40>}\n",
            "[flaml.tune.tune: 04-19 01:11:00] {701} INFO - Number of trials: 276/1000000, 2 RUNNING, 274 TERMINATED\n",
            "[flaml.tune.tune: 04-19 01:11:00] {721} INFO - Brief result: {'pred_time': 3.49723774453868e-06, 'wall_clock_time': 41.172908306121826, 'metric_for_logging': {'pred_time': 3.49723774453868e-06}, 'val_loss': 0.06403673348474381, 'trained_estimator': <flaml.automl.model.LGBMEstimator object at 0x7fec351c1580>}\n",
            "[flaml.tune.tune: 04-19 01:11:00] {721} INFO - Brief result: {'pred_time': 3.149543983348902e-06, 'wall_clock_time': 41.09277629852295, 'metric_for_logging': {'pred_time': 3.149543983348902e-06}, 'val_loss': 0.13394884960995357, 'trained_estimator': <flaml.automl.model.LGBMEstimator object at 0x7fec351d7880>}\n",
            "[flaml.tune.tune: 04-19 01:11:00] {701} INFO - Number of trials: 278/1000000, 2 RUNNING, 276 TERMINATED\n",
            "[flaml.tune.tune: 04-19 01:11:00] {721} INFO - Brief result: {'pred_time': 2.888665683027627e-06, 'wall_clock_time': 41.384995460510254, 'metric_for_logging': {'pred_time': 2.888665683027627e-06}, 'val_loss': 0.0687765379678088, 'trained_estimator': <flaml.automl.model.LGBMEstimator object at 0x7fec351d7fa0>}\n",
            "[flaml.tune.tune: 04-19 01:11:00] {721} INFO - Brief result: {'pred_time': 2.6627727176832115e-06, 'wall_clock_time': 41.27396845817566, 'metric_for_logging': {'pred_time': 2.6627727176832115e-06}, 'val_loss': 0.09084625259208057, 'trained_estimator': <flaml.automl.model.LGBMEstimator object at 0x7fec351d7b50>}\n",
            "[flaml.tune.tune: 04-19 01:11:00] {701} INFO - Number of trials: 280/1000000, 2 RUNNING, 278 TERMINATED\n",
            "[flaml.tune.tune: 04-19 01:11:00] {721} INFO - Brief result: {'pred_time': 5.655098652494127e-06, 'wall_clock_time': 41.566795349121094, 'metric_for_logging': {'pred_time': 5.655098652494127e-06}, 'val_loss': 0.07786116322701697, 'trained_estimator': <flaml.automl.model.LGBMEstimator object at 0x7fec351e73a0>}\n",
            "[flaml.tune.tune: 04-19 01:11:00] {721} INFO - Brief result: {'pred_time': 2.7366306470788042e-06, 'wall_clock_time': 41.46762752532959, 'metric_for_logging': {'pred_time': 2.7366306470788042e-06}, 'val_loss': 0.08980942036141015, 'trained_estimator': <flaml.automl.model.LGBMEstimator object at 0x7fec351e7190>}\n",
            "[flaml.tune.tune: 04-19 01:11:00] {701} INFO - Number of trials: 282/1000000, 2 RUNNING, 280 TERMINATED\n",
            "[flaml.tune.tune: 04-19 01:11:00] {721} INFO - Brief result: {'pred_time': 2.653702445652174e-06, 'wall_clock_time': 41.74090266227722, 'metric_for_logging': {'pred_time': 2.653702445652174e-06}, 'val_loss': 0.19467759454922495, 'trained_estimator': <flaml.automl.model.LGBMEstimator object at 0x7fec3517d760>}\n",
            "[flaml.tune.tune: 04-19 01:11:00] {721} INFO - Brief result: {'pred_time': 2.9698662135912026e-06, 'wall_clock_time': 41.69465708732605, 'metric_for_logging': {'pred_time': 2.9698662135912026e-06}, 'val_loss': 0.11010170830453259, 'trained_estimator': <flaml.automl.model.LGBMEstimator object at 0x7fec3517d640>}\n",
            "[flaml.tune.tune: 04-19 01:11:00] {701} INFO - Number of trials: 284/1000000, 2 RUNNING, 282 TERMINATED\n",
            "[flaml.tune.tune: 04-19 01:11:01] {721} INFO - Brief result: {'pred_time': 2.89600828419561e-06, 'wall_clock_time': 41.845386266708374, 'metric_for_logging': {'pred_time': 2.89600828419561e-06}, 'val_loss': 0.059198183074948174, 'trained_estimator': <flaml.automl.model.LGBMEstimator object at 0x7fec351957c0>}\n",
            "[flaml.tune.tune: 04-19 01:11:01] {721} INFO - Brief result: {'pred_time': 6.151804025622382e-06, 'wall_clock_time': 41.970664978027344, 'metric_for_logging': {'pred_time': 6.151804025622382e-06}, 'val_loss': 0.06828280833415634, 'trained_estimator': <flaml.automl.model.LGBMEstimator object at 0x7fec351d7dc0>}\n",
            "[flaml.tune.tune: 04-19 01:11:01] {701} INFO - Number of trials: 286/1000000, 2 RUNNING, 284 TERMINATED\n",
            "[flaml.tune.tune: 04-19 01:11:01] {721} INFO - Brief result: {'pred_time': 4.253093747125155e-06, 'wall_clock_time': 42.280126094818115, 'metric_for_logging': {'pred_time': 4.253093747125155e-06}, 'val_loss': 0.11671768539547744, 'trained_estimator': <flaml.automl.model.LGBMEstimator object at 0x7fec352ef7c0>}\n",
            "[flaml.tune.tune: 04-19 01:11:01] {721} INFO - Brief result: {'pred_time': 2.5176483651866084e-06, 'wall_clock_time': 42.05795693397522, 'metric_for_logging': {'pred_time': 2.5176483651866084e-06}, 'val_loss': 0.37612323491655975, 'trained_estimator': <flaml.automl.model.LGBMEstimator object at 0x7fec351954c0>}\n",
            "[flaml.tune.tune: 04-19 01:11:01] {701} INFO - Number of trials: 288/1000000, 2 RUNNING, 286 TERMINATED\n",
            "[flaml.tune.tune: 04-19 01:11:01] {721} INFO - Brief result: {'pred_time': 2.898599790490192e-06, 'wall_clock_time': 42.46685433387756, 'metric_for_logging': {'pred_time': 2.898599790490192e-06}, 'val_loss': 0.10728744939271262, 'trained_estimator': <flaml.automl.model.LGBMEstimator object at 0x7fec3519a970>}\n",
            "[flaml.tune.tune: 04-19 01:11:01] {721} INFO - Brief result: {'pred_time': 2.447245777517125e-06, 'wall_clock_time': 42.36459541320801, 'metric_for_logging': {'pred_time': 2.447245777517125e-06}, 'val_loss': 0.055593956749284024, 'trained_estimator': <flaml.automl.model.LGBMEstimator object at 0x7fec3519ad90>}\n",
            "[flaml.tune.tune: 04-19 01:11:01] {701} INFO - Number of trials: 290/1000000, 2 RUNNING, 288 TERMINATED\n",
            "[flaml.tune.tune: 04-19 01:11:01] {721} INFO - Brief result: {'pred_time': 8.246604947076328e-06, 'wall_clock_time': 42.61330699920654, 'metric_for_logging': {'pred_time': 8.246604947076328e-06}, 'val_loss': 0.2013429446035352, 'trained_estimator': <flaml.automl.model.LGBMEstimator object at 0x7fec35195ca0>}\n",
            "[flaml.tune.tune: 04-19 01:11:01] {721} INFO - Brief result: {'pred_time': 2.5344931561013926e-06, 'wall_clock_time': 42.59594440460205, 'metric_for_logging': {'pred_time': 2.5344931561013926e-06}, 'val_loss': 0.06137059346301965, 'trained_estimator': <flaml.automl.model.LGBMEstimator object at 0x7fec3519a4f0>}\n",
            "[flaml.tune.tune: 04-19 01:11:01] {701} INFO - Number of trials: 292/1000000, 2 RUNNING, 290 TERMINATED\n",
            "[flaml.tune.tune: 04-19 01:11:02] {721} INFO - Brief result: {'pred_time': 5.571306615635969e-06, 'wall_clock_time': 42.7778422832489, 'metric_for_logging': {'pred_time': 5.571306615635969e-06}, 'val_loss': 0.05998815048879236, 'trained_estimator': <flaml.automl.model.LGBMEstimator object at 0x7fec35147130>}\n",
            "[flaml.tune.tune: 04-19 01:11:02] {721} INFO - Brief result: {'pred_time': 8.825374686199686e-06, 'wall_clock_time': 42.828877687454224, 'metric_for_logging': {'pred_time': 8.825374686199686e-06}, 'val_loss': 0.1256541917645898, 'trained_estimator': <flaml.automl.model.LGBMEstimator object at 0x7fec351b0ca0>}\n",
            "[flaml.tune.tune: 04-19 01:11:02] {701} INFO - Number of trials: 294/1000000, 2 RUNNING, 292 TERMINATED\n",
            "[flaml.tune.tune: 04-19 01:11:02] {721} INFO - Brief result: {'pred_time': 5.90301942134249e-06, 'wall_clock_time': 42.990697145462036, 'metric_for_logging': {'pred_time': 5.90301942134249e-06}, 'val_loss': 0.09524044633158879, 'trained_estimator': <flaml.automl.model.LGBMEstimator object at 0x7fec351b0be0>}\n",
            "[flaml.tune.tune: 04-19 01:11:02] {721} INFO - Brief result: {'pred_time': 2.86102294921875e-06, 'wall_clock_time': 42.96147322654724, 'metric_for_logging': {'pred_time': 2.86102294921875e-06}, 'val_loss': 0.06418485237483962, 'trained_estimator': <flaml.automl.model.LGBMEstimator object at 0x7fec35147d00>}\n",
            "[flaml.tune.tune: 04-19 01:11:02] {701} INFO - Number of trials: 296/1000000, 2 RUNNING, 294 TERMINATED\n",
            "[flaml.tune.tune: 04-19 01:11:02] {721} INFO - Brief result: {'pred_time': 5.4758528004521905e-06, 'wall_clock_time': 43.108901500701904, 'metric_for_logging': {'pred_time': 5.4758528004521905e-06}, 'val_loss': 0.28103090747506676, 'trained_estimator': <flaml.automl.model.LGBMEstimator object at 0x7fec3515e700>}\n",
            "[flaml.tune.tune: 04-19 01:11:02] {721} INFO - Brief result: {'pred_time': 3.9218128591343975e-06, 'wall_clock_time': 43.17945432662964, 'metric_for_logging': {'pred_time': 3.9218128591343975e-06}, 'val_loss': 0.11138540535202912, 'trained_estimator': <flaml.automl.model.LGBMEstimator object at 0x7fec3515e8e0>}\n",
            "[flaml.tune.tune: 04-19 01:11:02] {701} INFO - Number of trials: 298/1000000, 2 RUNNING, 296 TERMINATED\n",
            "[flaml.tune.tune: 04-19 01:11:02] {721} INFO - Brief result: {'pred_time': 5.689652069755223e-06, 'wall_clock_time': 43.29299068450928, 'metric_for_logging': {'pred_time': 5.689652069755223e-06}, 'val_loss': 0.06304927421743856, 'trained_estimator': <flaml.automl.model.LGBMEstimator object at 0x7fec35147b50>}\n",
            "[flaml.tune.tune: 04-19 01:11:02] {721} INFO - Brief result: {'pred_time': 2.5820041048354e-06, 'wall_clock_time': 43.38965821266174, 'metric_for_logging': {'pred_time': 2.5820041048354e-06}, 'val_loss': 0.12328428952305726, 'trained_estimator': <flaml.automl.model.LGBMEstimator object at 0x7fec351470d0>}\n",
            "[flaml.tune.tune: 04-19 01:11:02] {701} INFO - Number of trials: 300/1000000, 2 RUNNING, 298 TERMINATED\n",
            "[flaml.tune.tune: 04-19 01:11:02] {721} INFO - Brief result: {'pred_time': 3.490327061086461e-06, 'wall_clock_time': 43.544888734817505, 'metric_for_logging': {'pred_time': 3.490327061086461e-06}, 'val_loss': 0.08215661103979466, 'trained_estimator': <flaml.automl.model.LGBMEstimator object at 0x7fec35163e80>}\n",
            "[flaml.tune.tune: 04-19 01:11:02] {721} INFO - Brief result: {'pred_time': 4.278576892355214e-06, 'wall_clock_time': 43.50631380081177, 'metric_for_logging': {'pred_time': 4.278576892355214e-06}, 'val_loss': 0.0840821566110399, 'trained_estimator': <flaml.automl.model.LGBMEstimator object at 0x7fec35163790>}\n",
            "[flaml.tune.tune: 04-19 01:11:02] {701} INFO - Number of trials: 302/1000000, 2 RUNNING, 300 TERMINATED\n",
            "[flaml.tune.tune: 04-19 01:11:02] {721} INFO - Brief result: {'pred_time': 2.5720699973728345e-06, 'wall_clock_time': 43.63052749633789, 'metric_for_logging': {'pred_time': 2.5720699973728345e-06}, 'val_loss': 0.10077021822849797, 'trained_estimator': <flaml.automl.model.LGBMEstimator object at 0x7fec3517ad60>}\n",
            "[flaml.tune.tune: 04-19 01:11:02] {721} INFO - Brief result: {'pred_time': 3.4294266631637793e-06, 'wall_clock_time': 43.80629873275757, 'metric_for_logging': {'pred_time': 3.4294266631637793e-06}, 'val_loss': 0.09637602448898985, 'trained_estimator': <flaml.automl.model.LGBMEstimator object at 0x7fec3517aa30>}\n",
            "[flaml.tune.tune: 04-19 01:11:02] {701} INFO - Number of trials: 304/1000000, 2 RUNNING, 302 TERMINATED\n",
            "[flaml.tune.tune: 04-19 01:11:03] {721} INFO - Brief result: {'pred_time': 2.529310143512228e-06, 'wall_clock_time': 43.88439154624939, 'metric_for_logging': {'pred_time': 2.529310143512228e-06}, 'val_loss': 0.08748889108324287, 'trained_estimator': <flaml.automl.model.LGBMEstimator object at 0x7fec35106e80>}\n",
            "[flaml.tune.tune: 04-19 01:11:03] {721} INFO - Brief result: {'pred_time': 6.236027980196303e-06, 'wall_clock_time': 43.98495531082153, 'metric_for_logging': {'pred_time': 6.236027980196303e-06}, 'val_loss': 0.08521773476844086, 'trained_estimator': <flaml.automl.model.LGBMEstimator object at 0x7fec351065e0>}\n",
            "[flaml.tune.tune: 04-19 01:11:03] {701} INFO - Number of trials: 306/1000000, 2 RUNNING, 304 TERMINATED\n",
            "[flaml.tune.tune: 04-19 01:11:03] {721} INFO - Brief result: {'pred_time': 2.5262867195018823e-06, 'wall_clock_time': 44.120760679244995, 'metric_for_logging': {'pred_time': 2.5262867195018823e-06}, 'val_loss': 0.2136861854448504, 'trained_estimator': <flaml.automl.model.LGBMEstimator object at 0x7fec3511c0a0>}\n",
            "[flaml.tune.tune: 04-19 01:11:03] {721} INFO - Brief result: {'pred_time': 2.9309936191724693e-06, 'wall_clock_time': 44.15159797668457, 'metric_for_logging': {'pred_time': 2.9309936191724693e-06}, 'val_loss': 0.11558210723807638, 'trained_estimator': <flaml.automl.model.LGBMEstimator object at 0x7fec3515ef40>}\n",
            "[flaml.tune.tune: 04-19 01:11:03] {701} INFO - Number of trials: 308/1000000, 2 RUNNING, 306 TERMINATED\n",
            "[flaml.tune.tune: 04-19 01:11:03] {721} INFO - Brief result: {'pred_time': 5.736299183057702e-06, 'wall_clock_time': 44.28510403633118, 'metric_for_logging': {'pred_time': 5.736299183057702e-06}, 'val_loss': 0.08151476251604617, 'trained_estimator': <flaml.automl.model.LGBMEstimator object at 0x7fec351b0580>}\n",
            "[flaml.tune.tune: 04-19 01:11:03] {721} INFO - Brief result: {'pred_time': 2.8489292531773662e-06, 'wall_clock_time': 44.27116084098816, 'metric_for_logging': {'pred_time': 2.8489292531773662e-06}, 'val_loss': 0.11632270168855541, 'trained_estimator': <flaml.automl.model.LGBMEstimator object at 0x7fec3511cc70>}\n",
            "[flaml.tune.tune: 04-19 01:11:03] {701} INFO - Number of trials: 310/1000000, 2 RUNNING, 308 TERMINATED\n",
            "[flaml.tune.tune: 04-19 01:11:03] {721} INFO - Brief result: {'pred_time': 7.651422334753949e-06, 'wall_clock_time': 44.40665602684021, 'metric_for_logging': {'pred_time': 7.651422334753949e-06}, 'val_loss': 0.09840031598696564, 'trained_estimator': <flaml.automl.model.LGBMEstimator object at 0x7fec3517a9d0>}\n",
            "[flaml.tune.tune: 04-19 01:11:03] {721} INFO - Brief result: {'pred_time': 2.891257189322209e-06, 'wall_clock_time': 44.48711013793945, 'metric_for_logging': {'pred_time': 2.891257189322209e-06}, 'val_loss': 0.06601165201935433, 'trained_estimator': <flaml.automl.model.LGBMEstimator object at 0x7fec35163400>}\n",
            "[flaml.tune.tune: 04-19 01:11:03] {701} INFO - Number of trials: 312/1000000, 2 RUNNING, 310 TERMINATED\n",
            "[flaml.tune.tune: 04-19 01:11:03] {721} INFO - Brief result: {'pred_time': 8.494957633640455e-06, 'wall_clock_time': 44.675684213638306, 'metric_for_logging': {'pred_time': 8.494957633640455e-06}, 'val_loss': 0.09795595931667811, 'trained_estimator': <flaml.automl.model.LGBMEstimator object at 0x7fec3517ac40>}\n",
            "[flaml.tune.tune: 04-19 01:11:03] {721} INFO - Brief result: {'pred_time': 1.6211167625758957e-05, 'wall_clock_time': 44.61126232147217, 'metric_for_logging': {'pred_time': 1.6211167625758957e-05}, 'val_loss': 0.06028438826898386, 'trained_estimator': <flaml.automl.model.LGBMEstimator object at 0x7fec3511c160>}\n",
            "[flaml.tune.tune: 04-19 01:11:03] {701} INFO - Number of trials: 314/1000000, 2 RUNNING, 312 TERMINATED\n",
            "[flaml.tune.tune: 04-19 01:11:04] {721} INFO - Brief result: {'pred_time': 2.7318795522054038e-06, 'wall_clock_time': 44.75480604171753, 'metric_for_logging': {'pred_time': 2.7318795522054038e-06}, 'val_loss': 0.3623975511010169, 'trained_estimator': <flaml.automl.model.LGBMEstimator object at 0x7fec3511cac0>}\n",
            "[flaml.tune.tune: 04-19 01:11:04] {721} INFO - Brief result: {'pred_time': 6.9443730340487715e-06, 'wall_clock_time': 44.86552405357361, 'metric_for_logging': {'pred_time': 6.9443730340487715e-06}, 'val_loss': 0.107929297916461, 'trained_estimator': <flaml.automl.model.LGBMEstimator object at 0x7fec3511ca60>}\n",
            "[flaml.tune.tune: 04-19 01:11:04] {701} INFO - Number of trials: 316/1000000, 2 RUNNING, 314 TERMINATED\n",
            "[flaml.tune.tune: 04-19 01:11:04] {721} INFO - Brief result: {'pred_time': 9.311714034149611e-06, 'wall_clock_time': 45.05608654022217, 'metric_for_logging': {'pred_time': 9.311714034149611e-06}, 'val_loss': 0.05959316678187032, 'trained_estimator': <flaml.automl.model.LGBMEstimator object at 0x7fec35147be0>}\n",
            "[flaml.tune.tune: 04-19 01:11:04] {721} INFO - Brief result: {'pred_time': 6.889087566431018e-06, 'wall_clock_time': 45.150428771972656, 'metric_for_logging': {'pred_time': 6.889087566431018e-06}, 'val_loss': 0.0984496889503309, 'trained_estimator': <flaml.automl.model.LGBMEstimator object at 0x7fec3511c790>}\n",
            "[flaml.tune.tune: 04-19 01:11:04] {701} INFO - Number of trials: 318/1000000, 2 RUNNING, 316 TERMINATED\n",
            "[flaml.tune.tune: 04-19 01:11:04] {721} INFO - Brief result: {'pred_time': 8.915213571078535e-06, 'wall_clock_time': 45.33338212966919, 'metric_for_logging': {'pred_time': 8.915213571078535e-06}, 'val_loss': 0.1141996642638492, 'trained_estimator': <flaml.automl.model.LGBMEstimator object at 0x7fec3511cd90>}\n",
            "[flaml.tune.tune: 04-19 01:11:04] {721} INFO - Brief result: {'pred_time': 4.205150880675385e-06, 'wall_clock_time': 45.244739294052124, 'metric_for_logging': {'pred_time': 4.205150880675385e-06}, 'val_loss': 0.07850301175076524, 'trained_estimator': <flaml.automl.model.LGBMEstimator object at 0x7fec351061f0>}\n",
            "[flaml.tune.tune: 04-19 01:11:04] {701} INFO - Number of trials: 320/1000000, 2 RUNNING, 318 TERMINATED\n",
            "[flaml.tune.tune: 04-19 01:11:04] {721} INFO - Brief result: {'pred_time': 8.842651394830234e-06, 'wall_clock_time': 45.553513526916504, 'metric_for_logging': {'pred_time': 8.842651394830234e-06}, 'val_loss': 0.30107633060136274, 'trained_estimator': <flaml.automl.model.LGBMEstimator object at 0x7fec35163160>}\n",
            "[flaml.tune.tune: 04-19 01:11:04] {721} INFO - Brief result: {'pred_time': 9.179979130841684e-06, 'wall_clock_time': 45.4545316696167, 'metric_for_logging': {'pred_time': 9.179979130841684e-06}, 'val_loss': 0.12412362990026649, 'trained_estimator': <flaml.automl.model.LGBMEstimator object at 0x7fec3515ecd0>}\n",
            "[flaml.tune.tune: 04-19 01:11:04] {701} INFO - Number of trials: 322/1000000, 2 RUNNING, 320 TERMINATED\n",
            "[flaml.tune.tune: 04-19 01:11:04] {721} INFO - Brief result: {'pred_time': 3.4061031065125396e-06, 'wall_clock_time': 45.715179204940796, 'metric_for_logging': {'pred_time': 3.4061031065125396e-06}, 'val_loss': 0.06225930680359437, 'trained_estimator': <flaml.automl.model.LGBMEstimator object at 0x7fec35134370>}\n",
            "[flaml.tune.tune: 04-19 01:11:04] {721} INFO - Brief result: {'pred_time': 2.647655597631482e-06, 'wall_clock_time': 45.62370419502258, 'metric_for_logging': {'pred_time': 2.647655597631482e-06}, 'val_loss': 0.09267305223659528, 'trained_estimator': <flaml.automl.model.LGBMEstimator object at 0x7fec351340d0>}\n",
            "[flaml.tune.tune: 04-19 01:11:04] {701} INFO - Number of trials: 324/1000000, 2 RUNNING, 322 TERMINATED\n",
            "[flaml.tune.tune: 04-19 01:11:05] {721} INFO - Brief result: {'pred_time': 3.3771646195563716e-06, 'wall_clock_time': 45.86565113067627, 'metric_for_logging': {'pred_time': 3.3771646195563716e-06}, 'val_loss': 0.10220203416609075, 'trained_estimator': <flaml.automl.model.LGBMEstimator object at 0x7fec3511c190>}\n",
            "[flaml.tune.tune: 04-19 01:11:05] {721} INFO - Brief result: {'pred_time': 3.3369962719903476e-06, 'wall_clock_time': 45.88248014450073, 'metric_for_logging': {'pred_time': 3.3369962719903476e-06}, 'val_loss': 0.05821072380764303, 'trained_estimator': <flaml.automl.model.LGBMEstimator object at 0x7fec3511c3d0>}\n",
            "[flaml.tune.tune: 04-19 01:11:05] {701} INFO - Number of trials: 326/1000000, 2 RUNNING, 324 TERMINATED\n",
            "[flaml.tune.tune: 04-19 01:11:05] {721} INFO - Brief result: {'pred_time': 2.6467917621999546e-06, 'wall_clock_time': 45.94897103309631, 'metric_for_logging': {'pred_time': 2.6467917621999546e-06}, 'val_loss': 0.05845758862446937, 'trained_estimator': <flaml.automl.model.LGBMEstimator object at 0x7fec351342b0>}\n",
            "[flaml.tune.tune: 04-19 01:11:05] {721} INFO - Brief result: {'pred_time': 2.322421557661416e-06, 'wall_clock_time': 46.08386421203613, 'metric_for_logging': {'pred_time': 2.322421557661416e-06}, 'val_loss': 0.5972647378295646, 'trained_estimator': <flaml.automl.model.LGBMEstimator object at 0x7fec35106070>}\n",
            "[flaml.tune.tune: 04-19 01:11:05] {701} INFO - Number of trials: 328/1000000, 2 RUNNING, 326 TERMINATED\n",
            "[flaml.tune.tune: 04-19 01:11:05] {721} INFO - Brief result: {'pred_time': 5.505223205124122e-06, 'wall_clock_time': 46.23549151420593, 'metric_for_logging': {'pred_time': 5.505223205124122e-06}, 'val_loss': 0.0635923768144564, 'trained_estimator': <flaml.automl.model.LGBMEstimator object at 0x7fec35106220>}\n",
            "[flaml.tune.tune: 04-19 01:11:05] {721} INFO - Brief result: {'pred_time': 2.9534533403921817e-06, 'wall_clock_time': 46.38034653663635, 'metric_for_logging': {'pred_time': 2.9534533403921817e-06}, 'val_loss': 0.07771304433692117, 'trained_estimator': <flaml.automl.model.LGBMEstimator object at 0x7fec35106490>}\n",
            "[flaml.tune.tune: 04-19 01:11:05] {701} INFO - Number of trials: 330/1000000, 2 RUNNING, 328 TERMINATED\n",
            "[flaml.tune.tune: 04-19 01:11:05] {721} INFO - Brief result: {'pred_time': 3.2372232796489326e-06, 'wall_clock_time': 46.50217866897583, 'metric_for_logging': {'pred_time': 3.2372232796489326e-06}, 'val_loss': 0.08516836180507559, 'trained_estimator': <flaml.automl.model.LGBMEstimator object at 0x7fec3511c970>}\n",
            "[flaml.tune.tune: 04-19 01:11:05] {721} INFO - Brief result: {'pred_time': 2.6092149209285127e-06, 'wall_clock_time': 46.45779371261597, 'metric_for_logging': {'pred_time': 2.6092149209285127e-06}, 'val_loss': 0.08877258813073963, 'trained_estimator': <flaml.automl.model.LGBMEstimator object at 0x7fec35134160>}\n",
            "[flaml.tune.tune: 04-19 01:11:05] {701} INFO - Number of trials: 332/1000000, 2 RUNNING, 330 TERMINATED\n",
            "[flaml.tune.tune: 04-19 01:11:05] {721} INFO - Brief result: {'pred_time': 3.9611173712688945e-06, 'wall_clock_time': 46.72101807594299, 'metric_for_logging': {'pred_time': 3.9611173712688945e-06}, 'val_loss': 0.06448109015503112, 'trained_estimator': <flaml.automl.model.LGBMEstimator object at 0x7fec350d5970>}\n",
            "[flaml.tune.tune: 04-19 01:11:05] {721} INFO - Brief result: {'pred_time': 5.902587503626727e-06, 'wall_clock_time': 46.6513352394104, 'metric_for_logging': {'pred_time': 5.902587503626727e-06}, 'val_loss': 0.09449985188110988, 'trained_estimator': <flaml.automl.model.LGBMEstimator object at 0x7fec350d5b50>}\n",
            "[flaml.tune.tune: 04-19 01:11:05] {701} INFO - Number of trials: 334/1000000, 2 RUNNING, 332 TERMINATED\n",
            "[flaml.tune.tune: 04-19 01:11:06] {721} INFO - Brief result: {'pred_time': 5.566123603046805e-06, 'wall_clock_time': 46.86505722999573, 'metric_for_logging': {'pred_time': 5.566123603046805e-06}, 'val_loss': 0.08936506369112296, 'trained_estimator': <flaml.automl.model.LGBMEstimator object at 0x7fec350d59a0>}\n",
            "[flaml.tune.tune: 04-19 01:11:06] {721} INFO - Brief result: {'pred_time': 3.003555795420771e-06, 'wall_clock_time': 46.83564281463623, 'metric_for_logging': {'pred_time': 3.003555795420771e-06}, 'val_loss': 0.09563543003851083, 'trained_estimator': <flaml.automl.model.LGBMEstimator object at 0x7fec351341c0>}\n",
            "[flaml.tune.tune: 04-19 01:11:06] {701} INFO - Number of trials: 336/1000000, 2 RUNNING, 334 TERMINATED\n",
            "[flaml.tune.tune: 04-19 01:11:06] {721} INFO - Brief result: {'pred_time': 5.6058600328970645e-06, 'wall_clock_time': 47.18586564064026, 'metric_for_logging': {'pred_time': 5.6058600328970645e-06}, 'val_loss': 0.4622790559889405, 'trained_estimator': <flaml.automl.model.LGBMEstimator object at 0x7fec3511c6a0>}\n",
            "[flaml.tune.tune: 04-19 01:11:06] {721} INFO - Brief result: {'pred_time': 5.736731100773466e-06, 'wall_clock_time': 47.12805390357971, 'metric_for_logging': {'pred_time': 5.736731100773466e-06}, 'val_loss': 0.1099042164510714, 'trained_estimator': <flaml.automl.model.LGBMEstimator object at 0x7fec351067c0>}\n",
            "[flaml.tune.tune: 04-19 01:11:06] {701} INFO - Number of trials: 338/1000000, 2 RUNNING, 336 TERMINATED\n",
            "[flaml.tune.tune: 04-19 01:11:06] {721} INFO - Brief result: {'pred_time': 2.6442002559053726e-06, 'wall_clock_time': 47.25177192687988, 'metric_for_logging': {'pred_time': 2.6442002559053726e-06}, 'val_loss': 0.06161745827984588, 'trained_estimator': <flaml.automl.model.LGBMEstimator object at 0x7fec350d5160>}\n",
            "[flaml.tune.tune: 04-19 01:11:06] {721} INFO - Brief result: {'pred_time': 2.65327052793641e-06, 'wall_clock_time': 47.40237069129944, 'metric_for_logging': {'pred_time': 2.65327052793641e-06}, 'val_loss': 0.10067147230176765, 'trained_estimator': <flaml.automl.model.LGBMEstimator object at 0x7fec35134b20>}\n",
            "[flaml.tune.tune: 04-19 01:11:06] {701} INFO - Number of trials: 340/1000000, 2 RUNNING, 338 TERMINATED\n",
            "[flaml.tune.tune: 04-19 01:11:06] {721} INFO - Brief result: {'pred_time': 2.7793905009394106e-06, 'wall_clock_time': 47.491913080215454, 'metric_for_logging': {'pred_time': 2.7793905009394106e-06}, 'val_loss': 0.048089266317764445, 'trained_estimator': <flaml.automl.model.LGBMEstimator object at 0x7fec35093d30>}\n",
            "[flaml.tune.tune: 04-19 01:11:06] {721} INFO - Brief result: {'pred_time': 5.941892015761224e-06, 'wall_clock_time': 47.724848985672, 'metric_for_logging': {'pred_time': 5.941892015761224e-06}, 'val_loss': 0.0825515947467167, 'trained_estimator': <flaml.automl.model.LGBMEstimator object at 0x7fec35093ac0>}\n",
            "[flaml.tune.tune: 04-19 01:11:06] {701} INFO - Number of trials: 342/1000000, 2 RUNNING, 340 TERMINATED\n",
            "[flaml.tune.tune: 04-19 01:11:07] {721} INFO - Brief result: {'pred_time': 3.2575234122898267e-06, 'wall_clock_time': 48.01954627037048, 'metric_for_logging': {'pred_time': 3.2575234122898267e-06}, 'val_loss': 0.0765774661795201, 'trained_estimator': <flaml.automl.model.LGBMEstimator object at 0x7fec350935b0>}\n",
            "[flaml.tune.tune: 04-19 01:11:07] {721} INFO - Brief result: {'pred_time': 5.740618360215339e-06, 'wall_clock_time': 47.838258504867554, 'metric_for_logging': {'pred_time': 5.740618360215339e-06}, 'val_loss': 0.11661893946874691, 'trained_estimator': <flaml.automl.model.LGBMEstimator object at 0x7fec35134a90>}\n",
            "[flaml.tune.tune: 04-19 01:11:07] {701} INFO - Number of trials: 344/1000000, 2 RUNNING, 342 TERMINATED\n",
            "[flaml.tune.tune: 04-19 01:11:07] {721} INFO - Brief result: {'pred_time': 2.6748664137245952e-06, 'wall_clock_time': 48.090203046798706, 'metric_for_logging': {'pred_time': 2.6748664137245952e-06}, 'val_loss': 0.06630788979954583, 'trained_estimator': <flaml.automl.model.LGBMEstimator object at 0x7fec34ebd760>}\n",
            "[flaml.tune.tune: 04-19 01:11:07] {721} INFO - Brief result: {'pred_time': 1.028266505918641e-05, 'wall_clock_time': 48.19990420341492, 'metric_for_logging': {'pred_time': 1.028266505918641e-05}, 'val_loss': 0.09331490076034366, 'trained_estimator': <flaml.automl.model.LGBMEstimator object at 0x7fec34ebd880>}\n",
            "[flaml.tune.tune: 04-19 01:11:07] {701} INFO - Number of trials: 346/1000000, 2 RUNNING, 344 TERMINATED\n",
            "[flaml.tune.tune: 04-19 01:11:07] {721} INFO - Brief result: {'pred_time': 2.8100566587586333e-06, 'wall_clock_time': 48.39952206611633, 'metric_for_logging': {'pred_time': 2.8100566587586333e-06}, 'val_loss': 0.11479213982423242, 'trained_estimator': <flaml.automl.model.LGBMEstimator object at 0x7fec34ebd0a0>}\n",
            "[flaml.tune.tune: 04-19 01:11:07] {721} INFO - Brief result: {'pred_time': 2.5802764339723447e-06, 'wall_clock_time': 48.29435658454895, 'metric_for_logging': {'pred_time': 2.5802764339723447e-06}, 'val_loss': 0.14510713933050268, 'trained_estimator': <flaml.automl.model.LGBMEstimator object at 0x7fec350d5ca0>}\n",
            "[flaml.tune.tune: 04-19 01:11:07] {701} INFO - Number of trials: 348/1000000, 2 RUNNING, 346 TERMINATED\n",
            "[flaml.tune.tune: 04-19 01:11:07] {721} INFO - Brief result: {'pred_time': 2.7107155841329824e-06, 'wall_clock_time': 48.514384269714355, 'metric_for_logging': {'pred_time': 2.7107155841329824e-06}, 'val_loss': 0.06137059346301976, 'trained_estimator': <flaml.automl.model.LGBMEstimator object at 0x7fec350935e0>}\n",
            "[flaml.tune.tune: 04-19 01:11:07] {721} INFO - Brief result: {'pred_time': 5.555325660152712e-06, 'wall_clock_time': 48.53211259841919, 'metric_for_logging': {'pred_time': 5.555325660152712e-06}, 'val_loss': 0.3464007109706725, 'trained_estimator': <flaml.automl.model.LGBMEstimator object at 0x7fec3511c220>}\n",
            "[flaml.tune.tune: 04-19 01:11:07] {701} INFO - Number of trials: 350/1000000, 2 RUNNING, 348 TERMINATED\n",
            "[flaml.tune.tune: 04-19 01:11:07] {721} INFO - Brief result: {'pred_time': 3.637179084446119e-06, 'wall_clock_time': 48.66910982131958, 'metric_for_logging': {'pred_time': 3.637179084446119e-06}, 'val_loss': 0.07554063394884958, 'trained_estimator': <flaml.automl.model.LGBMEstimator object at 0x7fec35134190>}\n",
            "[flaml.tune.tune: 04-19 01:11:07] {721} INFO - Brief result: {'pred_time': 5.497448686240376e-06, 'wall_clock_time': 48.63874888420105, 'metric_for_logging': {'pred_time': 5.497448686240376e-06}, 'val_loss': 0.10042460748494131, 'trained_estimator': <flaml.automl.model.LGBMEstimator object at 0x7fec34ebd940>}\n",
            "[flaml.tune.tune: 04-19 01:11:07] {701} INFO - Number of trials: 352/1000000, 2 RUNNING, 350 TERMINATED\n",
            "[flaml.tune.tune: 04-19 01:11:08] {721} INFO - Brief result: {'pred_time': 2.853680348050767e-06, 'wall_clock_time': 48.80108451843262, 'metric_for_logging': {'pred_time': 2.853680348050767e-06}, 'val_loss': 0.09163622000592497, 'trained_estimator': <flaml.automl.model.LGBMEstimator object at 0x7fec34ee7c70>}\n",
            "[flaml.tune.tune: 04-19 01:11:08] {721} INFO - Brief result: {'pred_time': 6.888655648715254e-06, 'wall_clock_time': 48.83551573753357, 'metric_for_logging': {'pred_time': 6.888655648715254e-06}, 'val_loss': 0.09227806852967335, 'trained_estimator': <flaml.automl.model.LGBMEstimator object at 0x7fec34ee78b0>}\n",
            "[flaml.tune.tune: 04-19 01:11:08] {701} INFO - Number of trials: 354/1000000, 2 RUNNING, 352 TERMINATED\n",
            "[flaml.tune.tune: 04-19 01:11:08] {721} INFO - Brief result: {'pred_time': 6.925800572270933e-06, 'wall_clock_time': 49.084237813949585, 'metric_for_logging': {'pred_time': 6.925800572270933e-06}, 'val_loss': 0.060629999012540736, 'trained_estimator': <flaml.automl.model.LGBMEstimator object at 0x7fec34ee7940>}\n",
            "[flaml.tune.tune: 04-19 01:11:08] {721} INFO - Brief result: {'pred_time': 3.124492755834607e-06, 'wall_clock_time': 48.943636894226074, 'metric_for_logging': {'pred_time': 3.124492755834607e-06}, 'val_loss': 0.09711661893946877, 'trained_estimator': <flaml.automl.model.LGBMEstimator object at 0x7fec34ebd400>}\n",
            "[flaml.tune.tune: 04-19 01:11:08] {701} INFO - Number of trials: 356/1000000, 2 RUNNING, 354 TERMINATED\n",
            "[flaml.tune.tune: 04-19 01:11:08] {721} INFO - Brief result: {'pred_time': 8.846970571987871e-06, 'wall_clock_time': 49.2479522228241, 'metric_for_logging': {'pred_time': 8.846970571987871e-06}, 'val_loss': 0.119680063197393, 'trained_estimator': <flaml.automl.model.LGBMEstimator object at 0x7fec350d5af0>}\n",
            "[flaml.tune.tune: 04-19 01:11:08] {721} INFO - Brief result: {'pred_time': 2.8515207594719487e-06, 'wall_clock_time': 49.18432641029358, 'metric_for_logging': {'pred_time': 2.8515207594719487e-06}, 'val_loss': 0.051101017083045375, 'trained_estimator': <flaml.automl.model.LGBMEstimator object at 0x7fec34e95370>}\n",
            "[flaml.tune.tune: 04-19 01:11:08] {701} INFO - Number of trials: 358/1000000, 2 RUNNING, 356 TERMINATED\n",
            "[flaml.tune.tune: 04-19 01:11:08] {721} INFO - Brief result: {'pred_time': 5.913817364236583e-06, 'wall_clock_time': 49.410420656204224, 'metric_for_logging': {'pred_time': 5.913817364236583e-06}, 'val_loss': 0.09854843487706133, 'trained_estimator': <flaml.automl.model.LGBMEstimator object at 0x7fec35093640>}\n",
            "[flaml.tune.tune: 04-19 01:11:08] {721} INFO - Brief result: {'pred_time': 2.865774044092151e-06, 'wall_clock_time': 49.31886911392212, 'metric_for_logging': {'pred_time': 2.865774044092151e-06}, 'val_loss': 0.3219610941048683, 'trained_estimator': <flaml.automl.model.LGBMEstimator object at 0x7fec34e95670>}\n",
            "[flaml.tune.tune: 04-19 01:11:08] {701} INFO - Number of trials: 360/1000000, 2 RUNNING, 358 TERMINATED\n",
            "[flaml.tune.tune: 04-19 01:11:08] {721} INFO - Brief result: {'pred_time': 6.953875223795573e-06, 'wall_clock_time': 49.52638101577759, 'metric_for_logging': {'pred_time': 6.953875223795573e-06}, 'val_loss': 0.05697639972351132, 'trained_estimator': <flaml.automl.model.LGBMEstimator object at 0x7fec34ee7be0>}\n",
            "[flaml.tune.tune: 04-19 01:11:08] {721} INFO - Brief result: {'pred_time': 2.819126930789671e-06, 'wall_clock_time': 49.62110686302185, 'metric_for_logging': {'pred_time': 2.819126930789671e-06}, 'val_loss': 0.06754221388367732, 'trained_estimator': <flaml.automl.model.LGBMEstimator object at 0x7fec34ee7640>}\n",
            "[flaml.tune.tune: 04-19 01:11:08] {701} INFO - Number of trials: 362/1000000, 2 RUNNING, 360 TERMINATED\n",
            "[flaml.tune.tune: 04-19 01:11:08] {721} INFO - Brief result: {'pred_time': 3.4294266631637793e-06, 'wall_clock_time': 49.75969314575195, 'metric_for_logging': {'pred_time': 3.4294266631637793e-06}, 'val_loss': 0.11489088575096273, 'trained_estimator': <flaml.automl.model.LGBMEstimator object at 0x7fec35134550>}\n",
            "[flaml.tune.tune: 04-19 01:11:08] {721} INFO - Brief result: {'pred_time': 2.742677495099496e-06, 'wall_clock_time': 49.71234083175659, 'metric_for_logging': {'pred_time': 2.742677495099496e-06}, 'val_loss': 0.2230176755208848, 'trained_estimator': <flaml.automl.model.LGBMEstimator object at 0x7fec34e95a30>}\n",
            "[flaml.tune.tune: 04-19 01:11:08] {701} INFO - Number of trials: 364/1000000, 2 RUNNING, 362 TERMINATED\n",
            "[flaml.tune.tune: 04-19 01:11:09] {721} INFO - Brief result: {'pred_time': 9.26247541455255e-06, 'wall_clock_time': 50.06815552711487, 'metric_for_logging': {'pred_time': 9.26247541455255e-06}, 'val_loss': 0.10634936308877285, 'trained_estimator': <flaml.automl.model.LGBMEstimator object at 0x7fec34eae280>}\n",
            "[flaml.tune.tune: 04-19 01:11:09] {721} INFO - Brief result: {'pred_time': 3.074390300806018e-06, 'wall_clock_time': 49.88128137588501, 'metric_for_logging': {'pred_time': 3.074390300806018e-06}, 'val_loss': 0.09133998222573325, 'trained_estimator': <flaml.automl.model.LGBMEstimator object at 0x7fec34eae310>}\n",
            "[flaml.tune.tune: 04-19 01:11:09] {701} INFO - Number of trials: 366/1000000, 2 RUNNING, 364 TERMINATED\n",
            "[flaml.tune.tune: 04-19 01:11:09] {721} INFO - Brief result: {'pred_time': 2.722377362458602e-06, 'wall_clock_time': 50.14736580848694, 'metric_for_logging': {'pred_time': 2.722377362458602e-06}, 'val_loss': 0.1112866594252987, 'trained_estimator': <flaml.automl.model.LGBMEstimator object at 0x7fec34e95c70>}\n",
            "[flaml.tune.tune: 04-19 01:11:09] {721} INFO - Brief result: {'pred_time': 2.9219233471414317e-06, 'wall_clock_time': 50.214579343795776, 'metric_for_logging': {'pred_time': 2.9219233471414317e-06}, 'val_loss': 0.10743556828280831, 'trained_estimator': <flaml.automl.model.LGBMEstimator object at 0x7fec34eae490>}\n",
            "[flaml.tune.tune: 04-19 01:11:09] {701} INFO - Number of trials: 368/1000000, 2 RUNNING, 366 TERMINATED\n",
            "[flaml.tune.tune: 04-19 01:11:09] {721} INFO - Brief result: {'pred_time': 5.849029706872028e-06, 'wall_clock_time': 50.3379693031311, 'metric_for_logging': {'pred_time': 5.849029706872028e-06}, 'val_loss': 0.10916362200059249, 'trained_estimator': <flaml.automl.model.LGBMEstimator object at 0x7fec34ee79a0>}\n",
            "[flaml.tune.tune: 04-19 01:11:09] {721} INFO - Brief result: {'pred_time': 5.63220701355865e-06, 'wall_clock_time': 50.41889691352844, 'metric_for_logging': {'pred_time': 5.63220701355865e-06}, 'val_loss': 0.33084822751061516, 'trained_estimator': <flaml.automl.model.LGBMEstimator object at 0x7fec34ee7b80>}\n",
            "[flaml.tune.tune: 04-19 01:11:09] {701} INFO - Number of trials: 370/1000000, 2 RUNNING, 368 TERMINATED\n",
            "[flaml.tune.tune: 04-19 01:11:09] {721} INFO - Brief result: {'pred_time': 3.191871919493744e-06, 'wall_clock_time': 50.70270562171936, 'metric_for_logging': {'pred_time': 3.191871919493744e-06}, 'val_loss': 0.0687765379678088, 'trained_estimator': <flaml.automl.model.LGBMEstimator object at 0x7fec34e95d90>}\n",
            "[flaml.tune.tune: 04-19 01:11:09] {721} INFO - Brief result: {'pred_time': 3.263872602711553e-05, 'wall_clock_time': 50.642518043518066, 'metric_for_logging': {'pred_time': 3.263872602711553e-05}, 'val_loss': 0.07795990915374751, 'trained_estimator': <flaml.automl.model.LGBMEstimator object at 0x7fec34e95580>}\n",
            "[flaml.tune.tune: 04-19 01:11:09] {701} INFO - Number of trials: 372/1000000, 2 RUNNING, 370 TERMINATED\n",
            "[flaml.tune.tune: 04-19 01:11:10] {721} INFO - Brief result: {'pred_time': 5.593766336855681e-06, 'wall_clock_time': 50.929919481277466, 'metric_for_logging': {'pred_time': 5.593766336855681e-06}, 'val_loss': 0.057963858990816686, 'trained_estimator': <flaml.automl.model.LGBMEstimator object at 0x7fec35093df0>}\n",
            "[flaml.tune.tune: 04-19 01:11:10] {721} INFO - Brief result: {'pred_time': 5.838663681693699e-06, 'wall_clock_time': 50.87266397476196, 'metric_for_logging': {'pred_time': 5.838663681693699e-06}, 'val_loss': 0.15932655277969787, 'trained_estimator': <flaml.automl.model.LGBMEstimator object at 0x7fec35093a90>}\n",
            "[flaml.tune.tune: 04-19 01:11:10] {701} INFO - Number of trials: 374/1000000, 2 RUNNING, 372 TERMINATED\n",
            "[flaml.tune.tune: 04-19 01:11:10] {721} INFO - Brief result: {'pred_time': 2.6696834011354307e-06, 'wall_clock_time': 51.000532150268555, 'metric_for_logging': {'pred_time': 2.6696834011354307e-06}, 'val_loss': 0.10077021822849808, 'trained_estimator': <flaml.automl.model.LGBMEstimator object at 0x7fec34e95fa0>}\n",
            "[flaml.tune.tune: 04-19 01:11:10] {721} INFO - Brief result: {'pred_time': 2.750020096267479e-06, 'wall_clock_time': 51.14569044113159, 'metric_for_logging': {'pred_time': 2.750020096267479e-06}, 'val_loss': 0.06201244198676803, 'trained_estimator': <flaml.automl.model.LGBMEstimator object at 0x7fec34eaed00>}\n",
            "[flaml.tune.tune: 04-19 01:11:10] {701} INFO - Number of trials: 376/1000000, 2 RUNNING, 374 TERMINATED\n",
            "[flaml.tune.tune: 04-19 01:11:10] {721} INFO - Brief result: {'pred_time': 9.440857431162959e-06, 'wall_clock_time': 51.30731511116028, 'metric_for_logging': {'pred_time': 9.440857431162959e-06}, 'val_loss': 0.12614792139824227, 'trained_estimator': <flaml.automl.model.LGBMEstimator object at 0x7fec350d59d0>}\n",
            "[flaml.tune.tune: 04-19 01:11:10] {721} INFO - Brief result: {'pred_time': 2.7193539384482563e-06, 'wall_clock_time': 51.22069048881531, 'metric_for_logging': {'pred_time': 2.7193539384482563e-06}, 'val_loss': 0.05974128567196613, 'trained_estimator': <flaml.automl.model.LGBMEstimator object at 0x7fec350d5eb0>}\n",
            "[flaml.tune.tune: 04-19 01:11:10] {701} INFO - Number of trials: 378/1000000, 2 RUNNING, 376 TERMINATED\n",
            "[flaml.tune.tune: 04-19 01:11:10] {721} INFO - Brief result: {'pred_time': 4.064345705336419e-06, 'wall_clock_time': 51.47393989562988, 'metric_for_logging': {'pred_time': 4.064345705336419e-06}, 'val_loss': 0.12817221289621805, 'trained_estimator': <flaml.automl.model.LGBMEstimator object at 0x7fec34ee7a30>}\n",
            "[flaml.tune.tune: 04-19 01:11:10] {721} INFO - Brief result: {'pred_time': 8.94847123519234e-06, 'wall_clock_time': 51.5119526386261, 'metric_for_logging': {'pred_time': 8.94847123519234e-06}, 'val_loss': 0.06852967315098257, 'trained_estimator': <flaml.automl.model.LGBMEstimator object at 0x7fec34ebd190>}\n",
            "[flaml.tune.tune: 04-19 01:11:10] {701} INFO - Number of trials: 380/1000000, 2 RUNNING, 378 TERMINATED\n",
            "[flaml.tune.tune: 04-19 01:11:10] {721} INFO - Brief result: {'pred_time': 5.768261094024216e-06, 'wall_clock_time': 51.628968477249146, 'metric_for_logging': {'pred_time': 5.768261094024216e-06}, 'val_loss': 0.0950923274414931, 'trained_estimator': <flaml.automl.model.LGBMEstimator object at 0x7fec35093a00>}\n",
            "[flaml.tune.tune: 04-19 01:11:10] {721} INFO - Brief result: {'pred_time': 5.9881072113479394e-06, 'wall_clock_time': 51.64580011367798, 'metric_for_logging': {'pred_time': 5.9881072113479394e-06}, 'val_loss': 0.16273328725190084, 'trained_estimator': <flaml.automl.model.LGBMEstimator object at 0x7fec35093040>}\n",
            "[flaml.tune.tune: 04-19 01:11:10] {701} INFO - Number of trials: 382/1000000, 2 RUNNING, 380 TERMINATED\n",
            "[flaml.tune.tune: 04-19 01:11:11] {721} INFO - Brief result: {'pred_time': 2.727128457332003e-06, 'wall_clock_time': 51.7838830947876, 'metric_for_logging': {'pred_time': 2.727128457332003e-06}, 'val_loss': 0.10911424903722733, 'trained_estimator': <flaml.automl.model.LGBMEstimator object at 0x7fec34e955b0>}\n",
            "[flaml.tune.tune: 04-19 01:11:11] {721} INFO - Brief result: {'pred_time': 6.249849347100741e-06, 'wall_clock_time': 51.96243190765381, 'metric_for_logging': {'pred_time': 6.249849347100741e-06}, 'val_loss': 0.08092228695566317, 'trained_estimator': <flaml.automl.model.LGBMEstimator object at 0x7fec34eae250>}\n",
            "[flaml.tune.tune: 04-19 01:11:11] {701} INFO - Number of trials: 384/1000000, 2 RUNNING, 382 TERMINATED\n",
            "[flaml.tune.tune: 04-19 01:11:11] {721} INFO - Brief result: {'pred_time': 9.159247080485025e-06, 'wall_clock_time': 52.274254322052, 'metric_for_logging': {'pred_time': 9.159247080485025e-06}, 'val_loss': 0.1033376123234917, 'trained_estimator': <flaml.automl.model.LGBMEstimator object at 0x7fec34ee7220>}\n",
            "[flaml.tune.tune: 04-19 01:11:11] {721} INFO - Brief result: {'pred_time': 5.88315120641736e-06, 'wall_clock_time': 52.08809208869934, 'metric_for_logging': {'pred_time': 5.88315120641736e-06}, 'val_loss': 0.08097165991902833, 'trained_estimator': <flaml.automl.model.LGBMEstimator object at 0x7fec34ee76a0>}\n",
            "[flaml.tune.tune: 04-19 01:11:11] {701} INFO - Number of trials: 386/1000000, 2 RUNNING, 384 TERMINATED\n",
            "[flaml.tune.tune: 04-19 01:11:11] {721} INFO - Brief result: {'pred_time': 2.42910523345505e-06, 'wall_clock_time': 52.34836435317993, 'metric_for_logging': {'pred_time': 2.42910523345505e-06}, 'val_loss': 0.09459859780784052, 'trained_estimator': <flaml.automl.model.LGBMEstimator object at 0x7fec34e5b2e0>}\n",
            "[flaml.tune.tune: 04-19 01:11:11] {721} INFO - Brief result: {'pred_time': 2.661390580992768e-05, 'wall_clock_time': 52.442232847213745, 'metric_for_logging': {'pred_time': 2.661390580992768e-05}, 'val_loss': 0.05840821566110388, 'trained_estimator': <flaml.automl.model.LGBMEstimator object at 0x7fec350d5940>}\n",
            "[flaml.tune.tune: 04-19 01:11:11] {701} INFO - Number of trials: 388/1000000, 2 RUNNING, 386 TERMINATED\n",
            "[flaml.tune.tune: 04-19 01:11:11] {721} INFO - Brief result: {'pred_time': 6.209249081818954e-06, 'wall_clock_time': 52.53273391723633, 'metric_for_logging': {'pred_time': 6.209249081818954e-06}, 'val_loss': 0.09341364668707419, 'trained_estimator': <flaml.automl.model.LGBMEstimator object at 0x7fec34eae580>}\n",
            "[flaml.tune.tune: 04-19 01:11:11] {721} INFO - Brief result: {'pred_time': 5.693971246912859e-06, 'wall_clock_time': 52.75709676742554, 'metric_for_logging': {'pred_time': 5.693971246912859e-06}, 'val_loss': 0.07178828873308973, 'trained_estimator': <flaml.automl.model.LGBMEstimator object at 0x7fec34eae550>}\n",
            "[flaml.tune.tune: 04-19 01:11:11] {701} INFO - Number of trials: 390/1000000, 2 RUNNING, 388 TERMINATED\n",
            "[flaml.tune.tune: 04-19 01:11:12] {721} INFO - Brief result: {'pred_time': 5.756167397982832e-06, 'wall_clock_time': 53.0208683013916, 'metric_for_logging': {'pred_time': 5.756167397982832e-06}, 'val_loss': 0.08487212402488409, 'trained_estimator': <flaml.automl.model.LGBMEstimator object at 0x7fec34e95520>}\n",
            "[flaml.tune.tune: 04-19 01:11:12] {721} INFO - Brief result: {'pred_time': 7.866085439488508e-06, 'wall_clock_time': 53.00402307510376, 'metric_for_logging': {'pred_time': 7.866085439488508e-06}, 'val_loss': 0.09291991705342162, 'trained_estimator': <flaml.automl.model.LGBMEstimator object at 0x7fec34e5be80>}\n",
            "[flaml.tune.tune: 04-19 01:11:12] {701} INFO - Number of trials: 392/1000000, 2 RUNNING, 390 TERMINATED\n",
            "[flaml.tune.tune: 04-19 01:11:12] {721} INFO - Brief result: {'pred_time': 2.5457662084828254e-05, 'wall_clock_time': 53.187580585479736, 'metric_for_logging': {'pred_time': 2.5457662084828254e-05}, 'val_loss': 0.06290115532734275, 'trained_estimator': <flaml.automl.model.LGBMEstimator object at 0x7fec350d5a00>}\n",
            "[flaml.tune.tune: 04-19 01:11:12] {721} INFO - Brief result: {'pred_time': 2.709851748701455e-06, 'wall_clock_time': 53.09220004081726, 'metric_for_logging': {'pred_time': 2.709851748701455e-06}, 'val_loss': 0.09923965636417509, 'trained_estimator': <flaml.automl.model.LGBMEstimator object at 0x7fec34ebd4f0>}\n",
            "[flaml.tune.tune: 04-19 01:11:12] {701} INFO - Number of trials: 394/1000000, 2 RUNNING, 392 TERMINATED\n",
            "[flaml.tune.tune: 04-19 01:11:12] {721} INFO - Brief result: {'pred_time': 9.354905805725982e-06, 'wall_clock_time': 53.32613658905029, 'metric_for_logging': {'pred_time': 9.354905805725982e-06}, 'val_loss': 0.06304927421743856, 'trained_estimator': <flaml.automl.model.LGBMEstimator object at 0x7fec34eae5e0>}\n",
            "[flaml.tune.tune: 04-19 01:11:12] {721} INFO - Brief result: {'pred_time': 5.845142447430154e-06, 'wall_clock_time': 53.292086124420166, 'metric_for_logging': {'pred_time': 5.845142447430154e-06}, 'val_loss': 0.052285968203811595, 'trained_estimator': <flaml.automl.model.LGBMEstimator object at 0x7fec34e95850>}\n",
            "[flaml.tune.tune: 04-19 01:11:12] {701} INFO - Number of trials: 396/1000000, 2 RUNNING, 394 TERMINATED\n",
            "[flaml.tune.tune: 04-19 01:11:12] {721} INFO - Brief result: {'pred_time': 2.6731387428615405e-06, 'wall_clock_time': 53.54794144630432, 'metric_for_logging': {'pred_time': 2.6731387428615405e-06}, 'val_loss': 0.13488693591389356, 'trained_estimator': <flaml.automl.model.LGBMEstimator object at 0x7fec34e37880>}\n",
            "[flaml.tune.tune: 04-19 01:11:12] {721} INFO - Brief result: {'pred_time': 2.5841636934142183e-06, 'wall_clock_time': 53.45198321342468, 'metric_for_logging': {'pred_time': 2.5841636934142183e-06}, 'val_loss': 0.05988940456206182, 'trained_estimator': <flaml.automl.model.LGBMEstimator object at 0x7fec34e379d0>}\n",
            "[flaml.tune.tune: 04-19 01:11:12] {701} INFO - Number of trials: 398/1000000, 2 RUNNING, 396 TERMINATED\n",
            "[flaml.tune.tune: 04-19 01:11:12] {721} INFO - Brief result: {'pred_time': 2.718490103016729e-06, 'wall_clock_time': 53.65571451187134, 'metric_for_logging': {'pred_time': 2.718490103016729e-06}, 'val_loss': 0.10659622790559897, 'trained_estimator': <flaml.automl.model.LGBMEstimator object at 0x7fec34e95730>}\n",
            "[flaml.tune.tune: 04-19 01:11:12] {721} INFO - Brief result: {'pred_time': 5.923751471699148e-06, 'wall_clock_time': 53.73057174682617, 'metric_for_logging': {'pred_time': 5.923751471699148e-06}, 'val_loss': 0.06828280833415623, 'trained_estimator': <flaml.automl.model.LGBMEstimator object at 0x7fec34eaee50>}\n",
            "[flaml.tune.tune: 04-19 01:11:12] {701} INFO - Number of trials: 400/1000000, 2 RUNNING, 398 TERMINATED\n",
            "[flaml.tune.tune: 04-19 01:11:13] {721} INFO - Brief result: {'pred_time': 6.254514058430989e-05, 'wall_clock_time': 53.85580897331238, 'metric_for_logging': {'pred_time': 6.254514058430989e-05}, 'val_loss': 0.10610249827194629, 'trained_estimator': <flaml.automl.model.LGBMEstimator object at 0x7fec34de1580>}\n",
            "[flaml.tune.tune: 04-19 01:11:13] {721} INFO - Brief result: {'pred_time': 8.861223856608072e-06, 'wall_clock_time': 53.9481360912323, 'metric_for_logging': {'pred_time': 8.861223856608072e-06}, 'val_loss': 0.21482176360225136, 'trained_estimator': <flaml.automl.model.LGBMEstimator object at 0x7fec34de1460>}\n",
            "[flaml.tune.tune: 04-19 01:11:13] {701} INFO - Number of trials: 402/1000000, 2 RUNNING, 400 TERMINATED\n",
            "[flaml.tune.tune: 04-19 01:11:13] {721} INFO - Brief result: {'pred_time': 2.9111254042473393e-06, 'wall_clock_time': 54.04872703552246, 'metric_for_logging': {'pred_time': 2.9111254042473393e-06}, 'val_loss': 0.12456798657055401, 'trained_estimator': <flaml.automl.model.LGBMEstimator object at 0x7fec34e95b80>}\n",
            "[flaml.tune.tune: 04-19 01:11:13] {721} INFO - Brief result: {'pred_time': 5.925911060277967e-06, 'wall_clock_time': 54.12918782234192, 'metric_for_logging': {'pred_time': 5.925911060277967e-06}, 'val_loss': 0.08334156216056088, 'trained_estimator': <flaml.automl.model.LGBMEstimator object at 0x7fec34de15e0>}\n",
            "[flaml.tune.tune: 04-19 01:11:13] {701} INFO - Number of trials: 404/1000000, 2 RUNNING, 402 TERMINATED\n",
            "[flaml.tune.tune: 04-19 01:11:13] {721} INFO - Brief result: {'pred_time': 6.305566732434259e-06, 'wall_clock_time': 54.425273418426514, 'metric_for_logging': {'pred_time': 6.305566732434259e-06}, 'val_loss': 0.06581416016589325, 'trained_estimator': <flaml.automl.model.LGBMEstimator object at 0x7fec34e37a00>}\n",
            "[flaml.tune.tune: 04-19 01:11:13] {721} INFO - Brief result: {'pred_time': 5.417975826539855e-06, 'wall_clock_time': 54.432724952697754, 'metric_for_logging': {'pred_time': 5.417975826539855e-06}, 'val_loss': 0.08121852473585456, 'trained_estimator': <flaml.automl.model.LGBMEstimator object at 0x7fec34e37130>}\n",
            "[flaml.tune.tune: 04-19 01:11:13] {701} INFO - Number of trials: 406/1000000, 2 RUNNING, 404 TERMINATED\n",
            "[flaml.tune.tune: 04-19 01:11:13] {721} INFO - Brief result: {'pred_time': 2.8342440508414004e-06, 'wall_clock_time': 54.677727460861206, 'metric_for_logging': {'pred_time': 2.8342440508414004e-06}, 'val_loss': 0.08245284881998627, 'trained_estimator': <flaml.automl.model.LGBMEstimator object at 0x7fec34e5b280>}\n",
            "[flaml.tune.tune: 04-19 01:11:13] {721} INFO - Brief result: {'pred_time': 3.6725963371387427e-06, 'wall_clock_time': 54.54199457168579, 'metric_for_logging': {'pred_time': 3.6725963371387427e-06}, 'val_loss': 0.04848425002468648, 'trained_estimator': <flaml.automl.model.LGBMEstimator object at 0x7fec34e95610>}\n",
            "[flaml.tune.tune: 04-19 01:11:13] {701} INFO - Number of trials: 408/1000000, 2 RUNNING, 406 TERMINATED\n",
            "[flaml.tune.tune: 04-19 01:11:14] {721} INFO - Brief result: {'pred_time': 8.517849272575932e-06, 'wall_clock_time': 54.82688546180725, 'metric_for_logging': {'pred_time': 8.517849272575932e-06}, 'val_loss': 0.13824429742273137, 'trained_estimator': <flaml.automl.model.LGBMEstimator object at 0x7fec34e5ba00>}\n",
            "[flaml.tune.tune: 04-19 01:11:14] {721} INFO - Brief result: {'pred_time': 2.690847369207852e-06, 'wall_clock_time': 54.766968965530396, 'metric_for_logging': {'pred_time': 2.690847369207852e-06}, 'val_loss': 0.05485336229880522, 'trained_estimator': <flaml.automl.model.LGBMEstimator object at 0x7fec34d8c760>}\n",
            "[flaml.tune.tune: 04-19 01:11:14] {701} INFO - Number of trials: 410/1000000, 2 RUNNING, 408 TERMINATED\n",
            "[flaml.tune.tune: 04-19 01:11:14] {721} INFO - Brief result: {'pred_time': 2.8182630953581436e-06, 'wall_clock_time': 54.97231888771057, 'metric_for_logging': {'pred_time': 2.8182630953581436e-06}, 'val_loss': 0.21358743951811998, 'trained_estimator': <flaml.automl.model.LGBMEstimator object at 0x7fec34e95460>}\n",
            "[flaml.tune.tune: 04-19 01:11:14] {721} INFO - Brief result: {'pred_time': 2.9206275939941406e-06, 'wall_clock_time': 54.98260712623596, 'metric_for_logging': {'pred_time': 2.9206275939941406e-06}, 'val_loss': 0.07356571541423917, 'trained_estimator': <flaml.automl.model.LGBMEstimator object at 0x7fec34d8c2e0>}\n",
            "[flaml.tune.tune: 04-19 01:11:14] {701} INFO - Number of trials: 412/1000000, 2 RUNNING, 410 TERMINATED\n",
            "[flaml.tune.tune: 04-19 01:11:14] {721} INFO - Brief result: {'pred_time': 1.0324561077615488e-05, 'wall_clock_time': 55.19045925140381, 'metric_for_logging': {'pred_time': 1.0324561077615488e-05}, 'val_loss': 0.09084625259208057, 'trained_estimator': <flaml.automl.model.LGBMEstimator object at 0x7fec34e95bb0>}\n",
            "[flaml.tune.tune: 04-19 01:11:14] {721} INFO - Brief result: {'pred_time': 2.7608180391615717e-06, 'wall_clock_time': 55.1554594039917, 'metric_for_logging': {'pred_time': 2.7608180391615717e-06}, 'val_loss': 0.09701787301273823, 'trained_estimator': <flaml.automl.model.LGBMEstimator object at 0x7fec34d8ca30>}\n",
            "[flaml.tune.tune: 04-19 01:11:14] {701} INFO - Number of trials: 414/1000000, 2 RUNNING, 412 TERMINATED\n",
            "[flaml.tune.tune: 04-19 01:11:14] {721} INFO - Brief result: {'pred_time': 5.730684252752774e-06, 'wall_clock_time': 55.54926371574402, 'metric_for_logging': {'pred_time': 5.730684252752774e-06}, 'val_loss': 0.10111582897205496, 'trained_estimator': <flaml.automl.model.LGBMEstimator object at 0x7fec34d8caf0>}\n",
            "[flaml.tune.tune: 04-19 01:11:14] {721} INFO - Brief result: {'pred_time': 5.923751471699148e-06, 'wall_clock_time': 55.381755352020264, 'metric_for_logging': {'pred_time': 5.923751471699148e-06}, 'val_loss': 0.08595832921891988, 'trained_estimator': <flaml.automl.model.LGBMEstimator object at 0x7fec34de1790>}\n",
            "[flaml.tune.tune: 04-19 01:11:14] {701} INFO - Number of trials: 416/1000000, 2 RUNNING, 414 TERMINATED\n",
            "[flaml.tune.tune: 04-19 01:11:14] {721} INFO - Brief result: {'pred_time': 2.594529718592547e-06, 'wall_clock_time': 55.66962146759033, 'metric_for_logging': {'pred_time': 2.594529718592547e-06}, 'val_loss': 0.07850301175076546, 'trained_estimator': <flaml.automl.model.LGBMEstimator object at 0x7fec34e5b7c0>}\n",
            "[flaml.tune.tune: 04-19 01:11:14] {721} INFO - Brief result: {'pred_time': 1.4396681301835654e-05, 'wall_clock_time': 55.6902801990509, 'metric_for_logging': {'pred_time': 1.4396681301835654e-05}, 'val_loss': 0.06092623679273235, 'trained_estimator': <flaml.automl.model.LGBMEstimator object at 0x7fec34e5bc10>}\n",
            "[flaml.tune.tune: 04-19 01:11:14] {701} INFO - Number of trials: 418/1000000, 2 RUNNING, 416 TERMINATED\n",
            "[flaml.tune.tune: 04-19 01:11:15] {721} INFO - Brief result: {'pred_time': 6.6683776136757675e-06, 'wall_clock_time': 55.90080142021179, 'metric_for_logging': {'pred_time': 6.6683776136757675e-06}, 'val_loss': 0.07267700207366456, 'trained_estimator': <flaml.automl.model.LGBMEstimator object at 0x7fec34e37b50>}\n",
            "[flaml.tune.tune: 04-19 01:11:15] {721} INFO - Brief result: {'pred_time': 9.944905405459197e-06, 'wall_clock_time': 55.809242725372314, 'metric_for_logging': {'pred_time': 9.944905405459197e-06}, 'val_loss': 0.09420361410091838, 'trained_estimator': <flaml.automl.model.LGBMEstimator object at 0x7fec34de10a0>}\n",
            "[flaml.tune.tune: 04-19 01:11:15] {701} INFO - Number of trials: 420/1000000, 2 RUNNING, 418 TERMINATED\n",
            "[flaml.tune.tune: 04-19 01:11:15] {721} INFO - Brief result: {'pred_time': 6.050735280133676e-06, 'wall_clock_time': 56.164353370666504, 'metric_for_logging': {'pred_time': 6.050735280133676e-06}, 'val_loss': 0.11400217241038824, 'trained_estimator': <flaml.automl.model.LGBMEstimator object at 0x7fec34ee7610>}\n",
            "[flaml.tune.tune: 04-19 01:11:15] {721} INFO - Brief result: {'pred_time': 6.120274032371632e-06, 'wall_clock_time': 56.01582479476929, 'metric_for_logging': {'pred_time': 6.120274032371632e-06}, 'val_loss': 0.04863236891478229, 'trained_estimator': <flaml.automl.model.LGBMEstimator object at 0x7fec34ee7af0>}\n",
            "[flaml.tune.tune: 04-19 01:11:15] {701} INFO - Number of trials: 422/1000000, 2 RUNNING, 420 TERMINATED\n",
            "[flaml.tune.tune: 04-19 01:11:15] {721} INFO - Brief result: {'pred_time': 6.684790486874788e-06, 'wall_clock_time': 56.35014271736145, 'metric_for_logging': {'pred_time': 6.684790486874788e-06}, 'val_loss': 0.06902340278463515, 'trained_estimator': <flaml.automl.model.LGBMEstimator object at 0x7fec34de1160>}\n",
            "[flaml.tune.tune: 04-19 01:11:15] {721} INFO - Brief result: {'pred_time': 2.4718650873156562e-06, 'wall_clock_time': 56.273961305618286, 'metric_for_logging': {'pred_time': 2.4718650873156562e-06}, 'val_loss': 0.16317764392218825, 'trained_estimator': <flaml.automl.model.LGBMEstimator object at 0x7fec34de1280>}\n",
            "[flaml.tune.tune: 04-19 01:11:15] {701} INFO - Number of trials: 424/1000000, 2 RUNNING, 422 TERMINATED\n",
            "[flaml.tune.tune: 04-19 01:11:15] {721} INFO - Brief result: {'pred_time': 4.131292951279792e-06, 'wall_clock_time': 56.527623414993286, 'metric_for_logging': {'pred_time': 4.131292951279792e-06}, 'val_loss': 0.12007504690431514, 'trained_estimator': <flaml.automl.model.LGBMEstimator object at 0x7fec34e5bf40>}\n",
            "[flaml.tune.tune: 04-19 01:11:15] {721} INFO - Brief result: {'pred_time': 2.805305563885233e-06, 'wall_clock_time': 56.48895716667175, 'metric_for_logging': {'pred_time': 2.805305563885233e-06}, 'val_loss': 0.07233139133010769, 'trained_estimator': <flaml.automl.model.LGBMEstimator object at 0x7fec34e5b670>}\n",
            "[flaml.tune.tune: 04-19 01:11:15] {701} INFO - Number of trials: 426/1000000, 2 RUNNING, 424 TERMINATED\n",
            "[flaml.tune.tune: 04-19 01:11:15] {721} INFO - Brief result: {'pred_time': 2.6951665463654892e-06, 'wall_clock_time': 56.61201238632202, 'metric_for_logging': {'pred_time': 2.6951665463654892e-06}, 'val_loss': 0.08640268588920708, 'trained_estimator': <flaml.automl.model.LGBMEstimator object at 0x7fec34de1910>}\n",
            "[flaml.tune.tune: 04-19 01:11:15] {721} INFO - Brief result: {'pred_time': 2.583299857982691e-06, 'wall_clock_time': 56.75276756286621, 'metric_for_logging': {'pred_time': 2.583299857982691e-06}, 'val_loss': 0.07805865508047793, 'trained_estimator': <flaml.automl.model.LGBMEstimator object at 0x7fec34e37c40>}\n",
            "[flaml.tune.tune: 04-19 01:11:15] {701} INFO - Number of trials: 428/1000000, 2 RUNNING, 426 TERMINATED\n",
            "[flaml.tune.tune: 04-19 01:11:16] {721} INFO - Brief result: {'pred_time': 2.8942806133325547e-06, 'wall_clock_time': 56.92208170890808, 'metric_for_logging': {'pred_time': 2.8942806133325547e-06}, 'val_loss': 0.0741581909746224, 'trained_estimator': <flaml.automl.model.LGBMEstimator object at 0x7fec34d3abb0>}\n",
            "[flaml.tune.tune: 04-19 01:11:16] {721} INFO - Brief result: {'pred_time': 2.1483155264370684e-05, 'wall_clock_time': 56.88188314437866, 'metric_for_logging': {'pred_time': 2.1483155264370684e-05}, 'val_loss': 0.09252493334649958, 'trained_estimator': <flaml.automl.model.LGBMEstimator object at 0x7fec34d3a550>}\n",
            "[flaml.tune.tune: 04-19 01:11:16] {701} INFO - Number of trials: 430/1000000, 2 RUNNING, 428 TERMINATED\n",
            "[flaml.tune.tune: 04-19 01:11:16] {721} INFO - Brief result: {'pred_time': 2.805305563885233e-06, 'wall_clock_time': 57.00736331939697, 'metric_for_logging': {'pred_time': 2.805305563885233e-06}, 'val_loss': 0.0736644613409696, 'trained_estimator': <flaml.automl.model.LGBMEstimator object at 0x7fec34de1e20>}\n",
            "[flaml.tune.tune: 04-19 01:11:16] {721} INFO - Brief result: {'pred_time': 2.6904154514920884e-06, 'wall_clock_time': 57.13954186439514, 'metric_for_logging': {'pred_time': 2.6904154514920884e-06}, 'val_loss': 0.17705144662782657, 'trained_estimator': <flaml.automl.model.LGBMEstimator object at 0x7fec35093100>}\n",
            "[flaml.tune.tune: 04-19 01:11:16] {701} INFO - Number of trials: 432/1000000, 2 RUNNING, 430 TERMINATED\n",
            "[flaml.tune.tune: 04-19 01:11:16] {721} INFO - Brief result: {'pred_time': 6.023092546324799e-06, 'wall_clock_time': 57.27061152458191, 'metric_for_logging': {'pred_time': 6.023092546324799e-06}, 'val_loss': 0.05840821566110388, 'trained_estimator': <flaml.automl.model.LGBMEstimator object at 0x7fec34e5b520>}\n",
            "[flaml.tune.tune: 04-19 01:11:16] {721} INFO - Brief result: {'pred_time': 2.7590903682985166e-06, 'wall_clock_time': 57.24157786369324, 'metric_for_logging': {'pred_time': 2.7590903682985166e-06}, 'val_loss': 0.09543793818504986, 'trained_estimator': <flaml.automl.model.LGBMEstimator object at 0x7fec34e37460>}\n",
            "[flaml.tune.tune: 04-19 01:11:16] {701} INFO - Number of trials: 434/1000000, 2 RUNNING, 432 TERMINATED\n",
            "[flaml.tune.tune: 04-19 01:11:16] {721} INFO - Brief result: {'pred_time': 8.891458096711531e-06, 'wall_clock_time': 57.404789209365845, 'metric_for_logging': {'pred_time': 8.891458096711531e-06}, 'val_loss': 0.09380863039399634, 'trained_estimator': <flaml.automl.model.LGBMEstimator object at 0x7fec34d8cd00>}\n",
            "[flaml.tune.tune: 04-19 01:11:16] {721} INFO - Brief result: {'pred_time': 2.835539803988692e-06, 'wall_clock_time': 57.5037739276886, 'metric_for_logging': {'pred_time': 2.835539803988692e-06}, 'val_loss': 0.08339093512392626, 'trained_estimator': <flaml.automl.model.LGBMEstimator object at 0x7fec34de1100>}\n",
            "[flaml.tune.tune: 04-19 01:11:16] {701} INFO - Number of trials: 436/1000000, 2 RUNNING, 434 TERMINATED\n",
            "[flaml.tune.tune: 04-19 01:11:16] {721} INFO - Brief result: {'pred_time': 5.978605021601138e-06, 'wall_clock_time': 57.60341668128967, 'metric_for_logging': {'pred_time': 5.978605021601138e-06}, 'val_loss': 0.051397254863236985, 'trained_estimator': <flaml.automl.model.LGBMEstimator object at 0x7fec34d198e0>}\n",
            "[flaml.tune.tune: 04-19 01:11:16] {721} INFO - Brief result: {'pred_time': 3.007011137146881e-06, 'wall_clock_time': 57.65639519691467, 'metric_for_logging': {'pred_time': 3.007011137146881e-06}, 'val_loss': 0.11543398834798069, 'trained_estimator': <flaml.automl.model.LGBMEstimator object at 0x7fec34d196a0>}\n",
            "[flaml.tune.tune: 04-19 01:11:16] {701} INFO - Number of trials: 438/1000000, 2 RUNNING, 436 TERMINATED\n",
            "[flaml.tune.tune: 04-19 01:11:17] {721} INFO - Brief result: {'pred_time': 6.969424261563066e-06, 'wall_clock_time': 57.96469497680664, 'metric_for_logging': {'pred_time': 6.969424261563066e-06}, 'val_loss': 0.08798262071689544, 'trained_estimator': <flaml.automl.model.LGBMEstimator object at 0x7fec34d191c0>}\n",
            "[flaml.tune.tune: 04-19 01:11:17] {721} INFO - Brief result: {'pred_time': 6.382880003555961e-06, 'wall_clock_time': 57.78635215759277, 'metric_for_logging': {'pred_time': 6.382880003555961e-06}, 'val_loss': 0.11716204206576497, 'trained_estimator': <flaml.automl.model.LGBMEstimator object at 0x7fec34d8c4f0>}\n",
            "[flaml.tune.tune: 04-19 01:11:17] {701} INFO - Number of trials: 440/1000000, 2 RUNNING, 438 TERMINATED\n",
            "[flaml.tune.tune: 04-19 01:11:17] {721} INFO - Brief result: {'pred_time': 6.960353989532028e-06, 'wall_clock_time': 58.084784269332886, 'metric_for_logging': {'pred_time': 6.960353989532028e-06}, 'val_loss': 0.10116520193542022, 'trained_estimator': <flaml.automl.model.LGBMEstimator object at 0x7fec34e37eb0>}\n",
            "[flaml.tune.tune: 04-19 01:11:17] {721} INFO - Brief result: {'pred_time': 4.088533097419186e-06, 'wall_clock_time': 58.083258628845215, 'metric_for_logging': {'pred_time': 4.088533097419186e-06}, 'val_loss': 0.056137059346301976, 'trained_estimator': <flaml.automl.model.LGBMEstimator object at 0x7fec34e37f70>}\n",
            "[flaml.tune.tune: 04-19 01:11:17] {701} INFO - Number of trials: 442/1000000, 2 RUNNING, 440 TERMINATED\n",
            "[flaml.tune.tune: 04-19 01:11:17] {721} INFO - Brief result: {'pred_time': 8.479408595872963e-06, 'wall_clock_time': 58.22364544868469, 'metric_for_logging': {'pred_time': 8.479408595872963e-06}, 'val_loss': 0.12007504690431525, 'trained_estimator': <flaml.automl.model.LGBMEstimator object at 0x7fec34d8c160>}\n",
            "[flaml.tune.tune: 04-19 01:11:17] {721} INFO - Brief result: {'pred_time': 1.3571286547011223e-05, 'wall_clock_time': 58.23431181907654, 'metric_for_logging': {'pred_time': 1.3571286547011223e-05}, 'val_loss': 0.06354300385109113, 'trained_estimator': <flaml.automl.model.LGBMEstimator object at 0x7fec34d19910>}\n",
            "[flaml.tune.tune: 04-19 01:11:17] {701} INFO - Number of trials: 444/1000000, 2 RUNNING, 442 TERMINATED\n",
            "[flaml.tune.tune: 04-19 01:11:17] {721} INFO - Brief result: {'pred_time': 3.421220226564269e-06, 'wall_clock_time': 58.33852028846741, 'metric_for_logging': {'pred_time': 3.421220226564269e-06}, 'val_loss': 0.0461637207465192, 'trained_estimator': <flaml.automl.model.LGBMEstimator object at 0x7fec34cc2940>}\n",
            "[flaml.tune.tune: 04-19 01:11:17] {721} INFO - Brief result: {'pred_time': 6.137982658717943e-06, 'wall_clock_time': 58.38371539115906, 'metric_for_logging': {'pred_time': 6.137982658717943e-06}, 'val_loss': 0.09361113854053527, 'trained_estimator': <flaml.automl.model.LGBMEstimator object at 0x7fec34cc2ac0>}\n",
            "[flaml.tune.tune: 04-19 01:11:17] {701} INFO - Number of trials: 446/1000000, 2 RUNNING, 444 TERMINATED\n",
            "[flaml.tune.tune: 04-19 01:11:17] {721} INFO - Brief result: {'pred_time': 5.828729574231134e-06, 'wall_clock_time': 58.52914047241211, 'metric_for_logging': {'pred_time': 5.828729574231134e-06}, 'val_loss': 0.06852967315098257, 'trained_estimator': <flaml.automl.model.LGBMEstimator object at 0x7fec34d8cca0>}\n",
            "[flaml.tune.tune: 04-19 01:11:17] {721} INFO - Brief result: {'pred_time': 3.4436799477839815e-06, 'wall_clock_time': 58.49435234069824, 'metric_for_logging': {'pred_time': 3.4436799477839815e-06}, 'val_loss': 0.10792929791646111, 'trained_estimator': <flaml.automl.model.LGBMEstimator object at 0x7fec34d19b80>}\n",
            "[flaml.tune.tune: 04-19 01:11:17] {701} INFO - Number of trials: 448/1000000, 2 RUNNING, 446 TERMINATED\n",
            "[flaml.tune.tune: 04-19 01:11:17] {721} INFO - Brief result: {'pred_time': 2.9461107392241988e-06, 'wall_clock_time': 58.64449882507324, 'metric_for_logging': {'pred_time': 2.9461107392241988e-06}, 'val_loss': 0.06601165201935422, 'trained_estimator': <flaml.automl.model.LGBMEstimator object at 0x7fec34ced100>}\n",
            "[flaml.tune.tune: 04-19 01:11:17] {721} INFO - Brief result: {'pred_time': 6.038209666376528e-06, 'wall_clock_time': 58.666993618011475, 'metric_for_logging': {'pred_time': 6.038209666376528e-06}, 'val_loss': 0.08526710773180612, 'trained_estimator': <flaml.automl.model.LGBMEstimator object at 0x7fec34d8c880>}\n",
            "[flaml.tune.tune: 04-19 01:11:17] {701} INFO - Number of trials: 450/1000000, 2 RUNNING, 448 TERMINATED\n",
            "[flaml.tune.tune: 04-19 01:11:17] {721} INFO - Brief result: {'pred_time': 2.924946771151778e-06, 'wall_clock_time': 58.79150605201721, 'metric_for_logging': {'pred_time': 2.924946771151778e-06}, 'val_loss': 0.05840821566110399, 'trained_estimator': <flaml.automl.model.LGBMEstimator object at 0x7fec34de1ca0>}\n",
            "[flaml.tune.tune: 04-19 01:11:17] {721} INFO - Brief result: {'pred_time': 5.7293884996054825e-06, 'wall_clock_time': 58.808069705963135, 'metric_for_logging': {'pred_time': 5.7293884996054825e-06}, 'val_loss': 0.05717389157697239, 'trained_estimator': <flaml.automl.model.LGBMEstimator object at 0x7fec34de16a0>}\n",
            "[flaml.tune.tune: 04-19 01:11:17] {701} INFO - Number of trials: 452/1000000, 2 RUNNING, 450 TERMINATED\n",
            "[flaml.tune.tune: 04-19 01:11:18] {721} INFO - Brief result: {'pred_time': 5.896540655606035e-06, 'wall_clock_time': 58.95470404624939, 'metric_for_logging': {'pred_time': 5.896540655606035e-06}, 'val_loss': 0.0776636713735559, 'trained_estimator': <flaml.automl.model.LGBMEstimator object at 0x7fec34cc23a0>}\n",
            "[flaml.tune.tune: 04-19 01:11:18] {721} INFO - Brief result: {'pred_time': 1.275496206421783e-05, 'wall_clock_time': 59.13272428512573, 'metric_for_logging': {'pred_time': 1.275496206421783e-05}, 'val_loss': 0.1166189394687468, 'trained_estimator': <flaml.automl.model.LGBMEstimator object at 0x7fec34cc2cd0>}\n",
            "[flaml.tune.tune: 04-19 01:11:18] {701} INFO - Number of trials: 454/1000000, 2 RUNNING, 452 TERMINATED\n",
            "[flaml.tune.tune: 04-19 01:11:18] {721} INFO - Brief result: {'pred_time': 6.439461224321006e-06, 'wall_clock_time': 59.39792513847351, 'metric_for_logging': {'pred_time': 6.439461224321006e-06}, 'val_loss': 0.11528586945788488, 'trained_estimator': <flaml.automl.model.LGBMEstimator object at 0x7fec34d19df0>}\n",
            "[flaml.tune.tune: 04-19 01:11:18] {721} INFO - Brief result: {'pred_time': 5.8434147765671e-06, 'wall_clock_time': 59.28473091125488, 'metric_for_logging': {'pred_time': 5.8434147765671e-06}, 'val_loss': 0.1259504295447813, 'trained_estimator': <flaml.automl.model.LGBMEstimator object at 0x7fec34cedc40>}\n",
            "[flaml.tune.tune: 04-19 01:11:18] {701} INFO - Number of trials: 456/1000000, 2 RUNNING, 454 TERMINATED\n",
            "[flaml.tune.tune: 04-19 01:11:18] {721} INFO - Brief result: {'pred_time': 5.742346031078394e-06, 'wall_clock_time': 59.60823345184326, 'metric_for_logging': {'pred_time': 5.742346031078394e-06}, 'val_loss': 0.07070208353905405, 'trained_estimator': <flaml.automl.model.LGBMEstimator object at 0x7fec34d8cdf0>}\n",
            "[flaml.tune.tune: 04-19 01:11:18] {721} INFO - Brief result: {'pred_time': 5.849029706872028e-06, 'wall_clock_time': 59.67988133430481, 'metric_for_logging': {'pred_time': 5.849029706872028e-06}, 'val_loss': 0.08062604917547156, 'trained_estimator': <flaml.automl.model.LGBMEstimator object at 0x7fec34de1670>}\n",
            "[flaml.tune.tune: 04-19 01:11:18] {701} INFO - Number of trials: 458/1000000, 2 RUNNING, 456 TERMINATED\n",
            "[flaml.tune.tune: 04-19 01:11:19] {721} INFO - Brief result: {'pred_time': 5.664168924525164e-06, 'wall_clock_time': 59.888566970825195, 'metric_for_logging': {'pred_time': 5.664168924525164e-06}, 'val_loss': 0.09632665152562458, 'trained_estimator': <flaml.automl.model.LGBMEstimator object at 0x7fec34c88a00>}\n",
            "[flaml.tune.tune: 04-19 01:11:19] {721} INFO - Brief result: {'pred_time': 2.696894217228544e-06, 'wall_clock_time': 59.753591537475586, 'metric_for_logging': {'pred_time': 2.696894217228544e-06}, 'val_loss': 0.06941838649155718, 'trained_estimator': <flaml.automl.model.LGBMEstimator object at 0x7fec34cedeb0>}\n",
            "[flaml.tune.tune: 04-19 01:11:19] {701} INFO - Number of trials: 460/1000000, 2 RUNNING, 458 TERMINATED\n",
            "[flaml.tune.tune: 04-19 01:11:19] {721} INFO - Brief result: {'pred_time': 1.2012063593104266e-05, 'wall_clock_time': 60.01166772842407, 'metric_for_logging': {'pred_time': 1.2012063593104266e-05}, 'val_loss': 0.06255554458378598, 'trained_estimator': <flaml.automl.model.LGBMEstimator object at 0x7fec34c88640>}\n",
            "[flaml.tune.tune: 04-19 01:11:19] {721} INFO - Brief result: {'pred_time': 2.9016232145005376e-06, 'wall_clock_time': 60.00053381919861, 'metric_for_logging': {'pred_time': 2.9016232145005376e-06}, 'val_loss': 0.09810407820677403, 'trained_estimator': <flaml.automl.model.LGBMEstimator object at 0x7fec34c88c10>}\n",
            "[flaml.tune.tune: 04-19 01:11:19] {701} INFO - Number of trials: 462/1000000, 2 RUNNING, 460 TERMINATED\n",
            "\n",
            "[flaml.tune.tune: 04-19 01:11:19] {721} INFO - Brief result: {'pred_time': 6.200178809787916e-06, 'wall_clock_time': 60.18111515045166, 'metric_for_logging': {'pred_time': 6.200178809787916e-06}, 'val_loss': 0.07692307692307687, 'trained_estimator': <flaml.automl.model.LGBMEstimator object at 0x7fec34ced2b0>}\n",
            "[flaml.tune.tune: 04-19 01:11:19] {721} INFO - Brief result: {'pred_time': 5.788129308949346e-06, 'wall_clock_time': 60.19044256210327, 'metric_for_logging': {'pred_time': 5.788129308949346e-06}, 'val_loss': 0.057075145650241965, 'trained_estimator': <flaml.automl.model.LGBMEstimator object at 0x7fec34c88280>}\n",
            "[flaml.automl.logger: 04-19 01:11:19] {2485} INFO - selected model: None\n",
            "[flaml.automl.logger: 04-19 01:11:19] {2619} INFO - retrain lgbm for 0.2s\n",
            "[flaml.automl.logger: 04-19 01:11:19] {2622} INFO - retrained model: LGBMClassifier(colsample_bytree=0.9633671819625609,\n",
            "               learning_rate=0.27021587856943113, max_bin=255,\n",
            "               min_child_samples=21, n_estimators=4, num_leaves=9,\n",
            "               reg_alpha=0.014098641144674361, reg_lambda=1.5196347818125986,\n",
            "               verbose=-1)\n",
            "[flaml.automl.logger: 04-19 01:11:19] {1930} INFO - fit succeeded\n",
            "[flaml.automl.logger: 04-19 01:11:19] {1931} INFO - Time taken to find the best model: 32.00390648841858\n"
          ]
        }
      ],
      "source": [
        "'''The main flaml automl API'''\n",
        "automl.fit(dataframe=pandas_df, label='Bankrupt?', **settings)"
      ]
    },
    {
      "cell_type": "code",
      "execution_count": 41,
      "metadata": {
        "jupyter": {
          "outputs_hidden": false,
          "source_hidden": false
        },
        "nteract": {
          "transient": {
            "deleting": false
          }
        }
      },
      "outputs": [
        {
          "data": {
            "application/vnd.livy.statement-meta+json": {
              "execution_finish_time": "2023-04-19T01:11:22.1516753Z",
              "execution_start_time": "2023-04-19T01:11:21.8482489Z",
              "livy_statement_state": "available",
              "parent_msg_id": "4bf310f1-9866-44cd-be3f-fb17edf35376",
              "queued_time": "2023-04-19T01:10:16.9197277Z",
              "session_id": "27",
              "session_start_time": null,
              "spark_jobs": null,
              "spark_pool": "automl",
              "state": "finished",
              "statement_id": 47
            },
            "text/plain": [
              "StatementMeta(automl, 27, 47, Finished, Available)"
            ]
          },
          "metadata": {},
          "output_type": "display_data"
        },
        {
          "name": "stdout",
          "output_type": "stream",
          "text": [
            "Best hyperparmeter config: {'n_estimators': 4, 'num_leaves': 9, 'min_child_samples': 21, 'learning_rate': 0.27021587856943113, 'log_max_bin': 8, 'colsample_bytree': 0.9633671819625609, 'reg_alpha': 0.014098641144674361, 'reg_lambda': 1.5196347818125986}\n",
            "Best roc_auc on validation data: 0.9557\n",
            "Training duration of best run: 0.1563 s\n"
          ]
        }
      ],
      "source": [
        "''' retrieve best config'''\n",
        "print('Best hyperparmeter config:', automl.best_config)\n",
        "print('Best roc_auc on validation data: {0:.4g}'.format(1-automl.best_loss))\n",
        "print('Training duration of best run: {0:.4g} s'.format(automl.best_config_train_time))"
      ]
    },
    {
      "cell_type": "code",
      "execution_count": 90,
      "metadata": {
        "jupyter": {
          "outputs_hidden": false,
          "source_hidden": false
        },
        "nteract": {
          "transient": {
            "deleting": false
          }
        }
      },
      "outputs": [
        {
          "data": {
            "application/vnd.livy.statement-meta+json": {
              "execution_finish_time": "2023-04-19T01:44:54.3605657Z",
              "execution_start_time": "2023-04-19T01:44:42.6184902Z",
              "livy_statement_state": "available",
              "parent_msg_id": "bc4bd38f-ea2a-4a16-baad-c0a18c4e4e31",
              "queued_time": "2023-04-19T01:44:42.3928483Z",
              "session_id": "27",
              "session_start_time": null,
              "spark_jobs": null,
              "spark_pool": "automl",
              "state": "finished",
              "statement_id": 96
            },
            "text/plain": [
              "StatementMeta(automl, 27, 96, Finished, Available)"
            ]
          },
          "metadata": {},
          "output_type": "display_data"
        },
        {
          "name": "stdout",
          "output_type": "stream",
          "text": [
            "+---------------+--------------------+------------------+---------+------------------+------------------+\n",
            "|evaluation_type|    confusion_matrix|          accuracy|precision|            recall|               AUC|\n",
            "+---------------+--------------------+------------------+---------+------------------+------------------+\n",
            "| Classification|1266.0  7.0  \\n37...|0.9665907365223994|      0.5|0.1590909090909091|0.5767960437049204|\n",
            "+---------------+--------------------+------------------+---------+------------------+------------------+\n",
            "\n"
          ]
        }
      ],
      "source": [
        "# predict function for non-spark models\n",
        "def predict_pandas(automl, test_raw):\n",
        "    from synapse.ml.train import ComputeModelStatistics\n",
        "    import pandas as pd\n",
        "    pandas_test = test_raw.toPandas()\n",
        "    predictions = automl.predict(pandas_test.iloc[:,1:]).astype('float')\n",
        "    predictions = pd.DataFrame({\"Bankrupt?\":pandas_test.iloc[:,0], \"prediction\": predictions.tolist()})\n",
        "    predictions = spark.createDataFrame(predictions)\n",
        "    \n",
        "    metrics = ComputeModelStatistics(\n",
        "        evaluationMetric=\"classification\",\n",
        "        labelCol=\"Bankrupt?\",\n",
        "        scoredLabelsCol=\"prediction\",\n",
        "    ).transform(predictions)\n",
        "    return metrics\n",
        "\n",
        "automl_metrics = predict_pandas(automl, test_raw)\n",
        "automl_metrics.show()"
      ]
    }
  ],
  "metadata": {
    "description": null,
    "kernelspec": {
      "display_name": "Synapse PySpark",
      "name": "synapse_pyspark"
    },
    "language_info": {
      "name": "python"
    },
    "save_output": true
  },
  "nbformat": 4,
  "nbformat_minor": 2
}
