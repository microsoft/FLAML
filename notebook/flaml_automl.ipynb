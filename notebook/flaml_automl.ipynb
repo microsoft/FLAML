{
 "cells": [
  {
   "cell_type": "markdown",
   "source": [
    "Copyright (c) Microsoft Corporation. All rights reserved. \n",
    "\n",
    "Licensed under the MIT License.\n",
    "\n",
    "# AutoML with FLAML Library\n",
    "\n",
    "\n",
    "## 1. Introduction\n",
    "\n",
    "FLAML is a Python library (https://github.com/microsoft/FLAML) designed to automatically produce accurate machine learning models \n",
    "with low computational cost. It is fast and cheap. The simple and lightweight design makes it easy to use and extend, such as adding new learners. FLAML can \n",
    "- serve as an economical AutoML engine,\n",
    "- be used as a fast hyperparameter tuning tool, or \n",
    "- be embedded in self-tuning software that requires low latency & resource in repetitive\n",
    "   tuning tasks.\n",
    "\n",
    "In this notebook, we use one real data example (binary classification) to showcase how to use FLAML library.\n",
    "\n",
    "FLAML requires `Python>=3.6`. To run this notebook example, please install flaml with the `notebook` option:\n",
    "```bash\n",
    "pip install flaml[notebook]\n",
    "```"
   ],
   "metadata": {
    "slideshow": {
     "slide_type": "slide"
    }
   }
  },
  {
   "cell_type": "code",
   "execution_count": null,
   "source": [
    "!pip install flaml[notebook];"
   ],
   "outputs": [],
   "metadata": {}
  },
  {
   "cell_type": "markdown",
   "source": [
    "## 2. Classification Example\n",
    "### Load data and preprocess\n",
    "\n",
    "Download [Airlines dataset](https://www.openml.org/d/1169) from OpenML. The task is to predict whether a given flight will be delayed, given the information of the scheduled departure."
   ],
   "metadata": {
    "slideshow": {
     "slide_type": "slide"
    }
   }
  },
  {
   "cell_type": "code",
   "execution_count": 1,
   "source": [
    "from flaml.data import load_openml_dataset\n",
    "X_train, X_test, y_train, y_test = load_openml_dataset(dataset_id=1169, data_dir='./')"
   ],
   "outputs": [
    {
     "output_type": "stream",
     "name": "stdout",
     "text": [
      "load dataset from ./openml_ds1169.pkl\n",
      "Dataset name: airlines\n",
      "X_train.shape: (404537, 7), y_train.shape: (404537,);\n",
      "X_test.shape: (134846, 7), y_test.shape: (134846,)\n"
     ]
    }
   ],
   "metadata": {
    "slideshow": {
     "slide_type": "subslide"
    },
    "tags": []
   }
  },
  {
   "cell_type": "markdown",
   "source": [
    "### Run FLAML\n",
    "In the FLAML automl run configuration, users can specify the task type, time budget, error metric, learner list, whether to subsample, resampling strategy type, and so on. All these arguments have default values which will be used if users do not provide them. For example, the default ML learners of FLAML are `['lgbm', 'xgboost', 'catboost', 'rf', 'extra_tree', 'lrl1']`. "
   ],
   "metadata": {
    "slideshow": {
     "slide_type": "slide"
    }
   }
  },
  {
   "cell_type": "code",
   "execution_count": 2,
   "source": [
    "''' import AutoML class from flaml package '''\n",
    "from flaml import AutoML\n",
    "automl = AutoML()"
   ],
   "outputs": [],
   "metadata": {
    "slideshow": {
     "slide_type": "slide"
    }
   }
  },
  {
   "cell_type": "code",
   "execution_count": 3,
   "source": [
    "settings = {\n",
    "    \"time_budget\": 240,  # total running time in seconds\n",
    "    \"metric\": 'accuracy',  # can be: 'r2', 'rmse', 'mae', 'mse', 'accuracy', 'roc_auc', 'roc_auc_ovr',\n",
    "                           # 'roc_auc_ovo', 'log_loss', 'mape', 'f1', 'ap', 'ndcg', 'micro_f1', 'macro_f1'\n",
    "    \"task\": 'classification',  # task type    \n",
    "    \"log_file_name\": 'airlines_experiment.log',  # flaml log file\n",
    "    \"seed\": 7654321,    # random seed\n",
    "}"
   ],
   "outputs": [],
   "metadata": {
    "slideshow": {
     "slide_type": "slide"
    }
   }
  },
  {
   "cell_type": "code",
   "execution_count": 4,
   "source": [
    "'''The main flaml automl API'''\n",
    "automl.fit(X_train=X_train, y_train=y_train, **settings)"
   ],
   "outputs": [
    {
     "output_type": "stream",
     "name": "stderr",
     "text": [
      "[flaml.automl: 09-29 22:59:34] {1446} INFO - Data split method: stratified\n",
      "[flaml.automl: 09-29 22:59:34] {1450} INFO - Evaluation method: holdout\n",
      "[flaml.automl: 09-29 22:59:35] {1496} INFO - Minimizing error metric: 1-accuracy\n",
      "[flaml.automl: 09-29 22:59:35] {1533} INFO - List of ML learners in AutoML Run: ['lgbm', 'rf', 'catboost', 'xgboost', 'extra_tree', 'lrl1']\n",
      "[flaml.automl: 09-29 22:59:35] {1763} INFO - iteration 0, current learner lgbm\n",
      "[flaml.automl: 09-29 22:59:35] {1880} INFO - Estimated sufficient time budget=69243s. Estimated necessary time budget=1257s.\n",
      "[flaml.automl: 09-29 22:59:35] {1952} INFO -  at 1.1s,\testimator lgbm's best error=0.3777,\tbest estimator lgbm's best error=0.3777\n",
      "[flaml.automl: 09-29 22:59:35] {1763} INFO - iteration 1, current learner lgbm\n",
      "[flaml.automl: 09-29 22:59:35] {1952} INFO -  at 1.2s,\testimator lgbm's best error=0.3759,\tbest estimator lgbm's best error=0.3759\n",
      "[flaml.automl: 09-29 22:59:35] {1763} INFO - iteration 2, current learner lgbm\n",
      "[flaml.automl: 09-29 22:59:35] {1952} INFO -  at 1.3s,\testimator lgbm's best error=0.3759,\tbest estimator lgbm's best error=0.3759\n",
      "[flaml.automl: 09-29 22:59:35] {1763} INFO - iteration 3, current learner lgbm\n",
      "[flaml.automl: 09-29 22:59:35] {1952} INFO -  at 1.4s,\testimator lgbm's best error=0.3644,\tbest estimator lgbm's best error=0.3644\n",
      "[flaml.automl: 09-29 22:59:35] {1763} INFO - iteration 4, current learner lgbm\n",
      "[flaml.automl: 09-29 22:59:35] {1952} INFO -  at 1.5s,\testimator lgbm's best error=0.3588,\tbest estimator lgbm's best error=0.3588\n",
      "[flaml.automl: 09-29 22:59:35] {1763} INFO - iteration 5, current learner lgbm\n",
      "[flaml.automl: 09-29 22:59:35] {1952} INFO -  at 1.6s,\testimator lgbm's best error=0.3588,\tbest estimator lgbm's best error=0.3588\n",
      "[flaml.automl: 09-29 22:59:35] {1763} INFO - iteration 6, current learner lgbm\n",
      "[flaml.automl: 09-29 22:59:36] {1952} INFO -  at 1.9s,\testimator lgbm's best error=0.3555,\tbest estimator lgbm's best error=0.3555\n",
      "[flaml.automl: 09-29 22:59:36] {1763} INFO - iteration 7, current learner xgboost\n",
      "[flaml.automl: 09-29 22:59:36] {1952} INFO -  at 2.0s,\testimator xgboost's best error=0.3787,\tbest estimator lgbm's best error=0.3555\n",
      "[flaml.automl: 09-29 22:59:36] {1763} INFO - iteration 8, current learner lgbm\n",
      "[flaml.automl: 09-29 22:59:36] {1952} INFO -  at 2.2s,\testimator lgbm's best error=0.3555,\tbest estimator lgbm's best error=0.3555\n",
      "[flaml.automl: 09-29 22:59:36] {1763} INFO - iteration 9, current learner xgboost\n",
      "[flaml.automl: 09-29 22:59:36] {1952} INFO -  at 2.3s,\testimator xgboost's best error=0.3649,\tbest estimator lgbm's best error=0.3555\n",
      "[flaml.automl: 09-29 22:59:36] {1763} INFO - iteration 10, current learner xgboost\n",
      "[flaml.automl: 09-29 22:59:36] {1952} INFO -  at 2.4s,\testimator xgboost's best error=0.3649,\tbest estimator lgbm's best error=0.3555\n",
      "[flaml.automl: 09-29 22:59:36] {1763} INFO - iteration 11, current learner xgboost\n",
      "[flaml.automl: 09-29 22:59:36] {1952} INFO -  at 2.5s,\testimator xgboost's best error=0.3649,\tbest estimator lgbm's best error=0.3555\n",
      "[flaml.automl: 09-29 22:59:36] {1763} INFO - iteration 12, current learner extra_tree\n",
      "[flaml.automl: 09-29 22:59:37] {1952} INFO -  at 2.7s,\testimator extra_tree's best error=0.3788,\tbest estimator lgbm's best error=0.3555\n",
      "[flaml.automl: 09-29 22:59:37] {1763} INFO - iteration 13, current learner extra_tree\n",
      "[flaml.automl: 09-29 22:59:37] {1952} INFO -  at 2.8s,\testimator extra_tree's best error=0.3774,\tbest estimator lgbm's best error=0.3555\n",
      "[flaml.automl: 09-29 22:59:37] {1763} INFO - iteration 14, current learner rf\n",
      "[flaml.automl: 09-29 22:59:37] {1952} INFO -  at 3.0s,\testimator rf's best error=0.3765,\tbest estimator lgbm's best error=0.3555\n",
      "[flaml.automl: 09-29 22:59:37] {1763} INFO - iteration 15, current learner rf\n",
      "[flaml.automl: 09-29 22:59:37] {1952} INFO -  at 3.1s,\testimator rf's best error=0.3721,\tbest estimator lgbm's best error=0.3555\n",
      "[flaml.automl: 09-29 22:59:37] {1763} INFO - iteration 16, current learner lgbm\n",
      "[flaml.automl: 09-29 22:59:38] {1952} INFO -  at 3.9s,\testimator lgbm's best error=0.3555,\tbest estimator lgbm's best error=0.3555\n",
      "[flaml.automl: 09-29 22:59:38] {1763} INFO - iteration 17, current learner xgboost\n",
      "[flaml.automl: 09-29 22:59:38] {1952} INFO -  at 4.0s,\testimator xgboost's best error=0.3629,\tbest estimator lgbm's best error=0.3555\n",
      "[flaml.automl: 09-29 22:59:38] {1763} INFO - iteration 18, current learner lgbm\n",
      "[flaml.automl: 09-29 22:59:39] {1952} INFO -  at 4.7s,\testimator lgbm's best error=0.3555,\tbest estimator lgbm's best error=0.3555\n",
      "[flaml.automl: 09-29 22:59:39] {1763} INFO - iteration 19, current learner rf\n",
      "[flaml.automl: 09-29 22:59:39] {1952} INFO -  at 4.9s,\testimator rf's best error=0.3721,\tbest estimator lgbm's best error=0.3555\n",
      "[flaml.automl: 09-29 22:59:39] {1763} INFO - iteration 20, current learner lgbm\n",
      "[flaml.automl: 09-29 22:59:39] {1952} INFO -  at 5.5s,\testimator lgbm's best error=0.3542,\tbest estimator lgbm's best error=0.3542\n",
      "[flaml.automl: 09-29 22:59:39] {1763} INFO - iteration 21, current learner rf\n",
      "[flaml.automl: 09-29 22:59:39] {1952} INFO -  at 5.6s,\testimator rf's best error=0.3721,\tbest estimator lgbm's best error=0.3542\n",
      "[flaml.automl: 09-29 22:59:39] {1763} INFO - iteration 22, current learner lgbm\n",
      "[flaml.automl: 09-29 22:59:40] {1952} INFO -  at 6.5s,\testimator lgbm's best error=0.3498,\tbest estimator lgbm's best error=0.3498\n",
      "[flaml.automl: 09-29 22:59:40] {1763} INFO - iteration 23, current learner lgbm\n",
      "[flaml.automl: 09-29 22:59:41] {1952} INFO -  at 7.1s,\testimator lgbm's best error=0.3498,\tbest estimator lgbm's best error=0.3498\n",
      "[flaml.automl: 09-29 22:59:41] {1763} INFO - iteration 24, current learner xgboost\n",
      "[flaml.automl: 09-29 22:59:41] {1952} INFO -  at 7.2s,\testimator xgboost's best error=0.3629,\tbest estimator lgbm's best error=0.3498\n",
      "[flaml.automl: 09-29 22:59:41] {1763} INFO - iteration 25, current learner extra_tree\n",
      "[flaml.automl: 09-29 22:59:41] {1952} INFO -  at 7.4s,\testimator extra_tree's best error=0.3774,\tbest estimator lgbm's best error=0.3498\n",
      "[flaml.automl: 09-29 22:59:41] {1763} INFO - iteration 26, current learner lgbm\n",
      "[flaml.automl: 09-29 22:59:44] {1952} INFO -  at 10.5s,\testimator lgbm's best error=0.3498,\tbest estimator lgbm's best error=0.3498\n",
      "[flaml.automl: 09-29 22:59:44] {1763} INFO - iteration 27, current learner catboost\n",
      "[flaml.automl: 09-29 22:59:45] {1952} INFO -  at 11.1s,\testimator catboost's best error=0.3602,\tbest estimator lgbm's best error=0.3498\n",
      "[flaml.automl: 09-29 22:59:45] {1763} INFO - iteration 28, current learner catboost\n",
      "[flaml.automl: 09-29 22:59:45] {1952} INFO -  at 11.4s,\testimator catboost's best error=0.3602,\tbest estimator lgbm's best error=0.3498\n",
      "[flaml.automl: 09-29 22:59:45] {1763} INFO - iteration 29, current learner catboost\n",
      "[flaml.automl: 09-29 22:59:46] {1952} INFO -  at 12.0s,\testimator catboost's best error=0.3602,\tbest estimator lgbm's best error=0.3498\n",
      "[flaml.automl: 09-29 22:59:46] {1763} INFO - iteration 30, current learner xgboost\n",
      "[flaml.automl: 09-29 22:59:46] {1952} INFO -  at 12.1s,\testimator xgboost's best error=0.3612,\tbest estimator lgbm's best error=0.3498\n",
      "[flaml.automl: 09-29 22:59:46] {1763} INFO - iteration 31, current learner lgbm\n",
      "[flaml.automl: 09-29 22:59:57] {1952} INFO -  at 23.4s,\testimator lgbm's best error=0.3404,\tbest estimator lgbm's best error=0.3404\n",
      "[flaml.automl: 09-29 22:59:57] {1763} INFO - iteration 32, current learner lgbm\n",
      "[flaml.automl: 09-29 23:00:05] {1952} INFO -  at 30.8s,\testimator lgbm's best error=0.3404,\tbest estimator lgbm's best error=0.3404\n",
      "[flaml.automl: 09-29 23:00:05] {1763} INFO - iteration 33, current learner catboost\n",
      "[flaml.automl: 09-29 23:00:05] {1952} INFO -  at 31.5s,\testimator catboost's best error=0.3602,\tbest estimator lgbm's best error=0.3404\n",
      "[flaml.automl: 09-29 23:00:05] {1763} INFO - iteration 34, current learner xgboost\n",
      "[flaml.automl: 09-29 23:00:06] {1952} INFO -  at 31.7s,\testimator xgboost's best error=0.3612,\tbest estimator lgbm's best error=0.3404\n",
      "[flaml.automl: 09-29 23:00:06] {1763} INFO - iteration 35, current learner rf\n",
      "[flaml.automl: 09-29 23:00:06] {1952} INFO -  at 31.8s,\testimator rf's best error=0.3721,\tbest estimator lgbm's best error=0.3404\n",
      "[flaml.automl: 09-29 23:00:06] {1763} INFO - iteration 36, current learner catboost\n",
      "[flaml.automl: 09-29 23:00:06] {1952} INFO -  at 32.3s,\testimator catboost's best error=0.3602,\tbest estimator lgbm's best error=0.3404\n",
      "[flaml.automl: 09-29 23:00:06] {1763} INFO - iteration 37, current learner extra_tree\n",
      "[flaml.automl: 09-29 23:00:06] {1952} INFO -  at 32.5s,\testimator extra_tree's best error=0.3774,\tbest estimator lgbm's best error=0.3404\n",
      "[flaml.automl: 09-29 23:00:06] {1763} INFO - iteration 38, current learner catboost\n",
      "[flaml.automl: 09-29 23:00:10] {1952} INFO -  at 36.3s,\testimator catboost's best error=0.3493,\tbest estimator lgbm's best error=0.3404\n",
      "[flaml.automl: 09-29 23:00:10] {1763} INFO - iteration 39, current learner xgboost\n",
      "[flaml.automl: 09-29 23:00:10] {1952} INFO -  at 36.5s,\testimator xgboost's best error=0.3612,\tbest estimator lgbm's best error=0.3404\n",
      "[flaml.automl: 09-29 23:00:10] {1763} INFO - iteration 40, current learner rf\n",
      "[flaml.automl: 09-29 23:00:11] {1952} INFO -  at 36.7s,\testimator rf's best error=0.3721,\tbest estimator lgbm's best error=0.3404\n",
      "[flaml.automl: 09-29 23:00:11] {1763} INFO - iteration 41, current learner catboost\n",
      "[flaml.automl: 09-29 23:00:12] {1952} INFO -  at 38.5s,\testimator catboost's best error=0.3475,\tbest estimator lgbm's best error=0.3404\n",
      "[flaml.automl: 09-29 23:00:12] {1763} INFO - iteration 42, current learner xgboost\n",
      "[flaml.automl: 09-29 23:00:13] {1952} INFO -  at 38.7s,\testimator xgboost's best error=0.3612,\tbest estimator lgbm's best error=0.3404\n",
      "[flaml.automl: 09-29 23:00:13] {1763} INFO - iteration 43, current learner lgbm\n",
      "[flaml.automl: 09-29 23:00:30] {1952} INFO -  at 56.1s,\testimator lgbm's best error=0.3312,\tbest estimator lgbm's best error=0.3312\n",
      "[flaml.automl: 09-29 23:00:30] {1763} INFO - iteration 44, current learner xgboost\n",
      "[flaml.automl: 09-29 23:00:30] {1952} INFO -  at 56.2s,\testimator xgboost's best error=0.3612,\tbest estimator lgbm's best error=0.3312\n",
      "[flaml.automl: 09-29 23:00:30] {1763} INFO - iteration 45, current learner extra_tree\n",
      "[flaml.automl: 09-29 23:00:30] {1952} INFO -  at 56.3s,\testimator extra_tree's best error=0.3774,\tbest estimator lgbm's best error=0.3312\n",
      "[flaml.automl: 09-29 23:00:30] {1763} INFO - iteration 46, current learner xgboost\n",
      "[flaml.automl: 09-29 23:00:30] {1952} INFO -  at 56.6s,\testimator xgboost's best error=0.3600,\tbest estimator lgbm's best error=0.3312\n",
      "[flaml.automl: 09-29 23:00:30] {1763} INFO - iteration 47, current learner rf\n",
      "[flaml.automl: 09-29 23:00:31] {1952} INFO -  at 57.0s,\testimator rf's best error=0.3721,\tbest estimator lgbm's best error=0.3312\n",
      "[flaml.automl: 09-29 23:00:31] {1763} INFO - iteration 48, current learner xgboost\n",
      "[flaml.automl: 09-29 23:00:31] {1952} INFO -  at 57.3s,\testimator xgboost's best error=0.3558,\tbest estimator lgbm's best error=0.3312\n",
      "[flaml.automl: 09-29 23:00:31] {1763} INFO - iteration 49, current learner rf\n",
      "[flaml.automl: 09-29 23:00:31] {1952} INFO -  at 57.5s,\testimator rf's best error=0.3647,\tbest estimator lgbm's best error=0.3312\n",
      "[flaml.automl: 09-29 23:00:31] {1763} INFO - iteration 50, current learner xgboost\n",
      "[flaml.automl: 09-29 23:00:32] {1952} INFO -  at 57.9s,\testimator xgboost's best error=0.3558,\tbest estimator lgbm's best error=0.3312\n",
      "[flaml.automl: 09-29 23:00:32] {1763} INFO - iteration 51, current learner xgboost\n",
      "[flaml.automl: 09-29 23:00:32] {1952} INFO -  at 58.3s,\testimator xgboost's best error=0.3558,\tbest estimator lgbm's best error=0.3312\n",
      "[flaml.automl: 09-29 23:00:32] {1763} INFO - iteration 52, current learner rf\n",
      "[flaml.automl: 09-29 23:00:33] {1952} INFO -  at 58.8s,\testimator rf's best error=0.3647,\tbest estimator lgbm's best error=0.3312\n",
      "[flaml.automl: 09-29 23:00:33] {1763} INFO - iteration 53, current learner rf\n",
      "[flaml.automl: 09-29 23:00:33] {1952} INFO -  at 59.0s,\testimator rf's best error=0.3647,\tbest estimator lgbm's best error=0.3312\n",
      "[flaml.automl: 09-29 23:00:33] {1763} INFO - iteration 54, current learner lgbm\n",
      "[flaml.automl: 09-29 23:01:13] {1952} INFO -  at 99.0s,\testimator lgbm's best error=0.3312,\tbest estimator lgbm's best error=0.3312\n",
      "[flaml.automl: 09-29 23:01:13] {1763} INFO - iteration 55, current learner lgbm\n",
      "[flaml.automl: 09-29 23:01:20] {1952} INFO -  at 106.5s,\testimator lgbm's best error=0.3312,\tbest estimator lgbm's best error=0.3312\n",
      "[flaml.automl: 09-29 23:01:20] {1763} INFO - iteration 56, current learner xgboost\n",
      "[flaml.automl: 09-29 23:01:21] {1952} INFO -  at 106.7s,\testimator xgboost's best error=0.3558,\tbest estimator lgbm's best error=0.3312\n",
      "[flaml.automl: 09-29 23:01:21] {1763} INFO - iteration 57, current learner rf\n",
      "[flaml.automl: 09-29 23:01:21] {1952} INFO -  at 107.0s,\testimator rf's best error=0.3636,\tbest estimator lgbm's best error=0.3312\n",
      "[flaml.automl: 09-29 23:01:21] {1763} INFO - iteration 58, current learner catboost\n",
      "[flaml.automl: 09-29 23:01:22] {1952} INFO -  at 108.3s,\testimator catboost's best error=0.3475,\tbest estimator lgbm's best error=0.3312\n",
      "[flaml.automl: 09-29 23:01:22] {1763} INFO - iteration 59, current learner xgboost\n",
      "[flaml.automl: 09-29 23:01:23] {1952} INFO -  at 108.7s,\testimator xgboost's best error=0.3558,\tbest estimator lgbm's best error=0.3312\n",
      "[flaml.automl: 09-29 23:01:23] {1763} INFO - iteration 60, current learner lgbm\n",
      "[flaml.automl: 09-29 23:01:34] {1952} INFO -  at 119.7s,\testimator lgbm's best error=0.3312,\tbest estimator lgbm's best error=0.3312\n",
      "[flaml.automl: 09-29 23:01:34] {1763} INFO - iteration 61, current learner xgboost\n",
      "[flaml.automl: 09-29 23:01:36] {1952} INFO -  at 122.2s,\testimator xgboost's best error=0.3544,\tbest estimator lgbm's best error=0.3312\n",
      "[flaml.automl: 09-29 23:01:36] {1763} INFO - iteration 62, current learner lrl1\n",
      "/home/dmx/miniconda2/envs/blend/lib/python3.8/site-packages/sklearn/linear_model/_sag.py:352: ConvergenceWarning: The max_iter was reached which means the coef_ did not converge\n",
      "  warnings.warn(\n",
      "[flaml.automl: 09-29 23:01:36] {1952} INFO -  at 122.6s,\testimator lrl1's best error=0.4338,\tbest estimator lgbm's best error=0.3312\n",
      "[flaml.automl: 09-29 23:01:36] {1763} INFO - iteration 63, current learner lrl1\n",
      "/home/dmx/miniconda2/envs/blend/lib/python3.8/site-packages/sklearn/linear_model/_sag.py:352: ConvergenceWarning: The max_iter was reached which means the coef_ did not converge\n",
      "  warnings.warn(\n",
      "[flaml.automl: 09-29 23:01:37] {1952} INFO -  at 122.9s,\testimator lrl1's best error=0.4338,\tbest estimator lgbm's best error=0.3312\n",
      "[flaml.automl: 09-29 23:01:37] {1763} INFO - iteration 64, current learner lrl1\n",
      "/home/dmx/miniconda2/envs/blend/lib/python3.8/site-packages/sklearn/linear_model/_sag.py:352: ConvergenceWarning: The max_iter was reached which means the coef_ did not converge\n",
      "  warnings.warn(\n",
      "[flaml.automl: 09-29 23:01:37] {1952} INFO -  at 123.2s,\testimator lrl1's best error=0.4338,\tbest estimator lgbm's best error=0.3312\n",
      "[flaml.automl: 09-29 23:01:37] {1763} INFO - iteration 65, current learner lrl1\n",
      "/home/dmx/miniconda2/envs/blend/lib/python3.8/site-packages/sklearn/linear_model/_sag.py:352: ConvergenceWarning: The max_iter was reached which means the coef_ did not converge\n",
      "  warnings.warn(\n",
      "[flaml.automl: 09-29 23:01:39] {1952} INFO -  at 125.1s,\testimator lrl1's best error=0.4334,\tbest estimator lgbm's best error=0.3312\n",
      "[flaml.automl: 09-29 23:01:39] {1763} INFO - iteration 66, current learner lgbm\n",
      "[flaml.automl: 09-29 23:02:10] {1952} INFO -  at 155.8s,\testimator lgbm's best error=0.3304,\tbest estimator lgbm's best error=0.3304\n",
      "[flaml.automl: 09-29 23:02:10] {1763} INFO - iteration 67, current learner catboost\n",
      "[flaml.automl: 09-29 23:02:11] {1952} INFO -  at 156.8s,\testimator catboost's best error=0.3475,\tbest estimator lgbm's best error=0.3304\n",
      "[flaml.automl: 09-29 23:02:11] {1763} INFO - iteration 68, current learner extra_tree\n",
      "[flaml.automl: 09-29 23:02:11] {1952} INFO -  at 157.0s,\testimator extra_tree's best error=0.3757,\tbest estimator lgbm's best error=0.3304\n",
      "[flaml.automl: 09-29 23:02:11] {1763} INFO - iteration 69, current learner catboost\n",
      "[flaml.automl: 09-29 23:02:12] {1952} INFO -  at 158.2s,\testimator catboost's best error=0.3475,\tbest estimator lgbm's best error=0.3304\n",
      "[flaml.automl: 09-29 23:02:12] {1763} INFO - iteration 70, current learner lgbm\n",
      "[flaml.automl: 09-29 23:02:28] {1952} INFO -  at 174.5s,\testimator lgbm's best error=0.3304,\tbest estimator lgbm's best error=0.3304\n",
      "[flaml.automl: 09-29 23:02:28] {1763} INFO - iteration 71, current learner xgboost\n",
      "[flaml.automl: 09-29 23:02:30] {1952} INFO -  at 176.0s,\testimator xgboost's best error=0.3544,\tbest estimator lgbm's best error=0.3304\n",
      "[flaml.automl: 09-29 23:02:30] {1763} INFO - iteration 72, current learner extra_tree\n",
      "[flaml.automl: 09-29 23:02:30] {1952} INFO -  at 176.1s,\testimator extra_tree's best error=0.3757,\tbest estimator lgbm's best error=0.3304\n",
      "[flaml.automl: 09-29 23:02:30] {1763} INFO - iteration 73, current learner catboost\n",
      "[flaml.automl: 09-29 23:02:31] {1952} INFO -  at 176.9s,\testimator catboost's best error=0.3475,\tbest estimator lgbm's best error=0.3304\n",
      "[flaml.automl: 09-29 23:02:31] {1763} INFO - iteration 74, current learner extra_tree\n",
      "[flaml.automl: 09-29 23:02:31] {1952} INFO -  at 177.1s,\testimator extra_tree's best error=0.3753,\tbest estimator lgbm's best error=0.3304\n",
      "[flaml.automl: 09-29 23:02:31] {1763} INFO - iteration 75, current learner catboost\n",
      "[flaml.automl: 09-29 23:02:40] {1952} INFO -  at 186.6s,\testimator catboost's best error=0.3378,\tbest estimator lgbm's best error=0.3304\n",
      "[flaml.automl: 09-29 23:02:40] {1763} INFO - iteration 76, current learner extra_tree\n",
      "[flaml.automl: 09-29 23:02:41] {1952} INFO -  at 186.8s,\testimator extra_tree's best error=0.3753,\tbest estimator lgbm's best error=0.3304\n",
      "[flaml.automl: 09-29 23:02:41] {1763} INFO - iteration 77, current learner rf\n",
      "[flaml.automl: 09-29 23:02:41] {1952} INFO -  at 187.0s,\testimator rf's best error=0.3636,\tbest estimator lgbm's best error=0.3304\n",
      "[flaml.automl: 09-29 23:02:41] {1763} INFO - iteration 78, current learner rf\n",
      "[flaml.automl: 09-29 23:02:41] {1952} INFO -  at 187.6s,\testimator rf's best error=0.3609,\tbest estimator lgbm's best error=0.3304\n",
      "[flaml.automl: 09-29 23:02:41] {1763} INFO - iteration 79, current learner catboost\n",
      "[flaml.automl: 09-29 23:02:51] {1952} INFO -  at 197.2s,\testimator catboost's best error=0.3378,\tbest estimator lgbm's best error=0.3304\n",
      "[flaml.automl: 09-29 23:02:51] {1763} INFO - iteration 80, current learner rf\n",
      "[flaml.automl: 09-29 23:02:51] {1952} INFO -  at 197.6s,\testimator rf's best error=0.3609,\tbest estimator lgbm's best error=0.3304\n",
      "[flaml.automl: 09-29 23:02:51] {1763} INFO - iteration 81, current learner rf\n",
      "[flaml.automl: 09-29 23:02:53] {1952} INFO -  at 198.7s,\testimator rf's best error=0.3558,\tbest estimator lgbm's best error=0.3304\n",
      "[flaml.automl: 09-29 23:02:53] {1763} INFO - iteration 82, current learner xgboost\n",
      "[flaml.automl: 09-29 23:02:55] {1952} INFO -  at 201.0s,\testimator xgboost's best error=0.3544,\tbest estimator lgbm's best error=0.3304\n",
      "[flaml.automl: 09-29 23:02:55] {1763} INFO - iteration 83, current learner rf\n",
      "[flaml.automl: 09-29 23:02:56] {1952} INFO -  at 202.2s,\testimator rf's best error=0.3540,\tbest estimator lgbm's best error=0.3304\n",
      "[flaml.automl: 09-29 23:02:56] {1763} INFO - iteration 84, current learner catboost\n",
      "[flaml.automl: 09-29 23:03:03] {1952} INFO -  at 208.9s,\testimator catboost's best error=0.3378,\tbest estimator lgbm's best error=0.3304\n",
      "[flaml.automl: 09-29 23:03:03] {1763} INFO - iteration 85, current learner catboost\n",
      "[flaml.automl: 09-29 23:03:03] {1952} INFO -  at 209.2s,\testimator catboost's best error=0.3378,\tbest estimator lgbm's best error=0.3304\n",
      "[flaml.automl: 09-29 23:03:03] {1763} INFO - iteration 86, current learner xgboost\n",
      "[flaml.automl: 09-29 23:03:05] {1952} INFO -  at 210.7s,\testimator xgboost's best error=0.3544,\tbest estimator lgbm's best error=0.3304\n",
      "[flaml.automl: 09-29 23:03:05] {1763} INFO - iteration 87, current learner catboost\n",
      "[flaml.automl: 09-29 23:03:05] {1952} INFO -  at 210.9s,\testimator catboost's best error=0.3378,\tbest estimator lgbm's best error=0.3304\n",
      "[flaml.automl: 09-29 23:03:05] {1763} INFO - iteration 88, current learner catboost\n",
      "[flaml.automl: 09-29 23:03:05] {1952} INFO -  at 211.6s,\testimator catboost's best error=0.3378,\tbest estimator lgbm's best error=0.3304\n",
      "[flaml.automl: 09-29 23:03:05] {1763} INFO - iteration 89, current learner rf\n",
      "[flaml.automl: 09-29 23:03:06] {1952} INFO -  at 212.2s,\testimator rf's best error=0.3540,\tbest estimator lgbm's best error=0.3304\n",
      "[flaml.automl: 09-29 23:03:06] {1763} INFO - iteration 90, current learner rf\n",
      "[flaml.automl: 09-29 23:03:09] {1952} INFO -  at 214.8s,\testimator rf's best error=0.3529,\tbest estimator lgbm's best error=0.3304\n",
      "[flaml.automl: 09-29 23:03:09] {1763} INFO - iteration 91, current learner extra_tree\n",
      "[flaml.automl: 09-29 23:03:09] {1952} INFO -  at 214.9s,\testimator extra_tree's best error=0.3753,\tbest estimator lgbm's best error=0.3304\n",
      "[flaml.automl: 09-29 23:03:09] {1763} INFO - iteration 92, current learner catboost\n",
      "[flaml.automl: 09-29 23:03:09] {1952} INFO -  at 215.4s,\testimator catboost's best error=0.3378,\tbest estimator lgbm's best error=0.3304\n",
      "[flaml.automl: 09-29 23:03:09] {1763} INFO - iteration 93, current learner extra_tree\n",
      "[flaml.automl: 09-29 23:03:09] {1952} INFO -  at 215.6s,\testimator extra_tree's best error=0.3753,\tbest estimator lgbm's best error=0.3304\n",
      "[flaml.automl: 09-29 23:03:09] {1763} INFO - iteration 94, current learner catboost\n",
      "[flaml.automl: 09-29 23:03:17] {1952} INFO -  at 223.0s,\testimator catboost's best error=0.3378,\tbest estimator lgbm's best error=0.3304\n",
      "[flaml.automl: 09-29 23:03:17] {1763} INFO - iteration 95, current learner catboost\n",
      "[flaml.automl: 09-29 23:03:21] {1952} INFO -  at 227.4s,\testimator catboost's best error=0.3378,\tbest estimator lgbm's best error=0.3304\n",
      "[flaml.automl: 09-29 23:03:21] {1763} INFO - iteration 96, current learner rf\n",
      "[flaml.automl: 09-29 23:03:22] {1952} INFO -  at 227.7s,\testimator rf's best error=0.3529,\tbest estimator lgbm's best error=0.3304\n",
      "[flaml.automl: 09-29 23:03:22] {1763} INFO - iteration 97, current learner extra_tree\n",
      "[flaml.automl: 09-29 23:03:22] {1952} INFO -  at 227.9s,\testimator extra_tree's best error=0.3753,\tbest estimator lgbm's best error=0.3304\n",
      "[flaml.automl: 09-29 23:03:22] {1763} INFO - iteration 98, current learner catboost\n",
      "[flaml.automl: 09-29 23:03:22] {1952} INFO -  at 228.2s,\testimator catboost's best error=0.3378,\tbest estimator lgbm's best error=0.3304\n",
      "[flaml.automl: 09-29 23:03:22] {1763} INFO - iteration 99, current learner catboost\n",
      "[flaml.automl: 09-29 23:03:22] {1952} INFO -  at 228.4s,\testimator catboost's best error=0.3378,\tbest estimator lgbm's best error=0.3304\n",
      "[flaml.automl: 09-29 23:03:22] {1763} INFO - iteration 100, current learner catboost\n",
      "[flaml.automl: 09-29 23:03:22] {1952} INFO -  at 228.6s,\testimator catboost's best error=0.3378,\tbest estimator lgbm's best error=0.3304\n",
      "[flaml.automl: 09-29 23:03:22] {1763} INFO - iteration 101, current learner rf\n",
      "[flaml.automl: 09-29 23:03:23] {1952} INFO -  at 229.3s,\testimator rf's best error=0.3529,\tbest estimator lgbm's best error=0.3304\n",
      "[flaml.automl: 09-29 23:03:23] {1763} INFO - iteration 102, current learner extra_tree\n",
      "[flaml.automl: 09-29 23:03:23] {1952} INFO -  at 229.5s,\testimator extra_tree's best error=0.3753,\tbest estimator lgbm's best error=0.3304\n",
      "[flaml.automl: 09-29 23:03:23] {1763} INFO - iteration 103, current learner catboost\n",
      "[flaml.automl: 09-29 23:03:24] {1952} INFO -  at 229.8s,\testimator catboost's best error=0.3378,\tbest estimator lgbm's best error=0.3304\n",
      "[flaml.automl: 09-29 23:03:24] {1763} INFO - iteration 104, current learner rf\n",
      "[flaml.automl: 09-29 23:03:24] {1952} INFO -  at 230.4s,\testimator rf's best error=0.3529,\tbest estimator lgbm's best error=0.3304\n",
      "[flaml.automl: 09-29 23:03:24] {1763} INFO - iteration 105, current learner catboost\n",
      "[flaml.automl: 09-29 23:03:28] {1952} INFO -  at 234.2s,\testimator catboost's best error=0.3378,\tbest estimator lgbm's best error=0.3304\n",
      "[flaml.automl: 09-29 23:03:28] {1763} INFO - iteration 106, current learner rf\n",
      "[flaml.automl: 09-29 23:03:28] {1952} INFO -  at 234.5s,\testimator rf's best error=0.3529,\tbest estimator lgbm's best error=0.3304\n",
      "[flaml.automl: 09-29 23:03:28] {1763} INFO - iteration 107, current learner xgboost\n",
      "[flaml.automl: 09-29 23:03:31] {1952} INFO -  at 237.0s,\testimator xgboost's best error=0.3544,\tbest estimator lgbm's best error=0.3304\n",
      "[flaml.automl: 09-29 23:03:31] {1763} INFO - iteration 108, current learner extra_tree\n",
      "[flaml.automl: 09-29 23:03:31] {1952} INFO -  at 237.2s,\testimator extra_tree's best error=0.3753,\tbest estimator lgbm's best error=0.3304\n",
      "[flaml.automl: 09-29 23:03:31] {1763} INFO - iteration 109, current learner rf\n",
      "[flaml.automl: 09-29 23:03:31] {1952} INFO -  at 237.5s,\testimator rf's best error=0.3529,\tbest estimator lgbm's best error=0.3304\n",
      "[flaml.automl: 09-29 23:03:31] {1763} INFO - iteration 110, current learner lrl1\n",
      "/home/dmx/miniconda2/envs/blend/lib/python3.8/site-packages/sklearn/linear_model/_sag.py:352: ConvergenceWarning: The max_iter was reached which means the coef_ did not converge\n",
      "  warnings.warn(\n",
      "[flaml.automl: 09-29 23:03:32] {1952} INFO -  at 238.6s,\testimator lrl1's best error=0.4334,\tbest estimator lgbm's best error=0.3304\n",
      "[flaml.automl: 09-29 23:03:32] {1763} INFO - iteration 111, current learner extra_tree\n",
      "[flaml.automl: 09-29 23:03:33] {1952} INFO -  at 238.8s,\testimator extra_tree's best error=0.3753,\tbest estimator lgbm's best error=0.3304\n",
      "[flaml.automl: 09-29 23:03:33] {1763} INFO - iteration 112, current learner extra_tree\n",
      "[flaml.automl: 09-29 23:03:33] {1952} INFO -  at 238.9s,\testimator extra_tree's best error=0.3753,\tbest estimator lgbm's best error=0.3304\n",
      "[flaml.automl: 09-29 23:03:33] {1763} INFO - iteration 113, current learner extra_tree\n",
      "[flaml.automl: 09-29 23:03:33] {1952} INFO -  at 239.0s,\testimator extra_tree's best error=0.3753,\tbest estimator lgbm's best error=0.3304\n",
      "[flaml.automl: 09-29 23:03:33] {1763} INFO - iteration 114, current learner extra_tree\n",
      "[flaml.automl: 09-29 23:03:33] {1952} INFO -  at 239.2s,\testimator extra_tree's best error=0.3753,\tbest estimator lgbm's best error=0.3304\n",
      "[flaml.automl: 09-29 23:03:33] {1763} INFO - iteration 115, current learner extra_tree\n",
      "[flaml.automl: 09-29 23:03:33] {1952} INFO -  at 239.2s,\testimator extra_tree's best error=0.3753,\tbest estimator lgbm's best error=0.3304\n",
      "[flaml.automl: 09-29 23:03:33] {1763} INFO - iteration 116, current learner extra_tree\n",
      "[flaml.automl: 09-29 23:03:33] {1952} INFO -  at 239.3s,\testimator extra_tree's best error=0.3753,\tbest estimator lgbm's best error=0.3304\n",
      "[flaml.automl: 09-29 23:03:33] {1763} INFO - iteration 117, current learner extra_tree\n",
      "[flaml.automl: 09-29 23:03:33] {1952} INFO -  at 239.4s,\testimator extra_tree's best error=0.3753,\tbest estimator lgbm's best error=0.3304\n",
      "[flaml.automl: 09-29 23:03:33] {1763} INFO - iteration 118, current learner extra_tree\n",
      "[flaml.automl: 09-29 23:03:33] {1952} INFO -  at 239.5s,\testimator extra_tree's best error=0.3753,\tbest estimator lgbm's best error=0.3304\n",
      "[flaml.automl: 09-29 23:03:33] {1763} INFO - iteration 119, current learner extra_tree\n",
      "[flaml.automl: 09-29 23:03:33] {1952} INFO -  at 239.6s,\testimator extra_tree's best error=0.3753,\tbest estimator lgbm's best error=0.3304\n",
      "[flaml.automl: 09-29 23:03:33] {1763} INFO - iteration 120, current learner extra_tree\n",
      "[flaml.automl: 09-29 23:03:33] {1952} INFO -  at 239.7s,\testimator extra_tree's best error=0.3753,\tbest estimator lgbm's best error=0.3304\n",
      "[flaml.automl: 09-29 23:03:33] {1763} INFO - iteration 121, current learner extra_tree\n",
      "[flaml.automl: 09-29 23:03:34] {1952} INFO -  at 239.7s,\testimator extra_tree's best error=0.3753,\tbest estimator lgbm's best error=0.3304\n",
      "[flaml.automl: 09-29 23:03:34] {1763} INFO - iteration 122, current learner extra_tree\n",
      "[flaml.automl: 09-29 23:03:34] {1952} INFO -  at 239.8s,\testimator extra_tree's best error=0.3753,\tbest estimator lgbm's best error=0.3304\n",
      "[flaml.automl: 09-29 23:03:34] {2059} INFO - selected model: LGBMClassifier(learning_rate=0.103202582419745, max_bin=1023,\n",
      "               min_child_samples=36, n_estimators=1071, num_leaves=25,\n",
      "               reg_alpha=0.0009765625, reg_lambda=0.08547376339713011,\n",
      "               verbose=-1)\n",
      "[flaml.automl: 09-29 23:04:01] {2122} INFO - retrain lgbm for 27.2s\n",
      "[flaml.automl: 09-29 23:04:01] {2128} INFO - retrained model: LGBMClassifier(learning_rate=0.103202582419745, max_bin=1023,\n",
      "               min_child_samples=36, n_estimators=1071, num_leaves=25,\n",
      "               reg_alpha=0.0009765625, reg_lambda=0.08547376339713011,\n",
      "               verbose=-1)\n",
      "[flaml.automl: 09-29 23:04:01] {1557} INFO - fit succeeded\n",
      "[flaml.automl: 09-29 23:04:01] {1558} INFO - Time taken to find the best model: 155.82548141479492\n"
     ]
    }
   ],
   "metadata": {
    "slideshow": {
     "slide_type": "slide"
    },
    "tags": [
     "outputPrepend"
    ]
   }
  },
  {
   "cell_type": "markdown",
   "source": [
    "### Best model and metric"
   ],
   "metadata": {
    "slideshow": {
     "slide_type": "slide"
    }
   }
  },
  {
   "cell_type": "code",
   "execution_count": 5,
   "source": [
    "''' retrieve best config and best learner'''\n",
    "print('Best ML leaner:', automl.best_estimator)\n",
    "print('Best hyperparmeter config:', automl.best_config)\n",
    "print('Best accuracy on validation data: {0:.4g}'.format(1-automl.best_loss))\n",
    "print('Training duration of best run: {0:.4g} s'.format(automl.best_config_train_time))"
   ],
   "outputs": [
    {
     "output_type": "stream",
     "name": "stdout",
     "text": [
      "Best ML leaner: lgbm\n",
      "Best hyperparmeter config: {'n_estimators': 1071, 'num_leaves': 25, 'min_child_samples': 36, 'learning_rate': 0.103202582419745, 'log_max_bin': 10, 'colsample_bytree': 1.0, 'reg_alpha': 0.0009765625, 'reg_lambda': 0.08547376339713011, 'FLAML_sample_size': 364083}\n",
      "Best accuracy on validation data: 0.6696\n",
      "Training duration of best run: 30.77 s\n"
     ]
    }
   ],
   "metadata": {
    "slideshow": {
     "slide_type": "slide"
    },
    "tags": []
   }
  },
  {
   "cell_type": "code",
   "execution_count": 6,
   "source": [
    "automl.model.estimator"
   ],
   "outputs": [
    {
     "output_type": "execute_result",
     "data": {
      "text/plain": [
       "LGBMClassifier(learning_rate=0.103202582419745, max_bin=1023,\n",
       "               min_child_samples=36, n_estimators=1071, num_leaves=25,\n",
       "               reg_alpha=0.0009765625, reg_lambda=0.08547376339713011,\n",
       "               verbose=-1)"
      ]
     },
     "metadata": {},
     "execution_count": 6
    }
   ],
   "metadata": {
    "slideshow": {
     "slide_type": "slide"
    }
   }
  },
  {
   "cell_type": "code",
   "execution_count": 7,
   "source": [
    "''' pickle and save the automl object '''\n",
    "import pickle\n",
    "with open('automl.pkl', 'wb') as f:\n",
    "    pickle.dump(automl, f, pickle.HIGHEST_PROTOCOL)"
   ],
   "outputs": [],
   "metadata": {
    "slideshow": {
     "slide_type": "slide"
    }
   }
  },
  {
   "cell_type": "code",
   "execution_count": 8,
   "source": [
    "''' compute predictions of testing dataset ''' \n",
    "y_pred = automl.predict(X_test)\n",
    "print('Predicted labels', y_pred)\n",
    "print('True labels', y_test)\n",
    "y_pred_proba = automl.predict_proba(X_test)[:,1]"
   ],
   "outputs": [
    {
     "output_type": "stream",
     "name": "stdout",
     "text": [
      "Predicted labels ['1' '0' '1' ... '1' '0' '0']\n",
      "True labels 118331    0\n",
      "328182    0\n",
      "335454    0\n",
      "520591    1\n",
      "344651    0\n",
      "         ..\n",
      "367080    0\n",
      "203510    1\n",
      "254894    0\n",
      "296512    1\n",
      "362444    0\n",
      "Name: Delay, Length: 134846, dtype: category\n",
      "Categories (2, object): ['0' < '1']\n"
     ]
    }
   ],
   "metadata": {
    "slideshow": {
     "slide_type": "slide"
    },
    "tags": []
   }
  },
  {
   "cell_type": "code",
   "execution_count": 9,
   "source": [
    "''' compute different metric values on testing dataset'''\n",
    "from flaml.ml import sklearn_metric_loss_score\n",
    "print('accuracy', '=', 1 - sklearn_metric_loss_score('accuracy', y_pred, y_test))\n",
    "print('roc_auc', '=', 1 - sklearn_metric_loss_score('roc_auc', y_pred_proba, y_test))\n",
    "print('log_loss', '=', sklearn_metric_loss_score('log_loss', y_pred_proba, y_test))"
   ],
   "outputs": [
    {
     "output_type": "stream",
     "name": "stdout",
     "text": [
      "accuracy = 0.6720332824110467\n",
      "roc_auc = 0.7253276908529442\n",
      "log_loss = 0.6034449031876984\n"
     ]
    }
   ],
   "metadata": {
    "slideshow": {
     "slide_type": "slide"
    },
    "tags": []
   }
  },
  {
   "cell_type": "markdown",
   "source": [
    "See Section 4 for an accuracy comparison with default LightGBM and XGBoost.\n",
    "\n",
    "### Log history"
   ],
   "metadata": {
    "slideshow": {
     "slide_type": "slide"
    }
   }
  },
  {
   "cell_type": "code",
   "execution_count": 10,
   "source": [
    "from flaml.data import get_output_from_log\n",
    "time_history, best_valid_loss_history, valid_loss_history, config_history, metric_history = \\\n",
    "    get_output_from_log(filename=settings['log_file_name'], time_budget=240)\n",
    "for config in config_history:\n",
    "    print(config)"
   ],
   "outputs": [
    {
     "output_type": "stream",
     "name": "stdout",
     "text": [
      "{'Current Learner': 'lgbm', 'Current Sample': 10000, 'Current Hyper-parameters': {'n_estimators': 4, 'num_leaves': 4, 'min_child_samples': 20, 'learning_rate': 0.09999999999999995, 'log_max_bin': 8, 'colsample_bytree': 1.0, 'reg_alpha': 0.0009765625, 'reg_lambda': 1.0, 'FLAML_sample_size': 10000}, 'Best Learner': 'lgbm', 'Best Hyper-parameters': {'n_estimators': 4, 'num_leaves': 4, 'min_child_samples': 20, 'learning_rate': 0.09999999999999995, 'log_max_bin': 8, 'colsample_bytree': 1.0, 'reg_alpha': 0.0009765625, 'reg_lambda': 1.0, 'FLAML_sample_size': 10000}}\n",
      "{'Current Learner': 'lgbm', 'Current Sample': 10000, 'Current Hyper-parameters': {'n_estimators': 4, 'num_leaves': 14, 'min_child_samples': 15, 'learning_rate': 0.2284139062380884, 'log_max_bin': 9, 'colsample_bytree': 1.0, 'reg_alpha': 0.0014700173967242716, 'reg_lambda': 7.624911621832711, 'FLAML_sample_size': 10000}, 'Best Learner': 'lgbm', 'Best Hyper-parameters': {'n_estimators': 4, 'num_leaves': 14, 'min_child_samples': 15, 'learning_rate': 0.2284139062380884, 'log_max_bin': 9, 'colsample_bytree': 1.0, 'reg_alpha': 0.0014700173967242716, 'reg_lambda': 7.624911621832711, 'FLAML_sample_size': 10000}}\n",
      "{'Current Learner': 'lgbm', 'Current Sample': 10000, 'Current Hyper-parameters': {'n_estimators': 4, 'num_leaves': 25, 'min_child_samples': 12, 'learning_rate': 0.5082200481556807, 'log_max_bin': 8, 'colsample_bytree': 0.9696263001275751, 'reg_alpha': 0.0028107036379524425, 'reg_lambda': 3.716898117989413, 'FLAML_sample_size': 10000}, 'Best Learner': 'lgbm', 'Best Hyper-parameters': {'n_estimators': 4, 'num_leaves': 25, 'min_child_samples': 12, 'learning_rate': 0.5082200481556807, 'log_max_bin': 8, 'colsample_bytree': 0.9696263001275751, 'reg_alpha': 0.0028107036379524425, 'reg_lambda': 3.716898117989413, 'FLAML_sample_size': 10000}}\n",
      "{'Current Learner': 'lgbm', 'Current Sample': 10000, 'Current Hyper-parameters': {'n_estimators': 23, 'num_leaves': 14, 'min_child_samples': 15, 'learning_rate': 0.2284139062380884, 'log_max_bin': 9, 'colsample_bytree': 1.0, 'reg_alpha': 0.0014700173967242718, 'reg_lambda': 7.624911621832699, 'FLAML_sample_size': 10000}, 'Best Learner': 'lgbm', 'Best Hyper-parameters': {'n_estimators': 23, 'num_leaves': 14, 'min_child_samples': 15, 'learning_rate': 0.2284139062380884, 'log_max_bin': 9, 'colsample_bytree': 1.0, 'reg_alpha': 0.0014700173967242718, 'reg_lambda': 7.624911621832699, 'FLAML_sample_size': 10000}}\n",
      "{'Current Learner': 'lgbm', 'Current Sample': 10000, 'Current Hyper-parameters': {'n_estimators': 101, 'num_leaves': 12, 'min_child_samples': 24, 'learning_rate': 0.07647794276357107, 'log_max_bin': 10, 'colsample_bytree': 1.0, 'reg_alpha': 0.001749539645587163, 'reg_lambda': 4.373760956394571, 'FLAML_sample_size': 10000}, 'Best Learner': 'lgbm', 'Best Hyper-parameters': {'n_estimators': 101, 'num_leaves': 12, 'min_child_samples': 24, 'learning_rate': 0.07647794276357107, 'log_max_bin': 10, 'colsample_bytree': 1.0, 'reg_alpha': 0.001749539645587163, 'reg_lambda': 4.373760956394571, 'FLAML_sample_size': 10000}}\n",
      "{'Current Learner': 'lgbm', 'Current Sample': 40000, 'Current Hyper-parameters': {'n_estimators': 101, 'num_leaves': 12, 'min_child_samples': 24, 'learning_rate': 0.07647794276357107, 'log_max_bin': 10, 'colsample_bytree': 1.0, 'reg_alpha': 0.001749539645587163, 'reg_lambda': 4.373760956394571, 'FLAML_sample_size': 40000}, 'Best Learner': 'lgbm', 'Best Hyper-parameters': {'n_estimators': 101, 'num_leaves': 12, 'min_child_samples': 24, 'learning_rate': 0.07647794276357107, 'log_max_bin': 10, 'colsample_bytree': 1.0, 'reg_alpha': 0.001749539645587163, 'reg_lambda': 4.373760956394571, 'FLAML_sample_size': 40000}}\n",
      "{'Current Learner': 'lgbm', 'Current Sample': 40000, 'Current Hyper-parameters': {'n_estimators': 202, 'num_leaves': 11, 'min_child_samples': 32, 'learning_rate': 0.13528717598813889, 'log_max_bin': 9, 'colsample_bytree': 0.9851977789068981, 'reg_alpha': 0.0038372002422749608, 'reg_lambda': 0.25113531892556773, 'FLAML_sample_size': 40000}, 'Best Learner': 'lgbm', 'Best Hyper-parameters': {'n_estimators': 202, 'num_leaves': 11, 'min_child_samples': 32, 'learning_rate': 0.13528717598813889, 'log_max_bin': 9, 'colsample_bytree': 0.9851977789068981, 'reg_alpha': 0.0038372002422749608, 'reg_lambda': 0.25113531892556773, 'FLAML_sample_size': 40000}}\n",
      "{'Current Learner': 'lgbm', 'Current Sample': 364083, 'Current Hyper-parameters': {'n_estimators': 361, 'num_leaves': 11, 'min_child_samples': 32, 'learning_rate': 0.13528717598813889, 'log_max_bin': 9, 'colsample_bytree': 0.9851977789068981, 'reg_alpha': 0.0038372002422749608, 'reg_lambda': 0.25113531892556773, 'FLAML_sample_size': 364083}, 'Best Learner': 'lgbm', 'Best Hyper-parameters': {'n_estimators': 361, 'num_leaves': 11, 'min_child_samples': 32, 'learning_rate': 0.13528717598813889, 'log_max_bin': 9, 'colsample_bytree': 0.9851977789068981, 'reg_alpha': 0.0038372002422749608, 'reg_lambda': 0.25113531892556773, 'FLAML_sample_size': 364083}}\n",
      "{'Current Learner': 'lgbm', 'Current Sample': 364083, 'Current Hyper-parameters': {'n_estimators': 547, 'num_leaves': 46, 'min_child_samples': 60, 'learning_rate': 0.2813233060910887, 'log_max_bin': 10, 'colsample_bytree': 1.0, 'reg_alpha': 0.0016433526942662875, 'reg_lambda': 0.14719738747481906, 'FLAML_sample_size': 364083}, 'Best Learner': 'lgbm', 'Best Hyper-parameters': {'n_estimators': 547, 'num_leaves': 46, 'min_child_samples': 60, 'learning_rate': 0.2813233060910887, 'log_max_bin': 10, 'colsample_bytree': 1.0, 'reg_alpha': 0.0016433526942662875, 'reg_lambda': 0.14719738747481906, 'FLAML_sample_size': 364083}}\n",
      "{'Current Learner': 'lgbm', 'Current Sample': 364083, 'Current Hyper-parameters': {'n_estimators': 1071, 'num_leaves': 25, 'min_child_samples': 36, 'learning_rate': 0.103202582419745, 'log_max_bin': 10, 'colsample_bytree': 1.0, 'reg_alpha': 0.0009765625, 'reg_lambda': 0.08547376339713011, 'FLAML_sample_size': 364083}, 'Best Learner': 'lgbm', 'Best Hyper-parameters': {'n_estimators': 1071, 'num_leaves': 25, 'min_child_samples': 36, 'learning_rate': 0.103202582419745, 'log_max_bin': 10, 'colsample_bytree': 1.0, 'reg_alpha': 0.0009765625, 'reg_lambda': 0.08547376339713011, 'FLAML_sample_size': 364083}}\n"
     ]
    }
   ],
   "metadata": {
    "slideshow": {
     "slide_type": "subslide"
    },
    "tags": []
   }
  },
  {
   "cell_type": "code",
   "execution_count": 11,
   "source": [
    "import matplotlib.pyplot as plt\n",
    "import numpy as np\n",
    "\n",
    "plt.title('Learning Curve')\n",
    "plt.xlabel('Wall Clock Time (s)')\n",
    "plt.ylabel('Validation Accuracy')\n",
    "plt.scatter(time_history, 1 - np.array(valid_loss_history))\n",
    "plt.step(time_history, 1 - np.array(best_valid_loss_history), where='post')\n",
    "plt.show()"
   ],
   "outputs": [
    {
     "output_type": "display_data",
     "data": {
      "image/png": "[encoded data removed]",
      "text/plain": [
       "<Figure size 432x288 with 1 Axes>"
      ]
     },
     "metadata": {
      "needs_background": "light"
     }
    }
   ],
   "metadata": {
    "slideshow": {
     "slide_type": "slide"
    }
   }
  },
  {
   "cell_type": "markdown",
   "source": [
    "## 3. Comparison with alternatives\n"
   ],
   "metadata": {}
  },
  {
   "cell_type": "markdown",
   "source": [
    "### Default LightGBM"
   ],
   "metadata": {}
  },
  {
   "cell_type": "code",
   "execution_count": 12,
   "source": [
    "from lightgbm import LGBMClassifier\n",
    "lgbm = LGBMClassifier()"
   ],
   "outputs": [],
   "metadata": {}
  },
  {
   "cell_type": "code",
   "execution_count": 13,
   "source": [
    "lgbm.fit(X_train, y_train)"
   ],
   "outputs": [
    {
     "output_type": "execute_result",
     "data": {
      "text/plain": [
       "LGBMClassifier()"
      ]
     },
     "metadata": {},
     "execution_count": 13
    }
   ],
   "metadata": {}
  },
  {
   "cell_type": "code",
   "execution_count": 14,
   "source": [
    "y_pred_lgbm = lgbm.predict(X_test)"
   ],
   "outputs": [],
   "metadata": {}
  },
  {
   "cell_type": "markdown",
   "source": [
    "### Default XGBoost"
   ],
   "metadata": {}
  },
  {
   "cell_type": "code",
   "execution_count": 15,
   "source": [
    "from xgboost import XGBClassifier\n",
    "xgb = XGBClassifier()\n",
    "cat_columns = X_train.select_dtypes(include=['category']).columns\n",
    "X = X_train.copy()\n",
    "X[cat_columns] = X[cat_columns].apply(lambda x: x.cat.codes)\n"
   ],
   "outputs": [],
   "metadata": {}
  },
  {
   "cell_type": "code",
   "execution_count": 16,
   "source": [
    "xgb.fit(X, y_train)"
   ],
   "outputs": [
    {
     "output_type": "execute_result",
     "data": {
      "text/plain": [
       "XGBClassifier(base_score=0.5, booster='gbtree', colsample_bylevel=1,\n",
       "              colsample_bynode=1, colsample_bytree=1, gamma=0, gpu_id=-1,\n",
       "              importance_type='gain', interaction_constraints='',\n",
       "              learning_rate=0.300000012, max_delta_step=0, max_depth=6,\n",
       "              min_child_weight=1, missing=nan, monotone_constraints='()',\n",
       "              n_estimators=100, n_jobs=0, num_parallel_tree=1, random_state=0,\n",
       "              reg_alpha=0, reg_lambda=1, scale_pos_weight=1, subsample=1,\n",
       "              tree_method='exact', validate_parameters=1, verbosity=None)"
      ]
     },
     "metadata": {},
     "execution_count": 16
    }
   ],
   "metadata": {}
  },
  {
   "cell_type": "code",
   "execution_count": 17,
   "source": [
    "X = X_test.copy()\n",
    "X[cat_columns] = X[cat_columns].apply(lambda x: x.cat.codes)\n",
    "y_pred_xgb = xgb.predict(X)"
   ],
   "outputs": [],
   "metadata": {}
  },
  {
   "cell_type": "code",
   "execution_count": 18,
   "source": [
    "print('default xgboost accuracy', '=', 1 - sklearn_metric_loss_score('accuracy', y_pred_xgb, y_test))\n",
    "print('default lgbm accuracy', '=', 1 - sklearn_metric_loss_score('accuracy', y_pred_lgbm, y_test))\n",
    "print('flaml (4min) accuracy', '=', 1 - sklearn_metric_loss_score('accuracy', y_pred, y_test))"
   ],
   "outputs": [
    {
     "output_type": "stream",
     "name": "stdout",
     "text": [
      "default xgboost accuracy = 0.6676060098186078\n",
      "default lgbm accuracy = 0.6602346380315323\n",
      "flaml accuracy = 0.6720332824110467\n"
     ]
    }
   ],
   "metadata": {}
  },
  {
   "cell_type": "markdown",
   "source": [
    "## 4. Customized Learner"
   ],
   "metadata": {
    "slideshow": {
     "slide_type": "slide"
    }
   }
  },
  {
   "cell_type": "markdown",
   "source": [
    "Some experienced automl users may have a preferred model to tune or may already have a reasonably by-hand-tuned model before launching the automl experiment. They need to select optimal configurations for the customized model mixed with standard built-in learners. \n",
    "\n",
    "FLAML can easily incorporate customized/new learners (preferably with sklearn API) provided by users in a real-time manner, as demonstrated below."
   ],
   "metadata": {
    "slideshow": {
     "slide_type": "slide"
    }
   }
  },
  {
   "cell_type": "markdown",
   "source": [
    "### Example of Regularized Greedy Forest\n",
    "\n",
    "[Regularized Greedy Forest](https://arxiv.org/abs/1109.0887) (RGF) is a machine learning method currently not included in FLAML. The RGF has many tuning parameters, the most critical of which are: `[max_leaf, n_iter, n_tree_search, opt_interval, min_samples_leaf]`. To run a customized/new learner, the user needs to provide the following information:\n",
    "* an implementation of the customized/new learner\n",
    "* a list of hyperparameter names and types\n",
    "* rough ranges of hyperparameters (i.e., upper/lower bounds)\n",
    "* choose initial value corresponding to low cost for cost-related hyperparameters (e.g., initial value for max_leaf and n_iter should be small)\n",
    "\n",
    "In this example, the above information for RGF is wrapped in a python class called *MyRegularizedGreedyForest* that exposes the hyperparameters."
   ],
   "metadata": {
    "slideshow": {
     "slide_type": "slide"
    }
   }
  },
  {
   "cell_type": "code",
   "execution_count": 19,
   "source": [
    "''' SKLearnEstimator is the super class for a sklearn learner '''\n",
    "from flaml.model import SKLearnEstimator\n",
    "from flaml import tune\n",
    "from rgf.sklearn import RGFClassifier, RGFRegressor\n",
    "\n",
    "\n",
    "class MyRegularizedGreedyForest(SKLearnEstimator):\n",
    "    def __init__(self, task='binary', **config):\n",
    "        '''Constructor\n",
    "        \n",
    "        Args:\n",
    "            task: A string of the task type, one of\n",
    "                'binary', 'multi', 'regression'\n",
    "            config: A dictionary containing the hyperparameter names\n",
    "                and 'n_jobs' as keys. n_jobs is the number of parallel threads.\n",
    "        '''\n",
    "\n",
    "        super().__init__(task, **config)\n",
    "\n",
    "        '''task=binary or multi for classification task'''\n",
    "        if task in (\"binary\", \"multi\"):\n",
    "            self.estimator_class = RGFClassifier\n",
    "        else:\n",
    "            self.estimator_class = RGFRegressor\n",
    "\n",
    "    @classmethod\n",
    "    def search_space(cls, data_size, task):\n",
    "        '''[required method] search space\n",
    "\n",
    "        Returns:\n",
    "            A dictionary of the search space. \n",
    "            Each key is the name of a hyperparameter, and value is a dict with\n",
    "                its domain (required) and low_cost_init_value, init_value,\n",
    "                cat_hp_cost (if applicable).\n",
    "                e.g.,\n",
    "                {'domain': tune.randint(lower=1, upper=10), 'init_value': 1}.\n",
    "        '''\n",
    "        space = {        \n",
    "            'max_leaf': {'domain': tune.lograndint(lower=4, upper=data_size), 'init_value': 4, 'low_cost_init_value': 4},\n",
    "            'n_iter': {'domain': tune.lograndint(lower=1, upper=data_size), 'init_value': 1, 'low_cost_init_value': 1},\n",
    "            'n_tree_search': {'domain': tune.lograndint(lower=1, upper=32768), 'init_value': 1, 'low_cost_init_value': 1},\n",
    "            'opt_interval': {'domain': tune.lograndint(lower=1, upper=10000), 'init_value': 100},\n",
    "            'learning_rate': {'domain': tune.loguniform(lower=0.01, upper=20.0)},\n",
    "            'min_samples_leaf': {'domain': tune.lograndint(lower=1, upper=20), 'init_value': 20},\n",
    "        }\n",
    "        return space\n",
    "\n",
    "    @classmethod\n",
    "    def size(cls, config):\n",
    "        '''[optional method] memory size of the estimator in bytes\n",
    "        \n",
    "        Args:\n",
    "            config - the dict of the hyperparameter config\n",
    "\n",
    "        Returns:\n",
    "            A float of the memory size required by the estimator to train the\n",
    "            given config\n",
    "        '''\n",
    "        max_leaves = int(round(config['max_leaf']))\n",
    "        n_estimators = int(round(config['n_iter']))\n",
    "        return (max_leaves * 3 + (max_leaves - 1) * 4 + 1.0) * n_estimators * 8\n",
    "\n",
    "    @classmethod\n",
    "    def cost_relative2lgbm(cls):\n",
    "        '''[optional method] relative cost compared to lightgbm\n",
    "        '''\n",
    "        return 1.0\n"
   ],
   "outputs": [],
   "metadata": {
    "slideshow": {
     "slide_type": "slide"
    }
   }
  },
  {
   "cell_type": "markdown",
   "source": [
    "### Add Customized Learner and Run FLAML AutoML\n",
    "\n",
    "After adding RGF into the list of learners, we run automl by tuning hyperpameters of RGF as well as the default learners. "
   ],
   "metadata": {
    "slideshow": {
     "slide_type": "slide"
    }
   }
  },
  {
   "cell_type": "code",
   "execution_count": 20,
   "source": [
    "automl = AutoML()\n",
    "automl.add_learner(learner_name='RGF', learner_class=MyRegularizedGreedyForest)"
   ],
   "outputs": [],
   "metadata": {
    "slideshow": {
     "slide_type": "slide"
    }
   }
  },
  {
   "cell_type": "code",
   "execution_count": 21,
   "source": [
    "settings = {\n",
    "    \"time_budget\": 10,  # total running time in seconds\n",
    "    \"metric\": 'accuracy', \n",
    "    \"estimator_list\": ['RGF', 'lgbm', 'rf', 'xgboost'],  # list of ML learners\n",
    "    \"task\": 'classification',  # task type    \n",
    "    \"log_file_name\": 'airlines_experiment_custom_learner.log',  # flaml log file \n",
    "    \"log_training_metric\": True,  # whether to log training metric\n",
    "}\n",
    "\n",
    "automl.fit(X_train = X_train, y_train = y_train, **settings)"
   ],
   "outputs": [
    {
     "output_type": "stream",
     "name": "stderr",
     "text": [
      "[flaml.automl: 09-29 23:05:04] {1446} INFO - Data split method: stratified\n",
      "[flaml.automl: 09-29 23:05:04] {1450} INFO - Evaluation method: holdout\n",
      "[flaml.automl: 09-29 23:05:04] {1496} INFO - Minimizing error metric: 1-accuracy\n",
      "[flaml.automl: 09-29 23:05:04] {1533} INFO - List of ML learners in AutoML Run: ['RGF', 'lgbm', 'rf', 'xgboost']\n",
      "[flaml.automl: 09-29 23:05:04] {1763} INFO - iteration 0, current learner RGF\n",
      "/home/dmx/miniconda2/envs/blend/lib/python3.8/site-packages/rgf/utils.py:225: UserWarning: Cannot find FastRGF executable files. FastRGF estimators will be unavailable for usage.\n",
      "  warnings.warn(\"Cannot find FastRGF executable files. \"\n",
      "[flaml.automl: 09-29 23:05:07] {1880} INFO - Estimated sufficient time budget=1012177s. Estimated necessary time budget=1012s.\n",
      "[flaml.automl: 09-29 23:05:07] {1952} INFO -  at 3.7s,\testimator RGF's best error=0.4333,\tbest estimator RGF's best error=0.4333\n",
      "[flaml.automl: 09-29 23:05:07] {1763} INFO - iteration 1, current learner RGF\n",
      "[flaml.automl: 09-29 23:05:09] {1952} INFO -  at 5.0s,\testimator RGF's best error=0.3787,\tbest estimator RGF's best error=0.3787\n",
      "[flaml.automl: 09-29 23:05:09] {1763} INFO - iteration 2, current learner RGF\n",
      "[flaml.automl: 09-29 23:05:10] {1952} INFO -  at 6.4s,\testimator RGF's best error=0.3787,\tbest estimator RGF's best error=0.3787\n",
      "[flaml.automl: 09-29 23:05:10] {1763} INFO - iteration 3, current learner RGF\n",
      "[flaml.automl: 09-29 23:05:11] {1952} INFO -  at 7.4s,\testimator RGF's best error=0.3787,\tbest estimator RGF's best error=0.3787\n",
      "[flaml.automl: 09-29 23:05:11] {1763} INFO - iteration 4, current learner RGF\n",
      "[flaml.automl: 09-29 23:05:12] {1952} INFO -  at 8.5s,\testimator RGF's best error=0.3787,\tbest estimator RGF's best error=0.3787\n",
      "[flaml.automl: 09-29 23:05:12] {1763} INFO - iteration 5, current learner lgbm\n",
      "[flaml.automl: 09-29 23:05:12] {1952} INFO -  at 8.5s,\testimator lgbm's best error=0.4459,\tbest estimator RGF's best error=0.3787\n",
      "[flaml.automl: 09-29 23:05:12] {1763} INFO - iteration 6, current learner lgbm\n",
      "[flaml.automl: 09-29 23:05:12] {1952} INFO -  at 8.6s,\testimator lgbm's best error=0.4459,\tbest estimator RGF's best error=0.3787\n",
      "[flaml.automl: 09-29 23:05:12] {1763} INFO - iteration 7, current learner lgbm\n",
      "[flaml.automl: 09-29 23:05:12] {1952} INFO -  at 8.6s,\testimator lgbm's best error=0.3777,\tbest estimator lgbm's best error=0.3777\n",
      "[flaml.automl: 09-29 23:05:12] {1763} INFO - iteration 8, current learner lgbm\n",
      "[flaml.automl: 09-29 23:05:12] {1952} INFO -  at 8.7s,\testimator lgbm's best error=0.3777,\tbest estimator lgbm's best error=0.3777\n",
      "[flaml.automl: 09-29 23:05:12] {1763} INFO - iteration 9, current learner lgbm\n",
      "[flaml.automl: 09-29 23:05:12] {1952} INFO -  at 8.7s,\testimator lgbm's best error=0.3777,\tbest estimator lgbm's best error=0.3777\n",
      "[flaml.automl: 09-29 23:05:12] {1763} INFO - iteration 10, current learner lgbm\n",
      "[flaml.automl: 09-29 23:05:12] {1952} INFO -  at 8.8s,\testimator lgbm's best error=0.3777,\tbest estimator lgbm's best error=0.3777\n",
      "[flaml.automl: 09-29 23:05:12] {1763} INFO - iteration 11, current learner lgbm\n",
      "[flaml.automl: 09-29 23:05:12] {1952} INFO -  at 8.9s,\testimator lgbm's best error=0.3777,\tbest estimator lgbm's best error=0.3777\n",
      "[flaml.automl: 09-29 23:05:12] {1763} INFO - iteration 12, current learner lgbm\n",
      "[flaml.automl: 09-29 23:05:12] {1952} INFO -  at 8.9s,\testimator lgbm's best error=0.3777,\tbest estimator lgbm's best error=0.3777\n",
      "[flaml.automl: 09-29 23:05:12] {1763} INFO - iteration 13, current learner lgbm\n",
      "[flaml.automl: 09-29 23:05:13] {1952} INFO -  at 9.1s,\testimator lgbm's best error=0.3752,\tbest estimator lgbm's best error=0.3752\n",
      "[flaml.automl: 09-29 23:05:13] {1763} INFO - iteration 14, current learner lgbm\n",
      "[flaml.automl: 09-29 23:05:13] {1952} INFO -  at 9.2s,\testimator lgbm's best error=0.3752,\tbest estimator lgbm's best error=0.3752\n",
      "[flaml.automl: 09-29 23:05:13] {1763} INFO - iteration 15, current learner lgbm\n",
      "[flaml.automl: 09-29 23:05:13] {1952} INFO -  at 9.3s,\testimator lgbm's best error=0.3752,\tbest estimator lgbm's best error=0.3752\n",
      "[flaml.automl: 09-29 23:05:13] {1763} INFO - iteration 16, current learner lgbm\n",
      "[flaml.automl: 09-29 23:05:13] {1952} INFO -  at 9.4s,\testimator lgbm's best error=0.3752,\tbest estimator lgbm's best error=0.3752\n",
      "[flaml.automl: 09-29 23:05:13] {1763} INFO - iteration 17, current learner lgbm\n",
      "[flaml.automl: 09-29 23:05:13] {1952} INFO -  at 9.5s,\testimator lgbm's best error=0.3752,\tbest estimator lgbm's best error=0.3752\n",
      "[flaml.automl: 09-29 23:05:13] {1763} INFO - iteration 18, current learner lgbm\n",
      "[flaml.automl: 09-29 23:05:13] {1952} INFO -  at 9.6s,\testimator lgbm's best error=0.3752,\tbest estimator lgbm's best error=0.3752\n",
      "[flaml.automl: 09-29 23:05:13] {1763} INFO - iteration 19, current learner lgbm\n",
      "[flaml.automl: 09-29 23:05:13] {1952} INFO -  at 9.7s,\testimator lgbm's best error=0.3752,\tbest estimator lgbm's best error=0.3752\n",
      "[flaml.automl: 09-29 23:05:13] {1763} INFO - iteration 20, current learner lgbm\n",
      "[flaml.automl: 09-29 23:05:13] {1952} INFO -  at 9.8s,\testimator lgbm's best error=0.3663,\tbest estimator lgbm's best error=0.3663\n",
      "[flaml.automl: 09-29 23:05:13] {1763} INFO - iteration 21, current learner lgbm\n",
      "[flaml.automl: 09-29 23:05:13] {1952} INFO -  at 9.9s,\testimator lgbm's best error=0.3663,\tbest estimator lgbm's best error=0.3663\n",
      "[flaml.automl: 09-29 23:05:13] {1763} INFO - iteration 22, current learner xgboost\n",
      "[flaml.automl: 09-29 23:05:13] {1952} INFO -  at 10.0s,\testimator xgboost's best error=0.3787,\tbest estimator lgbm's best error=0.3663\n",
      "[flaml.automl: 09-29 23:05:13] {1763} INFO - iteration 23, current learner rf\n",
      "[flaml.automl: 09-29 23:05:14] {1952} INFO -  at 10.0s,\testimator rf's best error=0.3787,\tbest estimator lgbm's best error=0.3663\n",
      "[flaml.automl: 09-29 23:05:14] {2059} INFO - selected model: LGBMClassifier(learning_rate=1.0, max_bin=127, min_child_samples=10,\n",
      "               n_estimators=1, num_leaves=16, reg_alpha=0.0009765625,\n",
      "               reg_lambda=0.7419123191092338, verbose=-1)\n",
      "[flaml.automl: 09-29 23:05:14] {2130} INFO - not retraining because the time budget is too small.\n",
      "[flaml.automl: 09-29 23:05:14] {1557} INFO - fit succeeded\n",
      "[flaml.automl: 09-29 23:05:14] {1558} INFO - Time taken to find the best model: 9.787839651107788\n",
      "[flaml.automl: 09-29 23:05:14] {1569} WARNING - Time taken to find the best model is 98% of the provided time budget and not all estimators' hyperparameter search converged. Consider increasing the time budget.\n"
     ]
    }
   ],
   "metadata": {
    "slideshow": {
     "slide_type": "slide"
    },
    "tags": []
   }
  },
  {
   "cell_type": "markdown",
   "source": [
    "## 5. Customized Metric\n",
    "\n",
    "It's also easy to customize the optimization metric. As an example, we demonstrate with a custom metric function which combines training loss and test loss as the final loss to minimize."
   ],
   "metadata": {}
  },
  {
   "cell_type": "code",
   "execution_count": 22,
   "source": [
    "def custom_metric(X_test, y_test, estimator, labels, X_train, y_train,\n",
    "                  weight_test=None, weight_train=None, config=None,\n",
    "                  groups_test=None, groups_train=None):\n",
    "    from sklearn.metrics import log_loss\n",
    "    import time\n",
    "    start = time.time()\n",
    "    y_pred = estimator.predict_proba(X_test)\n",
    "    pred_time = (time.time() - start) / len(X_test)\n",
    "    test_loss = log_loss(y_test, y_pred, labels=labels,\n",
    "                         sample_weight=weight_test)\n",
    "    y_pred = estimator.predict_proba(X_train)\n",
    "    train_loss = log_loss(y_train, y_pred, labels=labels,\n",
    "                          sample_weight=weight_train)\n",
    "    alpha = 0.5\n",
    "    return test_loss * (1 + alpha) - alpha * train_loss, {\n",
    "        \"test_loss\": test_loss, \"train_loss\": train_loss, \"pred_time\": pred_time\n",
    "    }\n",
    "    # two elements are returned:\n",
    "    # the first element is the metric to minimize as a float number,\n",
    "    # the second element is a dictionary of the metrics to log"
   ],
   "outputs": [],
   "metadata": {}
  },
  {
   "cell_type": "markdown",
   "source": [
    "We can then pass this custom metric function to automl's `fit` method."
   ],
   "metadata": {}
  },
  {
   "cell_type": "code",
   "execution_count": 23,
   "source": [
    "automl = AutoML()\n",
    "settings = {\n",
    "    \"time_budget\": 10,  # total running time in seconds\n",
    "    \"metric\": custom_metric,  # pass the custom metric funtion here\n",
    "    \"task\": 'classification',  # task type\n",
    "    \"log_file_name\": 'airlines_experiment_custom_metric.log',  # flaml log file\n",
    "}\n",
    "\n",
    "automl.fit(X_train = X_train, y_train = y_train, **settings)"
   ],
   "outputs": [
    {
     "output_type": "stream",
     "name": "stderr",
     "text": [
      "[flaml.automl: 09-29 23:05:14] {1446} INFO - Data split method: stratified\n",
      "[flaml.automl: 09-29 23:05:14] {1450} INFO - Evaluation method: holdout\n",
      "[flaml.automl: 09-29 23:05:14] {1496} INFO - Minimizing error metric: customized metric\n",
      "[flaml.automl: 09-29 23:05:14] {1533} INFO - List of ML learners in AutoML Run: ['lgbm', 'rf', 'catboost', 'xgboost', 'extra_tree', 'lrl1']\n",
      "[flaml.automl: 09-29 23:05:14] {1763} INFO - iteration 0, current learner lgbm\n",
      "[flaml.automl: 09-29 23:05:15] {1880} INFO - Estimated sufficient time budget=40124s. Estimated necessary time budget=728s.\n",
      "[flaml.automl: 09-29 23:05:15] {1952} INFO -  at 0.9s,\testimator lgbm's best error=0.6647,\tbest estimator lgbm's best error=0.6647\n",
      "[flaml.automl: 09-29 23:05:15] {1763} INFO - iteration 1, current learner lgbm\n",
      "[flaml.automl: 09-29 23:05:15] {1952} INFO -  at 1.0s,\testimator lgbm's best error=0.6647,\tbest estimator lgbm's best error=0.6647\n",
      "[flaml.automl: 09-29 23:05:15] {1763} INFO - iteration 2, current learner lgbm\n",
      "[flaml.automl: 09-29 23:05:15] {1952} INFO -  at 1.1s,\testimator lgbm's best error=0.6491,\tbest estimator lgbm's best error=0.6491\n",
      "[flaml.automl: 09-29 23:05:15] {1763} INFO - iteration 3, current learner lgbm\n",
      "[flaml.automl: 09-29 23:05:15] {1952} INFO -  at 1.2s,\testimator lgbm's best error=0.6461,\tbest estimator lgbm's best error=0.6461\n",
      "[flaml.automl: 09-29 23:05:15] {1763} INFO - iteration 4, current learner lgbm\n",
      "[flaml.automl: 09-29 23:05:15] {1952} INFO -  at 1.3s,\testimator lgbm's best error=0.6461,\tbest estimator lgbm's best error=0.6461\n",
      "[flaml.automl: 09-29 23:05:15] {1763} INFO - iteration 5, current learner lgbm\n",
      "[flaml.automl: 09-29 23:05:15] {1952} INFO -  at 1.4s,\testimator lgbm's best error=0.6461,\tbest estimator lgbm's best error=0.6461\n",
      "[flaml.automl: 09-29 23:05:15] {1763} INFO - iteration 6, current learner xgboost\n",
      "[flaml.automl: 09-29 23:05:15] {1952} INFO -  at 1.5s,\testimator xgboost's best error=0.6672,\tbest estimator lgbm's best error=0.6461\n",
      "[flaml.automl: 09-29 23:05:15] {1763} INFO - iteration 7, current learner lgbm\n",
      "[flaml.automl: 09-29 23:05:15] {1952} INFO -  at 1.6s,\testimator lgbm's best error=0.6399,\tbest estimator lgbm's best error=0.6399\n",
      "[flaml.automl: 09-29 23:05:15] {1763} INFO - iteration 8, current learner lgbm\n",
      "[flaml.automl: 09-29 23:05:15] {1952} INFO -  at 1.7s,\testimator lgbm's best error=0.6399,\tbest estimator lgbm's best error=0.6399\n",
      "[flaml.automl: 09-29 23:05:15] {1763} INFO - iteration 9, current learner xgboost\n",
      "[flaml.automl: 09-29 23:05:15] {1952} INFO -  at 1.8s,\testimator xgboost's best error=0.6672,\tbest estimator lgbm's best error=0.6399\n",
      "[flaml.automl: 09-29 23:05:15] {1763} INFO - iteration 10, current learner xgboost\n",
      "[flaml.automl: 09-29 23:05:16] {1952} INFO -  at 1.9s,\testimator xgboost's best error=0.6500,\tbest estimator lgbm's best error=0.6399\n",
      "[flaml.automl: 09-29 23:05:16] {1763} INFO - iteration 11, current learner xgboost\n",
      "[flaml.automl: 09-29 23:05:16] {1952} INFO -  at 2.0s,\testimator xgboost's best error=0.6413,\tbest estimator lgbm's best error=0.6399\n",
      "[flaml.automl: 09-29 23:05:16] {1763} INFO - iteration 12, current learner xgboost\n",
      "[flaml.automl: 09-29 23:05:16] {1952} INFO -  at 2.1s,\testimator xgboost's best error=0.6413,\tbest estimator lgbm's best error=0.6399\n",
      "[flaml.automl: 09-29 23:05:16] {1763} INFO - iteration 13, current learner xgboost\n",
      "[flaml.automl: 09-29 23:05:16] {1952} INFO -  at 2.2s,\testimator xgboost's best error=0.6413,\tbest estimator lgbm's best error=0.6399\n",
      "[flaml.automl: 09-29 23:05:16] {1763} INFO - iteration 14, current learner extra_tree\n",
      "[flaml.automl: 09-29 23:05:16] {1952} INFO -  at 2.4s,\testimator extra_tree's best error=0.6569,\tbest estimator lgbm's best error=0.6399\n",
      "[flaml.automl: 09-29 23:05:16] {1763} INFO - iteration 15, current learner lgbm\n",
      "[flaml.automl: 09-29 23:05:16] {1952} INFO -  at 2.5s,\testimator lgbm's best error=0.6399,\tbest estimator lgbm's best error=0.6399\n",
      "[flaml.automl: 09-29 23:05:16] {1763} INFO - iteration 16, current learner extra_tree\n",
      "[flaml.automl: 09-29 23:05:16] {1952} INFO -  at 2.7s,\testimator extra_tree's best error=0.6436,\tbest estimator lgbm's best error=0.6399\n",
      "[flaml.automl: 09-29 23:05:16] {1763} INFO - iteration 17, current learner lgbm\n",
      "[flaml.automl: 09-29 23:05:16] {1952} INFO -  at 2.8s,\testimator lgbm's best error=0.6399,\tbest estimator lgbm's best error=0.6399\n",
      "[flaml.automl: 09-29 23:05:16] {1763} INFO - iteration 18, current learner extra_tree\n",
      "[flaml.automl: 09-29 23:05:17] {1952} INFO -  at 2.9s,\testimator extra_tree's best error=0.6436,\tbest estimator lgbm's best error=0.6399\n",
      "[flaml.automl: 09-29 23:05:17] {1763} INFO - iteration 19, current learner xgboost\n",
      "[flaml.automl: 09-29 23:05:17] {1952} INFO -  at 3.0s,\testimator xgboost's best error=0.6413,\tbest estimator lgbm's best error=0.6399\n",
      "[flaml.automl: 09-29 23:05:17] {1763} INFO - iteration 20, current learner extra_tree\n",
      "[flaml.automl: 09-29 23:05:17] {1952} INFO -  at 3.2s,\testimator extra_tree's best error=0.6436,\tbest estimator lgbm's best error=0.6399\n",
      "[flaml.automl: 09-29 23:05:17] {1763} INFO - iteration 21, current learner rf\n",
      "[flaml.automl: 09-29 23:05:17] {1952} INFO -  at 3.4s,\testimator rf's best error=0.6471,\tbest estimator lgbm's best error=0.6399\n",
      "[flaml.automl: 09-29 23:05:17] {1763} INFO - iteration 22, current learner lgbm\n",
      "[flaml.automl: 09-29 23:05:17] {1952} INFO -  at 3.5s,\testimator lgbm's best error=0.6399,\tbest estimator lgbm's best error=0.6399\n",
      "[flaml.automl: 09-29 23:05:17] {1763} INFO - iteration 23, current learner rf\n",
      "[flaml.automl: 09-29 23:05:17] {1952} INFO -  at 3.6s,\testimator rf's best error=0.6447,\tbest estimator lgbm's best error=0.6399\n",
      "[flaml.automl: 09-29 23:05:17] {1763} INFO - iteration 24, current learner extra_tree\n",
      "[flaml.automl: 09-29 23:05:17] {1952} INFO -  at 3.8s,\testimator extra_tree's best error=0.6429,\tbest estimator lgbm's best error=0.6399\n",
      "[flaml.automl: 09-29 23:05:17] {1763} INFO - iteration 25, current learner extra_tree\n",
      "[flaml.automl: 09-29 23:05:18] {1952} INFO -  at 4.0s,\testimator extra_tree's best error=0.6429,\tbest estimator lgbm's best error=0.6399\n",
      "[flaml.automl: 09-29 23:05:18] {1763} INFO - iteration 26, current learner lgbm\n",
      "[flaml.automl: 09-29 23:05:18] {1952} INFO -  at 4.2s,\testimator lgbm's best error=0.6335,\tbest estimator lgbm's best error=0.6335\n",
      "[flaml.automl: 09-29 23:05:18] {1763} INFO - iteration 27, current learner xgboost\n",
      "[flaml.automl: 09-29 23:05:18] {1952} INFO -  at 4.3s,\testimator xgboost's best error=0.6413,\tbest estimator lgbm's best error=0.6335\n",
      "[flaml.automl: 09-29 23:05:18] {1763} INFO - iteration 28, current learner xgboost\n",
      "[flaml.automl: 09-29 23:05:18] {1952} INFO -  at 4.5s,\testimator xgboost's best error=0.6393,\tbest estimator lgbm's best error=0.6335\n",
      "[flaml.automl: 09-29 23:05:18] {1763} INFO - iteration 29, current learner xgboost\n",
      "[flaml.automl: 09-29 23:05:18] {1952} INFO -  at 4.7s,\testimator xgboost's best error=0.6342,\tbest estimator lgbm's best error=0.6335\n",
      "[flaml.automl: 09-29 23:05:18] {1763} INFO - iteration 30, current learner lgbm\n",
      "[flaml.automl: 09-29 23:05:19] {1952} INFO -  at 4.9s,\testimator lgbm's best error=0.6335,\tbest estimator lgbm's best error=0.6335\n",
      "[flaml.automl: 09-29 23:05:19] {1763} INFO - iteration 31, current learner lgbm\n",
      "[flaml.automl: 09-29 23:05:19] {1952} INFO -  at 5.1s,\testimator lgbm's best error=0.6335,\tbest estimator lgbm's best error=0.6335\n",
      "[flaml.automl: 09-29 23:05:19] {1763} INFO - iteration 32, current learner lgbm\n",
      "[flaml.automl: 09-29 23:05:19] {1952} INFO -  at 5.2s,\testimator lgbm's best error=0.6335,\tbest estimator lgbm's best error=0.6335\n",
      "[flaml.automl: 09-29 23:05:19] {1763} INFO - iteration 33, current learner xgboost\n",
      "[flaml.automl: 09-29 23:05:19] {1952} INFO -  at 5.4s,\testimator xgboost's best error=0.6342,\tbest estimator lgbm's best error=0.6335\n",
      "[flaml.automl: 09-29 23:05:19] {1763} INFO - iteration 34, current learner lgbm\n",
      "[flaml.automl: 09-29 23:05:19] {1952} INFO -  at 5.6s,\testimator lgbm's best error=0.6335,\tbest estimator lgbm's best error=0.6335\n",
      "[flaml.automl: 09-29 23:05:19] {1763} INFO - iteration 35, current learner xgboost\n",
      "[flaml.automl: 09-29 23:05:19] {1952} INFO -  at 5.8s,\testimator xgboost's best error=0.6342,\tbest estimator lgbm's best error=0.6335\n",
      "[flaml.automl: 09-29 23:05:19] {1763} INFO - iteration 36, current learner xgboost\n",
      "[flaml.automl: 09-29 23:05:20] {1952} INFO -  at 6.1s,\testimator xgboost's best error=0.6308,\tbest estimator xgboost's best error=0.6308\n",
      "[flaml.automl: 09-29 23:05:20] {1763} INFO - iteration 37, current learner xgboost\n",
      "[flaml.automl: 09-29 23:05:20] {1952} INFO -  at 6.3s,\testimator xgboost's best error=0.6308,\tbest estimator xgboost's best error=0.6308\n",
      "[flaml.automl: 09-29 23:05:20] {1763} INFO - iteration 38, current learner xgboost\n",
      "[flaml.automl: 09-29 23:05:20] {1952} INFO -  at 6.5s,\testimator xgboost's best error=0.6308,\tbest estimator xgboost's best error=0.6308\n",
      "[flaml.automl: 09-29 23:05:20] {1763} INFO - iteration 39, current learner rf\n",
      "[flaml.automl: 09-29 23:05:20] {1952} INFO -  at 6.6s,\testimator rf's best error=0.6447,\tbest estimator xgboost's best error=0.6308\n",
      "[flaml.automl: 09-29 23:05:20] {1763} INFO - iteration 40, current learner xgboost\n",
      "[flaml.automl: 09-29 23:05:20] {1952} INFO -  at 6.8s,\testimator xgboost's best error=0.6308,\tbest estimator xgboost's best error=0.6308\n",
      "[flaml.automl: 09-29 23:05:20] {1763} INFO - iteration 41, current learner xgboost\n",
      "[flaml.automl: 09-29 23:05:21] {1952} INFO -  at 7.0s,\testimator xgboost's best error=0.6308,\tbest estimator xgboost's best error=0.6308\n",
      "[flaml.automl: 09-29 23:05:21] {1763} INFO - iteration 42, current learner lgbm\n",
      "[flaml.automl: 09-29 23:05:21] {1952} INFO -  at 7.2s,\testimator lgbm's best error=0.6335,\tbest estimator xgboost's best error=0.6308\n",
      "[flaml.automl: 09-29 23:05:21] {1763} INFO - iteration 43, current learner xgboost\n",
      "[flaml.automl: 09-29 23:05:21] {1952} INFO -  at 7.4s,\testimator xgboost's best error=0.6308,\tbest estimator xgboost's best error=0.6308\n",
      "[flaml.automl: 09-29 23:05:21] {1763} INFO - iteration 44, current learner extra_tree\n",
      "[flaml.automl: 09-29 23:05:21] {1952} INFO -  at 7.5s,\testimator extra_tree's best error=0.6429,\tbest estimator xgboost's best error=0.6308\n",
      "[flaml.automl: 09-29 23:05:21] {1763} INFO - iteration 45, current learner xgboost\n",
      "[flaml.automl: 09-29 23:05:21] {1952} INFO -  at 7.7s,\testimator xgboost's best error=0.6308,\tbest estimator xgboost's best error=0.6308\n",
      "[flaml.automl: 09-29 23:05:21] {1763} INFO - iteration 46, current learner lgbm\n",
      "[flaml.automl: 09-29 23:05:22] {1952} INFO -  at 7.9s,\testimator lgbm's best error=0.6335,\tbest estimator xgboost's best error=0.6308\n",
      "[flaml.automl: 09-29 23:05:22] {1763} INFO - iteration 47, current learner xgboost\n",
      "[flaml.automl: 09-29 23:05:24] {1952} INFO -  at 10.0s,\testimator xgboost's best error=0.6252,\tbest estimator xgboost's best error=0.6252\n",
      "[flaml.automl: 09-29 23:05:24] {2059} INFO - selected model: XGBClassifier(base_score=0.5, booster='gbtree', colsample_bylevel=1.0,\n",
      "              colsample_bynode=1, colsample_bytree=0.7942569492674472, gamma=0,\n",
      "              gpu_id=-1, grow_policy='lossguide', importance_type='gain',\n",
      "              interaction_constraints='', learning_rate=0.6413547778096401,\n",
      "              max_delta_step=0, max_depth=0, max_leaves=17,\n",
      "              min_child_weight=13.753540541999772, missing=nan,\n",
      "              monotone_constraints='()', n_estimators=8, n_jobs=-1,\n",
      "              num_parallel_tree=1, random_state=0,\n",
      "              reg_alpha=0.016714365103792518, reg_lambda=0.4874780682949813,\n",
      "              scale_pos_weight=1, subsample=1.0, tree_method='hist',\n",
      "              use_label_encoder=False, validate_parameters=1, verbosity=0)\n",
      "[flaml.automl: 09-29 23:05:26] {2122} INFO - retrain xgboost for 2.0s\n",
      "[flaml.automl: 09-29 23:05:26] {2128} INFO - retrained model: XGBClassifier(base_score=0.5, booster='gbtree', colsample_bylevel=1.0,\n",
      "              colsample_bynode=1, colsample_bytree=0.7942569492674472, gamma=0,\n",
      "              gpu_id=-1, grow_policy='lossguide', importance_type='gain',\n",
      "              interaction_constraints='', learning_rate=0.6413547778096401,\n",
      "              max_delta_step=0, max_depth=0, max_leaves=17,\n",
      "              min_child_weight=13.753540541999772, missing=nan,\n",
      "              monotone_constraints='()', n_estimators=8, n_jobs=-1,\n",
      "              num_parallel_tree=1, random_state=0,\n",
      "              reg_alpha=0.016714365103792518, reg_lambda=0.4874780682949813,\n",
      "              scale_pos_weight=1, subsample=1.0, tree_method='hist',\n",
      "              use_label_encoder=False, validate_parameters=1, verbosity=0)\n",
      "[flaml.automl: 09-29 23:05:26] {1557} INFO - fit succeeded\n",
      "[flaml.automl: 09-29 23:05:26] {1558} INFO - Time taken to find the best model: 10.04077935218811\n",
      "[flaml.automl: 09-29 23:05:26] {1569} WARNING - Time taken to find the best model is 100% of the provided time budget and not all estimators' hyperparameter search converged. Consider increasing the time budget.\n"
     ]
    }
   ],
   "metadata": {}
  }
 ],
 "metadata": {
  "interpreter": {
   "hash": "0cfea3304185a9579d09e0953576b57c8581e46e6ebc6dfeb681bc5a511f7544"
  },
  "kernelspec": {
   "name": "python3",
   "display_name": "Python 3.8.0 64-bit ('blend': conda)"
  },
  "language_info": {
   "codemirror_mode": {
    "name": "ipython",
    "version": 3
   },
   "file_extension": ".py",
   "mimetype": "text/x-python",
   "name": "python",
   "nbconvert_exporter": "python",
   "pygments_lexer": "ipython3",
   "version": "3.8.0"
  }
 },
 "nbformat": 4,
 "nbformat_minor": 2
}