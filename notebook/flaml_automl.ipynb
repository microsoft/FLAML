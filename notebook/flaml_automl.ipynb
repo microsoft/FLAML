{
 "cells": [
  {
   "cell_type": "markdown",
   "source": [
    "Copyright (c) 2020-2021 Microsoft Corporation. All rights reserved. \n",
    "\n",
    "Licensed under the MIT License.\n",
    "\n",
    "# AutoML with FLAML Library\n",
    "\n",
    "\n",
    "## 1. Introduction\n",
    "\n",
    "FLAML is a Python library (https://github.com/microsoft/FLAML) designed to automatically produce accurate machine learning models \n",
    "with low computational cost. It is fast and cheap. The simple and lightweight design makes it easy \n",
    "to use and extend, such as adding new learners. FLAML can \n",
    "- serve as an economical AutoML engine,\n",
    "- be used as a fast hyperparameter tuning tool, or \n",
    "- be embedded in self-tuning software that requires low latency & resource in repetitive\n",
    "   tuning tasks.\n",
    "\n",
    "In this notebook, we use one real data example (binary classification) to showcase how to use FLAML library.\n",
    "\n",
    "FLAML requires `Python>=3.6`. To run this notebook example, please install flaml with the `notebook` option:\n",
    "```bash\n",
    "pip install flaml[notebook]\n",
    "```"
   ],
   "metadata": {
    "slideshow": {
     "slide_type": "slide"
    }
   }
  },
  {
   "cell_type": "code",
   "execution_count": null,
   "source": [
    "!pip install flaml[notebook];"
   ],
   "outputs": [],
   "metadata": {}
  },
  {
   "cell_type": "markdown",
   "source": [
    "## 2. Classification Example\n",
    "### Load data and preprocess\n",
    "\n",
    "Download [Airlines dataset](https://www.openml.org/d/1169) from OpenML. The task is to predict whether a given flight will be delayed, given the information of the scheduled departure."
   ],
   "metadata": {
    "slideshow": {
     "slide_type": "slide"
    }
   }
  },
  {
   "cell_type": "code",
   "execution_count": 1,
   "source": [
    "from flaml.data import load_openml_dataset\n",
    "X_train, X_test, y_train, y_test = load_openml_dataset(dataset_id=1169, data_dir='./')"
   ],
   "outputs": [
    {
     "output_type": "stream",
     "name": "stdout",
     "text": [
      "load dataset from ./openml_ds1169.pkl\n",
      "Dataset name: airlines\n",
      "X_train.shape: (404537, 7), y_train.shape: (404537,);\n",
      "X_test.shape: (134846, 7), y_test.shape: (134846,)\n"
     ]
    }
   ],
   "metadata": {
    "slideshow": {
     "slide_type": "subslide"
    },
    "tags": []
   }
  },
  {
   "cell_type": "markdown",
   "source": [
    "### Run FLAML\n",
    "In the FLAML automl run configuration, users can specify the task type, time budget, error metric, learner list, whether to subsample, resampling strategy type, and so on. All these arguments have default values which will be used if users do not provide them. For example, the default ML learners of FLAML are `['lgbm', 'xgboost', 'catboost', 'rf', 'extra_tree', 'lrl1']`. "
   ],
   "metadata": {
    "slideshow": {
     "slide_type": "slide"
    }
   }
  },
  {
   "cell_type": "code",
   "execution_count": 2,
   "source": [
    "''' import AutoML class from flaml package '''\n",
    "from flaml import AutoML\n",
    "automl = AutoML()"
   ],
   "outputs": [],
   "metadata": {
    "slideshow": {
     "slide_type": "slide"
    }
   }
  },
  {
   "cell_type": "code",
   "execution_count": 3,
   "source": [
    "settings = {\n",
    "    \"time_budget\": 240,  # total running time in seconds\n",
    "    \"metric\": 'accuracy',  # can be: 'r2', 'rmse', 'mae', 'mse', 'accuracy', 'roc_auc', 'roc_auc_ovr',\n",
    "                           # 'roc_auc_ovo', 'log_loss', 'mape', 'f1', 'ap', 'ndcg', 'micro_f1', 'macro_f1'\n",
    "    \"task\": 'classification',  # task type    \n",
    "    \"log_file_name\": 'airlines_experiment.log',  # flaml log file\n",
    "    \"seed\": 7654321,    # random seed\n",
    "}"
   ],
   "outputs": [],
   "metadata": {
    "slideshow": {
     "slide_type": "slide"
    }
   }
  },
  {
   "cell_type": "code",
   "execution_count": 4,
   "source": [
    "'''The main flaml automl API'''\n",
    "automl.fit(X_train=X_train, y_train=y_train, **settings)"
   ],
   "outputs": [
    {
     "output_type": "stream",
     "name": "stderr",
     "text": [
      "[flaml.automl: 08-31 00:53:33] {1279} INFO - Evaluation method: holdout\n",
      "[flaml.automl: 08-31 00:53:34] {1312} INFO - Minimizing error metric: 1-accuracy\n",
      "[flaml.automl: 08-31 00:53:34] {1338} INFO - List of ML learners in AutoML Run: ['lgbm', 'rf', 'catboost', 'xgboost', 'extra_tree', 'lrl1']\n",
      "[flaml.automl: 08-31 00:53:34] {1532} INFO - iteration 0, current learner lgbm\n",
      "[flaml.automl: 08-31 00:53:34] {1689} INFO -  at 1.4s,\tbest lgbm's error=0.3777,\tbest lgbm's error=0.3777\n",
      "[flaml.automl: 08-31 00:53:34] {1532} INFO - iteration 1, current learner lgbm\n",
      "[flaml.automl: 08-31 00:53:34] {1689} INFO -  at 1.6s,\tbest lgbm's error=0.3777,\tbest lgbm's error=0.3777\n",
      "[flaml.automl: 08-31 00:53:34] {1532} INFO - iteration 2, current learner lgbm\n",
      "[flaml.automl: 08-31 00:53:34] {1689} INFO -  at 1.7s,\tbest lgbm's error=0.3777,\tbest lgbm's error=0.3777\n",
      "[flaml.automl: 08-31 00:53:34] {1532} INFO - iteration 3, current learner lgbm\n",
      "[flaml.automl: 08-31 00:53:34] {1689} INFO -  at 1.9s,\tbest lgbm's error=0.3661,\tbest lgbm's error=0.3661\n",
      "[flaml.automl: 08-31 00:53:34] {1532} INFO - iteration 4, current learner xgboost\n",
      "[flaml.automl: 08-31 00:53:35] {1689} INFO -  at 2.1s,\tbest xgboost's error=0.3787,\tbest lgbm's error=0.3661\n",
      "[flaml.automl: 08-31 00:53:35] {1532} INFO - iteration 5, current learner xgboost\n",
      "[flaml.automl: 08-31 00:53:35] {1689} INFO -  at 2.2s,\tbest xgboost's error=0.3769,\tbest lgbm's error=0.3661\n",
      "[flaml.automl: 08-31 00:53:35] {1532} INFO - iteration 6, current learner extra_tree\n",
      "[flaml.automl: 08-31 00:53:35] {1689} INFO -  at 2.4s,\tbest extra_tree's error=0.3788,\tbest lgbm's error=0.3661\n",
      "[flaml.automl: 08-31 00:53:35] {1532} INFO - iteration 7, current learner lgbm\n",
      "[flaml.automl: 08-31 00:53:35] {1689} INFO -  at 2.5s,\tbest lgbm's error=0.3645,\tbest lgbm's error=0.3645\n",
      "[flaml.automl: 08-31 00:53:35] {1532} INFO - iteration 8, current learner lgbm\n",
      "[flaml.automl: 08-31 00:53:35] {1689} INFO -  at 2.7s,\tbest lgbm's error=0.3645,\tbest lgbm's error=0.3645\n",
      "[flaml.automl: 08-31 00:53:35] {1532} INFO - iteration 9, current learner lgbm\n",
      "[flaml.automl: 08-31 00:53:35] {1689} INFO -  at 2.8s,\tbest lgbm's error=0.3645,\tbest lgbm's error=0.3645\n",
      "[flaml.automl: 08-31 00:53:35] {1532} INFO - iteration 10, current learner lgbm\n",
      "[flaml.automl: 08-31 00:53:35] {1689} INFO -  at 3.0s,\tbest lgbm's error=0.3610,\tbest lgbm's error=0.3610\n",
      "[flaml.automl: 08-31 00:53:35] {1532} INFO - iteration 11, current learner extra_tree\n",
      "[flaml.automl: 08-31 00:53:36] {1689} INFO -  at 3.2s,\tbest extra_tree's error=0.3763,\tbest lgbm's error=0.3610\n",
      "[flaml.automl: 08-31 00:53:36] {1532} INFO - iteration 12, current learner rf\n",
      "[flaml.automl: 08-31 00:53:36] {1689} INFO -  at 3.4s,\tbest rf's error=0.3787,\tbest lgbm's error=0.3610\n",
      "[flaml.automl: 08-31 00:53:36] {1532} INFO - iteration 13, current learner rf\n",
      "[flaml.automl: 08-31 00:53:36] {1689} INFO -  at 3.5s,\tbest rf's error=0.3689,\tbest lgbm's error=0.3610\n",
      "[flaml.automl: 08-31 00:53:36] {1532} INFO - iteration 14, current learner rf\n",
      "[flaml.automl: 08-31 00:53:36] {1689} INFO -  at 3.7s,\tbest rf's error=0.3689,\tbest lgbm's error=0.3610\n",
      "[flaml.automl: 08-31 00:53:36] {1532} INFO - iteration 15, current learner rf\n",
      "[flaml.automl: 08-31 00:53:36] {1689} INFO -  at 4.0s,\tbest rf's error=0.3689,\tbest lgbm's error=0.3610\n",
      "[flaml.automl: 08-31 00:53:36] {1532} INFO - iteration 16, current learner lgbm\n",
      "[flaml.automl: 08-31 00:53:37] {1689} INFO -  at 4.2s,\tbest lgbm's error=0.3610,\tbest lgbm's error=0.3610\n",
      "[flaml.automl: 08-31 00:53:37] {1532} INFO - iteration 17, current learner xgboost\n",
      "[flaml.automl: 08-31 00:53:37] {1689} INFO -  at 4.3s,\tbest xgboost's error=0.3765,\tbest lgbm's error=0.3610\n",
      "[flaml.automl: 08-31 00:53:37] {1532} INFO - iteration 18, current learner lgbm\n",
      "[flaml.automl: 08-31 00:53:37] {1689} INFO -  at 4.9s,\tbest lgbm's error=0.3610,\tbest lgbm's error=0.3610\n",
      "[flaml.automl: 08-31 00:53:37] {1532} INFO - iteration 19, current learner rf\n",
      "[flaml.automl: 08-31 00:53:38] {1689} INFO -  at 5.1s,\tbest rf's error=0.3689,\tbest lgbm's error=0.3610\n",
      "[flaml.automl: 08-31 00:53:38] {1532} INFO - iteration 20, current learner lgbm\n",
      "[flaml.automl: 08-31 00:53:38] {1689} INFO -  at 5.3s,\tbest lgbm's error=0.3610,\tbest lgbm's error=0.3610\n",
      "[flaml.automl: 08-31 00:53:38] {1532} INFO - iteration 21, current learner rf\n",
      "[flaml.automl: 08-31 00:53:38] {1689} INFO -  at 5.6s,\tbest rf's error=0.3689,\tbest lgbm's error=0.3610\n",
      "[flaml.automl: 08-31 00:53:38] {1532} INFO - iteration 22, current learner lgbm\n",
      "[flaml.automl: 08-31 00:53:38] {1689} INFO -  at 6.0s,\tbest lgbm's error=0.3604,\tbest lgbm's error=0.3604\n",
      "[flaml.automl: 08-31 00:53:38] {1532} INFO - iteration 23, current learner lgbm\n",
      "[flaml.automl: 08-31 00:53:39] {1689} INFO -  at 6.5s,\tbest lgbm's error=0.3545,\tbest lgbm's error=0.3545\n",
      "[flaml.automl: 08-31 00:53:39] {1532} INFO - iteration 24, current learner rf\n",
      "[flaml.automl: 08-31 00:53:39] {1689} INFO -  at 6.8s,\tbest rf's error=0.3631,\tbest lgbm's error=0.3545\n",
      "[flaml.automl: 08-31 00:53:39] {1532} INFO - iteration 25, current learner extra_tree\n",
      "[flaml.automl: 08-31 00:53:39] {1689} INFO -  at 7.0s,\tbest extra_tree's error=0.3763,\tbest lgbm's error=0.3545\n",
      "[flaml.automl: 08-31 00:53:39] {1532} INFO - iteration 26, current learner lgbm\n",
      "[flaml.automl: 08-31 00:53:40] {1689} INFO -  at 7.5s,\tbest lgbm's error=0.3523,\tbest lgbm's error=0.3523\n",
      "[flaml.automl: 08-31 00:53:40] {1532} INFO - iteration 27, current learner lgbm\n",
      "[flaml.automl: 08-31 00:53:40] {1689} INFO -  at 8.0s,\tbest lgbm's error=0.3523,\tbest lgbm's error=0.3523\n",
      "[flaml.automl: 08-31 00:53:40] {1532} INFO - iteration 28, current learner rf\n",
      "[flaml.automl: 08-31 00:53:41] {1689} INFO -  at 8.5s,\tbest rf's error=0.3621,\tbest lgbm's error=0.3523\n",
      "[flaml.automl: 08-31 00:53:41] {1532} INFO - iteration 29, current learner rf\n",
      "[flaml.automl: 08-31 00:53:41] {1689} INFO -  at 8.7s,\tbest rf's error=0.3621,\tbest lgbm's error=0.3523\n",
      "[flaml.automl: 08-31 00:53:41] {1532} INFO - iteration 30, current learner lgbm\n",
      "[flaml.automl: 08-31 00:53:42] {1689} INFO -  at 9.2s,\tbest lgbm's error=0.3523,\tbest lgbm's error=0.3523\n",
      "[flaml.automl: 08-31 00:53:42] {1532} INFO - iteration 31, current learner lgbm\n",
      "[flaml.automl: 08-31 00:53:42] {1689} INFO -  at 9.7s,\tbest lgbm's error=0.3523,\tbest lgbm's error=0.3523\n",
      "[flaml.automl: 08-31 00:53:42] {1532} INFO - iteration 32, current learner lgbm\n",
      "[flaml.automl: 08-31 00:53:43] {1689} INFO -  at 10.2s,\tbest lgbm's error=0.3523,\tbest lgbm's error=0.3523\n",
      "[flaml.automl: 08-31 00:53:43] {1532} INFO - iteration 33, current learner extra_tree\n",
      "[flaml.automl: 08-31 00:53:43] {1689} INFO -  at 10.4s,\tbest extra_tree's error=0.3763,\tbest lgbm's error=0.3523\n",
      "[flaml.automl: 08-31 00:53:43] {1532} INFO - iteration 34, current learner lgbm\n",
      "[flaml.automl: 08-31 00:53:46] {1689} INFO -  at 13.3s,\tbest lgbm's error=0.3475,\tbest lgbm's error=0.3475\n",
      "[flaml.automl: 08-31 00:53:46] {1532} INFO - iteration 35, current learner catboost\n",
      "[flaml.automl: 08-31 00:53:46] {1689} INFO -  at 13.9s,\tbest catboost's error=0.3602,\tbest lgbm's error=0.3475\n",
      "[flaml.automl: 08-31 00:53:46] {1532} INFO - iteration 36, current learner catboost\n",
      "[flaml.automl: 08-31 00:53:47] {1689} INFO -  at 14.4s,\tbest catboost's error=0.3602,\tbest lgbm's error=0.3475\n",
      "[flaml.automl: 08-31 00:53:47] {1532} INFO - iteration 37, current learner xgboost\n",
      "[flaml.automl: 08-31 00:53:47] {1689} INFO -  at 14.5s,\tbest xgboost's error=0.3746,\tbest lgbm's error=0.3475\n",
      "[flaml.automl: 08-31 00:53:47] {1532} INFO - iteration 38, current learner catboost\n",
      "[flaml.automl: 08-31 00:53:47] {1689} INFO -  at 14.8s,\tbest catboost's error=0.3602,\tbest lgbm's error=0.3475\n",
      "[flaml.automl: 08-31 00:53:47] {1532} INFO - iteration 39, current learner catboost\n",
      "[flaml.automl: 08-31 00:53:48] {1689} INFO -  at 15.4s,\tbest catboost's error=0.3602,\tbest lgbm's error=0.3475\n",
      "[flaml.automl: 08-31 00:53:48] {1532} INFO - iteration 40, current learner catboost\n",
      "[flaml.automl: 08-31 00:53:48] {1689} INFO -  at 15.6s,\tbest catboost's error=0.3602,\tbest lgbm's error=0.3475\n",
      "[flaml.automl: 08-31 00:53:48] {1532} INFO - iteration 41, current learner catboost\n",
      "[flaml.automl: 08-31 00:53:50] {1689} INFO -  at 17.4s,\tbest catboost's error=0.3493,\tbest lgbm's error=0.3475\n",
      "[flaml.automl: 08-31 00:53:50] {1532} INFO - iteration 42, current learner xgboost\n",
      "[flaml.automl: 08-31 00:53:50] {1689} INFO -  at 17.6s,\tbest xgboost's error=0.3673,\tbest lgbm's error=0.3475\n",
      "[flaml.automl: 08-31 00:53:50] {1532} INFO - iteration 43, current learner lgbm\n",
      "[flaml.automl: 08-31 00:53:52] {1689} INFO -  at 19.8s,\tbest lgbm's error=0.3475,\tbest lgbm's error=0.3475\n",
      "[flaml.automl: 08-31 00:53:52] {1532} INFO - iteration 44, current learner xgboost\n",
      "[flaml.automl: 08-31 00:53:52] {1689} INFO -  at 19.9s,\tbest xgboost's error=0.3673,\tbest lgbm's error=0.3475\n",
      "[flaml.automl: 08-31 00:53:52] {1532} INFO - iteration 45, current learner extra_tree\n",
      "[flaml.automl: 08-31 00:53:53] {1689} INFO -  at 20.1s,\tbest extra_tree's error=0.3755,\tbest lgbm's error=0.3475\n",
      "[flaml.automl: 08-31 00:53:53] {1532} INFO - iteration 46, current learner xgboost\n",
      "[flaml.automl: 08-31 00:53:53] {1689} INFO -  at 20.3s,\tbest xgboost's error=0.3617,\tbest lgbm's error=0.3475\n",
      "[flaml.automl: 08-31 00:53:53] {1532} INFO - iteration 47, current learner catboost\n",
      "[flaml.automl: 08-31 00:53:55] {1689} INFO -  at 22.6s,\tbest catboost's error=0.3469,\tbest catboost's error=0.3469\n",
      "[flaml.automl: 08-31 00:53:55] {1532} INFO - iteration 48, current learner xgboost\n",
      "[flaml.automl: 08-31 00:53:55] {1689} INFO -  at 22.8s,\tbest xgboost's error=0.3617,\tbest catboost's error=0.3469\n",
      "[flaml.automl: 08-31 00:53:55] {1532} INFO - iteration 49, current learner lgbm\n",
      "[flaml.automl: 08-31 00:54:00] {1689} INFO -  at 27.4s,\tbest lgbm's error=0.3455,\tbest lgbm's error=0.3455\n",
      "[flaml.automl: 08-31 00:54:00] {1532} INFO - iteration 50, current learner catboost\n",
      "[flaml.automl: 08-31 00:54:01] {1689} INFO -  at 29.0s,\tbest catboost's error=0.3469,\tbest lgbm's error=0.3455\n",
      "[flaml.automl: 08-31 00:54:01] {1532} INFO - iteration 51, current learner xgboost\n",
      "[flaml.automl: 08-31 00:54:02] {1689} INFO -  at 29.2s,\tbest xgboost's error=0.3617,\tbest lgbm's error=0.3455\n",
      "[flaml.automl: 08-31 00:54:02] {1532} INFO - iteration 52, current learner catboost\n",
      "[flaml.automl: 08-31 00:54:03] {1689} INFO -  at 30.3s,\tbest catboost's error=0.3469,\tbest lgbm's error=0.3455\n",
      "[flaml.automl: 08-31 00:54:03] {1532} INFO - iteration 53, current learner rf\n",
      "[flaml.automl: 08-31 00:54:03] {1689} INFO -  at 30.7s,\tbest rf's error=0.3621,\tbest lgbm's error=0.3455\n",
      "[flaml.automl: 08-31 00:54:03] {1532} INFO - iteration 54, current learner lgbm\n",
      "[flaml.automl: 08-31 00:54:10] {1689} INFO -  at 37.2s,\tbest lgbm's error=0.3444,\tbest lgbm's error=0.3444\n",
      "[flaml.automl: 08-31 00:54:10] {1532} INFO - iteration 55, current learner lgbm\n",
      "[flaml.automl: 08-31 00:54:14] {1689} INFO -  at 41.7s,\tbest lgbm's error=0.3444,\tbest lgbm's error=0.3444\n",
      "[flaml.automl: 08-31 00:54:14] {1532} INFO - iteration 56, current learner xgboost\n",
      "[flaml.automl: 08-31 00:54:14] {1689} INFO -  at 41.9s,\tbest xgboost's error=0.3591,\tbest lgbm's error=0.3444\n",
      "[flaml.automl: 08-31 00:54:14] {1532} INFO - iteration 57, current learner lgbm\n",
      "[flaml.automl: 08-31 00:54:22] {1689} INFO -  at 49.3s,\tbest lgbm's error=0.3444,\tbest lgbm's error=0.3444\n",
      "[flaml.automl: 08-31 00:54:22] {1532} INFO - iteration 58, current learner rf\n",
      "[flaml.automl: 08-31 00:54:22] {1689} INFO -  at 49.8s,\tbest rf's error=0.3567,\tbest lgbm's error=0.3444\n",
      "[flaml.automl: 08-31 00:54:22] {1532} INFO - iteration 59, current learner rf\n",
      "[flaml.automl: 08-31 00:54:23] {1689} INFO -  at 50.2s,\tbest rf's error=0.3567,\tbest lgbm's error=0.3444\n",
      "[flaml.automl: 08-31 00:54:23] {1532} INFO - iteration 60, current learner lgbm\n",
      "[flaml.automl: 08-31 00:54:28] {1689} INFO -  at 55.4s,\tbest lgbm's error=0.3356,\tbest lgbm's error=0.3356\n",
      "[flaml.automl: 08-31 00:54:28] {1532} INFO - iteration 61, current learner catboost\n",
      "[flaml.automl: 08-31 00:54:32] {1689} INFO -  at 59.4s,\tbest catboost's error=0.3469,\tbest lgbm's error=0.3356\n",
      "[flaml.automl: 08-31 00:54:32] {1532} INFO - iteration 62, current learner lgbm\n",
      "[flaml.automl: 08-31 00:54:37] {1689} INFO -  at 64.7s,\tbest lgbm's error=0.3300,\tbest lgbm's error=0.3300\n",
      "[flaml.automl: 08-31 00:54:37] {1532} INFO - iteration 63, current learner rf\n",
      "[flaml.automl: 08-31 00:54:38] {1689} INFO -  at 65.4s,\tbest rf's error=0.3565,\tbest lgbm's error=0.3300\n",
      "[flaml.automl: 08-31 00:54:38] {1532} INFO - iteration 64, current learner xgboost\n",
      "[flaml.automl: 08-31 00:54:38] {1689} INFO -  at 65.6s,\tbest xgboost's error=0.3591,\tbest lgbm's error=0.3300\n",
      "[flaml.automl: 08-31 00:54:38] {1532} INFO - iteration 65, current learner lgbm\n",
      "[flaml.automl: 08-31 00:54:43] {1689} INFO -  at 70.4s,\tbest lgbm's error=0.3300,\tbest lgbm's error=0.3300\n",
      "[flaml.automl: 08-31 00:54:43] {1532} INFO - iteration 66, current learner lgbm\n",
      "[flaml.automl: 08-31 00:54:54] {1689} INFO -  at 81.3s,\tbest lgbm's error=0.3300,\tbest lgbm's error=0.3300\n",
      "[flaml.automl: 08-31 00:54:54] {1532} INFO - iteration 67, current learner xgboost\n",
      "[flaml.automl: 08-31 00:54:54] {1689} INFO -  at 81.5s,\tbest xgboost's error=0.3591,\tbest lgbm's error=0.3300\n",
      "[flaml.automl: 08-31 00:54:54] {1532} INFO - iteration 68, current learner lgbm\n",
      "[flaml.automl: 08-31 00:54:57] {1689} INFO -  at 84.9s,\tbest lgbm's error=0.3300,\tbest lgbm's error=0.3300\n",
      "[flaml.automl: 08-31 00:54:57] {1532} INFO - iteration 69, current learner lgbm\n",
      "[flaml.automl: 08-31 00:55:01] {1689} INFO -  at 88.3s,\tbest lgbm's error=0.3300,\tbest lgbm's error=0.3300\n",
      "[flaml.automl: 08-31 00:55:01] {1532} INFO - iteration 70, current learner xgboost\n",
      "[flaml.automl: 08-31 00:55:01] {1689} INFO -  at 88.5s,\tbest xgboost's error=0.3591,\tbest lgbm's error=0.3300\n",
      "[flaml.automl: 08-31 00:55:01] {1532} INFO - iteration 71, current learner xgboost\n",
      "[flaml.automl: 08-31 00:55:01] {1689} INFO -  at 88.6s,\tbest xgboost's error=0.3591,\tbest lgbm's error=0.3300\n",
      "[flaml.automl: 08-31 00:55:01] {1532} INFO - iteration 72, current learner catboost\n",
      "[flaml.automl: 08-31 00:55:04] {1689} INFO -  at 91.8s,\tbest catboost's error=0.3469,\tbest lgbm's error=0.3300\n",
      "[flaml.automl: 08-31 00:55:04] {1532} INFO - iteration 73, current learner extra_tree\n",
      "[flaml.automl: 08-31 00:55:05] {1689} INFO -  at 92.1s,\tbest extra_tree's error=0.3755,\tbest lgbm's error=0.3300\n",
      "[flaml.automl: 08-31 00:55:05] {1532} INFO - iteration 74, current learner xgboost\n",
      "[flaml.automl: 08-31 00:55:05] {1689} INFO -  at 92.3s,\tbest xgboost's error=0.3591,\tbest lgbm's error=0.3300\n",
      "[flaml.automl: 08-31 00:55:05] {1532} INFO - iteration 75, current learner extra_tree\n",
      "[flaml.automl: 08-31 00:55:05] {1689} INFO -  at 92.5s,\tbest extra_tree's error=0.3644,\tbest lgbm's error=0.3300\n",
      "[flaml.automl: 08-31 00:55:05] {1532} INFO - iteration 76, current learner xgboost\n",
      "[flaml.automl: 08-31 00:55:05] {1689} INFO -  at 92.9s,\tbest xgboost's error=0.3574,\tbest lgbm's error=0.3300\n",
      "[flaml.automl: 08-31 00:55:05] {1532} INFO - iteration 77, current learner xgboost\n",
      "[flaml.automl: 08-31 00:55:06] {1689} INFO -  at 93.3s,\tbest xgboost's error=0.3574,\tbest lgbm's error=0.3300\n",
      "[flaml.automl: 08-31 00:55:06] {1532} INFO - iteration 78, current learner extra_tree\n",
      "[flaml.automl: 08-31 00:55:06] {1689} INFO -  at 93.5s,\tbest extra_tree's error=0.3644,\tbest lgbm's error=0.3300\n",
      "[flaml.automl: 08-31 00:55:06] {1532} INFO - iteration 79, current learner extra_tree\n",
      "[flaml.automl: 08-31 00:55:06] {1689} INFO -  at 93.7s,\tbest extra_tree's error=0.3644,\tbest lgbm's error=0.3300\n",
      "[flaml.automl: 08-31 00:55:06] {1532} INFO - iteration 80, current learner rf\n",
      "[flaml.automl: 08-31 00:55:07] {1689} INFO -  at 94.3s,\tbest rf's error=0.3565,\tbest lgbm's error=0.3300\n",
      "[flaml.automl: 08-31 00:55:07] {1532} INFO - iteration 81, current learner extra_tree\n",
      "[flaml.automl: 08-31 00:55:07] {1689} INFO -  at 94.5s,\tbest extra_tree's error=0.3644,\tbest lgbm's error=0.3300\n",
      "[flaml.automl: 08-31 00:55:07] {1532} INFO - iteration 82, current learner extra_tree\n",
      "[flaml.automl: 08-31 00:55:07] {1689} INFO -  at 94.7s,\tbest extra_tree's error=0.3644,\tbest lgbm's error=0.3300\n",
      "[flaml.automl: 08-31 00:55:07] {1532} INFO - iteration 83, current learner extra_tree\n",
      "[flaml.automl: 08-31 00:55:07] {1689} INFO -  at 94.9s,\tbest extra_tree's error=0.3644,\tbest lgbm's error=0.3300\n",
      "[flaml.automl: 08-31 00:55:07] {1532} INFO - iteration 84, current learner extra_tree\n",
      "[flaml.automl: 08-31 00:55:08] {1689} INFO -  at 95.2s,\tbest extra_tree's error=0.3644,\tbest lgbm's error=0.3300\n",
      "[flaml.automl: 08-31 00:55:08] {1532} INFO - iteration 85, current learner extra_tree\n",
      "[flaml.automl: 08-31 00:55:08] {1689} INFO -  at 95.5s,\tbest extra_tree's error=0.3640,\tbest lgbm's error=0.3300\n",
      "[flaml.automl: 08-31 00:55:08] {1532} INFO - iteration 86, current learner rf\n",
      "[flaml.automl: 08-31 00:55:09] {1689} INFO -  at 96.5s,\tbest rf's error=0.3565,\tbest lgbm's error=0.3300\n",
      "[flaml.automl: 08-31 00:55:09] {1532} INFO - iteration 87, current learner xgboost\n",
      "[flaml.automl: 08-31 00:55:09] {1689} INFO -  at 96.9s,\tbest xgboost's error=0.3534,\tbest lgbm's error=0.3300\n",
      "[flaml.automl: 08-31 00:55:09] {1532} INFO - iteration 88, current learner xgboost\n",
      "[flaml.automl: 08-31 00:55:10] {1689} INFO -  at 97.2s,\tbest xgboost's error=0.3534,\tbest lgbm's error=0.3300\n",
      "[flaml.automl: 08-31 00:55:10] {1532} INFO - iteration 89, current learner lgbm\n",
      "[flaml.automl: 08-31 00:55:19] {1689} INFO -  at 106.4s,\tbest lgbm's error=0.3300,\tbest lgbm's error=0.3300\n",
      "[flaml.automl: 08-31 00:55:19] {1532} INFO - iteration 90, current learner xgboost\n",
      "[flaml.automl: 08-31 00:55:20] {1689} INFO -  at 107.3s,\tbest xgboost's error=0.3504,\tbest lgbm's error=0.3300\n",
      "[flaml.automl: 08-31 00:55:20] {1532} INFO - iteration 91, current learner xgboost\n",
      "[flaml.automl: 08-31 00:55:20] {1689} INFO -  at 107.8s,\tbest xgboost's error=0.3504,\tbest lgbm's error=0.3300\n",
      "[flaml.automl: 08-31 00:55:20] {1532} INFO - iteration 92, current learner extra_tree\n",
      "[flaml.automl: 08-31 00:55:20] {1689} INFO -  at 108.0s,\tbest extra_tree's error=0.3624,\tbest lgbm's error=0.3300\n",
      "[flaml.automl: 08-31 00:55:20] {1532} INFO - iteration 93, current learner extra_tree\n",
      "[flaml.automl: 08-31 00:55:21] {1689} INFO -  at 108.3s,\tbest extra_tree's error=0.3624,\tbest lgbm's error=0.3300\n",
      "[flaml.automl: 08-31 00:55:21] {1532} INFO - iteration 94, current learner xgboost\n",
      "[flaml.automl: 08-31 00:55:24] {1689} INFO -  at 111.2s,\tbest xgboost's error=0.3504,\tbest lgbm's error=0.3300\n",
      "[flaml.automl: 08-31 00:55:24] {1532} INFO - iteration 95, current learner lgbm\n",
      "[flaml.automl: 08-31 00:55:27] {1689} INFO -  at 114.6s,\tbest lgbm's error=0.3300,\tbest lgbm's error=0.3300\n",
      "[flaml.automl: 08-31 00:55:27] {1532} INFO - iteration 96, current learner extra_tree\n",
      "[flaml.automl: 08-31 00:55:27] {1689} INFO -  at 114.8s,\tbest extra_tree's error=0.3598,\tbest lgbm's error=0.3300\n",
      "[flaml.automl: 08-31 00:55:27] {1532} INFO - iteration 97, current learner extra_tree\n",
      "[flaml.automl: 08-31 00:55:28] {1689} INFO -  at 115.2s,\tbest extra_tree's error=0.3598,\tbest lgbm's error=0.3300\n",
      "[flaml.automl: 08-31 00:55:28] {1532} INFO - iteration 98, current learner extra_tree\n",
      "[flaml.automl: 08-31 00:55:28] {1689} INFO -  at 115.4s,\tbest extra_tree's error=0.3597,\tbest lgbm's error=0.3300\n",
      "[flaml.automl: 08-31 00:55:28] {1532} INFO - iteration 99, current learner lrl1\n",
      "No low-cost partial config given to the search algorithm. For cost-frugal search, consider providing low-cost values for cost-related hps via 'low_cost_partial_config'.\n",
      "/home/dmx/miniconda2/envs/blend/lib/python3.8/site-packages/sklearn/linear_model/_sag.py:328: ConvergenceWarning: The max_iter was reached which means the coef_ did not converge\n",
      "  warnings.warn(\"The max_iter was reached which means \"\n",
      "[flaml.automl: 08-31 00:55:28] {1689} INFO -  at 115.8s,\tbest lrl1's error=0.4338,\tbest lgbm's error=0.3300\n",
      "[flaml.automl: 08-31 00:55:28] {1532} INFO - iteration 100, current learner lrl1\n",
      "/home/dmx/miniconda2/envs/blend/lib/python3.8/site-packages/sklearn/linear_model/_sag.py:328: ConvergenceWarning: The max_iter was reached which means the coef_ did not converge\n",
      "  warnings.warn(\"The max_iter was reached which means \"\n",
      "[flaml.automl: 08-31 00:55:29] {1689} INFO -  at 116.1s,\tbest lrl1's error=0.4338,\tbest lgbm's error=0.3300\n",
      "[flaml.automl: 08-31 00:55:29] {1532} INFO - iteration 101, current learner lrl1\n",
      "/home/dmx/miniconda2/envs/blend/lib/python3.8/site-packages/sklearn/linear_model/_sag.py:328: ConvergenceWarning: The max_iter was reached which means the coef_ did not converge\n",
      "  warnings.warn(\"The max_iter was reached which means \"\n",
      "[flaml.automl: 08-31 00:55:29] {1689} INFO -  at 116.4s,\tbest lrl1's error=0.4338,\tbest lgbm's error=0.3300\n",
      "[flaml.automl: 08-31 00:55:29] {1532} INFO - iteration 102, current learner lrl1\n",
      "/home/dmx/miniconda2/envs/blend/lib/python3.8/site-packages/sklearn/linear_model/_sag.py:328: ConvergenceWarning: The max_iter was reached which means the coef_ did not converge\n",
      "  warnings.warn(\"The max_iter was reached which means \"\n",
      "[flaml.automl: 08-31 00:55:30] {1689} INFO -  at 117.3s,\tbest lrl1's error=0.4334,\tbest lgbm's error=0.3300\n",
      "[flaml.automl: 08-31 00:55:30] {1532} INFO - iteration 103, current learner catboost\n",
      "[flaml.automl: 08-31 00:55:42] {1689} INFO -  at 130.0s,\tbest catboost's error=0.3385,\tbest lgbm's error=0.3300\n",
      "[flaml.automl: 08-31 00:55:42] {1532} INFO - iteration 104, current learner lgbm\n",
      "[flaml.automl: 08-31 00:55:52] {1689} INFO -  at 139.2s,\tbest lgbm's error=0.3300,\tbest lgbm's error=0.3300\n",
      "[flaml.automl: 08-31 00:55:52] {1532} INFO - iteration 105, current learner catboost\n",
      "[flaml.automl: 08-31 00:56:44] {1689} INFO -  at 191.8s,\tbest catboost's error=0.3385,\tbest lgbm's error=0.3300\n",
      "[flaml.automl: 08-31 00:56:44] {1532} INFO - iteration 106, current learner lgbm\n",
      "[flaml.automl: 08-31 00:56:49] {1689} INFO -  at 196.9s,\tbest lgbm's error=0.3300,\tbest lgbm's error=0.3300\n",
      "[flaml.automl: 08-31 00:56:49] {1532} INFO - iteration 107, current learner catboost\n",
      "[flaml.automl: 08-31 00:56:56] {1689} INFO -  at 203.1s,\tbest catboost's error=0.3378,\tbest lgbm's error=0.3300\n",
      "[flaml.automl: 08-31 00:56:56] {1532} INFO - iteration 108, current learner xgboost\n",
      "[flaml.automl: 08-31 00:56:56] {1689} INFO -  at 203.8s,\tbest xgboost's error=0.3504,\tbest lgbm's error=0.3300\n",
      "[flaml.automl: 08-31 00:56:56] {1532} INFO - iteration 109, current learner lgbm\n",
      "[flaml.automl: 08-31 00:57:02] {1689} INFO -  at 209.3s,\tbest lgbm's error=0.3300,\tbest lgbm's error=0.3300\n",
      "[flaml.automl: 08-31 00:57:02] {1532} INFO - iteration 110, current learner extra_tree\n",
      "[flaml.automl: 08-31 00:57:02] {1689} INFO -  at 209.8s,\tbest extra_tree's error=0.3580,\tbest lgbm's error=0.3300\n",
      "[flaml.automl: 08-31 00:57:02] {1532} INFO - iteration 111, current learner extra_tree\n",
      "[flaml.automl: 08-31 00:57:03] {1689} INFO -  at 210.2s,\tbest extra_tree's error=0.3555,\tbest lgbm's error=0.3300\n",
      "[flaml.automl: 08-31 00:57:03] {1532} INFO - iteration 112, current learner lgbm\n",
      "[flaml.automl: 08-31 00:57:21] {1689} INFO -  at 228.3s,\tbest lgbm's error=0.3300,\tbest lgbm's error=0.3300\n",
      "[flaml.automl: 08-31 00:57:21] {1532} INFO - iteration 113, current learner extra_tree\n",
      "[flaml.automl: 08-31 00:57:21] {1689} INFO -  at 228.6s,\tbest extra_tree's error=0.3555,\tbest lgbm's error=0.3300\n",
      "[flaml.automl: 08-31 00:57:21] {1532} INFO - iteration 114, current learner extra_tree\n",
      "[flaml.automl: 08-31 00:57:21] {1689} INFO -  at 229.0s,\tbest extra_tree's error=0.3555,\tbest lgbm's error=0.3300\n",
      "[flaml.automl: 08-31 00:57:21] {1532} INFO - iteration 115, current learner lrl1\n",
      "/home/dmx/miniconda2/envs/blend/lib/python3.8/site-packages/sklearn/linear_model/_sag.py:328: ConvergenceWarning: The max_iter was reached which means the coef_ did not converge\n",
      "  warnings.warn(\"The max_iter was reached which means \"\n",
      "[flaml.automl: 08-31 00:57:22] {1689} INFO -  at 229.9s,\tbest lrl1's error=0.4334,\tbest lgbm's error=0.3300\n",
      "[flaml.automl: 08-31 00:57:22] {1532} INFO - iteration 116, current learner lgbm\n",
      "[flaml.automl: 08-31 00:57:25] {1689} INFO -  at 232.4s,\tbest lgbm's error=0.3300,\tbest lgbm's error=0.3300\n",
      "[flaml.automl: 08-31 00:57:25] {1532} INFO - iteration 117, current learner lgbm\n",
      "[flaml.automl: 08-31 00:57:34] {1689} INFO -  at 241.7s,\tbest lgbm's error=0.3300,\tbest lgbm's error=0.3300\n",
      "[flaml.automl: 08-31 00:57:34] {1766} INFO - selected model: LGBMClassifier(colsample_bytree=0.3841266992710469,\n",
      "               learning_rate=0.04886499949999022, max_bin=512,\n",
      "               min_child_samples=4, n_estimators=220, num_leaves=270,\n",
      "               objective='binary', reg_alpha=0.0009765625,\n",
      "               reg_lambda=0.07539015928723636, verbose=-1)\n",
      "[flaml.automl: 08-31 00:57:43] {1814} INFO - retrain lgbm for 9.1s\n",
      "[flaml.automl: 08-31 00:57:43] {1817} INFO - retrained model: LGBMClassifier(colsample_bytree=0.3841266992710469,\n",
      "               learning_rate=0.04886499949999022, max_bin=512,\n",
      "               min_child_samples=4, n_estimators=220, num_leaves=270,\n",
      "               objective='binary', reg_alpha=0.0009765625,\n",
      "               reg_lambda=0.07539015928723636, verbose=-1)\n",
      "[flaml.automl: 08-31 00:57:43] {1364} INFO - fit succeeded\n",
      "[flaml.automl: 08-31 00:57:43] {1365} INFO - Time taken to find the best model: 241.71747207641602\n",
      "[flaml.automl: 08-31 00:57:43] {1370} WARNING - Time taken to find the best model is 101% of the provided time budget and not all estimators' hyperparameter search converged. Consider increasing the time budget.\n"
     ]
    }
   ],
   "metadata": {
    "slideshow": {
     "slide_type": "slide"
    },
    "tags": [
     "outputPrepend"
    ]
   }
  },
  {
   "cell_type": "markdown",
   "source": [
    "### Best model and metric"
   ],
   "metadata": {
    "slideshow": {
     "slide_type": "slide"
    }
   }
  },
  {
   "cell_type": "code",
   "execution_count": 5,
   "source": [
    "''' retrieve best config and best learner'''\n",
    "print('Best ML leaner:', automl.best_estimator)\n",
    "print('Best hyperparmeter config:', automl.best_config)\n",
    "print('Best accuracy on validation data: {0:.4g}'.format(1-automl.best_loss))\n",
    "print('Training duration of best run: {0:.4g} s'.format(automl.best_config_train_time))"
   ],
   "outputs": [
    {
     "output_type": "stream",
     "name": "stdout",
     "text": [
      "Best ML leaner: lgbm\n",
      "Best hyperparmeter config: {'n_estimators': 220, 'num_leaves': 270, 'min_child_samples': 4, 'learning_rate': 0.04886499949999022, 'log_max_bin': 10, 'colsample_bytree': 0.3841266992710469, 'reg_alpha': 0.0009765625, 'reg_lambda': 0.07539015928723636, 'FLAML_sample_size': 364083}\n",
      "Best accuracy on validation data: 0.67\n",
      "Training duration of best run: 9.323 s\n"
     ]
    }
   ],
   "metadata": {
    "slideshow": {
     "slide_type": "slide"
    },
    "tags": []
   }
  },
  {
   "cell_type": "code",
   "execution_count": 6,
   "source": [
    "automl.model.estimator"
   ],
   "outputs": [
    {
     "output_type": "execute_result",
     "data": {
      "text/plain": [
       "LGBMClassifier(colsample_bytree=0.3841266992710469,\n",
       "               learning_rate=0.04886499949999022, max_bin=512,\n",
       "               min_child_samples=4, n_estimators=220, num_leaves=270,\n",
       "               objective='binary', reg_alpha=0.0009765625,\n",
       "               reg_lambda=0.07539015928723636, verbose=-1)"
      ]
     },
     "metadata": {},
     "execution_count": 6
    }
   ],
   "metadata": {
    "slideshow": {
     "slide_type": "slide"
    }
   }
  },
  {
   "cell_type": "code",
   "execution_count": 7,
   "source": [
    "''' pickle and save the automl object '''\n",
    "import pickle\n",
    "with open('automl.pkl', 'wb') as f:\n",
    "    pickle.dump(automl, f, pickle.HIGHEST_PROTOCOL)"
   ],
   "outputs": [],
   "metadata": {
    "slideshow": {
     "slide_type": "slide"
    }
   }
  },
  {
   "cell_type": "code",
   "execution_count": 8,
   "source": [
    "''' compute predictions of testing dataset ''' \n",
    "y_pred = automl.predict(X_test)\n",
    "print('Predicted labels', y_pred)\n",
    "print('True labels', y_test)\n",
    "y_pred_proba = automl.predict_proba(X_test)[:,1]"
   ],
   "outputs": [
    {
     "output_type": "stream",
     "name": "stdout",
     "text": [
      "Predicted labels ['1' '0' '1' ... '1' '0' '0']\n",
      "True labels 118331    0\n",
      "328182    0\n",
      "335454    0\n",
      "520591    1\n",
      "344651    0\n",
      "         ..\n",
      "367080    0\n",
      "203510    1\n",
      "254894    0\n",
      "296512    1\n",
      "362444    0\n",
      "Name: Delay, Length: 134846, dtype: category\n",
      "Categories (2, object): ['0' < '1']\n"
     ]
    }
   ],
   "metadata": {
    "slideshow": {
     "slide_type": "slide"
    },
    "tags": []
   }
  },
  {
   "cell_type": "code",
   "execution_count": 9,
   "source": [
    "''' compute different metric values on testing dataset'''\n",
    "from flaml.ml import sklearn_metric_loss_score\n",
    "print('accuracy', '=', 1 - sklearn_metric_loss_score('accuracy', y_pred, y_test))\n",
    "print('roc_auc', '=', 1 - sklearn_metric_loss_score('roc_auc', y_pred_proba, y_test))\n",
    "print('log_loss', '=', sklearn_metric_loss_score('log_loss', y_pred_proba, y_test))"
   ],
   "outputs": [
    {
     "output_type": "stream",
     "name": "stdout",
     "text": [
      "accuracy = 0.6729231864497278\n",
      "roc_auc = 0.7261961112785199\n",
      "log_loss = 0.6033707263741326\n"
     ]
    }
   ],
   "metadata": {
    "slideshow": {
     "slide_type": "slide"
    },
    "tags": []
   }
  },
  {
   "cell_type": "markdown",
   "source": [
    "See Section 4 for an accuracy comparison with default LightGBM and XGBoost.\n",
    "\n",
    "### Log history"
   ],
   "metadata": {
    "slideshow": {
     "slide_type": "slide"
    }
   }
  },
  {
   "cell_type": "code",
   "execution_count": 10,
   "source": [
    "from flaml.data import get_output_from_log\n",
    "time_history, best_valid_loss_history, valid_loss_history, config_history, metric_history = \\\n",
    "    get_output_from_log(filename=settings['log_file_name'], time_budget=240)\n",
    "for config in config_history:\n",
    "    print(config)"
   ],
   "outputs": [
    {
     "output_type": "stream",
     "name": "stdout",
     "text": [
      "{'Current Learner': 'lgbm', 'Current Sample': 10000, 'Current Hyper-parameters': {'n_estimators': 4, 'num_leaves': 4, 'min_child_samples': 20, 'learning_rate': 0.09999999999999995, 'log_max_bin': 8, 'colsample_bytree': 1.0, 'reg_alpha': 0.0009765625, 'reg_lambda': 1.0, 'FLAML_sample_size': 10000}, 'Best Learner': 'lgbm', 'Best Hyper-parameters': {'n_estimators': 4, 'num_leaves': 4, 'min_child_samples': 20, 'learning_rate': 0.09999999999999995, 'log_max_bin': 8, 'colsample_bytree': 1.0, 'reg_alpha': 0.0009765625, 'reg_lambda': 1.0, 'FLAML_sample_size': 10000}}\n",
      "{'Current Learner': 'lgbm', 'Current Sample': 10000, 'Current Hyper-parameters': {'n_estimators': 12, 'num_leaves': 4, 'min_child_samples': 15, 'learning_rate': 0.2712162364070373, 'log_max_bin': 10, 'colsample_bytree': 0.9285002286474459, 'reg_alpha': 0.002668211515123386, 'reg_lambda': 0.5215467339232843, 'FLAML_sample_size': 10000}, 'Best Learner': 'lgbm', 'Best Hyper-parameters': {'n_estimators': 12, 'num_leaves': 4, 'min_child_samples': 15, 'learning_rate': 0.2712162364070373, 'log_max_bin': 10, 'colsample_bytree': 0.9285002286474459, 'reg_alpha': 0.002668211515123386, 'reg_lambda': 0.5215467339232843, 'FLAML_sample_size': 10000}}\n",
      "{'Current Learner': 'lgbm', 'Current Sample': 10000, 'Current Hyper-parameters': {'n_estimators': 14, 'num_leaves': 5, 'min_child_samples': 9, 'learning_rate': 0.2835381908967212, 'log_max_bin': 9, 'colsample_bytree': 0.8304072431299575, 'reg_alpha': 0.0014132988481787994, 'reg_lambda': 0.033183495034912504, 'FLAML_sample_size': 10000}, 'Best Learner': 'lgbm', 'Best Hyper-parameters': {'n_estimators': 14, 'num_leaves': 5, 'min_child_samples': 9, 'learning_rate': 0.2835381908967212, 'log_max_bin': 9, 'colsample_bytree': 0.8304072431299575, 'reg_alpha': 0.0014132988481787994, 'reg_lambda': 0.033183495034912504, 'FLAML_sample_size': 10000}}\n",
      "{'Current Learner': 'lgbm', 'Current Sample': 10000, 'Current Hyper-parameters': {'n_estimators': 53, 'num_leaves': 4, 'min_child_samples': 7, 'learning_rate': 0.15662398373030859, 'log_max_bin': 10, 'colsample_bytree': 0.7610534336273627, 'reg_alpha': 0.0009765625, 'reg_lambda': 0.0064258982194552745, 'FLAML_sample_size': 10000}, 'Best Learner': 'lgbm', 'Best Hyper-parameters': {'n_estimators': 53, 'num_leaves': 4, 'min_child_samples': 7, 'learning_rate': 0.15662398373030859, 'log_max_bin': 10, 'colsample_bytree': 0.7610534336273627, 'reg_alpha': 0.0009765625, 'reg_lambda': 0.0064258982194552745, 'FLAML_sample_size': 10000}}\n",
      "{'Current Learner': 'lgbm', 'Current Sample': 40000, 'Current Hyper-parameters': {'n_estimators': 53, 'num_leaves': 4, 'min_child_samples': 7, 'learning_rate': 0.15662398373030859, 'log_max_bin': 10, 'colsample_bytree': 0.7610534336273627, 'reg_alpha': 0.0009765625, 'reg_lambda': 0.0064258982194552745, 'FLAML_sample_size': 40000}, 'Best Learner': 'lgbm', 'Best Hyper-parameters': {'n_estimators': 53, 'num_leaves': 4, 'min_child_samples': 7, 'learning_rate': 0.15662398373030859, 'log_max_bin': 10, 'colsample_bytree': 0.7610534336273627, 'reg_alpha': 0.0009765625, 'reg_lambda': 0.0064258982194552745, 'FLAML_sample_size': 40000}}\n",
      "{'Current Learner': 'lgbm', 'Current Sample': 40000, 'Current Hyper-parameters': {'n_estimators': 89, 'num_leaves': 4, 'min_child_samples': 6, 'learning_rate': 0.2915468353191124, 'log_max_bin': 10, 'colsample_bytree': 0.8291836310024803, 'reg_alpha': 0.0009765625, 'reg_lambda': 0.022917008702549507, 'FLAML_sample_size': 40000}, 'Best Learner': 'lgbm', 'Best Hyper-parameters': {'n_estimators': 89, 'num_leaves': 4, 'min_child_samples': 6, 'learning_rate': 0.2915468353191124, 'log_max_bin': 10, 'colsample_bytree': 0.8291836310024803, 'reg_alpha': 0.0009765625, 'reg_lambda': 0.022917008702549507, 'FLAML_sample_size': 40000}}\n",
      "{'Current Learner': 'lgbm', 'Current Sample': 40000, 'Current Hyper-parameters': {'n_estimators': 53, 'num_leaves': 19, 'min_child_samples': 7, 'learning_rate': 0.15662398373030845, 'log_max_bin': 9, 'colsample_bytree': 0.7610534336273627, 'reg_alpha': 0.006958608037974516, 'reg_lambda': 0.0064258982194552745, 'FLAML_sample_size': 40000}, 'Best Learner': 'lgbm', 'Best Hyper-parameters': {'n_estimators': 53, 'num_leaves': 19, 'min_child_samples': 7, 'learning_rate': 0.15662398373030845, 'log_max_bin': 9, 'colsample_bytree': 0.7610534336273627, 'reg_alpha': 0.006958608037974516, 'reg_lambda': 0.0064258982194552745, 'FLAML_sample_size': 40000}}\n",
      "{'Current Learner': 'lgbm', 'Current Sample': 364083, 'Current Hyper-parameters': {'n_estimators': 53, 'num_leaves': 19, 'min_child_samples': 7, 'learning_rate': 0.15662398373030845, 'log_max_bin': 9, 'colsample_bytree': 0.7610534336273627, 'reg_alpha': 0.006958608037974516, 'reg_lambda': 0.0064258982194552745, 'FLAML_sample_size': 364083}, 'Best Learner': 'lgbm', 'Best Hyper-parameters': {'n_estimators': 53, 'num_leaves': 19, 'min_child_samples': 7, 'learning_rate': 0.15662398373030845, 'log_max_bin': 9, 'colsample_bytree': 0.7610534336273627, 'reg_alpha': 0.006958608037974516, 'reg_lambda': 0.0064258982194552745, 'FLAML_sample_size': 364083}}\n",
      "{'Current Learner': 'catboost', 'Current Sample': 40000, 'Current Hyper-parameters': {'early_stopping_rounds': 11, 'learning_rate': 0.0943289179113066, 'FLAML_sample_size': 40000}, 'Best Learner': 'catboost', 'Best Hyper-parameters': {'early_stopping_rounds': 11, 'learning_rate': 0.0943289179113066, 'FLAML_sample_size': 40000}}\n",
      "{'Current Learner': 'lgbm', 'Current Sample': 364083, 'Current Hyper-parameters': {'n_estimators': 112, 'num_leaves': 42, 'min_child_samples': 6, 'learning_rate': 0.05081630216512539, 'log_max_bin': 8, 'colsample_bytree': 0.6140029119098487, 'reg_alpha': 0.0043659867548350275, 'reg_lambda': 0.00988067243709054, 'FLAML_sample_size': 364083}, 'Best Learner': 'lgbm', 'Best Hyper-parameters': {'n_estimators': 112, 'num_leaves': 42, 'min_child_samples': 6, 'learning_rate': 0.05081630216512539, 'log_max_bin': 8, 'colsample_bytree': 0.6140029119098487, 'reg_alpha': 0.0043659867548350275, 'reg_lambda': 0.00988067243709054, 'FLAML_sample_size': 364083}}\n",
      "{'Current Learner': 'lgbm', 'Current Sample': 364083, 'Current Hyper-parameters': {'n_estimators': 224, 'num_leaves': 19, 'min_child_samples': 3, 'learning_rate': 0.06277721620788371, 'log_max_bin': 9, 'colsample_bytree': 0.6641909243388362, 'reg_alpha': 0.02046640007359354, 'reg_lambda': 0.021186644668220945, 'FLAML_sample_size': 364083}, 'Best Learner': 'lgbm', 'Best Hyper-parameters': {'n_estimators': 224, 'num_leaves': 19, 'min_child_samples': 3, 'learning_rate': 0.06277721620788371, 'log_max_bin': 9, 'colsample_bytree': 0.6641909243388362, 'reg_alpha': 0.02046640007359354, 'reg_lambda': 0.021186644668220945, 'FLAML_sample_size': 364083}}\n",
      "{'Current Learner': 'lgbm', 'Current Sample': 364083, 'Current Hyper-parameters': {'n_estimators': 159, 'num_leaves': 54, 'min_child_samples': 3, 'learning_rate': 0.15480526013767984, 'log_max_bin': 9, 'colsample_bytree': 0.4565737938156385, 'reg_alpha': 0.014844095616079196, 'reg_lambda': 0.01191495998733094, 'FLAML_sample_size': 364083}, 'Best Learner': 'lgbm', 'Best Hyper-parameters': {'n_estimators': 159, 'num_leaves': 54, 'min_child_samples': 3, 'learning_rate': 0.15480526013767984, 'log_max_bin': 9, 'colsample_bytree': 0.4565737938156385, 'reg_alpha': 0.014844095616079196, 'reg_lambda': 0.01191495998733094, 'FLAML_sample_size': 364083}}\n",
      "{'Current Learner': 'lgbm', 'Current Sample': 364083, 'Current Hyper-parameters': {'n_estimators': 100, 'num_leaves': 310, 'min_child_samples': 2, 'learning_rate': 0.0958942820044505, 'log_max_bin': 10, 'colsample_bytree': 0.40118043723920377, 'reg_alpha': 0.006532533034382694, 'reg_lambda': 0.02014962736208268, 'FLAML_sample_size': 364083}, 'Best Learner': 'lgbm', 'Best Hyper-parameters': {'n_estimators': 100, 'num_leaves': 310, 'min_child_samples': 2, 'learning_rate': 0.0958942820044505, 'log_max_bin': 10, 'colsample_bytree': 0.40118043723920377, 'reg_alpha': 0.006532533034382694, 'reg_lambda': 0.02014962736208268, 'FLAML_sample_size': 364083}}\n"
     ]
    }
   ],
   "metadata": {
    "slideshow": {
     "slide_type": "subslide"
    },
    "tags": []
   }
  },
  {
   "cell_type": "code",
   "execution_count": 11,
   "source": [
    "import matplotlib.pyplot as plt\n",
    "import numpy as np\n",
    "\n",
    "plt.title('Learning Curve')\n",
    "plt.xlabel('Wall Clock Time (s)')\n",
    "plt.ylabel('Validation Accuracy')\n",
    "plt.scatter(time_history, 1 - np.array(valid_loss_history))\n",
    "plt.step(time_history, 1 - np.array(best_valid_loss_history), where='post')\n",
    "plt.show()"
   ],
   "outputs": [
    {
     "output_type": "display_data",
     "data": {
      "text/plain": [
       "<Figure size 432x288 with 1 Axes>"
      ],
      "image/svg+xml": "<?xml version=\"1.0\" encoding=\"utf-8\" standalone=\"no\"?>\n<!DOCTYPE svg PUBLIC \"-//W3C//DTD SVG 1.1//EN\"\n  \"http://www.w3.org/Graphics/SVG/1.1/DTD/svg11.dtd\">\n<!-- Created with matplotlib (https://matplotlib.org/) -->\n<svg height=\"277.314375pt\" version=\"1.1\" viewBox=\"0 0 392.14375 277.314375\" width=\"392.14375pt\" xmlns=\"http://www.w3.org/2000/svg\" xmlns:xlink=\"http://www.w3.org/1999/xlink\">\n <defs>\n  <style type=\"text/css\">\n*{stroke-linecap:butt;stroke-linejoin:round;}\n  </style>\n </defs>\n <g id=\"figure_1\">\n  <g id=\"patch_1\">\n   <path d=\"M 0 277.314375 \nL 392.14375 277.314375 \nL 392.14375 0 \nL 0 0 \nz\n\" style=\"fill:none;\"/>\n  </g>\n  <g id=\"axes_1\">\n   <g id=\"patch_2\">\n    <path d=\"M 50.14375 239.758125 \nL 384.94375 239.758125 \nL 384.94375 22.318125 \nL 50.14375 22.318125 \nz\n\" style=\"fill:#ffffff;\"/>\n   </g>\n   <g id=\"PathCollection_1\">\n    <defs>\n     <path d=\"M 0 3 \nC 0.795609 3 1.55874 2.683901 2.12132 2.12132 \nC 2.683901 1.55874 3 0.795609 3 0 \nC 3 -0.795609 2.683901 -1.55874 2.12132 -2.12132 \nC 1.55874 -2.683901 0.795609 -3 0 -3 \nC -0.795609 -3 -1.55874 -2.683901 -2.12132 -2.12132 \nC -2.683901 -1.55874 -3 -0.795609 -3 0 \nC -3 0.795609 -2.683901 1.55874 -2.12132 2.12132 \nC -1.55874 2.683901 -0.795609 3 0 3 \nz\n\" id=\"ma57fd23b24\" style=\"stroke:#1f77b4;\"/>\n    </defs>\n    <g clip-path=\"url(#p67affc388f)\">\n     <use style=\"fill:#1f77b4;stroke:#1f77b4;\" x=\"65.361932\" xlink:href=\"#ma57fd23b24\" y=\"229.874489\"/>\n     <use style=\"fill:#1f77b4;stroke:#1f77b4;\" x=\"67.475284\" xlink:href=\"#ma57fd23b24\" y=\"181.866789\"/>\n     <use style=\"fill:#1f77b4;stroke:#1f77b4;\" x=\"70.521562\" xlink:href=\"#ma57fd23b24\" y=\"175.096473\"/>\n     <use style=\"fill:#1f77b4;stroke:#1f77b4;\" x=\"72.871654\" xlink:href=\"#ma57fd23b24\" y=\"160.735195\"/>\n     <use style=\"fill:#1f77b4;stroke:#1f77b4;\" x=\"87.311462\" xlink:href=\"#ma57fd23b24\" y=\"158.273262\"/>\n     <use style=\"fill:#1f77b4;stroke:#1f77b4;\" x=\"89.835333\" xlink:href=\"#ma57fd23b24\" y=\"133.551349\"/>\n     <use style=\"fill:#1f77b4;stroke:#1f77b4;\" x=\"94.247802\" xlink:href=\"#ma57fd23b24\" y=\"124.62684\"/>\n     <use style=\"fill:#1f77b4;stroke:#1f77b4;\" x=\"122.20591\" xlink:href=\"#ma57fd23b24\" y=\"104.828793\"/>\n     <use style=\"fill:#1f77b4;stroke:#1f77b4;\" x=\"166.896725\" xlink:href=\"#ma57fd23b24\" y=\"102.36686\"/>\n     <use style=\"fill:#1f77b4;stroke:#1f77b4;\" x=\"190.136353\" xlink:href=\"#ma57fd23b24\" y=\"96.314608\"/>\n     <use style=\"fill:#1f77b4;stroke:#1f77b4;\" x=\"237.166905\" xlink:href=\"#ma57fd23b24\" y=\"91.801063\"/>\n     <use style=\"fill:#1f77b4;stroke:#1f77b4;\" x=\"324.748392\" xlink:href=\"#ma57fd23b24\" y=\"55.282386\"/>\n     <use style=\"fill:#1f77b4;stroke:#1f77b4;\" x=\"369.725568\" xlink:href=\"#ma57fd23b24\" y=\"32.201761\"/>\n    </g>\n   </g>\n   <g id=\"matplotlib.axis_1\">\n    <g id=\"xtick_1\">\n     <g id=\"line2d_1\">\n      <defs>\n       <path d=\"M 0 0 \nL 0 3.5 \n\" id=\"m7d47cee871\" style=\"stroke:#000000;stroke-width:0.8;\"/>\n      </defs>\n      <g>\n       <use style=\"stroke:#000000;stroke-width:0.8;\" x=\"58.415549\" xlink:href=\"#m7d47cee871\" y=\"239.758125\"/>\n      </g>\n     </g>\n     <g id=\"text_1\">\n      <!-- 0 -->\n      <defs>\n       <path d=\"M 31.78125 66.40625 \nQ 24.171875 66.40625 20.328125 58.90625 \nQ 16.5 51.421875 16.5 36.375 \nQ 16.5 21.390625 20.328125 13.890625 \nQ 24.171875 6.390625 31.78125 6.390625 \nQ 39.453125 6.390625 43.28125 13.890625 \nQ 47.125 21.390625 47.125 36.375 \nQ 47.125 51.421875 43.28125 58.90625 \nQ 39.453125 66.40625 31.78125 66.40625 \nz\nM 31.78125 74.21875 \nQ 44.046875 74.21875 50.515625 64.515625 \nQ 56.984375 54.828125 56.984375 36.375 \nQ 56.984375 17.96875 50.515625 8.265625 \nQ 44.046875 -1.421875 31.78125 -1.421875 \nQ 19.53125 -1.421875 13.0625 8.265625 \nQ 6.59375 17.96875 6.59375 36.375 \nQ 6.59375 54.828125 13.0625 64.515625 \nQ 19.53125 74.21875 31.78125 74.21875 \nz\n\" id=\"DejaVuSans-48\"/>\n      </defs>\n      <g transform=\"translate(55.234299 254.356562)scale(0.1 -0.1)\">\n       <use xlink:href=\"#DejaVuSans-48\"/>\n      </g>\n     </g>\n    </g>\n    <g id=\"xtick_2\">\n     <g id=\"line2d_2\">\n      <g>\n       <use style=\"stroke:#000000;stroke-width:0.8;\" x=\"106.494726\" xlink:href=\"#m7d47cee871\" y=\"239.758125\"/>\n      </g>\n     </g>\n     <g id=\"text_2\">\n      <!-- 10 -->\n      <defs>\n       <path d=\"M 12.40625 8.296875 \nL 28.515625 8.296875 \nL 28.515625 63.921875 \nL 10.984375 60.40625 \nL 10.984375 69.390625 \nL 28.421875 72.90625 \nL 38.28125 72.90625 \nL 38.28125 8.296875 \nL 54.390625 8.296875 \nL 54.390625 0 \nL 12.40625 0 \nz\n\" id=\"DejaVuSans-49\"/>\n      </defs>\n      <g transform=\"translate(100.132226 254.356562)scale(0.1 -0.1)\">\n       <use xlink:href=\"#DejaVuSans-49\"/>\n       <use x=\"63.623047\" xlink:href=\"#DejaVuSans-48\"/>\n      </g>\n     </g>\n    </g>\n    <g id=\"xtick_3\">\n     <g id=\"line2d_3\">\n      <g>\n       <use style=\"stroke:#000000;stroke-width:0.8;\" x=\"154.573903\" xlink:href=\"#m7d47cee871\" y=\"239.758125\"/>\n      </g>\n     </g>\n     <g id=\"text_3\">\n      <!-- 20 -->\n      <defs>\n       <path d=\"M 19.1875 8.296875 \nL 53.609375 8.296875 \nL 53.609375 0 \nL 7.328125 0 \nL 7.328125 8.296875 \nQ 12.9375 14.109375 22.625 23.890625 \nQ 32.328125 33.6875 34.8125 36.53125 \nQ 39.546875 41.84375 41.421875 45.53125 \nQ 43.3125 49.21875 43.3125 52.78125 \nQ 43.3125 58.59375 39.234375 62.25 \nQ 35.15625 65.921875 28.609375 65.921875 \nQ 23.96875 65.921875 18.8125 64.3125 \nQ 13.671875 62.703125 7.8125 59.421875 \nL 7.8125 69.390625 \nQ 13.765625 71.78125 18.9375 73 \nQ 24.125 74.21875 28.421875 74.21875 \nQ 39.75 74.21875 46.484375 68.546875 \nQ 53.21875 62.890625 53.21875 53.421875 \nQ 53.21875 48.921875 51.53125 44.890625 \nQ 49.859375 40.875 45.40625 35.40625 \nQ 44.1875 33.984375 37.640625 27.21875 \nQ 31.109375 20.453125 19.1875 8.296875 \nz\n\" id=\"DejaVuSans-50\"/>\n      </defs>\n      <g transform=\"translate(148.211403 254.356562)scale(0.1 -0.1)\">\n       <use xlink:href=\"#DejaVuSans-50\"/>\n       <use x=\"63.623047\" xlink:href=\"#DejaVuSans-48\"/>\n      </g>\n     </g>\n    </g>\n    <g id=\"xtick_4\">\n     <g id=\"line2d_4\">\n      <g>\n       <use style=\"stroke:#000000;stroke-width:0.8;\" x=\"202.65308\" xlink:href=\"#m7d47cee871\" y=\"239.758125\"/>\n      </g>\n     </g>\n     <g id=\"text_4\">\n      <!-- 30 -->\n      <defs>\n       <path d=\"M 40.578125 39.3125 \nQ 47.65625 37.796875 51.625 33 \nQ 55.609375 28.21875 55.609375 21.1875 \nQ 55.609375 10.40625 48.1875 4.484375 \nQ 40.765625 -1.421875 27.09375 -1.421875 \nQ 22.515625 -1.421875 17.65625 -0.515625 \nQ 12.796875 0.390625 7.625 2.203125 \nL 7.625 11.71875 \nQ 11.71875 9.328125 16.59375 8.109375 \nQ 21.484375 6.890625 26.8125 6.890625 \nQ 36.078125 6.890625 40.9375 10.546875 \nQ 45.796875 14.203125 45.796875 21.1875 \nQ 45.796875 27.640625 41.28125 31.265625 \nQ 36.765625 34.90625 28.71875 34.90625 \nL 20.21875 34.90625 \nL 20.21875 43.015625 \nL 29.109375 43.015625 \nQ 36.375 43.015625 40.234375 45.921875 \nQ 44.09375 48.828125 44.09375 54.296875 \nQ 44.09375 59.90625 40.109375 62.90625 \nQ 36.140625 65.921875 28.71875 65.921875 \nQ 24.65625 65.921875 20.015625 65.03125 \nQ 15.375 64.15625 9.8125 62.3125 \nL 9.8125 71.09375 \nQ 15.4375 72.65625 20.34375 73.4375 \nQ 25.25 74.21875 29.59375 74.21875 \nQ 40.828125 74.21875 47.359375 69.109375 \nQ 53.90625 64.015625 53.90625 55.328125 \nQ 53.90625 49.265625 50.4375 45.09375 \nQ 46.96875 40.921875 40.578125 39.3125 \nz\n\" id=\"DejaVuSans-51\"/>\n      </defs>\n      <g transform=\"translate(196.29058 254.356562)scale(0.1 -0.1)\">\n       <use xlink:href=\"#DejaVuSans-51\"/>\n       <use x=\"63.623047\" xlink:href=\"#DejaVuSans-48\"/>\n      </g>\n     </g>\n    </g>\n    <g id=\"xtick_5\">\n     <g id=\"line2d_5\">\n      <g>\n       <use style=\"stroke:#000000;stroke-width:0.8;\" x=\"250.732257\" xlink:href=\"#m7d47cee871\" y=\"239.758125\"/>\n      </g>\n     </g>\n     <g id=\"text_5\">\n      <!-- 40 -->\n      <defs>\n       <path d=\"M 37.796875 64.3125 \nL 12.890625 25.390625 \nL 37.796875 25.390625 \nz\nM 35.203125 72.90625 \nL 47.609375 72.90625 \nL 47.609375 25.390625 \nL 58.015625 25.390625 \nL 58.015625 17.1875 \nL 47.609375 17.1875 \nL 47.609375 0 \nL 37.796875 0 \nL 37.796875 17.1875 \nL 4.890625 17.1875 \nL 4.890625 26.703125 \nz\n\" id=\"DejaVuSans-52\"/>\n      </defs>\n      <g transform=\"translate(244.369757 254.356562)scale(0.1 -0.1)\">\n       <use xlink:href=\"#DejaVuSans-52\"/>\n       <use x=\"63.623047\" xlink:href=\"#DejaVuSans-48\"/>\n      </g>\n     </g>\n    </g>\n    <g id=\"xtick_6\">\n     <g id=\"line2d_6\">\n      <g>\n       <use style=\"stroke:#000000;stroke-width:0.8;\" x=\"298.811434\" xlink:href=\"#m7d47cee871\" y=\"239.758125\"/>\n      </g>\n     </g>\n     <g id=\"text_6\">\n      <!-- 50 -->\n      <defs>\n       <path d=\"M 10.796875 72.90625 \nL 49.515625 72.90625 \nL 49.515625 64.59375 \nL 19.828125 64.59375 \nL 19.828125 46.734375 \nQ 21.96875 47.46875 24.109375 47.828125 \nQ 26.265625 48.1875 28.421875 48.1875 \nQ 40.625 48.1875 47.75 41.5 \nQ 54.890625 34.8125 54.890625 23.390625 \nQ 54.890625 11.625 47.5625 5.09375 \nQ 40.234375 -1.421875 26.90625 -1.421875 \nQ 22.3125 -1.421875 17.546875 -0.640625 \nQ 12.796875 0.140625 7.71875 1.703125 \nL 7.71875 11.625 \nQ 12.109375 9.234375 16.796875 8.0625 \nQ 21.484375 6.890625 26.703125 6.890625 \nQ 35.15625 6.890625 40.078125 11.328125 \nQ 45.015625 15.765625 45.015625 23.390625 \nQ 45.015625 31 40.078125 35.4375 \nQ 35.15625 39.890625 26.703125 39.890625 \nQ 22.75 39.890625 18.8125 39.015625 \nQ 14.890625 38.140625 10.796875 36.28125 \nz\n\" id=\"DejaVuSans-53\"/>\n      </defs>\n      <g transform=\"translate(292.448934 254.356562)scale(0.1 -0.1)\">\n       <use xlink:href=\"#DejaVuSans-53\"/>\n       <use x=\"63.623047\" xlink:href=\"#DejaVuSans-48\"/>\n      </g>\n     </g>\n    </g>\n    <g id=\"xtick_7\">\n     <g id=\"line2d_7\">\n      <g>\n       <use style=\"stroke:#000000;stroke-width:0.8;\" x=\"346.890611\" xlink:href=\"#m7d47cee871\" y=\"239.758125\"/>\n      </g>\n     </g>\n     <g id=\"text_7\">\n      <!-- 60 -->\n      <defs>\n       <path d=\"M 33.015625 40.375 \nQ 26.375 40.375 22.484375 35.828125 \nQ 18.609375 31.296875 18.609375 23.390625 \nQ 18.609375 15.53125 22.484375 10.953125 \nQ 26.375 6.390625 33.015625 6.390625 \nQ 39.65625 6.390625 43.53125 10.953125 \nQ 47.40625 15.53125 47.40625 23.390625 \nQ 47.40625 31.296875 43.53125 35.828125 \nQ 39.65625 40.375 33.015625 40.375 \nz\nM 52.59375 71.296875 \nL 52.59375 62.3125 \nQ 48.875 64.0625 45.09375 64.984375 \nQ 41.3125 65.921875 37.59375 65.921875 \nQ 27.828125 65.921875 22.671875 59.328125 \nQ 17.53125 52.734375 16.796875 39.40625 \nQ 19.671875 43.65625 24.015625 45.921875 \nQ 28.375 48.1875 33.59375 48.1875 \nQ 44.578125 48.1875 50.953125 41.515625 \nQ 57.328125 34.859375 57.328125 23.390625 \nQ 57.328125 12.15625 50.6875 5.359375 \nQ 44.046875 -1.421875 33.015625 -1.421875 \nQ 20.359375 -1.421875 13.671875 8.265625 \nQ 6.984375 17.96875 6.984375 36.375 \nQ 6.984375 53.65625 15.1875 63.9375 \nQ 23.390625 74.21875 37.203125 74.21875 \nQ 40.921875 74.21875 44.703125 73.484375 \nQ 48.484375 72.75 52.59375 71.296875 \nz\n\" id=\"DejaVuSans-54\"/>\n      </defs>\n      <g transform=\"translate(340.528111 254.356562)scale(0.1 -0.1)\">\n       <use xlink:href=\"#DejaVuSans-54\"/>\n       <use x=\"63.623047\" xlink:href=\"#DejaVuSans-48\"/>\n      </g>\n     </g>\n    </g>\n    <g id=\"text_8\">\n     <!-- Wall Clock Time (s) -->\n     <defs>\n      <path d=\"M 3.328125 72.90625 \nL 13.28125 72.90625 \nL 28.609375 11.28125 \nL 43.890625 72.90625 \nL 54.984375 72.90625 \nL 70.3125 11.28125 \nL 85.59375 72.90625 \nL 95.609375 72.90625 \nL 77.296875 0 \nL 64.890625 0 \nL 49.515625 63.28125 \nL 33.984375 0 \nL 21.578125 0 \nz\n\" id=\"DejaVuSans-87\"/>\n      <path d=\"M 34.28125 27.484375 \nQ 23.390625 27.484375 19.1875 25 \nQ 14.984375 22.515625 14.984375 16.5 \nQ 14.984375 11.71875 18.140625 8.90625 \nQ 21.296875 6.109375 26.703125 6.109375 \nQ 34.1875 6.109375 38.703125 11.40625 \nQ 43.21875 16.703125 43.21875 25.484375 \nL 43.21875 27.484375 \nz\nM 52.203125 31.203125 \nL 52.203125 0 \nL 43.21875 0 \nL 43.21875 8.296875 \nQ 40.140625 3.328125 35.546875 0.953125 \nQ 30.953125 -1.421875 24.3125 -1.421875 \nQ 15.921875 -1.421875 10.953125 3.296875 \nQ 6 8.015625 6 15.921875 \nQ 6 25.140625 12.171875 29.828125 \nQ 18.359375 34.515625 30.609375 34.515625 \nL 43.21875 34.515625 \nL 43.21875 35.40625 \nQ 43.21875 41.609375 39.140625 45 \nQ 35.0625 48.390625 27.6875 48.390625 \nQ 23 48.390625 18.546875 47.265625 \nQ 14.109375 46.140625 10.015625 43.890625 \nL 10.015625 52.203125 \nQ 14.9375 54.109375 19.578125 55.046875 \nQ 24.21875 56 28.609375 56 \nQ 40.484375 56 46.34375 49.84375 \nQ 52.203125 43.703125 52.203125 31.203125 \nz\n\" id=\"DejaVuSans-97\"/>\n      <path d=\"M 9.421875 75.984375 \nL 18.40625 75.984375 \nL 18.40625 0 \nL 9.421875 0 \nz\n\" id=\"DejaVuSans-108\"/>\n      <path id=\"DejaVuSans-32\"/>\n      <path d=\"M 64.40625 67.28125 \nL 64.40625 56.890625 \nQ 59.421875 61.53125 53.78125 63.8125 \nQ 48.140625 66.109375 41.796875 66.109375 \nQ 29.296875 66.109375 22.65625 58.46875 \nQ 16.015625 50.828125 16.015625 36.375 \nQ 16.015625 21.96875 22.65625 14.328125 \nQ 29.296875 6.6875 41.796875 6.6875 \nQ 48.140625 6.6875 53.78125 8.984375 \nQ 59.421875 11.28125 64.40625 15.921875 \nL 64.40625 5.609375 \nQ 59.234375 2.09375 53.4375 0.328125 \nQ 47.65625 -1.421875 41.21875 -1.421875 \nQ 24.65625 -1.421875 15.125 8.703125 \nQ 5.609375 18.84375 5.609375 36.375 \nQ 5.609375 53.953125 15.125 64.078125 \nQ 24.65625 74.21875 41.21875 74.21875 \nQ 47.75 74.21875 53.53125 72.484375 \nQ 59.328125 70.75 64.40625 67.28125 \nz\n\" id=\"DejaVuSans-67\"/>\n      <path d=\"M 30.609375 48.390625 \nQ 23.390625 48.390625 19.1875 42.75 \nQ 14.984375 37.109375 14.984375 27.296875 \nQ 14.984375 17.484375 19.15625 11.84375 \nQ 23.34375 6.203125 30.609375 6.203125 \nQ 37.796875 6.203125 41.984375 11.859375 \nQ 46.1875 17.53125 46.1875 27.296875 \nQ 46.1875 37.015625 41.984375 42.703125 \nQ 37.796875 48.390625 30.609375 48.390625 \nz\nM 30.609375 56 \nQ 42.328125 56 49.015625 48.375 \nQ 55.71875 40.765625 55.71875 27.296875 \nQ 55.71875 13.875 49.015625 6.21875 \nQ 42.328125 -1.421875 30.609375 -1.421875 \nQ 18.84375 -1.421875 12.171875 6.21875 \nQ 5.515625 13.875 5.515625 27.296875 \nQ 5.515625 40.765625 12.171875 48.375 \nQ 18.84375 56 30.609375 56 \nz\n\" id=\"DejaVuSans-111\"/>\n      <path d=\"M 48.78125 52.59375 \nL 48.78125 44.1875 \nQ 44.96875 46.296875 41.140625 47.34375 \nQ 37.3125 48.390625 33.40625 48.390625 \nQ 24.65625 48.390625 19.8125 42.84375 \nQ 14.984375 37.3125 14.984375 27.296875 \nQ 14.984375 17.28125 19.8125 11.734375 \nQ 24.65625 6.203125 33.40625 6.203125 \nQ 37.3125 6.203125 41.140625 7.25 \nQ 44.96875 8.296875 48.78125 10.40625 \nL 48.78125 2.09375 \nQ 45.015625 0.34375 40.984375 -0.53125 \nQ 36.96875 -1.421875 32.421875 -1.421875 \nQ 20.0625 -1.421875 12.78125 6.34375 \nQ 5.515625 14.109375 5.515625 27.296875 \nQ 5.515625 40.671875 12.859375 48.328125 \nQ 20.21875 56 33.015625 56 \nQ 37.15625 56 41.109375 55.140625 \nQ 45.0625 54.296875 48.78125 52.59375 \nz\n\" id=\"DejaVuSans-99\"/>\n      <path d=\"M 9.078125 75.984375 \nL 18.109375 75.984375 \nL 18.109375 31.109375 \nL 44.921875 54.6875 \nL 56.390625 54.6875 \nL 27.390625 29.109375 \nL 57.625 0 \nL 45.90625 0 \nL 18.109375 26.703125 \nL 18.109375 0 \nL 9.078125 0 \nz\n\" id=\"DejaVuSans-107\"/>\n      <path d=\"M -0.296875 72.90625 \nL 61.375 72.90625 \nL 61.375 64.59375 \nL 35.5 64.59375 \nL 35.5 0 \nL 25.59375 0 \nL 25.59375 64.59375 \nL -0.296875 64.59375 \nz\n\" id=\"DejaVuSans-84\"/>\n      <path d=\"M 9.421875 54.6875 \nL 18.40625 54.6875 \nL 18.40625 0 \nL 9.421875 0 \nz\nM 9.421875 75.984375 \nL 18.40625 75.984375 \nL 18.40625 64.59375 \nL 9.421875 64.59375 \nz\n\" id=\"DejaVuSans-105\"/>\n      <path d=\"M 52 44.1875 \nQ 55.375 50.25 60.0625 53.125 \nQ 64.75 56 71.09375 56 \nQ 79.640625 56 84.28125 50.015625 \nQ 88.921875 44.046875 88.921875 33.015625 \nL 88.921875 0 \nL 79.890625 0 \nL 79.890625 32.71875 \nQ 79.890625 40.578125 77.09375 44.375 \nQ 74.3125 48.1875 68.609375 48.1875 \nQ 61.625 48.1875 57.5625 43.546875 \nQ 53.515625 38.921875 53.515625 30.90625 \nL 53.515625 0 \nL 44.484375 0 \nL 44.484375 32.71875 \nQ 44.484375 40.625 41.703125 44.40625 \nQ 38.921875 48.1875 33.109375 48.1875 \nQ 26.21875 48.1875 22.15625 43.53125 \nQ 18.109375 38.875 18.109375 30.90625 \nL 18.109375 0 \nL 9.078125 0 \nL 9.078125 54.6875 \nL 18.109375 54.6875 \nL 18.109375 46.1875 \nQ 21.1875 51.21875 25.484375 53.609375 \nQ 29.78125 56 35.6875 56 \nQ 41.65625 56 45.828125 52.96875 \nQ 50 49.953125 52 44.1875 \nz\n\" id=\"DejaVuSans-109\"/>\n      <path d=\"M 56.203125 29.59375 \nL 56.203125 25.203125 \nL 14.890625 25.203125 \nQ 15.484375 15.921875 20.484375 11.0625 \nQ 25.484375 6.203125 34.421875 6.203125 \nQ 39.59375 6.203125 44.453125 7.46875 \nQ 49.3125 8.734375 54.109375 11.28125 \nL 54.109375 2.78125 \nQ 49.265625 0.734375 44.1875 -0.34375 \nQ 39.109375 -1.421875 33.890625 -1.421875 \nQ 20.796875 -1.421875 13.15625 6.1875 \nQ 5.515625 13.8125 5.515625 26.8125 \nQ 5.515625 40.234375 12.765625 48.109375 \nQ 20.015625 56 32.328125 56 \nQ 43.359375 56 49.78125 48.890625 \nQ 56.203125 41.796875 56.203125 29.59375 \nz\nM 47.21875 32.234375 \nQ 47.125 39.59375 43.09375 43.984375 \nQ 39.0625 48.390625 32.421875 48.390625 \nQ 24.90625 48.390625 20.390625 44.140625 \nQ 15.875 39.890625 15.1875 32.171875 \nz\n\" id=\"DejaVuSans-101\"/>\n      <path d=\"M 31 75.875 \nQ 24.46875 64.65625 21.28125 53.65625 \nQ 18.109375 42.671875 18.109375 31.390625 \nQ 18.109375 20.125 21.3125 9.0625 \nQ 24.515625 -2 31 -13.1875 \nL 23.1875 -13.1875 \nQ 15.875 -1.703125 12.234375 9.375 \nQ 8.59375 20.453125 8.59375 31.390625 \nQ 8.59375 42.28125 12.203125 53.3125 \nQ 15.828125 64.359375 23.1875 75.875 \nz\n\" id=\"DejaVuSans-40\"/>\n      <path d=\"M 44.28125 53.078125 \nL 44.28125 44.578125 \nQ 40.484375 46.53125 36.375 47.5 \nQ 32.28125 48.484375 27.875 48.484375 \nQ 21.1875 48.484375 17.84375 46.4375 \nQ 14.5 44.390625 14.5 40.28125 \nQ 14.5 37.15625 16.890625 35.375 \nQ 19.28125 33.59375 26.515625 31.984375 \nL 29.59375 31.296875 \nQ 39.15625 29.25 43.1875 25.515625 \nQ 47.21875 21.78125 47.21875 15.09375 \nQ 47.21875 7.46875 41.1875 3.015625 \nQ 35.15625 -1.421875 24.609375 -1.421875 \nQ 20.21875 -1.421875 15.453125 -0.5625 \nQ 10.6875 0.296875 5.421875 2 \nL 5.421875 11.28125 \nQ 10.40625 8.6875 15.234375 7.390625 \nQ 20.0625 6.109375 24.8125 6.109375 \nQ 31.15625 6.109375 34.5625 8.28125 \nQ 37.984375 10.453125 37.984375 14.40625 \nQ 37.984375 18.0625 35.515625 20.015625 \nQ 33.0625 21.96875 24.703125 23.78125 \nL 21.578125 24.515625 \nQ 13.234375 26.265625 9.515625 29.90625 \nQ 5.8125 33.546875 5.8125 39.890625 \nQ 5.8125 47.609375 11.28125 51.796875 \nQ 16.75 56 26.8125 56 \nQ 31.78125 56 36.171875 55.265625 \nQ 40.578125 54.546875 44.28125 53.078125 \nz\n\" id=\"DejaVuSans-115\"/>\n      <path d=\"M 8.015625 75.875 \nL 15.828125 75.875 \nQ 23.140625 64.359375 26.78125 53.3125 \nQ 30.421875 42.28125 30.421875 31.390625 \nQ 30.421875 20.453125 26.78125 9.375 \nQ 23.140625 -1.703125 15.828125 -13.1875 \nL 8.015625 -13.1875 \nQ 14.5 -2 17.703125 9.0625 \nQ 20.90625 20.125 20.90625 31.390625 \nQ 20.90625 42.671875 17.703125 53.65625 \nQ 14.5 64.65625 8.015625 75.875 \nz\n\" id=\"DejaVuSans-41\"/>\n     </defs>\n     <g transform=\"translate(169.985156 268.034687)scale(0.1 -0.1)\">\n      <use xlink:href=\"#DejaVuSans-87\"/>\n      <use x=\"92.501953\" xlink:href=\"#DejaVuSans-97\"/>\n      <use x=\"153.78125\" xlink:href=\"#DejaVuSans-108\"/>\n      <use x=\"181.564453\" xlink:href=\"#DejaVuSans-108\"/>\n      <use x=\"209.347656\" xlink:href=\"#DejaVuSans-32\"/>\n      <use x=\"241.134766\" xlink:href=\"#DejaVuSans-67\"/>\n      <use x=\"310.958984\" xlink:href=\"#DejaVuSans-108\"/>\n      <use x=\"338.742188\" xlink:href=\"#DejaVuSans-111\"/>\n      <use x=\"399.923828\" xlink:href=\"#DejaVuSans-99\"/>\n      <use x=\"454.904297\" xlink:href=\"#DejaVuSans-107\"/>\n      <use x=\"512.814453\" xlink:href=\"#DejaVuSans-32\"/>\n      <use x=\"544.601562\" xlink:href=\"#DejaVuSans-84\"/>\n      <use x=\"602.560547\" xlink:href=\"#DejaVuSans-105\"/>\n      <use x=\"630.34375\" xlink:href=\"#DejaVuSans-109\"/>\n      <use x=\"727.755859\" xlink:href=\"#DejaVuSans-101\"/>\n      <use x=\"789.279297\" xlink:href=\"#DejaVuSans-32\"/>\n      <use x=\"821.066406\" xlink:href=\"#DejaVuSans-40\"/>\n      <use x=\"860.080078\" xlink:href=\"#DejaVuSans-115\"/>\n      <use x=\"912.179688\" xlink:href=\"#DejaVuSans-41\"/>\n     </g>\n    </g>\n   </g>\n   <g id=\"matplotlib.axis_2\">\n    <g id=\"ytick_1\">\n     <g id=\"line2d_8\">\n      <defs>\n       <path d=\"M 0 0 \nL -3.5 0 \n\" id=\"mb162578b49\" style=\"stroke:#000000;stroke-width:0.8;\"/>\n      </defs>\n      <g>\n       <use style=\"stroke:#000000;stroke-width:0.8;\" x=\"50.14375\" xlink:href=\"#mb162578b49\" y=\"239.545783\"/>\n      </g>\n     </g>\n     <g id=\"text_9\">\n      <!-- 0.62 -->\n      <defs>\n       <path d=\"M 10.6875 12.40625 \nL 21 12.40625 \nL 21 0 \nL 10.6875 0 \nz\n\" id=\"DejaVuSans-46\"/>\n      </defs>\n      <g transform=\"translate(20.878125 243.345002)scale(0.1 -0.1)\">\n       <use xlink:href=\"#DejaVuSans-48\"/>\n       <use x=\"63.623047\" xlink:href=\"#DejaVuSans-46\"/>\n       <use x=\"95.410156\" xlink:href=\"#DejaVuSans-54\"/>\n       <use x=\"159.033203\" xlink:href=\"#DejaVuSans-50\"/>\n      </g>\n     </g>\n    </g>\n    <g id=\"ytick_2\">\n     <g id=\"line2d_9\">\n      <g>\n       <use style=\"stroke:#000000;stroke-width:0.8;\" x=\"50.14375\" xlink:href=\"#mb162578b49\" y=\"198.045794\"/>\n      </g>\n     </g>\n     <g id=\"text_10\">\n      <!-- 0.63 -->\n      <g transform=\"translate(20.878125 201.845013)scale(0.1 -0.1)\">\n       <use xlink:href=\"#DejaVuSans-48\"/>\n       <use x=\"63.623047\" xlink:href=\"#DejaVuSans-46\"/>\n       <use x=\"95.410156\" xlink:href=\"#DejaVuSans-54\"/>\n       <use x=\"159.033203\" xlink:href=\"#DejaVuSans-51\"/>\n      </g>\n     </g>\n    </g>\n    <g id=\"ytick_3\">\n     <g id=\"line2d_10\">\n      <g>\n       <use style=\"stroke:#000000;stroke-width:0.8;\" x=\"50.14375\" xlink:href=\"#mb162578b49\" y=\"156.545806\"/>\n      </g>\n     </g>\n     <g id=\"text_11\">\n      <!-- 0.64 -->\n      <g transform=\"translate(20.878125 160.345024)scale(0.1 -0.1)\">\n       <use xlink:href=\"#DejaVuSans-48\"/>\n       <use x=\"63.623047\" xlink:href=\"#DejaVuSans-46\"/>\n       <use x=\"95.410156\" xlink:href=\"#DejaVuSans-54\"/>\n       <use x=\"159.033203\" xlink:href=\"#DejaVuSans-52\"/>\n      </g>\n     </g>\n    </g>\n    <g id=\"ytick_4\">\n     <g id=\"line2d_11\">\n      <g>\n       <use style=\"stroke:#000000;stroke-width:0.8;\" x=\"50.14375\" xlink:href=\"#mb162578b49\" y=\"115.045817\"/>\n      </g>\n     </g>\n     <g id=\"text_12\">\n      <!-- 0.65 -->\n      <g transform=\"translate(20.878125 118.845035)scale(0.1 -0.1)\">\n       <use xlink:href=\"#DejaVuSans-48\"/>\n       <use x=\"63.623047\" xlink:href=\"#DejaVuSans-46\"/>\n       <use x=\"95.410156\" xlink:href=\"#DejaVuSans-54\"/>\n       <use x=\"159.033203\" xlink:href=\"#DejaVuSans-53\"/>\n      </g>\n     </g>\n    </g>\n    <g id=\"ytick_5\">\n     <g id=\"line2d_12\">\n      <g>\n       <use style=\"stroke:#000000;stroke-width:0.8;\" x=\"50.14375\" xlink:href=\"#mb162578b49\" y=\"73.545828\"/>\n      </g>\n     </g>\n     <g id=\"text_13\">\n      <!-- 0.66 -->\n      <g transform=\"translate(20.878125 77.345047)scale(0.1 -0.1)\">\n       <use xlink:href=\"#DejaVuSans-48\"/>\n       <use x=\"63.623047\" xlink:href=\"#DejaVuSans-46\"/>\n       <use x=\"95.410156\" xlink:href=\"#DejaVuSans-54\"/>\n       <use x=\"159.033203\" xlink:href=\"#DejaVuSans-54\"/>\n      </g>\n     </g>\n    </g>\n    <g id=\"ytick_6\">\n     <g id=\"line2d_13\">\n      <g>\n       <use style=\"stroke:#000000;stroke-width:0.8;\" x=\"50.14375\" xlink:href=\"#mb162578b49\" y=\"32.045839\"/>\n      </g>\n     </g>\n     <g id=\"text_14\">\n      <!-- 0.67 -->\n      <defs>\n       <path d=\"M 8.203125 72.90625 \nL 55.078125 72.90625 \nL 55.078125 68.703125 \nL 28.609375 0 \nL 18.3125 0 \nL 43.21875 64.59375 \nL 8.203125 64.59375 \nz\n\" id=\"DejaVuSans-55\"/>\n      </defs>\n      <g transform=\"translate(20.878125 35.845058)scale(0.1 -0.1)\">\n       <use xlink:href=\"#DejaVuSans-48\"/>\n       <use x=\"63.623047\" xlink:href=\"#DejaVuSans-46\"/>\n       <use x=\"95.410156\" xlink:href=\"#DejaVuSans-54\"/>\n       <use x=\"159.033203\" xlink:href=\"#DejaVuSans-55\"/>\n      </g>\n     </g>\n    </g>\n    <g id=\"text_15\">\n     <!-- Validation Accuracy -->\n     <defs>\n      <path d=\"M 28.609375 0 \nL 0.78125 72.90625 \nL 11.078125 72.90625 \nL 34.1875 11.53125 \nL 57.328125 72.90625 \nL 67.578125 72.90625 \nL 39.796875 0 \nz\n\" id=\"DejaVuSans-86\"/>\n      <path d=\"M 45.40625 46.390625 \nL 45.40625 75.984375 \nL 54.390625 75.984375 \nL 54.390625 0 \nL 45.40625 0 \nL 45.40625 8.203125 \nQ 42.578125 3.328125 38.25 0.953125 \nQ 33.9375 -1.421875 27.875 -1.421875 \nQ 17.96875 -1.421875 11.734375 6.484375 \nQ 5.515625 14.40625 5.515625 27.296875 \nQ 5.515625 40.1875 11.734375 48.09375 \nQ 17.96875 56 27.875 56 \nQ 33.9375 56 38.25 53.625 \nQ 42.578125 51.265625 45.40625 46.390625 \nz\nM 14.796875 27.296875 \nQ 14.796875 17.390625 18.875 11.75 \nQ 22.953125 6.109375 30.078125 6.109375 \nQ 37.203125 6.109375 41.296875 11.75 \nQ 45.40625 17.390625 45.40625 27.296875 \nQ 45.40625 37.203125 41.296875 42.84375 \nQ 37.203125 48.484375 30.078125 48.484375 \nQ 22.953125 48.484375 18.875 42.84375 \nQ 14.796875 37.203125 14.796875 27.296875 \nz\n\" id=\"DejaVuSans-100\"/>\n      <path d=\"M 18.3125 70.21875 \nL 18.3125 54.6875 \nL 36.8125 54.6875 \nL 36.8125 47.703125 \nL 18.3125 47.703125 \nL 18.3125 18.015625 \nQ 18.3125 11.328125 20.140625 9.421875 \nQ 21.96875 7.515625 27.59375 7.515625 \nL 36.8125 7.515625 \nL 36.8125 0 \nL 27.59375 0 \nQ 17.1875 0 13.234375 3.875 \nQ 9.28125 7.765625 9.28125 18.015625 \nL 9.28125 47.703125 \nL 2.6875 47.703125 \nL 2.6875 54.6875 \nL 9.28125 54.6875 \nL 9.28125 70.21875 \nz\n\" id=\"DejaVuSans-116\"/>\n      <path d=\"M 54.890625 33.015625 \nL 54.890625 0 \nL 45.90625 0 \nL 45.90625 32.71875 \nQ 45.90625 40.484375 42.875 44.328125 \nQ 39.84375 48.1875 33.796875 48.1875 \nQ 26.515625 48.1875 22.3125 43.546875 \nQ 18.109375 38.921875 18.109375 30.90625 \nL 18.109375 0 \nL 9.078125 0 \nL 9.078125 54.6875 \nL 18.109375 54.6875 \nL 18.109375 46.1875 \nQ 21.34375 51.125 25.703125 53.5625 \nQ 30.078125 56 35.796875 56 \nQ 45.21875 56 50.046875 50.171875 \nQ 54.890625 44.34375 54.890625 33.015625 \nz\n\" id=\"DejaVuSans-110\"/>\n      <path d=\"M 34.1875 63.1875 \nL 20.796875 26.90625 \nL 47.609375 26.90625 \nz\nM 28.609375 72.90625 \nL 39.796875 72.90625 \nL 67.578125 0 \nL 57.328125 0 \nL 50.6875 18.703125 \nL 17.828125 18.703125 \nL 11.1875 0 \nL 0.78125 0 \nz\n\" id=\"DejaVuSans-65\"/>\n      <path d=\"M 8.5 21.578125 \nL 8.5 54.6875 \nL 17.484375 54.6875 \nL 17.484375 21.921875 \nQ 17.484375 14.15625 20.5 10.265625 \nQ 23.53125 6.390625 29.59375 6.390625 \nQ 36.859375 6.390625 41.078125 11.03125 \nQ 45.3125 15.671875 45.3125 23.6875 \nL 45.3125 54.6875 \nL 54.296875 54.6875 \nL 54.296875 0 \nL 45.3125 0 \nL 45.3125 8.40625 \nQ 42.046875 3.421875 37.71875 1 \nQ 33.40625 -1.421875 27.6875 -1.421875 \nQ 18.265625 -1.421875 13.375 4.4375 \nQ 8.5 10.296875 8.5 21.578125 \nz\nM 31.109375 56 \nz\n\" id=\"DejaVuSans-117\"/>\n      <path d=\"M 41.109375 46.296875 \nQ 39.59375 47.171875 37.8125 47.578125 \nQ 36.03125 48 33.890625 48 \nQ 26.265625 48 22.1875 43.046875 \nQ 18.109375 38.09375 18.109375 28.8125 \nL 18.109375 0 \nL 9.078125 0 \nL 9.078125 54.6875 \nL 18.109375 54.6875 \nL 18.109375 46.1875 \nQ 20.953125 51.171875 25.484375 53.578125 \nQ 30.03125 56 36.53125 56 \nQ 37.453125 56 38.578125 55.875 \nQ 39.703125 55.765625 41.0625 55.515625 \nz\n\" id=\"DejaVuSans-114\"/>\n      <path d=\"M 32.171875 -5.078125 \nQ 28.375 -14.84375 24.75 -17.8125 \nQ 21.140625 -20.796875 15.09375 -20.796875 \nL 7.90625 -20.796875 \nL 7.90625 -13.28125 \nL 13.1875 -13.28125 \nQ 16.890625 -13.28125 18.9375 -11.515625 \nQ 21 -9.765625 23.484375 -3.21875 \nL 25.09375 0.875 \nL 2.984375 54.6875 \nL 12.5 54.6875 \nL 29.59375 11.921875 \nL 46.6875 54.6875 \nL 56.203125 54.6875 \nz\n\" id=\"DejaVuSans-121\"/>\n     </defs>\n     <g transform=\"translate(14.798438 180.145937)rotate(-90)scale(0.1 -0.1)\">\n      <use xlink:href=\"#DejaVuSans-86\"/>\n      <use x=\"60.658203\" xlink:href=\"#DejaVuSans-97\"/>\n      <use x=\"121.9375\" xlink:href=\"#DejaVuSans-108\"/>\n      <use x=\"149.720703\" xlink:href=\"#DejaVuSans-105\"/>\n      <use x=\"177.503906\" xlink:href=\"#DejaVuSans-100\"/>\n      <use x=\"240.980469\" xlink:href=\"#DejaVuSans-97\"/>\n      <use x=\"302.259766\" xlink:href=\"#DejaVuSans-116\"/>\n      <use x=\"341.46875\" xlink:href=\"#DejaVuSans-105\"/>\n      <use x=\"369.251953\" xlink:href=\"#DejaVuSans-111\"/>\n      <use x=\"430.433594\" xlink:href=\"#DejaVuSans-110\"/>\n      <use x=\"493.8125\" xlink:href=\"#DejaVuSans-32\"/>\n      <use x=\"525.599609\" xlink:href=\"#DejaVuSans-65\"/>\n      <use x=\"592.257812\" xlink:href=\"#DejaVuSans-99\"/>\n      <use x=\"647.238281\" xlink:href=\"#DejaVuSans-99\"/>\n      <use x=\"702.21875\" xlink:href=\"#DejaVuSans-117\"/>\n      <use x=\"765.597656\" xlink:href=\"#DejaVuSans-114\"/>\n      <use x=\"806.710938\" xlink:href=\"#DejaVuSans-97\"/>\n      <use x=\"867.990234\" xlink:href=\"#DejaVuSans-99\"/>\n      <use x=\"922.970703\" xlink:href=\"#DejaVuSans-121\"/>\n     </g>\n    </g>\n   </g>\n   <g id=\"line2d_14\">\n    <path clip-path=\"url(#p67affc388f)\" d=\"M 65.361932 229.874489 \nL 67.475284 229.874489 \nL 67.475284 181.866789 \nL 70.521562 181.866789 \nL 70.521562 175.096473 \nL 72.871654 175.096473 \nL 72.871654 160.735195 \nL 87.311462 160.735195 \nL 87.311462 158.273262 \nL 89.835333 158.273262 \nL 89.835333 133.551349 \nL 94.247802 133.551349 \nL 94.247802 124.62684 \nL 122.20591 124.62684 \nL 122.20591 104.828793 \nL 166.896725 104.828793 \nL 166.896725 102.36686 \nL 190.136353 102.36686 \nL 190.136353 96.314608 \nL 237.166905 96.314608 \nL 237.166905 91.801063 \nL 324.748392 91.801063 \nL 324.748392 55.282386 \nL 369.725568 55.282386 \nL 369.725568 32.201761 \n\" style=\"fill:none;stroke:#1f77b4;stroke-linecap:square;stroke-width:1.5;\"/>\n   </g>\n   <g id=\"patch_3\">\n    <path d=\"M 50.14375 239.758125 \nL 50.14375 22.318125 \n\" style=\"fill:none;stroke:#000000;stroke-linecap:square;stroke-linejoin:miter;stroke-width:0.8;\"/>\n   </g>\n   <g id=\"patch_4\">\n    <path d=\"M 384.94375 239.758125 \nL 384.94375 22.318125 \n\" style=\"fill:none;stroke:#000000;stroke-linecap:square;stroke-linejoin:miter;stroke-width:0.8;\"/>\n   </g>\n   <g id=\"patch_5\">\n    <path d=\"M 50.14375 239.758125 \nL 384.94375 239.758125 \n\" style=\"fill:none;stroke:#000000;stroke-linecap:square;stroke-linejoin:miter;stroke-width:0.8;\"/>\n   </g>\n   <g id=\"patch_6\">\n    <path d=\"M 50.14375 22.318125 \nL 384.94375 22.318125 \n\" style=\"fill:none;stroke:#000000;stroke-linecap:square;stroke-linejoin:miter;stroke-width:0.8;\"/>\n   </g>\n   <g id=\"text_16\">\n    <!-- Learning Curve -->\n    <defs>\n     <path d=\"M 9.8125 72.90625 \nL 19.671875 72.90625 \nL 19.671875 8.296875 \nL 55.171875 8.296875 \nL 55.171875 0 \nL 9.8125 0 \nz\n\" id=\"DejaVuSans-76\"/>\n     <path d=\"M 45.40625 27.984375 \nQ 45.40625 37.75 41.375 43.109375 \nQ 37.359375 48.484375 30.078125 48.484375 \nQ 22.859375 48.484375 18.828125 43.109375 \nQ 14.796875 37.75 14.796875 27.984375 \nQ 14.796875 18.265625 18.828125 12.890625 \nQ 22.859375 7.515625 30.078125 7.515625 \nQ 37.359375 7.515625 41.375 12.890625 \nQ 45.40625 18.265625 45.40625 27.984375 \nz\nM 54.390625 6.78125 \nQ 54.390625 -7.171875 48.1875 -13.984375 \nQ 42 -20.796875 29.203125 -20.796875 \nQ 24.46875 -20.796875 20.265625 -20.09375 \nQ 16.0625 -19.390625 12.109375 -17.921875 \nL 12.109375 -9.1875 \nQ 16.0625 -11.328125 19.921875 -12.34375 \nQ 23.78125 -13.375 27.78125 -13.375 \nQ 36.625 -13.375 41.015625 -8.765625 \nQ 45.40625 -4.15625 45.40625 5.171875 \nL 45.40625 9.625 \nQ 42.625 4.78125 38.28125 2.390625 \nQ 33.9375 0 27.875 0 \nQ 17.828125 0 11.671875 7.65625 \nQ 5.515625 15.328125 5.515625 27.984375 \nQ 5.515625 40.671875 11.671875 48.328125 \nQ 17.828125 56 27.875 56 \nQ 33.9375 56 38.28125 53.609375 \nQ 42.625 51.21875 45.40625 46.390625 \nL 45.40625 54.6875 \nL 54.390625 54.6875 \nz\n\" id=\"DejaVuSans-103\"/>\n     <path d=\"M 2.984375 54.6875 \nL 12.5 54.6875 \nL 29.59375 8.796875 \nL 46.6875 54.6875 \nL 56.203125 54.6875 \nL 35.6875 0 \nL 23.484375 0 \nz\n\" id=\"DejaVuSans-118\"/>\n    </defs>\n    <g transform=\"translate(171.885625 16.318125)scale(0.12 -0.12)\">\n     <use xlink:href=\"#DejaVuSans-76\"/>\n     <use x=\"53.962891\" xlink:href=\"#DejaVuSans-101\"/>\n     <use x=\"115.486328\" xlink:href=\"#DejaVuSans-97\"/>\n     <use x=\"176.765625\" xlink:href=\"#DejaVuSans-114\"/>\n     <use x=\"216.128906\" xlink:href=\"#DejaVuSans-110\"/>\n     <use x=\"279.507812\" xlink:href=\"#DejaVuSans-105\"/>\n     <use x=\"307.291016\" xlink:href=\"#DejaVuSans-110\"/>\n     <use x=\"370.669922\" xlink:href=\"#DejaVuSans-103\"/>\n     <use x=\"434.146484\" xlink:href=\"#DejaVuSans-32\"/>\n     <use x=\"465.933594\" xlink:href=\"#DejaVuSans-67\"/>\n     <use x=\"535.757812\" xlink:href=\"#DejaVuSans-117\"/>\n     <use x=\"599.136719\" xlink:href=\"#DejaVuSans-114\"/>\n     <use x=\"640.25\" xlink:href=\"#DejaVuSans-118\"/>\n     <use x=\"699.429688\" xlink:href=\"#DejaVuSans-101\"/>\n    </g>\n   </g>\n  </g>\n </g>\n <defs>\n  <clipPath id=\"p67affc388f\">\n   <rect height=\"217.44\" width=\"334.8\" x=\"50.14375\" y=\"22.318125\"/>\n  </clipPath>\n </defs>\n</svg>\n",
      "image/png": "[encoded data removed]"
     },
     "metadata": {
      "needs_background": "light"
     }
    }
   ],
   "metadata": {
    "slideshow": {
     "slide_type": "slide"
    }
   }
  },
  {
   "cell_type": "markdown",
   "source": [
    "## 3. Comparison with alternatives\n"
   ],
   "metadata": {}
  },
  {
   "cell_type": "markdown",
   "source": [
    "### Default LightGBM"
   ],
   "metadata": {}
  },
  {
   "cell_type": "code",
   "execution_count": 12,
   "source": [
    "from lightgbm import LGBMClassifier\n",
    "lgbm = LGBMClassifier()"
   ],
   "outputs": [],
   "metadata": {}
  },
  {
   "cell_type": "code",
   "execution_count": 13,
   "source": [
    "lgbm.fit(X_train, y_train)"
   ],
   "outputs": [
    {
     "output_type": "execute_result",
     "data": {
      "text/plain": [
       "LGBMClassifier()"
      ]
     },
     "metadata": {},
     "execution_count": 13
    }
   ],
   "metadata": {}
  },
  {
   "cell_type": "code",
   "execution_count": 14,
   "source": [
    "y_pred_lgbm = lgbm.predict(X_test)"
   ],
   "outputs": [],
   "metadata": {}
  },
  {
   "cell_type": "markdown",
   "source": [
    "### Default XGBoost"
   ],
   "metadata": {}
  },
  {
   "cell_type": "code",
   "execution_count": 15,
   "source": [
    "from xgboost import XGBClassifier\n",
    "xgb = XGBClassifier()\n",
    "cat_columns = X_train.select_dtypes(include=['category']).columns\n",
    "X = X_train.copy()\n",
    "X[cat_columns] = X[cat_columns].apply(lambda x: x.cat.codes)\n"
   ],
   "outputs": [],
   "metadata": {}
  },
  {
   "cell_type": "code",
   "execution_count": 16,
   "source": [
    "xgb.fit(X, y_train)"
   ],
   "outputs": [
    {
     "output_type": "execute_result",
     "data": {
      "text/plain": [
       "XGBClassifier(base_score=0.5, booster='gbtree', colsample_bylevel=1,\n",
       "              colsample_bynode=1, colsample_bytree=1, gamma=0, gpu_id=-1,\n",
       "              importance_type='gain', interaction_constraints='',\n",
       "              learning_rate=0.300000012, max_delta_step=0, max_depth=6,\n",
       "              min_child_weight=1, missing=nan, monotone_constraints='()',\n",
       "              n_estimators=100, n_jobs=0, num_parallel_tree=1, random_state=0,\n",
       "              reg_alpha=0, reg_lambda=1, scale_pos_weight=1, subsample=1,\n",
       "              tree_method='exact', validate_parameters=1, verbosity=None)"
      ]
     },
     "metadata": {},
     "execution_count": 16
    }
   ],
   "metadata": {}
  },
  {
   "cell_type": "code",
   "execution_count": 17,
   "source": [
    "X = X_test.copy()\n",
    "X[cat_columns] = X[cat_columns].apply(lambda x: x.cat.codes)\n",
    "y_pred_xgb = xgb.predict(X)"
   ],
   "outputs": [],
   "metadata": {}
  },
  {
   "cell_type": "code",
   "execution_count": 18,
   "source": [
    "print('default xgboost accuracy', '=', 1 - sklearn_metric_loss_score('accuracy', y_pred_xgb, y_test))\n",
    "print('default lgbm accuracy', '=', 1 - sklearn_metric_loss_score('accuracy', y_pred_lgbm, y_test))\n",
    "print('flaml accuracy', '=', 1 - sklearn_metric_loss_score('accuracy', y_pred, y_test))"
   ],
   "outputs": [
    {
     "output_type": "stream",
     "name": "stdout",
     "text": [
      "default xgboost accuracy = 0.6676060098186078\n",
      "default lgbm accuracy = 0.6602346380315323\n",
      "flaml accuracy = 0.6729231864497278\n"
     ]
    }
   ],
   "metadata": {}
  },
  {
   "cell_type": "markdown",
   "source": [
    "## 4. Customized Learner"
   ],
   "metadata": {
    "slideshow": {
     "slide_type": "slide"
    }
   }
  },
  {
   "cell_type": "markdown",
   "source": [
    "Some experienced automl users may have a preferred model to tune or may already have a reasonably by-hand-tuned model before launching the automl experiment. They need to select optimal configurations for the customized model mixed with standard built-in learners. \n",
    "\n",
    "FLAML can easily incorporate customized/new learners (preferably with sklearn API) provided by users in a real-time manner, as demonstrated below."
   ],
   "metadata": {
    "slideshow": {
     "slide_type": "slide"
    }
   }
  },
  {
   "cell_type": "markdown",
   "source": [
    "### Example of Regularized Greedy Forest\n",
    "\n",
    "[Regularized Greedy Forest](https://arxiv.org/abs/1109.0887) (RGF) is a machine learning method currently not included in FLAML. The RGF has many tuning parameters, the most critical of which are: `[max_leaf, n_iter, n_tree_search, opt_interval, min_samples_leaf]`. To run a customized/new learner, the user needs to provide the following information:\n",
    "* an implementation of the customized/new learner\n",
    "* a list of hyperparameter names and types\n",
    "* rough ranges of hyperparameters (i.e., upper/lower bounds)\n",
    "* choose initial value corresponding to low cost for cost-related hyperparameters (e.g., initial value for max_leaf and n_iter should be small)\n",
    "\n",
    "In this example, the above information for RGF is wrapped in a python class called *MyRegularizedGreedyForest* that exposes the hyperparameters."
   ],
   "metadata": {
    "slideshow": {
     "slide_type": "slide"
    }
   }
  },
  {
   "cell_type": "code",
   "execution_count": 19,
   "source": [
    "''' SKLearnEstimator is the super class for a sklearn learner '''\n",
    "from flaml.model import SKLearnEstimator\n",
    "from flaml import tune\n",
    "from rgf.sklearn import RGFClassifier, RGFRegressor\n",
    "\n",
    "\n",
    "class MyRegularizedGreedyForest(SKLearnEstimator):\n",
    "\n",
    "\n",
    "    def __init__(self, task='binary', n_jobs=1, **params):\n",
    "        '''Constructor\n",
    "        \n",
    "        Args:\n",
    "            task: A string of the task type, one of\n",
    "                'binary', 'multi', 'regression'\n",
    "            n_jobs: An integer of the number of parallel threads\n",
    "            params: A dictionary of the hyperparameter names and values\n",
    "        '''\n",
    "\n",
    "        super().__init__(task, **params)\n",
    "\n",
    "        '''task=regression for RGFRegressor; \n",
    "        binary or multiclass for RGFClassifier'''\n",
    "        if 'regression' in task:\n",
    "            self.estimator_class = RGFRegressor\n",
    "        else:\n",
    "            self.estimator_class = RGFClassifier\n",
    "\n",
    "        # convert to int for integer hyperparameters\n",
    "        self.params = {\n",
    "            \"n_jobs\": n_jobs,\n",
    "            'max_leaf': int(params['max_leaf']),\n",
    "            'n_iter': int(params['n_iter']),\n",
    "            'n_tree_search': int(params['n_tree_search']),\n",
    "            'opt_interval': int(params['opt_interval']),\n",
    "            'learning_rate': params['learning_rate'],\n",
    "            'min_samples_leaf': int(params['min_samples_leaf'])\n",
    "        }    \n",
    "\n",
    "    @classmethod\n",
    "    def search_space(cls, data_size, task):\n",
    "        '''[required method] search space\n",
    "\n",
    "        Returns:\n",
    "            A dictionary of the search space. \n",
    "            Each key is the name of a hyperparameter, and value is a dict with\n",
    "                its domain and init_value (optional), cat_hp_cost (optional) \n",
    "                e.g., \n",
    "                {'domain': tune.randint(lower=1, upper=10), 'init_value': 1}\n",
    "        '''\n",
    "        space = {        \n",
    "            'max_leaf': {'domain': tune.lograndint(lower=4, upper=data_size), 'init_value': 4, 'low_cost_init_value': 4},\n",
    "            'n_iter': {'domain': tune.lograndint(lower=1, upper=data_size), 'init_value': 1, 'low_cost_init_value': 1},\n",
    "            'n_tree_search': {'domain': tune.lograndint(lower=1, upper=32768), 'init_value': 1, 'low_cost_init_value': 1},\n",
    "            'opt_interval': {'domain': tune.lograndint(lower=1, upper=10000), 'init_value': 100},\n",
    "            'learning_rate': {'domain': tune.loguniform(lower=0.01, upper=20.0)},\n",
    "            'min_samples_leaf': {'domain': tune.lograndint(lower=1, upper=20), 'init_value': 20},\n",
    "        }\n",
    "        return space\n",
    "\n",
    "    @classmethod\n",
    "    def size(cls, config):\n",
    "        '''[optional method] memory size of the estimator in bytes\n",
    "        \n",
    "        Args:\n",
    "            config - the dict of the hyperparameter config\n",
    "\n",
    "        Returns:\n",
    "            A float of the memory size required by the estimator to train the\n",
    "            given config\n",
    "        '''\n",
    "        max_leaves = int(round(config['max_leaf']))\n",
    "        n_estimators = int(round(config['n_iter']))\n",
    "        return (max_leaves * 3 + (max_leaves - 1) * 4 + 1.0) * n_estimators * 8\n",
    "\n",
    "    @classmethod\n",
    "    def cost_relative2lgbm(cls):\n",
    "        '''[optional method] relative cost compared to lightgbm\n",
    "        '''\n",
    "        return 1.0\n"
   ],
   "outputs": [],
   "metadata": {
    "slideshow": {
     "slide_type": "slide"
    }
   }
  },
  {
   "cell_type": "markdown",
   "source": [
    "### Add Customized Learner and Run FLAML AutoML\n",
    "\n",
    "After adding RGF into the list of learners, we run automl by tuning hyperpameters of RGF as well as the default learners. "
   ],
   "metadata": {
    "slideshow": {
     "slide_type": "slide"
    }
   }
  },
  {
   "cell_type": "code",
   "execution_count": 20,
   "source": [
    "automl = AutoML()\n",
    "automl.add_learner(learner_name='RGF', learner_class=MyRegularizedGreedyForest)"
   ],
   "outputs": [],
   "metadata": {
    "slideshow": {
     "slide_type": "slide"
    }
   }
  },
  {
   "cell_type": "code",
   "execution_count": 21,
   "source": [
    "settings = {\n",
    "    \"time_budget\": 10,  # total running time in seconds\n",
    "    \"metric\": 'accuracy', \n",
    "    \"estimator_list\": ['RGF', 'lgbm', 'rf', 'xgboost'],  # list of ML learners\n",
    "    \"task\": 'classification',  # task type    \n",
    "    \"log_file_name\": 'airlines_experiment_custom_learner.log',  # flaml log file \n",
    "    \"log_training_metric\": True,  # whether to log training metric\n",
    "}\n",
    "\n",
    "automl.fit(X_train = X_train, y_train = y_train, **settings)"
   ],
   "outputs": [],
   "metadata": {
    "slideshow": {
     "slide_type": "slide"
    },
    "tags": []
   }
  },
  {
   "cell_type": "markdown",
   "source": [
    "## 5. Customized Metric\n",
    "\n",
    "It's also easy to customize the optimization metric. As an example, we demonstrate with a custom metric function which combines training loss and test loss as the final loss to minimize."
   ],
   "metadata": {}
  },
  {
   "cell_type": "code",
   "execution_count": 22,
   "source": [
    "def custom_metric(X_test, y_test, estimator, labels, X_train, y_train,\n",
    "                  weight_test=None, weight_train=None, config=None,\n",
    "                  groups_test=None, groups_train=None):\n",
    "    from sklearn.metrics import log_loss\n",
    "    import time\n",
    "    start = time.time()\n",
    "    y_pred = estimator.predict_proba(X_test)\n",
    "    pred_time = (time.time() - start) / len(X_test)\n",
    "    test_loss = log_loss(y_test, y_pred, labels=labels,\n",
    "                         sample_weight=weight_test)\n",
    "    y_pred = estimator.predict_proba(X_train)\n",
    "    train_loss = log_loss(y_train, y_pred, labels=labels,\n",
    "                          sample_weight=weight_train)\n",
    "    alpha = 0.5\n",
    "    return test_loss * (1 + alpha) - alpha * train_loss, {\n",
    "        \"test_loss\": test_loss, \"train_loss\": train_loss, \"pred_time\": pred_time\n",
    "    }\n",
    "    # two elements are returned:\n",
    "    # the first element is the metric to minimize as a float number,\n",
    "    # the second element is a dictionary of the metrics to log"
   ],
   "outputs": [],
   "metadata": {}
  },
  {
   "cell_type": "markdown",
   "source": [
    "We can then pass this custom metric function to automl's `fit` method."
   ],
   "metadata": {}
  },
  {
   "cell_type": "code",
   "execution_count": 23,
   "source": [
    "automl = AutoML()\n",
    "settings = {\n",
    "    \"time_budget\": 10,  # total running time in seconds\n",
    "    \"metric\": custom_metric,  # pass the custom metric funtion here\n",
    "    \"task\": 'classification',  # task type\n",
    "    \"log_file_name\": 'airlines_experiment_custom_metric.log',  # flaml log file\n",
    "}\n",
    "\n",
    "automl.fit(X_train = X_train, y_train = y_train, **settings)"
   ],
   "outputs": [
    {
     "output_type": "stream",
     "name": "stderr",
     "text": [
      "[flaml.automl: 08-31 00:58:32] {1279} INFO - Evaluation method: holdout\n",
      "[flaml.automl: 08-31 00:58:32] {1312} INFO - Minimizing error metric: customized metric\n",
      "[flaml.automl: 08-31 00:58:32] {1338} INFO - List of ML learners in AutoML Run: ['lgbm', 'rf', 'catboost', 'xgboost', 'extra_tree', 'lrl1']\n",
      "[flaml.automl: 08-31 00:58:32] {1532} INFO - iteration 0, current learner lgbm\n",
      "[flaml.automl: 08-31 00:58:32] {1689} INFO -  at 1.3s,\tbest lgbm's error=0.6646,\tbest lgbm's error=0.6646\n",
      "[flaml.automl: 08-31 00:58:32] {1532} INFO - iteration 1, current learner lgbm\n",
      "[flaml.automl: 08-31 00:58:33] {1689} INFO -  at 1.4s,\tbest lgbm's error=0.6646,\tbest lgbm's error=0.6646\n",
      "[flaml.automl: 08-31 00:58:33] {1532} INFO - iteration 2, current learner lgbm\n",
      "[flaml.automl: 08-31 00:58:33] {1689} INFO -  at 1.6s,\tbest lgbm's error=0.6493,\tbest lgbm's error=0.6493\n",
      "[flaml.automl: 08-31 00:58:33] {1532} INFO - iteration 3, current learner xgboost\n",
      "[flaml.automl: 08-31 00:58:33] {1689} INFO -  at 1.8s,\tbest xgboost's error=0.6672,\tbest lgbm's error=0.6493\n",
      "[flaml.automl: 08-31 00:58:33] {1532} INFO - iteration 4, current learner lgbm\n",
      "[flaml.automl: 08-31 00:58:33] {1689} INFO -  at 1.9s,\tbest lgbm's error=0.6419,\tbest lgbm's error=0.6419\n",
      "[flaml.automl: 08-31 00:58:33] {1532} INFO - iteration 5, current learner lgbm\n",
      "[flaml.automl: 08-31 00:58:33] {1689} INFO -  at 2.1s,\tbest lgbm's error=0.6419,\tbest lgbm's error=0.6419\n",
      "[flaml.automl: 08-31 00:58:33] {1532} INFO - iteration 6, current learner lgbm\n",
      "[flaml.automl: 08-31 00:58:33] {1689} INFO -  at 2.3s,\tbest lgbm's error=0.6419,\tbest lgbm's error=0.6419\n",
      "[flaml.automl: 08-31 00:58:33] {1532} INFO - iteration 7, current learner lgbm\n",
      "[flaml.automl: 08-31 00:58:34] {1689} INFO -  at 2.5s,\tbest lgbm's error=0.6375,\tbest lgbm's error=0.6375\n",
      "[flaml.automl: 08-31 00:58:34] {1532} INFO - iteration 8, current learner lgbm\n",
      "[flaml.automl: 08-31 00:58:34] {1689} INFO -  at 2.6s,\tbest lgbm's error=0.6375,\tbest lgbm's error=0.6375\n",
      "[flaml.automl: 08-31 00:58:34] {1532} INFO - iteration 9, current learner xgboost\n",
      "[flaml.automl: 08-31 00:58:34] {1689} INFO -  at 2.8s,\tbest xgboost's error=0.6672,\tbest lgbm's error=0.6375\n",
      "[flaml.automl: 08-31 00:58:34] {1532} INFO - iteration 10, current learner xgboost\n",
      "[flaml.automl: 08-31 00:58:34] {1689} INFO -  at 2.9s,\tbest xgboost's error=0.6500,\tbest lgbm's error=0.6375\n",
      "[flaml.automl: 08-31 00:58:34] {1532} INFO - iteration 11, current learner extra_tree\n",
      "[flaml.automl: 08-31 00:58:34] {1689} INFO -  at 3.1s,\tbest extra_tree's error=0.6607,\tbest lgbm's error=0.6375\n",
      "[flaml.automl: 08-31 00:58:34] {1532} INFO - iteration 12, current learner extra_tree\n",
      "[flaml.automl: 08-31 00:58:34] {1689} INFO -  at 3.4s,\tbest extra_tree's error=0.6480,\tbest lgbm's error=0.6375\n",
      "[flaml.automl: 08-31 00:58:34] {1532} INFO - iteration 13, current learner rf\n",
      "[flaml.automl: 08-31 00:58:35] {1689} INFO -  at 3.6s,\tbest rf's error=0.6483,\tbest lgbm's error=0.6375\n",
      "[flaml.automl: 08-31 00:58:35] {1532} INFO - iteration 14, current learner rf\n",
      "[flaml.automl: 08-31 00:58:35] {1689} INFO -  at 3.8s,\tbest rf's error=0.6430,\tbest lgbm's error=0.6375\n",
      "[flaml.automl: 08-31 00:58:35] {1532} INFO - iteration 15, current learner extra_tree\n",
      "[flaml.automl: 08-31 00:58:35] {1689} INFO -  at 4.0s,\tbest extra_tree's error=0.6480,\tbest lgbm's error=0.6375\n",
      "[flaml.automl: 08-31 00:58:35] {1532} INFO - iteration 16, current learner lgbm\n",
      "[flaml.automl: 08-31 00:58:35] {1689} INFO -  at 4.2s,\tbest lgbm's error=0.6375,\tbest lgbm's error=0.6375\n",
      "[flaml.automl: 08-31 00:58:35] {1532} INFO - iteration 17, current learner extra_tree\n",
      "[flaml.automl: 08-31 00:58:36] {1689} INFO -  at 4.4s,\tbest extra_tree's error=0.6480,\tbest lgbm's error=0.6375\n",
      "[flaml.automl: 08-31 00:58:36] {1532} INFO - iteration 18, current learner lgbm\n",
      "[flaml.automl: 08-31 00:58:36] {1689} INFO -  at 4.5s,\tbest lgbm's error=0.6375,\tbest lgbm's error=0.6375\n",
      "[flaml.automl: 08-31 00:58:36] {1532} INFO - iteration 19, current learner xgboost\n",
      "[flaml.automl: 08-31 00:58:36] {1689} INFO -  at 4.7s,\tbest xgboost's error=0.6413,\tbest lgbm's error=0.6375\n",
      "[flaml.automl: 08-31 00:58:36] {1532} INFO - iteration 20, current learner xgboost\n",
      "[flaml.automl: 08-31 00:58:36] {1689} INFO -  at 4.9s,\tbest xgboost's error=0.6413,\tbest lgbm's error=0.6375\n",
      "[flaml.automl: 08-31 00:58:36] {1532} INFO - iteration 21, current learner xgboost\n",
      "[flaml.automl: 08-31 00:58:36] {1689} INFO -  at 5.1s,\tbest xgboost's error=0.6413,\tbest lgbm's error=0.6375\n",
      "[flaml.automl: 08-31 00:58:36] {1532} INFO - iteration 22, current learner lgbm\n",
      "[flaml.automl: 08-31 00:58:36] {1689} INFO -  at 5.2s,\tbest lgbm's error=0.6375,\tbest lgbm's error=0.6375\n",
      "[flaml.automl: 08-31 00:58:36] {1532} INFO - iteration 23, current learner lgbm\n",
      "[flaml.automl: 08-31 00:58:37] {1689} INFO -  at 5.4s,\tbest lgbm's error=0.6375,\tbest lgbm's error=0.6375\n",
      "[flaml.automl: 08-31 00:58:37] {1532} INFO - iteration 24, current learner xgboost\n",
      "[flaml.automl: 08-31 00:58:37] {1689} INFO -  at 5.6s,\tbest xgboost's error=0.6413,\tbest lgbm's error=0.6375\n",
      "[flaml.automl: 08-31 00:58:37] {1532} INFO - iteration 25, current learner extra_tree\n",
      "[flaml.automl: 08-31 00:58:37] {1689} INFO -  at 5.8s,\tbest extra_tree's error=0.6428,\tbest lgbm's error=0.6375\n",
      "[flaml.automl: 08-31 00:58:37] {1532} INFO - iteration 26, current learner rf\n",
      "[flaml.automl: 08-31 00:58:37] {1689} INFO -  at 6.1s,\tbest rf's error=0.6430,\tbest lgbm's error=0.6375\n",
      "[flaml.automl: 08-31 00:58:37] {1532} INFO - iteration 27, current learner xgboost\n",
      "[flaml.automl: 08-31 00:58:37] {1689} INFO -  at 6.3s,\tbest xgboost's error=0.6413,\tbest lgbm's error=0.6375\n",
      "[flaml.automl: 08-31 00:58:37] {1532} INFO - iteration 28, current learner extra_tree\n",
      "[flaml.automl: 08-31 00:58:38] {1689} INFO -  at 6.5s,\tbest extra_tree's error=0.6428,\tbest lgbm's error=0.6375\n",
      "[flaml.automl: 08-31 00:58:38] {1532} INFO - iteration 29, current learner extra_tree\n",
      "[flaml.automl: 08-31 00:58:38] {1689} INFO -  at 6.8s,\tbest extra_tree's error=0.6428,\tbest lgbm's error=0.6375\n",
      "[flaml.automl: 08-31 00:58:38] {1532} INFO - iteration 30, current learner lgbm\n",
      "[flaml.automl: 08-31 00:58:38] {1689} INFO -  at 7.1s,\tbest lgbm's error=0.6375,\tbest lgbm's error=0.6375\n",
      "[flaml.automl: 08-31 00:58:38] {1532} INFO - iteration 31, current learner lgbm\n",
      "[flaml.automl: 08-31 00:58:39] {1689} INFO -  at 7.4s,\tbest lgbm's error=0.6375,\tbest lgbm's error=0.6375\n",
      "[flaml.automl: 08-31 00:58:39] {1532} INFO - iteration 32, current learner lgbm\n",
      "[flaml.automl: 08-31 00:58:39] {1689} INFO -  at 7.8s,\tbest lgbm's error=0.6366,\tbest lgbm's error=0.6366\n",
      "[flaml.automl: 08-31 00:58:39] {1532} INFO - iteration 33, current learner extra_tree\n",
      "[flaml.automl: 08-31 00:58:39] {1689} INFO -  at 7.9s,\tbest extra_tree's error=0.6428,\tbest lgbm's error=0.6366\n",
      "[flaml.automl: 08-31 00:58:39] {1532} INFO - iteration 34, current learner lgbm\n",
      "[flaml.automl: 08-31 00:58:39] {1689} INFO -  at 8.3s,\tbest lgbm's error=0.6366,\tbest lgbm's error=0.6366\n",
      "[flaml.automl: 08-31 00:58:39] {1532} INFO - iteration 35, current learner rf\n",
      "[flaml.automl: 08-31 00:58:40] {1689} INFO -  at 8.4s,\tbest rf's error=0.6430,\tbest lgbm's error=0.6366\n",
      "[flaml.automl: 08-31 00:58:40] {1532} INFO - iteration 36, current learner extra_tree\n",
      "[flaml.automl: 08-31 00:58:40] {1689} INFO -  at 8.6s,\tbest extra_tree's error=0.6428,\tbest lgbm's error=0.6366\n",
      "[flaml.automl: 08-31 00:58:40] {1532} INFO - iteration 37, current learner xgboost\n",
      "[flaml.automl: 08-31 00:58:40] {1689} INFO -  at 9.0s,\tbest xgboost's error=0.6393,\tbest lgbm's error=0.6366\n",
      "[flaml.automl: 08-31 00:58:40] {1532} INFO - iteration 38, current learner xgboost\n",
      "[flaml.automl: 08-31 00:58:40] {1689} INFO -  at 9.2s,\tbest xgboost's error=0.6393,\tbest lgbm's error=0.6366\n",
      "[flaml.automl: 08-31 00:58:40] {1532} INFO - iteration 39, current learner lgbm\n",
      "[flaml.automl: 08-31 00:58:41] {1689} INFO -  at 9.5s,\tbest lgbm's error=0.6366,\tbest lgbm's error=0.6366\n",
      "[flaml.automl: 08-31 00:58:41] {1532} INFO - iteration 40, current learner rf\n",
      "[flaml.automl: 08-31 00:58:41] {1689} INFO -  at 9.6s,\tbest rf's error=0.6430,\tbest lgbm's error=0.6366\n",
      "[flaml.automl: 08-31 00:58:41] {1532} INFO - iteration 41, current learner extra_tree\n",
      "[flaml.automl: 08-31 00:58:41] {1689} INFO -  at 9.8s,\tbest extra_tree's error=0.6428,\tbest lgbm's error=0.6366\n",
      "[flaml.automl: 08-31 00:58:41] {1532} INFO - iteration 42, current learner catboost\n",
      "[flaml.automl: 08-31 00:58:41] {1689} INFO -  at 10.0s,\tbest catboost's error=0.6846,\tbest lgbm's error=0.6366\n",
      "[flaml.automl: 08-31 00:58:41] {1766} INFO - selected model: LGBMClassifier(colsample_bytree=0.9318698026248824,\n",
      "               learning_rate=0.3731008541260285, max_bin=256,\n",
      "               min_child_samples=18, n_estimators=4, num_leaves=19,\n",
      "               objective='binary', reg_alpha=0.04956056407320672,\n",
      "               reg_lambda=3.319594476328555, verbose=-1)\n",
      "[flaml.automl: 08-31 00:58:41] {1820} INFO - not retraining because the time budget is too small.\n",
      "[flaml.automl: 08-31 00:58:41] {1364} INFO - fit succeeded\n",
      "[flaml.automl: 08-31 00:58:41] {1365} INFO - Time taken to find the best model: 7.795238971710205\n",
      "[flaml.automl: 08-31 00:58:41] {1370} WARNING - Time taken to find the best model is 78% of the provided time budget and not all estimators' hyperparameter search converged. Consider increasing the time budget.\n"
     ]
    }
   ],
   "metadata": {}
  }
 ],
 "metadata": {
  "interpreter": {
   "hash": "0cfea3304185a9579d09e0953576b57c8581e46e6ebc6dfeb681bc5a511f7544"
  },
  "kernelspec": {
   "name": "python3",
   "display_name": "Python 3.8.0 64-bit ('blend': conda)"
  },
  "language_info": {
   "codemirror_mode": {
    "name": "ipython",
    "version": 3
   },
   "file_extension": ".py",
   "mimetype": "text/x-python",
   "name": "python",
   "nbconvert_exporter": "python",
   "pygments_lexer": "ipython3",
   "version": "3.8.0"
  }
 },
 "nbformat": 4,
 "nbformat_minor": 2
}