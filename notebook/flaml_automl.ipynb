{
 "cells": [
  {
   "cell_type": "markdown",
   "metadata": {
    "slideshow": {
     "slide_type": "slide"
    }
   },
   "source": [
    "Copyright (c) Microsoft Corporation. All rights reserved. \n",
    "\n",
    "Licensed under the MIT License.\n",
    "\n",
    "# AutoML with FLAML Library\n",
    "\n",
    "\n",
    "## 1. Introduction\n",
    "\n",
    "FLAML is a Python library (https://github.com/microsoft/FLAML) designed to automatically produce accurate machine learning models \n",
    "with low computational cost. It is fast and cheap. The simple and lightweight design makes it easy to use and extend, such as adding new learners. FLAML can \n",
    "- serve as an economical AutoML engine,\n",
    "- be used as a fast hyperparameter tuning tool, or \n",
    "- be embedded in self-tuning software that requires low latency & resource in repetitive\n",
    "   tuning tasks.\n",
    "\n",
    "In this notebook, we use one real data example (binary classification) to showcase how to use FLAML library.\n",
    "\n",
    "FLAML requires `Python>=3.6`. To run this notebook example, please install flaml with the `notebook` option:\n",
    "```bash\n",
    "pip install flaml[notebook]\n",
    "```"
   ]
  },
  {
   "cell_type": "code",
   "execution_count": null,
   "metadata": {},
   "outputs": [],
   "source": [
    "!pip install flaml[notebook];\n",
    "# from v0.6.6, catboost is made an optional dependency to build conda package.\n",
    "# to install catboost without installing the notebook option, you can run:\n",
    "# !pip install flaml[catboost]"
   ]
  },
  {
   "cell_type": "markdown",
   "metadata": {
    "slideshow": {
     "slide_type": "slide"
    }
   },
   "source": [
    "## 2. Classification Example\n",
    "### Load data and preprocess\n",
    "\n",
    "Download [Airlines dataset](https://www.openml.org/d/1169) from OpenML. The task is to predict whether a given flight will be delayed, given the information of the scheduled departure."
   ]
  },
  {
   "cell_type": "code",
   "execution_count": 1,
   "metadata": {
    "slideshow": {
     "slide_type": "subslide"
    },
    "tags": []
   },
   "outputs": [
    {
     "name": "stdout",
     "output_type": "stream",
     "text": [
      "load dataset from ./openml_ds1169.pkl\n",
      "Dataset name: airlines\n",
      "X_train.shape: (404537, 7), y_train.shape: (404537,);\n",
      "X_test.shape: (134846, 7), y_test.shape: (134846,)\n"
     ]
    }
   ],
   "source": [
    "from flaml.data import load_openml_dataset\n",
    "X_train, X_test, y_train, y_test = load_openml_dataset(dataset_id=1169, data_dir='./')"
   ]
  },
  {
   "cell_type": "markdown",
   "metadata": {
    "slideshow": {
     "slide_type": "slide"
    }
   },
   "source": [
    "### Run FLAML\n",
    "In the FLAML automl run configuration, users can specify the task type, time budget, error metric, learner list, whether to subsample, resampling strategy type, and so on. All these arguments have default values which will be used if users do not provide them. For example, the default classifiers are `['lgbm', 'xgboost', 'catboost', 'rf', 'extra_tree', 'lrl1']`. "
   ]
  },
  {
   "cell_type": "code",
   "execution_count": 2,
   "metadata": {
    "slideshow": {
     "slide_type": "slide"
    }
   },
   "outputs": [],
   "source": [
    "''' import AutoML class from flaml package '''\n",
    "from flaml import AutoML\n",
    "automl = AutoML()"
   ]
  },
  {
   "cell_type": "code",
   "execution_count": 3,
   "metadata": {
    "slideshow": {
     "slide_type": "slide"
    }
   },
   "outputs": [],
   "source": [
    "settings = {\n",
    "    \"time_budget\": 240,  # total running time in seconds\n",
    "    \"metric\": 'accuracy',  # can be: 'r2', 'rmse', 'mae', 'mse', 'accuracy', 'roc_auc', 'roc_auc_ovr',\n",
    "                           # 'roc_auc_ovo', 'log_loss', 'mape', 'f1', 'ap', 'ndcg', 'micro_f1', 'macro_f1'\n",
    "    \"task\": 'classification',  # task type\n",
    "    \"log_file_name\": 'airlines_experiment.log',  # flaml log file\n",
    "    \"seed\": 7654321,    # random seed\n",
    "}"
   ]
  },
  {
   "cell_type": "code",
   "execution_count": 4,
   "metadata": {
    "slideshow": {
     "slide_type": "slide"
    },
    "tags": [
     "outputPrepend"
    ]
   },
   "outputs": [
    {
     "name": "stderr",
     "output_type": "stream",
     "text": [
      "[flaml.automl: 11-02 19:22:53] {1483} INFO - Data split method: stratified\n",
      "[flaml.automl: 11-02 19:22:53] {1487} INFO - Evaluation method: holdout\n",
      "[flaml.automl: 11-02 19:22:53] {1537} INFO - Minimizing error metric: 1-accuracy\n",
      "[flaml.automl: 11-02 19:22:54] {1574} INFO - List of ML learners in AutoML Run: ['lgbm', 'rf', 'catboost', 'xgboost', 'extra_tree', 'lrl1']\n",
      "[flaml.automl: 11-02 19:22:54] {1816} INFO - iteration 0, current learner lgbm\n",
      "[flaml.automl: 11-02 19:22:58] {1933} INFO - Estimated sufficient time budget=1538089s. Estimated necessary time budget=27916s.\n",
      "[flaml.automl: 11-02 19:22:58] {2013} INFO -  at 5.6s,\testimator lgbm's best error=0.3777,\tbest estimator lgbm's best error=0.3777\n",
      "[flaml.automl: 11-02 19:22:58] {1816} INFO - iteration 1, current learner lgbm\n",
      "[flaml.automl: 11-02 19:22:58] {2013} INFO -  at 5.7s,\testimator lgbm's best error=0.3759,\tbest estimator lgbm's best error=0.3759\n",
      "[flaml.automl: 11-02 19:22:58] {1816} INFO - iteration 2, current learner lgbm\n",
      "[flaml.automl: 11-02 19:22:58] {2013} INFO -  at 5.8s,\testimator lgbm's best error=0.3759,\tbest estimator lgbm's best error=0.3759\n",
      "[flaml.automl: 11-02 19:22:58] {1816} INFO - iteration 3, current learner lgbm\n",
      "[flaml.automl: 11-02 19:22:58] {2013} INFO -  at 5.8s,\testimator lgbm's best error=0.3644,\tbest estimator lgbm's best error=0.3644\n",
      "[flaml.automl: 11-02 19:22:58] {1816} INFO - iteration 4, current learner lgbm\n",
      "[flaml.automl: 11-02 19:22:58] {2013} INFO -  at 6.0s,\testimator lgbm's best error=0.3588,\tbest estimator lgbm's best error=0.3588\n",
      "[flaml.automl: 11-02 19:22:58] {1816} INFO - iteration 5, current learner lgbm\n",
      "[flaml.automl: 11-02 19:22:58] {2013} INFO -  at 6.1s,\testimator lgbm's best error=0.3588,\tbest estimator lgbm's best error=0.3588\n",
      "[flaml.automl: 11-02 19:22:58] {1816} INFO - iteration 6, current learner lgbm\n",
      "[flaml.automl: 11-02 19:22:59] {2013} INFO -  at 6.5s,\testimator lgbm's best error=0.3555,\tbest estimator lgbm's best error=0.3555\n",
      "[flaml.automl: 11-02 19:22:59] {1816} INFO - iteration 7, current learner lgbm\n",
      "[flaml.automl: 11-02 19:22:59] {2013} INFO -  at 6.7s,\testimator lgbm's best error=0.3555,\tbest estimator lgbm's best error=0.3555\n",
      "[flaml.automl: 11-02 19:22:59] {1816} INFO - iteration 8, current learner lgbm\n",
      "[flaml.automl: 11-02 19:23:00] {2013} INFO -  at 7.8s,\testimator lgbm's best error=0.3555,\tbest estimator lgbm's best error=0.3555\n",
      "[flaml.automl: 11-02 19:23:00] {1816} INFO - iteration 9, current learner lgbm\n",
      "[flaml.automl: 11-02 19:23:02] {2013} INFO -  at 9.2s,\testimator lgbm's best error=0.3555,\tbest estimator lgbm's best error=0.3555\n",
      "[flaml.automl: 11-02 19:23:02] {1816} INFO - iteration 10, current learner lgbm\n",
      "[flaml.automl: 11-02 19:23:02] {2013} INFO -  at 10.0s,\testimator lgbm's best error=0.3542,\tbest estimator lgbm's best error=0.3542\n",
      "[flaml.automl: 11-02 19:23:02] {1816} INFO - iteration 11, current learner lgbm\n",
      "[flaml.automl: 11-02 19:23:04] {2013} INFO -  at 12.2s,\testimator lgbm's best error=0.3507,\tbest estimator lgbm's best error=0.3507\n",
      "[flaml.automl: 11-02 19:23:04] {1816} INFO - iteration 12, current learner lgbm\n",
      "[flaml.automl: 11-02 19:23:05] {2013} INFO -  at 13.1s,\testimator lgbm's best error=0.3507,\tbest estimator lgbm's best error=0.3507\n",
      "[flaml.automl: 11-02 19:23:05] {1816} INFO - iteration 13, current learner lgbm\n",
      "[flaml.automl: 11-02 19:23:10] {2013} INFO -  at 18.1s,\testimator lgbm's best error=0.3507,\tbest estimator lgbm's best error=0.3507\n",
      "[flaml.automl: 11-02 19:23:10] {1816} INFO - iteration 14, current learner lgbm\n",
      "[flaml.automl: 11-02 19:23:12] {2013} INFO -  at 19.3s,\testimator lgbm's best error=0.3507,\tbest estimator lgbm's best error=0.3507\n",
      "[flaml.automl: 11-02 19:23:12] {1816} INFO - iteration 15, current learner xgboost\n",
      "[flaml.automl: 11-02 19:23:12] {2013} INFO -  at 19.7s,\testimator xgboost's best error=0.3787,\tbest estimator lgbm's best error=0.3507\n",
      "[flaml.automl: 11-02 19:23:12] {1816} INFO - iteration 16, current learner lgbm\n",
      "[flaml.automl: 11-02 19:23:13] {2013} INFO -  at 20.8s,\testimator lgbm's best error=0.3507,\tbest estimator lgbm's best error=0.3507\n",
      "[flaml.automl: 11-02 19:23:13] {1816} INFO - iteration 17, current learner xgboost\n",
      "[flaml.automl: 11-02 19:23:13] {2013} INFO -  at 20.9s,\testimator xgboost's best error=0.3649,\tbest estimator lgbm's best error=0.3507\n",
      "[flaml.automl: 11-02 19:23:13] {1816} INFO - iteration 18, current learner xgboost\n",
      "[flaml.automl: 11-02 19:23:13] {2013} INFO -  at 21.0s,\testimator xgboost's best error=0.3649,\tbest estimator lgbm's best error=0.3507\n",
      "[flaml.automl: 11-02 19:23:13] {1816} INFO - iteration 19, current learner xgboost\n",
      "[flaml.automl: 11-02 19:23:13] {2013} INFO -  at 21.1s,\testimator xgboost's best error=0.3649,\tbest estimator lgbm's best error=0.3507\n",
      "[flaml.automl: 11-02 19:23:13] {1816} INFO - iteration 20, current learner xgboost\n",
      "[flaml.automl: 11-02 19:23:13] {2013} INFO -  at 21.2s,\testimator xgboost's best error=0.3629,\tbest estimator lgbm's best error=0.3507\n",
      "[flaml.automl: 11-02 19:23:13] {1816} INFO - iteration 21, current learner lgbm\n",
      "[flaml.automl: 11-02 19:23:18] {2013} INFO -  at 25.9s,\testimator lgbm's best error=0.3507,\tbest estimator lgbm's best error=0.3507\n",
      "[flaml.automl: 11-02 19:23:18] {1816} INFO - iteration 22, current learner xgboost\n",
      "[flaml.automl: 11-02 19:23:18] {2013} INFO -  at 26.0s,\testimator xgboost's best error=0.3629,\tbest estimator lgbm's best error=0.3507\n",
      "[flaml.automl: 11-02 19:23:18] {1816} INFO - iteration 23, current learner xgboost\n",
      "[flaml.automl: 11-02 19:23:18] {2013} INFO -  at 26.1s,\testimator xgboost's best error=0.3629,\tbest estimator lgbm's best error=0.3507\n",
      "[flaml.automl: 11-02 19:23:18] {1816} INFO - iteration 24, current learner lgbm\n",
      "[flaml.automl: 11-02 19:23:29] {2013} INFO -  at 36.7s,\testimator lgbm's best error=0.3404,\tbest estimator lgbm's best error=0.3404\n",
      "[flaml.automl: 11-02 19:23:29] {1816} INFO - iteration 25, current learner extra_tree\n",
      "[flaml.automl: 11-02 19:23:29] {2013} INFO -  at 36.8s,\testimator extra_tree's best error=0.3788,\tbest estimator lgbm's best error=0.3404\n",
      "[flaml.automl: 11-02 19:23:29] {1816} INFO - iteration 26, current learner extra_tree\n",
      "[flaml.automl: 11-02 19:23:29] {2013} INFO -  at 36.9s,\testimator extra_tree's best error=0.3788,\tbest estimator lgbm's best error=0.3404\n",
      "[flaml.automl: 11-02 19:23:29] {1816} INFO - iteration 27, current learner extra_tree\n",
      "[flaml.automl: 11-02 19:23:29] {2013} INFO -  at 37.0s,\testimator extra_tree's best error=0.3774,\tbest estimator lgbm's best error=0.3404\n",
      "[flaml.automl: 11-02 19:23:29] {1816} INFO - iteration 28, current learner rf\n",
      "[flaml.automl: 11-02 19:23:29] {2013} INFO -  at 37.2s,\testimator rf's best error=0.3765,\tbest estimator lgbm's best error=0.3404\n",
      "[flaml.automl: 11-02 19:23:29] {1816} INFO - iteration 29, current learner rf\n",
      "[flaml.automl: 11-02 19:23:30] {2013} INFO -  at 37.4s,\testimator rf's best error=0.3721,\tbest estimator lgbm's best error=0.3404\n",
      "[flaml.automl: 11-02 19:23:30] {1816} INFO - iteration 30, current learner rf\n",
      "[flaml.automl: 11-02 19:23:30] {2013} INFO -  at 37.6s,\testimator rf's best error=0.3721,\tbest estimator lgbm's best error=0.3404\n",
      "[flaml.automl: 11-02 19:23:30] {1816} INFO - iteration 31, current learner lgbm\n",
      "[flaml.automl: 11-02 19:23:51] {2013} INFO -  at 59.1s,\testimator lgbm's best error=0.3343,\tbest estimator lgbm's best error=0.3343\n",
      "[flaml.automl: 11-02 19:23:51] {1816} INFO - iteration 32, current learner rf\n",
      "[flaml.automl: 11-02 19:23:52] {2013} INFO -  at 59.3s,\testimator rf's best error=0.3721,\tbest estimator lgbm's best error=0.3343\n",
      "[flaml.automl: 11-02 19:23:52] {1816} INFO - iteration 33, current learner extra_tree\n",
      "[flaml.automl: 11-02 19:23:52] {2013} INFO -  at 59.4s,\testimator extra_tree's best error=0.3774,\tbest estimator lgbm's best error=0.3343\n",
      "[flaml.automl: 11-02 19:23:52] {1816} INFO - iteration 34, current learner lgbm\n",
      "[flaml.automl: 11-02 19:24:03] {2013} INFO -  at 70.8s,\testimator lgbm's best error=0.3343,\tbest estimator lgbm's best error=0.3343\n",
      "[flaml.automl: 11-02 19:24:03] {1816} INFO - iteration 35, current learner rf\n",
      "[flaml.automl: 11-02 19:24:03] {2013} INFO -  at 70.9s,\testimator rf's best error=0.3721,\tbest estimator lgbm's best error=0.3343\n",
      "[flaml.automl: 11-02 19:24:03] {1816} INFO - iteration 36, current learner extra_tree\n",
      "[flaml.automl: 11-02 19:24:03] {2013} INFO -  at 71.2s,\testimator extra_tree's best error=0.3768,\tbest estimator lgbm's best error=0.3343\n",
      "[flaml.automl: 11-02 19:24:03] {1816} INFO - iteration 37, current learner rf\n",
      "[flaml.automl: 11-02 19:24:04] {2013} INFO -  at 71.3s,\testimator rf's best error=0.3687,\tbest estimator lgbm's best error=0.3343\n",
      "[flaml.automl: 11-02 19:24:04] {1816} INFO - iteration 38, current learner xgboost\n",
      "[flaml.automl: 11-02 19:24:04] {2013} INFO -  at 71.5s,\testimator xgboost's best error=0.3629,\tbest estimator lgbm's best error=0.3343\n",
      "[flaml.automl: 11-02 19:24:04] {1816} INFO - iteration 39, current learner rf\n",
      "[flaml.automl: 11-02 19:24:04] {2013} INFO -  at 71.7s,\testimator rf's best error=0.3687,\tbest estimator lgbm's best error=0.3343\n",
      "[flaml.automl: 11-02 19:24:04] {1816} INFO - iteration 40, current learner xgboost\n",
      "[flaml.automl: 11-02 19:24:04] {2013} INFO -  at 72.0s,\testimator xgboost's best error=0.3605,\tbest estimator lgbm's best error=0.3343\n",
      "[flaml.automl: 11-02 19:24:04] {1816} INFO - iteration 41, current learner xgboost\n",
      "[flaml.automl: 11-02 19:24:05] {2013} INFO -  at 72.2s,\testimator xgboost's best error=0.3586,\tbest estimator lgbm's best error=0.3343\n",
      "[flaml.automl: 11-02 19:24:05] {1816} INFO - iteration 42, current learner lgbm\n",
      "[flaml.automl: 11-02 19:24:16] {2013} INFO -  at 84.2s,\testimator lgbm's best error=0.3296,\tbest estimator lgbm's best error=0.3296\n",
      "[flaml.automl: 11-02 19:24:16] {1816} INFO - iteration 43, current learner xgboost\n",
      "[flaml.automl: 11-02 19:24:17] {2013} INFO -  at 84.5s,\testimator xgboost's best error=0.3586,\tbest estimator lgbm's best error=0.3296\n",
      "[flaml.automl: 11-02 19:24:17] {1816} INFO - iteration 44, current learner extra_tree\n",
      "[flaml.automl: 11-02 19:24:17] {2013} INFO -  at 84.6s,\testimator extra_tree's best error=0.3751,\tbest estimator lgbm's best error=0.3296\n",
      "[flaml.automl: 11-02 19:24:17] {1816} INFO - iteration 45, current learner extra_tree\n",
      "[flaml.automl: 11-02 19:24:17] {2013} INFO -  at 84.8s,\testimator extra_tree's best error=0.3751,\tbest estimator lgbm's best error=0.3296\n",
      "[flaml.automl: 11-02 19:24:17] {1816} INFO - iteration 46, current learner rf\n",
      "[flaml.automl: 11-02 19:24:17] {2013} INFO -  at 84.9s,\testimator rf's best error=0.3687,\tbest estimator lgbm's best error=0.3296\n",
      "[flaml.automl: 11-02 19:24:17] {1816} INFO - iteration 47, current learner extra_tree\n",
      "[flaml.automl: 11-02 19:24:17] {2013} INFO -  at 85.1s,\testimator extra_tree's best error=0.3751,\tbest estimator lgbm's best error=0.3296\n",
      "[flaml.automl: 11-02 19:24:17] {1816} INFO - iteration 48, current learner lgbm\n",
      "[flaml.automl: 11-02 19:24:40] {2013} INFO -  at 107.3s,\testimator lgbm's best error=0.3296,\tbest estimator lgbm's best error=0.3296\n",
      "[flaml.automl: 11-02 19:24:40] {1816} INFO - iteration 49, current learner xgboost\n",
      "[flaml.automl: 11-02 19:24:40] {2013} INFO -  at 107.5s,\testimator xgboost's best error=0.3585,\tbest estimator lgbm's best error=0.3296\n",
      "[flaml.automl: 11-02 19:24:40] {1816} INFO - iteration 50, current learner extra_tree\n",
      "[flaml.automl: 11-02 19:24:40] {2013} INFO -  at 107.8s,\testimator extra_tree's best error=0.3635,\tbest estimator lgbm's best error=0.3296\n",
      "[flaml.automl: 11-02 19:24:40] {1816} INFO - iteration 51, current learner extra_tree\n",
      "[flaml.automl: 11-02 19:24:40] {2013} INFO -  at 107.9s,\testimator extra_tree's best error=0.3635,\tbest estimator lgbm's best error=0.3296\n",
      "[flaml.automl: 11-02 19:24:40] {1816} INFO - iteration 52, current learner extra_tree\n",
      "[flaml.automl: 11-02 19:24:40] {2013} INFO -  at 108.1s,\testimator extra_tree's best error=0.3635,\tbest estimator lgbm's best error=0.3296\n",
      "[flaml.automl: 11-02 19:24:40] {1816} INFO - iteration 53, current learner lgbm\n",
      "[flaml.automl: 11-02 19:24:48] {2013} INFO -  at 115.6s,\testimator lgbm's best error=0.3296,\tbest estimator lgbm's best error=0.3296\n",
      "[flaml.automl: 11-02 19:24:48] {1816} INFO - iteration 54, current learner lgbm\n",
      "[flaml.automl: 11-02 19:25:08] {2013} INFO -  at 136.2s,\testimator lgbm's best error=0.3296,\tbest estimator lgbm's best error=0.3296\n",
      "[flaml.automl: 11-02 19:25:08] {1816} INFO - iteration 55, current learner extra_tree\n",
      "[flaml.automl: 11-02 19:25:09] {2013} INFO -  at 136.4s,\testimator extra_tree's best error=0.3635,\tbest estimator lgbm's best error=0.3296\n",
      "[flaml.automl: 11-02 19:25:09] {1816} INFO - iteration 56, current learner rf\n",
      "[flaml.automl: 11-02 19:25:09] {2013} INFO -  at 136.5s,\testimator rf's best error=0.3687,\tbest estimator lgbm's best error=0.3296\n",
      "[flaml.automl: 11-02 19:25:09] {1816} INFO - iteration 57, current learner xgboost\n",
      "[flaml.automl: 11-02 19:25:09] {2013} INFO -  at 136.9s,\testimator xgboost's best error=0.3585,\tbest estimator lgbm's best error=0.3296\n",
      "[flaml.automl: 11-02 19:25:09] {1816} INFO - iteration 58, current learner extra_tree\n",
      "[flaml.automl: 11-02 19:25:09] {2013} INFO -  at 137.2s,\testimator extra_tree's best error=0.3615,\tbest estimator lgbm's best error=0.3296\n",
      "[flaml.automl: 11-02 19:25:09] {1816} INFO - iteration 59, current learner lgbm\n",
      "[flaml.automl: 11-02 19:25:13] {2013} INFO -  at 140.8s,\testimator lgbm's best error=0.3296,\tbest estimator lgbm's best error=0.3296\n",
      "[flaml.automl: 11-02 19:25:13] {1816} INFO - iteration 60, current learner xgboost\n",
      "[flaml.automl: 11-02 19:25:13] {2013} INFO -  at 141.1s,\testimator xgboost's best error=0.3585,\tbest estimator lgbm's best error=0.3296\n",
      "[flaml.automl: 11-02 19:25:13] {1816} INFO - iteration 61, current learner lgbm\n",
      "[flaml.automl: 11-02 19:26:04] {2013} INFO -  at 192.1s,\testimator lgbm's best error=0.3296,\tbest estimator lgbm's best error=0.3296\n",
      "[flaml.automl: 11-02 19:26:04] {1816} INFO - iteration 62, current learner extra_tree\n",
      "[flaml.automl: 11-02 19:26:05] {2013} INFO -  at 192.3s,\testimator extra_tree's best error=0.3615,\tbest estimator lgbm's best error=0.3296\n",
      "[flaml.automl: 11-02 19:26:05] {1816} INFO - iteration 63, current learner extra_tree\n",
      "[flaml.automl: 11-02 19:26:05] {2013} INFO -  at 192.5s,\testimator extra_tree's best error=0.3615,\tbest estimator lgbm's best error=0.3296\n",
      "[flaml.automl: 11-02 19:26:05] {1816} INFO - iteration 64, current learner lgbm\n",
      "[flaml.automl: 11-02 19:27:03] {2013} INFO -  at 250.7s,\testimator lgbm's best error=0.3296,\tbest estimator lgbm's best error=0.3296\n",
      "[flaml.automl: 11-02 19:27:14] {2230} INFO - retrain lgbm for 11.0s\n",
      "[flaml.automl: 11-02 19:27:14] {2237} INFO - retrained model: LGBMClassifier(colsample_bytree=0.7263265270618353,\n",
      "               learning_rate=0.19240592731562967, max_bin=511,\n",
      "               min_child_samples=101, n_estimators=334, num_leaves=50,\n",
      "               reg_alpha=0.042474252908075376, reg_lambda=0.44574701224719,\n",
      "               verbose=-1)\n",
      "[flaml.automl: 11-02 19:27:14] {1598} INFO - fit succeeded\n",
      "[flaml.automl: 11-02 19:27:14] {1599} INFO - Time taken to find the best model: 84.20605731010437\n"
     ]
    }
   ],
   "source": [
    "'''The main flaml automl API'''\n",
    "automl.fit(X_train=X_train, y_train=y_train, **settings)"
   ]
  },
  {
   "cell_type": "markdown",
   "metadata": {
    "slideshow": {
     "slide_type": "slide"
    }
   },
   "source": [
    "### Best model and metric"
   ]
  },
  {
   "cell_type": "code",
   "execution_count": 5,
   "metadata": {
    "slideshow": {
     "slide_type": "slide"
    },
    "tags": []
   },
   "outputs": [
    {
     "name": "stdout",
     "output_type": "stream",
     "text": [
      "Best ML leaner: lgbm\n",
      "Best hyperparmeter config: {'n_estimators': 334, 'num_leaves': 50, 'min_child_samples': 101, 'learning_rate': 0.19240592731562967, 'log_max_bin': 9, 'colsample_bytree': 0.7263265270618353, 'reg_alpha': 0.042474252908075376, 'reg_lambda': 0.44574701224719, 'FLAML_sample_size': 364083}\n",
      "Best accuracy on validation data: 0.6704\n",
      "Training duration of best run: 10.96 s\n"
     ]
    }
   ],
   "source": [
    "'''retrieve best config and best learner'''\n",
    "print('Best ML leaner:', automl.best_estimator)\n",
    "print('Best hyperparmeter config:', automl.best_config)\n",
    "print('Best accuracy on validation data: {0:.4g}'.format(1-automl.best_loss))\n",
    "print('Training duration of best run: {0:.4g} s'.format(automl.best_config_train_time))"
   ]
  },
  {
   "cell_type": "code",
   "execution_count": 6,
   "metadata": {
    "slideshow": {
     "slide_type": "slide"
    }
   },
   "outputs": [
    {
     "data": {
      "text/plain": [
       "LGBMClassifier(colsample_bytree=0.7263265270618353,\n",
       "               learning_rate=0.19240592731562967, max_bin=511,\n",
       "               min_child_samples=101, n_estimators=334, num_leaves=50,\n",
       "               reg_alpha=0.042474252908075376, reg_lambda=0.44574701224719,\n",
       "               verbose=-1)"
      ]
     },
     "execution_count": 6,
     "metadata": {},
     "output_type": "execute_result"
    }
   ],
   "source": [
    "automl.model.estimator"
   ]
  },
  {
   "cell_type": "code",
   "execution_count": 7,
   "metadata": {
    "slideshow": {
     "slide_type": "slide"
    }
   },
   "outputs": [],
   "source": [
    "'''pickle and save the automl object'''\n",
    "import pickle\n",
    "with open('automl.pkl', 'wb') as f:\n",
    "    pickle.dump(automl, f, pickle.HIGHEST_PROTOCOL)\n",
    "'''load pickled automl object'''\n",
    "with open('automl.pkl', 'rb') as f:\n",
    "    automl = pickle.load(f)"
   ]
  },
  {
   "cell_type": "code",
   "execution_count": 8,
   "metadata": {
    "slideshow": {
     "slide_type": "slide"
    },
    "tags": []
   },
   "outputs": [
    {
     "name": "stdout",
     "output_type": "stream",
     "text": [
      "Predicted labels ['1' '0' '1' ... '1' '0' '0']\n",
      "True labels 118331    0\n",
      "328182    0\n",
      "335454    0\n",
      "520591    1\n",
      "344651    0\n",
      "         ..\n",
      "367080    0\n",
      "203510    1\n",
      "254894    0\n",
      "296512    1\n",
      "362444    0\n",
      "Name: Delay, Length: 134846, dtype: category\n",
      "Categories (2, object): ['0' < '1']\n"
     ]
    }
   ],
   "source": [
    "'''compute predictions of testing dataset''' \n",
    "y_pred = automl.predict(X_test)\n",
    "print('Predicted labels', y_pred)\n",
    "print('True labels', y_test)\n",
    "y_pred_proba = automl.predict_proba(X_test)[:,1]"
   ]
  },
  {
   "cell_type": "code",
   "execution_count": 9,
   "metadata": {
    "slideshow": {
     "slide_type": "slide"
    },
    "tags": []
   },
   "outputs": [
    {
     "name": "stdout",
     "output_type": "stream",
     "text": [
      "accuracy = 0.6713287750470908\n",
      "roc_auc = 0.7249878990284184\n",
      "log_loss = 0.6035815508574554\n"
     ]
    }
   ],
   "source": [
    "''' compute different metric values on testing dataset'''\n",
    "from flaml.ml import sklearn_metric_loss_score\n",
    "print('accuracy', '=', 1 - sklearn_metric_loss_score('accuracy', y_pred, y_test))\n",
    "print('roc_auc', '=', 1 - sklearn_metric_loss_score('roc_auc', y_pred_proba, y_test))\n",
    "print('log_loss', '=', sklearn_metric_loss_score('log_loss', y_pred_proba, y_test))"
   ]
  },
  {
   "cell_type": "markdown",
   "metadata": {
    "slideshow": {
     "slide_type": "slide"
    }
   },
   "source": [
    "See Section 4 for an accuracy comparison with default LightGBM and XGBoost.\n",
    "\n",
    "### Log history"
   ]
  },
  {
   "cell_type": "code",
   "execution_count": 10,
   "metadata": {
    "slideshow": {
     "slide_type": "subslide"
    },
    "tags": []
   },
   "outputs": [
    {
     "name": "stdout",
     "output_type": "stream",
     "text": [
      "{'Current Learner': 'lgbm', 'Current Sample': 10000, 'Current Hyper-parameters': {'n_estimators': 4, 'num_leaves': 4, 'min_child_samples': 20, 'learning_rate': 0.09999999999999995, 'log_max_bin': 8, 'colsample_bytree': 1.0, 'reg_alpha': 0.0009765625, 'reg_lambda': 1.0, 'FLAML_sample_size': 10000}, 'Best Learner': 'lgbm', 'Best Hyper-parameters': {'n_estimators': 4, 'num_leaves': 4, 'min_child_samples': 20, 'learning_rate': 0.09999999999999995, 'log_max_bin': 8, 'colsample_bytree': 1.0, 'reg_alpha': 0.0009765625, 'reg_lambda': 1.0, 'FLAML_sample_size': 10000}}\n",
      "{'Current Learner': 'lgbm', 'Current Sample': 10000, 'Current Hyper-parameters': {'n_estimators': 4, 'num_leaves': 14, 'min_child_samples': 15, 'learning_rate': 0.2284139062380884, 'log_max_bin': 9, 'colsample_bytree': 1.0, 'reg_alpha': 0.0014700173967242716, 'reg_lambda': 7.624911621832711, 'FLAML_sample_size': 10000}, 'Best Learner': 'lgbm', 'Best Hyper-parameters': {'n_estimators': 4, 'num_leaves': 14, 'min_child_samples': 15, 'learning_rate': 0.2284139062380884, 'log_max_bin': 9, 'colsample_bytree': 1.0, 'reg_alpha': 0.0014700173967242716, 'reg_lambda': 7.624911621832711, 'FLAML_sample_size': 10000}}\n",
      "{'Current Learner': 'lgbm', 'Current Sample': 10000, 'Current Hyper-parameters': {'n_estimators': 4, 'num_leaves': 25, 'min_child_samples': 12, 'learning_rate': 0.5082200481556807, 'log_max_bin': 8, 'colsample_bytree': 0.9696263001275751, 'reg_alpha': 0.0028107036379524425, 'reg_lambda': 3.716898117989413, 'FLAML_sample_size': 10000}, 'Best Learner': 'lgbm', 'Best Hyper-parameters': {'n_estimators': 4, 'num_leaves': 25, 'min_child_samples': 12, 'learning_rate': 0.5082200481556807, 'log_max_bin': 8, 'colsample_bytree': 0.9696263001275751, 'reg_alpha': 0.0028107036379524425, 'reg_lambda': 3.716898117989413, 'FLAML_sample_size': 10000}}\n",
      "{'Current Learner': 'lgbm', 'Current Sample': 10000, 'Current Hyper-parameters': {'n_estimators': 23, 'num_leaves': 14, 'min_child_samples': 15, 'learning_rate': 0.2284139062380884, 'log_max_bin': 9, 'colsample_bytree': 1.0, 'reg_alpha': 0.0014700173967242718, 'reg_lambda': 7.624911621832699, 'FLAML_sample_size': 10000}, 'Best Learner': 'lgbm', 'Best Hyper-parameters': {'n_estimators': 23, 'num_leaves': 14, 'min_child_samples': 15, 'learning_rate': 0.2284139062380884, 'log_max_bin': 9, 'colsample_bytree': 1.0, 'reg_alpha': 0.0014700173967242718, 'reg_lambda': 7.624911621832699, 'FLAML_sample_size': 10000}}\n",
      "{'Current Learner': 'lgbm', 'Current Sample': 10000, 'Current Hyper-parameters': {'n_estimators': 101, 'num_leaves': 12, 'min_child_samples': 24, 'learning_rate': 0.07647794276357107, 'log_max_bin': 10, 'colsample_bytree': 1.0, 'reg_alpha': 0.001749539645587163, 'reg_lambda': 4.373760956394571, 'FLAML_sample_size': 10000}, 'Best Learner': 'lgbm', 'Best Hyper-parameters': {'n_estimators': 101, 'num_leaves': 12, 'min_child_samples': 24, 'learning_rate': 0.07647794276357107, 'log_max_bin': 10, 'colsample_bytree': 1.0, 'reg_alpha': 0.001749539645587163, 'reg_lambda': 4.373760956394571, 'FLAML_sample_size': 10000}}\n",
      "{'Current Learner': 'lgbm', 'Current Sample': 40000, 'Current Hyper-parameters': {'n_estimators': 101, 'num_leaves': 12, 'min_child_samples': 24, 'learning_rate': 0.07647794276357107, 'log_max_bin': 10, 'colsample_bytree': 1.0, 'reg_alpha': 0.001749539645587163, 'reg_lambda': 4.373760956394571, 'FLAML_sample_size': 40000}, 'Best Learner': 'lgbm', 'Best Hyper-parameters': {'n_estimators': 101, 'num_leaves': 12, 'min_child_samples': 24, 'learning_rate': 0.07647794276357107, 'log_max_bin': 10, 'colsample_bytree': 1.0, 'reg_alpha': 0.001749539645587163, 'reg_lambda': 4.373760956394571, 'FLAML_sample_size': 40000}}\n",
      "{'Current Learner': 'lgbm', 'Current Sample': 40000, 'Current Hyper-parameters': {'n_estimators': 361, 'num_leaves': 11, 'min_child_samples': 32, 'learning_rate': 0.13528717598813889, 'log_max_bin': 9, 'colsample_bytree': 0.9851977789068981, 'reg_alpha': 0.0038372002422749608, 'reg_lambda': 0.25113531892556773, 'FLAML_sample_size': 40000}, 'Best Learner': 'lgbm', 'Best Hyper-parameters': {'n_estimators': 361, 'num_leaves': 11, 'min_child_samples': 32, 'learning_rate': 0.13528717598813889, 'log_max_bin': 9, 'colsample_bytree': 0.9851977789068981, 'reg_alpha': 0.0038372002422749608, 'reg_lambda': 0.25113531892556773, 'FLAML_sample_size': 40000}}\n",
      "{'Current Learner': 'lgbm', 'Current Sample': 364083, 'Current Hyper-parameters': {'n_estimators': 361, 'num_leaves': 11, 'min_child_samples': 32, 'learning_rate': 0.13528717598813889, 'log_max_bin': 9, 'colsample_bytree': 0.9851977789068981, 'reg_alpha': 0.0038372002422749608, 'reg_lambda': 0.25113531892556773, 'FLAML_sample_size': 364083}, 'Best Learner': 'lgbm', 'Best Hyper-parameters': {'n_estimators': 361, 'num_leaves': 11, 'min_child_samples': 32, 'learning_rate': 0.13528717598813889, 'log_max_bin': 9, 'colsample_bytree': 0.9851977789068981, 'reg_alpha': 0.0038372002422749608, 'reg_lambda': 0.25113531892556773, 'FLAML_sample_size': 364083}}\n",
      "{'Current Learner': 'lgbm', 'Current Sample': 364083, 'Current Hyper-parameters': {'n_estimators': 654, 'num_leaves': 27, 'min_child_samples': 61, 'learning_rate': 0.07058351776020065, 'log_max_bin': 10, 'colsample_bytree': 0.8629551479851468, 'reg_alpha': 0.016562972790870267, 'reg_lambda': 0.25883390536609663, 'FLAML_sample_size': 364083}, 'Best Learner': 'lgbm', 'Best Hyper-parameters': {'n_estimators': 654, 'num_leaves': 27, 'min_child_samples': 61, 'learning_rate': 0.07058351776020065, 'log_max_bin': 10, 'colsample_bytree': 0.8629551479851468, 'reg_alpha': 0.016562972790870267, 'reg_lambda': 0.25883390536609663, 'FLAML_sample_size': 364083}}\n",
      "{'Current Learner': 'lgbm', 'Current Sample': 364083, 'Current Hyper-parameters': {'n_estimators': 334, 'num_leaves': 50, 'min_child_samples': 101, 'learning_rate': 0.19240592731562967, 'log_max_bin': 9, 'colsample_bytree': 0.7263265270618353, 'reg_alpha': 0.042474252908075376, 'reg_lambda': 0.44574701224719, 'FLAML_sample_size': 364083}, 'Best Learner': 'lgbm', 'Best Hyper-parameters': {'n_estimators': 334, 'num_leaves': 50, 'min_child_samples': 101, 'learning_rate': 0.19240592731562967, 'log_max_bin': 9, 'colsample_bytree': 0.7263265270618353, 'reg_alpha': 0.042474252908075376, 'reg_lambda': 0.44574701224719, 'FLAML_sample_size': 364083}}\n"
     ]
    }
   ],
   "source": [
    "from flaml.data import get_output_from_log\n",
    "time_history, best_valid_loss_history, valid_loss_history, config_history, metric_history = \\\n",
    "    get_output_from_log(filename=settings['log_file_name'], time_budget=240)\n",
    "for config in config_history:\n",
    "    print(config)"
   ]
  },
  {
   "cell_type": "code",
   "execution_count": 11,
   "metadata": {
    "slideshow": {
     "slide_type": "slide"
    }
   },
   "outputs": [
    {
     "data": {
      "image/png": "[encoded data removed]",
      "text/plain": [
       "<Figure size 432x288 with 1 Axes>"
      ]
     },
     "metadata": {
      "needs_background": "light"
     },
     "output_type": "display_data"
    }
   ],
   "source": [
    "import matplotlib.pyplot as plt\n",
    "import numpy as np\n",
    "\n",
    "plt.title('Learning Curve')\n",
    "plt.xlabel('Wall Clock Time (s)')\n",
    "plt.ylabel('Validation Accuracy')\n",
    "plt.scatter(time_history, 1 - np.array(valid_loss_history))\n",
    "plt.step(time_history, 1 - np.array(best_valid_loss_history), where='post')\n",
    "plt.show()"
   ]
  },
  {
   "cell_type": "markdown",
   "metadata": {},
   "source": [
    "## 3. Comparison with alternatives\n"
   ]
  },
  {
   "cell_type": "markdown",
   "metadata": {},
   "source": [
    "### Default LightGBM"
   ]
  },
  {
   "cell_type": "code",
   "execution_count": 12,
   "metadata": {},
   "outputs": [],
   "source": [
    "from lightgbm import LGBMClassifier\n",
    "lgbm = LGBMClassifier()"
   ]
  },
  {
   "cell_type": "code",
   "execution_count": 13,
   "metadata": {},
   "outputs": [
    {
     "data": {
      "text/plain": [
       "LGBMClassifier()"
      ]
     },
     "execution_count": 13,
     "metadata": {},
     "output_type": "execute_result"
    }
   ],
   "source": [
    "lgbm.fit(X_train, y_train)"
   ]
  },
  {
   "cell_type": "code",
   "execution_count": 14,
   "metadata": {},
   "outputs": [],
   "source": [
    "y_pred_lgbm = lgbm.predict(X_test)"
   ]
  },
  {
   "cell_type": "markdown",
   "metadata": {},
   "source": [
    "### Default XGBoost"
   ]
  },
  {
   "cell_type": "code",
   "execution_count": 15,
   "metadata": {},
   "outputs": [],
   "source": [
    "from xgboost import XGBClassifier\n",
    "xgb = XGBClassifier()\n",
    "cat_columns = X_train.select_dtypes(include=['category']).columns\n",
    "X = X_train.copy()\n",
    "X[cat_columns] = X[cat_columns].apply(lambda x: x.cat.codes)\n"
   ]
  },
  {
   "cell_type": "code",
   "execution_count": 16,
   "metadata": {},
   "outputs": [
    {
     "data": {
      "text/plain": [
       "XGBClassifier(base_score=0.5, booster='gbtree', colsample_bylevel=1,\n",
       "              colsample_bynode=1, colsample_bytree=1, gamma=0, gpu_id=-1,\n",
       "              importance_type='gain', interaction_constraints='',\n",
       "              learning_rate=0.300000012, max_delta_step=0, max_depth=6,\n",
       "              min_child_weight=1, missing=nan, monotone_constraints='()',\n",
       "              n_estimators=100, n_jobs=0, num_parallel_tree=1, random_state=0,\n",
       "              reg_alpha=0, reg_lambda=1, scale_pos_weight=1, subsample=1,\n",
       "              tree_method='exact', validate_parameters=1, verbosity=None)"
      ]
     },
     "execution_count": 16,
     "metadata": {},
     "output_type": "execute_result"
    }
   ],
   "source": [
    "xgb.fit(X, y_train)"
   ]
  },
  {
   "cell_type": "code",
   "execution_count": 17,
   "metadata": {},
   "outputs": [],
   "source": [
    "X = X_test.copy()\n",
    "X[cat_columns] = X[cat_columns].apply(lambda x: x.cat.codes)\n",
    "y_pred_xgb = xgb.predict(X)"
   ]
  },
  {
   "cell_type": "code",
   "execution_count": 18,
   "metadata": {},
   "outputs": [
    {
     "name": "stdout",
     "output_type": "stream",
     "text": [
      "default xgboost accuracy = 0.6676060098186078\n",
      "default lgbm accuracy = 0.6602346380315323\n",
      "flaml (4min) accuracy = 0.6713287750470908\n"
     ]
    }
   ],
   "source": [
    "print('default xgboost accuracy', '=', 1 - sklearn_metric_loss_score('accuracy', y_pred_xgb, y_test))\n",
    "print('default lgbm accuracy', '=', 1 - sklearn_metric_loss_score('accuracy', y_pred_lgbm, y_test))\n",
    "print('flaml (4min) accuracy', '=', 1 - sklearn_metric_loss_score('accuracy', y_pred, y_test))"
   ]
  },
  {
   "cell_type": "markdown",
   "metadata": {
    "slideshow": {
     "slide_type": "slide"
    }
   },
   "source": [
    "## 4. Customized Learner"
   ]
  },
  {
   "cell_type": "markdown",
   "metadata": {
    "slideshow": {
     "slide_type": "slide"
    }
   },
   "source": [
    "Some experienced automl users may have a preferred model to tune or may already have a reasonably by-hand-tuned model before launching the automl experiment. They need to select optimal configurations for the customized model mixed with standard built-in learners. \n",
    "\n",
    "FLAML can easily incorporate customized/new learners (preferably with sklearn API) provided by users in a real-time manner, as demonstrated below."
   ]
  },
  {
   "cell_type": "markdown",
   "metadata": {
    "slideshow": {
     "slide_type": "slide"
    }
   },
   "source": [
    "### Example of Regularized Greedy Forest\n",
    "\n",
    "[Regularized Greedy Forest](https://arxiv.org/abs/1109.0887) (RGF) is a machine learning method currently not included in FLAML. The RGF has many tuning parameters, the most critical of which are: `[max_leaf, n_iter, n_tree_search, opt_interval, min_samples_leaf]`. To run a customized/new learner, the user needs to provide the following information:\n",
    "* an implementation of the customized/new learner\n",
    "* a list of hyperparameter names and types\n",
    "* rough ranges of hyperparameters (i.e., upper/lower bounds)\n",
    "* choose initial value corresponding to low cost for cost-related hyperparameters (e.g., initial value for max_leaf and n_iter should be small)\n",
    "\n",
    "In this example, the above information for RGF is wrapped in a python class called *MyRegularizedGreedyForest* that exposes the hyperparameters."
   ]
  },
  {
   "cell_type": "code",
   "execution_count": 19,
   "metadata": {
    "slideshow": {
     "slide_type": "slide"
    }
   },
   "outputs": [],
   "source": [
    "''' SKLearnEstimator is the super class for a sklearn learner '''\n",
    "from flaml.model import SKLearnEstimator\n",
    "from flaml import tune\n",
    "from flaml.data import CLASSIFICATION\n",
    "\n",
    "\n",
    "class MyRegularizedGreedyForest(SKLearnEstimator):\n",
    "    def __init__(self, task='binary', **config):\n",
    "        '''Constructor\n",
    "        \n",
    "        Args:\n",
    "            task: A string of the task type, one of\n",
    "                'binary', 'multi', 'regression'\n",
    "            config: A dictionary containing the hyperparameter names\n",
    "                and 'n_jobs' as keys. n_jobs is the number of parallel threads.\n",
    "        '''\n",
    "\n",
    "        super().__init__(task, **config)\n",
    "\n",
    "        '''task=binary or multi for classification task'''\n",
    "        if task in CLASSIFICATION:\n",
    "            from rgf.sklearn import RGFClassifier\n",
    "\n",
    "            self.estimator_class = RGFClassifier\n",
    "        else:\n",
    "            from rgf.sklearn import RGFRegressor\n",
    "            \n",
    "            self.estimator_class = RGFRegressor\n",
    "\n",
    "    @classmethod\n",
    "    def search_space(cls, data_size, task):\n",
    "        '''[required method] search space\n",
    "\n",
    "        Returns:\n",
    "            A dictionary of the search space. \n",
    "            Each key is the name of a hyperparameter, and value is a dict with\n",
    "                its domain (required) and low_cost_init_value, init_value,\n",
    "                cat_hp_cost (if applicable).\n",
    "                e.g.,\n",
    "                {'domain': tune.randint(lower=1, upper=10), 'init_value': 1}.\n",
    "        '''\n",
    "        space = {        \n",
    "            'max_leaf': {'domain': tune.lograndint(lower=4, upper=data_size), 'init_value': 4, 'low_cost_init_value': 4},\n",
    "            'n_iter': {'domain': tune.lograndint(lower=1, upper=data_size), 'init_value': 1, 'low_cost_init_value': 1},\n",
    "            'n_tree_search': {'domain': tune.lograndint(lower=1, upper=32768), 'init_value': 1, 'low_cost_init_value': 1},\n",
    "            'opt_interval': {'domain': tune.lograndint(lower=1, upper=10000), 'init_value': 100},\n",
    "            'learning_rate': {'domain': tune.loguniform(lower=0.01, upper=20.0)},\n",
    "            'min_samples_leaf': {'domain': tune.lograndint(lower=1, upper=20), 'init_value': 20},\n",
    "        }\n",
    "        return space\n",
    "\n",
    "    @classmethod\n",
    "    def size(cls, config):\n",
    "        '''[optional method] memory size of the estimator in bytes\n",
    "        \n",
    "        Args:\n",
    "            config - the dict of the hyperparameter config\n",
    "\n",
    "        Returns:\n",
    "            A float of the memory size required by the estimator to train the\n",
    "            given config\n",
    "        '''\n",
    "        max_leaves = int(round(config['max_leaf']))\n",
    "        n_estimators = int(round(config['n_iter']))\n",
    "        return (max_leaves * 3 + (max_leaves - 1) * 4 + 1.0) * n_estimators * 8\n",
    "\n",
    "    @classmethod\n",
    "    def cost_relative2lgbm(cls):\n",
    "        '''[optional method] relative cost compared to lightgbm\n",
    "        '''\n",
    "        return 1.0\n"
   ]
  },
  {
   "cell_type": "markdown",
   "metadata": {
    "slideshow": {
     "slide_type": "slide"
    }
   },
   "source": [
    "### Add Customized Learner and Run FLAML AutoML\n",
    "\n",
    "After adding RGF into the list of learners, we run automl by tuning hyperpameters of RGF as well as the default learners. "
   ]
  },
  {
   "cell_type": "code",
   "execution_count": 20,
   "metadata": {
    "slideshow": {
     "slide_type": "slide"
    }
   },
   "outputs": [],
   "source": [
    "automl = AutoML()\n",
    "automl.add_learner(learner_name='RGF', learner_class=MyRegularizedGreedyForest)"
   ]
  },
  {
   "cell_type": "code",
   "execution_count": 21,
   "metadata": {
    "slideshow": {
     "slide_type": "slide"
    },
    "tags": []
   },
   "outputs": [
    {
     "name": "stderr",
     "output_type": "stream",
     "text": [
      "[flaml.automl: 11-02 19:28:10] {1483} INFO - Data split method: stratified\n",
      "[flaml.automl: 11-02 19:28:10] {1487} INFO - Evaluation method: holdout\n",
      "[flaml.automl: 11-02 19:28:10] {1537} INFO - Minimizing error metric: 1-accuracy\n",
      "[flaml.automl: 11-02 19:28:10] {1574} INFO - List of ML learners in AutoML Run: ['RGF', 'lgbm', 'rf', 'xgboost']\n",
      "[flaml.automl: 11-02 19:28:10] {1816} INFO - iteration 0, current learner RGF\n",
      "/home/dmx/miniconda2/envs/blend/lib/python3.8/site-packages/rgf/utils.py:225: UserWarning: Cannot find FastRGF executable files. FastRGF estimators will be unavailable for usage.\n",
      "  warnings.warn(\"Cannot find FastRGF executable files. \"\n",
      "[flaml.automl: 11-02 19:28:12] {1933} INFO - Estimated sufficient time budget=838163s. Estimated necessary time budget=838s.\n",
      "[flaml.automl: 11-02 19:28:12] {2013} INFO -  at 3.4s,\testimator RGF's best error=0.3840,\tbest estimator RGF's best error=0.3840\n",
      "[flaml.automl: 11-02 19:28:12] {1816} INFO - iteration 1, current learner RGF\n",
      "[flaml.automl: 11-02 19:28:14] {2013} INFO -  at 4.6s,\testimator RGF's best error=0.3840,\tbest estimator RGF's best error=0.3840\n",
      "[flaml.automl: 11-02 19:28:14] {1816} INFO - iteration 2, current learner RGF\n",
      "[flaml.automl: 11-02 19:28:15] {2013} INFO -  at 5.8s,\testimator RGF's best error=0.3840,\tbest estimator RGF's best error=0.3840\n",
      "[flaml.automl: 11-02 19:28:15] {1816} INFO - iteration 3, current learner lgbm\n",
      "[flaml.automl: 11-02 19:28:15] {2013} INFO -  at 5.9s,\testimator lgbm's best error=0.3777,\tbest estimator lgbm's best error=0.3777\n",
      "[flaml.automl: 11-02 19:28:15] {1816} INFO - iteration 4, current learner RGF\n",
      "[flaml.automl: 11-02 19:28:16] {2013} INFO -  at 7.1s,\testimator RGF's best error=0.3840,\tbest estimator lgbm's best error=0.3777\n",
      "[flaml.automl: 11-02 19:28:16] {1816} INFO - iteration 5, current learner lgbm\n",
      "[flaml.automl: 11-02 19:28:16] {2013} INFO -  at 7.2s,\testimator lgbm's best error=0.3777,\tbest estimator lgbm's best error=0.3777\n",
      "[flaml.automl: 11-02 19:28:16] {1816} INFO - iteration 6, current learner lgbm\n",
      "[flaml.automl: 11-02 19:28:16] {2013} INFO -  at 7.3s,\testimator lgbm's best error=0.3777,\tbest estimator lgbm's best error=0.3777\n",
      "[flaml.automl: 11-02 19:28:16] {1816} INFO - iteration 7, current learner lgbm\n",
      "[flaml.automl: 11-02 19:28:16] {2013} INFO -  at 7.3s,\testimator lgbm's best error=0.3690,\tbest estimator lgbm's best error=0.3690\n",
      "[flaml.automl: 11-02 19:28:16] {1816} INFO - iteration 8, current learner lgbm\n",
      "[flaml.automl: 11-02 19:28:16] {2013} INFO -  at 7.4s,\testimator lgbm's best error=0.3690,\tbest estimator lgbm's best error=0.3690\n",
      "[flaml.automl: 11-02 19:28:16] {1816} INFO - iteration 9, current learner lgbm\n",
      "[flaml.automl: 11-02 19:28:16] {2013} INFO -  at 7.5s,\testimator lgbm's best error=0.3690,\tbest estimator lgbm's best error=0.3690\n",
      "[flaml.automl: 11-02 19:28:16] {1816} INFO - iteration 10, current learner lgbm\n",
      "[flaml.automl: 11-02 19:28:17] {2013} INFO -  at 7.6s,\testimator lgbm's best error=0.3690,\tbest estimator lgbm's best error=0.3690\n",
      "[flaml.automl: 11-02 19:28:17] {1816} INFO - iteration 11, current learner lgbm\n",
      "[flaml.automl: 11-02 19:28:17] {2013} INFO -  at 7.7s,\testimator lgbm's best error=0.3690,\tbest estimator lgbm's best error=0.3690\n",
      "[flaml.automl: 11-02 19:28:17] {1816} INFO - iteration 12, current learner lgbm\n",
      "[flaml.automl: 11-02 19:28:17] {2013} INFO -  at 7.9s,\testimator lgbm's best error=0.3650,\tbest estimator lgbm's best error=0.3650\n",
      "[flaml.automl: 11-02 19:28:17] {1816} INFO - iteration 13, current learner lgbm\n",
      "[flaml.automl: 11-02 19:28:17] {2013} INFO -  at 8.0s,\testimator lgbm's best error=0.3650,\tbest estimator lgbm's best error=0.3650\n",
      "[flaml.automl: 11-02 19:28:17] {1816} INFO - iteration 14, current learner lgbm\n",
      "[flaml.automl: 11-02 19:28:17] {2013} INFO -  at 8.2s,\testimator lgbm's best error=0.3644,\tbest estimator lgbm's best error=0.3644\n",
      "[flaml.automl: 11-02 19:28:17] {1816} INFO - iteration 15, current learner lgbm\n",
      "[flaml.automl: 11-02 19:28:17] {2013} INFO -  at 8.4s,\testimator lgbm's best error=0.3644,\tbest estimator lgbm's best error=0.3644\n",
      "[flaml.automl: 11-02 19:28:17] {1816} INFO - iteration 16, current learner lgbm\n",
      "[flaml.automl: 11-02 19:28:17] {2013} INFO -  at 8.5s,\testimator lgbm's best error=0.3644,\tbest estimator lgbm's best error=0.3644\n",
      "[flaml.automl: 11-02 19:28:17] {1816} INFO - iteration 17, current learner lgbm\n",
      "[flaml.automl: 11-02 19:28:18] {2013} INFO -  at 8.7s,\testimator lgbm's best error=0.3644,\tbest estimator lgbm's best error=0.3644\n",
      "[flaml.automl: 11-02 19:28:18] {1816} INFO - iteration 18, current learner lgbm\n",
      "[flaml.automl: 11-02 19:28:18] {2013} INFO -  at 8.8s,\testimator lgbm's best error=0.3644,\tbest estimator lgbm's best error=0.3644\n",
      "[flaml.automl: 11-02 19:28:18] {1816} INFO - iteration 19, current learner lgbm\n",
      "[flaml.automl: 11-02 19:28:18] {2013} INFO -  at 9.0s,\testimator lgbm's best error=0.3644,\tbest estimator lgbm's best error=0.3644\n",
      "[flaml.automl: 11-02 19:28:18] {1816} INFO - iteration 20, current learner lgbm\n",
      "[flaml.automl: 11-02 19:28:18] {2013} INFO -  at 9.1s,\testimator lgbm's best error=0.3644,\tbest estimator lgbm's best error=0.3644\n",
      "[flaml.automl: 11-02 19:28:18] {1816} INFO - iteration 21, current learner lgbm\n",
      "[flaml.automl: 11-02 19:28:19] {2013} INFO -  at 10.4s,\testimator lgbm's best error=0.3630,\tbest estimator lgbm's best error=0.3630\n",
      "[flaml.automl: 11-02 19:28:22] {2230} INFO - retrain lgbm for 2.3s\n",
      "[flaml.automl: 11-02 19:28:22] {2237} INFO - retrained model: LGBMClassifier(colsample_bytree=0.832361601243933,\n",
      "               learning_rate=0.1125645711212136, max_bin=1023,\n",
      "               min_child_samples=13, n_estimators=43, num_leaves=20,\n",
      "               reg_alpha=0.0018874193214614083, reg_lambda=0.3799695712161002,\n",
      "               verbose=-1)\n",
      "[flaml.automl: 11-02 19:28:22] {1598} INFO - fit succeeded\n",
      "[flaml.automl: 11-02 19:28:22] {1599} INFO - Time taken to find the best model: 10.391593217849731\n",
      "[flaml.automl: 11-02 19:28:22] {1610} WARNING - Time taken to find the best model is 104% of the provided time budget and not all estimators' hyperparameter search converged. Consider increasing the time budget.\n"
     ]
    }
   ],
   "source": [
    "settings = {\n",
    "    \"time_budget\": 10,  # total running time in seconds\n",
    "    \"metric\": 'accuracy', \n",
    "    \"estimator_list\": ['RGF', 'lgbm', 'rf', 'xgboost'],  # list of ML learners\n",
    "    \"task\": 'classification',  # task type    \n",
    "    \"log_file_name\": 'airlines_experiment_custom_learner.log',  # flaml log file \n",
    "    \"log_training_metric\": True,  # whether to log training metric\n",
    "}\n",
    "\n",
    "automl.fit(X_train = X_train, y_train = y_train, **settings)"
   ]
  },
  {
   "cell_type": "markdown",
   "metadata": {},
   "source": [
    "## 5. Customized Metric\n",
    "\n",
    "It's also easy to customize the optimization metric. As an example, we demonstrate with a custom metric function which combines training loss and test loss as the final loss to minimize."
   ]
  },
  {
   "cell_type": "code",
   "execution_count": 22,
   "metadata": {},
   "outputs": [],
   "source": [
    "def custom_metric(X_test, y_test, estimator, labels, X_train, y_train,\n",
    "                  weight_test=None, weight_train=None, config=None,\n",
    "                  groups_test=None, groups_train=None):\n",
    "    from sklearn.metrics import log_loss\n",
    "    import time\n",
    "    start = time.time()\n",
    "    y_pred = estimator.predict_proba(X_test)\n",
    "    pred_time = (time.time() - start) / len(X_test)\n",
    "    test_loss = log_loss(y_test, y_pred, labels=labels,\n",
    "                         sample_weight=weight_test)\n",
    "    y_pred = estimator.predict_proba(X_train)\n",
    "    train_loss = log_loss(y_train, y_pred, labels=labels,\n",
    "                          sample_weight=weight_train)\n",
    "    alpha = 0.5\n",
    "    return test_loss * (1 + alpha) - alpha * train_loss, {\n",
    "        \"test_loss\": test_loss, \"train_loss\": train_loss, \"pred_time\": pred_time\n",
    "    }\n",
    "    # two elements are returned:\n",
    "    # the first element is the metric to minimize as a float number,\n",
    "    # the second element is a dictionary of the metrics to log"
   ]
  },
  {
   "cell_type": "markdown",
   "metadata": {},
   "source": [
    "We can then pass this custom metric function to automl's `fit` method."
   ]
  },
  {
   "cell_type": "code",
   "execution_count": 23,
   "metadata": {},
   "outputs": [
    {
     "name": "stderr",
     "output_type": "stream",
     "text": [
      "[flaml.automl: 11-02 19:28:22] {1483} INFO - Data split method: stratified\n",
      "[flaml.automl: 11-02 19:28:22] {1487} INFO - Evaluation method: holdout\n",
      "[flaml.automl: 11-02 19:28:23] {1537} INFO - Minimizing error metric: customized metric\n",
      "[flaml.automl: 11-02 19:28:23] {1574} INFO - List of ML learners in AutoML Run: ['lgbm', 'rf', 'catboost', 'xgboost', 'extra_tree', 'lrl1']\n",
      "[flaml.automl: 11-02 19:28:23] {1816} INFO - iteration 0, current learner lgbm\n",
      "[flaml.automl: 11-02 19:28:23] {1933} INFO - Estimated sufficient time budget=53001s. Estimated necessary time budget=962s.\n",
      "[flaml.automl: 11-02 19:28:23] {2013} INFO -  at 1.2s,\testimator lgbm's best error=0.6647,\tbest estimator lgbm's best error=0.6647\n",
      "[flaml.automl: 11-02 19:28:23] {1816} INFO - iteration 1, current learner lgbm\n",
      "[flaml.automl: 11-02 19:28:23] {2013} INFO -  at 1.4s,\testimator lgbm's best error=0.6647,\tbest estimator lgbm's best error=0.6647\n",
      "[flaml.automl: 11-02 19:28:23] {1816} INFO - iteration 2, current learner lgbm\n",
      "[flaml.automl: 11-02 19:28:23] {2013} INFO -  at 1.4s,\testimator lgbm's best error=0.6491,\tbest estimator lgbm's best error=0.6491\n",
      "[flaml.automl: 11-02 19:28:23] {1816} INFO - iteration 3, current learner xgboost\n",
      "[flaml.automl: 11-02 19:28:23] {2013} INFO -  at 1.6s,\testimator xgboost's best error=0.6672,\tbest estimator lgbm's best error=0.6491\n",
      "[flaml.automl: 11-02 19:28:23] {1816} INFO - iteration 4, current learner lgbm\n",
      "[flaml.automl: 11-02 19:28:23] {2013} INFO -  at 1.7s,\testimator lgbm's best error=0.6423,\tbest estimator lgbm's best error=0.6423\n",
      "[flaml.automl: 11-02 19:28:23] {1816} INFO - iteration 5, current learner lgbm\n",
      "[flaml.automl: 11-02 19:28:24] {2013} INFO -  at 1.8s,\testimator lgbm's best error=0.6423,\tbest estimator lgbm's best error=0.6423\n",
      "[flaml.automl: 11-02 19:28:24] {1816} INFO - iteration 6, current learner lgbm\n",
      "[flaml.automl: 11-02 19:28:24] {2013} INFO -  at 1.9s,\testimator lgbm's best error=0.6423,\tbest estimator lgbm's best error=0.6423\n",
      "[flaml.automl: 11-02 19:28:24] {1816} INFO - iteration 7, current learner lgbm\n",
      "[flaml.automl: 11-02 19:28:24] {2013} INFO -  at 2.0s,\testimator lgbm's best error=0.6400,\tbest estimator lgbm's best error=0.6400\n",
      "[flaml.automl: 11-02 19:28:24] {1816} INFO - iteration 8, current learner lgbm\n",
      "[flaml.automl: 11-02 19:28:24] {2013} INFO -  at 2.1s,\testimator lgbm's best error=0.6400,\tbest estimator lgbm's best error=0.6400\n",
      "[flaml.automl: 11-02 19:28:24] {1816} INFO - iteration 9, current learner xgboost\n",
      "[flaml.automl: 11-02 19:28:24] {2013} INFO -  at 2.2s,\testimator xgboost's best error=0.6672,\tbest estimator lgbm's best error=0.6400\n",
      "[flaml.automl: 11-02 19:28:24] {1816} INFO - iteration 10, current learner xgboost\n",
      "[flaml.automl: 11-02 19:28:24] {2013} INFO -  at 2.3s,\testimator xgboost's best error=0.6500,\tbest estimator lgbm's best error=0.6400\n",
      "[flaml.automl: 11-02 19:28:24] {1816} INFO - iteration 11, current learner xgboost\n",
      "[flaml.automl: 11-02 19:28:24] {2013} INFO -  at 2.4s,\testimator xgboost's best error=0.6413,\tbest estimator lgbm's best error=0.6400\n",
      "[flaml.automl: 11-02 19:28:24] {1816} INFO - iteration 12, current learner xgboost\n",
      "[flaml.automl: 11-02 19:28:24] {2013} INFO -  at 2.5s,\testimator xgboost's best error=0.6413,\tbest estimator lgbm's best error=0.6400\n",
      "[flaml.automl: 11-02 19:28:24] {1816} INFO - iteration 13, current learner xgboost\n",
      "[flaml.automl: 11-02 19:28:24] {2013} INFO -  at 2.6s,\testimator xgboost's best error=0.6413,\tbest estimator lgbm's best error=0.6400\n",
      "[flaml.automl: 11-02 19:28:24] {1816} INFO - iteration 14, current learner lgbm\n",
      "[flaml.automl: 11-02 19:28:25] {2013} INFO -  at 2.8s,\testimator lgbm's best error=0.6400,\tbest estimator lgbm's best error=0.6400\n",
      "[flaml.automl: 11-02 19:28:25] {1816} INFO - iteration 15, current learner xgboost\n",
      "[flaml.automl: 11-02 19:28:25] {2013} INFO -  at 2.9s,\testimator xgboost's best error=0.6413,\tbest estimator lgbm's best error=0.6400\n",
      "[flaml.automl: 11-02 19:28:25] {1816} INFO - iteration 16, current learner extra_tree\n",
      "[flaml.automl: 11-02 19:28:25] {2013} INFO -  at 3.1s,\testimator extra_tree's best error=0.6599,\tbest estimator lgbm's best error=0.6400\n",
      "[flaml.automl: 11-02 19:28:25] {1816} INFO - iteration 17, current learner lgbm\n",
      "[flaml.automl: 11-02 19:28:25] {2013} INFO -  at 3.2s,\testimator lgbm's best error=0.6400,\tbest estimator lgbm's best error=0.6400\n",
      "[flaml.automl: 11-02 19:28:25] {1816} INFO - iteration 18, current learner extra_tree\n",
      "[flaml.automl: 11-02 19:28:25] {2013} INFO -  at 3.4s,\testimator extra_tree's best error=0.6457,\tbest estimator lgbm's best error=0.6400\n",
      "[flaml.automl: 11-02 19:28:25] {1816} INFO - iteration 19, current learner xgboost\n",
      "[flaml.automl: 11-02 19:28:25] {2013} INFO -  at 3.5s,\testimator xgboost's best error=0.6413,\tbest estimator lgbm's best error=0.6400\n",
      "[flaml.automl: 11-02 19:28:25] {1816} INFO - iteration 20, current learner extra_tree\n",
      "[flaml.automl: 11-02 19:28:25] {2013} INFO -  at 3.6s,\testimator extra_tree's best error=0.6457,\tbest estimator lgbm's best error=0.6400\n",
      "[flaml.automl: 11-02 19:28:25] {1816} INFO - iteration 21, current learner lgbm\n",
      "[flaml.automl: 11-02 19:28:26] {2013} INFO -  at 3.8s,\testimator lgbm's best error=0.6400,\tbest estimator lgbm's best error=0.6400\n",
      "[flaml.automl: 11-02 19:28:26] {1816} INFO - iteration 22, current learner lgbm\n",
      "[flaml.automl: 11-02 19:28:26] {2013} INFO -  at 4.0s,\testimator lgbm's best error=0.6335,\tbest estimator lgbm's best error=0.6335\n",
      "[flaml.automl: 11-02 19:28:26] {1816} INFO - iteration 23, current learner rf\n",
      "[flaml.automl: 11-02 19:28:26] {2013} INFO -  at 4.2s,\testimator rf's best error=0.6477,\tbest estimator lgbm's best error=0.6335\n",
      "[flaml.automl: 11-02 19:28:26] {1816} INFO - iteration 24, current learner xgboost\n",
      "[flaml.automl: 11-02 19:28:26] {2013} INFO -  at 4.4s,\testimator xgboost's best error=0.6393,\tbest estimator lgbm's best error=0.6335\n",
      "[flaml.automl: 11-02 19:28:26] {1816} INFO - iteration 25, current learner extra_tree\n",
      "[flaml.automl: 11-02 19:28:26] {2013} INFO -  at 4.5s,\testimator extra_tree's best error=0.6457,\tbest estimator lgbm's best error=0.6335\n",
      "[flaml.automl: 11-02 19:28:26] {1816} INFO - iteration 26, current learner rf\n",
      "[flaml.automl: 11-02 19:28:26] {2013} INFO -  at 4.7s,\testimator rf's best error=0.6446,\tbest estimator lgbm's best error=0.6335\n",
      "[flaml.automl: 11-02 19:28:26] {1816} INFO - iteration 27, current learner extra_tree\n",
      "[flaml.automl: 11-02 19:28:27] {2013} INFO -  at 4.9s,\testimator extra_tree's best error=0.6439,\tbest estimator lgbm's best error=0.6335\n",
      "[flaml.automl: 11-02 19:28:27] {1816} INFO - iteration 28, current learner xgboost\n",
      "[flaml.automl: 11-02 19:28:27] {2013} INFO -  at 5.1s,\testimator xgboost's best error=0.6342,\tbest estimator lgbm's best error=0.6335\n",
      "[flaml.automl: 11-02 19:28:27] {1816} INFO - iteration 29, current learner xgboost\n",
      "[flaml.automl: 11-02 19:28:27] {2013} INFO -  at 5.4s,\testimator xgboost's best error=0.6342,\tbest estimator lgbm's best error=0.6335\n",
      "[flaml.automl: 11-02 19:28:27] {1816} INFO - iteration 30, current learner lgbm\n",
      "[flaml.automl: 11-02 19:28:27] {2013} INFO -  at 5.5s,\testimator lgbm's best error=0.6335,\tbest estimator lgbm's best error=0.6335\n",
      "[flaml.automl: 11-02 19:28:27] {1816} INFO - iteration 31, current learner lgbm\n",
      "[flaml.automl: 11-02 19:28:27] {2013} INFO -  at 5.7s,\testimator lgbm's best error=0.6335,\tbest estimator lgbm's best error=0.6335\n",
      "[flaml.automl: 11-02 19:28:27] {1816} INFO - iteration 32, current learner lgbm\n",
      "[flaml.automl: 11-02 19:28:28] {2013} INFO -  at 5.9s,\testimator lgbm's best error=0.6335,\tbest estimator lgbm's best error=0.6335\n",
      "[flaml.automl: 11-02 19:28:28] {1816} INFO - iteration 33, current learner xgboost\n",
      "[flaml.automl: 11-02 19:28:28] {2013} INFO -  at 6.2s,\testimator xgboost's best error=0.6342,\tbest estimator lgbm's best error=0.6335\n",
      "[flaml.automl: 11-02 19:28:28] {1816} INFO - iteration 34, current learner lgbm\n",
      "[flaml.automl: 11-02 19:28:28] {2013} INFO -  at 6.3s,\testimator lgbm's best error=0.6335,\tbest estimator lgbm's best error=0.6335\n",
      "[flaml.automl: 11-02 19:28:28] {1816} INFO - iteration 35, current learner rf\n",
      "[flaml.automl: 11-02 19:28:28] {2013} INFO -  at 6.5s,\testimator rf's best error=0.6446,\tbest estimator lgbm's best error=0.6335\n",
      "[flaml.automl: 11-02 19:28:28] {1816} INFO - iteration 36, current learner extra_tree\n",
      "[flaml.automl: 11-02 19:28:28] {2013} INFO -  at 6.6s,\testimator extra_tree's best error=0.6439,\tbest estimator lgbm's best error=0.6335\n",
      "[flaml.automl: 11-02 19:28:28] {1816} INFO - iteration 37, current learner xgboost\n",
      "[flaml.automl: 11-02 19:28:29] {2013} INFO -  at 6.9s,\testimator xgboost's best error=0.6330,\tbest estimator xgboost's best error=0.6330\n",
      "[flaml.automl: 11-02 19:28:29] {1816} INFO - iteration 38, current learner xgboost\n",
      "[flaml.automl: 11-02 19:28:29] {2013} INFO -  at 7.1s,\testimator xgboost's best error=0.6330,\tbest estimator xgboost's best error=0.6330\n",
      "[flaml.automl: 11-02 19:28:29] {1816} INFO - iteration 39, current learner lgbm\n",
      "[flaml.automl: 11-02 19:28:30] {2013} INFO -  at 7.9s,\testimator lgbm's best error=0.6328,\tbest estimator lgbm's best error=0.6328\n",
      "[flaml.automl: 11-02 19:28:30] {1816} INFO - iteration 40, current learner xgboost\n",
      "[flaml.automl: 11-02 19:28:30] {2013} INFO -  at 8.1s,\testimator xgboost's best error=0.6330,\tbest estimator lgbm's best error=0.6328\n",
      "[flaml.automl: 11-02 19:28:30] {1816} INFO - iteration 41, current learner xgboost\n",
      "[flaml.automl: 11-02 19:28:30] {2013} INFO -  at 8.4s,\testimator xgboost's best error=0.6330,\tbest estimator lgbm's best error=0.6328\n",
      "[flaml.automl: 11-02 19:28:30] {1816} INFO - iteration 42, current learner lgbm\n",
      "[flaml.automl: 11-02 19:28:31] {2013} INFO -  at 9.4s,\testimator lgbm's best error=0.6241,\tbest estimator lgbm's best error=0.6241\n",
      "[flaml.automl: 11-02 19:28:31] {1816} INFO - iteration 43, current learner catboost\n",
      "[flaml.automl: 11-02 19:28:32] {2013} INFO -  at 10.7s,\testimator catboost's best error=0.6410,\tbest estimator lgbm's best error=0.6241\n",
      "[flaml.automl: 11-02 19:28:33] {2230} INFO - retrain lgbm for 1.0s\n",
      "[flaml.automl: 11-02 19:28:33] {2237} INFO - retrained model: LGBMClassifier(learning_rate=1.0, max_bin=1023, min_child_samples=13,\n",
      "               n_estimators=9, num_leaves=16, reg_alpha=0.0036546217826270403,\n",
      "               reg_lambda=6.081586897506841, verbose=-1)\n",
      "[flaml.automl: 11-02 19:28:33] {1598} INFO - fit succeeded\n",
      "[flaml.automl: 11-02 19:28:33] {1599} INFO - Time taken to find the best model: 9.365035772323608\n",
      "[flaml.automl: 11-02 19:28:33] {1610} WARNING - Time taken to find the best model is 94% of the provided time budget and not all estimators' hyperparameter search converged. Consider increasing the time budget.\n"
     ]
    }
   ],
   "source": [
    "automl = AutoML()\n",
    "settings = {\n",
    "    \"time_budget\": 10,  # total running time in seconds\n",
    "    \"metric\": custom_metric,  # pass the custom metric funtion here\n",
    "    \"task\": 'classification',  # task type\n",
    "    \"log_file_name\": 'airlines_experiment_custom_metric.log',  # flaml log file\n",
    "}\n",
    "\n",
    "automl.fit(X_train = X_train, y_train = y_train, **settings)"
   ]
  }
 ],
 "metadata": {
  "interpreter": {
   "hash": "e9d36fc5b7c3dd4177ff1b60184dd696c0acc18150a44682abca4d769811bd46"
  },
  "kernelspec": {
   "display_name": "Python 3.8.0 64-bit ('blend': conda)",
   "name": "python3"
  },
  "language_info": {
   "codemirror_mode": {
    "name": "ipython",
    "version": 3
   },
   "file_extension": ".py",
   "mimetype": "text/x-python",
   "name": "python",
   "nbconvert_exporter": "python",
   "pygments_lexer": "ipython3",
   "version": "3.8.0"
  }
 },
 "nbformat": 4,
 "nbformat_minor": 2
}
