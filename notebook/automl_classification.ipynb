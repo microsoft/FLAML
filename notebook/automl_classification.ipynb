{
 "cells": [
  {
   "cell_type": "markdown",
   "metadata": {
    "slideshow": {
     "slide_type": "slide"
    }
   },
   "source": [
    "Copyright (c) Microsoft Corporation. All rights reserved. \n",
    "\n",
    "Licensed under the MIT License.\n",
    "\n",
    "# AutoML with FLAML Library\n",
    "\n",
    "\n",
    "## 1. Introduction\n",
    "\n",
    "FLAML is a Python library (https://github.com/microsoft/FLAML) designed to automatically produce accurate machine learning models \n",
    "with low computational cost. It is fast and economical. The simple and lightweight design makes it easy to use and extend, such as adding new learners. FLAML can \n",
    "- serve as an economical AutoML engine,\n",
    "- be used as a fast hyperparameter tuning tool, or \n",
    "- be embedded in self-tuning software that requires low latency & resource in repetitive\n",
    "   tuning tasks.\n",
    "\n",
    "In this notebook, we use one real data example (binary classification) to showcase how to use FLAML library.\n",
    "\n",
    "FLAML requires `Python>=3.6`. To run this notebook example, please install flaml with the `notebook` option:\n",
    "```bash\n",
    "pip install flaml[notebook]\n",
    "```"
   ]
  },
  {
   "cell_type": "code",
   "execution_count": null,
   "metadata": {},
   "outputs": [],
   "source": [
    "!pip install flaml[notebook];\n",
    "# from v0.6.6, catboost is made an optional dependency to build conda package.\n",
    "# to install catboost without installing the notebook option, you can run:\n",
    "# !pip install flaml[catboost]"
   ]
  },
  {
   "cell_type": "markdown",
   "metadata": {
    "slideshow": {
     "slide_type": "slide"
    }
   },
   "source": [
    "## 2. Classification Example\n",
    "### Load data and preprocess\n",
    "\n",
    "Download [Airlines dataset](https://www.openml.org/d/1169) from OpenML. The task is to predict whether a given flight will be delayed, given the information of the scheduled departure."
   ]
  },
  {
   "cell_type": "code",
   "execution_count": null,
   "metadata": {
    "slideshow": {
     "slide_type": "subslide"
    },
    "tags": []
   },
   "outputs": [],
   "source": [
    "from flaml.data import load_openml_dataset\n",
    "X_train, X_test, y_train, y_test = load_openml_dataset(dataset_id=1169, data_dir='./')"
   ]
  },
  {
   "cell_type": "markdown",
   "metadata": {
    "slideshow": {
     "slide_type": "slide"
    }
   },
   "source": [
    "### Run FLAML\n",
    "In the FLAML automl run configuration, users can specify the task type, time budget, error metric, learner list, whether to subsample, resampling strategy type, and so on. All these arguments have default values which will be used if users do not provide them. For example, the default classifiers are `['lgbm', 'xgboost', 'xgb_limitdepth', 'catboost', 'rf', 'extra_tree', 'lrl1']`. "
   ]
  },
  {
   "cell_type": "code",
   "execution_count": 2,
   "metadata": {
    "slideshow": {
     "slide_type": "slide"
    }
   },
   "outputs": [],
   "source": [
    "''' import AutoML class from flaml package '''\n",
    "from flaml import AutoML\n",
    "automl = AutoML()"
   ]
  },
  {
   "cell_type": "code",
   "execution_count": 3,
   "metadata": {
    "slideshow": {
     "slide_type": "slide"
    }
   },
   "outputs": [],
   "source": [
    "settings = {\n",
    "    \"time_budget\": 120,  # total running time in seconds\n",
    "    \"metric\": 'accuracy',  # can be: 'r2', 'rmse', 'mae', 'mse', 'accuracy', 'roc_auc', 'roc_auc_ovr',\n",
    "                           # 'roc_auc_ovo', 'log_loss', 'mape', 'f1', 'ap', 'ndcg', 'micro_f1', 'macro_f1'\n",
    "    \"task\": 'classification',  # task type\n",
    "    \"log_file_name\": 'airlines_experiment.log',  # flaml log file\n",
    "    \"seed\": 7654321,    # random seed\n",
    "}"
   ]
  },
  {
   "cell_type": "code",
   "execution_count": 4,
   "metadata": {
    "slideshow": {
     "slide_type": "slide"
    },
    "tags": [
     "outputPrepend"
    ]
   },
   "outputs": [
    {
     "name": "stderr",
     "output_type": "stream",
     "text": [
      "[flaml.automl: 03-25 15:14:37] {2092} INFO - task = classification\n",
      "[flaml.automl: 03-25 15:14:37] {2094} INFO - Data split method: stratified\n",
      "[flaml.automl: 03-25 15:14:37] {2098} INFO - Evaluation method: holdout\n",
      "[flaml.automl: 03-25 15:14:38] {2175} INFO - Minimizing error metric: 1-accuracy\n",
      "[flaml.automl: 03-25 15:14:38] {2268} INFO - List of ML learners in AutoML Run: ['lgbm', 'rf', 'catboost', 'xgboost', 'extra_tree', 'xgb_limitdepth', 'lrl1']\n",
      "[flaml.automl: 03-25 15:14:38] {2554} INFO - iteration 0, current learner lgbm\n",
      "[flaml.automl: 03-25 15:14:38] {2684} INFO - Estimated sufficient time budget=20195s. Estimated necessary time budget=496s.\n",
      "[flaml.automl: 03-25 15:14:38] {2731} INFO -  at 0.6s,\testimator lgbm's best error=0.3777,\tbest estimator lgbm's best error=0.3777\n",
      "[flaml.automl: 03-25 15:14:38] {2554} INFO - iteration 1, current learner lgbm\n",
      "[flaml.automl: 03-25 15:14:38] {2731} INFO -  at 0.6s,\testimator lgbm's best error=0.3777,\tbest estimator lgbm's best error=0.3777\n",
      "[flaml.automl: 03-25 15:14:38] {2554} INFO - iteration 2, current learner lgbm\n",
      "[flaml.automl: 03-25 15:14:38] {2731} INFO -  at 0.7s,\testimator lgbm's best error=0.3614,\tbest estimator lgbm's best error=0.3614\n",
      "[flaml.automl: 03-25 15:14:38] {2554} INFO - iteration 3, current learner xgboost\n",
      "/home/qxw5138/miniconda3/envs/ds440flaml/lib/python3.8/site-packages/xgboost/data.py:192: FutureWarning: pandas.Int64Index is deprecated and will be removed from pandas in a future version. Use pandas.Index with the appropriate dtype instead.\n",
      "  from pandas import MultiIndex, Int64Index\n",
      "[flaml.automl: 03-25 15:14:39] {2731} INFO -  at 1.9s,\testimator xgboost's best error=0.3787,\tbest estimator lgbm's best error=0.3614\n",
      "[flaml.automl: 03-25 15:14:39] {2554} INFO - iteration 4, current learner lgbm\n",
      "[flaml.automl: 03-25 15:14:39] {2731} INFO -  at 2.1s,\testimator lgbm's best error=0.3614,\tbest estimator lgbm's best error=0.3614\n",
      "[flaml.automl: 03-25 15:14:39] {2554} INFO - iteration 5, current learner extra_tree\n",
      "[flaml.automl: 03-25 15:14:39] {2731} INFO -  at 2.2s,\testimator extra_tree's best error=0.3784,\tbest estimator lgbm's best error=0.3614\n",
      "[flaml.automl: 03-25 15:14:39] {2554} INFO - iteration 6, current learner rf\n",
      "[flaml.automl: 03-25 15:14:39] {2731} INFO -  at 2.4s,\testimator rf's best error=0.3835,\tbest estimator lgbm's best error=0.3614\n",
      "[flaml.automl: 03-25 15:14:39] {2554} INFO - iteration 7, current learner lgbm\n",
      "[flaml.automl: 03-25 15:14:40] {2731} INFO -  at 2.4s,\testimator lgbm's best error=0.3614,\tbest estimator lgbm's best error=0.3614\n",
      "[flaml.automl: 03-25 15:14:40] {2554} INFO - iteration 8, current learner lgbm\n",
      "[flaml.automl: 03-25 15:14:40] {2731} INFO -  at 2.6s,\testimator lgbm's best error=0.3614,\tbest estimator lgbm's best error=0.3614\n",
      "[flaml.automl: 03-25 15:14:40] {2554} INFO - iteration 9, current learner lgbm\n",
      "[flaml.automl: 03-25 15:14:40] {2731} INFO -  at 2.7s,\testimator lgbm's best error=0.3614,\tbest estimator lgbm's best error=0.3614\n",
      "[flaml.automl: 03-25 15:14:40] {2554} INFO - iteration 10, current learner lgbm\n",
      "[flaml.automl: 03-25 15:14:40] {2731} INFO -  at 2.8s,\testimator lgbm's best error=0.3614,\tbest estimator lgbm's best error=0.3614\n",
      "[flaml.automl: 03-25 15:14:40] {2554} INFO - iteration 11, current learner rf\n",
      "[flaml.automl: 03-25 15:14:40] {2731} INFO -  at 3.0s,\testimator rf's best error=0.3785,\tbest estimator lgbm's best error=0.3614\n",
      "[flaml.automl: 03-25 15:14:40] {2554} INFO - iteration 12, current learner rf\n",
      "[flaml.automl: 03-25 15:14:40] {2731} INFO -  at 3.2s,\testimator rf's best error=0.3785,\tbest estimator lgbm's best error=0.3614\n",
      "[flaml.automl: 03-25 15:14:40] {2554} INFO - iteration 13, current learner extra_tree\n",
      "[flaml.automl: 03-25 15:14:40] {2731} INFO -  at 3.4s,\testimator extra_tree's best error=0.3784,\tbest estimator lgbm's best error=0.3614\n",
      "[flaml.automl: 03-25 15:14:40] {2554} INFO - iteration 14, current learner xgboost\n",
      "/home/qxw5138/miniconda3/envs/ds440flaml/lib/python3.8/site-packages/xgboost/data.py:192: FutureWarning: pandas.Int64Index is deprecated and will be removed from pandas in a future version. Use pandas.Index with the appropriate dtype instead.\n",
      "  from pandas import MultiIndex, Int64Index\n",
      "[flaml.automl: 03-25 15:14:42] {2731} INFO -  at 4.7s,\testimator xgboost's best error=0.3765,\tbest estimator lgbm's best error=0.3614\n",
      "[flaml.automl: 03-25 15:14:42] {2554} INFO - iteration 15, current learner extra_tree\n",
      "[flaml.automl: 03-25 15:14:42] {2731} INFO -  at 4.9s,\testimator extra_tree's best error=0.3749,\tbest estimator lgbm's best error=0.3614\n",
      "[flaml.automl: 03-25 15:14:42] {2554} INFO - iteration 16, current learner lgbm\n",
      "[flaml.automl: 03-25 15:14:42] {2731} INFO -  at 5.1s,\testimator lgbm's best error=0.3550,\tbest estimator lgbm's best error=0.3550\n",
      "[flaml.automl: 03-25 15:14:42] {2554} INFO - iteration 17, current learner extra_tree\n",
      "[flaml.automl: 03-25 15:14:42] {2731} INFO -  at 5.3s,\testimator extra_tree's best error=0.3749,\tbest estimator lgbm's best error=0.3550\n",
      "[flaml.automl: 03-25 15:14:42] {2554} INFO - iteration 18, current learner lgbm\n",
      "[flaml.automl: 03-25 15:14:43] {2731} INFO -  at 5.5s,\testimator lgbm's best error=0.3550,\tbest estimator lgbm's best error=0.3550\n",
      "[flaml.automl: 03-25 15:14:43] {2554} INFO - iteration 19, current learner lgbm\n",
      "[flaml.automl: 03-25 15:14:43] {2731} INFO -  at 5.9s,\testimator lgbm's best error=0.3545,\tbest estimator lgbm's best error=0.3545\n",
      "[flaml.automl: 03-25 15:14:43] {2554} INFO - iteration 20, current learner lgbm\n",
      "[flaml.automl: 03-25 15:14:43] {2731} INFO -  at 6.1s,\testimator lgbm's best error=0.3545,\tbest estimator lgbm's best error=0.3545\n",
      "[flaml.automl: 03-25 15:14:43] {2554} INFO - iteration 21, current learner lgbm\n",
      "[flaml.automl: 03-25 15:14:44] {2731} INFO -  at 6.8s,\testimator lgbm's best error=0.3545,\tbest estimator lgbm's best error=0.3545\n",
      "[flaml.automl: 03-25 15:14:44] {2554} INFO - iteration 22, current learner catboost\n",
      "[flaml.automl: 03-25 15:14:45] {2731} INFO -  at 7.6s,\testimator catboost's best error=0.3587,\tbest estimator lgbm's best error=0.3545\n",
      "[flaml.automl: 03-25 15:14:45] {2554} INFO - iteration 23, current learner lgbm\n",
      "[flaml.automl: 03-25 15:14:45] {2731} INFO -  at 7.9s,\testimator lgbm's best error=0.3536,\tbest estimator lgbm's best error=0.3536\n",
      "[flaml.automl: 03-25 15:14:45] {2554} INFO - iteration 24, current learner lgbm\n",
      "[flaml.automl: 03-25 15:14:45] {2731} INFO -  at 8.3s,\testimator lgbm's best error=0.3536,\tbest estimator lgbm's best error=0.3536\n",
      "[flaml.automl: 03-25 15:14:45] {2554} INFO - iteration 25, current learner catboost\n",
      "[flaml.automl: 03-25 15:14:46] {2731} INFO -  at 8.5s,\testimator catboost's best error=0.3587,\tbest estimator lgbm's best error=0.3536\n",
      "[flaml.automl: 03-25 15:14:46] {2554} INFO - iteration 26, current learner extra_tree\n",
      "[flaml.automl: 03-25 15:14:46] {2731} INFO -  at 8.8s,\testimator extra_tree's best error=0.3749,\tbest estimator lgbm's best error=0.3536\n",
      "[flaml.automl: 03-25 15:14:46] {2554} INFO - iteration 27, current learner lgbm\n",
      "[flaml.automl: 03-25 15:14:47] {2731} INFO -  at 9.6s,\testimator lgbm's best error=0.3536,\tbest estimator lgbm's best error=0.3536\n",
      "[flaml.automl: 03-25 15:14:47] {2554} INFO - iteration 28, current learner catboost\n",
      "[flaml.automl: 03-25 15:14:48] {2731} INFO -  at 10.6s,\testimator catboost's best error=0.3587,\tbest estimator lgbm's best error=0.3536\n",
      "[flaml.automl: 03-25 15:14:48] {2554} INFO - iteration 29, current learner catboost\n",
      "[flaml.automl: 03-25 15:14:49] {2731} INFO -  at 12.1s,\testimator catboost's best error=0.3587,\tbest estimator lgbm's best error=0.3536\n",
      "[flaml.automl: 03-25 15:14:49] {2554} INFO - iteration 30, current learner catboost\n",
      "[flaml.automl: 03-25 15:14:51] {2731} INFO -  at 14.0s,\testimator catboost's best error=0.3487,\tbest estimator catboost's best error=0.3487\n",
      "[flaml.automl: 03-25 15:14:51] {2554} INFO - iteration 31, current learner xgb_limitdepth\n",
      "/home/qxw5138/miniconda3/envs/ds440flaml/lib/python3.8/site-packages/xgboost/data.py:192: FutureWarning: pandas.Int64Index is deprecated and will be removed from pandas in a future version. Use pandas.Index with the appropriate dtype instead.\n",
      "  from pandas import MultiIndex, Int64Index\n",
      "[flaml.automl: 03-25 15:14:52] {2731} INFO -  at 15.4s,\testimator xgb_limitdepth's best error=0.3667,\tbest estimator catboost's best error=0.3487\n",
      "[flaml.automl: 03-25 15:14:52] {2554} INFO - iteration 32, current learner rf\n",
      "[flaml.automl: 03-25 15:14:53] {2731} INFO -  at 15.5s,\testimator rf's best error=0.3785,\tbest estimator catboost's best error=0.3487\n",
      "[flaml.automl: 03-25 15:14:53] {2554} INFO - iteration 33, current learner rf\n",
      "[flaml.automl: 03-25 15:14:53] {2731} INFO -  at 15.7s,\testimator rf's best error=0.3771,\tbest estimator catboost's best error=0.3487\n",
      "[flaml.automl: 03-25 15:14:53] {2554} INFO - iteration 34, current learner catboost\n",
      "[flaml.automl: 03-25 15:14:54] {2731} INFO -  at 16.8s,\testimator catboost's best error=0.3477,\tbest estimator catboost's best error=0.3477\n",
      "[flaml.automl: 03-25 15:14:54] {2554} INFO - iteration 35, current learner xgb_limitdepth\n",
      "/home/qxw5138/miniconda3/envs/ds440flaml/lib/python3.8/site-packages/xgboost/data.py:192: FutureWarning: pandas.Int64Index is deprecated and will be removed from pandas in a future version. Use pandas.Index with the appropriate dtype instead.\n",
      "  from pandas import MultiIndex, Int64Index\n",
      "[flaml.automl: 03-25 15:14:55] {2731} INFO -  at 18.2s,\testimator xgb_limitdepth's best error=0.3667,\tbest estimator catboost's best error=0.3477\n",
      "[flaml.automl: 03-25 15:14:55] {2554} INFO - iteration 36, current learner catboost\n",
      "[flaml.automl: 03-25 15:15:01] {2731} INFO -  at 23.9s,\testimator catboost's best error=0.3477,\tbest estimator catboost's best error=0.3477\n",
      "[flaml.automl: 03-25 15:15:01] {2554} INFO - iteration 37, current learner xgb_limitdepth\n",
      "/home/qxw5138/miniconda3/envs/ds440flaml/lib/python3.8/site-packages/xgboost/data.py:192: FutureWarning: pandas.Int64Index is deprecated and will be removed from pandas in a future version. Use pandas.Index with the appropriate dtype instead.\n",
      "  from pandas import MultiIndex, Int64Index\n",
      "[flaml.automl: 03-25 15:15:02] {2731} INFO -  at 25.1s,\testimator xgb_limitdepth's best error=0.3667,\tbest estimator catboost's best error=0.3477\n",
      "[flaml.automl: 03-25 15:15:02] {2554} INFO - iteration 38, current learner xgb_limitdepth\n",
      "/home/qxw5138/miniconda3/envs/ds440flaml/lib/python3.8/site-packages/xgboost/data.py:192: FutureWarning: pandas.Int64Index is deprecated and will be removed from pandas in a future version. Use pandas.Index with the appropriate dtype instead.\n",
      "  from pandas import MultiIndex, Int64Index\n",
      "[flaml.automl: 03-25 15:15:03] {2731} INFO -  at 26.1s,\testimator xgb_limitdepth's best error=0.3654,\tbest estimator catboost's best error=0.3477\n",
      "[flaml.automl: 03-25 15:15:03] {2554} INFO - iteration 39, current learner catboost\n",
      "[flaml.automl: 03-25 15:15:06] {2731} INFO -  at 28.7s,\testimator catboost's best error=0.3396,\tbest estimator catboost's best error=0.3396\n",
      "[flaml.automl: 03-25 15:15:06] {2554} INFO - iteration 40, current learner xgboost\n",
      "/home/qxw5138/miniconda3/envs/ds440flaml/lib/python3.8/site-packages/xgboost/data.py:192: FutureWarning: pandas.Int64Index is deprecated and will be removed from pandas in a future version. Use pandas.Index with the appropriate dtype instead.\n",
      "  from pandas import MultiIndex, Int64Index\n",
      "[flaml.automl: 03-25 15:15:07] {2731} INFO -  at 29.7s,\testimator xgboost's best error=0.3765,\tbest estimator catboost's best error=0.3396\n",
      "[flaml.automl: 03-25 15:15:07] {2554} INFO - iteration 41, current learner catboost\n",
      "[flaml.automl: 03-25 15:15:58] {2731} INFO -  at 81.0s,\testimator catboost's best error=0.3396,\tbest estimator catboost's best error=0.3396\n",
      "[flaml.automl: 03-25 15:15:58] {2554} INFO - iteration 42, current learner lrl1\n",
      "/home/qxw5138/miniconda3/envs/ds440flaml/lib/python3.8/site-packages/sklearn/linear_model/_sag.py:352: ConvergenceWarning: The max_iter was reached which means the coef_ did not converge\n",
      "  warnings.warn(\n",
      "[flaml.automl: 03-25 15:15:58] {2731} INFO -  at 81.3s,\testimator lrl1's best error=0.4339,\tbest estimator catboost's best error=0.3396\n",
      "[flaml.automl: 03-25 15:15:58] {2554} INFO - iteration 43, current learner lrl1\n",
      "/home/qxw5138/miniconda3/envs/ds440flaml/lib/python3.8/site-packages/sklearn/linear_model/_sag.py:352: ConvergenceWarning: The max_iter was reached which means the coef_ did not converge\n",
      "  warnings.warn(\n",
      "[flaml.automl: 03-25 15:15:59] {2731} INFO -  at 81.6s,\testimator lrl1's best error=0.4338,\tbest estimator catboost's best error=0.3396\n",
      "[flaml.automl: 03-25 15:15:59] {2554} INFO - iteration 44, current learner extra_tree\n",
      "[flaml.automl: 03-25 15:15:59] {2731} INFO -  at 81.8s,\testimator extra_tree's best error=0.3749,\tbest estimator catboost's best error=0.3396\n",
      "[flaml.automl: 03-25 15:15:59] {2554} INFO - iteration 45, current learner lgbm\n",
      "[flaml.automl: 03-25 15:16:00] {2731} INFO -  at 83.2s,\testimator lgbm's best error=0.3528,\tbest estimator catboost's best error=0.3396\n",
      "[flaml.automl: 03-25 15:16:00] {2554} INFO - iteration 46, current learner extra_tree\n",
      "[flaml.automl: 03-25 15:16:01] {2731} INFO -  at 83.4s,\testimator extra_tree's best error=0.3749,\tbest estimator catboost's best error=0.3396\n",
      "[flaml.automl: 03-25 15:16:01] {2554} INFO - iteration 47, current learner lrl1\n",
      "/home/qxw5138/miniconda3/envs/ds440flaml/lib/python3.8/site-packages/sklearn/linear_model/_sag.py:352: ConvergenceWarning: The max_iter was reached which means the coef_ did not converge\n",
      "  warnings.warn(\n",
      "[flaml.automl: 03-25 15:16:01] {2731} INFO -  at 83.7s,\testimator lrl1's best error=0.4338,\tbest estimator catboost's best error=0.3396\n",
      "[flaml.automl: 03-25 15:16:01] {2554} INFO - iteration 48, current learner extra_tree\n",
      "[flaml.automl: 03-25 15:16:01] {2731} INFO -  at 83.9s,\testimator extra_tree's best error=0.3749,\tbest estimator catboost's best error=0.3396\n",
      "[flaml.automl: 03-25 15:16:01] {2554} INFO - iteration 49, current learner rf\n",
      "[flaml.automl: 03-25 15:16:01] {2731} INFO -  at 84.2s,\testimator rf's best error=0.3732,\tbest estimator catboost's best error=0.3396\n",
      "[flaml.automl: 03-25 15:16:01] {2554} INFO - iteration 50, current learner catboost\n",
      "[flaml.automl: 03-25 15:16:02] {2731} INFO -  at 84.7s,\testimator catboost's best error=0.3396,\tbest estimator catboost's best error=0.3396\n",
      "[flaml.automl: 03-25 15:16:02] {2554} INFO - iteration 51, current learner rf\n",
      "[flaml.automl: 03-25 15:16:02] {2731} INFO -  at 84.9s,\testimator rf's best error=0.3732,\tbest estimator catboost's best error=0.3396\n",
      "[flaml.automl: 03-25 15:16:02] {2554} INFO - iteration 52, current learner rf\n",
      "[flaml.automl: 03-25 15:16:02] {2731} INFO -  at 85.2s,\testimator rf's best error=0.3715,\tbest estimator catboost's best error=0.3396\n",
      "[flaml.automl: 03-25 15:16:02] {2554} INFO - iteration 53, current learner extra_tree\n",
      "[flaml.automl: 03-25 15:16:03] {2731} INFO -  at 85.5s,\testimator extra_tree's best error=0.3749,\tbest estimator catboost's best error=0.3396\n",
      "[flaml.automl: 03-25 15:16:03] {2554} INFO - iteration 54, current learner rf\n",
      "[flaml.automl: 03-25 15:16:03] {2731} INFO -  at 85.7s,\testimator rf's best error=0.3715,\tbest estimator catboost's best error=0.3396\n",
      "[flaml.automl: 03-25 15:16:03] {2554} INFO - iteration 55, current learner catboost\n",
      "[flaml.automl: 03-25 15:16:03] {2731} INFO -  at 86.2s,\testimator catboost's best error=0.3396,\tbest estimator catboost's best error=0.3396\n",
      "[flaml.automl: 03-25 15:16:03] {2554} INFO - iteration 56, current learner rf\n",
      "[flaml.automl: 03-25 15:16:04] {2731} INFO -  at 86.5s,\testimator rf's best error=0.3715,\tbest estimator catboost's best error=0.3396\n",
      "[flaml.automl: 03-25 15:16:04] {2554} INFO - iteration 57, current learner lgbm\n",
      "[flaml.automl: 03-25 15:16:08] {2731} INFO -  at 91.2s,\testimator lgbm's best error=0.3405,\tbest estimator catboost's best error=0.3396\n",
      "[flaml.automl: 03-25 15:16:08] {2554} INFO - iteration 58, current learner catboost\n",
      "[flaml.automl: 03-25 15:16:09] {2731} INFO -  at 92.1s,\testimator catboost's best error=0.3396,\tbest estimator catboost's best error=0.3396\n",
      "[flaml.automl: 03-25 15:16:09] {2554} INFO - iteration 59, current learner lgbm\n",
      "[flaml.automl: 03-25 15:16:11] {2731} INFO -  at 93.5s,\testimator lgbm's best error=0.3405,\tbest estimator catboost's best error=0.3396\n",
      "[flaml.automl: 03-25 15:16:11] {2554} INFO - iteration 60, current learner lgbm\n",
      "[flaml.automl: 03-25 15:16:14] {2731} INFO -  at 97.2s,\testimator lgbm's best error=0.3370,\tbest estimator lgbm's best error=0.3370\n",
      "[flaml.automl: 03-25 15:16:14] {2554} INFO - iteration 61, current learner lgbm\n",
      "[flaml.automl: 03-25 15:16:18] {2731} INFO -  at 100.9s,\testimator lgbm's best error=0.3370,\tbest estimator lgbm's best error=0.3370\n",
      "[flaml.automl: 03-25 15:16:18] {2554} INFO - iteration 62, current learner lgbm\n",
      "[flaml.automl: 03-25 15:16:21] {2731} INFO -  at 104.0s,\testimator lgbm's best error=0.3370,\tbest estimator lgbm's best error=0.3370\n",
      "[flaml.automl: 03-25 15:16:21] {2554} INFO - iteration 63, current learner lgbm\n",
      "[flaml.automl: 03-25 15:16:25] {2731} INFO -  at 108.1s,\testimator lgbm's best error=0.3318,\tbest estimator lgbm's best error=0.3318\n",
      "[flaml.automl: 03-25 15:16:25] {2554} INFO - iteration 64, current learner lgbm\n",
      "[flaml.automl: 03-25 15:16:29] {2731} INFO -  at 111.8s,\testimator lgbm's best error=0.3282,\tbest estimator lgbm's best error=0.3282\n",
      "[flaml.automl: 03-25 15:16:29] {2554} INFO - iteration 65, current learner lgbm\n",
      "[flaml.automl: 03-25 15:16:33] {2731} INFO -  at 116.0s,\testimator lgbm's best error=0.3282,\tbest estimator lgbm's best error=0.3282\n",
      "[flaml.automl: 03-25 15:16:33] {2554} INFO - iteration 66, current learner lgbm\n",
      "[flaml.automl: 03-25 15:16:37] {2731} INFO -  at 119.8s,\testimator lgbm's best error=0.3282,\tbest estimator lgbm's best error=0.3282\n",
      "[flaml.automl: 03-25 15:16:40] {2961} INFO - retrain lgbm for 3.5s\n",
      "[flaml.automl: 03-25 15:16:40] {2968} INFO - retrained model: LGBMClassifier(learning_rate=0.2607939951456863, max_bin=255,\n",
      "               min_child_samples=62, n_estimators=150, num_leaves=176,\n",
      "               reg_alpha=0.015973158305354482, reg_lambda=1.1581244082992255,\n",
      "               verbose=-1)\n",
      "[flaml.automl: 03-25 15:16:40] {2297} INFO - fit succeeded\n",
      "[flaml.automl: 03-25 15:16:40] {2298} INFO - Time taken to find the best model: 111.8131034374237\n",
      "[flaml.automl: 03-25 15:16:40] {2309} WARNING - Time taken to find the best model is 93% of the provided time budget and not all estimators' hyperparameter search converged. Consider increasing the time budget.\n"
     ]
    }
   ],
   "source": [
    "'''The main flaml automl API'''\n",
    "automl.fit(X_train=X_train, y_train=y_train, **settings)"
   ]
  },
  {
   "cell_type": "markdown",
   "metadata": {
    "slideshow": {
     "slide_type": "slide"
    }
   },
   "source": [
    "### Best model and metric"
   ]
  },
  {
   "cell_type": "code",
   "execution_count": null,
   "metadata": {
    "slideshow": {
     "slide_type": "slide"
    },
    "tags": []
   },
   "outputs": [],
   "source": [
    "'''retrieve best config and best learner'''\n",
    "print('Best ML leaner:', automl.best_estimator)\n",
    "print('Best hyperparmeter config:', automl.best_config)\n",
    "print('Best accuracy on validation data: {0:.4g}'.format(1-automl.best_loss))\n",
    "print('Training duration of best run: {0:.4g} s'.format(automl.best_config_train_time))"
   ]
  },
  {
   "cell_type": "code",
   "execution_count": 6,
   "metadata": {
    "slideshow": {
     "slide_type": "slide"
    }
   },
   "outputs": [
    {
     "data": {
      "text/plain": [
       "LGBMClassifier(learning_rate=0.2607939951456863, max_bin=255,\n",
       "               min_child_samples=62, n_estimators=150, num_leaves=176,\n",
       "               reg_alpha=0.015973158305354482, reg_lambda=1.1581244082992255,\n",
       "               verbose=-1)"
      ]
     },
     "execution_count": 6,
     "metadata": {},
     "output_type": "execute_result"
    }
   ],
   "source": [
    "automl.model.estimator"
   ]
  },
  {
   "cell_type": "code",
   "execution_count": 7,
   "metadata": {
    "slideshow": {
     "slide_type": "slide"
    }
   },
   "outputs": [],
   "source": [
    "'''pickle and save the automl object'''\n",
    "import pickle\n",
    "with open('automl.pkl', 'wb') as f:\n",
    "    pickle.dump(automl, f, pickle.HIGHEST_PROTOCOL)\n",
    "'''load pickled automl object'''\n",
    "with open('automl.pkl', 'rb') as f:\n",
    "    automl = pickle.load(f)"
   ]
  },
  {
   "cell_type": "code",
   "execution_count": null,
   "metadata": {
    "slideshow": {
     "slide_type": "slide"
    },
    "tags": []
   },
   "outputs": [],
   "source": [
    "'''compute predictions of testing dataset''' \n",
    "y_pred = automl.predict(X_test)\n",
    "print('Predicted labels', y_pred)\n",
    "print('True labels', y_test)\n",
    "y_pred_proba = automl.predict_proba(X_test)[:,1]"
   ]
  },
  {
   "cell_type": "code",
   "execution_count": null,
   "metadata": {
    "slideshow": {
     "slide_type": "slide"
    },
    "tags": []
   },
   "outputs": [],
   "source": [
    "''' compute different metric values on testing dataset'''\n",
    "from flaml.ml import sklearn_metric_loss_score\n",
    "print('accuracy', '=', 1 - sklearn_metric_loss_score('accuracy', y_pred, y_test))\n",
    "print('roc_auc', '=', 1 - sklearn_metric_loss_score('roc_auc', y_pred_proba, y_test))\n",
    "print('log_loss', '=', sklearn_metric_loss_score('log_loss', y_pred_proba, y_test))"
   ]
  },
  {
   "cell_type": "markdown",
   "metadata": {
    "slideshow": {
     "slide_type": "slide"
    }
   },
   "source": [
    "See Section 4 for an accuracy comparison with default LightGBM and XGBoost.\n",
    "\n",
    "### Log history"
   ]
  },
  {
   "cell_type": "code",
   "execution_count": 10,
   "metadata": {
    "slideshow": {
     "slide_type": "subslide"
    },
    "tags": []
   },
   "outputs": [
    {
     "name": "stdout",
     "output_type": "stream",
     "text": [
      "{'Current Learner': 'lgbm', 'Current Sample': 10000, 'Current Hyper-parameters': {'n_estimators': 4, 'num_leaves': 4, 'min_child_samples': 20, 'learning_rate': 0.09999999999999995, 'log_max_bin': 8, 'colsample_bytree': 1.0, 'reg_alpha': 0.0009765625, 'reg_lambda': 1.0, 'FLAML_sample_size': 10000}, 'Best Learner': 'lgbm', 'Best Hyper-parameters': {'n_estimators': 4, 'num_leaves': 4, 'min_child_samples': 20, 'learning_rate': 0.09999999999999995, 'log_max_bin': 8, 'colsample_bytree': 1.0, 'reg_alpha': 0.0009765625, 'reg_lambda': 1.0, 'FLAML_sample_size': 10000}}\n",
      "{'Current Learner': 'lgbm', 'Current Sample': 10000, 'Current Hyper-parameters': {'n_estimators': 26, 'num_leaves': 4, 'min_child_samples': 18, 'learning_rate': 0.22930096764186372, 'log_max_bin': 9, 'colsample_bytree': 0.9086551727646448, 'reg_alpha': 0.0015561782752413472, 'reg_lambda': 0.33127416269768944, 'FLAML_sample_size': 10000}, 'Best Learner': 'lgbm', 'Best Hyper-parameters': {'n_estimators': 26, 'num_leaves': 4, 'min_child_samples': 18, 'learning_rate': 0.22930096764186372, 'log_max_bin': 9, 'colsample_bytree': 0.9086551727646448, 'reg_alpha': 0.0015561782752413472, 'reg_lambda': 0.33127416269768944, 'FLAML_sample_size': 10000}}\n",
      "{'Current Learner': 'lgbm', 'Current Sample': 40000, 'Current Hyper-parameters': {'n_estimators': 55, 'num_leaves': 4, 'min_child_samples': 20, 'learning_rate': 0.4365396221333287, 'log_max_bin': 10, 'colsample_bytree': 0.8048558760626646, 'reg_alpha': 0.0009765625, 'reg_lambda': 0.23010605579846408, 'FLAML_sample_size': 40000}, 'Best Learner': 'lgbm', 'Best Hyper-parameters': {'n_estimators': 55, 'num_leaves': 4, 'min_child_samples': 20, 'learning_rate': 0.4365396221333287, 'log_max_bin': 10, 'colsample_bytree': 0.8048558760626646, 'reg_alpha': 0.0009765625, 'reg_lambda': 0.23010605579846408, 'FLAML_sample_size': 40000}}\n",
      "{'Current Learner': 'lgbm', 'Current Sample': 40000, 'Current Hyper-parameters': {'n_estimators': 90, 'num_leaves': 18, 'min_child_samples': 34, 'learning_rate': 0.3572626620529719, 'log_max_bin': 10, 'colsample_bytree': 0.9295656128173544, 'reg_alpha': 0.0009765625, 'reg_lambda': 0.19814636043056766, 'FLAML_sample_size': 40000}, 'Best Learner': 'lgbm', 'Best Hyper-parameters': {'n_estimators': 90, 'num_leaves': 18, 'min_child_samples': 34, 'learning_rate': 0.3572626620529719, 'log_max_bin': 10, 'colsample_bytree': 0.9295656128173544, 'reg_alpha': 0.0009765625, 'reg_lambda': 0.19814636043056766, 'FLAML_sample_size': 40000}}\n",
      "{'Current Learner': 'lgbm', 'Current Sample': 40000, 'Current Hyper-parameters': {'n_estimators': 56, 'num_leaves': 7, 'min_child_samples': 92, 'learning_rate': 0.23536463281405412, 'log_max_bin': 10, 'colsample_bytree': 0.9898009552962395, 'reg_alpha': 0.0009765625, 'reg_lambda': 0.14329426172643323, 'FLAML_sample_size': 40000}, 'Best Learner': 'lgbm', 'Best Hyper-parameters': {'n_estimators': 56, 'num_leaves': 7, 'min_child_samples': 92, 'learning_rate': 0.23536463281405412, 'log_max_bin': 10, 'colsample_bytree': 0.9898009552962395, 'reg_alpha': 0.0009765625, 'reg_lambda': 0.14329426172643323, 'FLAML_sample_size': 40000}}\n",
      "{'Current Learner': 'catboost', 'Current Sample': 40000, 'Current Hyper-parameters': {'early_stopping_rounds': 10, 'learning_rate': 0.09999999999999996, 'n_estimators': 110, 'FLAML_sample_size': 40000}, 'Best Learner': 'catboost', 'Best Hyper-parameters': {'early_stopping_rounds': 10, 'learning_rate': 0.09999999999999996, 'n_estimators': 110, 'FLAML_sample_size': 40000}}\n",
      "{'Current Learner': 'catboost', 'Current Sample': 40000, 'Current Hyper-parameters': {'early_stopping_rounds': 10, 'learning_rate': 0.2, 'n_estimators': 61, 'FLAML_sample_size': 40000}, 'Best Learner': 'catboost', 'Best Hyper-parameters': {'early_stopping_rounds': 10, 'learning_rate': 0.2, 'n_estimators': 61, 'FLAML_sample_size': 40000}}\n",
      "{'Current Learner': 'catboost', 'Current Sample': 364083, 'Current Hyper-parameters': {'early_stopping_rounds': 10, 'learning_rate': 0.2, 'n_estimators': 37, 'FLAML_sample_size': 364083}, 'Best Learner': 'catboost', 'Best Hyper-parameters': {'early_stopping_rounds': 10, 'learning_rate': 0.2, 'n_estimators': 37, 'FLAML_sample_size': 364083}}\n",
      "{'Current Learner': 'lgbm', 'Current Sample': 364083, 'Current Hyper-parameters': {'n_estimators': 180, 'num_leaves': 31, 'min_child_samples': 112, 'learning_rate': 0.14172261747380874, 'log_max_bin': 8, 'colsample_bytree': 0.9882716197099741, 'reg_alpha': 0.004676080321450302, 'reg_lambda': 2.704862827036818, 'FLAML_sample_size': 364083}, 'Best Learner': 'lgbm', 'Best Hyper-parameters': {'n_estimators': 180, 'num_leaves': 31, 'min_child_samples': 112, 'learning_rate': 0.14172261747380874, 'log_max_bin': 8, 'colsample_bytree': 0.9882716197099741, 'reg_alpha': 0.004676080321450302, 'reg_lambda': 2.704862827036818, 'FLAML_sample_size': 364083}}\n",
      "{'Current Learner': 'lgbm', 'Current Sample': 364083, 'Current Hyper-parameters': {'n_estimators': 284, 'num_leaves': 24, 'min_child_samples': 57, 'learning_rate': 0.3450637443178264, 'log_max_bin': 8, 'colsample_bytree': 0.9661606582789269, 'reg_alpha': 0.05708594148438568, 'reg_lambda': 3.0806435484123478, 'FLAML_sample_size': 364083}, 'Best Learner': 'lgbm', 'Best Hyper-parameters': {'n_estimators': 284, 'num_leaves': 24, 'min_child_samples': 57, 'learning_rate': 0.3450637443178264, 'log_max_bin': 8, 'colsample_bytree': 0.9661606582789269, 'reg_alpha': 0.05708594148438568, 'reg_lambda': 3.0806435484123478, 'FLAML_sample_size': 364083}}\n",
      "{'Current Learner': 'lgbm', 'Current Sample': 364083, 'Current Hyper-parameters': {'n_estimators': 150, 'num_leaves': 176, 'min_child_samples': 62, 'learning_rate': 0.2607939951456863, 'log_max_bin': 8, 'colsample_bytree': 1.0, 'reg_alpha': 0.015973158305354482, 'reg_lambda': 1.1581244082992255, 'FLAML_sample_size': 364083}, 'Best Learner': 'lgbm', 'Best Hyper-parameters': {'n_estimators': 150, 'num_leaves': 176, 'min_child_samples': 62, 'learning_rate': 0.2607939951456863, 'log_max_bin': 8, 'colsample_bytree': 1.0, 'reg_alpha': 0.015973158305354482, 'reg_lambda': 1.1581244082992255, 'FLAML_sample_size': 364083}}\n"
     ]
    }
   ],
   "source": [
    "from flaml.data import get_output_from_log\n",
    "time_history, best_valid_loss_history, valid_loss_history, config_history, metric_history = \\\n",
    "    get_output_from_log(filename=settings['log_file_name'], time_budget=240)\n",
    "for config in config_history:\n",
    "    print(config)"
   ]
  },
  {
   "cell_type": "code",
   "execution_count": 11,
   "metadata": {
    "slideshow": {
     "slide_type": "slide"
    }
   },
   "outputs": [
    {
     "data": {
      "image/png": "[encoded data removed]",
      "text/plain": [
       "<Figure size 432x288 with 1 Axes>"
      ]
     },
     "metadata": {
      "needs_background": "light"
     },
     "output_type": "display_data"
    }
   ],
   "source": [
    "import matplotlib.pyplot as plt\n",
    "import numpy as np\n",
    "\n",
    "plt.title('Learning Curve')\n",
    "plt.xlabel('Wall Clock Time (s)')\n",
    "plt.ylabel('Validation Accuracy')\n",
    "plt.scatter(time_history, 1 - np.array(valid_loss_history))\n",
    "plt.step(time_history, 1 - np.array(best_valid_loss_history), where='post')\n",
    "plt.show()"
   ]
  },
  {
   "cell_type": "markdown",
   "metadata": {},
   "source": [
    "## 3. Comparison with alternatives\n"
   ]
  },
  {
   "cell_type": "markdown",
   "metadata": {},
   "source": [
    "### Default LightGBM"
   ]
  },
  {
   "cell_type": "code",
   "execution_count": 12,
   "metadata": {},
   "outputs": [],
   "source": [
    "from lightgbm import LGBMClassifier\n",
    "lgbm = LGBMClassifier()"
   ]
  },
  {
   "cell_type": "code",
   "execution_count": 13,
   "metadata": {},
   "outputs": [
    {
     "data": {
      "text/plain": [
       "LGBMClassifier()"
      ]
     },
     "execution_count": 13,
     "metadata": {},
     "output_type": "execute_result"
    }
   ],
   "source": [
    "lgbm.fit(X_train, y_train)"
   ]
  },
  {
   "cell_type": "code",
   "execution_count": 14,
   "metadata": {},
   "outputs": [],
   "source": [
    "y_pred_lgbm = lgbm.predict(X_test)"
   ]
  },
  {
   "cell_type": "markdown",
   "metadata": {},
   "source": [
    "### Default XGBoost"
   ]
  },
  {
   "cell_type": "code",
   "execution_count": 15,
   "metadata": {},
   "outputs": [],
   "source": [
    "from xgboost import XGBClassifier\n",
    "xgb = XGBClassifier()\n",
    "cat_columns = X_train.select_dtypes(include=['category']).columns\n",
    "X = X_train.copy()\n",
    "X[cat_columns] = X[cat_columns].apply(lambda x: x.cat.codes)\n"
   ]
  },
  {
   "cell_type": "code",
   "execution_count": null,
   "metadata": {},
   "outputs": [],
   "source": [
    "xgb.fit(X, y_train)"
   ]
  },
  {
   "cell_type": "code",
   "execution_count": 17,
   "metadata": {},
   "outputs": [],
   "source": [
    "X = X_test.copy()\n",
    "X[cat_columns] = X[cat_columns].apply(lambda x: x.cat.codes)\n",
    "y_pred_xgb = xgb.predict(X)"
   ]
  },
  {
   "cell_type": "code",
   "execution_count": 18,
   "metadata": {},
   "outputs": [
    {
     "name": "stdout",
     "output_type": "stream",
     "text": [
      "default xgboost accuracy = 0.6676060098186078\n",
      "default lgbm accuracy = 0.6602346380315323\n",
      "flaml (2 min) accuracy = 0.670713258087003\n"
     ]
    }
   ],
   "source": [
    "print('default xgboost accuracy', '=', 1 - sklearn_metric_loss_score('accuracy', y_pred_xgb, y_test))\n",
    "print('default lgbm accuracy', '=', 1 - sklearn_metric_loss_score('accuracy', y_pred_lgbm, y_test))\n",
    "print('flaml (2 min) accuracy', '=', 1 - sklearn_metric_loss_score('accuracy', y_pred, y_test))"
   ]
  },
  {
   "cell_type": "markdown",
   "metadata": {
    "slideshow": {
     "slide_type": "slide"
    }
   },
   "source": [
    "## 4. Customized Learner"
   ]
  },
  {
   "cell_type": "markdown",
   "metadata": {
    "slideshow": {
     "slide_type": "slide"
    }
   },
   "source": [
    "Some experienced automl users may have a preferred model to tune or may already have a reasonably by-hand-tuned model before launching the automl experiment. They need to select optimal configurations for the customized model mixed with standard built-in learners. \n",
    "\n",
    "FLAML can easily incorporate customized/new learners (preferably with sklearn API) provided by users in a real-time manner, as demonstrated below."
   ]
  },
  {
   "cell_type": "markdown",
   "metadata": {
    "slideshow": {
     "slide_type": "slide"
    }
   },
   "source": [
    "### Example of Regularized Greedy Forest\n",
    "\n",
    "[Regularized Greedy Forest](https://arxiv.org/abs/1109.0887) (RGF) is a machine learning method currently not included in FLAML. The RGF has many tuning parameters, the most critical of which are: `[max_leaf, n_iter, n_tree_search, opt_interval, min_samples_leaf]`. To run a customized/new learner, the user needs to provide the following information:\n",
    "* an implementation of the customized/new learner\n",
    "* a list of hyperparameter names and types\n",
    "* rough ranges of hyperparameters (i.e., upper/lower bounds)\n",
    "* choose initial value corresponding to low cost for cost-related hyperparameters (e.g., initial value for max_leaf and n_iter should be small)\n",
    "\n",
    "In this example, the above information for RGF is wrapped in a python class called *MyRegularizedGreedyForest* that exposes the hyperparameters."
   ]
  },
  {
   "cell_type": "code",
   "execution_count": 19,
   "metadata": {
    "slideshow": {
     "slide_type": "slide"
    }
   },
   "outputs": [],
   "source": [
    "''' SKLearnEstimator is the super class for a sklearn learner '''\n",
    "from flaml.model import SKLearnEstimator\n",
    "from flaml import tune\n",
    "from flaml.data import CLASSIFICATION\n",
    "\n",
    "\n",
    "class MyRegularizedGreedyForest(SKLearnEstimator):\n",
    "    def __init__(self, task='binary', **config):\n",
    "        '''Constructor\n",
    "        \n",
    "        Args:\n",
    "            task: A string of the task type, one of\n",
    "                'binary', 'multiclass', 'regression'\n",
    "            config: A dictionary containing the hyperparameter names\n",
    "                and 'n_jobs' as keys. n_jobs is the number of parallel threads.\n",
    "        '''\n",
    "\n",
    "        super().__init__(task, **config)\n",
    "\n",
    "        '''task=binary or multi for classification task'''\n",
    "        if task in CLASSIFICATION:\n",
    "            from rgf.sklearn import RGFClassifier\n",
    "\n",
    "            self.estimator_class = RGFClassifier\n",
    "        else:\n",
    "            from rgf.sklearn import RGFRegressor\n",
    "            \n",
    "            self.estimator_class = RGFRegressor\n",
    "\n",
    "    @classmethod\n",
    "    def search_space(cls, data_size, task):\n",
    "        '''[required method] search space\n",
    "\n",
    "        Returns:\n",
    "            A dictionary of the search space. \n",
    "            Each key is the name of a hyperparameter, and value is a dict with\n",
    "                its domain (required) and low_cost_init_value, init_value,\n",
    "                cat_hp_cost (if applicable).\n",
    "                e.g.,\n",
    "                {'domain': tune.randint(lower=1, upper=10), 'init_value': 1}.\n",
    "        '''\n",
    "        space = {        \n",
    "            'max_leaf': {'domain': tune.lograndint(lower=4, upper=data_size[0]), 'init_value': 4, 'low_cost_init_value': 4},\n",
    "            'n_iter': {'domain': tune.lograndint(lower=1, upper=data_size[0]), 'init_value': 1, 'low_cost_init_value': 1},\n",
    "            'n_tree_search': {'domain': tune.lograndint(lower=1, upper=32768), 'init_value': 1, 'low_cost_init_value': 1},\n",
    "            'opt_interval': {'domain': tune.lograndint(lower=1, upper=10000), 'init_value': 100},\n",
    "            'learning_rate': {'domain': tune.loguniform(lower=0.01, upper=20.0)},\n",
    "            'min_samples_leaf': {'domain': tune.lograndint(lower=1, upper=20), 'init_value': 20},\n",
    "        }\n",
    "        return space\n",
    "\n",
    "    @classmethod\n",
    "    def size(cls, config):\n",
    "        '''[optional method] memory size of the estimator in bytes\n",
    "        \n",
    "        Args:\n",
    "            config - the dict of the hyperparameter config\n",
    "\n",
    "        Returns:\n",
    "            A float of the memory size required by the estimator to train the\n",
    "            given config\n",
    "        '''\n",
    "        max_leaves = int(round(config['max_leaf']))\n",
    "        n_estimators = int(round(config['n_iter']))\n",
    "        return (max_leaves * 3 + (max_leaves - 1) * 4 + 1.0) * n_estimators * 8\n",
    "\n",
    "    @classmethod\n",
    "    def cost_relative2lgbm(cls):\n",
    "        '''[optional method] relative cost compared to lightgbm\n",
    "        '''\n",
    "        return 1.0\n"
   ]
  },
  {
   "cell_type": "markdown",
   "metadata": {
    "slideshow": {
     "slide_type": "slide"
    }
   },
   "source": [
    "### Add Customized Learner and Run FLAML AutoML\n",
    "\n",
    "After adding RGF into the list of learners, we run automl by tuning hyperpameters of RGF as well as the default learners. "
   ]
  },
  {
   "cell_type": "code",
   "execution_count": 20,
   "metadata": {
    "slideshow": {
     "slide_type": "slide"
    }
   },
   "outputs": [],
   "source": [
    "automl = AutoML()\n",
    "automl.add_learner(learner_name='RGF', learner_class=MyRegularizedGreedyForest)"
   ]
  },
  {
   "cell_type": "code",
   "execution_count": 21,
   "metadata": {
    "slideshow": {
     "slide_type": "slide"
    },
    "tags": []
   },
   "outputs": [
    {
     "name": "stderr",
     "output_type": "stream",
     "text": [
      "[flaml.automl: 03-25 15:17:41] {2092} INFO - task = classification\n",
      "[flaml.automl: 03-25 15:17:41] {2094} INFO - Data split method: stratified\n",
      "[flaml.automl: 03-25 15:17:41] {2098} INFO - Evaluation method: holdout\n",
      "[flaml.automl: 03-25 15:17:41] {2175} INFO - Minimizing error metric: 1-accuracy\n",
      "[flaml.automl: 03-25 15:17:41] {2268} INFO - List of ML learners in AutoML Run: ['RGF', 'lgbm', 'rf', 'xgboost']\n",
      "[flaml.automl: 03-25 15:17:41] {2554} INFO - iteration 0, current learner RGF\n",
      "/home/qxw5138/miniconda3/envs/ds440flaml/lib/python3.8/site-packages/rgf/utils.py:224: UserWarning: Cannot find FastRGF executable files. FastRGF estimators will be unavailable for usage.\n",
      "  warnings.warn(\"Cannot find FastRGF executable files. \"\n",
      "[flaml.automl: 03-25 15:17:43] {2684} INFO - Estimated sufficient time budget=548920s. Estimated necessary time budget=549s.\n",
      "[flaml.automl: 03-25 15:17:43] {2731} INFO -  at 2.0s,\testimator RGF's best error=0.3840,\tbest estimator RGF's best error=0.3840\n",
      "[flaml.automl: 03-25 15:17:43] {2554} INFO - iteration 1, current learner RGF\n",
      "[flaml.automl: 03-25 15:17:43] {2731} INFO -  at 2.6s,\testimator RGF's best error=0.3840,\tbest estimator RGF's best error=0.3840\n",
      "[flaml.automl: 03-25 15:17:43] {2554} INFO - iteration 2, current learner RGF\n",
      "[flaml.automl: 03-25 15:17:44] {2731} INFO -  at 3.2s,\testimator RGF's best error=0.3840,\tbest estimator RGF's best error=0.3840\n",
      "[flaml.automl: 03-25 15:17:44] {2554} INFO - iteration 3, current learner RGF\n",
      "[flaml.automl: 03-25 15:17:44] {2731} INFO -  at 3.9s,\testimator RGF's best error=0.3840,\tbest estimator RGF's best error=0.3840\n",
      "[flaml.automl: 03-25 15:17:44] {2554} INFO - iteration 4, current learner lgbm\n",
      "[flaml.automl: 03-25 15:17:44] {2731} INFO -  at 3.9s,\testimator lgbm's best error=0.3777,\tbest estimator lgbm's best error=0.3777\n",
      "[flaml.automl: 03-25 15:17:44] {2554} INFO - iteration 5, current learner lgbm\n",
      "[flaml.automl: 03-25 15:17:45] {2731} INFO -  at 3.9s,\testimator lgbm's best error=0.3777,\tbest estimator lgbm's best error=0.3777\n",
      "[flaml.automl: 03-25 15:17:45] {2554} INFO - iteration 6, current learner lgbm\n",
      "[flaml.automl: 03-25 15:17:45] {2731} INFO -  at 4.0s,\testimator lgbm's best error=0.3777,\tbest estimator lgbm's best error=0.3777\n",
      "[flaml.automl: 03-25 15:17:45] {2554} INFO - iteration 7, current learner lgbm\n",
      "[flaml.automl: 03-25 15:17:45] {2731} INFO -  at 4.0s,\testimator lgbm's best error=0.3661,\tbest estimator lgbm's best error=0.3661\n",
      "[flaml.automl: 03-25 15:17:45] {2554} INFO - iteration 8, current learner lgbm\n",
      "[flaml.automl: 03-25 15:17:45] {2731} INFO -  at 4.1s,\testimator lgbm's best error=0.3661,\tbest estimator lgbm's best error=0.3661\n",
      "[flaml.automl: 03-25 15:17:45] {2554} INFO - iteration 9, current learner lgbm\n",
      "[flaml.automl: 03-25 15:17:45] {2731} INFO -  at 4.1s,\testimator lgbm's best error=0.3633,\tbest estimator lgbm's best error=0.3633\n",
      "[flaml.automl: 03-25 15:17:45] {2554} INFO - iteration 10, current learner lgbm\n",
      "[flaml.automl: 03-25 15:17:45] {2731} INFO -  at 4.2s,\testimator lgbm's best error=0.3633,\tbest estimator lgbm's best error=0.3633\n",
      "[flaml.automl: 03-25 15:17:45] {2554} INFO - iteration 11, current learner lgbm\n",
      "[flaml.automl: 03-25 15:17:45] {2731} INFO -  at 4.2s,\testimator lgbm's best error=0.3633,\tbest estimator lgbm's best error=0.3633\n",
      "[flaml.automl: 03-25 15:17:45] {2554} INFO - iteration 12, current learner lgbm\n",
      "[flaml.automl: 03-25 15:17:45] {2731} INFO -  at 4.3s,\testimator lgbm's best error=0.3613,\tbest estimator lgbm's best error=0.3613\n",
      "[flaml.automl: 03-25 15:17:45] {2554} INFO - iteration 13, current learner lgbm\n",
      "[flaml.automl: 03-25 15:17:45] {2731} INFO -  at 4.4s,\testimator lgbm's best error=0.3613,\tbest estimator lgbm's best error=0.3613\n",
      "[flaml.automl: 03-25 15:17:45] {2554} INFO - iteration 14, current learner lgbm\n",
      "[flaml.automl: 03-25 15:17:45] {2731} INFO -  at 4.6s,\testimator lgbm's best error=0.3590,\tbest estimator lgbm's best error=0.3590\n",
      "[flaml.automl: 03-25 15:17:45] {2554} INFO - iteration 15, current learner lgbm\n",
      "[flaml.automl: 03-25 15:17:45] {2731} INFO -  at 4.8s,\testimator lgbm's best error=0.3590,\tbest estimator lgbm's best error=0.3590\n",
      "[flaml.automl: 03-25 15:17:45] {2554} INFO - iteration 16, current learner RGF\n",
      "[flaml.automl: 03-25 15:17:46] {2731} INFO -  at 5.4s,\testimator RGF's best error=0.3840,\tbest estimator lgbm's best error=0.3590\n",
      "[flaml.automl: 03-25 15:17:46] {2554} INFO - iteration 17, current learner lgbm\n",
      "[flaml.automl: 03-25 15:17:46] {2731} INFO -  at 5.5s,\testimator lgbm's best error=0.3590,\tbest estimator lgbm's best error=0.3590\n",
      "[flaml.automl: 03-25 15:17:46] {2554} INFO - iteration 18, current learner lgbm\n",
      "[flaml.automl: 03-25 15:17:46] {2731} INFO -  at 5.7s,\testimator lgbm's best error=0.3590,\tbest estimator lgbm's best error=0.3590\n",
      "[flaml.automl: 03-25 15:17:46] {2554} INFO - iteration 19, current learner lgbm\n",
      "[flaml.automl: 03-25 15:17:46] {2731} INFO -  at 5.8s,\testimator lgbm's best error=0.3590,\tbest estimator lgbm's best error=0.3590\n",
      "[flaml.automl: 03-25 15:17:46] {2554} INFO - iteration 20, current learner RGF\n",
      "[flaml.automl: 03-25 15:17:47] {2731} INFO -  at 6.5s,\testimator RGF's best error=0.3766,\tbest estimator lgbm's best error=0.3590\n",
      "[flaml.automl: 03-25 15:17:47] {2554} INFO - iteration 21, current learner lgbm\n",
      "[flaml.automl: 03-25 15:17:47] {2731} INFO -  at 6.5s,\testimator lgbm's best error=0.3590,\tbest estimator lgbm's best error=0.3590\n",
      "[flaml.automl: 03-25 15:17:47] {2554} INFO - iteration 22, current learner lgbm\n",
      "[flaml.automl: 03-25 15:17:47] {2731} INFO -  at 6.6s,\testimator lgbm's best error=0.3590,\tbest estimator lgbm's best error=0.3590\n",
      "[flaml.automl: 03-25 15:17:47] {2554} INFO - iteration 23, current learner lgbm\n",
      "[flaml.automl: 03-25 15:17:47] {2731} INFO -  at 6.7s,\testimator lgbm's best error=0.3590,\tbest estimator lgbm's best error=0.3590\n",
      "[flaml.automl: 03-25 15:17:47] {2554} INFO - iteration 24, current learner lgbm\n",
      "[flaml.automl: 03-25 15:17:47] {2731} INFO -  at 6.8s,\testimator lgbm's best error=0.3590,\tbest estimator lgbm's best error=0.3590\n",
      "[flaml.automl: 03-25 15:17:47] {2554} INFO - iteration 25, current learner lgbm\n",
      "[flaml.automl: 03-25 15:17:48] {2731} INFO -  at 7.0s,\testimator lgbm's best error=0.3590,\tbest estimator lgbm's best error=0.3590\n",
      "[flaml.automl: 03-25 15:17:48] {2554} INFO - iteration 26, current learner lgbm\n",
      "[flaml.automl: 03-25 15:17:48] {2731} INFO -  at 7.2s,\testimator lgbm's best error=0.3580,\tbest estimator lgbm's best error=0.3580\n",
      "[flaml.automl: 03-25 15:17:48] {2554} INFO - iteration 27, current learner lgbm\n",
      "[flaml.automl: 03-25 15:17:48] {2731} INFO -  at 7.4s,\testimator lgbm's best error=0.3580,\tbest estimator lgbm's best error=0.3580\n",
      "[flaml.automl: 03-25 15:17:48] {2554} INFO - iteration 28, current learner lgbm\n",
      "[flaml.automl: 03-25 15:17:48] {2731} INFO -  at 7.6s,\testimator lgbm's best error=0.3580,\tbest estimator lgbm's best error=0.3580\n",
      "[flaml.automl: 03-25 15:17:48] {2554} INFO - iteration 29, current learner RGF\n",
      "[flaml.automl: 03-25 15:17:49] {2731} INFO -  at 8.2s,\testimator RGF's best error=0.3766,\tbest estimator lgbm's best error=0.3580\n",
      "[flaml.automl: 03-25 15:17:49] {2554} INFO - iteration 30, current learner lgbm\n",
      "[flaml.automl: 03-25 15:17:49] {2731} INFO -  at 8.3s,\testimator lgbm's best error=0.3580,\tbest estimator lgbm's best error=0.3580\n",
      "[flaml.automl: 03-25 15:17:49] {2554} INFO - iteration 31, current learner lgbm\n",
      "[flaml.automl: 03-25 15:17:49] {2731} INFO -  at 8.4s,\testimator lgbm's best error=0.3580,\tbest estimator lgbm's best error=0.3580\n",
      "[flaml.automl: 03-25 15:17:49] {2554} INFO - iteration 32, current learner lgbm\n",
      "[flaml.automl: 03-25 15:17:49] {2731} INFO -  at 8.5s,\testimator lgbm's best error=0.3580,\tbest estimator lgbm's best error=0.3580\n",
      "[flaml.automl: 03-25 15:17:49] {2554} INFO - iteration 33, current learner lgbm\n",
      "[flaml.automl: 03-25 15:17:49] {2731} INFO -  at 8.6s,\testimator lgbm's best error=0.3580,\tbest estimator lgbm's best error=0.3580\n",
      "[flaml.automl: 03-25 15:17:49] {2554} INFO - iteration 34, current learner lgbm\n",
      "[flaml.automl: 03-25 15:17:49] {2731} INFO -  at 8.6s,\testimator lgbm's best error=0.3580,\tbest estimator lgbm's best error=0.3580\n",
      "[flaml.automl: 03-25 15:17:49] {2554} INFO - iteration 35, current learner lgbm\n",
      "[flaml.automl: 03-25 15:17:49] {2731} INFO -  at 8.7s,\testimator lgbm's best error=0.3580,\tbest estimator lgbm's best error=0.3580\n",
      "[flaml.automl: 03-25 15:17:49] {2554} INFO - iteration 36, current learner lgbm\n",
      "[flaml.automl: 03-25 15:17:49] {2731} INFO -  at 8.8s,\testimator lgbm's best error=0.3580,\tbest estimator lgbm's best error=0.3580\n",
      "[flaml.automl: 03-25 15:17:49] {2554} INFO - iteration 37, current learner lgbm\n",
      "[flaml.automl: 03-25 15:17:49] {2731} INFO -  at 8.9s,\testimator lgbm's best error=0.3580,\tbest estimator lgbm's best error=0.3580\n",
      "[flaml.automl: 03-25 15:17:49] {2554} INFO - iteration 38, current learner lgbm\n",
      "[flaml.automl: 03-25 15:17:51] {2731} INFO -  at 10.0s,\testimator lgbm's best error=0.3580,\tbest estimator lgbm's best error=0.3580\n",
      "[flaml.automl: 03-25 15:17:51] {2554} INFO - iteration 39, current learner xgboost\n",
      "/home/qxw5138/miniconda3/envs/ds440flaml/lib/python3.8/site-packages/xgboost/data.py:192: FutureWarning: pandas.Int64Index is deprecated and will be removed from pandas in a future version. Use pandas.Index with the appropriate dtype instead.\n",
      "  from pandas import MultiIndex, Int64Index\n",
      "/home/qxw5138/miniconda3/envs/ds440flaml/lib/python3.8/site-packages/xgboost/data.py:192: FutureWarning: pandas.Int64Index is deprecated and will be removed from pandas in a future version. Use pandas.Index with the appropriate dtype instead.\n",
      "  from pandas import MultiIndex, Int64Index\n",
      "[flaml.automl: 03-25 15:17:51] {2731} INFO -  at 10.5s,\testimator xgboost's best error=0.3787,\tbest estimator lgbm's best error=0.3580\n",
      "[flaml.automl: 03-25 15:17:53] {2961} INFO - retrain lgbm for 2.2s\n",
      "[flaml.automl: 03-25 15:17:53] {2968} INFO - retrained model: LGBMClassifier(colsample_bytree=0.8119653279413637,\n",
      "               learning_rate=0.20035468820761498, max_bin=1023,\n",
      "               min_child_samples=7, n_estimators=90, num_leaves=9,\n",
      "               reg_alpha=0.0015564673105246884, reg_lambda=0.003044645769210298,\n",
      "               verbose=-1)\n",
      "[flaml.automl: 03-25 15:17:53] {2297} INFO - fit succeeded\n",
      "[flaml.automl: 03-25 15:17:53] {2298} INFO - Time taken to find the best model: 7.228140354156494\n",
      "[flaml.automl: 03-25 15:17:53] {2309} WARNING - Time taken to find the best model is 72% of the provided time budget and not all estimators' hyperparameter search converged. Consider increasing the time budget.\n"
     ]
    }
   ],
   "source": [
    "settings = {\n",
    "    \"time_budget\": 10,  # total running time in seconds\n",
    "    \"metric\": 'accuracy', \n",
    "    \"estimator_list\": ['RGF', 'lgbm', 'rf', 'xgboost'],  # list of ML learners\n",
    "    \"task\": 'classification',  # task type    \n",
    "    \"log_file_name\": 'airlines_experiment_custom_learner.log',  # flaml log file \n",
    "    \"log_training_metric\": True,  # whether to log training metric\n",
    "}\n",
    "\n",
    "automl.fit(X_train=X_train, y_train=y_train, **settings)"
   ]
  },
  {
   "cell_type": "markdown",
   "metadata": {},
   "source": [
    "## 5. Customized Metric\n",
    "\n",
    "It's also easy to customize the optimization metric. As an example, we demonstrate with a custom metric function which combines training loss and validation loss as the final loss to minimize."
   ]
  },
  {
   "cell_type": "code",
   "execution_count": 22,
   "metadata": {},
   "outputs": [],
   "source": [
    "def custom_metric(X_val, y_val, estimator, labels, X_train, y_train,\n",
    "                  weight_val=None, weight_train=None, config=None,\n",
    "                  groups_val=None, groups_train=None):\n",
    "    from sklearn.metrics import log_loss\n",
    "    import time\n",
    "    start = time.time()\n",
    "    y_pred = estimator.predict_proba(X_val)\n",
    "    pred_time = (time.time() - start) / len(X_val)\n",
    "    val_loss = log_loss(y_val, y_pred, labels=labels,\n",
    "                         sample_weight=weight_val)\n",
    "    y_pred = estimator.predict_proba(X_train)\n",
    "    train_loss = log_loss(y_train, y_pred, labels=labels,\n",
    "                          sample_weight=weight_train)\n",
    "    alpha = 0.5\n",
    "    return val_loss * (1 + alpha) - alpha * train_loss, {\n",
    "        \"val_loss\": val_loss, \"train_loss\": train_loss, \"pred_time\": pred_time\n",
    "    }\n",
    "    # two elements are returned:\n",
    "    # the first element is the metric to minimize as a float number,\n",
    "    # the second element is a dictionary of the metrics to log"
   ]
  },
  {
   "cell_type": "markdown",
   "metadata": {},
   "source": [
    "We can then pass this custom metric function to automl's `fit` method."
   ]
  },
  {
   "cell_type": "code",
   "execution_count": 23,
   "metadata": {},
   "outputs": [
    {
     "name": "stderr",
     "output_type": "stream",
     "text": [
      "[flaml.automl: 03-25 15:17:54] {2092} INFO - task = classification\n",
      "[flaml.automl: 03-25 15:17:54] {2094} INFO - Data split method: stratified\n",
      "[flaml.automl: 03-25 15:17:54] {2098} INFO - Evaluation method: holdout\n",
      "[flaml.automl: 03-25 15:17:54] {2175} INFO - Minimizing error metric: customized metric\n",
      "[flaml.automl: 03-25 15:17:54] {2268} INFO - List of ML learners in AutoML Run: ['lgbm', 'rf', 'catboost', 'xgboost', 'extra_tree', 'xgb_limitdepth', 'lrl1']\n",
      "[flaml.automl: 03-25 15:17:54] {2554} INFO - iteration 0, current learner lgbm\n",
      "[flaml.automl: 03-25 15:17:54] {2684} INFO - Estimated sufficient time budget=15979s. Estimated necessary time budget=392s.\n",
      "[flaml.automl: 03-25 15:17:54] {2731} INFO -  at 0.5s,\testimator lgbm's best error=0.6647,\tbest estimator lgbm's best error=0.6647\n",
      "[flaml.automl: 03-25 15:17:54] {2554} INFO - iteration 1, current learner lgbm\n",
      "[flaml.automl: 03-25 15:17:54] {2731} INFO -  at 0.6s,\testimator lgbm's best error=0.6647,\tbest estimator lgbm's best error=0.6647\n",
      "[flaml.automl: 03-25 15:17:54] {2554} INFO - iteration 2, current learner lgbm\n",
      "[flaml.automl: 03-25 15:17:54] {2731} INFO -  at 0.6s,\testimator lgbm's best error=0.6491,\tbest estimator lgbm's best error=0.6491\n",
      "[flaml.automl: 03-25 15:17:54] {2554} INFO - iteration 3, current learner xgboost\n",
      "/home/qxw5138/miniconda3/envs/ds440flaml/lib/python3.8/site-packages/xgboost/data.py:192: FutureWarning: pandas.Int64Index is deprecated and will be removed from pandas in a future version. Use pandas.Index with the appropriate dtype instead.\n",
      "  from pandas import MultiIndex, Int64Index\n",
      "/home/qxw5138/miniconda3/envs/ds440flaml/lib/python3.8/site-packages/xgboost/data.py:192: FutureWarning: pandas.Int64Index is deprecated and will be removed from pandas in a future version. Use pandas.Index with the appropriate dtype instead.\n",
      "  from pandas import MultiIndex, Int64Index\n",
      "[flaml.automl: 03-25 15:17:55] {2731} INFO -  at 1.2s,\testimator xgboost's best error=0.6845,\tbest estimator lgbm's best error=0.6491\n",
      "[flaml.automl: 03-25 15:17:55] {2554} INFO - iteration 4, current learner extra_tree\n",
      "[flaml.automl: 03-25 15:17:55] {2731} INFO -  at 1.3s,\testimator extra_tree's best error=0.6629,\tbest estimator lgbm's best error=0.6491\n",
      "[flaml.automl: 03-25 15:17:55] {2554} INFO - iteration 5, current learner lgbm\n",
      "[flaml.automl: 03-25 15:17:55] {2731} INFO -  at 1.4s,\testimator lgbm's best error=0.6423,\tbest estimator lgbm's best error=0.6423\n",
      "[flaml.automl: 03-25 15:17:55] {2554} INFO - iteration 6, current learner lgbm\n",
      "[flaml.automl: 03-25 15:17:55] {2731} INFO -  at 1.4s,\testimator lgbm's best error=0.6423,\tbest estimator lgbm's best error=0.6423\n",
      "[flaml.automl: 03-25 15:17:55] {2554} INFO - iteration 7, current learner lgbm\n",
      "[flaml.automl: 03-25 15:17:55] {2731} INFO -  at 1.5s,\testimator lgbm's best error=0.6400,\tbest estimator lgbm's best error=0.6400\n",
      "[flaml.automl: 03-25 15:17:55] {2554} INFO - iteration 8, current learner rf\n",
      "[flaml.automl: 03-25 15:17:55] {2731} INFO -  at 1.7s,\testimator rf's best error=0.6542,\tbest estimator lgbm's best error=0.6400\n",
      "[flaml.automl: 03-25 15:17:55] {2554} INFO - iteration 9, current learner lgbm\n",
      "[flaml.automl: 03-25 15:17:55] {2731} INFO -  at 1.7s,\testimator lgbm's best error=0.6400,\tbest estimator lgbm's best error=0.6400\n",
      "[flaml.automl: 03-25 15:17:55] {2554} INFO - iteration 10, current learner lgbm\n",
      "[flaml.automl: 03-25 15:17:55] {2731} INFO -  at 1.8s,\testimator lgbm's best error=0.6400,\tbest estimator lgbm's best error=0.6400\n",
      "[flaml.automl: 03-25 15:17:55] {2554} INFO - iteration 11, current learner rf\n",
      "[flaml.automl: 03-25 15:17:55] {2731} INFO -  at 2.0s,\testimator rf's best error=0.6502,\tbest estimator lgbm's best error=0.6400\n",
      "[flaml.automl: 03-25 15:17:55] {2554} INFO - iteration 12, current learner lgbm\n",
      "[flaml.automl: 03-25 15:17:55] {2731} INFO -  at 2.1s,\testimator lgbm's best error=0.6400,\tbest estimator lgbm's best error=0.6400\n",
      "[flaml.automl: 03-25 15:17:55] {2554} INFO - iteration 13, current learner xgboost\n",
      "/home/qxw5138/miniconda3/envs/ds440flaml/lib/python3.8/site-packages/xgboost/data.py:192: FutureWarning: pandas.Int64Index is deprecated and will be removed from pandas in a future version. Use pandas.Index with the appropriate dtype instead.\n",
      "  from pandas import MultiIndex, Int64Index\n",
      "/home/qxw5138/miniconda3/envs/ds440flaml/lib/python3.8/site-packages/xgboost/data.py:192: FutureWarning: pandas.Int64Index is deprecated and will be removed from pandas in a future version. Use pandas.Index with the appropriate dtype instead.\n",
      "  from pandas import MultiIndex, Int64Index\n",
      "[flaml.automl: 03-25 15:17:56] {2731} INFO -  at 2.6s,\testimator xgboost's best error=0.6845,\tbest estimator lgbm's best error=0.6400\n",
      "[flaml.automl: 03-25 15:17:56] {2554} INFO - iteration 14, current learner rf\n",
      "[flaml.automl: 03-25 15:17:56] {2731} INFO -  at 2.8s,\testimator rf's best error=0.6502,\tbest estimator lgbm's best error=0.6400\n",
      "[flaml.automl: 03-25 15:17:56] {2554} INFO - iteration 15, current learner extra_tree\n",
      "[flaml.automl: 03-25 15:17:56] {2731} INFO -  at 3.0s,\testimator extra_tree's best error=0.6622,\tbest estimator lgbm's best error=0.6400\n",
      "[flaml.automl: 03-25 15:17:56] {2554} INFO - iteration 16, current learner lgbm\n",
      "[flaml.automl: 03-25 15:17:57] {2731} INFO -  at 3.2s,\testimator lgbm's best error=0.6400,\tbest estimator lgbm's best error=0.6400\n",
      "[flaml.automl: 03-25 15:17:57] {2554} INFO - iteration 17, current learner xgboost\n",
      "/home/qxw5138/miniconda3/envs/ds440flaml/lib/python3.8/site-packages/xgboost/data.py:192: FutureWarning: pandas.Int64Index is deprecated and will be removed from pandas in a future version. Use pandas.Index with the appropriate dtype instead.\n",
      "  from pandas import MultiIndex, Int64Index\n",
      "/home/qxw5138/miniconda3/envs/ds440flaml/lib/python3.8/site-packages/xgboost/data.py:192: FutureWarning: pandas.Int64Index is deprecated and will be removed from pandas in a future version. Use pandas.Index with the appropriate dtype instead.\n",
      "  from pandas import MultiIndex, Int64Index\n",
      "[flaml.automl: 03-25 15:17:57] {2731} INFO -  at 3.7s,\testimator xgboost's best error=0.6729,\tbest estimator lgbm's best error=0.6400\n",
      "[flaml.automl: 03-25 15:17:57] {2554} INFO - iteration 18, current learner lgbm\n",
      "[flaml.automl: 03-25 15:17:57] {2731} INFO -  at 3.8s,\testimator lgbm's best error=0.6335,\tbest estimator lgbm's best error=0.6335\n",
      "[flaml.automl: 03-25 15:17:57] {2554} INFO - iteration 19, current learner lgbm\n",
      "[flaml.automl: 03-25 15:17:57] {2731} INFO -  at 4.0s,\testimator lgbm's best error=0.6335,\tbest estimator lgbm's best error=0.6335\n",
      "[flaml.automl: 03-25 15:17:57] {2554} INFO - iteration 20, current learner lgbm\n",
      "[flaml.automl: 03-25 15:17:58] {2731} INFO -  at 4.1s,\testimator lgbm's best error=0.6335,\tbest estimator lgbm's best error=0.6335\n",
      "[flaml.automl: 03-25 15:17:58] {2554} INFO - iteration 21, current learner lgbm\n",
      "[flaml.automl: 03-25 15:17:58] {2731} INFO -  at 4.2s,\testimator lgbm's best error=0.6335,\tbest estimator lgbm's best error=0.6335\n",
      "[flaml.automl: 03-25 15:17:58] {2554} INFO - iteration 22, current learner lgbm\n",
      "[flaml.automl: 03-25 15:17:58] {2731} INFO -  at 4.4s,\testimator lgbm's best error=0.6335,\tbest estimator lgbm's best error=0.6335\n",
      "[flaml.automl: 03-25 15:17:58] {2554} INFO - iteration 23, current learner lgbm\n",
      "[flaml.automl: 03-25 15:17:58] {2731} INFO -  at 4.5s,\testimator lgbm's best error=0.6335,\tbest estimator lgbm's best error=0.6335\n",
      "[flaml.automl: 03-25 15:17:58] {2554} INFO - iteration 24, current learner rf\n",
      "[flaml.automl: 03-25 15:17:58] {2731} INFO -  at 4.7s,\testimator rf's best error=0.6502,\tbest estimator lgbm's best error=0.6335\n",
      "[flaml.automl: 03-25 15:17:58] {2554} INFO - iteration 25, current learner extra_tree\n",
      "[flaml.automl: 03-25 15:17:58] {2731} INFO -  at 4.8s,\testimator extra_tree's best error=0.6622,\tbest estimator lgbm's best error=0.6335\n",
      "[flaml.automl: 03-25 15:17:58] {2554} INFO - iteration 26, current learner lgbm\n",
      "[flaml.automl: 03-25 15:17:59] {2731} INFO -  at 5.6s,\testimator lgbm's best error=0.6328,\tbest estimator lgbm's best error=0.6328\n",
      "[flaml.automl: 03-25 15:17:59] {2554} INFO - iteration 27, current learner catboost\n",
      "[flaml.automl: 03-25 15:17:59] {2731} INFO -  at 5.7s,\testimator catboost's best error=0.6828,\tbest estimator lgbm's best error=0.6328\n",
      "[flaml.automl: 03-25 15:17:59] {2554} INFO - iteration 28, current learner catboost\n",
      "[flaml.automl: 03-25 15:17:59] {2731} INFO -  at 5.8s,\testimator catboost's best error=0.6828,\tbest estimator lgbm's best error=0.6328\n",
      "[flaml.automl: 03-25 15:17:59] {2554} INFO - iteration 29, current learner catboost\n",
      "[flaml.automl: 03-25 15:17:59] {2731} INFO -  at 5.9s,\testimator catboost's best error=0.6738,\tbest estimator lgbm's best error=0.6328\n",
      "[flaml.automl: 03-25 15:17:59] {2554} INFO - iteration 30, current learner xgboost\n",
      "/home/qxw5138/miniconda3/envs/ds440flaml/lib/python3.8/site-packages/xgboost/data.py:192: FutureWarning: pandas.Int64Index is deprecated and will be removed from pandas in a future version. Use pandas.Index with the appropriate dtype instead.\n",
      "  from pandas import MultiIndex, Int64Index\n",
      "/home/qxw5138/miniconda3/envs/ds440flaml/lib/python3.8/site-packages/xgboost/data.py:192: FutureWarning: pandas.Int64Index is deprecated and will be removed from pandas in a future version. Use pandas.Index with the appropriate dtype instead.\n",
      "  from pandas import MultiIndex, Int64Index\n",
      "[flaml.automl: 03-25 15:18:00] {2731} INFO -  at 6.6s,\testimator xgboost's best error=0.6490,\tbest estimator lgbm's best error=0.6328\n",
      "[flaml.automl: 03-25 15:18:00] {2554} INFO - iteration 31, current learner lgbm\n",
      "[flaml.automl: 03-25 15:18:01] {2731} INFO -  at 7.3s,\testimator lgbm's best error=0.6276,\tbest estimator lgbm's best error=0.6276\n",
      "[flaml.automl: 03-25 15:18:01] {2554} INFO - iteration 32, current learner lgbm\n",
      "[flaml.automl: 03-25 15:18:01] {2731} INFO -  at 8.0s,\testimator lgbm's best error=0.6276,\tbest estimator lgbm's best error=0.6276\n",
      "[flaml.automl: 03-25 15:18:01] {2554} INFO - iteration 33, current learner lgbm\n",
      "[flaml.automl: 03-25 15:18:02] {2731} INFO -  at 8.7s,\testimator lgbm's best error=0.6276,\tbest estimator lgbm's best error=0.6276\n",
      "[flaml.automl: 03-25 15:18:02] {2554} INFO - iteration 34, current learner xgboost\n",
      "/home/qxw5138/miniconda3/envs/ds440flaml/lib/python3.8/site-packages/xgboost/data.py:192: FutureWarning: pandas.Int64Index is deprecated and will be removed from pandas in a future version. Use pandas.Index with the appropriate dtype instead.\n",
      "  from pandas import MultiIndex, Int64Index\n",
      "/home/qxw5138/miniconda3/envs/ds440flaml/lib/python3.8/site-packages/xgboost/data.py:192: FutureWarning: pandas.Int64Index is deprecated and will be removed from pandas in a future version. Use pandas.Index with the appropriate dtype instead.\n",
      "  from pandas import MultiIndex, Int64Index\n",
      "[flaml.automl: 03-25 15:18:03] {2731} INFO -  at 9.5s,\testimator xgboost's best error=0.6490,\tbest estimator lgbm's best error=0.6276\n",
      "[flaml.automl: 03-25 15:18:03] {2554} INFO - iteration 35, current learner rf\n",
      "[flaml.automl: 03-25 15:18:03] {2731} INFO -  at 9.6s,\testimator rf's best error=0.6502,\tbest estimator lgbm's best error=0.6276\n",
      "[flaml.automl: 03-25 15:18:03] {2554} INFO - iteration 36, current learner catboost\n",
      "[flaml.automl: 03-25 15:18:03] {2731} INFO -  at 9.7s,\testimator catboost's best error=0.6738,\tbest estimator lgbm's best error=0.6276\n",
      "[flaml.automl: 03-25 15:18:03] {2554} INFO - iteration 37, current learner xgb_limitdepth\n",
      "/home/qxw5138/miniconda3/envs/ds440flaml/lib/python3.8/site-packages/xgboost/data.py:192: FutureWarning: pandas.Int64Index is deprecated and will be removed from pandas in a future version. Use pandas.Index with the appropriate dtype instead.\n",
      "  from pandas import MultiIndex, Int64Index\n",
      "/home/qxw5138/miniconda3/envs/ds440flaml/lib/python3.8/site-packages/xgboost/data.py:192: FutureWarning: pandas.Int64Index is deprecated and will be removed from pandas in a future version. Use pandas.Index with the appropriate dtype instead.\n",
      "  from pandas import MultiIndex, Int64Index\n",
      "[flaml.automl: 03-25 15:18:04] {2731} INFO -  at 10.5s,\testimator xgb_limitdepth's best error=0.6682,\tbest estimator lgbm's best error=0.6276\n",
      "[flaml.automl: 03-25 15:18:04] {2961} INFO - retrain lgbm for 0.6s\n",
      "[flaml.automl: 03-25 15:18:04] {2968} INFO - retrained model: LGBMClassifier(learning_rate=0.6108586953417215, max_bin=1023,\n",
      "               min_child_samples=11, n_estimators=6, num_leaves=17,\n",
      "               reg_alpha=0.003932726553619989, reg_lambda=22.23452449721895,\n",
      "               verbose=-1)\n",
      "[flaml.automl: 03-25 15:18:04] {2297} INFO - fit succeeded\n",
      "[flaml.automl: 03-25 15:18:04] {2298} INFO - Time taken to find the best model: 7.292369365692139\n",
      "[flaml.automl: 03-25 15:18:04] {2309} WARNING - Time taken to find the best model is 73% of the provided time budget and not all estimators' hyperparameter search converged. Consider increasing the time budget.\n"
     ]
    }
   ],
   "source": [
    "automl = AutoML()\n",
    "settings = {\n",
    "    \"time_budget\": 10,  # total running time in seconds\n",
    "    \"metric\": custom_metric,  # pass the custom metric funtion here\n",
    "    \"task\": 'classification',  # task type\n",
    "    \"log_file_name\": 'airlines_experiment_custom_metric.log',  # flaml log file\n",
    "}\n",
    "\n",
    "automl.fit(X_train=X_train, y_train=y_train, **settings)"
   ]
  }
 ],
 "metadata": {
  "interpreter": {
   "hash": "5432eb6463ddd46aaa76ccf859b1fa421ab98224a755661a6688060ed6e23d59"
  },
  "kernelspec": {
   "display_name": "ds440flaml",
   "language": "python",
   "name": "python3"
  },
  "language_info": {
   "codemirror_mode": {
    "name": "ipython",
    "version": 3
   },
   "file_extension": ".py",
   "mimetype": "text/x-python",
   "name": "python",
   "nbconvert_exporter": "python",
   "pygments_lexer": "ipython3",
   "version": "3.8.12"
  }
 },
 "nbformat": 4,
 "nbformat_minor": 2
}
