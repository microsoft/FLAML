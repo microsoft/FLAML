{
 "cells": [
  {
   "attachments": {},
   "cell_type": "markdown",
   "metadata": {
    "slideshow": {
     "slide_type": "slide"
    }
   },
   "source": [
    "Copyright (c) Microsoft Corporation. All rights reserved. \n",
    "\n",
    "Licensed under the MIT License.\n",
    "\n",
    "# AutoML with FLAML Library\n",
    "\n",
    "\n",
    "## 1. Introduction\n",
    "\n",
    "FLAML is a Python library (https://github.com/microsoft/FLAML) designed to automatically produce accurate machine learning models \n",
    "with low computational cost. It is fast and economical. The simple and lightweight design makes it easy to use and extend, such as adding new learners. FLAML can \n",
    "- serve as an economical AutoML engine,\n",
    "- be used as a fast hyperparameter tuning tool, or \n",
    "- be embedded in self-tuning software that requires low latency & resource in repetitive\n",
    "   tuning tasks.\n",
    "\n",
    "In this notebook, we use one real data example (binary classification) to showcase how to use FLAML library.\n",
    "\n",
    "FLAML requires `Python>=3.7`. To run this notebook example, please install flaml with the `notebook` option:\n",
    "```bash\n",
    "pip install flaml[notebook]==1.1.2\n",
    "```"
   ]
  },
  {
   "cell_type": "code",
   "execution_count": null,
   "metadata": {},
   "outputs": [],
   "source": [
    "%pip install flaml[notebook]==1.1.2"
   ]
  },
  {
   "cell_type": "markdown",
   "metadata": {
    "slideshow": {
     "slide_type": "slide"
    }
   },
   "source": [
    "## 2. Classification Example\n",
    "### Load data and preprocess\n",
    "\n",
    "Download [Airlines dataset](https://www.openml.org/d/1169) from OpenML. The task is to predict whether a given flight will be delayed, given the information of the scheduled departure."
   ]
  },
  {
   "cell_type": "code",
   "execution_count": null,
   "metadata": {
    "slideshow": {
     "slide_type": "subslide"
    },
    "tags": []
   },
   "outputs": [],
   "source": [
    "from flaml.data import load_openml_dataset\n",
    "X_train, X_test, y_train, y_test = load_openml_dataset(dataset_id=1169, data_dir='./')"
   ]
  },
  {
   "cell_type": "code",
   "execution_count": null,
   "metadata": {},
   "outputs": [],
   "source": [
    "X_train.head()"
   ]
  },
  {
   "cell_type": "markdown",
   "metadata": {
    "slideshow": {
     "slide_type": "slide"
    }
   },
   "source": [
    "### Run FLAML\n",
    "In the FLAML automl run configuration, users can specify the task type, time budget, error metric, learner list, whether to subsample, resampling strategy type, and so on. All these arguments have default values which will be used if users do not provide them. For example, the default classifiers are `['lgbm', 'xgboost', 'xgb_limitdepth', 'catboost', 'rf', 'extra_tree', 'lrl1']`. "
   ]
  },
  {
   "cell_type": "code",
   "execution_count": 2,
   "metadata": {
    "slideshow": {
     "slide_type": "slide"
    }
   },
   "outputs": [],
   "source": [
    "''' import AutoML class from flaml package '''\n",
    "from flaml import AutoML\n",
    "automl = AutoML()"
   ]
  },
  {
   "cell_type": "code",
   "execution_count": 3,
   "metadata": {
    "slideshow": {
     "slide_type": "slide"
    }
   },
   "outputs": [],
   "source": [
    "settings = {\n",
    "    \"time_budget\": 600,  # total running time in seconds\n",
    "    \"metric\": 'accuracy', \n",
    "                        # check the documentation for options of metrics (https://microsoft.github.io/FLAML/docs/Use-Cases/Task-Oriented-AutoML#optimization-metric)\n",
    "    \"task\": 'classification',  # task type\n",
    "    \"log_file_name\": 'airlines_experiment.log',  # flaml log file\n",
    "    \"seed\": 7654321,    # random seed\n",
    "}\n"
   ]
  },
  {
   "cell_type": "code",
   "execution_count": 4,
   "metadata": {
    "slideshow": {
     "slide_type": "slide"
    },
    "tags": [
     "outputPrepend"
    ]
   },
   "outputs": [
    {
     "name": "stderr",
     "output_type": "stream",
     "text": [
      "[flaml.automl: 03-30 21:48:57] {2105} INFO - task = classification\n",
      "[flaml.automl: 03-30 21:48:57] {2107} INFO - Data split method: stratified\n",
      "[flaml.automl: 03-30 21:48:57] {2111} INFO - Evaluation method: holdout\n",
      "[flaml.automl: 03-30 21:48:58] {2188} INFO - Minimizing error metric: 1-accuracy\n",
      "[flaml.automl: 03-30 21:48:58] {2281} INFO - List of ML learners in AutoML Run: ['lgbm', 'rf', 'catboost', 'xgboost', 'extra_tree', 'xgb_limitdepth', 'lrl1']\n",
      "[flaml.automl: 03-30 21:48:58] {2567} INFO - iteration 0, current learner lgbm\n",
      "[flaml.automl: 03-30 21:48:58] {2697} INFO - Estimated sufficient time budget=24546s. Estimated necessary time budget=603s.\n",
      "[flaml.automl: 03-30 21:48:58] {2744} INFO -  at 0.7s,\testimator lgbm's best error=0.3777,\tbest estimator lgbm's best error=0.3777\n",
      "[flaml.automl: 03-30 21:48:58] {2567} INFO - iteration 1, current learner lgbm\n",
      "[flaml.automl: 03-30 21:48:58] {2744} INFO -  at 0.8s,\testimator lgbm's best error=0.3777,\tbest estimator lgbm's best error=0.3777\n",
      "[flaml.automl: 03-30 21:48:58] {2567} INFO - iteration 2, current learner lgbm\n",
      "[flaml.automl: 03-30 21:48:58] {2744} INFO -  at 0.9s,\testimator lgbm's best error=0.3614,\tbest estimator lgbm's best error=0.3614\n",
      "[flaml.automl: 03-30 21:48:58] {2567} INFO - iteration 3, current learner xgboost\n",
      "[flaml.automl: 03-30 21:48:58] {2744} INFO -  at 1.0s,\testimator xgboost's best error=0.3787,\tbest estimator lgbm's best error=0.3614\n",
      "[flaml.automl: 03-30 21:48:58] {2567} INFO - iteration 4, current learner extra_tree\n",
      "[flaml.automl: 03-30 21:48:58] {2744} INFO -  at 1.1s,\testimator extra_tree's best error=0.3892,\tbest estimator lgbm's best error=0.3614\n",
      "[flaml.automl: 03-30 21:48:58] {2567} INFO - iteration 5, current learner lgbm\n",
      "[flaml.automl: 03-30 21:48:58] {2744} INFO -  at 1.3s,\testimator lgbm's best error=0.3614,\tbest estimator lgbm's best error=0.3614\n",
      "[flaml.automl: 03-30 21:48:58] {2567} INFO - iteration 6, current learner xgboost\n",
      "[flaml.automl: 03-30 21:48:58] {2744} INFO -  at 1.3s,\testimator xgboost's best error=0.3787,\tbest estimator lgbm's best error=0.3614\n",
      "[flaml.automl: 03-30 21:48:58] {2567} INFO - iteration 7, current learner lgbm\n",
      "[flaml.automl: 03-30 21:48:58] {2744} INFO -  at 1.4s,\testimator lgbm's best error=0.3614,\tbest estimator lgbm's best error=0.3614\n",
      "[flaml.automl: 03-30 21:48:58] {2567} INFO - iteration 8, current learner lgbm\n",
      "[flaml.automl: 03-30 21:48:58] {2744} INFO -  at 1.6s,\testimator lgbm's best error=0.3614,\tbest estimator lgbm's best error=0.3614\n",
      "[flaml.automl: 03-30 21:48:58] {2567} INFO - iteration 9, current learner xgboost\n",
      "[flaml.automl: 03-30 21:48:59] {2744} INFO -  at 1.7s,\testimator xgboost's best error=0.3604,\tbest estimator xgboost's best error=0.3604\n",
      "[flaml.automl: 03-30 21:48:59] {2567} INFO - iteration 10, current learner xgboost\n",
      "[flaml.automl: 03-30 21:48:59] {2744} INFO -  at 1.9s,\testimator xgboost's best error=0.3601,\tbest estimator xgboost's best error=0.3601\n",
      "[flaml.automl: 03-30 21:48:59] {2567} INFO - iteration 11, current learner extra_tree\n",
      "[flaml.automl: 03-30 21:48:59] {2744} INFO -  at 2.0s,\testimator extra_tree's best error=0.3892,\tbest estimator xgboost's best error=0.3601\n",
      "[flaml.automl: 03-30 21:48:59] {2567} INFO - iteration 12, current learner extra_tree\n",
      "[flaml.automl: 03-30 21:48:59] {2744} INFO -  at 2.1s,\testimator extra_tree's best error=0.3792,\tbest estimator xgboost's best error=0.3601\n",
      "[flaml.automl: 03-30 21:48:59] {2567} INFO - iteration 13, current learner rf\n",
      "[flaml.automl: 03-30 21:48:59] {2744} INFO -  at 2.1s,\testimator rf's best error=0.3789,\tbest estimator xgboost's best error=0.3601\n",
      "[flaml.automl: 03-30 21:48:59] {2567} INFO - iteration 14, current learner rf\n",
      "[flaml.automl: 03-30 21:48:59] {2744} INFO -  at 2.2s,\testimator rf's best error=0.3789,\tbest estimator xgboost's best error=0.3601\n",
      "[flaml.automl: 03-30 21:48:59] {2567} INFO - iteration 15, current learner rf\n",
      "[flaml.automl: 03-30 21:48:59] {2744} INFO -  at 2.3s,\testimator rf's best error=0.3766,\tbest estimator xgboost's best error=0.3601\n",
      "[flaml.automl: 03-30 21:48:59] {2567} INFO - iteration 16, current learner lgbm\n",
      "[flaml.automl: 03-30 21:48:59] {2744} INFO -  at 2.4s,\testimator lgbm's best error=0.3614,\tbest estimator xgboost's best error=0.3601\n",
      "[flaml.automl: 03-30 21:48:59] {2567} INFO - iteration 17, current learner extra_tree\n",
      "[flaml.automl: 03-30 21:48:59] {2744} INFO -  at 2.5s,\testimator extra_tree's best error=0.3792,\tbest estimator xgboost's best error=0.3601\n",
      "[flaml.automl: 03-30 21:48:59] {2567} INFO - iteration 18, current learner lgbm\n",
      "[flaml.automl: 03-30 21:49:00] {2744} INFO -  at 2.6s,\testimator lgbm's best error=0.3614,\tbest estimator xgboost's best error=0.3601\n",
      "[flaml.automl: 03-30 21:49:00] {2567} INFO - iteration 19, current learner xgboost\n",
      "[flaml.automl: 03-30 21:49:00] {2744} INFO -  at 2.7s,\testimator xgboost's best error=0.3594,\tbest estimator xgboost's best error=0.3594\n",
      "[flaml.automl: 03-30 21:49:00] {2567} INFO - iteration 20, current learner xgboost\n",
      "[flaml.automl: 03-30 21:49:00] {2744} INFO -  at 2.8s,\testimator xgboost's best error=0.3594,\tbest estimator xgboost's best error=0.3594\n",
      "[flaml.automl: 03-30 21:49:00] {2567} INFO - iteration 21, current learner xgboost\n",
      "[flaml.automl: 03-30 21:49:00] {2744} INFO -  at 2.9s,\testimator xgboost's best error=0.3594,\tbest estimator xgboost's best error=0.3594\n",
      "[flaml.automl: 03-30 21:49:00] {2567} INFO - iteration 22, current learner lgbm\n",
      "[flaml.automl: 03-30 21:49:00] {2744} INFO -  at 3.1s,\testimator lgbm's best error=0.3614,\tbest estimator xgboost's best error=0.3594\n",
      "[flaml.automl: 03-30 21:49:00] {2567} INFO - iteration 23, current learner lgbm\n",
      "[flaml.automl: 03-30 21:49:00] {2744} INFO -  at 3.3s,\testimator lgbm's best error=0.3550,\tbest estimator lgbm's best error=0.3550\n",
      "[flaml.automl: 03-30 21:49:00] {2567} INFO - iteration 24, current learner extra_tree\n",
      "[flaml.automl: 03-30 21:49:00] {2744} INFO -  at 3.4s,\testimator extra_tree's best error=0.3792,\tbest estimator lgbm's best error=0.3550\n",
      "[flaml.automl: 03-30 21:49:00] {2567} INFO - iteration 25, current learner extra_tree\n",
      "[flaml.automl: 03-30 21:49:00] {2744} INFO -  at 3.5s,\testimator extra_tree's best error=0.3792,\tbest estimator lgbm's best error=0.3550\n",
      "[flaml.automl: 03-30 21:49:00] {2567} INFO - iteration 26, current learner lgbm\n",
      "[flaml.automl: 03-30 21:49:01] {2744} INFO -  at 3.7s,\testimator lgbm's best error=0.3550,\tbest estimator lgbm's best error=0.3550\n",
      "[flaml.automl: 03-30 21:49:01] {2567} INFO - iteration 27, current learner xgboost\n",
      "[flaml.automl: 03-30 21:49:01] {2744} INFO -  at 3.8s,\testimator xgboost's best error=0.3594,\tbest estimator lgbm's best error=0.3550\n",
      "[flaml.automl: 03-30 21:49:01] {2567} INFO - iteration 28, current learner extra_tree\n",
      "[flaml.automl: 03-30 21:49:01] {2744} INFO -  at 3.9s,\testimator extra_tree's best error=0.3792,\tbest estimator lgbm's best error=0.3550\n",
      "[flaml.automl: 03-30 21:49:01] {2567} INFO - iteration 29, current learner extra_tree\n",
      "[flaml.automl: 03-30 21:49:01] {2744} INFO -  at 4.0s,\testimator extra_tree's best error=0.3792,\tbest estimator lgbm's best error=0.3550\n",
      "[flaml.automl: 03-30 21:49:01] {2567} INFO - iteration 30, current learner lgbm\n",
      "[flaml.automl: 03-30 21:49:01] {2744} INFO -  at 4.5s,\testimator lgbm's best error=0.3545,\tbest estimator lgbm's best error=0.3545\n",
      "[flaml.automl: 03-30 21:49:01] {2567} INFO - iteration 31, current learner lgbm\n",
      "[flaml.automl: 03-30 21:49:02] {2744} INFO -  at 4.8s,\testimator lgbm's best error=0.3545,\tbest estimator lgbm's best error=0.3545\n",
      "[flaml.automl: 03-30 21:49:02] {2567} INFO - iteration 32, current learner lgbm\n",
      "[flaml.automl: 03-30 21:49:03] {2744} INFO -  at 6.1s,\testimator lgbm's best error=0.3545,\tbest estimator lgbm's best error=0.3545\n",
      "[flaml.automl: 03-30 21:49:03] {2567} INFO - iteration 33, current learner catboost\n",
      "[flaml.automl: 03-30 21:49:08] {2744} INFO -  at 10.6s,\testimator catboost's best error=0.3587,\tbest estimator lgbm's best error=0.3545\n",
      "[flaml.automl: 03-30 21:49:08] {2567} INFO - iteration 34, current learner extra_tree\n",
      "[flaml.automl: 03-30 21:49:09] {2744} INFO -  at 11.8s,\testimator extra_tree's best error=0.3792,\tbest estimator lgbm's best error=0.3545\n",
      "[flaml.automl: 03-30 21:49:09] {2567} INFO - iteration 35, current learner lgbm\n",
      "[flaml.automl: 03-30 21:49:10] {2744} INFO -  at 13.0s,\testimator lgbm's best error=0.3536,\tbest estimator lgbm's best error=0.3536\n",
      "[flaml.automl: 03-30 21:49:10] {2567} INFO - iteration 36, current learner rf\n",
      "[flaml.automl: 03-30 21:49:10] {2744} INFO -  at 13.5s,\testimator rf's best error=0.3766,\tbest estimator lgbm's best error=0.3536\n",
      "[flaml.automl: 03-30 21:49:10] {2567} INFO - iteration 37, current learner extra_tree\n",
      "[flaml.automl: 03-30 21:49:15] {2744} INFO -  at 18.6s,\testimator extra_tree's best error=0.3792,\tbest estimator lgbm's best error=0.3536\n",
      "[flaml.automl: 03-30 21:49:15] {2567} INFO - iteration 38, current learner catboost\n",
      "[flaml.automl: 03-30 21:49:17] {2744} INFO -  at 20.0s,\testimator catboost's best error=0.3587,\tbest estimator lgbm's best error=0.3536\n",
      "[flaml.automl: 03-30 21:49:17] {2567} INFO - iteration 39, current learner catboost\n",
      "[flaml.automl: 03-30 21:49:25] {2744} INFO -  at 28.2s,\testimator catboost's best error=0.3587,\tbest estimator lgbm's best error=0.3536\n",
      "[flaml.automl: 03-30 21:49:25] {2567} INFO - iteration 40, current learner lgbm\n",
      "[flaml.automl: 03-30 21:49:28] {2744} INFO -  at 30.7s,\testimator lgbm's best error=0.3536,\tbest estimator lgbm's best error=0.3536\n",
      "[flaml.automl: 03-30 21:49:28] {2567} INFO - iteration 41, current learner catboost\n",
      "[flaml.automl: 03-30 21:49:36] {2744} INFO -  at 38.9s,\testimator catboost's best error=0.3587,\tbest estimator lgbm's best error=0.3536\n",
      "[flaml.automl: 03-30 21:49:36] {2567} INFO - iteration 42, current learner xgboost\n",
      "[flaml.automl: 03-30 21:49:37] {2744} INFO -  at 40.4s,\testimator xgboost's best error=0.3594,\tbest estimator lgbm's best error=0.3536\n",
      "[flaml.automl: 03-30 21:49:37] {2567} INFO - iteration 43, current learner lgbm\n",
      "[flaml.automl: 03-30 21:49:41] {2744} INFO -  at 44.3s,\testimator lgbm's best error=0.3536,\tbest estimator lgbm's best error=0.3536\n",
      "[flaml.automl: 03-30 21:49:41] {2567} INFO - iteration 44, current learner xgb_limitdepth\n",
      "[flaml.automl: 03-30 21:49:42] {2744} INFO -  at 44.7s,\testimator xgb_limitdepth's best error=0.3630,\tbest estimator lgbm's best error=0.3536\n",
      "[flaml.automl: 03-30 21:49:42] {2567} INFO - iteration 45, current learner xgb_limitdepth\n",
      "[flaml.automl: 03-30 21:49:43] {2744} INFO -  at 46.1s,\testimator xgb_limitdepth's best error=0.3630,\tbest estimator lgbm's best error=0.3536\n",
      "[flaml.automl: 03-30 21:49:43] {2567} INFO - iteration 46, current learner xgb_limitdepth\n",
      "[flaml.automl: 03-30 21:49:45] {2744} INFO -  at 47.7s,\testimator xgb_limitdepth's best error=0.3630,\tbest estimator lgbm's best error=0.3536\n",
      "[flaml.automl: 03-30 21:49:45] {2567} INFO - iteration 47, current learner xgb_limitdepth\n",
      "[flaml.automl: 03-30 21:49:46] {2744} INFO -  at 49.4s,\testimator xgb_limitdepth's best error=0.3572,\tbest estimator lgbm's best error=0.3536\n",
      "[flaml.automl: 03-30 21:49:46] {2567} INFO - iteration 48, current learner lgbm\n",
      "[flaml.automl: 03-30 21:49:48] {2744} INFO -  at 51.1s,\testimator lgbm's best error=0.3528,\tbest estimator lgbm's best error=0.3528\n",
      "[flaml.automl: 03-30 21:49:48] {2567} INFO - iteration 49, current learner xgb_limitdepth\n",
      "[flaml.automl: 03-30 21:49:49] {2744} INFO -  at 51.9s,\testimator xgb_limitdepth's best error=0.3521,\tbest estimator xgb_limitdepth's best error=0.3521\n",
      "[flaml.automl: 03-30 21:49:49] {2567} INFO - iteration 50, current learner catboost\n",
      "[flaml.automl: 03-30 21:50:01] {2744} INFO -  at 63.7s,\testimator catboost's best error=0.3499,\tbest estimator catboost's best error=0.3499\n",
      "[flaml.automl: 03-30 21:50:01] {2567} INFO - iteration 51, current learner xgb_limitdepth\n",
      "[flaml.automl: 03-30 21:50:01] {2744} INFO -  at 64.0s,\testimator xgb_limitdepth's best error=0.3521,\tbest estimator catboost's best error=0.3499\n",
      "[flaml.automl: 03-30 21:50:01] {2567} INFO - iteration 52, current learner xgb_limitdepth\n",
      "[flaml.automl: 03-30 21:50:06] {2744} INFO -  at 68.7s,\testimator xgb_limitdepth's best error=0.3521,\tbest estimator catboost's best error=0.3499\n",
      "[flaml.automl: 03-30 21:50:06] {2567} INFO - iteration 53, current learner catboost\n",
      "[flaml.automl: 03-30 21:50:13] {2744} INFO -  at 75.6s,\testimator catboost's best error=0.3481,\tbest estimator catboost's best error=0.3481\n",
      "[flaml.automl: 03-30 21:50:13] {2567} INFO - iteration 54, current learner catboost\n",
      "[flaml.automl: 03-30 21:50:41] {2744} INFO -  at 104.5s,\testimator catboost's best error=0.3481,\tbest estimator catboost's best error=0.3481\n",
      "[flaml.automl: 03-30 21:50:41] {2567} INFO - iteration 55, current learner rf\n",
      "[flaml.automl: 03-30 21:50:42] {2744} INFO -  at 104.7s,\testimator rf's best error=0.3766,\tbest estimator catboost's best error=0.3481\n",
      "[flaml.automl: 03-30 21:50:42] {2567} INFO - iteration 56, current learner lgbm\n",
      "[flaml.automl: 03-30 21:50:54] {2744} INFO -  at 117.2s,\testimator lgbm's best error=0.3405,\tbest estimator lgbm's best error=0.3405\n",
      "[flaml.automl: 03-30 21:50:54] {2567} INFO - iteration 57, current learner lrl1\n",
      "/home/ec2-user/miniconda3/envs/myflaml/lib/python3.8/site-packages/sklearn/linear_model/_sag.py:328: ConvergenceWarning: The max_iter was reached which means the coef_ did not converge\n",
      "  warnings.warn(\"The max_iter was reached which means \"\n",
      "[flaml.automl: 03-30 21:50:54] {2744} INFO -  at 117.5s,\testimator lrl1's best error=0.4338,\tbest estimator lgbm's best error=0.3405\n",
      "[flaml.automl: 03-30 21:50:54] {2567} INFO - iteration 58, current learner lrl1\n",
      "/home/ec2-user/miniconda3/envs/myflaml/lib/python3.8/site-packages/sklearn/linear_model/_sag.py:328: ConvergenceWarning: The max_iter was reached which means the coef_ did not converge\n",
      "  warnings.warn(\"The max_iter was reached which means \"\n",
      "[flaml.automl: 03-30 21:50:55] {2744} INFO -  at 117.7s,\testimator lrl1's best error=0.4337,\tbest estimator lgbm's best error=0.3405\n",
      "[flaml.automl: 03-30 21:50:55] {2567} INFO - iteration 59, current learner lgbm\n",
      "[flaml.automl: 03-30 21:50:56] {2744} INFO -  at 119.6s,\testimator lgbm's best error=0.3405,\tbest estimator lgbm's best error=0.3405\n",
      "[flaml.automl: 03-30 21:50:56] {2567} INFO - iteration 60, current learner lgbm\n",
      "[flaml.automl: 03-30 21:51:02] {2744} INFO -  at 124.7s,\testimator lgbm's best error=0.3370,\tbest estimator lgbm's best error=0.3370\n",
      "[flaml.automl: 03-30 21:51:02] {2567} INFO - iteration 61, current learner lgbm\n",
      "[flaml.automl: 03-30 21:51:07] {2744} INFO -  at 130.3s,\testimator lgbm's best error=0.3370,\tbest estimator lgbm's best error=0.3370\n",
      "[flaml.automl: 03-30 21:51:07] {2567} INFO - iteration 62, current learner lgbm\n",
      "[flaml.automl: 03-30 21:51:12] {2744} INFO -  at 134.7s,\testimator lgbm's best error=0.3370,\tbest estimator lgbm's best error=0.3370\n",
      "[flaml.automl: 03-30 21:51:12] {2567} INFO - iteration 63, current learner rf\n",
      "[flaml.automl: 03-30 21:51:12] {2744} INFO -  at 135.0s,\testimator rf's best error=0.3755,\tbest estimator lgbm's best error=0.3370\n",
      "[flaml.automl: 03-30 21:51:12] {2567} INFO - iteration 64, current learner lgbm\n",
      "[flaml.automl: 03-30 21:51:18] {2744} INFO -  at 141.5s,\testimator lgbm's best error=0.3318,\tbest estimator lgbm's best error=0.3318\n",
      "[flaml.automl: 03-30 21:51:18] {2567} INFO - iteration 65, current learner rf\n",
      "[flaml.automl: 03-30 21:51:19] {2744} INFO -  at 141.8s,\testimator rf's best error=0.3755,\tbest estimator lgbm's best error=0.3318\n",
      "[flaml.automl: 03-30 21:51:19] {2567} INFO - iteration 66, current learner extra_tree\n",
      "[flaml.automl: 03-30 21:51:20] {2744} INFO -  at 143.4s,\testimator extra_tree's best error=0.3777,\tbest estimator lgbm's best error=0.3318\n",
      "[flaml.automl: 03-30 21:51:20] {2567} INFO - iteration 67, current learner lgbm\n",
      "[flaml.automl: 03-30 21:51:26] {2744} INFO -  at 148.6s,\testimator lgbm's best error=0.3282,\tbest estimator lgbm's best error=0.3282\n",
      "[flaml.automl: 03-30 21:51:26] {2567} INFO - iteration 68, current learner lgbm\n",
      "[flaml.automl: 03-30 21:51:32] {2744} INFO -  at 155.3s,\testimator lgbm's best error=0.3282,\tbest estimator lgbm's best error=0.3282\n",
      "[flaml.automl: 03-30 21:51:32] {2567} INFO - iteration 69, current learner lgbm\n",
      "[flaml.automl: 03-30 21:51:38] {2744} INFO -  at 161.0s,\testimator lgbm's best error=0.3282,\tbest estimator lgbm's best error=0.3282\n",
      "[flaml.automl: 03-30 21:51:38] {2567} INFO - iteration 70, current learner lgbm\n",
      "[flaml.automl: 03-30 21:51:44] {2744} INFO -  at 167.3s,\testimator lgbm's best error=0.3282,\tbest estimator lgbm's best error=0.3282\n",
      "[flaml.automl: 03-30 21:51:44] {2567} INFO - iteration 71, current learner lgbm\n",
      "[flaml.automl: 03-30 21:51:50] {2744} INFO -  at 173.2s,\testimator lgbm's best error=0.3282,\tbest estimator lgbm's best error=0.3282\n",
      "[flaml.automl: 03-30 21:51:50] {2567} INFO - iteration 72, current learner rf\n",
      "[flaml.automl: 03-30 21:51:50] {2744} INFO -  at 173.4s,\testimator rf's best error=0.3755,\tbest estimator lgbm's best error=0.3282\n",
      "[flaml.automl: 03-30 21:51:50] {2567} INFO - iteration 73, current learner xgboost\n",
      "[flaml.automl: 03-30 21:51:51] {2744} INFO -  at 173.6s,\testimator xgboost's best error=0.3594,\tbest estimator lgbm's best error=0.3282\n",
      "[flaml.automl: 03-30 21:51:51] {2567} INFO - iteration 74, current learner lgbm\n",
      "[flaml.automl: 03-30 21:51:56] {2744} INFO -  at 178.7s,\testimator lgbm's best error=0.3282,\tbest estimator lgbm's best error=0.3282\n",
      "[flaml.automl: 03-30 21:51:56] {2567} INFO - iteration 75, current learner xgb_limitdepth\n",
      "[flaml.automl: 03-30 21:52:04] {2744} INFO -  at 186.8s,\testimator xgb_limitdepth's best error=0.3382,\tbest estimator lgbm's best error=0.3282\n",
      "[flaml.automl: 03-30 21:52:04] {2567} INFO - iteration 76, current learner xgb_limitdepth\n",
      "[flaml.automl: 03-30 21:52:06] {2744} INFO -  at 189.6s,\testimator xgb_limitdepth's best error=0.3382,\tbest estimator lgbm's best error=0.3282\n",
      "[flaml.automl: 03-30 21:52:06] {2567} INFO - iteration 77, current learner xgb_limitdepth\n",
      "[flaml.automl: 03-30 21:52:29] {2744} INFO -  at 212.3s,\testimator xgb_limitdepth's best error=0.3382,\tbest estimator lgbm's best error=0.3282\n",
      "[flaml.automl: 03-30 21:52:29] {2567} INFO - iteration 78, current learner lgbm\n",
      "[flaml.automl: 03-30 21:52:33] {2744} INFO -  at 215.8s,\testimator lgbm's best error=0.3282,\tbest estimator lgbm's best error=0.3282\n",
      "[flaml.automl: 03-30 21:52:33] {2567} INFO - iteration 79, current learner lgbm\n",
      "[flaml.automl: 03-30 21:52:43] {2744} INFO -  at 226.1s,\testimator lgbm's best error=0.3282,\tbest estimator lgbm's best error=0.3282\n",
      "[flaml.automl: 03-30 21:52:43] {2567} INFO - iteration 80, current learner xgb_limitdepth\n",
      "[flaml.automl: 03-30 21:52:48] {2744} INFO -  at 230.8s,\testimator xgb_limitdepth's best error=0.3382,\tbest estimator lgbm's best error=0.3282\n",
      "[flaml.automl: 03-30 21:52:48] {2567} INFO - iteration 81, current learner rf\n",
      "[flaml.automl: 03-30 21:52:48] {2744} INFO -  at 231.2s,\testimator rf's best error=0.3746,\tbest estimator lgbm's best error=0.3282\n",
      "[flaml.automl: 03-30 21:52:48] {2567} INFO - iteration 82, current learner lgbm\n",
      "[flaml.automl: 03-30 21:53:12] {2744} INFO -  at 254.6s,\testimator lgbm's best error=0.3282,\tbest estimator lgbm's best error=0.3282\n",
      "[flaml.automl: 03-30 21:53:12] {2567} INFO - iteration 83, current learner xgb_limitdepth\n",
      "[flaml.automl: 03-30 21:53:24] {2744} INFO -  at 266.9s,\testimator xgb_limitdepth's best error=0.3341,\tbest estimator lgbm's best error=0.3282\n",
      "[flaml.automl: 03-30 21:53:24] {2567} INFO - iteration 84, current learner rf\n",
      "[flaml.automl: 03-30 21:53:24] {2744} INFO -  at 267.2s,\testimator rf's best error=0.3746,\tbest estimator lgbm's best error=0.3282\n",
      "[flaml.automl: 03-30 21:53:24] {2567} INFO - iteration 85, current learner extra_tree\n",
      "[flaml.automl: 03-30 21:53:25] {2744} INFO -  at 268.3s,\testimator extra_tree's best error=0.3777,\tbest estimator lgbm's best error=0.3282\n",
      "[flaml.automl: 03-30 21:53:25] {2567} INFO - iteration 86, current learner extra_tree\n",
      "[flaml.automl: 03-30 21:53:27] {2744} INFO -  at 270.4s,\testimator extra_tree's best error=0.3753,\tbest estimator lgbm's best error=0.3282\n",
      "[flaml.automl: 03-30 21:53:27] {2567} INFO - iteration 87, current learner xgb_limitdepth\n",
      "[flaml.automl: 03-30 21:53:39] {2744} INFO -  at 281.8s,\testimator xgb_limitdepth's best error=0.3341,\tbest estimator lgbm's best error=0.3282\n",
      "[flaml.automl: 03-30 21:53:39] {2567} INFO - iteration 88, current learner xgboost\n",
      "[flaml.automl: 03-30 21:53:40] {2744} INFO -  at 282.8s,\testimator xgboost's best error=0.3594,\tbest estimator lgbm's best error=0.3282\n",
      "[flaml.automl: 03-30 21:53:40] {2567} INFO - iteration 89, current learner extra_tree\n",
      "[flaml.automl: 03-30 21:53:42] {2744} INFO -  at 285.0s,\testimator extra_tree's best error=0.3753,\tbest estimator lgbm's best error=0.3282\n",
      "[flaml.automl: 03-30 21:53:42] {2567} INFO - iteration 90, current learner lgbm\n",
      "[flaml.automl: 03-30 21:53:44] {2744} INFO -  at 286.9s,\testimator lgbm's best error=0.3282,\tbest estimator lgbm's best error=0.3282\n",
      "[flaml.automl: 03-30 21:53:44] {2567} INFO - iteration 91, current learner lgbm\n",
      "[flaml.automl: 03-30 21:54:20] {2744} INFO -  at 322.9s,\testimator lgbm's best error=0.3282,\tbest estimator lgbm's best error=0.3282\n",
      "[flaml.automl: 03-30 21:54:20] {2567} INFO - iteration 92, current learner xgb_limitdepth\n",
      "[flaml.automl: 03-30 21:54:29] {2744} INFO -  at 331.6s,\testimator xgb_limitdepth's best error=0.3316,\tbest estimator lgbm's best error=0.3282\n",
      "[flaml.automl: 03-30 21:54:29] {2567} INFO - iteration 93, current learner xgboost\n",
      "[flaml.automl: 03-30 21:54:30] {2744} INFO -  at 332.8s,\testimator xgboost's best error=0.3594,\tbest estimator lgbm's best error=0.3282\n",
      "[flaml.automl: 03-30 21:54:30] {2567} INFO - iteration 94, current learner lrl1\n",
      "/home/ec2-user/miniconda3/envs/myflaml/lib/python3.8/site-packages/sklearn/linear_model/_sag.py:328: ConvergenceWarning: The max_iter was reached which means the coef_ did not converge\n",
      "  warnings.warn(\"The max_iter was reached which means \"\n",
      "[flaml.automl: 03-30 21:54:30] {2744} INFO -  at 333.0s,\testimator lrl1's best error=0.4337,\tbest estimator lgbm's best error=0.3282\n",
      "[flaml.automl: 03-30 21:54:30] {2567} INFO - iteration 95, current learner xgb_limitdepth\n",
      "[flaml.automl: 03-30 21:54:40] {2744} INFO -  at 343.1s,\testimator xgb_limitdepth's best error=0.3316,\tbest estimator lgbm's best error=0.3282\n",
      "[flaml.automl: 03-30 21:54:40] {2567} INFO - iteration 96, current learner extra_tree\n",
      "[flaml.automl: 03-30 21:54:42] {2744} INFO -  at 344.6s,\testimator extra_tree's best error=0.3753,\tbest estimator lgbm's best error=0.3282\n",
      "[flaml.automl: 03-30 21:54:42] {2567} INFO - iteration 97, current learner lgbm\n",
      "[flaml.automl: 03-30 21:54:43] {2744} INFO -  at 346.2s,\testimator lgbm's best error=0.3282,\tbest estimator lgbm's best error=0.3282\n",
      "[flaml.automl: 03-30 21:54:43] {2567} INFO - iteration 98, current learner xgb_limitdepth\n",
      "[flaml.automl: 03-30 21:54:52] {2744} INFO -  at 354.8s,\testimator xgb_limitdepth's best error=0.3316,\tbest estimator lgbm's best error=0.3282\n",
      "[flaml.automl: 03-30 21:54:52] {2567} INFO - iteration 99, current learner rf\n",
      "[flaml.automl: 03-30 21:54:52] {2744} INFO -  at 355.3s,\testimator rf's best error=0.3746,\tbest estimator lgbm's best error=0.3282\n",
      "[flaml.automl: 03-30 21:54:52] {2567} INFO - iteration 100, current learner extra_tree\n",
      "[flaml.automl: 03-30 21:54:56] {2744} INFO -  at 358.8s,\testimator extra_tree's best error=0.3753,\tbest estimator lgbm's best error=0.3282\n",
      "[flaml.automl: 03-30 21:54:56] {2567} INFO - iteration 101, current learner rf\n",
      "[flaml.automl: 03-30 21:54:56] {2744} INFO -  at 359.2s,\testimator rf's best error=0.3746,\tbest estimator lgbm's best error=0.3282\n",
      "[flaml.automl: 03-30 21:54:56] {2567} INFO - iteration 102, current learner lgbm\n",
      "[flaml.automl: 03-30 21:55:02] {2744} INFO -  at 365.5s,\testimator lgbm's best error=0.3282,\tbest estimator lgbm's best error=0.3282\n",
      "[flaml.automl: 03-30 21:55:02] {2567} INFO - iteration 103, current learner xgb_limitdepth\n",
      "[flaml.automl: 03-30 21:55:12] {2744} INFO -  at 375.1s,\testimator xgb_limitdepth's best error=0.3306,\tbest estimator lgbm's best error=0.3282\n",
      "[flaml.automl: 03-30 21:55:12] {2567} INFO - iteration 104, current learner xgboost\n",
      "[flaml.automl: 03-30 21:55:13] {2744} INFO -  at 376.4s,\testimator xgboost's best error=0.3501,\tbest estimator lgbm's best error=0.3282\n",
      "[flaml.automl: 03-30 21:55:13] {2567} INFO - iteration 105, current learner lgbm\n",
      "[flaml.automl: 03-30 21:55:18] {2744} INFO -  at 381.5s,\testimator lgbm's best error=0.3282,\tbest estimator lgbm's best error=0.3282\n",
      "[flaml.automl: 03-30 21:55:18] {2567} INFO - iteration 106, current learner xgboost\n",
      "[flaml.automl: 03-30 21:55:21] {2744} INFO -  at 383.9s,\testimator xgboost's best error=0.3501,\tbest estimator lgbm's best error=0.3282\n",
      "[flaml.automl: 03-30 21:55:21] {2567} INFO - iteration 107, current learner xgboost\n",
      "[flaml.automl: 03-30 21:55:22] {2744} INFO -  at 385.1s,\testimator xgboost's best error=0.3392,\tbest estimator lgbm's best error=0.3282\n",
      "[flaml.automl: 03-30 21:55:22] {2567} INFO - iteration 108, current learner xgboost\n",
      "[flaml.automl: 03-30 21:55:23] {2744} INFO -  at 386.5s,\testimator xgboost's best error=0.3392,\tbest estimator lgbm's best error=0.3282\n",
      "[flaml.automl: 03-30 21:55:23] {2567} INFO - iteration 109, current learner xgboost\n",
      "[flaml.automl: 03-30 21:55:25] {2744} INFO -  at 387.7s,\testimator xgboost's best error=0.3391,\tbest estimator lgbm's best error=0.3282\n",
      "[flaml.automl: 03-30 21:55:25] {2567} INFO - iteration 110, current learner rf\n",
      "[flaml.automl: 03-30 21:55:25] {2744} INFO -  at 388.1s,\testimator rf's best error=0.3746,\tbest estimator lgbm's best error=0.3282\n",
      "[flaml.automl: 03-30 21:55:25] {2567} INFO - iteration 111, current learner xgb_limitdepth\n",
      "[flaml.automl: 03-30 21:55:34] {2744} INFO -  at 397.0s,\testimator xgb_limitdepth's best error=0.3306,\tbest estimator lgbm's best error=0.3282\n",
      "[flaml.automl: 03-30 21:55:34] {2567} INFO - iteration 112, current learner extra_tree\n",
      "[flaml.automl: 03-30 21:55:38] {2744} INFO -  at 400.7s,\testimator extra_tree's best error=0.3711,\tbest estimator lgbm's best error=0.3282\n",
      "[flaml.automl: 03-30 21:55:38] {2567} INFO - iteration 113, current learner lgbm\n",
      "[flaml.automl: 03-30 21:55:43] {2744} INFO -  at 405.9s,\testimator lgbm's best error=0.3274,\tbest estimator lgbm's best error=0.3274\n",
      "[flaml.automl: 03-30 21:55:43] {2567} INFO - iteration 114, current learner xgb_limitdepth\n",
      "[flaml.automl: 03-30 21:55:55] {2744} INFO -  at 417.7s,\testimator xgb_limitdepth's best error=0.3306,\tbest estimator lgbm's best error=0.3274\n",
      "[flaml.automl: 03-30 21:55:55] {2567} INFO - iteration 115, current learner extra_tree\n",
      "[flaml.automl: 03-30 21:55:57] {2744} INFO -  at 419.9s,\testimator extra_tree's best error=0.3711,\tbest estimator lgbm's best error=0.3274\n",
      "[flaml.automl: 03-30 21:55:57] {2567} INFO - iteration 116, current learner lrl1\n",
      "/home/ec2-user/miniconda3/envs/myflaml/lib/python3.8/site-packages/sklearn/linear_model/_sag.py:328: ConvergenceWarning: The max_iter was reached which means the coef_ did not converge\n",
      "  warnings.warn(\"The max_iter was reached which means \"\n",
      "[flaml.automl: 03-30 21:55:58] {2744} INFO -  at 421.0s,\testimator lrl1's best error=0.4334,\tbest estimator lgbm's best error=0.3274\n",
      "[flaml.automl: 03-30 21:55:58] {2567} INFO - iteration 117, current learner lgbm\n",
      "[flaml.automl: 03-30 21:56:03] {2744} INFO -  at 426.5s,\testimator lgbm's best error=0.3274,\tbest estimator lgbm's best error=0.3274\n",
      "[flaml.automl: 03-30 21:56:03] {2567} INFO - iteration 118, current learner lgbm\n",
      "[flaml.automl: 03-30 21:56:07] {2744} INFO -  at 429.6s,\testimator lgbm's best error=0.3274,\tbest estimator lgbm's best error=0.3274\n",
      "[flaml.automl: 03-30 21:56:07] {2567} INFO - iteration 119, current learner xgb_limitdepth\n",
      "[flaml.automl: 03-30 21:56:16] {2744} INFO -  at 439.2s,\testimator xgb_limitdepth's best error=0.3306,\tbest estimator lgbm's best error=0.3274\n",
      "[flaml.automl: 03-30 21:56:16] {2567} INFO - iteration 120, current learner extra_tree\n",
      "[flaml.automl: 03-30 21:56:18] {2744} INFO -  at 440.7s,\testimator extra_tree's best error=0.3711,\tbest estimator lgbm's best error=0.3274\n",
      "[flaml.automl: 03-30 21:56:18] {2567} INFO - iteration 121, current learner lgbm\n",
      "[flaml.automl: 03-30 21:56:33] {2744} INFO -  at 456.2s,\testimator lgbm's best error=0.3268,\tbest estimator lgbm's best error=0.3268\n",
      "[flaml.automl: 03-30 21:56:33] {2567} INFO - iteration 122, current learner lgbm\n",
      "[flaml.automl: 03-30 21:56:40] {2744} INFO -  at 463.3s,\testimator lgbm's best error=0.3268,\tbest estimator lgbm's best error=0.3268\n",
      "[flaml.automl: 03-30 21:56:40] {2567} INFO - iteration 123, current learner lgbm\n",
      "[flaml.automl: 03-30 21:56:58] {2744} INFO -  at 481.3s,\testimator lgbm's best error=0.3250,\tbest estimator lgbm's best error=0.3250\n",
      "[flaml.automl: 03-30 21:56:58] {2567} INFO - iteration 124, current learner extra_tree\n",
      "[flaml.automl: 03-30 21:57:05] {2744} INFO -  at 488.1s,\testimator extra_tree's best error=0.3623,\tbest estimator lgbm's best error=0.3250\n",
      "[flaml.automl: 03-30 21:57:05] {2567} INFO - iteration 125, current learner rf\n",
      "[flaml.automl: 03-30 21:57:05] {2744} INFO -  at 488.5s,\testimator rf's best error=0.3722,\tbest estimator lgbm's best error=0.3250\n",
      "[flaml.automl: 03-30 21:57:05] {2567} INFO - iteration 126, current learner lgbm\n",
      "[flaml.automl: 03-30 21:57:15] {2744} INFO -  at 498.5s,\testimator lgbm's best error=0.3250,\tbest estimator lgbm's best error=0.3250\n",
      "[flaml.automl: 03-30 21:57:15] {2567} INFO - iteration 127, current learner lgbm\n",
      "[flaml.automl: 03-30 21:58:00] {2744} INFO -  at 543.2s,\testimator lgbm's best error=0.3250,\tbest estimator lgbm's best error=0.3250\n",
      "[flaml.automl: 03-30 21:58:00] {2567} INFO - iteration 128, current learner lgbm\n",
      "[flaml.automl: 03-30 21:58:24] {2744} INFO -  at 566.8s,\testimator lgbm's best error=0.3250,\tbest estimator lgbm's best error=0.3250\n",
      "[flaml.automl: 03-30 21:58:24] {2567} INFO - iteration 129, current learner lgbm\n",
      "[flaml.automl: 03-30 21:58:41] {2744} INFO -  at 583.9s,\testimator lgbm's best error=0.3250,\tbest estimator lgbm's best error=0.3250\n",
      "[flaml.automl: 03-30 21:58:41] {2567} INFO - iteration 130, current learner rf\n",
      "[flaml.automl: 03-30 21:58:41] {2744} INFO -  at 584.2s,\testimator rf's best error=0.3722,\tbest estimator lgbm's best error=0.3250\n",
      "[flaml.automl: 03-30 21:58:41] {2567} INFO - iteration 131, current learner extra_tree\n",
      "[flaml.automl: 03-30 21:58:48] {2744} INFO -  at 590.7s,\testimator extra_tree's best error=0.3572,\tbest estimator lgbm's best error=0.3250\n",
      "[flaml.automl: 03-30 21:58:48] {2567} INFO - iteration 132, current learner extra_tree\n",
      "[flaml.automl: 03-30 21:58:54] {2744} INFO -  at 596.8s,\testimator extra_tree's best error=0.3572,\tbest estimator lgbm's best error=0.3250\n",
      "[flaml.automl: 03-30 21:58:54] {2567} INFO - iteration 133, current learner rf\n",
      "[flaml.automl: 03-30 21:58:54] {2744} INFO -  at 597.0s,\testimator rf's best error=0.3722,\tbest estimator lgbm's best error=0.3250\n",
      "[flaml.automl: 03-30 21:58:54] {2567} INFO - iteration 134, current learner rf\n",
      "[flaml.automl: 03-30 21:58:54] {2744} INFO -  at 597.2s,\testimator rf's best error=0.3701,\tbest estimator lgbm's best error=0.3250\n",
      "[flaml.automl: 03-30 21:58:54] {2567} INFO - iteration 135, current learner rf\n",
      "[flaml.automl: 03-30 21:58:54] {2744} INFO -  at 597.3s,\testimator rf's best error=0.3701,\tbest estimator lgbm's best error=0.3250\n",
      "[flaml.automl: 03-30 21:58:54] {2567} INFO - iteration 136, current learner rf\n",
      "[flaml.automl: 03-30 21:58:54] {2744} INFO -  at 597.5s,\testimator rf's best error=0.3701,\tbest estimator lgbm's best error=0.3250\n",
      "[flaml.automl: 03-30 21:58:54] {2567} INFO - iteration 137, current learner rf\n",
      "[flaml.automl: 03-30 21:58:55] {2744} INFO -  at 597.7s,\testimator rf's best error=0.3655,\tbest estimator lgbm's best error=0.3250\n",
      "[flaml.automl: 03-30 21:58:55] {2567} INFO - iteration 138, current learner rf\n",
      "[flaml.automl: 03-30 21:58:55] {2744} INFO -  at 597.8s,\testimator rf's best error=0.3655,\tbest estimator lgbm's best error=0.3250\n",
      "[flaml.automl: 03-30 21:58:55] {2567} INFO - iteration 139, current learner rf\n",
      "[flaml.automl: 03-30 21:58:55] {2744} INFO -  at 598.1s,\testimator rf's best error=0.3641,\tbest estimator lgbm's best error=0.3250\n",
      "[flaml.automl: 03-30 21:58:55] {2567} INFO - iteration 140, current learner rf\n",
      "[flaml.automl: 03-30 21:58:55] {2744} INFO -  at 598.3s,\testimator rf's best error=0.3604,\tbest estimator lgbm's best error=0.3250\n",
      "[flaml.automl: 03-30 21:58:55] {2567} INFO - iteration 141, current learner rf\n",
      "[flaml.automl: 03-30 21:58:55] {2744} INFO -  at 598.5s,\testimator rf's best error=0.3594,\tbest estimator lgbm's best error=0.3250\n",
      "[flaml.automl: 03-30 21:58:55] {2567} INFO - iteration 142, current learner rf\n",
      "[flaml.automl: 03-30 21:58:56] {2744} INFO -  at 598.7s,\testimator rf's best error=0.3594,\tbest estimator lgbm's best error=0.3250\n",
      "[flaml.automl: 03-30 21:58:56] {2567} INFO - iteration 143, current learner rf\n",
      "[flaml.automl: 03-30 21:58:56] {2744} INFO -  at 599.0s,\testimator rf's best error=0.3594,\tbest estimator lgbm's best error=0.3250\n",
      "[flaml.automl: 03-30 21:58:56] {2567} INFO - iteration 144, current learner rf\n",
      "[flaml.automl: 03-30 21:58:56] {2744} INFO -  at 599.1s,\testimator rf's best error=0.3594,\tbest estimator lgbm's best error=0.3250\n",
      "[flaml.automl: 03-30 21:58:56] {2567} INFO - iteration 145, current learner rf\n",
      "[flaml.automl: 03-30 21:58:56] {2744} INFO -  at 599.3s,\testimator rf's best error=0.3594,\tbest estimator lgbm's best error=0.3250\n",
      "[flaml.automl: 03-30 21:58:56] {2567} INFO - iteration 146, current learner rf\n",
      "[flaml.automl: 03-30 21:58:56] {2744} INFO -  at 599.4s,\testimator rf's best error=0.3594,\tbest estimator lgbm's best error=0.3250\n",
      "[flaml.automl: 03-30 21:58:56] {2567} INFO - iteration 147, current learner rf\n",
      "[flaml.automl: 03-30 21:58:56] {2744} INFO -  at 599.5s,\testimator rf's best error=0.3594,\tbest estimator lgbm's best error=0.3250\n",
      "[flaml.automl: 03-30 21:58:56] {2567} INFO - iteration 148, current learner rf\n",
      "[flaml.automl: 03-30 21:58:56] {2744} INFO -  at 599.5s,\testimator rf's best error=0.3594,\tbest estimator lgbm's best error=0.3250\n",
      "[flaml.automl: 03-30 21:58:56] {2567} INFO - iteration 149, current learner rf\n",
      "[flaml.automl: 03-30 21:58:57] {2744} INFO -  at 599.6s,\testimator rf's best error=0.3594,\tbest estimator lgbm's best error=0.3250\n",
      "[flaml.automl: 03-30 21:58:57] {2567} INFO - iteration 150, current learner rf\n",
      "[flaml.automl: 03-30 21:58:57] {2744} INFO -  at 599.7s,\testimator rf's best error=0.3594,\tbest estimator lgbm's best error=0.3250\n",
      "[flaml.automl: 03-30 21:59:13] {2974} INFO - retrain lgbm for 16.9s\n",
      "[flaml.automl: 03-30 21:59:14] {2981} INFO - retrained model: LGBMClassifier(colsample_bytree=0.763983850698587,\n",
      "               learning_rate=0.08749366799403727, max_bin=127,\n",
      "               min_child_samples=128, n_estimators=302, num_leaves=466,\n",
      "               reg_alpha=0.09968008477303378, reg_lambda=23.22741934331899,\n",
      "               verbose=-1)\n",
      "[flaml.automl: 03-30 21:59:14] {2310} INFO - fit succeeded\n",
      "[flaml.automl: 03-30 21:59:14] {2311} INFO - Time taken to find the best model: 481.2624523639679\n",
      "[flaml.automl: 03-30 21:59:14] {2322} WARNING - Time taken to find the best model is 80% of the provided time budget and not all estimators' hyperparameter search converged. Consider increasing the time budget.\n"
     ]
    }
   ],
   "source": [
    "'''The main flaml automl API'''\n",
    "automl.fit(X_train=X_train, y_train=y_train, **settings)"
   ]
  },
  {
   "cell_type": "markdown",
   "metadata": {
    "slideshow": {
     "slide_type": "slide"
    }
   },
   "source": [
    "### Best model and metric"
   ]
  },
  {
   "cell_type": "code",
   "execution_count": null,
   "metadata": {
    "slideshow": {
     "slide_type": "slide"
    },
    "tags": []
   },
   "outputs": [],
   "source": [
    "'''retrieve best config and best learner'''\n",
    "print('Best ML leaner:', automl.best_estimator)\n",
    "print('Best hyperparmeter config:', automl.best_config)\n",
    "print('Best accuracy on validation data: {0:.4g}'.format(1-automl.best_loss))\n",
    "print('Training duration of best run: {0:.4g} s'.format(automl.best_config_train_time))"
   ]
  },
  {
   "cell_type": "code",
   "execution_count": 6,
   "metadata": {
    "slideshow": {
     "slide_type": "slide"
    }
   },
   "outputs": [
    {
     "data": {
      "text/plain": [
       "LGBMClassifier(colsample_bytree=0.763983850698587,\n",
       "               learning_rate=0.08749366799403727, max_bin=127,\n",
       "               min_child_samples=128, n_estimators=302, num_leaves=466,\n",
       "               reg_alpha=0.09968008477303378, reg_lambda=23.22741934331899,\n",
       "               verbose=-1)"
      ]
     },
     "execution_count": 6,
     "metadata": {},
     "output_type": "execute_result"
    }
   ],
   "source": [
    "automl.model.estimator"
   ]
  },
  {
   "cell_type": "code",
   "execution_count": 7,
   "metadata": {
    "slideshow": {
     "slide_type": "slide"
    }
   },
   "outputs": [],
   "source": [
    "'''pickle and save the automl object'''\n",
    "import pickle\n",
    "with open('automl.pkl', 'wb') as f:\n",
    "    pickle.dump(automl, f, pickle.HIGHEST_PROTOCOL)\n",
    "'''load pickled automl object'''\n",
    "with open('automl.pkl', 'rb') as f:\n",
    "    automl = pickle.load(f)"
   ]
  },
  {
   "cell_type": "code",
   "execution_count": 8,
   "metadata": {
    "slideshow": {
     "slide_type": "slide"
    },
    "tags": []
   },
   "outputs": [
    {
     "name": "stdout",
     "output_type": "stream",
     "text": [
      "Predicted labels ['1' '0' '1' ... '1' '0' '0']\n",
      "True labels 118331    0\n",
      "328182    0\n",
      "335454    0\n",
      "520591    1\n",
      "344651    0\n",
      "         ..\n",
      "367080    0\n",
      "203510    1\n",
      "254894    0\n",
      "296512    1\n",
      "362444    0\n",
      "Name: Delay, Length: 134846, dtype: category\n",
      "Categories (2, object): ['0' < '1']\n"
     ]
    }
   ],
   "source": [
    "'''compute predictions of testing dataset''' \n",
    "y_pred = automl.predict(X_test)\n",
    "print('Predicted labels', y_pred)\n",
    "print('True labels', y_test)\n",
    "y_pred_proba = automl.predict_proba(X_test)[:,1]"
   ]
  },
  {
   "cell_type": "code",
   "execution_count": null,
   "metadata": {
    "slideshow": {
     "slide_type": "slide"
    },
    "tags": []
   },
   "outputs": [],
   "source": [
    "''' compute different metric values on testing dataset'''\n",
    "from flaml.ml import sklearn_metric_loss_score\n",
    "print('accuracy', '=', 1 - sklearn_metric_loss_score('accuracy', y_pred, y_test))\n",
    "print('roc_auc', '=', 1 - sklearn_metric_loss_score('roc_auc', y_pred_proba, y_test))\n",
    "print('log_loss', '=', sklearn_metric_loss_score('log_loss', y_pred_proba, y_test))"
   ]
  },
  {
   "cell_type": "markdown",
   "metadata": {
    "slideshow": {
     "slide_type": "slide"
    }
   },
   "source": [
    "See Section 4 for an accuracy comparison with default LightGBM and XGBoost.\n",
    "\n",
    "### Log history"
   ]
  },
  {
   "cell_type": "code",
   "execution_count": 10,
   "metadata": {
    "slideshow": {
     "slide_type": "subslide"
    },
    "tags": []
   },
   "outputs": [
    {
     "name": "stdout",
     "output_type": "stream",
     "text": [
      "{'Current Learner': 'lgbm', 'Current Sample': 10000, 'Current Hyper-parameters': {'n_estimators': 4, 'num_leaves': 4, 'min_child_samples': 20, 'learning_rate': 0.09999999999999995, 'log_max_bin': 8, 'colsample_bytree': 1.0, 'reg_alpha': 0.0009765625, 'reg_lambda': 1.0, 'FLAML_sample_size': 10000}, 'Best Learner': 'lgbm', 'Best Hyper-parameters': {'n_estimators': 4, 'num_leaves': 4, 'min_child_samples': 20, 'learning_rate': 0.09999999999999995, 'log_max_bin': 8, 'colsample_bytree': 1.0, 'reg_alpha': 0.0009765625, 'reg_lambda': 1.0, 'FLAML_sample_size': 10000}}\n",
      "{'Current Learner': 'lgbm', 'Current Sample': 10000, 'Current Hyper-parameters': {'n_estimators': 26, 'num_leaves': 4, 'min_child_samples': 18, 'learning_rate': 0.2293009676418639, 'log_max_bin': 9, 'colsample_bytree': 0.9086551727646448, 'reg_alpha': 0.0015561782752413472, 'reg_lambda': 0.33127416269768944, 'FLAML_sample_size': 10000}, 'Best Learner': 'lgbm', 'Best Hyper-parameters': {'n_estimators': 26, 'num_leaves': 4, 'min_child_samples': 18, 'learning_rate': 0.2293009676418639, 'log_max_bin': 9, 'colsample_bytree': 0.9086551727646448, 'reg_alpha': 0.0015561782752413472, 'reg_lambda': 0.33127416269768944, 'FLAML_sample_size': 10000}}\n",
      "{'Current Learner': 'xgboost', 'Current Sample': 10000, 'Current Hyper-parameters': {'n_estimators': 28, 'max_leaves': 4, 'min_child_weight': 0.7500252416342552, 'learning_rate': 0.23798984382572066, 'subsample': 1.0, 'colsample_bylevel': 0.9045613143846261, 'colsample_bytree': 1.0, 'reg_alpha': 0.0009765625, 'reg_lambda': 0.48864254576029176, 'FLAML_sample_size': 10000}, 'Best Learner': 'xgboost', 'Best Hyper-parameters': {'n_estimators': 28, 'max_leaves': 4, 'min_child_weight': 0.7500252416342552, 'learning_rate': 0.23798984382572066, 'subsample': 1.0, 'colsample_bylevel': 0.9045613143846261, 'colsample_bytree': 1.0, 'reg_alpha': 0.0009765625, 'reg_lambda': 0.48864254576029176, 'FLAML_sample_size': 10000}}\n",
      "{'Current Learner': 'xgboost', 'Current Sample': 10000, 'Current Hyper-parameters': {'n_estimators': 129, 'max_leaves': 4, 'min_child_weight': 1.2498964566809219, 'learning_rate': 0.3574837022388901, 'subsample': 0.9773266280674643, 'colsample_bylevel': 0.9705283362807284, 'colsample_bytree': 0.8561269216168275, 'reg_alpha': 0.0021694711024901254, 'reg_lambda': 4.620219690690227, 'FLAML_sample_size': 10000}, 'Best Learner': 'xgboost', 'Best Hyper-parameters': {'n_estimators': 129, 'max_leaves': 4, 'min_child_weight': 1.2498964566809219, 'learning_rate': 0.3574837022388901, 'subsample': 0.9773266280674643, 'colsample_bylevel': 0.9705283362807284, 'colsample_bytree': 0.8561269216168275, 'reg_alpha': 0.0021694711024901254, 'reg_lambda': 4.620219690690227, 'FLAML_sample_size': 10000}}\n",
      "{'Current Learner': 'xgboost', 'Current Sample': 10000, 'Current Hyper-parameters': {'n_estimators': 28, 'max_leaves': 5, 'min_child_weight': 0.7500252416342552, 'learning_rate': 0.23798984382572066, 'subsample': 1.0, 'colsample_bylevel': 0.9045613143846261, 'colsample_bytree': 1.0, 'reg_alpha': 0.0009765625, 'reg_lambda': 0.48864254576029176, 'FLAML_sample_size': 10000}, 'Best Learner': 'xgboost', 'Best Hyper-parameters': {'n_estimators': 28, 'max_leaves': 5, 'min_child_weight': 0.7500252416342552, 'learning_rate': 0.23798984382572066, 'subsample': 1.0, 'colsample_bylevel': 0.9045613143846261, 'colsample_bytree': 1.0, 'reg_alpha': 0.0009765625, 'reg_lambda': 0.48864254576029176, 'FLAML_sample_size': 10000}}\n",
      "{'Current Learner': 'lgbm', 'Current Sample': 40000, 'Current Hyper-parameters': {'n_estimators': 55, 'num_leaves': 4, 'min_child_samples': 20, 'learning_rate': 0.43653962213332903, 'log_max_bin': 10, 'colsample_bytree': 0.8048558760626646, 'reg_alpha': 0.0009765625, 'reg_lambda': 0.23010605579846408, 'FLAML_sample_size': 40000}, 'Best Learner': 'lgbm', 'Best Hyper-parameters': {'n_estimators': 55, 'num_leaves': 4, 'min_child_samples': 20, 'learning_rate': 0.43653962213332903, 'log_max_bin': 10, 'colsample_bytree': 0.8048558760626646, 'reg_alpha': 0.0009765625, 'reg_lambda': 0.23010605579846408, 'FLAML_sample_size': 40000}}\n",
      "{'Current Learner': 'lgbm', 'Current Sample': 40000, 'Current Hyper-parameters': {'n_estimators': 90, 'num_leaves': 18, 'min_child_samples': 34, 'learning_rate': 0.35726266205297247, 'log_max_bin': 10, 'colsample_bytree': 0.9295656128173544, 'reg_alpha': 0.0009765625, 'reg_lambda': 0.1981463604305675, 'FLAML_sample_size': 40000}, 'Best Learner': 'lgbm', 'Best Hyper-parameters': {'n_estimators': 90, 'num_leaves': 18, 'min_child_samples': 34, 'learning_rate': 0.35726266205297247, 'log_max_bin': 10, 'colsample_bytree': 0.9295656128173544, 'reg_alpha': 0.0009765625, 'reg_lambda': 0.1981463604305675, 'FLAML_sample_size': 40000}}\n",
      "{'Current Learner': 'lgbm', 'Current Sample': 40000, 'Current Hyper-parameters': {'n_estimators': 56, 'num_leaves': 7, 'min_child_samples': 92, 'learning_rate': 0.23536463281405448, 'log_max_bin': 10, 'colsample_bytree': 0.9898009552962395, 'reg_alpha': 0.0009765625, 'reg_lambda': 0.14329426172643311, 'FLAML_sample_size': 40000}, 'Best Learner': 'lgbm', 'Best Hyper-parameters': {'n_estimators': 56, 'num_leaves': 7, 'min_child_samples': 92, 'learning_rate': 0.23536463281405448, 'log_max_bin': 10, 'colsample_bytree': 0.9898009552962395, 'reg_alpha': 0.0009765625, 'reg_lambda': 0.14329426172643311, 'FLAML_sample_size': 40000}}\n",
      "{'Current Learner': 'lgbm', 'Current Sample': 364083, 'Current Hyper-parameters': {'n_estimators': 56, 'num_leaves': 7, 'min_child_samples': 92, 'learning_rate': 0.23536463281405448, 'log_max_bin': 10, 'colsample_bytree': 0.9898009552962395, 'reg_alpha': 0.0009765625, 'reg_lambda': 0.14329426172643311, 'FLAML_sample_size': 364083}, 'Best Learner': 'lgbm', 'Best Hyper-parameters': {'n_estimators': 56, 'num_leaves': 7, 'min_child_samples': 92, 'learning_rate': 0.23536463281405448, 'log_max_bin': 10, 'colsample_bytree': 0.9898009552962395, 'reg_alpha': 0.0009765625, 'reg_lambda': 0.14329426172643311, 'FLAML_sample_size': 364083}}\n",
      "{'Current Learner': 'xgb', 'Current Sample': 40000, 'Current Hyper-parameters': {'n_estimators': 46, 'max_depth': 6, 'min_child_weight': 1.6664725229213329, 'learning_rate': 0.45062893839370016, 'subsample': 0.9773266280674643, 'colsample_bylevel': 1.0, 'colsample_bytree': 0.8561269216168275, 'reg_alpha': 0.0021694711024901254, 'reg_lambda': 9.455213695118394, 'FLAML_sample_size': 40000}, 'Best Learner': 'xgb', 'Best Hyper-parameters': {'n_estimators': 46, 'max_depth': 6, 'min_child_weight': 1.6664725229213329, 'learning_rate': 0.45062893839370016, 'subsample': 0.9773266280674643, 'colsample_bylevel': 1.0, 'colsample_bytree': 0.8561269216168275, 'reg_alpha': 0.0021694711024901254, 'reg_lambda': 9.455213695118394, 'FLAML_sample_size': 40000}}\n",
      "{'Current Learner': 'catboost', 'Current Sample': 40000, 'Current Hyper-parameters': {'early_stopping_rounds': 10, 'learning_rate': 0.09999999999999996, 'n_estimators': 99, 'FLAML_sample_size': 40000}, 'Best Learner': 'catboost', 'Best Hyper-parameters': {'early_stopping_rounds': 10, 'learning_rate': 0.09999999999999996, 'n_estimators': 99, 'FLAML_sample_size': 40000}}\n",
      "{'Current Learner': 'catboost', 'Current Sample': 40000, 'Current Hyper-parameters': {'early_stopping_rounds': 10, 'learning_rate': 0.2, 'n_estimators': 52, 'FLAML_sample_size': 40000}, 'Best Learner': 'catboost', 'Best Hyper-parameters': {'early_stopping_rounds': 10, 'learning_rate': 0.2, 'n_estimators': 52, 'FLAML_sample_size': 40000}}\n",
      "{'Current Learner': 'lgbm', 'Current Sample': 364083, 'Current Hyper-parameters': {'n_estimators': 179, 'num_leaves': 27, 'min_child_samples': 75, 'learning_rate': 0.09744966359309036, 'log_max_bin': 10, 'colsample_bytree': 1.0, 'reg_alpha': 0.002826104794043855, 'reg_lambda': 0.1457318237156161, 'FLAML_sample_size': 364083}, 'Best Learner': 'lgbm', 'Best Hyper-parameters': {'n_estimators': 179, 'num_leaves': 27, 'min_child_samples': 75, 'learning_rate': 0.09744966359309036, 'log_max_bin': 10, 'colsample_bytree': 1.0, 'reg_alpha': 0.002826104794043855, 'reg_lambda': 0.1457318237156161, 'FLAML_sample_size': 364083}}\n",
      "{'Current Learner': 'lgbm', 'Current Sample': 364083, 'Current Hyper-parameters': {'n_estimators': 180, 'num_leaves': 31, 'min_child_samples': 112, 'learning_rate': 0.14172261747380896, 'log_max_bin': 8, 'colsample_bytree': 0.9882716197099741, 'reg_alpha': 0.004676080321450302, 'reg_lambda': 2.704862827036818, 'FLAML_sample_size': 364083}, 'Best Learner': 'lgbm', 'Best Hyper-parameters': {'n_estimators': 180, 'num_leaves': 31, 'min_child_samples': 112, 'learning_rate': 0.14172261747380896, 'log_max_bin': 8, 'colsample_bytree': 0.9882716197099741, 'reg_alpha': 0.004676080321450302, 'reg_lambda': 2.704862827036818, 'FLAML_sample_size': 364083}}\n",
      "{'Current Learner': 'lgbm', 'Current Sample': 364083, 'Current Hyper-parameters': {'n_estimators': 284, 'num_leaves': 24, 'min_child_samples': 57, 'learning_rate': 0.34506374431782694, 'log_max_bin': 8, 'colsample_bytree': 0.9661606582789269, 'reg_alpha': 0.05708594148438563, 'reg_lambda': 3.0806435484123478, 'FLAML_sample_size': 364083}, 'Best Learner': 'lgbm', 'Best Hyper-parameters': {'n_estimators': 284, 'num_leaves': 24, 'min_child_samples': 57, 'learning_rate': 0.34506374431782694, 'log_max_bin': 8, 'colsample_bytree': 0.9661606582789269, 'reg_alpha': 0.05708594148438563, 'reg_lambda': 3.0806435484123478, 'FLAML_sample_size': 364083}}\n",
      "{'Current Learner': 'lgbm', 'Current Sample': 364083, 'Current Hyper-parameters': {'n_estimators': 150, 'num_leaves': 176, 'min_child_samples': 62, 'learning_rate': 0.2607939951456869, 'log_max_bin': 8, 'colsample_bytree': 1.0, 'reg_alpha': 0.015973158305354472, 'reg_lambda': 1.1581244082992255, 'FLAML_sample_size': 364083}, 'Best Learner': 'lgbm', 'Best Hyper-parameters': {'n_estimators': 150, 'num_leaves': 176, 'min_child_samples': 62, 'learning_rate': 0.2607939951456869, 'log_max_bin': 8, 'colsample_bytree': 1.0, 'reg_alpha': 0.015973158305354472, 'reg_lambda': 1.1581244082992255, 'FLAML_sample_size': 364083}}\n"
     ]
    }
   ],
   "source": [
    "from flaml.data import get_output_from_log\n",
    "time_history, best_valid_loss_history, valid_loss_history, config_history, metric_history = \\\n",
    "    get_output_from_log(filename=settings['log_file_name'], time_budget=240)\n",
    "for config in config_history:\n",
    "    print(config)"
   ]
  },
  {
   "cell_type": "code",
   "execution_count": 11,
   "metadata": {
    "slideshow": {
     "slide_type": "slide"
    }
   },
   "outputs": [
    {
     "data": {
      "image/png": "[encoded data removed]",
      "text/plain": [
       "<Figure size 432x288 with 1 Axes>"
      ]
     },
     "metadata": {
      "needs_background": "light"
     },
     "output_type": "display_data"
    }
   ],
   "source": [
    "import matplotlib.pyplot as plt\n",
    "import numpy as np\n",
    "\n",
    "plt.title('Learning Curve')\n",
    "plt.xlabel('Wall Clock Time (s)')\n",
    "plt.ylabel('Validation Accuracy')\n",
    "plt.scatter(time_history, 1 - np.array(valid_loss_history))\n",
    "plt.step(time_history, 1 - np.array(best_valid_loss_history), where='post')\n",
    "plt.show()"
   ]
  },
  {
   "cell_type": "markdown",
   "metadata": {},
   "source": [
    "## 3. Comparison with alternatives\n"
   ]
  },
  {
   "cell_type": "markdown",
   "metadata": {},
   "source": [
    "### Default LightGBM"
   ]
  },
  {
   "cell_type": "code",
   "execution_count": 12,
   "metadata": {},
   "outputs": [],
   "source": [
    "from lightgbm import LGBMClassifier\n",
    "lgbm = LGBMClassifier()"
   ]
  },
  {
   "cell_type": "code",
   "execution_count": null,
   "metadata": {},
   "outputs": [],
   "source": [
    "lgbm.fit(X_train, y_train)"
   ]
  },
  {
   "cell_type": "code",
   "execution_count": 14,
   "metadata": {},
   "outputs": [],
   "source": [
    "y_pred_lgbm = lgbm.predict(X_test)"
   ]
  },
  {
   "cell_type": "markdown",
   "metadata": {},
   "source": [
    "### Default XGBoost"
   ]
  },
  {
   "cell_type": "code",
   "execution_count": 15,
   "metadata": {},
   "outputs": [],
   "source": [
    "from xgboost import XGBClassifier\n",
    "xgb = XGBClassifier()\n",
    "cat_columns = X_train.select_dtypes(include=['category']).columns\n",
    "X = X_train.copy()\n",
    "X[cat_columns] = X[cat_columns].apply(lambda x: x.cat.codes)\n",
    "y_train_xgb = y_train.astype(\"int\")"
   ]
  },
  {
   "cell_type": "code",
   "execution_count": null,
   "metadata": {},
   "outputs": [],
   "source": [
    "xgb.fit(X, y_train_xgb)"
   ]
  },
  {
   "cell_type": "code",
   "execution_count": 17,
   "metadata": {},
   "outputs": [],
   "source": [
    "X = X_test.copy()\n",
    "X[cat_columns] = X[cat_columns].apply(lambda x: x.cat.codes)\n",
    "y_pred_xgb = xgb.predict(X)\n",
    "y_test_xgb = y_test.astype(\"int\")\n"
   ]
  },
  {
   "cell_type": "code",
   "execution_count": 18,
   "metadata": {},
   "outputs": [
    {
     "name": "stdout",
     "output_type": "stream",
     "text": [
      "default xgboost accuracy = 0.6676060098186078\n",
      "default lgbm accuracy = 0.6602346380315323\n",
      "flaml (10 min) accuracy = 0.6732939797991784\n"
     ]
    }
   ],
   "source": [
    "print('default xgboost accuracy', '=', 1 - sklearn_metric_loss_score('accuracy', y_pred_xgb, y_test_xgb))\n",
    "print('default lgbm accuracy', '=', 1 - sklearn_metric_loss_score('accuracy', y_pred_lgbm, y_test))\n",
    "print('flaml (10 min) accuracy', '=', 1 - sklearn_metric_loss_score('accuracy', y_pred, y_test))"
   ]
  },
  {
   "cell_type": "markdown",
   "metadata": {
    "slideshow": {
     "slide_type": "slide"
    }
   },
   "source": [
    "## 4. Customized Learner"
   ]
  },
  {
   "cell_type": "markdown",
   "metadata": {
    "slideshow": {
     "slide_type": "slide"
    }
   },
   "source": [
    "Some experienced automl users may have a preferred model to tune or may already have a reasonably by-hand-tuned model before launching the automl experiment. They need to select optimal configurations for the customized model mixed with standard built-in learners. \n",
    "\n",
    "FLAML can easily incorporate customized/new learners (preferably with sklearn API) provided by users in a real-time manner, as demonstrated below."
   ]
  },
  {
   "cell_type": "markdown",
   "metadata": {
    "slideshow": {
     "slide_type": "slide"
    }
   },
   "source": [
    "### Example of Regularized Greedy Forest\n",
    "\n",
    "[Regularized Greedy Forest](https://arxiv.org/abs/1109.0887) (RGF) is a machine learning method currently not included in FLAML. The RGF has many tuning parameters, the most critical of which are: `[max_leaf, n_iter, n_tree_search, opt_interval, min_samples_leaf]`. To run a customized/new learner, the user needs to provide the following information:\n",
    "* an implementation of the customized/new learner\n",
    "* a list of hyperparameter names and types\n",
    "* rough ranges of hyperparameters (i.e., upper/lower bounds)\n",
    "* choose initial value corresponding to low cost for cost-related hyperparameters (e.g., initial value for max_leaf and n_iter should be small)\n",
    "\n",
    "In this example, the above information for RGF is wrapped in a python class called *MyRegularizedGreedyForest* that exposes the hyperparameters."
   ]
  },
  {
   "cell_type": "code",
   "execution_count": null,
   "metadata": {},
   "outputs": [],
   "source": [
    "%pip install rgf-python"
   ]
  },
  {
   "cell_type": "code",
   "execution_count": 19,
   "metadata": {
    "slideshow": {
     "slide_type": "slide"
    }
   },
   "outputs": [],
   "source": [
    "''' SKLearnEstimator is the super class for a sklearn learner '''\n",
    "from flaml.model import SKLearnEstimator\n",
    "from flaml import tune\n",
    "from flaml.data import CLASSIFICATION\n",
    "\n",
    "\n",
    "class MyRegularizedGreedyForest(SKLearnEstimator):\n",
    "    def __init__(self, task='binary', **config):\n",
    "        '''Constructor\n",
    "        \n",
    "        Args:\n",
    "            task: A string of the task type, one of\n",
    "                'binary', 'multiclass', 'regression'\n",
    "            config: A dictionary containing the hyperparameter names\n",
    "                and 'n_jobs' as keys. n_jobs is the number of parallel threads.\n",
    "        '''\n",
    "\n",
    "        super().__init__(task, **config)\n",
    "\n",
    "        '''task=binary or multi for classification task'''\n",
    "        if task in CLASSIFICATION:\n",
    "            from rgf.sklearn import RGFClassifier\n",
    "\n",
    "            self.estimator_class = RGFClassifier\n",
    "        else:\n",
    "            from rgf.sklearn import RGFRegressor\n",
    "            \n",
    "            self.estimator_class = RGFRegressor\n",
    "\n",
    "    @classmethod\n",
    "    def search_space(cls, data_size, task):\n",
    "        '''[required method] search space\n",
    "\n",
    "        Returns:\n",
    "            A dictionary of the search space. \n",
    "            Each key is the name of a hyperparameter, and value is a dict with\n",
    "                its domain (required) and low_cost_init_value, init_value,\n",
    "                cat_hp_cost (if applicable).\n",
    "                e.g.,\n",
    "                {'domain': tune.randint(lower=1, upper=10), 'init_value': 1}.\n",
    "        '''\n",
    "        space = {        \n",
    "            'max_leaf': {'domain': tune.lograndint(lower=4, upper=data_size[0]), 'init_value': 4, 'low_cost_init_value': 4},\n",
    "            'n_iter': {'domain': tune.lograndint(lower=1, upper=data_size[0]), 'init_value': 1, 'low_cost_init_value': 1},\n",
    "            'n_tree_search': {'domain': tune.lograndint(lower=1, upper=32768), 'init_value': 1, 'low_cost_init_value': 1},\n",
    "            'opt_interval': {'domain': tune.lograndint(lower=1, upper=10000), 'init_value': 100},\n",
    "            'learning_rate': {'domain': tune.loguniform(lower=0.01, upper=20.0)},\n",
    "            'min_samples_leaf': {'domain': tune.lograndint(lower=1, upper=20), 'init_value': 20},\n",
    "        }\n",
    "        return space\n",
    "\n",
    "    @classmethod\n",
    "    def size(cls, config):\n",
    "        '''[optional method] memory size of the estimator in bytes\n",
    "        \n",
    "        Args:\n",
    "            config - the dict of the hyperparameter config\n",
    "\n",
    "        Returns:\n",
    "            A float of the memory size required by the estimator to train the\n",
    "            given config\n",
    "        '''\n",
    "        max_leaves = int(round(config['max_leaf']))\n",
    "        n_estimators = int(round(config['n_iter']))\n",
    "        return (max_leaves * 3 + (max_leaves - 1) * 4 + 1.0) * n_estimators * 8\n",
    "\n",
    "    @classmethod\n",
    "    def cost_relative2lgbm(cls):\n",
    "        '''[optional method] relative cost compared to lightgbm\n",
    "        '''\n",
    "        return 1.0\n"
   ]
  },
  {
   "cell_type": "markdown",
   "metadata": {
    "slideshow": {
     "slide_type": "slide"
    }
   },
   "source": [
    "### Add Customized Learner and Run FLAML AutoML\n",
    "\n",
    "After adding RGF into the list of learners, we run automl by tuning hyperpameters of RGF as well as the default learners. "
   ]
  },
  {
   "cell_type": "code",
   "execution_count": 20,
   "metadata": {
    "slideshow": {
     "slide_type": "slide"
    }
   },
   "outputs": [],
   "source": [
    "automl = AutoML()\n",
    "automl.add_learner(learner_name='RGF', learner_class=MyRegularizedGreedyForest)"
   ]
  },
  {
   "cell_type": "code",
   "execution_count": 21,
   "metadata": {
    "slideshow": {
     "slide_type": "slide"
    },
    "tags": []
   },
   "outputs": [
    {
     "name": "stderr",
     "output_type": "stream",
     "text": [
      "[flaml.automl: 03-30 22:00:01] {2105} INFO - task = classification\n",
      "[flaml.automl: 03-30 22:00:02] {2107} INFO - Data split method: stratified\n",
      "[flaml.automl: 03-30 22:00:02] {2111} INFO - Evaluation method: holdout\n",
      "[flaml.automl: 03-30 22:00:02] {2188} INFO - Minimizing error metric: 1-accuracy\n",
      "[flaml.automl: 03-30 22:00:02] {2281} INFO - List of ML learners in AutoML Run: ['RGF', 'lgbm', 'rf', 'xgboost']\n",
      "[flaml.automl: 03-30 22:00:02] {2567} INFO - iteration 0, current learner RGF\n",
      "[flaml.automl: 03-30 22:00:02] {2697} INFO - Estimated sufficient time budget=255753s. Estimated necessary time budget=256s.\n",
      "[flaml.automl: 03-30 22:00:02] {2744} INFO -  at 1.3s,\testimator RGF's best error=0.3787,\tbest estimator RGF's best error=0.3787\n",
      "[flaml.automl: 03-30 22:00:02] {2567} INFO - iteration 1, current learner RGF\n",
      "[flaml.automl: 03-30 22:00:03] {2744} INFO -  at 1.9s,\testimator RGF's best error=0.3787,\tbest estimator RGF's best error=0.3787\n",
      "[flaml.automl: 03-30 22:00:03] {2567} INFO - iteration 2, current learner RGF\n",
      "[flaml.automl: 03-30 22:00:04] {2744} INFO -  at 2.6s,\testimator RGF's best error=0.3787,\tbest estimator RGF's best error=0.3787\n",
      "[flaml.automl: 03-30 22:00:04] {2567} INFO - iteration 3, current learner lgbm\n",
      "[flaml.automl: 03-30 22:00:04] {2744} INFO -  at 2.7s,\testimator lgbm's best error=0.3777,\tbest estimator lgbm's best error=0.3777\n",
      "[flaml.automl: 03-30 22:00:04] {2567} INFO - iteration 4, current learner RGF\n",
      "[flaml.automl: 03-30 22:00:04] {2744} INFO -  at 3.2s,\testimator RGF's best error=0.3787,\tbest estimator lgbm's best error=0.3777\n",
      "[flaml.automl: 03-30 22:00:04] {2567} INFO - iteration 5, current learner lgbm\n",
      "[flaml.automl: 03-30 22:00:04] {2744} INFO -  at 3.3s,\testimator lgbm's best error=0.3777,\tbest estimator lgbm's best error=0.3777\n",
      "[flaml.automl: 03-30 22:00:04] {2567} INFO - iteration 6, current learner lgbm\n",
      "[flaml.automl: 03-30 22:00:05] {2744} INFO -  at 3.4s,\testimator lgbm's best error=0.3777,\tbest estimator lgbm's best error=0.3777\n",
      "[flaml.automl: 03-30 22:00:05] {2567} INFO - iteration 7, current learner lgbm\n",
      "[flaml.automl: 03-30 22:00:05] {2744} INFO -  at 3.4s,\testimator lgbm's best error=0.3661,\tbest estimator lgbm's best error=0.3661\n",
      "[flaml.automl: 03-30 22:00:05] {2567} INFO - iteration 8, current learner lgbm\n",
      "[flaml.automl: 03-30 22:00:05] {2744} INFO -  at 3.5s,\testimator lgbm's best error=0.3633,\tbest estimator lgbm's best error=0.3633\n",
      "[flaml.automl: 03-30 22:00:05] {2567} INFO - iteration 9, current learner lgbm\n",
      "[flaml.automl: 03-30 22:00:05] {2744} INFO -  at 3.6s,\testimator lgbm's best error=0.3633,\tbest estimator lgbm's best error=0.3633\n",
      "[flaml.automl: 03-30 22:00:05] {2567} INFO - iteration 10, current learner lgbm\n",
      "[flaml.automl: 03-30 22:00:05] {2744} INFO -  at 3.7s,\testimator lgbm's best error=0.3633,\tbest estimator lgbm's best error=0.3633\n",
      "[flaml.automl: 03-30 22:00:05] {2567} INFO - iteration 11, current learner lgbm\n",
      "[flaml.automl: 03-30 22:00:05] {2744} INFO -  at 3.8s,\testimator lgbm's best error=0.3613,\tbest estimator lgbm's best error=0.3613\n",
      "[flaml.automl: 03-30 22:00:05] {2567} INFO - iteration 12, current learner lgbm\n",
      "[flaml.automl: 03-30 22:00:05] {2744} INFO -  at 3.9s,\testimator lgbm's best error=0.3613,\tbest estimator lgbm's best error=0.3613\n",
      "[flaml.automl: 03-30 22:00:05] {2567} INFO - iteration 13, current learner lgbm\n",
      "[flaml.automl: 03-30 22:00:05] {2744} INFO -  at 4.1s,\testimator lgbm's best error=0.3613,\tbest estimator lgbm's best error=0.3613\n",
      "[flaml.automl: 03-30 22:00:05] {2567} INFO - iteration 14, current learner lgbm\n",
      "[flaml.automl: 03-30 22:00:05] {2744} INFO -  at 4.2s,\testimator lgbm's best error=0.3613,\tbest estimator lgbm's best error=0.3613\n",
      "[flaml.automl: 03-30 22:00:05] {2567} INFO - iteration 15, current learner lgbm\n",
      "[flaml.automl: 03-30 22:00:05] {2744} INFO -  at 4.3s,\testimator lgbm's best error=0.3613,\tbest estimator lgbm's best error=0.3613\n",
      "[flaml.automl: 03-30 22:00:05] {2567} INFO - iteration 16, current learner RGF\n",
      "[flaml.automl: 03-30 22:00:06] {2744} INFO -  at 4.9s,\testimator RGF's best error=0.3787,\tbest estimator lgbm's best error=0.3613\n",
      "[flaml.automl: 03-30 22:00:06] {2567} INFO - iteration 17, current learner lgbm\n",
      "[flaml.automl: 03-30 22:00:06] {2744} INFO -  at 5.0s,\testimator lgbm's best error=0.3613,\tbest estimator lgbm's best error=0.3613\n",
      "[flaml.automl: 03-30 22:00:06] {2567} INFO - iteration 18, current learner lgbm\n",
      "[flaml.automl: 03-30 22:00:06] {2744} INFO -  at 5.1s,\testimator lgbm's best error=0.3613,\tbest estimator lgbm's best error=0.3613\n",
      "[flaml.automl: 03-30 22:00:06] {2567} INFO - iteration 19, current learner lgbm\n",
      "[flaml.automl: 03-30 22:00:07] {2744} INFO -  at 5.5s,\testimator lgbm's best error=0.3600,\tbest estimator lgbm's best error=0.3600\n",
      "[flaml.automl: 03-30 22:00:07] {2567} INFO - iteration 20, current learner RGF\n",
      "[flaml.automl: 03-30 22:00:07] {2744} INFO -  at 6.1s,\testimator RGF's best error=0.3669,\tbest estimator lgbm's best error=0.3600\n",
      "[flaml.automl: 03-30 22:00:07] {2567} INFO - iteration 21, current learner RGF\n",
      "[flaml.automl: 03-30 22:00:08] {2744} INFO -  at 6.7s,\testimator RGF's best error=0.3669,\tbest estimator lgbm's best error=0.3600\n",
      "[flaml.automl: 03-30 22:00:08] {2567} INFO - iteration 22, current learner lgbm\n",
      "[flaml.automl: 03-30 22:00:08] {2744} INFO -  at 6.9s,\testimator lgbm's best error=0.3544,\tbest estimator lgbm's best error=0.3544\n",
      "[flaml.automl: 03-30 22:00:08] {2567} INFO - iteration 23, current learner lgbm\n",
      "[flaml.automl: 03-30 22:00:08] {2744} INFO -  at 7.1s,\testimator lgbm's best error=0.3544,\tbest estimator lgbm's best error=0.3544\n",
      "[flaml.automl: 03-30 22:00:08] {2567} INFO - iteration 24, current learner lgbm\n",
      "[flaml.automl: 03-30 22:00:08] {2744} INFO -  at 7.2s,\testimator lgbm's best error=0.3544,\tbest estimator lgbm's best error=0.3544\n",
      "[flaml.automl: 03-30 22:00:08] {2567} INFO - iteration 25, current learner lgbm\n",
      "[flaml.automl: 03-30 22:00:09] {2744} INFO -  at 7.4s,\testimator lgbm's best error=0.3544,\tbest estimator lgbm's best error=0.3544\n",
      "[flaml.automl: 03-30 22:00:09] {2567} INFO - iteration 26, current learner lgbm\n",
      "[flaml.automl: 03-30 22:00:09] {2744} INFO -  at 7.5s,\testimator lgbm's best error=0.3544,\tbest estimator lgbm's best error=0.3544\n",
      "[flaml.automl: 03-30 22:00:09] {2567} INFO - iteration 27, current learner lgbm\n",
      "[flaml.automl: 03-30 22:00:09] {2744} INFO -  at 7.6s,\testimator lgbm's best error=0.3544,\tbest estimator lgbm's best error=0.3544\n",
      "[flaml.automl: 03-30 22:00:09] {2567} INFO - iteration 28, current learner RGF\n",
      "[flaml.automl: 03-30 22:00:09] {2744} INFO -  at 8.2s,\testimator RGF's best error=0.3669,\tbest estimator lgbm's best error=0.3544\n",
      "[flaml.automl: 03-30 22:00:09] {2567} INFO - iteration 29, current learner RGF\n",
      "[flaml.automl: 03-30 22:00:10] {2744} INFO -  at 9.3s,\testimator RGF's best error=0.3642,\tbest estimator lgbm's best error=0.3544\n",
      "[flaml.automl: 03-30 22:00:10] {2567} INFO - iteration 30, current learner lgbm\n",
      "[flaml.automl: 03-30 22:00:11] {2744} INFO -  at 9.4s,\testimator lgbm's best error=0.3544,\tbest estimator lgbm's best error=0.3544\n",
      "[flaml.automl: 03-30 22:00:11] {2567} INFO - iteration 31, current learner lgbm\n",
      "[flaml.automl: 03-30 22:00:11] {2744} INFO -  at 10.0s,\testimator lgbm's best error=0.3544,\tbest estimator lgbm's best error=0.3544\n",
      "[flaml.automl: 03-30 22:00:11] {2567} INFO - iteration 32, current learner xgboost\n",
      "[flaml.automl: 03-30 22:00:11] {2744} INFO -  at 10.0s,\testimator xgboost's best error=0.3787,\tbest estimator lgbm's best error=0.3544\n",
      "[flaml.automl: 03-30 22:00:13] {2974} INFO - retrain lgbm for 1.8s\n",
      "[flaml.automl: 03-30 22:00:13] {2981} INFO - retrained model: LGBMClassifier(colsample_bytree=0.8485873378520249,\n",
      "               learning_rate=0.6205212209154768, max_bin=1023,\n",
      "               min_child_samples=6, n_estimators=46, num_leaves=16,\n",
      "               reg_alpha=0.0009765625, reg_lambda=0.0033009704647149916,\n",
      "               verbose=-1)\n",
      "[flaml.automl: 03-30 22:00:13] {2310} INFO - fit succeeded\n",
      "[flaml.automl: 03-30 22:00:13] {2311} INFO - Time taken to find the best model: 6.87259840965271\n"
     ]
    }
   ],
   "source": [
    "settings = {\n",
    "    \"time_budget\": 10,  # total running time in seconds\n",
    "    \"metric\": 'accuracy', \n",
    "    \"estimator_list\": ['RGF', 'lgbm', 'rf', 'xgboost'],  # list of ML learners\n",
    "    \"task\": 'classification',  # task type    \n",
    "    \"log_file_name\": 'airlines_experiment_custom_learner.log',  # flaml log file \n",
    "    \"log_training_metric\": True,  # whether to log training metric\n",
    "}\n",
    "\n",
    "automl.fit(X_train=X_train, y_train=y_train, **settings)"
   ]
  },
  {
   "cell_type": "markdown",
   "metadata": {},
   "source": [
    "## 5. Customized Metric\n",
    "\n",
    "It's also easy to customize the optimization metric. As an example, we demonstrate with a custom metric function which combines training loss and validation loss as the final loss to minimize."
   ]
  },
  {
   "cell_type": "code",
   "execution_count": 22,
   "metadata": {},
   "outputs": [],
   "source": [
    "def custom_metric(X_val, y_val, estimator, labels, X_train, y_train,\n",
    "                  weight_val=None, weight_train=None, config=None,\n",
    "                  groups_val=None, groups_train=None):\n",
    "    from sklearn.metrics import log_loss\n",
    "    import time\n",
    "    start = time.time()\n",
    "    y_pred = estimator.predict_proba(X_val)\n",
    "    pred_time = (time.time() - start) / len(X_val)\n",
    "    val_loss = log_loss(y_val, y_pred, labels=labels,\n",
    "                         sample_weight=weight_val)\n",
    "    y_pred = estimator.predict_proba(X_train)\n",
    "    train_loss = log_loss(y_train, y_pred, labels=labels,\n",
    "                          sample_weight=weight_train)\n",
    "    alpha = 0.5\n",
    "    return val_loss * (1 + alpha) - alpha * train_loss, {\n",
    "        \"val_loss\": val_loss, \"train_loss\": train_loss, \"pred_time\": pred_time\n",
    "    }\n",
    "    # two elements are returned:\n",
    "    # the first element is the metric to minimize as a float number,\n",
    "    # the second element is a dictionary of the metrics to log"
   ]
  },
  {
   "cell_type": "markdown",
   "metadata": {},
   "source": [
    "We can then pass this custom metric function to automl's `fit` method."
   ]
  },
  {
   "cell_type": "code",
   "execution_count": 23,
   "metadata": {},
   "outputs": [
    {
     "name": "stderr",
     "output_type": "stream",
     "text": [
      "[flaml.automl: 03-30 22:00:14] {2105} INFO - task = classification\n",
      "[flaml.automl: 03-30 22:00:14] {2107} INFO - Data split method: stratified\n",
      "[flaml.automl: 03-30 22:00:14] {2111} INFO - Evaluation method: holdout\n",
      "[flaml.automl: 03-30 22:00:14] {2188} INFO - Minimizing error metric: customized metric\n",
      "[flaml.automl: 03-30 22:00:14] {2281} INFO - List of ML learners in AutoML Run: ['lgbm', 'rf', 'catboost', 'xgboost', 'extra_tree', 'xgb_limitdepth', 'lrl1']\n",
      "[flaml.automl: 03-30 22:00:14] {2567} INFO - iteration 0, current learner lgbm\n",
      "[flaml.automl: 03-30 22:00:14] {2697} INFO - Estimated sufficient time budget=48059s. Estimated necessary time budget=1180s.\n",
      "[flaml.automl: 03-30 22:00:14] {2744} INFO -  at 0.8s,\testimator lgbm's best error=0.6796,\tbest estimator lgbm's best error=0.6796\n",
      "[flaml.automl: 03-30 22:00:14] {2567} INFO - iteration 1, current learner lgbm\n",
      "[flaml.automl: 03-30 22:00:14] {2744} INFO -  at 0.9s,\testimator lgbm's best error=0.6796,\tbest estimator lgbm's best error=0.6796\n",
      "[flaml.automl: 03-30 22:00:14] {2567} INFO - iteration 2, current learner lgbm\n",
      "[flaml.automl: 03-30 22:00:14] {2744} INFO -  at 0.9s,\testimator lgbm's best error=0.6491,\tbest estimator lgbm's best error=0.6491\n",
      "[flaml.automl: 03-30 22:00:14] {2567} INFO - iteration 3, current learner lgbm\n",
      "[flaml.automl: 03-30 22:00:14] {2744} INFO -  at 1.0s,\testimator lgbm's best error=0.6423,\tbest estimator lgbm's best error=0.6423\n",
      "[flaml.automl: 03-30 22:00:14] {2567} INFO - iteration 4, current learner lgbm\n",
      "[flaml.automl: 03-30 22:00:14] {2744} INFO -  at 1.1s,\testimator lgbm's best error=0.6423,\tbest estimator lgbm's best error=0.6423\n",
      "[flaml.automl: 03-30 22:00:14] {2567} INFO - iteration 5, current learner lgbm\n",
      "[flaml.automl: 03-30 22:00:14] {2744} INFO -  at 1.2s,\testimator lgbm's best error=0.6423,\tbest estimator lgbm's best error=0.6423\n",
      "[flaml.automl: 03-30 22:00:14] {2567} INFO - iteration 6, current learner lgbm\n",
      "[flaml.automl: 03-30 22:00:15] {2744} INFO -  at 1.3s,\testimator lgbm's best error=0.6400,\tbest estimator lgbm's best error=0.6400\n",
      "[flaml.automl: 03-30 22:00:15] {2567} INFO - iteration 7, current learner xgboost\n",
      "[flaml.automl: 03-30 22:00:15] {2744} INFO -  at 1.3s,\testimator xgboost's best error=0.6672,\tbest estimator lgbm's best error=0.6400\n",
      "[flaml.automl: 03-30 22:00:15] {2567} INFO - iteration 8, current learner lgbm\n",
      "[flaml.automl: 03-30 22:00:15] {2744} INFO -  at 1.4s,\testimator lgbm's best error=0.6400,\tbest estimator lgbm's best error=0.6400\n",
      "[flaml.automl: 03-30 22:00:15] {2567} INFO - iteration 9, current learner xgboost\n",
      "[flaml.automl: 03-30 22:00:15] {2744} INFO -  at 1.5s,\testimator xgboost's best error=0.6672,\tbest estimator lgbm's best error=0.6400\n",
      "[flaml.automl: 03-30 22:00:15] {2567} INFO - iteration 10, current learner xgboost\n",
      "[flaml.automl: 03-30 22:00:15] {2744} INFO -  at 1.5s,\testimator xgboost's best error=0.6500,\tbest estimator lgbm's best error=0.6400\n",
      "[flaml.automl: 03-30 22:00:15] {2567} INFO - iteration 11, current learner xgboost\n",
      "[flaml.automl: 03-30 22:00:15] {2744} INFO -  at 1.6s,\testimator xgboost's best error=0.6413,\tbest estimator lgbm's best error=0.6400\n",
      "[flaml.automl: 03-30 22:00:15] {2567} INFO - iteration 12, current learner xgboost\n",
      "[flaml.automl: 03-30 22:00:15] {2744} INFO -  at 1.6s,\testimator xgboost's best error=0.6413,\tbest estimator lgbm's best error=0.6400\n",
      "[flaml.automl: 03-30 22:00:15] {2567} INFO - iteration 13, current learner xgboost\n",
      "[flaml.automl: 03-30 22:00:15] {2744} INFO -  at 1.7s,\testimator xgboost's best error=0.6413,\tbest estimator lgbm's best error=0.6400\n",
      "[flaml.automl: 03-30 22:00:15] {2567} INFO - iteration 14, current learner lgbm\n",
      "[flaml.automl: 03-30 22:00:15] {2744} INFO -  at 1.8s,\testimator lgbm's best error=0.6400,\tbest estimator lgbm's best error=0.6400\n",
      "[flaml.automl: 03-30 22:00:15] {2567} INFO - iteration 15, current learner xgboost\n",
      "[flaml.automl: 03-30 22:00:15] {2744} INFO -  at 1.9s,\testimator xgboost's best error=0.6413,\tbest estimator lgbm's best error=0.6400\n",
      "[flaml.automl: 03-30 22:00:15] {2567} INFO - iteration 16, current learner lgbm\n",
      "[flaml.automl: 03-30 22:00:15] {2744} INFO -  at 2.0s,\testimator lgbm's best error=0.6400,\tbest estimator lgbm's best error=0.6400\n",
      "[flaml.automl: 03-30 22:00:15] {2567} INFO - iteration 17, current learner xgboost\n",
      "[flaml.automl: 03-30 22:00:15] {2744} INFO -  at 2.0s,\testimator xgboost's best error=0.6413,\tbest estimator lgbm's best error=0.6400\n",
      "[flaml.automl: 03-30 22:00:15] {2567} INFO - iteration 18, current learner lgbm\n",
      "[flaml.automl: 03-30 22:00:16] {2744} INFO -  at 2.3s,\testimator lgbm's best error=0.6400,\tbest estimator lgbm's best error=0.6400\n",
      "[flaml.automl: 03-30 22:00:16] {2567} INFO - iteration 19, current learner xgboost\n",
      "[flaml.automl: 03-30 22:00:16] {2744} INFO -  at 2.4s,\testimator xgboost's best error=0.6393,\tbest estimator xgboost's best error=0.6393\n",
      "[flaml.automl: 03-30 22:00:16] {2567} INFO - iteration 20, current learner extra_tree\n",
      "[flaml.automl: 03-30 22:00:16] {2744} INFO -  at 2.4s,\testimator extra_tree's best error=0.6734,\tbest estimator xgboost's best error=0.6393\n",
      "[flaml.automl: 03-30 22:00:16] {2567} INFO - iteration 21, current learner xgboost\n",
      "[flaml.automl: 03-30 22:00:16] {2744} INFO -  at 2.6s,\testimator xgboost's best error=0.6342,\tbest estimator xgboost's best error=0.6342\n",
      "[flaml.automl: 03-30 22:00:16] {2567} INFO - iteration 22, current learner xgboost\n",
      "[flaml.automl: 03-30 22:00:16] {2744} INFO -  at 2.7s,\testimator xgboost's best error=0.6342,\tbest estimator xgboost's best error=0.6342\n",
      "[flaml.automl: 03-30 22:00:16] {2567} INFO - iteration 23, current learner extra_tree\n",
      "[flaml.automl: 03-30 22:00:16] {2744} INFO -  at 2.7s,\testimator extra_tree's best error=0.6617,\tbest estimator xgboost's best error=0.6342\n",
      "[flaml.automl: 03-30 22:00:16] {2567} INFO - iteration 24, current learner extra_tree\n",
      "[flaml.automl: 03-30 22:00:16] {2744} INFO -  at 2.8s,\testimator extra_tree's best error=0.6617,\tbest estimator xgboost's best error=0.6342\n",
      "[flaml.automl: 03-30 22:00:16] {2567} INFO - iteration 25, current learner xgboost\n",
      "[flaml.automl: 03-30 22:00:16] {2744} INFO -  at 2.9s,\testimator xgboost's best error=0.6342,\tbest estimator xgboost's best error=0.6342\n",
      "[flaml.automl: 03-30 22:00:16] {2567} INFO - iteration 26, current learner xgboost\n",
      "[flaml.automl: 03-30 22:00:16] {2744} INFO -  at 3.1s,\testimator xgboost's best error=0.6308,\tbest estimator xgboost's best error=0.6308\n",
      "[flaml.automl: 03-30 22:00:16] {2567} INFO - iteration 27, current learner rf\n",
      "[flaml.automl: 03-30 22:00:16] {2744} INFO -  at 3.1s,\testimator rf's best error=0.6531,\tbest estimator xgboost's best error=0.6308\n",
      "[flaml.automl: 03-30 22:00:16] {2567} INFO - iteration 28, current learner xgboost\n",
      "[flaml.automl: 03-30 22:00:17] {2744} INFO -  at 3.3s,\testimator xgboost's best error=0.6308,\tbest estimator xgboost's best error=0.6308\n",
      "[flaml.automl: 03-30 22:00:17] {2567} INFO - iteration 29, current learner xgboost\n",
      "[flaml.automl: 03-30 22:00:17] {2744} INFO -  at 3.5s,\testimator xgboost's best error=0.6308,\tbest estimator xgboost's best error=0.6308\n",
      "[flaml.automl: 03-30 22:00:17] {2567} INFO - iteration 30, current learner rf\n",
      "[flaml.automl: 03-30 22:00:17] {2744} INFO -  at 3.6s,\testimator rf's best error=0.6471,\tbest estimator xgboost's best error=0.6308\n",
      "[flaml.automl: 03-30 22:00:17] {2567} INFO - iteration 31, current learner rf\n",
      "[flaml.automl: 03-30 22:00:17] {2744} INFO -  at 3.6s,\testimator rf's best error=0.6471,\tbest estimator xgboost's best error=0.6308\n",
      "[flaml.automl: 03-30 22:00:17] {2567} INFO - iteration 32, current learner rf\n",
      "[flaml.automl: 03-30 22:00:17] {2744} INFO -  at 3.8s,\testimator rf's best error=0.6471,\tbest estimator xgboost's best error=0.6308\n",
      "[flaml.automl: 03-30 22:00:17] {2567} INFO - iteration 33, current learner extra_tree\n",
      "[flaml.automl: 03-30 22:00:17] {2744} INFO -  at 3.9s,\testimator extra_tree's best error=0.6617,\tbest estimator xgboost's best error=0.6308\n",
      "[flaml.automl: 03-30 22:00:17] {2567} INFO - iteration 34, current learner rf\n",
      "[flaml.automl: 03-30 22:00:17] {2744} INFO -  at 4.0s,\testimator rf's best error=0.6460,\tbest estimator xgboost's best error=0.6308\n",
      "[flaml.automl: 03-30 22:00:17] {2567} INFO - iteration 35, current learner xgboost\n",
      "[flaml.automl: 03-30 22:00:17] {2744} INFO -  at 4.1s,\testimator xgboost's best error=0.6308,\tbest estimator xgboost's best error=0.6308\n",
      "[flaml.automl: 03-30 22:00:17] {2567} INFO - iteration 36, current learner extra_tree\n",
      "[flaml.automl: 03-30 22:00:17] {2744} INFO -  at 4.2s,\testimator extra_tree's best error=0.6527,\tbest estimator xgboost's best error=0.6308\n",
      "[flaml.automl: 03-30 22:00:17] {2567} INFO - iteration 37, current learner xgboost\n",
      "[flaml.automl: 03-30 22:00:18] {2744} INFO -  at 4.3s,\testimator xgboost's best error=0.6308,\tbest estimator xgboost's best error=0.6308\n",
      "[flaml.automl: 03-30 22:00:18] {2567} INFO - iteration 38, current learner xgboost\n",
      "[flaml.automl: 03-30 22:00:18] {2744} INFO -  at 5.1s,\testimator xgboost's best error=0.6252,\tbest estimator xgboost's best error=0.6252\n",
      "[flaml.automl: 03-30 22:00:18] {2567} INFO - iteration 39, current learner xgboost\n",
      "[flaml.automl: 03-30 22:00:19] {2744} INFO -  at 5.6s,\testimator xgboost's best error=0.6252,\tbest estimator xgboost's best error=0.6252\n",
      "[flaml.automl: 03-30 22:00:19] {2567} INFO - iteration 40, current learner extra_tree\n",
      "[flaml.automl: 03-30 22:00:19] {2744} INFO -  at 5.7s,\testimator extra_tree's best error=0.6527,\tbest estimator xgboost's best error=0.6252\n",
      "[flaml.automl: 03-30 22:00:19] {2567} INFO - iteration 41, current learner extra_tree\n",
      "[flaml.automl: 03-30 22:00:19] {2744} INFO -  at 5.8s,\testimator extra_tree's best error=0.6527,\tbest estimator xgboost's best error=0.6252\n",
      "[flaml.automl: 03-30 22:00:19] {2567} INFO - iteration 42, current learner lgbm\n",
      "[flaml.automl: 03-30 22:00:19] {2744} INFO -  at 6.0s,\testimator lgbm's best error=0.6335,\tbest estimator xgboost's best error=0.6252\n",
      "[flaml.automl: 03-30 22:00:19] {2567} INFO - iteration 43, current learner xgboost\n",
      "[flaml.automl: 03-30 22:00:21] {2744} INFO -  at 7.7s,\testimator xgboost's best error=0.6237,\tbest estimator xgboost's best error=0.6237\n",
      "[flaml.automl: 03-30 22:00:21] {2567} INFO - iteration 44, current learner extra_tree\n",
      "[flaml.automl: 03-30 22:00:21] {2744} INFO -  at 7.9s,\testimator extra_tree's best error=0.6527,\tbest estimator xgboost's best error=0.6237\n",
      "[flaml.automl: 03-30 22:00:21] {2567} INFO - iteration 45, current learner xgboost\n",
      "[flaml.automl: 03-30 22:00:22] {2744} INFO -  at 8.6s,\testimator xgboost's best error=0.6237,\tbest estimator xgboost's best error=0.6237\n",
      "[flaml.automl: 03-30 22:00:22] {2567} INFO - iteration 46, current learner lgbm\n",
      "[flaml.automl: 03-30 22:00:22] {2744} INFO -  at 8.7s,\testimator lgbm's best error=0.6335,\tbest estimator xgboost's best error=0.6237\n",
      "[flaml.automl: 03-30 22:00:22] {2567} INFO - iteration 47, current learner catboost\n",
      "[flaml.automl: 03-30 22:00:22] {2744} INFO -  at 8.8s,\testimator catboost's best error=0.6828,\tbest estimator xgboost's best error=0.6237\n",
      "[flaml.automl: 03-30 22:00:22] {2567} INFO - iteration 48, current learner catboost\n",
      "[flaml.automl: 03-30 22:00:22] {2744} INFO -  at 8.9s,\testimator catboost's best error=0.6828,\tbest estimator xgboost's best error=0.6237\n",
      "[flaml.automl: 03-30 22:00:22] {2567} INFO - iteration 49, current learner catboost\n",
      "[flaml.automl: 03-30 22:00:22] {2744} INFO -  at 9.0s,\testimator catboost's best error=0.6738,\tbest estimator xgboost's best error=0.6237\n",
      "[flaml.automl: 03-30 22:00:22] {2567} INFO - iteration 50, current learner catboost\n",
      "[flaml.automl: 03-30 22:00:22] {2744} INFO -  at 9.1s,\testimator catboost's best error=0.6738,\tbest estimator xgboost's best error=0.6237\n",
      "[flaml.automl: 03-30 22:00:22] {2567} INFO - iteration 51, current learner extra_tree\n",
      "[flaml.automl: 03-30 22:00:22] {2744} INFO -  at 9.2s,\testimator extra_tree's best error=0.6527,\tbest estimator xgboost's best error=0.6237\n",
      "[flaml.automl: 03-30 22:00:22] {2567} INFO - iteration 52, current learner lgbm\n",
      "[flaml.automl: 03-30 22:00:23] {2744} INFO -  at 9.3s,\testimator lgbm's best error=0.6335,\tbest estimator xgboost's best error=0.6237\n",
      "[flaml.automl: 03-30 22:00:23] {2567} INFO - iteration 53, current learner lgbm\n",
      "[flaml.automl: 03-30 22:00:23] {2744} INFO -  at 9.5s,\testimator lgbm's best error=0.6335,\tbest estimator xgboost's best error=0.6237\n",
      "[flaml.automl: 03-30 22:00:23] {2567} INFO - iteration 54, current learner lgbm\n",
      "[flaml.automl: 03-30 22:00:23] {2744} INFO -  at 10.1s,\testimator lgbm's best error=0.6335,\tbest estimator xgboost's best error=0.6237\n",
      "[flaml.automl: 03-30 22:00:32] {2974} INFO - retrain xgboost for 8.8s\n",
      "[flaml.automl: 03-30 22:00:32] {2981} INFO - retrained model: XGBClassifier(base_score=0.5, booster='gbtree',\n",
      "              colsample_bylevel=0.847756342161632, colsample_bynode=1,\n",
      "              colsample_bytree=0.7597930580523548, gamma=0, gpu_id=-1,\n",
      "              grow_policy='lossguide', importance_type='gain',\n",
      "              interaction_constraints='', learning_rate=0.19997653978110663,\n",
      "              max_delta_step=0, max_depth=0, max_leaves=39,\n",
      "              min_child_weight=10.070493332676804, missing=nan,\n",
      "              monotone_constraints='()', n_estimators=13, n_jobs=-1,\n",
      "              num_parallel_tree=1, random_state=0,\n",
      "              reg_alpha=0.02609403888821573, reg_lambda=0.19745601532140325,\n",
      "              scale_pos_weight=1, subsample=0.8895588746662894,\n",
      "              tree_method='hist', use_label_encoder=False,\n",
      "              validate_parameters=1, verbosity=0)\n",
      "[flaml.automl: 03-30 22:00:32] {2310} INFO - fit succeeded\n",
      "[flaml.automl: 03-30 22:00:32] {2311} INFO - Time taken to find the best model: 7.734541177749634\n",
      "[flaml.automl: 03-30 22:00:32] {2322} WARNING - Time taken to find the best model is 77% of the provided time budget and not all estimators' hyperparameter search converged. Consider increasing the time budget.\n"
     ]
    }
   ],
   "source": [
    "automl = AutoML()\n",
    "settings = {\n",
    "    \"time_budget\": 10,  # total running time in seconds\n",
    "    \"metric\": custom_metric,  # pass the custom metric funtion here\n",
    "    \"task\": 'classification',  # task type\n",
    "    \"log_file_name\": 'airlines_experiment_custom_metric.log',  # flaml log file\n",
    "}\n",
    "\n",
    "automl.fit(X_train=X_train, y_train=y_train, **settings)"
   ]
  }
 ],
 "metadata": {
  "kernelspec": {
   "display_name": "Python 3.9.15 64-bit",
   "language": "python",
   "name": "python3"
  },
  "language_info": {
   "codemirror_mode": {
    "name": "ipython",
    "version": 3
   },
   "file_extension": ".py",
   "mimetype": "text/x-python",
   "name": "python",
   "nbconvert_exporter": "python",
   "pygments_lexer": "ipython3",
   "version": "3.9.16 (main, Dec  8 2022, 02:40:11) \n[GCC 10.2.1 20210110]"
  },
  "vscode": {
   "interpreter": {
    "hash": "949777d72b0d2535278d3dc13498b2535136f6dfe0678499012e853ee9abcab1"
   }
  }
 },
 "nbformat": 4,
 "nbformat_minor": 2
}
