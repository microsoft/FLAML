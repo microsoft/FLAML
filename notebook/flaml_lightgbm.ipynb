{
 "cells": [
  {
   "cell_type": "markdown",
   "metadata": {
    "slideshow": {
     "slide_type": "slide"
    }
   },
   "source": [
    "Copyright (c) 2020-2021 Microsoft Corporation. All rights reserved. \n",
    "\n",
    "Licensed under the MIT License.\n",
    "\n",
    "# Demo of AutoML with FLAML Library\n",
    "\n",
    "\n",
    "## 1. Introduction\n",
    "\n",
    "FLAML is a Python library (https://github.com/microsoft/FLAML) designed to automatically produce accurate machine learning models \n",
    "with low computational cost. It is fast and cheap. The simple and lightweight design makes it easy \n",
    "to use and extend, such as adding new learners. FLAML can \n",
    "- serve as an economical AutoML engine,\n",
    "- be used as a fast hyperparameter tuning tool, or \n",
    "- be embedded in self-tuning software that requires low latency & resource in repetitive\n",
    "   tuning tasks.\n",
    "\n",
    "In this notebook, we demonstrate how to ues FLAML library to tune hyperparameters of LightGBM with a regression example.\n",
    "\n",
    "FLAML requires `Python>=3.6`. To run this notebook example, please install flaml with the `notebook` option:\n",
    "```bash\n",
    "pip install flaml[notebook]\n",
    "```"
   ]
  },
  {
   "cell_type": "code",
   "execution_count": 1,
   "metadata": {},
   "outputs": [
    {
     "output_type": "stream",
     "name": "stdout",
     "text": [
      "Requirement already satisfied: flaml[notebook] in c:\\users\\chiw\\miniconda3\\envs\\flaml\\lib\\site-packages (0.2.3)\n",
      "Requirement already satisfied: xgboost>=0.90 in c:\\users\\chiw\\miniconda3\\envs\\flaml\\lib\\site-packages (from flaml[notebook]) (1.3.3)\n",
      "Requirement already satisfied: NumPy>=1.16.2 in c:\\users\\chiw\\miniconda3\\envs\\flaml\\lib\\site-packages (from flaml[notebook]) (1.18.4)\n",
      "Requirement already satisfied: optuna==2.3.0 in c:\\users\\chiw\\miniconda3\\envs\\flaml\\lib\\site-packages (from flaml[notebook]) (2.3.0)\n",
      "Requirement already satisfied: scipy>=1.4.1 in c:\\users\\chiw\\miniconda3\\envs\\flaml\\lib\\site-packages (from flaml[notebook]) (1.4.1)\n",
      "Requirement already satisfied: scikit-learn>=0.23.2 in c:\\users\\chiw\\miniconda3\\envs\\flaml\\lib\\site-packages (from flaml[notebook]) (0.23.2)\n",
      "Requirement already satisfied: catboost>=0.23 in c:\\users\\chiw\\miniconda3\\envs\\flaml\\lib\\site-packages (from flaml[notebook]) (0.23.2)\n",
      "Requirement already satisfied: lightgbm>=2.3.1 in c:\\users\\chiw\\miniconda3\\envs\\flaml\\lib\\site-packages (from flaml[notebook]) (2.3.1)\n",
      "Requirement already satisfied: matplotlib==3.2.0; extra == \"notebook\" in c:\\users\\chiw\\appdata\\roaming\\python\\python37\\site-packages (from flaml[notebook]) (3.2.0)\n",
      "Requirement already satisfied: jupyter; extra == \"notebook\" in c:\\users\\chiw\\miniconda3\\envs\\flaml\\lib\\site-packages (from flaml[notebook]) (1.0.0)\n",
      "Requirement already satisfied: openml==0.10.2; extra == \"notebook\" in c:\\users\\chiw\\miniconda3\\envs\\flaml\\lib\\site-packages (from flaml[notebook]) (0.10.2)\n",
      "Requirement already satisfied: rgf-python; extra == \"notebook\" in c:\\users\\chiw\\appdata\\roaming\\python\\python37\\site-packages (from flaml[notebook]) (3.9.0)\n",
      "Requirement already satisfied: sqlalchemy>=1.1.0 in c:\\users\\chiw\\miniconda3\\envs\\flaml\\lib\\site-packages (from optuna==2.3.0->flaml[notebook]) (1.3.20)\n",
      "Requirement already satisfied: colorlog in c:\\users\\chiw\\miniconda3\\envs\\flaml\\lib\\site-packages (from optuna==2.3.0->flaml[notebook]) (4.6.2)\n",
      "Requirement already satisfied: cmaes>=0.6.0 in c:\\users\\chiw\\miniconda3\\envs\\flaml\\lib\\site-packages (from optuna==2.3.0->flaml[notebook]) (0.7.0)\n",
      "Requirement already satisfied: packaging>=20.0 in c:\\users\\chiw\\miniconda3\\envs\\flaml\\lib\\site-packages (from optuna==2.3.0->flaml[notebook]) (20.4)\n",
      "Requirement already satisfied: cliff in c:\\users\\chiw\\miniconda3\\envs\\flaml\\lib\\site-packages (from optuna==2.3.0->flaml[notebook]) (3.5.0)\n",
      "Requirement already satisfied: alembic in c:\\users\\chiw\\miniconda3\\envs\\flaml\\lib\\site-packages (from optuna==2.3.0->flaml[notebook]) (1.4.1)\n",
      "Requirement already satisfied: tqdm in c:\\users\\chiw\\miniconda3\\envs\\flaml\\lib\\site-packages (from optuna==2.3.0->flaml[notebook]) (4.56.1)\n",
      "Requirement already satisfied: joblib in c:\\users\\chiw\\miniconda3\\envs\\flaml\\lib\\site-packages (from optuna==2.3.0->flaml[notebook]) (0.14.1)\n",
      "Requirement already satisfied: threadpoolctl>=2.0.0 in c:\\users\\chiw\\miniconda3\\envs\\flaml\\lib\\site-packages (from scikit-learn>=0.23.2->flaml[notebook]) (2.0.0)\n",
      "Requirement already satisfied: pandas>=0.24.0 in c:\\users\\chiw\\miniconda3\\envs\\flaml\\lib\\site-packages (from catboost>=0.23->flaml[notebook]) (0.24.2)\n",
      "Requirement already satisfied: plotly in c:\\users\\chiw\\miniconda3\\envs\\flaml\\lib\\site-packages (from catboost>=0.23->flaml[notebook]) (4.9.0)\n",
      "Requirement already satisfied: graphviz in c:\\users\\chiw\\miniconda3\\envs\\flaml\\lib\\site-packages (from catboost>=0.23->flaml[notebook]) (0.14.1)\n",
      "Requirement already satisfied: six in c:\\users\\chiw\\appdata\\roaming\\python\\python37\\site-packages (from catboost>=0.23->flaml[notebook]) (1.14.0)\n",
      "Requirement already satisfied: python-dateutil>=2.1 in c:\\users\\chiw\\miniconda3\\envs\\flaml\\lib\\site-packages (from matplotlib==3.2.0; extra == \"notebook\"->flaml[notebook]) (2.8.1)\n",
      "Requirement already satisfied: cycler>=0.10 in c:\\users\\chiw\\miniconda3\\envs\\flaml\\lib\\site-packages (from matplotlib==3.2.0; extra == \"notebook\"->flaml[notebook]) (0.10.0)\n",
      "Requirement already satisfied: pyparsing!=2.0.4,!=2.1.2,!=2.1.6,>=2.0.1 in c:\\users\\chiw\\miniconda3\\envs\\flaml\\lib\\site-packages (from matplotlib==3.2.0; extra == \"notebook\"->flaml[notebook]) (2.4.7)\n",
      "Requirement already satisfied: kiwisolver>=1.0.1 in c:\\users\\chiw\\miniconda3\\envs\\flaml\\lib\\site-packages (from matplotlib==3.2.0; extra == \"notebook\"->flaml[notebook]) (1.2.0)\n",
      "Requirement already satisfied: notebook in c:\\users\\chiw\\miniconda3\\envs\\flaml\\lib\\site-packages (from jupyter; extra == \"notebook\"->flaml[notebook]) (6.1.3)\n",
      "Requirement already satisfied: jupyter-console in c:\\users\\chiw\\miniconda3\\envs\\flaml\\lib\\site-packages (from jupyter; extra == \"notebook\"->flaml[notebook]) (6.2.0)\n",
      "Requirement already satisfied: nbconvert in c:\\users\\chiw\\miniconda3\\envs\\flaml\\lib\\site-packages (from jupyter; extra == \"notebook\"->flaml[notebook]) (5.6.1)\n",
      "Requirement already satisfied: qtconsole in c:\\users\\chiw\\miniconda3\\envs\\flaml\\lib\\site-packages (from jupyter; extra == \"notebook\"->flaml[notebook]) (4.7.7)\n",
      "Requirement already satisfied: ipykernel in c:\\users\\chiw\\appdata\\roaming\\python\\python37\\site-packages (from jupyter; extra == \"notebook\"->flaml[notebook]) (5.3.4)\n",
      "Requirement already satisfied: ipywidgets in c:\\users\\chiw\\miniconda3\\envs\\flaml\\lib\\site-packages (from jupyter; extra == \"notebook\"->flaml[notebook]) (7.5.1)\n",
      "Requirement already satisfied: requests in c:\\users\\chiw\\miniconda3\\envs\\flaml\\lib\\site-packages (from openml==0.10.2; extra == \"notebook\"->flaml[notebook]) (2.25.0)\n",
      "Requirement already satisfied: liac-arff>=2.4.0 in c:\\users\\chiw\\miniconda3\\envs\\flaml\\lib\\site-packages (from openml==0.10.2; extra == \"notebook\"->flaml[notebook]) (2.4.0)\n",
      "Requirement already satisfied: xmltodict in c:\\users\\chiw\\miniconda3\\envs\\flaml\\lib\\site-packages (from openml==0.10.2; extra == \"notebook\"->flaml[notebook]) (0.12.0)\n",
      "Requirement already satisfied: colorama; sys_platform == \"win32\" in c:\\users\\chiw\\appdata\\roaming\\python\\python37\\site-packages (from colorlog->optuna==2.3.0->flaml[notebook]) (0.4.3)\n",
      "Requirement already satisfied: PrettyTable<0.8,>=0.7.2 in c:\\users\\chiw\\miniconda3\\envs\\flaml\\lib\\site-packages (from cliff->optuna==2.3.0->flaml[notebook]) (0.7.2)\n",
      "Requirement already satisfied: PyYAML>=3.12 in c:\\users\\chiw\\miniconda3\\envs\\flaml\\lib\\site-packages (from cliff->optuna==2.3.0->flaml[notebook]) (5.3.1)\n",
      "Requirement already satisfied: pbr!=2.1.0,>=2.0.0 in c:\\users\\chiw\\miniconda3\\envs\\flaml\\lib\\site-packages (from cliff->optuna==2.3.0->flaml[notebook]) (5.5.1)\n",
      "Requirement already satisfied: cmd2!=0.8.3,>=0.8.0 in c:\\users\\chiw\\miniconda3\\envs\\flaml\\lib\\site-packages (from cliff->optuna==2.3.0->flaml[notebook]) (1.4.0)\n",
      "Requirement already satisfied: stevedore>=2.0.1 in c:\\users\\chiw\\miniconda3\\envs\\flaml\\lib\\site-packages (from cliff->optuna==2.3.0->flaml[notebook]) (3.2.2)\n",
      "Requirement already satisfied: Mako in c:\\users\\chiw\\miniconda3\\envs\\flaml\\lib\\site-packages (from alembic->optuna==2.3.0->flaml[notebook]) (1.1.3)\n",
      "Requirement already satisfied: python-editor>=0.3 in c:\\users\\chiw\\miniconda3\\envs\\flaml\\lib\\site-packages (from alembic->optuna==2.3.0->flaml[notebook]) (1.0.4)\n",
      "Requirement already satisfied: pytz>=2011k in c:\\users\\chiw\\miniconda3\\envs\\flaml\\lib\\site-packages (from pandas>=0.24.0->catboost>=0.23->flaml[notebook]) (2020.1)\n",
      "Requirement already satisfied: retrying>=1.3.3 in c:\\users\\chiw\\miniconda3\\envs\\flaml\\lib\\site-packages (from plotly->catboost>=0.23->flaml[notebook]) (1.3.3)\n",
      "Requirement already satisfied: ipython-genutils in c:\\users\\chiw\\appdata\\roaming\\python\\python37\\site-packages (from notebook->jupyter; extra == \"notebook\"->flaml[notebook]) (0.2.0)\n",
      "Requirement already satisfied: pyzmq>=17 in c:\\users\\chiw\\appdata\\roaming\\python\\python37\\site-packages (from notebook->jupyter; extra == \"notebook\"->flaml[notebook]) (20.0.0)\n",
      "Requirement already satisfied: jupyter-core>=4.6.1 in c:\\users\\chiw\\appdata\\roaming\\python\\python37\\site-packages (from notebook->jupyter; extra == \"notebook\"->flaml[notebook]) (4.7.0)\n",
      "Requirement already satisfied: prometheus-client in c:\\users\\chiw\\miniconda3\\envs\\flaml\\lib\\site-packages (from notebook->jupyter; extra == \"notebook\"->flaml[notebook]) (0.8.0)\n",
      "Requirement already satisfied: jupyter-client>=5.3.4 in c:\\users\\chiw\\appdata\\roaming\\python\\python37\\site-packages (from notebook->jupyter; extra == \"notebook\"->flaml[notebook]) (6.1.7)\n",
      "Requirement already satisfied: nbformat in c:\\users\\chiw\\miniconda3\\envs\\flaml\\lib\\site-packages (from notebook->jupyter; extra == \"notebook\"->flaml[notebook]) (5.0.7)\n",
      "Requirement already satisfied: tornado>=5.0 in c:\\users\\chiw\\appdata\\roaming\\python\\python37\\site-packages (from notebook->jupyter; extra == \"notebook\"->flaml[notebook]) (6.1)\n",
      "Requirement already satisfied: traitlets>=4.2.1 in c:\\users\\chiw\\appdata\\roaming\\python\\python37\\site-packages (from notebook->jupyter; extra == \"notebook\"->flaml[notebook]) (5.0.5)\n",
      "Requirement already satisfied: Send2Trash in c:\\users\\chiw\\miniconda3\\envs\\flaml\\lib\\site-packages (from notebook->jupyter; extra == \"notebook\"->flaml[notebook]) (1.5.0)\n",
      "Requirement already satisfied: jinja2 in c:\\users\\chiw\\miniconda3\\envs\\flaml\\lib\\site-packages (from notebook->jupyter; extra == \"notebook\"->flaml[notebook]) (2.11.2)\n",
      "Requirement already satisfied: argon2-cffi in c:\\users\\chiw\\miniconda3\\envs\\flaml\\lib\\site-packages (from notebook->jupyter; extra == \"notebook\"->flaml[notebook]) (20.1.0)\n",
      "Requirement already satisfied: terminado>=0.8.3 in c:\\users\\chiw\\miniconda3\\envs\\flaml\\lib\\site-packages (from notebook->jupyter; extra == \"notebook\"->flaml[notebook]) (0.8.3)\n",
      "Requirement already satisfied: prompt-toolkit!=3.0.0,!=3.0.1,<3.1.0,>=2.0.0 in c:\\users\\chiw\\appdata\\roaming\\python\\python37\\site-packages (from jupyter-console->jupyter; extra == \"notebook\"->flaml[notebook]) (3.0.8)\n",
      "Requirement already satisfied: pygments in c:\\users\\chiw\\appdata\\roaming\\python\\python37\\site-packages (from jupyter-console->jupyter; extra == \"notebook\"->flaml[notebook]) (2.7.2)\n",
      "Requirement already satisfied: ipython in c:\\users\\chiw\\appdata\\roaming\\python\\python37\\site-packages (from jupyter-console->jupyter; extra == \"notebook\"->flaml[notebook]) (7.19.0)\n",
      "Requirement already satisfied: entrypoints>=0.2.2 in c:\\users\\chiw\\miniconda3\\envs\\flaml\\lib\\site-packages (from nbconvert->jupyter; extra == \"notebook\"->flaml[notebook]) (0.3)\n",
      "Requirement already satisfied: pandocfilters>=1.4.1 in c:\\users\\chiw\\miniconda3\\envs\\flaml\\lib\\site-packages (from nbconvert->jupyter; extra == \"notebook\"->flaml[notebook]) (1.4.2)\n",
      "Requirement already satisfied: bleach in c:\\users\\chiw\\miniconda3\\envs\\flaml\\lib\\site-packages (from nbconvert->jupyter; extra == \"notebook\"->flaml[notebook]) (3.1.5)\n",
      "Requirement already satisfied: testpath in c:\\users\\chiw\\miniconda3\\envs\\flaml\\lib\\site-packages (from nbconvert->jupyter; extra == \"notebook\"->flaml[notebook]) (0.4.4)\n",
      "Requirement already satisfied: defusedxml in c:\\users\\chiw\\miniconda3\\envs\\flaml\\lib\\site-packages (from nbconvert->jupyter; extra == \"notebook\"->flaml[notebook]) (0.6.0)\n",
      "Requirement already satisfied: mistune<2,>=0.8.1 in c:\\users\\chiw\\miniconda3\\envs\\flaml\\lib\\site-packages (from nbconvert->jupyter; extra == \"notebook\"->flaml[notebook]) (0.8.4)\n",
      "Requirement already satisfied: qtpy in c:\\users\\chiw\\miniconda3\\envs\\flaml\\lib\\site-packages (from qtconsole->jupyter; extra == \"notebook\"->flaml[notebook]) (1.9.0)\n",
      "Requirement already satisfied: widgetsnbextension~=3.5.0 in c:\\users\\chiw\\miniconda3\\envs\\flaml\\lib\\site-packages (from ipywidgets->jupyter; extra == \"notebook\"->flaml[notebook]) (3.5.1)\n",
      "Requirement already satisfied: idna<3,>=2.5 in c:\\users\\chiw\\miniconda3\\envs\\flaml\\lib\\site-packages (from requests->openml==0.10.2; extra == \"notebook\"->flaml[notebook]) (2.6)\n",
      "Requirement already satisfied: urllib3<1.27,>=1.21.1 in c:\\users\\chiw\\miniconda3\\envs\\flaml\\lib\\site-packages (from requests->openml==0.10.2; extra == \"notebook\"->flaml[notebook]) (1.26.3)\n",
      "Requirement already satisfied: chardet<4,>=3.0.2 in c:\\users\\chiw\\miniconda3\\envs\\flaml\\lib\\site-packages (from requests->openml==0.10.2; extra == \"notebook\"->flaml[notebook]) (3.0.4)\n",
      "Requirement already satisfied: certifi>=2017.4.17 in c:\\users\\chiw\\miniconda3\\envs\\flaml\\lib\\site-packages (from requests->openml==0.10.2; extra == \"notebook\"->flaml[notebook]) (2020.6.20)\n",
      "Requirement already satisfied: wcwidth>=0.1.7 in c:\\users\\chiw\\miniconda3\\envs\\flaml\\lib\\site-packages (from cmd2!=0.8.3,>=0.8.0->cliff->optuna==2.3.0->flaml[notebook]) (0.2.5)\n",
      "Requirement already satisfied: importlib-metadata>=1.6.0; python_version < \"3.8\" in c:\\users\\chiw\\miniconda3\\envs\\flaml\\lib\\site-packages (from cmd2!=0.8.3,>=0.8.0->cliff->optuna==2.3.0->flaml[notebook]) (1.7.0)\n",
      "Requirement already satisfied: pyperclip>=1.6 in c:\\users\\chiw\\miniconda3\\envs\\flaml\\lib\\site-packages (from cmd2!=0.8.3,>=0.8.0->cliff->optuna==2.3.0->flaml[notebook]) (1.8.1)\n",
      "Requirement already satisfied: attrs>=16.3.0 in c:\\users\\chiw\\miniconda3\\envs\\flaml\\lib\\site-packages (from cmd2!=0.8.3,>=0.8.0->cliff->optuna==2.3.0->flaml[notebook]) (19.3.0)\n",
      "Requirement already satisfied: pyreadline; sys_platform == \"win32\" in c:\\users\\chiw\\miniconda3\\envs\\flaml\\lib\\site-packages (from cmd2!=0.8.3,>=0.8.0->cliff->optuna==2.3.0->flaml[notebook]) (2.1)\n",
      "Requirement already satisfied: MarkupSafe>=0.9.2 in c:\\users\\chiw\\miniconda3\\envs\\flaml\\lib\\site-packages (from Mako->alembic->optuna==2.3.0->flaml[notebook]) (1.1.1)\n",
      "Requirement already satisfied: pywin32>=1.0; sys_platform == \"win32\" in c:\\users\\chiw\\miniconda3\\envs\\flaml\\lib\\site-packages (from jupyter-core>=4.6.1->notebook->jupyter; extra == \"notebook\"->flaml[notebook]) (228)\n",
      "Requirement already satisfied: jsonschema!=2.5.0,>=2.4 in c:\\users\\chiw\\miniconda3\\envs\\flaml\\lib\\site-packages (from nbformat->notebook->jupyter; extra == \"notebook\"->flaml[notebook]) (3.2.0)\n",
      "Requirement already satisfied: cffi>=1.0.0 in c:\\users\\chiw\\miniconda3\\envs\\flaml\\lib\\site-packages (from argon2-cffi->notebook->jupyter; extra == \"notebook\"->flaml[notebook]) (1.14.1)\n",
      "Requirement already satisfied: pywinpty>=0.5; os_name == \"nt\" in c:\\users\\chiw\\miniconda3\\envs\\flaml\\lib\\site-packages (from terminado>=0.8.3->notebook->jupyter; extra == \"notebook\"->flaml[notebook]) (0.5.7)\n",
      "Requirement already satisfied: decorator in c:\\users\\chiw\\appdata\\roaming\\python\\python37\\site-packages (from ipython->jupyter-console->jupyter; extra == \"notebook\"->flaml[notebook]) (4.4.2)\n",
      "Requirement already satisfied: pickleshare in c:\\users\\chiw\\appdata\\roaming\\python\\python37\\site-packages (from ipython->jupyter-console->jupyter; extra == \"notebook\"->flaml[notebook]) (0.7.5)\n",
      "Requirement already satisfied: backcall in c:\\users\\chiw\\appdata\\roaming\\python\\python37\\site-packages (from ipython->jupyter-console->jupyter; extra == \"notebook\"->flaml[notebook]) (0.2.0)\n",
      "Requirement already satisfied: setuptools>=18.5 in c:\\users\\chiw\\miniconda3\\envs\\flaml\\lib\\site-packages (from ipython->jupyter-console->jupyter; extra == \"notebook\"->flaml[notebook]) (50.3.2)\n",
      "Requirement already satisfied: jedi>=0.10 in c:\\users\\chiw\\appdata\\roaming\\python\\python37\\site-packages (from ipython->jupyter-console->jupyter; extra == \"notebook\"->flaml[notebook]) (0.17.2)\n",
      "Requirement already satisfied: webencodings in c:\\users\\chiw\\miniconda3\\envs\\flaml\\lib\\site-packages (from bleach->nbconvert->jupyter; extra == \"notebook\"->flaml[notebook]) (0.5.1)\n",
      "Requirement already satisfied: zipp>=0.5 in c:\\users\\chiw\\miniconda3\\envs\\flaml\\lib\\site-packages (from importlib-metadata>=1.6.0; python_version < \"3.8\"->cmd2!=0.8.3,>=0.8.0->cliff->optuna==2.3.0->flaml[notebook]) (3.1.0)\n",
      "Requirement already satisfied: pyrsistent>=0.14.0 in c:\\users\\chiw\\miniconda3\\envs\\flaml\\lib\\site-packages (from jsonschema!=2.5.0,>=2.4->nbformat->notebook->jupyter; extra == \"notebook\"->flaml[notebook]) (0.16.0)\n",
      "Requirement already satisfied: pycparser in c:\\users\\chiw\\miniconda3\\envs\\flaml\\lib\\site-packages (from cffi>=1.0.0->argon2-cffi->notebook->jupyter; extra == \"notebook\"->flaml[notebook]) (2.20)\n",
      "Requirement already satisfied: parso<0.8.0,>=0.7.0 in c:\\users\\chiw\\appdata\\roaming\\python\\python37\\site-packages (from jedi>=0.10->ipython->jupyter-console->jupyter; extra == \"notebook\"->flaml[notebook]) (0.7.1)\n"
     ]
    }
   ],
   "source": [
    "!pip install flaml[notebook];"
   ]
  },
  {
   "cell_type": "markdown",
   "metadata": {
    "slideshow": {
     "slide_type": "slide"
    }
   },
   "source": [
    "## 2. Real Data Example\n",
    "### Load data and preprocess\n",
    "\n",
    "Download [houses dataset](https://www.openml.org/d/537) from OpenML. The task is to predict median price of the house in the region based on demographic composition and a state of housing market in the region."
   ]
  },
  {
   "cell_type": "code",
   "execution_count": 2,
   "metadata": {
    "slideshow": {
     "slide_type": "subslide"
    },
    "tags": []
   },
   "outputs": [
    {
     "output_type": "stream",
     "name": "stdout",
     "text": [
      "load dataset from ./openml_ds537.pkl\nDataset name: houses\nX_train.shape: (15480, 8), y_train.shape: (15480,);\nX_test.shape: (5160, 8), y_test.shape: (5160,)\n"
     ]
    }
   ],
   "source": [
    "from flaml.data import load_openml_dataset\n",
    "X_train, X_test, y_train, y_test = load_openml_dataset(dataset_id = 537, data_dir = './')"
   ]
  },
  {
   "cell_type": "markdown",
   "metadata": {
    "slideshow": {
     "slide_type": "slide"
    }
   },
   "source": [
    "### Run FLAML\n",
    "In the FLAML automl run configuration, users can specify the task type, time budget, error metric, learner list, whether to subsample, resampling strategy type, and so on. All these arguments have default values which will be used if users do not provide them. "
   ]
  },
  {
   "cell_type": "code",
   "execution_count": 3,
   "metadata": {
    "slideshow": {
     "slide_type": "slide"
    }
   },
   "outputs": [],
   "source": [
    "''' import AutoML class from flaml package '''\n",
    "from flaml import AutoML\n",
    "automl = AutoML()"
   ]
  },
  {
   "cell_type": "code",
   "execution_count": 4,
   "metadata": {
    "slideshow": {
     "slide_type": "slide"
    }
   },
   "outputs": [],
   "source": [
    "settings = {\n",
    "    \"time_budget\": 180, # total running time in seconds\n",
    "    \"metric\": 'r2', # primary metrics for regression can be chosen from: ['mae','mse','r2']\n",
    "    \"estimator_list\": ['lgbm'], # list of ML learners; we tune lightgbm in this example\n",
    "    \"task\": 'regression', # task type    \n",
    "    \"log_file_name\": 'houses_experiment.log', # flaml log file\n",
    "}"
   ]
  },
  {
   "cell_type": "code",
   "execution_count": 5,
   "metadata": {
    "slideshow": {
     "slide_type": "slide"
    },
    "tags": []
   },
   "outputs": [
    {
     "output_type": "stream",
     "name": "stderr",
     "text": [
      "[flaml.automl: 02-22 12:02:16] {839} INFO - Evaluation method: cv\n",
      "[flaml.automl: 02-22 12:02:16] {568} INFO - Using RepeatedKFold\n",
      "[flaml.automl: 02-22 12:02:16] {860} INFO - Minimizing error metric: 1-r2\n",
      "[flaml.automl: 02-22 12:02:16] {880} INFO - List of ML learners in AutoML Run: ['lgbm']\n",
      "[flaml.automl: 02-22 12:02:16] {939} INFO - iteration 0  current learner lgbm\n",
      "[flaml.automl: 02-22 12:02:16] {1093} INFO -  at 0.1s,\tbest lgbm's error=0.7383,\tbest lgbm's error=0.7383\n",
      "[flaml.automl: 02-22 12:02:16] {939} INFO - iteration 1  current learner lgbm\n",
      "[flaml.automl: 02-22 12:02:16] {1093} INFO -  at 0.2s,\tbest lgbm's error=0.7383,\tbest lgbm's error=0.7383\n",
      "[flaml.automl: 02-22 12:02:16] {939} INFO - iteration 2  current learner lgbm\n",
      "[flaml.automl: 02-22 12:02:16] {1093} INFO -  at 0.4s,\tbest lgbm's error=0.4578,\tbest lgbm's error=0.4578\n",
      "[flaml.automl: 02-22 12:02:16] {939} INFO - iteration 3  current learner lgbm\n",
      "[flaml.automl: 02-22 12:02:16] {1093} INFO -  at 0.5s,\tbest lgbm's error=0.4578,\tbest lgbm's error=0.4578\n",
      "[flaml.automl: 02-22 12:02:16] {939} INFO - iteration 4  current learner lgbm\n",
      "[flaml.automl: 02-22 12:02:17] {1093} INFO -  at 0.8s,\tbest lgbm's error=0.2637,\tbest lgbm's error=0.2637\n",
      "[flaml.automl: 02-22 12:02:17] {939} INFO - iteration 5  current learner lgbm\n",
      "[flaml.automl: 02-22 12:02:17] {1093} INFO -  at 1.0s,\tbest lgbm's error=0.2284,\tbest lgbm's error=0.2284\n",
      "[flaml.automl: 02-22 12:02:17] {939} INFO - iteration 6  current learner lgbm\n",
      "[flaml.automl: 02-22 12:02:17] {1093} INFO -  at 1.2s,\tbest lgbm's error=0.2284,\tbest lgbm's error=0.2284\n",
      "[flaml.automl: 02-22 12:02:17] {939} INFO - iteration 7  current learner lgbm\n",
      "[flaml.automl: 02-22 12:02:17] {1093} INFO -  at 1.5s,\tbest lgbm's error=0.2284,\tbest lgbm's error=0.2284\n",
      "[flaml.automl: 02-22 12:02:17] {939} INFO - iteration 8  current learner lgbm\n",
      "[flaml.automl: 02-22 12:02:17] {1093} INFO -  at 1.6s,\tbest lgbm's error=0.2284,\tbest lgbm's error=0.2284\n",
      "[flaml.automl: 02-22 12:02:17] {939} INFO - iteration 9  current learner lgbm\n",
      "[flaml.automl: 02-22 12:02:18] {1093} INFO -  at 1.9s,\tbest lgbm's error=0.2284,\tbest lgbm's error=0.2284\n",
      "[flaml.automl: 02-22 12:02:18] {939} INFO - iteration 10  current learner lgbm\n",
      "[flaml.automl: 02-22 12:02:18] {1093} INFO -  at 2.1s,\tbest lgbm's error=0.2284,\tbest lgbm's error=0.2284\n",
      "[flaml.automl: 02-22 12:02:18] {939} INFO - iteration 11  current learner lgbm\n",
      "[flaml.automl: 02-22 12:02:19] {1093} INFO -  at 2.7s,\tbest lgbm's error=0.2262,\tbest lgbm's error=0.2262\n",
      "[flaml.automl: 02-22 12:02:19] {939} INFO - iteration 12  current learner lgbm\n",
      "[flaml.automl: 02-22 12:02:20] {1093} INFO -  at 3.8s,\tbest lgbm's error=0.2009,\tbest lgbm's error=0.2009\n",
      "[flaml.automl: 02-22 12:02:20] {939} INFO - iteration 13  current learner lgbm\n",
      "[flaml.automl: 02-22 12:02:20] {1093} INFO -  at 4.0s,\tbest lgbm's error=0.2009,\tbest lgbm's error=0.2009\n",
      "[flaml.automl: 02-22 12:02:20] {939} INFO - iteration 14  current learner lgbm\n",
      "[flaml.automl: 02-22 12:02:22] {1093} INFO -  at 6.3s,\tbest lgbm's error=0.1854,\tbest lgbm's error=0.1854\n",
      "[flaml.automl: 02-22 12:02:22] {939} INFO - iteration 15  current learner lgbm\n",
      "[flaml.automl: 02-22 12:02:23] {1093} INFO -  at 7.5s,\tbest lgbm's error=0.1854,\tbest lgbm's error=0.1854\n",
      "[flaml.automl: 02-22 12:02:23] {939} INFO - iteration 16  current learner lgbm\n",
      "[flaml.automl: 02-22 12:02:35] {1093} INFO -  at 19.3s,\tbest lgbm's error=0.1761,\tbest lgbm's error=0.1761\n",
      "[flaml.automl: 02-22 12:02:35] {939} INFO - iteration 17  current learner lgbm\n",
      "[flaml.automl: 02-22 12:03:08] {1093} INFO -  at 52.1s,\tbest lgbm's error=0.1725,\tbest lgbm's error=0.1725\n",
      "[flaml.automl: 02-22 12:03:08] {939} INFO - iteration 18  current learner lgbm\n",
      "[flaml.automl: 02-22 12:04:37] {1093} INFO -  at 141.4s,\tbest lgbm's error=0.1725,\tbest lgbm's error=0.1725\n",
      "[flaml.automl: 02-22 12:04:37] {939} INFO - iteration 19  current learner lgbm\n",
      "[flaml.automl: 02-22 12:04:39] {1093} INFO -  at 143.6s,\tbest lgbm's error=0.1725,\tbest lgbm's error=0.1725\n",
      "[flaml.automl: 02-22 12:04:39] {939} INFO - iteration 20  current learner lgbm\n",
      "[flaml.automl: 02-22 12:04:51] {1093} INFO -  at 155.1s,\tbest lgbm's error=0.1563,\tbest lgbm's error=0.1563\n",
      "[flaml.automl: 02-22 12:04:51] {939} INFO - iteration 21  current learner lgbm\n",
      "[flaml.automl: 02-22 12:04:54] {1093} INFO -  at 158.1s,\tbest lgbm's error=0.1563,\tbest lgbm's error=0.1563\n",
      "[flaml.automl: 02-22 12:04:54] {939} INFO - iteration 22  current learner lgbm\n",
      "[flaml.automl: 02-22 12:05:09] {1093} INFO -  at 173.6s,\tbest lgbm's error=0.1563,\tbest lgbm's error=0.1563\n",
      "[flaml.automl: 02-22 12:05:09] {1133} INFO - selected model: LGBMRegressor(colsample_bytree=0.9046814915274195,\n",
      "              learning_rate=0.025065630491840726, max_bin=255,\n",
      "              min_child_weight=20.0, n_estimators=451, num_leaves=113,\n",
      "              objective='regression', reg_alpha=8.352751749829367e-10,\n",
      "              reg_lambda=0.13991138691596908)\n",
      "[flaml.automl: 02-22 12:05:09] {894} INFO - fit succeeded\n"
     ]
    }
   ],
   "source": [
    "'''The main flaml automl API'''\n",
    "automl.fit(X_train = X_train, y_train = y_train, **settings)"
   ]
  },
  {
   "cell_type": "markdown",
   "metadata": {
    "slideshow": {
     "slide_type": "slide"
    }
   },
   "source": [
    "### Best model and metric"
   ]
  },
  {
   "cell_type": "code",
   "execution_count": 6,
   "metadata": {
    "slideshow": {
     "slide_type": "slide"
    },
    "tags": []
   },
   "outputs": [
    {
     "output_type": "stream",
     "name": "stdout",
     "text": [
      "Best hyperparmeter config: {'n_estimators': 451.0, 'max_leaves': 113.0, 'min_child_weight': 20.0, 'learning_rate': 0.025065630491840726, 'subsample': 1.0, 'log_max_bin': 8.0, 'colsample_bytree': 0.9046814915274195, 'reg_alpha': 8.352751749829367e-10, 'reg_lambda': 0.13991138691596908}\nBest r2 on validation data: 0.8437\nTraining duration of best run: 11.51 s\n"
     ]
    }
   ],
   "source": [
    "''' retrieve best config'''\n",
    "print('Best hyperparmeter config:', automl.best_config)\n",
    "print('Best r2 on validation data: {0:.4g}'.format(1-automl.best_loss))\n",
    "print('Training duration of best run: {0:.4g} s'.format(automl.best_config_train_time))"
   ]
  },
  {
   "cell_type": "code",
   "execution_count": 7,
   "metadata": {
    "slideshow": {
     "slide_type": "slide"
    }
   },
   "outputs": [
    {
     "output_type": "execute_result",
     "data": {
      "text/plain": [
       "LGBMRegressor(colsample_bytree=0.9046814915274195,\n",
       "              learning_rate=0.025065630491840726, max_bin=255,\n",
       "              min_child_weight=20.0, n_estimators=451, num_leaves=113,\n",
       "              objective='regression', reg_alpha=8.352751749829367e-10,\n",
       "              reg_lambda=0.13991138691596908)"
      ]
     },
     "metadata": {},
     "execution_count": 7
    }
   ],
   "source": [
    "automl.model"
   ]
  },
  {
   "cell_type": "code",
   "execution_count": 8,
   "metadata": {
    "slideshow": {
     "slide_type": "slide"
    }
   },
   "outputs": [],
   "source": [
    "''' pickle and save the best model '''\n",
    "import pickle\n",
    "with open('best_model.pkl', 'wb') as f:\n",
    "    pickle.dump(automl.model, f, pickle.HIGHEST_PROTOCOL)"
   ]
  },
  {
   "cell_type": "code",
   "execution_count": 9,
   "metadata": {
    "slideshow": {
     "slide_type": "slide"
    },
    "tags": []
   },
   "outputs": [
    {
     "output_type": "stream",
     "name": "stdout",
     "text": [
      "Predicted labels [147056.672508   246591.18821626 155253.69332074 ... 196516.76693923\n 235571.37776252 270133.77185961]\nTrue labels [136900. 241300. 200700. ... 160900. 227300. 265600.]\n"
     ]
    }
   ],
   "source": [
    "''' compute predictions of testing dataset ''' \n",
    "y_pred = automl.predict(X_test)\n",
    "print('Predicted labels', y_pred)\n",
    "print('True labels', y_test)"
   ]
  },
  {
   "cell_type": "code",
   "execution_count": 10,
   "metadata": {
    "slideshow": {
     "slide_type": "slide"
    },
    "tags": []
   },
   "outputs": [
    {
     "output_type": "stream",
     "name": "stdout",
     "text": [
      "r2 = 0.8503723727607084\nmse = 1977853769.4384706\nmae = 29258.487121555943\n"
     ]
    }
   ],
   "source": [
    "''' compute different metric values on testing dataset'''\n",
    "from flaml.ml import sklearn_metric_loss_score\n",
    "print('r2', '=', 1 - sklearn_metric_loss_score('r2', y_pred, y_test))\n",
    "print('mse', '=', sklearn_metric_loss_score('mse', y_pred, y_test))\n",
    "print('mae', '=', sklearn_metric_loss_score('mae', y_pred, y_test))"
   ]
  },
  {
   "cell_type": "code",
   "execution_count": 11,
   "metadata": {
    "slideshow": {
     "slide_type": "subslide"
    },
    "tags": []
   },
   "outputs": [
    {
     "output_type": "stream",
     "name": "stdout",
     "text": [
      "{'Current Learner': 'lgbm', 'Current Sample': 15480, 'Current Hyper-parameters': {'n_estimators': 4, 'max_leaves': 4, 'min_child_weight': 20.0, 'learning_rate': 0.1, 'subsample': 1.0, 'log_max_bin': 8, 'colsample_bytree': 1.0, 'reg_alpha': 1e-10, 'reg_lambda': 1.0}, 'Best Learner': 'lgbm', 'Best Hyper-parameters': {'n_estimators': 4, 'max_leaves': 4, 'min_child_weight': 20.0, 'learning_rate': 0.1, 'subsample': 1.0, 'log_max_bin': 8, 'colsample_bytree': 1.0, 'reg_alpha': 1e-10, 'reg_lambda': 1.0}}\n{'Current Learner': 'lgbm', 'Current Sample': 15480, 'Current Hyper-parameters': {'n_estimators': 4.0, 'max_leaves': 4.0, 'min_child_weight': 20.0, 'learning_rate': 0.46335414315327306, 'subsample': 0.9339389930838808, 'log_max_bin': 10.0, 'colsample_bytree': 0.9904286645657556, 'reg_alpha': 2.841147337412889e-10, 'reg_lambda': 0.12000833497054482}, 'Best Learner': 'lgbm', 'Best Hyper-parameters': {'n_estimators': 4.0, 'max_leaves': 4.0, 'min_child_weight': 20.0, 'learning_rate': 0.46335414315327306, 'subsample': 0.9339389930838808, 'log_max_bin': 10.0, 'colsample_bytree': 0.9904286645657556, 'reg_alpha': 2.841147337412889e-10, 'reg_lambda': 0.12000833497054482}}\n{'Current Learner': 'lgbm', 'Current Sample': 15480, 'Current Hyper-parameters': {'n_estimators': 20.0, 'max_leaves': 4.0, 'min_child_weight': 20.0, 'learning_rate': 1.0, 'subsample': 0.9917683183663918, 'log_max_bin': 10.0, 'colsample_bytree': 0.9858892907525497, 'reg_alpha': 3.8783982645515837e-10, 'reg_lambda': 0.36607431863072826}, 'Best Learner': 'lgbm', 'Best Hyper-parameters': {'n_estimators': 20.0, 'max_leaves': 4.0, 'min_child_weight': 20.0, 'learning_rate': 1.0, 'subsample': 0.9917683183663918, 'log_max_bin': 10.0, 'colsample_bytree': 0.9858892907525497, 'reg_alpha': 3.8783982645515837e-10, 'reg_lambda': 0.36607431863072826}}\n{'Current Learner': 'lgbm', 'Current Sample': 15480, 'Current Hyper-parameters': {'n_estimators': 11.0, 'max_leaves': 15.0, 'min_child_weight': 14.947587304572773, 'learning_rate': 0.6092558236172073, 'subsample': 0.9659256891661986, 'log_max_bin': 10.0, 'colsample_bytree': 1.0, 'reg_alpha': 3.816590663384559e-08, 'reg_lambda': 0.4482946615262561}, 'Best Learner': 'lgbm', 'Best Hyper-parameters': {'n_estimators': 11.0, 'max_leaves': 15.0, 'min_child_weight': 14.947587304572773, 'learning_rate': 0.6092558236172073, 'subsample': 0.9659256891661986, 'log_max_bin': 10.0, 'colsample_bytree': 1.0, 'reg_alpha': 3.816590663384559e-08, 'reg_lambda': 0.4482946615262561}}\n{'Current Learner': 'lgbm', 'Current Sample': 15480, 'Current Hyper-parameters': {'n_estimators': 22.0, 'max_leaves': 44.0, 'min_child_weight': 8.295709769360025, 'learning_rate': 0.8096645680737932, 'subsample': 0.9506809897636022, 'log_max_bin': 9.0, 'colsample_bytree': 0.9671874874371171, 'reg_alpha': 1.7301741960564346e-06, 'reg_lambda': 0.0977230117487556}, 'Best Learner': 'lgbm', 'Best Hyper-parameters': {'n_estimators': 22.0, 'max_leaves': 44.0, 'min_child_weight': 8.295709769360025, 'learning_rate': 0.8096645680737932, 'subsample': 0.9506809897636022, 'log_max_bin': 9.0, 'colsample_bytree': 0.9671874874371171, 'reg_alpha': 1.7301741960564346e-06, 'reg_lambda': 0.0977230117487556}}\n{'Current Learner': 'lgbm', 'Current Sample': 15480, 'Current Hyper-parameters': {'n_estimators': 9.0, 'max_leaves': 245.0, 'min_child_weight': 4.208492943400939, 'learning_rate': 0.26609407333531715, 'subsample': 0.9704154473613615, 'log_max_bin': 10.0, 'colsample_bytree': 1.0, 'reg_alpha': 1.6843847487782941e-09, 'reg_lambda': 1.0}, 'Best Learner': 'lgbm', 'Best Hyper-parameters': {'n_estimators': 9.0, 'max_leaves': 245.0, 'min_child_weight': 4.208492943400939, 'learning_rate': 0.26609407333531715, 'subsample': 0.9704154473613615, 'log_max_bin': 10.0, 'colsample_bytree': 1.0, 'reg_alpha': 1.6843847487782941e-09, 'reg_lambda': 1.0}}\n{'Current Learner': 'lgbm', 'Current Sample': 15480, 'Current Hyper-parameters': {'n_estimators': 25.0, 'max_leaves': 403.0, 'min_child_weight': 5.55091634143324, 'learning_rate': 0.12666913709918798, 'subsample': 1.0, 'log_max_bin': 9.0, 'colsample_bytree': 1.0, 'reg_alpha': 5.406309953251589e-09, 'reg_lambda': 0.8927146483558472}, 'Best Learner': 'lgbm', 'Best Hyper-parameters': {'n_estimators': 25.0, 'max_leaves': 403.0, 'min_child_weight': 5.55091634143324, 'learning_rate': 0.12666913709918798, 'subsample': 1.0, 'log_max_bin': 9.0, 'colsample_bytree': 1.0, 'reg_alpha': 5.406309953251589e-09, 'reg_lambda': 0.8927146483558472}}\n{'Current Learner': 'lgbm', 'Current Sample': 15480, 'Current Hyper-parameters': {'n_estimators': 78.0, 'max_leaves': 2174.0, 'min_child_weight': 13.317463737456045, 'learning_rate': 0.06563935802336449, 'subsample': 1.0, 'log_max_bin': 9.0, 'colsample_bytree': 1.0, 'reg_alpha': 1e-10, 'reg_lambda': 1.0}, 'Best Learner': 'lgbm', 'Best Hyper-parameters': {'n_estimators': 78.0, 'max_leaves': 2174.0, 'min_child_weight': 13.317463737456045, 'learning_rate': 0.06563935802336449, 'subsample': 1.0, 'log_max_bin': 9.0, 'colsample_bytree': 1.0, 'reg_alpha': 1e-10, 'reg_lambda': 1.0}}\n{'Current Learner': 'lgbm', 'Current Sample': 15480, 'Current Hyper-parameters': {'n_estimators': 200.0, 'max_leaves': 373.0, 'min_child_weight': 20.0, 'learning_rate': 0.05367311643039711, 'subsample': 0.9992325198304696, 'log_max_bin': 10.0, 'colsample_bytree': 0.957244844266689, 'reg_alpha': 1.4054731493830395e-08, 'reg_lambda': 1.0}, 'Best Learner': 'lgbm', 'Best Hyper-parameters': {'n_estimators': 200.0, 'max_leaves': 373.0, 'min_child_weight': 20.0, 'learning_rate': 0.05367311643039711, 'subsample': 0.9992325198304696, 'log_max_bin': 10.0, 'colsample_bytree': 0.957244844266689, 'reg_alpha': 1.4054731493830395e-08, 'reg_lambda': 1.0}}\n"
     ]
    }
   ],
   "source": [
    "from flaml.data import get_output_from_log\n",
    "time_history, best_valid_loss_history, valid_loss_history, config_history, train_loss_history = \\\n",
    "    get_output_from_log(filename = settings['log_file_name'], time_budget = 60)\n",
    "\n",
    "for config in config_history:\n",
    "    print(config)"
   ]
  },
  {
   "cell_type": "code",
   "execution_count": 12,
   "metadata": {
    "slideshow": {
     "slide_type": "slide"
    }
   },
   "outputs": [
    {
     "output_type": "display_data",
     "data": {
      "text/plain": "<Figure size 432x288 with 1 Axes>",
      "image/svg+xml": "<?xml version=\"1.0\" encoding=\"utf-8\" standalone=\"no\"?>\r\n<!DOCTYPE svg PUBLIC \"-//W3C//DTD SVG 1.1//EN\"\r\n  \"http://www.w3.org/Graphics/SVG/1.1/DTD/svg11.dtd\">\r\n<!-- Created with matplotlib (https://matplotlib.org/) -->\r\n<svg height=\"277.314375pt\" version=\"1.1\" viewBox=\"0 0 385.78125 277.314375\" width=\"385.78125pt\" xmlns=\"http://www.w3.org/2000/svg\" xmlns:xlink=\"http://www.w3.org/1999/xlink\">\r\n <defs>\r\n  <style type=\"text/css\">\r\n*{stroke-linecap:butt;stroke-linejoin:round;}\r\n  </style>\r\n </defs>\r\n <g id=\"figure_1\">\r\n  <g id=\"patch_1\">\r\n   <path d=\"M 0 277.314375 \r\nL 385.78125 277.314375 \r\nL 385.78125 0 \r\nL 0 0 \r\nz\r\n\" style=\"fill:none;\"/>\r\n  </g>\r\n  <g id=\"axes_1\">\r\n   <g id=\"patch_2\">\r\n    <path d=\"M 43.78125 239.758125 \r\nL 378.58125 239.758125 \r\nL 378.58125 22.318125 \r\nL 43.78125 22.318125 \r\nz\r\n\" style=\"fill:#ffffff;\"/>\r\n   </g>\r\n   <g id=\"PathCollection_1\">\r\n    <defs>\r\n     <path d=\"M 0 3 \r\nC 0.795609 3 1.55874 2.683901 2.12132 2.12132 \r\nC 2.683901 1.55874 3 0.795609 3 0 \r\nC 3 -0.795609 2.683901 -1.55874 2.12132 -2.12132 \r\nC 1.55874 -2.683901 0.795609 -3 0 -3 \r\nC -0.795609 -3 -1.55874 -2.683901 -2.12132 -2.12132 \r\nC -2.683901 -1.55874 -3 -0.795609 -3 0 \r\nC -3 0.795609 -2.683901 1.55874 -2.12132 2.12132 \r\nC -1.55874 2.683901 -0.795609 3 0 3 \r\nz\r\n\" id=\"madfc232035\" style=\"stroke:#1f77b4;\"/>\r\n    </defs>\r\n    <g clip-path=\"url(#pc6ba241b87)\">\r\n     <use style=\"fill:#1f77b4;stroke:#1f77b4;\" x=\"58.999432\" xlink:href=\"#madfc232035\" y=\"229.874489\"/>\r\n     <use style=\"fill:#1f77b4;stroke:#1f77b4;\" x=\"60.41829\" xlink:href=\"#madfc232035\" y=\"131.884705\"/>\r\n     <use style=\"fill:#1f77b4;stroke:#1f77b4;\" x=\"62.587602\" xlink:href=\"#madfc232035\" y=\"64.081953\"/>\r\n     <use style=\"fill:#1f77b4;stroke:#1f77b4;\" x=\"64.176474\" xlink:href=\"#madfc232035\" y=\"51.728855\"/>\r\n     <use style=\"fill:#1f77b4;stroke:#1f77b4;\" x=\"74.193773\" xlink:href=\"#madfc232035\" y=\"50.967974\"/>\r\n     <use style=\"fill:#1f77b4;stroke:#1f77b4;\" x=\"80.63769\" xlink:href=\"#madfc232035\" y=\"42.123928\"/>\r\n     <use style=\"fill:#1f77b4;stroke:#1f77b4;\" x=\"95.125617\" xlink:href=\"#madfc232035\" y=\"36.726087\"/>\r\n     <use style=\"fill:#1f77b4;stroke:#1f77b4;\" x=\"171.044361\" xlink:href=\"#madfc232035\" y=\"33.47822\"/>\r\n     <use style=\"fill:#1f77b4;stroke:#1f77b4;\" x=\"363.363068\" xlink:href=\"#madfc232035\" y=\"32.201761\"/>\r\n    </g>\r\n   </g>\r\n   <g id=\"matplotlib.axis_1\">\r\n    <g id=\"xtick_1\">\r\n     <g id=\"line2d_1\">\r\n      <defs>\r\n       <path d=\"M 0 0 \r\nL 0 3.5 \r\n\" id=\"m3160648da9\" style=\"stroke:#000000;stroke-width:0.8;\"/>\r\n      </defs>\r\n      <g>\r\n       <use style=\"stroke:#000000;stroke-width:0.8;\" x=\"58.178631\" xlink:href=\"#m3160648da9\" y=\"239.758125\"/>\r\n      </g>\r\n     </g>\r\n     <g id=\"text_1\">\r\n      <!-- 0 -->\r\n      <defs>\r\n       <path d=\"M 31.78125 66.40625 \r\nQ 24.171875 66.40625 20.328125 58.90625 \r\nQ 16.5 51.421875 16.5 36.375 \r\nQ 16.5 21.390625 20.328125 13.890625 \r\nQ 24.171875 6.390625 31.78125 6.390625 \r\nQ 39.453125 6.390625 43.28125 13.890625 \r\nQ 47.125 21.390625 47.125 36.375 \r\nQ 47.125 51.421875 43.28125 58.90625 \r\nQ 39.453125 66.40625 31.78125 66.40625 \r\nz\r\nM 31.78125 74.21875 \r\nQ 44.046875 74.21875 50.515625 64.515625 \r\nQ 56.984375 54.828125 56.984375 36.375 \r\nQ 56.984375 17.96875 50.515625 8.265625 \r\nQ 44.046875 -1.421875 31.78125 -1.421875 \r\nQ 19.53125 -1.421875 13.0625 8.265625 \r\nQ 6.59375 17.96875 6.59375 36.375 \r\nQ 6.59375 54.828125 13.0625 64.515625 \r\nQ 19.53125 74.21875 31.78125 74.21875 \r\nz\r\n\" id=\"DejaVuSans-48\"/>\r\n      </defs>\r\n      <g transform=\"translate(54.997381 254.356562)scale(0.1 -0.1)\">\r\n       <use xlink:href=\"#DejaVuSans-48\"/>\r\n      </g>\r\n     </g>\r\n    </g>\r\n    <g id=\"xtick_2\">\r\n     <g id=\"line2d_2\">\r\n      <g>\r\n       <use style=\"stroke:#000000;stroke-width:0.8;\" x=\"116.808707\" xlink:href=\"#m3160648da9\" y=\"239.758125\"/>\r\n      </g>\r\n     </g>\r\n     <g id=\"text_2\">\r\n      <!-- 10 -->\r\n      <defs>\r\n       <path d=\"M 12.40625 8.296875 \r\nL 28.515625 8.296875 \r\nL 28.515625 63.921875 \r\nL 10.984375 60.40625 \r\nL 10.984375 69.390625 \r\nL 28.421875 72.90625 \r\nL 38.28125 72.90625 \r\nL 38.28125 8.296875 \r\nL 54.390625 8.296875 \r\nL 54.390625 0 \r\nL 12.40625 0 \r\nz\r\n\" id=\"DejaVuSans-49\"/>\r\n      </defs>\r\n      <g transform=\"translate(110.446207 254.356562)scale(0.1 -0.1)\">\r\n       <use xlink:href=\"#DejaVuSans-49\"/>\r\n       <use x=\"63.623047\" xlink:href=\"#DejaVuSans-48\"/>\r\n      </g>\r\n     </g>\r\n    </g>\r\n    <g id=\"xtick_3\">\r\n     <g id=\"line2d_3\">\r\n      <g>\r\n       <use style=\"stroke:#000000;stroke-width:0.8;\" x=\"175.438783\" xlink:href=\"#m3160648da9\" y=\"239.758125\"/>\r\n      </g>\r\n     </g>\r\n     <g id=\"text_3\">\r\n      <!-- 20 -->\r\n      <defs>\r\n       <path d=\"M 19.1875 8.296875 \r\nL 53.609375 8.296875 \r\nL 53.609375 0 \r\nL 7.328125 0 \r\nL 7.328125 8.296875 \r\nQ 12.9375 14.109375 22.625 23.890625 \r\nQ 32.328125 33.6875 34.8125 36.53125 \r\nQ 39.546875 41.84375 41.421875 45.53125 \r\nQ 43.3125 49.21875 43.3125 52.78125 \r\nQ 43.3125 58.59375 39.234375 62.25 \r\nQ 35.15625 65.921875 28.609375 65.921875 \r\nQ 23.96875 65.921875 18.8125 64.3125 \r\nQ 13.671875 62.703125 7.8125 59.421875 \r\nL 7.8125 69.390625 \r\nQ 13.765625 71.78125 18.9375 73 \r\nQ 24.125 74.21875 28.421875 74.21875 \r\nQ 39.75 74.21875 46.484375 68.546875 \r\nQ 53.21875 62.890625 53.21875 53.421875 \r\nQ 53.21875 48.921875 51.53125 44.890625 \r\nQ 49.859375 40.875 45.40625 35.40625 \r\nQ 44.1875 33.984375 37.640625 27.21875 \r\nQ 31.109375 20.453125 19.1875 8.296875 \r\nz\r\n\" id=\"DejaVuSans-50\"/>\r\n      </defs>\r\n      <g transform=\"translate(169.076283 254.356562)scale(0.1 -0.1)\">\r\n       <use xlink:href=\"#DejaVuSans-50\"/>\r\n       <use x=\"63.623047\" xlink:href=\"#DejaVuSans-48\"/>\r\n      </g>\r\n     </g>\r\n    </g>\r\n    <g id=\"xtick_4\">\r\n     <g id=\"line2d_4\">\r\n      <g>\r\n       <use style=\"stroke:#000000;stroke-width:0.8;\" x=\"234.068859\" xlink:href=\"#m3160648da9\" y=\"239.758125\"/>\r\n      </g>\r\n     </g>\r\n     <g id=\"text_4\">\r\n      <!-- 30 -->\r\n      <defs>\r\n       <path d=\"M 40.578125 39.3125 \r\nQ 47.65625 37.796875 51.625 33 \r\nQ 55.609375 28.21875 55.609375 21.1875 \r\nQ 55.609375 10.40625 48.1875 4.484375 \r\nQ 40.765625 -1.421875 27.09375 -1.421875 \r\nQ 22.515625 -1.421875 17.65625 -0.515625 \r\nQ 12.796875 0.390625 7.625 2.203125 \r\nL 7.625 11.71875 \r\nQ 11.71875 9.328125 16.59375 8.109375 \r\nQ 21.484375 6.890625 26.8125 6.890625 \r\nQ 36.078125 6.890625 40.9375 10.546875 \r\nQ 45.796875 14.203125 45.796875 21.1875 \r\nQ 45.796875 27.640625 41.28125 31.265625 \r\nQ 36.765625 34.90625 28.71875 34.90625 \r\nL 20.21875 34.90625 \r\nL 20.21875 43.015625 \r\nL 29.109375 43.015625 \r\nQ 36.375 43.015625 40.234375 45.921875 \r\nQ 44.09375 48.828125 44.09375 54.296875 \r\nQ 44.09375 59.90625 40.109375 62.90625 \r\nQ 36.140625 65.921875 28.71875 65.921875 \r\nQ 24.65625 65.921875 20.015625 65.03125 \r\nQ 15.375 64.15625 9.8125 62.3125 \r\nL 9.8125 71.09375 \r\nQ 15.4375 72.65625 20.34375 73.4375 \r\nQ 25.25 74.21875 29.59375 74.21875 \r\nQ 40.828125 74.21875 47.359375 69.109375 \r\nQ 53.90625 64.015625 53.90625 55.328125 \r\nQ 53.90625 49.265625 50.4375 45.09375 \r\nQ 46.96875 40.921875 40.578125 39.3125 \r\nz\r\n\" id=\"DejaVuSans-51\"/>\r\n      </defs>\r\n      <g transform=\"translate(227.706359 254.356562)scale(0.1 -0.1)\">\r\n       <use xlink:href=\"#DejaVuSans-51\"/>\r\n       <use x=\"63.623047\" xlink:href=\"#DejaVuSans-48\"/>\r\n      </g>\r\n     </g>\r\n    </g>\r\n    <g id=\"xtick_5\">\r\n     <g id=\"line2d_5\">\r\n      <g>\r\n       <use style=\"stroke:#000000;stroke-width:0.8;\" x=\"292.698934\" xlink:href=\"#m3160648da9\" y=\"239.758125\"/>\r\n      </g>\r\n     </g>\r\n     <g id=\"text_5\">\r\n      <!-- 40 -->\r\n      <defs>\r\n       <path d=\"M 37.796875 64.3125 \r\nL 12.890625 25.390625 \r\nL 37.796875 25.390625 \r\nz\r\nM 35.203125 72.90625 \r\nL 47.609375 72.90625 \r\nL 47.609375 25.390625 \r\nL 58.015625 25.390625 \r\nL 58.015625 17.1875 \r\nL 47.609375 17.1875 \r\nL 47.609375 0 \r\nL 37.796875 0 \r\nL 37.796875 17.1875 \r\nL 4.890625 17.1875 \r\nL 4.890625 26.703125 \r\nz\r\n\" id=\"DejaVuSans-52\"/>\r\n      </defs>\r\n      <g transform=\"translate(286.336434 254.356562)scale(0.1 -0.1)\">\r\n       <use xlink:href=\"#DejaVuSans-52\"/>\r\n       <use x=\"63.623047\" xlink:href=\"#DejaVuSans-48\"/>\r\n      </g>\r\n     </g>\r\n    </g>\r\n    <g id=\"xtick_6\">\r\n     <g id=\"line2d_6\">\r\n      <g>\r\n       <use style=\"stroke:#000000;stroke-width:0.8;\" x=\"351.32901\" xlink:href=\"#m3160648da9\" y=\"239.758125\"/>\r\n      </g>\r\n     </g>\r\n     <g id=\"text_6\">\r\n      <!-- 50 -->\r\n      <defs>\r\n       <path d=\"M 10.796875 72.90625 \r\nL 49.515625 72.90625 \r\nL 49.515625 64.59375 \r\nL 19.828125 64.59375 \r\nL 19.828125 46.734375 \r\nQ 21.96875 47.46875 24.109375 47.828125 \r\nQ 26.265625 48.1875 28.421875 48.1875 \r\nQ 40.625 48.1875 47.75 41.5 \r\nQ 54.890625 34.8125 54.890625 23.390625 \r\nQ 54.890625 11.625 47.5625 5.09375 \r\nQ 40.234375 -1.421875 26.90625 -1.421875 \r\nQ 22.3125 -1.421875 17.546875 -0.640625 \r\nQ 12.796875 0.140625 7.71875 1.703125 \r\nL 7.71875 11.625 \r\nQ 12.109375 9.234375 16.796875 8.0625 \r\nQ 21.484375 6.890625 26.703125 6.890625 \r\nQ 35.15625 6.890625 40.078125 11.328125 \r\nQ 45.015625 15.765625 45.015625 23.390625 \r\nQ 45.015625 31 40.078125 35.4375 \r\nQ 35.15625 39.890625 26.703125 39.890625 \r\nQ 22.75 39.890625 18.8125 39.015625 \r\nQ 14.890625 38.140625 10.796875 36.28125 \r\nz\r\n\" id=\"DejaVuSans-53\"/>\r\n      </defs>\r\n      <g transform=\"translate(344.96651 254.356562)scale(0.1 -0.1)\">\r\n       <use xlink:href=\"#DejaVuSans-53\"/>\r\n       <use x=\"63.623047\" xlink:href=\"#DejaVuSans-48\"/>\r\n      </g>\r\n     </g>\r\n    </g>\r\n    <g id=\"text_7\">\r\n     <!-- Wall Clock Time (s) -->\r\n     <defs>\r\n      <path d=\"M 3.328125 72.90625 \r\nL 13.28125 72.90625 \r\nL 28.609375 11.28125 \r\nL 43.890625 72.90625 \r\nL 54.984375 72.90625 \r\nL 70.3125 11.28125 \r\nL 85.59375 72.90625 \r\nL 95.609375 72.90625 \r\nL 77.296875 0 \r\nL 64.890625 0 \r\nL 49.515625 63.28125 \r\nL 33.984375 0 \r\nL 21.578125 0 \r\nz\r\n\" id=\"DejaVuSans-87\"/>\r\n      <path d=\"M 34.28125 27.484375 \r\nQ 23.390625 27.484375 19.1875 25 \r\nQ 14.984375 22.515625 14.984375 16.5 \r\nQ 14.984375 11.71875 18.140625 8.90625 \r\nQ 21.296875 6.109375 26.703125 6.109375 \r\nQ 34.1875 6.109375 38.703125 11.40625 \r\nQ 43.21875 16.703125 43.21875 25.484375 \r\nL 43.21875 27.484375 \r\nz\r\nM 52.203125 31.203125 \r\nL 52.203125 0 \r\nL 43.21875 0 \r\nL 43.21875 8.296875 \r\nQ 40.140625 3.328125 35.546875 0.953125 \r\nQ 30.953125 -1.421875 24.3125 -1.421875 \r\nQ 15.921875 -1.421875 10.953125 3.296875 \r\nQ 6 8.015625 6 15.921875 \r\nQ 6 25.140625 12.171875 29.828125 \r\nQ 18.359375 34.515625 30.609375 34.515625 \r\nL 43.21875 34.515625 \r\nL 43.21875 35.40625 \r\nQ 43.21875 41.609375 39.140625 45 \r\nQ 35.0625 48.390625 27.6875 48.390625 \r\nQ 23 48.390625 18.546875 47.265625 \r\nQ 14.109375 46.140625 10.015625 43.890625 \r\nL 10.015625 52.203125 \r\nQ 14.9375 54.109375 19.578125 55.046875 \r\nQ 24.21875 56 28.609375 56 \r\nQ 40.484375 56 46.34375 49.84375 \r\nQ 52.203125 43.703125 52.203125 31.203125 \r\nz\r\n\" id=\"DejaVuSans-97\"/>\r\n      <path d=\"M 9.421875 75.984375 \r\nL 18.40625 75.984375 \r\nL 18.40625 0 \r\nL 9.421875 0 \r\nz\r\n\" id=\"DejaVuSans-108\"/>\r\n      <path id=\"DejaVuSans-32\"/>\r\n      <path d=\"M 64.40625 67.28125 \r\nL 64.40625 56.890625 \r\nQ 59.421875 61.53125 53.78125 63.8125 \r\nQ 48.140625 66.109375 41.796875 66.109375 \r\nQ 29.296875 66.109375 22.65625 58.46875 \r\nQ 16.015625 50.828125 16.015625 36.375 \r\nQ 16.015625 21.96875 22.65625 14.328125 \r\nQ 29.296875 6.6875 41.796875 6.6875 \r\nQ 48.140625 6.6875 53.78125 8.984375 \r\nQ 59.421875 11.28125 64.40625 15.921875 \r\nL 64.40625 5.609375 \r\nQ 59.234375 2.09375 53.4375 0.328125 \r\nQ 47.65625 -1.421875 41.21875 -1.421875 \r\nQ 24.65625 -1.421875 15.125 8.703125 \r\nQ 5.609375 18.84375 5.609375 36.375 \r\nQ 5.609375 53.953125 15.125 64.078125 \r\nQ 24.65625 74.21875 41.21875 74.21875 \r\nQ 47.75 74.21875 53.53125 72.484375 \r\nQ 59.328125 70.75 64.40625 67.28125 \r\nz\r\n\" id=\"DejaVuSans-67\"/>\r\n      <path d=\"M 30.609375 48.390625 \r\nQ 23.390625 48.390625 19.1875 42.75 \r\nQ 14.984375 37.109375 14.984375 27.296875 \r\nQ 14.984375 17.484375 19.15625 11.84375 \r\nQ 23.34375 6.203125 30.609375 6.203125 \r\nQ 37.796875 6.203125 41.984375 11.859375 \r\nQ 46.1875 17.53125 46.1875 27.296875 \r\nQ 46.1875 37.015625 41.984375 42.703125 \r\nQ 37.796875 48.390625 30.609375 48.390625 \r\nz\r\nM 30.609375 56 \r\nQ 42.328125 56 49.015625 48.375 \r\nQ 55.71875 40.765625 55.71875 27.296875 \r\nQ 55.71875 13.875 49.015625 6.21875 \r\nQ 42.328125 -1.421875 30.609375 -1.421875 \r\nQ 18.84375 -1.421875 12.171875 6.21875 \r\nQ 5.515625 13.875 5.515625 27.296875 \r\nQ 5.515625 40.765625 12.171875 48.375 \r\nQ 18.84375 56 30.609375 56 \r\nz\r\n\" id=\"DejaVuSans-111\"/>\r\n      <path d=\"M 48.78125 52.59375 \r\nL 48.78125 44.1875 \r\nQ 44.96875 46.296875 41.140625 47.34375 \r\nQ 37.3125 48.390625 33.40625 48.390625 \r\nQ 24.65625 48.390625 19.8125 42.84375 \r\nQ 14.984375 37.3125 14.984375 27.296875 \r\nQ 14.984375 17.28125 19.8125 11.734375 \r\nQ 24.65625 6.203125 33.40625 6.203125 \r\nQ 37.3125 6.203125 41.140625 7.25 \r\nQ 44.96875 8.296875 48.78125 10.40625 \r\nL 48.78125 2.09375 \r\nQ 45.015625 0.34375 40.984375 -0.53125 \r\nQ 36.96875 -1.421875 32.421875 -1.421875 \r\nQ 20.0625 -1.421875 12.78125 6.34375 \r\nQ 5.515625 14.109375 5.515625 27.296875 \r\nQ 5.515625 40.671875 12.859375 48.328125 \r\nQ 20.21875 56 33.015625 56 \r\nQ 37.15625 56 41.109375 55.140625 \r\nQ 45.0625 54.296875 48.78125 52.59375 \r\nz\r\n\" id=\"DejaVuSans-99\"/>\r\n      <path d=\"M 9.078125 75.984375 \r\nL 18.109375 75.984375 \r\nL 18.109375 31.109375 \r\nL 44.921875 54.6875 \r\nL 56.390625 54.6875 \r\nL 27.390625 29.109375 \r\nL 57.625 0 \r\nL 45.90625 0 \r\nL 18.109375 26.703125 \r\nL 18.109375 0 \r\nL 9.078125 0 \r\nz\r\n\" id=\"DejaVuSans-107\"/>\r\n      <path d=\"M -0.296875 72.90625 \r\nL 61.375 72.90625 \r\nL 61.375 64.59375 \r\nL 35.5 64.59375 \r\nL 35.5 0 \r\nL 25.59375 0 \r\nL 25.59375 64.59375 \r\nL -0.296875 64.59375 \r\nz\r\n\" id=\"DejaVuSans-84\"/>\r\n      <path d=\"M 9.421875 54.6875 \r\nL 18.40625 54.6875 \r\nL 18.40625 0 \r\nL 9.421875 0 \r\nz\r\nM 9.421875 75.984375 \r\nL 18.40625 75.984375 \r\nL 18.40625 64.59375 \r\nL 9.421875 64.59375 \r\nz\r\n\" id=\"DejaVuSans-105\"/>\r\n      <path d=\"M 52 44.1875 \r\nQ 55.375 50.25 60.0625 53.125 \r\nQ 64.75 56 71.09375 56 \r\nQ 79.640625 56 84.28125 50.015625 \r\nQ 88.921875 44.046875 88.921875 33.015625 \r\nL 88.921875 0 \r\nL 79.890625 0 \r\nL 79.890625 32.71875 \r\nQ 79.890625 40.578125 77.09375 44.375 \r\nQ 74.3125 48.1875 68.609375 48.1875 \r\nQ 61.625 48.1875 57.5625 43.546875 \r\nQ 53.515625 38.921875 53.515625 30.90625 \r\nL 53.515625 0 \r\nL 44.484375 0 \r\nL 44.484375 32.71875 \r\nQ 44.484375 40.625 41.703125 44.40625 \r\nQ 38.921875 48.1875 33.109375 48.1875 \r\nQ 26.21875 48.1875 22.15625 43.53125 \r\nQ 18.109375 38.875 18.109375 30.90625 \r\nL 18.109375 0 \r\nL 9.078125 0 \r\nL 9.078125 54.6875 \r\nL 18.109375 54.6875 \r\nL 18.109375 46.1875 \r\nQ 21.1875 51.21875 25.484375 53.609375 \r\nQ 29.78125 56 35.6875 56 \r\nQ 41.65625 56 45.828125 52.96875 \r\nQ 50 49.953125 52 44.1875 \r\nz\r\n\" id=\"DejaVuSans-109\"/>\r\n      <path d=\"M 56.203125 29.59375 \r\nL 56.203125 25.203125 \r\nL 14.890625 25.203125 \r\nQ 15.484375 15.921875 20.484375 11.0625 \r\nQ 25.484375 6.203125 34.421875 6.203125 \r\nQ 39.59375 6.203125 44.453125 7.46875 \r\nQ 49.3125 8.734375 54.109375 11.28125 \r\nL 54.109375 2.78125 \r\nQ 49.265625 0.734375 44.1875 -0.34375 \r\nQ 39.109375 -1.421875 33.890625 -1.421875 \r\nQ 20.796875 -1.421875 13.15625 6.1875 \r\nQ 5.515625 13.8125 5.515625 26.8125 \r\nQ 5.515625 40.234375 12.765625 48.109375 \r\nQ 20.015625 56 32.328125 56 \r\nQ 43.359375 56 49.78125 48.890625 \r\nQ 56.203125 41.796875 56.203125 29.59375 \r\nz\r\nM 47.21875 32.234375 \r\nQ 47.125 39.59375 43.09375 43.984375 \r\nQ 39.0625 48.390625 32.421875 48.390625 \r\nQ 24.90625 48.390625 20.390625 44.140625 \r\nQ 15.875 39.890625 15.1875 32.171875 \r\nz\r\n\" id=\"DejaVuSans-101\"/>\r\n      <path d=\"M 31 75.875 \r\nQ 24.46875 64.65625 21.28125 53.65625 \r\nQ 18.109375 42.671875 18.109375 31.390625 \r\nQ 18.109375 20.125 21.3125 9.0625 \r\nQ 24.515625 -2 31 -13.1875 \r\nL 23.1875 -13.1875 \r\nQ 15.875 -1.703125 12.234375 9.375 \r\nQ 8.59375 20.453125 8.59375 31.390625 \r\nQ 8.59375 42.28125 12.203125 53.3125 \r\nQ 15.828125 64.359375 23.1875 75.875 \r\nz\r\n\" id=\"DejaVuSans-40\"/>\r\n      <path d=\"M 44.28125 53.078125 \r\nL 44.28125 44.578125 \r\nQ 40.484375 46.53125 36.375 47.5 \r\nQ 32.28125 48.484375 27.875 48.484375 \r\nQ 21.1875 48.484375 17.84375 46.4375 \r\nQ 14.5 44.390625 14.5 40.28125 \r\nQ 14.5 37.15625 16.890625 35.375 \r\nQ 19.28125 33.59375 26.515625 31.984375 \r\nL 29.59375 31.296875 \r\nQ 39.15625 29.25 43.1875 25.515625 \r\nQ 47.21875 21.78125 47.21875 15.09375 \r\nQ 47.21875 7.46875 41.1875 3.015625 \r\nQ 35.15625 -1.421875 24.609375 -1.421875 \r\nQ 20.21875 -1.421875 15.453125 -0.5625 \r\nQ 10.6875 0.296875 5.421875 2 \r\nL 5.421875 11.28125 \r\nQ 10.40625 8.6875 15.234375 7.390625 \r\nQ 20.0625 6.109375 24.8125 6.109375 \r\nQ 31.15625 6.109375 34.5625 8.28125 \r\nQ 37.984375 10.453125 37.984375 14.40625 \r\nQ 37.984375 18.0625 35.515625 20.015625 \r\nQ 33.0625 21.96875 24.703125 23.78125 \r\nL 21.578125 24.515625 \r\nQ 13.234375 26.265625 9.515625 29.90625 \r\nQ 5.8125 33.546875 5.8125 39.890625 \r\nQ 5.8125 47.609375 11.28125 51.796875 \r\nQ 16.75 56 26.8125 56 \r\nQ 31.78125 56 36.171875 55.265625 \r\nQ 40.578125 54.546875 44.28125 53.078125 \r\nz\r\n\" id=\"DejaVuSans-115\"/>\r\n      <path d=\"M 8.015625 75.875 \r\nL 15.828125 75.875 \r\nQ 23.140625 64.359375 26.78125 53.3125 \r\nQ 30.421875 42.28125 30.421875 31.390625 \r\nQ 30.421875 20.453125 26.78125 9.375 \r\nQ 23.140625 -1.703125 15.828125 -13.1875 \r\nL 8.015625 -13.1875 \r\nQ 14.5 -2 17.703125 9.0625 \r\nQ 20.90625 20.125 20.90625 31.390625 \r\nQ 20.90625 42.671875 17.703125 53.65625 \r\nQ 14.5 64.65625 8.015625 75.875 \r\nz\r\n\" id=\"DejaVuSans-41\"/>\r\n     </defs>\r\n     <g transform=\"translate(163.622656 268.034687)scale(0.1 -0.1)\">\r\n      <use xlink:href=\"#DejaVuSans-87\"/>\r\n      <use x=\"92.501953\" xlink:href=\"#DejaVuSans-97\"/>\r\n      <use x=\"153.78125\" xlink:href=\"#DejaVuSans-108\"/>\r\n      <use x=\"181.564453\" xlink:href=\"#DejaVuSans-108\"/>\r\n      <use x=\"209.347656\" xlink:href=\"#DejaVuSans-32\"/>\r\n      <use x=\"241.134766\" xlink:href=\"#DejaVuSans-67\"/>\r\n      <use x=\"310.958984\" xlink:href=\"#DejaVuSans-108\"/>\r\n      <use x=\"338.742188\" xlink:href=\"#DejaVuSans-111\"/>\r\n      <use x=\"399.923828\" xlink:href=\"#DejaVuSans-99\"/>\r\n      <use x=\"454.904297\" xlink:href=\"#DejaVuSans-107\"/>\r\n      <use x=\"512.814453\" xlink:href=\"#DejaVuSans-32\"/>\r\n      <use x=\"544.601562\" xlink:href=\"#DejaVuSans-84\"/>\r\n      <use x=\"602.560547\" xlink:href=\"#DejaVuSans-105\"/>\r\n      <use x=\"630.34375\" xlink:href=\"#DejaVuSans-109\"/>\r\n      <use x=\"727.755859\" xlink:href=\"#DejaVuSans-101\"/>\r\n      <use x=\"789.279297\" xlink:href=\"#DejaVuSans-32\"/>\r\n      <use x=\"821.066406\" xlink:href=\"#DejaVuSans-40\"/>\r\n      <use x=\"860.080078\" xlink:href=\"#DejaVuSans-115\"/>\r\n      <use x=\"912.179688\" xlink:href=\"#DejaVuSans-41\"/>\r\n     </g>\r\n    </g>\r\n   </g>\r\n   <g id=\"matplotlib.axis_2\">\r\n    <g id=\"ytick_1\">\r\n     <g id=\"line2d_7\">\r\n      <defs>\r\n       <path d=\"M 0 0 \r\nL -3.5 0 \r\n\" id=\"mebda472922\" style=\"stroke:#000000;stroke-width:0.8;\"/>\r\n      </defs>\r\n      <g>\r\n       <use style=\"stroke:#000000;stroke-width:0.8;\" x=\"43.78125\" xlink:href=\"#mebda472922\" y=\"216.502154\"/>\r\n      </g>\r\n     </g>\r\n     <g id=\"text_8\">\r\n      <!-- 0.3 -->\r\n      <defs>\r\n       <path d=\"M 10.6875 12.40625 \r\nL 21 12.40625 \r\nL 21 0 \r\nL 10.6875 0 \r\nz\r\n\" id=\"DejaVuSans-46\"/>\r\n      </defs>\r\n      <g transform=\"translate(20.878125 220.301373)scale(0.1 -0.1)\">\r\n       <use xlink:href=\"#DejaVuSans-48\"/>\r\n       <use x=\"63.623047\" xlink:href=\"#DejaVuSans-46\"/>\r\n       <use x=\"95.410156\" xlink:href=\"#DejaVuSans-51\"/>\r\n      </g>\r\n     </g>\r\n    </g>\r\n    <g id=\"ytick_2\">\r\n     <g id=\"line2d_8\">\r\n      <g>\r\n       <use style=\"stroke:#000000;stroke-width:0.8;\" x=\"43.78125\" xlink:href=\"#mebda472922\" y=\"181.564616\"/>\r\n      </g>\r\n     </g>\r\n     <g id=\"text_9\">\r\n      <!-- 0.4 -->\r\n      <g transform=\"translate(20.878125 185.363835)scale(0.1 -0.1)\">\r\n       <use xlink:href=\"#DejaVuSans-48\"/>\r\n       <use x=\"63.623047\" xlink:href=\"#DejaVuSans-46\"/>\r\n       <use x=\"95.410156\" xlink:href=\"#DejaVuSans-52\"/>\r\n      </g>\r\n     </g>\r\n    </g>\r\n    <g id=\"ytick_3\">\r\n     <g id=\"line2d_9\">\r\n      <g>\r\n       <use style=\"stroke:#000000;stroke-width:0.8;\" x=\"43.78125\" xlink:href=\"#mebda472922\" y=\"146.627078\"/>\r\n      </g>\r\n     </g>\r\n     <g id=\"text_10\">\r\n      <!-- 0.5 -->\r\n      <g transform=\"translate(20.878125 150.426297)scale(0.1 -0.1)\">\r\n       <use xlink:href=\"#DejaVuSans-48\"/>\r\n       <use x=\"63.623047\" xlink:href=\"#DejaVuSans-46\"/>\r\n       <use x=\"95.410156\" xlink:href=\"#DejaVuSans-53\"/>\r\n      </g>\r\n     </g>\r\n    </g>\r\n    <g id=\"ytick_4\">\r\n     <g id=\"line2d_10\">\r\n      <g>\r\n       <use style=\"stroke:#000000;stroke-width:0.8;\" x=\"43.78125\" xlink:href=\"#mebda472922\" y=\"111.689541\"/>\r\n      </g>\r\n     </g>\r\n     <g id=\"text_11\">\r\n      <!-- 0.6 -->\r\n      <defs>\r\n       <path d=\"M 33.015625 40.375 \r\nQ 26.375 40.375 22.484375 35.828125 \r\nQ 18.609375 31.296875 18.609375 23.390625 \r\nQ 18.609375 15.53125 22.484375 10.953125 \r\nQ 26.375 6.390625 33.015625 6.390625 \r\nQ 39.65625 6.390625 43.53125 10.953125 \r\nQ 47.40625 15.53125 47.40625 23.390625 \r\nQ 47.40625 31.296875 43.53125 35.828125 \r\nQ 39.65625 40.375 33.015625 40.375 \r\nz\r\nM 52.59375 71.296875 \r\nL 52.59375 62.3125 \r\nQ 48.875 64.0625 45.09375 64.984375 \r\nQ 41.3125 65.921875 37.59375 65.921875 \r\nQ 27.828125 65.921875 22.671875 59.328125 \r\nQ 17.53125 52.734375 16.796875 39.40625 \r\nQ 19.671875 43.65625 24.015625 45.921875 \r\nQ 28.375 48.1875 33.59375 48.1875 \r\nQ 44.578125 48.1875 50.953125 41.515625 \r\nQ 57.328125 34.859375 57.328125 23.390625 \r\nQ 57.328125 12.15625 50.6875 5.359375 \r\nQ 44.046875 -1.421875 33.015625 -1.421875 \r\nQ 20.359375 -1.421875 13.671875 8.265625 \r\nQ 6.984375 17.96875 6.984375 36.375 \r\nQ 6.984375 53.65625 15.1875 63.9375 \r\nQ 23.390625 74.21875 37.203125 74.21875 \r\nQ 40.921875 74.21875 44.703125 73.484375 \r\nQ 48.484375 72.75 52.59375 71.296875 \r\nz\r\n\" id=\"DejaVuSans-54\"/>\r\n      </defs>\r\n      <g transform=\"translate(20.878125 115.488759)scale(0.1 -0.1)\">\r\n       <use xlink:href=\"#DejaVuSans-48\"/>\r\n       <use x=\"63.623047\" xlink:href=\"#DejaVuSans-46\"/>\r\n       <use x=\"95.410156\" xlink:href=\"#DejaVuSans-54\"/>\r\n      </g>\r\n     </g>\r\n    </g>\r\n    <g id=\"ytick_5\">\r\n     <g id=\"line2d_11\">\r\n      <g>\r\n       <use style=\"stroke:#000000;stroke-width:0.8;\" x=\"43.78125\" xlink:href=\"#mebda472922\" y=\"76.752003\"/>\r\n      </g>\r\n     </g>\r\n     <g id=\"text_12\">\r\n      <!-- 0.7 -->\r\n      <defs>\r\n       <path d=\"M 8.203125 72.90625 \r\nL 55.078125 72.90625 \r\nL 55.078125 68.703125 \r\nL 28.609375 0 \r\nL 18.3125 0 \r\nL 43.21875 64.59375 \r\nL 8.203125 64.59375 \r\nz\r\n\" id=\"DejaVuSans-55\"/>\r\n      </defs>\r\n      <g transform=\"translate(20.878125 80.551222)scale(0.1 -0.1)\">\r\n       <use xlink:href=\"#DejaVuSans-48\"/>\r\n       <use x=\"63.623047\" xlink:href=\"#DejaVuSans-46\"/>\r\n       <use x=\"95.410156\" xlink:href=\"#DejaVuSans-55\"/>\r\n      </g>\r\n     </g>\r\n    </g>\r\n    <g id=\"ytick_6\">\r\n     <g id=\"line2d_12\">\r\n      <g>\r\n       <use style=\"stroke:#000000;stroke-width:0.8;\" x=\"43.78125\" xlink:href=\"#mebda472922\" y=\"41.814465\"/>\r\n      </g>\r\n     </g>\r\n     <g id=\"text_13\">\r\n      <!-- 0.8 -->\r\n      <defs>\r\n       <path d=\"M 31.78125 34.625 \r\nQ 24.75 34.625 20.71875 30.859375 \r\nQ 16.703125 27.09375 16.703125 20.515625 \r\nQ 16.703125 13.921875 20.71875 10.15625 \r\nQ 24.75 6.390625 31.78125 6.390625 \r\nQ 38.8125 6.390625 42.859375 10.171875 \r\nQ 46.921875 13.96875 46.921875 20.515625 \r\nQ 46.921875 27.09375 42.890625 30.859375 \r\nQ 38.875 34.625 31.78125 34.625 \r\nz\r\nM 21.921875 38.8125 \r\nQ 15.578125 40.375 12.03125 44.71875 \r\nQ 8.5 49.078125 8.5 55.328125 \r\nQ 8.5 64.0625 14.71875 69.140625 \r\nQ 20.953125 74.21875 31.78125 74.21875 \r\nQ 42.671875 74.21875 48.875 69.140625 \r\nQ 55.078125 64.0625 55.078125 55.328125 \r\nQ 55.078125 49.078125 51.53125 44.71875 \r\nQ 48 40.375 41.703125 38.8125 \r\nQ 48.828125 37.15625 52.796875 32.3125 \r\nQ 56.78125 27.484375 56.78125 20.515625 \r\nQ 56.78125 9.90625 50.3125 4.234375 \r\nQ 43.84375 -1.421875 31.78125 -1.421875 \r\nQ 19.734375 -1.421875 13.25 4.234375 \r\nQ 6.78125 9.90625 6.78125 20.515625 \r\nQ 6.78125 27.484375 10.78125 32.3125 \r\nQ 14.796875 37.15625 21.921875 38.8125 \r\nz\r\nM 18.3125 54.390625 \r\nQ 18.3125 48.734375 21.84375 45.5625 \r\nQ 25.390625 42.390625 31.78125 42.390625 \r\nQ 38.140625 42.390625 41.71875 45.5625 \r\nQ 45.3125 48.734375 45.3125 54.390625 \r\nQ 45.3125 60.0625 41.71875 63.234375 \r\nQ 38.140625 66.40625 31.78125 66.40625 \r\nQ 25.390625 66.40625 21.84375 63.234375 \r\nQ 18.3125 60.0625 18.3125 54.390625 \r\nz\r\n\" id=\"DejaVuSans-56\"/>\r\n      </defs>\r\n      <g transform=\"translate(20.878125 45.613684)scale(0.1 -0.1)\">\r\n       <use xlink:href=\"#DejaVuSans-48\"/>\r\n       <use x=\"63.623047\" xlink:href=\"#DejaVuSans-46\"/>\r\n       <use x=\"95.410156\" xlink:href=\"#DejaVuSans-56\"/>\r\n      </g>\r\n     </g>\r\n    </g>\r\n    <g id=\"text_14\">\r\n     <!-- Validation r2 -->\r\n     <defs>\r\n      <path d=\"M 28.609375 0 \r\nL 0.78125 72.90625 \r\nL 11.078125 72.90625 \r\nL 34.1875 11.53125 \r\nL 57.328125 72.90625 \r\nL 67.578125 72.90625 \r\nL 39.796875 0 \r\nz\r\n\" id=\"DejaVuSans-86\"/>\r\n      <path d=\"M 45.40625 46.390625 \r\nL 45.40625 75.984375 \r\nL 54.390625 75.984375 \r\nL 54.390625 0 \r\nL 45.40625 0 \r\nL 45.40625 8.203125 \r\nQ 42.578125 3.328125 38.25 0.953125 \r\nQ 33.9375 -1.421875 27.875 -1.421875 \r\nQ 17.96875 -1.421875 11.734375 6.484375 \r\nQ 5.515625 14.40625 5.515625 27.296875 \r\nQ 5.515625 40.1875 11.734375 48.09375 \r\nQ 17.96875 56 27.875 56 \r\nQ 33.9375 56 38.25 53.625 \r\nQ 42.578125 51.265625 45.40625 46.390625 \r\nz\r\nM 14.796875 27.296875 \r\nQ 14.796875 17.390625 18.875 11.75 \r\nQ 22.953125 6.109375 30.078125 6.109375 \r\nQ 37.203125 6.109375 41.296875 11.75 \r\nQ 45.40625 17.390625 45.40625 27.296875 \r\nQ 45.40625 37.203125 41.296875 42.84375 \r\nQ 37.203125 48.484375 30.078125 48.484375 \r\nQ 22.953125 48.484375 18.875 42.84375 \r\nQ 14.796875 37.203125 14.796875 27.296875 \r\nz\r\n\" id=\"DejaVuSans-100\"/>\r\n      <path d=\"M 18.3125 70.21875 \r\nL 18.3125 54.6875 \r\nL 36.8125 54.6875 \r\nL 36.8125 47.703125 \r\nL 18.3125 47.703125 \r\nL 18.3125 18.015625 \r\nQ 18.3125 11.328125 20.140625 9.421875 \r\nQ 21.96875 7.515625 27.59375 7.515625 \r\nL 36.8125 7.515625 \r\nL 36.8125 0 \r\nL 27.59375 0 \r\nQ 17.1875 0 13.234375 3.875 \r\nQ 9.28125 7.765625 9.28125 18.015625 \r\nL 9.28125 47.703125 \r\nL 2.6875 47.703125 \r\nL 2.6875 54.6875 \r\nL 9.28125 54.6875 \r\nL 9.28125 70.21875 \r\nz\r\n\" id=\"DejaVuSans-116\"/>\r\n      <path d=\"M 54.890625 33.015625 \r\nL 54.890625 0 \r\nL 45.90625 0 \r\nL 45.90625 32.71875 \r\nQ 45.90625 40.484375 42.875 44.328125 \r\nQ 39.84375 48.1875 33.796875 48.1875 \r\nQ 26.515625 48.1875 22.3125 43.546875 \r\nQ 18.109375 38.921875 18.109375 30.90625 \r\nL 18.109375 0 \r\nL 9.078125 0 \r\nL 9.078125 54.6875 \r\nL 18.109375 54.6875 \r\nL 18.109375 46.1875 \r\nQ 21.34375 51.125 25.703125 53.5625 \r\nQ 30.078125 56 35.796875 56 \r\nQ 45.21875 56 50.046875 50.171875 \r\nQ 54.890625 44.34375 54.890625 33.015625 \r\nz\r\n\" id=\"DejaVuSans-110\"/>\r\n      <path d=\"M 41.109375 46.296875 \r\nQ 39.59375 47.171875 37.8125 47.578125 \r\nQ 36.03125 48 33.890625 48 \r\nQ 26.265625 48 22.1875 43.046875 \r\nQ 18.109375 38.09375 18.109375 28.8125 \r\nL 18.109375 0 \r\nL 9.078125 0 \r\nL 9.078125 54.6875 \r\nL 18.109375 54.6875 \r\nL 18.109375 46.1875 \r\nQ 20.953125 51.171875 25.484375 53.578125 \r\nQ 30.03125 56 36.53125 56 \r\nQ 37.453125 56 38.578125 55.875 \r\nQ 39.703125 55.765625 41.0625 55.515625 \r\nz\r\n\" id=\"DejaVuSans-114\"/>\r\n     </defs>\r\n     <g transform=\"translate(14.798438 162.554531)rotate(-90)scale(0.1 -0.1)\">\r\n      <use xlink:href=\"#DejaVuSans-86\"/>\r\n      <use x=\"60.658203\" xlink:href=\"#DejaVuSans-97\"/>\r\n      <use x=\"121.9375\" xlink:href=\"#DejaVuSans-108\"/>\r\n      <use x=\"149.720703\" xlink:href=\"#DejaVuSans-105\"/>\r\n      <use x=\"177.503906\" xlink:href=\"#DejaVuSans-100\"/>\r\n      <use x=\"240.980469\" xlink:href=\"#DejaVuSans-97\"/>\r\n      <use x=\"302.259766\" xlink:href=\"#DejaVuSans-116\"/>\r\n      <use x=\"341.46875\" xlink:href=\"#DejaVuSans-105\"/>\r\n      <use x=\"369.251953\" xlink:href=\"#DejaVuSans-111\"/>\r\n      <use x=\"430.433594\" xlink:href=\"#DejaVuSans-110\"/>\r\n      <use x=\"493.8125\" xlink:href=\"#DejaVuSans-32\"/>\r\n      <use x=\"525.599609\" xlink:href=\"#DejaVuSans-114\"/>\r\n      <use x=\"566.712891\" xlink:href=\"#DejaVuSans-50\"/>\r\n     </g>\r\n    </g>\r\n   </g>\r\n   <g id=\"line2d_13\">\r\n    <path clip-path=\"url(#pc6ba241b87)\" d=\"M 58.999432 229.874489 \r\nL 60.41829 229.874489 \r\nL 60.41829 131.884705 \r\nL 62.587602 131.884705 \r\nL 62.587602 64.081953 \r\nL 64.176474 64.081953 \r\nL 64.176474 51.728855 \r\nL 74.193773 51.728855 \r\nL 74.193773 50.967974 \r\nL 80.63769 50.967974 \r\nL 80.63769 42.123928 \r\nL 95.125617 42.123928 \r\nL 95.125617 36.726087 \r\nL 171.044361 36.726087 \r\nL 171.044361 33.47822 \r\nL 363.363068 33.47822 \r\nL 363.363068 32.201761 \r\n\" style=\"fill:none;stroke:#1f77b4;stroke-linecap:square;stroke-width:1.5;\"/>\r\n   </g>\r\n   <g id=\"patch_3\">\r\n    <path d=\"M 43.78125 239.758125 \r\nL 43.78125 22.318125 \r\n\" style=\"fill:none;stroke:#000000;stroke-linecap:square;stroke-linejoin:miter;stroke-width:0.8;\"/>\r\n   </g>\r\n   <g id=\"patch_4\">\r\n    <path d=\"M 378.58125 239.758125 \r\nL 378.58125 22.318125 \r\n\" style=\"fill:none;stroke:#000000;stroke-linecap:square;stroke-linejoin:miter;stroke-width:0.8;\"/>\r\n   </g>\r\n   <g id=\"patch_5\">\r\n    <path d=\"M 43.78125 239.758125 \r\nL 378.58125 239.758125 \r\n\" style=\"fill:none;stroke:#000000;stroke-linecap:square;stroke-linejoin:miter;stroke-width:0.8;\"/>\r\n   </g>\r\n   <g id=\"patch_6\">\r\n    <path d=\"M 43.78125 22.318125 \r\nL 378.58125 22.318125 \r\n\" style=\"fill:none;stroke:#000000;stroke-linecap:square;stroke-linejoin:miter;stroke-width:0.8;\"/>\r\n   </g>\r\n   <g id=\"text_15\">\r\n    <!-- Learning Curve -->\r\n    <defs>\r\n     <path d=\"M 9.8125 72.90625 \r\nL 19.671875 72.90625 \r\nL 19.671875 8.296875 \r\nL 55.171875 8.296875 \r\nL 55.171875 0 \r\nL 9.8125 0 \r\nz\r\n\" id=\"DejaVuSans-76\"/>\r\n     <path d=\"M 45.40625 27.984375 \r\nQ 45.40625 37.75 41.375 43.109375 \r\nQ 37.359375 48.484375 30.078125 48.484375 \r\nQ 22.859375 48.484375 18.828125 43.109375 \r\nQ 14.796875 37.75 14.796875 27.984375 \r\nQ 14.796875 18.265625 18.828125 12.890625 \r\nQ 22.859375 7.515625 30.078125 7.515625 \r\nQ 37.359375 7.515625 41.375 12.890625 \r\nQ 45.40625 18.265625 45.40625 27.984375 \r\nz\r\nM 54.390625 6.78125 \r\nQ 54.390625 -7.171875 48.1875 -13.984375 \r\nQ 42 -20.796875 29.203125 -20.796875 \r\nQ 24.46875 -20.796875 20.265625 -20.09375 \r\nQ 16.0625 -19.390625 12.109375 -17.921875 \r\nL 12.109375 -9.1875 \r\nQ 16.0625 -11.328125 19.921875 -12.34375 \r\nQ 23.78125 -13.375 27.78125 -13.375 \r\nQ 36.625 -13.375 41.015625 -8.765625 \r\nQ 45.40625 -4.15625 45.40625 5.171875 \r\nL 45.40625 9.625 \r\nQ 42.625 4.78125 38.28125 2.390625 \r\nQ 33.9375 0 27.875 0 \r\nQ 17.828125 0 11.671875 7.65625 \r\nQ 5.515625 15.328125 5.515625 27.984375 \r\nQ 5.515625 40.671875 11.671875 48.328125 \r\nQ 17.828125 56 27.875 56 \r\nQ 33.9375 56 38.28125 53.609375 \r\nQ 42.625 51.21875 45.40625 46.390625 \r\nL 45.40625 54.6875 \r\nL 54.390625 54.6875 \r\nz\r\n\" id=\"DejaVuSans-103\"/>\r\n     <path d=\"M 8.5 21.578125 \r\nL 8.5 54.6875 \r\nL 17.484375 54.6875 \r\nL 17.484375 21.921875 \r\nQ 17.484375 14.15625 20.5 10.265625 \r\nQ 23.53125 6.390625 29.59375 6.390625 \r\nQ 36.859375 6.390625 41.078125 11.03125 \r\nQ 45.3125 15.671875 45.3125 23.6875 \r\nL 45.3125 54.6875 \r\nL 54.296875 54.6875 \r\nL 54.296875 0 \r\nL 45.3125 0 \r\nL 45.3125 8.40625 \r\nQ 42.046875 3.421875 37.71875 1 \r\nQ 33.40625 -1.421875 27.6875 -1.421875 \r\nQ 18.265625 -1.421875 13.375 4.4375 \r\nQ 8.5 10.296875 8.5 21.578125 \r\nz\r\nM 31.109375 56 \r\nz\r\n\" id=\"DejaVuSans-117\"/>\r\n     <path d=\"M 2.984375 54.6875 \r\nL 12.5 54.6875 \r\nL 29.59375 8.796875 \r\nL 46.6875 54.6875 \r\nL 56.203125 54.6875 \r\nL 35.6875 0 \r\nL 23.484375 0 \r\nz\r\n\" id=\"DejaVuSans-118\"/>\r\n    </defs>\r\n    <g transform=\"translate(165.523125 16.318125)scale(0.12 -0.12)\">\r\n     <use xlink:href=\"#DejaVuSans-76\"/>\r\n     <use x=\"53.962891\" xlink:href=\"#DejaVuSans-101\"/>\r\n     <use x=\"115.486328\" xlink:href=\"#DejaVuSans-97\"/>\r\n     <use x=\"176.765625\" xlink:href=\"#DejaVuSans-114\"/>\r\n     <use x=\"216.128906\" xlink:href=\"#DejaVuSans-110\"/>\r\n     <use x=\"279.507812\" xlink:href=\"#DejaVuSans-105\"/>\r\n     <use x=\"307.291016\" xlink:href=\"#DejaVuSans-110\"/>\r\n     <use x=\"370.669922\" xlink:href=\"#DejaVuSans-103\"/>\r\n     <use x=\"434.146484\" xlink:href=\"#DejaVuSans-32\"/>\r\n     <use x=\"465.933594\" xlink:href=\"#DejaVuSans-67\"/>\r\n     <use x=\"535.757812\" xlink:href=\"#DejaVuSans-117\"/>\r\n     <use x=\"599.136719\" xlink:href=\"#DejaVuSans-114\"/>\r\n     <use x=\"640.25\" xlink:href=\"#DejaVuSans-118\"/>\r\n     <use x=\"699.429688\" xlink:href=\"#DejaVuSans-101\"/>\r\n    </g>\r\n   </g>\r\n  </g>\r\n </g>\r\n <defs>\r\n  <clipPath id=\"pc6ba241b87\">\r\n   <rect height=\"217.44\" width=\"334.8\" x=\"43.78125\" y=\"22.318125\"/>\r\n  </clipPath>\r\n </defs>\r\n</svg>\r\n",
      "image/png": "[encoded data removed]"
     },
     "metadata": {
      "needs_background": "light"
     }
    }
   ],
   "source": [
    "import matplotlib.pyplot as plt\n",
    "import numpy as np\n",
    "\n",
    "plt.title('Learning Curve')\n",
    "plt.xlabel('Wall Clock Time (s)')\n",
    "plt.ylabel('Validation r2')\n",
    "plt.scatter(time_history, 1-np.array(valid_loss_history))\n",
    "plt.step(time_history, 1-np.array(best_valid_loss_history), where='post')\n",
    "plt.show()"
   ]
  },
  {
   "source": [
    "## 3. Comparison with alternatives\n",
    "\n",
    "### FLAML's accuracy"
   ],
   "cell_type": "markdown",
   "metadata": {}
  },
  {
   "cell_type": "code",
   "execution_count": 13,
   "metadata": {},
   "outputs": [
    {
     "output_type": "stream",
     "name": "stdout",
     "text": [
      "flaml r2 = 0.8503723727607084\n"
     ]
    }
   ],
   "source": [
    "print('flaml r2', '=', 1 - sklearn_metric_loss_score('r2', y_pred, y_test))"
   ]
  },
  {
   "source": [
    "### Default LightGBM"
   ],
   "cell_type": "markdown",
   "metadata": {}
  },
  {
   "cell_type": "code",
   "execution_count": 14,
   "metadata": {},
   "outputs": [],
   "source": [
    "from lightgbm import LGBMRegressor\n",
    "lgbm = LGBMRegressor()"
   ]
  },
  {
   "cell_type": "code",
   "execution_count": 15,
   "metadata": {},
   "outputs": [
    {
     "output_type": "execute_result",
     "data": {
      "text/plain": [
       "LGBMRegressor()"
      ]
     },
     "metadata": {},
     "execution_count": 15
    }
   ],
   "source": [
    "lgbm.fit(X_train, y_train)"
   ]
  },
  {
   "cell_type": "code",
   "execution_count": 16,
   "metadata": {},
   "outputs": [
    {
     "output_type": "stream",
     "name": "stdout",
     "text": [
      "default lgbm r2 = 0.8296179648694404\n"
     ]
    }
   ],
   "source": [
    "y_pred = lgbm.predict(X_test)\n",
    "from flaml.ml import sklearn_metric_loss_score\n",
    "print('default lgbm r2', '=', 1 - sklearn_metric_loss_score('r2', y_pred, y_test))"
   ]
  },
  {
   "source": [
    "### Optuna LightGBM Tuner"
   ],
   "cell_type": "markdown",
   "metadata": {}
  },
  {
   "cell_type": "code",
   "execution_count": 17,
   "metadata": {},
   "outputs": [
    {
     "output_type": "stream",
     "name": "stdout",
     "text": [
      "Requirement already satisfied: optuna in c:\\users\\chiw\\miniconda3\\envs\\flaml\\lib\\site-packages (2.3.0)\nRequirement already satisfied: tqdm in c:\\users\\chiw\\miniconda3\\envs\\flaml\\lib\\site-packages (from optuna) (4.56.1)\nRequirement already satisfied: packaging>=20.0 in c:\\users\\chiw\\miniconda3\\envs\\flaml\\lib\\site-packages (from optuna) (20.4)\nRequirement already satisfied: alembic in c:\\users\\chiw\\miniconda3\\envs\\flaml\\lib\\site-packages (from optuna) (1.4.1)\nRequirement already satisfied: sqlalchemy>=1.1.0 in c:\\users\\chiw\\miniconda3\\envs\\flaml\\lib\\site-packages (from optuna) (1.3.20)\nRequirement already satisfied: cliff in c:\\users\\chiw\\miniconda3\\envs\\flaml\\lib\\site-packages (from optuna) (3.5.0)\nRequirement already satisfied: colorlog in c:\\users\\chiw\\miniconda3\\envs\\flaml\\lib\\site-packages (from optuna) (4.6.2)\nRequirement already satisfied: scipy!=1.4.0 in c:\\users\\chiw\\miniconda3\\envs\\flaml\\lib\\site-packages (from optuna) (1.4.1)\nRequirement already satisfied: numpy in c:\\users\\chiw\\miniconda3\\envs\\flaml\\lib\\site-packages (from optuna) (1.18.4)\nRequirement already satisfied: joblib in c:\\users\\chiw\\miniconda3\\envs\\flaml\\lib\\site-packages (from optuna) (0.14.1)\nRequirement already satisfied: cmaes>=0.6.0 in c:\\users\\chiw\\miniconda3\\envs\\flaml\\lib\\site-packages (from optuna) (0.7.0)\nRequirement already satisfied: pyparsing>=2.0.2 in c:\\users\\chiw\\miniconda3\\envs\\flaml\\lib\\site-packages (from packaging>=20.0->optuna) (2.4.7)\nRequirement already satisfied: six in c:\\users\\chiw\\appdata\\roaming\\python\\python37\\site-packages (from packaging>=20.0->optuna) (1.14.0)\nRequirement already satisfied: python-editor>=0.3 in c:\\users\\chiw\\miniconda3\\envs\\flaml\\lib\\site-packages (from alembic->optuna) (1.0.4)\nRequirement already satisfied: python-dateutil in c:\\users\\chiw\\miniconda3\\envs\\flaml\\lib\\site-packages (from alembic->optuna) (2.8.1)\nRequirement already satisfied: Mako in c:\\users\\chiw\\miniconda3\\envs\\flaml\\lib\\site-packages (from alembic->optuna) (1.1.3)\nRequirement already satisfied: PyYAML>=3.12 in c:\\users\\chiw\\miniconda3\\envs\\flaml\\lib\\site-packages (from cliff->optuna) (5.3.1)\nRequirement already satisfied: stevedore>=2.0.1 in c:\\users\\chiw\\miniconda3\\envs\\flaml\\lib\\site-packages (from cliff->optuna) (3.2.2)\nRequirement already satisfied: PrettyTable<0.8,>=0.7.2 in c:\\users\\chiw\\miniconda3\\envs\\flaml\\lib\\site-packages (from cliff->optuna) (0.7.2)\nRequirement already satisfied: pbr!=2.1.0,>=2.0.0 in c:\\users\\chiw\\miniconda3\\envs\\flaml\\lib\\site-packages (from cliff->optuna) (5.5.1)\nRequirement already satisfied: cmd2!=0.8.3,>=0.8.0 in c:\\users\\chiw\\miniconda3\\envs\\flaml\\lib\\site-packages (from cliff->optuna) (1.4.0)\nRequirement already satisfied: colorama; sys_platform == \"win32\" in c:\\users\\chiw\\appdata\\roaming\\python\\python37\\site-packages (from colorlog->optuna) (0.4.3)\nRequirement already satisfied: MarkupSafe>=0.9.2 in c:\\users\\chiw\\miniconda3\\envs\\flaml\\lib\\site-packages (from Mako->alembic->optuna) (1.1.1)\nRequirement already satisfied: importlib-metadata>=1.7.0; python_version < \"3.8\" in c:\\users\\chiw\\miniconda3\\envs\\flaml\\lib\\site-packages (from stevedore>=2.0.1->cliff->optuna) (1.7.0)\nRequirement already satisfied: pyreadline; sys_platform == \"win32\" in c:\\users\\chiw\\miniconda3\\envs\\flaml\\lib\\site-packages (from cmd2!=0.8.3,>=0.8.0->cliff->optuna) (2.1)\nRequirement already satisfied: pyperclip>=1.6 in c:\\users\\chiw\\miniconda3\\envs\\flaml\\lib\\site-packages (from cmd2!=0.8.3,>=0.8.0->cliff->optuna) (1.8.1)\nRequirement already satisfied: wcwidth>=0.1.7 in c:\\users\\chiw\\miniconda3\\envs\\flaml\\lib\\site-packages (from cmd2!=0.8.3,>=0.8.0->cliff->optuna) (0.2.5)\nRequirement already satisfied: attrs>=16.3.0 in c:\\users\\chiw\\miniconda3\\envs\\flaml\\lib\\site-packages (from cmd2!=0.8.3,>=0.8.0->cliff->optuna) (19.3.0)\nRequirement already satisfied: zipp>=0.5 in c:\\users\\chiw\\miniconda3\\envs\\flaml\\lib\\site-packages (from importlib-metadata>=1.7.0; python_version < \"3.8\"->stevedore>=2.0.1->cliff->optuna) (3.1.0)\n"
     ]
    }
   ],
   "source": [
    "!pip install optuna;"
   ]
  },
  {
   "cell_type": "code",
   "execution_count": 18,
   "metadata": {},
   "outputs": [],
   "source": [
    "from sklearn.model_selection import train_test_split\n",
    "train_x, val_x, train_y, val_y = train_test_split(X_train, y_train, test_size=0.1)\n",
    "import optuna.integration.lightgbm as lgb\n",
    "dtrain = lgb.Dataset(train_x, label=train_y)\n",
    "dval = lgb.Dataset(val_x, label=val_y)\n",
    "params = {\n",
    "    \"objective\": \"regression\",\n",
    "    \"metric\": \"regression\",\n",
    "    \"verbosity\": -1,\n",
    "}\n"
   ]
  },
  {
   "cell_type": "code",
   "execution_count": 19,
   "metadata": {
    "tags": [
     "outputPrepend"
    ]
   },
   "outputs": [
    {
     "output_type": "stream",
     "name": "stderr",
     "text": [
      "178936913.109899 and parameters: {'feature_fraction': 0.4}. Best is trial 0 with value: 2127169436.6323905.\u001b[0m\n",
      "feature_fraction, val_score: 2124054403.232735:  43%|####2     | 3/7 [00:04<00:06,  1.64s/it]\u001b[32m[I 2021-02-22 12:05:20,593]\u001b[0m Trial 2 finished with value: 2124054403.2327347 and parameters: {'feature_fraction': 0.8999999999999999}. Best is trial 2 with value: 2124054403.2327347.\u001b[0m\n",
      "feature_fraction, val_score: 2124054403.232735:  57%|#####7    | 4/7 [00:07<00:05,  1.95s/it]\u001b[32m[I 2021-02-22 12:05:23,014]\u001b[0m Trial 3 finished with value: 2148308536.507165 and parameters: {'feature_fraction': 0.6}. Best is trial 2 with value: 2124054403.2327347.\u001b[0m\n",
      "feature_fraction, val_score: 2124054403.232735:  71%|#######1  | 5/7 [00:09<00:03,  1.87s/it]\u001b[32m[I 2021-02-22 12:05:24,734]\u001b[0m Trial 4 finished with value: 2172767324.4155345 and parameters: {'feature_fraction': 0.7}. Best is trial 2 with value: 2124054403.2327347.\u001b[0m\n",
      "feature_fraction, val_score: 2124054403.232735:  86%|########5 | 6/7 [00:10<00:01,  1.75s/it]\u001b[32m[I 2021-02-22 12:05:26,256]\u001b[0m Trial 5 finished with value: 2172767324.4155345 and parameters: {'feature_fraction': 0.8}. Best is trial 2 with value: 2124054403.2327347.\u001b[0m\n",
      "feature_fraction, val_score: 2124054403.232735: 100%|##########| 7/7 [00:11<00:00,  1.60s/it]\u001b[32m[I 2021-02-22 12:05:27,560]\u001b[0m Trial 6 finished with value: 2329182049.5594606 and parameters: {'feature_fraction': 0.5}. Best is trial 2 with value: 2124054403.2327347.\u001b[0m\n",
      "feature_fraction, val_score: 2124054403.232735: 100%|##########| 7/7 [00:11<00:00,  1.70s/it]\n",
      "num_leaves, val_score: 2091515319.423312:   5%|5         | 1/20 [00:01<00:29,  1.57s/it]\u001b[32m[I 2021-02-22 12:05:29,143]\u001b[0m Trial 7 finished with value: 2091515319.4233117 and parameters: {'num_leaves': 25}. Best is trial 7 with value: 2091515319.4233117.\u001b[0m\n",
      "num_leaves, val_score: 2091515319.423312:  10%|#         | 2/20 [00:03<00:33,  1.88s/it]\u001b[32m[I 2021-02-22 12:05:31,245]\u001b[0m Trial 8 finished with value: 2147911192.0383587 and parameters: {'num_leaves': 41}. Best is trial 7 with value: 2091515319.4233117.\u001b[0m\n",
      "num_leaves, val_score: 2091515319.423312:  15%|#5        | 3/20 [00:07<00:47,  2.78s/it]\u001b[32m[I 2021-02-22 12:05:35,092]\u001b[0m Trial 9 finished with value: 2111965645.1097267 and parameters: {'num_leaves': 105}. Best is trial 7 with value: 2091515319.4233117.\u001b[0m\n",
      "num_leaves, val_score: 2091515319.423312:  20%|##        | 4/20 [00:17<01:31,  5.69s/it]\u001b[32m[I 2021-02-22 12:05:45,242]\u001b[0m Trial 10 finished with value: 2149918782.42036 and parameters: {'num_leaves': 242}. Best is trial 7 with value: 2091515319.4233117.\u001b[0m\n",
      "num_leaves, val_score: 2091515319.423312:  25%|##5       | 5/20 [00:20<01:07,  4.52s/it]\u001b[32m[I 2021-02-22 12:05:47,674]\u001b[0m Trial 11 finished with value: 2157493284.704683 and parameters: {'num_leaves': 61}. Best is trial 7 with value: 2091515319.4233117.\u001b[0m\n",
      "num_leaves, val_score: 2091515319.423312:  30%|###       | 6/20 [00:25<01:09,  4.94s/it]\u001b[32m[I 2021-02-22 12:05:53,451]\u001b[0m Trial 12 finished with value: 2120589869.0502284 and parameters: {'num_leaves': 154}. Best is trial 7 with value: 2091515319.4233117.\u001b[0m\n",
      "num_leaves, val_score: 2091515319.423312:  35%|###5      | 7/20 [00:29<00:59,  4.56s/it]\u001b[32m[I 2021-02-22 12:05:57,215]\u001b[0m Trial 13 finished with value: 2103863108.0198748 and parameters: {'num_leaves': 109}. Best is trial 7 with value: 2091515319.4233117.\u001b[0m\n",
      "num_leaves, val_score: 2091515319.423312:  40%|####      | 8/20 [00:30<00:38,  3.24s/it]\u001b[32m[I 2021-02-22 12:05:57,644]\u001b[0m Trial 14 finished with value: 2641457265.8025756 and parameters: {'num_leaves': 3}. Best is trial 7 with value: 2091515319.4233117.\u001b[0m\n",
      "num_leaves, val_score: 2091515319.423312:  45%|####5     | 9/20 [00:36<00:46,  4.21s/it]\u001b[32m[I 2021-02-22 12:06:03,966]\u001b[0m Trial 15 finished with value: 2145588775.4624658 and parameters: {'num_leaves': 162}. Best is trial 7 with value: 2091515319.4233117.\u001b[0m\n",
      "num_leaves, val_score: 2091515319.423312:  50%|#####     | 10/20 [00:40<00:41,  4.15s/it]\u001b[32m[I 2021-02-22 12:06:08,001]\u001b[0m Trial 16 finished with value: 2156785385.602695 and parameters: {'num_leaves': 97}. Best is trial 7 with value: 2091515319.4233117.\u001b[0m\n",
      "num_leaves, val_score: 2091515319.423312:  55%|#####5    | 11/20 [00:50<00:52,  5.82s/it]\u001b[32m[I 2021-02-22 12:06:17,612]\u001b[0m Trial 17 finished with value: 2133916952.6949198 and parameters: {'num_leaves': 215}. Best is trial 7 with value: 2091515319.4233117.\u001b[0m\n",
      "num_leaves, val_score: 2091515319.423312:  60%|######    | 12/20 [00:50<00:34,  4.29s/it]\u001b[32m[I 2021-02-22 12:06:18,387]\u001b[0m Trial 18 finished with value: 2246426622.1357527 and parameters: {'num_leaves': 5}. Best is trial 7 with value: 2091515319.4233117.\u001b[0m\n",
      "num_leaves, val_score: 2091515319.423312:  65%|######5   | 13/20 [00:53<00:25,  3.71s/it]\u001b[32m[I 2021-02-22 12:06:20,755]\u001b[0m Trial 19 finished with value: 2107251534.7796276 and parameters: {'num_leaves': 62}. Best is trial 7 with value: 2091515319.4233117.\u001b[0m\n",
      "num_leaves, val_score: 2091515319.423312:  70%|#######   | 14/20 [00:59<00:26,  4.40s/it]\u001b[32m[I 2021-02-22 12:06:26,750]\u001b[0m Trial 20 finished with value: 2160772549.720433 and parameters: {'num_leaves': 184}. Best is trial 7 with value: 2091515319.4233117.\u001b[0m\n",
      "num_leaves, val_score: 2091515319.423312:  75%|#######5  | 15/20 [01:01<00:18,  3.70s/it]\u001b[32m[I 2021-02-22 12:06:28,847]\u001b[0m Trial 21 finished with value: 2118067200.649637 and parameters: {'num_leaves': 55}. Best is trial 7 with value: 2091515319.4233117.\u001b[0m\n",
      "num_leaves, val_score: 2091515319.423312:  80%|########  | 16/20 [01:05<00:15,  3.91s/it]\u001b[32m[I 2021-02-22 12:06:33,237]\u001b[0m Trial 22 finished with value: 2128944028.4069934 and parameters: {'num_leaves': 90}. Best is trial 7 with value: 2091515319.4233117.\u001b[0m\n",
      "num_leaves, val_score: 2091515319.423312:  85%|########5 | 17/20 [01:07<00:09,  3.24s/it]\u001b[32m[I 2021-02-22 12:06:34,917]\u001b[0m Trial 23 finished with value: 2124054403.2327347 and parameters: {'num_leaves': 31}. Best is trial 7 with value: 2091515319.4233117.\u001b[0m\n",
      "num_leaves, val_score: 2091515319.423312:  90%|######### | 18/20 [01:14<00:08,  4.29s/it]\u001b[32m[I 2021-02-22 12:06:41,651]\u001b[0m Trial 24 finished with value: 2137731230.14695 and parameters: {'num_leaves': 120}. Best is trial 7 with value: 2091515319.4233117.\u001b[0m\n",
      "num_leaves, val_score: 2091515319.423312:  95%|#########5| 19/20 [01:18<00:04,  4.23s/it]\u001b[32m[I 2021-02-22 12:06:45,752]\u001b[0m Trial 25 finished with value: 2143558492.3051984 and parameters: {'num_leaves': 73}. Best is trial 7 with value: 2091515319.4233117.\u001b[0m\n",
      "num_leaves, val_score: 2088835766.803677: 100%|##########| 20/20 [01:19<00:00,  3.38s/it]\u001b[32m[I 2021-02-22 12:06:47,130]\u001b[0m Trial 26 finished with value: 2088835766.803677 and parameters: {'num_leaves': 14}. Best is trial 26 with value: 2088835766.803677.\u001b[0m\n",
      "num_leaves, val_score: 2088835766.803677: 100%|##########| 20/20 [01:19<00:00,  3.98s/it]\n",
      "bagging, val_score: 2088835766.803677:  10%|#         | 1/10 [00:01<00:13,  1.51s/it]\u001b[32m[I 2021-02-22 12:06:48,657]\u001b[0m Trial 27 finished with value: 2214590861.7213645 and parameters: {'bagging_fraction': 0.5029716246274584, 'bagging_freq': 4}. Best is trial 27 with value: 2214590861.7213645.\u001b[0m\n",
      "bagging, val_score: 2064681844.919080:  20%|##        | 2/10 [00:03<00:12,  1.52s/it]\u001b[32m[I 2021-02-22 12:06:50,185]\u001b[0m Trial 28 finished with value: 2064681844.91908 and parameters: {'bagging_fraction': 0.9738543211053792, 'bagging_freq': 1}. Best is trial 28 with value: 2064681844.91908.\u001b[0m\n",
      "bagging, val_score: 2064681844.919080:  30%|###       | 3/10 [00:04<00:10,  1.54s/it]\u001b[32m[I 2021-02-22 12:06:51,748]\u001b[0m Trial 29 finished with value: 2126091848.1389375 and parameters: {'bagging_fraction': 0.9828657227024589, 'bagging_freq': 1}. Best is trial 28 with value: 2064681844.91908.\u001b[0m\n",
      "bagging, val_score: 2064681844.919080:  40%|####      | 4/10 [00:06<00:10,  1.83s/it]\u001b[32m[I 2021-02-22 12:06:54,031]\u001b[0m Trial 30 finished with value: 2129627993.8035607 and parameters: {'bagging_fraction': 0.976013045963577, 'bagging_freq': 1}. Best is trial 28 with value: 2064681844.91908.\u001b[0m\n",
      "bagging, val_score: 2064681844.919080:  50%|#####     | 5/10 [00:08<00:09,  1.82s/it]\u001b[32m[I 2021-02-22 12:06:55,820]\u001b[0m Trial 31 finished with value: 2108769869.9144807 and parameters: {'bagging_fraction': 0.754730404193562, 'bagging_freq': 7}. Best is trial 28 with value: 2064681844.91908.\u001b[0m\n",
      "bagging, val_score: 2064681844.919080:  60%|######    | 6/10 [00:10<00:06,  1.73s/it]\u001b[32m[I 2021-02-22 12:06:57,392]\u001b[0m Trial 32 finished with value: 2152141962.6590705 and parameters: {'bagging_fraction': 0.7779543423113138, 'bagging_freq': 3}. Best is trial 28 with value: 2064681844.91908.\u001b[0m\n",
      "bagging, val_score: 2064681844.919080:  70%|#######   | 7/10 [00:11<00:05,  1.71s/it]\u001b[32m[I 2021-02-22 12:06:59,054]\u001b[0m Trial 33 finished with value: 2262073843.47361 and parameters: {'bagging_fraction': 0.43338623354750005, 'bagging_freq': 4}. Best is trial 28 with value: 2064681844.91908.\u001b[0m\n",
      "bagging, val_score: 2064681844.919080:  80%|########  | 8/10 [00:13<00:03,  1.79s/it]\u001b[32m[I 2021-02-22 12:07:01,026]\u001b[0m Trial 34 finished with value: 2118058561.3424838 and parameters: {'bagging_fraction': 0.8758595902894689, 'bagging_freq': 6}. Best is trial 28 with value: 2064681844.91908.\u001b[0m\n",
      "bagging, val_score: 2064681844.919080:  90%|######### | 9/10 [00:18<00:02,  2.52s/it]\u001b[32m[I 2021-02-22 12:07:05,152]\u001b[0m Trial 35 finished with value: 2106678718.0369856 and parameters: {'bagging_fraction': 0.6099948685442509, 'bagging_freq': 2}. Best is trial 28 with value: 2064681844.91908.\u001b[0m\n",
      "bagging, val_score: 2064681844.919080: 100%|##########| 10/10 [00:22<00:00,  3.06s/it]\u001b[32m[I 2021-02-22 12:07:09,415]\u001b[0m Trial 36 finished with value: 2121872091.2281055 and parameters: {'bagging_fraction': 0.8796918394414169, 'bagging_freq': 5}. Best is trial 28 with value: 2064681844.91908.\u001b[0m\n",
      "bagging, val_score: 2064681844.919080: 100%|##########| 10/10 [00:22<00:00,  2.23s/it]\n",
      "feature_fraction_stage2, val_score: 2064681844.919080:  17%|#6        | 1/6 [00:03<00:16,  3.35s/it]\u001b[32m[I 2021-02-22 12:07:12,781]\u001b[0m Trial 37 finished with value: 2064681844.91908 and parameters: {'feature_fraction': 0.9159999999999999}. Best is trial 37 with value: 2064681844.91908.\u001b[0m\n",
      "feature_fraction_stage2, val_score: 2064681844.919080:  33%|###3      | 2/6 [00:09<00:18,  4.72s/it]\u001b[32m[I 2021-02-22 12:07:18,463]\u001b[0m Trial 38 finished with value: 2126810595.5437946 and parameters: {'feature_fraction': 0.948}. Best is trial 37 with value: 2064681844.91908.\u001b[0m\n",
      "feature_fraction_stage2, val_score: 2064681844.919080:  50%|#####     | 3/6 [00:11<00:11,  3.91s/it]\u001b[32m[I 2021-02-22 12:07:21,414]\u001b[0m Trial 39 finished with value: 2064681844.91908 and parameters: {'feature_fraction': 0.852}. Best is trial 37 with value: 2064681844.91908.\u001b[0m\n",
      "feature_fraction_stage2, val_score: 2064681844.919080:  67%|######6   | 4/6 [00:14<00:06,  3.37s/it]\u001b[32m[I 2021-02-22 12:07:23,950]\u001b[0m Trial 40 finished with value: 2064681844.91908 and parameters: {'feature_fraction': 0.8839999999999999}. Best is trial 37 with value: 2064681844.91908.\u001b[0m\n",
      "feature_fraction_stage2, val_score: 2064681844.919080:  83%|########3 | 5/6 [00:17<00:03,  3.19s/it]\u001b[32m[I 2021-02-22 12:07:26,821]\u001b[0m Trial 41 finished with value: 2126810595.5437946 and parameters: {'feature_fraction': 0.9799999999999999}. Best is trial 37 with value: 2064681844.91908.\u001b[0m\n",
      "feature_fraction_stage2, val_score: 2064681844.919080: 100%|##########| 6/6 [00:19<00:00,  2.94s/it]\u001b[32m[I 2021-02-22 12:07:29,279]\u001b[0m Trial 42 finished with value: 2064681844.91908 and parameters: {'feature_fraction': 0.82}. Best is trial 37 with value: 2064681844.91908.\u001b[0m\n",
      "feature_fraction_stage2, val_score: 2064681844.919080: 100%|##########| 6/6 [00:19<00:00,  3.31s/it]\n",
      "regularization_factors, val_score: 2064681841.555105:   5%|5         | 1/20 [00:01<00:33,  1.75s/it]\u001b[32m[I 2021-02-22 12:07:31,034]\u001b[0m Trial 43 finished with value: 2064681841.5551047 and parameters: {'lambda_l1': 0.0009454958339896547, 'lambda_l2': 2.299017240048914e-06}. Best is trial 43 with value: 2064681841.5551047.\u001b[0m\n",
      "regularization_factors, val_score: 2064681841.555105:  10%|#         | 2/20 [00:03<00:29,  1.63s/it]\u001b[32m[I 2021-02-22 12:07:32,583]\u001b[0m Trial 44 finished with value: 2064681842.3318126 and parameters: {'lambda_l1': 0.0021919187172378335, 'lambda_l2': 1.8505206607887961e-06}. Best is trial 43 with value: 2064681841.5551047.\u001b[0m\n",
      "regularization_factors, val_score: 2064681841.555105:  15%|#5        | 3/20 [00:04<00:28,  1.66s/it]\u001b[32m[I 2021-02-22 12:07:34,274]\u001b[0m Trial 45 finished with value: 2064681842.9697375 and parameters: {'lambda_l1': 0.0017659791427852933, 'lambda_l2': 1.3574531176915463e-06}. Best is trial 43 with value: 2064681841.5551047.\u001b[0m\n",
      "regularization_factors, val_score: 2064681841.555105:  20%|##        | 4/20 [00:06<00:25,  1.61s/it]\u001b[32m[I 2021-02-22 12:07:35,815]\u001b[0m Trial 46 finished with value: 2064681842.7752464 and parameters: {'lambda_l1': 0.002787110398102265, 'lambda_l2': 1.4430030100144662e-06}. Best is trial 43 with value: 2064681841.5551047.\u001b[0m\n",
      "regularization_factors, val_score: 2064681841.555105:  25%|##5       | 5/20 [00:08<00:23,  1.59s/it]\u001b[32m[I 2021-02-22 12:07:37,352]\u001b[0m Trial 47 finished with value: 2064681843.0204554 and parameters: {'lambda_l1': 0.0018010402242481945, 'lambda_l2': 1.3498089794859621e-06}. Best is trial 43 with value: 2064681841.5551047.\u001b[0m\n",
      "regularization_factors, val_score: 2064681841.555105:  30%|###       | 6/20 [00:09<00:22,  1.57s/it]\u001b[32m[I 2021-02-22 12:07:38,909]\u001b[0m Trial 48 finished with value: 2064681843.759321 and parameters: {'lambda_l1': 0.0015471331936124635, 'lambda_l2': 9.973991930001073e-07}. Best is trial 43 with value: 2064681841.5551047.\u001b[0m\n",
      "regularization_factors, val_score: 2064681840.886757:  35%|###5      | 7/20 [00:10<00:19,  1.51s/it]\u001b[32m[I 2021-02-22 12:07:40,270]\u001b[0m Trial 49 finished with value: 2064681840.8867571 and parameters: {'lambda_l1': 0.0015918225374375425, 'lambda_l2': 2.601187444132384e-06}. Best is trial 49 with value: 2064681840.8867571.\u001b[0m\n",
      "regularization_factors, val_score: 2064681840.583673:  40%|####      | 8/20 [00:12<00:18,  1.57s/it]\u001b[32m[I 2021-02-22 12:07:41,979]\u001b[0m Trial 50 finished with value: 2064681840.583673 and parameters: {'lambda_l1': 0.0017395341119362377, 'lambda_l2': 2.686600851324632e-06}. Best is trial 50 with value: 2064681840.583673.\u001b[0m\n",
      "regularization_factors, val_score: 2064681840.583673:  45%|####5     | 9/20 [00:14<00:17,  1.56s/it]\u001b[32m[I 2021-02-22 12:07:43,502]\u001b[0m Trial 51 finished with value: 2064681842.2614334 and parameters: {'lambda_l1': 0.0017702443834107147, 'lambda_l2': 1.827128207535429e-06}. Best is trial 50 with value: 2064681840.583673.\u001b[0m\n",
      "regularization_factors, val_score: 2064681840.583673:  50%|#####     | 10/20 [00:15<00:15,  1.52s/it]\u001b[32m[I 2021-02-22 12:07:44,955]\u001b[0m Trial 52 finished with value: 2064681841.066948 and parameters: {'lambda_l1': 0.0021110741513888044, 'lambda_l2': 2.467734221987142e-06}. Best is trial 50 with value: 2064681840.583673.\u001b[0m\n",
      "regularization_factors, val_score: 2064681837.214888:  55%|#####5    | 11/20 [00:17<00:13,  1.49s/it]\u001b[32m[I 2021-02-22 12:07:46,367]\u001b[0m Trial 53 finished with value: 2064681837.2148876 and parameters: {'lambda_l1': 0.0013985125488633942, 'lambda_l2': 5.223641681307128e-06}. Best is trial 53 with value: 2064681837.2148876.\u001b[0m\n",
      "regularization_factors, val_score: 2064681816.879831:  60%|######    | 12/20 [00:18<00:11,  1.48s/it]\u001b[32m[I 2021-02-22 12:07:47,829]\u001b[0m Trial 54 finished with value: 2064681816.8798313 and parameters: {'lambda_l1': 0.0006889353499978549, 'lambda_l2': 1.9249686938225824e-05}. Best is trial 54 with value: 2064681816.8798313.\u001b[0m\n",
      "regularization_factors, val_score: 2064681227.505920:  65%|######5   | 13/20 [00:20<00:10,  1.48s/it]\u001b[32m[I 2021-02-22 12:07:49,301]\u001b[0m Trial 55 finished with value: 2064681227.50592 and parameters: {'lambda_l1': 5.483279863553493e-06, 'lambda_l2': 0.0004255588463300071}. Best is trial 55 with value: 2064681227.50592.\u001b[0m\n",
      "regularization_factors, val_score: 2064681141.618772:  70%|#######   | 14/20 [00:21<00:09,  1.59s/it]\u001b[32m[I 2021-02-22 12:07:51,149]\u001b[0m Trial 56 finished with value: 2064681141.6187716 and parameters: {'lambda_l1': 1.149128336158451e-06, 'lambda_l2': 0.00048453717510595626}. Best is trial 56 with value: 2064681141.6187716.\u001b[0m\n",
      "regularization_factors, val_score: 2064681141.618772:  75%|#######5  | 15/20 [00:23<00:07,  1.54s/it]\u001b[32m[I 2021-02-22 12:07:52,566]\u001b[0m Trial 57 finished with value: 2071380994.5842938 and parameters: {'lambda_l1': 8.541254882820469e-07, 'lambda_l2': 0.0011998386884230147}. Best is trial 56 with value: 2064681141.6187716.\u001b[0m\n",
      "regularization_factors, val_score: 2064681141.618772:  80%|########  | 16/20 [00:24<00:05,  1.47s/it]\u001b[32m[I 2021-02-22 12:07:53,878]\u001b[0m Trial 58 finished with value: 2064681558.4393458 and parameters: {'lambda_l1': 4.042044767414893e-06, 'lambda_l2': 0.0001975218186342921}. Best is trial 56 with value: 2064681141.6187716.\u001b[0m\n",
      "regularization_factors, val_score: 2064681141.618772:  85%|########5 | 17/20 [00:26<00:04,  1.46s/it]\u001b[32m[I 2021-02-22 12:07:55,323]\u001b[0m Trial 59 finished with value: 2064681613.228132 and parameters: {'lambda_l1': 2.5489100644323294e-06, 'lambda_l2': 0.00015969071664817414}. Best is trial 56 with value: 2064681141.6187716.\u001b[0m\n",
      "regularization_factors, val_score: 2064681141.618772:  90%|######### | 18/20 [00:27<00:03,  1.51s/it]\u001b[32m[I 2021-02-22 12:07:56,929]\u001b[0m Trial 60 finished with value: 2064681626.9245725 and parameters: {'lambda_l1': 2.8264440339954917e-06, 'lambda_l2': 0.0001502021473043962}. Best is trial 56 with value: 2064681141.6187716.\u001b[0m\n",
      "regularization_factors, val_score: 2064681141.618772:  95%|#########5| 19/20 [00:29<00:01,  1.49s/it]\u001b[32m[I 2021-02-22 12:07:58,375]\u001b[0m Trial 61 finished with value: 2064681613.2595234 and parameters: {'lambda_l1': 1.8511336801831221e-06, 'lambda_l2': 0.00015972339562802488}. Best is trial 56 with value: 2064681141.6187716.\u001b[0m\n",
      "regularization_factors, val_score: 2064681141.618772: 100%|##########| 20/20 [00:30<00:00,  1.47s/it]\u001b[32m[I 2021-02-22 12:07:59,797]\u001b[0m Trial 62 finished with value: 2064681631.6372325 and parameters: {'lambda_l1': 2.2754765339457423e-06, 'lambda_l2': 0.00014713095685453743}. Best is trial 56 with value: 2064681141.6187716.\u001b[0m\n",
      "regularization_factors, val_score: 2064681141.618772: 100%|##########| 20/20 [00:30<00:00,  1.53s/it]\n",
      "min_data_in_leaf, val_score: 2064681141.618772:  20%|##        | 1/5 [00:01<00:06,  1.58s/it]\u001b[32m[I 2021-02-22 12:08:01,380]\u001b[0m Trial 63 finished with value: 2122454348.5939152 and parameters: {'min_child_samples': 100}. Best is trial 63 with value: 2122454348.5939152.\u001b[0m\n",
      "min_data_in_leaf, val_score: 2064681141.618772:  40%|####      | 2/5 [00:02<00:04,  1.47s/it]\u001b[32m[I 2021-02-22 12:08:02,780]\u001b[0m Trial 64 finished with value: 2098986770.4437256 and parameters: {'min_child_samples': 10}. Best is trial 64 with value: 2098986770.4437256.\u001b[0m\n",
      "min_data_in_leaf, val_score: 2064681141.618772:  60%|######    | 3/5 [00:04<00:02,  1.47s/it]\u001b[32m[I 2021-02-22 12:08:04,252]\u001b[0m Trial 65 finished with value: 2114740681.0871222 and parameters: {'min_child_samples': 25}. Best is trial 64 with value: 2098986770.4437256.\u001b[0m\n",
      "min_data_in_leaf, val_score: 2064681141.618772:  80%|########  | 4/5 [00:05<00:01,  1.44s/it]\u001b[32m[I 2021-02-22 12:08:05,651]\u001b[0m Trial 66 finished with value: 2120046720.514261 and parameters: {'min_child_samples': 5}. Best is trial 64 with value: 2098986770.4437256.\u001b[0m\n",
      "min_data_in_leaf, val_score: 2064681141.618772: 100%|##########| 5/5 [00:07<00:00,  1.45s/it]\u001b[32m[I 2021-02-22 12:08:07,126]\u001b[0m Trial 67 finished with value: 2121030909.0162914 and parameters: {'min_child_samples': 50}. Best is trial 64 with value: 2098986770.4437256.\u001b[0m\n",
      "min_data_in_leaf, val_score: 2064681141.618772: 100%|##########| 5/5 [00:07<00:00,  1.47s/it]Wall time: 2min 51s\n",
      "\n"
     ]
    }
   ],
   "source": [
    "%%time\n",
    "model = lgb.train(params, dtrain, valid_sets=[dtrain, dval], verbose_eval=10000)        \n"
   ]
  },
  {
   "cell_type": "code",
   "execution_count": 20,
   "metadata": {},
   "outputs": [
    {
     "output_type": "stream",
     "name": "stdout",
     "text": [
      "Optuna LightGBM Tuner r2 = 0.8466155959154859\n"
     ]
    }
   ],
   "source": [
    "y_pred = model.predict(X_test)\n",
    "from flaml.ml import sklearn_metric_loss_score\n",
    "print('Optuna LightGBM Tuner r2', '=', 1 - sklearn_metric_loss_score('r2', y_pred, y_test))"
   ]
  }
 ],
 "metadata": {
  "kernelspec": {
   "name": "python3",
   "display_name": "Python 3.7.7 64-bit ('flaml': conda)",
   "metadata": {
    "interpreter": {
     "hash": "bfcd9a6a9254a5e160761a1fd7a9e444f011592c6770d9f4180dde058a9df5dd"
    }
   }
  },
  "language_info": {
   "codemirror_mode": {
    "name": "ipython",
    "version": 3
   },
   "file_extension": ".py",
   "mimetype": "text/x-python",
   "name": "python",
   "nbconvert_exporter": "python",
   "pygments_lexer": "ipython3",
   "version": "3.7.7-final"
  }
 },
 "nbformat": 4,
 "nbformat_minor": 2
}