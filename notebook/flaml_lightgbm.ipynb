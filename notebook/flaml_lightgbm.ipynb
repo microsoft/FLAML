{
 "cells": [
  {
   "cell_type": "markdown",
   "source": [
    "Copyright (c) Microsoft Corporation. All rights reserved. \n",
    "\n",
    "Licensed under the MIT License.\n",
    "\n",
    "# Tune LightGBM with FLAML Library\n",
    "\n",
    "\n",
    "## 1. Introduction\n",
    "\n",
    "FLAML is a Python library (https://github.com/microsoft/FLAML) designed to automatically produce accurate machine learning models \n",
    "with low computational cost. It is fast and cheap. The simple and lightweight design makes it easy \n",
    "to use and extend, such as adding new learners. FLAML can \n",
    "- serve as an economical AutoML engine,\n",
    "- be used as a fast hyperparameter tuning tool, or \n",
    "- be embedded in self-tuning software that requires low latency & resource in repetitive\n",
    "   tuning tasks.\n",
    "\n",
    "In this notebook, we demonstrate how to use FLAML library to tune hyperparameters of LightGBM with a regression example.\n",
    "\n",
    "FLAML requires `Python>=3.6`. To run this notebook example, please install flaml with the `notebook` option:\n",
    "```bash\n",
    "pip install flaml[notebook]\n",
    "```"
   ],
   "metadata": {
    "slideshow": {
     "slide_type": "slide"
    }
   }
  },
  {
   "cell_type": "code",
   "execution_count": 1,
   "source": [
    "!pip install flaml[notebook];"
   ],
   "outputs": [],
   "metadata": {}
  },
  {
   "cell_type": "markdown",
   "source": [
    "## 2. Regression Example\n",
    "### Load data and preprocess\n",
    "\n",
    "Download [houses dataset](https://www.openml.org/d/537) from OpenML. The task is to predict median price of the house in the region based on demographic composition and a state of housing market in the region."
   ],
   "metadata": {
    "slideshow": {
     "slide_type": "slide"
    }
   }
  },
  {
   "cell_type": "code",
   "execution_count": 1,
   "source": [
    "from flaml.data import load_openml_dataset\n",
    "X_train, X_test, y_train, y_test = load_openml_dataset(dataset_id=537, data_dir='./')"
   ],
   "outputs": [
    {
     "output_type": "stream",
     "name": "stdout",
     "text": [
      "load dataset from ./openml_ds537.pkl\n",
      "Dataset name: houses\n",
      "X_train.shape: (15480, 8), y_train.shape: (15480,);\n",
      "X_test.shape: (5160, 8), y_test.shape: (5160,)\n"
     ]
    }
   ],
   "metadata": {
    "slideshow": {
     "slide_type": "subslide"
    },
    "tags": []
   }
  },
  {
   "cell_type": "markdown",
   "source": [
    "### Run FLAML\n",
    "In the FLAML automl run configuration, users can specify the task type, time budget, error metric, learner list, whether to subsample, resampling strategy type, and so on. All these arguments have default values which will be used if users do not provide them. "
   ],
   "metadata": {
    "slideshow": {
     "slide_type": "slide"
    }
   }
  },
  {
   "cell_type": "code",
   "execution_count": 2,
   "source": [
    "''' import AutoML class from flaml package '''\n",
    "from flaml import AutoML\n",
    "automl = AutoML()"
   ],
   "outputs": [],
   "metadata": {
    "slideshow": {
     "slide_type": "slide"
    },
    "tags": []
   }
  },
  {
   "cell_type": "code",
   "execution_count": 3,
   "source": [
    "settings = {\n",
    "    \"time_budget\": 240,  # total running time in seconds\n",
    "    \"metric\": 'r2',  # primary metrics for regression can be chosen from: ['mae','mse','r2']\n",
    "    \"estimator_list\": ['lgbm'],  # list of ML learners; we tune lightgbm in this example\n",
    "    \"task\": 'regression',  # task type    \n",
    "    \"log_file_name\": 'houses_experiment.log',  # flaml log file\n",
    "    \"seed\": 7654321,    # random seed\n",
    "}"
   ],
   "outputs": [],
   "metadata": {
    "slideshow": {
     "slide_type": "slide"
    }
   }
  },
  {
   "cell_type": "code",
   "execution_count": 4,
   "source": [
    "'''The main flaml automl API'''\n",
    "automl.fit(X_train=X_train, y_train=y_train, **settings)"
   ],
   "outputs": [
    {
     "output_type": "stream",
     "name": "stderr",
     "text": [
      "[flaml.automl: 09-29 23:10:08] {1446} INFO - Data split method: uniform\n",
      "[flaml.automl: 09-29 23:10:08] {1450} INFO - Evaluation method: cv\n",
      "[flaml.automl: 09-29 23:10:08] {1496} INFO - Minimizing error metric: 1-r2\n",
      "[flaml.automl: 09-29 23:10:08] {1533} INFO - List of ML learners in AutoML Run: ['lgbm']\n",
      "[flaml.automl: 09-29 23:10:08] {1763} INFO - iteration 0, current learner lgbm\n",
      "[flaml.automl: 09-29 23:10:08] {1880} INFO - Estimated sufficient time budget=3832s. Estimated necessary time budget=4s.\n",
      "[flaml.automl: 09-29 23:10:08] {1952} INFO -  at 0.4s,\testimator lgbm's best error=0.7383,\tbest estimator lgbm's best error=0.7383\n",
      "[flaml.automl: 09-29 23:10:08] {1763} INFO - iteration 1, current learner lgbm\n",
      "[flaml.automl: 09-29 23:10:08] {1952} INFO -  at 0.6s,\testimator lgbm's best error=0.4774,\tbest estimator lgbm's best error=0.4774\n",
      "[flaml.automl: 09-29 23:10:08] {1763} INFO - iteration 2, current learner lgbm\n",
      "[flaml.automl: 09-29 23:10:09] {1952} INFO -  at 0.8s,\testimator lgbm's best error=0.4774,\tbest estimator lgbm's best error=0.4774\n",
      "[flaml.automl: 09-29 23:10:09] {1763} INFO - iteration 3, current learner lgbm\n",
      "[flaml.automl: 09-29 23:10:09] {1952} INFO -  at 0.9s,\testimator lgbm's best error=0.2985,\tbest estimator lgbm's best error=0.2985\n",
      "[flaml.automl: 09-29 23:10:09] {1763} INFO - iteration 4, current learner lgbm\n",
      "[flaml.automl: 09-29 23:10:09] {1952} INFO -  at 1.3s,\testimator lgbm's best error=0.2337,\tbest estimator lgbm's best error=0.2337\n",
      "[flaml.automl: 09-29 23:10:09] {1763} INFO - iteration 5, current learner lgbm\n",
      "[flaml.automl: 09-29 23:10:09] {1952} INFO -  at 1.5s,\testimator lgbm's best error=0.2337,\tbest estimator lgbm's best error=0.2337\n",
      "[flaml.automl: 09-29 23:10:09] {1763} INFO - iteration 6, current learner lgbm\n",
      "[flaml.automl: 09-29 23:10:10] {1952} INFO -  at 2.4s,\testimator lgbm's best error=0.2219,\tbest estimator lgbm's best error=0.2219\n",
      "[flaml.automl: 09-29 23:10:10] {1763} INFO - iteration 7, current learner lgbm\n",
      "[flaml.automl: 09-29 23:10:11] {1952} INFO -  at 2.9s,\testimator lgbm's best error=0.2219,\tbest estimator lgbm's best error=0.2219\n",
      "[flaml.automl: 09-29 23:10:11] {1763} INFO - iteration 8, current learner lgbm\n",
      "[flaml.automl: 09-29 23:10:12] {1952} INFO -  at 4.2s,\testimator lgbm's best error=0.1764,\tbest estimator lgbm's best error=0.1764\n",
      "[flaml.automl: 09-29 23:10:12] {1763} INFO - iteration 9, current learner lgbm\n",
      "[flaml.automl: 09-29 23:10:16] {1952} INFO -  at 8.6s,\testimator lgbm's best error=0.1630,\tbest estimator lgbm's best error=0.1630\n",
      "[flaml.automl: 09-29 23:10:16] {1763} INFO - iteration 10, current learner lgbm\n",
      "[flaml.automl: 09-29 23:10:18] {1952} INFO -  at 10.2s,\testimator lgbm's best error=0.1630,\tbest estimator lgbm's best error=0.1630\n",
      "[flaml.automl: 09-29 23:10:18] {1763} INFO - iteration 11, current learner lgbm\n",
      "[flaml.automl: 09-29 23:10:32] {1952} INFO -  at 24.4s,\testimator lgbm's best error=0.1630,\tbest estimator lgbm's best error=0.1630\n",
      "[flaml.automl: 09-29 23:10:32] {1763} INFO - iteration 12, current learner lgbm\n",
      "[flaml.automl: 09-29 23:10:34] {1952} INFO -  at 26.0s,\testimator lgbm's best error=0.1630,\tbest estimator lgbm's best error=0.1630\n",
      "[flaml.automl: 09-29 23:10:34] {1763} INFO - iteration 13, current learner lgbm\n",
      "[flaml.automl: 09-29 23:10:43] {1952} INFO -  at 35.5s,\testimator lgbm's best error=0.1564,\tbest estimator lgbm's best error=0.1564\n",
      "[flaml.automl: 09-29 23:10:43] {1763} INFO - iteration 14, current learner lgbm\n",
      "[flaml.automl: 09-29 23:10:49] {1952} INFO -  at 40.7s,\testimator lgbm's best error=0.1564,\tbest estimator lgbm's best error=0.1564\n",
      "[flaml.automl: 09-29 23:10:49] {1763} INFO - iteration 15, current learner lgbm\n",
      "[flaml.automl: 09-29 23:10:52] {1952} INFO -  at 43.8s,\testimator lgbm's best error=0.1564,\tbest estimator lgbm's best error=0.1564\n",
      "[flaml.automl: 09-29 23:10:52] {1763} INFO - iteration 16, current learner lgbm\n",
      "[flaml.automl: 09-29 23:11:08] {1952} INFO -  at 59.9s,\testimator lgbm's best error=0.1564,\tbest estimator lgbm's best error=0.1564\n",
      "[flaml.automl: 09-29 23:11:08] {1763} INFO - iteration 17, current learner lgbm\n",
      "[flaml.automl: 09-29 23:11:20] {1952} INFO -  at 72.6s,\testimator lgbm's best error=0.1564,\tbest estimator lgbm's best error=0.1564\n",
      "[flaml.automl: 09-29 23:11:20] {1763} INFO - iteration 18, current learner lgbm\n",
      "[flaml.automl: 09-29 23:11:24] {1952} INFO -  at 75.9s,\testimator lgbm's best error=0.1564,\tbest estimator lgbm's best error=0.1564\n",
      "[flaml.automl: 09-29 23:11:24] {1763} INFO - iteration 19, current learner lgbm\n",
      "[flaml.automl: 09-29 23:11:27] {1952} INFO -  at 79.3s,\testimator lgbm's best error=0.1564,\tbest estimator lgbm's best error=0.1564\n",
      "[flaml.automl: 09-29 23:11:27] {1763} INFO - iteration 20, current learner lgbm\n",
      "[flaml.automl: 09-29 23:11:51] {1952} INFO -  at 102.8s,\testimator lgbm's best error=0.1564,\tbest estimator lgbm's best error=0.1564\n",
      "[flaml.automl: 09-29 23:11:51] {1763} INFO - iteration 21, current learner lgbm\n",
      "[flaml.automl: 09-29 23:11:53] {1952} INFO -  at 105.5s,\testimator lgbm's best error=0.1564,\tbest estimator lgbm's best error=0.1564\n",
      "[flaml.automl: 09-29 23:11:53] {1763} INFO - iteration 22, current learner lgbm\n",
      "[flaml.automl: 09-29 23:12:38] {1952} INFO -  at 149.8s,\testimator lgbm's best error=0.1564,\tbest estimator lgbm's best error=0.1564\n",
      "[flaml.automl: 09-29 23:12:38] {1763} INFO - iteration 23, current learner lgbm\n",
      "[flaml.automl: 09-29 23:12:38] {1952} INFO -  at 150.6s,\testimator lgbm's best error=0.1564,\tbest estimator lgbm's best error=0.1564\n",
      "[flaml.automl: 09-29 23:12:38] {1763} INFO - iteration 24, current learner lgbm\n",
      "[flaml.automl: 09-29 23:13:19] {1952} INFO -  at 191.0s,\testimator lgbm's best error=0.1564,\tbest estimator lgbm's best error=0.1564\n",
      "[flaml.automl: 09-29 23:13:19] {1763} INFO - iteration 25, current learner lgbm\n",
      "[flaml.automl: 09-29 23:14:08] {1952} INFO -  at 240.6s,\testimator lgbm's best error=0.1564,\tbest estimator lgbm's best error=0.1564\n",
      "[flaml.automl: 09-29 23:14:09] {2059} INFO - selected model: LGBMRegressor(colsample_bytree=0.8025848209352517,\n",
      "              learning_rate=0.09100963138990395, max_bin=255,\n",
      "              min_child_samples=42, n_estimators=363, num_leaves=216,\n",
      "              reg_alpha=0.001113000336715291, reg_lambda=76.50614276906414,\n",
      "              verbose=-1)\n",
      "[flaml.automl: 09-29 23:14:10] {2122} INFO - retrain lgbm for 1.9s\n",
      "[flaml.automl: 09-29 23:14:10] {2128} INFO - retrained model: LGBMRegressor(colsample_bytree=0.8025848209352517,\n",
      "              learning_rate=0.09100963138990395, max_bin=255,\n",
      "              min_child_samples=42, n_estimators=363, num_leaves=216,\n",
      "              reg_alpha=0.001113000336715291, reg_lambda=76.50614276906414,\n",
      "              verbose=-1)\n",
      "[flaml.automl: 09-29 23:14:10] {1557} INFO - fit succeeded\n",
      "[flaml.automl: 09-29 23:14:10] {1558} INFO - Time taken to find the best model: 35.49429440498352\n"
     ]
    }
   ],
   "metadata": {
    "slideshow": {
     "slide_type": "slide"
    },
    "tags": []
   }
  },
  {
   "cell_type": "markdown",
   "source": [
    "### Best model and metric"
   ],
   "metadata": {
    "slideshow": {
     "slide_type": "slide"
    }
   }
  },
  {
   "cell_type": "code",
   "execution_count": 5,
   "source": [
    "''' retrieve best config'''\n",
    "print('Best hyperparmeter config:', automl.best_config)\n",
    "print('Best r2 on validation data: {0:.4g}'.format(1-automl.best_loss))\n",
    "print('Training duration of best run: {0:.4g} s'.format(automl.best_config_train_time))"
   ],
   "outputs": [
    {
     "output_type": "stream",
     "name": "stdout",
     "text": [
      "Best hyperparmeter config: {'n_estimators': 363, 'num_leaves': 216, 'min_child_samples': 42, 'learning_rate': 0.09100963138990395, 'log_max_bin': 8, 'colsample_bytree': 0.8025848209352517, 'reg_alpha': 0.001113000336715291, 'reg_lambda': 76.50614276906414}\n",
      "Best r2 on validation data: 0.8436\n",
      "Training duration of best run: 9.511 s\n"
     ]
    }
   ],
   "metadata": {
    "slideshow": {
     "slide_type": "slide"
    },
    "tags": []
   }
  },
  {
   "cell_type": "code",
   "execution_count": 6,
   "source": [
    "automl.model.estimator"
   ],
   "outputs": [
    {
     "output_type": "execute_result",
     "data": {
      "text/plain": [
       "LGBMRegressor(colsample_bytree=0.8025848209352517,\n",
       "              learning_rate=0.09100963138990395, max_bin=255,\n",
       "              min_child_samples=42, n_estimators=363, num_leaves=216,\n",
       "              reg_alpha=0.001113000336715291, reg_lambda=76.50614276906414,\n",
       "              verbose=-1)"
      ]
     },
     "metadata": {},
     "execution_count": 6
    }
   ],
   "metadata": {
    "slideshow": {
     "slide_type": "slide"
    }
   }
  },
  {
   "cell_type": "code",
   "execution_count": 7,
   "source": [
    "import matplotlib.pyplot as plt\n",
    "plt.barh(automl.model.estimator.feature_name_, automl.model.estimator.feature_importances_)"
   ],
   "outputs": [
    {
     "output_type": "execute_result",
     "data": {
      "text/plain": [
       "<BarContainer object of 8 artists>"
      ]
     },
     "metadata": {},
     "execution_count": 7
    },
    {
     "output_type": "display_data",
     "data": {
      "image/png": "[encoded data removed]",
      "text/plain": [
       "<Figure size 432x288 with 1 Axes>"
      ]
     },
     "metadata": {
      "needs_background": "light"
     }
    }
   ],
   "metadata": {}
  },
  {
   "cell_type": "code",
   "execution_count": 8,
   "source": [
    "''' pickle and save the automl object '''\n",
    "import pickle\n",
    "with open('automl.pkl', 'wb') as f:\n",
    "    pickle.dump(automl, f, pickle.HIGHEST_PROTOCOL)"
   ],
   "outputs": [],
   "metadata": {
    "slideshow": {
     "slide_type": "slide"
    }
   }
  },
  {
   "cell_type": "code",
   "execution_count": 9,
   "source": [
    "''' compute predictions of testing dataset ''' \n",
    "y_pred = automl.predict(X_test)\n",
    "print('Predicted labels', y_pred)\n",
    "print('True labels', y_test)"
   ],
   "outputs": [
    {
     "output_type": "stream",
     "name": "stdout",
     "text": [
      "Predicted labels [143391.65036598 245535.13731975 153171.44071644 ... 184354.52735665\n",
      " 235510.49470402 282617.22858849]\n",
      "True labels 14740    136900.0\n",
      "10101    241300.0\n",
      "20566    200700.0\n",
      "2670      72500.0\n",
      "15709    460000.0\n",
      "           ...   \n",
      "13132    121200.0\n",
      "8228     137500.0\n",
      "3948     160900.0\n",
      "8522     227300.0\n",
      "16798    265600.0\n",
      "Name: median_house_value, Length: 5160, dtype: float64\n"
     ]
    }
   ],
   "metadata": {
    "slideshow": {
     "slide_type": "slide"
    },
    "tags": []
   }
  },
  {
   "cell_type": "code",
   "execution_count": 10,
   "source": [
    "''' compute different metric values on testing dataset'''\n",
    "from flaml.ml import sklearn_metric_loss_score\n",
    "print('r2', '=', 1 - sklearn_metric_loss_score('r2', y_pred, y_test))\n",
    "print('mse', '=', sklearn_metric_loss_score('mse', y_pred, y_test))\n",
    "print('mae', '=', sklearn_metric_loss_score('mae', y_pred, y_test))"
   ],
   "outputs": [
    {
     "output_type": "stream",
     "name": "stdout",
     "text": [
      "r2 = 0.8505434326525669\n",
      "mse = 1975592613.1389656\n",
      "mae = 29471.536046101864\n"
     ]
    }
   ],
   "metadata": {
    "slideshow": {
     "slide_type": "slide"
    },
    "tags": []
   }
  },
  {
   "cell_type": "code",
   "execution_count": 11,
   "source": [
    "from flaml.data import get_output_from_log\n",
    "time_history, best_valid_loss_history, valid_loss_history, config_history, metric_history = \\\n",
    "    get_output_from_log(filename=settings['log_file_name'], time_budget=60)\n",
    "\n",
    "for config in config_history:\n",
    "    print(config)"
   ],
   "outputs": [
    {
     "output_type": "stream",
     "name": "stdout",
     "text": [
      "{'Current Learner': 'lgbm', 'Current Sample': 15480, 'Current Hyper-parameters': {'n_estimators': 4, 'num_leaves': 4, 'min_child_samples': 20, 'learning_rate': 0.09999999999999995, 'log_max_bin': 8, 'colsample_bytree': 1.0, 'reg_alpha': 0.0009765625, 'reg_lambda': 1.0}, 'Best Learner': 'lgbm', 'Best Hyper-parameters': {'n_estimators': 4, 'num_leaves': 4, 'min_child_samples': 20, 'learning_rate': 0.09999999999999995, 'log_max_bin': 8, 'colsample_bytree': 1.0, 'reg_alpha': 0.0009765625, 'reg_lambda': 1.0}}\n",
      "{'Current Learner': 'lgbm', 'Current Sample': 15480, 'Current Hyper-parameters': {'n_estimators': 4, 'num_leaves': 12, 'min_child_samples': 15, 'learning_rate': 0.2284139062380884, 'log_max_bin': 9, 'colsample_bytree': 1.0, 'reg_alpha': 0.0014700173967242716, 'reg_lambda': 7.624911621832711}, 'Best Learner': 'lgbm', 'Best Hyper-parameters': {'n_estimators': 4, 'num_leaves': 12, 'min_child_samples': 15, 'learning_rate': 0.2284139062380884, 'log_max_bin': 9, 'colsample_bytree': 1.0, 'reg_alpha': 0.0014700173967242716, 'reg_lambda': 7.624911621832711}}\n",
      "{'Current Learner': 'lgbm', 'Current Sample': 15480, 'Current Hyper-parameters': {'n_estimators': 4, 'num_leaves': 21, 'min_child_samples': 12, 'learning_rate': 0.5082200481556807, 'log_max_bin': 8, 'colsample_bytree': 0.9696263001275751, 'reg_alpha': 0.0028107036379524425, 'reg_lambda': 3.716898117989413}, 'Best Learner': 'lgbm', 'Best Hyper-parameters': {'n_estimators': 4, 'num_leaves': 21, 'min_child_samples': 12, 'learning_rate': 0.5082200481556807, 'log_max_bin': 8, 'colsample_bytree': 0.9696263001275751, 'reg_alpha': 0.0028107036379524425, 'reg_lambda': 3.716898117989413}}\n",
      "{'Current Learner': 'lgbm', 'Current Sample': 15480, 'Current Hyper-parameters': {'n_estimators': 20, 'num_leaves': 12, 'min_child_samples': 15, 'learning_rate': 0.2284139062380884, 'log_max_bin': 9, 'colsample_bytree': 1.0, 'reg_alpha': 0.0014700173967242718, 'reg_lambda': 7.624911621832699}, 'Best Learner': 'lgbm', 'Best Hyper-parameters': {'n_estimators': 20, 'num_leaves': 12, 'min_child_samples': 15, 'learning_rate': 0.2284139062380884, 'log_max_bin': 9, 'colsample_bytree': 1.0, 'reg_alpha': 0.0014700173967242718, 'reg_lambda': 7.624911621832699}}\n",
      "{'Current Learner': 'lgbm', 'Current Sample': 15480, 'Current Hyper-parameters': {'n_estimators': 78, 'num_leaves': 10, 'min_child_samples': 24, 'learning_rate': 0.07647794276357107, 'log_max_bin': 10, 'colsample_bytree': 1.0, 'reg_alpha': 0.001749539645587163, 'reg_lambda': 4.373760956394571}, 'Best Learner': 'lgbm', 'Best Hyper-parameters': {'n_estimators': 78, 'num_leaves': 10, 'min_child_samples': 24, 'learning_rate': 0.07647794276357107, 'log_max_bin': 10, 'colsample_bytree': 1.0, 'reg_alpha': 0.001749539645587163, 'reg_lambda': 4.373760956394571}}\n",
      "{'Current Learner': 'lgbm', 'Current Sample': 15480, 'Current Hyper-parameters': {'n_estimators': 171, 'num_leaves': 15, 'min_child_samples': 49, 'learning_rate': 0.09991937598563264, 'log_max_bin': 9, 'colsample_bytree': 1.0, 'reg_alpha': 0.0009940547384005775, 'reg_lambda': 1.1214041135390789}, 'Best Learner': 'lgbm', 'Best Hyper-parameters': {'n_estimators': 171, 'num_leaves': 15, 'min_child_samples': 49, 'learning_rate': 0.09991937598563264, 'log_max_bin': 9, 'colsample_bytree': 1.0, 'reg_alpha': 0.0009940547384005775, 'reg_lambda': 1.1214041135390789}}\n",
      "{'Current Learner': 'lgbm', 'Current Sample': 15480, 'Current Hyper-parameters': {'n_estimators': 230, 'num_leaves': 61, 'min_child_samples': 58, 'learning_rate': 0.11237861230007634, 'log_max_bin': 9, 'colsample_bytree': 0.9596144262255549, 'reg_alpha': 0.0009765625, 'reg_lambda': 20.911712312854934}, 'Best Learner': 'lgbm', 'Best Hyper-parameters': {'n_estimators': 230, 'num_leaves': 61, 'min_child_samples': 58, 'learning_rate': 0.11237861230007634, 'log_max_bin': 9, 'colsample_bytree': 0.9596144262255549, 'reg_alpha': 0.0009765625, 'reg_lambda': 20.911712312854934}}\n",
      "{'Current Learner': 'lgbm', 'Current Sample': 15480, 'Current Hyper-parameters': {'n_estimators': 363, 'num_leaves': 216, 'min_child_samples': 42, 'learning_rate': 0.09100963138990395, 'log_max_bin': 8, 'colsample_bytree': 0.8025848209352517, 'reg_alpha': 0.001113000336715291, 'reg_lambda': 76.50614276906414}, 'Best Learner': 'lgbm', 'Best Hyper-parameters': {'n_estimators': 363, 'num_leaves': 216, 'min_child_samples': 42, 'learning_rate': 0.09100963138990395, 'log_max_bin': 8, 'colsample_bytree': 0.8025848209352517, 'reg_alpha': 0.001113000336715291, 'reg_lambda': 76.50614276906414}}\n"
     ]
    }
   ],
   "metadata": {
    "slideshow": {
     "slide_type": "subslide"
    },
    "tags": []
   }
  },
  {
   "cell_type": "code",
   "execution_count": 12,
   "source": [
    "import numpy as np\n",
    "\n",
    "plt.title('Learning Curve')\n",
    "plt.xlabel('Wall Clock Time (s)')\n",
    "plt.ylabel('Validation r2')\n",
    "plt.scatter(time_history, 1 - np.array(valid_loss_history))\n",
    "plt.step(time_history, 1 - np.array(best_valid_loss_history), where='post')\n",
    "plt.show()"
   ],
   "outputs": [
    {
     "output_type": "display_data",
     "data": {
      "image/png": "[encoded data removed]",
      "text/plain": [
       "<Figure size 432x288 with 1 Axes>"
      ]
     },
     "metadata": {
      "needs_background": "light"
     }
    }
   ],
   "metadata": {
    "slideshow": {
     "slide_type": "slide"
    }
   }
  },
  {
   "cell_type": "markdown",
   "source": [
    "## 3. Comparison with alternatives\n",
    "\n",
    "### FLAML's accuracy"
   ],
   "metadata": {}
  },
  {
   "cell_type": "code",
   "execution_count": 13,
   "source": [
    "print('flaml (4min) r2', '=', 1 - sklearn_metric_loss_score('r2', y_pred, y_test))"
   ],
   "outputs": [
    {
     "output_type": "stream",
     "name": "stdout",
     "text": [
      "flaml (4min) r2 = 0.8505434326525669\n"
     ]
    }
   ],
   "metadata": {
    "tags": []
   }
  },
  {
   "cell_type": "markdown",
   "source": [
    "### Default LightGBM"
   ],
   "metadata": {}
  },
  {
   "cell_type": "code",
   "execution_count": 14,
   "source": [
    "from lightgbm import LGBMRegressor\n",
    "lgbm = LGBMRegressor()"
   ],
   "outputs": [],
   "metadata": {}
  },
  {
   "cell_type": "code",
   "execution_count": 15,
   "source": [
    "lgbm.fit(X_train, y_train)"
   ],
   "outputs": [
    {
     "output_type": "execute_result",
     "data": {
      "text/plain": [
       "LGBMRegressor()"
      ]
     },
     "metadata": {},
     "execution_count": 15
    }
   ],
   "metadata": {}
  },
  {
   "cell_type": "code",
   "execution_count": 16,
   "source": [
    "y_pred = lgbm.predict(X_test)\n",
    "from flaml.ml import sklearn_metric_loss_score\n",
    "print('default lgbm r2', '=', 1 - sklearn_metric_loss_score('r2', y_pred, y_test))"
   ],
   "outputs": [
    {
     "output_type": "stream",
     "name": "stdout",
     "text": [
      "default lgbm r2 = 0.8296179648694404\n"
     ]
    }
   ],
   "metadata": {
    "tags": []
   }
  },
  {
   "cell_type": "markdown",
   "source": [
    "### Optuna LightGBM Tuner"
   ],
   "metadata": {}
  },
  {
   "cell_type": "code",
   "execution_count": 17,
   "source": [
    "# !pip install optuna==2.8.0;"
   ],
   "outputs": [],
   "metadata": {}
  },
  {
   "cell_type": "code",
   "execution_count": 18,
   "source": [
    "from sklearn.model_selection import train_test_split\n",
    "train_x, val_x, train_y, val_y = train_test_split(X_train, y_train, test_size=0.1)\n",
    "import optuna.integration.lightgbm as lgb\n",
    "dtrain = lgb.Dataset(train_x, label=train_y)\n",
    "dval = lgb.Dataset(val_x, label=val_y)\n",
    "params = {\n",
    "    \"objective\": \"regression\",\n",
    "    \"metric\": \"regression\",\n",
    "    \"verbosity\": -1,\n",
    "}"
   ],
   "outputs": [],
   "metadata": {}
  },
  {
   "cell_type": "code",
   "execution_count": 19,
   "source": [
    "%%time\n",
    "model = lgb.train(params, dtrain, valid_sets=[dtrain, dval], verbose_eval=10000)        \n"
   ],
   "outputs": [
    {
     "output_type": "stream",
     "name": "stderr",
     "text": [
      "\u001b[32m[I 2021-09-29 23:14:13,542]\u001b[0m A new study created in memory with name: no-name-c5c149a5-8d21-451d-8907-5246d780db77\u001b[0m\n",
      "feature_fraction, val_score: 2237193094.198954:  14%|#4        | 1/7 [00:01<00:09,  1.51s/it]\u001b[32m[I 2021-09-29 23:14:15,079]\u001b[0m Trial 0 finished with value: 2237193094.1989536 and parameters: {'feature_fraction': 0.4}. Best is trial 0 with value: 2237193094.1989536.\u001b[0m\n",
      "feature_fraction, val_score: 1961388150.442425:  29%|##8       | 2/7 [00:03<00:07,  1.56s/it]\u001b[32m[I 2021-09-29 23:14:16,753]\u001b[0m Trial 1 finished with value: 1961388150.442425 and parameters: {'feature_fraction': 1.0}. Best is trial 1 with value: 1961388150.442425.\u001b[0m\n",
      "feature_fraction, val_score: 1961388150.442425:  43%|####2     | 3/7 [00:04<00:06,  1.51s/it]\u001b[32m[I 2021-09-29 23:14:18,158]\u001b[0m Trial 2 finished with value: 1988198059.953293 and parameters: {'feature_fraction': 0.5}. Best is trial 1 with value: 1961388150.442425.\u001b[0m\n",
      "feature_fraction, val_score: 1959693958.979498:  57%|#####7    | 4/7 [00:06<00:04,  1.52s/it]\u001b[32m[I 2021-09-29 23:14:19,698]\u001b[0m Trial 3 finished with value: 1959693958.979498 and parameters: {'feature_fraction': 0.8}. Best is trial 3 with value: 1959693958.979498.\u001b[0m\n",
      "feature_fraction, val_score: 1923826918.442117:  71%|#######1  | 5/7 [00:07<00:03,  1.55s/it]\u001b[32m[I 2021-09-29 23:14:21,298]\u001b[0m Trial 4 finished with value: 1923826918.4421172 and parameters: {'feature_fraction': 0.8999999999999999}. Best is trial 4 with value: 1923826918.4421172.\u001b[0m\n",
      "feature_fraction, val_score: 1923826918.442117:  86%|########5 | 6/7 [00:09<00:01,  1.54s/it]\u001b[32m[I 2021-09-29 23:14:22,813]\u001b[0m Trial 5 finished with value: 1959693958.979498 and parameters: {'feature_fraction': 0.7}. Best is trial 4 with value: 1923826918.4421172.\u001b[0m\n",
      "feature_fraction, val_score: 1923826918.442117: 100%|##########| 7/7 [00:10<00:00,  1.50s/it]\u001b[32m[I 2021-09-29 23:14:24,238]\u001b[0m Trial 6 finished with value: 1935542284.5841475 and parameters: {'feature_fraction': 0.6}. Best is trial 4 with value: 1923826918.4421172.\u001b[0m\n",
      "feature_fraction, val_score: 1923826918.442117: 100%|##########| 7/7 [00:10<00:00,  1.53s/it]\n",
      "num_leaves, val_score: 1894793944.507313:   5%|5         | 1/20 [00:02<00:47,  2.51s/it]\u001b[32m[I 2021-09-29 23:14:26,757]\u001b[0m Trial 7 finished with value: 1894793944.5073128 and parameters: {'num_leaves': 63}. Best is trial 7 with value: 1894793944.5073128.\u001b[0m\n",
      "num_leaves, val_score: 1894793944.507313:  10%|#         | 2/20 [00:10<01:17,  4.28s/it]\u001b[32m[I 2021-09-29 23:14:35,165]\u001b[0m Trial 8 finished with value: 1927707783.0138607 and parameters: {'num_leaves': 231}. Best is trial 7 with value: 1894793944.5073128.\u001b[0m\n",
      "num_leaves, val_score: 1894793944.507313:  15%|#5        | 3/20 [00:13<01:06,  3.90s/it]\u001b[32m[I 2021-09-29 23:14:38,165]\u001b[0m Trial 9 finished with value: 1898863555.537152 and parameters: {'num_leaves': 80}. Best is trial 7 with value: 1894793944.5073128.\u001b[0m\n",
      "num_leaves, val_score: 1894793944.507313:  20%|##        | 4/20 [00:20<01:13,  4.60s/it]\u001b[32m[I 2021-09-29 23:14:44,401]\u001b[0m Trial 10 finished with value: 1895572554.0884657 and parameters: {'num_leaves': 170}. Best is trial 7 with value: 1894793944.5073128.\u001b[0m\n",
      "num_leaves, val_score: 1894793944.507313:  25%|##5       | 5/20 [00:27<01:23,  5.55s/it]\u001b[32m[I 2021-09-29 23:14:52,188]\u001b[0m Trial 11 finished with value: 1932937258.238013 and parameters: {'num_leaves': 221}. Best is trial 7 with value: 1894793944.5073128.\u001b[0m\n",
      "num_leaves, val_score: 1881619881.755456:  30%|###       | 6/20 [00:32<01:12,  5.19s/it]\u001b[32m[I 2021-09-29 23:14:56,509]\u001b[0m Trial 12 finished with value: 1881619881.7554562 and parameters: {'num_leaves': 116}. Best is trial 12 with value: 1881619881.7554562.\u001b[0m\n",
      "num_leaves, val_score: 1881619881.755456:  35%|###5      | 7/20 [00:37<01:09,  5.33s/it]\u001b[32m[I 2021-09-29 23:15:02,188]\u001b[0m Trial 13 finished with value: 1896214256.4755397 and parameters: {'num_leaves': 149}. Best is trial 12 with value: 1881619881.7554562.\u001b[0m\n",
      "num_leaves, val_score: 1881619881.755456:  40%|####      | 8/20 [00:46<01:16,  6.39s/it]\u001b[32m[I 2021-09-29 23:15:11,047]\u001b[0m Trial 14 finished with value: 1932801730.248241 and parameters: {'num_leaves': 249}. Best is trial 12 with value: 1881619881.7554562.\u001b[0m\n",
      "num_leaves, val_score: 1874343820.223125:  45%|####5     | 9/20 [00:50<01:00,  5.49s/it]\u001b[32m[I 2021-09-29 23:15:14,420]\u001b[0m Trial 15 finished with value: 1874343820.2231247 and parameters: {'num_leaves': 90}. Best is trial 15 with value: 1874343820.2231247.\u001b[0m\n",
      "num_leaves, val_score: 1874343820.223125:  50%|#####     | 10/20 [00:51<00:43,  4.33s/it]\u001b[32m[I 2021-09-29 23:15:16,039]\u001b[0m Trial 16 finished with value: 1953979611.4522753 and parameters: {'num_leaves': 33}. Best is trial 15 with value: 1874343820.2231247.\u001b[0m\n",
      "num_leaves, val_score: 1874343820.223125:  55%|#####5    | 11/20 [00:52<00:29,  3.24s/it]\u001b[32m[I 2021-09-29 23:15:16,762]\u001b[0m Trial 17 finished with value: 2096126435.5363083 and parameters: {'num_leaves': 6}. Best is trial 15 with value: 1874343820.2231247.\u001b[0m\n",
      "num_leaves, val_score: 1874343820.223125:  60%|######    | 12/20 [00:56<00:28,  3.60s/it]\u001b[32m[I 2021-09-29 23:15:21,192]\u001b[0m Trial 18 finished with value: 1906288467.0368485 and parameters: {'num_leaves': 104}. Best is trial 15 with value: 1874343820.2231247.\u001b[0m\n",
      "num_leaves, val_score: 1868351924.901373:  65%|######5   | 13/20 [01:02<00:28,  4.06s/it]\u001b[32m[I 2021-09-29 23:15:26,319]\u001b[0m Trial 19 finished with value: 1868351924.901373 and parameters: {'num_leaves': 123}. Best is trial 19 with value: 1868351924.901373.\u001b[0m\n",
      "num_leaves, val_score: 1868351924.901373:  70%|#######   | 14/20 [01:10<00:31,  5.25s/it]\u001b[32m[I 2021-09-29 23:15:34,344]\u001b[0m Trial 20 finished with value: 1914548906.8882365 and parameters: {'num_leaves': 182}. Best is trial 19 with value: 1868351924.901373.\u001b[0m\n",
      "num_leaves, val_score: 1868351924.901373:  75%|#######5  | 15/20 [01:13<00:23,  4.62s/it]\u001b[32m[I 2021-09-29 23:15:37,498]\u001b[0m Trial 21 finished with value: 1893247951.8046007 and parameters: {'num_leaves': 66}. Best is trial 19 with value: 1868351924.901373.\u001b[0m\n",
      "num_leaves, val_score: 1868351924.901373:  80%|########  | 16/20 [01:19<00:20,  5.14s/it]\u001b[32m[I 2021-09-29 23:15:43,859]\u001b[0m Trial 22 finished with value: 1869033871.381424 and parameters: {'num_leaves': 137}. Best is trial 19 with value: 1868351924.901373.\u001b[0m\n",
      "num_leaves, val_score: 1868351924.901373:  85%|########5 | 17/20 [01:26<00:16,  5.59s/it]\u001b[32m[I 2021-09-29 23:15:50,493]\u001b[0m Trial 23 finished with value: 1906428309.75546 and parameters: {'num_leaves': 139}. Best is trial 19 with value: 1868351924.901373.\u001b[0m\n",
      "num_leaves, val_score: 1868351924.901373:  90%|######### | 18/20 [01:33<00:12,  6.08s/it]\u001b[32m[I 2021-09-29 23:15:57,732]\u001b[0m Trial 24 finished with value: 1908820539.6759791 and parameters: {'num_leaves': 190}. Best is trial 19 with value: 1868351924.901373.\u001b[0m\n",
      "num_leaves, val_score: 1863498501.613274:  95%|#########5| 19/20 [01:38<00:05,  5.89s/it]\u001b[32m[I 2021-09-29 23:16:03,159]\u001b[0m Trial 25 finished with value: 1863498501.6132743 and parameters: {'num_leaves': 132}. Best is trial 25 with value: 1863498501.6132743.\u001b[0m\n",
      "num_leaves, val_score: 1863498501.613274: 100%|##########| 20/20 [01:45<00:00,  5.98s/it]\u001b[32m[I 2021-09-29 23:16:09,353]\u001b[0m Trial 26 finished with value: 1931430333.393386 and parameters: {'num_leaves': 163}. Best is trial 25 with value: 1863498501.6132743.\u001b[0m\n",
      "num_leaves, val_score: 1863498501.613274: 100%|##########| 20/20 [01:45<00:00,  5.26s/it]\n",
      "bagging, val_score: 1863498501.613274:  10%|#         | 1/10 [00:06<00:54,  6.06s/it]\u001b[32m[I 2021-09-29 23:16:15,418]\u001b[0m Trial 27 finished with value: 1972994781.1627002 and parameters: {'bagging_fraction': 0.8189909368436051, 'bagging_freq': 5}. Best is trial 27 with value: 1972994781.1627002.\u001b[0m\n",
      "bagging, val_score: 1863498501.613274:  20%|##        | 2/10 [00:11<00:48,  6.01s/it]\u001b[32m[I 2021-09-29 23:16:21,308]\u001b[0m Trial 28 finished with value: 2049496930.4993417 and parameters: {'bagging_fraction': 0.7873861289934212, 'bagging_freq': 3}. Best is trial 27 with value: 1972994781.1627002.\u001b[0m\n",
      "bagging, val_score: 1863498501.613274:  30%|###       | 3/10 [00:18<00:42,  6.12s/it]\u001b[32m[I 2021-09-29 23:16:27,693]\u001b[0m Trial 29 finished with value: 2139768933.1393518 and parameters: {'bagging_fraction': 0.4388276153024021, 'bagging_freq': 2}. Best is trial 27 with value: 1972994781.1627002.\u001b[0m\n",
      "bagging, val_score: 1863498501.613274:  40%|####      | 4/10 [00:24<00:37,  6.28s/it]\u001b[32m[I 2021-09-29 23:16:34,335]\u001b[0m Trial 30 finished with value: 2158142780.1248493 and parameters: {'bagging_fraction': 0.4239288962558818, 'bagging_freq': 2}. Best is trial 27 with value: 1972994781.1627002.\u001b[0m\n",
      "bagging, val_score: 1863498501.613274:  50%|#####     | 5/10 [00:31<00:31,  6.22s/it]\u001b[32m[I 2021-09-29 23:16:40,435]\u001b[0m Trial 31 finished with value: 2010657702.029828 and parameters: {'bagging_fraction': 0.715314699361536, 'bagging_freq': 6}. Best is trial 27 with value: 1972994781.1627002.\u001b[0m\n",
      "bagging, val_score: 1863498501.613274:  60%|######    | 6/10 [00:36<00:24,  6.06s/it]\u001b[32m[I 2021-09-29 23:16:46,125]\u001b[0m Trial 32 finished with value: 1964933494.828049 and parameters: {'bagging_fraction': 0.7738253951287195, 'bagging_freq': 3}. Best is trial 32 with value: 1964933494.828049.\u001b[0m\n",
      "bagging, val_score: 1863498501.613274:  70%|#######   | 7/10 [00:42<00:18,  6.01s/it]\u001b[32m[I 2021-09-29 23:16:52,023]\u001b[0m Trial 33 finished with value: 2026997372.947912 and parameters: {'bagging_fraction': 0.745596764852547, 'bagging_freq': 5}. Best is trial 32 with value: 1964933494.828049.\u001b[0m\n",
      "bagging, val_score: 1863498501.613274:  80%|########  | 8/10 [00:47<00:11,  5.65s/it]\u001b[32m[I 2021-09-29 23:16:56,834]\u001b[0m Trial 34 finished with value: 1906233781.152753 and parameters: {'bagging_fraction': 0.9945003931775, 'bagging_freq': 1}. Best is trial 34 with value: 1906233781.152753.\u001b[0m\n",
      "bagging, val_score: 1863498501.613274:  90%|######### | 9/10 [00:53<00:05,  5.85s/it]\u001b[32m[I 2021-09-29 23:17:03,142]\u001b[0m Trial 35 finished with value: 1977288663.8965576 and parameters: {'bagging_fraction': 0.7683884472431496, 'bagging_freq': 5}. Best is trial 34 with value: 1906233781.152753.\u001b[0m\n",
      "bagging, val_score: 1863498501.613274: 100%|##########| 10/10 [00:59<00:00,  5.92s/it]\u001b[32m[I 2021-09-29 23:17:09,223]\u001b[0m Trial 36 finished with value: 2070275360.3552403 and parameters: {'bagging_fraction': 0.6452285190521252, 'bagging_freq': 2}. Best is trial 34 with value: 1906233781.152753.\u001b[0m\n",
      "bagging, val_score: 1863498501.613274: 100%|##########| 10/10 [00:59<00:00,  5.99s/it]\n",
      "feature_fraction_stage2, val_score: 1863498501.613274:  17%|#6        | 1/6 [00:04<00:22,  4.59s/it]\u001b[32m[I 2021-09-29 23:17:13,824]\u001b[0m Trial 37 finished with value: 1863498501.6132743 and parameters: {'feature_fraction': 0.852}. Best is trial 37 with value: 1863498501.6132743.\u001b[0m\n",
      "feature_fraction_stage2, val_score: 1863498501.613274:  33%|###3      | 2/6 [00:09<00:18,  4.72s/it]\u001b[32m[I 2021-09-29 23:17:18,825]\u001b[0m Trial 38 finished with value: 1863498501.6132743 and parameters: {'feature_fraction': 0.8839999999999999}. Best is trial 37 with value: 1863498501.6132743.\u001b[0m\n",
      "feature_fraction_stage2, val_score: 1863498501.613274:  50%|#####     | 3/6 [00:14<00:14,  4.69s/it]\u001b[32m[I 2021-09-29 23:17:23,441]\u001b[0m Trial 39 finished with value: 1863498501.6132743 and parameters: {'feature_fraction': 0.9159999999999999}. Best is trial 37 with value: 1863498501.6132743.\u001b[0m\n",
      "feature_fraction_stage2, val_score: 1863498501.613274:  67%|######6   | 4/6 [00:18<00:09,  4.69s/it]\u001b[32m[I 2021-09-29 23:17:28,139]\u001b[0m Trial 40 finished with value: 1950431559.883238 and parameters: {'feature_fraction': 0.948}. Best is trial 37 with value: 1863498501.6132743.\u001b[0m\n",
      "feature_fraction_stage2, val_score: 1863498501.613274:  83%|########3 | 5/6 [00:23<00:04,  4.74s/it]\u001b[32m[I 2021-09-29 23:17:33,002]\u001b[0m Trial 41 finished with value: 1863498501.6132743 and parameters: {'feature_fraction': 0.82}. Best is trial 37 with value: 1863498501.6132743.\u001b[0m\n",
      "feature_fraction_stage2, val_score: 1863498501.613274: 100%|##########| 6/6 [00:28<00:00,  4.73s/it]\u001b[32m[I 2021-09-29 23:17:37,694]\u001b[0m Trial 42 finished with value: 1950431559.883238 and parameters: {'feature_fraction': 0.9799999999999999}. Best is trial 37 with value: 1863498501.6132743.\u001b[0m\n",
      "feature_fraction_stage2, val_score: 1863498501.613274: 100%|##########| 6/6 [00:28<00:00,  4.74s/it]\n",
      "regularization_factors, val_score: 1863498501.613274:   5%|5         | 1/20 [00:04<01:30,  4.76s/it]\u001b[32m[I 2021-09-29 23:17:42,464]\u001b[0m Trial 43 finished with value: 1900519550.3985364 and parameters: {'lambda_l1': 1.724493294436389e-07, 'lambda_l2': 0.0011802180675328437}. Best is trial 43 with value: 1900519550.3985364.\u001b[0m\n",
      "regularization_factors, val_score: 1863498501.613274:  10%|#         | 2/20 [00:09<01:25,  4.76s/it]\u001b[32m[I 2021-09-29 23:17:47,207]\u001b[0m Trial 44 finished with value: 1897124810.0132961 and parameters: {'lambda_l1': 0.015497205121979793, 'lambda_l2': 0.00015637359721725182}. Best is trial 44 with value: 1897124810.0132961.\u001b[0m\n",
      "regularization_factors, val_score: 1863498501.613274:  15%|#5        | 3/20 [00:14<01:21,  4.77s/it]\u001b[32m[I 2021-09-29 23:17:51,995]\u001b[0m Trial 45 finished with value: 1891252495.3075037 and parameters: {'lambda_l1': 9.16513906590219e-07, 'lambda_l2': 0.026000627128814197}. Best is trial 45 with value: 1891252495.3075037.\u001b[0m\n",
      "regularization_factors, val_score: 1863498500.800182:  20%|##        | 4/20 [00:19<01:16,  4.77s/it]\u001b[32m[I 2021-09-29 23:17:56,768]\u001b[0m Trial 46 finished with value: 1863498500.8001816 and parameters: {'lambda_l1': 0.0011712453303529063, 'lambda_l2': 6.256511928312648e-08}. Best is trial 46 with value: 1863498500.8001816.\u001b[0m\n",
      "regularization_factors, val_score: 1863498470.597524:  25%|##5       | 5/20 [00:24<01:12,  4.84s/it]\u001b[32m[I 2021-09-29 23:18:01,762]\u001b[0m Trial 47 finished with value: 1863498470.5975237 and parameters: {'lambda_l1': 0.053923251257381184, 'lambda_l2': 6.016404526705668e-08}. Best is trial 47 with value: 1863498470.5975237.\u001b[0m\n",
      "regularization_factors, val_score: 1863498470.597524:  30%|###       | 6/20 [00:28<01:07,  4.82s/it]\u001b[32m[I 2021-09-29 23:18:06,535]\u001b[0m Trial 48 finished with value: 1863498500.6828027 and parameters: {'lambda_l1': 6.008912045555043e-05, 'lambda_l2': 3.5014865430650066e-07}. Best is trial 47 with value: 1863498470.5975237.\u001b[0m\n",
      "regularization_factors, val_score: 1863498144.156982:  35%|###5      | 7/20 [00:34<01:04,  4.96s/it]\u001b[32m[I 2021-09-29 23:18:11,824]\u001b[0m Trial 49 finished with value: 1863498144.1569824 and parameters: {'lambda_l1': 0.2873876088430125, 'lambda_l2': 6.275345656705353e-05}. Best is trial 49 with value: 1863498144.1569824.\u001b[0m\n",
      "regularization_factors, val_score: 1829411923.127120:  40%|####      | 8/20 [00:39<00:59,  4.96s/it]\u001b[32m[I 2021-09-29 23:18:16,784]\u001b[0m Trial 50 finished with value: 1829411923.1271203 and parameters: {'lambda_l1': 0.014530100017980814, 'lambda_l2': 0.013764223496447852}. Best is trial 50 with value: 1829411923.1271203.\u001b[0m\n",
      "regularization_factors, val_score: 1829411923.127120:  45%|####5     | 9/20 [00:44<00:54,  4.95s/it]\u001b[32m[I 2021-09-29 23:18:21,714]\u001b[0m Trial 51 finished with value: 1908686079.6273117 and parameters: {'lambda_l1': 4.049940611761022e-08, 'lambda_l2': 0.00040034467394794076}. Best is trial 50 with value: 1829411923.1271203.\u001b[0m\n",
      "regularization_factors, val_score: 1829411923.127120:  50%|#####     | 10/20 [00:49<00:49,  4.99s/it]\u001b[32m[I 2021-09-29 23:18:26,790]\u001b[0m Trial 52 finished with value: 1885012218.0004046 and parameters: {'lambda_l1': 0.0002200189403526506, 'lambda_l2': 0.20302349889094043}. Best is trial 50 with value: 1829411923.1271203.\u001b[0m\n",
      "regularization_factors, val_score: 1829411923.127120:  55%|#####5    | 11/20 [00:54<00:45,  5.03s/it]\u001b[32m[I 2021-09-29 23:18:31,926]\u001b[0m Trial 53 finished with value: 1906625061.3932586 and parameters: {'lambda_l1': 5.510584147431707, 'lambda_l2': 1.5865265278948395}. Best is trial 50 with value: 1829411923.1271203.\u001b[0m\n",
      "regularization_factors, val_score: 1829411923.127120:  60%|######    | 12/20 [00:59<00:41,  5.13s/it]\u001b[32m[I 2021-09-29 23:18:37,269]\u001b[0m Trial 54 finished with value: 1913356940.3398488 and parameters: {'lambda_l1': 7.919177639141472, 'lambda_l2': 7.0464807271647355e-06}. Best is trial 50 with value: 1829411923.1271203.\u001b[0m\n",
      "regularization_factors, val_score: 1829411923.127120:  65%|######5   | 13/20 [01:04<00:36,  5.20s/it]\u001b[32m[I 2021-09-29 23:18:42,634]\u001b[0m Trial 55 finished with value: 1943493473.7805178 and parameters: {'lambda_l1': 0.2709128839307005, 'lambda_l2': 0.008152038140390653}. Best is trial 50 with value: 1829411923.1271203.\u001b[0m\n",
      "regularization_factors, val_score: 1829411923.127120:  70%|#######   | 14/20 [01:10<00:31,  5.18s/it]\u001b[32m[I 2021-09-29 23:18:47,759]\u001b[0m Trial 56 finished with value: 1869993775.185964 and parameters: {'lambda_l1': 0.6252702501891693, 'lambda_l2': 1.1976465197068111e-05}. Best is trial 50 with value: 1829411923.1271203.\u001b[0m\n",
      "regularization_factors, val_score: 1829411923.127120:  75%|#######5  | 15/20 [01:14<00:25,  5.04s/it]\u001b[32m[I 2021-09-29 23:18:52,482]\u001b[0m Trial 57 finished with value: 1863498474.3189669 and parameters: {'lambda_l1': 0.0031261290560461548, 'lambda_l2': 8.158381653124474e-06}. Best is trial 50 with value: 1829411923.1271203.\u001b[0m\n",
      "regularization_factors, val_score: 1829411923.127120:  80%|########  | 16/20 [01:19<00:19,  4.95s/it]\u001b[32m[I 2021-09-29 23:18:57,236]\u001b[0m Trial 58 finished with value: 1906922013.1929636 and parameters: {'lambda_l1': 5.0437093419934566e-06, 'lambda_l2': 8.510701285476182}. Best is trial 50 with value: 1829411923.1271203.\u001b[0m\n",
      "regularization_factors, val_score: 1829411923.127120:  85%|########5 | 17/20 [01:25<00:15,  5.17s/it]\u001b[32m[I 2021-09-29 23:19:02,913]\u001b[0m Trial 59 finished with value: 1941548787.4363914 and parameters: {'lambda_l1': 0.489782747632979, 'lambda_l2': 0.010063061940333582}. Best is trial 50 with value: 1829411923.1271203.\u001b[0m\n",
      "regularization_factors, val_score: 1829411923.127120:  90%|######### | 18/20 [01:30<00:10,  5.17s/it]\u001b[32m[I 2021-09-29 23:19:08,065]\u001b[0m Trial 60 finished with value: 1922251238.1017878 and parameters: {'lambda_l1': 0.014630309366687438, 'lambda_l2': 0.20905649983873378}. Best is trial 50 with value: 1829411923.1271203.\u001b[0m\n",
      "regularization_factors, val_score: 1829411923.127120:  95%|#########5| 19/20 [01:35<00:05,  5.09s/it]\u001b[32m[I 2021-09-29 23:19:12,966]\u001b[0m Trial 61 finished with value: 1907187734.8434992 and parameters: {'lambda_l1': 2.908849929024249, 'lambda_l2': 6.175780052432868e-05}. Best is trial 50 with value: 1829411923.1271203.\u001b[0m\n",
      "regularization_factors, val_score: 1829411923.127120: 100%|##########| 20/20 [01:40<00:00,  5.08s/it]\u001b[32m[I 2021-09-29 23:19:18,016]\u001b[0m Trial 62 finished with value: 1887887228.6365638 and parameters: {'lambda_l1': 0.08176402124056348, 'lambda_l2': 0.0022386651346889396}. Best is trial 50 with value: 1829411923.1271203.\u001b[0m\n",
      "regularization_factors, val_score: 1829411923.127120: 100%|##########| 20/20 [01:40<00:00,  5.02s/it]\n",
      "min_data_in_leaf, val_score: 1829411923.127120:  20%|##        | 1/5 [00:05<00:21,  5.27s/it]\u001b[32m[I 2021-09-29 23:19:23,298]\u001b[0m Trial 63 finished with value: 1887743370.2363958 and parameters: {'min_child_samples': 25}. Best is trial 63 with value: 1887743370.2363958.\u001b[0m\n",
      "min_data_in_leaf, val_score: 1829411923.127120:  40%|####      | 2/5 [00:11<00:16,  5.60s/it]\u001b[32m[I 2021-09-29 23:19:29,669]\u001b[0m Trial 64 finished with value: 1988738364.2495584 and parameters: {'min_child_samples': 100}. Best is trial 63 with value: 1887743370.2363958.\u001b[0m\n",
      "min_data_in_leaf, val_score: 1829411923.127120:  60%|######    | 3/5 [00:16<00:10,  5.32s/it]\u001b[32m[I 2021-09-29 23:19:34,327]\u001b[0m Trial 65 finished with value: 1872759368.4778924 and parameters: {'min_child_samples': 10}. Best is trial 65 with value: 1872759368.4778924.\u001b[0m\n",
      "min_data_in_leaf, val_score: 1829411923.127120:  80%|########  | 4/5 [00:20<00:04,  4.98s/it]\u001b[32m[I 2021-09-29 23:19:38,517]\u001b[0m Trial 66 finished with value: 1866723989.0731173 and parameters: {'min_child_samples': 5}. Best is trial 66 with value: 1866723989.0731173.\u001b[0m\n",
      "min_data_in_leaf, val_score: 1829411923.127120: 100%|##########| 5/5 [00:27<00:00,  5.62s/it]\u001b[32m[I 2021-09-29 23:19:45,625]\u001b[0m Trial 67 finished with value: 1965123941.88074 and parameters: {'min_child_samples': 50}. Best is trial 66 with value: 1866723989.0731173.\u001b[0m\n",
      "min_data_in_leaf, val_score: 1829411923.127120: 100%|##########| 5/5 [00:27<00:00,  5.52s/it]"
     ]
    },
    {
     "output_type": "stream",
     "name": "stdout",
     "text": [
      "CPU times: user 5min 14s, sys: 16.8 s, total: 5min 31s\n",
      "Wall time: 5min 32s\n"
     ]
    },
    {
     "output_type": "stream",
     "name": "stderr",
     "text": [
      "\n"
     ]
    }
   ],
   "metadata": {
    "tags": [
     "outputPrepend"
    ]
   }
  },
  {
   "cell_type": "markdown",
   "source": [],
   "metadata": {}
  },
  {
   "cell_type": "code",
   "execution_count": 20,
   "source": [
    "y_pred = model.predict(X_test)\n",
    "from flaml.ml import sklearn_metric_loss_score\n",
    "print('Optuna LightGBM Tuner r2', '=', 1 - sklearn_metric_loss_score('r2', y_pred, y_test))"
   ],
   "outputs": [
    {
     "output_type": "stream",
     "name": "stdout",
     "text": [
      "Optuna LightGBM Tuner r2 = 0.8444445782478855\n"
     ]
    }
   ],
   "metadata": {
    "tags": []
   }
  },
  {
   "cell_type": "markdown",
   "source": [
    "## 4. Add a customized LightGBM learner in FLAML\n",
    "The native API of LightGBM allows one to specify a custom objective function in the model constructor. You can easily enable it by adding a customized LightGBM learner in FLAML. In the following example, we show how to add such a customized LightGBM learner with a custom objective function."
   ],
   "metadata": {}
  },
  {
   "cell_type": "markdown",
   "source": [
    "### Create a customized LightGBM learner with a custom objective function"
   ],
   "metadata": {}
  },
  {
   "cell_type": "code",
   "execution_count": 21,
   "source": [
    "import numpy as np \n",
    "\n",
    "''' define your customized objective function '''\n",
    "def my_loss_obj(y_true, y_pred):\n",
    "    c = 0.5\n",
    "    residual = y_pred - y_true\n",
    "    grad = c * residual /(np.abs(residual) + c)\n",
    "    hess = c ** 2 / (np.abs(residual) + c) ** 2\n",
    "    # rmse grad and hess\n",
    "    grad_rmse = residual\n",
    "    hess_rmse = 1.0\n",
    "    \n",
    "    # mae grad and hess\n",
    "    grad_mae = np.array(residual)\n",
    "    grad_mae[grad_mae > 0] = 1.\n",
    "    grad_mae[grad_mae <= 0] = -1.\n",
    "    hess_mae = 1.0\n",
    "\n",
    "    coef = [0.4, 0.3, 0.3]\n",
    "    return coef[0] * grad + coef[1] * grad_rmse + coef[2] * grad_mae, \\\n",
    "        coef[0] * hess + coef[1] * hess_rmse + coef[2] * hess_mae\n",
    "\n",
    "\n",
    "from flaml.model import LGBMEstimator\n",
    "\n",
    "''' create a customized LightGBM learner class with your objective function '''\n",
    "class MyLGBM(LGBMEstimator):\n",
    "    '''LGBMEstimator with my_loss_obj as the objective function\n",
    "    '''\n",
    "\n",
    "    def __init__(self, **config):\n",
    "        super().__init__(objective=my_loss_obj, **config)"
   ],
   "outputs": [],
   "metadata": {}
  },
  {
   "cell_type": "markdown",
   "source": [
    "### Add the customized learner in FLAML"
   ],
   "metadata": {}
  },
  {
   "cell_type": "code",
   "execution_count": 22,
   "source": [
    "automl = AutoML()\n",
    "automl.add_learner(learner_name='my_lgbm', learner_class=MyLGBM)\n",
    "settings = {\n",
    "    \"time_budget\": 150,  # total running time in seconds\n",
    "    \"metric\": 'r2',  # primary metrics for regression can be chosen from: ['mae','mse','r2']\n",
    "    \"estimator_list\": ['my_lgbm',],  # list of ML learners; we tune lightgbm in this example\n",
    "    \"task\": 'regression',  # task type    \n",
    "    \"log_file_name\": 'houses_experiment_my_lgbm.log',  # flaml log file\n",
    "}\n",
    "automl.fit(X_train=X_train, y_train=y_train, **settings)"
   ],
   "outputs": [
    {
     "output_type": "stream",
     "name": "stderr",
     "text": [
      "[flaml.automl: 09-29 23:19:46] {1446} INFO - Data split method: uniform\n",
      "[flaml.automl: 09-29 23:19:46] {1450} INFO - Evaluation method: cv\n",
      "[flaml.automl: 09-29 23:19:46] {1496} INFO - Minimizing error metric: 1-r2\n",
      "[flaml.automl: 09-29 23:19:46] {1533} INFO - List of ML learners in AutoML Run: ['my_lgbm']\n",
      "[flaml.automl: 09-29 23:19:46] {1763} INFO - iteration 0, current learner my_lgbm\n",
      "[flaml.automl: 09-29 23:19:46] {1880} INFO - Estimated sufficient time budget=1596s. Estimated necessary time budget=2s.\n",
      "[flaml.automl: 09-29 23:19:46] {1952} INFO -  at 0.2s,\testimator my_lgbm's best error=2.9883,\tbest estimator my_lgbm's best error=2.9883\n",
      "[flaml.automl: 09-29 23:19:46] {1763} INFO - iteration 1, current learner my_lgbm\n",
      "[flaml.automl: 09-29 23:19:47] {1952} INFO -  at 0.4s,\testimator my_lgbm's best error=2.9883,\tbest estimator my_lgbm's best error=2.9883\n",
      "[flaml.automl: 09-29 23:19:47] {1763} INFO - iteration 2, current learner my_lgbm\n",
      "[flaml.automl: 09-29 23:19:47] {1952} INFO -  at 0.5s,\testimator my_lgbm's best error=1.7086,\tbest estimator my_lgbm's best error=1.7086\n",
      "[flaml.automl: 09-29 23:19:47] {1763} INFO - iteration 3, current learner my_lgbm\n",
      "[flaml.automl: 09-29 23:19:47] {1952} INFO -  at 0.7s,\testimator my_lgbm's best error=0.3474,\tbest estimator my_lgbm's best error=0.3474\n",
      "[flaml.automl: 09-29 23:19:47] {1763} INFO - iteration 4, current learner my_lgbm\n",
      "[flaml.automl: 09-29 23:19:47] {1952} INFO -  at 0.9s,\testimator my_lgbm's best error=0.3474,\tbest estimator my_lgbm's best error=0.3474\n",
      "[flaml.automl: 09-29 23:19:47] {1763} INFO - iteration 5, current learner my_lgbm\n",
      "[flaml.automl: 09-29 23:19:47] {1952} INFO -  at 1.1s,\testimator my_lgbm's best error=0.3015,\tbest estimator my_lgbm's best error=0.3015\n",
      "[flaml.automl: 09-29 23:19:47] {1763} INFO - iteration 6, current learner my_lgbm\n",
      "[flaml.automl: 09-29 23:19:48] {1952} INFO -  at 1.3s,\testimator my_lgbm's best error=0.3015,\tbest estimator my_lgbm's best error=0.3015\n",
      "[flaml.automl: 09-29 23:19:48] {1763} INFO - iteration 7, current learner my_lgbm\n",
      "[flaml.automl: 09-29 23:19:48] {1952} INFO -  at 1.5s,\testimator my_lgbm's best error=0.3015,\tbest estimator my_lgbm's best error=0.3015\n",
      "[flaml.automl: 09-29 23:19:48] {1763} INFO - iteration 8, current learner my_lgbm\n",
      "[flaml.automl: 09-29 23:19:48] {1952} INFO -  at 1.8s,\testimator my_lgbm's best error=0.2721,\tbest estimator my_lgbm's best error=0.2721\n",
      "[flaml.automl: 09-29 23:19:48] {1763} INFO - iteration 9, current learner my_lgbm\n",
      "[flaml.automl: 09-29 23:19:48] {1952} INFO -  at 2.0s,\testimator my_lgbm's best error=0.2721,\tbest estimator my_lgbm's best error=0.2721\n",
      "[flaml.automl: 09-29 23:19:48] {1763} INFO - iteration 10, current learner my_lgbm\n",
      "[flaml.automl: 09-29 23:19:49] {1952} INFO -  at 3.2s,\testimator my_lgbm's best error=0.1833,\tbest estimator my_lgbm's best error=0.1833\n",
      "[flaml.automl: 09-29 23:19:49] {1763} INFO - iteration 11, current learner my_lgbm\n",
      "[flaml.automl: 09-29 23:19:51] {1952} INFO -  at 4.7s,\testimator my_lgbm's best error=0.1833,\tbest estimator my_lgbm's best error=0.1833\n",
      "[flaml.automl: 09-29 23:19:51] {1763} INFO - iteration 12, current learner my_lgbm\n",
      "[flaml.automl: 09-29 23:19:52] {1952} INFO -  at 5.5s,\testimator my_lgbm's best error=0.1833,\tbest estimator my_lgbm's best error=0.1833\n",
      "[flaml.automl: 09-29 23:19:52] {1763} INFO - iteration 13, current learner my_lgbm\n",
      "[flaml.automl: 09-29 23:19:53] {1952} INFO -  at 6.8s,\testimator my_lgbm's best error=0.1833,\tbest estimator my_lgbm's best error=0.1833\n",
      "[flaml.automl: 09-29 23:19:53] {1763} INFO - iteration 14, current learner my_lgbm\n",
      "[flaml.automl: 09-29 23:19:54] {1952} INFO -  at 8.1s,\testimator my_lgbm's best error=0.1833,\tbest estimator my_lgbm's best error=0.1833\n",
      "[flaml.automl: 09-29 23:19:54] {1763} INFO - iteration 15, current learner my_lgbm\n",
      "[flaml.automl: 09-29 23:19:56] {1952} INFO -  at 9.7s,\testimator my_lgbm's best error=0.1762,\tbest estimator my_lgbm's best error=0.1762\n",
      "[flaml.automl: 09-29 23:19:56] {1763} INFO - iteration 16, current learner my_lgbm\n",
      "[flaml.automl: 09-29 23:19:57] {1952} INFO -  at 10.8s,\testimator my_lgbm's best error=0.1762,\tbest estimator my_lgbm's best error=0.1762\n",
      "[flaml.automl: 09-29 23:19:57] {1763} INFO - iteration 17, current learner my_lgbm\n",
      "[flaml.automl: 09-29 23:20:04] {1952} INFO -  at 17.7s,\testimator my_lgbm's best error=0.1760,\tbest estimator my_lgbm's best error=0.1760\n",
      "[flaml.automl: 09-29 23:20:04] {1763} INFO - iteration 18, current learner my_lgbm\n",
      "[flaml.automl: 09-29 23:20:06] {1952} INFO -  at 19.8s,\testimator my_lgbm's best error=0.1760,\tbest estimator my_lgbm's best error=0.1760\n",
      "[flaml.automl: 09-29 23:20:06] {1763} INFO - iteration 19, current learner my_lgbm\n",
      "[flaml.automl: 09-29 23:20:08] {1952} INFO -  at 22.2s,\testimator my_lgbm's best error=0.1760,\tbest estimator my_lgbm's best error=0.1760\n",
      "[flaml.automl: 09-29 23:20:08] {1763} INFO - iteration 20, current learner my_lgbm\n",
      "[flaml.automl: 09-29 23:20:22] {1952} INFO -  at 35.5s,\testimator my_lgbm's best error=0.1760,\tbest estimator my_lgbm's best error=0.1760\n",
      "[flaml.automl: 09-29 23:20:22] {1763} INFO - iteration 21, current learner my_lgbm\n",
      "[flaml.automl: 09-29 23:20:28] {1952} INFO -  at 41.7s,\testimator my_lgbm's best error=0.1760,\tbest estimator my_lgbm's best error=0.1760\n",
      "[flaml.automl: 09-29 23:20:28] {1763} INFO - iteration 22, current learner my_lgbm\n",
      "[flaml.automl: 09-29 23:20:32] {1952} INFO -  at 45.6s,\testimator my_lgbm's best error=0.1706,\tbest estimator my_lgbm's best error=0.1706\n",
      "[flaml.automl: 09-29 23:20:32] {1763} INFO - iteration 23, current learner my_lgbm\n",
      "[flaml.automl: 09-29 23:20:35] {1952} INFO -  at 49.0s,\testimator my_lgbm's best error=0.1706,\tbest estimator my_lgbm's best error=0.1706\n",
      "[flaml.automl: 09-29 23:20:35] {1763} INFO - iteration 24, current learner my_lgbm\n",
      "[flaml.automl: 09-29 23:20:42] {1952} INFO -  at 55.4s,\testimator my_lgbm's best error=0.1706,\tbest estimator my_lgbm's best error=0.1706\n",
      "[flaml.automl: 09-29 23:20:42] {1763} INFO - iteration 25, current learner my_lgbm\n",
      "[flaml.automl: 09-29 23:20:58] {1952} INFO -  at 71.6s,\testimator my_lgbm's best error=0.1706,\tbest estimator my_lgbm's best error=0.1706\n",
      "[flaml.automl: 09-29 23:20:58] {1763} INFO - iteration 26, current learner my_lgbm\n",
      "[flaml.automl: 09-29 23:20:59] {1952} INFO -  at 72.9s,\testimator my_lgbm's best error=0.1706,\tbest estimator my_lgbm's best error=0.1706\n",
      "[flaml.automl: 09-29 23:20:59] {1763} INFO - iteration 27, current learner my_lgbm\n",
      "[flaml.automl: 09-29 23:21:11] {1952} INFO -  at 84.3s,\testimator my_lgbm's best error=0.1706,\tbest estimator my_lgbm's best error=0.1706\n",
      "[flaml.automl: 09-29 23:21:11] {1763} INFO - iteration 28, current learner my_lgbm\n",
      "[flaml.automl: 09-29 23:21:13] {1952} INFO -  at 87.0s,\testimator my_lgbm's best error=0.1706,\tbest estimator my_lgbm's best error=0.1706\n",
      "[flaml.automl: 09-29 23:21:13] {1763} INFO - iteration 29, current learner my_lgbm\n",
      "[flaml.automl: 09-29 23:21:14] {1952} INFO -  at 88.2s,\testimator my_lgbm's best error=0.1706,\tbest estimator my_lgbm's best error=0.1706\n",
      "[flaml.automl: 09-29 23:21:14] {1763} INFO - iteration 30, current learner my_lgbm\n",
      "[flaml.automl: 09-29 23:21:39] {1952} INFO -  at 112.9s,\testimator my_lgbm's best error=0.1706,\tbest estimator my_lgbm's best error=0.1706\n",
      "[flaml.automl: 09-29 23:21:39] {1763} INFO - iteration 31, current learner my_lgbm\n",
      "[flaml.automl: 09-29 23:21:42] {1952} INFO -  at 115.6s,\testimator my_lgbm's best error=0.1706,\tbest estimator my_lgbm's best error=0.1706\n",
      "[flaml.automl: 09-29 23:21:42] {1763} INFO - iteration 32, current learner my_lgbm\n",
      "[flaml.automl: 09-29 23:21:48] {1952} INFO -  at 122.0s,\testimator my_lgbm's best error=0.1632,\tbest estimator my_lgbm's best error=0.1632\n",
      "[flaml.automl: 09-29 23:21:48] {1763} INFO - iteration 33, current learner my_lgbm\n",
      "[flaml.automl: 09-29 23:21:54] {1952} INFO -  at 127.4s,\testimator my_lgbm's best error=0.1632,\tbest estimator my_lgbm's best error=0.1632\n",
      "[flaml.automl: 09-29 23:21:54] {1763} INFO - iteration 34, current learner my_lgbm\n",
      "[flaml.automl: 09-29 23:21:58] {1952} INFO -  at 131.3s,\testimator my_lgbm's best error=0.1632,\tbest estimator my_lgbm's best error=0.1632\n",
      "[flaml.automl: 09-29 23:21:58] {1763} INFO - iteration 35, current learner my_lgbm\n",
      "[flaml.automl: 09-29 23:22:18] {1952} INFO -  at 152.2s,\testimator my_lgbm's best error=0.1632,\tbest estimator my_lgbm's best error=0.1632\n",
      "[flaml.automl: 09-29 23:22:18] {2059} INFO - selected model: LGBMRegressor(colsample_bytree=0.8422311526890249,\n",
      "              learning_rate=0.4130805075333343, max_bin=1023,\n",
      "              min_child_samples=10, n_estimators=95, num_leaves=221,\n",
      "              objective=<function my_loss_obj at 0x7f2a5d4803a0>,\n",
      "              reg_alpha=0.007704104902643932, reg_lambda=0.003151767359549649,\n",
      "              verbose=-1)\n",
      "[flaml.automl: 09-29 23:22:20] {2122} INFO - retrain my_lgbm for 1.6s\n",
      "[flaml.automl: 09-29 23:22:20] {2128} INFO - retrained model: LGBMRegressor(colsample_bytree=0.8422311526890249,\n",
      "              learning_rate=0.4130805075333343, max_bin=1023,\n",
      "              min_child_samples=10, n_estimators=95, num_leaves=221,\n",
      "              objective=<function my_loss_obj at 0x7f2a5d4803a0>,\n",
      "              reg_alpha=0.007704104902643932, reg_lambda=0.003151767359549649,\n",
      "              verbose=-1)\n",
      "[flaml.automl: 09-29 23:22:20] {1557} INFO - fit succeeded\n",
      "[flaml.automl: 09-29 23:22:20] {1558} INFO - Time taken to find the best model: 121.97463893890381\n",
      "[flaml.automl: 09-29 23:22:20] {1569} WARNING - Time taken to find the best model is 81% of the provided time budget and not all estimators' hyperparameter search converged. Consider increasing the time budget.\n"
     ]
    }
   ],
   "metadata": {
    "tags": []
   }
  },
  {
   "cell_type": "code",
   "execution_count": 23,
   "source": [
    "print('Best hyperparmeter config:', automl.best_config)\n",
    "print('Best r2 on validation data: {0:.4g}'.format(1-automl.best_loss))\n",
    "print('Training duration of best run: {0:.4g} s'.format(automl.best_config_train_time))\n",
    "\n",
    "y_pred = automl.predict(X_test)\n",
    "print('Predicted labels', y_pred)\n",
    "print('True labels', y_test)\n",
    "\n",
    "from flaml.ml import sklearn_metric_loss_score\n",
    "print('r2', '=', 1 - sklearn_metric_loss_score('r2', y_pred, y_test))\n",
    "print('mse', '=', sklearn_metric_loss_score('mse', y_pred, y_test))\n",
    "print('mae', '=', sklearn_metric_loss_score('mae', y_pred, y_test))"
   ],
   "outputs": [
    {
     "output_type": "stream",
     "name": "stdout",
     "text": [
      "Best hyperparmeter config: {'n_estimators': 95, 'num_leaves': 221, 'min_child_samples': 10, 'learning_rate': 0.4130805075333343, 'log_max_bin': 10, 'colsample_bytree': 0.8422311526890249, 'reg_alpha': 0.007704104902643932, 'reg_lambda': 0.003151767359549649}\n",
      "Best r2 on validation data: 0.8368\n",
      "Training duration of best run: 6.404 s\n",
      "Predicted labels [161485.59767093 248585.87889042 157837.93378105 ... 184356.07034452\n",
      " 223247.80995858 259281.61167122]\n",
      "True labels 14740    136900.0\n",
      "10101    241300.0\n",
      "20566    200700.0\n",
      "2670      72500.0\n",
      "15709    460000.0\n",
      "           ...   \n",
      "13132    121200.0\n",
      "8228     137500.0\n",
      "3948     160900.0\n",
      "8522     227300.0\n",
      "16798    265600.0\n",
      "Name: median_house_value, Length: 5160, dtype: float64\n",
      "r2 = 0.8429833151406843\n",
      "mse = 2075526075.9236276\n",
      "mae = 30102.910560642205\n"
     ]
    }
   ],
   "metadata": {
    "tags": []
   }
  }
 ],
 "metadata": {
  "interpreter": {
   "hash": "0cfea3304185a9579d09e0953576b57c8581e46e6ebc6dfeb681bc5a511f7544"
  },
  "kernelspec": {
   "name": "python3",
   "display_name": "Python 3.8.0 64-bit ('blend': conda)"
  },
  "language_info": {
   "name": "python",
   "version": "3.8.0",
   "mimetype": "text/x-python",
   "codemirror_mode": {
    "name": "ipython",
    "version": 3
   },
   "pygments_lexer": "ipython3",
   "nbconvert_exporter": "python",
   "file_extension": ".py"
  }
 },
 "nbformat": 4,
 "nbformat_minor": 2
}