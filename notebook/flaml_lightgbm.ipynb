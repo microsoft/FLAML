{
 "cells": [
  {
   "cell_type": "markdown",
   "source": [
    "Copyright (c) 2020-2021 Microsoft Corporation. All rights reserved. \n",
    "\n",
    "Licensed under the MIT License.\n",
    "\n",
    "# Tune LightGBM with FLAML Library\n",
    "\n",
    "\n",
    "## 1. Introduction\n",
    "\n",
    "FLAML is a Python library (https://github.com/microsoft/FLAML) designed to automatically produce accurate machine learning models \n",
    "with low computational cost. It is fast and cheap. The simple and lightweight design makes it easy \n",
    "to use and extend, such as adding new learners. FLAML can \n",
    "- serve as an economical AutoML engine,\n",
    "- be used as a fast hyperparameter tuning tool, or \n",
    "- be embedded in self-tuning software that requires low latency & resource in repetitive\n",
    "   tuning tasks.\n",
    "\n",
    "In this notebook, we demonstrate how to use FLAML library to tune hyperparameters of LightGBM with a regression example.\n",
    "\n",
    "FLAML requires `Python>=3.6`. To run this notebook example, please install flaml with the `notebook` option:\n",
    "```bash\n",
    "pip install flaml[notebook]\n",
    "```"
   ],
   "metadata": {
    "slideshow": {
     "slide_type": "slide"
    }
   }
  },
  {
   "cell_type": "code",
   "execution_count": 1,
   "source": [
    "!pip install flaml[notebook];"
   ],
   "outputs": [],
   "metadata": {}
  },
  {
   "cell_type": "markdown",
   "source": [
    "## 2. Regression Example\n",
    "### Load data and preprocess\n",
    "\n",
    "Download [houses dataset](https://www.openml.org/d/537) from OpenML. The task is to predict median price of the house in the region based on demographic composition and a state of housing market in the region."
   ],
   "metadata": {
    "slideshow": {
     "slide_type": "slide"
    }
   }
  },
  {
   "cell_type": "code",
   "execution_count": 1,
   "source": [
    "from flaml.data import load_openml_dataset\n",
    "X_train, X_test, y_train, y_test = load_openml_dataset(dataset_id=537, data_dir='./')"
   ],
   "outputs": [
    {
     "output_type": "stream",
     "name": "stdout",
     "text": [
      "load dataset from ./openml_ds537.pkl\n",
      "Dataset name: houses\n",
      "X_train.shape: (15480, 8), y_train.shape: (15480,);\n",
      "X_test.shape: (5160, 8), y_test.shape: (5160,)\n"
     ]
    }
   ],
   "metadata": {
    "slideshow": {
     "slide_type": "subslide"
    },
    "tags": []
   }
  },
  {
   "cell_type": "markdown",
   "source": [
    "### Run FLAML\n",
    "In the FLAML automl run configuration, users can specify the task type, time budget, error metric, learner list, whether to subsample, resampling strategy type, and so on. All these arguments have default values which will be used if users do not provide them. "
   ],
   "metadata": {
    "slideshow": {
     "slide_type": "slide"
    }
   }
  },
  {
   "cell_type": "code",
   "execution_count": 2,
   "source": [
    "''' import AutoML class from flaml package '''\n",
    "from flaml import AutoML\n",
    "automl = AutoML()"
   ],
   "outputs": [],
   "metadata": {
    "slideshow": {
     "slide_type": "slide"
    },
    "tags": []
   }
  },
  {
   "cell_type": "code",
   "execution_count": 3,
   "source": [
    "settings = {\n",
    "    \"time_budget\": 240,  # total running time in seconds\n",
    "    \"metric\": 'r2',  # primary metrics for regression can be chosen from: ['mae','mse','r2']\n",
    "    \"estimator_list\": ['lgbm'],  # list of ML learners; we tune lightgbm in this example\n",
    "    \"task\": 'regression',  # task type    \n",
    "    \"log_file_name\": 'houses_experiment.log',  # flaml log file\n",
    "    \"seed\": 7654321,    # random seed\n",
    "}"
   ],
   "outputs": [],
   "metadata": {
    "slideshow": {
     "slide_type": "slide"
    }
   }
  },
  {
   "cell_type": "code",
   "execution_count": 4,
   "source": [
    "'''The main flaml automl API'''\n",
    "automl.fit(X_train=X_train, y_train=y_train, **settings)"
   ],
   "outputs": [
    {
     "output_type": "stream",
     "name": "stderr",
     "text": [
      "[flaml.automl: 08-22 21:09:17] {1130} INFO - Evaluation method: cv\n",
      "[flaml.automl: 08-22 21:09:17] {634} INFO - Using RepeatedKFold\n",
      "[flaml.automl: 08-22 21:09:17] {1155} INFO - Minimizing error metric: 1-r2\n",
      "[flaml.automl: 08-22 21:09:17] {1175} INFO - List of ML learners in AutoML Run: ['lgbm']\n",
      "[flaml.automl: 08-22 21:09:17] {1358} INFO - iteration 0, current learner lgbm\n",
      "[flaml.automl: 08-22 21:09:18] {1515} INFO -  at 0.5s,\tbest lgbm's error=0.7385,\tbest lgbm's error=0.7385\n",
      "[flaml.automl: 08-22 21:09:18] {1358} INFO - iteration 1, current learner lgbm\n",
      "[flaml.automl: 08-22 21:09:18] {1515} INFO -  at 0.7s,\tbest lgbm's error=0.7385,\tbest lgbm's error=0.7385\n",
      "[flaml.automl: 08-22 21:09:18] {1358} INFO - iteration 2, current learner lgbm\n",
      "[flaml.automl: 08-22 21:09:18] {1515} INFO -  at 0.8s,\tbest lgbm's error=0.5517,\tbest lgbm's error=0.5517\n",
      "[flaml.automl: 08-22 21:09:18] {1358} INFO - iteration 3, current learner lgbm\n",
      "[flaml.automl: 08-22 21:09:18] {1515} INFO -  at 1.0s,\tbest lgbm's error=0.3103,\tbest lgbm's error=0.3103\n",
      "[flaml.automl: 08-22 21:09:18] {1358} INFO - iteration 4, current learner lgbm\n",
      "[flaml.automl: 08-22 21:09:19] {1515} INFO -  at 1.1s,\tbest lgbm's error=0.3103,\tbest lgbm's error=0.3103\n",
      "[flaml.automl: 08-22 21:09:19] {1358} INFO - iteration 5, current learner lgbm\n",
      "[flaml.automl: 08-22 21:09:19] {1515} INFO -  at 1.4s,\tbest lgbm's error=0.2718,\tbest lgbm's error=0.2718\n",
      "[flaml.automl: 08-22 21:09:19] {1358} INFO - iteration 6, current learner lgbm\n",
      "[flaml.automl: 08-22 21:09:19] {1515} INFO -  at 1.6s,\tbest lgbm's error=0.2718,\tbest lgbm's error=0.2718\n",
      "[flaml.automl: 08-22 21:09:19] {1358} INFO - iteration 7, current learner lgbm\n",
      "[flaml.automl: 08-22 21:09:19] {1515} INFO -  at 1.8s,\tbest lgbm's error=0.2718,\tbest lgbm's error=0.2718\n",
      "[flaml.automl: 08-22 21:09:19] {1358} INFO - iteration 8, current learner lgbm\n",
      "[flaml.automl: 08-22 21:09:19] {1515} INFO -  at 2.0s,\tbest lgbm's error=0.2406,\tbest lgbm's error=0.2406\n",
      "[flaml.automl: 08-22 21:09:19] {1358} INFO - iteration 9, current learner lgbm\n",
      "[flaml.automl: 08-22 21:09:20] {1515} INFO -  at 2.2s,\tbest lgbm's error=0.2406,\tbest lgbm's error=0.2406\n",
      "[flaml.automl: 08-22 21:09:20] {1358} INFO - iteration 10, current learner lgbm\n",
      "[flaml.automl: 08-22 21:09:20] {1515} INFO -  at 2.8s,\tbest lgbm's error=0.1787,\tbest lgbm's error=0.1787\n",
      "[flaml.automl: 08-22 21:09:20] {1358} INFO - iteration 11, current learner lgbm\n",
      "[flaml.automl: 08-22 21:09:21] {1515} INFO -  at 3.7s,\tbest lgbm's error=0.1787,\tbest lgbm's error=0.1787\n",
      "[flaml.automl: 08-22 21:09:21] {1358} INFO - iteration 12, current learner lgbm\n",
      "[flaml.automl: 08-22 21:09:22] {1515} INFO -  at 4.3s,\tbest lgbm's error=0.1787,\tbest lgbm's error=0.1787\n",
      "[flaml.automl: 08-22 21:09:22] {1358} INFO - iteration 13, current learner lgbm\n",
      "[flaml.automl: 08-22 21:09:22] {1515} INFO -  at 4.9s,\tbest lgbm's error=0.1787,\tbest lgbm's error=0.1787\n",
      "[flaml.automl: 08-22 21:09:22] {1358} INFO - iteration 14, current learner lgbm\n",
      "[flaml.automl: 08-22 21:09:23] {1515} INFO -  at 5.8s,\tbest lgbm's error=0.1765,\tbest lgbm's error=0.1765\n",
      "[flaml.automl: 08-22 21:09:23] {1358} INFO - iteration 15, current learner lgbm\n",
      "[flaml.automl: 08-22 21:09:25] {1515} INFO -  at 7.6s,\tbest lgbm's error=0.1765,\tbest lgbm's error=0.1765\n",
      "[flaml.automl: 08-22 21:09:25] {1358} INFO - iteration 16, current learner lgbm\n",
      "[flaml.automl: 08-22 21:09:26] {1515} INFO -  at 8.3s,\tbest lgbm's error=0.1765,\tbest lgbm's error=0.1765\n",
      "[flaml.automl: 08-22 21:09:26] {1358} INFO - iteration 17, current learner lgbm\n",
      "[flaml.automl: 08-22 21:09:28] {1515} INFO -  at 10.3s,\tbest lgbm's error=0.1765,\tbest lgbm's error=0.1765\n",
      "[flaml.automl: 08-22 21:09:28] {1358} INFO - iteration 18, current learner lgbm\n",
      "[flaml.automl: 08-22 21:09:28] {1515} INFO -  at 11.0s,\tbest lgbm's error=0.1765,\tbest lgbm's error=0.1765\n",
      "[flaml.automl: 08-22 21:09:28] {1358} INFO - iteration 19, current learner lgbm\n",
      "[flaml.automl: 08-22 21:09:29] {1515} INFO -  at 11.4s,\tbest lgbm's error=0.1765,\tbest lgbm's error=0.1765\n",
      "[flaml.automl: 08-22 21:09:29] {1358} INFO - iteration 20, current learner lgbm\n",
      "[flaml.automl: 08-22 21:09:31] {1515} INFO -  at 13.9s,\tbest lgbm's error=0.1765,\tbest lgbm's error=0.1765\n",
      "[flaml.automl: 08-22 21:09:31] {1358} INFO - iteration 21, current learner lgbm\n",
      "[flaml.automl: 08-22 21:09:32] {1515} INFO -  at 14.9s,\tbest lgbm's error=0.1693,\tbest lgbm's error=0.1693\n",
      "[flaml.automl: 08-22 21:09:32] {1358} INFO - iteration 22, current learner lgbm\n",
      "[flaml.automl: 08-22 21:09:33] {1515} INFO -  at 15.8s,\tbest lgbm's error=0.1693,\tbest lgbm's error=0.1693\n",
      "[flaml.automl: 08-22 21:09:33] {1358} INFO - iteration 23, current learner lgbm\n",
      "[flaml.automl: 08-22 21:09:34] {1515} INFO -  at 16.9s,\tbest lgbm's error=0.1693,\tbest lgbm's error=0.1693\n",
      "[flaml.automl: 08-22 21:09:34] {1358} INFO - iteration 24, current learner lgbm\n",
      "[flaml.automl: 08-22 21:09:35] {1515} INFO -  at 18.1s,\tbest lgbm's error=0.1693,\tbest lgbm's error=0.1693\n",
      "[flaml.automl: 08-22 21:09:35] {1358} INFO - iteration 25, current learner lgbm\n",
      "[flaml.automl: 08-22 21:09:38] {1515} INFO -  at 20.9s,\tbest lgbm's error=0.1685,\tbest lgbm's error=0.1685\n",
      "[flaml.automl: 08-22 21:09:38] {1358} INFO - iteration 26, current learner lgbm\n",
      "[flaml.automl: 08-22 21:09:39] {1515} INFO -  at 22.0s,\tbest lgbm's error=0.1685,\tbest lgbm's error=0.1685\n",
      "[flaml.automl: 08-22 21:09:39] {1358} INFO - iteration 27, current learner lgbm\n",
      "[flaml.automl: 08-22 21:09:47] {1515} INFO -  at 30.0s,\tbest lgbm's error=0.1685,\tbest lgbm's error=0.1685\n",
      "[flaml.automl: 08-22 21:09:47] {1358} INFO - iteration 28, current learner lgbm\n",
      "[flaml.automl: 08-22 21:09:50] {1515} INFO -  at 32.7s,\tbest lgbm's error=0.1685,\tbest lgbm's error=0.1685\n",
      "[flaml.automl: 08-22 21:09:50] {1358} INFO - iteration 29, current learner lgbm\n",
      "[flaml.automl: 08-22 21:09:51] {1515} INFO -  at 33.6s,\tbest lgbm's error=0.1685,\tbest lgbm's error=0.1685\n",
      "[flaml.automl: 08-22 21:09:51] {1358} INFO - iteration 30, current learner lgbm\n",
      "[flaml.automl: 08-22 21:10:09] {1515} INFO -  at 52.0s,\tbest lgbm's error=0.1685,\tbest lgbm's error=0.1685\n",
      "[flaml.automl: 08-22 21:10:09] {1358} INFO - iteration 31, current learner lgbm\n",
      "[flaml.automl: 08-22 21:10:11] {1515} INFO -  at 54.1s,\tbest lgbm's error=0.1685,\tbest lgbm's error=0.1685\n",
      "[flaml.automl: 08-22 21:10:11] {1358} INFO - iteration 32, current learner lgbm\n",
      "[flaml.automl: 08-22 21:10:17] {1515} INFO -  at 59.6s,\tbest lgbm's error=0.1609,\tbest lgbm's error=0.1609\n",
      "[flaml.automl: 08-22 21:10:17] {1358} INFO - iteration 33, current learner lgbm\n",
      "[flaml.automl: 08-22 21:10:22] {1515} INFO -  at 65.1s,\tbest lgbm's error=0.1609,\tbest lgbm's error=0.1609\n",
      "[flaml.automl: 08-22 21:10:22] {1358} INFO - iteration 34, current learner lgbm\n",
      "[flaml.automl: 08-22 21:10:26] {1515} INFO -  at 68.7s,\tbest lgbm's error=0.1609,\tbest lgbm's error=0.1609\n",
      "[flaml.automl: 08-22 21:10:26] {1358} INFO - iteration 35, current learner lgbm\n",
      "[flaml.automl: 08-22 21:10:45] {1515} INFO -  at 88.0s,\tbest lgbm's error=0.1609,\tbest lgbm's error=0.1609\n",
      "[flaml.automl: 08-22 21:10:45] {1358} INFO - iteration 36, current learner lgbm\n",
      "[flaml.automl: 08-22 21:10:46] {1515} INFO -  at 88.9s,\tbest lgbm's error=0.1609,\tbest lgbm's error=0.1609\n",
      "[flaml.automl: 08-22 21:10:46] {1358} INFO - iteration 37, current learner lgbm\n",
      "[flaml.automl: 08-22 21:10:54] {1515} INFO -  at 96.6s,\tbest lgbm's error=0.1573,\tbest lgbm's error=0.1573\n",
      "[flaml.automl: 08-22 21:10:54] {1358} INFO - iteration 38, current learner lgbm\n",
      "[flaml.automl: 08-22 21:10:57] {1515} INFO -  at 99.6s,\tbest lgbm's error=0.1573,\tbest lgbm's error=0.1573\n",
      "[flaml.automl: 08-22 21:10:57] {1358} INFO - iteration 39, current learner lgbm\n",
      "[flaml.automl: 08-22 21:11:57] {1515} INFO -  at 160.1s,\tbest lgbm's error=0.1573,\tbest lgbm's error=0.1573\n",
      "[flaml.automl: 08-22 21:11:57] {1358} INFO - iteration 40, current learner lgbm\n",
      "[flaml.automl: 08-22 21:11:59] {1515} INFO -  at 161.4s,\tbest lgbm's error=0.1573,\tbest lgbm's error=0.1573\n",
      "[flaml.automl: 08-22 21:11:59] {1358} INFO - iteration 41, current learner lgbm\n",
      "[flaml.automl: 08-22 21:12:00] {1515} INFO -  at 162.5s,\tbest lgbm's error=0.1573,\tbest lgbm's error=0.1573\n",
      "[flaml.automl: 08-22 21:12:00] {1358} INFO - iteration 42, current learner lgbm\n",
      "[flaml.automl: 08-22 21:12:35] {1515} INFO -  at 197.7s,\tbest lgbm's error=0.1535,\tbest lgbm's error=0.1535\n",
      "[flaml.automl: 08-22 21:12:35] {1358} INFO - iteration 43, current learner lgbm\n",
      "[flaml.automl: 08-22 21:13:09] {1515} INFO -  at 231.6s,\tbest lgbm's error=0.1535,\tbest lgbm's error=0.1535\n",
      "[flaml.automl: 08-22 21:13:09] {1592} INFO - selected model: LGBMRegressor(colsample_bytree=0.6513228229604555,\n",
      "              learning_rate=0.011556686284183076, max_bin=512,\n",
      "              min_child_samples=9, n_estimators=2120, num_leaves=92,\n",
      "              objective='regression', reg_alpha=0.024999216167840198,\n",
      "              reg_lambda=0.01918323581702806, verbose=-1)\n",
      "[flaml.automl: 08-22 21:13:16] {1633} INFO - retrain lgbm for 6.6s\n",
      "[flaml.automl: 08-22 21:13:16] {1636} INFO - retrained model: LGBMRegressor(colsample_bytree=0.6513228229604555,\n",
      "              learning_rate=0.011556686284183076, max_bin=512,\n",
      "              min_child_samples=9, n_estimators=2120, num_leaves=92,\n",
      "              objective='regression', reg_alpha=0.024999216167840198,\n",
      "              reg_lambda=0.01918323581702806, verbose=-1)\n",
      "[flaml.automl: 08-22 21:13:16] {1199} INFO - fit succeeded\n",
      "[flaml.automl: 08-22 21:13:16] {1200} INFO - Time taken to find the best model: 197.68836307525635\n",
      "[flaml.automl: 08-22 21:13:16] {1205} WARNING - Time taken to find the best model is 82% of the provided time budget and not all estimators' hyperparameter search converged. Consider increasing the time budget.\n"
     ]
    }
   ],
   "metadata": {
    "slideshow": {
     "slide_type": "slide"
    },
    "tags": []
   }
  },
  {
   "cell_type": "markdown",
   "source": [
    "### Best model and metric"
   ],
   "metadata": {
    "slideshow": {
     "slide_type": "slide"
    }
   }
  },
  {
   "cell_type": "code",
   "execution_count": 5,
   "source": [
    "''' retrieve best config'''\n",
    "print('Best hyperparmeter config:', automl.best_config)\n",
    "print('Best r2 on validation data: {0:.4g}'.format(1-automl.best_loss))\n",
    "print('Training duration of best run: {0:.4g} s'.format(automl.best_config_train_time))"
   ],
   "outputs": [
    {
     "output_type": "stream",
     "name": "stdout",
     "text": [
      "Best hyperparmeter config: {'n_estimators': 2120, 'num_leaves': 92, 'min_child_samples': 9, 'learning_rate': 0.011556686284183076, 'log_max_bin': 10, 'colsample_bytree': 0.6513228229604555, 'reg_alpha': 0.024999216167840198, 'reg_lambda': 0.01918323581702806}\n",
      "Best r2 on validation data: 0.8465\n",
      "Training duration of best run: 35.16 s\n"
     ]
    }
   ],
   "metadata": {
    "slideshow": {
     "slide_type": "slide"
    },
    "tags": []
   }
  },
  {
   "cell_type": "code",
   "execution_count": 6,
   "source": [
    "automl.model.estimator\n"
   ],
   "outputs": [
    {
     "output_type": "execute_result",
     "data": {
      "text/plain": [
       "LGBMRegressor(colsample_bytree=0.6513228229604555,\n",
       "              learning_rate=0.011556686284183076, max_bin=512,\n",
       "              min_child_samples=9, n_estimators=2120, num_leaves=92,\n",
       "              objective='regression', reg_alpha=0.024999216167840198,\n",
       "              reg_lambda=0.01918323581702806, verbose=-1)"
      ]
     },
     "metadata": {},
     "execution_count": 6
    }
   ],
   "metadata": {
    "slideshow": {
     "slide_type": "slide"
    }
   }
  },
  {
   "cell_type": "code",
   "execution_count": 7,
   "source": [
    "import matplotlib.pyplot as plt\n",
    "plt.barh(automl.model.estimator.feature_name_, automl.model.estimator.feature_importances_)"
   ],
   "outputs": [
    {
     "output_type": "execute_result",
     "data": {
      "text/plain": [
       "<BarContainer object of 8 artists>"
      ]
     },
     "metadata": {},
     "execution_count": 7
    },
    {
     "output_type": "display_data",
     "data": {
      "text/plain": [
       "<Figure size 432x288 with 1 Axes>"
      ],
      "image/svg+xml": "<?xml version=\"1.0\" encoding=\"utf-8\" standalone=\"no\"?>\n<!DOCTYPE svg PUBLIC \"-//W3C//DTD SVG 1.1//EN\"\n  \"http://www.w3.org/Graphics/SVG/1.1/DTD/svg11.dtd\">\n<!-- Created with matplotlib (https://matplotlib.org/) -->\n<svg height=\"248.518125pt\" version=\"1.1\" viewBox=\"0 0 461.782812 248.518125\" width=\"461.782812pt\" xmlns=\"http://www.w3.org/2000/svg\" xmlns:xlink=\"http://www.w3.org/1999/xlink\">\n <defs>\n  <style type=\"text/css\">\n*{stroke-linecap:butt;stroke-linejoin:round;}\n  </style>\n </defs>\n <g id=\"figure_1\">\n  <g id=\"patch_1\">\n   <path d=\"M 0 248.518125 \nL 461.782812 248.518125 \nL 461.782812 0 \nL 0 0 \nz\n\" style=\"fill:none;\"/>\n  </g>\n  <g id=\"axes_1\">\n   <g id=\"patch_2\">\n    <path d=\"M 119.782813 224.64 \nL 454.582813 224.64 \nL 454.582813 7.2 \nL 119.782813 7.2 \nz\n\" style=\"fill:#ffffff;\"/>\n   </g>\n   <g id=\"patch_3\">\n    <path clip-path=\"url(#pb483a497c3)\" d=\"M 119.782813 214.756364 \nL 372.279786 214.756364 \nL 372.279786 194.482238 \nL 119.782813 194.482238 \nz\n\" style=\"fill:#1f77b4;\"/>\n   </g>\n   <g id=\"patch_4\">\n    <path clip-path=\"url(#pb483a497c3)\" d=\"M 119.782813 189.413706 \nL 310.139474 189.413706 \nL 310.139474 169.13958 \nL 119.782813 169.13958 \nz\n\" style=\"fill:#1f77b4;\"/>\n   </g>\n   <g id=\"patch_5\">\n    <path clip-path=\"url(#pb483a497c3)\" d=\"M 119.782813 164.071049 \nL 365.502756 164.071049 \nL 365.502756 143.796923 \nL 119.782813 143.796923 \nz\n\" style=\"fill:#1f77b4;\"/>\n   </g>\n   <g id=\"patch_6\">\n    <path clip-path=\"url(#pb483a497c3)\" d=\"M 119.782813 138.728392 \nL 348.191865 138.728392 \nL 348.191865 118.454266 \nL 119.782813 118.454266 \nz\n\" style=\"fill:#1f77b4;\"/>\n   </g>\n   <g id=\"patch_7\">\n    <path clip-path=\"url(#pb483a497c3)\" d=\"M 119.782813 113.385734 \nL 379.667169 113.385734 \nL 379.667169 93.111608 \nL 119.782813 93.111608 \nz\n\" style=\"fill:#1f77b4;\"/>\n   </g>\n   <g id=\"patch_8\">\n    <path clip-path=\"url(#pb483a497c3)\" d=\"M 119.782813 88.043077 \nL 341.530592 88.043077 \nL 341.530592 67.768951 \nL 119.782813 67.768951 \nz\n\" style=\"fill:#1f77b4;\"/>\n   </g>\n   <g id=\"patch_9\">\n    <path clip-path=\"url(#pb483a497c3)\" d=\"M 119.782813 62.70042 \nL 432.473279 62.70042 \nL 432.473279 42.426294 \nL 119.782813 42.426294 \nz\n\" style=\"fill:#1f77b4;\"/>\n   </g>\n   <g id=\"patch_10\">\n    <path clip-path=\"url(#pb483a497c3)\" d=\"M 119.782813 37.357762 \nL 438.639955 37.357762 \nL 438.639955 17.083636 \nL 119.782813 17.083636 \nz\n\" style=\"fill:#1f77b4;\"/>\n   </g>\n   <g id=\"matplotlib.axis_1\">\n    <g id=\"xtick_1\">\n     <g id=\"line2d_1\">\n      <defs>\n       <path d=\"M 0 0 \nL 0 3.5 \n\" id=\"m88f1ead640\" style=\"stroke:#000000;stroke-width:0.8;\"/>\n      </defs>\n      <g>\n       <use style=\"stroke:#000000;stroke-width:0.8;\" x=\"119.782813\" xlink:href=\"#m88f1ead640\" y=\"224.64\"/>\n      </g>\n     </g>\n     <g id=\"text_1\">\n      <!-- 0 -->\n      <defs>\n       <path d=\"M 31.78125 66.40625 \nQ 24.171875 66.40625 20.328125 58.90625 \nQ 16.5 51.421875 16.5 36.375 \nQ 16.5 21.390625 20.328125 13.890625 \nQ 24.171875 6.390625 31.78125 6.390625 \nQ 39.453125 6.390625 43.28125 13.890625 \nQ 47.125 21.390625 47.125 36.375 \nQ 47.125 51.421875 43.28125 58.90625 \nQ 39.453125 66.40625 31.78125 66.40625 \nz\nM 31.78125 74.21875 \nQ 44.046875 74.21875 50.515625 64.515625 \nQ 56.984375 54.828125 56.984375 36.375 \nQ 56.984375 17.96875 50.515625 8.265625 \nQ 44.046875 -1.421875 31.78125 -1.421875 \nQ 19.53125 -1.421875 13.0625 8.265625 \nQ 6.59375 17.96875 6.59375 36.375 \nQ 6.59375 54.828125 13.0625 64.515625 \nQ 19.53125 74.21875 31.78125 74.21875 \nz\n\" id=\"DejaVuSans-48\"/>\n      </defs>\n      <g transform=\"translate(116.601562 239.238438)scale(0.1 -0.1)\">\n       <use xlink:href=\"#DejaVuSans-48\"/>\n      </g>\n     </g>\n    </g>\n    <g id=\"xtick_2\">\n     <g id=\"line2d_2\">\n      <g>\n       <use style=\"stroke:#000000;stroke-width:0.8;\" x=\"172.399503\" xlink:href=\"#m88f1ead640\" y=\"224.64\"/>\n      </g>\n     </g>\n     <g id=\"text_2\">\n      <!-- 5000 -->\n      <defs>\n       <path d=\"M 10.796875 72.90625 \nL 49.515625 72.90625 \nL 49.515625 64.59375 \nL 19.828125 64.59375 \nL 19.828125 46.734375 \nQ 21.96875 47.46875 24.109375 47.828125 \nQ 26.265625 48.1875 28.421875 48.1875 \nQ 40.625 48.1875 47.75 41.5 \nQ 54.890625 34.8125 54.890625 23.390625 \nQ 54.890625 11.625 47.5625 5.09375 \nQ 40.234375 -1.421875 26.90625 -1.421875 \nQ 22.3125 -1.421875 17.546875 -0.640625 \nQ 12.796875 0.140625 7.71875 1.703125 \nL 7.71875 11.625 \nQ 12.109375 9.234375 16.796875 8.0625 \nQ 21.484375 6.890625 26.703125 6.890625 \nQ 35.15625 6.890625 40.078125 11.328125 \nQ 45.015625 15.765625 45.015625 23.390625 \nQ 45.015625 31 40.078125 35.4375 \nQ 35.15625 39.890625 26.703125 39.890625 \nQ 22.75 39.890625 18.8125 39.015625 \nQ 14.890625 38.140625 10.796875 36.28125 \nz\n\" id=\"DejaVuSans-53\"/>\n      </defs>\n      <g transform=\"translate(159.674503 239.238438)scale(0.1 -0.1)\">\n       <use xlink:href=\"#DejaVuSans-53\"/>\n       <use x=\"63.623047\" xlink:href=\"#DejaVuSans-48\"/>\n       <use x=\"127.246094\" xlink:href=\"#DejaVuSans-48\"/>\n       <use x=\"190.869141\" xlink:href=\"#DejaVuSans-48\"/>\n      </g>\n     </g>\n    </g>\n    <g id=\"xtick_3\">\n     <g id=\"line2d_3\">\n      <g>\n       <use style=\"stroke:#000000;stroke-width:0.8;\" x=\"225.016193\" xlink:href=\"#m88f1ead640\" y=\"224.64\"/>\n      </g>\n     </g>\n     <g id=\"text_3\">\n      <!-- 10000 -->\n      <defs>\n       <path d=\"M 12.40625 8.296875 \nL 28.515625 8.296875 \nL 28.515625 63.921875 \nL 10.984375 60.40625 \nL 10.984375 69.390625 \nL 28.421875 72.90625 \nL 38.28125 72.90625 \nL 38.28125 8.296875 \nL 54.390625 8.296875 \nL 54.390625 0 \nL 12.40625 0 \nz\n\" id=\"DejaVuSans-49\"/>\n      </defs>\n      <g transform=\"translate(209.109943 239.238438)scale(0.1 -0.1)\">\n       <use xlink:href=\"#DejaVuSans-49\"/>\n       <use x=\"63.623047\" xlink:href=\"#DejaVuSans-48\"/>\n       <use x=\"127.246094\" xlink:href=\"#DejaVuSans-48\"/>\n       <use x=\"190.869141\" xlink:href=\"#DejaVuSans-48\"/>\n       <use x=\"254.492188\" xlink:href=\"#DejaVuSans-48\"/>\n      </g>\n     </g>\n    </g>\n    <g id=\"xtick_4\">\n     <g id=\"line2d_4\">\n      <g>\n       <use style=\"stroke:#000000;stroke-width:0.8;\" x=\"277.632883\" xlink:href=\"#m88f1ead640\" y=\"224.64\"/>\n      </g>\n     </g>\n     <g id=\"text_4\">\n      <!-- 15000 -->\n      <g transform=\"translate(261.726633 239.238438)scale(0.1 -0.1)\">\n       <use xlink:href=\"#DejaVuSans-49\"/>\n       <use x=\"63.623047\" xlink:href=\"#DejaVuSans-53\"/>\n       <use x=\"127.246094\" xlink:href=\"#DejaVuSans-48\"/>\n       <use x=\"190.869141\" xlink:href=\"#DejaVuSans-48\"/>\n       <use x=\"254.492188\" xlink:href=\"#DejaVuSans-48\"/>\n      </g>\n     </g>\n    </g>\n    <g id=\"xtick_5\">\n     <g id=\"line2d_5\">\n      <g>\n       <use style=\"stroke:#000000;stroke-width:0.8;\" x=\"330.249573\" xlink:href=\"#m88f1ead640\" y=\"224.64\"/>\n      </g>\n     </g>\n     <g id=\"text_5\">\n      <!-- 20000 -->\n      <defs>\n       <path d=\"M 19.1875 8.296875 \nL 53.609375 8.296875 \nL 53.609375 0 \nL 7.328125 0 \nL 7.328125 8.296875 \nQ 12.9375 14.109375 22.625 23.890625 \nQ 32.328125 33.6875 34.8125 36.53125 \nQ 39.546875 41.84375 41.421875 45.53125 \nQ 43.3125 49.21875 43.3125 52.78125 \nQ 43.3125 58.59375 39.234375 62.25 \nQ 35.15625 65.921875 28.609375 65.921875 \nQ 23.96875 65.921875 18.8125 64.3125 \nQ 13.671875 62.703125 7.8125 59.421875 \nL 7.8125 69.390625 \nQ 13.765625 71.78125 18.9375 73 \nQ 24.125 74.21875 28.421875 74.21875 \nQ 39.75 74.21875 46.484375 68.546875 \nQ 53.21875 62.890625 53.21875 53.421875 \nQ 53.21875 48.921875 51.53125 44.890625 \nQ 49.859375 40.875 45.40625 35.40625 \nQ 44.1875 33.984375 37.640625 27.21875 \nQ 31.109375 20.453125 19.1875 8.296875 \nz\n\" id=\"DejaVuSans-50\"/>\n      </defs>\n      <g transform=\"translate(314.343323 239.238438)scale(0.1 -0.1)\">\n       <use xlink:href=\"#DejaVuSans-50\"/>\n       <use x=\"63.623047\" xlink:href=\"#DejaVuSans-48\"/>\n       <use x=\"127.246094\" xlink:href=\"#DejaVuSans-48\"/>\n       <use x=\"190.869141\" xlink:href=\"#DejaVuSans-48\"/>\n       <use x=\"254.492188\" xlink:href=\"#DejaVuSans-48\"/>\n      </g>\n     </g>\n    </g>\n    <g id=\"xtick_6\">\n     <g id=\"line2d_6\">\n      <g>\n       <use style=\"stroke:#000000;stroke-width:0.8;\" x=\"382.866264\" xlink:href=\"#m88f1ead640\" y=\"224.64\"/>\n      </g>\n     </g>\n     <g id=\"text_6\">\n      <!-- 25000 -->\n      <g transform=\"translate(366.960014 239.238438)scale(0.1 -0.1)\">\n       <use xlink:href=\"#DejaVuSans-50\"/>\n       <use x=\"63.623047\" xlink:href=\"#DejaVuSans-53\"/>\n       <use x=\"127.246094\" xlink:href=\"#DejaVuSans-48\"/>\n       <use x=\"190.869141\" xlink:href=\"#DejaVuSans-48\"/>\n       <use x=\"254.492188\" xlink:href=\"#DejaVuSans-48\"/>\n      </g>\n     </g>\n    </g>\n    <g id=\"xtick_7\">\n     <g id=\"line2d_7\">\n      <g>\n       <use style=\"stroke:#000000;stroke-width:0.8;\" x=\"435.482954\" xlink:href=\"#m88f1ead640\" y=\"224.64\"/>\n      </g>\n     </g>\n     <g id=\"text_7\">\n      <!-- 30000 -->\n      <defs>\n       <path d=\"M 40.578125 39.3125 \nQ 47.65625 37.796875 51.625 33 \nQ 55.609375 28.21875 55.609375 21.1875 \nQ 55.609375 10.40625 48.1875 4.484375 \nQ 40.765625 -1.421875 27.09375 -1.421875 \nQ 22.515625 -1.421875 17.65625 -0.515625 \nQ 12.796875 0.390625 7.625 2.203125 \nL 7.625 11.71875 \nQ 11.71875 9.328125 16.59375 8.109375 \nQ 21.484375 6.890625 26.8125 6.890625 \nQ 36.078125 6.890625 40.9375 10.546875 \nQ 45.796875 14.203125 45.796875 21.1875 \nQ 45.796875 27.640625 41.28125 31.265625 \nQ 36.765625 34.90625 28.71875 34.90625 \nL 20.21875 34.90625 \nL 20.21875 43.015625 \nL 29.109375 43.015625 \nQ 36.375 43.015625 40.234375 45.921875 \nQ 44.09375 48.828125 44.09375 54.296875 \nQ 44.09375 59.90625 40.109375 62.90625 \nQ 36.140625 65.921875 28.71875 65.921875 \nQ 24.65625 65.921875 20.015625 65.03125 \nQ 15.375 64.15625 9.8125 62.3125 \nL 9.8125 71.09375 \nQ 15.4375 72.65625 20.34375 73.4375 \nQ 25.25 74.21875 29.59375 74.21875 \nQ 40.828125 74.21875 47.359375 69.109375 \nQ 53.90625 64.015625 53.90625 55.328125 \nQ 53.90625 49.265625 50.4375 45.09375 \nQ 46.96875 40.921875 40.578125 39.3125 \nz\n\" id=\"DejaVuSans-51\"/>\n      </defs>\n      <g transform=\"translate(419.576704 239.238438)scale(0.1 -0.1)\">\n       <use xlink:href=\"#DejaVuSans-51\"/>\n       <use x=\"63.623047\" xlink:href=\"#DejaVuSans-48\"/>\n       <use x=\"127.246094\" xlink:href=\"#DejaVuSans-48\"/>\n       <use x=\"190.869141\" xlink:href=\"#DejaVuSans-48\"/>\n       <use x=\"254.492188\" xlink:href=\"#DejaVuSans-48\"/>\n      </g>\n     </g>\n    </g>\n   </g>\n   <g id=\"matplotlib.axis_2\">\n    <g id=\"ytick_1\">\n     <g id=\"line2d_8\">\n      <defs>\n       <path d=\"M 0 0 \nL -3.5 0 \n\" id=\"mf41e6d6204\" style=\"stroke:#000000;stroke-width:0.8;\"/>\n      </defs>\n      <g>\n       <use style=\"stroke:#000000;stroke-width:0.8;\" x=\"119.782813\" xlink:href=\"#mf41e6d6204\" y=\"204.619301\"/>\n      </g>\n     </g>\n     <g id=\"text_8\">\n      <!-- median_income -->\n      <defs>\n       <path d=\"M 52 44.1875 \nQ 55.375 50.25 60.0625 53.125 \nQ 64.75 56 71.09375 56 \nQ 79.640625 56 84.28125 50.015625 \nQ 88.921875 44.046875 88.921875 33.015625 \nL 88.921875 0 \nL 79.890625 0 \nL 79.890625 32.71875 \nQ 79.890625 40.578125 77.09375 44.375 \nQ 74.3125 48.1875 68.609375 48.1875 \nQ 61.625 48.1875 57.5625 43.546875 \nQ 53.515625 38.921875 53.515625 30.90625 \nL 53.515625 0 \nL 44.484375 0 \nL 44.484375 32.71875 \nQ 44.484375 40.625 41.703125 44.40625 \nQ 38.921875 48.1875 33.109375 48.1875 \nQ 26.21875 48.1875 22.15625 43.53125 \nQ 18.109375 38.875 18.109375 30.90625 \nL 18.109375 0 \nL 9.078125 0 \nL 9.078125 54.6875 \nL 18.109375 54.6875 \nL 18.109375 46.1875 \nQ 21.1875 51.21875 25.484375 53.609375 \nQ 29.78125 56 35.6875 56 \nQ 41.65625 56 45.828125 52.96875 \nQ 50 49.953125 52 44.1875 \nz\n\" id=\"DejaVuSans-109\"/>\n       <path d=\"M 56.203125 29.59375 \nL 56.203125 25.203125 \nL 14.890625 25.203125 \nQ 15.484375 15.921875 20.484375 11.0625 \nQ 25.484375 6.203125 34.421875 6.203125 \nQ 39.59375 6.203125 44.453125 7.46875 \nQ 49.3125 8.734375 54.109375 11.28125 \nL 54.109375 2.78125 \nQ 49.265625 0.734375 44.1875 -0.34375 \nQ 39.109375 -1.421875 33.890625 -1.421875 \nQ 20.796875 -1.421875 13.15625 6.1875 \nQ 5.515625 13.8125 5.515625 26.8125 \nQ 5.515625 40.234375 12.765625 48.109375 \nQ 20.015625 56 32.328125 56 \nQ 43.359375 56 49.78125 48.890625 \nQ 56.203125 41.796875 56.203125 29.59375 \nz\nM 47.21875 32.234375 \nQ 47.125 39.59375 43.09375 43.984375 \nQ 39.0625 48.390625 32.421875 48.390625 \nQ 24.90625 48.390625 20.390625 44.140625 \nQ 15.875 39.890625 15.1875 32.171875 \nz\n\" id=\"DejaVuSans-101\"/>\n       <path d=\"M 45.40625 46.390625 \nL 45.40625 75.984375 \nL 54.390625 75.984375 \nL 54.390625 0 \nL 45.40625 0 \nL 45.40625 8.203125 \nQ 42.578125 3.328125 38.25 0.953125 \nQ 33.9375 -1.421875 27.875 -1.421875 \nQ 17.96875 -1.421875 11.734375 6.484375 \nQ 5.515625 14.40625 5.515625 27.296875 \nQ 5.515625 40.1875 11.734375 48.09375 \nQ 17.96875 56 27.875 56 \nQ 33.9375 56 38.25 53.625 \nQ 42.578125 51.265625 45.40625 46.390625 \nz\nM 14.796875 27.296875 \nQ 14.796875 17.390625 18.875 11.75 \nQ 22.953125 6.109375 30.078125 6.109375 \nQ 37.203125 6.109375 41.296875 11.75 \nQ 45.40625 17.390625 45.40625 27.296875 \nQ 45.40625 37.203125 41.296875 42.84375 \nQ 37.203125 48.484375 30.078125 48.484375 \nQ 22.953125 48.484375 18.875 42.84375 \nQ 14.796875 37.203125 14.796875 27.296875 \nz\n\" id=\"DejaVuSans-100\"/>\n       <path d=\"M 9.421875 54.6875 \nL 18.40625 54.6875 \nL 18.40625 0 \nL 9.421875 0 \nz\nM 9.421875 75.984375 \nL 18.40625 75.984375 \nL 18.40625 64.59375 \nL 9.421875 64.59375 \nz\n\" id=\"DejaVuSans-105\"/>\n       <path d=\"M 34.28125 27.484375 \nQ 23.390625 27.484375 19.1875 25 \nQ 14.984375 22.515625 14.984375 16.5 \nQ 14.984375 11.71875 18.140625 8.90625 \nQ 21.296875 6.109375 26.703125 6.109375 \nQ 34.1875 6.109375 38.703125 11.40625 \nQ 43.21875 16.703125 43.21875 25.484375 \nL 43.21875 27.484375 \nz\nM 52.203125 31.203125 \nL 52.203125 0 \nL 43.21875 0 \nL 43.21875 8.296875 \nQ 40.140625 3.328125 35.546875 0.953125 \nQ 30.953125 -1.421875 24.3125 -1.421875 \nQ 15.921875 -1.421875 10.953125 3.296875 \nQ 6 8.015625 6 15.921875 \nQ 6 25.140625 12.171875 29.828125 \nQ 18.359375 34.515625 30.609375 34.515625 \nL 43.21875 34.515625 \nL 43.21875 35.40625 \nQ 43.21875 41.609375 39.140625 45 \nQ 35.0625 48.390625 27.6875 48.390625 \nQ 23 48.390625 18.546875 47.265625 \nQ 14.109375 46.140625 10.015625 43.890625 \nL 10.015625 52.203125 \nQ 14.9375 54.109375 19.578125 55.046875 \nQ 24.21875 56 28.609375 56 \nQ 40.484375 56 46.34375 49.84375 \nQ 52.203125 43.703125 52.203125 31.203125 \nz\n\" id=\"DejaVuSans-97\"/>\n       <path d=\"M 54.890625 33.015625 \nL 54.890625 0 \nL 45.90625 0 \nL 45.90625 32.71875 \nQ 45.90625 40.484375 42.875 44.328125 \nQ 39.84375 48.1875 33.796875 48.1875 \nQ 26.515625 48.1875 22.3125 43.546875 \nQ 18.109375 38.921875 18.109375 30.90625 \nL 18.109375 0 \nL 9.078125 0 \nL 9.078125 54.6875 \nL 18.109375 54.6875 \nL 18.109375 46.1875 \nQ 21.34375 51.125 25.703125 53.5625 \nQ 30.078125 56 35.796875 56 \nQ 45.21875 56 50.046875 50.171875 \nQ 54.890625 44.34375 54.890625 33.015625 \nz\n\" id=\"DejaVuSans-110\"/>\n       <path d=\"M 50.984375 -16.609375 \nL 50.984375 -23.578125 \nL -0.984375 -23.578125 \nL -0.984375 -16.609375 \nz\n\" id=\"DejaVuSans-95\"/>\n       <path d=\"M 48.78125 52.59375 \nL 48.78125 44.1875 \nQ 44.96875 46.296875 41.140625 47.34375 \nQ 37.3125 48.390625 33.40625 48.390625 \nQ 24.65625 48.390625 19.8125 42.84375 \nQ 14.984375 37.3125 14.984375 27.296875 \nQ 14.984375 17.28125 19.8125 11.734375 \nQ 24.65625 6.203125 33.40625 6.203125 \nQ 37.3125 6.203125 41.140625 7.25 \nQ 44.96875 8.296875 48.78125 10.40625 \nL 48.78125 2.09375 \nQ 45.015625 0.34375 40.984375 -0.53125 \nQ 36.96875 -1.421875 32.421875 -1.421875 \nQ 20.0625 -1.421875 12.78125 6.34375 \nQ 5.515625 14.109375 5.515625 27.296875 \nQ 5.515625 40.671875 12.859375 48.328125 \nQ 20.21875 56 33.015625 56 \nQ 37.15625 56 41.109375 55.140625 \nQ 45.0625 54.296875 48.78125 52.59375 \nz\n\" id=\"DejaVuSans-99\"/>\n       <path d=\"M 30.609375 48.390625 \nQ 23.390625 48.390625 19.1875 42.75 \nQ 14.984375 37.109375 14.984375 27.296875 \nQ 14.984375 17.484375 19.15625 11.84375 \nQ 23.34375 6.203125 30.609375 6.203125 \nQ 37.796875 6.203125 41.984375 11.859375 \nQ 46.1875 17.53125 46.1875 27.296875 \nQ 46.1875 37.015625 41.984375 42.703125 \nQ 37.796875 48.390625 30.609375 48.390625 \nz\nM 30.609375 56 \nQ 42.328125 56 49.015625 48.375 \nQ 55.71875 40.765625 55.71875 27.296875 \nQ 55.71875 13.875 49.015625 6.21875 \nQ 42.328125 -1.421875 30.609375 -1.421875 \nQ 18.84375 -1.421875 12.171875 6.21875 \nQ 5.515625 13.875 5.515625 27.296875 \nQ 5.515625 40.765625 12.171875 48.375 \nQ 18.84375 56 30.609375 56 \nz\n\" id=\"DejaVuSans-111\"/>\n      </defs>\n      <g transform=\"translate(33.670312 208.418519)scale(0.1 -0.1)\">\n       <use xlink:href=\"#DejaVuSans-109\"/>\n       <use x=\"97.412109\" xlink:href=\"#DejaVuSans-101\"/>\n       <use x=\"158.935547\" xlink:href=\"#DejaVuSans-100\"/>\n       <use x=\"222.412109\" xlink:href=\"#DejaVuSans-105\"/>\n       <use x=\"250.195312\" xlink:href=\"#DejaVuSans-97\"/>\n       <use x=\"311.474609\" xlink:href=\"#DejaVuSans-110\"/>\n       <use x=\"374.853516\" xlink:href=\"#DejaVuSans-95\"/>\n       <use x=\"424.853516\" xlink:href=\"#DejaVuSans-105\"/>\n       <use x=\"452.636719\" xlink:href=\"#DejaVuSans-110\"/>\n       <use x=\"516.015625\" xlink:href=\"#DejaVuSans-99\"/>\n       <use x=\"570.996094\" xlink:href=\"#DejaVuSans-111\"/>\n       <use x=\"632.177734\" xlink:href=\"#DejaVuSans-109\"/>\n       <use x=\"729.589844\" xlink:href=\"#DejaVuSans-101\"/>\n      </g>\n     </g>\n    </g>\n    <g id=\"ytick_2\">\n     <g id=\"line2d_9\">\n      <g>\n       <use style=\"stroke:#000000;stroke-width:0.8;\" x=\"119.782813\" xlink:href=\"#mf41e6d6204\" y=\"179.276643\"/>\n      </g>\n     </g>\n     <g id=\"text_9\">\n      <!-- housing_median_age -->\n      <defs>\n       <path d=\"M 54.890625 33.015625 \nL 54.890625 0 \nL 45.90625 0 \nL 45.90625 32.71875 \nQ 45.90625 40.484375 42.875 44.328125 \nQ 39.84375 48.1875 33.796875 48.1875 \nQ 26.515625 48.1875 22.3125 43.546875 \nQ 18.109375 38.921875 18.109375 30.90625 \nL 18.109375 0 \nL 9.078125 0 \nL 9.078125 75.984375 \nL 18.109375 75.984375 \nL 18.109375 46.1875 \nQ 21.34375 51.125 25.703125 53.5625 \nQ 30.078125 56 35.796875 56 \nQ 45.21875 56 50.046875 50.171875 \nQ 54.890625 44.34375 54.890625 33.015625 \nz\n\" id=\"DejaVuSans-104\"/>\n       <path d=\"M 8.5 21.578125 \nL 8.5 54.6875 \nL 17.484375 54.6875 \nL 17.484375 21.921875 \nQ 17.484375 14.15625 20.5 10.265625 \nQ 23.53125 6.390625 29.59375 6.390625 \nQ 36.859375 6.390625 41.078125 11.03125 \nQ 45.3125 15.671875 45.3125 23.6875 \nL 45.3125 54.6875 \nL 54.296875 54.6875 \nL 54.296875 0 \nL 45.3125 0 \nL 45.3125 8.40625 \nQ 42.046875 3.421875 37.71875 1 \nQ 33.40625 -1.421875 27.6875 -1.421875 \nQ 18.265625 -1.421875 13.375 4.4375 \nQ 8.5 10.296875 8.5 21.578125 \nz\nM 31.109375 56 \nz\n\" id=\"DejaVuSans-117\"/>\n       <path d=\"M 44.28125 53.078125 \nL 44.28125 44.578125 \nQ 40.484375 46.53125 36.375 47.5 \nQ 32.28125 48.484375 27.875 48.484375 \nQ 21.1875 48.484375 17.84375 46.4375 \nQ 14.5 44.390625 14.5 40.28125 \nQ 14.5 37.15625 16.890625 35.375 \nQ 19.28125 33.59375 26.515625 31.984375 \nL 29.59375 31.296875 \nQ 39.15625 29.25 43.1875 25.515625 \nQ 47.21875 21.78125 47.21875 15.09375 \nQ 47.21875 7.46875 41.1875 3.015625 \nQ 35.15625 -1.421875 24.609375 -1.421875 \nQ 20.21875 -1.421875 15.453125 -0.5625 \nQ 10.6875 0.296875 5.421875 2 \nL 5.421875 11.28125 \nQ 10.40625 8.6875 15.234375 7.390625 \nQ 20.0625 6.109375 24.8125 6.109375 \nQ 31.15625 6.109375 34.5625 8.28125 \nQ 37.984375 10.453125 37.984375 14.40625 \nQ 37.984375 18.0625 35.515625 20.015625 \nQ 33.0625 21.96875 24.703125 23.78125 \nL 21.578125 24.515625 \nQ 13.234375 26.265625 9.515625 29.90625 \nQ 5.8125 33.546875 5.8125 39.890625 \nQ 5.8125 47.609375 11.28125 51.796875 \nQ 16.75 56 26.8125 56 \nQ 31.78125 56 36.171875 55.265625 \nQ 40.578125 54.546875 44.28125 53.078125 \nz\n\" id=\"DejaVuSans-115\"/>\n       <path d=\"M 45.40625 27.984375 \nQ 45.40625 37.75 41.375 43.109375 \nQ 37.359375 48.484375 30.078125 48.484375 \nQ 22.859375 48.484375 18.828125 43.109375 \nQ 14.796875 37.75 14.796875 27.984375 \nQ 14.796875 18.265625 18.828125 12.890625 \nQ 22.859375 7.515625 30.078125 7.515625 \nQ 37.359375 7.515625 41.375 12.890625 \nQ 45.40625 18.265625 45.40625 27.984375 \nz\nM 54.390625 6.78125 \nQ 54.390625 -7.171875 48.1875 -13.984375 \nQ 42 -20.796875 29.203125 -20.796875 \nQ 24.46875 -20.796875 20.265625 -20.09375 \nQ 16.0625 -19.390625 12.109375 -17.921875 \nL 12.109375 -9.1875 \nQ 16.0625 -11.328125 19.921875 -12.34375 \nQ 23.78125 -13.375 27.78125 -13.375 \nQ 36.625 -13.375 41.015625 -8.765625 \nQ 45.40625 -4.15625 45.40625 5.171875 \nL 45.40625 9.625 \nQ 42.625 4.78125 38.28125 2.390625 \nQ 33.9375 0 27.875 0 \nQ 17.828125 0 11.671875 7.65625 \nQ 5.515625 15.328125 5.515625 27.984375 \nQ 5.515625 40.671875 11.671875 48.328125 \nQ 17.828125 56 27.875 56 \nQ 33.9375 56 38.28125 53.609375 \nQ 42.625 51.21875 45.40625 46.390625 \nL 45.40625 54.6875 \nL 54.390625 54.6875 \nz\n\" id=\"DejaVuSans-103\"/>\n      </defs>\n      <g transform=\"translate(7.2 183.075862)scale(0.1 -0.1)\">\n       <use xlink:href=\"#DejaVuSans-104\"/>\n       <use x=\"63.378906\" xlink:href=\"#DejaVuSans-111\"/>\n       <use x=\"124.560547\" xlink:href=\"#DejaVuSans-117\"/>\n       <use x=\"187.939453\" xlink:href=\"#DejaVuSans-115\"/>\n       <use x=\"240.039062\" xlink:href=\"#DejaVuSans-105\"/>\n       <use x=\"267.822266\" xlink:href=\"#DejaVuSans-110\"/>\n       <use x=\"331.201172\" xlink:href=\"#DejaVuSans-103\"/>\n       <use x=\"394.677734\" xlink:href=\"#DejaVuSans-95\"/>\n       <use x=\"444.677734\" xlink:href=\"#DejaVuSans-109\"/>\n       <use x=\"542.089844\" xlink:href=\"#DejaVuSans-101\"/>\n       <use x=\"603.613281\" xlink:href=\"#DejaVuSans-100\"/>\n       <use x=\"667.089844\" xlink:href=\"#DejaVuSans-105\"/>\n       <use x=\"694.873047\" xlink:href=\"#DejaVuSans-97\"/>\n       <use x=\"756.152344\" xlink:href=\"#DejaVuSans-110\"/>\n       <use x=\"819.53125\" xlink:href=\"#DejaVuSans-95\"/>\n       <use x=\"869.53125\" xlink:href=\"#DejaVuSans-97\"/>\n       <use x=\"930.810547\" xlink:href=\"#DejaVuSans-103\"/>\n       <use x=\"994.287109\" xlink:href=\"#DejaVuSans-101\"/>\n      </g>\n     </g>\n    </g>\n    <g id=\"ytick_3\">\n     <g id=\"line2d_10\">\n      <g>\n       <use style=\"stroke:#000000;stroke-width:0.8;\" x=\"119.782813\" xlink:href=\"#mf41e6d6204\" y=\"153.933986\"/>\n      </g>\n     </g>\n     <g id=\"text_10\">\n      <!-- total_rooms -->\n      <defs>\n       <path d=\"M 18.3125 70.21875 \nL 18.3125 54.6875 \nL 36.8125 54.6875 \nL 36.8125 47.703125 \nL 18.3125 47.703125 \nL 18.3125 18.015625 \nQ 18.3125 11.328125 20.140625 9.421875 \nQ 21.96875 7.515625 27.59375 7.515625 \nL 36.8125 7.515625 \nL 36.8125 0 \nL 27.59375 0 \nQ 17.1875 0 13.234375 3.875 \nQ 9.28125 7.765625 9.28125 18.015625 \nL 9.28125 47.703125 \nL 2.6875 47.703125 \nL 2.6875 54.6875 \nL 9.28125 54.6875 \nL 9.28125 70.21875 \nz\n\" id=\"DejaVuSans-116\"/>\n       <path d=\"M 9.421875 75.984375 \nL 18.40625 75.984375 \nL 18.40625 0 \nL 9.421875 0 \nz\n\" id=\"DejaVuSans-108\"/>\n       <path d=\"M 41.109375 46.296875 \nQ 39.59375 47.171875 37.8125 47.578125 \nQ 36.03125 48 33.890625 48 \nQ 26.265625 48 22.1875 43.046875 \nQ 18.109375 38.09375 18.109375 28.8125 \nL 18.109375 0 \nL 9.078125 0 \nL 9.078125 54.6875 \nL 18.109375 54.6875 \nL 18.109375 46.1875 \nQ 20.953125 51.171875 25.484375 53.578125 \nQ 30.03125 56 36.53125 56 \nQ 37.453125 56 38.578125 55.875 \nQ 39.703125 55.765625 41.0625 55.515625 \nz\n\" id=\"DejaVuSans-114\"/>\n      </defs>\n      <g transform=\"translate(53.84375 157.733205)scale(0.1 -0.1)\">\n       <use xlink:href=\"#DejaVuSans-116\"/>\n       <use x=\"39.208984\" xlink:href=\"#DejaVuSans-111\"/>\n       <use x=\"100.390625\" xlink:href=\"#DejaVuSans-116\"/>\n       <use x=\"139.599609\" xlink:href=\"#DejaVuSans-97\"/>\n       <use x=\"200.878906\" xlink:href=\"#DejaVuSans-108\"/>\n       <use x=\"228.662109\" xlink:href=\"#DejaVuSans-95\"/>\n       <use x=\"278.662109\" xlink:href=\"#DejaVuSans-114\"/>\n       <use x=\"317.525391\" xlink:href=\"#DejaVuSans-111\"/>\n       <use x=\"378.707031\" xlink:href=\"#DejaVuSans-111\"/>\n       <use x=\"439.888672\" xlink:href=\"#DejaVuSans-109\"/>\n       <use x=\"537.300781\" xlink:href=\"#DejaVuSans-115\"/>\n      </g>\n     </g>\n    </g>\n    <g id=\"ytick_4\">\n     <g id=\"line2d_11\">\n      <g>\n       <use style=\"stroke:#000000;stroke-width:0.8;\" x=\"119.782813\" xlink:href=\"#mf41e6d6204\" y=\"128.591329\"/>\n      </g>\n     </g>\n     <g id=\"text_11\">\n      <!-- total_bedrooms -->\n      <defs>\n       <path d=\"M 48.6875 27.296875 \nQ 48.6875 37.203125 44.609375 42.84375 \nQ 40.53125 48.484375 33.40625 48.484375 \nQ 26.265625 48.484375 22.1875 42.84375 \nQ 18.109375 37.203125 18.109375 27.296875 \nQ 18.109375 17.390625 22.1875 11.75 \nQ 26.265625 6.109375 33.40625 6.109375 \nQ 40.53125 6.109375 44.609375 11.75 \nQ 48.6875 17.390625 48.6875 27.296875 \nz\nM 18.109375 46.390625 \nQ 20.953125 51.265625 25.265625 53.625 \nQ 29.59375 56 35.59375 56 \nQ 45.5625 56 51.78125 48.09375 \nQ 58.015625 40.1875 58.015625 27.296875 \nQ 58.015625 14.40625 51.78125 6.484375 \nQ 45.5625 -1.421875 35.59375 -1.421875 \nQ 29.59375 -1.421875 25.265625 0.953125 \nQ 20.953125 3.328125 18.109375 8.203125 \nL 18.109375 0 \nL 9.078125 0 \nL 9.078125 75.984375 \nL 18.109375 75.984375 \nz\n\" id=\"DejaVuSans-98\"/>\n      </defs>\n      <g transform=\"translate(34.99375 132.390547)scale(0.1 -0.1)\">\n       <use xlink:href=\"#DejaVuSans-116\"/>\n       <use x=\"39.208984\" xlink:href=\"#DejaVuSans-111\"/>\n       <use x=\"100.390625\" xlink:href=\"#DejaVuSans-116\"/>\n       <use x=\"139.599609\" xlink:href=\"#DejaVuSans-97\"/>\n       <use x=\"200.878906\" xlink:href=\"#DejaVuSans-108\"/>\n       <use x=\"228.662109\" xlink:href=\"#DejaVuSans-95\"/>\n       <use x=\"278.662109\" xlink:href=\"#DejaVuSans-98\"/>\n       <use x=\"342.138672\" xlink:href=\"#DejaVuSans-101\"/>\n       <use x=\"403.662109\" xlink:href=\"#DejaVuSans-100\"/>\n       <use x=\"467.138672\" xlink:href=\"#DejaVuSans-114\"/>\n       <use x=\"506.001953\" xlink:href=\"#DejaVuSans-111\"/>\n       <use x=\"567.183594\" xlink:href=\"#DejaVuSans-111\"/>\n       <use x=\"628.365234\" xlink:href=\"#DejaVuSans-109\"/>\n       <use x=\"725.777344\" xlink:href=\"#DejaVuSans-115\"/>\n      </g>\n     </g>\n    </g>\n    <g id=\"ytick_5\">\n     <g id=\"line2d_12\">\n      <g>\n       <use style=\"stroke:#000000;stroke-width:0.8;\" x=\"119.782813\" xlink:href=\"#mf41e6d6204\" y=\"103.248671\"/>\n      </g>\n     </g>\n     <g id=\"text_12\">\n      <!-- population -->\n      <defs>\n       <path d=\"M 18.109375 8.203125 \nL 18.109375 -20.796875 \nL 9.078125 -20.796875 \nL 9.078125 54.6875 \nL 18.109375 54.6875 \nL 18.109375 46.390625 \nQ 20.953125 51.265625 25.265625 53.625 \nQ 29.59375 56 35.59375 56 \nQ 45.5625 56 51.78125 48.09375 \nQ 58.015625 40.1875 58.015625 27.296875 \nQ 58.015625 14.40625 51.78125 6.484375 \nQ 45.5625 -1.421875 35.59375 -1.421875 \nQ 29.59375 -1.421875 25.265625 0.953125 \nQ 20.953125 3.328125 18.109375 8.203125 \nz\nM 48.6875 27.296875 \nQ 48.6875 37.203125 44.609375 42.84375 \nQ 40.53125 48.484375 33.40625 48.484375 \nQ 26.265625 48.484375 22.1875 42.84375 \nQ 18.109375 37.203125 18.109375 27.296875 \nQ 18.109375 17.390625 22.1875 11.75 \nQ 26.265625 6.109375 33.40625 6.109375 \nQ 40.53125 6.109375 44.609375 11.75 \nQ 48.6875 17.390625 48.6875 27.296875 \nz\n\" id=\"DejaVuSans-112\"/>\n      </defs>\n      <g transform=\"translate(59.56875 107.04789)scale(0.1 -0.1)\">\n       <use xlink:href=\"#DejaVuSans-112\"/>\n       <use x=\"63.476562\" xlink:href=\"#DejaVuSans-111\"/>\n       <use x=\"124.658203\" xlink:href=\"#DejaVuSans-112\"/>\n       <use x=\"188.134766\" xlink:href=\"#DejaVuSans-117\"/>\n       <use x=\"251.513672\" xlink:href=\"#DejaVuSans-108\"/>\n       <use x=\"279.296875\" xlink:href=\"#DejaVuSans-97\"/>\n       <use x=\"340.576172\" xlink:href=\"#DejaVuSans-116\"/>\n       <use x=\"379.785156\" xlink:href=\"#DejaVuSans-105\"/>\n       <use x=\"407.568359\" xlink:href=\"#DejaVuSans-111\"/>\n       <use x=\"468.75\" xlink:href=\"#DejaVuSans-110\"/>\n      </g>\n     </g>\n    </g>\n    <g id=\"ytick_6\">\n     <g id=\"line2d_13\">\n      <g>\n       <use style=\"stroke:#000000;stroke-width:0.8;\" x=\"119.782813\" xlink:href=\"#mf41e6d6204\" y=\"77.906014\"/>\n      </g>\n     </g>\n     <g id=\"text_13\">\n      <!-- households -->\n      <g transform=\"translate(55.834375 81.705233)scale(0.1 -0.1)\">\n       <use xlink:href=\"#DejaVuSans-104\"/>\n       <use x=\"63.378906\" xlink:href=\"#DejaVuSans-111\"/>\n       <use x=\"124.560547\" xlink:href=\"#DejaVuSans-117\"/>\n       <use x=\"187.939453\" xlink:href=\"#DejaVuSans-115\"/>\n       <use x=\"240.039062\" xlink:href=\"#DejaVuSans-101\"/>\n       <use x=\"301.5625\" xlink:href=\"#DejaVuSans-104\"/>\n       <use x=\"364.941406\" xlink:href=\"#DejaVuSans-111\"/>\n       <use x=\"426.123047\" xlink:href=\"#DejaVuSans-108\"/>\n       <use x=\"453.90625\" xlink:href=\"#DejaVuSans-100\"/>\n       <use x=\"517.382812\" xlink:href=\"#DejaVuSans-115\"/>\n      </g>\n     </g>\n    </g>\n    <g id=\"ytick_7\">\n     <g id=\"line2d_14\">\n      <g>\n       <use style=\"stroke:#000000;stroke-width:0.8;\" x=\"119.782813\" xlink:href=\"#mf41e6d6204\" y=\"52.563357\"/>\n      </g>\n     </g>\n     <g id=\"text_14\">\n      <!-- latitude -->\n      <g transform=\"translate(74.41875 56.362575)scale(0.1 -0.1)\">\n       <use xlink:href=\"#DejaVuSans-108\"/>\n       <use x=\"27.783203\" xlink:href=\"#DejaVuSans-97\"/>\n       <use x=\"89.0625\" xlink:href=\"#DejaVuSans-116\"/>\n       <use x=\"128.271484\" xlink:href=\"#DejaVuSans-105\"/>\n       <use x=\"156.054688\" xlink:href=\"#DejaVuSans-116\"/>\n       <use x=\"195.263672\" xlink:href=\"#DejaVuSans-117\"/>\n       <use x=\"258.642578\" xlink:href=\"#DejaVuSans-100\"/>\n       <use x=\"322.119141\" xlink:href=\"#DejaVuSans-101\"/>\n      </g>\n     </g>\n    </g>\n    <g id=\"ytick_8\">\n     <g id=\"line2d_15\">\n      <g>\n       <use style=\"stroke:#000000;stroke-width:0.8;\" x=\"119.782813\" xlink:href=\"#mf41e6d6204\" y=\"27.220699\"/>\n      </g>\n     </g>\n     <g id=\"text_15\">\n      <!-- longitude -->\n      <g transform=\"translate(65.6625 31.019918)scale(0.1 -0.1)\">\n       <use xlink:href=\"#DejaVuSans-108\"/>\n       <use x=\"27.783203\" xlink:href=\"#DejaVuSans-111\"/>\n       <use x=\"88.964844\" xlink:href=\"#DejaVuSans-110\"/>\n       <use x=\"152.34375\" xlink:href=\"#DejaVuSans-103\"/>\n       <use x=\"215.820312\" xlink:href=\"#DejaVuSans-105\"/>\n       <use x=\"243.603516\" xlink:href=\"#DejaVuSans-116\"/>\n       <use x=\"282.8125\" xlink:href=\"#DejaVuSans-117\"/>\n       <use x=\"346.191406\" xlink:href=\"#DejaVuSans-100\"/>\n       <use x=\"409.667969\" xlink:href=\"#DejaVuSans-101\"/>\n      </g>\n     </g>\n    </g>\n   </g>\n   <g id=\"patch_11\">\n    <path d=\"M 119.782813 224.64 \nL 119.782813 7.2 \n\" style=\"fill:none;stroke:#000000;stroke-linecap:square;stroke-linejoin:miter;stroke-width:0.8;\"/>\n   </g>\n   <g id=\"patch_12\">\n    <path d=\"M 454.582813 224.64 \nL 454.582813 7.2 \n\" style=\"fill:none;stroke:#000000;stroke-linecap:square;stroke-linejoin:miter;stroke-width:0.8;\"/>\n   </g>\n   <g id=\"patch_13\">\n    <path d=\"M 119.782813 224.64 \nL 454.582813 224.64 \n\" style=\"fill:none;stroke:#000000;stroke-linecap:square;stroke-linejoin:miter;stroke-width:0.8;\"/>\n   </g>\n   <g id=\"patch_14\">\n    <path d=\"M 119.782813 7.2 \nL 454.582813 7.2 \n\" style=\"fill:none;stroke:#000000;stroke-linecap:square;stroke-linejoin:miter;stroke-width:0.8;\"/>\n   </g>\n  </g>\n </g>\n <defs>\n  <clipPath id=\"pb483a497c3\">\n   <rect height=\"217.44\" width=\"334.8\" x=\"119.782813\" y=\"7.2\"/>\n  </clipPath>\n </defs>\n</svg>\n",
      "image/png": "[encoded data removed]"
     },
     "metadata": {
      "needs_background": "light"
     }
    }
   ],
   "metadata": {}
  },
  {
   "cell_type": "code",
   "execution_count": 8,
   "source": [
    "''' pickle and save the automl object '''\n",
    "import pickle\n",
    "with open('automl.pkl', 'wb') as f:\n",
    "    pickle.dump(automl, f, pickle.HIGHEST_PROTOCOL)"
   ],
   "outputs": [],
   "metadata": {
    "slideshow": {
     "slide_type": "slide"
    }
   }
  },
  {
   "cell_type": "code",
   "execution_count": 9,
   "source": [
    "''' compute predictions of testing dataset ''' \n",
    "y_pred = automl.predict(X_test)\n",
    "print('Predicted labels', y_pred)\n",
    "print('True labels', y_test)"
   ],
   "outputs": [
    {
     "output_type": "stream",
     "name": "stdout",
     "text": [
      "Predicted labels [144012.37488361 251501.98425004 147503.3849682  ... 219178.01297482\n",
      " 213834.88677304 272956.11149784]\n",
      "True labels 14740    136900.0\n",
      "10101    241300.0\n",
      "20566    200700.0\n",
      "2670      72500.0\n",
      "15709    460000.0\n",
      "           ...   \n",
      "13132    121200.0\n",
      "8228     137500.0\n",
      "3948     160900.0\n",
      "8522     227300.0\n",
      "16798    265600.0\n",
      "Name: median_house_value, Length: 5160, dtype: float64\n"
     ]
    }
   ],
   "metadata": {
    "slideshow": {
     "slide_type": "slide"
    },
    "tags": []
   }
  },
  {
   "cell_type": "code",
   "execution_count": 10,
   "source": [
    "''' compute different metric values on testing dataset'''\n",
    "from flaml.ml import sklearn_metric_loss_score\n",
    "print('r2', '=', 1 - sklearn_metric_loss_score('r2', y_pred, y_test))\n",
    "print('mse', '=', sklearn_metric_loss_score('mse', y_pred, y_test))\n",
    "print('mae', '=', sklearn_metric_loss_score('mae', y_pred, y_test))"
   ],
   "outputs": [
    {
     "output_type": "stream",
     "name": "stdout",
     "text": [
      "r2 = 0.8540590968156087\n",
      "mse = 1929120783.4023921\n",
      "mae = 28944.167002684408\n"
     ]
    }
   ],
   "metadata": {
    "slideshow": {
     "slide_type": "slide"
    },
    "tags": []
   }
  },
  {
   "cell_type": "code",
   "execution_count": 11,
   "source": [
    "from flaml.data import get_output_from_log\n",
    "time_history, best_valid_loss_history, valid_loss_history, config_history, train_loss_history = \\\n",
    "    get_output_from_log(filename=settings['log_file_name'], time_budget=60)\n",
    "\n",
    "for config in config_history:\n",
    "    print(config)"
   ],
   "outputs": [
    {
     "output_type": "stream",
     "name": "stdout",
     "text": [
      "{'Current Learner': 'lgbm', 'Current Sample': 15480, 'Current Hyper-parameters': {'n_estimators': 4, 'num_leaves': 4, 'min_child_samples': 20, 'learning_rate': 0.09999999999999995, 'log_max_bin': 8, 'colsample_bytree': 1.0, 'reg_alpha': 0.0009765625, 'reg_lambda': 1.0}, 'Best Learner': 'lgbm', 'Best Hyper-parameters': {'n_estimators': 4, 'num_leaves': 4, 'min_child_samples': 20, 'learning_rate': 0.09999999999999995, 'log_max_bin': 8, 'colsample_bytree': 1.0, 'reg_alpha': 0.0009765625, 'reg_lambda': 1.0}}\n",
      "{'Current Learner': 'lgbm', 'Current Sample': 15480, 'Current Hyper-parameters': {'n_estimators': 4, 'num_leaves': 4, 'min_child_samples': 12, 'learning_rate': 0.26770501231052046, 'log_max_bin': 7, 'colsample_bytree': 1.0, 'reg_alpha': 0.001348364934537134, 'reg_lambda': 1.4442580148221913}, 'Best Learner': 'lgbm', 'Best Hyper-parameters': {'n_estimators': 4, 'num_leaves': 4, 'min_child_samples': 12, 'learning_rate': 0.26770501231052046, 'log_max_bin': 7, 'colsample_bytree': 1.0, 'reg_alpha': 0.001348364934537134, 'reg_lambda': 1.4442580148221913}}\n",
      "{'Current Learner': 'lgbm', 'Current Sample': 15480, 'Current Hyper-parameters': {'n_estimators': 11, 'num_leaves': 4, 'min_child_samples': 9, 'learning_rate': 0.7260594590615893, 'log_max_bin': 9, 'colsample_bytree': 0.9285002286474459, 'reg_alpha': 0.0036840681931986645, 'reg_lambda': 0.7532480505730402}, 'Best Learner': 'lgbm', 'Best Hyper-parameters': {'n_estimators': 11, 'num_leaves': 4, 'min_child_samples': 9, 'learning_rate': 0.7260594590615893, 'log_max_bin': 9, 'colsample_bytree': 0.9285002286474459, 'reg_alpha': 0.0036840681931986645, 'reg_lambda': 0.7532480505730402}}\n",
      "{'Current Learner': 'lgbm', 'Current Sample': 15480, 'Current Hyper-parameters': {'n_estimators': 13, 'num_leaves': 5, 'min_child_samples': 5, 'learning_rate': 0.7590459488450945, 'log_max_bin': 8, 'colsample_bytree': 0.8304072431299575, 'reg_alpha': 0.001951378031519758, 'reg_lambda': 0.04792552866398477}, 'Best Learner': 'lgbm', 'Best Hyper-parameters': {'n_estimators': 13, 'num_leaves': 5, 'min_child_samples': 5, 'learning_rate': 0.7590459488450945, 'log_max_bin': 8, 'colsample_bytree': 0.8304072431299575, 'reg_alpha': 0.001951378031519758, 'reg_lambda': 0.04792552866398477}}\n",
      "{'Current Learner': 'lgbm', 'Current Sample': 15480, 'Current Hyper-parameters': {'n_estimators': 44, 'num_leaves': 4, 'min_child_samples': 4, 'learning_rate': 0.41929025492645006, 'log_max_bin': 8, 'colsample_bytree': 0.7610534336273627, 'reg_alpha': 0.0009765625, 'reg_lambda': 0.009280655005879927}, 'Best Learner': 'lgbm', 'Best Hyper-parameters': {'n_estimators': 44, 'num_leaves': 4, 'min_child_samples': 4, 'learning_rate': 0.41929025492645006, 'log_max_bin': 8, 'colsample_bytree': 0.7610534336273627, 'reg_alpha': 0.0009765625, 'reg_lambda': 0.009280655005879927}}\n",
      "{'Current Learner': 'lgbm', 'Current Sample': 15480, 'Current Hyper-parameters': {'n_estimators': 141, 'num_leaves': 17, 'min_child_samples': 3, 'learning_rate': 0.17402065726724145, 'log_max_bin': 8, 'colsample_bytree': 0.6649148062238498, 'reg_alpha': 0.0009765625, 'reg_lambda': 0.006761362450996487}, 'Best Learner': 'lgbm', 'Best Hyper-parameters': {'n_estimators': 141, 'num_leaves': 17, 'min_child_samples': 3, 'learning_rate': 0.17402065726724145, 'log_max_bin': 8, 'colsample_bytree': 0.6649148062238498, 'reg_alpha': 0.0009765625, 'reg_lambda': 0.006761362450996487}}\n",
      "{'Current Learner': 'lgbm', 'Current Sample': 15480, 'Current Hyper-parameters': {'n_estimators': 88, 'num_leaves': 70, 'min_child_samples': 4, 'learning_rate': 0.09348689572544734, 'log_max_bin': 7, 'colsample_bytree': 0.5967846088487322, 'reg_alpha': 0.006958608037974516, 'reg_lambda': 0.001895876878997586}, 'Best Learner': 'lgbm', 'Best Hyper-parameters': {'n_estimators': 88, 'num_leaves': 70, 'min_child_samples': 4, 'learning_rate': 0.09348689572544734, 'log_max_bin': 7, 'colsample_bytree': 0.5967846088487322, 'reg_alpha': 0.006958608037974516, 'reg_lambda': 0.001895876878997586}}\n",
      "{'Current Learner': 'lgbm', 'Current Sample': 15480, 'Current Hyper-parameters': {'n_estimators': 166, 'num_leaves': 34, 'min_child_samples': 2, 'learning_rate': 0.11549142333280608, 'log_max_bin': 8, 'colsample_bytree': 0.6469726212777197, 'reg_alpha': 0.032619809462956464, 'reg_lambda': 0.00406523645285879}, 'Best Learner': 'lgbm', 'Best Hyper-parameters': {'n_estimators': 166, 'num_leaves': 34, 'min_child_samples': 2, 'learning_rate': 0.11549142333280608, 'log_max_bin': 8, 'colsample_bytree': 0.6469726212777197, 'reg_alpha': 0.032619809462956464, 'reg_lambda': 0.00406523645285879}}\n",
      "{'Current Learner': 'lgbm', 'Current Sample': 15480, 'Current Hyper-parameters': {'n_estimators': 108, 'num_leaves': 169, 'min_child_samples': 2, 'learning_rate': 0.07154128424526202, 'log_max_bin': 9, 'colsample_bytree': 0.591579264701285, 'reg_alpha': 0.01435520144866301, 'reg_lambda': 0.006874802748054271}, 'Best Learner': 'lgbm', 'Best Hyper-parameters': {'n_estimators': 108, 'num_leaves': 169, 'min_child_samples': 2, 'learning_rate': 0.07154128424526202, 'log_max_bin': 9, 'colsample_bytree': 0.591579264701285, 'reg_alpha': 0.01435520144866301, 'reg_lambda': 0.006874802748054271}}\n",
      "{'Current Learner': 'lgbm', 'Current Sample': 15480, 'Current Hyper-parameters': {'n_estimators': 256, 'num_leaves': 79, 'min_child_samples': 4, 'learning_rate': 0.06020420143131026, 'log_max_bin': 10, 'colsample_bytree': 0.6501336877031868, 'reg_alpha': 0.11324823332770402, 'reg_lambda': 0.007122448821650475}, 'Best Learner': 'lgbm', 'Best Hyper-parameters': {'n_estimators': 256, 'num_leaves': 79, 'min_child_samples': 4, 'learning_rate': 0.06020420143131026, 'log_max_bin': 10, 'colsample_bytree': 0.6501336877031868, 'reg_alpha': 0.11324823332770402, 'reg_lambda': 0.007122448821650475}}\n"
     ]
    }
   ],
   "metadata": {
    "slideshow": {
     "slide_type": "subslide"
    },
    "tags": []
   }
  },
  {
   "cell_type": "code",
   "execution_count": 12,
   "source": [
    "import numpy as np\n",
    "\n",
    "plt.title('Learning Curve')\n",
    "plt.xlabel('Wall Clock Time (s)')\n",
    "plt.ylabel('Validation r2')\n",
    "plt.scatter(time_history, 1 - np.array(valid_loss_history))\n",
    "plt.step(time_history, 1 - np.array(best_valid_loss_history), where='post')\n",
    "plt.show()"
   ],
   "outputs": [
    {
     "output_type": "display_data",
     "data": {
      "text/plain": [
       "<Figure size 432x288 with 1 Axes>"
      ],
      "image/svg+xml": "<?xml version=\"1.0\" encoding=\"utf-8\" standalone=\"no\"?>\n<!DOCTYPE svg PUBLIC \"-//W3C//DTD SVG 1.1//EN\"\n  \"http://www.w3.org/Graphics/SVG/1.1/DTD/svg11.dtd\">\n<!-- Created with matplotlib (https://matplotlib.org/) -->\n<svg height=\"277.314375pt\" version=\"1.1\" viewBox=\"0 0 385.78125 277.314375\" width=\"385.78125pt\" xmlns=\"http://www.w3.org/2000/svg\" xmlns:xlink=\"http://www.w3.org/1999/xlink\">\n <defs>\n  <style type=\"text/css\">\n*{stroke-linecap:butt;stroke-linejoin:round;}\n  </style>\n </defs>\n <g id=\"figure_1\">\n  <g id=\"patch_1\">\n   <path d=\"M 0 277.314375 \nL 385.78125 277.314375 \nL 385.78125 0 \nL 0 0 \nz\n\" style=\"fill:none;\"/>\n  </g>\n  <g id=\"axes_1\">\n   <g id=\"patch_2\">\n    <path d=\"M 43.78125 239.758125 \nL 378.58125 239.758125 \nL 378.58125 22.318125 \nL 43.78125 22.318125 \nz\n\" style=\"fill:#ffffff;\"/>\n   </g>\n   <g id=\"PathCollection_1\">\n    <defs>\n     <path d=\"M 0 3 \nC 0.795609 3 1.55874 2.683901 2.12132 2.12132 \nC 2.683901 1.55874 3 0.795609 3 0 \nC 3 -0.795609 2.683901 -1.55874 2.12132 -2.12132 \nC 1.55874 -2.683901 0.795609 -3 0 -3 \nC -0.795609 -3 -1.55874 -2.683901 -2.12132 -2.12132 \nC -2.683901 -1.55874 -3 -0.795609 -3 0 \nC -3 0.795609 -2.683901 1.55874 -2.12132 2.12132 \nC -1.55874 2.683901 -0.795609 3 0 3 \nz\n\" id=\"m9e50c90c0e\" style=\"stroke:#1f77b4;\"/>\n    </defs>\n    <g clip-path=\"url(#pe183d4fd05)\">\n     <use style=\"fill:#1f77b4;stroke:#1f77b4;\" x=\"58.999432\" xlink:href=\"#m9e50c90c0e\" y=\"229.874489\"/>\n     <use style=\"fill:#1f77b4;stroke:#1f77b4;\" x=\"60.29259\" xlink:href=\"#m9e50c90c0e\" y=\"165.947004\"/>\n     <use style=\"fill:#1f77b4;stroke:#1f77b4;\" x=\"61.230038\" xlink:href=\"#m9e50c90c0e\" y=\"83.318294\"/>\n     <use style=\"fill:#1f77b4;stroke:#1f77b4;\" x=\"63.355922\" xlink:href=\"#m9e50c90c0e\" y=\"70.153617\"/>\n     <use style=\"fill:#1f77b4;stroke:#1f77b4;\" x=\"66.439931\" xlink:href=\"#m9e50c90c0e\" y=\"59.476113\"/>\n     <use style=\"fill:#1f77b4;stroke:#1f77b4;\" x=\"70.788765\" xlink:href=\"#m9e50c90c0e\" y=\"38.274163\"/>\n     <use style=\"fill:#1f77b4;stroke:#1f77b4;\" x=\"86.025719\" xlink:href=\"#m9e50c90c0e\" y=\"37.526888\"/>\n     <use style=\"fill:#1f77b4;stroke:#1f77b4;\" x=\"133.283873\" xlink:href=\"#m9e50c90c0e\" y=\"35.069197\"/>\n     <use style=\"fill:#1f77b4;stroke:#1f77b4;\" x=\"164.218892\" xlink:href=\"#m9e50c90c0e\" y=\"34.775195\"/>\n     <use style=\"fill:#1f77b4;stroke:#1f77b4;\" x=\"363.363068\" xlink:href=\"#m9e50c90c0e\" y=\"32.201761\"/>\n    </g>\n   </g>\n   <g id=\"matplotlib.axis_1\">\n    <g id=\"xtick_1\">\n     <g id=\"line2d_1\">\n      <defs>\n       <path d=\"M 0 0 \nL 0 3.5 \n\" id=\"mf8f9691493\" style=\"stroke:#000000;stroke-width:0.8;\"/>\n      </defs>\n      <g>\n       <use style=\"stroke:#000000;stroke-width:0.8;\" x=\"56.223439\" xlink:href=\"#mf8f9691493\" y=\"239.758125\"/>\n      </g>\n     </g>\n     <g id=\"text_1\">\n      <!-- 0 -->\n      <defs>\n       <path d=\"M 31.78125 66.40625 \nQ 24.171875 66.40625 20.328125 58.90625 \nQ 16.5 51.421875 16.5 36.375 \nQ 16.5 21.390625 20.328125 13.890625 \nQ 24.171875 6.390625 31.78125 6.390625 \nQ 39.453125 6.390625 43.28125 13.890625 \nQ 47.125 21.390625 47.125 36.375 \nQ 47.125 51.421875 43.28125 58.90625 \nQ 39.453125 66.40625 31.78125 66.40625 \nz\nM 31.78125 74.21875 \nQ 44.046875 74.21875 50.515625 64.515625 \nQ 56.984375 54.828125 56.984375 36.375 \nQ 56.984375 17.96875 50.515625 8.265625 \nQ 44.046875 -1.421875 31.78125 -1.421875 \nQ 19.53125 -1.421875 13.0625 8.265625 \nQ 6.59375 17.96875 6.59375 36.375 \nQ 6.59375 54.828125 13.0625 64.515625 \nQ 19.53125 74.21875 31.78125 74.21875 \nz\n\" id=\"DejaVuSans-48\"/>\n      </defs>\n      <g transform=\"translate(53.042189 254.356562)scale(0.1 -0.1)\">\n       <use xlink:href=\"#DejaVuSans-48\"/>\n      </g>\n     </g>\n    </g>\n    <g id=\"xtick_2\">\n     <g id=\"line2d_2\">\n      <g>\n       <use style=\"stroke:#000000;stroke-width:0.8;\" x=\"107.77538\" xlink:href=\"#mf8f9691493\" y=\"239.758125\"/>\n      </g>\n     </g>\n     <g id=\"text_2\">\n      <!-- 10 -->\n      <defs>\n       <path d=\"M 12.40625 8.296875 \nL 28.515625 8.296875 \nL 28.515625 63.921875 \nL 10.984375 60.40625 \nL 10.984375 69.390625 \nL 28.421875 72.90625 \nL 38.28125 72.90625 \nL 38.28125 8.296875 \nL 54.390625 8.296875 \nL 54.390625 0 \nL 12.40625 0 \nz\n\" id=\"DejaVuSans-49\"/>\n      </defs>\n      <g transform=\"translate(101.41288 254.356562)scale(0.1 -0.1)\">\n       <use xlink:href=\"#DejaVuSans-49\"/>\n       <use x=\"63.623047\" xlink:href=\"#DejaVuSans-48\"/>\n      </g>\n     </g>\n    </g>\n    <g id=\"xtick_3\">\n     <g id=\"line2d_3\">\n      <g>\n       <use style=\"stroke:#000000;stroke-width:0.8;\" x=\"159.32732\" xlink:href=\"#mf8f9691493\" y=\"239.758125\"/>\n      </g>\n     </g>\n     <g id=\"text_3\">\n      <!-- 20 -->\n      <defs>\n       <path d=\"M 19.1875 8.296875 \nL 53.609375 8.296875 \nL 53.609375 0 \nL 7.328125 0 \nL 7.328125 8.296875 \nQ 12.9375 14.109375 22.625 23.890625 \nQ 32.328125 33.6875 34.8125 36.53125 \nQ 39.546875 41.84375 41.421875 45.53125 \nQ 43.3125 49.21875 43.3125 52.78125 \nQ 43.3125 58.59375 39.234375 62.25 \nQ 35.15625 65.921875 28.609375 65.921875 \nQ 23.96875 65.921875 18.8125 64.3125 \nQ 13.671875 62.703125 7.8125 59.421875 \nL 7.8125 69.390625 \nQ 13.765625 71.78125 18.9375 73 \nQ 24.125 74.21875 28.421875 74.21875 \nQ 39.75 74.21875 46.484375 68.546875 \nQ 53.21875 62.890625 53.21875 53.421875 \nQ 53.21875 48.921875 51.53125 44.890625 \nQ 49.859375 40.875 45.40625 35.40625 \nQ 44.1875 33.984375 37.640625 27.21875 \nQ 31.109375 20.453125 19.1875 8.296875 \nz\n\" id=\"DejaVuSans-50\"/>\n      </defs>\n      <g transform=\"translate(152.96482 254.356562)scale(0.1 -0.1)\">\n       <use xlink:href=\"#DejaVuSans-50\"/>\n       <use x=\"63.623047\" xlink:href=\"#DejaVuSans-48\"/>\n      </g>\n     </g>\n    </g>\n    <g id=\"xtick_4\">\n     <g id=\"line2d_4\">\n      <g>\n       <use style=\"stroke:#000000;stroke-width:0.8;\" x=\"210.87926\" xlink:href=\"#mf8f9691493\" y=\"239.758125\"/>\n      </g>\n     </g>\n     <g id=\"text_4\">\n      <!-- 30 -->\n      <defs>\n       <path d=\"M 40.578125 39.3125 \nQ 47.65625 37.796875 51.625 33 \nQ 55.609375 28.21875 55.609375 21.1875 \nQ 55.609375 10.40625 48.1875 4.484375 \nQ 40.765625 -1.421875 27.09375 -1.421875 \nQ 22.515625 -1.421875 17.65625 -0.515625 \nQ 12.796875 0.390625 7.625 2.203125 \nL 7.625 11.71875 \nQ 11.71875 9.328125 16.59375 8.109375 \nQ 21.484375 6.890625 26.8125 6.890625 \nQ 36.078125 6.890625 40.9375 10.546875 \nQ 45.796875 14.203125 45.796875 21.1875 \nQ 45.796875 27.640625 41.28125 31.265625 \nQ 36.765625 34.90625 28.71875 34.90625 \nL 20.21875 34.90625 \nL 20.21875 43.015625 \nL 29.109375 43.015625 \nQ 36.375 43.015625 40.234375 45.921875 \nQ 44.09375 48.828125 44.09375 54.296875 \nQ 44.09375 59.90625 40.109375 62.90625 \nQ 36.140625 65.921875 28.71875 65.921875 \nQ 24.65625 65.921875 20.015625 65.03125 \nQ 15.375 64.15625 9.8125 62.3125 \nL 9.8125 71.09375 \nQ 15.4375 72.65625 20.34375 73.4375 \nQ 25.25 74.21875 29.59375 74.21875 \nQ 40.828125 74.21875 47.359375 69.109375 \nQ 53.90625 64.015625 53.90625 55.328125 \nQ 53.90625 49.265625 50.4375 45.09375 \nQ 46.96875 40.921875 40.578125 39.3125 \nz\n\" id=\"DejaVuSans-51\"/>\n      </defs>\n      <g transform=\"translate(204.51676 254.356562)scale(0.1 -0.1)\">\n       <use xlink:href=\"#DejaVuSans-51\"/>\n       <use x=\"63.623047\" xlink:href=\"#DejaVuSans-48\"/>\n      </g>\n     </g>\n    </g>\n    <g id=\"xtick_5\">\n     <g id=\"line2d_5\">\n      <g>\n       <use style=\"stroke:#000000;stroke-width:0.8;\" x=\"262.431201\" xlink:href=\"#mf8f9691493\" y=\"239.758125\"/>\n      </g>\n     </g>\n     <g id=\"text_5\">\n      <!-- 40 -->\n      <defs>\n       <path d=\"M 37.796875 64.3125 \nL 12.890625 25.390625 \nL 37.796875 25.390625 \nz\nM 35.203125 72.90625 \nL 47.609375 72.90625 \nL 47.609375 25.390625 \nL 58.015625 25.390625 \nL 58.015625 17.1875 \nL 47.609375 17.1875 \nL 47.609375 0 \nL 37.796875 0 \nL 37.796875 17.1875 \nL 4.890625 17.1875 \nL 4.890625 26.703125 \nz\n\" id=\"DejaVuSans-52\"/>\n      </defs>\n      <g transform=\"translate(256.068701 254.356562)scale(0.1 -0.1)\">\n       <use xlink:href=\"#DejaVuSans-52\"/>\n       <use x=\"63.623047\" xlink:href=\"#DejaVuSans-48\"/>\n      </g>\n     </g>\n    </g>\n    <g id=\"xtick_6\">\n     <g id=\"line2d_6\">\n      <g>\n       <use style=\"stroke:#000000;stroke-width:0.8;\" x=\"313.983141\" xlink:href=\"#mf8f9691493\" y=\"239.758125\"/>\n      </g>\n     </g>\n     <g id=\"text_6\">\n      <!-- 50 -->\n      <defs>\n       <path d=\"M 10.796875 72.90625 \nL 49.515625 72.90625 \nL 49.515625 64.59375 \nL 19.828125 64.59375 \nL 19.828125 46.734375 \nQ 21.96875 47.46875 24.109375 47.828125 \nQ 26.265625 48.1875 28.421875 48.1875 \nQ 40.625 48.1875 47.75 41.5 \nQ 54.890625 34.8125 54.890625 23.390625 \nQ 54.890625 11.625 47.5625 5.09375 \nQ 40.234375 -1.421875 26.90625 -1.421875 \nQ 22.3125 -1.421875 17.546875 -0.640625 \nQ 12.796875 0.140625 7.71875 1.703125 \nL 7.71875 11.625 \nQ 12.109375 9.234375 16.796875 8.0625 \nQ 21.484375 6.890625 26.703125 6.890625 \nQ 35.15625 6.890625 40.078125 11.328125 \nQ 45.015625 15.765625 45.015625 23.390625 \nQ 45.015625 31 40.078125 35.4375 \nQ 35.15625 39.890625 26.703125 39.890625 \nQ 22.75 39.890625 18.8125 39.015625 \nQ 14.890625 38.140625 10.796875 36.28125 \nz\n\" id=\"DejaVuSans-53\"/>\n      </defs>\n      <g transform=\"translate(307.620641 254.356562)scale(0.1 -0.1)\">\n       <use xlink:href=\"#DejaVuSans-53\"/>\n       <use x=\"63.623047\" xlink:href=\"#DejaVuSans-48\"/>\n      </g>\n     </g>\n    </g>\n    <g id=\"xtick_7\">\n     <g id=\"line2d_7\">\n      <g>\n       <use style=\"stroke:#000000;stroke-width:0.8;\" x=\"365.535081\" xlink:href=\"#mf8f9691493\" y=\"239.758125\"/>\n      </g>\n     </g>\n     <g id=\"text_7\">\n      <!-- 60 -->\n      <defs>\n       <path d=\"M 33.015625 40.375 \nQ 26.375 40.375 22.484375 35.828125 \nQ 18.609375 31.296875 18.609375 23.390625 \nQ 18.609375 15.53125 22.484375 10.953125 \nQ 26.375 6.390625 33.015625 6.390625 \nQ 39.65625 6.390625 43.53125 10.953125 \nQ 47.40625 15.53125 47.40625 23.390625 \nQ 47.40625 31.296875 43.53125 35.828125 \nQ 39.65625 40.375 33.015625 40.375 \nz\nM 52.59375 71.296875 \nL 52.59375 62.3125 \nQ 48.875 64.0625 45.09375 64.984375 \nQ 41.3125 65.921875 37.59375 65.921875 \nQ 27.828125 65.921875 22.671875 59.328125 \nQ 17.53125 52.734375 16.796875 39.40625 \nQ 19.671875 43.65625 24.015625 45.921875 \nQ 28.375 48.1875 33.59375 48.1875 \nQ 44.578125 48.1875 50.953125 41.515625 \nQ 57.328125 34.859375 57.328125 23.390625 \nQ 57.328125 12.15625 50.6875 5.359375 \nQ 44.046875 -1.421875 33.015625 -1.421875 \nQ 20.359375 -1.421875 13.671875 8.265625 \nQ 6.984375 17.96875 6.984375 36.375 \nQ 6.984375 53.65625 15.1875 63.9375 \nQ 23.390625 74.21875 37.203125 74.21875 \nQ 40.921875 74.21875 44.703125 73.484375 \nQ 48.484375 72.75 52.59375 71.296875 \nz\n\" id=\"DejaVuSans-54\"/>\n      </defs>\n      <g transform=\"translate(359.172581 254.356562)scale(0.1 -0.1)\">\n       <use xlink:href=\"#DejaVuSans-54\"/>\n       <use x=\"63.623047\" xlink:href=\"#DejaVuSans-48\"/>\n      </g>\n     </g>\n    </g>\n    <g id=\"text_8\">\n     <!-- Wall Clock Time (s) -->\n     <defs>\n      <path d=\"M 3.328125 72.90625 \nL 13.28125 72.90625 \nL 28.609375 11.28125 \nL 43.890625 72.90625 \nL 54.984375 72.90625 \nL 70.3125 11.28125 \nL 85.59375 72.90625 \nL 95.609375 72.90625 \nL 77.296875 0 \nL 64.890625 0 \nL 49.515625 63.28125 \nL 33.984375 0 \nL 21.578125 0 \nz\n\" id=\"DejaVuSans-87\"/>\n      <path d=\"M 34.28125 27.484375 \nQ 23.390625 27.484375 19.1875 25 \nQ 14.984375 22.515625 14.984375 16.5 \nQ 14.984375 11.71875 18.140625 8.90625 \nQ 21.296875 6.109375 26.703125 6.109375 \nQ 34.1875 6.109375 38.703125 11.40625 \nQ 43.21875 16.703125 43.21875 25.484375 \nL 43.21875 27.484375 \nz\nM 52.203125 31.203125 \nL 52.203125 0 \nL 43.21875 0 \nL 43.21875 8.296875 \nQ 40.140625 3.328125 35.546875 0.953125 \nQ 30.953125 -1.421875 24.3125 -1.421875 \nQ 15.921875 -1.421875 10.953125 3.296875 \nQ 6 8.015625 6 15.921875 \nQ 6 25.140625 12.171875 29.828125 \nQ 18.359375 34.515625 30.609375 34.515625 \nL 43.21875 34.515625 \nL 43.21875 35.40625 \nQ 43.21875 41.609375 39.140625 45 \nQ 35.0625 48.390625 27.6875 48.390625 \nQ 23 48.390625 18.546875 47.265625 \nQ 14.109375 46.140625 10.015625 43.890625 \nL 10.015625 52.203125 \nQ 14.9375 54.109375 19.578125 55.046875 \nQ 24.21875 56 28.609375 56 \nQ 40.484375 56 46.34375 49.84375 \nQ 52.203125 43.703125 52.203125 31.203125 \nz\n\" id=\"DejaVuSans-97\"/>\n      <path d=\"M 9.421875 75.984375 \nL 18.40625 75.984375 \nL 18.40625 0 \nL 9.421875 0 \nz\n\" id=\"DejaVuSans-108\"/>\n      <path id=\"DejaVuSans-32\"/>\n      <path d=\"M 64.40625 67.28125 \nL 64.40625 56.890625 \nQ 59.421875 61.53125 53.78125 63.8125 \nQ 48.140625 66.109375 41.796875 66.109375 \nQ 29.296875 66.109375 22.65625 58.46875 \nQ 16.015625 50.828125 16.015625 36.375 \nQ 16.015625 21.96875 22.65625 14.328125 \nQ 29.296875 6.6875 41.796875 6.6875 \nQ 48.140625 6.6875 53.78125 8.984375 \nQ 59.421875 11.28125 64.40625 15.921875 \nL 64.40625 5.609375 \nQ 59.234375 2.09375 53.4375 0.328125 \nQ 47.65625 -1.421875 41.21875 -1.421875 \nQ 24.65625 -1.421875 15.125 8.703125 \nQ 5.609375 18.84375 5.609375 36.375 \nQ 5.609375 53.953125 15.125 64.078125 \nQ 24.65625 74.21875 41.21875 74.21875 \nQ 47.75 74.21875 53.53125 72.484375 \nQ 59.328125 70.75 64.40625 67.28125 \nz\n\" id=\"DejaVuSans-67\"/>\n      <path d=\"M 30.609375 48.390625 \nQ 23.390625 48.390625 19.1875 42.75 \nQ 14.984375 37.109375 14.984375 27.296875 \nQ 14.984375 17.484375 19.15625 11.84375 \nQ 23.34375 6.203125 30.609375 6.203125 \nQ 37.796875 6.203125 41.984375 11.859375 \nQ 46.1875 17.53125 46.1875 27.296875 \nQ 46.1875 37.015625 41.984375 42.703125 \nQ 37.796875 48.390625 30.609375 48.390625 \nz\nM 30.609375 56 \nQ 42.328125 56 49.015625 48.375 \nQ 55.71875 40.765625 55.71875 27.296875 \nQ 55.71875 13.875 49.015625 6.21875 \nQ 42.328125 -1.421875 30.609375 -1.421875 \nQ 18.84375 -1.421875 12.171875 6.21875 \nQ 5.515625 13.875 5.515625 27.296875 \nQ 5.515625 40.765625 12.171875 48.375 \nQ 18.84375 56 30.609375 56 \nz\n\" id=\"DejaVuSans-111\"/>\n      <path d=\"M 48.78125 52.59375 \nL 48.78125 44.1875 \nQ 44.96875 46.296875 41.140625 47.34375 \nQ 37.3125 48.390625 33.40625 48.390625 \nQ 24.65625 48.390625 19.8125 42.84375 \nQ 14.984375 37.3125 14.984375 27.296875 \nQ 14.984375 17.28125 19.8125 11.734375 \nQ 24.65625 6.203125 33.40625 6.203125 \nQ 37.3125 6.203125 41.140625 7.25 \nQ 44.96875 8.296875 48.78125 10.40625 \nL 48.78125 2.09375 \nQ 45.015625 0.34375 40.984375 -0.53125 \nQ 36.96875 -1.421875 32.421875 -1.421875 \nQ 20.0625 -1.421875 12.78125 6.34375 \nQ 5.515625 14.109375 5.515625 27.296875 \nQ 5.515625 40.671875 12.859375 48.328125 \nQ 20.21875 56 33.015625 56 \nQ 37.15625 56 41.109375 55.140625 \nQ 45.0625 54.296875 48.78125 52.59375 \nz\n\" id=\"DejaVuSans-99\"/>\n      <path d=\"M 9.078125 75.984375 \nL 18.109375 75.984375 \nL 18.109375 31.109375 \nL 44.921875 54.6875 \nL 56.390625 54.6875 \nL 27.390625 29.109375 \nL 57.625 0 \nL 45.90625 0 \nL 18.109375 26.703125 \nL 18.109375 0 \nL 9.078125 0 \nz\n\" id=\"DejaVuSans-107\"/>\n      <path d=\"M -0.296875 72.90625 \nL 61.375 72.90625 \nL 61.375 64.59375 \nL 35.5 64.59375 \nL 35.5 0 \nL 25.59375 0 \nL 25.59375 64.59375 \nL -0.296875 64.59375 \nz\n\" id=\"DejaVuSans-84\"/>\n      <path d=\"M 9.421875 54.6875 \nL 18.40625 54.6875 \nL 18.40625 0 \nL 9.421875 0 \nz\nM 9.421875 75.984375 \nL 18.40625 75.984375 \nL 18.40625 64.59375 \nL 9.421875 64.59375 \nz\n\" id=\"DejaVuSans-105\"/>\n      <path d=\"M 52 44.1875 \nQ 55.375 50.25 60.0625 53.125 \nQ 64.75 56 71.09375 56 \nQ 79.640625 56 84.28125 50.015625 \nQ 88.921875 44.046875 88.921875 33.015625 \nL 88.921875 0 \nL 79.890625 0 \nL 79.890625 32.71875 \nQ 79.890625 40.578125 77.09375 44.375 \nQ 74.3125 48.1875 68.609375 48.1875 \nQ 61.625 48.1875 57.5625 43.546875 \nQ 53.515625 38.921875 53.515625 30.90625 \nL 53.515625 0 \nL 44.484375 0 \nL 44.484375 32.71875 \nQ 44.484375 40.625 41.703125 44.40625 \nQ 38.921875 48.1875 33.109375 48.1875 \nQ 26.21875 48.1875 22.15625 43.53125 \nQ 18.109375 38.875 18.109375 30.90625 \nL 18.109375 0 \nL 9.078125 0 \nL 9.078125 54.6875 \nL 18.109375 54.6875 \nL 18.109375 46.1875 \nQ 21.1875 51.21875 25.484375 53.609375 \nQ 29.78125 56 35.6875 56 \nQ 41.65625 56 45.828125 52.96875 \nQ 50 49.953125 52 44.1875 \nz\n\" id=\"DejaVuSans-109\"/>\n      <path d=\"M 56.203125 29.59375 \nL 56.203125 25.203125 \nL 14.890625 25.203125 \nQ 15.484375 15.921875 20.484375 11.0625 \nQ 25.484375 6.203125 34.421875 6.203125 \nQ 39.59375 6.203125 44.453125 7.46875 \nQ 49.3125 8.734375 54.109375 11.28125 \nL 54.109375 2.78125 \nQ 49.265625 0.734375 44.1875 -0.34375 \nQ 39.109375 -1.421875 33.890625 -1.421875 \nQ 20.796875 -1.421875 13.15625 6.1875 \nQ 5.515625 13.8125 5.515625 26.8125 \nQ 5.515625 40.234375 12.765625 48.109375 \nQ 20.015625 56 32.328125 56 \nQ 43.359375 56 49.78125 48.890625 \nQ 56.203125 41.796875 56.203125 29.59375 \nz\nM 47.21875 32.234375 \nQ 47.125 39.59375 43.09375 43.984375 \nQ 39.0625 48.390625 32.421875 48.390625 \nQ 24.90625 48.390625 20.390625 44.140625 \nQ 15.875 39.890625 15.1875 32.171875 \nz\n\" id=\"DejaVuSans-101\"/>\n      <path d=\"M 31 75.875 \nQ 24.46875 64.65625 21.28125 53.65625 \nQ 18.109375 42.671875 18.109375 31.390625 \nQ 18.109375 20.125 21.3125 9.0625 \nQ 24.515625 -2 31 -13.1875 \nL 23.1875 -13.1875 \nQ 15.875 -1.703125 12.234375 9.375 \nQ 8.59375 20.453125 8.59375 31.390625 \nQ 8.59375 42.28125 12.203125 53.3125 \nQ 15.828125 64.359375 23.1875 75.875 \nz\n\" id=\"DejaVuSans-40\"/>\n      <path d=\"M 44.28125 53.078125 \nL 44.28125 44.578125 \nQ 40.484375 46.53125 36.375 47.5 \nQ 32.28125 48.484375 27.875 48.484375 \nQ 21.1875 48.484375 17.84375 46.4375 \nQ 14.5 44.390625 14.5 40.28125 \nQ 14.5 37.15625 16.890625 35.375 \nQ 19.28125 33.59375 26.515625 31.984375 \nL 29.59375 31.296875 \nQ 39.15625 29.25 43.1875 25.515625 \nQ 47.21875 21.78125 47.21875 15.09375 \nQ 47.21875 7.46875 41.1875 3.015625 \nQ 35.15625 -1.421875 24.609375 -1.421875 \nQ 20.21875 -1.421875 15.453125 -0.5625 \nQ 10.6875 0.296875 5.421875 2 \nL 5.421875 11.28125 \nQ 10.40625 8.6875 15.234375 7.390625 \nQ 20.0625 6.109375 24.8125 6.109375 \nQ 31.15625 6.109375 34.5625 8.28125 \nQ 37.984375 10.453125 37.984375 14.40625 \nQ 37.984375 18.0625 35.515625 20.015625 \nQ 33.0625 21.96875 24.703125 23.78125 \nL 21.578125 24.515625 \nQ 13.234375 26.265625 9.515625 29.90625 \nQ 5.8125 33.546875 5.8125 39.890625 \nQ 5.8125 47.609375 11.28125 51.796875 \nQ 16.75 56 26.8125 56 \nQ 31.78125 56 36.171875 55.265625 \nQ 40.578125 54.546875 44.28125 53.078125 \nz\n\" id=\"DejaVuSans-115\"/>\n      <path d=\"M 8.015625 75.875 \nL 15.828125 75.875 \nQ 23.140625 64.359375 26.78125 53.3125 \nQ 30.421875 42.28125 30.421875 31.390625 \nQ 30.421875 20.453125 26.78125 9.375 \nQ 23.140625 -1.703125 15.828125 -13.1875 \nL 8.015625 -13.1875 \nQ 14.5 -2 17.703125 9.0625 \nQ 20.90625 20.125 20.90625 31.390625 \nQ 20.90625 42.671875 17.703125 53.65625 \nQ 14.5 64.65625 8.015625 75.875 \nz\n\" id=\"DejaVuSans-41\"/>\n     </defs>\n     <g transform=\"translate(163.622656 268.034687)scale(0.1 -0.1)\">\n      <use xlink:href=\"#DejaVuSans-87\"/>\n      <use x=\"92.501953\" xlink:href=\"#DejaVuSans-97\"/>\n      <use x=\"153.78125\" xlink:href=\"#DejaVuSans-108\"/>\n      <use x=\"181.564453\" xlink:href=\"#DejaVuSans-108\"/>\n      <use x=\"209.347656\" xlink:href=\"#DejaVuSans-32\"/>\n      <use x=\"241.134766\" xlink:href=\"#DejaVuSans-67\"/>\n      <use x=\"310.958984\" xlink:href=\"#DejaVuSans-108\"/>\n      <use x=\"338.742188\" xlink:href=\"#DejaVuSans-111\"/>\n      <use x=\"399.923828\" xlink:href=\"#DejaVuSans-99\"/>\n      <use x=\"454.904297\" xlink:href=\"#DejaVuSans-107\"/>\n      <use x=\"512.814453\" xlink:href=\"#DejaVuSans-32\"/>\n      <use x=\"544.601562\" xlink:href=\"#DejaVuSans-84\"/>\n      <use x=\"602.560547\" xlink:href=\"#DejaVuSans-105\"/>\n      <use x=\"630.34375\" xlink:href=\"#DejaVuSans-109\"/>\n      <use x=\"727.755859\" xlink:href=\"#DejaVuSans-101\"/>\n      <use x=\"789.279297\" xlink:href=\"#DejaVuSans-32\"/>\n      <use x=\"821.066406\" xlink:href=\"#DejaVuSans-40\"/>\n      <use x=\"860.080078\" xlink:href=\"#DejaVuSans-115\"/>\n      <use x=\"912.179688\" xlink:href=\"#DejaVuSans-41\"/>\n     </g>\n    </g>\n   </g>\n   <g id=\"matplotlib.axis_2\">\n    <g id=\"ytick_1\">\n     <g id=\"line2d_8\">\n      <defs>\n       <path d=\"M 0 0 \nL -3.5 0 \n\" id=\"m186344823d\" style=\"stroke:#000000;stroke-width:0.8;\"/>\n      </defs>\n      <g>\n       <use style=\"stroke:#000000;stroke-width:0.8;\" x=\"43.78125\" xlink:href=\"#m186344823d\" y=\"216.706571\"/>\n      </g>\n     </g>\n     <g id=\"text_9\">\n      <!-- 0.3 -->\n      <defs>\n       <path d=\"M 10.6875 12.40625 \nL 21 12.40625 \nL 21 0 \nL 10.6875 0 \nz\n\" id=\"DejaVuSans-46\"/>\n      </defs>\n      <g transform=\"translate(20.878125 220.50579)scale(0.1 -0.1)\">\n       <use xlink:href=\"#DejaVuSans-48\"/>\n       <use x=\"63.623047\" xlink:href=\"#DejaVuSans-46\"/>\n       <use x=\"95.410156\" xlink:href=\"#DejaVuSans-51\"/>\n      </g>\n     </g>\n    </g>\n    <g id=\"ytick_2\">\n     <g id=\"line2d_9\">\n      <g>\n       <use style=\"stroke:#000000;stroke-width:0.8;\" x=\"43.78125\" xlink:href=\"#m186344823d\" y=\"182.479038\"/>\n      </g>\n     </g>\n     <g id=\"text_10\">\n      <!-- 0.4 -->\n      <g transform=\"translate(20.878125 186.278256)scale(0.1 -0.1)\">\n       <use xlink:href=\"#DejaVuSans-48\"/>\n       <use x=\"63.623047\" xlink:href=\"#DejaVuSans-46\"/>\n       <use x=\"95.410156\" xlink:href=\"#DejaVuSans-52\"/>\n      </g>\n     </g>\n    </g>\n    <g id=\"ytick_3\">\n     <g id=\"line2d_10\">\n      <g>\n       <use style=\"stroke:#000000;stroke-width:0.8;\" x=\"43.78125\" xlink:href=\"#m186344823d\" y=\"148.251504\"/>\n      </g>\n     </g>\n     <g id=\"text_11\">\n      <!-- 0.5 -->\n      <g transform=\"translate(20.878125 152.050723)scale(0.1 -0.1)\">\n       <use xlink:href=\"#DejaVuSans-48\"/>\n       <use x=\"63.623047\" xlink:href=\"#DejaVuSans-46\"/>\n       <use x=\"95.410156\" xlink:href=\"#DejaVuSans-53\"/>\n      </g>\n     </g>\n    </g>\n    <g id=\"ytick_4\">\n     <g id=\"line2d_11\">\n      <g>\n       <use style=\"stroke:#000000;stroke-width:0.8;\" x=\"43.78125\" xlink:href=\"#m186344823d\" y=\"114.023971\"/>\n      </g>\n     </g>\n     <g id=\"text_12\">\n      <!-- 0.6 -->\n      <g transform=\"translate(20.878125 117.823189)scale(0.1 -0.1)\">\n       <use xlink:href=\"#DejaVuSans-48\"/>\n       <use x=\"63.623047\" xlink:href=\"#DejaVuSans-46\"/>\n       <use x=\"95.410156\" xlink:href=\"#DejaVuSans-54\"/>\n      </g>\n     </g>\n    </g>\n    <g id=\"ytick_5\">\n     <g id=\"line2d_12\">\n      <g>\n       <use style=\"stroke:#000000;stroke-width:0.8;\" x=\"43.78125\" xlink:href=\"#m186344823d\" y=\"79.796437\"/>\n      </g>\n     </g>\n     <g id=\"text_13\">\n      <!-- 0.7 -->\n      <defs>\n       <path d=\"M 8.203125 72.90625 \nL 55.078125 72.90625 \nL 55.078125 68.703125 \nL 28.609375 0 \nL 18.3125 0 \nL 43.21875 64.59375 \nL 8.203125 64.59375 \nz\n\" id=\"DejaVuSans-55\"/>\n      </defs>\n      <g transform=\"translate(20.878125 83.595656)scale(0.1 -0.1)\">\n       <use xlink:href=\"#DejaVuSans-48\"/>\n       <use x=\"63.623047\" xlink:href=\"#DejaVuSans-46\"/>\n       <use x=\"95.410156\" xlink:href=\"#DejaVuSans-55\"/>\n      </g>\n     </g>\n    </g>\n    <g id=\"ytick_6\">\n     <g id=\"line2d_13\">\n      <g>\n       <use style=\"stroke:#000000;stroke-width:0.8;\" x=\"43.78125\" xlink:href=\"#m186344823d\" y=\"45.568904\"/>\n      </g>\n     </g>\n     <g id=\"text_14\">\n      <!-- 0.8 -->\n      <defs>\n       <path d=\"M 31.78125 34.625 \nQ 24.75 34.625 20.71875 30.859375 \nQ 16.703125 27.09375 16.703125 20.515625 \nQ 16.703125 13.921875 20.71875 10.15625 \nQ 24.75 6.390625 31.78125 6.390625 \nQ 38.8125 6.390625 42.859375 10.171875 \nQ 46.921875 13.96875 46.921875 20.515625 \nQ 46.921875 27.09375 42.890625 30.859375 \nQ 38.875 34.625 31.78125 34.625 \nz\nM 21.921875 38.8125 \nQ 15.578125 40.375 12.03125 44.71875 \nQ 8.5 49.078125 8.5 55.328125 \nQ 8.5 64.0625 14.71875 69.140625 \nQ 20.953125 74.21875 31.78125 74.21875 \nQ 42.671875 74.21875 48.875 69.140625 \nQ 55.078125 64.0625 55.078125 55.328125 \nQ 55.078125 49.078125 51.53125 44.71875 \nQ 48 40.375 41.703125 38.8125 \nQ 48.828125 37.15625 52.796875 32.3125 \nQ 56.78125 27.484375 56.78125 20.515625 \nQ 56.78125 9.90625 50.3125 4.234375 \nQ 43.84375 -1.421875 31.78125 -1.421875 \nQ 19.734375 -1.421875 13.25 4.234375 \nQ 6.78125 9.90625 6.78125 20.515625 \nQ 6.78125 27.484375 10.78125 32.3125 \nQ 14.796875 37.15625 21.921875 38.8125 \nz\nM 18.3125 54.390625 \nQ 18.3125 48.734375 21.84375 45.5625 \nQ 25.390625 42.390625 31.78125 42.390625 \nQ 38.140625 42.390625 41.71875 45.5625 \nQ 45.3125 48.734375 45.3125 54.390625 \nQ 45.3125 60.0625 41.71875 63.234375 \nQ 38.140625 66.40625 31.78125 66.40625 \nQ 25.390625 66.40625 21.84375 63.234375 \nQ 18.3125 60.0625 18.3125 54.390625 \nz\n\" id=\"DejaVuSans-56\"/>\n      </defs>\n      <g transform=\"translate(20.878125 49.368122)scale(0.1 -0.1)\">\n       <use xlink:href=\"#DejaVuSans-48\"/>\n       <use x=\"63.623047\" xlink:href=\"#DejaVuSans-46\"/>\n       <use x=\"95.410156\" xlink:href=\"#DejaVuSans-56\"/>\n      </g>\n     </g>\n    </g>\n    <g id=\"text_15\">\n     <!-- Validation r2 -->\n     <defs>\n      <path d=\"M 28.609375 0 \nL 0.78125 72.90625 \nL 11.078125 72.90625 \nL 34.1875 11.53125 \nL 57.328125 72.90625 \nL 67.578125 72.90625 \nL 39.796875 0 \nz\n\" id=\"DejaVuSans-86\"/>\n      <path d=\"M 45.40625 46.390625 \nL 45.40625 75.984375 \nL 54.390625 75.984375 \nL 54.390625 0 \nL 45.40625 0 \nL 45.40625 8.203125 \nQ 42.578125 3.328125 38.25 0.953125 \nQ 33.9375 -1.421875 27.875 -1.421875 \nQ 17.96875 -1.421875 11.734375 6.484375 \nQ 5.515625 14.40625 5.515625 27.296875 \nQ 5.515625 40.1875 11.734375 48.09375 \nQ 17.96875 56 27.875 56 \nQ 33.9375 56 38.25 53.625 \nQ 42.578125 51.265625 45.40625 46.390625 \nz\nM 14.796875 27.296875 \nQ 14.796875 17.390625 18.875 11.75 \nQ 22.953125 6.109375 30.078125 6.109375 \nQ 37.203125 6.109375 41.296875 11.75 \nQ 45.40625 17.390625 45.40625 27.296875 \nQ 45.40625 37.203125 41.296875 42.84375 \nQ 37.203125 48.484375 30.078125 48.484375 \nQ 22.953125 48.484375 18.875 42.84375 \nQ 14.796875 37.203125 14.796875 27.296875 \nz\n\" id=\"DejaVuSans-100\"/>\n      <path d=\"M 18.3125 70.21875 \nL 18.3125 54.6875 \nL 36.8125 54.6875 \nL 36.8125 47.703125 \nL 18.3125 47.703125 \nL 18.3125 18.015625 \nQ 18.3125 11.328125 20.140625 9.421875 \nQ 21.96875 7.515625 27.59375 7.515625 \nL 36.8125 7.515625 \nL 36.8125 0 \nL 27.59375 0 \nQ 17.1875 0 13.234375 3.875 \nQ 9.28125 7.765625 9.28125 18.015625 \nL 9.28125 47.703125 \nL 2.6875 47.703125 \nL 2.6875 54.6875 \nL 9.28125 54.6875 \nL 9.28125 70.21875 \nz\n\" id=\"DejaVuSans-116\"/>\n      <path d=\"M 54.890625 33.015625 \nL 54.890625 0 \nL 45.90625 0 \nL 45.90625 32.71875 \nQ 45.90625 40.484375 42.875 44.328125 \nQ 39.84375 48.1875 33.796875 48.1875 \nQ 26.515625 48.1875 22.3125 43.546875 \nQ 18.109375 38.921875 18.109375 30.90625 \nL 18.109375 0 \nL 9.078125 0 \nL 9.078125 54.6875 \nL 18.109375 54.6875 \nL 18.109375 46.1875 \nQ 21.34375 51.125 25.703125 53.5625 \nQ 30.078125 56 35.796875 56 \nQ 45.21875 56 50.046875 50.171875 \nQ 54.890625 44.34375 54.890625 33.015625 \nz\n\" id=\"DejaVuSans-110\"/>\n      <path d=\"M 41.109375 46.296875 \nQ 39.59375 47.171875 37.8125 47.578125 \nQ 36.03125 48 33.890625 48 \nQ 26.265625 48 22.1875 43.046875 \nQ 18.109375 38.09375 18.109375 28.8125 \nL 18.109375 0 \nL 9.078125 0 \nL 9.078125 54.6875 \nL 18.109375 54.6875 \nL 18.109375 46.1875 \nQ 20.953125 51.171875 25.484375 53.578125 \nQ 30.03125 56 36.53125 56 \nQ 37.453125 56 38.578125 55.875 \nQ 39.703125 55.765625 41.0625 55.515625 \nz\n\" id=\"DejaVuSans-114\"/>\n     </defs>\n     <g transform=\"translate(14.798438 162.554531)rotate(-90)scale(0.1 -0.1)\">\n      <use xlink:href=\"#DejaVuSans-86\"/>\n      <use x=\"60.658203\" xlink:href=\"#DejaVuSans-97\"/>\n      <use x=\"121.9375\" xlink:href=\"#DejaVuSans-108\"/>\n      <use x=\"149.720703\" xlink:href=\"#DejaVuSans-105\"/>\n      <use x=\"177.503906\" xlink:href=\"#DejaVuSans-100\"/>\n      <use x=\"240.980469\" xlink:href=\"#DejaVuSans-97\"/>\n      <use x=\"302.259766\" xlink:href=\"#DejaVuSans-116\"/>\n      <use x=\"341.46875\" xlink:href=\"#DejaVuSans-105\"/>\n      <use x=\"369.251953\" xlink:href=\"#DejaVuSans-111\"/>\n      <use x=\"430.433594\" xlink:href=\"#DejaVuSans-110\"/>\n      <use x=\"493.8125\" xlink:href=\"#DejaVuSans-32\"/>\n      <use x=\"525.599609\" xlink:href=\"#DejaVuSans-114\"/>\n      <use x=\"566.712891\" xlink:href=\"#DejaVuSans-50\"/>\n     </g>\n    </g>\n   </g>\n   <g id=\"line2d_14\">\n    <path clip-path=\"url(#pe183d4fd05)\" d=\"M 58.999432 229.874489 \nL 60.29259 229.874489 \nL 60.29259 165.947004 \nL 61.230038 165.947004 \nL 61.230038 83.318294 \nL 63.355922 83.318294 \nL 63.355922 70.153617 \nL 66.439931 70.153617 \nL 66.439931 59.476113 \nL 70.788765 59.476113 \nL 70.788765 38.274163 \nL 86.025719 38.274163 \nL 86.025719 37.526888 \nL 133.283873 37.526888 \nL 133.283873 35.069197 \nL 164.218892 35.069197 \nL 164.218892 34.775195 \nL 363.363068 34.775195 \nL 363.363068 32.201761 \n\" style=\"fill:none;stroke:#1f77b4;stroke-linecap:square;stroke-width:1.5;\"/>\n   </g>\n   <g id=\"patch_3\">\n    <path d=\"M 43.78125 239.758125 \nL 43.78125 22.318125 \n\" style=\"fill:none;stroke:#000000;stroke-linecap:square;stroke-linejoin:miter;stroke-width:0.8;\"/>\n   </g>\n   <g id=\"patch_4\">\n    <path d=\"M 378.58125 239.758125 \nL 378.58125 22.318125 \n\" style=\"fill:none;stroke:#000000;stroke-linecap:square;stroke-linejoin:miter;stroke-width:0.8;\"/>\n   </g>\n   <g id=\"patch_5\">\n    <path d=\"M 43.78125 239.758125 \nL 378.58125 239.758125 \n\" style=\"fill:none;stroke:#000000;stroke-linecap:square;stroke-linejoin:miter;stroke-width:0.8;\"/>\n   </g>\n   <g id=\"patch_6\">\n    <path d=\"M 43.78125 22.318125 \nL 378.58125 22.318125 \n\" style=\"fill:none;stroke:#000000;stroke-linecap:square;stroke-linejoin:miter;stroke-width:0.8;\"/>\n   </g>\n   <g id=\"text_16\">\n    <!-- Learning Curve -->\n    <defs>\n     <path d=\"M 9.8125 72.90625 \nL 19.671875 72.90625 \nL 19.671875 8.296875 \nL 55.171875 8.296875 \nL 55.171875 0 \nL 9.8125 0 \nz\n\" id=\"DejaVuSans-76\"/>\n     <path d=\"M 45.40625 27.984375 \nQ 45.40625 37.75 41.375 43.109375 \nQ 37.359375 48.484375 30.078125 48.484375 \nQ 22.859375 48.484375 18.828125 43.109375 \nQ 14.796875 37.75 14.796875 27.984375 \nQ 14.796875 18.265625 18.828125 12.890625 \nQ 22.859375 7.515625 30.078125 7.515625 \nQ 37.359375 7.515625 41.375 12.890625 \nQ 45.40625 18.265625 45.40625 27.984375 \nz\nM 54.390625 6.78125 \nQ 54.390625 -7.171875 48.1875 -13.984375 \nQ 42 -20.796875 29.203125 -20.796875 \nQ 24.46875 -20.796875 20.265625 -20.09375 \nQ 16.0625 -19.390625 12.109375 -17.921875 \nL 12.109375 -9.1875 \nQ 16.0625 -11.328125 19.921875 -12.34375 \nQ 23.78125 -13.375 27.78125 -13.375 \nQ 36.625 -13.375 41.015625 -8.765625 \nQ 45.40625 -4.15625 45.40625 5.171875 \nL 45.40625 9.625 \nQ 42.625 4.78125 38.28125 2.390625 \nQ 33.9375 0 27.875 0 \nQ 17.828125 0 11.671875 7.65625 \nQ 5.515625 15.328125 5.515625 27.984375 \nQ 5.515625 40.671875 11.671875 48.328125 \nQ 17.828125 56 27.875 56 \nQ 33.9375 56 38.28125 53.609375 \nQ 42.625 51.21875 45.40625 46.390625 \nL 45.40625 54.6875 \nL 54.390625 54.6875 \nz\n\" id=\"DejaVuSans-103\"/>\n     <path d=\"M 8.5 21.578125 \nL 8.5 54.6875 \nL 17.484375 54.6875 \nL 17.484375 21.921875 \nQ 17.484375 14.15625 20.5 10.265625 \nQ 23.53125 6.390625 29.59375 6.390625 \nQ 36.859375 6.390625 41.078125 11.03125 \nQ 45.3125 15.671875 45.3125 23.6875 \nL 45.3125 54.6875 \nL 54.296875 54.6875 \nL 54.296875 0 \nL 45.3125 0 \nL 45.3125 8.40625 \nQ 42.046875 3.421875 37.71875 1 \nQ 33.40625 -1.421875 27.6875 -1.421875 \nQ 18.265625 -1.421875 13.375 4.4375 \nQ 8.5 10.296875 8.5 21.578125 \nz\nM 31.109375 56 \nz\n\" id=\"DejaVuSans-117\"/>\n     <path d=\"M 2.984375 54.6875 \nL 12.5 54.6875 \nL 29.59375 8.796875 \nL 46.6875 54.6875 \nL 56.203125 54.6875 \nL 35.6875 0 \nL 23.484375 0 \nz\n\" id=\"DejaVuSans-118\"/>\n    </defs>\n    <g transform=\"translate(165.523125 16.318125)scale(0.12 -0.12)\">\n     <use xlink:href=\"#DejaVuSans-76\"/>\n     <use x=\"53.962891\" xlink:href=\"#DejaVuSans-101\"/>\n     <use x=\"115.486328\" xlink:href=\"#DejaVuSans-97\"/>\n     <use x=\"176.765625\" xlink:href=\"#DejaVuSans-114\"/>\n     <use x=\"216.128906\" xlink:href=\"#DejaVuSans-110\"/>\n     <use x=\"279.507812\" xlink:href=\"#DejaVuSans-105\"/>\n     <use x=\"307.291016\" xlink:href=\"#DejaVuSans-110\"/>\n     <use x=\"370.669922\" xlink:href=\"#DejaVuSans-103\"/>\n     <use x=\"434.146484\" xlink:href=\"#DejaVuSans-32\"/>\n     <use x=\"465.933594\" xlink:href=\"#DejaVuSans-67\"/>\n     <use x=\"535.757812\" xlink:href=\"#DejaVuSans-117\"/>\n     <use x=\"599.136719\" xlink:href=\"#DejaVuSans-114\"/>\n     <use x=\"640.25\" xlink:href=\"#DejaVuSans-118\"/>\n     <use x=\"699.429688\" xlink:href=\"#DejaVuSans-101\"/>\n    </g>\n   </g>\n  </g>\n </g>\n <defs>\n  <clipPath id=\"pe183d4fd05\">\n   <rect height=\"217.44\" width=\"334.8\" x=\"43.78125\" y=\"22.318125\"/>\n  </clipPath>\n </defs>\n</svg>\n",
      "image/png": "[encoded data removed]"
     },
     "metadata": {
      "needs_background": "light"
     }
    }
   ],
   "metadata": {
    "slideshow": {
     "slide_type": "slide"
    }
   }
  },
  {
   "cell_type": "markdown",
   "source": [
    "## 3. Comparison with alternatives\n",
    "\n",
    "### FLAML's accuracy"
   ],
   "metadata": {}
  },
  {
   "cell_type": "code",
   "execution_count": 13,
   "source": [
    "print('flaml r2', '=', 1 - sklearn_metric_loss_score('r2', y_pred, y_test))"
   ],
   "outputs": [
    {
     "output_type": "stream",
     "name": "stdout",
     "text": [
      "flaml r2 = 0.8540590968156087\n"
     ]
    }
   ],
   "metadata": {
    "tags": []
   }
  },
  {
   "cell_type": "markdown",
   "source": [
    "### Default LightGBM"
   ],
   "metadata": {}
  },
  {
   "cell_type": "code",
   "execution_count": 14,
   "source": [
    "from lightgbm import LGBMRegressor\n",
    "lgbm = LGBMRegressor()"
   ],
   "outputs": [],
   "metadata": {}
  },
  {
   "cell_type": "code",
   "execution_count": 15,
   "source": [
    "lgbm.fit(X_train, y_train)"
   ],
   "outputs": [
    {
     "output_type": "execute_result",
     "data": {
      "text/plain": [
       "LGBMRegressor()"
      ]
     },
     "metadata": {},
     "execution_count": 15
    }
   ],
   "metadata": {}
  },
  {
   "cell_type": "code",
   "execution_count": 16,
   "source": [
    "y_pred = lgbm.predict(X_test)\n",
    "from flaml.ml import sklearn_metric_loss_score\n",
    "print('default lgbm r2', '=', 1 - sklearn_metric_loss_score('r2', y_pred, y_test))"
   ],
   "outputs": [
    {
     "output_type": "stream",
     "name": "stdout",
     "text": [
      "default lgbm r2 = 0.8296179648694404\n"
     ]
    }
   ],
   "metadata": {
    "tags": []
   }
  },
  {
   "cell_type": "markdown",
   "source": [
    "### Optuna LightGBM Tuner"
   ],
   "metadata": {}
  },
  {
   "cell_type": "code",
   "execution_count": 17,
   "source": [
    "# !pip install optuna==2.8.0;"
   ],
   "outputs": [],
   "metadata": {}
  },
  {
   "cell_type": "code",
   "execution_count": 18,
   "source": [
    "from sklearn.model_selection import train_test_split\n",
    "train_x, val_x, train_y, val_y = train_test_split(X_train, y_train, test_size=0.1)\n",
    "import optuna.integration.lightgbm as lgb\n",
    "dtrain = lgb.Dataset(train_x, label=train_y)\n",
    "dval = lgb.Dataset(val_x, label=val_y)\n",
    "params = {\n",
    "    \"objective\": \"regression\",\n",
    "    \"metric\": \"regression\",\n",
    "    \"verbosity\": -1,\n",
    "}\n"
   ],
   "outputs": [],
   "metadata": {}
  },
  {
   "cell_type": "code",
   "execution_count": 19,
   "source": [
    "%%time\n",
    "model = lgb.train(params, dtrain, valid_sets=[dtrain, dval], verbose_eval=10000)        \n"
   ],
   "outputs": [
    {
     "output_type": "stream",
     "name": "stderr",
     "text": [
      "\u001b[32m[I 2021-08-22 21:13:20,495]\u001b[0m A new study created in memory with name: no-name-11015170-733e-470d-817a-413f55382d0c\u001b[0m\n",
      "feature_fraction, val_score: 1923826918.442117:  14%|#4        | 1/7 [00:01<00:08,  1.49s/it]\u001b[32m[I 2021-08-22 21:13:22,006]\u001b[0m Trial 0 finished with value: 1923826918.4421172 and parameters: {'feature_fraction': 0.8999999999999999}. Best is trial 0 with value: 1923826918.4421172.\u001b[0m\n",
      "feature_fraction, val_score: 1923826918.442117:  29%|##8       | 2/7 [00:02<00:07,  1.44s/it]\u001b[32m[I 2021-08-22 21:13:23,335]\u001b[0m Trial 1 finished with value: 1935542284.5841475 and parameters: {'feature_fraction': 0.6}. Best is trial 0 with value: 1923826918.4421172.\u001b[0m\n",
      "feature_fraction, val_score: 1923826918.442117:  43%|####2     | 3/7 [00:04<00:05,  1.44s/it]\u001b[32m[I 2021-08-22 21:13:24,762]\u001b[0m Trial 2 finished with value: 1959693958.979498 and parameters: {'feature_fraction': 0.7}. Best is trial 0 with value: 1923826918.4421172.\u001b[0m\n",
      "feature_fraction, val_score: 1923826918.442117:  57%|#####7    | 4/7 [00:05<00:04,  1.38s/it]\u001b[32m[I 2021-08-22 21:13:26,021]\u001b[0m Trial 3 finished with value: 2237193094.1989536 and parameters: {'feature_fraction': 0.4}. Best is trial 0 with value: 1923826918.4421172.\u001b[0m\n",
      "feature_fraction, val_score: 1923826918.442117:  71%|#######1  | 5/7 [00:06<00:02,  1.36s/it]\u001b[32m[I 2021-08-22 21:13:27,314]\u001b[0m Trial 4 finished with value: 1988198059.953293 and parameters: {'feature_fraction': 0.5}. Best is trial 0 with value: 1923826918.4421172.\u001b[0m\n",
      "feature_fraction, val_score: 1923826918.442117:  86%|########5 | 6/7 [00:08<00:01,  1.37s/it]\u001b[32m[I 2021-08-22 21:13:28,719]\u001b[0m Trial 5 finished with value: 1959693958.979498 and parameters: {'feature_fraction': 0.8}. Best is trial 0 with value: 1923826918.4421172.\u001b[0m\n",
      "feature_fraction, val_score: 1923826918.442117: 100%|##########| 7/7 [00:09<00:00,  1.42s/it]\u001b[32m[I 2021-08-22 21:13:30,240]\u001b[0m Trial 6 finished with value: 1961388150.442425 and parameters: {'feature_fraction': 1.0}. Best is trial 0 with value: 1923826918.4421172.\u001b[0m\n",
      "feature_fraction, val_score: 1923826918.442117: 100%|##########| 7/7 [00:09<00:00,  1.39s/it]\n",
      "num_leaves, val_score: 1902337773.833954:   5%|5         | 1/20 [00:02<00:41,  2.21s/it]\u001b[32m[I 2021-08-22 21:13:32,454]\u001b[0m Trial 7 finished with value: 1902337773.8339543 and parameters: {'num_leaves': 62}. Best is trial 7 with value: 1902337773.8339543.\u001b[0m\n",
      "num_leaves, val_score: 1892120308.436302:  10%|#         | 2/20 [00:04<00:42,  2.35s/it]\u001b[32m[I 2021-08-22 21:13:35,126]\u001b[0m Trial 8 finished with value: 1892120308.4363017 and parameters: {'num_leaves': 78}. Best is trial 8 with value: 1892120308.4363017.\u001b[0m\n",
      "num_leaves, val_score: 1892120308.436302:  15%|#5        | 3/20 [00:06<00:34,  2.03s/it]\u001b[32m[I 2021-08-22 21:13:36,422]\u001b[0m Trial 9 finished with value: 1924633212.447515 and parameters: {'num_leaves': 26}. Best is trial 8 with value: 1892120308.4363017.\u001b[0m\n",
      "num_leaves, val_score: 1892120308.436302:  20%|##        | 4/20 [00:07<00:27,  1.70s/it]\u001b[32m[I 2021-08-22 21:13:37,340]\u001b[0m Trial 10 finished with value: 1975840134.2036633 and parameters: {'num_leaves': 12}. Best is trial 8 with value: 1892120308.4363017.\u001b[0m\n",
      "num_leaves, val_score: 1892120308.436302:  25%|##5       | 5/20 [00:13<00:46,  3.12s/it]\u001b[32m[I 2021-08-22 21:13:43,773]\u001b[0m Trial 11 finished with value: 1923702276.2852578 and parameters: {'num_leaves': 204}. Best is trial 8 with value: 1892120308.4363017.\u001b[0m\n",
      "num_leaves, val_score: 1892120308.436302:  30%|###       | 6/20 [00:20<00:59,  4.24s/it]\u001b[32m[I 2021-08-22 21:13:50,646]\u001b[0m Trial 12 finished with value: 1939984702.0007648 and parameters: {'num_leaves': 214}. Best is trial 8 with value: 1892120308.4363017.\u001b[0m\n",
      "num_leaves, val_score: 1892120308.436302:  35%|###5      | 7/20 [00:23<00:49,  3.79s/it]\u001b[32m[I 2021-08-22 21:13:53,368]\u001b[0m Trial 13 finished with value: 1942261187.1568937 and parameters: {'num_leaves': 61}. Best is trial 8 with value: 1892120308.4363017.\u001b[0m\n",
      "num_leaves, val_score: 1892120308.436302:  40%|####      | 8/20 [00:33<01:09,  5.81s/it]\u001b[32m[I 2021-08-22 21:14:03,909]\u001b[0m Trial 14 finished with value: 1962322296.1656826 and parameters: {'num_leaves': 234}. Best is trial 8 with value: 1892120308.4363017.\u001b[0m\n",
      "num_leaves, val_score: 1892120308.436302:  45%|####5     | 9/20 [00:38<01:00,  5.52s/it]\u001b[32m[I 2021-08-22 21:14:08,728]\u001b[0m Trial 15 finished with value: 1933575055.0360022 and parameters: {'num_leaves': 131}. Best is trial 8 with value: 1892120308.4363017.\u001b[0m\n",
      "num_leaves, val_score: 1892120308.436302:  50%|#####     | 10/20 [00:41<00:47,  4.70s/it]\u001b[32m[I 2021-08-22 21:14:11,527]\u001b[0m Trial 16 finished with value: 1907396468.702243 and parameters: {'num_leaves': 64}. Best is trial 8 with value: 1892120308.4363017.\u001b[0m\n",
      "num_leaves, val_score: 1880656950.656438:  55%|#####5    | 11/20 [00:46<00:43,  4.83s/it]\u001b[32m[I 2021-08-22 21:14:16,641]\u001b[0m Trial 17 finished with value: 1880656950.6564376 and parameters: {'num_leaves': 141}. Best is trial 17 with value: 1880656950.6564376.\u001b[0m\n",
      "num_leaves, val_score: 1880656950.656438:  60%|######    | 12/20 [00:51<00:38,  4.80s/it]\u001b[32m[I 2021-08-22 21:14:21,399]\u001b[0m Trial 18 finished with value: 1906428309.75546 and parameters: {'num_leaves': 139}. Best is trial 17 with value: 1880656950.6564376.\u001b[0m\n",
      "num_leaves, val_score: 1880656950.656438:  65%|######5   | 13/20 [00:56<00:35,  5.07s/it]\u001b[32m[I 2021-08-22 21:14:27,074]\u001b[0m Trial 19 finished with value: 1897071192.2731016 and parameters: {'num_leaves': 161}. Best is trial 17 with value: 1880656950.6564376.\u001b[0m\n",
      "num_leaves, val_score: 1880656950.656438:  70%|#######   | 14/20 [01:01<00:28,  4.81s/it]\u001b[32m[I 2021-08-22 21:14:31,276]\u001b[0m Trial 20 finished with value: 1910775598.9420693 and parameters: {'num_leaves': 95}. Best is trial 17 with value: 1880656950.6564376.\u001b[0m\n",
      "num_leaves, val_score: 1880656950.656438:  75%|#######5  | 15/20 [01:04<00:22,  4.44s/it]\u001b[32m[I 2021-08-22 21:14:34,857]\u001b[0m Trial 21 finished with value: 1890350018.7742429 and parameters: {'num_leaves': 101}. Best is trial 17 with value: 1880656950.6564376.\u001b[0m\n",
      "num_leaves, val_score: 1874647481.354196:  80%|########  | 16/20 [01:10<00:19,  4.84s/it]\u001b[32m[I 2021-08-22 21:14:40,645]\u001b[0m Trial 22 finished with value: 1874647481.354196 and parameters: {'num_leaves': 174}. Best is trial 22 with value: 1874647481.354196.\u001b[0m\n",
      "num_leaves, val_score: 1874647481.354196:  85%|########5 | 17/20 [01:16<00:15,  5.12s/it]\u001b[32m[I 2021-08-22 21:14:46,424]\u001b[0m Trial 23 finished with value: 1929626032.4915411 and parameters: {'num_leaves': 176}. Best is trial 22 with value: 1874647481.354196.\u001b[0m\n",
      "num_leaves, val_score: 1874647481.354196:  90%|######### | 18/20 [01:22<00:10,  5.35s/it]\u001b[32m[I 2021-08-22 21:14:52,288]\u001b[0m Trial 24 finished with value: 1926786945.429698 and parameters: {'num_leaves': 177}. Best is trial 22 with value: 1874647481.354196.\u001b[0m\n",
      "num_leaves, val_score: 1874647481.354196:  95%|#########5| 19/20 [01:30<00:06,  6.26s/it]\u001b[32m[I 2021-08-22 21:15:00,672]\u001b[0m Trial 25 finished with value: 1936436149.7610657 and parameters: {'num_leaves': 248}. Best is trial 22 with value: 1874647481.354196.\u001b[0m\n",
      "num_leaves, val_score: 1870787631.458499: 100%|##########| 20/20 [01:35<00:00,  5.93s/it]\u001b[32m[I 2021-08-22 21:15:05,849]\u001b[0m Trial 26 finished with value: 1870787631.4584987 and parameters: {'num_leaves': 152}. Best is trial 26 with value: 1870787631.4584987.\u001b[0m\n",
      "num_leaves, val_score: 1870787631.458499: 100%|##########| 20/20 [01:35<00:00,  4.78s/it]\n",
      "bagging, val_score: 1870787631.458499:  10%|#         | 1/10 [00:07<01:06,  7.43s/it]\u001b[32m[I 2021-08-22 21:15:13,289]\u001b[0m Trial 27 finished with value: 2237757312.870728 and parameters: {'bagging_fraction': 0.44000087334449334, 'bagging_freq': 6}. Best is trial 27 with value: 2237757312.870728.\u001b[0m\n",
      "bagging, val_score: 1870787631.458499:  20%|##        | 2/10 [00:15<01:01,  7.71s/it]\u001b[32m[I 2021-08-22 21:15:21,655]\u001b[0m Trial 28 finished with value: 2162729069.0272393 and parameters: {'bagging_fraction': 0.5075440331178458, 'bagging_freq': 3}. Best is trial 28 with value: 2162729069.0272393.\u001b[0m\n",
      "bagging, val_score: 1870787631.458499:  30%|###       | 3/10 [00:21<00:49,  7.05s/it]\u001b[32m[I 2021-08-22 21:15:27,150]\u001b[0m Trial 29 finished with value: 2003355452.8831115 and parameters: {'bagging_fraction': 0.757776235401641, 'bagging_freq': 1}. Best is trial 29 with value: 2003355452.8831115.\u001b[0m\n",
      "bagging, val_score: 1870787631.458499:  40%|####      | 4/10 [00:28<00:42,  7.02s/it]\u001b[32m[I 2021-08-22 21:15:34,105]\u001b[0m Trial 30 finished with value: 2169017536.089679 and parameters: {'bagging_fraction': 0.5470758964212703, 'bagging_freq': 4}. Best is trial 29 with value: 2003355452.8831115.\u001b[0m\n",
      "bagging, val_score: 1870787631.458499:  50%|#####     | 5/10 [00:33<00:32,  6.49s/it]\u001b[32m[I 2021-08-22 21:15:39,358]\u001b[0m Trial 31 finished with value: 1949886129.0973551 and parameters: {'bagging_fraction': 0.7729694462744219, 'bagging_freq': 1}. Best is trial 31 with value: 1949886129.0973551.\u001b[0m\n",
      "bagging, val_score: 1870787631.458499:  60%|######    | 6/10 [00:40<00:26,  6.53s/it]\u001b[32m[I 2021-08-22 21:15:45,996]\u001b[0m Trial 32 finished with value: 2082597134.5380604 and parameters: {'bagging_fraction': 0.6293524485160634, 'bagging_freq': 6}. Best is trial 31 with value: 1949886129.0973551.\u001b[0m\n",
      "bagging, val_score: 1870787631.458499:  70%|#######   | 7/10 [00:46<00:19,  6.57s/it]\u001b[32m[I 2021-08-22 21:15:52,653]\u001b[0m Trial 33 finished with value: 2128522268.181099 and parameters: {'bagging_fraction': 0.5194460357854906, 'bagging_freq': 4}. Best is trial 31 with value: 1949886129.0973551.\u001b[0m\n",
      "bagging, val_score: 1870787631.458499:  80%|########  | 8/10 [00:53<00:12,  6.49s/it]\u001b[32m[I 2021-08-22 21:15:58,939]\u001b[0m Trial 34 finished with value: 1972329936.356194 and parameters: {'bagging_fraction': 0.7021495661140726, 'bagging_freq': 2}. Best is trial 31 with value: 1949886129.0973551.\u001b[0m\n",
      "bagging, val_score: 1870787631.458499:  90%|######### | 9/10 [00:58<00:06,  6.15s/it]\u001b[32m[I 2021-08-22 21:16:04,316]\u001b[0m Trial 35 finished with value: 2035847515.436036 and parameters: {'bagging_fraction': 0.7365019160691924, 'bagging_freq': 1}. Best is trial 31 with value: 1949886129.0973551.\u001b[0m\n",
      "bagging, val_score: 1870787631.458499: 100%|##########| 10/10 [01:05<00:00,  6.27s/it]\u001b[32m[I 2021-08-22 21:16:10,869]\u001b[0m Trial 36 finished with value: 2089685881.7609503 and parameters: {'bagging_fraction': 0.5702856203071842, 'bagging_freq': 6}. Best is trial 31 with value: 1949886129.0973551.\u001b[0m\n",
      "bagging, val_score: 1870787631.458499: 100%|##########| 10/10 [01:05<00:00,  6.50s/it]\n",
      "feature_fraction_stage2, val_score: 1870787631.458499:  17%|#6        | 1/6 [00:05<00:25,  5.10s/it]\u001b[32m[I 2021-08-22 21:16:15,976]\u001b[0m Trial 37 finished with value: 1915845450.4267912 and parameters: {'feature_fraction': 0.9799999999999999}. Best is trial 37 with value: 1915845450.4267912.\u001b[0m\n",
      "feature_fraction_stage2, val_score: 1870787631.458499:  33%|###3      | 2/6 [00:09<00:20,  5.02s/it]\u001b[32m[I 2021-08-22 21:16:20,814]\u001b[0m Trial 38 finished with value: 1870787631.4584987 and parameters: {'feature_fraction': 0.852}. Best is trial 38 with value: 1870787631.4584987.\u001b[0m\n",
      "feature_fraction_stage2, val_score: 1870787631.458499:  50%|#####     | 3/6 [00:14<00:14,  4.95s/it]\u001b[32m[I 2021-08-22 21:16:25,594]\u001b[0m Trial 39 finished with value: 1870787631.4584987 and parameters: {'feature_fraction': 0.8839999999999999}. Best is trial 38 with value: 1870787631.4584987.\u001b[0m\n",
      "feature_fraction_stage2, val_score: 1870787631.458499:  67%|######6   | 4/6 [00:20<00:10,  5.08s/it]\u001b[32m[I 2021-08-22 21:16:30,990]\u001b[0m Trial 40 finished with value: 1915845450.4267912 and parameters: {'feature_fraction': 0.948}. Best is trial 38 with value: 1870787631.4584987.\u001b[0m\n",
      "feature_fraction_stage2, val_score: 1870787631.458499:  83%|########3 | 5/6 [00:25<00:05,  5.19s/it]\u001b[32m[I 2021-08-22 21:16:36,418]\u001b[0m Trial 41 finished with value: 1870787631.4584987 and parameters: {'feature_fraction': 0.9159999999999999}. Best is trial 38 with value: 1870787631.4584987.\u001b[0m\n",
      "feature_fraction_stage2, val_score: 1870787631.458499: 100%|##########| 6/6 [00:31<00:00,  5.39s/it]\u001b[32m[I 2021-08-22 21:16:42,282]\u001b[0m Trial 42 finished with value: 1870787631.4584987 and parameters: {'feature_fraction': 0.82}. Best is trial 38 with value: 1870787631.4584987.\u001b[0m\n",
      "feature_fraction_stage2, val_score: 1870787631.458499: 100%|##########| 6/6 [00:31<00:00,  5.24s/it]\n",
      "regularization_factors, val_score: 1870787631.458499:   5%|5         | 1/20 [00:05<01:41,  5.36s/it]\u001b[32m[I 2021-08-22 21:16:47,653]\u001b[0m Trial 43 finished with value: 1870787631.491234 and parameters: {'lambda_l1': 6.212193776886605e-06, 'lambda_l2': 3.009357838100163e-08}. Best is trial 43 with value: 1870787631.491234.\u001b[0m\n",
      "regularization_factors, val_score: 1870787534.973267:  10%|#         | 2/20 [00:12<01:44,  5.82s/it]\u001b[32m[I 2021-08-22 21:16:54,524]\u001b[0m Trial 44 finished with value: 1870787534.9732666 and parameters: {'lambda_l1': 4.443479994016017e-08, 'lambda_l2': 3.556819404354524e-05}. Best is trial 44 with value: 1870787534.9732666.\u001b[0m\n",
      "regularization_factors, val_score: 1870787534.973267:  15%|#5        | 3/20 [00:17<01:36,  5.65s/it]\u001b[32m[I 2021-08-22 21:16:59,795]\u001b[0m Trial 45 finished with value: 1870787622.4979687 and parameters: {'lambda_l1': 0.014465195791714083, 'lambda_l2': 2.1021138174252987e-07}. Best is trial 44 with value: 1870787534.9732666.\u001b[0m\n",
      "regularization_factors, val_score: 1870787534.973267:  20%|##        | 4/20 [00:22<01:28,  5.52s/it]\u001b[32m[I 2021-08-22 21:17:05,006]\u001b[0m Trial 46 finished with value: 1870787619.5326774 and parameters: {'lambda_l1': 1.429709851157171e-06, 'lambda_l2': 4.419238564285042e-06}. Best is trial 44 with value: 1870787534.9732666.\u001b[0m\n",
      "regularization_factors, val_score: 1870787534.973267:  25%|##5       | 5/20 [00:28<01:22,  5.51s/it]\u001b[32m[I 2021-08-22 21:17:10,496]\u001b[0m Trial 47 finished with value: 1870787590.2959824 and parameters: {'lambda_l1': 0.06926729801332972, 'lambda_l2': 1.6922599199508456e-08}. Best is trial 44 with value: 1870787534.9732666.\u001b[0m\n",
      "regularization_factors, val_score: 1870787534.973267:  30%|###       | 6/20 [00:33<01:16,  5.44s/it]\u001b[32m[I 2021-08-22 21:17:15,768]\u001b[0m Trial 48 finished with value: 1870787630.8453631 and parameters: {'lambda_l1': 2.052098028013423e-08, 'lambda_l2': 2.3337138419589934e-07}. Best is trial 44 with value: 1870787534.9732666.\u001b[0m\n",
      "regularization_factors, val_score: 1870787534.973267:  35%|###5      | 7/20 [00:38<01:10,  5.39s/it]\u001b[32m[I 2021-08-22 21:17:21,046]\u001b[0m Trial 49 finished with value: 1876699891.9815595 and parameters: {'lambda_l1': 4.304944401004946e-06, 'lambda_l2': 0.0007656130560392606}. Best is trial 44 with value: 1870787534.9732666.\u001b[0m\n",
      "regularization_factors, val_score: 1870787534.973267:  40%|####      | 8/20 [00:44<01:04,  5.37s/it]\u001b[32m[I 2021-08-22 21:17:26,372]\u001b[0m Trial 50 finished with value: 1894915643.8553405 and parameters: {'lambda_l1': 5.783302142631901e-07, 'lambda_l2': 0.005857904967523283}. Best is trial 44 with value: 1870787534.9732666.\u001b[0m\n",
      "regularization_factors, val_score: 1870787534.973267:  45%|####5     | 9/20 [00:49<00:58,  5.32s/it]\u001b[32m[I 2021-08-22 21:17:31,570]\u001b[0m Trial 51 finished with value: 1877059069.215943 and parameters: {'lambda_l1': 2.9196198134708893, 'lambda_l2': 4.6093049397982125e-05}. Best is trial 44 with value: 1870787534.9732666.\u001b[0m\n",
      "regularization_factors, val_score: 1853015384.453637:  50%|#####     | 10/20 [00:54<00:53,  5.34s/it]\u001b[32m[I 2021-08-22 21:17:36,944]\u001b[0m Trial 52 finished with value: 1853015384.453637 and parameters: {'lambda_l1': 0.09558504914610533, 'lambda_l2': 3.220273228431258}. Best is trial 52 with value: 1853015384.453637.\u001b[0m\n",
      "regularization_factors, val_score: 1853015384.453637:  55%|#####5    | 11/20 [01:00<00:49,  5.45s/it]\u001b[32m[I 2021-08-22 21:17:42,672]\u001b[0m Trial 53 finished with value: 1896992309.3706267 and parameters: {'lambda_l1': 6.575749289036579, 'lambda_l2': 7.662096538085835}. Best is trial 52 with value: 1853015384.453637.\u001b[0m\n",
      "regularization_factors, val_score: 1853015384.453637:  60%|######    | 12/20 [01:06<00:44,  5.56s/it]\u001b[32m[I 2021-08-22 21:17:48,473]\u001b[0m Trial 54 finished with value: 1893493622.3798478 and parameters: {'lambda_l1': 0.0008722383951977965, 'lambda_l2': 0.13339065517857865}. Best is trial 52 with value: 1853015384.453637.\u001b[0m\n",
      "regularization_factors, val_score: 1853015384.453637:  65%|######5   | 13/20 [01:12<00:39,  5.68s/it]\u001b[32m[I 2021-08-22 21:17:54,425]\u001b[0m Trial 55 finished with value: 1895459424.4650118 and parameters: {'lambda_l1': 0.046018652714269824, 'lambda_l2': 3.596577171855534}. Best is trial 52 with value: 1853015384.453637.\u001b[0m\n",
      "regularization_factors, val_score: 1853015384.453637:  70%|#######   | 14/20 [01:17<00:33,  5.57s/it]\u001b[32m[I 2021-08-22 21:17:59,760]\u001b[0m Trial 56 finished with value: 1902235965.6523015 and parameters: {'lambda_l1': 0.0004372538444200538, 'lambda_l2': 0.018403234102680837}. Best is trial 52 with value: 1853015384.453637.\u001b[0m\n",
      "regularization_factors, val_score: 1853015384.453637:  75%|#######5  | 15/20 [01:23<00:27,  5.57s/it]\u001b[32m[I 2021-08-22 21:18:05,311]\u001b[0m Trial 57 finished with value: 1870787547.884662 and parameters: {'lambda_l1': 1.5644444125721077e-08, 'lambda_l2': 3.06684587723285e-05}. Best is trial 52 with value: 1853015384.453637.\u001b[0m\n",
      "regularization_factors, val_score: 1853015384.453637:  80%|########  | 16/20 [01:28<00:22,  5.56s/it]\u001b[32m[I 2021-08-22 21:18:10,860]\u001b[0m Trial 58 finished with value: 1952628057.3679152 and parameters: {'lambda_l1': 0.41090501100060367, 'lambda_l2': 0.4784149571785825}. Best is trial 52 with value: 1853015384.453637.\u001b[0m\n",
      "regularization_factors, val_score: 1853015384.453637:  85%|########5 | 17/20 [01:34<00:16,  5.66s/it]\u001b[32m[I 2021-08-22 21:18:16,748]\u001b[0m Trial 59 finished with value: 1874516545.805995 and parameters: {'lambda_l1': 4.63176126114126e-05, 'lambda_l2': 0.0002597320589400073}. Best is trial 52 with value: 1853015384.453637.\u001b[0m\n",
      "regularization_factors, val_score: 1853015384.453637:  90%|######### | 18/20 [01:40<00:11,  5.80s/it]\u001b[32m[I 2021-08-22 21:18:22,861]\u001b[0m Trial 60 finished with value: 1870787615.0912282 and parameters: {'lambda_l1': 0.007392465833323452, 'lambda_l2': 4.3888082066628725e-06}. Best is trial 52 with value: 1853015384.453637.\u001b[0m\n",
      "regularization_factors, val_score: 1853015384.453637:  95%|#########5| 19/20 [01:46<00:05,  5.72s/it]\u001b[32m[I 2021-08-22 21:18:28,403]\u001b[0m Trial 61 finished with value: 1859899631.3896043 and parameters: {'lambda_l1': 1.573671858757602e-07, 'lambda_l2': 0.0021763888923074476}. Best is trial 52 with value: 1853015384.453637.\u001b[0m\n",
      "regularization_factors, val_score: 1853015384.453637: 100%|##########| 20/20 [01:51<00:00,  5.70s/it]\u001b[32m[I 2021-08-22 21:18:34,066]\u001b[0m Trial 62 finished with value: 1905701773.7289548 and parameters: {'lambda_l1': 0.7977530430827201, 'lambda_l2': 0.6661855838737094}. Best is trial 52 with value: 1853015384.453637.\u001b[0m\n",
      "regularization_factors, val_score: 1853015384.453637: 100%|##########| 20/20 [01:51<00:00,  5.59s/it]\n",
      "min_data_in_leaf, val_score: 1853015384.453637:  20%|##        | 1/5 [00:04<00:19,  4.95s/it]\u001b[32m[I 2021-08-22 21:18:39,027]\u001b[0m Trial 63 finished with value: 1859286747.0773554 and parameters: {'min_child_samples': 10}. Best is trial 63 with value: 1859286747.0773554.\u001b[0m\n",
      "min_data_in_leaf, val_score: 1853015384.453637:  40%|####      | 2/5 [00:09<00:14,  4.87s/it]\u001b[32m[I 2021-08-22 21:18:43,705]\u001b[0m Trial 64 finished with value: 1877906183.7743464 and parameters: {'min_child_samples': 5}. Best is trial 63 with value: 1859286747.0773554.\u001b[0m\n",
      "min_data_in_leaf, val_score: 1853015384.453637:  60%|######    | 3/5 [00:15<00:10,  5.15s/it]\u001b[32m[I 2021-08-22 21:18:49,514]\u001b[0m Trial 65 finished with value: 1996406986.7947733 and parameters: {'min_child_samples': 100}. Best is trial 63 with value: 1859286747.0773554.\u001b[0m\n",
      "min_data_in_leaf, val_score: 1853015384.453637:  80%|########  | 4/5 [00:22<00:05,  5.82s/it]\u001b[32m[I 2021-08-22 21:18:56,904]\u001b[0m Trial 66 finished with value: 1983678395.4383106 and parameters: {'min_child_samples': 50}. Best is trial 63 with value: 1859286747.0773554.\u001b[0m\n",
      "min_data_in_leaf, val_score: 1853015384.453637: 100%|##########| 5/5 [00:28<00:00,  5.92s/it]\u001b[32m[I 2021-08-22 21:19:03,042]\u001b[0m Trial 67 finished with value: 1906448776.6538603 and parameters: {'min_child_samples': 25}. Best is trial 63 with value: 1859286747.0773554.\u001b[0m\n",
      "min_data_in_leaf, val_score: 1853015384.453637: 100%|##########| 5/5 [00:28<00:00,  5.79s/it]"
     ]
    },
    {
     "output_type": "stream",
     "name": "stdout",
     "text": [
      "CPU times: user 5min 24s, sys: 17.3 s, total: 5min 41s\n",
      "Wall time: 5min 42s\n"
     ]
    },
    {
     "output_type": "stream",
     "name": "stderr",
     "text": [
      "\n"
     ]
    }
   ],
   "metadata": {
    "tags": [
     "outputPrepend"
    ]
   }
  },
  {
   "cell_type": "markdown",
   "source": [],
   "metadata": {}
  },
  {
   "cell_type": "code",
   "execution_count": 20,
   "source": [
    "y_pred = model.predict(X_test)\n",
    "from flaml.ml import sklearn_metric_loss_score\n",
    "print('Optuna LightGBM Tuner r2', '=', 1 - sklearn_metric_loss_score('r2', y_pred, y_test))"
   ],
   "outputs": [
    {
     "output_type": "stream",
     "name": "stdout",
     "text": [
      "Optuna LightGBM Tuner r2 = 0.8428464421292586\n"
     ]
    }
   ],
   "metadata": {
    "tags": []
   }
  },
  {
   "cell_type": "markdown",
   "source": [
    "## 4. Add a customized LightGBM learner in FLAML\n",
    "The native API of LightGBM allows one to specify a custom objective function in the model constructor. You can easily enable it by adding a customized LightGBM learner in FLAML. In the following example, we show how to add such a customized LightGBM learner with a custom objective function."
   ],
   "metadata": {}
  },
  {
   "cell_type": "markdown",
   "source": [
    "### Create a customized LightGBM learner with a custom objective function"
   ],
   "metadata": {}
  },
  {
   "cell_type": "code",
   "execution_count": 21,
   "source": [
    "\n",
    "import numpy as np \n",
    "\n",
    "''' define your customized objective function '''\n",
    "def my_loss_obj(y_true, y_pred):\n",
    "    c = 0.5\n",
    "    residual = y_pred - y_true\n",
    "    grad = c * residual /(np.abs(residual) + c)\n",
    "    hess = c ** 2 / (np.abs(residual) + c) ** 2\n",
    "    # rmse grad and hess\n",
    "    grad_rmse = residual\n",
    "    hess_rmse = 1.0\n",
    "    \n",
    "    # mae grad and hess\n",
    "    grad_mae = np.array(residual)\n",
    "    grad_mae[grad_mae > 0] = 1.\n",
    "    grad_mae[grad_mae <= 0] = -1.\n",
    "    hess_mae = 1.0\n",
    "\n",
    "    coef = [0.4, 0.3, 0.3]\n",
    "    return coef[0] * grad + coef[1] * grad_rmse + coef[2] * grad_mae, \\\n",
    "        coef[0] * hess + coef[1] * hess_rmse + coef[2] * hess_mae\n",
    "\n",
    "\n",
    "from flaml.model import LGBMEstimator\n",
    "\n",
    "''' create a customized LightGBM learner class with your objective function '''\n",
    "class MyLGBM(LGBMEstimator):\n",
    "    '''LGBMEstimator with my_loss_obj as the objective function\n",
    "    '''\n",
    "\n",
    "    def __init__(self, **params):\n",
    "        super().__init__(objective=my_loss_obj, **params)"
   ],
   "outputs": [],
   "metadata": {}
  },
  {
   "cell_type": "markdown",
   "source": [
    "### Add the customized learner in FLAML"
   ],
   "metadata": {}
  },
  {
   "cell_type": "code",
   "execution_count": 22,
   "source": [
    "automl = AutoML()\n",
    "automl.add_learner(learner_name='my_lgbm', learner_class=MyLGBM)\n",
    "settings = {\n",
    "    \"time_budget\": 150,  # total running time in seconds\n",
    "    \"metric\": 'r2',  # primary metrics for regression can be chosen from: ['mae','mse','r2']\n",
    "    \"estimator_list\": ['my_lgbm',],  # list of ML learners; we tune lightgbm in this example\n",
    "    \"task\": 'regression',  # task type    \n",
    "    \"log_file_name\": 'houses_experiment_my_lgbm.log',  # flaml log file\n",
    "}\n",
    "automl.fit(X_train=X_train, y_train=y_train, **settings)"
   ],
   "outputs": [
    {
     "output_type": "stream",
     "name": "stderr",
     "text": [
      "[flaml.automl: 08-22 21:19:04] {1130} INFO - Evaluation method: cv\n",
      "[flaml.automl: 08-22 21:19:04] {634} INFO - Using RepeatedKFold\n",
      "[flaml.automl: 08-22 21:19:04] {1155} INFO - Minimizing error metric: 1-r2\n",
      "[flaml.automl: 08-22 21:19:04] {1175} INFO - List of ML learners in AutoML Run: ['my_lgbm']\n",
      "[flaml.automl: 08-22 21:19:04] {1358} INFO - iteration 0, current learner my_lgbm\n",
      "[flaml.automl: 08-22 21:19:04] {1515} INFO -  at 0.2s,\tbest my_lgbm's error=2.9888,\tbest my_lgbm's error=2.9888\n",
      "[flaml.automl: 08-22 21:19:04] {1358} INFO - iteration 1, current learner my_lgbm\n",
      "[flaml.automl: 08-22 21:19:04] {1515} INFO -  at 0.3s,\tbest my_lgbm's error=2.9888,\tbest my_lgbm's error=2.9888\n",
      "[flaml.automl: 08-22 21:19:04] {1358} INFO - iteration 2, current learner my_lgbm\n",
      "[flaml.automl: 08-22 21:19:04] {1515} INFO -  at 0.5s,\tbest my_lgbm's error=1.7087,\tbest my_lgbm's error=1.7087\n",
      "[flaml.automl: 08-22 21:19:04] {1358} INFO - iteration 3, current learner my_lgbm\n",
      "[flaml.automl: 08-22 21:19:05] {1515} INFO -  at 0.6s,\tbest my_lgbm's error=0.3465,\tbest my_lgbm's error=0.3465\n",
      "[flaml.automl: 08-22 21:19:05] {1358} INFO - iteration 4, current learner my_lgbm\n",
      "[flaml.automl: 08-22 21:19:05] {1515} INFO -  at 0.8s,\tbest my_lgbm's error=0.3465,\tbest my_lgbm's error=0.3465\n",
      "[flaml.automl: 08-22 21:19:05] {1358} INFO - iteration 5, current learner my_lgbm\n",
      "[flaml.automl: 08-22 21:19:05] {1515} INFO -  at 1.0s,\tbest my_lgbm's error=0.3005,\tbest my_lgbm's error=0.3005\n",
      "[flaml.automl: 08-22 21:19:05] {1358} INFO - iteration 6, current learner my_lgbm\n",
      "[flaml.automl: 08-22 21:19:05] {1515} INFO -  at 1.2s,\tbest my_lgbm's error=0.3005,\tbest my_lgbm's error=0.3005\n",
      "[flaml.automl: 08-22 21:19:05] {1358} INFO - iteration 7, current learner my_lgbm\n",
      "[flaml.automl: 08-22 21:19:05] {1515} INFO -  at 1.3s,\tbest my_lgbm's error=0.3005,\tbest my_lgbm's error=0.3005\n",
      "[flaml.automl: 08-22 21:19:05] {1358} INFO - iteration 8, current learner my_lgbm\n",
      "[flaml.automl: 08-22 21:19:06] {1515} INFO -  at 1.6s,\tbest my_lgbm's error=0.2709,\tbest my_lgbm's error=0.2709\n",
      "[flaml.automl: 08-22 21:19:06] {1358} INFO - iteration 9, current learner my_lgbm\n",
      "[flaml.automl: 08-22 21:19:06] {1515} INFO -  at 1.8s,\tbest my_lgbm's error=0.2709,\tbest my_lgbm's error=0.2709\n",
      "[flaml.automl: 08-22 21:19:06] {1358} INFO - iteration 10, current learner my_lgbm\n",
      "[flaml.automl: 08-22 21:19:07] {1515} INFO -  at 2.8s,\tbest my_lgbm's error=0.1852,\tbest my_lgbm's error=0.1852\n",
      "[flaml.automl: 08-22 21:19:07] {1358} INFO - iteration 11, current learner my_lgbm\n",
      "[flaml.automl: 08-22 21:19:08] {1515} INFO -  at 3.9s,\tbest my_lgbm's error=0.1852,\tbest my_lgbm's error=0.1852\n",
      "[flaml.automl: 08-22 21:19:08] {1358} INFO - iteration 12, current learner my_lgbm\n",
      "[flaml.automl: 08-22 21:19:09] {1515} INFO -  at 4.7s,\tbest my_lgbm's error=0.1852,\tbest my_lgbm's error=0.1852\n",
      "[flaml.automl: 08-22 21:19:09] {1358} INFO - iteration 13, current learner my_lgbm\n",
      "[flaml.automl: 08-22 21:19:10] {1515} INFO -  at 5.7s,\tbest my_lgbm's error=0.1852,\tbest my_lgbm's error=0.1852\n",
      "[flaml.automl: 08-22 21:19:10] {1358} INFO - iteration 14, current learner my_lgbm\n",
      "[flaml.automl: 08-22 21:19:11] {1515} INFO -  at 6.8s,\tbest my_lgbm's error=0.1852,\tbest my_lgbm's error=0.1852\n",
      "[flaml.automl: 08-22 21:19:11] {1358} INFO - iteration 15, current learner my_lgbm\n",
      "[flaml.automl: 08-22 21:19:12] {1515} INFO -  at 8.1s,\tbest my_lgbm's error=0.1804,\tbest my_lgbm's error=0.1804\n",
      "[flaml.automl: 08-22 21:19:12] {1358} INFO - iteration 16, current learner my_lgbm\n",
      "[flaml.automl: 08-22 21:19:13] {1515} INFO -  at 9.0s,\tbest my_lgbm's error=0.1804,\tbest my_lgbm's error=0.1804\n",
      "[flaml.automl: 08-22 21:19:13] {1358} INFO - iteration 17, current learner my_lgbm\n",
      "[flaml.automl: 08-22 21:19:17] {1515} INFO -  at 12.9s,\tbest my_lgbm's error=0.1777,\tbest my_lgbm's error=0.1777\n",
      "[flaml.automl: 08-22 21:19:17] {1358} INFO - iteration 18, current learner my_lgbm\n",
      "[flaml.automl: 08-22 21:19:18] {1515} INFO -  at 14.3s,\tbest my_lgbm's error=0.1777,\tbest my_lgbm's error=0.1777\n",
      "[flaml.automl: 08-22 21:19:18] {1358} INFO - iteration 19, current learner my_lgbm\n",
      "[flaml.automl: 08-22 21:19:20] {1515} INFO -  at 15.7s,\tbest my_lgbm's error=0.1777,\tbest my_lgbm's error=0.1777\n",
      "[flaml.automl: 08-22 21:19:20] {1358} INFO - iteration 20, current learner my_lgbm\n",
      "[flaml.automl: 08-22 21:19:28] {1515} INFO -  at 24.1s,\tbest my_lgbm's error=0.1777,\tbest my_lgbm's error=0.1777\n",
      "[flaml.automl: 08-22 21:19:28] {1358} INFO - iteration 21, current learner my_lgbm\n",
      "[flaml.automl: 08-22 21:19:32] {1515} INFO -  at 27.9s,\tbest my_lgbm's error=0.1777,\tbest my_lgbm's error=0.1777\n",
      "[flaml.automl: 08-22 21:19:32] {1358} INFO - iteration 22, current learner my_lgbm\n",
      "[flaml.automl: 08-22 21:19:34] {1515} INFO -  at 30.4s,\tbest my_lgbm's error=0.1715,\tbest my_lgbm's error=0.1715\n",
      "[flaml.automl: 08-22 21:19:34] {1358} INFO - iteration 23, current learner my_lgbm\n",
      "[flaml.automl: 08-22 21:19:36] {1515} INFO -  at 32.4s,\tbest my_lgbm's error=0.1715,\tbest my_lgbm's error=0.1715\n",
      "[flaml.automl: 08-22 21:19:36] {1358} INFO - iteration 24, current learner my_lgbm\n",
      "[flaml.automl: 08-22 21:19:41] {1515} INFO -  at 36.9s,\tbest my_lgbm's error=0.1715,\tbest my_lgbm's error=0.1715\n",
      "[flaml.automl: 08-22 21:19:41] {1358} INFO - iteration 25, current learner my_lgbm\n",
      "[flaml.automl: 08-22 21:19:51] {1515} INFO -  at 47.4s,\tbest my_lgbm's error=0.1715,\tbest my_lgbm's error=0.1715\n",
      "[flaml.automl: 08-22 21:19:51] {1358} INFO - iteration 26, current learner my_lgbm\n",
      "[flaml.automl: 08-22 21:19:52] {1515} INFO -  at 48.3s,\tbest my_lgbm's error=0.1715,\tbest my_lgbm's error=0.1715\n",
      "[flaml.automl: 08-22 21:19:52] {1358} INFO - iteration 27, current learner my_lgbm\n",
      "[flaml.automl: 08-22 21:19:59] {1515} INFO -  at 55.1s,\tbest my_lgbm's error=0.1715,\tbest my_lgbm's error=0.1715\n",
      "[flaml.automl: 08-22 21:19:59] {1358} INFO - iteration 28, current learner my_lgbm\n",
      "[flaml.automl: 08-22 21:20:00] {1515} INFO -  at 56.3s,\tbest my_lgbm's error=0.1715,\tbest my_lgbm's error=0.1715\n",
      "[flaml.automl: 08-22 21:20:00] {1358} INFO - iteration 29, current learner my_lgbm\n",
      "[flaml.automl: 08-22 21:20:01] {1515} INFO -  at 57.0s,\tbest my_lgbm's error=0.1715,\tbest my_lgbm's error=0.1715\n",
      "[flaml.automl: 08-22 21:20:01] {1358} INFO - iteration 30, current learner my_lgbm\n",
      "[flaml.automl: 08-22 21:20:16] {1515} INFO -  at 72.2s,\tbest my_lgbm's error=0.1715,\tbest my_lgbm's error=0.1715\n",
      "[flaml.automl: 08-22 21:20:16] {1358} INFO - iteration 31, current learner my_lgbm\n",
      "[flaml.automl: 08-22 21:20:18] {1515} INFO -  at 74.1s,\tbest my_lgbm's error=0.1715,\tbest my_lgbm's error=0.1715\n",
      "[flaml.automl: 08-22 21:20:18] {1358} INFO - iteration 32, current learner my_lgbm\n",
      "[flaml.automl: 08-22 21:20:22] {1515} INFO -  at 78.3s,\tbest my_lgbm's error=0.1669,\tbest my_lgbm's error=0.1669\n",
      "[flaml.automl: 08-22 21:20:22] {1358} INFO - iteration 33, current learner my_lgbm\n",
      "[flaml.automl: 08-22 21:20:26] {1515} INFO -  at 82.0s,\tbest my_lgbm's error=0.1669,\tbest my_lgbm's error=0.1669\n",
      "[flaml.automl: 08-22 21:20:26] {1358} INFO - iteration 34, current learner my_lgbm\n",
      "[flaml.automl: 08-22 21:20:29] {1515} INFO -  at 84.6s,\tbest my_lgbm's error=0.1669,\tbest my_lgbm's error=0.1669\n",
      "[flaml.automl: 08-22 21:20:29] {1358} INFO - iteration 35, current learner my_lgbm\n",
      "[flaml.automl: 08-22 21:20:46] {1515} INFO -  at 101.8s,\tbest my_lgbm's error=0.1669,\tbest my_lgbm's error=0.1669\n",
      "[flaml.automl: 08-22 21:20:46] {1358} INFO - iteration 36, current learner my_lgbm\n",
      "[flaml.automl: 08-22 21:20:47] {1515} INFO -  at 102.9s,\tbest my_lgbm's error=0.1669,\tbest my_lgbm's error=0.1669\n",
      "[flaml.automl: 08-22 21:20:47] {1358} INFO - iteration 37, current learner my_lgbm\n",
      "[flaml.automl: 08-22 21:20:55] {1515} INFO -  at 111.2s,\tbest my_lgbm's error=0.1597,\tbest my_lgbm's error=0.1597\n",
      "[flaml.automl: 08-22 21:20:55] {1358} INFO - iteration 38, current learner my_lgbm\n",
      "[flaml.automl: 08-22 21:20:58] {1515} INFO -  at 114.5s,\tbest my_lgbm's error=0.1597,\tbest my_lgbm's error=0.1597\n",
      "[flaml.automl: 08-22 21:20:58] {1358} INFO - iteration 39, current learner my_lgbm\n",
      "[flaml.automl: 08-22 21:21:37] {1515} INFO -  at 153.5s,\tbest my_lgbm's error=0.1597,\tbest my_lgbm's error=0.1597\n",
      "[flaml.automl: 08-22 21:21:37] {1592} INFO - selected model: LGBMRegressor(colsample_bytree=0.8251774147208681,\n",
      "              learning_rate=0.21049408131691624, max_bin=512,\n",
      "              min_child_samples=19, n_estimators=196, num_leaves=195,\n",
      "              objective=<function my_loss_obj at 0x7f85d9922c10>,\n",
      "              reg_alpha=0.0009765625, reg_lambda=0.0117923889609937,\n",
      "              verbose=-1)\n",
      "[flaml.automl: 08-22 21:21:39] {1633} INFO - retrain my_lgbm for 1.6s\n",
      "[flaml.automl: 08-22 21:21:39] {1636} INFO - retrained model: LGBMRegressor(colsample_bytree=0.8251774147208681,\n",
      "              learning_rate=0.21049408131691624, max_bin=512,\n",
      "              min_child_samples=19, n_estimators=196, num_leaves=195,\n",
      "              objective=<function my_loss_obj at 0x7f85d9922c10>,\n",
      "              reg_alpha=0.0009765625, reg_lambda=0.0117923889609937,\n",
      "              verbose=-1)\n",
      "[flaml.automl: 08-22 21:21:39] {1199} INFO - fit succeeded\n",
      "[flaml.automl: 08-22 21:21:39] {1200} INFO - Time taken to find the best model: 111.22549629211426\n",
      "[flaml.automl: 08-22 21:21:39] {1205} WARNING - Time taken to find the best model is 74% of the provided time budget and not all estimators' hyperparameter search converged. Consider increasing the time budget.\n"
     ]
    }
   ],
   "metadata": {
    "tags": []
   }
  },
  {
   "cell_type": "code",
   "execution_count": 23,
   "source": [
    "print('Best hyperparmeter config:', automl.best_config)\n",
    "print('Best r2 on validation data: {0:.4g}'.format(1-automl.best_loss))\n",
    "print('Training duration of best run: {0:.4g} s'.format(automl.best_config_train_time))\n",
    "\n",
    "y_pred = automl.predict(X_test)\n",
    "print('Predicted labels', y_pred)\n",
    "print('True labels', y_test)\n",
    "\n",
    "from flaml.ml import sklearn_metric_loss_score\n",
    "print('r2', '=', 1 - sklearn_metric_loss_score('r2', y_pred, y_test))\n",
    "print('mse', '=', sklearn_metric_loss_score('mse', y_pred, y_test))\n",
    "print('mae', '=', sklearn_metric_loss_score('mae', y_pred, y_test))"
   ],
   "outputs": [
    {
     "output_type": "stream",
     "name": "stdout",
     "text": [
      "Best hyperparmeter config: {'n_estimators': 196, 'num_leaves': 195, 'min_child_samples': 19, 'learning_rate': 0.21049408131691624, 'log_max_bin': 10, 'colsample_bytree': 0.8251774147208681, 'reg_alpha': 0.0009765625, 'reg_lambda': 0.0117923889609937}\n",
      "Best r2 on validation data: 0.8403\n",
      "Training duration of best run: 8.28 s\n",
      "Predicted labels [137336.50894266 249721.8950541  155077.11127769 ... 191822.32898046\n",
      " 197332.92376977 286448.29599298]\n",
      "True labels 14740    136900.0\n",
      "10101    241300.0\n",
      "20566    200700.0\n",
      "2670      72500.0\n",
      "15709    460000.0\n",
      "           ...   \n",
      "13132    121200.0\n",
      "8228     137500.0\n",
      "3948     160900.0\n",
      "8522     227300.0\n",
      "16798    265600.0\n",
      "Name: median_house_value, Length: 5160, dtype: float64\n",
      "r2 = 0.8498843855121221\n",
      "mse = 1984304232.0760334\n",
      "mae = 29465.919207148785\n"
     ]
    }
   ],
   "metadata": {
    "tags": []
   }
  }
 ],
 "metadata": {
  "interpreter": {
   "hash": "ea9f131eb1b7663628f6445553ba215a834e2f0b4d18774746f0f47938ce4671"
  },
  "kernelspec": {
   "name": "python3",
   "display_name": "Python 3.8.0 64-bit ('blend': conda)"
  },
  "language_info": {
   "name": "python",
   "version": "3.8.0",
   "mimetype": "text/x-python",
   "codemirror_mode": {
    "name": "ipython",
    "version": 3
   },
   "pygments_lexer": "ipython3",
   "nbconvert_exporter": "python",
   "file_extension": ".py"
  }
 },
 "nbformat": 4,
 "nbformat_minor": 2
}