{
 "cells": [
  {
   "cell_type": "markdown",
   "metadata": {
    "slideshow": {
     "slide_type": "slide"
    }
   },
   "source": [
    "Copyright (c) 2020-2021 Microsoft Corporation. All rights reserved. \n",
    "\n",
    "Licensed under the MIT License.\n",
    "\n",
    "# Tune LightGBM with FLAML Library\n",
    "\n",
    "\n",
    "## 1. Introduction\n",
    "\n",
    "FLAML is a Python library (https://github.com/microsoft/FLAML) designed to automatically produce accurate machine learning models \n",
    "with low computational cost. It is fast and cheap. The simple and lightweight design makes it easy \n",
    "to use and extend, such as adding new learners. FLAML can \n",
    "- serve as an economical AutoML engine,\n",
    "- be used as a fast hyperparameter tuning tool, or \n",
    "- be embedded in self-tuning software that requires low latency & resource in repetitive\n",
    "   tuning tasks.\n",
    "\n",
    "In this notebook, we demonstrate how to use FLAML library to tune hyperparameters of LightGBM with a regression example.\n",
    "\n",
    "FLAML requires `Python>=3.6`. To run this notebook example, please install flaml with the `notebook` option:\n",
    "```bash\n",
    "pip install flaml[notebook]\n",
    "```"
   ]
  },
  {
   "cell_type": "code",
   "execution_count": null,
   "metadata": {},
   "outputs": [],
   "source": [
    "!pip install flaml[notebook];"
   ]
  },
  {
   "cell_type": "markdown",
   "metadata": {
    "slideshow": {
     "slide_type": "slide"
    }
   },
   "source": [
    "## 2. Regression Example\n",
    "### Load data and preprocess\n",
    "\n",
    "Download [houses dataset](https://www.openml.org/d/537) from OpenML. The task is to predict median price of the house in the region based on demographic composition and a state of housing market in the region."
   ]
  },
  {
   "cell_type": "code",
   "execution_count": 5,
   "metadata": {
    "slideshow": {
     "slide_type": "subslide"
    },
    "tags": []
   },
   "outputs": [
    {
     "output_type": "stream",
     "name": "stdout",
     "text": [
      "load dataset from ./openml_ds537.pkl\nDataset name: houses\nX_train.shape: (15480, 8), y_train.shape: (15480,);\nX_test.shape: (5160, 8), y_test.shape: (5160,)\n"
     ]
    }
   ],
   "source": [
    "from flaml.data import load_openml_dataset\n",
    "X_train, X_test, y_train, y_test = load_openml_dataset(dataset_id = 537, data_dir = './')"
   ]
  },
  {
   "cell_type": "markdown",
   "metadata": {
    "slideshow": {
     "slide_type": "slide"
    }
   },
   "source": [
    "### Run FLAML\n",
    "In the FLAML automl run configuration, users can specify the task type, time budget, error metric, learner list, whether to subsample, resampling strategy type, and so on. All these arguments have default values which will be used if users do not provide them. "
   ]
  },
  {
   "cell_type": "code",
   "execution_count": 6,
   "metadata": {
    "slideshow": {
     "slide_type": "slide"
    }
   },
   "outputs": [],
   "source": [
    "''' import AutoML class from flaml package '''\n",
    "from flaml import AutoML\n",
    "automl = AutoML()"
   ]
  },
  {
   "cell_type": "code",
   "execution_count": 7,
   "metadata": {
    "slideshow": {
     "slide_type": "slide"
    }
   },
   "outputs": [],
   "source": [
    "settings = {\n",
    "    \"time_budget\": 120, # total running time in seconds\n",
    "    \"metric\": 'r2', # primary metrics for regression can be chosen from: ['mae','mse','r2']\n",
    "    \"estimator_list\": ['lgbm'], # list of ML learners; we tune lightgbm in this example\n",
    "    \"task\": 'regression', # task type    \n",
    "    \"log_file_name\": 'houses_experiment.log', # flaml log file\n",
    "}"
   ]
  },
  {
   "cell_type": "code",
   "execution_count": 8,
   "metadata": {
    "slideshow": {
     "slide_type": "slide"
    },
    "tags": []
   },
   "outputs": [
    {
     "output_type": "stream",
     "name": "stderr",
     "text": [
      "[flaml.automl: 02-22 14:37:41] {844} INFO - Evaluation method: cv\n",
      "[flaml.automl: 02-22 14:37:41] {573} INFO - Using RepeatedKFold\n",
      "[flaml.automl: 02-22 14:37:41] {865} INFO - Minimizing error metric: 1-r2\n",
      "[flaml.automl: 02-22 14:37:41] {885} INFO - List of ML learners in AutoML Run: ['lgbm']\n",
      "[flaml.automl: 02-22 14:37:41] {944} INFO - iteration 0  current learner lgbm\n",
      "[flaml.automl: 02-22 14:37:41] {1098} INFO -  at 0.2s,\tbest lgbm's error=0.7383,\tbest lgbm's error=0.7383\n",
      "[flaml.automl: 02-22 14:37:41] {944} INFO - iteration 1  current learner lgbm\n",
      "[flaml.automl: 02-22 14:37:41] {1098} INFO -  at 0.3s,\tbest lgbm's error=0.7383,\tbest lgbm's error=0.7383\n",
      "[flaml.automl: 02-22 14:37:41] {944} INFO - iteration 2  current learner lgbm\n",
      "[flaml.automl: 02-22 14:37:41] {1098} INFO -  at 0.4s,\tbest lgbm's error=0.4578,\tbest lgbm's error=0.4578\n",
      "[flaml.automl: 02-22 14:37:41] {944} INFO - iteration 3  current learner lgbm\n",
      "[flaml.automl: 02-22 14:37:41] {1098} INFO -  at 0.5s,\tbest lgbm's error=0.4578,\tbest lgbm's error=0.4578\n",
      "[flaml.automl: 02-22 14:37:41] {944} INFO - iteration 4  current learner lgbm\n",
      "[flaml.automl: 02-22 14:37:42] {1098} INFO -  at 0.9s,\tbest lgbm's error=0.2637,\tbest lgbm's error=0.2637\n",
      "[flaml.automl: 02-22 14:37:42] {944} INFO - iteration 5  current learner lgbm\n",
      "[flaml.automl: 02-22 14:37:42] {1098} INFO -  at 1.2s,\tbest lgbm's error=0.2284,\tbest lgbm's error=0.2284\n",
      "[flaml.automl: 02-22 14:37:42] {944} INFO - iteration 6  current learner lgbm\n",
      "[flaml.automl: 02-22 14:37:42] {1098} INFO -  at 1.3s,\tbest lgbm's error=0.2284,\tbest lgbm's error=0.2284\n",
      "[flaml.automl: 02-22 14:37:42] {944} INFO - iteration 7  current learner lgbm\n",
      "[flaml.automl: 02-22 14:37:42] {1098} INFO -  at 1.6s,\tbest lgbm's error=0.2284,\tbest lgbm's error=0.2284\n",
      "[flaml.automl: 02-22 14:37:42] {944} INFO - iteration 8  current learner lgbm\n",
      "[flaml.automl: 02-22 14:37:42] {1098} INFO -  at 1.8s,\tbest lgbm's error=0.2284,\tbest lgbm's error=0.2284\n",
      "[flaml.automl: 02-22 14:37:42] {944} INFO - iteration 9  current learner lgbm\n",
      "[flaml.automl: 02-22 14:37:43] {1098} INFO -  at 1.9s,\tbest lgbm's error=0.2284,\tbest lgbm's error=0.2284\n",
      "[flaml.automl: 02-22 14:37:43] {944} INFO - iteration 10  current learner lgbm\n",
      "[flaml.automl: 02-22 14:37:43] {1098} INFO -  at 2.1s,\tbest lgbm's error=0.2284,\tbest lgbm's error=0.2284\n",
      "[flaml.automl: 02-22 14:37:43] {944} INFO - iteration 11  current learner lgbm\n",
      "[flaml.automl: 02-22 14:37:43] {1098} INFO -  at 2.6s,\tbest lgbm's error=0.2262,\tbest lgbm's error=0.2262\n",
      "[flaml.automl: 02-22 14:37:43] {944} INFO - iteration 12  current learner lgbm\n",
      "[flaml.automl: 02-22 14:37:44] {1098} INFO -  at 3.7s,\tbest lgbm's error=0.2009,\tbest lgbm's error=0.2009\n",
      "[flaml.automl: 02-22 14:37:44] {944} INFO - iteration 13  current learner lgbm\n",
      "[flaml.automl: 02-22 14:37:45] {1098} INFO -  at 3.9s,\tbest lgbm's error=0.2009,\tbest lgbm's error=0.2009\n",
      "[flaml.automl: 02-22 14:37:45] {944} INFO - iteration 14  current learner lgbm\n",
      "[flaml.automl: 02-22 14:37:47] {1098} INFO -  at 6.0s,\tbest lgbm's error=0.1854,\tbest lgbm's error=0.1854\n",
      "[flaml.automl: 02-22 14:37:47] {944} INFO - iteration 15  current learner lgbm\n",
      "[flaml.automl: 02-22 14:37:48] {1098} INFO -  at 7.0s,\tbest lgbm's error=0.1854,\tbest lgbm's error=0.1854\n",
      "[flaml.automl: 02-22 14:37:48] {944} INFO - iteration 16  current learner lgbm\n",
      "[flaml.automl: 02-22 14:37:59] {1098} INFO -  at 18.0s,\tbest lgbm's error=0.1761,\tbest lgbm's error=0.1761\n",
      "[flaml.automl: 02-22 14:37:59] {944} INFO - iteration 17  current learner lgbm\n",
      "[flaml.automl: 02-22 14:38:35] {1098} INFO -  at 53.9s,\tbest lgbm's error=0.1725,\tbest lgbm's error=0.1725\n",
      "[flaml.automl: 02-22 14:38:35] {944} INFO - iteration 18  current learner lgbm\n",
      "[flaml.automl: 02-22 14:39:10] {1098} INFO -  at 88.9s,\tbest lgbm's error=0.1725,\tbest lgbm's error=0.1725\n",
      "[flaml.automl: 02-22 14:39:10] {944} INFO - iteration 19  current learner lgbm\n",
      "[flaml.automl: 02-22 14:39:14] {1098} INFO -  at 92.9s,\tbest lgbm's error=0.1725,\tbest lgbm's error=0.1725\n",
      "[flaml.automl: 02-22 14:39:14] {944} INFO - iteration 20  current learner lgbm\n",
      "[flaml.automl: 02-22 14:39:31] {1098} INFO -  at 110.7s,\tbest lgbm's error=0.1563,\tbest lgbm's error=0.1563\n",
      "[flaml.automl: 02-22 14:39:31] {1139} INFO - selected model: LGBMRegressor(colsample_bytree=0.9046814915274195,\n",
      "              learning_rate=0.025065630491840726, max_bin=255,\n",
      "              min_child_weight=20.0, n_estimators=451, num_leaves=113,\n",
      "              objective='regression', reg_alpha=8.352751749829367e-10,\n",
      "              reg_lambda=0.13991138691596908)\n",
      "[flaml.automl: 02-22 14:39:31] {899} INFO - fit succeeded\n"
     ]
    }
   ],
   "source": [
    "'''The main flaml automl API'''\n",
    "automl.fit(X_train = X_train, y_train = y_train, **settings)"
   ]
  },
  {
   "cell_type": "markdown",
   "metadata": {
    "slideshow": {
     "slide_type": "slide"
    }
   },
   "source": [
    "### Best model and metric"
   ]
  },
  {
   "cell_type": "code",
   "execution_count": 9,
   "metadata": {
    "slideshow": {
     "slide_type": "slide"
    },
    "tags": []
   },
   "outputs": [
    {
     "output_type": "stream",
     "name": "stdout",
     "text": [
      "Best hyperparmeter config: {'n_estimators': 451.0, 'max_leaves': 113.0, 'min_child_weight': 20.0, 'learning_rate': 0.025065630491840726, 'subsample': 1.0, 'log_max_bin': 8.0, 'colsample_bytree': 0.9046814915274195, 'reg_alpha': 8.352751749829367e-10, 'reg_lambda': 0.13991138691596908}\nBest r2 on validation data: 0.8437\nTraining duration of best run: 17.86 s\n"
     ]
    }
   ],
   "source": [
    "''' retrieve best config'''\n",
    "print('Best hyperparmeter config:', automl.best_config)\n",
    "print('Best r2 on validation data: {0:.4g}'.format(1-automl.best_loss))\n",
    "print('Training duration of best run: {0:.4g} s'.format(automl.best_config_train_time))"
   ]
  },
  {
   "cell_type": "code",
   "execution_count": 10,
   "metadata": {
    "slideshow": {
     "slide_type": "slide"
    }
   },
   "outputs": [
    {
     "output_type": "execute_result",
     "data": {
      "text/plain": [
       "LGBMRegressor(colsample_bytree=0.9046814915274195,\n",
       "              learning_rate=0.025065630491840726, max_bin=255,\n",
       "              min_child_weight=20.0, n_estimators=451, num_leaves=113,\n",
       "              objective='regression', reg_alpha=8.352751749829367e-10,\n",
       "              reg_lambda=0.13991138691596908)"
      ]
     },
     "metadata": {},
     "execution_count": 10
    }
   ],
   "source": [
    "automl.model"
   ]
  },
  {
   "cell_type": "code",
   "execution_count": 11,
   "metadata": {
    "slideshow": {
     "slide_type": "slide"
    }
   },
   "outputs": [],
   "source": [
    "''' pickle and save the best model '''\n",
    "import pickle\n",
    "with open('best_model.pkl', 'wb') as f:\n",
    "    pickle.dump(automl.model, f, pickle.HIGHEST_PROTOCOL)"
   ]
  },
  {
   "cell_type": "code",
   "execution_count": 12,
   "metadata": {
    "slideshow": {
     "slide_type": "slide"
    },
    "tags": []
   },
   "outputs": [
    {
     "output_type": "stream",
     "name": "stdout",
     "text": [
      "Predicted labels [147056.672508   246591.18821626 155253.69332074 ... 196516.76693923\n 235571.37776252 270133.77185961]\nTrue labels [136900. 241300. 200700. ... 160900. 227300. 265600.]\n"
     ]
    }
   ],
   "source": [
    "''' compute predictions of testing dataset ''' \n",
    "y_pred = automl.predict(X_test)\n",
    "print('Predicted labels', y_pred)\n",
    "print('True labels', y_test)"
   ]
  },
  {
   "cell_type": "code",
   "execution_count": 13,
   "metadata": {
    "slideshow": {
     "slide_type": "slide"
    },
    "tags": []
   },
   "outputs": [
    {
     "output_type": "stream",
     "name": "stdout",
     "text": [
      "r2 = 0.8503723727607084\nmse = 1977853769.4384706\nmae = 29258.487121555943\n"
     ]
    }
   ],
   "source": [
    "''' compute different metric values on testing dataset'''\n",
    "from flaml.ml import sklearn_metric_loss_score\n",
    "print('r2', '=', 1 - sklearn_metric_loss_score('r2', y_pred, y_test))\n",
    "print('mse', '=', sklearn_metric_loss_score('mse', y_pred, y_test))\n",
    "print('mae', '=', sklearn_metric_loss_score('mae', y_pred, y_test))"
   ]
  },
  {
   "cell_type": "code",
   "execution_count": 14,
   "metadata": {
    "slideshow": {
     "slide_type": "subslide"
    },
    "tags": []
   },
   "outputs": [
    {
     "output_type": "stream",
     "name": "stdout",
     "text": [
      "{'Current Learner': 'lgbm', 'Current Sample': 15480, 'Current Hyper-parameters': {'n_estimators': 4, 'max_leaves': 4, 'min_child_weight': 20.0, 'learning_rate': 0.1, 'subsample': 1.0, 'log_max_bin': 8, 'colsample_bytree': 1.0, 'reg_alpha': 1e-10, 'reg_lambda': 1.0}, 'Best Learner': 'lgbm', 'Best Hyper-parameters': {'n_estimators': 4, 'max_leaves': 4, 'min_child_weight': 20.0, 'learning_rate': 0.1, 'subsample': 1.0, 'log_max_bin': 8, 'colsample_bytree': 1.0, 'reg_alpha': 1e-10, 'reg_lambda': 1.0}}\n{'Current Learner': 'lgbm', 'Current Sample': 15480, 'Current Hyper-parameters': {'n_estimators': 4.0, 'max_leaves': 4.0, 'min_child_weight': 20.0, 'learning_rate': 0.46335414315327306, 'subsample': 0.9339389930838808, 'log_max_bin': 10.0, 'colsample_bytree': 0.9904286645657556, 'reg_alpha': 2.841147337412889e-10, 'reg_lambda': 0.12000833497054482}, 'Best Learner': 'lgbm', 'Best Hyper-parameters': {'n_estimators': 4.0, 'max_leaves': 4.0, 'min_child_weight': 20.0, 'learning_rate': 0.46335414315327306, 'subsample': 0.9339389930838808, 'log_max_bin': 10.0, 'colsample_bytree': 0.9904286645657556, 'reg_alpha': 2.841147337412889e-10, 'reg_lambda': 0.12000833497054482}}\n{'Current Learner': 'lgbm', 'Current Sample': 15480, 'Current Hyper-parameters': {'n_estimators': 20.0, 'max_leaves': 4.0, 'min_child_weight': 20.0, 'learning_rate': 1.0, 'subsample': 0.9917683183663918, 'log_max_bin': 10.0, 'colsample_bytree': 0.9858892907525497, 'reg_alpha': 3.8783982645515837e-10, 'reg_lambda': 0.36607431863072826}, 'Best Learner': 'lgbm', 'Best Hyper-parameters': {'n_estimators': 20.0, 'max_leaves': 4.0, 'min_child_weight': 20.0, 'learning_rate': 1.0, 'subsample': 0.9917683183663918, 'log_max_bin': 10.0, 'colsample_bytree': 0.9858892907525497, 'reg_alpha': 3.8783982645515837e-10, 'reg_lambda': 0.36607431863072826}}\n{'Current Learner': 'lgbm', 'Current Sample': 15480, 'Current Hyper-parameters': {'n_estimators': 11.0, 'max_leaves': 15.0, 'min_child_weight': 14.947587304572773, 'learning_rate': 0.6092558236172073, 'subsample': 0.9659256891661986, 'log_max_bin': 10.0, 'colsample_bytree': 1.0, 'reg_alpha': 3.816590663384559e-08, 'reg_lambda': 0.4482946615262561}, 'Best Learner': 'lgbm', 'Best Hyper-parameters': {'n_estimators': 11.0, 'max_leaves': 15.0, 'min_child_weight': 14.947587304572773, 'learning_rate': 0.6092558236172073, 'subsample': 0.9659256891661986, 'log_max_bin': 10.0, 'colsample_bytree': 1.0, 'reg_alpha': 3.816590663384559e-08, 'reg_lambda': 0.4482946615262561}}\n{'Current Learner': 'lgbm', 'Current Sample': 15480, 'Current Hyper-parameters': {'n_estimators': 22.0, 'max_leaves': 44.0, 'min_child_weight': 8.295709769360025, 'learning_rate': 0.8096645680737932, 'subsample': 0.9506809897636022, 'log_max_bin': 9.0, 'colsample_bytree': 0.9671874874371171, 'reg_alpha': 1.7301741960564346e-06, 'reg_lambda': 0.0977230117487556}, 'Best Learner': 'lgbm', 'Best Hyper-parameters': {'n_estimators': 22.0, 'max_leaves': 44.0, 'min_child_weight': 8.295709769360025, 'learning_rate': 0.8096645680737932, 'subsample': 0.9506809897636022, 'log_max_bin': 9.0, 'colsample_bytree': 0.9671874874371171, 'reg_alpha': 1.7301741960564346e-06, 'reg_lambda': 0.0977230117487556}}\n{'Current Learner': 'lgbm', 'Current Sample': 15480, 'Current Hyper-parameters': {'n_estimators': 9.0, 'max_leaves': 245.0, 'min_child_weight': 4.208492943400939, 'learning_rate': 0.26609407333531715, 'subsample': 0.9704154473613615, 'log_max_bin': 10.0, 'colsample_bytree': 1.0, 'reg_alpha': 1.6843847487782941e-09, 'reg_lambda': 1.0}, 'Best Learner': 'lgbm', 'Best Hyper-parameters': {'n_estimators': 9.0, 'max_leaves': 245.0, 'min_child_weight': 4.208492943400939, 'learning_rate': 0.26609407333531715, 'subsample': 0.9704154473613615, 'log_max_bin': 10.0, 'colsample_bytree': 1.0, 'reg_alpha': 1.6843847487782941e-09, 'reg_lambda': 1.0}}\n{'Current Learner': 'lgbm', 'Current Sample': 15480, 'Current Hyper-parameters': {'n_estimators': 25.0, 'max_leaves': 403.0, 'min_child_weight': 5.55091634143324, 'learning_rate': 0.12666913709918798, 'subsample': 1.0, 'log_max_bin': 9.0, 'colsample_bytree': 1.0, 'reg_alpha': 5.406309953251589e-09, 'reg_lambda': 0.8927146483558472}, 'Best Learner': 'lgbm', 'Best Hyper-parameters': {'n_estimators': 25.0, 'max_leaves': 403.0, 'min_child_weight': 5.55091634143324, 'learning_rate': 0.12666913709918798, 'subsample': 1.0, 'log_max_bin': 9.0, 'colsample_bytree': 1.0, 'reg_alpha': 5.406309953251589e-09, 'reg_lambda': 0.8927146483558472}}\n{'Current Learner': 'lgbm', 'Current Sample': 15480, 'Current Hyper-parameters': {'n_estimators': 78.0, 'max_leaves': 2174.0, 'min_child_weight': 13.317463737456045, 'learning_rate': 0.06563935802336449, 'subsample': 1.0, 'log_max_bin': 9.0, 'colsample_bytree': 1.0, 'reg_alpha': 1e-10, 'reg_lambda': 1.0}, 'Best Learner': 'lgbm', 'Best Hyper-parameters': {'n_estimators': 78.0, 'max_leaves': 2174.0, 'min_child_weight': 13.317463737456045, 'learning_rate': 0.06563935802336449, 'subsample': 1.0, 'log_max_bin': 9.0, 'colsample_bytree': 1.0, 'reg_alpha': 1e-10, 'reg_lambda': 1.0}}\n{'Current Learner': 'lgbm', 'Current Sample': 15480, 'Current Hyper-parameters': {'n_estimators': 200.0, 'max_leaves': 373.0, 'min_child_weight': 20.0, 'learning_rate': 0.05367311643039711, 'subsample': 0.9992325198304696, 'log_max_bin': 10.0, 'colsample_bytree': 0.957244844266689, 'reg_alpha': 1.4054731493830395e-08, 'reg_lambda': 1.0}, 'Best Learner': 'lgbm', 'Best Hyper-parameters': {'n_estimators': 200.0, 'max_leaves': 373.0, 'min_child_weight': 20.0, 'learning_rate': 0.05367311643039711, 'subsample': 0.9992325198304696, 'log_max_bin': 10.0, 'colsample_bytree': 0.957244844266689, 'reg_alpha': 1.4054731493830395e-08, 'reg_lambda': 1.0}}\n"
     ]
    }
   ],
   "source": [
    "from flaml.data import get_output_from_log\n",
    "time_history, best_valid_loss_history, valid_loss_history, config_history, train_loss_history = \\\n",
    "    get_output_from_log(filename = settings['log_file_name'], time_budget = 60)\n",
    "\n",
    "for config in config_history:\n",
    "    print(config)"
   ]
  },
  {
   "cell_type": "code",
   "execution_count": 15,
   "metadata": {
    "slideshow": {
     "slide_type": "slide"
    }
   },
   "outputs": [
    {
     "output_type": "display_data",
     "data": {
      "text/plain": "<Figure size 432x288 with 1 Axes>",
      "image/svg+xml": "<?xml version=\"1.0\" encoding=\"utf-8\" standalone=\"no\"?>\r\n<!DOCTYPE svg PUBLIC \"-//W3C//DTD SVG 1.1//EN\"\r\n  \"http://www.w3.org/Graphics/SVG/1.1/DTD/svg11.dtd\">\r\n<!-- Created with matplotlib (https://matplotlib.org/) -->\r\n<svg height=\"277.314375pt\" version=\"1.1\" viewBox=\"0 0 385.78125 277.314375\" width=\"385.78125pt\" xmlns=\"http://www.w3.org/2000/svg\" xmlns:xlink=\"http://www.w3.org/1999/xlink\">\r\n <defs>\r\n  <style type=\"text/css\">\r\n*{stroke-linecap:butt;stroke-linejoin:round;}\r\n  </style>\r\n </defs>\r\n <g id=\"figure_1\">\r\n  <g id=\"patch_1\">\r\n   <path d=\"M 0 277.314375 \r\nL 385.78125 277.314375 \r\nL 385.78125 0 \r\nL 0 0 \r\nz\r\n\" style=\"fill:none;\"/>\r\n  </g>\r\n  <g id=\"axes_1\">\r\n   <g id=\"patch_2\">\r\n    <path d=\"M 43.78125 239.758125 \r\nL 378.58125 239.758125 \r\nL 378.58125 22.318125 \r\nL 43.78125 22.318125 \r\nz\r\n\" style=\"fill:#ffffff;\"/>\r\n   </g>\r\n   <g id=\"PathCollection_1\">\r\n    <defs>\r\n     <path d=\"M 0 3 \r\nC 0.795609 3 1.55874 2.683901 2.12132 2.12132 \r\nC 2.683901 1.55874 3 0.795609 3 0 \r\nC 3 -0.795609 2.683901 -1.55874 2.12132 -2.12132 \r\nC 1.55874 -2.683901 0.795609 -3 0 -3 \r\nC -0.795609 -3 -1.55874 -2.683901 -2.12132 -2.12132 \r\nC -2.683901 -1.55874 -3 -0.795609 -3 0 \r\nC -3 0.795609 -2.683901 1.55874 -2.12132 2.12132 \r\nC -1.55874 2.683901 -0.795609 3 0 3 \r\nz\r\n\" id=\"mc8caa135c5\" style=\"stroke:#1f77b4;\"/>\r\n    </defs>\r\n    <g clip-path=\"url(#p688fc51ca0)\">\r\n     <use style=\"fill:#1f77b4;stroke:#1f77b4;\" x=\"58.999432\" xlink:href=\"#mc8caa135c5\" y=\"229.874489\"/>\r\n     <use style=\"fill:#1f77b4;stroke:#1f77b4;\" x=\"60.539811\" xlink:href=\"#mc8caa135c5\" y=\"131.884705\"/>\r\n     <use style=\"fill:#1f77b4;stroke:#1f77b4;\" x=\"62.969327\" xlink:href=\"#mc8caa135c5\" y=\"64.081953\"/>\r\n     <use style=\"fill:#1f77b4;stroke:#1f77b4;\" x=\"64.852493\" xlink:href=\"#mc8caa135c5\" y=\"51.728855\"/>\r\n     <use style=\"fill:#1f77b4;stroke:#1f77b4;\" x=\"72.89155\" xlink:href=\"#mc8caa135c5\" y=\"50.967974\"/>\r\n     <use style=\"fill:#1f77b4;stroke:#1f77b4;\" x=\"79.013891\" xlink:href=\"#mc8caa135c5\" y=\"42.123928\"/>\r\n     <use style=\"fill:#1f77b4;stroke:#1f77b4;\" x=\"92.017549\" xlink:href=\"#mc8caa135c5\" y=\"36.726087\"/>\r\n     <use style=\"fill:#1f77b4;stroke:#1f77b4;\" x=\"160.160785\" xlink:href=\"#mc8caa135c5\" y=\"33.47822\"/>\r\n     <use style=\"fill:#1f77b4;stroke:#1f77b4;\" x=\"363.363068\" xlink:href=\"#mc8caa135c5\" y=\"32.201761\"/>\r\n    </g>\r\n   </g>\r\n   <g id=\"matplotlib.axis_1\">\r\n    <g id=\"xtick_1\">\r\n     <g id=\"line2d_1\">\r\n      <defs>\r\n       <path d=\"M 0 0 \r\nL 0 3.5 \r\n\" id=\"mf71c50f617\" style=\"stroke:#000000;stroke-width:0.8;\"/>\r\n      </defs>\r\n      <g>\r\n       <use style=\"stroke:#000000;stroke-width:0.8;\" x=\"58.109967\" xlink:href=\"#mf71c50f617\" y=\"239.758125\"/>\r\n      </g>\r\n     </g>\r\n     <g id=\"text_1\">\r\n      <!-- 0 -->\r\n      <defs>\r\n       <path d=\"M 31.78125 66.40625 \r\nQ 24.171875 66.40625 20.328125 58.90625 \r\nQ 16.5 51.421875 16.5 36.375 \r\nQ 16.5 21.390625 20.328125 13.890625 \r\nQ 24.171875 6.390625 31.78125 6.390625 \r\nQ 39.453125 6.390625 43.28125 13.890625 \r\nQ 47.125 21.390625 47.125 36.375 \r\nQ 47.125 51.421875 43.28125 58.90625 \r\nQ 39.453125 66.40625 31.78125 66.40625 \r\nz\r\nM 31.78125 74.21875 \r\nQ 44.046875 74.21875 50.515625 64.515625 \r\nQ 56.984375 54.828125 56.984375 36.375 \r\nQ 56.984375 17.96875 50.515625 8.265625 \r\nQ 44.046875 -1.421875 31.78125 -1.421875 \r\nQ 19.53125 -1.421875 13.0625 8.265625 \r\nQ 6.59375 17.96875 6.59375 36.375 \r\nQ 6.59375 54.828125 13.0625 64.515625 \r\nQ 19.53125 74.21875 31.78125 74.21875 \r\nz\r\n\" id=\"DejaVuSans-48\"/>\r\n      </defs>\r\n      <g transform=\"translate(54.928717 254.356562)scale(0.1 -0.1)\">\r\n       <use xlink:href=\"#DejaVuSans-48\"/>\r\n      </g>\r\n     </g>\r\n    </g>\r\n    <g id=\"xtick_2\">\r\n     <g id=\"line2d_2\">\r\n      <g>\r\n       <use style=\"stroke:#000000;stroke-width:0.8;\" x=\"114.742197\" xlink:href=\"#mf71c50f617\" y=\"239.758125\"/>\r\n      </g>\r\n     </g>\r\n     <g id=\"text_2\">\r\n      <!-- 10 -->\r\n      <defs>\r\n       <path d=\"M 12.40625 8.296875 \r\nL 28.515625 8.296875 \r\nL 28.515625 63.921875 \r\nL 10.984375 60.40625 \r\nL 10.984375 69.390625 \r\nL 28.421875 72.90625 \r\nL 38.28125 72.90625 \r\nL 38.28125 8.296875 \r\nL 54.390625 8.296875 \r\nL 54.390625 0 \r\nL 12.40625 0 \r\nz\r\n\" id=\"DejaVuSans-49\"/>\r\n      </defs>\r\n      <g transform=\"translate(108.379697 254.356562)scale(0.1 -0.1)\">\r\n       <use xlink:href=\"#DejaVuSans-49\"/>\r\n       <use x=\"63.623047\" xlink:href=\"#DejaVuSans-48\"/>\r\n      </g>\r\n     </g>\r\n    </g>\r\n    <g id=\"xtick_3\">\r\n     <g id=\"line2d_3\">\r\n      <g>\r\n       <use style=\"stroke:#000000;stroke-width:0.8;\" x=\"171.374427\" xlink:href=\"#mf71c50f617\" y=\"239.758125\"/>\r\n      </g>\r\n     </g>\r\n     <g id=\"text_3\">\r\n      <!-- 20 -->\r\n      <defs>\r\n       <path d=\"M 19.1875 8.296875 \r\nL 53.609375 8.296875 \r\nL 53.609375 0 \r\nL 7.328125 0 \r\nL 7.328125 8.296875 \r\nQ 12.9375 14.109375 22.625 23.890625 \r\nQ 32.328125 33.6875 34.8125 36.53125 \r\nQ 39.546875 41.84375 41.421875 45.53125 \r\nQ 43.3125 49.21875 43.3125 52.78125 \r\nQ 43.3125 58.59375 39.234375 62.25 \r\nQ 35.15625 65.921875 28.609375 65.921875 \r\nQ 23.96875 65.921875 18.8125 64.3125 \r\nQ 13.671875 62.703125 7.8125 59.421875 \r\nL 7.8125 69.390625 \r\nQ 13.765625 71.78125 18.9375 73 \r\nQ 24.125 74.21875 28.421875 74.21875 \r\nQ 39.75 74.21875 46.484375 68.546875 \r\nQ 53.21875 62.890625 53.21875 53.421875 \r\nQ 53.21875 48.921875 51.53125 44.890625 \r\nQ 49.859375 40.875 45.40625 35.40625 \r\nQ 44.1875 33.984375 37.640625 27.21875 \r\nQ 31.109375 20.453125 19.1875 8.296875 \r\nz\r\n\" id=\"DejaVuSans-50\"/>\r\n      </defs>\r\n      <g transform=\"translate(165.011927 254.356562)scale(0.1 -0.1)\">\r\n       <use xlink:href=\"#DejaVuSans-50\"/>\r\n       <use x=\"63.623047\" xlink:href=\"#DejaVuSans-48\"/>\r\n      </g>\r\n     </g>\r\n    </g>\r\n    <g id=\"xtick_4\">\r\n     <g id=\"line2d_4\">\r\n      <g>\r\n       <use style=\"stroke:#000000;stroke-width:0.8;\" x=\"228.006657\" xlink:href=\"#mf71c50f617\" y=\"239.758125\"/>\r\n      </g>\r\n     </g>\r\n     <g id=\"text_4\">\r\n      <!-- 30 -->\r\n      <defs>\r\n       <path d=\"M 40.578125 39.3125 \r\nQ 47.65625 37.796875 51.625 33 \r\nQ 55.609375 28.21875 55.609375 21.1875 \r\nQ 55.609375 10.40625 48.1875 4.484375 \r\nQ 40.765625 -1.421875 27.09375 -1.421875 \r\nQ 22.515625 -1.421875 17.65625 -0.515625 \r\nQ 12.796875 0.390625 7.625 2.203125 \r\nL 7.625 11.71875 \r\nQ 11.71875 9.328125 16.59375 8.109375 \r\nQ 21.484375 6.890625 26.8125 6.890625 \r\nQ 36.078125 6.890625 40.9375 10.546875 \r\nQ 45.796875 14.203125 45.796875 21.1875 \r\nQ 45.796875 27.640625 41.28125 31.265625 \r\nQ 36.765625 34.90625 28.71875 34.90625 \r\nL 20.21875 34.90625 \r\nL 20.21875 43.015625 \r\nL 29.109375 43.015625 \r\nQ 36.375 43.015625 40.234375 45.921875 \r\nQ 44.09375 48.828125 44.09375 54.296875 \r\nQ 44.09375 59.90625 40.109375 62.90625 \r\nQ 36.140625 65.921875 28.71875 65.921875 \r\nQ 24.65625 65.921875 20.015625 65.03125 \r\nQ 15.375 64.15625 9.8125 62.3125 \r\nL 9.8125 71.09375 \r\nQ 15.4375 72.65625 20.34375 73.4375 \r\nQ 25.25 74.21875 29.59375 74.21875 \r\nQ 40.828125 74.21875 47.359375 69.109375 \r\nQ 53.90625 64.015625 53.90625 55.328125 \r\nQ 53.90625 49.265625 50.4375 45.09375 \r\nQ 46.96875 40.921875 40.578125 39.3125 \r\nz\r\n\" id=\"DejaVuSans-51\"/>\r\n      </defs>\r\n      <g transform=\"translate(221.644157 254.356562)scale(0.1 -0.1)\">\r\n       <use xlink:href=\"#DejaVuSans-51\"/>\r\n       <use x=\"63.623047\" xlink:href=\"#DejaVuSans-48\"/>\r\n      </g>\r\n     </g>\r\n    </g>\r\n    <g id=\"xtick_5\">\r\n     <g id=\"line2d_5\">\r\n      <g>\r\n       <use style=\"stroke:#000000;stroke-width:0.8;\" x=\"284.638887\" xlink:href=\"#mf71c50f617\" y=\"239.758125\"/>\r\n      </g>\r\n     </g>\r\n     <g id=\"text_5\">\r\n      <!-- 40 -->\r\n      <defs>\r\n       <path d=\"M 37.796875 64.3125 \r\nL 12.890625 25.390625 \r\nL 37.796875 25.390625 \r\nz\r\nM 35.203125 72.90625 \r\nL 47.609375 72.90625 \r\nL 47.609375 25.390625 \r\nL 58.015625 25.390625 \r\nL 58.015625 17.1875 \r\nL 47.609375 17.1875 \r\nL 47.609375 0 \r\nL 37.796875 0 \r\nL 37.796875 17.1875 \r\nL 4.890625 17.1875 \r\nL 4.890625 26.703125 \r\nz\r\n\" id=\"DejaVuSans-52\"/>\r\n      </defs>\r\n      <g transform=\"translate(278.276387 254.356562)scale(0.1 -0.1)\">\r\n       <use xlink:href=\"#DejaVuSans-52\"/>\r\n       <use x=\"63.623047\" xlink:href=\"#DejaVuSans-48\"/>\r\n      </g>\r\n     </g>\r\n    </g>\r\n    <g id=\"xtick_6\">\r\n     <g id=\"line2d_6\">\r\n      <g>\r\n       <use style=\"stroke:#000000;stroke-width:0.8;\" x=\"341.271117\" xlink:href=\"#mf71c50f617\" y=\"239.758125\"/>\r\n      </g>\r\n     </g>\r\n     <g id=\"text_6\">\r\n      <!-- 50 -->\r\n      <defs>\r\n       <path d=\"M 10.796875 72.90625 \r\nL 49.515625 72.90625 \r\nL 49.515625 64.59375 \r\nL 19.828125 64.59375 \r\nL 19.828125 46.734375 \r\nQ 21.96875 47.46875 24.109375 47.828125 \r\nQ 26.265625 48.1875 28.421875 48.1875 \r\nQ 40.625 48.1875 47.75 41.5 \r\nQ 54.890625 34.8125 54.890625 23.390625 \r\nQ 54.890625 11.625 47.5625 5.09375 \r\nQ 40.234375 -1.421875 26.90625 -1.421875 \r\nQ 22.3125 -1.421875 17.546875 -0.640625 \r\nQ 12.796875 0.140625 7.71875 1.703125 \r\nL 7.71875 11.625 \r\nQ 12.109375 9.234375 16.796875 8.0625 \r\nQ 21.484375 6.890625 26.703125 6.890625 \r\nQ 35.15625 6.890625 40.078125 11.328125 \r\nQ 45.015625 15.765625 45.015625 23.390625 \r\nQ 45.015625 31 40.078125 35.4375 \r\nQ 35.15625 39.890625 26.703125 39.890625 \r\nQ 22.75 39.890625 18.8125 39.015625 \r\nQ 14.890625 38.140625 10.796875 36.28125 \r\nz\r\n\" id=\"DejaVuSans-53\"/>\r\n      </defs>\r\n      <g transform=\"translate(334.908617 254.356562)scale(0.1 -0.1)\">\r\n       <use xlink:href=\"#DejaVuSans-53\"/>\r\n       <use x=\"63.623047\" xlink:href=\"#DejaVuSans-48\"/>\r\n      </g>\r\n     </g>\r\n    </g>\r\n    <g id=\"text_7\">\r\n     <!-- Wall Clock Time (s) -->\r\n     <defs>\r\n      <path d=\"M 3.328125 72.90625 \r\nL 13.28125 72.90625 \r\nL 28.609375 11.28125 \r\nL 43.890625 72.90625 \r\nL 54.984375 72.90625 \r\nL 70.3125 11.28125 \r\nL 85.59375 72.90625 \r\nL 95.609375 72.90625 \r\nL 77.296875 0 \r\nL 64.890625 0 \r\nL 49.515625 63.28125 \r\nL 33.984375 0 \r\nL 21.578125 0 \r\nz\r\n\" id=\"DejaVuSans-87\"/>\r\n      <path d=\"M 34.28125 27.484375 \r\nQ 23.390625 27.484375 19.1875 25 \r\nQ 14.984375 22.515625 14.984375 16.5 \r\nQ 14.984375 11.71875 18.140625 8.90625 \r\nQ 21.296875 6.109375 26.703125 6.109375 \r\nQ 34.1875 6.109375 38.703125 11.40625 \r\nQ 43.21875 16.703125 43.21875 25.484375 \r\nL 43.21875 27.484375 \r\nz\r\nM 52.203125 31.203125 \r\nL 52.203125 0 \r\nL 43.21875 0 \r\nL 43.21875 8.296875 \r\nQ 40.140625 3.328125 35.546875 0.953125 \r\nQ 30.953125 -1.421875 24.3125 -1.421875 \r\nQ 15.921875 -1.421875 10.953125 3.296875 \r\nQ 6 8.015625 6 15.921875 \r\nQ 6 25.140625 12.171875 29.828125 \r\nQ 18.359375 34.515625 30.609375 34.515625 \r\nL 43.21875 34.515625 \r\nL 43.21875 35.40625 \r\nQ 43.21875 41.609375 39.140625 45 \r\nQ 35.0625 48.390625 27.6875 48.390625 \r\nQ 23 48.390625 18.546875 47.265625 \r\nQ 14.109375 46.140625 10.015625 43.890625 \r\nL 10.015625 52.203125 \r\nQ 14.9375 54.109375 19.578125 55.046875 \r\nQ 24.21875 56 28.609375 56 \r\nQ 40.484375 56 46.34375 49.84375 \r\nQ 52.203125 43.703125 52.203125 31.203125 \r\nz\r\n\" id=\"DejaVuSans-97\"/>\r\n      <path d=\"M 9.421875 75.984375 \r\nL 18.40625 75.984375 \r\nL 18.40625 0 \r\nL 9.421875 0 \r\nz\r\n\" id=\"DejaVuSans-108\"/>\r\n      <path id=\"DejaVuSans-32\"/>\r\n      <path d=\"M 64.40625 67.28125 \r\nL 64.40625 56.890625 \r\nQ 59.421875 61.53125 53.78125 63.8125 \r\nQ 48.140625 66.109375 41.796875 66.109375 \r\nQ 29.296875 66.109375 22.65625 58.46875 \r\nQ 16.015625 50.828125 16.015625 36.375 \r\nQ 16.015625 21.96875 22.65625 14.328125 \r\nQ 29.296875 6.6875 41.796875 6.6875 \r\nQ 48.140625 6.6875 53.78125 8.984375 \r\nQ 59.421875 11.28125 64.40625 15.921875 \r\nL 64.40625 5.609375 \r\nQ 59.234375 2.09375 53.4375 0.328125 \r\nQ 47.65625 -1.421875 41.21875 -1.421875 \r\nQ 24.65625 -1.421875 15.125 8.703125 \r\nQ 5.609375 18.84375 5.609375 36.375 \r\nQ 5.609375 53.953125 15.125 64.078125 \r\nQ 24.65625 74.21875 41.21875 74.21875 \r\nQ 47.75 74.21875 53.53125 72.484375 \r\nQ 59.328125 70.75 64.40625 67.28125 \r\nz\r\n\" id=\"DejaVuSans-67\"/>\r\n      <path d=\"M 30.609375 48.390625 \r\nQ 23.390625 48.390625 19.1875 42.75 \r\nQ 14.984375 37.109375 14.984375 27.296875 \r\nQ 14.984375 17.484375 19.15625 11.84375 \r\nQ 23.34375 6.203125 30.609375 6.203125 \r\nQ 37.796875 6.203125 41.984375 11.859375 \r\nQ 46.1875 17.53125 46.1875 27.296875 \r\nQ 46.1875 37.015625 41.984375 42.703125 \r\nQ 37.796875 48.390625 30.609375 48.390625 \r\nz\r\nM 30.609375 56 \r\nQ 42.328125 56 49.015625 48.375 \r\nQ 55.71875 40.765625 55.71875 27.296875 \r\nQ 55.71875 13.875 49.015625 6.21875 \r\nQ 42.328125 -1.421875 30.609375 -1.421875 \r\nQ 18.84375 -1.421875 12.171875 6.21875 \r\nQ 5.515625 13.875 5.515625 27.296875 \r\nQ 5.515625 40.765625 12.171875 48.375 \r\nQ 18.84375 56 30.609375 56 \r\nz\r\n\" id=\"DejaVuSans-111\"/>\r\n      <path d=\"M 48.78125 52.59375 \r\nL 48.78125 44.1875 \r\nQ 44.96875 46.296875 41.140625 47.34375 \r\nQ 37.3125 48.390625 33.40625 48.390625 \r\nQ 24.65625 48.390625 19.8125 42.84375 \r\nQ 14.984375 37.3125 14.984375 27.296875 \r\nQ 14.984375 17.28125 19.8125 11.734375 \r\nQ 24.65625 6.203125 33.40625 6.203125 \r\nQ 37.3125 6.203125 41.140625 7.25 \r\nQ 44.96875 8.296875 48.78125 10.40625 \r\nL 48.78125 2.09375 \r\nQ 45.015625 0.34375 40.984375 -0.53125 \r\nQ 36.96875 -1.421875 32.421875 -1.421875 \r\nQ 20.0625 -1.421875 12.78125 6.34375 \r\nQ 5.515625 14.109375 5.515625 27.296875 \r\nQ 5.515625 40.671875 12.859375 48.328125 \r\nQ 20.21875 56 33.015625 56 \r\nQ 37.15625 56 41.109375 55.140625 \r\nQ 45.0625 54.296875 48.78125 52.59375 \r\nz\r\n\" id=\"DejaVuSans-99\"/>\r\n      <path d=\"M 9.078125 75.984375 \r\nL 18.109375 75.984375 \r\nL 18.109375 31.109375 \r\nL 44.921875 54.6875 \r\nL 56.390625 54.6875 \r\nL 27.390625 29.109375 \r\nL 57.625 0 \r\nL 45.90625 0 \r\nL 18.109375 26.703125 \r\nL 18.109375 0 \r\nL 9.078125 0 \r\nz\r\n\" id=\"DejaVuSans-107\"/>\r\n      <path d=\"M -0.296875 72.90625 \r\nL 61.375 72.90625 \r\nL 61.375 64.59375 \r\nL 35.5 64.59375 \r\nL 35.5 0 \r\nL 25.59375 0 \r\nL 25.59375 64.59375 \r\nL -0.296875 64.59375 \r\nz\r\n\" id=\"DejaVuSans-84\"/>\r\n      <path d=\"M 9.421875 54.6875 \r\nL 18.40625 54.6875 \r\nL 18.40625 0 \r\nL 9.421875 0 \r\nz\r\nM 9.421875 75.984375 \r\nL 18.40625 75.984375 \r\nL 18.40625 64.59375 \r\nL 9.421875 64.59375 \r\nz\r\n\" id=\"DejaVuSans-105\"/>\r\n      <path d=\"M 52 44.1875 \r\nQ 55.375 50.25 60.0625 53.125 \r\nQ 64.75 56 71.09375 56 \r\nQ 79.640625 56 84.28125 50.015625 \r\nQ 88.921875 44.046875 88.921875 33.015625 \r\nL 88.921875 0 \r\nL 79.890625 0 \r\nL 79.890625 32.71875 \r\nQ 79.890625 40.578125 77.09375 44.375 \r\nQ 74.3125 48.1875 68.609375 48.1875 \r\nQ 61.625 48.1875 57.5625 43.546875 \r\nQ 53.515625 38.921875 53.515625 30.90625 \r\nL 53.515625 0 \r\nL 44.484375 0 \r\nL 44.484375 32.71875 \r\nQ 44.484375 40.625 41.703125 44.40625 \r\nQ 38.921875 48.1875 33.109375 48.1875 \r\nQ 26.21875 48.1875 22.15625 43.53125 \r\nQ 18.109375 38.875 18.109375 30.90625 \r\nL 18.109375 0 \r\nL 9.078125 0 \r\nL 9.078125 54.6875 \r\nL 18.109375 54.6875 \r\nL 18.109375 46.1875 \r\nQ 21.1875 51.21875 25.484375 53.609375 \r\nQ 29.78125 56 35.6875 56 \r\nQ 41.65625 56 45.828125 52.96875 \r\nQ 50 49.953125 52 44.1875 \r\nz\r\n\" id=\"DejaVuSans-109\"/>\r\n      <path d=\"M 56.203125 29.59375 \r\nL 56.203125 25.203125 \r\nL 14.890625 25.203125 \r\nQ 15.484375 15.921875 20.484375 11.0625 \r\nQ 25.484375 6.203125 34.421875 6.203125 \r\nQ 39.59375 6.203125 44.453125 7.46875 \r\nQ 49.3125 8.734375 54.109375 11.28125 \r\nL 54.109375 2.78125 \r\nQ 49.265625 0.734375 44.1875 -0.34375 \r\nQ 39.109375 -1.421875 33.890625 -1.421875 \r\nQ 20.796875 -1.421875 13.15625 6.1875 \r\nQ 5.515625 13.8125 5.515625 26.8125 \r\nQ 5.515625 40.234375 12.765625 48.109375 \r\nQ 20.015625 56 32.328125 56 \r\nQ 43.359375 56 49.78125 48.890625 \r\nQ 56.203125 41.796875 56.203125 29.59375 \r\nz\r\nM 47.21875 32.234375 \r\nQ 47.125 39.59375 43.09375 43.984375 \r\nQ 39.0625 48.390625 32.421875 48.390625 \r\nQ 24.90625 48.390625 20.390625 44.140625 \r\nQ 15.875 39.890625 15.1875 32.171875 \r\nz\r\n\" id=\"DejaVuSans-101\"/>\r\n      <path d=\"M 31 75.875 \r\nQ 24.46875 64.65625 21.28125 53.65625 \r\nQ 18.109375 42.671875 18.109375 31.390625 \r\nQ 18.109375 20.125 21.3125 9.0625 \r\nQ 24.515625 -2 31 -13.1875 \r\nL 23.1875 -13.1875 \r\nQ 15.875 -1.703125 12.234375 9.375 \r\nQ 8.59375 20.453125 8.59375 31.390625 \r\nQ 8.59375 42.28125 12.203125 53.3125 \r\nQ 15.828125 64.359375 23.1875 75.875 \r\nz\r\n\" id=\"DejaVuSans-40\"/>\r\n      <path d=\"M 44.28125 53.078125 \r\nL 44.28125 44.578125 \r\nQ 40.484375 46.53125 36.375 47.5 \r\nQ 32.28125 48.484375 27.875 48.484375 \r\nQ 21.1875 48.484375 17.84375 46.4375 \r\nQ 14.5 44.390625 14.5 40.28125 \r\nQ 14.5 37.15625 16.890625 35.375 \r\nQ 19.28125 33.59375 26.515625 31.984375 \r\nL 29.59375 31.296875 \r\nQ 39.15625 29.25 43.1875 25.515625 \r\nQ 47.21875 21.78125 47.21875 15.09375 \r\nQ 47.21875 7.46875 41.1875 3.015625 \r\nQ 35.15625 -1.421875 24.609375 -1.421875 \r\nQ 20.21875 -1.421875 15.453125 -0.5625 \r\nQ 10.6875 0.296875 5.421875 2 \r\nL 5.421875 11.28125 \r\nQ 10.40625 8.6875 15.234375 7.390625 \r\nQ 20.0625 6.109375 24.8125 6.109375 \r\nQ 31.15625 6.109375 34.5625 8.28125 \r\nQ 37.984375 10.453125 37.984375 14.40625 \r\nQ 37.984375 18.0625 35.515625 20.015625 \r\nQ 33.0625 21.96875 24.703125 23.78125 \r\nL 21.578125 24.515625 \r\nQ 13.234375 26.265625 9.515625 29.90625 \r\nQ 5.8125 33.546875 5.8125 39.890625 \r\nQ 5.8125 47.609375 11.28125 51.796875 \r\nQ 16.75 56 26.8125 56 \r\nQ 31.78125 56 36.171875 55.265625 \r\nQ 40.578125 54.546875 44.28125 53.078125 \r\nz\r\n\" id=\"DejaVuSans-115\"/>\r\n      <path d=\"M 8.015625 75.875 \r\nL 15.828125 75.875 \r\nQ 23.140625 64.359375 26.78125 53.3125 \r\nQ 30.421875 42.28125 30.421875 31.390625 \r\nQ 30.421875 20.453125 26.78125 9.375 \r\nQ 23.140625 -1.703125 15.828125 -13.1875 \r\nL 8.015625 -13.1875 \r\nQ 14.5 -2 17.703125 9.0625 \r\nQ 20.90625 20.125 20.90625 31.390625 \r\nQ 20.90625 42.671875 17.703125 53.65625 \r\nQ 14.5 64.65625 8.015625 75.875 \r\nz\r\n\" id=\"DejaVuSans-41\"/>\r\n     </defs>\r\n     <g transform=\"translate(163.622656 268.034687)scale(0.1 -0.1)\">\r\n      <use xlink:href=\"#DejaVuSans-87\"/>\r\n      <use x=\"92.501953\" xlink:href=\"#DejaVuSans-97\"/>\r\n      <use x=\"153.78125\" xlink:href=\"#DejaVuSans-108\"/>\r\n      <use x=\"181.564453\" xlink:href=\"#DejaVuSans-108\"/>\r\n      <use x=\"209.347656\" xlink:href=\"#DejaVuSans-32\"/>\r\n      <use x=\"241.134766\" xlink:href=\"#DejaVuSans-67\"/>\r\n      <use x=\"310.958984\" xlink:href=\"#DejaVuSans-108\"/>\r\n      <use x=\"338.742188\" xlink:href=\"#DejaVuSans-111\"/>\r\n      <use x=\"399.923828\" xlink:href=\"#DejaVuSans-99\"/>\r\n      <use x=\"454.904297\" xlink:href=\"#DejaVuSans-107\"/>\r\n      <use x=\"512.814453\" xlink:href=\"#DejaVuSans-32\"/>\r\n      <use x=\"544.601562\" xlink:href=\"#DejaVuSans-84\"/>\r\n      <use x=\"602.560547\" xlink:href=\"#DejaVuSans-105\"/>\r\n      <use x=\"630.34375\" xlink:href=\"#DejaVuSans-109\"/>\r\n      <use x=\"727.755859\" xlink:href=\"#DejaVuSans-101\"/>\r\n      <use x=\"789.279297\" xlink:href=\"#DejaVuSans-32\"/>\r\n      <use x=\"821.066406\" xlink:href=\"#DejaVuSans-40\"/>\r\n      <use x=\"860.080078\" xlink:href=\"#DejaVuSans-115\"/>\r\n      <use x=\"912.179688\" xlink:href=\"#DejaVuSans-41\"/>\r\n     </g>\r\n    </g>\r\n   </g>\r\n   <g id=\"matplotlib.axis_2\">\r\n    <g id=\"ytick_1\">\r\n     <g id=\"line2d_7\">\r\n      <defs>\r\n       <path d=\"M 0 0 \r\nL -3.5 0 \r\n\" id=\"m0239c42db1\" style=\"stroke:#000000;stroke-width:0.8;\"/>\r\n      </defs>\r\n      <g>\r\n       <use style=\"stroke:#000000;stroke-width:0.8;\" x=\"43.78125\" xlink:href=\"#m0239c42db1\" y=\"216.502154\"/>\r\n      </g>\r\n     </g>\r\n     <g id=\"text_8\">\r\n      <!-- 0.3 -->\r\n      <defs>\r\n       <path d=\"M 10.6875 12.40625 \r\nL 21 12.40625 \r\nL 21 0 \r\nL 10.6875 0 \r\nz\r\n\" id=\"DejaVuSans-46\"/>\r\n      </defs>\r\n      <g transform=\"translate(20.878125 220.301373)scale(0.1 -0.1)\">\r\n       <use xlink:href=\"#DejaVuSans-48\"/>\r\n       <use x=\"63.623047\" xlink:href=\"#DejaVuSans-46\"/>\r\n       <use x=\"95.410156\" xlink:href=\"#DejaVuSans-51\"/>\r\n      </g>\r\n     </g>\r\n    </g>\r\n    <g id=\"ytick_2\">\r\n     <g id=\"line2d_8\">\r\n      <g>\r\n       <use style=\"stroke:#000000;stroke-width:0.8;\" x=\"43.78125\" xlink:href=\"#m0239c42db1\" y=\"181.564616\"/>\r\n      </g>\r\n     </g>\r\n     <g id=\"text_9\">\r\n      <!-- 0.4 -->\r\n      <g transform=\"translate(20.878125 185.363835)scale(0.1 -0.1)\">\r\n       <use xlink:href=\"#DejaVuSans-48\"/>\r\n       <use x=\"63.623047\" xlink:href=\"#DejaVuSans-46\"/>\r\n       <use x=\"95.410156\" xlink:href=\"#DejaVuSans-52\"/>\r\n      </g>\r\n     </g>\r\n    </g>\r\n    <g id=\"ytick_3\">\r\n     <g id=\"line2d_9\">\r\n      <g>\r\n       <use style=\"stroke:#000000;stroke-width:0.8;\" x=\"43.78125\" xlink:href=\"#m0239c42db1\" y=\"146.627078\"/>\r\n      </g>\r\n     </g>\r\n     <g id=\"text_10\">\r\n      <!-- 0.5 -->\r\n      <g transform=\"translate(20.878125 150.426297)scale(0.1 -0.1)\">\r\n       <use xlink:href=\"#DejaVuSans-48\"/>\r\n       <use x=\"63.623047\" xlink:href=\"#DejaVuSans-46\"/>\r\n       <use x=\"95.410156\" xlink:href=\"#DejaVuSans-53\"/>\r\n      </g>\r\n     </g>\r\n    </g>\r\n    <g id=\"ytick_4\">\r\n     <g id=\"line2d_10\">\r\n      <g>\r\n       <use style=\"stroke:#000000;stroke-width:0.8;\" x=\"43.78125\" xlink:href=\"#m0239c42db1\" y=\"111.689541\"/>\r\n      </g>\r\n     </g>\r\n     <g id=\"text_11\">\r\n      <!-- 0.6 -->\r\n      <defs>\r\n       <path d=\"M 33.015625 40.375 \r\nQ 26.375 40.375 22.484375 35.828125 \r\nQ 18.609375 31.296875 18.609375 23.390625 \r\nQ 18.609375 15.53125 22.484375 10.953125 \r\nQ 26.375 6.390625 33.015625 6.390625 \r\nQ 39.65625 6.390625 43.53125 10.953125 \r\nQ 47.40625 15.53125 47.40625 23.390625 \r\nQ 47.40625 31.296875 43.53125 35.828125 \r\nQ 39.65625 40.375 33.015625 40.375 \r\nz\r\nM 52.59375 71.296875 \r\nL 52.59375 62.3125 \r\nQ 48.875 64.0625 45.09375 64.984375 \r\nQ 41.3125 65.921875 37.59375 65.921875 \r\nQ 27.828125 65.921875 22.671875 59.328125 \r\nQ 17.53125 52.734375 16.796875 39.40625 \r\nQ 19.671875 43.65625 24.015625 45.921875 \r\nQ 28.375 48.1875 33.59375 48.1875 \r\nQ 44.578125 48.1875 50.953125 41.515625 \r\nQ 57.328125 34.859375 57.328125 23.390625 \r\nQ 57.328125 12.15625 50.6875 5.359375 \r\nQ 44.046875 -1.421875 33.015625 -1.421875 \r\nQ 20.359375 -1.421875 13.671875 8.265625 \r\nQ 6.984375 17.96875 6.984375 36.375 \r\nQ 6.984375 53.65625 15.1875 63.9375 \r\nQ 23.390625 74.21875 37.203125 74.21875 \r\nQ 40.921875 74.21875 44.703125 73.484375 \r\nQ 48.484375 72.75 52.59375 71.296875 \r\nz\r\n\" id=\"DejaVuSans-54\"/>\r\n      </defs>\r\n      <g transform=\"translate(20.878125 115.488759)scale(0.1 -0.1)\">\r\n       <use xlink:href=\"#DejaVuSans-48\"/>\r\n       <use x=\"63.623047\" xlink:href=\"#DejaVuSans-46\"/>\r\n       <use x=\"95.410156\" xlink:href=\"#DejaVuSans-54\"/>\r\n      </g>\r\n     </g>\r\n    </g>\r\n    <g id=\"ytick_5\">\r\n     <g id=\"line2d_11\">\r\n      <g>\r\n       <use style=\"stroke:#000000;stroke-width:0.8;\" x=\"43.78125\" xlink:href=\"#m0239c42db1\" y=\"76.752003\"/>\r\n      </g>\r\n     </g>\r\n     <g id=\"text_12\">\r\n      <!-- 0.7 -->\r\n      <defs>\r\n       <path d=\"M 8.203125 72.90625 \r\nL 55.078125 72.90625 \r\nL 55.078125 68.703125 \r\nL 28.609375 0 \r\nL 18.3125 0 \r\nL 43.21875 64.59375 \r\nL 8.203125 64.59375 \r\nz\r\n\" id=\"DejaVuSans-55\"/>\r\n      </defs>\r\n      <g transform=\"translate(20.878125 80.551222)scale(0.1 -0.1)\">\r\n       <use xlink:href=\"#DejaVuSans-48\"/>\r\n       <use x=\"63.623047\" xlink:href=\"#DejaVuSans-46\"/>\r\n       <use x=\"95.410156\" xlink:href=\"#DejaVuSans-55\"/>\r\n      </g>\r\n     </g>\r\n    </g>\r\n    <g id=\"ytick_6\">\r\n     <g id=\"line2d_12\">\r\n      <g>\r\n       <use style=\"stroke:#000000;stroke-width:0.8;\" x=\"43.78125\" xlink:href=\"#m0239c42db1\" y=\"41.814465\"/>\r\n      </g>\r\n     </g>\r\n     <g id=\"text_13\">\r\n      <!-- 0.8 -->\r\n      <defs>\r\n       <path d=\"M 31.78125 34.625 \r\nQ 24.75 34.625 20.71875 30.859375 \r\nQ 16.703125 27.09375 16.703125 20.515625 \r\nQ 16.703125 13.921875 20.71875 10.15625 \r\nQ 24.75 6.390625 31.78125 6.390625 \r\nQ 38.8125 6.390625 42.859375 10.171875 \r\nQ 46.921875 13.96875 46.921875 20.515625 \r\nQ 46.921875 27.09375 42.890625 30.859375 \r\nQ 38.875 34.625 31.78125 34.625 \r\nz\r\nM 21.921875 38.8125 \r\nQ 15.578125 40.375 12.03125 44.71875 \r\nQ 8.5 49.078125 8.5 55.328125 \r\nQ 8.5 64.0625 14.71875 69.140625 \r\nQ 20.953125 74.21875 31.78125 74.21875 \r\nQ 42.671875 74.21875 48.875 69.140625 \r\nQ 55.078125 64.0625 55.078125 55.328125 \r\nQ 55.078125 49.078125 51.53125 44.71875 \r\nQ 48 40.375 41.703125 38.8125 \r\nQ 48.828125 37.15625 52.796875 32.3125 \r\nQ 56.78125 27.484375 56.78125 20.515625 \r\nQ 56.78125 9.90625 50.3125 4.234375 \r\nQ 43.84375 -1.421875 31.78125 -1.421875 \r\nQ 19.734375 -1.421875 13.25 4.234375 \r\nQ 6.78125 9.90625 6.78125 20.515625 \r\nQ 6.78125 27.484375 10.78125 32.3125 \r\nQ 14.796875 37.15625 21.921875 38.8125 \r\nz\r\nM 18.3125 54.390625 \r\nQ 18.3125 48.734375 21.84375 45.5625 \r\nQ 25.390625 42.390625 31.78125 42.390625 \r\nQ 38.140625 42.390625 41.71875 45.5625 \r\nQ 45.3125 48.734375 45.3125 54.390625 \r\nQ 45.3125 60.0625 41.71875 63.234375 \r\nQ 38.140625 66.40625 31.78125 66.40625 \r\nQ 25.390625 66.40625 21.84375 63.234375 \r\nQ 18.3125 60.0625 18.3125 54.390625 \r\nz\r\n\" id=\"DejaVuSans-56\"/>\r\n      </defs>\r\n      <g transform=\"translate(20.878125 45.613684)scale(0.1 -0.1)\">\r\n       <use xlink:href=\"#DejaVuSans-48\"/>\r\n       <use x=\"63.623047\" xlink:href=\"#DejaVuSans-46\"/>\r\n       <use x=\"95.410156\" xlink:href=\"#DejaVuSans-56\"/>\r\n      </g>\r\n     </g>\r\n    </g>\r\n    <g id=\"text_14\">\r\n     <!-- Validation r2 -->\r\n     <defs>\r\n      <path d=\"M 28.609375 0 \r\nL 0.78125 72.90625 \r\nL 11.078125 72.90625 \r\nL 34.1875 11.53125 \r\nL 57.328125 72.90625 \r\nL 67.578125 72.90625 \r\nL 39.796875 0 \r\nz\r\n\" id=\"DejaVuSans-86\"/>\r\n      <path d=\"M 45.40625 46.390625 \r\nL 45.40625 75.984375 \r\nL 54.390625 75.984375 \r\nL 54.390625 0 \r\nL 45.40625 0 \r\nL 45.40625 8.203125 \r\nQ 42.578125 3.328125 38.25 0.953125 \r\nQ 33.9375 -1.421875 27.875 -1.421875 \r\nQ 17.96875 -1.421875 11.734375 6.484375 \r\nQ 5.515625 14.40625 5.515625 27.296875 \r\nQ 5.515625 40.1875 11.734375 48.09375 \r\nQ 17.96875 56 27.875 56 \r\nQ 33.9375 56 38.25 53.625 \r\nQ 42.578125 51.265625 45.40625 46.390625 \r\nz\r\nM 14.796875 27.296875 \r\nQ 14.796875 17.390625 18.875 11.75 \r\nQ 22.953125 6.109375 30.078125 6.109375 \r\nQ 37.203125 6.109375 41.296875 11.75 \r\nQ 45.40625 17.390625 45.40625 27.296875 \r\nQ 45.40625 37.203125 41.296875 42.84375 \r\nQ 37.203125 48.484375 30.078125 48.484375 \r\nQ 22.953125 48.484375 18.875 42.84375 \r\nQ 14.796875 37.203125 14.796875 27.296875 \r\nz\r\n\" id=\"DejaVuSans-100\"/>\r\n      <path d=\"M 18.3125 70.21875 \r\nL 18.3125 54.6875 \r\nL 36.8125 54.6875 \r\nL 36.8125 47.703125 \r\nL 18.3125 47.703125 \r\nL 18.3125 18.015625 \r\nQ 18.3125 11.328125 20.140625 9.421875 \r\nQ 21.96875 7.515625 27.59375 7.515625 \r\nL 36.8125 7.515625 \r\nL 36.8125 0 \r\nL 27.59375 0 \r\nQ 17.1875 0 13.234375 3.875 \r\nQ 9.28125 7.765625 9.28125 18.015625 \r\nL 9.28125 47.703125 \r\nL 2.6875 47.703125 \r\nL 2.6875 54.6875 \r\nL 9.28125 54.6875 \r\nL 9.28125 70.21875 \r\nz\r\n\" id=\"DejaVuSans-116\"/>\r\n      <path d=\"M 54.890625 33.015625 \r\nL 54.890625 0 \r\nL 45.90625 0 \r\nL 45.90625 32.71875 \r\nQ 45.90625 40.484375 42.875 44.328125 \r\nQ 39.84375 48.1875 33.796875 48.1875 \r\nQ 26.515625 48.1875 22.3125 43.546875 \r\nQ 18.109375 38.921875 18.109375 30.90625 \r\nL 18.109375 0 \r\nL 9.078125 0 \r\nL 9.078125 54.6875 \r\nL 18.109375 54.6875 \r\nL 18.109375 46.1875 \r\nQ 21.34375 51.125 25.703125 53.5625 \r\nQ 30.078125 56 35.796875 56 \r\nQ 45.21875 56 50.046875 50.171875 \r\nQ 54.890625 44.34375 54.890625 33.015625 \r\nz\r\n\" id=\"DejaVuSans-110\"/>\r\n      <path d=\"M 41.109375 46.296875 \r\nQ 39.59375 47.171875 37.8125 47.578125 \r\nQ 36.03125 48 33.890625 48 \r\nQ 26.265625 48 22.1875 43.046875 \r\nQ 18.109375 38.09375 18.109375 28.8125 \r\nL 18.109375 0 \r\nL 9.078125 0 \r\nL 9.078125 54.6875 \r\nL 18.109375 54.6875 \r\nL 18.109375 46.1875 \r\nQ 20.953125 51.171875 25.484375 53.578125 \r\nQ 30.03125 56 36.53125 56 \r\nQ 37.453125 56 38.578125 55.875 \r\nQ 39.703125 55.765625 41.0625 55.515625 \r\nz\r\n\" id=\"DejaVuSans-114\"/>\r\n     </defs>\r\n     <g transform=\"translate(14.798438 162.554531)rotate(-90)scale(0.1 -0.1)\">\r\n      <use xlink:href=\"#DejaVuSans-86\"/>\r\n      <use x=\"60.658203\" xlink:href=\"#DejaVuSans-97\"/>\r\n      <use x=\"121.9375\" xlink:href=\"#DejaVuSans-108\"/>\r\n      <use x=\"149.720703\" xlink:href=\"#DejaVuSans-105\"/>\r\n      <use x=\"177.503906\" xlink:href=\"#DejaVuSans-100\"/>\r\n      <use x=\"240.980469\" xlink:href=\"#DejaVuSans-97\"/>\r\n      <use x=\"302.259766\" xlink:href=\"#DejaVuSans-116\"/>\r\n      <use x=\"341.46875\" xlink:href=\"#DejaVuSans-105\"/>\r\n      <use x=\"369.251953\" xlink:href=\"#DejaVuSans-111\"/>\r\n      <use x=\"430.433594\" xlink:href=\"#DejaVuSans-110\"/>\r\n      <use x=\"493.8125\" xlink:href=\"#DejaVuSans-32\"/>\r\n      <use x=\"525.599609\" xlink:href=\"#DejaVuSans-114\"/>\r\n      <use x=\"566.712891\" xlink:href=\"#DejaVuSans-50\"/>\r\n     </g>\r\n    </g>\r\n   </g>\r\n   <g id=\"line2d_13\">\r\n    <path clip-path=\"url(#p688fc51ca0)\" d=\"M 58.999432 229.874489 \r\nL 60.539811 229.874489 \r\nL 60.539811 131.884705 \r\nL 62.969327 131.884705 \r\nL 62.969327 64.081953 \r\nL 64.852493 64.081953 \r\nL 64.852493 51.728855 \r\nL 72.89155 51.728855 \r\nL 72.89155 50.967974 \r\nL 79.013891 50.967974 \r\nL 79.013891 42.123928 \r\nL 92.017549 42.123928 \r\nL 92.017549 36.726087 \r\nL 160.160785 36.726087 \r\nL 160.160785 33.47822 \r\nL 363.363068 33.47822 \r\nL 363.363068 32.201761 \r\n\" style=\"fill:none;stroke:#1f77b4;stroke-linecap:square;stroke-width:1.5;\"/>\r\n   </g>\r\n   <g id=\"patch_3\">\r\n    <path d=\"M 43.78125 239.758125 \r\nL 43.78125 22.318125 \r\n\" style=\"fill:none;stroke:#000000;stroke-linecap:square;stroke-linejoin:miter;stroke-width:0.8;\"/>\r\n   </g>\r\n   <g id=\"patch_4\">\r\n    <path d=\"M 378.58125 239.758125 \r\nL 378.58125 22.318125 \r\n\" style=\"fill:none;stroke:#000000;stroke-linecap:square;stroke-linejoin:miter;stroke-width:0.8;\"/>\r\n   </g>\r\n   <g id=\"patch_5\">\r\n    <path d=\"M 43.78125 239.758125 \r\nL 378.58125 239.758125 \r\n\" style=\"fill:none;stroke:#000000;stroke-linecap:square;stroke-linejoin:miter;stroke-width:0.8;\"/>\r\n   </g>\r\n   <g id=\"patch_6\">\r\n    <path d=\"M 43.78125 22.318125 \r\nL 378.58125 22.318125 \r\n\" style=\"fill:none;stroke:#000000;stroke-linecap:square;stroke-linejoin:miter;stroke-width:0.8;\"/>\r\n   </g>\r\n   <g id=\"text_15\">\r\n    <!-- Learning Curve -->\r\n    <defs>\r\n     <path d=\"M 9.8125 72.90625 \r\nL 19.671875 72.90625 \r\nL 19.671875 8.296875 \r\nL 55.171875 8.296875 \r\nL 55.171875 0 \r\nL 9.8125 0 \r\nz\r\n\" id=\"DejaVuSans-76\"/>\r\n     <path d=\"M 45.40625 27.984375 \r\nQ 45.40625 37.75 41.375 43.109375 \r\nQ 37.359375 48.484375 30.078125 48.484375 \r\nQ 22.859375 48.484375 18.828125 43.109375 \r\nQ 14.796875 37.75 14.796875 27.984375 \r\nQ 14.796875 18.265625 18.828125 12.890625 \r\nQ 22.859375 7.515625 30.078125 7.515625 \r\nQ 37.359375 7.515625 41.375 12.890625 \r\nQ 45.40625 18.265625 45.40625 27.984375 \r\nz\r\nM 54.390625 6.78125 \r\nQ 54.390625 -7.171875 48.1875 -13.984375 \r\nQ 42 -20.796875 29.203125 -20.796875 \r\nQ 24.46875 -20.796875 20.265625 -20.09375 \r\nQ 16.0625 -19.390625 12.109375 -17.921875 \r\nL 12.109375 -9.1875 \r\nQ 16.0625 -11.328125 19.921875 -12.34375 \r\nQ 23.78125 -13.375 27.78125 -13.375 \r\nQ 36.625 -13.375 41.015625 -8.765625 \r\nQ 45.40625 -4.15625 45.40625 5.171875 \r\nL 45.40625 9.625 \r\nQ 42.625 4.78125 38.28125 2.390625 \r\nQ 33.9375 0 27.875 0 \r\nQ 17.828125 0 11.671875 7.65625 \r\nQ 5.515625 15.328125 5.515625 27.984375 \r\nQ 5.515625 40.671875 11.671875 48.328125 \r\nQ 17.828125 56 27.875 56 \r\nQ 33.9375 56 38.28125 53.609375 \r\nQ 42.625 51.21875 45.40625 46.390625 \r\nL 45.40625 54.6875 \r\nL 54.390625 54.6875 \r\nz\r\n\" id=\"DejaVuSans-103\"/>\r\n     <path d=\"M 8.5 21.578125 \r\nL 8.5 54.6875 \r\nL 17.484375 54.6875 \r\nL 17.484375 21.921875 \r\nQ 17.484375 14.15625 20.5 10.265625 \r\nQ 23.53125 6.390625 29.59375 6.390625 \r\nQ 36.859375 6.390625 41.078125 11.03125 \r\nQ 45.3125 15.671875 45.3125 23.6875 \r\nL 45.3125 54.6875 \r\nL 54.296875 54.6875 \r\nL 54.296875 0 \r\nL 45.3125 0 \r\nL 45.3125 8.40625 \r\nQ 42.046875 3.421875 37.71875 1 \r\nQ 33.40625 -1.421875 27.6875 -1.421875 \r\nQ 18.265625 -1.421875 13.375 4.4375 \r\nQ 8.5 10.296875 8.5 21.578125 \r\nz\r\nM 31.109375 56 \r\nz\r\n\" id=\"DejaVuSans-117\"/>\r\n     <path d=\"M 2.984375 54.6875 \r\nL 12.5 54.6875 \r\nL 29.59375 8.796875 \r\nL 46.6875 54.6875 \r\nL 56.203125 54.6875 \r\nL 35.6875 0 \r\nL 23.484375 0 \r\nz\r\n\" id=\"DejaVuSans-118\"/>\r\n    </defs>\r\n    <g transform=\"translate(165.523125 16.318125)scale(0.12 -0.12)\">\r\n     <use xlink:href=\"#DejaVuSans-76\"/>\r\n     <use x=\"53.962891\" xlink:href=\"#DejaVuSans-101\"/>\r\n     <use x=\"115.486328\" xlink:href=\"#DejaVuSans-97\"/>\r\n     <use x=\"176.765625\" xlink:href=\"#DejaVuSans-114\"/>\r\n     <use x=\"216.128906\" xlink:href=\"#DejaVuSans-110\"/>\r\n     <use x=\"279.507812\" xlink:href=\"#DejaVuSans-105\"/>\r\n     <use x=\"307.291016\" xlink:href=\"#DejaVuSans-110\"/>\r\n     <use x=\"370.669922\" xlink:href=\"#DejaVuSans-103\"/>\r\n     <use x=\"434.146484\" xlink:href=\"#DejaVuSans-32\"/>\r\n     <use x=\"465.933594\" xlink:href=\"#DejaVuSans-67\"/>\r\n     <use x=\"535.757812\" xlink:href=\"#DejaVuSans-117\"/>\r\n     <use x=\"599.136719\" xlink:href=\"#DejaVuSans-114\"/>\r\n     <use x=\"640.25\" xlink:href=\"#DejaVuSans-118\"/>\r\n     <use x=\"699.429688\" xlink:href=\"#DejaVuSans-101\"/>\r\n    </g>\r\n   </g>\r\n  </g>\r\n </g>\r\n <defs>\r\n  <clipPath id=\"p688fc51ca0\">\r\n   <rect height=\"217.44\" width=\"334.8\" x=\"43.78125\" y=\"22.318125\"/>\r\n  </clipPath>\r\n </defs>\r\n</svg>\r\n",
      "image/png": "[encoded data removed]"
     },
     "metadata": {
      "needs_background": "light"
     }
    }
   ],
   "source": [
    "import matplotlib.pyplot as plt\n",
    "import numpy as np\n",
    "\n",
    "plt.title('Learning Curve')\n",
    "plt.xlabel('Wall Clock Time (s)')\n",
    "plt.ylabel('Validation r2')\n",
    "plt.scatter(time_history, 1-np.array(valid_loss_history))\n",
    "plt.step(time_history, 1-np.array(best_valid_loss_history), where='post')\n",
    "plt.show()"
   ]
  },
  {
   "source": [
    "## 3. Comparison with alternatives\n",
    "\n",
    "### FLAML's accuracy"
   ],
   "cell_type": "markdown",
   "metadata": {}
  },
  {
   "cell_type": "code",
   "execution_count": 16,
   "metadata": {},
   "outputs": [
    {
     "output_type": "stream",
     "name": "stdout",
     "text": [
      "flaml r2 = 0.8503723727607084\n"
     ]
    }
   ],
   "source": [
    "print('flaml r2', '=', 1 - sklearn_metric_loss_score('r2', y_pred, y_test))"
   ]
  },
  {
   "source": [
    "### Default LightGBM"
   ],
   "cell_type": "markdown",
   "metadata": {}
  },
  {
   "cell_type": "code",
   "execution_count": 17,
   "metadata": {},
   "outputs": [],
   "source": [
    "from lightgbm import LGBMRegressor\n",
    "lgbm = LGBMRegressor()"
   ]
  },
  {
   "cell_type": "code",
   "execution_count": 18,
   "metadata": {},
   "outputs": [
    {
     "output_type": "execute_result",
     "data": {
      "text/plain": [
       "LGBMRegressor()"
      ]
     },
     "metadata": {},
     "execution_count": 18
    }
   ],
   "source": [
    "lgbm.fit(X_train, y_train)"
   ]
  },
  {
   "cell_type": "code",
   "execution_count": 19,
   "metadata": {},
   "outputs": [
    {
     "output_type": "stream",
     "name": "stdout",
     "text": [
      "default lgbm r2 = 0.8296179648694404\n"
     ]
    }
   ],
   "source": [
    "y_pred = lgbm.predict(X_test)\n",
    "from flaml.ml import sklearn_metric_loss_score\n",
    "print('default lgbm r2', '=', 1 - sklearn_metric_loss_score('r2', y_pred, y_test))"
   ]
  },
  {
   "source": [
    "### Optuna LightGBM Tuner"
   ],
   "cell_type": "markdown",
   "metadata": {}
  },
  {
   "cell_type": "code",
   "execution_count": null,
   "metadata": {},
   "outputs": [],
   "source": [
    "!pip install optuna==2.5.0;"
   ]
  },
  {
   "cell_type": "code",
   "execution_count": 21,
   "metadata": {},
   "outputs": [],
   "source": [
    "from sklearn.model_selection import train_test_split\n",
    "train_x, val_x, train_y, val_y = train_test_split(X_train, y_train, test_size=0.1)\n",
    "import optuna.integration.lightgbm as lgb\n",
    "dtrain = lgb.Dataset(train_x, label=train_y)\n",
    "dval = lgb.Dataset(val_x, label=val_y)\n",
    "params = {\n",
    "    \"objective\": \"regression\",\n",
    "    \"metric\": \"regression\",\n",
    "    \"verbosity\": -1,\n",
    "}\n"
   ]
  },
  {
   "cell_type": "code",
   "execution_count": 22,
   "metadata": {
    "tags": [
     "outputPrepend"
    ]
   },
   "outputs": [
    {
     "output_type": "stream",
     "name": "stderr",
     "text": [
      "875128.6166067 and parameters: {'feature_fraction': 0.5}. Best is trial 0 with value: 2131729337.83384.\u001b[0m\n",
      "feature_fraction, val_score: 1949307059.499325:  43%|####2     | 3/7 [00:06<00:08,  2.23s/it]\u001b[32m[I 2021-02-22 14:39:47,252]\u001b[0m Trial 2 finished with value: 1949307059.499325 and parameters: {'feature_fraction': 0.8999999999999999}. Best is trial 2 with value: 1949307059.499325.\u001b[0m\n",
      "feature_fraction, val_score: 1949307059.499325:  57%|#####7    | 4/7 [00:09<00:06,  2.26s/it]\u001b[32m[I 2021-02-22 14:39:49,566]\u001b[0m Trial 3 finished with value: 1991236553.1444218 and parameters: {'feature_fraction': 0.7}. Best is trial 2 with value: 1949307059.499325.\u001b[0m\n",
      "feature_fraction, val_score: 1949307059.499325:  71%|#######1  | 5/7 [00:11<00:04,  2.21s/it]\u001b[32m[I 2021-02-22 14:39:51,687]\u001b[0m Trial 4 finished with value: 1988181425.985298 and parameters: {'feature_fraction': 1.0}. Best is trial 2 with value: 1949307059.499325.\u001b[0m\n",
      "feature_fraction, val_score: 1949307059.499325:  86%|########5 | 6/7 [00:13<00:02,  2.13s/it]\u001b[32m[I 2021-02-22 14:39:53,649]\u001b[0m Trial 5 finished with value: 1991236553.1444218 and parameters: {'feature_fraction': 0.8}. Best is trial 2 with value: 1949307059.499325.\u001b[0m\n",
      "feature_fraction, val_score: 1949307059.499325: 100%|##########| 7/7 [00:14<00:00,  2.04s/it]\u001b[32m[I 2021-02-22 14:39:55,505]\u001b[0m Trial 6 finished with value: 1985494931.14108 and parameters: {'feature_fraction': 0.6}. Best is trial 2 with value: 1949307059.499325.\u001b[0m\n",
      "feature_fraction, val_score: 1949307059.499325: 100%|##########| 7/7 [00:15<00:00,  2.14s/it]\n",
      "num_leaves, val_score: 1949307059.499325:   5%|5         | 1/20 [00:00<00:13,  1.37it/s]\u001b[32m[I 2021-02-22 14:39:56,251]\u001b[0m Trial 7 finished with value: 2193886138.5860405 and parameters: {'num_leaves': 5}. Best is trial 7 with value: 2193886138.5860405.\u001b[0m\n",
      "num_leaves, val_score: 1949307059.499325:  10%|#         | 2/20 [00:10<01:48,  6.04s/it]\u001b[32m[I 2021-02-22 14:40:06,007]\u001b[0m Trial 8 finished with value: 2027098939.2209685 and parameters: {'num_leaves': 200}. Best is trial 8 with value: 2027098939.2209685.\u001b[0m\n",
      "num_leaves, val_score: 1949307059.499325:  15%|#5        | 3/20 [00:20<02:10,  7.70s/it]\u001b[32m[I 2021-02-22 14:40:15,684]\u001b[0m Trial 9 finished with value: 2035885641.3675568 and parameters: {'num_leaves': 205}. Best is trial 8 with value: 2027098939.2209685.\u001b[0m\n",
      "num_leaves, val_score: 1949307059.499325:  20%|##        | 4/20 [00:21<01:21,  5.10s/it]\u001b[32m[I 2021-02-22 14:40:16,785]\u001b[0m Trial 10 finished with value: 2004366052.4067948 and parameters: {'num_leaves': 16}. Best is trial 10 with value: 2004366052.4067948.\u001b[0m\n",
      "num_leaves, val_score: 1949307059.499325:  25%|##5       | 5/20 [00:21<00:52,  3.50s/it]\u001b[32m[I 2021-02-22 14:40:17,456]\u001b[0m Trial 11 finished with value: 2193886138.5860405 and parameters: {'num_leaves': 5}. Best is trial 10 with value: 2004366052.4067948.\u001b[0m\n",
      "num_leaves, val_score: 1949307059.499325:  30%|###       | 6/20 [00:23<00:41,  2.98s/it]\u001b[32m[I 2021-02-22 14:40:19,430]\u001b[0m Trial 12 finished with value: 2002345051.114594 and parameters: {'num_leaves': 42}. Best is trial 12 with value: 2002345051.114594.\u001b[0m\n",
      "num_leaves, val_score: 1949307059.499325:  35%|###5      | 7/20 [00:33<01:05,  5.06s/it]\u001b[32m[I 2021-02-22 14:40:28,770]\u001b[0m Trial 13 finished with value: 2056130771.9329934 and parameters: {'num_leaves': 256}. Best is trial 12 with value: 2002345051.114594.\u001b[0m\n",
      "num_leaves, val_score: 1949307059.499325:  40%|####      | 8/20 [00:44<01:22,  6.87s/it]\u001b[32m[I 2021-02-22 14:40:39,523]\u001b[0m Trial 14 finished with value: 2071021341.6650958 and parameters: {'num_leaves': 242}. Best is trial 12 with value: 2002345051.114594.\u001b[0m\n",
      "num_leaves, val_score: 1949307059.499325:  45%|####5     | 9/20 [00:50<01:13,  6.64s/it]\u001b[32m[I 2021-02-22 14:40:45,668]\u001b[0m Trial 15 finished with value: 1987944577.546844 and parameters: {'num_leaves': 121}. Best is trial 15 with value: 1987944577.546844.\u001b[0m\n",
      "num_leaves, val_score: 1949307059.499325:  50%|#####     | 10/20 [00:59<01:15,  7.57s/it]\u001b[32m[I 2021-02-22 14:40:55,309]\u001b[0m Trial 16 finished with value: 2043161650.035548 and parameters: {'num_leaves': 222}. Best is trial 15 with value: 1987944577.546844.\u001b[0m\n",
      "num_leaves, val_score: 1949307059.499325:  55%|#####5    | 11/20 [01:03<00:57,  6.43s/it]\u001b[32m[I 2021-02-22 14:40:59,172]\u001b[0m Trial 17 finished with value: 2029987579.182447 and parameters: {'num_leaves': 104}. Best is trial 15 with value: 1987944577.546844.\u001b[0m\n",
      "num_leaves, val_score: 1949307059.499325:  60%|######    | 12/20 [01:07<00:45,  5.63s/it]\u001b[32m[I 2021-02-22 14:41:02,967]\u001b[0m Trial 18 finished with value: 2012583295.5343304 and parameters: {'num_leaves': 84}. Best is trial 15 with value: 1987944577.546844.\u001b[0m\n",
      "num_leaves, val_score: 1949307059.499325:  65%|######5   | 13/20 [01:09<00:32,  4.64s/it]\u001b[32m[I 2021-02-22 14:41:05,314]\u001b[0m Trial 19 finished with value: 1981788985.8686044 and parameters: {'num_leaves': 56}. Best is trial 19 with value: 1981788985.8686044.\u001b[0m\n",
      "num_leaves, val_score: 1949307059.499325:  70%|#######   | 14/20 [01:15<00:30,  5.10s/it]\u001b[32m[I 2021-02-22 14:41:11,497]\u001b[0m Trial 20 finished with value: 2023959326.6503484 and parameters: {'num_leaves': 155}. Best is trial 19 with value: 1981788985.8686044.\u001b[0m\n",
      "num_leaves, val_score: 1949307059.499325:  75%|#######5  | 15/20 [01:18<00:22,  4.43s/it]\u001b[32m[I 2021-02-22 14:41:14,365]\u001b[0m Trial 21 finished with value: 2017760258.9167733 and parameters: {'num_leaves': 69}. Best is trial 19 with value: 1981788985.8686044.\u001b[0m\n",
      "num_leaves, val_score: 1949307059.499325:  80%|########  | 16/20 [01:24<00:18,  4.66s/it]\u001b[32m[I 2021-02-22 14:41:19,569]\u001b[0m Trial 22 finished with value: 2001975542.06975 and parameters: {'num_leaves': 141}. Best is trial 19 with value: 1981788985.8686044.\u001b[0m\n",
      "num_leaves, val_score: 1949307059.499325:  85%|########5 | 17/20 [01:28<00:13,  4.46s/it]\u001b[32m[I 2021-02-22 14:41:23,567]\u001b[0m Trial 23 finished with value: 2003714379.9130254 and parameters: {'num_leaves': 111}. Best is trial 19 with value: 1981788985.8686044.\u001b[0m\n",
      "num_leaves, val_score: 1949307059.499325:  90%|######### | 18/20 [01:33<00:09,  4.88s/it]\u001b[32m[I 2021-02-22 14:41:29,431]\u001b[0m Trial 24 finished with value: 2049456748.8392146 and parameters: {'num_leaves': 171}. Best is trial 19 with value: 1981788985.8686044.\u001b[0m\n",
      "num_leaves, val_score: 1949307059.499325:  95%|#########5| 19/20 [01:36<00:04,  4.20s/it]\u001b[32m[I 2021-02-22 14:41:32,036]\u001b[0m Trial 25 finished with value: 1956603615.1475646 and parameters: {'num_leaves': 50}. Best is trial 25 with value: 1956603615.1475646.\u001b[0m\n",
      "num_leaves, val_score: 1949307059.499325: 100%|##########| 20/20 [01:40<00:00,  4.03s/it]\u001b[32m[I 2021-02-22 14:41:35,682]\u001b[0m Trial 26 finished with value: 1956603615.1475646 and parameters: {'num_leaves': 50}. Best is trial 25 with value: 1956603615.1475646.\u001b[0m\n",
      "num_leaves, val_score: 1949307059.499325: 100%|##########| 20/20 [01:40<00:00,  5.01s/it]\n",
      "bagging, val_score: 1949307059.499325:  10%|#         | 1/10 [00:02<00:25,  2.89s/it]\u001b[32m[I 2021-02-22 14:41:38,583]\u001b[0m Trial 27 finished with value: 2058040724.0398781 and parameters: {'bagging_fraction': 0.6789607888490847, 'bagging_freq': 1}. Best is trial 27 with value: 2058040724.0398781.\u001b[0m\n",
      "bagging, val_score: 1949307059.499325:  20%|##        | 2/10 [00:05<00:22,  2.77s/it]\u001b[32m[I 2021-02-22 14:41:41,271]\u001b[0m Trial 28 finished with value: 2058412265.7710927 and parameters: {'bagging_fraction': 0.6382384586067118, 'bagging_freq': 2}. Best is trial 27 with value: 2058040724.0398781.\u001b[0m\n",
      "bagging, val_score: 1949307059.499325:  30%|###       | 3/10 [00:08<00:20,  2.87s/it]\u001b[32m[I 2021-02-22 14:41:44,265]\u001b[0m Trial 29 finished with value: 2022566859.4286194 and parameters: {'bagging_fraction': 0.9689975648970396, 'bagging_freq': 3}. Best is trial 29 with value: 2022566859.4286194.\u001b[0m\n",
      "bagging, val_score: 1949307059.499325:  40%|####      | 4/10 [00:11<00:17,  2.94s/it]\u001b[32m[I 2021-02-22 14:41:47,318]\u001b[0m Trial 30 finished with value: 2019125904.4126759 and parameters: {'bagging_fraction': 0.7947264008869785, 'bagging_freq': 5}. Best is trial 30 with value: 2019125904.4126759.\u001b[0m\n",
      "bagging, val_score: 1949307059.499325:  50%|#####     | 5/10 [00:14<00:14,  2.87s/it]\u001b[32m[I 2021-02-22 14:41:50,057]\u001b[0m Trial 31 finished with value: 1987043205.8620193 and parameters: {'bagging_fraction': 0.8589564136583515, 'bagging_freq': 7}. Best is trial 31 with value: 1987043205.8620193.\u001b[0m\n",
      "bagging, val_score: 1949307059.499325:  60%|######    | 6/10 [00:16<00:11,  2.77s/it]\u001b[32m[I 2021-02-22 14:41:52,636]\u001b[0m Trial 32 finished with value: 1995986447.1995134 and parameters: {'bagging_fraction': 0.7967369529423736, 'bagging_freq': 1}. Best is trial 31 with value: 1987043205.8620193.\u001b[0m\n",
      "bagging, val_score: 1949307059.499325:  70%|#######   | 7/10 [00:19<00:08,  2.67s/it]\u001b[32m[I 2021-02-22 14:41:55,113]\u001b[0m Trial 33 finished with value: 1955997102.255711 and parameters: {'bagging_fraction': 0.8942338061809765, 'bagging_freq': 6}. Best is trial 33 with value: 1955997102.255711.\u001b[0m\n",
      "bagging, val_score: 1949307059.499325:  80%|########  | 8/10 [00:22<00:05,  2.66s/it]\u001b[32m[I 2021-02-22 14:41:57,747]\u001b[0m Trial 34 finished with value: 2048654658.4711766 and parameters: {'bagging_fraction': 0.5987476817554606, 'bagging_freq': 2}. Best is trial 33 with value: 1955997102.255711.\u001b[0m\n",
      "bagging, val_score: 1949307059.499325:  90%|######### | 9/10 [00:24<00:02,  2.66s/it]\u001b[32m[I 2021-02-22 14:42:00,415]\u001b[0m Trial 35 finished with value: 1972462964.5654855 and parameters: {'bagging_fraction': 0.9885365644176932, 'bagging_freq': 3}. Best is trial 33 with value: 1955997102.255711.\u001b[0m\n",
      "bagging, val_score: 1949307059.499325: 100%|##########| 10/10 [00:27<00:00,  2.64s/it]\u001b[32m[I 2021-02-22 14:42:02,999]\u001b[0m Trial 36 finished with value: 2017973500.1911747 and parameters: {'bagging_fraction': 0.7252191625113514, 'bagging_freq': 3}. Best is trial 33 with value: 1955997102.255711.\u001b[0m\n",
      "bagging, val_score: 1949307059.499325: 100%|##########| 10/10 [00:27<00:00,  2.73s/it]\n",
      "feature_fraction_stage2, val_score: 1949307059.499325:  17%|#6        | 1/6 [00:02<00:11,  2.20s/it]\u001b[32m[I 2021-02-22 14:42:05,220]\u001b[0m Trial 37 finished with value: 1949307059.499325 and parameters: {'feature_fraction': 0.9159999999999999}. Best is trial 37 with value: 1949307059.499325.\u001b[0m\n",
      "feature_fraction_stage2, val_score: 1949307059.499325:  33%|###3      | 2/6 [00:04<00:08,  2.16s/it]\u001b[32m[I 2021-02-22 14:42:07,344]\u001b[0m Trial 38 finished with value: 1949307059.499325 and parameters: {'feature_fraction': 0.8839999999999999}. Best is trial 37 with value: 1949307059.499325.\u001b[0m\n",
      "feature_fraction_stage2, val_score: 1949307059.499325:  50%|#####     | 3/6 [00:06<00:06,  2.30s/it]\u001b[32m[I 2021-02-22 14:42:09,820]\u001b[0m Trial 39 finished with value: 1988181425.985298 and parameters: {'feature_fraction': 0.948}. Best is trial 37 with value: 1949307059.499325.\u001b[0m\n",
      "feature_fraction_stage2, val_score: 1949307059.499325:  67%|######6   | 4/6 [00:09<00:04,  2.30s/it]\u001b[32m[I 2021-02-22 14:42:12,114]\u001b[0m Trial 40 finished with value: 1988181425.985298 and parameters: {'feature_fraction': 0.9799999999999999}. Best is trial 37 with value: 1949307059.499325.\u001b[0m\n",
      "feature_fraction_stage2, val_score: 1949307059.499325:  83%|########3 | 5/6 [00:11<00:02,  2.33s/it]\u001b[32m[I 2021-02-22 14:42:14,504]\u001b[0m Trial 41 finished with value: 1949307059.499325 and parameters: {'feature_fraction': 0.852}. Best is trial 37 with value: 1949307059.499325.\u001b[0m\n",
      "feature_fraction_stage2, val_score: 1949307059.499325: 100%|##########| 6/6 [00:13<00:00,  2.28s/it]\u001b[32m[I 2021-02-22 14:42:16,674]\u001b[0m Trial 42 finished with value: 1949307059.499325 and parameters: {'feature_fraction': 0.82}. Best is trial 37 with value: 1949307059.499325.\u001b[0m\n",
      "feature_fraction_stage2, val_score: 1949307059.499325: 100%|##########| 6/6 [00:13<00:00,  2.28s/it]\n",
      "regularization_factors, val_score: 1949307038.475713:   5%|5         | 1/20 [00:02<00:41,  2.18s/it]\u001b[32m[I 2021-02-22 14:42:18,861]\u001b[0m Trial 43 finished with value: 1949307038.475713 and parameters: {'lambda_l1': 0.09101144524819704, 'lambda_l2': 1.7704703083488795e-08}. Best is trial 43 with value: 1949307038.475713.\u001b[0m\n",
      "regularization_factors, val_score: 1949307038.475713:  10%|#         | 2/20 [00:04<00:39,  2.21s/it]\u001b[32m[I 2021-02-22 14:42:21,099]\u001b[0m Trial 44 finished with value: 1995873001.2074113 and parameters: {'lambda_l1': 2.6557868173633803e-07, 'lambda_l2': 5.183750661759111}. Best is trial 43 with value: 1949307038.475713.\u001b[0m\n",
      "regularization_factors, val_score: 1949307038.475713:  15%|#5        | 3/20 [00:06<00:37,  2.21s/it]\u001b[32m[I 2021-02-22 14:42:23,296]\u001b[0m Trial 45 finished with value: 1965414514.3746212 and parameters: {'lambda_l1': 0.7263427156399412, 'lambda_l2': 0.0013813379781067797}. Best is trial 43 with value: 1949307038.475713.\u001b[0m\n",
      "regularization_factors, val_score: 1949307038.475713:  20%|##        | 4/20 [00:08<00:34,  2.18s/it]\u001b[32m[I 2021-02-22 14:42:25,439]\u001b[0m Trial 46 finished with value: 1954274712.97174 and parameters: {'lambda_l1': 7.578182163631005e-05, 'lambda_l2': 0.00021084910200530688}. Best is trial 43 with value: 1949307038.475713.\u001b[0m\n",
      "regularization_factors, val_score: 1949307038.475713:  25%|##5       | 5/20 [00:10<00:32,  2.16s/it]\u001b[32m[I 2021-02-22 14:42:27,566]\u001b[0m Trial 47 finished with value: 1965414460.2095408 and parameters: {'lambda_l1': 7.072150718391867e-06, 'lambda_l2': 0.0014472465664563316}. Best is trial 43 with value: 1949307038.475713.\u001b[0m\n",
      "regularization_factors, val_score: 1949307038.475713:  30%|###       | 6/20 [00:12<00:29,  2.14s/it]\u001b[32m[I 2021-02-22 14:42:29,671]\u001b[0m Trial 48 finished with value: 1949307057.598466 and parameters: {'lambda_l1': 4.951731906814475e-06, 'lambda_l2': 5.544032280720154e-07}. Best is trial 43 with value: 1949307038.475713.\u001b[0m\n",
      "regularization_factors, val_score: 1949307038.475713:  35%|###5      | 7/20 [00:15<00:27,  2.14s/it]\u001b[32m[I 2021-02-22 14:42:31,794]\u001b[0m Trial 49 finished with value: 2021008326.2503476 and parameters: {'lambda_l1': 0.002348352296820926, 'lambda_l2': 0.143195505557829}. Best is trial 43 with value: 1949307038.475713.\u001b[0m\n",
      "regularization_factors, val_score: 1949307038.475713:  40%|####      | 8/20 [00:17<00:25,  2.16s/it]\u001b[32m[I 2021-02-22 14:42:34,011]\u001b[0m Trial 50 finished with value: 1957224797.2084112 and parameters: {'lambda_l1': 1.5908622169872778e-07, 'lambda_l2': 0.7751981347764194}. Best is trial 43 with value: 1949307038.475713.\u001b[0m\n",
      "regularization_factors, val_score: 1949307038.475713:  45%|####5     | 9/20 [00:19<00:23,  2.16s/it]\u001b[32m[I 2021-02-22 14:42:36,177]\u001b[0m Trial 51 finished with value: 1958710530.5581698 and parameters: {'lambda_l1': 1.997720402454698e-06, 'lambda_l2': 0.3916021711591694}. Best is trial 43 with value: 1949307038.475713.\u001b[0m\n",
      "regularization_factors, val_score: 1949011993.960979:  50%|#####     | 10/20 [00:21<00:21,  2.16s/it]\u001b[32m[I 2021-02-22 14:42:38,329]\u001b[0m Trial 52 finished with value: 1949011993.9609785 and parameters: {'lambda_l1': 1.9741002172068045e-06, 'lambda_l2': 0.0009225859572515588}. Best is trial 52 with value: 1949011993.9609785.\u001b[0m\n",
      "regularization_factors, val_score: 1949011993.960979:  55%|#####5    | 11/20 [00:25<00:23,  2.64s/it]\u001b[32m[I 2021-02-22 14:42:42,063]\u001b[0m Trial 53 finished with value: 1949306996.8346448 and parameters: {'lambda_l1': 1.4927989272260208e-08, 'lambda_l2': 1.815720293048345e-05}. Best is trial 52 with value: 1949011993.9609785.\u001b[0m\n",
      "regularization_factors, val_score: 1949011993.960979:  60%|######    | 12/20 [00:27<00:20,  2.52s/it]\u001b[32m[I 2021-02-22 14:42:44,299]\u001b[0m Trial 54 finished with value: 1949306999.1035354 and parameters: {'lambda_l1': 1.40977148038626e-08, 'lambda_l2': 1.7685279853730492e-05}. Best is trial 52 with value: 1949011993.9609785.\u001b[0m\n",
      "regularization_factors, val_score: 1949011993.960979:  65%|######5   | 13/20 [00:29<00:17,  2.46s/it]\u001b[32m[I 2021-02-22 14:42:46,634]\u001b[0m Trial 55 finished with value: 1949307044.7417297 and parameters: {'lambda_l1': 1.5463768519498943e-08, 'lambda_l2': 4.306626722644303e-06}. Best is trial 52 with value: 1949011993.9609785.\u001b[0m\n",
      "regularization_factors, val_score: 1949011993.960979:  70%|#######   | 14/20 [00:32<00:14,  2.39s/it]\u001b[32m[I 2021-02-22 14:42:48,870]\u001b[0m Trial 56 finished with value: 1989218170.003291 and parameters: {'lambda_l1': 1.0022923369342419e-08, 'lambda_l2': 0.0045395189861971285}. Best is trial 52 with value: 1949011993.9609785.\u001b[0m\n",
      "regularization_factors, val_score: 1949011993.960979:  75%|#######5  | 15/20 [00:34<00:11,  2.34s/it]\u001b[32m[I 2021-02-22 14:42:51,095]\u001b[0m Trial 57 finished with value: 1949306886.7297008 and parameters: {'lambda_l1': 0.0002408003105743025, 'lambda_l2': 5.00826403625466e-05}. Best is trial 52 with value: 1949011993.9609785.\u001b[0m\n",
      "regularization_factors, val_score: 1949011993.960979:  80%|########  | 16/20 [00:36<00:08,  2.17s/it]\u001b[32m[I 2021-02-22 14:42:52,863]\u001b[0m Trial 58 finished with value: 1976046665.7503545 and parameters: {'lambda_l1': 0.0012739301862614585, 'lambda_l2': 0.015123687061631018}. Best is trial 52 with value: 1949011993.9609785.\u001b[0m\n",
      "regularization_factors, val_score: 1949011993.960979:  85%|########5 | 17/20 [00:37<00:05,  1.96s/it]\u001b[32m[I 2021-02-22 14:42:54,331]\u001b[0m Trial 59 finished with value: 1949307059.0756855 and parameters: {'lambda_l1': 0.000111924254335766, 'lambda_l2': 1.2760174203841509e-07}. Best is trial 52 with value: 1949011993.9609785.\u001b[0m\n",
      "regularization_factors, val_score: 1949011993.960979:  90%|######### | 18/20 [00:39<00:03,  1.80s/it]\u001b[32m[I 2021-02-22 14:42:55,768]\u001b[0m Trial 60 finished with value: 1954274496.2320116 and parameters: {'lambda_l1': 0.011232645128874983, 'lambda_l2': 0.00027341062705489946}. Best is trial 52 with value: 1949011993.9609785.\u001b[0m\n",
      "regularization_factors, val_score: 1949011993.960979:  95%|#########5| 19/20 [00:40<00:01,  1.76s/it]\u001b[32m[I 2021-02-22 14:42:57,426]\u001b[0m Trial 61 finished with value: 1949306916.0588307 and parameters: {'lambda_l1': 3.406557565523097e-05, 'lambda_l2': 4.1565414801737324e-05}. Best is trial 52 with value: 1949011993.9609785.\u001b[0m\n",
      "regularization_factors, val_score: 1949011993.960979: 100%|##########| 20/20 [00:42<00:00,  1.78s/it]\u001b[32m[I 2021-02-22 14:42:59,261]\u001b[0m Trial 62 finished with value: 1949868047.0339825 and parameters: {'lambda_l1': 7.935752792484713, 'lambda_l2': 1.1227100513172882e-06}. Best is trial 52 with value: 1949011993.9609785.\u001b[0m\n",
      "regularization_factors, val_score: 1949011993.960979: 100%|##########| 20/20 [00:42<00:00,  2.13s/it]\n",
      "min_data_in_leaf, val_score: 1949011993.960979:  20%|##        | 1/5 [00:01<00:06,  1.62s/it]\u001b[32m[I 2021-02-22 14:43:00,901]\u001b[0m Trial 63 finished with value: 1989752975.1835222 and parameters: {'min_child_samples': 5}. Best is trial 63 with value: 1989752975.1835222.\u001b[0m\n",
      "min_data_in_leaf, val_score: 1949011993.960979:  40%|####      | 2/5 [00:03<00:04,  1.64s/it]\u001b[32m[I 2021-02-22 14:43:02,562]\u001b[0m Trial 64 finished with value: 1970804604.9243653 and parameters: {'min_child_samples': 50}. Best is trial 64 with value: 1970804604.9243653.\u001b[0m\n",
      "min_data_in_leaf, val_score: 1949011993.960979:  60%|######    | 3/5 [00:04<00:03,  1.63s/it]\u001b[32m[I 2021-02-22 14:43:04,166]\u001b[0m Trial 65 finished with value: 1998195068.5676072 and parameters: {'min_child_samples': 25}. Best is trial 64 with value: 1970804604.9243653.\u001b[0m\n",
      "min_data_in_leaf, val_score: 1949011993.960979:  80%|########  | 4/5 [00:06<00:01,  1.68s/it]\u001b[32m[I 2021-02-22 14:43:05,928]\u001b[0m Trial 66 finished with value: 2013164530.6381345 and parameters: {'min_child_samples': 100}. Best is trial 64 with value: 1970804604.9243653.\u001b[0m\n",
      "min_data_in_leaf, val_score: 1915185243.192194: 100%|##########| 5/5 [00:08<00:00,  1.61s/it]\u001b[32m[I 2021-02-22 14:43:07,426]\u001b[0m Trial 67 finished with value: 1915185243.1921945 and parameters: {'min_child_samples': 10}. Best is trial 67 with value: 1915185243.1921945.\u001b[0m\n",
      "min_data_in_leaf, val_score: 1915185243.192194: 100%|##########| 5/5 [00:08<00:00,  1.63s/it]Wall time: 3min 26s\n",
      "\n"
     ]
    }
   ],
   "source": [
    "%%time\n",
    "model = lgb.train(params, dtrain, valid_sets=[dtrain, dval], verbose_eval=10000)        \n"
   ]
  },
  {
   "cell_type": "code",
   "execution_count": 23,
   "metadata": {},
   "outputs": [
    {
     "output_type": "stream",
     "name": "stdout",
     "text": [
      "Optuna LightGBM Tuner r2 = 0.8476245395516778\n"
     ]
    }
   ],
   "source": [
    "y_pred = model.predict(X_test)\n",
    "from flaml.ml import sklearn_metric_loss_score\n",
    "print('Optuna LightGBM Tuner r2', '=', 1 - sklearn_metric_loss_score('r2', y_pred, y_test))"
   ]
  }
 ],
 "metadata": {
  "kernelspec": {
   "name": "python3",
   "display_name": "Python 3.7.7 64-bit ('flaml': conda)",
   "metadata": {
    "interpreter": {
     "hash": "bfcd9a6a9254a5e160761a1fd7a9e444f011592c6770d9f4180dde058a9df5dd"
    }
   }
  },
  "language_info": {
   "codemirror_mode": {
    "name": "ipython",
    "version": 3
   },
   "file_extension": ".py",
   "mimetype": "text/x-python",
   "name": "python",
   "nbconvert_exporter": "python",
   "pygments_lexer": "ipython3",
   "version": "3.7.7-final"
  }
 },
 "nbformat": 4,
 "nbformat_minor": 2
}