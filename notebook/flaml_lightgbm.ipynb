{
 "cells": [
  {
   "cell_type": "markdown",
   "metadata": {
    "slideshow": {
     "slide_type": "slide"
    }
   },
   "source": [
    "Copyright (c) 2020-2021 Microsoft Corporation. All rights reserved. \n",
    "\n",
    "Licensed under the MIT License.\n",
    "\n",
    "# Tune LightGBM with FLAML Library\n",
    "\n",
    "\n",
    "## 1. Introduction\n",
    "\n",
    "FLAML is a Python library (https://github.com/microsoft/FLAML) designed to automatically produce accurate machine learning models \n",
    "with low computational cost. It is fast and cheap. The simple and lightweight design makes it easy \n",
    "to use and extend, such as adding new learners. FLAML can \n",
    "- serve as an economical AutoML engine,\n",
    "- be used as a fast hyperparameter tuning tool, or \n",
    "- be embedded in self-tuning software that requires low latency & resource in repetitive\n",
    "   tuning tasks.\n",
    "\n",
    "In this notebook, we demonstrate how to use FLAML library to tune hyperparameters of LightGBM with a regression example.\n",
    "\n",
    "FLAML requires `Python>=3.6`. To run this notebook example, please install flaml with the `notebook` option:\n",
    "```bash\n",
    "pip install flaml[notebook]\n",
    "```"
   ]
  },
  {
   "cell_type": "code",
   "execution_count": null,
   "metadata": {},
   "outputs": [],
   "source": [
    "!pip install flaml[notebook];"
   ]
  },
  {
   "cell_type": "markdown",
   "metadata": {
    "slideshow": {
     "slide_type": "slide"
    }
   },
   "source": [
    "## 2. Regression Example\n",
    "### Load data and preprocess\n",
    "\n",
    "Download [houses dataset](https://www.openml.org/d/537) from OpenML. The task is to predict median price of the house in the region based on demographic composition and a state of housing market in the region."
   ]
  },
  {
   "cell_type": "code",
   "execution_count": 2,
   "metadata": {
    "slideshow": {
     "slide_type": "subslide"
    },
    "tags": []
   },
   "outputs": [
    {
     "output_type": "stream",
     "name": "stdout",
     "text": [
      "load dataset from ./openml_ds537.pkl\nDataset name: houses\nX_train.shape: (15480, 8), y_train.shape: (15480,);\nX_test.shape: (5160, 8), y_test.shape: (5160,)\n"
     ]
    }
   ],
   "source": [
    "from flaml.data import load_openml_dataset\n",
    "X_train, X_test, y_train, y_test = load_openml_dataset(dataset_id=537, data_dir='./')"
   ]
  },
  {
   "cell_type": "markdown",
   "metadata": {
    "slideshow": {
     "slide_type": "slide"
    }
   },
   "source": [
    "### Run FLAML\n",
    "In the FLAML automl run configuration, users can specify the task type, time budget, error metric, learner list, whether to subsample, resampling strategy type, and so on. All these arguments have default values which will be used if users do not provide them. "
   ]
  },
  {
   "cell_type": "code",
   "execution_count": 3,
   "metadata": {
    "slideshow": {
     "slide_type": "slide"
    }
   },
   "outputs": [],
   "source": [
    "''' import AutoML class from flaml package '''\n",
    "from flaml import AutoML\n",
    "automl = AutoML()"
   ]
  },
  {
   "cell_type": "code",
   "execution_count": 4,
   "metadata": {
    "slideshow": {
     "slide_type": "slide"
    }
   },
   "outputs": [],
   "source": [
    "settings = {\n",
    "    \"time_budget\": 120,  # total running time in seconds\n",
    "    \"metric\": 'r2',  # primary metrics for regression can be chosen from: ['mae','mse','r2']\n",
    "    \"estimator_list\": ['lgbm'],  # list of ML learners; we tune lightgbm in this example\n",
    "    \"task\": 'regression',  # task type    \n",
    "    \"log_file_name\": 'houses_experiment.log',  # flaml log file\n",
    "}"
   ]
  },
  {
   "cell_type": "code",
   "execution_count": 5,
   "metadata": {
    "slideshow": {
     "slide_type": "slide"
    },
    "tags": []
   },
   "outputs": [
    {
     "output_type": "stream",
     "name": "stderr",
     "text": [
      "[flaml.automl: 04-07 09:44:04] {890} INFO - Evaluation method: cv\n",
      "[flaml.automl: 04-07 09:44:04] {606} INFO - Using RepeatedKFold\n",
      "[flaml.automl: 04-07 09:44:04] {911} INFO - Minimizing error metric: 1-r2\n",
      "[flaml.automl: 04-07 09:44:04] {929} INFO - List of ML learners in AutoML Run: ['lgbm']\n",
      "[flaml.automl: 04-07 09:44:04] {993} INFO - iteration 0, current learner lgbm\n",
      "[flaml.automl: 04-07 09:44:05] {1141} INFO -  at 0.4s,\tbest lgbm's error=0.7383,\tbest lgbm's error=0.7383\n",
      "[flaml.automl: 04-07 09:44:05] {993} INFO - iteration 1, current learner lgbm\n",
      "[flaml.automl: 04-07 09:44:05] {1141} INFO -  at 0.5s,\tbest lgbm's error=0.7383,\tbest lgbm's error=0.7383\n",
      "[flaml.automl: 04-07 09:44:05] {993} INFO - iteration 2, current learner lgbm\n",
      "[flaml.automl: 04-07 09:44:05] {1141} INFO -  at 0.8s,\tbest lgbm's error=0.3888,\tbest lgbm's error=0.3888\n",
      "[flaml.automl: 04-07 09:44:05] {993} INFO - iteration 3, current learner lgbm\n",
      "[flaml.automl: 04-07 09:44:05] {1141} INFO -  at 0.9s,\tbest lgbm's error=0.3888,\tbest lgbm's error=0.3888\n",
      "[flaml.automl: 04-07 09:44:05] {993} INFO - iteration 4, current learner lgbm\n",
      "[flaml.automl: 04-07 09:44:05] {1141} INFO -  at 1.3s,\tbest lgbm's error=0.2657,\tbest lgbm's error=0.2657\n",
      "[flaml.automl: 04-07 09:44:05] {993} INFO - iteration 5, current learner lgbm\n",
      "[flaml.automl: 04-07 09:44:06] {1141} INFO -  at 1.7s,\tbest lgbm's error=0.2256,\tbest lgbm's error=0.2256\n",
      "[flaml.automl: 04-07 09:44:06] {993} INFO - iteration 6, current learner lgbm\n",
      "[flaml.automl: 04-07 09:44:06] {1141} INFO -  at 1.9s,\tbest lgbm's error=0.2256,\tbest lgbm's error=0.2256\n",
      "[flaml.automl: 04-07 09:44:06] {993} INFO - iteration 7, current learner lgbm\n",
      "[flaml.automl: 04-07 09:44:06] {1141} INFO -  at 2.3s,\tbest lgbm's error=0.2256,\tbest lgbm's error=0.2256\n",
      "[flaml.automl: 04-07 09:44:06] {993} INFO - iteration 8, current learner lgbm\n",
      "[flaml.automl: 04-07 09:44:07] {1141} INFO -  at 2.5s,\tbest lgbm's error=0.2256,\tbest lgbm's error=0.2256\n",
      "[flaml.automl: 04-07 09:44:07] {993} INFO - iteration 9, current learner lgbm\n",
      "[flaml.automl: 04-07 09:44:07] {1141} INFO -  at 2.8s,\tbest lgbm's error=0.2256,\tbest lgbm's error=0.2256\n",
      "[flaml.automl: 04-07 09:44:07] {993} INFO - iteration 10, current learner lgbm\n",
      "[flaml.automl: 04-07 09:44:07] {1141} INFO -  at 3.0s,\tbest lgbm's error=0.2256,\tbest lgbm's error=0.2256\n",
      "[flaml.automl: 04-07 09:44:07] {993} INFO - iteration 11, current learner lgbm\n",
      "[flaml.automl: 04-07 09:44:08] {1141} INFO -  at 3.6s,\tbest lgbm's error=0.2099,\tbest lgbm's error=0.2099\n",
      "[flaml.automl: 04-07 09:44:08] {993} INFO - iteration 12, current learner lgbm\n",
      "[flaml.automl: 04-07 09:44:09] {1141} INFO -  at 4.7s,\tbest lgbm's error=0.2099,\tbest lgbm's error=0.2099\n",
      "[flaml.automl: 04-07 09:44:09] {993} INFO - iteration 13, current learner lgbm\n",
      "[flaml.automl: 04-07 09:44:09] {1141} INFO -  at 4.9s,\tbest lgbm's error=0.2099,\tbest lgbm's error=0.2099\n",
      "[flaml.automl: 04-07 09:44:09] {993} INFO - iteration 14, current learner lgbm\n",
      "[flaml.automl: 04-07 09:44:10] {1141} INFO -  at 6.3s,\tbest lgbm's error=0.1644,\tbest lgbm's error=0.1644\n",
      "[flaml.automl: 04-07 09:44:10] {993} INFO - iteration 15, current learner lgbm\n",
      "[flaml.automl: 04-07 09:44:11] {1141} INFO -  at 7.0s,\tbest lgbm's error=0.1644,\tbest lgbm's error=0.1644\n",
      "[flaml.automl: 04-07 09:44:11] {993} INFO - iteration 16, current learner lgbm\n",
      "[flaml.automl: 04-07 09:44:19] {1141} INFO -  at 14.9s,\tbest lgbm's error=0.1644,\tbest lgbm's error=0.1644\n",
      "[flaml.automl: 04-07 09:44:19] {993} INFO - iteration 17, current learner lgbm\n",
      "[flaml.automl: 04-07 09:44:20] {1141} INFO -  at 16.0s,\tbest lgbm's error=0.1644,\tbest lgbm's error=0.1644\n",
      "[flaml.automl: 04-07 09:44:20] {993} INFO - iteration 18, current learner lgbm\n",
      "[flaml.automl: 04-07 09:44:25] {1141} INFO -  at 20.4s,\tbest lgbm's error=0.1644,\tbest lgbm's error=0.1644\n",
      "[flaml.automl: 04-07 09:44:25] {993} INFO - iteration 19, current learner lgbm\n",
      "[flaml.automl: 04-07 09:44:25] {1141} INFO -  at 20.9s,\tbest lgbm's error=0.1644,\tbest lgbm's error=0.1644\n",
      "[flaml.automl: 04-07 09:44:25] {993} INFO - iteration 20, current learner lgbm\n",
      "[flaml.automl: 04-07 09:44:26] {1141} INFO -  at 21.9s,\tbest lgbm's error=0.1644,\tbest lgbm's error=0.1644\n",
      "[flaml.automl: 04-07 09:44:26] {993} INFO - iteration 21, current learner lgbm\n",
      "[flaml.automl: 04-07 09:44:26] {1141} INFO -  at 22.4s,\tbest lgbm's error=0.1644,\tbest lgbm's error=0.1644\n",
      "[flaml.automl: 04-07 09:44:26] {993} INFO - iteration 22, current learner lgbm\n",
      "[flaml.automl: 04-07 09:44:31] {1141} INFO -  at 26.9s,\tbest lgbm's error=0.1644,\tbest lgbm's error=0.1644\n",
      "[flaml.automl: 04-07 09:44:31] {993} INFO - iteration 23, current learner lgbm\n",
      "[flaml.automl: 04-07 09:44:33] {1141} INFO -  at 28.4s,\tbest lgbm's error=0.1644,\tbest lgbm's error=0.1644\n",
      "[flaml.automl: 04-07 09:44:33] {993} INFO - iteration 24, current learner lgbm\n",
      "[flaml.automl: 04-07 09:44:34] {1141} INFO -  at 29.7s,\tbest lgbm's error=0.1644,\tbest lgbm's error=0.1644\n",
      "[flaml.automl: 04-07 09:44:34] {993} INFO - iteration 25, current learner lgbm\n",
      "[flaml.automl: 04-07 09:44:35] {1141} INFO -  at 30.8s,\tbest lgbm's error=0.1644,\tbest lgbm's error=0.1644\n",
      "[flaml.automl: 04-07 09:44:35] {993} INFO - iteration 26, current learner lgbm\n",
      "[flaml.automl: 04-07 09:44:37] {1141} INFO -  at 32.5s,\tbest lgbm's error=0.1644,\tbest lgbm's error=0.1644\n",
      "[flaml.automl: 04-07 09:44:37] {993} INFO - iteration 27, current learner lgbm\n",
      "[flaml.automl: 04-07 09:44:37] {1141} INFO -  at 33.2s,\tbest lgbm's error=0.1644,\tbest lgbm's error=0.1644\n",
      "[flaml.automl: 04-07 09:44:37] {993} INFO - iteration 28, current learner lgbm\n",
      "[flaml.automl: 04-07 09:44:39] {1141} INFO -  at 34.8s,\tbest lgbm's error=0.1644,\tbest lgbm's error=0.1644\n",
      "[flaml.automl: 04-07 09:44:39] {993} INFO - iteration 29, current learner lgbm\n",
      "[flaml.automl: 04-07 09:44:44] {1141} INFO -  at 39.6s,\tbest lgbm's error=0.1604,\tbest lgbm's error=0.1604\n",
      "[flaml.automl: 04-07 09:44:44] {993} INFO - iteration 30, current learner lgbm\n",
      "[flaml.automl: 04-07 09:44:44] {1141} INFO -  at 40.2s,\tbest lgbm's error=0.1604,\tbest lgbm's error=0.1604\n",
      "[flaml.automl: 04-07 09:44:44] {993} INFO - iteration 31, current learner lgbm\n",
      "[flaml.automl: 04-07 09:44:58] {1141} INFO -  at 54.3s,\tbest lgbm's error=0.1604,\tbest lgbm's error=0.1604\n",
      "[flaml.automl: 04-07 09:44:58] {993} INFO - iteration 32, current learner lgbm\n",
      "[flaml.automl: 04-07 09:45:02] {1141} INFO -  at 58.0s,\tbest lgbm's error=0.1604,\tbest lgbm's error=0.1604\n",
      "[flaml.automl: 04-07 09:45:02] {993} INFO - iteration 33, current learner lgbm\n",
      "[flaml.automl: 04-07 09:45:03] {1141} INFO -  at 58.6s,\tbest lgbm's error=0.1604,\tbest lgbm's error=0.1604\n",
      "[flaml.automl: 04-07 09:45:03] {993} INFO - iteration 34, current learner lgbm\n",
      "[flaml.automl: 04-07 09:45:28] {1141} INFO -  at 83.5s,\tbest lgbm's error=0.1604,\tbest lgbm's error=0.1604\n",
      "[flaml.automl: 04-07 09:45:28] {993} INFO - iteration 35, current learner lgbm\n",
      "[flaml.automl: 04-07 09:45:34] {1141} INFO -  at 89.9s,\tbest lgbm's error=0.1604,\tbest lgbm's error=0.1604\n",
      "[flaml.automl: 04-07 09:45:34] {993} INFO - iteration 36, current learner lgbm\n",
      "[flaml.automl: 04-07 09:45:37] {1141} INFO -  at 92.4s,\tbest lgbm's error=0.1604,\tbest lgbm's error=0.1604\n",
      "[flaml.automl: 04-07 09:45:37] {993} INFO - iteration 37, current learner lgbm\n",
      "[flaml.automl: 04-07 09:45:40] {1141} INFO -  at 95.7s,\tbest lgbm's error=0.1604,\tbest lgbm's error=0.1604\n",
      "[flaml.automl: 04-07 09:45:40] {993} INFO - iteration 38, current learner lgbm\n",
      "[flaml.automl: 04-07 09:45:42] {1141} INFO -  at 97.5s,\tbest lgbm's error=0.1604,\tbest lgbm's error=0.1604\n",
      "[flaml.automl: 04-07 09:45:42] {993} INFO - iteration 39, current learner lgbm\n",
      "[flaml.automl: 04-07 09:45:52] {1141} INFO -  at 107.4s,\tbest lgbm's error=0.1604,\tbest lgbm's error=0.1604\n",
      "[flaml.automl: 04-07 09:45:52] {993} INFO - iteration 40, current learner lgbm\n",
      "[flaml.automl: 04-07 09:45:56] {1141} INFO -  at 111.4s,\tbest lgbm's error=0.1604,\tbest lgbm's error=0.1604\n",
      "[flaml.automl: 04-07 09:45:56] {993} INFO - iteration 41, current learner lgbm\n",
      "[flaml.automl: 04-07 09:45:58] {1141} INFO -  at 113.6s,\tbest lgbm's error=0.1604,\tbest lgbm's error=0.1604\n",
      "[flaml.automl: 04-07 09:45:58] {993} INFO - iteration 42, current learner lgbm\n",
      "[flaml.automl: 04-07 09:46:03] {1141} INFO -  at 118.5s,\tbest lgbm's error=0.1604,\tbest lgbm's error=0.1604\n",
      "[flaml.automl: 04-07 09:46:03] {1187} INFO - selected model: LGBMRegressor(colsample_bytree=0.7586723794764185,\n",
      "              learning_rate=0.10418050364992694, max_bin=127,\n",
      "              min_child_samples=21, n_estimators=95, num_leaves=254,\n",
      "              objective='regression', reg_alpha=0.09228337080759572,\n",
      "              reg_lambda=0.46673178167010676, subsample=0.9097941662911945)\n",
      "[flaml.automl: 04-07 09:46:03] {944} INFO - fit succeeded\n"
     ]
    }
   ],
   "source": [
    "'''The main flaml automl API'''\n",
    "automl.fit(X_train=X_train, y_train=y_train, **settings)"
   ]
  },
  {
   "cell_type": "markdown",
   "metadata": {
    "slideshow": {
     "slide_type": "slide"
    }
   },
   "source": [
    "### Best model and metric"
   ]
  },
  {
   "cell_type": "code",
   "execution_count": 6,
   "metadata": {
    "slideshow": {
     "slide_type": "slide"
    },
    "tags": []
   },
   "outputs": [
    {
     "output_type": "stream",
     "name": "stdout",
     "text": [
      "Best hyperparmeter config: {'n_estimators': 95.0, 'num_leaves': 254.0, 'min_child_samples': 21.0, 'learning_rate': 0.10418050364992694, 'subsample': 0.9097941662911945, 'log_max_bin': 7.0, 'colsample_bytree': 0.7586723794764185, 'reg_alpha': 0.09228337080759572, 'reg_lambda': 0.46673178167010676}\nBest r2 on validation data: 0.8396\nTraining duration of best run: 4.812 s\n"
     ]
    }
   ],
   "source": [
    "''' retrieve best config'''\n",
    "print('Best hyperparmeter config:', automl.best_config)\n",
    "print('Best r2 on validation data: {0:.4g}'.format(1-automl.best_loss))\n",
    "print('Training duration of best run: {0:.4g} s'.format(automl.best_config_train_time))"
   ]
  },
  {
   "cell_type": "code",
   "execution_count": 7,
   "metadata": {
    "slideshow": {
     "slide_type": "slide"
    }
   },
   "outputs": [
    {
     "output_type": "execute_result",
     "data": {
      "text/plain": [
       "LGBMRegressor(colsample_bytree=0.7586723794764185,\n",
       "              learning_rate=0.10418050364992694, max_bin=127,\n",
       "              min_child_samples=21, n_estimators=95, num_leaves=254,\n",
       "              objective='regression', reg_alpha=0.09228337080759572,\n",
       "              reg_lambda=0.46673178167010676, subsample=0.9097941662911945)"
      ]
     },
     "metadata": {},
     "execution_count": 7
    }
   ],
   "source": [
    "automl.model"
   ]
  },
  {
   "cell_type": "code",
   "execution_count": 8,
   "metadata": {
    "slideshow": {
     "slide_type": "slide"
    }
   },
   "outputs": [],
   "source": [
    "''' pickle and save the automl object '''\n",
    "import pickle\n",
    "with open('automl.pkl', 'wb') as f:\n",
    "    pickle.dump(automl, f, pickle.HIGHEST_PROTOCOL)"
   ]
  },
  {
   "cell_type": "code",
   "execution_count": 9,
   "metadata": {
    "slideshow": {
     "slide_type": "slide"
    },
    "tags": []
   },
   "outputs": [
    {
     "output_type": "stream",
     "name": "stdout",
     "text": [
      "Predicted labels [150367.25556214 263353.37798151 136897.76625025 ... 190606.68038356\n 237816.02972335 263063.11183796]\nTrue labels [136900. 241300. 200700. ... 160900. 227300. 265600.]\n"
     ]
    }
   ],
   "source": [
    "''' compute predictions of testing dataset ''' \n",
    "y_pred = automl.predict(X_test)\n",
    "print('Predicted labels', y_pred)\n",
    "print('True labels', y_test)"
   ]
  },
  {
   "cell_type": "code",
   "execution_count": 10,
   "metadata": {
    "slideshow": {
     "slide_type": "slide"
    },
    "tags": []
   },
   "outputs": [
    {
     "output_type": "stream",
     "name": "stdout",
     "text": [
      "r2 = 0.8500929784828137\nmse = 1981546944.5284543\nmae = 29485.579651356835\n"
     ]
    }
   ],
   "source": [
    "''' compute different metric values on testing dataset'''\n",
    "from flaml.ml import sklearn_metric_loss_score\n",
    "print('r2', '=', 1 - sklearn_metric_loss_score('r2', y_pred, y_test))\n",
    "print('mse', '=', sklearn_metric_loss_score('mse', y_pred, y_test))\n",
    "print('mae', '=', sklearn_metric_loss_score('mae', y_pred, y_test))"
   ]
  },
  {
   "cell_type": "code",
   "execution_count": 11,
   "metadata": {
    "slideshow": {
     "slide_type": "subslide"
    },
    "tags": []
   },
   "outputs": [
    {
     "output_type": "stream",
     "name": "stdout",
     "text": [
      "{'Current Learner': 'lgbm', 'Current Sample': 15480, 'Current Hyper-parameters': {'n_estimators': 4, 'num_leaves': 4, 'min_child_samples': 20, 'learning_rate': 0.1, 'subsample': 1.0, 'log_max_bin': 8, 'colsample_bytree': 1.0, 'reg_alpha': 0.0009765625, 'reg_lambda': 1.0}, 'Best Learner': 'lgbm', 'Best Hyper-parameters': {'n_estimators': 4, 'num_leaves': 4, 'min_child_samples': 20, 'learning_rate': 0.1, 'subsample': 1.0, 'log_max_bin': 8, 'colsample_bytree': 1.0, 'reg_alpha': 0.0009765625, 'reg_lambda': 1.0}}\n{'Current Learner': 'lgbm', 'Current Sample': 15480, 'Current Hyper-parameters': {'n_estimators': 4.0, 'num_leaves': 4.0, 'min_child_samples': 25.0, 'learning_rate': 1.0, 'subsample': 0.8513627344387318, 'log_max_bin': 10.0, 'colsample_bytree': 0.9684145930669938, 'reg_alpha': 0.001831177697321707, 'reg_lambda': 0.2790165919053839}, 'Best Learner': 'lgbm', 'Best Hyper-parameters': {'n_estimators': 4.0, 'num_leaves': 4.0, 'min_child_samples': 25.0, 'learning_rate': 1.0, 'subsample': 0.8513627344387318, 'log_max_bin': 10.0, 'colsample_bytree': 0.9684145930669938, 'reg_alpha': 0.001831177697321707, 'reg_lambda': 0.2790165919053839}}\n{'Current Learner': 'lgbm', 'Current Sample': 15480, 'Current Hyper-parameters': {'n_estimators': 20.0, 'num_leaves': 4.0, 'min_child_samples': 48.0, 'learning_rate': 1.0, 'subsample': 0.9814787163243813, 'log_max_bin': 10.0, 'colsample_bytree': 0.9534346594834143, 'reg_alpha': 0.002208534076096185, 'reg_lambda': 0.5460627024738886}, 'Best Learner': 'lgbm', 'Best Hyper-parameters': {'n_estimators': 20.0, 'num_leaves': 4.0, 'min_child_samples': 48.0, 'learning_rate': 1.0, 'subsample': 0.9814787163243813, 'log_max_bin': 10.0, 'colsample_bytree': 0.9534346594834143, 'reg_alpha': 0.002208534076096185, 'reg_lambda': 0.5460627024738886}}\n{'Current Learner': 'lgbm', 'Current Sample': 15480, 'Current Hyper-parameters': {'n_estimators': 11.0, 'num_leaves': 15.0, 'min_child_samples': 42.0, 'learning_rate': 0.4743416464891248, 'subsample': 0.9233328006239466, 'log_max_bin': 10.0, 'colsample_bytree': 1.0, 'reg_alpha': 0.034996420228767956, 'reg_lambda': 0.6169079461473814}, 'Best Learner': 'lgbm', 'Best Hyper-parameters': {'n_estimators': 11.0, 'num_leaves': 15.0, 'min_child_samples': 42.0, 'learning_rate': 0.4743416464891248, 'subsample': 0.9233328006239466, 'log_max_bin': 10.0, 'colsample_bytree': 1.0, 'reg_alpha': 0.034996420228767956, 'reg_lambda': 0.6169079461473814}}\n{'Current Learner': 'lgbm', 'Current Sample': 15480, 'Current Hyper-parameters': {'n_estimators': 22.0, 'num_leaves': 44.0, 'min_child_samples': 33.0, 'learning_rate': 0.7277554644304967, 'subsample': 0.8890322269681047, 'log_max_bin': 9.0, 'colsample_bytree': 0.8917187085424868, 'reg_alpha': 0.3477637978466495, 'reg_lambda': 0.24655709710146537}, 'Best Learner': 'lgbm', 'Best Hyper-parameters': {'n_estimators': 22.0, 'num_leaves': 44.0, 'min_child_samples': 33.0, 'learning_rate': 0.7277554644304967, 'subsample': 0.8890322269681047, 'log_max_bin': 9.0, 'colsample_bytree': 0.8917187085424868, 'reg_alpha': 0.3477637978466495, 'reg_lambda': 0.24655709710146537}}\n{'Current Learner': 'lgbm', 'Current Sample': 15480, 'Current Hyper-parameters': {'n_estimators': 60.0, 'num_leaves': 72.0, 'min_child_samples': 37.0, 'learning_rate': 0.23811059538783155, 'subsample': 1.0, 'log_max_bin': 8.0, 'colsample_bytree': 0.9162072323824675, 'reg_alpha': 0.7017839907881602, 'reg_lambda': 0.23027329389914142}, 'Best Learner': 'lgbm', 'Best Hyper-parameters': {'n_estimators': 60.0, 'num_leaves': 72.0, 'min_child_samples': 37.0, 'learning_rate': 0.23811059538783155, 'subsample': 1.0, 'log_max_bin': 8.0, 'colsample_bytree': 0.9162072323824675, 'reg_alpha': 0.7017839907881602, 'reg_lambda': 0.23027329389914142}}\n{'Current Learner': 'lgbm', 'Current Sample': 15480, 'Current Hyper-parameters': {'n_estimators': 95.0, 'num_leaves': 254.0, 'min_child_samples': 21.0, 'learning_rate': 0.10418050364992694, 'subsample': 0.9097941662911945, 'log_max_bin': 7.0, 'colsample_bytree': 0.7586723794764185, 'reg_alpha': 0.09228337080759572, 'reg_lambda': 0.46673178167010676}, 'Best Learner': 'lgbm', 'Best Hyper-parameters': {'n_estimators': 95.0, 'num_leaves': 254.0, 'min_child_samples': 21.0, 'learning_rate': 0.10418050364992694, 'subsample': 0.9097941662911945, 'log_max_bin': 7.0, 'colsample_bytree': 0.7586723794764185, 'reg_alpha': 0.09228337080759572, 'reg_lambda': 0.46673178167010676}}\n"
     ]
    }
   ],
   "source": [
    "from flaml.data import get_output_from_log\n",
    "time_history, best_valid_loss_history, valid_loss_history, config_history, train_loss_history = \\\n",
    "    get_output_from_log(filename=settings['log_file_name'], time_budget=60)\n",
    "\n",
    "for config in config_history:\n",
    "    print(config)"
   ]
  },
  {
   "cell_type": "code",
   "execution_count": 12,
   "metadata": {
    "slideshow": {
     "slide_type": "slide"
    }
   },
   "outputs": [
    {
     "output_type": "display_data",
     "data": {
      "text/plain": "<Figure size 432x288 with 1 Axes>",
      "image/svg+xml": "<?xml version=\"1.0\" encoding=\"utf-8\" standalone=\"no\"?>\n<!DOCTYPE svg PUBLIC \"-//W3C//DTD SVG 1.1//EN\"\n  \"http://www.w3.org/Graphics/SVG/1.1/DTD/svg11.dtd\">\n<!-- Created with matplotlib (https://matplotlib.org/) -->\n<svg height=\"277.314375pt\" version=\"1.1\" viewBox=\"0 0 385.78125 277.314375\" width=\"385.78125pt\" xmlns=\"http://www.w3.org/2000/svg\" xmlns:xlink=\"http://www.w3.org/1999/xlink\">\n <defs>\n  <style type=\"text/css\">\n*{stroke-linecap:butt;stroke-linejoin:round;}\n  </style>\n </defs>\n <g id=\"figure_1\">\n  <g id=\"patch_1\">\n   <path d=\"M 0 277.314375 \nL 385.78125 277.314375 \nL 385.78125 0 \nL 0 0 \nz\n\" style=\"fill:none;\"/>\n  </g>\n  <g id=\"axes_1\">\n   <g id=\"patch_2\">\n    <path d=\"M 43.78125 239.758125 \nL 378.58125 239.758125 \nL 378.58125 22.318125 \nL 43.78125 22.318125 \nz\n\" style=\"fill:#ffffff;\"/>\n   </g>\n   <g id=\"PathCollection_1\">\n    <defs>\n     <path d=\"M 0 3 \nC 0.795609 3 1.55874 2.683901 2.12132 2.12132 \nC 2.683901 1.55874 3 0.795609 3 0 \nC 3 -0.795609 2.683901 -1.55874 2.12132 -2.12132 \nC 1.55874 -2.683901 0.795609 -3 0 -3 \nC -0.795609 -3 -1.55874 -2.683901 -2.12132 -2.12132 \nC -2.683901 -1.55874 -3 -0.795609 -3 0 \nC -3 0.795609 -2.683901 1.55874 -2.12132 2.12132 \nC -1.55874 2.683901 -0.795609 3 0 3 \nz\n\" id=\"m559b741c5f\" style=\"stroke:#1f77b4;\"/>\n    </defs>\n    <g clip-path=\"url(#p95a63bce45)\">\n     <use style=\"fill:#1f77b4;stroke:#1f77b4;\" x=\"58.999432\" xlink:href=\"#m559b741c5f\" y=\"229.874489\"/>\n     <use style=\"fill:#1f77b4;stroke:#1f77b4;\" x=\"61.865949\" xlink:href=\"#m559b741c5f\" y=\"110.31857\"/>\n     <use style=\"fill:#1f77b4;stroke:#1f77b4;\" x=\"65.983189\" xlink:href=\"#m559b741c5f\" y=\"68.231069\"/>\n     <use style=\"fill:#1f77b4;stroke:#1f77b4;\" x=\"69.28761\" xlink:href=\"#m559b741c5f\" y=\"54.493868\"/>\n     <use style=\"fill:#1f77b4;stroke:#1f77b4;\" x=\"84.233916\" xlink:href=\"#m559b741c5f\" y=\"49.119324\"/>\n     <use style=\"fill:#1f77b4;stroke:#1f77b4;\" x=\"104.740952\" xlink:href=\"#m559b741c5f\" y=\"33.574395\"/>\n     <use style=\"fill:#1f77b4;stroke:#1f77b4;\" x=\"363.363068\" xlink:href=\"#m559b741c5f\" y=\"32.201761\"/>\n    </g>\n   </g>\n   <g id=\"matplotlib.axis_1\">\n    <g id=\"xtick_1\">\n     <g id=\"line2d_1\">\n      <defs>\n       <path d=\"M 0 0 \nL 0 3.5 \n\" id=\"m4516ca0ef1\" style=\"stroke:#000000;stroke-width:0.8;\"/>\n      </defs>\n      <g>\n       <use style=\"stroke:#000000;stroke-width:0.8;\" x=\"56.014357\" xlink:href=\"#m4516ca0ef1\" y=\"239.758125\"/>\n      </g>\n     </g>\n     <g id=\"text_1\">\n      <!-- 0 -->\n      <defs>\n       <path d=\"M 31.78125 66.40625 \nQ 24.171875 66.40625 20.328125 58.90625 \nQ 16.5 51.421875 16.5 36.375 \nQ 16.5 21.390625 20.328125 13.890625 \nQ 24.171875 6.390625 31.78125 6.390625 \nQ 39.453125 6.390625 43.28125 13.890625 \nQ 47.125 21.390625 47.125 36.375 \nQ 47.125 51.421875 43.28125 58.90625 \nQ 39.453125 66.40625 31.78125 66.40625 \nz\nM 31.78125 74.21875 \nQ 44.046875 74.21875 50.515625 64.515625 \nQ 56.984375 54.828125 56.984375 36.375 \nQ 56.984375 17.96875 50.515625 8.265625 \nQ 44.046875 -1.421875 31.78125 -1.421875 \nQ 19.53125 -1.421875 13.0625 8.265625 \nQ 6.59375 17.96875 6.59375 36.375 \nQ 6.59375 54.828125 13.0625 64.515625 \nQ 19.53125 74.21875 31.78125 74.21875 \nz\n\" id=\"DejaVuSans-48\"/>\n      </defs>\n      <g transform=\"translate(52.833107 254.356562)scale(0.1 -0.1)\">\n       <use xlink:href=\"#DejaVuSans-48\"/>\n      </g>\n     </g>\n    </g>\n    <g id=\"xtick_2\">\n     <g id=\"line2d_2\">\n      <g>\n       <use style=\"stroke:#000000;stroke-width:0.8;\" x=\"94.84625\" xlink:href=\"#m4516ca0ef1\" y=\"239.758125\"/>\n      </g>\n     </g>\n     <g id=\"text_2\">\n      <!-- 5 -->\n      <defs>\n       <path d=\"M 10.796875 72.90625 \nL 49.515625 72.90625 \nL 49.515625 64.59375 \nL 19.828125 64.59375 \nL 19.828125 46.734375 \nQ 21.96875 47.46875 24.109375 47.828125 \nQ 26.265625 48.1875 28.421875 48.1875 \nQ 40.625 48.1875 47.75 41.5 \nQ 54.890625 34.8125 54.890625 23.390625 \nQ 54.890625 11.625 47.5625 5.09375 \nQ 40.234375 -1.421875 26.90625 -1.421875 \nQ 22.3125 -1.421875 17.546875 -0.640625 \nQ 12.796875 0.140625 7.71875 1.703125 \nL 7.71875 11.625 \nQ 12.109375 9.234375 16.796875 8.0625 \nQ 21.484375 6.890625 26.703125 6.890625 \nQ 35.15625 6.890625 40.078125 11.328125 \nQ 45.015625 15.765625 45.015625 23.390625 \nQ 45.015625 31 40.078125 35.4375 \nQ 35.15625 39.890625 26.703125 39.890625 \nQ 22.75 39.890625 18.8125 39.015625 \nQ 14.890625 38.140625 10.796875 36.28125 \nz\n\" id=\"DejaVuSans-53\"/>\n      </defs>\n      <g transform=\"translate(91.665 254.356562)scale(0.1 -0.1)\">\n       <use xlink:href=\"#DejaVuSans-53\"/>\n      </g>\n     </g>\n    </g>\n    <g id=\"xtick_3\">\n     <g id=\"line2d_3\">\n      <g>\n       <use style=\"stroke:#000000;stroke-width:0.8;\" x=\"133.678142\" xlink:href=\"#m4516ca0ef1\" y=\"239.758125\"/>\n      </g>\n     </g>\n     <g id=\"text_3\">\n      <!-- 10 -->\n      <defs>\n       <path d=\"M 12.40625 8.296875 \nL 28.515625 8.296875 \nL 28.515625 63.921875 \nL 10.984375 60.40625 \nL 10.984375 69.390625 \nL 28.421875 72.90625 \nL 38.28125 72.90625 \nL 38.28125 8.296875 \nL 54.390625 8.296875 \nL 54.390625 0 \nL 12.40625 0 \nz\n\" id=\"DejaVuSans-49\"/>\n      </defs>\n      <g transform=\"translate(127.315642 254.356562)scale(0.1 -0.1)\">\n       <use xlink:href=\"#DejaVuSans-49\"/>\n       <use x=\"63.623047\" xlink:href=\"#DejaVuSans-48\"/>\n      </g>\n     </g>\n    </g>\n    <g id=\"xtick_4\">\n     <g id=\"line2d_4\">\n      <g>\n       <use style=\"stroke:#000000;stroke-width:0.8;\" x=\"172.510035\" xlink:href=\"#m4516ca0ef1\" y=\"239.758125\"/>\n      </g>\n     </g>\n     <g id=\"text_4\">\n      <!-- 15 -->\n      <g transform=\"translate(166.147535 254.356562)scale(0.1 -0.1)\">\n       <use xlink:href=\"#DejaVuSans-49\"/>\n       <use x=\"63.623047\" xlink:href=\"#DejaVuSans-53\"/>\n      </g>\n     </g>\n    </g>\n    <g id=\"xtick_5\">\n     <g id=\"line2d_5\">\n      <g>\n       <use style=\"stroke:#000000;stroke-width:0.8;\" x=\"211.341928\" xlink:href=\"#m4516ca0ef1\" y=\"239.758125\"/>\n      </g>\n     </g>\n     <g id=\"text_5\">\n      <!-- 20 -->\n      <defs>\n       <path d=\"M 19.1875 8.296875 \nL 53.609375 8.296875 \nL 53.609375 0 \nL 7.328125 0 \nL 7.328125 8.296875 \nQ 12.9375 14.109375 22.625 23.890625 \nQ 32.328125 33.6875 34.8125 36.53125 \nQ 39.546875 41.84375 41.421875 45.53125 \nQ 43.3125 49.21875 43.3125 52.78125 \nQ 43.3125 58.59375 39.234375 62.25 \nQ 35.15625 65.921875 28.609375 65.921875 \nQ 23.96875 65.921875 18.8125 64.3125 \nQ 13.671875 62.703125 7.8125 59.421875 \nL 7.8125 69.390625 \nQ 13.765625 71.78125 18.9375 73 \nQ 24.125 74.21875 28.421875 74.21875 \nQ 39.75 74.21875 46.484375 68.546875 \nQ 53.21875 62.890625 53.21875 53.421875 \nQ 53.21875 48.921875 51.53125 44.890625 \nQ 49.859375 40.875 45.40625 35.40625 \nQ 44.1875 33.984375 37.640625 27.21875 \nQ 31.109375 20.453125 19.1875 8.296875 \nz\n\" id=\"DejaVuSans-50\"/>\n      </defs>\n      <g transform=\"translate(204.979428 254.356562)scale(0.1 -0.1)\">\n       <use xlink:href=\"#DejaVuSans-50\"/>\n       <use x=\"63.623047\" xlink:href=\"#DejaVuSans-48\"/>\n      </g>\n     </g>\n    </g>\n    <g id=\"xtick_6\">\n     <g id=\"line2d_6\">\n      <g>\n       <use style=\"stroke:#000000;stroke-width:0.8;\" x=\"250.17382\" xlink:href=\"#m4516ca0ef1\" y=\"239.758125\"/>\n      </g>\n     </g>\n     <g id=\"text_6\">\n      <!-- 25 -->\n      <g transform=\"translate(243.81132 254.356562)scale(0.1 -0.1)\">\n       <use xlink:href=\"#DejaVuSans-50\"/>\n       <use x=\"63.623047\" xlink:href=\"#DejaVuSans-53\"/>\n      </g>\n     </g>\n    </g>\n    <g id=\"xtick_7\">\n     <g id=\"line2d_7\">\n      <g>\n       <use style=\"stroke:#000000;stroke-width:0.8;\" x=\"289.005713\" xlink:href=\"#m4516ca0ef1\" y=\"239.758125\"/>\n      </g>\n     </g>\n     <g id=\"text_7\">\n      <!-- 30 -->\n      <defs>\n       <path d=\"M 40.578125 39.3125 \nQ 47.65625 37.796875 51.625 33 \nQ 55.609375 28.21875 55.609375 21.1875 \nQ 55.609375 10.40625 48.1875 4.484375 \nQ 40.765625 -1.421875 27.09375 -1.421875 \nQ 22.515625 -1.421875 17.65625 -0.515625 \nQ 12.796875 0.390625 7.625 2.203125 \nL 7.625 11.71875 \nQ 11.71875 9.328125 16.59375 8.109375 \nQ 21.484375 6.890625 26.8125 6.890625 \nQ 36.078125 6.890625 40.9375 10.546875 \nQ 45.796875 14.203125 45.796875 21.1875 \nQ 45.796875 27.640625 41.28125 31.265625 \nQ 36.765625 34.90625 28.71875 34.90625 \nL 20.21875 34.90625 \nL 20.21875 43.015625 \nL 29.109375 43.015625 \nQ 36.375 43.015625 40.234375 45.921875 \nQ 44.09375 48.828125 44.09375 54.296875 \nQ 44.09375 59.90625 40.109375 62.90625 \nQ 36.140625 65.921875 28.71875 65.921875 \nQ 24.65625 65.921875 20.015625 65.03125 \nQ 15.375 64.15625 9.8125 62.3125 \nL 9.8125 71.09375 \nQ 15.4375 72.65625 20.34375 73.4375 \nQ 25.25 74.21875 29.59375 74.21875 \nQ 40.828125 74.21875 47.359375 69.109375 \nQ 53.90625 64.015625 53.90625 55.328125 \nQ 53.90625 49.265625 50.4375 45.09375 \nQ 46.96875 40.921875 40.578125 39.3125 \nz\n\" id=\"DejaVuSans-51\"/>\n      </defs>\n      <g transform=\"translate(282.643213 254.356562)scale(0.1 -0.1)\">\n       <use xlink:href=\"#DejaVuSans-51\"/>\n       <use x=\"63.623047\" xlink:href=\"#DejaVuSans-48\"/>\n      </g>\n     </g>\n    </g>\n    <g id=\"xtick_8\">\n     <g id=\"line2d_8\">\n      <g>\n       <use style=\"stroke:#000000;stroke-width:0.8;\" x=\"327.837606\" xlink:href=\"#m4516ca0ef1\" y=\"239.758125\"/>\n      </g>\n     </g>\n     <g id=\"text_8\">\n      <!-- 35 -->\n      <g transform=\"translate(321.475106 254.356562)scale(0.1 -0.1)\">\n       <use xlink:href=\"#DejaVuSans-51\"/>\n       <use x=\"63.623047\" xlink:href=\"#DejaVuSans-53\"/>\n      </g>\n     </g>\n    </g>\n    <g id=\"xtick_9\">\n     <g id=\"line2d_9\">\n      <g>\n       <use style=\"stroke:#000000;stroke-width:0.8;\" x=\"366.669498\" xlink:href=\"#m4516ca0ef1\" y=\"239.758125\"/>\n      </g>\n     </g>\n     <g id=\"text_9\">\n      <!-- 40 -->\n      <defs>\n       <path d=\"M 37.796875 64.3125 \nL 12.890625 25.390625 \nL 37.796875 25.390625 \nz\nM 35.203125 72.90625 \nL 47.609375 72.90625 \nL 47.609375 25.390625 \nL 58.015625 25.390625 \nL 58.015625 17.1875 \nL 47.609375 17.1875 \nL 47.609375 0 \nL 37.796875 0 \nL 37.796875 17.1875 \nL 4.890625 17.1875 \nL 4.890625 26.703125 \nz\n\" id=\"DejaVuSans-52\"/>\n      </defs>\n      <g transform=\"translate(360.306998 254.356562)scale(0.1 -0.1)\">\n       <use xlink:href=\"#DejaVuSans-52\"/>\n       <use x=\"63.623047\" xlink:href=\"#DejaVuSans-48\"/>\n      </g>\n     </g>\n    </g>\n    <g id=\"text_10\">\n     <!-- Wall Clock Time (s) -->\n     <defs>\n      <path d=\"M 3.328125 72.90625 \nL 13.28125 72.90625 \nL 28.609375 11.28125 \nL 43.890625 72.90625 \nL 54.984375 72.90625 \nL 70.3125 11.28125 \nL 85.59375 72.90625 \nL 95.609375 72.90625 \nL 77.296875 0 \nL 64.890625 0 \nL 49.515625 63.28125 \nL 33.984375 0 \nL 21.578125 0 \nz\n\" id=\"DejaVuSans-87\"/>\n      <path d=\"M 34.28125 27.484375 \nQ 23.390625 27.484375 19.1875 25 \nQ 14.984375 22.515625 14.984375 16.5 \nQ 14.984375 11.71875 18.140625 8.90625 \nQ 21.296875 6.109375 26.703125 6.109375 \nQ 34.1875 6.109375 38.703125 11.40625 \nQ 43.21875 16.703125 43.21875 25.484375 \nL 43.21875 27.484375 \nz\nM 52.203125 31.203125 \nL 52.203125 0 \nL 43.21875 0 \nL 43.21875 8.296875 \nQ 40.140625 3.328125 35.546875 0.953125 \nQ 30.953125 -1.421875 24.3125 -1.421875 \nQ 15.921875 -1.421875 10.953125 3.296875 \nQ 6 8.015625 6 15.921875 \nQ 6 25.140625 12.171875 29.828125 \nQ 18.359375 34.515625 30.609375 34.515625 \nL 43.21875 34.515625 \nL 43.21875 35.40625 \nQ 43.21875 41.609375 39.140625 45 \nQ 35.0625 48.390625 27.6875 48.390625 \nQ 23 48.390625 18.546875 47.265625 \nQ 14.109375 46.140625 10.015625 43.890625 \nL 10.015625 52.203125 \nQ 14.9375 54.109375 19.578125 55.046875 \nQ 24.21875 56 28.609375 56 \nQ 40.484375 56 46.34375 49.84375 \nQ 52.203125 43.703125 52.203125 31.203125 \nz\n\" id=\"DejaVuSans-97\"/>\n      <path d=\"M 9.421875 75.984375 \nL 18.40625 75.984375 \nL 18.40625 0 \nL 9.421875 0 \nz\n\" id=\"DejaVuSans-108\"/>\n      <path id=\"DejaVuSans-32\"/>\n      <path d=\"M 64.40625 67.28125 \nL 64.40625 56.890625 \nQ 59.421875 61.53125 53.78125 63.8125 \nQ 48.140625 66.109375 41.796875 66.109375 \nQ 29.296875 66.109375 22.65625 58.46875 \nQ 16.015625 50.828125 16.015625 36.375 \nQ 16.015625 21.96875 22.65625 14.328125 \nQ 29.296875 6.6875 41.796875 6.6875 \nQ 48.140625 6.6875 53.78125 8.984375 \nQ 59.421875 11.28125 64.40625 15.921875 \nL 64.40625 5.609375 \nQ 59.234375 2.09375 53.4375 0.328125 \nQ 47.65625 -1.421875 41.21875 -1.421875 \nQ 24.65625 -1.421875 15.125 8.703125 \nQ 5.609375 18.84375 5.609375 36.375 \nQ 5.609375 53.953125 15.125 64.078125 \nQ 24.65625 74.21875 41.21875 74.21875 \nQ 47.75 74.21875 53.53125 72.484375 \nQ 59.328125 70.75 64.40625 67.28125 \nz\n\" id=\"DejaVuSans-67\"/>\n      <path d=\"M 30.609375 48.390625 \nQ 23.390625 48.390625 19.1875 42.75 \nQ 14.984375 37.109375 14.984375 27.296875 \nQ 14.984375 17.484375 19.15625 11.84375 \nQ 23.34375 6.203125 30.609375 6.203125 \nQ 37.796875 6.203125 41.984375 11.859375 \nQ 46.1875 17.53125 46.1875 27.296875 \nQ 46.1875 37.015625 41.984375 42.703125 \nQ 37.796875 48.390625 30.609375 48.390625 \nz\nM 30.609375 56 \nQ 42.328125 56 49.015625 48.375 \nQ 55.71875 40.765625 55.71875 27.296875 \nQ 55.71875 13.875 49.015625 6.21875 \nQ 42.328125 -1.421875 30.609375 -1.421875 \nQ 18.84375 -1.421875 12.171875 6.21875 \nQ 5.515625 13.875 5.515625 27.296875 \nQ 5.515625 40.765625 12.171875 48.375 \nQ 18.84375 56 30.609375 56 \nz\n\" id=\"DejaVuSans-111\"/>\n      <path d=\"M 48.78125 52.59375 \nL 48.78125 44.1875 \nQ 44.96875 46.296875 41.140625 47.34375 \nQ 37.3125 48.390625 33.40625 48.390625 \nQ 24.65625 48.390625 19.8125 42.84375 \nQ 14.984375 37.3125 14.984375 27.296875 \nQ 14.984375 17.28125 19.8125 11.734375 \nQ 24.65625 6.203125 33.40625 6.203125 \nQ 37.3125 6.203125 41.140625 7.25 \nQ 44.96875 8.296875 48.78125 10.40625 \nL 48.78125 2.09375 \nQ 45.015625 0.34375 40.984375 -0.53125 \nQ 36.96875 -1.421875 32.421875 -1.421875 \nQ 20.0625 -1.421875 12.78125 6.34375 \nQ 5.515625 14.109375 5.515625 27.296875 \nQ 5.515625 40.671875 12.859375 48.328125 \nQ 20.21875 56 33.015625 56 \nQ 37.15625 56 41.109375 55.140625 \nQ 45.0625 54.296875 48.78125 52.59375 \nz\n\" id=\"DejaVuSans-99\"/>\n      <path d=\"M 9.078125 75.984375 \nL 18.109375 75.984375 \nL 18.109375 31.109375 \nL 44.921875 54.6875 \nL 56.390625 54.6875 \nL 27.390625 29.109375 \nL 57.625 0 \nL 45.90625 0 \nL 18.109375 26.703125 \nL 18.109375 0 \nL 9.078125 0 \nz\n\" id=\"DejaVuSans-107\"/>\n      <path d=\"M -0.296875 72.90625 \nL 61.375 72.90625 \nL 61.375 64.59375 \nL 35.5 64.59375 \nL 35.5 0 \nL 25.59375 0 \nL 25.59375 64.59375 \nL -0.296875 64.59375 \nz\n\" id=\"DejaVuSans-84\"/>\n      <path d=\"M 9.421875 54.6875 \nL 18.40625 54.6875 \nL 18.40625 0 \nL 9.421875 0 \nz\nM 9.421875 75.984375 \nL 18.40625 75.984375 \nL 18.40625 64.59375 \nL 9.421875 64.59375 \nz\n\" id=\"DejaVuSans-105\"/>\n      <path d=\"M 52 44.1875 \nQ 55.375 50.25 60.0625 53.125 \nQ 64.75 56 71.09375 56 \nQ 79.640625 56 84.28125 50.015625 \nQ 88.921875 44.046875 88.921875 33.015625 \nL 88.921875 0 \nL 79.890625 0 \nL 79.890625 32.71875 \nQ 79.890625 40.578125 77.09375 44.375 \nQ 74.3125 48.1875 68.609375 48.1875 \nQ 61.625 48.1875 57.5625 43.546875 \nQ 53.515625 38.921875 53.515625 30.90625 \nL 53.515625 0 \nL 44.484375 0 \nL 44.484375 32.71875 \nQ 44.484375 40.625 41.703125 44.40625 \nQ 38.921875 48.1875 33.109375 48.1875 \nQ 26.21875 48.1875 22.15625 43.53125 \nQ 18.109375 38.875 18.109375 30.90625 \nL 18.109375 0 \nL 9.078125 0 \nL 9.078125 54.6875 \nL 18.109375 54.6875 \nL 18.109375 46.1875 \nQ 21.1875 51.21875 25.484375 53.609375 \nQ 29.78125 56 35.6875 56 \nQ 41.65625 56 45.828125 52.96875 \nQ 50 49.953125 52 44.1875 \nz\n\" id=\"DejaVuSans-109\"/>\n      <path d=\"M 56.203125 29.59375 \nL 56.203125 25.203125 \nL 14.890625 25.203125 \nQ 15.484375 15.921875 20.484375 11.0625 \nQ 25.484375 6.203125 34.421875 6.203125 \nQ 39.59375 6.203125 44.453125 7.46875 \nQ 49.3125 8.734375 54.109375 11.28125 \nL 54.109375 2.78125 \nQ 49.265625 0.734375 44.1875 -0.34375 \nQ 39.109375 -1.421875 33.890625 -1.421875 \nQ 20.796875 -1.421875 13.15625 6.1875 \nQ 5.515625 13.8125 5.515625 26.8125 \nQ 5.515625 40.234375 12.765625 48.109375 \nQ 20.015625 56 32.328125 56 \nQ 43.359375 56 49.78125 48.890625 \nQ 56.203125 41.796875 56.203125 29.59375 \nz\nM 47.21875 32.234375 \nQ 47.125 39.59375 43.09375 43.984375 \nQ 39.0625 48.390625 32.421875 48.390625 \nQ 24.90625 48.390625 20.390625 44.140625 \nQ 15.875 39.890625 15.1875 32.171875 \nz\n\" id=\"DejaVuSans-101\"/>\n      <path d=\"M 31 75.875 \nQ 24.46875 64.65625 21.28125 53.65625 \nQ 18.109375 42.671875 18.109375 31.390625 \nQ 18.109375 20.125 21.3125 9.0625 \nQ 24.515625 -2 31 -13.1875 \nL 23.1875 -13.1875 \nQ 15.875 -1.703125 12.234375 9.375 \nQ 8.59375 20.453125 8.59375 31.390625 \nQ 8.59375 42.28125 12.203125 53.3125 \nQ 15.828125 64.359375 23.1875 75.875 \nz\n\" id=\"DejaVuSans-40\"/>\n      <path d=\"M 44.28125 53.078125 \nL 44.28125 44.578125 \nQ 40.484375 46.53125 36.375 47.5 \nQ 32.28125 48.484375 27.875 48.484375 \nQ 21.1875 48.484375 17.84375 46.4375 \nQ 14.5 44.390625 14.5 40.28125 \nQ 14.5 37.15625 16.890625 35.375 \nQ 19.28125 33.59375 26.515625 31.984375 \nL 29.59375 31.296875 \nQ 39.15625 29.25 43.1875 25.515625 \nQ 47.21875 21.78125 47.21875 15.09375 \nQ 47.21875 7.46875 41.1875 3.015625 \nQ 35.15625 -1.421875 24.609375 -1.421875 \nQ 20.21875 -1.421875 15.453125 -0.5625 \nQ 10.6875 0.296875 5.421875 2 \nL 5.421875 11.28125 \nQ 10.40625 8.6875 15.234375 7.390625 \nQ 20.0625 6.109375 24.8125 6.109375 \nQ 31.15625 6.109375 34.5625 8.28125 \nQ 37.984375 10.453125 37.984375 14.40625 \nQ 37.984375 18.0625 35.515625 20.015625 \nQ 33.0625 21.96875 24.703125 23.78125 \nL 21.578125 24.515625 \nQ 13.234375 26.265625 9.515625 29.90625 \nQ 5.8125 33.546875 5.8125 39.890625 \nQ 5.8125 47.609375 11.28125 51.796875 \nQ 16.75 56 26.8125 56 \nQ 31.78125 56 36.171875 55.265625 \nQ 40.578125 54.546875 44.28125 53.078125 \nz\n\" id=\"DejaVuSans-115\"/>\n      <path d=\"M 8.015625 75.875 \nL 15.828125 75.875 \nQ 23.140625 64.359375 26.78125 53.3125 \nQ 30.421875 42.28125 30.421875 31.390625 \nQ 30.421875 20.453125 26.78125 9.375 \nQ 23.140625 -1.703125 15.828125 -13.1875 \nL 8.015625 -13.1875 \nQ 14.5 -2 17.703125 9.0625 \nQ 20.90625 20.125 20.90625 31.390625 \nQ 20.90625 42.671875 17.703125 53.65625 \nQ 14.5 64.65625 8.015625 75.875 \nz\n\" id=\"DejaVuSans-41\"/>\n     </defs>\n     <g transform=\"translate(163.622656 268.034687)scale(0.1 -0.1)\">\n      <use xlink:href=\"#DejaVuSans-87\"/>\n      <use x=\"92.501953\" xlink:href=\"#DejaVuSans-97\"/>\n      <use x=\"153.78125\" xlink:href=\"#DejaVuSans-108\"/>\n      <use x=\"181.564453\" xlink:href=\"#DejaVuSans-108\"/>\n      <use x=\"209.347656\" xlink:href=\"#DejaVuSans-32\"/>\n      <use x=\"241.134766\" xlink:href=\"#DejaVuSans-67\"/>\n      <use x=\"310.958984\" xlink:href=\"#DejaVuSans-108\"/>\n      <use x=\"338.742188\" xlink:href=\"#DejaVuSans-111\"/>\n      <use x=\"399.923828\" xlink:href=\"#DejaVuSans-99\"/>\n      <use x=\"454.904297\" xlink:href=\"#DejaVuSans-107\"/>\n      <use x=\"512.814453\" xlink:href=\"#DejaVuSans-32\"/>\n      <use x=\"544.601562\" xlink:href=\"#DejaVuSans-84\"/>\n      <use x=\"602.560547\" xlink:href=\"#DejaVuSans-105\"/>\n      <use x=\"630.34375\" xlink:href=\"#DejaVuSans-109\"/>\n      <use x=\"727.755859\" xlink:href=\"#DejaVuSans-101\"/>\n      <use x=\"789.279297\" xlink:href=\"#DejaVuSans-32\"/>\n      <use x=\"821.066406\" xlink:href=\"#DejaVuSans-40\"/>\n      <use x=\"860.080078\" xlink:href=\"#DejaVuSans-115\"/>\n      <use x=\"912.179688\" xlink:href=\"#DejaVuSans-41\"/>\n     </g>\n    </g>\n   </g>\n   <g id=\"matplotlib.axis_2\">\n    <g id=\"ytick_1\">\n     <g id=\"line2d_10\">\n      <defs>\n       <path d=\"M 0 0 \nL -3.5 0 \n\" id=\"m07f8dec367\" style=\"stroke:#000000;stroke-width:0.8;\"/>\n      </defs>\n      <g>\n       <use style=\"stroke:#000000;stroke-width:0.8;\" x=\"43.78125\" xlink:href=\"#m07f8dec367\" y=\"216.781531\"/>\n      </g>\n     </g>\n     <g id=\"text_11\">\n      <!-- 0.3 -->\n      <defs>\n       <path d=\"M 10.6875 12.40625 \nL 21 12.40625 \nL 21 0 \nL 10.6875 0 \nz\n\" id=\"DejaVuSans-46\"/>\n      </defs>\n      <g transform=\"translate(20.878125 220.58075)scale(0.1 -0.1)\">\n       <use xlink:href=\"#DejaVuSans-48\"/>\n       <use x=\"63.623047\" xlink:href=\"#DejaVuSans-46\"/>\n       <use x=\"95.410156\" xlink:href=\"#DejaVuSans-51\"/>\n      </g>\n     </g>\n    </g>\n    <g id=\"ytick_2\">\n     <g id=\"line2d_11\">\n      <g>\n       <use style=\"stroke:#000000;stroke-width:0.8;\" x=\"43.78125\" xlink:href=\"#m07f8dec367\" y=\"182.573914\"/>\n      </g>\n     </g>\n     <g id=\"text_12\">\n      <!-- 0.4 -->\n      <g transform=\"translate(20.878125 186.373133)scale(0.1 -0.1)\">\n       <use xlink:href=\"#DejaVuSans-48\"/>\n       <use x=\"63.623047\" xlink:href=\"#DejaVuSans-46\"/>\n       <use x=\"95.410156\" xlink:href=\"#DejaVuSans-52\"/>\n      </g>\n     </g>\n    </g>\n    <g id=\"ytick_3\">\n     <g id=\"line2d_12\">\n      <g>\n       <use style=\"stroke:#000000;stroke-width:0.8;\" x=\"43.78125\" xlink:href=\"#m07f8dec367\" y=\"148.366297\"/>\n      </g>\n     </g>\n     <g id=\"text_13\">\n      <!-- 0.5 -->\n      <g transform=\"translate(20.878125 152.165516)scale(0.1 -0.1)\">\n       <use xlink:href=\"#DejaVuSans-48\"/>\n       <use x=\"63.623047\" xlink:href=\"#DejaVuSans-46\"/>\n       <use x=\"95.410156\" xlink:href=\"#DejaVuSans-53\"/>\n      </g>\n     </g>\n    </g>\n    <g id=\"ytick_4\">\n     <g id=\"line2d_13\">\n      <g>\n       <use style=\"stroke:#000000;stroke-width:0.8;\" x=\"43.78125\" xlink:href=\"#m07f8dec367\" y=\"114.15868\"/>\n      </g>\n     </g>\n     <g id=\"text_14\">\n      <!-- 0.6 -->\n      <defs>\n       <path d=\"M 33.015625 40.375 \nQ 26.375 40.375 22.484375 35.828125 \nQ 18.609375 31.296875 18.609375 23.390625 \nQ 18.609375 15.53125 22.484375 10.953125 \nQ 26.375 6.390625 33.015625 6.390625 \nQ 39.65625 6.390625 43.53125 10.953125 \nQ 47.40625 15.53125 47.40625 23.390625 \nQ 47.40625 31.296875 43.53125 35.828125 \nQ 39.65625 40.375 33.015625 40.375 \nz\nM 52.59375 71.296875 \nL 52.59375 62.3125 \nQ 48.875 64.0625 45.09375 64.984375 \nQ 41.3125 65.921875 37.59375 65.921875 \nQ 27.828125 65.921875 22.671875 59.328125 \nQ 17.53125 52.734375 16.796875 39.40625 \nQ 19.671875 43.65625 24.015625 45.921875 \nQ 28.375 48.1875 33.59375 48.1875 \nQ 44.578125 48.1875 50.953125 41.515625 \nQ 57.328125 34.859375 57.328125 23.390625 \nQ 57.328125 12.15625 50.6875 5.359375 \nQ 44.046875 -1.421875 33.015625 -1.421875 \nQ 20.359375 -1.421875 13.671875 8.265625 \nQ 6.984375 17.96875 6.984375 36.375 \nQ 6.984375 53.65625 15.1875 63.9375 \nQ 23.390625 74.21875 37.203125 74.21875 \nQ 40.921875 74.21875 44.703125 73.484375 \nQ 48.484375 72.75 52.59375 71.296875 \nz\n\" id=\"DejaVuSans-54\"/>\n      </defs>\n      <g transform=\"translate(20.878125 117.957899)scale(0.1 -0.1)\">\n       <use xlink:href=\"#DejaVuSans-48\"/>\n       <use x=\"63.623047\" xlink:href=\"#DejaVuSans-46\"/>\n       <use x=\"95.410156\" xlink:href=\"#DejaVuSans-54\"/>\n      </g>\n     </g>\n    </g>\n    <g id=\"ytick_5\">\n     <g id=\"line2d_14\">\n      <g>\n       <use style=\"stroke:#000000;stroke-width:0.8;\" x=\"43.78125\" xlink:href=\"#m07f8dec367\" y=\"79.951063\"/>\n      </g>\n     </g>\n     <g id=\"text_15\">\n      <!-- 0.7 -->\n      <defs>\n       <path d=\"M 8.203125 72.90625 \nL 55.078125 72.90625 \nL 55.078125 68.703125 \nL 28.609375 0 \nL 18.3125 0 \nL 43.21875 64.59375 \nL 8.203125 64.59375 \nz\n\" id=\"DejaVuSans-55\"/>\n      </defs>\n      <g transform=\"translate(20.878125 83.750282)scale(0.1 -0.1)\">\n       <use xlink:href=\"#DejaVuSans-48\"/>\n       <use x=\"63.623047\" xlink:href=\"#DejaVuSans-46\"/>\n       <use x=\"95.410156\" xlink:href=\"#DejaVuSans-55\"/>\n      </g>\n     </g>\n    </g>\n    <g id=\"ytick_6\">\n     <g id=\"line2d_15\">\n      <g>\n       <use style=\"stroke:#000000;stroke-width:0.8;\" x=\"43.78125\" xlink:href=\"#m07f8dec367\" y=\"45.743446\"/>\n      </g>\n     </g>\n     <g id=\"text_16\">\n      <!-- 0.8 -->\n      <defs>\n       <path d=\"M 31.78125 34.625 \nQ 24.75 34.625 20.71875 30.859375 \nQ 16.703125 27.09375 16.703125 20.515625 \nQ 16.703125 13.921875 20.71875 10.15625 \nQ 24.75 6.390625 31.78125 6.390625 \nQ 38.8125 6.390625 42.859375 10.171875 \nQ 46.921875 13.96875 46.921875 20.515625 \nQ 46.921875 27.09375 42.890625 30.859375 \nQ 38.875 34.625 31.78125 34.625 \nz\nM 21.921875 38.8125 \nQ 15.578125 40.375 12.03125 44.71875 \nQ 8.5 49.078125 8.5 55.328125 \nQ 8.5 64.0625 14.71875 69.140625 \nQ 20.953125 74.21875 31.78125 74.21875 \nQ 42.671875 74.21875 48.875 69.140625 \nQ 55.078125 64.0625 55.078125 55.328125 \nQ 55.078125 49.078125 51.53125 44.71875 \nQ 48 40.375 41.703125 38.8125 \nQ 48.828125 37.15625 52.796875 32.3125 \nQ 56.78125 27.484375 56.78125 20.515625 \nQ 56.78125 9.90625 50.3125 4.234375 \nQ 43.84375 -1.421875 31.78125 -1.421875 \nQ 19.734375 -1.421875 13.25 4.234375 \nQ 6.78125 9.90625 6.78125 20.515625 \nQ 6.78125 27.484375 10.78125 32.3125 \nQ 14.796875 37.15625 21.921875 38.8125 \nz\nM 18.3125 54.390625 \nQ 18.3125 48.734375 21.84375 45.5625 \nQ 25.390625 42.390625 31.78125 42.390625 \nQ 38.140625 42.390625 41.71875 45.5625 \nQ 45.3125 48.734375 45.3125 54.390625 \nQ 45.3125 60.0625 41.71875 63.234375 \nQ 38.140625 66.40625 31.78125 66.40625 \nQ 25.390625 66.40625 21.84375 63.234375 \nQ 18.3125 60.0625 18.3125 54.390625 \nz\n\" id=\"DejaVuSans-56\"/>\n      </defs>\n      <g transform=\"translate(20.878125 49.542665)scale(0.1 -0.1)\">\n       <use xlink:href=\"#DejaVuSans-48\"/>\n       <use x=\"63.623047\" xlink:href=\"#DejaVuSans-46\"/>\n       <use x=\"95.410156\" xlink:href=\"#DejaVuSans-56\"/>\n      </g>\n     </g>\n    </g>\n    <g id=\"text_17\">\n     <!-- Validation r2 -->\n     <defs>\n      <path d=\"M 28.609375 0 \nL 0.78125 72.90625 \nL 11.078125 72.90625 \nL 34.1875 11.53125 \nL 57.328125 72.90625 \nL 67.578125 72.90625 \nL 39.796875 0 \nz\n\" id=\"DejaVuSans-86\"/>\n      <path d=\"M 45.40625 46.390625 \nL 45.40625 75.984375 \nL 54.390625 75.984375 \nL 54.390625 0 \nL 45.40625 0 \nL 45.40625 8.203125 \nQ 42.578125 3.328125 38.25 0.953125 \nQ 33.9375 -1.421875 27.875 -1.421875 \nQ 17.96875 -1.421875 11.734375 6.484375 \nQ 5.515625 14.40625 5.515625 27.296875 \nQ 5.515625 40.1875 11.734375 48.09375 \nQ 17.96875 56 27.875 56 \nQ 33.9375 56 38.25 53.625 \nQ 42.578125 51.265625 45.40625 46.390625 \nz\nM 14.796875 27.296875 \nQ 14.796875 17.390625 18.875 11.75 \nQ 22.953125 6.109375 30.078125 6.109375 \nQ 37.203125 6.109375 41.296875 11.75 \nQ 45.40625 17.390625 45.40625 27.296875 \nQ 45.40625 37.203125 41.296875 42.84375 \nQ 37.203125 48.484375 30.078125 48.484375 \nQ 22.953125 48.484375 18.875 42.84375 \nQ 14.796875 37.203125 14.796875 27.296875 \nz\n\" id=\"DejaVuSans-100\"/>\n      <path d=\"M 18.3125 70.21875 \nL 18.3125 54.6875 \nL 36.8125 54.6875 \nL 36.8125 47.703125 \nL 18.3125 47.703125 \nL 18.3125 18.015625 \nQ 18.3125 11.328125 20.140625 9.421875 \nQ 21.96875 7.515625 27.59375 7.515625 \nL 36.8125 7.515625 \nL 36.8125 0 \nL 27.59375 0 \nQ 17.1875 0 13.234375 3.875 \nQ 9.28125 7.765625 9.28125 18.015625 \nL 9.28125 47.703125 \nL 2.6875 47.703125 \nL 2.6875 54.6875 \nL 9.28125 54.6875 \nL 9.28125 70.21875 \nz\n\" id=\"DejaVuSans-116\"/>\n      <path d=\"M 54.890625 33.015625 \nL 54.890625 0 \nL 45.90625 0 \nL 45.90625 32.71875 \nQ 45.90625 40.484375 42.875 44.328125 \nQ 39.84375 48.1875 33.796875 48.1875 \nQ 26.515625 48.1875 22.3125 43.546875 \nQ 18.109375 38.921875 18.109375 30.90625 \nL 18.109375 0 \nL 9.078125 0 \nL 9.078125 54.6875 \nL 18.109375 54.6875 \nL 18.109375 46.1875 \nQ 21.34375 51.125 25.703125 53.5625 \nQ 30.078125 56 35.796875 56 \nQ 45.21875 56 50.046875 50.171875 \nQ 54.890625 44.34375 54.890625 33.015625 \nz\n\" id=\"DejaVuSans-110\"/>\n      <path d=\"M 41.109375 46.296875 \nQ 39.59375 47.171875 37.8125 47.578125 \nQ 36.03125 48 33.890625 48 \nQ 26.265625 48 22.1875 43.046875 \nQ 18.109375 38.09375 18.109375 28.8125 \nL 18.109375 0 \nL 9.078125 0 \nL 9.078125 54.6875 \nL 18.109375 54.6875 \nL 18.109375 46.1875 \nQ 20.953125 51.171875 25.484375 53.578125 \nQ 30.03125 56 36.53125 56 \nQ 37.453125 56 38.578125 55.875 \nQ 39.703125 55.765625 41.0625 55.515625 \nz\n\" id=\"DejaVuSans-114\"/>\n     </defs>\n     <g transform=\"translate(14.798438 162.554531)rotate(-90)scale(0.1 -0.1)\">\n      <use xlink:href=\"#DejaVuSans-86\"/>\n      <use x=\"60.658203\" xlink:href=\"#DejaVuSans-97\"/>\n      <use x=\"121.9375\" xlink:href=\"#DejaVuSans-108\"/>\n      <use x=\"149.720703\" xlink:href=\"#DejaVuSans-105\"/>\n      <use x=\"177.503906\" xlink:href=\"#DejaVuSans-100\"/>\n      <use x=\"240.980469\" xlink:href=\"#DejaVuSans-97\"/>\n      <use x=\"302.259766\" xlink:href=\"#DejaVuSans-116\"/>\n      <use x=\"341.46875\" xlink:href=\"#DejaVuSans-105\"/>\n      <use x=\"369.251953\" xlink:href=\"#DejaVuSans-111\"/>\n      <use x=\"430.433594\" xlink:href=\"#DejaVuSans-110\"/>\n      <use x=\"493.8125\" xlink:href=\"#DejaVuSans-32\"/>\n      <use x=\"525.599609\" xlink:href=\"#DejaVuSans-114\"/>\n      <use x=\"566.712891\" xlink:href=\"#DejaVuSans-50\"/>\n     </g>\n    </g>\n   </g>\n   <g id=\"line2d_16\">\n    <path clip-path=\"url(#p95a63bce45)\" d=\"M 58.999432 229.874489 \nL 61.865949 229.874489 \nL 61.865949 110.31857 \nL 65.983189 110.31857 \nL 65.983189 68.231069 \nL 69.28761 68.231069 \nL 69.28761 54.493868 \nL 84.233916 54.493868 \nL 84.233916 49.119324 \nL 104.740952 49.119324 \nL 104.740952 33.574395 \nL 363.363068 33.574395 \nL 363.363068 32.201761 \n\" style=\"fill:none;stroke:#1f77b4;stroke-linecap:square;stroke-width:1.5;\"/>\n   </g>\n   <g id=\"patch_3\">\n    <path d=\"M 43.78125 239.758125 \nL 43.78125 22.318125 \n\" style=\"fill:none;stroke:#000000;stroke-linecap:square;stroke-linejoin:miter;stroke-width:0.8;\"/>\n   </g>\n   <g id=\"patch_4\">\n    <path d=\"M 378.58125 239.758125 \nL 378.58125 22.318125 \n\" style=\"fill:none;stroke:#000000;stroke-linecap:square;stroke-linejoin:miter;stroke-width:0.8;\"/>\n   </g>\n   <g id=\"patch_5\">\n    <path d=\"M 43.78125 239.758125 \nL 378.58125 239.758125 \n\" style=\"fill:none;stroke:#000000;stroke-linecap:square;stroke-linejoin:miter;stroke-width:0.8;\"/>\n   </g>\n   <g id=\"patch_6\">\n    <path d=\"M 43.78125 22.318125 \nL 378.58125 22.318125 \n\" style=\"fill:none;stroke:#000000;stroke-linecap:square;stroke-linejoin:miter;stroke-width:0.8;\"/>\n   </g>\n   <g id=\"text_18\">\n    <!-- Learning Curve -->\n    <defs>\n     <path d=\"M 9.8125 72.90625 \nL 19.671875 72.90625 \nL 19.671875 8.296875 \nL 55.171875 8.296875 \nL 55.171875 0 \nL 9.8125 0 \nz\n\" id=\"DejaVuSans-76\"/>\n     <path d=\"M 45.40625 27.984375 \nQ 45.40625 37.75 41.375 43.109375 \nQ 37.359375 48.484375 30.078125 48.484375 \nQ 22.859375 48.484375 18.828125 43.109375 \nQ 14.796875 37.75 14.796875 27.984375 \nQ 14.796875 18.265625 18.828125 12.890625 \nQ 22.859375 7.515625 30.078125 7.515625 \nQ 37.359375 7.515625 41.375 12.890625 \nQ 45.40625 18.265625 45.40625 27.984375 \nz\nM 54.390625 6.78125 \nQ 54.390625 -7.171875 48.1875 -13.984375 \nQ 42 -20.796875 29.203125 -20.796875 \nQ 24.46875 -20.796875 20.265625 -20.09375 \nQ 16.0625 -19.390625 12.109375 -17.921875 \nL 12.109375 -9.1875 \nQ 16.0625 -11.328125 19.921875 -12.34375 \nQ 23.78125 -13.375 27.78125 -13.375 \nQ 36.625 -13.375 41.015625 -8.765625 \nQ 45.40625 -4.15625 45.40625 5.171875 \nL 45.40625 9.625 \nQ 42.625 4.78125 38.28125 2.390625 \nQ 33.9375 0 27.875 0 \nQ 17.828125 0 11.671875 7.65625 \nQ 5.515625 15.328125 5.515625 27.984375 \nQ 5.515625 40.671875 11.671875 48.328125 \nQ 17.828125 56 27.875 56 \nQ 33.9375 56 38.28125 53.609375 \nQ 42.625 51.21875 45.40625 46.390625 \nL 45.40625 54.6875 \nL 54.390625 54.6875 \nz\n\" id=\"DejaVuSans-103\"/>\n     <path d=\"M 8.5 21.578125 \nL 8.5 54.6875 \nL 17.484375 54.6875 \nL 17.484375 21.921875 \nQ 17.484375 14.15625 20.5 10.265625 \nQ 23.53125 6.390625 29.59375 6.390625 \nQ 36.859375 6.390625 41.078125 11.03125 \nQ 45.3125 15.671875 45.3125 23.6875 \nL 45.3125 54.6875 \nL 54.296875 54.6875 \nL 54.296875 0 \nL 45.3125 0 \nL 45.3125 8.40625 \nQ 42.046875 3.421875 37.71875 1 \nQ 33.40625 -1.421875 27.6875 -1.421875 \nQ 18.265625 -1.421875 13.375 4.4375 \nQ 8.5 10.296875 8.5 21.578125 \nz\nM 31.109375 56 \nz\n\" id=\"DejaVuSans-117\"/>\n     <path d=\"M 2.984375 54.6875 \nL 12.5 54.6875 \nL 29.59375 8.796875 \nL 46.6875 54.6875 \nL 56.203125 54.6875 \nL 35.6875 0 \nL 23.484375 0 \nz\n\" id=\"DejaVuSans-118\"/>\n    </defs>\n    <g transform=\"translate(165.523125 16.318125)scale(0.12 -0.12)\">\n     <use xlink:href=\"#DejaVuSans-76\"/>\n     <use x=\"53.962891\" xlink:href=\"#DejaVuSans-101\"/>\n     <use x=\"115.486328\" xlink:href=\"#DejaVuSans-97\"/>\n     <use x=\"176.765625\" xlink:href=\"#DejaVuSans-114\"/>\n     <use x=\"216.128906\" xlink:href=\"#DejaVuSans-110\"/>\n     <use x=\"279.507812\" xlink:href=\"#DejaVuSans-105\"/>\n     <use x=\"307.291016\" xlink:href=\"#DejaVuSans-110\"/>\n     <use x=\"370.669922\" xlink:href=\"#DejaVuSans-103\"/>\n     <use x=\"434.146484\" xlink:href=\"#DejaVuSans-32\"/>\n     <use x=\"465.933594\" xlink:href=\"#DejaVuSans-67\"/>\n     <use x=\"535.757812\" xlink:href=\"#DejaVuSans-117\"/>\n     <use x=\"599.136719\" xlink:href=\"#DejaVuSans-114\"/>\n     <use x=\"640.25\" xlink:href=\"#DejaVuSans-118\"/>\n     <use x=\"699.429688\" xlink:href=\"#DejaVuSans-101\"/>\n    </g>\n   </g>\n  </g>\n </g>\n <defs>\n  <clipPath id=\"p95a63bce45\">\n   <rect height=\"217.44\" width=\"334.8\" x=\"43.78125\" y=\"22.318125\"/>\n  </clipPath>\n </defs>\n</svg>\n",
      "image/png": "[encoded data removed]"
     },
     "metadata": {
      "needs_background": "light"
     }
    }
   ],
   "source": [
    "import matplotlib.pyplot as plt\n",
    "import numpy as np\n",
    "\n",
    "plt.title('Learning Curve')\n",
    "plt.xlabel('Wall Clock Time (s)')\n",
    "plt.ylabel('Validation r2')\n",
    "plt.scatter(time_history, 1 - np.array(valid_loss_history))\n",
    "plt.step(time_history, 1 - np.array(best_valid_loss_history), where='post')\n",
    "plt.show()"
   ]
  },
  {
   "source": [
    "## 3. Comparison with alternatives\n",
    "\n",
    "### FLAML's accuracy"
   ],
   "cell_type": "markdown",
   "metadata": {}
  },
  {
   "cell_type": "code",
   "execution_count": 13,
   "metadata": {},
   "outputs": [
    {
     "output_type": "stream",
     "name": "stdout",
     "text": [
      "flaml r2 = 0.8500929784828137\n"
     ]
    }
   ],
   "source": [
    "print('flaml r2', '=', 1 - sklearn_metric_loss_score('r2', y_pred, y_test))"
   ]
  },
  {
   "source": [
    "### Default LightGBM"
   ],
   "cell_type": "markdown",
   "metadata": {}
  },
  {
   "cell_type": "code",
   "execution_count": 14,
   "metadata": {},
   "outputs": [],
   "source": [
    "from lightgbm import LGBMRegressor\n",
    "lgbm = LGBMRegressor()"
   ]
  },
  {
   "cell_type": "code",
   "execution_count": 15,
   "metadata": {},
   "outputs": [
    {
     "output_type": "execute_result",
     "data": {
      "text/plain": [
       "LGBMRegressor()"
      ]
     },
     "metadata": {},
     "execution_count": 15
    }
   ],
   "source": [
    "lgbm.fit(X_train, y_train)"
   ]
  },
  {
   "cell_type": "code",
   "execution_count": 16,
   "metadata": {},
   "outputs": [
    {
     "output_type": "stream",
     "name": "stdout",
     "text": [
      "default lgbm r2 = 0.8296179648694404\n"
     ]
    }
   ],
   "source": [
    "y_pred = lgbm.predict(X_test)\n",
    "from flaml.ml import sklearn_metric_loss_score\n",
    "print('default lgbm r2', '=', 1 - sklearn_metric_loss_score('r2', y_pred, y_test))"
   ]
  },
  {
   "source": [
    "### Optuna LightGBM Tuner"
   ],
   "cell_type": "markdown",
   "metadata": {}
  },
  {
   "cell_type": "code",
   "execution_count": 17,
   "metadata": {},
   "outputs": [],
   "source": [
    "# !pip install optuna==2.5.0;"
   ]
  },
  {
   "cell_type": "code",
   "execution_count": 18,
   "metadata": {},
   "outputs": [],
   "source": [
    "from sklearn.model_selection import train_test_split\n",
    "train_x, val_x, train_y, val_y = train_test_split(X_train, y_train, test_size=0.1)\n",
    "import optuna.integration.lightgbm as lgb\n",
    "dtrain = lgb.Dataset(train_x, label=train_y)\n",
    "dval = lgb.Dataset(val_x, label=val_y)\n",
    "params = {\n",
    "    \"objective\": \"regression\",\n",
    "    \"metric\": \"regression\",\n",
    "    \"verbosity\": -1,\n",
    "}\n"
   ]
  },
  {
   "cell_type": "code",
   "execution_count": 19,
   "metadata": {
    "tags": [
     "outputPrepend"
    ]
   },
   "outputs": [
    {
     "output_type": "stream",
     "name": "stderr",
     "text": [
      "ture_fraction': 0.6}. Best is trial 1 with value: 2168792363.2716327.\u001b[0m\n",
      "feature_fraction, val_score: 2168792363.271633:  43%|####2     | 3/7 [00:06<00:08,  2.09s/it]\u001b[32m[I 2021-04-07 09:46:14,689]\u001b[0m Trial 2 finished with value: 2203882864.83228 and parameters: {'feature_fraction': 0.5}. Best is trial 1 with value: 2168792363.2716327.\u001b[0m\n",
      "feature_fraction, val_score: 2141150566.925444:  57%|#####7    | 4/7 [00:08<00:06,  2.08s/it]\u001b[32m[I 2021-04-07 09:46:16,760]\u001b[0m Trial 3 finished with value: 2141150566.9254436 and parameters: {'feature_fraction': 0.8}. Best is trial 3 with value: 2141150566.9254436.\u001b[0m\n",
      "feature_fraction, val_score: 2141150566.925444:  71%|#######1  | 5/7 [00:10<00:04,  2.18s/it]\u001b[32m[I 2021-04-07 09:46:19,171]\u001b[0m Trial 4 finished with value: 2222173233.287535 and parameters: {'feature_fraction': 1.0}. Best is trial 3 with value: 2141150566.9254436.\u001b[0m\n",
      "feature_fraction, val_score: 2141150566.925444:  86%|########5 | 6/7 [00:12<00:02,  2.11s/it]\u001b[32m[I 2021-04-07 09:46:21,120]\u001b[0m Trial 5 finished with value: 2434969459.590528 and parameters: {'feature_fraction': 0.4}. Best is trial 3 with value: 2141150566.9254436.\u001b[0m\n",
      "feature_fraction, val_score: 2141150566.925444: 100%|##########| 7/7 [00:14<00:00,  2.06s/it]\u001b[32m[I 2021-04-07 09:46:23,051]\u001b[0m Trial 6 finished with value: 2141150566.9254436 and parameters: {'feature_fraction': 0.7}. Best is trial 3 with value: 2141150566.9254436.\u001b[0m\n",
      "feature_fraction, val_score: 2141150566.925444: 100%|##########| 7/7 [00:14<00:00,  2.06s/it]\n",
      "num_leaves, val_score: 2141150566.925444:   5%|5         | 1/20 [00:04<01:29,  4.69s/it]\u001b[32m[I 2021-04-07 09:46:27,748]\u001b[0m Trial 7 finished with value: 2221392827.567352 and parameters: {'num_leaves': 102}. Best is trial 7 with value: 2221392827.567352.\u001b[0m\n",
      "num_leaves, val_score: 2141150566.925444:  10%|#         | 2/20 [00:11<01:34,  5.28s/it]\u001b[32m[I 2021-04-07 09:46:34,392]\u001b[0m Trial 8 finished with value: 2209090245.9009995 and parameters: {'num_leaves': 153}. Best is trial 8 with value: 2209090245.9009995.\u001b[0m\n",
      "num_leaves, val_score: 2141150566.925444:  15%|#5        | 3/20 [00:21<01:54,  6.71s/it]\u001b[32m[I 2021-04-07 09:46:44,453]\u001b[0m Trial 9 finished with value: 2213438622.2234197 and parameters: {'num_leaves': 207}. Best is trial 8 with value: 2209090245.9009995.\u001b[0m\n",
      "num_leaves, val_score: 2141150566.925444:  20%|##        | 4/20 [00:22<01:21,  5.11s/it]\u001b[32m[I 2021-04-07 09:46:45,816]\u001b[0m Trial 10 finished with value: 2260840758.3015094 and parameters: {'num_leaves': 11}. Best is trial 8 with value: 2209090245.9009995.\u001b[0m\n",
      "num_leaves, val_score: 2141150566.925444:  25%|##5       | 5/20 [00:24<01:02,  4.19s/it]\u001b[32m[I 2021-04-07 09:46:47,877]\u001b[0m Trial 11 finished with value: 2189414110.8748965 and parameters: {'num_leaves': 28}. Best is trial 11 with value: 2189414110.8748965.\u001b[0m\n",
      "num_leaves, val_score: 2141150566.925444:  30%|###       | 6/20 [00:35<01:26,  6.15s/it]\u001b[32m[I 2021-04-07 09:46:58,592]\u001b[0m Trial 12 finished with value: 2205695162.3326616 and parameters: {'num_leaves': 250}. Best is trial 11 with value: 2189414110.8748965.\u001b[0m\n",
      "num_leaves, val_score: 2141150566.925444:  35%|###5      | 7/20 [00:40<01:15,  5.78s/it]\u001b[32m[I 2021-04-07 09:47:03,503]\u001b[0m Trial 13 finished with value: 2249106235.2104974 and parameters: {'num_leaves': 87}. Best is trial 11 with value: 2189414110.8748965.\u001b[0m\n",
      "num_leaves, val_score: 2141150566.925444:  40%|####      | 8/20 [00:57<01:51,  9.28s/it]\u001b[32m[I 2021-04-07 09:47:20,942]\u001b[0m Trial 14 finished with value: 2204001547.9940004 and parameters: {'num_leaves': 256}. Best is trial 11 with value: 2189414110.8748965.\u001b[0m\n",
      "num_leaves, val_score: 2141150566.925444:  45%|####5     | 9/20 [01:09<01:48,  9.83s/it]\u001b[32m[I 2021-04-07 09:47:32,063]\u001b[0m Trial 15 finished with value: 2204043662.7487397 and parameters: {'num_leaves': 180}. Best is trial 11 with value: 2189414110.8748965.\u001b[0m\n",
      "num_leaves, val_score: 2141150566.925444:  50%|#####     | 10/20 [01:13<01:23,  8.34s/it]\u001b[32m[I 2021-04-07 09:47:36,944]\u001b[0m Trial 16 finished with value: 2185138465.178819 and parameters: {'num_leaves': 50}. Best is trial 16 with value: 2185138465.178819.\u001b[0m\n",
      "num_leaves, val_score: 2141150566.925444:  55%|#####5    | 11/20 [01:31<01:40, 11.12s/it]\u001b[32m[I 2021-04-07 09:47:54,525]\u001b[0m Trial 17 finished with value: 2218934177.762569 and parameters: {'num_leaves': 217}. Best is trial 16 with value: 2185138465.178819.\u001b[0m\n",
      "num_leaves, val_score: 2141150566.925444:  60%|######    | 12/20 [01:39<01:20, 10.04s/it]\u001b[32m[I 2021-04-07 09:48:02,060]\u001b[0m Trial 18 finished with value: 2178018049.391758 and parameters: {'num_leaves': 126}. Best is trial 18 with value: 2178018049.391758.\u001b[0m\n",
      "num_leaves, val_score: 2141150566.925444:  65%|######5   | 13/20 [01:42<00:57,  8.21s/it]\u001b[32m[I 2021-04-07 09:48:05,995]\u001b[0m Trial 19 finished with value: 2174930961.807095 and parameters: {'num_leaves': 67}. Best is trial 19 with value: 2174930961.807095.\u001b[0m\n",
      "num_leaves, val_score: 2141150566.925444:  70%|#######   | 14/20 [01:51<00:49,  8.28s/it]\u001b[32m[I 2021-04-07 09:48:14,424]\u001b[0m Trial 20 finished with value: 2219052218.0844493 and parameters: {'num_leaves': 167}. Best is trial 19 with value: 2174930961.807095.\u001b[0m\n",
      "num_leaves, val_score: 2141150566.925444:  75%|#######5  | 15/20 [01:52<00:31,  6.27s/it]\u001b[32m[I 2021-04-07 09:48:16,027]\u001b[0m Trial 21 finished with value: 2327836585.7967525 and parameters: {'num_leaves': 8}. Best is trial 19 with value: 2174930961.807095.\u001b[0m\n",
      "num_leaves, val_score: 2141150566.925444:  80%|########  | 16/20 [01:59<00:25,  6.43s/it]\u001b[32m[I 2021-04-07 09:48:22,821]\u001b[0m Trial 22 finished with value: 2218546943.8393993 and parameters: {'num_leaves': 131}. Best is trial 19 with value: 2174930961.807095.\u001b[0m\n",
      "num_leaves, val_score: 2141150566.925444:  85%|########5 | 17/20 [02:10<00:23,  7.83s/it]\u001b[32m[I 2021-04-07 09:48:33,908]\u001b[0m Trial 23 finished with value: 2198057734.031422 and parameters: {'num_leaves': 223}. Best is trial 19 with value: 2174930961.807095.\u001b[0m\n",
      "num_leaves, val_score: 2141150566.925444:  90%|######### | 18/20 [02:13<00:12,  6.18s/it]\u001b[32m[I 2021-04-07 09:48:36,256]\u001b[0m Trial 24 finished with value: 2213091258.3774385 and parameters: {'num_leaves': 40}. Best is trial 19 with value: 2174930961.807095.\u001b[0m\n",
      "num_leaves, val_score: 2141150566.925444:  95%|#########5| 19/20 [02:21<00:06,  6.84s/it]\u001b[32m[I 2021-04-07 09:48:44,615]\u001b[0m Trial 25 finished with value: 2174165556.463721 and parameters: {'num_leaves': 187}. Best is trial 25 with value: 2174165556.463721.\u001b[0m\n",
      "num_leaves, val_score: 2141150566.925444: 100%|##########| 20/20 [02:26<00:00,  6.36s/it]\u001b[32m[I 2021-04-07 09:48:49,851]\u001b[0m Trial 26 finished with value: 2234043799.4520364 and parameters: {'num_leaves': 107}. Best is trial 25 with value: 2174165556.463721.\u001b[0m\n",
      "num_leaves, val_score: 2141150566.925444: 100%|##########| 20/20 [02:26<00:00,  7.34s/it]\n",
      "bagging, val_score: 2141150566.925444:  10%|#         | 1/10 [00:03<00:33,  3.74s/it]\u001b[32m[I 2021-04-07 09:48:53,597]\u001b[0m Trial 27 finished with value: 2194976294.3425474 and parameters: {'bagging_fraction': 0.9381257201628649, 'bagging_freq': 2}. Best is trial 27 with value: 2194976294.3425474.\u001b[0m\n",
      "bagging, val_score: 2141150566.925444:  20%|##        | 2/10 [00:07<00:29,  3.69s/it]\u001b[32m[I 2021-04-07 09:48:57,185]\u001b[0m Trial 28 finished with value: 2342329430.8664627 and parameters: {'bagging_fraction': 0.41898866342782093, 'bagging_freq': 7}. Best is trial 27 with value: 2194976294.3425474.\u001b[0m\n",
      "bagging, val_score: 2141150566.925444:  30%|###       | 3/10 [00:11<00:27,  3.97s/it]\u001b[32m[I 2021-04-07 09:49:01,816]\u001b[0m Trial 29 finished with value: 2328041384.6089053 and parameters: {'bagging_fraction': 0.42240147371851844, 'bagging_freq': 7}. Best is trial 27 with value: 2194976294.3425474.\u001b[0m\n",
      "bagging, val_score: 2141150566.925444:  40%|####      | 4/10 [00:15<00:23,  3.89s/it]\u001b[32m[I 2021-04-07 09:49:05,524]\u001b[0m Trial 30 finished with value: 2220585084.5260315 and parameters: {'bagging_fraction': 0.7602049748396973, 'bagging_freq': 1}. Best is trial 27 with value: 2194976294.3425474.\u001b[0m\n",
      "bagging, val_score: 2141150566.925444:  50%|#####     | 5/10 [00:18<00:18,  3.68s/it]\u001b[32m[I 2021-04-07 09:49:08,687]\u001b[0m Trial 31 finished with value: 2151535025.6906157 and parameters: {'bagging_fraction': 0.9886357335328686, 'bagging_freq': 4}. Best is trial 31 with value: 2151535025.6906157.\u001b[0m\n",
      "bagging, val_score: 2141150566.925444:  60%|######    | 6/10 [00:22<00:14,  3.66s/it]\u001b[32m[I 2021-04-07 09:49:12,307]\u001b[0m Trial 32 finished with value: 2157453394.751742 and parameters: {'bagging_fraction': 0.948059097995945, 'bagging_freq': 4}. Best is trial 31 with value: 2151535025.6906157.\u001b[0m\n",
      "bagging, val_score: 2141150566.925444:  70%|#######   | 7/10 [00:25<00:10,  3.62s/it]\u001b[32m[I 2021-04-07 09:49:15,835]\u001b[0m Trial 33 finished with value: 2195134563.4246325 and parameters: {'bagging_fraction': 0.9992531270613643, 'bagging_freq': 4}. Best is trial 31 with value: 2151535025.6906157.\u001b[0m\n",
      "bagging, val_score: 2141150566.925444:  80%|########  | 8/10 [00:28<00:06,  3.39s/it]\u001b[32m[I 2021-04-07 09:49:18,679]\u001b[0m Trial 34 finished with value: 2201514253.966678 and parameters: {'bagging_fraction': 0.8603945993074557, 'bagging_freq': 4}. Best is trial 31 with value: 2151535025.6906157.\u001b[0m\n",
      "bagging, val_score: 2141150566.925444:  90%|######### | 9/10 [00:31<00:03,  3.32s/it]\u001b[32m[I 2021-04-07 09:49:21,839]\u001b[0m Trial 35 finished with value: 2177340359.8120227 and parameters: {'bagging_fraction': 0.9944809344338572, 'bagging_freq': 5}. Best is trial 31 with value: 2151535025.6906157.\u001b[0m\n",
      "bagging, val_score: 2141150566.925444: 100%|##########| 10/10 [00:35<00:00,  3.43s/it]\u001b[32m[I 2021-04-07 09:49:25,521]\u001b[0m Trial 36 finished with value: 2256532597.998516 and parameters: {'bagging_fraction': 0.6149278740592209, 'bagging_freq': 3}. Best is trial 31 with value: 2151535025.6906157.\u001b[0m\n",
      "bagging, val_score: 2141150566.925444: 100%|##########| 10/10 [00:35<00:00,  3.57s/it]\n",
      "feature_fraction_stage2, val_score: 2141150566.925444:  17%|#6        | 1/6 [00:02<00:10,  2.15s/it]\u001b[32m[I 2021-04-07 09:49:27,677]\u001b[0m Trial 37 finished with value: 2196528967.9181175 and parameters: {'feature_fraction': 0.88}. Best is trial 37 with value: 2196528967.9181175.\u001b[0m\n",
      "feature_fraction_stage2, val_score: 2141150566.925444:  33%|###3      | 2/6 [00:04<00:09,  2.33s/it]\u001b[32m[I 2021-04-07 09:49:30,418]\u001b[0m Trial 38 finished with value: 2196528967.9181175 and parameters: {'feature_fraction': 0.8160000000000001}. Best is trial 37 with value: 2196528967.9181175.\u001b[0m\n",
      "feature_fraction_stage2, val_score: 2141150566.925444:  50%|#####     | 3/6 [00:07<00:07,  2.39s/it]\u001b[32m[I 2021-04-07 09:49:32,970]\u001b[0m Trial 39 finished with value: 2141150566.9254436 and parameters: {'feature_fraction': 0.7520000000000001}. Best is trial 39 with value: 2141150566.9254436.\u001b[0m\n",
      "feature_fraction_stage2, val_score: 2141150566.925444:  67%|######6   | 4/6 [00:10<00:05,  2.64s/it]\u001b[32m[I 2021-04-07 09:49:36,199]\u001b[0m Trial 40 finished with value: 2141150566.9254436 and parameters: {'feature_fraction': 0.784}. Best is trial 39 with value: 2141150566.9254436.\u001b[0m\n",
      "feature_fraction_stage2, val_score: 2141150566.925444:  83%|########3 | 5/6 [00:14<00:02,  2.97s/it]\u001b[32m[I 2021-04-07 09:49:39,926]\u001b[0m Trial 41 finished with value: 2196528967.9181175 and parameters: {'feature_fraction': 0.8480000000000001}. Best is trial 39 with value: 2141150566.9254436.\u001b[0m\n",
      "feature_fraction_stage2, val_score: 2141150566.925444: 100%|##########| 6/6 [00:17<00:00,  3.09s/it]\u001b[32m[I 2021-04-07 09:49:43,305]\u001b[0m Trial 42 finished with value: 2141150566.9254436 and parameters: {'feature_fraction': 0.7200000000000001}. Best is trial 39 with value: 2141150566.9254436.\u001b[0m\n",
      "feature_fraction_stage2, val_score: 2141150566.925444: 100%|##########| 6/6 [00:17<00:00,  2.96s/it]\n",
      "regularization_factors, val_score: 2141150384.773846:   5%|5         | 1/20 [00:02<00:44,  2.33s/it]\u001b[32m[I 2021-04-07 09:49:45,641]\u001b[0m Trial 43 finished with value: 2141150384.7738457 and parameters: {'lambda_l1': 0.06294194806191455, 'lambda_l2': 4.3876112262829564e-05}. Best is trial 43 with value: 2141150384.7738457.\u001b[0m\n",
      "regularization_factors, val_score: 2115227274.261475:  10%|#         | 2/20 [00:04<00:41,  2.28s/it]\u001b[32m[I 2021-04-07 09:49:47,814]\u001b[0m Trial 44 finished with value: 2115227274.2614753 and parameters: {'lambda_l1': 0.10310301230335357, 'lambda_l2': 8.873754009714573e-05}. Best is trial 44 with value: 2115227274.2614753.\u001b[0m\n",
      "regularization_factors, val_score: 2115227274.261475:  15%|#5        | 3/20 [00:06<00:39,  2.31s/it]\u001b[32m[I 2021-04-07 09:49:50,193]\u001b[0m Trial 45 finished with value: 2141150410.2318819 and parameters: {'lambda_l1': 0.1156997936219081, 'lambda_l2': 3.3172871939656863e-05}. Best is trial 44 with value: 2115227274.2614753.\u001b[0m\n",
      "regularization_factors, val_score: 2115227274.261475:  20%|##        | 4/20 [00:09<00:39,  2.47s/it]\u001b[32m[I 2021-04-07 09:49:53,027]\u001b[0m Trial 46 finished with value: 2141150309.358196 and parameters: {'lambda_l1': 0.13173318624572986, 'lambda_l2': 5.888295892154888e-05}. Best is trial 44 with value: 2115227274.2614753.\u001b[0m\n",
      "regularization_factors, val_score: 2115227274.261475:  25%|##5       | 5/20 [00:12<00:36,  2.43s/it]\u001b[32m[I 2021-04-07 09:49:55,374]\u001b[0m Trial 47 finished with value: 2141150340.1057699 and parameters: {'lambda_l1': 0.14472391805658655, 'lambda_l2': 4.9688537888110276e-05}. Best is trial 44 with value: 2115227274.2614753.\u001b[0m\n",
      "regularization_factors, val_score: 2115227274.261475:  30%|###       | 6/20 [00:14<00:33,  2.39s/it]\u001b[32m[I 2021-04-07 09:49:57,660]\u001b[0m Trial 48 finished with value: 2141150335.5146017 and parameters: {'lambda_l1': 0.076040157489334, 'lambda_l2': 5.6173432118995905e-05}. Best is trial 44 with value: 2115227274.2614753.\u001b[0m\n",
      "regularization_factors, val_score: 2115227274.261475:  35%|###5      | 7/20 [00:16<00:30,  2.34s/it]\u001b[32m[I 2021-04-07 09:49:59,876]\u001b[0m Trial 49 finished with value: 2141150302.209143 and parameters: {'lambda_l1': 0.09052718358387855, 'lambda_l2': 6.390283061599122e-05}. Best is trial 44 with value: 2115227274.2614753.\u001b[0m\n",
      "regularization_factors, val_score: 2115227274.261475:  40%|####      | 8/20 [00:20<00:32,  2.74s/it]\u001b[32m[I 2021-04-07 09:50:03,559]\u001b[0m Trial 50 finished with value: 2141150251.1968682 and parameters: {'lambda_l1': 0.10237603744220825, 'lambda_l2': 7.654698252019428e-05}. Best is trial 44 with value: 2115227274.2614753.\u001b[0m\n",
      "regularization_factors, val_score: 2115227258.465188:  45%|####5     | 9/20 [00:22<00:28,  2.56s/it]\u001b[32m[I 2021-04-07 09:50:05,683]\u001b[0m Trial 51 finished with value: 2115227258.4651875 and parameters: {'lambda_l1': 0.16517523834461412, 'lambda_l2': 8.822808793625208e-05}. Best is trial 51 with value: 2115227258.4651875.\u001b[0m\n",
      "regularization_factors, val_score: 2115227258.465188:  50%|#####     | 10/20 [00:24<00:24,  2.41s/it]\u001b[32m[I 2021-04-07 09:50:07,755]\u001b[0m Trial 52 finished with value: 2115227271.294053 and parameters: {'lambda_l1': 0.10300814643324889, 'lambda_l2': 8.986477964053952e-05}. Best is trial 51 with value: 2115227258.4651875.\u001b[0m\n",
      "regularization_factors, val_score: 2115227066.560425:  55%|#####5    | 11/20 [00:26<00:20,  2.29s/it]\u001b[32m[I 2021-04-07 09:50:09,772]\u001b[0m Trial 53 finished with value: 2115227066.5604246 and parameters: {'lambda_l1': 0.1641168724158022, 'lambda_l2': 0.0001526989159908344}. Best is trial 53 with value: 2115227066.5604246.\u001b[0m\n",
      "regularization_factors, val_score: 2115227066.560425:  60%|######    | 12/20 [00:28<00:17,  2.22s/it]\u001b[32m[I 2021-04-07 09:50:11,832]\u001b[0m Trial 54 finished with value: 2146215291.9992926 and parameters: {'lambda_l1': 0.15939243928354838, 'lambda_l2': 0.0006817203686132486}. Best is trial 53 with value: 2115227066.5604246.\u001b[0m\n",
      "regularization_factors, val_score: 2115227066.560425:  65%|######5   | 13/20 [00:30<00:15,  2.26s/it]\u001b[32m[I 2021-04-07 09:50:14,173]\u001b[0m Trial 55 finished with value: 2124575175.9074316 and parameters: {'lambda_l1': 1.590701206686507, 'lambda_l2': 0.0004836750671216936}. Best is trial 53 with value: 2115227066.5604246.\u001b[0m\n",
      "regularization_factors, val_score: 2115227066.560425:  70%|#######   | 14/20 [00:33<00:13,  2.25s/it]\u001b[32m[I 2021-04-07 09:50:16,402]\u001b[0m Trial 56 finished with value: 2215145015.078994 and parameters: {'lambda_l1': 6.558085959732524, 'lambda_l2': 0.036794303002768765}. Best is trial 53 with value: 2115227066.5604246.\u001b[0m\n",
      "regularization_factors, val_score: 2115227066.560425:  75%|#######5  | 15/20 [00:35<00:11,  2.24s/it]\u001b[32m[I 2021-04-07 09:50:18,616]\u001b[0m Trial 57 finished with value: 2128795697.287768 and parameters: {'lambda_l1': 1.9780457030427747, 'lambda_l2': 0.0025698103247060802}. Best is trial 53 with value: 2115227066.5604246.\u001b[0m\n",
      "regularization_factors, val_score: 2115227066.560425:  80%|########  | 16/20 [00:37<00:09,  2.29s/it]\u001b[32m[I 2021-04-07 09:50:21,014]\u001b[0m Trial 58 finished with value: 2142481678.8166425 and parameters: {'lambda_l1': 5.446960909510068, 'lambda_l2': 0.0049375987390305265}. Best is trial 53 with value: 2115227066.5604246.\u001b[0m\n",
      "regularization_factors, val_score: 2115227066.560425:  85%|########5 | 17/20 [00:39<00:06,  2.23s/it]\u001b[32m[I 2021-04-07 09:50:23,116]\u001b[0m Trial 59 finished with value: 2141150565.1464455 and parameters: {'lambda_l1': 4.560996301544332e-07, 'lambda_l2': 6.012037841700167e-07}. Best is trial 53 with value: 2115227066.5604246.\u001b[0m\n",
      "regularization_factors, val_score: 2115227066.560425:  90%|######### | 18/20 [00:42<00:04,  2.24s/it]\u001b[32m[I 2021-04-07 09:50:25,376]\u001b[0m Trial 60 finished with value: 2131740079.3508956 and parameters: {'lambda_l1': 3.2803363921216047, 'lambda_l2': 0.0020327218351278574}. Best is trial 53 with value: 2115227066.5604246.\u001b[0m\n",
      "regularization_factors, val_score: 2115227066.560425:  95%|#########5| 19/20 [00:44<00:02,  2.27s/it]\u001b[32m[I 2021-04-07 09:50:27,726]\u001b[0m Trial 61 finished with value: 2117851257.56334 and parameters: {'lambda_l1': 3.720228982707488, 'lambda_l2': 0.0018619995969515544}. Best is trial 53 with value: 2115227066.5604246.\u001b[0m\n",
      "regularization_factors, val_score: 2115227066.560425: 100%|##########| 20/20 [00:46<00:00,  2.24s/it]\u001b[32m[I 2021-04-07 09:50:29,895]\u001b[0m Trial 62 finished with value: 2129019536.0433643 and parameters: {'lambda_l1': 2.024171578537482, 'lambda_l2': 0.000987105837490513}. Best is trial 53 with value: 2115227066.5604246.\u001b[0m\n",
      "regularization_factors, val_score: 2115227066.560425: 100%|##########| 20/20 [00:46<00:00,  2.33s/it]\n",
      "min_data_in_leaf, val_score: 2115227066.560425:  20%|##        | 1/5 [00:02<00:09,  2.48s/it]\u001b[32m[I 2021-04-07 09:50:32,380]\u001b[0m Trial 63 finished with value: 2164909720.933062 and parameters: {'min_child_samples': 25}. Best is trial 63 with value: 2164909720.933062.\u001b[0m\n",
      "min_data_in_leaf, val_score: 2115227066.560425:  40%|####      | 2/5 [00:04<00:07,  2.45s/it]\u001b[32m[I 2021-04-07 09:50:34,769]\u001b[0m Trial 64 finished with value: 2216971696.818525 and parameters: {'min_child_samples': 50}. Best is trial 63 with value: 2164909720.933062.\u001b[0m\n",
      "min_data_in_leaf, val_score: 2115227066.560425:  60%|######    | 3/5 [00:07<00:05,  2.61s/it]\u001b[32m[I 2021-04-07 09:50:37,755]\u001b[0m Trial 65 finished with value: 2254180298.9772987 and parameters: {'min_child_samples': 100}. Best is trial 63 with value: 2164909720.933062.\u001b[0m\n",
      "min_data_in_leaf, val_score: 2115227066.560425:  80%|########  | 4/5 [00:09<00:02,  2.46s/it]\u001b[32m[I 2021-04-07 09:50:39,872]\u001b[0m Trial 66 finished with value: 2166633996.5077305 and parameters: {'min_child_samples': 10}. Best is trial 63 with value: 2164909720.933062.\u001b[0m\n",
      "min_data_in_leaf, val_score: 2115227066.560425: 100%|##########| 5/5 [00:12<00:00,  2.34s/it]\u001b[32m[I 2021-04-07 09:50:41,932]\u001b[0m Trial 67 finished with value: 2147448653.8826163 and parameters: {'min_child_samples': 5}. Best is trial 67 with value: 2147448653.8826163.\u001b[0m\n",
      "min_data_in_leaf, val_score: 2115227066.560425: 100%|##########| 5/5 [00:12<00:00,  2.41s/it]CPU times: user 4min 15s, sys: 12.3 s, total: 4min 27s\n",
      "Wall time: 4min 33s\n",
      "\n"
     ]
    }
   ],
   "source": [
    "%%time\n",
    "model = lgb.train(params, dtrain, valid_sets=[dtrain, dval], verbose_eval=10000)        \n"
   ]
  },
  {
   "cell_type": "code",
   "execution_count": 20,
   "metadata": {},
   "outputs": [
    {
     "output_type": "stream",
     "name": "stdout",
     "text": [
      "Optuna LightGBM Tuner r2 = 0.8454837791695002\n"
     ]
    }
   ],
   "source": [
    "y_pred = model.predict(X_test)\n",
    "from flaml.ml import sklearn_metric_loss_score\n",
    "print('Optuna LightGBM Tuner r2', '=', 1 - sklearn_metric_loss_score('r2', y_pred, y_test))"
   ]
  }
 ],
 "metadata": {
  "kernelspec": {
   "name": "python3",
   "display_name": "Python 3.8.0 64-bit ('blend': conda)",
   "metadata": {
    "interpreter": {
     "hash": "0cfea3304185a9579d09e0953576b57c8581e46e6ebc6dfeb681bc5a511f7544"
    }
   }
  },
  "language_info": {
   "codemirror_mode": {
    "name": "ipython",
    "version": 3
   },
   "file_extension": ".py",
   "mimetype": "text/x-python",
   "name": "python",
   "nbconvert_exporter": "python",
   "pygments_lexer": "ipython3",
   "version": "3.8.0"
  }
 },
 "nbformat": 4,
 "nbformat_minor": 2
}