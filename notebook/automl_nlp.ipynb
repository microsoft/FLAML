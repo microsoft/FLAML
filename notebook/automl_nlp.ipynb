{
 "cells": [
  {
   "cell_type": "markdown",
   "metadata": {
    "slideshow": {
     "slide_type": "slide"
    }
   },
   "source": [
    "Copyright (c) Microsoft Corporation. All rights reserved. \n",
    "\n",
    "Licensed under the MIT License.\n",
    "\n",
    "# FineTuning NLP Models with FLAML Library\n",
    "\n",
    "\n",
    "## 1. Introduction\n",
    "\n",
    "FLAML is a Python library (https://github.com/microsoft/FLAML) designed to automatically produce accurate machine learning models \n",
    "with low computational cost. It is fast and economical. The simple and lightweight design makes it easy to use and extend, such as adding new learners. FLAML can \n",
    "- serve as an economical AutoML engine,\n",
    "- be used as a fast hyperparameter tuning tool, or \n",
    "- be embedded in self-tuning software that requires low latency & resource in repetitive\n",
    "   tuning tasks.\n",
    "\n",
    "In this notebook, we demonstrate how to use the FLAML library to fine tune an NLP language model with hyperparameter search. \n",
    "\n",
    "FLAML requires `Python>=3.6`. To run this notebook example, please install flaml with the `nlp,ray,notebook` and `blendsearch` option:\n",
    "```bash\n",
    "pip install flaml[nlp,ray,notebook,blendsearch];\n",
    "```"
   ]
  },
  {
   "cell_type": "code",
   "execution_count": 1,
   "metadata": {},
   "outputs": [
    {
     "name": "stdout",
     "output_type": "stream",
     "text": [
      "Requirement already satisfied: flaml[nlp,notebook,optuna,ray] in /data/xliu127/projects/hyperopt/FLAML (0.9.7)\n",
      "\u001b[33mWARNING: flaml 0.9.7 does not provide the extra 'optuna'\u001b[0m\u001b[33m\n",
      "\u001b[0mRequirement already satisfied: NumPy>=1.16.2 in /data/installation/anaconda3/envs/tmp/lib/python3.8/site-packages (from flaml[nlp,notebook,optuna,ray]) (1.22.2)\n",
      "Requirement already satisfied: lightgbm>=2.3.1 in /data/installation/anaconda3/envs/tmp/lib/python3.8/site-packages (from flaml[nlp,notebook,optuna,ray]) (3.3.2)\n",
      "Requirement already satisfied: xgboost<=1.3.3,>=0.90 in /data/installation/anaconda3/envs/tmp/lib/python3.8/site-packages (from flaml[nlp,notebook,optuna,ray]) (1.3.3)\n",
      "Requirement already satisfied: scipy>=1.4.1 in /data/installation/anaconda3/envs/tmp/lib/python3.8/site-packages (from flaml[nlp,notebook,optuna,ray]) (1.8.0)\n",
      "Requirement already satisfied: pandas>=1.1.4 in /data/installation/anaconda3/envs/tmp/lib/python3.8/site-packages (from flaml[nlp,notebook,optuna,ray]) (1.4.1)\n",
      "Requirement already satisfied: scikit-learn>=0.24 in /data/installation/anaconda3/envs/tmp/lib/python3.8/site-packages (from flaml[nlp,notebook,optuna,ray]) (1.0.2)\n",
      "Requirement already satisfied: ray[tune]~=1.10 in /data/installation/anaconda3/envs/tmp/lib/python3.8/site-packages (from flaml[nlp,notebook,optuna,ray]) (1.10.0)\n",
      "Requirement already satisfied: openml==0.10.2 in /data/installation/anaconda3/envs/tmp/lib/python3.8/site-packages (from flaml[nlp,notebook,optuna,ray]) (0.10.2)\n",
      "Requirement already satisfied: jupyter in /data/installation/anaconda3/envs/tmp/lib/python3.8/site-packages (from flaml[nlp,notebook,optuna,ray]) (1.0.0)\n",
      "Requirement already satisfied: matplotlib in /data/installation/anaconda3/envs/tmp/lib/python3.8/site-packages (from flaml[nlp,notebook,optuna,ray]) (3.5.1)\n",
      "Requirement already satisfied: rgf-python in /data/installation/anaconda3/envs/tmp/lib/python3.8/site-packages (from flaml[nlp,notebook,optuna,ray]) (3.12.0)\n",
      "Requirement already satisfied: catboost>=0.26 in /data/installation/anaconda3/envs/tmp/lib/python3.8/site-packages (from flaml[nlp,notebook,optuna,ray]) (1.0.4)\n",
      "Requirement already satisfied: transformers>=4.14 in /data/installation/anaconda3/envs/tmp/lib/python3.8/site-packages (from flaml[nlp,notebook,optuna,ray]) (4.16.2)\n",
      "Requirement already satisfied: datasets in /data/installation/anaconda3/envs/tmp/lib/python3.8/site-packages (from flaml[nlp,notebook,optuna,ray]) (1.18.3)\n",
      "Requirement already satisfied: torch in /data/installation/anaconda3/envs/tmp/lib/python3.8/site-packages (from flaml[nlp,notebook,optuna,ray]) (1.10.2)\n",
      "Requirement already satisfied: seqeval in /data/installation/anaconda3/envs/tmp/lib/python3.8/site-packages (from flaml[nlp,notebook,optuna,ray]) (1.2.2)\n",
      "Requirement already satisfied: nltk in /data/installation/anaconda3/envs/tmp/lib/python3.8/site-packages (from flaml[nlp,notebook,optuna,ray]) (3.7)\n",
      "Requirement already satisfied: rouge_score in /data/installation/anaconda3/envs/tmp/lib/python3.8/site-packages (from flaml[nlp,notebook,optuna,ray]) (0.0.4)\n",
      "Requirement already satisfied: python-dateutil in /data/installation/anaconda3/envs/tmp/lib/python3.8/site-packages (from openml==0.10.2->flaml[nlp,notebook,optuna,ray]) (2.8.2)\n",
      "Requirement already satisfied: xmltodict in /data/installation/anaconda3/envs/tmp/lib/python3.8/site-packages (from openml==0.10.2->flaml[nlp,notebook,optuna,ray]) (0.12.0)\n",
      "Requirement already satisfied: liac-arff>=2.4.0 in /data/installation/anaconda3/envs/tmp/lib/python3.8/site-packages (from openml==0.10.2->flaml[nlp,notebook,optuna,ray]) (2.5.0)\n",
      "Requirement already satisfied: requests in /data/installation/anaconda3/envs/tmp/lib/python3.8/site-packages (from openml==0.10.2->flaml[nlp,notebook,optuna,ray]) (2.27.1)\n",
      "Requirement already satisfied: graphviz in /data/installation/anaconda3/envs/tmp/lib/python3.8/site-packages (from catboost>=0.26->flaml[nlp,notebook,optuna,ray]) (0.19.1)\n",
      "Requirement already satisfied: six in /data/installation/anaconda3/envs/tmp/lib/python3.8/site-packages (from catboost>=0.26->flaml[nlp,notebook,optuna,ray]) (1.16.0)\n",
      "Requirement already satisfied: plotly in /data/installation/anaconda3/envs/tmp/lib/python3.8/site-packages (from catboost>=0.26->flaml[nlp,notebook,optuna,ray]) (5.6.0)\n",
      "Requirement already satisfied: wheel in /data/installation/anaconda3/envs/tmp/lib/python3.8/site-packages (from lightgbm>=2.3.1->flaml[nlp,notebook,optuna,ray]) (0.37.1)\n",
      "Requirement already satisfied: pytz>=2020.1 in /data/installation/anaconda3/envs/tmp/lib/python3.8/site-packages (from pandas>=1.1.4->flaml[nlp,notebook,optuna,ray]) (2021.3)\n",
      "Requirement already satisfied: pyyaml in /data/installation/anaconda3/envs/tmp/lib/python3.8/site-packages (from ray[tune]~=1.10->flaml[nlp,notebook,optuna,ray]) (6.0)\n",
      "Requirement already satisfied: protobuf>=3.15.3 in /data/installation/anaconda3/envs/tmp/lib/python3.8/site-packages (from ray[tune]~=1.10->flaml[nlp,notebook,optuna,ray]) (3.19.4)\n",
      "Requirement already satisfied: filelock in /data/installation/anaconda3/envs/tmp/lib/python3.8/site-packages (from ray[tune]~=1.10->flaml[nlp,notebook,optuna,ray]) (3.6.0)\n",
      "Requirement already satisfied: msgpack<2.0.0,>=1.0.0 in /data/installation/anaconda3/envs/tmp/lib/python3.8/site-packages (from ray[tune]~=1.10->flaml[nlp,notebook,optuna,ray]) (1.0.3)\n",
      "Requirement already satisfied: attrs in /data/installation/anaconda3/envs/tmp/lib/python3.8/site-packages (from ray[tune]~=1.10->flaml[nlp,notebook,optuna,ray]) (21.4.0)\n",
      "Requirement already satisfied: redis>=3.5.0 in /data/installation/anaconda3/envs/tmp/lib/python3.8/site-packages (from ray[tune]~=1.10->flaml[nlp,notebook,optuna,ray]) (4.1.4)\n",
      "Requirement already satisfied: grpcio>=1.28.1 in /data/installation/anaconda3/envs/tmp/lib/python3.8/site-packages (from ray[tune]~=1.10->flaml[nlp,notebook,optuna,ray]) (1.44.0)\n",
      "Requirement already satisfied: click>=7.0 in /data/installation/anaconda3/envs/tmp/lib/python3.8/site-packages (from ray[tune]~=1.10->flaml[nlp,notebook,optuna,ray]) (8.0.3)\n",
      "Requirement already satisfied: jsonschema in /data/installation/anaconda3/envs/tmp/lib/python3.8/site-packages (from ray[tune]~=1.10->flaml[nlp,notebook,optuna,ray]) (3.2.0)\n",
      "Requirement already satisfied: tensorboardX>=1.9 in /data/installation/anaconda3/envs/tmp/lib/python3.8/site-packages (from ray[tune]~=1.10->flaml[nlp,notebook,optuna,ray]) (2.5)\n",
      "Requirement already satisfied: tabulate in /data/installation/anaconda3/envs/tmp/lib/python3.8/site-packages (from ray[tune]~=1.10->flaml[nlp,notebook,optuna,ray]) (0.8.9)\n",
      "Requirement already satisfied: joblib>=0.11 in /data/installation/anaconda3/envs/tmp/lib/python3.8/site-packages (from scikit-learn>=0.24->flaml[nlp,notebook,optuna,ray]) (1.1.0)\n",
      "Requirement already satisfied: threadpoolctl>=2.0.0 in /data/installation/anaconda3/envs/tmp/lib/python3.8/site-packages (from scikit-learn>=0.24->flaml[nlp,notebook,optuna,ray]) (3.1.0)\n",
      "Requirement already satisfied: tqdm>=4.27 in /data/installation/anaconda3/envs/tmp/lib/python3.8/site-packages (from transformers>=4.14->flaml[nlp,notebook,optuna,ray]) (4.62.3)\n",
      "Requirement already satisfied: packaging>=20.0 in /data/installation/anaconda3/envs/tmp/lib/python3.8/site-packages (from transformers>=4.14->flaml[nlp,notebook,optuna,ray]) (21.3)\n",
      "Requirement already satisfied: sacremoses in /data/installation/anaconda3/envs/tmp/lib/python3.8/site-packages (from transformers>=4.14->flaml[nlp,notebook,optuna,ray]) (0.0.47)\n",
      "Requirement already satisfied: tokenizers!=0.11.3,>=0.10.1 in /data/installation/anaconda3/envs/tmp/lib/python3.8/site-packages (from transformers>=4.14->flaml[nlp,notebook,optuna,ray]) (0.11.5)\n",
      "Requirement already satisfied: huggingface-hub<1.0,>=0.1.0 in /data/installation/anaconda3/envs/tmp/lib/python3.8/site-packages (from transformers>=4.14->flaml[nlp,notebook,optuna,ray]) (0.4.0)\n",
      "Requirement already satisfied: regex!=2019.12.17 in /data/installation/anaconda3/envs/tmp/lib/python3.8/site-packages (from transformers>=4.14->flaml[nlp,notebook,optuna,ray]) (2022.1.18)\n",
      "Requirement already satisfied: aiohttp in /data/installation/anaconda3/envs/tmp/lib/python3.8/site-packages (from datasets->flaml[nlp,notebook,optuna,ray]) (3.8.1)\n",
      "Requirement already satisfied: fsspec[http]>=2021.05.0 in /data/installation/anaconda3/envs/tmp/lib/python3.8/site-packages (from datasets->flaml[nlp,notebook,optuna,ray]) (2022.2.0)\n",
      "Requirement already satisfied: multiprocess in /data/installation/anaconda3/envs/tmp/lib/python3.8/site-packages (from datasets->flaml[nlp,notebook,optuna,ray]) (0.70.12.2)\n",
      "Requirement already satisfied: xxhash in /data/installation/anaconda3/envs/tmp/lib/python3.8/site-packages (from datasets->flaml[nlp,notebook,optuna,ray]) (3.0.0)\n",
      "Requirement already satisfied: dill in /data/installation/anaconda3/envs/tmp/lib/python3.8/site-packages (from datasets->flaml[nlp,notebook,optuna,ray]) (0.3.4)\n",
      "Requirement already satisfied: pyarrow!=4.0.0,>=3.0.0 in /data/installation/anaconda3/envs/tmp/lib/python3.8/site-packages (from datasets->flaml[nlp,notebook,optuna,ray]) (7.0.0)\n",
      "Requirement already satisfied: qtconsole in /data/installation/anaconda3/envs/tmp/lib/python3.8/site-packages (from jupyter->flaml[nlp,notebook,optuna,ray]) (5.2.2)\n",
      "Requirement already satisfied: notebook in /data/installation/anaconda3/envs/tmp/lib/python3.8/site-packages (from jupyter->flaml[nlp,notebook,optuna,ray]) (6.4.8)\n",
      "Requirement already satisfied: ipywidgets in /data/installation/anaconda3/envs/tmp/lib/python3.8/site-packages (from jupyter->flaml[nlp,notebook,optuna,ray]) (7.6.5)\n",
      "Requirement already satisfied: ipykernel in /data/installation/anaconda3/envs/tmp/lib/python3.8/site-packages (from jupyter->flaml[nlp,notebook,optuna,ray]) (6.9.1)\n",
      "Requirement already satisfied: nbconvert in /data/installation/anaconda3/envs/tmp/lib/python3.8/site-packages (from jupyter->flaml[nlp,notebook,optuna,ray]) (6.4.2)\n",
      "Requirement already satisfied: jupyter-console in /data/installation/anaconda3/envs/tmp/lib/python3.8/site-packages (from jupyter->flaml[nlp,notebook,optuna,ray]) (6.4.0)\n",
      "Requirement already satisfied: cycler>=0.10 in /data/installation/anaconda3/envs/tmp/lib/python3.8/site-packages (from matplotlib->flaml[nlp,notebook,optuna,ray]) (0.11.0)\n",
      "Requirement already satisfied: fonttools>=4.22.0 in /data/installation/anaconda3/envs/tmp/lib/python3.8/site-packages (from matplotlib->flaml[nlp,notebook,optuna,ray]) (4.29.1)\n",
      "Requirement already satisfied: pyparsing>=2.2.1 in /data/installation/anaconda3/envs/tmp/lib/python3.8/site-packages (from matplotlib->flaml[nlp,notebook,optuna,ray]) (3.0.4)\n",
      "Requirement already satisfied: kiwisolver>=1.0.1 in /data/installation/anaconda3/envs/tmp/lib/python3.8/site-packages (from matplotlib->flaml[nlp,notebook,optuna,ray]) (1.3.2)\n",
      "Requirement already satisfied: pillow>=6.2.0 in /data/installation/anaconda3/envs/tmp/lib/python3.8/site-packages (from matplotlib->flaml[nlp,notebook,optuna,ray]) (9.0.1)\n",
      "Requirement already satisfied: absl-py in /data/installation/anaconda3/envs/tmp/lib/python3.8/site-packages (from rouge_score->flaml[nlp,notebook,optuna,ray]) (1.0.0)\n",
      "Requirement already satisfied: typing-extensions in /data/installation/anaconda3/envs/tmp/lib/python3.8/site-packages (from torch->flaml[nlp,notebook,optuna,ray]) (4.1.1)\n",
      "Requirement already satisfied: deprecated>=1.2.3 in /data/installation/anaconda3/envs/tmp/lib/python3.8/site-packages (from redis>=3.5.0->ray[tune]~=1.10->flaml[nlp,notebook,optuna,ray]) (1.2.13)\n",
      "Requirement already satisfied: idna<4,>=2.5 in /data/installation/anaconda3/envs/tmp/lib/python3.8/site-packages (from requests->openml==0.10.2->flaml[nlp,notebook,optuna,ray]) (3.3)\n",
      "Requirement already satisfied: charset-normalizer~=2.0.0 in /data/installation/anaconda3/envs/tmp/lib/python3.8/site-packages (from requests->openml==0.10.2->flaml[nlp,notebook,optuna,ray]) (2.0.12)\n",
      "Requirement already satisfied: certifi>=2017.4.17 in /data/installation/anaconda3/envs/tmp/lib/python3.8/site-packages (from requests->openml==0.10.2->flaml[nlp,notebook,optuna,ray]) (2021.10.8)\n",
      "Requirement already satisfied: urllib3<1.27,>=1.21.1 in /data/installation/anaconda3/envs/tmp/lib/python3.8/site-packages (from requests->openml==0.10.2->flaml[nlp,notebook,optuna,ray]) (1.26.8)\n",
      "Requirement already satisfied: multidict<7.0,>=4.5 in /data/installation/anaconda3/envs/tmp/lib/python3.8/site-packages (from aiohttp->datasets->flaml[nlp,notebook,optuna,ray]) (6.0.2)\n",
      "Requirement already satisfied: yarl<2.0,>=1.0 in /data/installation/anaconda3/envs/tmp/lib/python3.8/site-packages (from aiohttp->datasets->flaml[nlp,notebook,optuna,ray]) (1.7.2)\n",
      "Requirement already satisfied: aiosignal>=1.1.2 in /data/installation/anaconda3/envs/tmp/lib/python3.8/site-packages (from aiohttp->datasets->flaml[nlp,notebook,optuna,ray]) (1.2.0)\n",
      "Requirement already satisfied: frozenlist>=1.1.1 in /data/installation/anaconda3/envs/tmp/lib/python3.8/site-packages (from aiohttp->datasets->flaml[nlp,notebook,optuna,ray]) (1.3.0)\n",
      "Requirement already satisfied: async-timeout<5.0,>=4.0.0a3 in /data/installation/anaconda3/envs/tmp/lib/python3.8/site-packages (from aiohttp->datasets->flaml[nlp,notebook,optuna,ray]) (4.0.2)\n",
      "Requirement already satisfied: debugpy<2.0,>=1.0.0 in /data/installation/anaconda3/envs/tmp/lib/python3.8/site-packages (from ipykernel->jupyter->flaml[nlp,notebook,optuna,ray]) (1.5.1)\n",
      "Requirement already satisfied: ipython>=7.23.1 in /data/installation/anaconda3/envs/tmp/lib/python3.8/site-packages (from ipykernel->jupyter->flaml[nlp,notebook,optuna,ray]) (8.0.1)\n",
      "Requirement already satisfied: traitlets<6.0,>=5.1.0 in /data/installation/anaconda3/envs/tmp/lib/python3.8/site-packages (from ipykernel->jupyter->flaml[nlp,notebook,optuna,ray]) (5.1.1)\n",
      "Requirement already satisfied: nest-asyncio in /data/installation/anaconda3/envs/tmp/lib/python3.8/site-packages (from ipykernel->jupyter->flaml[nlp,notebook,optuna,ray]) (1.5.4)\n",
      "Requirement already satisfied: jupyter-client<8.0 in /data/installation/anaconda3/envs/tmp/lib/python3.8/site-packages (from ipykernel->jupyter->flaml[nlp,notebook,optuna,ray]) (7.1.2)\n",
      "Requirement already satisfied: matplotlib-inline<0.2.0,>=0.1.0 in /data/installation/anaconda3/envs/tmp/lib/python3.8/site-packages (from ipykernel->jupyter->flaml[nlp,notebook,optuna,ray]) (0.1.3)\n",
      "Requirement already satisfied: tornado<7.0,>=4.2 in /data/installation/anaconda3/envs/tmp/lib/python3.8/site-packages (from ipykernel->jupyter->flaml[nlp,notebook,optuna,ray]) (6.1)\n",
      "Requirement already satisfied: widgetsnbextension~=3.5.0 in /data/installation/anaconda3/envs/tmp/lib/python3.8/site-packages (from ipywidgets->jupyter->flaml[nlp,notebook,optuna,ray]) (3.5.2)\n",
      "Requirement already satisfied: nbformat>=4.2.0 in /data/installation/anaconda3/envs/tmp/lib/python3.8/site-packages (from ipywidgets->jupyter->flaml[nlp,notebook,optuna,ray]) (5.1.3)\n",
      "Requirement already satisfied: ipython-genutils~=0.2.0 in /data/installation/anaconda3/envs/tmp/lib/python3.8/site-packages (from ipywidgets->jupyter->flaml[nlp,notebook,optuna,ray]) (0.2.0)\n",
      "Requirement already satisfied: jupyterlab-widgets>=1.0.0 in /data/installation/anaconda3/envs/tmp/lib/python3.8/site-packages (from ipywidgets->jupyter->flaml[nlp,notebook,optuna,ray]) (1.0.2)\n",
      "Requirement already satisfied: setuptools in /data/installation/anaconda3/envs/tmp/lib/python3.8/site-packages (from jsonschema->ray[tune]~=1.10->flaml[nlp,notebook,optuna,ray]) (60.9.3)\n",
      "Requirement already satisfied: pyrsistent>=0.14.0 in /data/installation/anaconda3/envs/tmp/lib/python3.8/site-packages (from jsonschema->ray[tune]~=1.10->flaml[nlp,notebook,optuna,ray]) (0.18.0)\n",
      "Requirement already satisfied: pygments in /data/installation/anaconda3/envs/tmp/lib/python3.8/site-packages (from jupyter-console->jupyter->flaml[nlp,notebook,optuna,ray]) (2.11.2)\n",
      "Requirement already satisfied: prompt-toolkit!=3.0.0,!=3.0.1,<3.1.0,>=2.0.0 in /data/installation/anaconda3/envs/tmp/lib/python3.8/site-packages (from jupyter-console->jupyter->flaml[nlp,notebook,optuna,ray]) (3.0.28)\n",
      "Requirement already satisfied: bleach in /data/installation/anaconda3/envs/tmp/lib/python3.8/site-packages (from nbconvert->jupyter->flaml[nlp,notebook,optuna,ray]) (4.1.0)\n",
      "Requirement already satisfied: jupyterlab-pygments in /data/installation/anaconda3/envs/tmp/lib/python3.8/site-packages (from nbconvert->jupyter->flaml[nlp,notebook,optuna,ray]) (0.1.2)\n",
      "Requirement already satisfied: jinja2>=2.4 in /data/installation/anaconda3/envs/tmp/lib/python3.8/site-packages (from nbconvert->jupyter->flaml[nlp,notebook,optuna,ray]) (3.0.3)\n",
      "Requirement already satisfied: jupyter-core in /data/installation/anaconda3/envs/tmp/lib/python3.8/site-packages (from nbconvert->jupyter->flaml[nlp,notebook,optuna,ray]) (4.9.2)\n",
      "Requirement already satisfied: pandocfilters>=1.4.1 in /data/installation/anaconda3/envs/tmp/lib/python3.8/site-packages (from nbconvert->jupyter->flaml[nlp,notebook,optuna,ray]) (1.5.0)\n",
      "Requirement already satisfied: defusedxml in /data/installation/anaconda3/envs/tmp/lib/python3.8/site-packages (from nbconvert->jupyter->flaml[nlp,notebook,optuna,ray]) (0.7.1)\n",
      "Requirement already satisfied: testpath in /data/installation/anaconda3/envs/tmp/lib/python3.8/site-packages (from nbconvert->jupyter->flaml[nlp,notebook,optuna,ray]) (0.5.0)\n",
      "Requirement already satisfied: entrypoints>=0.2.2 in /data/installation/anaconda3/envs/tmp/lib/python3.8/site-packages (from nbconvert->jupyter->flaml[nlp,notebook,optuna,ray]) (0.4)\n",
      "Requirement already satisfied: nbclient<0.6.0,>=0.5.0 in /data/installation/anaconda3/envs/tmp/lib/python3.8/site-packages (from nbconvert->jupyter->flaml[nlp,notebook,optuna,ray]) (0.5.11)\n",
      "Requirement already satisfied: mistune<2,>=0.8.1 in /data/installation/anaconda3/envs/tmp/lib/python3.8/site-packages (from nbconvert->jupyter->flaml[nlp,notebook,optuna,ray]) (0.8.4)\n",
      "Requirement already satisfied: terminado>=0.8.3 in /data/installation/anaconda3/envs/tmp/lib/python3.8/site-packages (from notebook->jupyter->flaml[nlp,notebook,optuna,ray]) (0.13.1)\n",
      "Requirement already satisfied: argon2-cffi in /data/installation/anaconda3/envs/tmp/lib/python3.8/site-packages (from notebook->jupyter->flaml[nlp,notebook,optuna,ray]) (21.3.0)\n",
      "Requirement already satisfied: Send2Trash>=1.8.0 in /data/installation/anaconda3/envs/tmp/lib/python3.8/site-packages (from notebook->jupyter->flaml[nlp,notebook,optuna,ray]) (1.8.0)\n",
      "Requirement already satisfied: prometheus-client in /data/installation/anaconda3/envs/tmp/lib/python3.8/site-packages (from notebook->jupyter->flaml[nlp,notebook,optuna,ray]) (0.13.1)\n",
      "Requirement already satisfied: pyzmq>=17 in /data/installation/anaconda3/envs/tmp/lib/python3.8/site-packages (from notebook->jupyter->flaml[nlp,notebook,optuna,ray]) (22.3.0)\n",
      "Requirement already satisfied: tenacity>=6.2.0 in /data/installation/anaconda3/envs/tmp/lib/python3.8/site-packages (from plotly->catboost>=0.26->flaml[nlp,notebook,optuna,ray]) (8.0.1)\n",
      "Requirement already satisfied: qtpy in /data/installation/anaconda3/envs/tmp/lib/python3.8/site-packages (from qtconsole->jupyter->flaml[nlp,notebook,optuna,ray]) (2.0.1)\n",
      "Requirement already satisfied: wrapt<2,>=1.10 in /data/installation/anaconda3/envs/tmp/lib/python3.8/site-packages (from deprecated>=1.2.3->redis>=3.5.0->ray[tune]~=1.10->flaml[nlp,notebook,optuna,ray]) (1.13.3)\n",
      "Requirement already satisfied: stack-data in /data/installation/anaconda3/envs/tmp/lib/python3.8/site-packages (from ipython>=7.23.1->ipykernel->jupyter->flaml[nlp,notebook,optuna,ray]) (0.2.0)\n",
      "Requirement already satisfied: decorator in /data/installation/anaconda3/envs/tmp/lib/python3.8/site-packages (from ipython>=7.23.1->ipykernel->jupyter->flaml[nlp,notebook,optuna,ray]) (5.1.1)\n",
      "Requirement already satisfied: pickleshare in /data/installation/anaconda3/envs/tmp/lib/python3.8/site-packages (from ipython>=7.23.1->ipykernel->jupyter->flaml[nlp,notebook,optuna,ray]) (0.7.5)\n",
      "Requirement already satisfied: backcall in /data/installation/anaconda3/envs/tmp/lib/python3.8/site-packages (from ipython>=7.23.1->ipykernel->jupyter->flaml[nlp,notebook,optuna,ray]) (0.2.0)\n",
      "Requirement already satisfied: jedi>=0.16 in /data/installation/anaconda3/envs/tmp/lib/python3.8/site-packages (from ipython>=7.23.1->ipykernel->jupyter->flaml[nlp,notebook,optuna,ray]) (0.18.1)\n",
      "Requirement already satisfied: black in /data/installation/anaconda3/envs/tmp/lib/python3.8/site-packages (from ipython>=7.23.1->ipykernel->jupyter->flaml[nlp,notebook,optuna,ray]) (22.1.0)\n",
      "Requirement already satisfied: pexpect>4.3 in /data/installation/anaconda3/envs/tmp/lib/python3.8/site-packages (from ipython>=7.23.1->ipykernel->jupyter->flaml[nlp,notebook,optuna,ray]) (4.8.0)\n",
      "Requirement already satisfied: MarkupSafe>=2.0 in /data/installation/anaconda3/envs/tmp/lib/python3.8/site-packages (from jinja2>=2.4->nbconvert->jupyter->flaml[nlp,notebook,optuna,ray]) (2.0.1)\n",
      "Requirement already satisfied: wcwidth in /data/installation/anaconda3/envs/tmp/lib/python3.8/site-packages (from prompt-toolkit!=3.0.0,!=3.0.1,<3.1.0,>=2.0.0->jupyter-console->jupyter->flaml[nlp,notebook,optuna,ray]) (0.2.5)\n",
      "Requirement already satisfied: ptyprocess in /data/installation/anaconda3/envs/tmp/lib/python3.8/site-packages (from terminado>=0.8.3->notebook->jupyter->flaml[nlp,notebook,optuna,ray]) (0.7.0)\n",
      "Requirement already satisfied: argon2-cffi-bindings in /data/installation/anaconda3/envs/tmp/lib/python3.8/site-packages (from argon2-cffi->notebook->jupyter->flaml[nlp,notebook,optuna,ray]) (21.2.0)\n",
      "Requirement already satisfied: webencodings in /data/installation/anaconda3/envs/tmp/lib/python3.8/site-packages (from bleach->nbconvert->jupyter->flaml[nlp,notebook,optuna,ray]) (0.5.1)\n",
      "Requirement already satisfied: parso<0.9.0,>=0.8.0 in /data/installation/anaconda3/envs/tmp/lib/python3.8/site-packages (from jedi>=0.16->ipython>=7.23.1->ipykernel->jupyter->flaml[nlp,notebook,optuna,ray]) (0.8.3)\n",
      "Requirement already satisfied: cffi>=1.0.1 in /data/installation/anaconda3/envs/tmp/lib/python3.8/site-packages (from argon2-cffi-bindings->argon2-cffi->notebook->jupyter->flaml[nlp,notebook,optuna,ray]) (1.15.0)\n",
      "Requirement already satisfied: tomli>=1.1.0 in /data/installation/anaconda3/envs/tmp/lib/python3.8/site-packages (from black->ipython>=7.23.1->ipykernel->jupyter->flaml[nlp,notebook,optuna,ray]) (2.0.1)\n",
      "Requirement already satisfied: platformdirs>=2 in /data/installation/anaconda3/envs/tmp/lib/python3.8/site-packages (from black->ipython>=7.23.1->ipykernel->jupyter->flaml[nlp,notebook,optuna,ray]) (2.5.0)\n",
      "Requirement already satisfied: pathspec>=0.9.0 in /data/installation/anaconda3/envs/tmp/lib/python3.8/site-packages (from black->ipython>=7.23.1->ipykernel->jupyter->flaml[nlp,notebook,optuna,ray]) (0.9.0)\n",
      "Requirement already satisfied: mypy-extensions>=0.4.3 in /data/installation/anaconda3/envs/tmp/lib/python3.8/site-packages (from black->ipython>=7.23.1->ipykernel->jupyter->flaml[nlp,notebook,optuna,ray]) (0.4.3)\n",
      "Requirement already satisfied: executing in /data/installation/anaconda3/envs/tmp/lib/python3.8/site-packages (from stack-data->ipython>=7.23.1->ipykernel->jupyter->flaml[nlp,notebook,optuna,ray]) (0.8.2)\n",
      "Requirement already satisfied: pure-eval in /data/installation/anaconda3/envs/tmp/lib/python3.8/site-packages (from stack-data->ipython>=7.23.1->ipykernel->jupyter->flaml[nlp,notebook,optuna,ray]) (0.2.2)\n",
      "Requirement already satisfied: asttokens in /data/installation/anaconda3/envs/tmp/lib/python3.8/site-packages (from stack-data->ipython>=7.23.1->ipykernel->jupyter->flaml[nlp,notebook,optuna,ray]) (2.0.5)\n",
      "Requirement already satisfied: pycparser in /data/installation/anaconda3/envs/tmp/lib/python3.8/site-packages (from cffi>=1.0.1->argon2-cffi-bindings->argon2-cffi->notebook->jupyter->flaml[nlp,notebook,optuna,ray]) (2.21)\n"
     ]
    }
   ],
   "source": [
    "!pip install flaml[nlp,ray,notebook,blendsearch];"
   ]
  },
  {
   "cell_type": "markdown",
   "metadata": {},
   "source": [
    "## 2. Sentiment Classification Example\n",
    "## Load data and preprocess\n",
    "\n",
    "The Stanford Sentiment treebank (SST-2) dataset is a dataset for sentiment classification. First, let's load this dataset into pandas dataframes:"
   ]
  },
  {
   "cell_type": "code",
   "execution_count": 1,
   "metadata": {},
   "outputs": [
    {
     "name": "stderr",
     "output_type": "stream",
     "text": [
      "Reusing dataset glue (/home/xliu127/.cache/huggingface/datasets/glue/sst2/1.0.0/dacbe3125aa31d7f70367a07a8a9e72a5a0bfeb5fc42e75c9db75b96da6053ad)\n",
      "Reusing dataset glue (/home/xliu127/.cache/huggingface/datasets/glue/sst2/1.0.0/dacbe3125aa31d7f70367a07a8a9e72a5a0bfeb5fc42e75c9db75b96da6053ad)\n",
      "Reusing dataset glue (/home/xliu127/.cache/huggingface/datasets/glue/sst2/1.0.0/dacbe3125aa31d7f70367a07a8a9e72a5a0bfeb5fc42e75c9db75b96da6053ad)\n"
     ]
    }
   ],
   "source": [
    "from datasets import load_dataset\n",
    "\n",
    "train_dataset = load_dataset(\"glue\", \"sst2\", split=\"train\").to_pandas().iloc[:10000]\n",
    "dev_dataset = load_dataset(\"glue\", \"sst2\", split=\"validation\").to_pandas().iloc[:10000]\n",
    "test_dataset = load_dataset(\"glue\", \"sst2\", split=\"test\").to_pandas()"
   ]
  },
  {
   "cell_type": "markdown",
   "metadata": {},
   "source": [
    "Take a look at the first 5 examples of this dataset:"
   ]
  },
  {
   "cell_type": "code",
   "execution_count": 3,
   "metadata": {},
   "outputs": [
    {
     "data": {
      "text/html": [
       "<div>\n",
       "<style scoped>\n",
       "    .dataframe tbody tr th:only-of-type {\n",
       "        vertical-align: middle;\n",
       "    }\n",
       "\n",
       "    .dataframe tbody tr th {\n",
       "        vertical-align: top;\n",
       "    }\n",
       "\n",
       "    .dataframe thead th {\n",
       "        text-align: right;\n",
       "    }\n",
       "</style>\n",
       "<table border=\"1\" class=\"dataframe\">\n",
       "  <thead>\n",
       "    <tr style=\"text-align: right;\">\n",
       "      <th></th>\n",
       "      <th>sentence</th>\n",
       "      <th>label</th>\n",
       "      <th>idx</th>\n",
       "    </tr>\n",
       "  </thead>\n",
       "  <tbody>\n",
       "    <tr>\n",
       "      <th>0</th>\n",
       "      <td>hide new secretions from the parental units</td>\n",
       "      <td>0</td>\n",
       "      <td>0</td>\n",
       "    </tr>\n",
       "    <tr>\n",
       "      <th>1</th>\n",
       "      <td>contains no wit , only labored gags</td>\n",
       "      <td>0</td>\n",
       "      <td>1</td>\n",
       "    </tr>\n",
       "    <tr>\n",
       "      <th>2</th>\n",
       "      <td>that loves its characters and communicates som...</td>\n",
       "      <td>1</td>\n",
       "      <td>2</td>\n",
       "    </tr>\n",
       "    <tr>\n",
       "      <th>3</th>\n",
       "      <td>remains utterly satisfied to remain the same t...</td>\n",
       "      <td>0</td>\n",
       "      <td>3</td>\n",
       "    </tr>\n",
       "    <tr>\n",
       "      <th>4</th>\n",
       "      <td>on the worst revenge-of-the-nerds clichés the ...</td>\n",
       "      <td>0</td>\n",
       "      <td>4</td>\n",
       "    </tr>\n",
       "  </tbody>\n",
       "</table>\n",
       "</div>"
      ],
      "text/plain": [
       "                                            sentence  label  idx\n",
       "0       hide new secretions from the parental units       0    0\n",
       "1               contains no wit , only labored gags       0    1\n",
       "2  that loves its characters and communicates som...      1    2\n",
       "3  remains utterly satisfied to remain the same t...      0    3\n",
       "4  on the worst revenge-of-the-nerds clichés the ...      0    4"
      ]
     },
     "execution_count": 3,
     "metadata": {},
     "output_type": "execute_result"
    }
   ],
   "source": [
    "train_dataset.head(5)"
   ]
  },
  {
   "cell_type": "markdown",
   "metadata": {},
   "source": [
    "Separate the data into X and y:"
   ]
  },
  {
   "cell_type": "code",
   "execution_count": 2,
   "metadata": {},
   "outputs": [],
   "source": [
    "custom_sent_keys = [\"sentence\"]          # specify the column names of the input sentences\n",
    "label_key = \"label\"                                    # specify the column name of the label\n",
    "\n",
    "X_train, y_train = train_dataset[custom_sent_keys], train_dataset[label_key]\n",
    "X_val, y_val = dev_dataset[custom_sent_keys], dev_dataset[label_key]\n",
    "X_test = test_dataset[custom_sent_keys]"
   ]
  },
  {
   "cell_type": "markdown",
   "metadata": {},
   "source": [
    "### Run FLAML"
   ]
  },
  {
   "cell_type": "code",
   "execution_count": 3,
   "metadata": {},
   "outputs": [
    {
     "name": "stderr",
     "output_type": "stream",
     "text": [
      "E0301 12:27:52.005567198   72646 fork_posix.cc:70]           Fork support is only compatible with the epoll1 and poll polling strategies\n",
      "E0301 12:27:52.093042924   72646 fork_posix.cc:70]           Fork support is only compatible with the epoll1 and poll polling strategies\n",
      "2022-03-01 12:27:52,631\tERROR services.py:1383 -- Failed to start the dashboard: Failed to read dashbord log: [Errno 2] No such file or directory: '/tmp/ray/session_2022-03-01_12-27-50_836238_72646/logs/dashboard.log'\n",
      "E0301 12:27:52.639055605   72646 fork_posix.cc:70]           Fork support is only compatible with the epoll1 and poll polling strategies\n",
      "E0301 12:27:52.669543325   72646 fork_posix.cc:70]           Fork support is only compatible with the epoll1 and poll polling strategies\n"
     ]
    },
    {
     "data": {
      "text/plain": [
       "{'node_ip_address': '155.246.89.124',\n",
       " 'raylet_ip_address': '155.246.89.124',\n",
       " 'redis_address': '155.246.89.124:6379',\n",
       " 'object_store_address': '/tmp/ray/session_2022-03-01_12-27-50_836238_72646/sockets/plasma_store',\n",
       " 'raylet_socket_name': '/tmp/ray/session_2022-03-01_12-27-50_836238_72646/sockets/raylet',\n",
       " 'webui_url': None,\n",
       " 'session_dir': '/tmp/ray/session_2022-03-01_12-27-50_836238_72646',\n",
       " 'metrics_export_port': 46695,\n",
       " 'gcs_address': '155.246.89.124:39835',\n",
       " 'node_id': '34d5a8dcf66552f4e5753e10fad2035faf7f07b5649369bf713418cc'}"
      ]
     },
     "execution_count": 3,
     "metadata": {},
     "output_type": "execute_result"
    },
    {
     "name": "stderr",
     "output_type": "stream",
     "text": [
      "\u001b[2m\u001b[33m(raylet)\u001b[0m Traceback (most recent call last):\n",
      "\u001b[2m\u001b[33m(raylet)\u001b[0m   File \"/data/installation/anaconda3/envs/tmp/lib/python3.8/site-packages/ray/dashboard/agent.py\", line 21, in <module>\n",
      "\u001b[2m\u001b[33m(raylet)\u001b[0m     import ray.dashboard.utils as dashboard_utils\n",
      "\u001b[2m\u001b[33m(raylet)\u001b[0m   File \"/data/installation/anaconda3/envs/tmp/lib/python3.8/site-packages/ray/dashboard/utils.py\", line 29, in <module>\n",
      "\u001b[2m\u001b[33m(raylet)\u001b[0m     from ray.dashboard.optional_deps import (aiohttp, aiosignal, aioredis, hdrs,\n",
      "\u001b[2m\u001b[33m(raylet)\u001b[0m   File \"/data/installation/anaconda3/envs/tmp/lib/python3.8/site-packages/ray/dashboard/optional_deps.py\", line 3, in <module>\n",
      "\u001b[2m\u001b[33m(raylet)\u001b[0m     import opencensus  # noqa: F401\n",
      "\u001b[2m\u001b[33m(raylet)\u001b[0m ModuleNotFoundError: No module named 'opencensus'\n"
     ]
    }
   ],
   "source": [
    "''' import AutoML class from flaml package '''\n",
    "from flaml import AutoML\n",
    "automl = AutoML()\n",
    "\n",
    "import ray\n",
    "ray.init() # you may encounter the ModuleNotFoundError: No module named 'opencensus', which can be ignored"
   ]
  },
  {
   "cell_type": "code",
   "execution_count": 12,
   "metadata": {},
   "outputs": [],
   "source": [
    "\n",
    "automl_settings = {\n",
    "        \"time_budget\": 500,                 # setting the time budget\n",
    "        \"task\": \"seq-classification\",       # setting the task as seq-classification\n",
    "        \"hf_args\":\n",
    "            {\"output_dir\": \"data/output/\",  # setting the output directory\n",
    "             \"ckpt_per_epoch\": 1           # setting the number of checkoints per epoch\n",
    "             },\n",
    "        \"gpu_per_trial\": 1,                 # set to 0 if no GPU is available\n",
    "        \"log_file_name\": \"seqclass.log\",    # set the file to save the log for HPO\n",
    "        \"log_type\": \"all\",                  # the log type for checkpoints: all if keeping all checkpoints, best if only keeping the best checkpoints                        # the batch size for validation (inference)\n",
    "        \"use_ray\": True,                     # set whether to use Ray\n",
    "    }"
   ]
  },
  {
   "cell_type": "code",
   "execution_count": 5,
   "metadata": {},
   "outputs": [
    {
     "data": {
      "text/html": [
       "== Status ==<br>Current time: 2022-03-01 12:36:27 (running for 00:08:25.35)<br>Memory usage on this node: 29.9/376.6 GiB<br>Using FIFO scheduling algorithm.<br>Resources requested: 0/96 CPUs, 0/4 GPUs, 0.0/250.4 GiB heap, 0.0/111.3 GiB objects (0.0/1.0 accelerator_type:V100)<br>Current best trial: 872e4568 with val_loss=0.037844036697247674 and parameters={'learning_rate': 1.2494098468160911e-05, 'num_train_epochs': 5.849791656938768, 'per_device_train_batch_size': 32, 'warmup_ratio': 0.0, 'weight_decay': 0.0, 'adam_epsilon': 8.653857539100394e-07, 'seed': 42, 'global_max_steps': 9223372036854775807, 'learner': 'transformer'}<br>Result logdir: /home/xliu127/ray_results/train_2022-03-01_12-28-02<br>Number of trials: 16/1000000 (16 TERMINATED)<br><br>"
      ],
      "text/plain": [
       "<IPython.core.display.HTML object>"
      ]
     },
     "metadata": {},
     "output_type": "display_data"
    },
    {
     "name": "stdout",
     "output_type": "stream",
     "text": [
      "\u001b[2m\u001b[36m(train pid=72919)\u001b[0m {'eval_loss': 0.209259033203125, 'eval_automl_metric': 0.05275229357798161, 'eval_runtime': 9.6745, 'eval_samples_per_second': 90.134, 'eval_steps_per_second': 90.134, 'epoch': 0.19}\n",
      "\u001b[2m\u001b[36m(train pid=73009)\u001b[0m {'loss': 0.0762, 'learning_rate': 1.2810241919904393e-06, 'epoch': 4.0}\n",
      "\u001b[2m\u001b[36m(train pid=72972)\u001b[0m {'loss': 0.1313, 'learning_rate': 4.837553361482038e-07, 'epoch': 4.0}\n",
      "\u001b[2m\u001b[36m(train pid=73009)\u001b[0m {'eval_loss': 0.18042738735675812, 'eval_automl_metric': 0.03899082568807344, 'eval_runtime': 9.2668, 'eval_samples_per_second': 94.099, 'eval_steps_per_second': 94.099, 'epoch': 4.0}\n",
      "\u001b[2m\u001b[36m(train pid=72919)\u001b[0m {'eval_loss': 0.209259033203125, 'eval_automl_metric': 0.05275229357798161, 'eval_runtime': 10.1689, 'eval_samples_per_second': 85.752, 'eval_steps_per_second': 85.752, 'epoch': 0.19}\n",
      "\u001b[2m\u001b[36m(train pid=72919)\u001b[0m {'train_runtime': 45.5177, 'train_samples_per_second': 41.169, 'train_steps_per_second': 5.163, 'train_loss': 0.2745314577792553, 'epoch': 0.19}\n",
      "\u001b[2m\u001b[36m(train pid=72972)\u001b[0m {'eval_loss': 0.23345312476158142, 'eval_automl_metric': 0.04587155963302747, 'eval_runtime': 11.5321, 'eval_samples_per_second': 75.615, 'eval_steps_per_second': 75.615, 'epoch': 4.0}\n"
     ]
    },
    {
     "name": "stderr",
     "output_type": "stream",
     "text": [
      "\u001b[2m\u001b[36m(train pid=72919)\u001b[0m ***** Running Prediction *****\n",
      "\u001b[2m\u001b[36m(train pid=72919)\u001b[0m   Num examples = 872\n",
      "\u001b[2m\u001b[36m(train pid=72919)\u001b[0m   Batch size = 1\n"
     ]
    },
    {
     "name": "stdout",
     "output_type": "stream",
     "text": [
      "\u001b[2m\u001b[36m(train pid=73009)\u001b[0m {'loss': 0.0627, 'learning_rate': 5.084604692678815e-07, 'epoch': 5.0}\n",
      "\u001b[2m\u001b[36m(train pid=73009)\u001b[0m {'eval_loss': 0.18675050139427185, 'eval_automl_metric': 0.03669724770642202, 'eval_runtime': 9.0896, 'eval_samples_per_second': 95.934, 'eval_steps_per_second': 95.934, 'epoch': 5.0}\n",
      "\u001b[2m\u001b[36m(train pid=73009)\u001b[0m {'eval_loss': 0.18675050139427185, 'eval_automl_metric': 0.03669724770642202, 'eval_runtime': 10.07, 'eval_samples_per_second': 86.594, 'eval_steps_per_second': 86.594, 'epoch': 5.0}\n"
     ]
    },
    {
     "name": "stderr",
     "output_type": "stream",
     "text": [
      "2022-03-01 12:37:58,412\tWARNING ray_trial_executor.py:146 -- Skipping cleanup - trainable.stop did not return in time. Consider making `stop` a faster operation.\n"
     ]
    },
    {
     "name": "stdout",
     "output_type": "stream",
     "text": [
      "\u001b[2m\u001b[36m(train pid=72972)\u001b[0m {'eval_loss': 0.24177692830562592, 'eval_automl_metric': 0.04357798165137616, 'eval_runtime': 12.1452, 'eval_samples_per_second': 71.798, 'eval_steps_per_second': 71.798, 'epoch': 4.56}\n",
      "\u001b[2m\u001b[36m(train pid=72972)\u001b[0m {'eval_loss': 0.24177692830562592, 'eval_automl_metric': 0.04357798165137616, 'eval_runtime': 11.3575, 'eval_samples_per_second': 76.777, 'eval_steps_per_second': 76.777, 'epoch': 4.56}\n",
      "\u001b[2m\u001b[36m(train pid=73009)\u001b[0m {'eval_loss': 0.18799372017383575, 'eval_automl_metric': 0.037844036697247674, 'eval_runtime': 8.9759, 'eval_samples_per_second': 97.149, 'eval_steps_per_second': 97.149, 'epoch': 5.65}\n",
      "\u001b[2m\u001b[36m(train pid=73009)\u001b[0m {'train_runtime': 284.4378, 'train_samples_per_second': 198.439, 'train_steps_per_second': 6.212, 'train_loss': 0.0954470566996222, 'epoch': 5.65}\n",
      "\u001b[2m\u001b[36m(train pid=72972)\u001b[0m {'train_runtime': 531.3438, 'train_samples_per_second': 126.886, 'train_steps_per_second': 15.862, 'train_loss': 0.1763550192849678, 'epoch': 4.56}\n"
     ]
    },
    {
     "name": "stderr",
     "output_type": "stream",
     "text": [
      "\u001b[2m\u001b[36m(train pid=73009)\u001b[0m ***** Running Prediction *****\n",
      "\u001b[2m\u001b[36m(train pid=73009)\u001b[0m   Num examples = 872\n",
      "\u001b[2m\u001b[36m(train pid=73009)\u001b[0m   Batch size = 1\n",
      "\u001b[2m\u001b[36m(train pid=72972)\u001b[0m ***** Running Prediction *****\n",
      "\u001b[2m\u001b[36m(train pid=72972)\u001b[0m   Num examples = 872\n",
      "\u001b[2m\u001b[36m(train pid=72972)\u001b[0m   Batch size = 1\n",
      "2022-03-01 12:38:29,384\tINFO tune.py:636 -- Total run time: 627.18 seconds (500.25 seconds for the tuning loop).\n",
      "[flaml.automl: 03-01 12:38:32] {2775} INFO - selected model: None\n",
      "\u001b[32m[I 2022-03-01 12:38:32,636]\u001b[0m A new study created in memory with name: optuna\u001b[0m\n"
     ]
    },
    {
     "data": {
      "text/html": [
       "== Status ==<br>Current time: 2022-03-01 12:38:33 (running for 00:00:01.05)<br>Memory usage on this node: 19.7/376.6 GiB<br>Using FIFO scheduling algorithm.<br>Resources requested: 1.0/96 CPUs, 1.0/4 GPUs, 0.0/250.4 GiB heap, 0.0/111.3 GiB objects (0.0/1.0 accelerator_type:V100)<br>Result logdir: /home/xliu127/ray_results/_trainable_function_wrapper_2022-03-01_12-38-32<br>Number of trials: 1/1 (1 RUNNING)<br><br>"
      ],
      "text/plain": [
       "<IPython.core.display.HTML object>"
      ]
     },
     "metadata": {},
     "output_type": "display_data"
    },
    {
     "name": "stderr",
     "output_type": "stream",
     "text": [
      "\u001b[2m\u001b[36m(_trainable_function_wrapper pid=72960)\u001b[0m E0301 12:38:33.721543218   89813 fork_posix.cc:70]           Fork support is only compatible with the epoll1 and poll polling strategies\n"
     ]
    },
    {
     "data": {
      "text/html": [
       "== Status ==<br>Current time: 2022-03-01 12:38:38 (running for 00:00:06.06)<br>Memory usage on this node: 19.8/376.6 GiB<br>Using FIFO scheduling algorithm.<br>Resources requested: 1.0/96 CPUs, 1.0/4 GPUs, 0.0/250.4 GiB heap, 0.0/111.3 GiB objects (0.0/1.0 accelerator_type:V100)<br>Result logdir: /home/xliu127/ray_results/_trainable_function_wrapper_2022-03-01_12-38-32<br>Number of trials: 1/1 (1 RUNNING)<br><br>"
      ],
      "text/plain": [
       "<IPython.core.display.HTML object>"
      ]
     },
     "metadata": {},
     "output_type": "display_data"
    },
    {
     "data": {
      "text/html": [
       "== Status ==<br>Current time: 2022-03-01 12:38:43 (running for 00:00:11.08)<br>Memory usage on this node: 23.1/376.6 GiB<br>Using FIFO scheduling algorithm.<br>Resources requested: 1.0/96 CPUs, 1.0/4 GPUs, 0.0/250.4 GiB heap, 0.0/111.3 GiB objects (0.0/1.0 accelerator_type:V100)<br>Result logdir: /home/xliu127/ray_results/_trainable_function_wrapper_2022-03-01_12-38-32<br>Number of trials: 1/1 (1 RUNNING)<br><br>"
      ],
      "text/plain": [
       "<IPython.core.display.HTML object>"
      ]
     },
     "metadata": {},
     "output_type": "display_data"
    },
    {
     "name": "stderr",
     "output_type": "stream",
     "text": [
      "\u001b[2m\u001b[36m(_trainable_function_wrapper pid=72960)\u001b[0m /data/installation/anaconda3/envs/tmp/lib/python3.8/site-packages/transformers/optimization.py:306: FutureWarning: This implementation of AdamW is deprecated and will be removed in a future version. Use thePyTorch implementation torch.optim.AdamW instead, or set `no_deprecation_warning=True` to disable this warning\n",
      "\u001b[2m\u001b[36m(_trainable_function_wrapper pid=72960)\u001b[0m   warnings.warn(\n"
     ]
    },
    {
     "data": {
      "text/html": [
       "== Status ==<br>Current time: 2022-03-01 12:38:48 (running for 00:00:16.08)<br>Memory usage on this node: 23.2/376.6 GiB<br>Using FIFO scheduling algorithm.<br>Resources requested: 1.0/96 CPUs, 1.0/4 GPUs, 0.0/250.4 GiB heap, 0.0/111.3 GiB objects (0.0/1.0 accelerator_type:V100)<br>Result logdir: /home/xliu127/ray_results/_trainable_function_wrapper_2022-03-01_12-38-32<br>Number of trials: 1/1 (1 RUNNING)<br><br>"
      ],
      "text/plain": [
       "<IPython.core.display.HTML object>"
      ]
     },
     "metadata": {},
     "output_type": "display_data"
    },
    {
     "data": {
      "text/html": [
       "== Status ==<br>Current time: 2022-03-01 12:38:53 (running for 00:00:21.09)<br>Memory usage on this node: 23.2/376.6 GiB<br>Using FIFO scheduling algorithm.<br>Resources requested: 1.0/96 CPUs, 1.0/4 GPUs, 0.0/250.4 GiB heap, 0.0/111.3 GiB objects (0.0/1.0 accelerator_type:V100)<br>Result logdir: /home/xliu127/ray_results/_trainable_function_wrapper_2022-03-01_12-38-32<br>Number of trials: 1/1 (1 RUNNING)<br><br>"
      ],
      "text/plain": [
       "<IPython.core.display.HTML object>"
      ]
     },
     "metadata": {},
     "output_type": "display_data"
    },
    {
     "data": {
      "text/html": [
       "== Status ==<br>Current time: 2022-03-01 12:38:58 (running for 00:00:26.10)<br>Memory usage on this node: 23.2/376.6 GiB<br>Using FIFO scheduling algorithm.<br>Resources requested: 1.0/96 CPUs, 1.0/4 GPUs, 0.0/250.4 GiB heap, 0.0/111.3 GiB objects (0.0/1.0 accelerator_type:V100)<br>Result logdir: /home/xliu127/ray_results/_trainable_function_wrapper_2022-03-01_12-38-32<br>Number of trials: 1/1 (1 RUNNING)<br><br>"
      ],
      "text/plain": [
       "<IPython.core.display.HTML object>"
      ]
     },
     "metadata": {},
     "output_type": "display_data"
    },
    {
     "data": {
      "text/html": [
       "== Status ==<br>Current time: 2022-03-01 12:39:03 (running for 00:00:31.12)<br>Memory usage on this node: 23.2/376.6 GiB<br>Using FIFO scheduling algorithm.<br>Resources requested: 1.0/96 CPUs, 1.0/4 GPUs, 0.0/250.4 GiB heap, 0.0/111.3 GiB objects (0.0/1.0 accelerator_type:V100)<br>Result logdir: /home/xliu127/ray_results/_trainable_function_wrapper_2022-03-01_12-38-32<br>Number of trials: 1/1 (1 RUNNING)<br><br>"
      ],
      "text/plain": [
       "<IPython.core.display.HTML object>"
      ]
     },
     "metadata": {},
     "output_type": "display_data"
    },
    {
     "data": {
      "text/html": [
       "== Status ==<br>Current time: 2022-03-01 12:39:08 (running for 00:00:36.12)<br>Memory usage on this node: 23.0/376.6 GiB<br>Using FIFO scheduling algorithm.<br>Resources requested: 1.0/96 CPUs, 1.0/4 GPUs, 0.0/250.4 GiB heap, 0.0/111.3 GiB objects (0.0/1.0 accelerator_type:V100)<br>Result logdir: /home/xliu127/ray_results/_trainable_function_wrapper_2022-03-01_12-38-32<br>Number of trials: 1/1 (1 RUNNING)<br><br>"
      ],
      "text/plain": [
       "<IPython.core.display.HTML object>"
      ]
     },
     "metadata": {},
     "output_type": "display_data"
    },
    {
     "data": {
      "text/html": [
       "== Status ==<br>Current time: 2022-03-01 12:39:13 (running for 00:00:41.14)<br>Memory usage on this node: 23.0/376.6 GiB<br>Using FIFO scheduling algorithm.<br>Resources requested: 1.0/96 CPUs, 1.0/4 GPUs, 0.0/250.4 GiB heap, 0.0/111.3 GiB objects (0.0/1.0 accelerator_type:V100)<br>Result logdir: /home/xliu127/ray_results/_trainable_function_wrapper_2022-03-01_12-38-32<br>Number of trials: 1/1 (1 RUNNING)<br><br>"
      ],
      "text/plain": [
       "<IPython.core.display.HTML object>"
      ]
     },
     "metadata": {},
     "output_type": "display_data"
    },
    {
     "data": {
      "text/html": [
       "== Status ==<br>Current time: 2022-03-01 12:39:18 (running for 00:00:46.15)<br>Memory usage on this node: 23.0/376.6 GiB<br>Using FIFO scheduling algorithm.<br>Resources requested: 1.0/96 CPUs, 1.0/4 GPUs, 0.0/250.4 GiB heap, 0.0/111.3 GiB objects (0.0/1.0 accelerator_type:V100)<br>Result logdir: /home/xliu127/ray_results/_trainable_function_wrapper_2022-03-01_12-38-32<br>Number of trials: 1/1 (1 RUNNING)<br><br>"
      ],
      "text/plain": [
       "<IPython.core.display.HTML object>"
      ]
     },
     "metadata": {},
     "output_type": "display_data"
    },
    {
     "name": "stdout",
     "output_type": "stream",
     "text": [
      "\u001b[2m\u001b[36m(_trainable_function_wrapper pid=72960)\u001b[0m {'loss': 0.1458, 'learning_rate': 1.0378767760826185e-05, 'epoch': 1.0}\n"
     ]
    },
    {
     "data": {
      "text/html": [
       "== Status ==<br>Current time: 2022-03-01 12:39:23 (running for 00:00:51.16)<br>Memory usage on this node: 23.0/376.6 GiB<br>Using FIFO scheduling algorithm.<br>Resources requested: 1.0/96 CPUs, 1.0/4 GPUs, 0.0/250.4 GiB heap, 0.0/111.3 GiB objects (0.0/1.0 accelerator_type:V100)<br>Result logdir: /home/xliu127/ray_results/_trainable_function_wrapper_2022-03-01_12-38-32<br>Number of trials: 1/1 (1 RUNNING)<br><br>"
      ],
      "text/plain": [
       "<IPython.core.display.HTML object>"
      ]
     },
     "metadata": {},
     "output_type": "display_data"
    },
    {
     "name": "stdout",
     "output_type": "stream",
     "text": [
      "\u001b[2m\u001b[36m(_trainable_function_wrapper pid=72960)\u001b[0m {'train_runtime': 43.2306, 'train_samples_per_second': 1353.159, 'train_steps_per_second': 42.354, 'train_loss': 0.14579314698045626, 'epoch': 1.0}\n"
     ]
    },
    {
     "data": {
      "text/html": [
       "== Status ==<br>Current time: 2022-03-01 12:39:28 (running for 00:00:56.16)<br>Memory usage on this node: 23.2/376.6 GiB<br>Using FIFO scheduling algorithm.<br>Resources requested: 1.0/96 CPUs, 1.0/4 GPUs, 0.0/250.4 GiB heap, 0.0/111.3 GiB objects (0.0/1.0 accelerator_type:V100)<br>Result logdir: /home/xliu127/ray_results/_trainable_function_wrapper_2022-03-01_12-38-32<br>Number of trials: 1/1 (1 RUNNING)<br><br>"
      ],
      "text/plain": [
       "<IPython.core.display.HTML object>"
      ]
     },
     "metadata": {},
     "output_type": "display_data"
    },
    {
     "name": "stderr",
     "output_type": "stream",
     "text": [
      "2022-03-01 12:39:31,181\tWARNING util.py:163 -- The `fetch_result` operation took 0.592 s, which may be a performance bottleneck.\n",
      "2022-03-01 12:39:31,185\tWARNING util.py:163 -- The `process_trial` operation took 0.597 s, which may be a performance bottleneck.\n"
     ]
    },
    {
     "name": "stdout",
     "output_type": "stream",
     "text": [
      "Trial _trainable_function_wrapper_8f6b5b46 reported train_time=55.90 with parameters={'learning_rate': 1.2494098468160911e-05, 'num_train_epochs': 5.849791656938768, 'per_device_train_batch_size': 32, 'warmup_ratio': 0.0, 'weight_decay': 0.0, 'adam_epsilon': 8.653857539100394e-07, 'seed': 42, 'global_max_steps': 313, 'learner': 'transformer'}.\n"
     ]
    },
    {
     "name": "stderr",
     "output_type": "stream",
     "text": [
      "2022-03-01 12:39:32,758\tWARNING util.py:163 -- The `fetch_result` operation took 0.536 s, which may be a performance bottleneck.\n",
      "2022-03-01 12:39:32,792\tWARNING util.py:163 -- The `process_trial` operation took 0.570 s, which may be a performance bottleneck.\n"
     ]
    },
    {
     "name": "stdout",
     "output_type": "stream",
     "text": [
      "Trial _trainable_function_wrapper_8f6b5b46 completed. Last result: estimator=<flaml.model.TransformersEstimator object at 0x7f39e27df5e0>,train_time=55.89623308181763\n"
     ]
    },
    {
     "data": {
      "text/html": [
       "== Status ==<br>Current time: 2022-03-01 12:39:49 (running for 00:01:16.70)<br>Memory usage on this node: 22.0/376.6 GiB<br>Using FIFO scheduling algorithm.<br>Resources requested: 0/96 CPUs, 0/4 GPUs, 0.0/250.4 GiB heap, 0.0/111.3 GiB objects (0.0/1.0 accelerator_type:V100)<br>Current best trial: 8f6b5b46 with train_time=55.89623308181763 and parameters={'learning_rate': 1.2494098468160911e-05, 'num_train_epochs': 5.849791656938768, 'per_device_train_batch_size': 32, 'warmup_ratio': 0.0, 'weight_decay': 0.0, 'adam_epsilon': 8.653857539100394e-07, 'seed': 42, 'global_max_steps': 313, 'learner': 'transformer'}<br>Result logdir: /home/xliu127/ray_results/_trainable_function_wrapper_2022-03-01_12-38-32<br>Number of trials: 1/1 (1 TERMINATED)<br><table>\n",
       "<thead>\n",
       "<tr><th>Trial name                          </th><th>status    </th><th>loc                 </th><th style=\"text-align: right;\">  adam_epsilon</th><th style=\"text-align: right;\">  global_max_steps</th><th>learner    </th><th style=\"text-align: right;\">  learning_rate</th><th style=\"text-align: right;\">  num_train_epochs</th><th style=\"text-align: right;\">  per_device_train_batch_size</th><th style=\"text-align: right;\">  seed</th><th style=\"text-align: right;\">  warmup_ratio</th><th style=\"text-align: right;\">  weight_decay</th><th style=\"text-align: right;\">  iter</th><th style=\"text-align: right;\">  total time (s)</th><th style=\"text-align: right;\">  train_time</th></tr>\n",
       "</thead>\n",
       "<tbody>\n",
       "<tr><td>_trainable_function_wrapper_8f6b5b46</td><td>TERMINATED</td><td>155.246.89.124:72960</td><td style=\"text-align: right;\">   8.65386e-07</td><td style=\"text-align: right;\">               313</td><td>transformer</td><td style=\"text-align: right;\">    1.24941e-05</td><td style=\"text-align: right;\">           5.84979</td><td style=\"text-align: right;\">                           32</td><td style=\"text-align: right;\">    42</td><td style=\"text-align: right;\">             0</td><td style=\"text-align: right;\">             0</td><td style=\"text-align: right;\">     1</td><td style=\"text-align: right;\">         55.8966</td><td style=\"text-align: right;\">     55.8962</td></tr>\n",
       "</tbody>\n",
       "</table><br><br>"
      ],
      "text/plain": [
       "<IPython.core.display.HTML object>"
      ]
     },
     "metadata": {},
     "output_type": "display_data"
    },
    {
     "name": "stderr",
     "output_type": "stream",
     "text": [
      "2022-03-01 12:39:49,471\tINFO tune.py:636 -- Total run time: 76.83 seconds (60.13 seconds for the tuning loop).\n",
      "[flaml.automl: 03-01 12:39:56] {2885} INFO - retrain transformer for 55.9s\n",
      "[flaml.automl: 03-01 12:39:56] {2892} INFO - retrained model: RobertaForSequenceClassification(\n",
      "  (roberta): RobertaModel(\n",
      "    (embeddings): RobertaEmbeddings(\n",
      "      (word_embeddings): Embedding(50265, 768, padding_idx=1)\n",
      "      (position_embeddings): Embedding(514, 768, padding_idx=1)\n",
      "      (token_type_embeddings): Embedding(1, 768)\n",
      "      (LayerNorm): LayerNorm((768,), eps=1e-05, elementwise_affine=True)\n",
      "      (dropout): Dropout(p=0.1, inplace=False)\n",
      "    )\n",
      "    (encoder): RobertaEncoder(\n",
      "      (layer): ModuleList(\n",
      "        (0): RobertaLayer(\n",
      "          (attention): RobertaAttention(\n",
      "            (self): RobertaSelfAttention(\n",
      "              (query): Linear(in_features=768, out_features=768, bias=True)\n",
      "              (key): Linear(in_features=768, out_features=768, bias=True)\n",
      "              (value): Linear(in_features=768, out_features=768, bias=True)\n",
      "              (dropout): Dropout(p=0.1, inplace=False)\n",
      "            )\n",
      "            (output): RobertaSelfOutput(\n",
      "              (dense): Linear(in_features=768, out_features=768, bias=True)\n",
      "              (LayerNorm): LayerNorm((768,), eps=1e-05, elementwise_affine=True)\n",
      "              (dropout): Dropout(p=0.1, inplace=False)\n",
      "            )\n",
      "          )\n",
      "          (intermediate): RobertaIntermediate(\n",
      "            (dense): Linear(in_features=768, out_features=3072, bias=True)\n",
      "          )\n",
      "          (output): RobertaOutput(\n",
      "            (dense): Linear(in_features=3072, out_features=768, bias=True)\n",
      "            (LayerNorm): LayerNorm((768,), eps=1e-05, elementwise_affine=True)\n",
      "            (dropout): Dropout(p=0.1, inplace=False)\n",
      "          )\n",
      "        )\n",
      "        (1): RobertaLayer(\n",
      "          (attention): RobertaAttention(\n",
      "            (self): RobertaSelfAttention(\n",
      "              (query): Linear(in_features=768, out_features=768, bias=True)\n",
      "              (key): Linear(in_features=768, out_features=768, bias=True)\n",
      "              (value): Linear(in_features=768, out_features=768, bias=True)\n",
      "              (dropout): Dropout(p=0.1, inplace=False)\n",
      "            )\n",
      "            (output): RobertaSelfOutput(\n",
      "              (dense): Linear(in_features=768, out_features=768, bias=True)\n",
      "              (LayerNorm): LayerNorm((768,), eps=1e-05, elementwise_affine=True)\n",
      "              (dropout): Dropout(p=0.1, inplace=False)\n",
      "            )\n",
      "          )\n",
      "          (intermediate): RobertaIntermediate(\n",
      "            (dense): Linear(in_features=768, out_features=3072, bias=True)\n",
      "          )\n",
      "          (output): RobertaOutput(\n",
      "            (dense): Linear(in_features=3072, out_features=768, bias=True)\n",
      "            (LayerNorm): LayerNorm((768,), eps=1e-05, elementwise_affine=True)\n",
      "            (dropout): Dropout(p=0.1, inplace=False)\n",
      "          )\n",
      "        )\n",
      "        (2): RobertaLayer(\n",
      "          (attention): RobertaAttention(\n",
      "            (self): RobertaSelfAttention(\n",
      "              (query): Linear(in_features=768, out_features=768, bias=True)\n",
      "              (key): Linear(in_features=768, out_features=768, bias=True)\n",
      "              (value): Linear(in_features=768, out_features=768, bias=True)\n",
      "              (dropout): Dropout(p=0.1, inplace=False)\n",
      "            )\n",
      "            (output): RobertaSelfOutput(\n",
      "              (dense): Linear(in_features=768, out_features=768, bias=True)\n",
      "              (LayerNorm): LayerNorm((768,), eps=1e-05, elementwise_affine=True)\n",
      "              (dropout): Dropout(p=0.1, inplace=False)\n",
      "            )\n",
      "          )\n",
      "          (intermediate): RobertaIntermediate(\n",
      "            (dense): Linear(in_features=768, out_features=3072, bias=True)\n",
      "          )\n",
      "          (output): RobertaOutput(\n",
      "            (dense): Linear(in_features=3072, out_features=768, bias=True)\n",
      "            (LayerNorm): LayerNorm((768,), eps=1e-05, elementwise_affine=True)\n",
      "            (dropout): Dropout(p=0.1, inplace=False)\n",
      "          )\n",
      "        )\n",
      "        (3): RobertaLayer(\n",
      "          (attention): RobertaAttention(\n",
      "            (self): RobertaSelfAttention(\n",
      "              (query): Linear(in_features=768, out_features=768, bias=True)\n",
      "              (key): Linear(in_features=768, out_features=768, bias=True)\n",
      "              (value): Linear(in_features=768, out_features=768, bias=True)\n",
      "              (dropout): Dropout(p=0.1, inplace=False)\n",
      "            )\n",
      "            (output): RobertaSelfOutput(\n",
      "              (dense): Linear(in_features=768, out_features=768, bias=True)\n",
      "              (LayerNorm): LayerNorm((768,), eps=1e-05, elementwise_affine=True)\n",
      "              (dropout): Dropout(p=0.1, inplace=False)\n",
      "            )\n",
      "          )\n",
      "          (intermediate): RobertaIntermediate(\n",
      "            (dense): Linear(in_features=768, out_features=3072, bias=True)\n",
      "          )\n",
      "          (output): RobertaOutput(\n",
      "            (dense): Linear(in_features=3072, out_features=768, bias=True)\n",
      "            (LayerNorm): LayerNorm((768,), eps=1e-05, elementwise_affine=True)\n",
      "            (dropout): Dropout(p=0.1, inplace=False)\n",
      "          )\n",
      "        )\n",
      "        (4): RobertaLayer(\n",
      "          (attention): RobertaAttention(\n",
      "            (self): RobertaSelfAttention(\n",
      "              (query): Linear(in_features=768, out_features=768, bias=True)\n",
      "              (key): Linear(in_features=768, out_features=768, bias=True)\n",
      "              (value): Linear(in_features=768, out_features=768, bias=True)\n",
      "              (dropout): Dropout(p=0.1, inplace=False)\n",
      "            )\n",
      "            (output): RobertaSelfOutput(\n",
      "              (dense): Linear(in_features=768, out_features=768, bias=True)\n",
      "              (LayerNorm): LayerNorm((768,), eps=1e-05, elementwise_affine=True)\n",
      "              (dropout): Dropout(p=0.1, inplace=False)\n",
      "            )\n",
      "          )\n",
      "          (intermediate): RobertaIntermediate(\n",
      "            (dense): Linear(in_features=768, out_features=3072, bias=True)\n",
      "          )\n",
      "          (output): RobertaOutput(\n",
      "            (dense): Linear(in_features=3072, out_features=768, bias=True)\n",
      "            (LayerNorm): LayerNorm((768,), eps=1e-05, elementwise_affine=True)\n",
      "            (dropout): Dropout(p=0.1, inplace=False)\n",
      "          )\n",
      "        )\n",
      "        (5): RobertaLayer(\n",
      "          (attention): RobertaAttention(\n",
      "            (self): RobertaSelfAttention(\n",
      "              (query): Linear(in_features=768, out_features=768, bias=True)\n",
      "              (key): Linear(in_features=768, out_features=768, bias=True)\n",
      "              (value): Linear(in_features=768, out_features=768, bias=True)\n",
      "              (dropout): Dropout(p=0.1, inplace=False)\n",
      "            )\n",
      "            (output): RobertaSelfOutput(\n",
      "              (dense): Linear(in_features=768, out_features=768, bias=True)\n",
      "              (LayerNorm): LayerNorm((768,), eps=1e-05, elementwise_affine=True)\n",
      "              (dropout): Dropout(p=0.1, inplace=False)\n",
      "            )\n",
      "          )\n",
      "          (intermediate): RobertaIntermediate(\n",
      "            (dense): Linear(in_features=768, out_features=3072, bias=True)\n",
      "          )\n",
      "          (output): RobertaOutput(\n",
      "            (dense): Linear(in_features=3072, out_features=768, bias=True)\n",
      "            (LayerNorm): LayerNorm((768,), eps=1e-05, elementwise_affine=True)\n",
      "            (dropout): Dropout(p=0.1, inplace=False)\n",
      "          )\n",
      "        )\n",
      "        (6): RobertaLayer(\n",
      "          (attention): RobertaAttention(\n",
      "            (self): RobertaSelfAttention(\n",
      "              (query): Linear(in_features=768, out_features=768, bias=True)\n",
      "              (key): Linear(in_features=768, out_features=768, bias=True)\n",
      "              (value): Linear(in_features=768, out_features=768, bias=True)\n",
      "              (dropout): Dropout(p=0.1, inplace=False)\n",
      "            )\n",
      "            (output): RobertaSelfOutput(\n",
      "              (dense): Linear(in_features=768, out_features=768, bias=True)\n",
      "              (LayerNorm): LayerNorm((768,), eps=1e-05, elementwise_affine=True)\n",
      "              (dropout): Dropout(p=0.1, inplace=False)\n",
      "            )\n",
      "          )\n",
      "          (intermediate): RobertaIntermediate(\n",
      "            (dense): Linear(in_features=768, out_features=3072, bias=True)\n",
      "          )\n",
      "          (output): RobertaOutput(\n",
      "            (dense): Linear(in_features=3072, out_features=768, bias=True)\n",
      "            (LayerNorm): LayerNorm((768,), eps=1e-05, elementwise_affine=True)\n",
      "            (dropout): Dropout(p=0.1, inplace=False)\n",
      "          )\n",
      "        )\n",
      "        (7): RobertaLayer(\n",
      "          (attention): RobertaAttention(\n",
      "            (self): RobertaSelfAttention(\n",
      "              (query): Linear(in_features=768, out_features=768, bias=True)\n",
      "              (key): Linear(in_features=768, out_features=768, bias=True)\n",
      "              (value): Linear(in_features=768, out_features=768, bias=True)\n",
      "              (dropout): Dropout(p=0.1, inplace=False)\n",
      "            )\n",
      "            (output): RobertaSelfOutput(\n",
      "              (dense): Linear(in_features=768, out_features=768, bias=True)\n",
      "              (LayerNorm): LayerNorm((768,), eps=1e-05, elementwise_affine=True)\n",
      "              (dropout): Dropout(p=0.1, inplace=False)\n",
      "            )\n",
      "          )\n",
      "          (intermediate): RobertaIntermediate(\n",
      "            (dense): Linear(in_features=768, out_features=3072, bias=True)\n",
      "          )\n",
      "          (output): RobertaOutput(\n",
      "            (dense): Linear(in_features=3072, out_features=768, bias=True)\n",
      "            (LayerNorm): LayerNorm((768,), eps=1e-05, elementwise_affine=True)\n",
      "            (dropout): Dropout(p=0.1, inplace=False)\n",
      "          )\n",
      "        )\n",
      "        (8): RobertaLayer(\n",
      "          (attention): RobertaAttention(\n",
      "            (self): RobertaSelfAttention(\n",
      "              (query): Linear(in_features=768, out_features=768, bias=True)\n",
      "              (key): Linear(in_features=768, out_features=768, bias=True)\n",
      "              (value): Linear(in_features=768, out_features=768, bias=True)\n",
      "              (dropout): Dropout(p=0.1, inplace=False)\n",
      "            )\n",
      "            (output): RobertaSelfOutput(\n",
      "              (dense): Linear(in_features=768, out_features=768, bias=True)\n",
      "              (LayerNorm): LayerNorm((768,), eps=1e-05, elementwise_affine=True)\n",
      "              (dropout): Dropout(p=0.1, inplace=False)\n",
      "            )\n",
      "          )\n",
      "          (intermediate): RobertaIntermediate(\n",
      "            (dense): Linear(in_features=768, out_features=3072, bias=True)\n",
      "          )\n",
      "          (output): RobertaOutput(\n",
      "            (dense): Linear(in_features=3072, out_features=768, bias=True)\n",
      "            (LayerNorm): LayerNorm((768,), eps=1e-05, elementwise_affine=True)\n",
      "            (dropout): Dropout(p=0.1, inplace=False)\n",
      "          )\n",
      "        )\n",
      "        (9): RobertaLayer(\n",
      "          (attention): RobertaAttention(\n",
      "            (self): RobertaSelfAttention(\n",
      "              (query): Linear(in_features=768, out_features=768, bias=True)\n",
      "              (key): Linear(in_features=768, out_features=768, bias=True)\n",
      "              (value): Linear(in_features=768, out_features=768, bias=True)\n",
      "              (dropout): Dropout(p=0.1, inplace=False)\n",
      "            )\n",
      "            (output): RobertaSelfOutput(\n",
      "              (dense): Linear(in_features=768, out_features=768, bias=True)\n",
      "              (LayerNorm): LayerNorm((768,), eps=1e-05, elementwise_affine=True)\n",
      "              (dropout): Dropout(p=0.1, inplace=False)\n",
      "            )\n",
      "          )\n",
      "          (intermediate): RobertaIntermediate(\n",
      "            (dense): Linear(in_features=768, out_features=3072, bias=True)\n",
      "          )\n",
      "          (output): RobertaOutput(\n",
      "            (dense): Linear(in_features=3072, out_features=768, bias=True)\n",
      "            (LayerNorm): LayerNorm((768,), eps=1e-05, elementwise_affine=True)\n",
      "            (dropout): Dropout(p=0.1, inplace=False)\n",
      "          )\n",
      "        )\n",
      "        (10): RobertaLayer(\n",
      "          (attention): RobertaAttention(\n",
      "            (self): RobertaSelfAttention(\n",
      "              (query): Linear(in_features=768, out_features=768, bias=True)\n",
      "              (key): Linear(in_features=768, out_features=768, bias=True)\n",
      "              (value): Linear(in_features=768, out_features=768, bias=True)\n",
      "              (dropout): Dropout(p=0.1, inplace=False)\n",
      "            )\n",
      "            (output): RobertaSelfOutput(\n",
      "              (dense): Linear(in_features=768, out_features=768, bias=True)\n",
      "              (LayerNorm): LayerNorm((768,), eps=1e-05, elementwise_affine=True)\n",
      "              (dropout): Dropout(p=0.1, inplace=False)\n",
      "            )\n",
      "          )\n",
      "          (intermediate): RobertaIntermediate(\n",
      "            (dense): Linear(in_features=768, out_features=3072, bias=True)\n",
      "          )\n",
      "          (output): RobertaOutput(\n",
      "            (dense): Linear(in_features=3072, out_features=768, bias=True)\n",
      "            (LayerNorm): LayerNorm((768,), eps=1e-05, elementwise_affine=True)\n",
      "            (dropout): Dropout(p=0.1, inplace=False)\n",
      "          )\n",
      "        )\n",
      "        (11): RobertaLayer(\n",
      "          (attention): RobertaAttention(\n",
      "            (self): RobertaSelfAttention(\n",
      "              (query): Linear(in_features=768, out_features=768, bias=True)\n",
      "              (key): Linear(in_features=768, out_features=768, bias=True)\n",
      "              (value): Linear(in_features=768, out_features=768, bias=True)\n",
      "              (dropout): Dropout(p=0.1, inplace=False)\n",
      "            )\n",
      "            (output): RobertaSelfOutput(\n",
      "              (dense): Linear(in_features=768, out_features=768, bias=True)\n",
      "              (LayerNorm): LayerNorm((768,), eps=1e-05, elementwise_affine=True)\n",
      "              (dropout): Dropout(p=0.1, inplace=False)\n",
      "            )\n",
      "          )\n",
      "          (intermediate): RobertaIntermediate(\n",
      "            (dense): Linear(in_features=768, out_features=3072, bias=True)\n",
      "          )\n",
      "          (output): RobertaOutput(\n",
      "            (dense): Linear(in_features=3072, out_features=768, bias=True)\n",
      "            (LayerNorm): LayerNorm((768,), eps=1e-05, elementwise_affine=True)\n",
      "            (dropout): Dropout(p=0.1, inplace=False)\n",
      "          )\n",
      "        )\n",
      "      )\n",
      "    )\n",
      "  )\n",
      "  (classifier): RobertaClassificationHead(\n",
      "    (dense): Linear(in_features=768, out_features=768, bias=True)\n",
      "    (dropout): Dropout(p=0.1, inplace=False)\n",
      "    (out_proj): Linear(in_features=768, out_features=2, bias=True)\n",
      "  )\n",
      ")\n",
      "[flaml.automl: 03-01 12:39:56] {2238} INFO - fit succeeded\n",
      "[flaml.automl: 03-01 12:39:56] {2239} INFO - Time taken to find the best model: 499.34691643714905\n",
      "[flaml.automl: 03-01 12:39:56] {2250} WARNING - Time taken to find the best model is 100% of the provided time budget and not all estimators' hyperparameter search converged. Consider increasing the time budget.\n"
     ]
    }
   ],
   "source": [
    "'''The main flaml automl API'''\n",
    "automl.fit(X_train=X_train, y_train=y_train, X_val=X_val, y_val=y_val, **automl_settings)"
   ]
  },
  {
   "cell_type": "markdown",
   "metadata": {},
   "source": [
    "### Best model and metric"
   ]
  },
  {
   "cell_type": "code",
   "execution_count": null,
   "metadata": {},
   "outputs": [
    {
     "name": "stdout",
     "output_type": "stream",
     "text": [
      "Best ML leaner: transformer\n",
      "Best hyperparmeter config: {'learning_rate': 1.0000000000000003e-05, 'num_train_epochs': 3.0, 'per_device_train_batch_size': 32, 'warmup_ratio': 0.0, 'weight_decay': 0.0, 'adam_epsilon': 1e-06, 'seed': 42, 'global_max_steps': 71, 'FLAML_sample_size': 10000}\n",
      "Best accuracy on validation data: 0.9541\n",
      "Training duration of best run: 75.44 s\n"
     ]
    }
   ],
   "source": [
    "'''retrieve best config and best learner'''\n",
    "print('Best hyperparmeter config:', automl.best_config)\n",
    "print('Best accuracy on validation data: {0:.4g}'.format(1-automl.best_loss))\n",
    "print('Training duration of best run: {0:.4g} s'.format(automl.best_config_train_time))"
   ]
  },
  {
   "cell_type": "code",
   "execution_count": null,
   "metadata": {},
   "outputs": [],
   "source": [
    "'''pickle and save the automl object'''\n",
    "import pickle\n",
    "with open('automl.pkl', 'wb') as f:\n",
    "    pickle.dump(automl, f, pickle.HIGHEST_PROTOCOL)\n",
    "'''load pickled automl object'''\n",
    "with open('automl.pkl', 'rb') as f:\n",
    "    automl = pickle.load(f)"
   ]
  },
  {
   "cell_type": "code",
   "execution_count": 13,
   "metadata": {},
   "outputs": [
    {
     "name": "stderr",
     "output_type": "stream",
     "text": [
      "[flaml.automl: 03-01 20:01:20] {766} WARNING - No estimator is trained. Please run fit with enough budget.\n"
     ]
    },
    {
     "name": "stdout",
     "output_type": "stream",
     "text": [
      "Predicted labels None\n"
     ]
    }
   ],
   "source": [
    "'''compute predictions of testing dataset''' \n",
    "y_pred = automl.predict(X_test, **{\"hf_args\": {\"per_gpu_eval_batch_size\": 1}})\n",
    "print('Predicted labels', y_pred)"
   ]
  },
  {
   "cell_type": "markdown",
   "metadata": {},
   "source": [
    "### Log history"
   ]
  },
  {
   "cell_type": "code",
   "execution_count": 7,
   "metadata": {},
   "outputs": [
    {
     "name": "stdout",
     "output_type": "stream",
     "text": [
      "{'Current Learner': 'transformer', 'Current Sample': 10000, 'Current Hyper-parameters': {'learning_rate': 0.0001683951566733354, 'num_train_epochs': 0.2210193378617947, 'per_device_train_batch_size': 32, 'warmup_ratio': 0.04205307554489066, 'weight_decay': 0.16569345755141265, 'adam_epsilon': 1.6339103068074946e-07, 'seed': 44, 'global_max_steps': 70, 'learner': 'transformer'}, 'Best Learner': 'transformer', 'Best Hyper-parameters': {'learning_rate': 0.0001683951566733354, 'num_train_epochs': 0.2210193378617947, 'per_device_train_batch_size': 32, 'warmup_ratio': 0.04205307554489066, 'weight_decay': 0.16569345755141265, 'adam_epsilon': 1.6339103068074946e-07, 'seed': 44, 'global_max_steps': 70, 'learner': 'transformer'}}\n",
      "{'Current Learner': 'transformer', 'Current Sample': 10000, 'Current Hyper-parameters': {'learning_rate': 4.06541243930961e-06, 'num_train_epochs': 0.39160216739720227, 'per_device_train_batch_size': 16, 'warmup_ratio': 0.0005088579635559642, 'weight_decay': 0.15834250683338044, 'adam_epsilon': 1.8072721716293894e-08, 'seed': 43, 'global_max_steps': 245, 'learner': 'transformer'}, 'Best Learner': 'transformer', 'Best Hyper-parameters': {'learning_rate': 4.06541243930961e-06, 'num_train_epochs': 0.39160216739720227, 'per_device_train_batch_size': 16, 'warmup_ratio': 0.0005088579635559642, 'weight_decay': 0.15834250683338044, 'adam_epsilon': 1.8072721716293894e-08, 'seed': 43, 'global_max_steps': 245, 'learner': 'transformer'}}\n",
      "{'Current Learner': 'transformer', 'Current Sample': 10000, 'Current Hyper-parameters': {'learning_rate': 1.084699205980285e-06, 'num_train_epochs': 0.33613850932131845, 'per_device_train_batch_size': 8, 'warmup_ratio': 0.019111274702022462, 'weight_decay': 0.28691064048089554, 'adam_epsilon': 5.346382363277181e-08, 'seed': 40, 'global_max_steps': 421, 'learner': 'transformer'}, 'Best Learner': 'transformer', 'Best Hyper-parameters': {'learning_rate': 1.084699205980285e-06, 'num_train_epochs': 0.33613850932131845, 'per_device_train_batch_size': 8, 'warmup_ratio': 0.019111274702022462, 'weight_decay': 0.28691064048089554, 'adam_epsilon': 5.346382363277181e-08, 'seed': 40, 'global_max_steps': 421, 'learner': 'transformer'}}\n",
      "{'Current Learner': 'transformer', 'Current Sample': 10000, 'Current Hyper-parameters': {'learning_rate': 5.738347095450703e-06, 'num_train_epochs': 0.15715398257485533, 'per_device_train_batch_size': 8, 'warmup_ratio': 0.11022443614360844, 'weight_decay': 0.03419372774239863, 'adam_epsilon': 4.785016539529346e-08, 'seed': 41, 'global_max_steps': 197, 'learner': 'transformer'}, 'Best Learner': 'transformer', 'Best Hyper-parameters': {'learning_rate': 1.084699205980285e-06, 'num_train_epochs': 0.33613850932131845, 'per_device_train_batch_size': 8, 'warmup_ratio': 0.019111274702022462, 'weight_decay': 0.28691064048089554, 'adam_epsilon': 5.346382363277181e-08, 'seed': 40, 'global_max_steps': 421, 'learner': 'transformer'}}\n",
      "{'Current Learner': 'transformer', 'Current Sample': 10000, 'Current Hyper-parameters': {'learning_rate': 2.0473545661471498e-06, 'num_train_epochs': 0.34169313043908095, 'per_device_train_batch_size': 8, 'warmup_ratio': 0.05834925558635486, 'weight_decay': 0.3, 'adam_epsilon': 2.7429849778869072e-08, 'seed': 40, 'global_max_steps': 428, 'learner': 'transformer'}, 'Best Learner': 'transformer', 'Best Hyper-parameters': {'learning_rate': 2.0473545661471498e-06, 'num_train_epochs': 0.34169313043908095, 'per_device_train_batch_size': 8, 'warmup_ratio': 0.05834925558635486, 'weight_decay': 0.3, 'adam_epsilon': 2.7429849778869072e-08, 'seed': 40, 'global_max_steps': 428, 'learner': 'transformer'}}\n",
      "{'Current Learner': 'transformer', 'Current Sample': 10000, 'Current Hyper-parameters': {'learning_rate': 1.0000000000000003e-05, 'num_train_epochs': 3.0, 'per_device_train_batch_size': 32, 'warmup_ratio': 0.0, 'weight_decay': 0.0, 'adam_epsilon': 1e-06, 'seed': 42, 'global_max_steps': 313, 'learner': 'transformer'}, 'Best Learner': 'transformer', 'Best Hyper-parameters': {'learning_rate': 1.0000000000000003e-05, 'num_train_epochs': 3.0, 'per_device_train_batch_size': 32, 'warmup_ratio': 0.0, 'weight_decay': 0.0, 'adam_epsilon': 1e-06, 'seed': 42, 'global_max_steps': 313, 'learner': 'transformer'}}\n",
      "{'Current Learner': 'transformer', 'Current Sample': 10000, 'Current Hyper-parameters': {'learning_rate': 1e-06, 'num_train_epochs': 0.3306741850606283, 'per_device_train_batch_size': 8, 'warmup_ratio': 0.0, 'weight_decay': 0.2578876562560198, 'adam_epsilon': 1.042069300590234e-07, 'seed': 40, 'global_max_steps': 414, 'learner': 'transformer'}, 'Best Learner': 'transformer', 'Best Hyper-parameters': {'learning_rate': 1.0000000000000003e-05, 'num_train_epochs': 3.0, 'per_device_train_batch_size': 32, 'warmup_ratio': 0.0, 'weight_decay': 0.0, 'adam_epsilon': 1e-06, 'seed': 42, 'global_max_steps': 313, 'learner': 'transformer'}}\n",
      "{'Current Learner': 'transformer', 'Current Sample': 10000, 'Current Hyper-parameters': {'learning_rate': 1.4395226763286561e-05, 'num_train_epochs': 0.11016932663769363, 'per_device_train_batch_size': 8, 'warmup_ratio': 0.08045032769233901, 'weight_decay': 0.002015422229971127, 'adam_epsilon': 2.4641023040418407e-08, 'seed': 41, 'global_max_steps': 138, 'learner': 'transformer'}, 'Best Learner': 'transformer', 'Best Hyper-parameters': {'learning_rate': 1.0000000000000003e-05, 'num_train_epochs': 3.0, 'per_device_train_batch_size': 32, 'warmup_ratio': 0.0, 'weight_decay': 0.0, 'adam_epsilon': 1e-06, 'seed': 42, 'global_max_steps': 313, 'learner': 'transformer'}}\n",
      "{'Current Learner': 'transformer', 'Current Sample': 10000, 'Current Hyper-parameters': {'learning_rate': 8.003778764416909e-06, 'num_train_epochs': 1.538516331487565, 'per_device_train_batch_size': 32, 'warmup_ratio': 0.025044635819042906, 'weight_decay': 0.040537327679417284, 'adam_epsilon': 1e-06, 'seed': 42, 'global_max_steps': 313, 'learner': 'transformer'}, 'Best Learner': 'transformer', 'Best Hyper-parameters': {'learning_rate': 1.0000000000000003e-05, 'num_train_epochs': 3.0, 'per_device_train_batch_size': 32, 'warmup_ratio': 0.0, 'weight_decay': 0.0, 'adam_epsilon': 1e-06, 'seed': 42, 'global_max_steps': 313, 'learner': 'transformer'}}\n",
      "{'Current Learner': 'transformer', 'Current Sample': 10000, 'Current Hyper-parameters': {'learning_rate': 2.3364738960350788e-05, 'num_train_epochs': 1.594510060700272, 'per_device_train_batch_size': 32, 'warmup_ratio': 0.0, 'weight_decay': 0.0, 'adam_epsilon': 1e-06, 'seed': 42, 'global_max_steps': 313, 'learner': 'transformer'}, 'Best Learner': 'transformer', 'Best Hyper-parameters': {'learning_rate': 1.0000000000000003e-05, 'num_train_epochs': 3.0, 'per_device_train_batch_size': 32, 'warmup_ratio': 0.0, 'weight_decay': 0.0, 'adam_epsilon': 1e-06, 'seed': 42, 'global_max_steps': 313, 'learner': 'transformer'}}\n",
      "{'Current Learner': 'transformer', 'Current Sample': 10000, 'Current Hyper-parameters': {'learning_rate': 1.0436709545680516e-05, 'num_train_epochs': 1.8845967679352, 'per_device_train_batch_size': 32, 'warmup_ratio': 0.0, 'weight_decay': 0.025680249011849145, 'adam_epsilon': 8.550666633722979e-07, 'seed': 43, 'global_max_steps': 313, 'learner': 'transformer'}, 'Best Learner': 'transformer', 'Best Hyper-parameters': {'learning_rate': 1.0000000000000003e-05, 'num_train_epochs': 3.0, 'per_device_train_batch_size': 32, 'warmup_ratio': 0.0, 'weight_decay': 0.0, 'adam_epsilon': 1e-06, 'seed': 42, 'global_max_steps': 313, 'learner': 'transformer'}}\n",
      "{'Current Learner': 'transformer', 'Current Sample': 10000, 'Current Hyper-parameters': {'learning_rate': 1.2494098468160911e-05, 'num_train_epochs': 5.849791656938768, 'per_device_train_batch_size': 32, 'warmup_ratio': 0.0, 'weight_decay': 0.0, 'adam_epsilon': 8.653857539100394e-07, 'seed': 42, 'global_max_steps': 313, 'learner': 'transformer'}, 'Best Learner': 'transformer', 'Best Hyper-parameters': {'learning_rate': 1.2494098468160911e-05, 'num_train_epochs': 5.849791656938768, 'per_device_train_batch_size': 32, 'warmup_ratio': 0.0, 'weight_decay': 0.0, 'adam_epsilon': 8.653857539100394e-07, 'seed': 42, 'global_max_steps': 313, 'learner': 'transformer'}}\n"
     ]
    }
   ],
   "source": [
    "from flaml.data import get_output_from_log\n",
    "time_history, best_valid_loss_history, valid_loss_history, config_history, metric_history = \\\n",
    "    get_output_from_log(filename=automl_settings['log_file_name'], time_budget=3000)\n",
    "for config in config_history:\n",
    "    print(config)"
   ]
  },
  {
   "cell_type": "code",
   "execution_count": 8,
   "metadata": {},
   "outputs": [
    {
     "name": "stdout",
     "output_type": "stream",
     "text": [
      "12\n"
     ]
    },
    {
     "data": {
      "image/png": "[encoded data removed]",
      "text/plain": [
       "<Figure size 432x288 with 1 Axes>"
      ]
     },
     "metadata": {
      "needs_background": "light"
     },
     "output_type": "display_data"
    }
   ],
   "source": [
    "import matplotlib.pyplot as plt\n",
    "import numpy as np\n",
    "\n",
    "plt.title('Learning Curve')\n",
    "plt.xlabel('Wall Clock Time (s)')\n",
    "plt.ylabel('Validation Accuracy')\n",
    "print(len(valid_loss_history))\n",
    "plt.scatter(time_history, 1 - np.array(valid_loss_history))\n",
    "plt.step(time_history, 1 - np.array(best_valid_loss_history), where='post')\n",
    "plt.show()"
   ]
  },
  {
   "cell_type": "markdown",
   "metadata": {},
   "source": [
    "## 3. Other Tasks"
   ]
  },
  {
   "cell_type": "markdown",
   "metadata": {},
   "source": [
    "Besides sequence classification, FLAML currently also supports four other tasks (more tasks are to be supported, which can be found on FLAML's documentation website https://microsoft.github.io/FLAML/docs/Examples/AutoML-NLP):\n",
    "\n",
    "- sequence regression: predicting a float number from the input sequence, e.g., predicting the rating of a hotel review based on the text content;\n",
    "- token classification: predicting the label of each token in a sequence, e.g., named entity recognition;\n",
    "- multiple choice: predicting the best second half of a sentence that comes next to the first part of a sentence based on common sensen reasoning. An example is seen below;\n",
    "- (abstractive) summarization: generating the textual summarization of an input paragraph;\n",
    "\n",
    "For each task, you only have to change the \"Load data and preprocess\" with the corresponding data loading process. For example:"
   ]
  },
  {
   "cell_type": "markdown",
   "metadata": {},
   "source": [
    "### 3.1 Multiple Choice Example"
   ]
  },
  {
   "cell_type": "code",
   "execution_count": 16,
   "metadata": {},
   "outputs": [
    {
     "name": "stderr",
     "output_type": "stream",
     "text": [
      "No config specified, defaulting to: swag/regular\n",
      "Reusing dataset swag (/home/xliu127/.cache/huggingface/datasets/swag/regular/0.0.0/9640de08cdba6a1469ed3834fcab4b8ad8e38caf5d1ba5e7436d8b1fd067ad4c)\n",
      "No config specified, defaulting to: swag/regular\n",
      "Reusing dataset swag (/home/xliu127/.cache/huggingface/datasets/swag/regular/0.0.0/9640de08cdba6a1469ed3834fcab4b8ad8e38caf5d1ba5e7436d8b1fd067ad4c)\n",
      "No config specified, defaulting to: swag/regular\n",
      "Reusing dataset swag (/home/xliu127/.cache/huggingface/datasets/swag/regular/0.0.0/9640de08cdba6a1469ed3834fcab4b8ad8e38caf5d1ba5e7436d8b1fd067ad4c)\n"
     ]
    }
   ],
   "source": [
    "from datasets import load_dataset\n",
    "\n",
    "train_dataset = load_dataset(\"swag\", split=\"train\").to_pandas().iloc[:10000]\n",
    "dev_dataset = load_dataset(\"swag\", split=\"validation\").to_pandas().iloc[:10000]\n",
    "test_dataset = load_dataset(\"swag\", split=\"test\").to_pandas().iloc[:10000]\n",
    "\n",
    "custom_sent_keys = [\n",
    "        \"sent1\",\n",
    "        \"sent2\",\n",
    "        \"ending0\",\n",
    "        \"ending1\",\n",
    "        \"ending2\",\n",
    "        \"ending3\",\n",
    "        \"gold-source\",\n",
    "        \"video-id\",\n",
    "        \"startphrase\",\n",
    "        \"fold-ind\",\n",
    "    ]                                                  # specify the column names of the input sentences\n",
    "label_key = \"label\"                                    # specify the column name of the label\n",
    "\n",
    "X_train, y_train = train_dataset[custom_sent_keys], train_dataset[label_key]\n",
    "X_val, y_val = dev_dataset[custom_sent_keys], dev_dataset[label_key]\n",
    "X_test = test_dataset[custom_sent_keys]"
   ]
  },
  {
   "cell_type": "code",
   "execution_count": 3,
   "metadata": {},
   "outputs": [
    {
     "data": {
      "text/html": [
       "<div>\n",
       "<style scoped>\n",
       "    .dataframe tbody tr th:only-of-type {\n",
       "        vertical-align: middle;\n",
       "    }\n",
       "\n",
       "    .dataframe tbody tr th {\n",
       "        vertical-align: top;\n",
       "    }\n",
       "\n",
       "    .dataframe thead th {\n",
       "        text-align: right;\n",
       "    }\n",
       "</style>\n",
       "<table border=\"1\" class=\"dataframe\">\n",
       "  <thead>\n",
       "    <tr style=\"text-align: right;\">\n",
       "      <th></th>\n",
       "      <th>video-id</th>\n",
       "      <th>fold-ind</th>\n",
       "      <th>startphrase</th>\n",
       "      <th>sent1</th>\n",
       "      <th>sent2</th>\n",
       "      <th>gold-source</th>\n",
       "      <th>ending0</th>\n",
       "      <th>ending1</th>\n",
       "      <th>ending2</th>\n",
       "      <th>ending3</th>\n",
       "      <th>label</th>\n",
       "    </tr>\n",
       "  </thead>\n",
       "  <tbody>\n",
       "    <tr>\n",
       "      <th>0</th>\n",
       "      <td>anetv_jkn6uvmqwh4</td>\n",
       "      <td>3416</td>\n",
       "      <td>Members of the procession walk down the street...</td>\n",
       "      <td>Members of the procession walk down the street...</td>\n",
       "      <td>A drum line</td>\n",
       "      <td>gold</td>\n",
       "      <td>passes by walking down the street playing thei...</td>\n",
       "      <td>has heard approaching them.</td>\n",
       "      <td>arrives and they're outside dancing and asleep.</td>\n",
       "      <td>turns the lead singer watches the performance.</td>\n",
       "      <td>0</td>\n",
       "    </tr>\n",
       "    <tr>\n",
       "      <th>1</th>\n",
       "      <td>anetv_jkn6uvmqwh4</td>\n",
       "      <td>3417</td>\n",
       "      <td>A drum line passes by walking down the street ...</td>\n",
       "      <td>A drum line passes by walking down the street ...</td>\n",
       "      <td>Members of the procession</td>\n",
       "      <td>gen</td>\n",
       "      <td>are playing ping pong and celebrating one left...</td>\n",
       "      <td>wait slowly towards the cadets.</td>\n",
       "      <td>continues to play as well along the crowd alon...</td>\n",
       "      <td>continue to play marching, interspersed.</td>\n",
       "      <td>3</td>\n",
       "    </tr>\n",
       "  </tbody>\n",
       "</table>\n",
       "</div>"
      ],
      "text/plain": [
       "            video-id fold-ind  \\\n",
       "0  anetv_jkn6uvmqwh4     3416   \n",
       "1  anetv_jkn6uvmqwh4     3417   \n",
       "\n",
       "                                         startphrase  \\\n",
       "0  Members of the procession walk down the street...   \n",
       "1  A drum line passes by walking down the street ...   \n",
       "\n",
       "                                               sent1  \\\n",
       "0  Members of the procession walk down the street...   \n",
       "1  A drum line passes by walking down the street ...   \n",
       "\n",
       "                       sent2 gold-source  \\\n",
       "0                A drum line        gold   \n",
       "1  Members of the procession         gen   \n",
       "\n",
       "                                             ending0  \\\n",
       "0  passes by walking down the street playing thei...   \n",
       "1  are playing ping pong and celebrating one left...   \n",
       "\n",
       "                           ending1  \\\n",
       "0      has heard approaching them.   \n",
       "1  wait slowly towards the cadets.   \n",
       "\n",
       "                                             ending2  \\\n",
       "0    arrives and they're outside dancing and asleep.   \n",
       "1  continues to play as well along the crowd alon...   \n",
       "\n",
       "                                          ending3  label  \n",
       "0  turns the lead singer watches the performance.      0  \n",
       "1        continue to play marching, interspersed.      3  "
      ]
     },
     "execution_count": 3,
     "metadata": {},
     "output_type": "execute_result"
    }
   ],
   "source": [
    "train_dataset.head(2)"
   ]
  },
  {
   "cell_type": "code",
   "execution_count": 17,
   "metadata": {},
   "outputs": [
    {
     "data": {
      "text/html": [
       "== Status ==<br>Current time: 2022-03-01 20:51:37 (running for 00:08:20.37)<br>Memory usage on this node: 32.8/376.6 GiB<br>Using FIFO scheduling algorithm.<br>Resources requested: 0/96 CPUs, 0/4 GPUs, 0.0/250.31 GiB heap, 0.0/111.27 GiB objects (0.0/1.0 accelerator_type:V100)<br>Result logdir: /home/xliu127/ray_results/train_2022-03-01_20-43-17<br>Number of trials: 11/1000000 (7 ERROR, 4 TERMINATED)<br>Number of errored trials: 7<br><table>\n",
       "<thead>\n",
       "<tr><th>Trial name    </th><th style=\"text-align: right;\">  # failures</th><th>error file                                                                                                                                                                                                          </th></tr>\n",
       "</thead>\n",
       "<tbody>\n",
       "<tr><td>train_4719479c</td><td style=\"text-align: right;\">           1</td><td>/home/xliu127/ray_results/train_2022-03-01_20-43-17/train_4719479c_1_adam_epsilon=1e-06,global_max_steps=9223372036854775807,learner=transformer,learning_rate=1e-05,num_train_epochs=_2022-03-01_20-43-17/error.txt</td></tr>\n",
       "<tr><td>train_4719479d</td><td style=\"text-align: right;\">           1</td><td>/home/xliu127/ray_results/train_2022-03-01_20-43-17/train_4719479d_2_adam_epsilon=2.0387e-08,global_max_steps=9223372036854775807,learner=transformer,learning_rate=3.2766e-05,num_tra_2022-03-01_20-43-17/error.txt</td></tr>\n",
       "<tr><td>train_4719479e</td><td style=\"text-align: right;\">           1</td><td>/home/xliu127/ray_results/train_2022-03-01_20-43-17/train_4719479e_3_adam_epsilon=2.5401e-07,global_max_steps=9223372036854775807,learner=transformer,learning_rate=3.7896e-06,num_tra_2022-03-01_20-43-17/error.txt</td></tr>\n",
       "<tr><td>train_4719479f</td><td style=\"text-align: right;\">           1</td><td>/home/xliu127/ray_results/train_2022-03-01_20-43-17/train_4719479f_4_adam_epsilon=1.2264e-07,global_max_steps=9223372036854775807,learner=transformer,learning_rate=4.3841e-05,num_tra_2022-03-01_20-43-17/error.txt</td></tr>\n",
       "<tr><td>train_ac232874</td><td style=\"text-align: right;\">           1</td><td>/home/xliu127/ray_results/train_2022-03-01_20-43-17/train_ac232874_5_adam_epsilon=3.0505e-08,global_max_steps=9223372036854775807,learner=transformer,learning_rate=1.3009e-06,num_tra_2022-03-01_20-46-06/error.txt</td></tr>\n",
       "<tr><td>train_b7302015</td><td style=\"text-align: right;\">           1</td><td>/home/xliu127/ray_results/train_2022-03-01_20-43-17/train_b7302015_6_adam_epsilon=2.6666e-07,global_max_steps=9223372036854775807,learner=transformer,learning_rate=3.618e-06,num_trai_2022-03-01_20-46-25/error.txt</td></tr>\n",
       "<tr><td>train_c314e144</td><td style=\"text-align: right;\">           1</td><td>/home/xliu127/ray_results/train_2022-03-01_20-43-17/train_c314e144_8_adam_epsilon=1.5614e-08,global_max_steps=9223372036854775807,learner=transformer,learning_rate=4.0154e-05,num_tra_2022-03-01_20-46-45/error.txt</td></tr>\n",
       "</tbody>\n",
       "</table><br>"
      ],
      "text/plain": [
       "<IPython.core.display.HTML object>"
      ]
     },
     "metadata": {},
     "output_type": "display_data"
    },
    {
     "name": "stdout",
     "output_type": "stream",
     "text": [
      "\u001b[2m\u001b[36m(train pid=19483)\u001b[0m {'loss': 1.3405, 'learning_rate': 8.253419844332225e-07, 'epoch': 0.76}\n"
     ]
    },
    {
     "name": "stderr",
     "output_type": "stream",
     "text": [
      "2022-03-01 20:52:07,735\tERROR worker.py:85 -- Unhandled error (suppress with RAY_IGNORE_UNHANDLED_ERRORS=1): \u001b[36mray::ImplicitFunc.train()\u001b[39m (pid=19490, ip=155.246.89.124, repr=train)\n",
      "  File \"/data/installation/anaconda3/envs/tmp/lib/python3.8/site-packages/ray/tune/trainable.py\", line 315, in train\n",
      "    result = self.step()\n",
      "  File \"/data/installation/anaconda3/envs/tmp/lib/python3.8/site-packages/ray/tune/function_runner.py\", line 381, in step\n",
      "    self._report_thread_runner_error(block=True)\n",
      "  File \"/data/installation/anaconda3/envs/tmp/lib/python3.8/site-packages/ray/tune/function_runner.py\", line 531, in _report_thread_runner_error\n",
      "    raise TuneError(\n",
      "ray.tune.error.TuneError: Trial raised an exception. Traceback:\n",
      "\u001b[36mray::ImplicitFunc.train()\u001b[39m (pid=19490, ip=155.246.89.124, repr=train)\n",
      "  File \"/data/installation/anaconda3/envs/tmp/lib/python3.8/site-packages/ray/tune/function_runner.py\", line 262, in run\n",
      "    self._entrypoint()\n",
      "  File \"/data/installation/anaconda3/envs/tmp/lib/python3.8/site-packages/ray/tune/function_runner.py\", line 330, in entrypoint\n",
      "    return self._trainable_func(self.config, self._status_reporter,\n",
      "  File \"/data/installation/anaconda3/envs/tmp/lib/python3.8/site-packages/ray/tune/function_runner.py\", line 600, in _trainable_func\n",
      "    output = fn()\n",
      "  File \"/data/xliu127/projects/hyperopt/FLAML/flaml/automl.py\", line 1707, in train\n",
      "    if states[estimator].learner_class.size(config) <= mem_res:\n",
      "  File \"/data/installation/anaconda3/envs/tmp/lib/python3.8/site-packages/ray/tune/utils/trainable.py\", line 353, in _inner\n",
      "    inner(config, checkpoint_dir=None)\n",
      "  File \"/data/installation/anaconda3/envs/tmp/lib/python3.8/site-packages/ray/tune/utils/trainable.py\", line 344, in inner\n",
      "    trainable(config, **fn_kwargs)\n",
      "  File \"/data/xliu127/projects/hyperopt/FLAML/flaml/automl.py\", line 259, in _compute_with_config_base\n",
      "    ) = compute_estimator(\n",
      "  File \"/data/xliu127/projects/hyperopt/FLAML/flaml/ml.py\", line 565, in compute_estimator\n",
      "    val_loss, metric_for_logging, train_time, pred_time = get_val_loss(\n",
      "  File \"/data/xliu127/projects/hyperopt/FLAML/flaml/ml.py\", line 400, in get_val_loss\n",
      "    estimator.fit(X_train, y_train, budget, **fit_kwargs)\n",
      "  File \"/data/xliu127/projects/hyperopt/FLAML/flaml/model.py\", line 608, in fit\n",
      "    self._trainer.train()\n",
      "  File \"/data/installation/anaconda3/envs/tmp/lib/python3.8/site-packages/transformers/trainer.py\", line 1455, in train\n",
      "    self._maybe_log_save_evaluate(tr_loss, model, trial, epoch, ignore_keys_for_eval)\n",
      "  File \"/data/installation/anaconda3/envs/tmp/lib/python3.8/site-packages/transformers/trainer.py\", line 1565, in _maybe_log_save_evaluate\n",
      "    metrics = self.evaluate(ignore_keys=ignore_keys_for_eval)\n",
      "  File \"/data/xliu127/projects/hyperopt/FLAML/flaml/nlp/huggingface/trainer.py\", line 85, in evaluate\n",
      "    metrics = eval_dataset and super(Seq2SeqTrainer, self).evaluate(\n",
      "  File \"/data/installation/anaconda3/envs/tmp/lib/python3.8/site-packages/transformers/trainer.py\", line 2208, in evaluate\n",
      "    output = eval_loop(\n",
      "  File \"/data/installation/anaconda3/envs/tmp/lib/python3.8/site-packages/transformers/trainer.py\", line 2454, in evaluation_loop\n",
      "    metrics = self.compute_metrics(EvalPrediction(predictions=all_preds, label_ids=all_labels))\n",
      "  File \"/data/xliu127/projects/hyperopt/FLAML/flaml/model.py\", line 697, in _compute_metrics_by_dataset_name\n",
      "    \"automl_metric\": metric_loss_score(\n",
      "  File \"/data/xliu127/projects/hyperopt/FLAML/flaml/ml.py\", line 141, in metric_loss_score\n",
      "    return sklearn_metric_loss_score(\n",
      "  File \"/data/xliu127/projects/hyperopt/FLAML/flaml/ml.py\", line 274, in sklearn_metric_loss_score\n",
      "    score = log_loss(y_true, y_predict, labels=labels, sample_weight=sample_weight)\n",
      "  File \"/data/installation/anaconda3/envs/tmp/lib/python3.8/site-packages/sklearn/metrics/_classification.py\", line 2424, in log_loss\n",
      "    raise ValueError(\n",
      "ValueError: y_true and y_pred contain different number of classes 4, 2. Please provide the true labels explicitly through the labels argument. Classes found in y_true: [0 1 2 3]\n",
      "\u001b[2m\u001b[36m(train pid=19490)\u001b[0m 2022-03-01 20:52:07,676\tERROR function_runner.py:268 -- Runner Thread raised error.\n",
      "\u001b[2m\u001b[36m(train pid=19490)\u001b[0m Traceback (most recent call last):\n",
      "\u001b[2m\u001b[36m(train pid=19490)\u001b[0m   File \"/data/installation/anaconda3/envs/tmp/lib/python3.8/site-packages/ray/tune/function_runner.py\", line 262, in run\n",
      "\u001b[2m\u001b[36m(train pid=19490)\u001b[0m     self._entrypoint()\n",
      "\u001b[2m\u001b[36m(train pid=19490)\u001b[0m   File \"/data/installation/anaconda3/envs/tmp/lib/python3.8/site-packages/ray/tune/function_runner.py\", line 330, in entrypoint\n",
      "\u001b[2m\u001b[36m(train pid=19490)\u001b[0m     return self._trainable_func(self.config, self._status_reporter,\n",
      "\u001b[2m\u001b[36m(train pid=19490)\u001b[0m   File \"/data/installation/anaconda3/envs/tmp/lib/python3.8/site-packages/ray/util/tracing/tracing_helper.py\", line 451, in _resume_span\n",
      "\u001b[2m\u001b[36m(train pid=19490)\u001b[0m     return method(self, *_args, **_kwargs)\n",
      "\u001b[2m\u001b[36m(train pid=19490)\u001b[0m   File \"/data/installation/anaconda3/envs/tmp/lib/python3.8/site-packages/ray/tune/function_runner.py\", line 600, in _trainable_func\n",
      "\u001b[2m\u001b[36m(train pid=19490)\u001b[0m     output = fn()\n",
      "\u001b[2m\u001b[36m(train pid=19490)\u001b[0m   File \"/data/xliu127/projects/hyperopt/FLAML/flaml/automl.py\", line 1707, in train\n",
      "\u001b[2m\u001b[36m(train pid=19490)\u001b[0m     if states[estimator].learner_class.size(config) <= mem_res:\n",
      "\u001b[2m\u001b[36m(train pid=19490)\u001b[0m   File \"/data/installation/anaconda3/envs/tmp/lib/python3.8/site-packages/ray/tune/utils/trainable.py\", line 353, in _inner\n",
      "\u001b[2m\u001b[36m(train pid=19490)\u001b[0m     inner(config, checkpoint_dir=None)\n",
      "\u001b[2m\u001b[36m(train pid=19490)\u001b[0m   File \"/data/installation/anaconda3/envs/tmp/lib/python3.8/site-packages/ray/tune/utils/trainable.py\", line 344, in inner\n",
      "\u001b[2m\u001b[36m(train pid=19490)\u001b[0m     trainable(config, **fn_kwargs)\n",
      "\u001b[2m\u001b[36m(train pid=19490)\u001b[0m   File \"/data/xliu127/projects/hyperopt/FLAML/flaml/automl.py\", line 259, in _compute_with_config_base\n",
      "\u001b[2m\u001b[36m(train pid=19490)\u001b[0m     ) = compute_estimator(\n",
      "\u001b[2m\u001b[36m(train pid=19490)\u001b[0m   File \"/data/xliu127/projects/hyperopt/FLAML/flaml/ml.py\", line 565, in compute_estimator\n",
      "\u001b[2m\u001b[36m(train pid=19490)\u001b[0m     val_loss, metric_for_logging, train_time, pred_time = get_val_loss(\n",
      "\u001b[2m\u001b[36m(train pid=19490)\u001b[0m   File \"/data/xliu127/projects/hyperopt/FLAML/flaml/ml.py\", line 400, in get_val_loss\n",
      "\u001b[2m\u001b[36m(train pid=19490)\u001b[0m     estimator.fit(X_train, y_train, budget, **fit_kwargs)\n",
      "\u001b[2m\u001b[36m(train pid=19490)\u001b[0m   File \"/data/xliu127/projects/hyperopt/FLAML/flaml/model.py\", line 608, in fit\n",
      "\u001b[2m\u001b[36m(train pid=19490)\u001b[0m     self._trainer.train()\n",
      "\u001b[2m\u001b[36m(train pid=19490)\u001b[0m   File \"/data/installation/anaconda3/envs/tmp/lib/python3.8/site-packages/transformers/trainer.py\", line 1455, in train\n",
      "\u001b[2m\u001b[36m(train pid=19490)\u001b[0m     self._maybe_log_save_evaluate(tr_loss, model, trial, epoch, ignore_keys_for_eval)\n",
      "\u001b[2m\u001b[36m(train pid=19490)\u001b[0m   File \"/data/installation/anaconda3/envs/tmp/lib/python3.8/site-packages/transformers/trainer.py\", line 1565, in _maybe_log_save_evaluate\n",
      "\u001b[2m\u001b[36m(train pid=19490)\u001b[0m     metrics = self.evaluate(ignore_keys=ignore_keys_for_eval)\n",
      "\u001b[2m\u001b[36m(train pid=19490)\u001b[0m   File \"/data/xliu127/projects/hyperopt/FLAML/flaml/nlp/huggingface/trainer.py\", line 85, in evaluate\n",
      "\u001b[2m\u001b[36m(train pid=19490)\u001b[0m     metrics = eval_dataset and super(Seq2SeqTrainer, self).evaluate(\n",
      "\u001b[2m\u001b[36m(train pid=19490)\u001b[0m   File \"/data/installation/anaconda3/envs/tmp/lib/python3.8/site-packages/transformers/trainer.py\", line 2208, in evaluate\n",
      "\u001b[2m\u001b[36m(train pid=19490)\u001b[0m     output = eval_loop(\n",
      "\u001b[2m\u001b[36m(train pid=19490)\u001b[0m   File \"/data/installation/anaconda3/envs/tmp/lib/python3.8/site-packages/transformers/trainer.py\", line 2454, in evaluation_loop\n",
      "\u001b[2m\u001b[36m(train pid=19490)\u001b[0m     metrics = self.compute_metrics(EvalPrediction(predictions=all_preds, label_ids=all_labels))\n",
      "\u001b[2m\u001b[36m(train pid=19490)\u001b[0m   File \"/data/xliu127/projects/hyperopt/FLAML/flaml/model.py\", line 697, in _compute_metrics_by_dataset_name\n",
      "\u001b[2m\u001b[36m(train pid=19490)\u001b[0m     \"automl_metric\": metric_loss_score(\n",
      "\u001b[2m\u001b[36m(train pid=19490)\u001b[0m   File \"/data/xliu127/projects/hyperopt/FLAML/flaml/ml.py\", line 141, in metric_loss_score\n",
      "\u001b[2m\u001b[36m(train pid=19490)\u001b[0m     return sklearn_metric_loss_score(\n",
      "\u001b[2m\u001b[36m(train pid=19490)\u001b[0m   File \"/data/xliu127/projects/hyperopt/FLAML/flaml/ml.py\", line 274, in sklearn_metric_loss_score\n",
      "\u001b[2m\u001b[36m(train pid=19490)\u001b[0m     score = log_loss(y_true, y_predict, labels=labels, sample_weight=sample_weight)\n",
      "\u001b[2m\u001b[36m(train pid=19490)\u001b[0m   File \"/data/installation/anaconda3/envs/tmp/lib/python3.8/site-packages/sklearn/metrics/_classification.py\", line 2424, in log_loss\n",
      "\u001b[2m\u001b[36m(train pid=19490)\u001b[0m     raise ValueError(\n",
      "\u001b[2m\u001b[36m(train pid=19490)\u001b[0m ValueError: y_true and y_pred contain different number of classes 4, 2. Please provide the true labels explicitly through the labels argument. Classes found in y_true: [0 1 2 3]\n",
      "\u001b[2m\u001b[36m(train pid=19490)\u001b[0m Exception in thread Thread-2:\n",
      "\u001b[2m\u001b[36m(train pid=19490)\u001b[0m Traceback (most recent call last):\n",
      "\u001b[2m\u001b[36m(train pid=19490)\u001b[0m   File \"/data/installation/anaconda3/envs/tmp/lib/python3.8/threading.py\", line 932, in _bootstrap_inner\n",
      "\u001b[2m\u001b[36m(train pid=19490)\u001b[0m     self.run()\n",
      "\u001b[2m\u001b[36m(train pid=19490)\u001b[0m   File \"/data/installation/anaconda3/envs/tmp/lib/python3.8/site-packages/ray/tune/function_runner.py\", line 281, in run\n",
      "\u001b[2m\u001b[36m(train pid=19490)\u001b[0m     raise e\n",
      "\u001b[2m\u001b[36m(train pid=19490)\u001b[0m   File \"/data/installation/anaconda3/envs/tmp/lib/python3.8/site-packages/ray/tune/function_runner.py\", line 262, in run\n",
      "\u001b[2m\u001b[36m(train pid=19490)\u001b[0m     self._entrypoint()\n",
      "\u001b[2m\u001b[36m(train pid=19490)\u001b[0m   File \"/data/installation/anaconda3/envs/tmp/lib/python3.8/site-packages/ray/tune/function_runner.py\", line 330, in entrypoint\n",
      "\u001b[2m\u001b[36m(train pid=19490)\u001b[0m     return self._trainable_func(self.config, self._status_reporter,\n",
      "\u001b[2m\u001b[36m(train pid=19490)\u001b[0m   File \"/data/installation/anaconda3/envs/tmp/lib/python3.8/site-packages/ray/util/tracing/tracing_helper.py\", line 451, in _resume_span\n",
      "\u001b[2m\u001b[36m(train pid=19490)\u001b[0m     return method(self, *_args, **_kwargs)\n",
      "\u001b[2m\u001b[36m(train pid=19490)\u001b[0m   File \"/data/installation/anaconda3/envs/tmp/lib/python3.8/site-packages/ray/tune/function_runner.py\", line 600, in _trainable_func\n",
      "\u001b[2m\u001b[36m(train pid=19490)\u001b[0m     output = fn()\n",
      "\u001b[2m\u001b[36m(train pid=19490)\u001b[0m   File \"/data/xliu127/projects/hyperopt/FLAML/flaml/automl.py\", line 1707, in train\n",
      "\u001b[2m\u001b[36m(train pid=19490)\u001b[0m     if states[estimator].learner_class.size(config) <= mem_res:\n",
      "\u001b[2m\u001b[36m(train pid=19490)\u001b[0m   File \"/data/installation/anaconda3/envs/tmp/lib/python3.8/site-packages/ray/tune/utils/trainable.py\", line 353, in _inner\n",
      "\u001b[2m\u001b[36m(train pid=19490)\u001b[0m     inner(config, checkpoint_dir=None)\n",
      "\u001b[2m\u001b[36m(train pid=19490)\u001b[0m   File \"/data/installation/anaconda3/envs/tmp/lib/python3.8/site-packages/ray/tune/utils/trainable.py\", line 344, in inner\n",
      "\u001b[2m\u001b[36m(train pid=19490)\u001b[0m     trainable(config, **fn_kwargs)\n",
      "\u001b[2m\u001b[36m(train pid=19490)\u001b[0m   File \"/data/xliu127/projects/hyperopt/FLAML/flaml/automl.py\", line 259, in _compute_with_config_base\n",
      "\u001b[2m\u001b[36m(train pid=19490)\u001b[0m     ) = compute_estimator(\n",
      "\u001b[2m\u001b[36m(train pid=19490)\u001b[0m   File \"/data/xliu127/projects/hyperopt/FLAML/flaml/ml.py\", line 565, in compute_estimator\n",
      "\u001b[2m\u001b[36m(train pid=19490)\u001b[0m     val_loss, metric_for_logging, train_time, pred_time = get_val_loss(\n",
      "\u001b[2m\u001b[36m(train pid=19490)\u001b[0m   File \"/data/xliu127/projects/hyperopt/FLAML/flaml/ml.py\", line 400, in get_val_loss\n",
      "\u001b[2m\u001b[36m(train pid=19490)\u001b[0m     estimator.fit(X_train, y_train, budget, **fit_kwargs)\n",
      "\u001b[2m\u001b[36m(train pid=19490)\u001b[0m   File \"/data/xliu127/projects/hyperopt/FLAML/flaml/model.py\", line 608, in fit\n",
      "\u001b[2m\u001b[36m(train pid=19490)\u001b[0m     self._trainer.train()\n",
      "\u001b[2m\u001b[36m(train pid=19490)\u001b[0m   File \"/data/installation/anaconda3/envs/tmp/lib/python3.8/site-packages/transformers/trainer.py\", line 1455, in train\n",
      "\u001b[2m\u001b[36m(train pid=19490)\u001b[0m     self._maybe_log_save_evaluate(tr_loss, model, trial, epoch, ignore_keys_for_eval)\n",
      "\u001b[2m\u001b[36m(train pid=19490)\u001b[0m   File \"/data/installation/anaconda3/envs/tmp/lib/python3.8/site-packages/transformers/trainer.py\", line 1565, in _maybe_log_save_evaluate\n",
      "\u001b[2m\u001b[36m(train pid=19490)\u001b[0m     metrics = self.evaluate(ignore_keys=ignore_keys_for_eval)\n",
      "\u001b[2m\u001b[36m(train pid=19490)\u001b[0m   File \"/data/xliu127/projects/hyperopt/FLAML/flaml/nlp/huggingface/trainer.py\", line 85, in evaluate\n",
      "\u001b[2m\u001b[36m(train pid=19490)\u001b[0m     metrics = eval_dataset and super(Seq2SeqTrainer, self).evaluate(\n",
      "\u001b[2m\u001b[36m(train pid=19490)\u001b[0m   File \"/data/installation/anaconda3/envs/tmp/lib/python3.8/site-packages/transformers/trainer.py\", line 2208, in evaluate\n",
      "\u001b[2m\u001b[36m(train pid=19490)\u001b[0m     output = eval_loop(\n",
      "\u001b[2m\u001b[36m(train pid=19490)\u001b[0m   File \"/data/installation/anaconda3/envs/tmp/lib/python3.8/site-packages/transformers/trainer.py\", line 2454, in evaluation_loop\n",
      "\u001b[2m\u001b[36m(train pid=19490)\u001b[0m     metrics = self.compute_metrics(EvalPrediction(predictions=all_preds, label_ids=all_labels))\n",
      "\u001b[2m\u001b[36m(train pid=19490)\u001b[0m   File \"/data/xliu127/projects/hyperopt/FLAML/flaml/model.py\", line 697, in _compute_metrics_by_dataset_name\n",
      "\u001b[2m\u001b[36m(train pid=19490)\u001b[0m     \"automl_metric\": metric_loss_score(\n",
      "\u001b[2m\u001b[36m(train pid=19490)\u001b[0m   File \"/data/xliu127/projects/hyperopt/FLAML/flaml/ml.py\", line 141, in metric_loss_score\n",
      "\u001b[2m\u001b[36m(train pid=19490)\u001b[0m     return sklearn_metric_loss_score(\n",
      "\u001b[2m\u001b[36m(train pid=19490)\u001b[0m   File \"/data/xliu127/projects/hyperopt/FLAML/flaml/ml.py\", line 274, in sklearn_metric_loss_score\n",
      "\u001b[2m\u001b[36m(train pid=19490)\u001b[0m     score = log_loss(y_true, y_predict, labels=labels, sample_weight=sample_weight)\n",
      "\u001b[2m\u001b[36m(train pid=19490)\u001b[0m   File \"/data/installation/anaconda3/envs/tmp/lib/python3.8/site-packages/sklearn/metrics/_classification.py\", line 2424, in log_loss\n",
      "\u001b[2m\u001b[36m(train pid=19490)\u001b[0m     raise ValueError(\n",
      "\u001b[2m\u001b[36m(train pid=19490)\u001b[0m ValueError: y_true and y_pred contain different number of classes 4, 2. Please provide the true labels explicitly through the labels argument. Classes found in y_true: [0 1 2 3]\n"
     ]
    },
    {
     "name": "stdout",
     "output_type": "stream",
     "text": [
      "\u001b[2m\u001b[36m(train pid=19495)\u001b[0m {'loss': 0.7156, 'learning_rate': 3.5699139732733886e-05, 'epoch': 1.0}\n"
     ]
    },
    {
     "name": "stderr",
     "output_type": "stream",
     "text": [
      "2022-03-01 20:52:27,734\tERROR worker.py:85 -- Unhandled error (suppress with RAY_IGNORE_UNHANDLED_ERRORS=1): \u001b[36mray::ImplicitFunc.train()\u001b[39m (pid=19480, ip=155.246.89.124, repr=train)\n",
      "  File \"/data/installation/anaconda3/envs/tmp/lib/python3.8/site-packages/ray/tune/trainable.py\", line 315, in train\n",
      "    result = self.step()\n",
      "  File \"/data/installation/anaconda3/envs/tmp/lib/python3.8/site-packages/ray/tune/function_runner.py\", line 381, in step\n",
      "    self._report_thread_runner_error(block=True)\n",
      "  File \"/data/installation/anaconda3/envs/tmp/lib/python3.8/site-packages/ray/tune/function_runner.py\", line 531, in _report_thread_runner_error\n",
      "    raise TuneError(\n",
      "ray.tune.error.TuneError: Trial raised an exception. Traceback:\n",
      "\u001b[36mray::ImplicitFunc.train()\u001b[39m (pid=19480, ip=155.246.89.124, repr=train)\n",
      "  File \"/data/installation/anaconda3/envs/tmp/lib/python3.8/site-packages/ray/tune/function_runner.py\", line 262, in run\n",
      "    self._entrypoint()\n",
      "  File \"/data/installation/anaconda3/envs/tmp/lib/python3.8/site-packages/ray/tune/function_runner.py\", line 330, in entrypoint\n",
      "    return self._trainable_func(self.config, self._status_reporter,\n",
      "  File \"/data/installation/anaconda3/envs/tmp/lib/python3.8/site-packages/ray/tune/function_runner.py\", line 600, in _trainable_func\n",
      "    output = fn()\n",
      "  File \"/data/xliu127/projects/hyperopt/FLAML/flaml/automl.py\", line 1707, in train\n",
      "    if states[estimator].learner_class.size(config) <= mem_res:\n",
      "  File \"/data/installation/anaconda3/envs/tmp/lib/python3.8/site-packages/ray/tune/utils/trainable.py\", line 353, in _inner\n",
      "    inner(config, checkpoint_dir=None)\n",
      "  File \"/data/installation/anaconda3/envs/tmp/lib/python3.8/site-packages/ray/tune/utils/trainable.py\", line 344, in inner\n",
      "    trainable(config, **fn_kwargs)\n",
      "  File \"/data/xliu127/projects/hyperopt/FLAML/flaml/automl.py\", line 259, in _compute_with_config_base\n",
      "    ) = compute_estimator(\n",
      "  File \"/data/xliu127/projects/hyperopt/FLAML/flaml/ml.py\", line 565, in compute_estimator\n",
      "    val_loss, metric_for_logging, train_time, pred_time = get_val_loss(\n",
      "  File \"/data/xliu127/projects/hyperopt/FLAML/flaml/ml.py\", line 400, in get_val_loss\n",
      "    estimator.fit(X_train, y_train, budget, **fit_kwargs)\n",
      "  File \"/data/xliu127/projects/hyperopt/FLAML/flaml/model.py\", line 608, in fit\n",
      "    self._trainer.train()\n",
      "  File \"/data/installation/anaconda3/envs/tmp/lib/python3.8/site-packages/transformers/trainer.py\", line 1440, in train\n",
      "    self._maybe_log_save_evaluate(tr_loss, model, trial, epoch, ignore_keys_for_eval)\n",
      "  File \"/data/installation/anaconda3/envs/tmp/lib/python3.8/site-packages/transformers/trainer.py\", line 1565, in _maybe_log_save_evaluate\n",
      "    metrics = self.evaluate(ignore_keys=ignore_keys_for_eval)\n",
      "  File \"/data/xliu127/projects/hyperopt/FLAML/flaml/nlp/huggingface/trainer.py\", line 85, in evaluate\n",
      "    metrics = eval_dataset and super(Seq2SeqTrainer, self).evaluate(\n",
      "  File \"/data/installation/anaconda3/envs/tmp/lib/python3.8/site-packages/transformers/trainer.py\", line 2208, in evaluate\n",
      "    output = eval_loop(\n",
      "  File \"/data/installation/anaconda3/envs/tmp/lib/python3.8/site-packages/transformers/trainer.py\", line 2454, in evaluation_loop\n",
      "    metrics = self.compute_metrics(EvalPrediction(predictions=all_preds, label_ids=all_labels))\n",
      "  File \"/data/xliu127/projects/hyperopt/FLAML/flaml/model.py\", line 697, in _compute_metrics_by_dataset_name\n",
      "    \"automl_metric\": metric_loss_score(\n",
      "  File \"/data/xliu127/projects/hyperopt/FLAML/flaml/ml.py\", line 141, in metric_loss_score\n",
      "    return sklearn_metric_loss_score(\n",
      "  File \"/data/xliu127/projects/hyperopt/FLAML/flaml/ml.py\", line 274, in sklearn_metric_loss_score\n",
      "    score = log_loss(y_true, y_predict, labels=labels, sample_weight=sample_weight)\n",
      "  File \"/data/installation/anaconda3/envs/tmp/lib/python3.8/site-packages/sklearn/metrics/_classification.py\", line 2424, in log_loss\n",
      "    raise ValueError(\n",
      "ValueError: y_true and y_pred contain different number of classes 4, 2. Please provide the true labels explicitly through the labels argument. Classes found in y_true: [0 1 2 3]\n",
      "\u001b[2m\u001b[36m(train pid=19480)\u001b[0m 2022-03-01 20:52:27,689\tERROR function_runner.py:268 -- Runner Thread raised error.\n",
      "\u001b[2m\u001b[36m(train pid=19480)\u001b[0m Traceback (most recent call last):\n",
      "\u001b[2m\u001b[36m(train pid=19480)\u001b[0m   File \"/data/installation/anaconda3/envs/tmp/lib/python3.8/site-packages/ray/tune/function_runner.py\", line 262, in run\n",
      "\u001b[2m\u001b[36m(train pid=19480)\u001b[0m     self._entrypoint()\n",
      "\u001b[2m\u001b[36m(train pid=19480)\u001b[0m   File \"/data/installation/anaconda3/envs/tmp/lib/python3.8/site-packages/ray/tune/function_runner.py\", line 330, in entrypoint\n",
      "\u001b[2m\u001b[36m(train pid=19480)\u001b[0m     return self._trainable_func(self.config, self._status_reporter,\n",
      "\u001b[2m\u001b[36m(train pid=19480)\u001b[0m   File \"/data/installation/anaconda3/envs/tmp/lib/python3.8/site-packages/ray/util/tracing/tracing_helper.py\", line 451, in _resume_span\n",
      "\u001b[2m\u001b[36m(train pid=19480)\u001b[0m     return method(self, *_args, **_kwargs)\n",
      "\u001b[2m\u001b[36m(train pid=19480)\u001b[0m   File \"/data/installation/anaconda3/envs/tmp/lib/python3.8/site-packages/ray/tune/function_runner.py\", line 600, in _trainable_func\n",
      "\u001b[2m\u001b[36m(train pid=19480)\u001b[0m     output = fn()\n",
      "\u001b[2m\u001b[36m(train pid=19480)\u001b[0m   File \"/data/xliu127/projects/hyperopt/FLAML/flaml/automl.py\", line 1707, in train\n",
      "\u001b[2m\u001b[36m(train pid=19480)\u001b[0m     if states[estimator].learner_class.size(config) <= mem_res:\n",
      "\u001b[2m\u001b[36m(train pid=19480)\u001b[0m   File \"/data/installation/anaconda3/envs/tmp/lib/python3.8/site-packages/ray/tune/utils/trainable.py\", line 353, in _inner\n",
      "\u001b[2m\u001b[36m(train pid=19480)\u001b[0m     inner(config, checkpoint_dir=None)\n",
      "\u001b[2m\u001b[36m(train pid=19480)\u001b[0m   File \"/data/installation/anaconda3/envs/tmp/lib/python3.8/site-packages/ray/tune/utils/trainable.py\", line 344, in inner\n",
      "\u001b[2m\u001b[36m(train pid=19480)\u001b[0m     trainable(config, **fn_kwargs)\n",
      "\u001b[2m\u001b[36m(train pid=19480)\u001b[0m   File \"/data/xliu127/projects/hyperopt/FLAML/flaml/automl.py\", line 259, in _compute_with_config_base\n",
      "\u001b[2m\u001b[36m(train pid=19480)\u001b[0m     ) = compute_estimator(\n",
      "\u001b[2m\u001b[36m(train pid=19480)\u001b[0m   File \"/data/xliu127/projects/hyperopt/FLAML/flaml/ml.py\", line 565, in compute_estimator\n",
      "\u001b[2m\u001b[36m(train pid=19480)\u001b[0m     val_loss, metric_for_logging, train_time, pred_time = get_val_loss(\n",
      "\u001b[2m\u001b[36m(train pid=19480)\u001b[0m   File \"/data/xliu127/projects/hyperopt/FLAML/flaml/ml.py\", line 400, in get_val_loss\n",
      "\u001b[2m\u001b[36m(train pid=19480)\u001b[0m     estimator.fit(X_train, y_train, budget, **fit_kwargs)\n",
      "\u001b[2m\u001b[36m(train pid=19480)\u001b[0m   File \"/data/xliu127/projects/hyperopt/FLAML/flaml/model.py\", line 608, in fit\n",
      "\u001b[2m\u001b[36m(train pid=19480)\u001b[0m     self._trainer.train()\n",
      "\u001b[2m\u001b[36m(train pid=19480)\u001b[0m   File \"/data/installation/anaconda3/envs/tmp/lib/python3.8/site-packages/transformers/trainer.py\", line 1440, in train\n",
      "\u001b[2m\u001b[36m(train pid=19480)\u001b[0m     self._maybe_log_save_evaluate(tr_loss, model, trial, epoch, ignore_keys_for_eval)\n",
      "\u001b[2m\u001b[36m(train pid=19480)\u001b[0m   File \"/data/installation/anaconda3/envs/tmp/lib/python3.8/site-packages/transformers/trainer.py\", line 1565, in _maybe_log_save_evaluate\n",
      "\u001b[2m\u001b[36m(train pid=19480)\u001b[0m     metrics = self.evaluate(ignore_keys=ignore_keys_for_eval)\n",
      "\u001b[2m\u001b[36m(train pid=19480)\u001b[0m   File \"/data/xliu127/projects/hyperopt/FLAML/flaml/nlp/huggingface/trainer.py\", line 85, in evaluate\n",
      "\u001b[2m\u001b[36m(train pid=19480)\u001b[0m     metrics = eval_dataset and super(Seq2SeqTrainer, self).evaluate(\n",
      "\u001b[2m\u001b[36m(train pid=19480)\u001b[0m   File \"/data/installation/anaconda3/envs/tmp/lib/python3.8/site-packages/transformers/trainer.py\", line 2208, in evaluate\n",
      "\u001b[2m\u001b[36m(train pid=19480)\u001b[0m     output = eval_loop(\n",
      "\u001b[2m\u001b[36m(train pid=19480)\u001b[0m   File \"/data/installation/anaconda3/envs/tmp/lib/python3.8/site-packages/transformers/trainer.py\", line 2454, in evaluation_loop\n",
      "\u001b[2m\u001b[36m(train pid=19480)\u001b[0m     metrics = self.compute_metrics(EvalPrediction(predictions=all_preds, label_ids=all_labels))\n",
      "\u001b[2m\u001b[36m(train pid=19480)\u001b[0m   File \"/data/xliu127/projects/hyperopt/FLAML/flaml/model.py\", line 697, in _compute_metrics_by_dataset_name\n",
      "\u001b[2m\u001b[36m(train pid=19480)\u001b[0m     \"automl_metric\": metric_loss_score(\n",
      "\u001b[2m\u001b[36m(train pid=19480)\u001b[0m   File \"/data/xliu127/projects/hyperopt/FLAML/flaml/ml.py\", line 141, in metric_loss_score\n",
      "\u001b[2m\u001b[36m(train pid=19480)\u001b[0m     return sklearn_metric_loss_score(\n",
      "\u001b[2m\u001b[36m(train pid=19480)\u001b[0m   File \"/data/xliu127/projects/hyperopt/FLAML/flaml/ml.py\", line 274, in sklearn_metric_loss_score\n",
      "\u001b[2m\u001b[36m(train pid=19480)\u001b[0m     score = log_loss(y_true, y_predict, labels=labels, sample_weight=sample_weight)\n",
      "\u001b[2m\u001b[36m(train pid=19480)\u001b[0m   File \"/data/installation/anaconda3/envs/tmp/lib/python3.8/site-packages/sklearn/metrics/_classification.py\", line 2424, in log_loss\n",
      "\u001b[2m\u001b[36m(train pid=19480)\u001b[0m     raise ValueError(\n",
      "\u001b[2m\u001b[36m(train pid=19480)\u001b[0m ValueError: y_true and y_pred contain different number of classes 4, 2. Please provide the true labels explicitly through the labels argument. Classes found in y_true: [0 1 2 3]\n",
      "\u001b[2m\u001b[36m(train pid=19480)\u001b[0m Exception in thread Thread-2:\n",
      "\u001b[2m\u001b[36m(train pid=19480)\u001b[0m Traceback (most recent call last):\n",
      "\u001b[2m\u001b[36m(train pid=19480)\u001b[0m   File \"/data/installation/anaconda3/envs/tmp/lib/python3.8/threading.py\", line 932, in _bootstrap_inner\n",
      "\u001b[2m\u001b[36m(train pid=19480)\u001b[0m     self.run()\n",
      "\u001b[2m\u001b[36m(train pid=19480)\u001b[0m   File \"/data/installation/anaconda3/envs/tmp/lib/python3.8/site-packages/ray/tune/function_runner.py\", line 281, in run\n",
      "\u001b[2m\u001b[36m(train pid=19480)\u001b[0m     raise e\n",
      "\u001b[2m\u001b[36m(train pid=19480)\u001b[0m   File \"/data/installation/anaconda3/envs/tmp/lib/python3.8/site-packages/ray/tune/function_runner.py\", line 262, in run\n",
      "\u001b[2m\u001b[36m(train pid=19480)\u001b[0m     self._entrypoint()\n",
      "\u001b[2m\u001b[36m(train pid=19480)\u001b[0m   File \"/data/installation/anaconda3/envs/tmp/lib/python3.8/site-packages/ray/tune/function_runner.py\", line 330, in entrypoint\n",
      "\u001b[2m\u001b[36m(train pid=19480)\u001b[0m     return self._trainable_func(self.config, self._status_reporter,\n",
      "\u001b[2m\u001b[36m(train pid=19480)\u001b[0m   File \"/data/installation/anaconda3/envs/tmp/lib/python3.8/site-packages/ray/util/tracing/tracing_helper.py\", line 451, in _resume_span\n",
      "\u001b[2m\u001b[36m(train pid=19480)\u001b[0m     return method(self, *_args, **_kwargs)\n",
      "\u001b[2m\u001b[36m(train pid=19480)\u001b[0m   File \"/data/installation/anaconda3/envs/tmp/lib/python3.8/site-packages/ray/tune/function_runner.py\", line 600, in _trainable_func\n",
      "\u001b[2m\u001b[36m(train pid=19480)\u001b[0m     output = fn()\n",
      "\u001b[2m\u001b[36m(train pid=19480)\u001b[0m   File \"/data/xliu127/projects/hyperopt/FLAML/flaml/automl.py\", line 1707, in train\n",
      "\u001b[2m\u001b[36m(train pid=19480)\u001b[0m     if states[estimator].learner_class.size(config) <= mem_res:\n",
      "\u001b[2m\u001b[36m(train pid=19480)\u001b[0m   File \"/data/installation/anaconda3/envs/tmp/lib/python3.8/site-packages/ray/tune/utils/trainable.py\", line 353, in _inner\n",
      "\u001b[2m\u001b[36m(train pid=19480)\u001b[0m     inner(config, checkpoint_dir=None)\n",
      "\u001b[2m\u001b[36m(train pid=19480)\u001b[0m   File \"/data/installation/anaconda3/envs/tmp/lib/python3.8/site-packages/ray/tune/utils/trainable.py\", line 344, in inner\n",
      "\u001b[2m\u001b[36m(train pid=19480)\u001b[0m     trainable(config, **fn_kwargs)\n",
      "\u001b[2m\u001b[36m(train pid=19480)\u001b[0m   File \"/data/xliu127/projects/hyperopt/FLAML/flaml/automl.py\", line 259, in _compute_with_config_base\n",
      "\u001b[2m\u001b[36m(train pid=19480)\u001b[0m     ) = compute_estimator(\n",
      "\u001b[2m\u001b[36m(train pid=19480)\u001b[0m   File \"/data/xliu127/projects/hyperopt/FLAML/flaml/ml.py\", line 565, in compute_estimator\n",
      "\u001b[2m\u001b[36m(train pid=19480)\u001b[0m     val_loss, metric_for_logging, train_time, pred_time = get_val_loss(\n",
      "\u001b[2m\u001b[36m(train pid=19480)\u001b[0m   File \"/data/xliu127/projects/hyperopt/FLAML/flaml/ml.py\", line 400, in get_val_loss\n",
      "\u001b[2m\u001b[36m(train pid=19480)\u001b[0m     estimator.fit(X_train, y_train, budget, **fit_kwargs)\n",
      "\u001b[2m\u001b[36m(train pid=19480)\u001b[0m   File \"/data/xliu127/projects/hyperopt/FLAML/flaml/model.py\", line 608, in fit\n",
      "\u001b[2m\u001b[36m(train pid=19480)\u001b[0m     self._trainer.train()\n",
      "\u001b[2m\u001b[36m(train pid=19480)\u001b[0m   File \"/data/installation/anaconda3/envs/tmp/lib/python3.8/site-packages/transformers/trainer.py\", line 1440, in train\n",
      "\u001b[2m\u001b[36m(train pid=19480)\u001b[0m     self._maybe_log_save_evaluate(tr_loss, model, trial, epoch, ignore_keys_for_eval)\n",
      "\u001b[2m\u001b[36m(train pid=19480)\u001b[0m   File \"/data/installation/anaconda3/envs/tmp/lib/python3.8/site-packages/transformers/trainer.py\", line 1565, in _maybe_log_save_evaluate\n",
      "\u001b[2m\u001b[36m(train pid=19480)\u001b[0m     metrics = self.evaluate(ignore_keys=ignore_keys_for_eval)\n",
      "\u001b[2m\u001b[36m(train pid=19480)\u001b[0m   File \"/data/xliu127/projects/hyperopt/FLAML/flaml/nlp/huggingface/trainer.py\", line 85, in evaluate\n",
      "\u001b[2m\u001b[36m(train pid=19480)\u001b[0m     metrics = eval_dataset and super(Seq2SeqTrainer, self).evaluate(\n",
      "\u001b[2m\u001b[36m(train pid=19480)\u001b[0m   File \"/data/installation/anaconda3/envs/tmp/lib/python3.8/site-packages/transformers/trainer.py\", line 2208, in evaluate\n",
      "\u001b[2m\u001b[36m(train pid=19480)\u001b[0m     output = eval_loop(\n",
      "\u001b[2m\u001b[36m(train pid=19480)\u001b[0m   File \"/data/installation/anaconda3/envs/tmp/lib/python3.8/site-packages/transformers/trainer.py\", line 2454, in evaluation_loop\n",
      "\u001b[2m\u001b[36m(train pid=19480)\u001b[0m     metrics = self.compute_metrics(EvalPrediction(predictions=all_preds, label_ids=all_labels))\n",
      "\u001b[2m\u001b[36m(train pid=19480)\u001b[0m   File \"/data/xliu127/projects/hyperopt/FLAML/flaml/model.py\", line 697, in _compute_metrics_by_dataset_name\n",
      "\u001b[2m\u001b[36m(train pid=19480)\u001b[0m     \"automl_metric\": metric_loss_score(\n",
      "\u001b[2m\u001b[36m(train pid=19480)\u001b[0m   File \"/data/xliu127/projects/hyperopt/FLAML/flaml/ml.py\", line 141, in metric_loss_score\n",
      "\u001b[2m\u001b[36m(train pid=19480)\u001b[0m     return sklearn_metric_loss_score(\n",
      "\u001b[2m\u001b[36m(train pid=19480)\u001b[0m   File \"/data/xliu127/projects/hyperopt/FLAML/flaml/ml.py\", line 274, in sklearn_metric_loss_score\n",
      "\u001b[2m\u001b[36m(train pid=19480)\u001b[0m     score = log_loss(y_true, y_predict, labels=labels, sample_weight=sample_weight)\n",
      "\u001b[2m\u001b[36m(train pid=19480)\u001b[0m   File \"/data/installation/anaconda3/envs/tmp/lib/python3.8/site-packages/sklearn/metrics/_classification.py\", line 2424, in log_loss\n",
      "\u001b[2m\u001b[36m(train pid=19480)\u001b[0m     raise ValueError(\n",
      "\u001b[2m\u001b[36m(train pid=19480)\u001b[0m ValueError: y_true and y_pred contain different number of classes 4, 2. Please provide the true labels explicitly through the labels argument. Classes found in y_true: [0 1 2 3]\n",
      "2022-03-01 20:53:27,754\tWARNING ray_trial_executor.py:146 -- Skipping cleanup - trainable.stop did not return in time. Consider making `stop` a faster operation.\n",
      "\u001b[2m\u001b[36m(train pid=19483)\u001b[0m 2022-03-01 20:53:36,422\tERROR function_runner.py:268 -- Runner Thread raised error.\n",
      "\u001b[2m\u001b[36m(train pid=19483)\u001b[0m Traceback (most recent call last):\n",
      "\u001b[2m\u001b[36m(train pid=19483)\u001b[0m   File \"/data/installation/anaconda3/envs/tmp/lib/python3.8/site-packages/ray/tune/function_runner.py\", line 262, in run\n",
      "\u001b[2m\u001b[36m(train pid=19483)\u001b[0m     self._entrypoint()\n",
      "\u001b[2m\u001b[36m(train pid=19483)\u001b[0m   File \"/data/installation/anaconda3/envs/tmp/lib/python3.8/site-packages/ray/tune/function_runner.py\", line 330, in entrypoint\n",
      "\u001b[2m\u001b[36m(train pid=19483)\u001b[0m     return self._trainable_func(self.config, self._status_reporter,\n",
      "\u001b[2m\u001b[36m(train pid=19483)\u001b[0m   File \"/data/installation/anaconda3/envs/tmp/lib/python3.8/site-packages/ray/util/tracing/tracing_helper.py\", line 451, in _resume_span\n",
      "\u001b[2m\u001b[36m(train pid=19483)\u001b[0m     return method(self, *_args, **_kwargs)\n",
      "\u001b[2m\u001b[36m(train pid=19483)\u001b[0m   File \"/data/installation/anaconda3/envs/tmp/lib/python3.8/site-packages/ray/tune/function_runner.py\", line 600, in _trainable_func\n",
      "\u001b[2m\u001b[36m(train pid=19483)\u001b[0m     output = fn()\n",
      "\u001b[2m\u001b[36m(train pid=19483)\u001b[0m   File \"/data/xliu127/projects/hyperopt/FLAML/flaml/automl.py\", line 1707, in train\n",
      "\u001b[2m\u001b[36m(train pid=19483)\u001b[0m     if states[estimator].learner_class.size(config) <= mem_res:\n",
      "\u001b[2m\u001b[36m(train pid=19483)\u001b[0m   File \"/data/installation/anaconda3/envs/tmp/lib/python3.8/site-packages/ray/tune/utils/trainable.py\", line 353, in _inner\n",
      "\u001b[2m\u001b[36m(train pid=19483)\u001b[0m     inner(config, checkpoint_dir=None)\n",
      "\u001b[2m\u001b[36m(train pid=19483)\u001b[0m   File \"/data/installation/anaconda3/envs/tmp/lib/python3.8/site-packages/ray/tune/utils/trainable.py\", line 344, in inner\n",
      "\u001b[2m\u001b[36m(train pid=19483)\u001b[0m     trainable(config, **fn_kwargs)\n",
      "\u001b[2m\u001b[36m(train pid=19483)\u001b[0m   File \"/data/xliu127/projects/hyperopt/FLAML/flaml/automl.py\", line 259, in _compute_with_config_base\n",
      "\u001b[2m\u001b[36m(train pid=19483)\u001b[0m     ) = compute_estimator(\n",
      "\u001b[2m\u001b[36m(train pid=19483)\u001b[0m   File \"/data/xliu127/projects/hyperopt/FLAML/flaml/ml.py\", line 565, in compute_estimator\n",
      "\u001b[2m\u001b[36m(train pid=19483)\u001b[0m     val_loss, metric_for_logging, train_time, pred_time = get_val_loss(\n",
      "\u001b[2m\u001b[36m(train pid=19483)\u001b[0m   File \"/data/xliu127/projects/hyperopt/FLAML/flaml/ml.py\", line 400, in get_val_loss\n",
      "\u001b[2m\u001b[36m(train pid=19483)\u001b[0m     estimator.fit(X_train, y_train, budget, **fit_kwargs)\n",
      "\u001b[2m\u001b[36m(train pid=19483)\u001b[0m   File \"/data/xliu127/projects/hyperopt/FLAML/flaml/model.py\", line 608, in fit\n",
      "\u001b[2m\u001b[36m(train pid=19483)\u001b[0m     self._trainer.train()\n",
      "\u001b[2m\u001b[36m(train pid=19483)\u001b[0m   File \"/data/installation/anaconda3/envs/tmp/lib/python3.8/site-packages/transformers/trainer.py\", line 1440, in train\n",
      "\u001b[2m\u001b[36m(train pid=19483)\u001b[0m     self._maybe_log_save_evaluate(tr_loss, model, trial, epoch, ignore_keys_for_eval)\n",
      "\u001b[2m\u001b[36m(train pid=19483)\u001b[0m   File \"/data/installation/anaconda3/envs/tmp/lib/python3.8/site-packages/transformers/trainer.py\", line 1565, in _maybe_log_save_evaluate\n",
      "\u001b[2m\u001b[36m(train pid=19483)\u001b[0m     metrics = self.evaluate(ignore_keys=ignore_keys_for_eval)\n",
      "\u001b[2m\u001b[36m(train pid=19483)\u001b[0m   File \"/data/xliu127/projects/hyperopt/FLAML/flaml/nlp/huggingface/trainer.py\", line 85, in evaluate\n",
      "\u001b[2m\u001b[36m(train pid=19483)\u001b[0m     metrics = eval_dataset and super(Seq2SeqTrainer, self).evaluate(\n",
      "\u001b[2m\u001b[36m(train pid=19483)\u001b[0m   File \"/data/installation/anaconda3/envs/tmp/lib/python3.8/site-packages/transformers/trainer.py\", line 2208, in evaluate\n",
      "\u001b[2m\u001b[36m(train pid=19483)\u001b[0m     output = eval_loop(\n",
      "\u001b[2m\u001b[36m(train pid=19483)\u001b[0m   File \"/data/installation/anaconda3/envs/tmp/lib/python3.8/site-packages/transformers/trainer.py\", line 2454, in evaluation_loop\n",
      "\u001b[2m\u001b[36m(train pid=19483)\u001b[0m     metrics = self.compute_metrics(EvalPrediction(predictions=all_preds, label_ids=all_labels))\n",
      "\u001b[2m\u001b[36m(train pid=19483)\u001b[0m   File \"/data/xliu127/projects/hyperopt/FLAML/flaml/model.py\", line 697, in _compute_metrics_by_dataset_name\n",
      "\u001b[2m\u001b[36m(train pid=19483)\u001b[0m     \"automl_metric\": metric_loss_score(\n",
      "\u001b[2m\u001b[36m(train pid=19483)\u001b[0m   File \"/data/xliu127/projects/hyperopt/FLAML/flaml/ml.py\", line 141, in metric_loss_score\n",
      "\u001b[2m\u001b[36m(train pid=19483)\u001b[0m     return sklearn_metric_loss_score(\n",
      "\u001b[2m\u001b[36m(train pid=19483)\u001b[0m   File \"/data/xliu127/projects/hyperopt/FLAML/flaml/ml.py\", line 274, in sklearn_metric_loss_score\n",
      "\u001b[2m\u001b[36m(train pid=19483)\u001b[0m     score = log_loss(y_true, y_predict, labels=labels, sample_weight=sample_weight)\n",
      "\u001b[2m\u001b[36m(train pid=19483)\u001b[0m   File \"/data/installation/anaconda3/envs/tmp/lib/python3.8/site-packages/sklearn/metrics/_classification.py\", line 2424, in log_loss\n",
      "\u001b[2m\u001b[36m(train pid=19483)\u001b[0m     raise ValueError(\n",
      "\u001b[2m\u001b[36m(train pid=19483)\u001b[0m ValueError: y_true and y_pred contain different number of classes 4, 2. Please provide the true labels explicitly through the labels argument. Classes found in y_true: [0 1 2 3]\n",
      "\u001b[2m\u001b[36m(train pid=19483)\u001b[0m Exception in thread Thread-2:\n",
      "\u001b[2m\u001b[36m(train pid=19483)\u001b[0m Traceback (most recent call last):\n",
      "\u001b[2m\u001b[36m(train pid=19483)\u001b[0m   File \"/data/installation/anaconda3/envs/tmp/lib/python3.8/threading.py\", line 932, in _bootstrap_inner\n",
      "\u001b[2m\u001b[36m(train pid=19483)\u001b[0m     self.run()\n",
      "\u001b[2m\u001b[36m(train pid=19483)\u001b[0m   File \"/data/installation/anaconda3/envs/tmp/lib/python3.8/site-packages/ray/tune/function_runner.py\", line 281, in run\n",
      "\u001b[2m\u001b[36m(train pid=19483)\u001b[0m     raise e\n",
      "\u001b[2m\u001b[36m(train pid=19483)\u001b[0m   File \"/data/installation/anaconda3/envs/tmp/lib/python3.8/site-packages/ray/tune/function_runner.py\", line 262, in run\n",
      "\u001b[2m\u001b[36m(train pid=19483)\u001b[0m     self._entrypoint()\n",
      "\u001b[2m\u001b[36m(train pid=19483)\u001b[0m   File \"/data/installation/anaconda3/envs/tmp/lib/python3.8/site-packages/ray/tune/function_runner.py\", line 330, in entrypoint\n",
      "\u001b[2m\u001b[36m(train pid=19483)\u001b[0m     return self._trainable_func(self.config, self._status_reporter,\n",
      "\u001b[2m\u001b[36m(train pid=19483)\u001b[0m   File \"/data/installation/anaconda3/envs/tmp/lib/python3.8/site-packages/ray/util/tracing/tracing_helper.py\", line 451, in _resume_span\n",
      "\u001b[2m\u001b[36m(train pid=19483)\u001b[0m     return method(self, *_args, **_kwargs)\n",
      "\u001b[2m\u001b[36m(train pid=19483)\u001b[0m   File \"/data/installation/anaconda3/envs/tmp/lib/python3.8/site-packages/ray/tune/function_runner.py\", line 600, in _trainable_func\n",
      "\u001b[2m\u001b[36m(train pid=19483)\u001b[0m     output = fn()\n",
      "\u001b[2m\u001b[36m(train pid=19483)\u001b[0m   File \"/data/xliu127/projects/hyperopt/FLAML/flaml/automl.py\", line 1707, in train\n",
      "\u001b[2m\u001b[36m(train pid=19483)\u001b[0m     if states[estimator].learner_class.size(config) <= mem_res:\n",
      "\u001b[2m\u001b[36m(train pid=19483)\u001b[0m   File \"/data/installation/anaconda3/envs/tmp/lib/python3.8/site-packages/ray/tune/utils/trainable.py\", line 353, in _inner\n",
      "\u001b[2m\u001b[36m(train pid=19483)\u001b[0m     inner(config, checkpoint_dir=None)\n",
      "\u001b[2m\u001b[36m(train pid=19483)\u001b[0m   File \"/data/installation/anaconda3/envs/tmp/lib/python3.8/site-packages/ray/tune/utils/trainable.py\", line 344, in inner\n",
      "\u001b[2m\u001b[36m(train pid=19483)\u001b[0m     trainable(config, **fn_kwargs)\n",
      "\u001b[2m\u001b[36m(train pid=19483)\u001b[0m   File \"/data/xliu127/projects/hyperopt/FLAML/flaml/automl.py\", line 259, in _compute_with_config_base\n",
      "\u001b[2m\u001b[36m(train pid=19483)\u001b[0m     ) = compute_estimator(\n",
      "\u001b[2m\u001b[36m(train pid=19483)\u001b[0m   File \"/data/xliu127/projects/hyperopt/FLAML/flaml/ml.py\", line 565, in compute_estimator\n",
      "\u001b[2m\u001b[36m(train pid=19483)\u001b[0m     val_loss, metric_for_logging, train_time, pred_time = get_val_loss(\n",
      "\u001b[2m\u001b[36m(train pid=19483)\u001b[0m   File \"/data/xliu127/projects/hyperopt/FLAML/flaml/ml.py\", line 400, in get_val_loss\n",
      "\u001b[2m\u001b[36m(train pid=19483)\u001b[0m     estimator.fit(X_train, y_train, budget, **fit_kwargs)\n",
      "\u001b[2m\u001b[36m(train pid=19483)\u001b[0m   File \"/data/xliu127/projects/hyperopt/FLAML/flaml/model.py\", line 608, in fit\n",
      "\u001b[2m\u001b[36m(train pid=19483)\u001b[0m     self._trainer.train()\n",
      "\u001b[2m\u001b[36m(train pid=19483)\u001b[0m   File \"/data/installation/anaconda3/envs/tmp/lib/python3.8/site-packages/transformers/trainer.py\", line 1440, in train\n",
      "\u001b[2m\u001b[36m(train pid=19483)\u001b[0m     self._maybe_log_save_evaluate(tr_loss, model, trial, epoch, ignore_keys_for_eval)\n",
      "\u001b[2m\u001b[36m(train pid=19483)\u001b[0m   File \"/data/installation/anaconda3/envs/tmp/lib/python3.8/site-packages/transformers/trainer.py\", line 1565, in _maybe_log_save_evaluate\n",
      "\u001b[2m\u001b[36m(train pid=19483)\u001b[0m     metrics = self.evaluate(ignore_keys=ignore_keys_for_eval)\n",
      "\u001b[2m\u001b[36m(train pid=19483)\u001b[0m   File \"/data/xliu127/projects/hyperopt/FLAML/flaml/nlp/huggingface/trainer.py\", line 85, in evaluate\n",
      "\u001b[2m\u001b[36m(train pid=19483)\u001b[0m     metrics = eval_dataset and super(Seq2SeqTrainer, self).evaluate(\n",
      "\u001b[2m\u001b[36m(train pid=19483)\u001b[0m   File \"/data/installation/anaconda3/envs/tmp/lib/python3.8/site-packages/transformers/trainer.py\", line 2208, in evaluate\n",
      "\u001b[2m\u001b[36m(train pid=19483)\u001b[0m     output = eval_loop(\n",
      "\u001b[2m\u001b[36m(train pid=19483)\u001b[0m   File \"/data/installation/anaconda3/envs/tmp/lib/python3.8/site-packages/transformers/trainer.py\", line 2454, in evaluation_loop\n",
      "\u001b[2m\u001b[36m(train pid=19483)\u001b[0m     metrics = self.compute_metrics(EvalPrediction(predictions=all_preds, label_ids=all_labels))\n",
      "\u001b[2m\u001b[36m(train pid=19483)\u001b[0m   File \"/data/xliu127/projects/hyperopt/FLAML/flaml/model.py\", line 697, in _compute_metrics_by_dataset_name\n",
      "\u001b[2m\u001b[36m(train pid=19483)\u001b[0m     \"automl_metric\": metric_loss_score(\n",
      "\u001b[2m\u001b[36m(train pid=19483)\u001b[0m   File \"/data/xliu127/projects/hyperopt/FLAML/flaml/ml.py\", line 141, in metric_loss_score\n",
      "\u001b[2m\u001b[36m(train pid=19483)\u001b[0m     return sklearn_metric_loss_score(\n",
      "\u001b[2m\u001b[36m(train pid=19483)\u001b[0m   File \"/data/xliu127/projects/hyperopt/FLAML/flaml/ml.py\", line 274, in sklearn_metric_loss_score\n",
      "\u001b[2m\u001b[36m(train pid=19483)\u001b[0m     score = log_loss(y_true, y_predict, labels=labels, sample_weight=sample_weight)\n",
      "\u001b[2m\u001b[36m(train pid=19483)\u001b[0m   File \"/data/installation/anaconda3/envs/tmp/lib/python3.8/site-packages/sklearn/metrics/_classification.py\", line 2424, in log_loss\n",
      "\u001b[2m\u001b[36m(train pid=19483)\u001b[0m     raise ValueError(\n",
      "\u001b[2m\u001b[36m(train pid=19483)\u001b[0m ValueError: y_true and y_pred contain different number of classes 4, 2. Please provide the true labels explicitly through the labels argument. Classes found in y_true: [0 1 2 3]\n",
      "2022-03-01 20:53:36,617\tERROR worker.py:85 -- Unhandled error (suppress with RAY_IGNORE_UNHANDLED_ERRORS=1): \u001b[36mray::ImplicitFunc.train()\u001b[39m (pid=19483, ip=155.246.89.124, repr=train)\n",
      "  File \"/data/installation/anaconda3/envs/tmp/lib/python3.8/site-packages/ray/tune/trainable.py\", line 315, in train\n",
      "    result = self.step()\n",
      "  File \"/data/installation/anaconda3/envs/tmp/lib/python3.8/site-packages/ray/tune/function_runner.py\", line 381, in step\n",
      "    self._report_thread_runner_error(block=True)\n",
      "  File \"/data/installation/anaconda3/envs/tmp/lib/python3.8/site-packages/ray/tune/function_runner.py\", line 531, in _report_thread_runner_error\n",
      "    raise TuneError(\n",
      "ray.tune.error.TuneError: Trial raised an exception. Traceback:\n",
      "\u001b[36mray::ImplicitFunc.train()\u001b[39m (pid=19483, ip=155.246.89.124, repr=train)\n",
      "  File \"/data/installation/anaconda3/envs/tmp/lib/python3.8/site-packages/ray/tune/function_runner.py\", line 262, in run\n",
      "    self._entrypoint()\n",
      "  File \"/data/installation/anaconda3/envs/tmp/lib/python3.8/site-packages/ray/tune/function_runner.py\", line 330, in entrypoint\n",
      "    return self._trainable_func(self.config, self._status_reporter,\n",
      "  File \"/data/installation/anaconda3/envs/tmp/lib/python3.8/site-packages/ray/tune/function_runner.py\", line 600, in _trainable_func\n",
      "    output = fn()\n",
      "  File \"/data/xliu127/projects/hyperopt/FLAML/flaml/automl.py\", line 1707, in train\n",
      "    if states[estimator].learner_class.size(config) <= mem_res:\n",
      "  File \"/data/installation/anaconda3/envs/tmp/lib/python3.8/site-packages/ray/tune/utils/trainable.py\", line 353, in _inner\n",
      "    inner(config, checkpoint_dir=None)\n",
      "  File \"/data/installation/anaconda3/envs/tmp/lib/python3.8/site-packages/ray/tune/utils/trainable.py\", line 344, in inner\n",
      "    trainable(config, **fn_kwargs)\n",
      "  File \"/data/xliu127/projects/hyperopt/FLAML/flaml/automl.py\", line 259, in _compute_with_config_base\n",
      "    ) = compute_estimator(\n",
      "  File \"/data/xliu127/projects/hyperopt/FLAML/flaml/ml.py\", line 565, in compute_estimator\n",
      "    val_loss, metric_for_logging, train_time, pred_time = get_val_loss(\n",
      "  File \"/data/xliu127/projects/hyperopt/FLAML/flaml/ml.py\", line 400, in get_val_loss\n",
      "    estimator.fit(X_train, y_train, budget, **fit_kwargs)\n",
      "  File \"/data/xliu127/projects/hyperopt/FLAML/flaml/model.py\", line 608, in fit\n",
      "    self._trainer.train()\n",
      "  File \"/data/installation/anaconda3/envs/tmp/lib/python3.8/site-packages/transformers/trainer.py\", line 1440, in train\n",
      "    self._maybe_log_save_evaluate(tr_loss, model, trial, epoch, ignore_keys_for_eval)\n",
      "  File \"/data/installation/anaconda3/envs/tmp/lib/python3.8/site-packages/transformers/trainer.py\", line 1565, in _maybe_log_save_evaluate\n",
      "    metrics = self.evaluate(ignore_keys=ignore_keys_for_eval)\n",
      "  File \"/data/xliu127/projects/hyperopt/FLAML/flaml/nlp/huggingface/trainer.py\", line 85, in evaluate\n",
      "    metrics = eval_dataset and super(Seq2SeqTrainer, self).evaluate(\n",
      "  File \"/data/installation/anaconda3/envs/tmp/lib/python3.8/site-packages/transformers/trainer.py\", line 2208, in evaluate\n",
      "    output = eval_loop(\n",
      "  File \"/data/installation/anaconda3/envs/tmp/lib/python3.8/site-packages/transformers/trainer.py\", line 2454, in evaluation_loop\n",
      "    metrics = self.compute_metrics(EvalPrediction(predictions=all_preds, label_ids=all_labels))\n",
      "  File \"/data/xliu127/projects/hyperopt/FLAML/flaml/model.py\", line 697, in _compute_metrics_by_dataset_name\n",
      "    \"automl_metric\": metric_loss_score(\n",
      "  File \"/data/xliu127/projects/hyperopt/FLAML/flaml/ml.py\", line 141, in metric_loss_score\n",
      "    return sklearn_metric_loss_score(\n",
      "  File \"/data/xliu127/projects/hyperopt/FLAML/flaml/ml.py\", line 274, in sklearn_metric_loss_score\n",
      "    score = log_loss(y_true, y_predict, labels=labels, sample_weight=sample_weight)\n",
      "  File \"/data/installation/anaconda3/envs/tmp/lib/python3.8/site-packages/sklearn/metrics/_classification.py\", line 2424, in log_loss\n",
      "    raise ValueError(\n",
      "ValueError: y_true and y_pred contain different number of classes 4, 2. Please provide the true labels explicitly through the labels argument. Classes found in y_true: [0 1 2 3]\n",
      "\u001b[2m\u001b[36m(train pid=19495)\u001b[0m 2022-03-01 20:54:10,003\tERROR function_runner.py:268 -- Runner Thread raised error.\n",
      "\u001b[2m\u001b[36m(train pid=19495)\u001b[0m Traceback (most recent call last):\n",
      "\u001b[2m\u001b[36m(train pid=19495)\u001b[0m   File \"/data/installation/anaconda3/envs/tmp/lib/python3.8/site-packages/ray/tune/function_runner.py\", line 262, in run\n",
      "\u001b[2m\u001b[36m(train pid=19495)\u001b[0m     self._entrypoint()\n",
      "\u001b[2m\u001b[36m(train pid=19495)\u001b[0m   File \"/data/installation/anaconda3/envs/tmp/lib/python3.8/site-packages/ray/tune/function_runner.py\", line 330, in entrypoint\n",
      "\u001b[2m\u001b[36m(train pid=19495)\u001b[0m     return self._trainable_func(self.config, self._status_reporter,\n",
      "\u001b[2m\u001b[36m(train pid=19495)\u001b[0m   File \"/data/installation/anaconda3/envs/tmp/lib/python3.8/site-packages/ray/util/tracing/tracing_helper.py\", line 451, in _resume_span\n",
      "\u001b[2m\u001b[36m(train pid=19495)\u001b[0m     return method(self, *_args, **_kwargs)\n",
      "\u001b[2m\u001b[36m(train pid=19495)\u001b[0m   File \"/data/installation/anaconda3/envs/tmp/lib/python3.8/site-packages/ray/tune/function_runner.py\", line 600, in _trainable_func\n",
      "\u001b[2m\u001b[36m(train pid=19495)\u001b[0m     output = fn()\n",
      "\u001b[2m\u001b[36m(train pid=19495)\u001b[0m   File \"/data/xliu127/projects/hyperopt/FLAML/flaml/automl.py\", line 1707, in train\n",
      "\u001b[2m\u001b[36m(train pid=19495)\u001b[0m     if states[estimator].learner_class.size(config) <= mem_res:\n",
      "\u001b[2m\u001b[36m(train pid=19495)\u001b[0m   File \"/data/installation/anaconda3/envs/tmp/lib/python3.8/site-packages/ray/tune/utils/trainable.py\", line 353, in _inner\n",
      "\u001b[2m\u001b[36m(train pid=19495)\u001b[0m     inner(config, checkpoint_dir=None)\n",
      "\u001b[2m\u001b[36m(train pid=19495)\u001b[0m   File \"/data/installation/anaconda3/envs/tmp/lib/python3.8/site-packages/ray/tune/utils/trainable.py\", line 344, in inner\n",
      "\u001b[2m\u001b[36m(train pid=19495)\u001b[0m     trainable(config, **fn_kwargs)\n",
      "\u001b[2m\u001b[36m(train pid=19495)\u001b[0m   File \"/data/xliu127/projects/hyperopt/FLAML/flaml/automl.py\", line 259, in _compute_with_config_base\n",
      "\u001b[2m\u001b[36m(train pid=19495)\u001b[0m     ) = compute_estimator(\n",
      "\u001b[2m\u001b[36m(train pid=19495)\u001b[0m   File \"/data/xliu127/projects/hyperopt/FLAML/flaml/ml.py\", line 565, in compute_estimator\n",
      "\u001b[2m\u001b[36m(train pid=19495)\u001b[0m     val_loss, metric_for_logging, train_time, pred_time = get_val_loss(\n",
      "\u001b[2m\u001b[36m(train pid=19495)\u001b[0m   File \"/data/xliu127/projects/hyperopt/FLAML/flaml/ml.py\", line 400, in get_val_loss\n",
      "\u001b[2m\u001b[36m(train pid=19495)\u001b[0m     estimator.fit(X_train, y_train, budget, **fit_kwargs)\n",
      "\u001b[2m\u001b[36m(train pid=19495)\u001b[0m   File \"/data/xliu127/projects/hyperopt/FLAML/flaml/model.py\", line 608, in fit\n",
      "\u001b[2m\u001b[36m(train pid=19495)\u001b[0m     self._trainer.train()\n",
      "\u001b[2m\u001b[36m(train pid=19495)\u001b[0m   File \"/data/installation/anaconda3/envs/tmp/lib/python3.8/site-packages/transformers/trainer.py\", line 1440, in train\n",
      "\u001b[2m\u001b[36m(train pid=19495)\u001b[0m     self._maybe_log_save_evaluate(tr_loss, model, trial, epoch, ignore_keys_for_eval)\n",
      "\u001b[2m\u001b[36m(train pid=19495)\u001b[0m   File \"/data/installation/anaconda3/envs/tmp/lib/python3.8/site-packages/transformers/trainer.py\", line 1565, in _maybe_log_save_evaluate\n",
      "\u001b[2m\u001b[36m(train pid=19495)\u001b[0m     metrics = self.evaluate(ignore_keys=ignore_keys_for_eval)\n",
      "\u001b[2m\u001b[36m(train pid=19495)\u001b[0m   File \"/data/xliu127/projects/hyperopt/FLAML/flaml/nlp/huggingface/trainer.py\", line 85, in evaluate\n",
      "\u001b[2m\u001b[36m(train pid=19495)\u001b[0m     metrics = eval_dataset and super(Seq2SeqTrainer, self).evaluate(\n",
      "\u001b[2m\u001b[36m(train pid=19495)\u001b[0m   File \"/data/installation/anaconda3/envs/tmp/lib/python3.8/site-packages/transformers/trainer.py\", line 2208, in evaluate\n",
      "\u001b[2m\u001b[36m(train pid=19495)\u001b[0m     output = eval_loop(\n",
      "\u001b[2m\u001b[36m(train pid=19495)\u001b[0m   File \"/data/installation/anaconda3/envs/tmp/lib/python3.8/site-packages/transformers/trainer.py\", line 2454, in evaluation_loop\n",
      "\u001b[2m\u001b[36m(train pid=19495)\u001b[0m     metrics = self.compute_metrics(EvalPrediction(predictions=all_preds, label_ids=all_labels))\n",
      "\u001b[2m\u001b[36m(train pid=19495)\u001b[0m   File \"/data/xliu127/projects/hyperopt/FLAML/flaml/model.py\", line 697, in _compute_metrics_by_dataset_name\n",
      "\u001b[2m\u001b[36m(train pid=19495)\u001b[0m     \"automl_metric\": metric_loss_score(\n",
      "\u001b[2m\u001b[36m(train pid=19495)\u001b[0m   File \"/data/xliu127/projects/hyperopt/FLAML/flaml/ml.py\", line 141, in metric_loss_score\n",
      "\u001b[2m\u001b[36m(train pid=19495)\u001b[0m     return sklearn_metric_loss_score(\n",
      "\u001b[2m\u001b[36m(train pid=19495)\u001b[0m   File \"/data/xliu127/projects/hyperopt/FLAML/flaml/ml.py\", line 274, in sklearn_metric_loss_score\n",
      "\u001b[2m\u001b[36m(train pid=19495)\u001b[0m     score = log_loss(y_true, y_predict, labels=labels, sample_weight=sample_weight)\n",
      "\u001b[2m\u001b[36m(train pid=19495)\u001b[0m   File \"/data/installation/anaconda3/envs/tmp/lib/python3.8/site-packages/sklearn/metrics/_classification.py\", line 2424, in log_loss\n",
      "\u001b[2m\u001b[36m(train pid=19495)\u001b[0m     raise ValueError(\n",
      "\u001b[2m\u001b[36m(train pid=19495)\u001b[0m ValueError: y_true and y_pred contain different number of classes 4, 2. Please provide the true labels explicitly through the labels argument. Classes found in y_true: [0 1 2 3]\n",
      "\u001b[2m\u001b[36m(train pid=19495)\u001b[0m Exception in thread Thread-2:\n",
      "\u001b[2m\u001b[36m(train pid=19495)\u001b[0m Traceback (most recent call last):\n",
      "\u001b[2m\u001b[36m(train pid=19495)\u001b[0m   File \"/data/installation/anaconda3/envs/tmp/lib/python3.8/threading.py\", line 932, in _bootstrap_inner\n",
      "\u001b[2m\u001b[36m(train pid=19495)\u001b[0m     self.run()\n",
      "\u001b[2m\u001b[36m(train pid=19495)\u001b[0m   File \"/data/installation/anaconda3/envs/tmp/lib/python3.8/site-packages/ray/tune/function_runner.py\", line 281, in run\n",
      "\u001b[2m\u001b[36m(train pid=19495)\u001b[0m     raise e\n",
      "\u001b[2m\u001b[36m(train pid=19495)\u001b[0m   File \"/data/installation/anaconda3/envs/tmp/lib/python3.8/site-packages/ray/tune/function_runner.py\", line 262, in run\n",
      "\u001b[2m\u001b[36m(train pid=19495)\u001b[0m     self._entrypoint()\n",
      "\u001b[2m\u001b[36m(train pid=19495)\u001b[0m   File \"/data/installation/anaconda3/envs/tmp/lib/python3.8/site-packages/ray/tune/function_runner.py\", line 330, in entrypoint\n",
      "\u001b[2m\u001b[36m(train pid=19495)\u001b[0m     return self._trainable_func(self.config, self._status_reporter,\n",
      "\u001b[2m\u001b[36m(train pid=19495)\u001b[0m   File \"/data/installation/anaconda3/envs/tmp/lib/python3.8/site-packages/ray/util/tracing/tracing_helper.py\", line 451, in _resume_span\n",
      "\u001b[2m\u001b[36m(train pid=19495)\u001b[0m     return method(self, *_args, **_kwargs)\n",
      "\u001b[2m\u001b[36m(train pid=19495)\u001b[0m   File \"/data/installation/anaconda3/envs/tmp/lib/python3.8/site-packages/ray/tune/function_runner.py\", line 600, in _trainable_func\n",
      "\u001b[2m\u001b[36m(train pid=19495)\u001b[0m     output = fn()\n",
      "\u001b[2m\u001b[36m(train pid=19495)\u001b[0m   File \"/data/xliu127/projects/hyperopt/FLAML/flaml/automl.py\", line 1707, in train\n",
      "\u001b[2m\u001b[36m(train pid=19495)\u001b[0m     if states[estimator].learner_class.size(config) <= mem_res:\n",
      "\u001b[2m\u001b[36m(train pid=19495)\u001b[0m   File \"/data/installation/anaconda3/envs/tmp/lib/python3.8/site-packages/ray/tune/utils/trainable.py\", line 353, in _inner\n",
      "\u001b[2m\u001b[36m(train pid=19495)\u001b[0m     inner(config, checkpoint_dir=None)\n",
      "\u001b[2m\u001b[36m(train pid=19495)\u001b[0m   File \"/data/installation/anaconda3/envs/tmp/lib/python3.8/site-packages/ray/tune/utils/trainable.py\", line 344, in inner\n",
      "\u001b[2m\u001b[36m(train pid=19495)\u001b[0m     trainable(config, **fn_kwargs)\n",
      "\u001b[2m\u001b[36m(train pid=19495)\u001b[0m   File \"/data/xliu127/projects/hyperopt/FLAML/flaml/automl.py\", line 259, in _compute_with_config_base\n",
      "\u001b[2m\u001b[36m(train pid=19495)\u001b[0m     ) = compute_estimator(\n",
      "\u001b[2m\u001b[36m(train pid=19495)\u001b[0m   File \"/data/xliu127/projects/hyperopt/FLAML/flaml/ml.py\", line 565, in compute_estimator\n",
      "\u001b[2m\u001b[36m(train pid=19495)\u001b[0m     val_loss, metric_for_logging, train_time, pred_time = get_val_loss(\n",
      "\u001b[2m\u001b[36m(train pid=19495)\u001b[0m   File \"/data/xliu127/projects/hyperopt/FLAML/flaml/ml.py\", line 400, in get_val_loss\n",
      "\u001b[2m\u001b[36m(train pid=19495)\u001b[0m     estimator.fit(X_train, y_train, budget, **fit_kwargs)\n",
      "\u001b[2m\u001b[36m(train pid=19495)\u001b[0m   File \"/data/xliu127/projects/hyperopt/FLAML/flaml/model.py\", line 608, in fit\n",
      "\u001b[2m\u001b[36m(train pid=19495)\u001b[0m     self._trainer.train()\n",
      "\u001b[2m\u001b[36m(train pid=19495)\u001b[0m   File \"/data/installation/anaconda3/envs/tmp/lib/python3.8/site-packages/transformers/trainer.py\", line 1440, in train\n",
      "\u001b[2m\u001b[36m(train pid=19495)\u001b[0m     self._maybe_log_save_evaluate(tr_loss, model, trial, epoch, ignore_keys_for_eval)\n",
      "\u001b[2m\u001b[36m(train pid=19495)\u001b[0m   File \"/data/installation/anaconda3/envs/tmp/lib/python3.8/site-packages/transformers/trainer.py\", line 1565, in _maybe_log_save_evaluate\n",
      "\u001b[2m\u001b[36m(train pid=19495)\u001b[0m     metrics = self.evaluate(ignore_keys=ignore_keys_for_eval)\n",
      "\u001b[2m\u001b[36m(train pid=19495)\u001b[0m   File \"/data/xliu127/projects/hyperopt/FLAML/flaml/nlp/huggingface/trainer.py\", line 85, in evaluate\n",
      "\u001b[2m\u001b[36m(train pid=19495)\u001b[0m     metrics = eval_dataset and super(Seq2SeqTrainer, self).evaluate(\n",
      "\u001b[2m\u001b[36m(train pid=19495)\u001b[0m   File \"/data/installation/anaconda3/envs/tmp/lib/python3.8/site-packages/transformers/trainer.py\", line 2208, in evaluate\n",
      "\u001b[2m\u001b[36m(train pid=19495)\u001b[0m     output = eval_loop(\n",
      "\u001b[2m\u001b[36m(train pid=19495)\u001b[0m   File \"/data/installation/anaconda3/envs/tmp/lib/python3.8/site-packages/transformers/trainer.py\", line 2454, in evaluation_loop\n",
      "\u001b[2m\u001b[36m(train pid=19495)\u001b[0m     metrics = self.compute_metrics(EvalPrediction(predictions=all_preds, label_ids=all_labels))\n",
      "\u001b[2m\u001b[36m(train pid=19495)\u001b[0m   File \"/data/xliu127/projects/hyperopt/FLAML/flaml/model.py\", line 697, in _compute_metrics_by_dataset_name\n",
      "\u001b[2m\u001b[36m(train pid=19495)\u001b[0m     \"automl_metric\": metric_loss_score(\n",
      "\u001b[2m\u001b[36m(train pid=19495)\u001b[0m   File \"/data/xliu127/projects/hyperopt/FLAML/flaml/ml.py\", line 141, in metric_loss_score\n",
      "\u001b[2m\u001b[36m(train pid=19495)\u001b[0m     return sklearn_metric_loss_score(\n",
      "\u001b[2m\u001b[36m(train pid=19495)\u001b[0m   File \"/data/xliu127/projects/hyperopt/FLAML/flaml/ml.py\", line 274, in sklearn_metric_loss_score\n",
      "\u001b[2m\u001b[36m(train pid=19495)\u001b[0m     score = log_loss(y_true, y_predict, labels=labels, sample_weight=sample_weight)\n",
      "\u001b[2m\u001b[36m(train pid=19495)\u001b[0m   File \"/data/installation/anaconda3/envs/tmp/lib/python3.8/site-packages/sklearn/metrics/_classification.py\", line 2424, in log_loss\n",
      "\u001b[2m\u001b[36m(train pid=19495)\u001b[0m     raise ValueError(\n",
      "\u001b[2m\u001b[36m(train pid=19495)\u001b[0m ValueError: y_true and y_pred contain different number of classes 4, 2. Please provide the true labels explicitly through the labels argument. Classes found in y_true: [0 1 2 3]\n",
      "2022-03-01 20:54:10,136\tERROR worker.py:85 -- Unhandled error (suppress with RAY_IGNORE_UNHANDLED_ERRORS=1): \u001b[36mray::ImplicitFunc.train()\u001b[39m (pid=19495, ip=155.246.89.124, repr=train)\n",
      "  File \"/data/installation/anaconda3/envs/tmp/lib/python3.8/site-packages/ray/tune/trainable.py\", line 315, in train\n",
      "    result = self.step()\n",
      "  File \"/data/installation/anaconda3/envs/tmp/lib/python3.8/site-packages/ray/tune/function_runner.py\", line 381, in step\n",
      "    self._report_thread_runner_error(block=True)\n",
      "  File \"/data/installation/anaconda3/envs/tmp/lib/python3.8/site-packages/ray/tune/function_runner.py\", line 531, in _report_thread_runner_error\n",
      "    raise TuneError(\n",
      "ray.tune.error.TuneError: Trial raised an exception. Traceback:\n",
      "\u001b[36mray::ImplicitFunc.train()\u001b[39m (pid=19495, ip=155.246.89.124, repr=train)\n",
      "  File \"/data/installation/anaconda3/envs/tmp/lib/python3.8/site-packages/ray/tune/function_runner.py\", line 262, in run\n",
      "    self._entrypoint()\n",
      "  File \"/data/installation/anaconda3/envs/tmp/lib/python3.8/site-packages/ray/tune/function_runner.py\", line 330, in entrypoint\n",
      "    return self._trainable_func(self.config, self._status_reporter,\n",
      "  File \"/data/installation/anaconda3/envs/tmp/lib/python3.8/site-packages/ray/tune/function_runner.py\", line 600, in _trainable_func\n",
      "    output = fn()\n",
      "  File \"/data/xliu127/projects/hyperopt/FLAML/flaml/automl.py\", line 1707, in train\n",
      "    if states[estimator].learner_class.size(config) <= mem_res:\n",
      "  File \"/data/installation/anaconda3/envs/tmp/lib/python3.8/site-packages/ray/tune/utils/trainable.py\", line 353, in _inner\n",
      "    inner(config, checkpoint_dir=None)\n",
      "  File \"/data/installation/anaconda3/envs/tmp/lib/python3.8/site-packages/ray/tune/utils/trainable.py\", line 344, in inner\n",
      "    trainable(config, **fn_kwargs)\n",
      "  File \"/data/xliu127/projects/hyperopt/FLAML/flaml/automl.py\", line 259, in _compute_with_config_base\n",
      "    ) = compute_estimator(\n",
      "  File \"/data/xliu127/projects/hyperopt/FLAML/flaml/ml.py\", line 565, in compute_estimator\n",
      "    val_loss, metric_for_logging, train_time, pred_time = get_val_loss(\n",
      "  File \"/data/xliu127/projects/hyperopt/FLAML/flaml/ml.py\", line 400, in get_val_loss\n",
      "    estimator.fit(X_train, y_train, budget, **fit_kwargs)\n",
      "  File \"/data/xliu127/projects/hyperopt/FLAML/flaml/model.py\", line 608, in fit\n",
      "    self._trainer.train()\n",
      "  File \"/data/installation/anaconda3/envs/tmp/lib/python3.8/site-packages/transformers/trainer.py\", line 1440, in train\n",
      "    self._maybe_log_save_evaluate(tr_loss, model, trial, epoch, ignore_keys_for_eval)\n",
      "  File \"/data/installation/anaconda3/envs/tmp/lib/python3.8/site-packages/transformers/trainer.py\", line 1565, in _maybe_log_save_evaluate\n",
      "    metrics = self.evaluate(ignore_keys=ignore_keys_for_eval)\n",
      "  File \"/data/xliu127/projects/hyperopt/FLAML/flaml/nlp/huggingface/trainer.py\", line 85, in evaluate\n",
      "    metrics = eval_dataset and super(Seq2SeqTrainer, self).evaluate(\n",
      "  File \"/data/installation/anaconda3/envs/tmp/lib/python3.8/site-packages/transformers/trainer.py\", line 2208, in evaluate\n",
      "    output = eval_loop(\n",
      "  File \"/data/installation/anaconda3/envs/tmp/lib/python3.8/site-packages/transformers/trainer.py\", line 2454, in evaluation_loop\n",
      "    metrics = self.compute_metrics(EvalPrediction(predictions=all_preds, label_ids=all_labels))\n",
      "  File \"/data/xliu127/projects/hyperopt/FLAML/flaml/model.py\", line 697, in _compute_metrics_by_dataset_name\n",
      "    \"automl_metric\": metric_loss_score(\n",
      "  File \"/data/xliu127/projects/hyperopt/FLAML/flaml/ml.py\", line 141, in metric_loss_score\n",
      "    return sklearn_metric_loss_score(\n",
      "  File \"/data/xliu127/projects/hyperopt/FLAML/flaml/ml.py\", line 274, in sklearn_metric_loss_score\n",
      "    score = log_loss(y_true, y_predict, labels=labels, sample_weight=sample_weight)\n",
      "  File \"/data/installation/anaconda3/envs/tmp/lib/python3.8/site-packages/sklearn/metrics/_classification.py\", line 2424, in log_loss\n",
      "    raise ValueError(\n",
      "ValueError: y_true and y_pred contain different number of classes 4, 2. Please provide the true labels explicitly through the labels argument. Classes found in y_true: [0 1 2 3]\n",
      "2022-03-01 20:54:10,249\tERROR tune.py:632 -- Trials did not complete: [train_4719479c, train_4719479d, train_4719479e, train_4719479f, train_ac232874, train_b7302015, train_c314e144]\n",
      "2022-03-01 20:54:10,250\tINFO tune.py:636 -- Total run time: 653.15 seconds (500.32 seconds for the tuning loop).\n",
      "[flaml.automl: 03-01 20:54:10] {114} WARNING - flaml.training_log: checkpoint() called before any record is written, skipped.\n"
     ]
    }
   ],
   "source": [
    "automl_settings = {\n",
    "        \"time_budget\": 500,                 # setting the time budget\n",
    "        \"task\": \"multichoice-classification\",       # setting the task as multiplechoice-classification\n",
    "        \"hf_args\":\n",
    "            {\"output_dir\": \"data/output/\",  # setting the output directory\n",
    "             \"ckpt_per_epoch\": 1           # setting the number of checkoints per epoch\n",
    "             },\n",
    "        \"gpu_per_trial\": 1,                 # set to 0 if no GPU is available\n",
    "        \"log_file_name\": \"seqclass.log\",    # set the file to save the log for HPO\n",
    "        \"log_type\": \"all\",                  # the log type for checkpoints: all if keeping all checkpoints, best if only keeping the best checkpoints                        # the batch size for validation (inference)\n",
    "        \"use_ray\": True,                     # set whether to use Ray\n",
    "    }\n",
    "\n",
    "'''The main flaml automl API'''\n",
    "automl.fit(X_train=X_train, y_train=y_train, X_val=X_val, y_val=y_val, **automl_settings)"
   ]
  },
  {
   "cell_type": "code",
   "execution_count": 19,
   "metadata": {},
   "outputs": [
    {
     "name": "stdout",
     "output_type": "stream",
     "text": [
      "0\n"
     ]
    },
    {
     "data": {
      "image/png": "[encoded data removed]",
      "text/plain": [
       "<Figure size 432x288 with 1 Axes>"
      ]
     },
     "metadata": {
      "needs_background": "light"
     },
     "output_type": "display_data"
    }
   ],
   "source": [
    "from flaml.data import get_output_from_log\n",
    "time_history, best_valid_loss_history, valid_loss_history, config_history, metric_history = \\\n",
    "    get_output_from_log(filename=automl_settings['log_file_name'], time_budget=3000)\n",
    "for config in config_history:\n",
    "    print(config)\n",
    "\n",
    "import matplotlib.pyplot as plt\n",
    "import numpy as np\n",
    "plt.title('Learning Curve')\n",
    "plt.xlabel('Wall Clock Time (s)')\n",
    "plt.ylabel('Validation Accuracy')\n",
    "print(len(valid_loss_history))\n",
    "plt.scatter(time_history, 1 - np.array(valid_loss_history))\n",
    "plt.step(time_history, 1 - np.array(best_valid_loss_history), where='post')\n",
    "plt.show()"
   ]
  }
 ],
 "metadata": {
  "interpreter": {
   "hash": "e9d36fc5b7c3dd4177ff1b60184dd696c0acc18150a44682abca4d769811bd46"
  },
  "kernelspec": {
   "display_name": "Python 3 (ipykernel)",
   "language": "python",
   "name": "python3"
  },
  "language_info": {
   "codemirror_mode": {
    "name": "ipython",
    "version": 3
   },
   "file_extension": ".py",
   "mimetype": "text/x-python",
   "name": "python",
   "nbconvert_exporter": "python",
   "pygments_lexer": "ipython3",
   "version": "3.8.0"
  }
 },
 "nbformat": 4,
 "nbformat_minor": 2
}
