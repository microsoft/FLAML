{
  "cells": [
    {
      "cell_type": "markdown",
      "metadata": {
        "colab_type": "text",
        "id": "view-in-github"
      },
      "source": [
        "<a href=\"https://colab.research.google.com/github/liususan091219/FLAML-pub/blob/main/notebook/automl_nlp.ipynb\" target=\"_parent\"><img src=\"https://colab.research.google.com/assets/colab-badge.svg\" alt=\"Open In Colab\"/></a>"
      ]
    },
    {
      "attachments": {},
      "cell_type": "markdown",
      "metadata": {
        "id": "43f7-wG-Tjg_"
      },
      "source": [
        "# FineTuning NLP Models with FLAML Library\n",
        "\n",
        "\n",
        "## 1. Introduction\n",
        "\n",
        "FLAML is a Python library (https://github.com/microsoft/FLAML) designed to automatically produce accurate machine learning models \n",
        "with low computational cost. It is fast and economical. The simple and lightweight design makes it easy to use and extend, such as adding new learners. FLAML can \n",
        "- serve as an economical AutoML engine,\n",
        "- be used as a fast hyperparameter tuning tool, or \n",
        "- be embedded in self-tuning software that requires low latency & resource in repetitive\n",
        "   tuning tasks.\n",
        "\n",
        "In this notebook, we demonstrate how to use the FLAML library to fine tune an huggingface language model with hyperparameter search. We will use [flaml.automl](https://microsoft.github.io/FLAML/docs/Use-Cases/Task-Oriented-AutoML) with the built in GPU in colab for the tuning. However, if you have a machine with more than 1 GPU, you can also use FLAML's [parallel tuning](https://microsoft.github.io/FLAML/docs/Use-Cases/Task-Oriented-AutoML#parallel-tuning) with the ray tune option. \n",
        "\n",
        "FLAML requires `Python>=3.7`. To run this notebook example, please install flaml with the `nlp,notebook` and `blendsearch` option:\n",
        "```bash\n",
        "pip install flaml[nlp,notebook,blendsearch]==1.0.11; \n",
        "```"
      ]
    },
    {
      "cell_type": "code",
      "execution_count": 10,
      "metadata": {
        "colab": {
          "base_uri": "https://localhost:8080/"
        },
        "id": "Q8c3VMy6TjhC",
        "outputId": "0eaa0dd7-e163-46c6-a637-a982ca62fff2"
      },
      "outputs": [
        {
          "name": "stdout",
          "output_type": "stream",
          "text": [
            "Looking in indexes: https://pypi.org/simple, https://us-python.pkg.dev/colab-wheels/public/simple/\n",
            "Requirement already satisfied: flaml[blendsearch,nlp,notebook] in /usr/local/lib/python3.7/dist-packages (1.0.11)\n",
            "Requirement already satisfied: tenacity>=6.2.0 in /usr/local/lib/python3.7/dist-packages (from plotly->catboost>=0.26->flaml[blendsearch,nlp,notebook]) (8.0.1)\n",
            "Requirement already satisfied: qtpy>=2.0.1 in /usr/local/lib/python3.7/dist-packages (from qtconsole->jupyter->flaml[blendsearch,nlp,notebook]) (2.2.0)\n",
            "Requirement already satisfied: absl-py in /usr/local/lib/python3.7/dist-packages (from rouge-score->flaml[blendsearch,nlp,notebook]) (1.2.0)\n"
          ]
        }
      ],
      "source": [
        "%pip install flaml[nlp,notebook,blendsearch]==1.0.11;"
      ]
    },
    {
      "cell_type": "markdown",
      "metadata": {
        "id": "efPlAWTdTjhD"
      },
      "source": [
        "Let's run some examples. To use CoLab's built in GPU, you need to select Runtime -> Change runtime type and select GPU. Then you can print the device information using:"
      ]
    },
    {
      "cell_type": "code",
      "execution_count": 11,
      "metadata": {
        "colab": {
          "base_uri": "https://localhost:8080/"
        },
        "id": "2kx9QbI7uaU8",
        "outputId": "7b6f5fc2-1406-4460-e3f3-22a23751e136"
      },
      "outputs": [
        {
          "name": "stdout",
          "output_type": "stream",
          "text": [
            "[<torch.cuda.device object at 0x7fa1e4115190>]\n"
          ]
        }
      ],
      "source": [
        "import torch\n",
        "print([torch.cuda.device(i) for i in range(torch.cuda.device_count())])"
      ]
    },
    {
      "cell_type": "markdown",
      "metadata": {
        "id": "-yEuLXoHua-f"
      },
      "source": [
        "Note: throughout this notebook, you may see a few ModuleNotFoundErrors. As long as the cell successfully executes, you can ignore that error."
      ]
    },
    {
      "cell_type": "markdown",
      "metadata": {
        "id": "ZBr83DYlTjhD"
      },
      "source": [
        "## 2. Sentiment Classification Example\n",
        "### Load data and preprocess\n",
        "\n",
        "The Stanford Sentiment treebank (SST-2) dataset is a dataset for sentiment classification. First, let's load this dataset into pandas dataframes:"
      ]
    },
    {
      "cell_type": "code",
      "execution_count": 12,
      "metadata": {
        "colab": {
          "base_uri": "https://localhost:8080/",
          "height": 106,
          "referenced_widgets": [
            "16fba9eb9e4542bc9d34eca00d71cc14",
            "c81f11a99b9d4d1d95533f24bea1d5ac",
            "e4ce5cf6ea174583a14675a75d31992d",
            "0c8473019e434db0ae34d58b69605a69",
            "814d3f2b7212461ca51f8635b5106783",
            "129488cadbb9477ca593ae106ee8e9f7",
            "c7aaa1fbd10942649c90044c0c901d99",
            "6fe78cfd377b4c10a626588f46a569cf",
            "2aa0f33b8d3a4bc7bedf3b66e06b62f0",
            "1794a34790b647b3a8a845c55e5e0744",
            "13d813116e1846a3a0e42a5e8423f80e",
            "2aa02213244048fead33ea157c17837b",
            "dfee126a02ef4934a0f654a101dadc1b",
            "8e58d795d528405f8d1c48bfc2afe399",
            "e23212ae504e493a85e4b2524f0217e1",
            "b84af540de4741ceb206456d2f05fa4b",
            "9ba620aa4e51456c9b3b2469c2c887c3",
            "cc8f1bc7322542828205777903530f1e",
            "c5f0ba4cda014a63a99ecc989f72f731",
            "44803ba97fd54ceab2afe0555e21dfe8",
            "f4ca1b7b5868446da945574f4db4373b",
            "f7070757d4784c8099ef7dd9bd280ed3",
            "6a8be136bafe40eea3430dda4063e6db",
            "f28c1b9dee064db99c389beb98306f86",
            "b2a5550cd6474de7a46eab6a973305e0",
            "a4e9b7b28055406c9569e585296850c6",
            "ac534b02efb34100b53999031767e8a3",
            "5f9f744825e44fdbae9c126837e40efe",
            "c3f7a2bb90b44a21a43939f78914f9b8",
            "4ec28fbc9433413f8355e0c976839a94",
            "fab424da92b541cfac6b3bb05ee4e17b",
            "8cfa8c0a28f549c19649ec9b390aa528",
            "470b17af8c8442e49757dc4e385d16f0",
            "2c31d2eb9ae44ffbb0f02ad1b1e7937a",
            "cd5ec1bd9cf54dbfbfd577a096a9e588",
            "d1ba6870db484696879f0d6e5d3a9d70",
            "e7405147ca374cc4998ca947be069652",
            "fb72bbb82aec4184a8e0a510177433cf",
            "f37c66b863854588b7a8891720372dc6",
            "f48c7243c49a43acac4d1ba3a6fe674f",
            "95ad5a87c66f405599a710b8a5fa0a9d",
            "de103ee4780843db8502ebe64f5d2b28",
            "428db79c8cd74257ad09539518a21835",
            "3c95b6d54b294fe2a958056c463ce541"
          ]
        },
        "id": "hGP2eqTBTjhD",
        "outputId": "56245bac-5fe2-4dcc-c7ae-714d2a11be5d"
      },
      "outputs": [
        {
          "name": "stdout",
          "output_type": "stream",
          "text": [
            "Downloading and preparing dataset glue/sst2 (download: 7.09 MiB, generated: 4.81 MiB, post-processed: Unknown size, total: 11.90 MiB) to /root/.cache/huggingface/datasets/glue/sst2/1.0.0/dacbe3125aa31d7f70367a07a8a9e72a5a0bfeb5fc42e75c9db75b96da6053ad...\n"
          ]
        },
        {
          "data": {
            "application/json": {
              "ascii": false,
              "bar_format": null,
              "colour": null,
              "elapsed": 0.023516416549682617,
              "initial": 0,
              "n": 0,
              "ncols": null,
              "nrows": null,
              "postfix": null,
              "prefix": "Downloading data",
              "rate": null,
              "total": 7439277,
              "unit": "B",
              "unit_divisor": 1000,
              "unit_scale": true
            },
            "application/vnd.jupyter.widget-view+json": {
              "model_id": "16fba9eb9e4542bc9d34eca00d71cc14",
              "version_major": 2,
              "version_minor": 0
            },
            "text/plain": [
              "Downloading data:   0%|          | 0.00/7.44M [00:00<?, ?B/s]"
            ]
          },
          "metadata": {},
          "output_type": "display_data"
        },
        {
          "data": {
            "application/json": {
              "ascii": false,
              "bar_format": null,
              "colour": null,
              "elapsed": 0.02047133445739746,
              "initial": 0,
              "n": 0,
              "ncols": null,
              "nrows": null,
              "postfix": null,
              "prefix": "Generating train split",
              "rate": null,
              "total": 67349,
              "unit": " examples",
              "unit_divisor": 1000,
              "unit_scale": false
            },
            "application/vnd.jupyter.widget-view+json": {
              "model_id": "2aa02213244048fead33ea157c17837b",
              "version_major": 2,
              "version_minor": 0
            },
            "text/plain": [
              "Generating train split:   0%|          | 0/67349 [00:00<?, ? examples/s]"
            ]
          },
          "metadata": {},
          "output_type": "display_data"
        },
        {
          "data": {
            "application/json": {
              "ascii": false,
              "bar_format": null,
              "colour": null,
              "elapsed": 0.020740985870361328,
              "initial": 0,
              "n": 0,
              "ncols": null,
              "nrows": null,
              "postfix": null,
              "prefix": "Generating validation split",
              "rate": null,
              "total": 872,
              "unit": " examples",
              "unit_divisor": 1000,
              "unit_scale": false
            },
            "application/vnd.jupyter.widget-view+json": {
              "model_id": "6a8be136bafe40eea3430dda4063e6db",
              "version_major": 2,
              "version_minor": 0
            },
            "text/plain": [
              "Generating validation split:   0%|          | 0/872 [00:00<?, ? examples/s]"
            ]
          },
          "metadata": {},
          "output_type": "display_data"
        },
        {
          "data": {
            "application/json": {
              "ascii": false,
              "bar_format": null,
              "colour": null,
              "elapsed": 0.0380253791809082,
              "initial": 0,
              "n": 0,
              "ncols": null,
              "nrows": null,
              "postfix": null,
              "prefix": "Generating test split",
              "rate": null,
              "total": 1821,
              "unit": " examples",
              "unit_divisor": 1000,
              "unit_scale": false
            },
            "application/vnd.jupyter.widget-view+json": {
              "model_id": "2c31d2eb9ae44ffbb0f02ad1b1e7937a",
              "version_major": 2,
              "version_minor": 0
            },
            "text/plain": [
              "Generating test split:   0%|          | 0/1821 [00:00<?, ? examples/s]"
            ]
          },
          "metadata": {},
          "output_type": "display_data"
        },
        {
          "name": "stdout",
          "output_type": "stream",
          "text": [
            "Dataset glue downloaded and prepared to /root/.cache/huggingface/datasets/glue/sst2/1.0.0/dacbe3125aa31d7f70367a07a8a9e72a5a0bfeb5fc42e75c9db75b96da6053ad. Subsequent calls will reuse this data.\n"
          ]
        },
        {
          "name": "stderr",
          "output_type": "stream",
          "text": [
            "WARNING:datasets.builder:Reusing dataset glue (/root/.cache/huggingface/datasets/glue/sst2/1.0.0/dacbe3125aa31d7f70367a07a8a9e72a5a0bfeb5fc42e75c9db75b96da6053ad)\n",
            "WARNING:datasets.builder:Reusing dataset glue (/root/.cache/huggingface/datasets/glue/sst2/1.0.0/dacbe3125aa31d7f70367a07a8a9e72a5a0bfeb5fc42e75c9db75b96da6053ad)\n"
          ]
        }
      ],
      "source": [
        "from datasets import load_dataset\n",
        "\n",
        "train_dataset = load_dataset(\"glue\", \"sst2\", split=\"train\").to_pandas()\n",
        "dev_dataset = load_dataset(\"glue\", \"sst2\", split=\"validation\").to_pandas()\n",
        "test_dataset = load_dataset(\"glue\", \"sst2\", split=\"test\").to_pandas()"
      ]
    },
    {
      "cell_type": "markdown",
      "metadata": {
        "id": "Nb7SAWVLTjhE"
      },
      "source": [
        "Take a look at the first 5 examples of this dataset:"
      ]
    },
    {
      "cell_type": "code",
      "execution_count": null,
      "metadata": {
        "id": "65mLkoJhTjhE",
        "outputId": "2ec2ba75-caeb-4e6e-e1f8-78ee900f525d"
      },
      "outputs": [
        {
          "data": {
            "text/html": [
              "<div>\n",
              "<style scoped>\n",
              "    .dataframe tbody tr th:only-of-type {\n",
              "        vertical-align: middle;\n",
              "    }\n",
              "\n",
              "    .dataframe tbody tr th {\n",
              "        vertical-align: top;\n",
              "    }\n",
              "\n",
              "    .dataframe thead th {\n",
              "        text-align: right;\n",
              "    }\n",
              "</style>\n",
              "<table border=\"1\" class=\"dataframe\">\n",
              "  <thead>\n",
              "    <tr style=\"text-align: right;\">\n",
              "      <th></th>\n",
              "      <th>sentence</th>\n",
              "      <th>label</th>\n",
              "      <th>idx</th>\n",
              "    </tr>\n",
              "  </thead>\n",
              "  <tbody>\n",
              "    <tr>\n",
              "      <th>0</th>\n",
              "      <td>hide new secretions from the parental units</td>\n",
              "      <td>0</td>\n",
              "      <td>0</td>\n",
              "    </tr>\n",
              "    <tr>\n",
              "      <th>1</th>\n",
              "      <td>contains no wit , only labored gags</td>\n",
              "      <td>0</td>\n",
              "      <td>1</td>\n",
              "    </tr>\n",
              "    <tr>\n",
              "      <th>2</th>\n",
              "      <td>that loves its characters and communicates som...</td>\n",
              "      <td>1</td>\n",
              "      <td>2</td>\n",
              "    </tr>\n",
              "    <tr>\n",
              "      <th>3</th>\n",
              "      <td>remains utterly satisfied to remain the same t...</td>\n",
              "      <td>0</td>\n",
              "      <td>3</td>\n",
              "    </tr>\n",
              "    <tr>\n",
              "      <th>4</th>\n",
              "      <td>on the worst revenge-of-the-nerds clichés the ...</td>\n",
              "      <td>0</td>\n",
              "      <td>4</td>\n",
              "    </tr>\n",
              "  </tbody>\n",
              "</table>\n",
              "</div>"
            ],
            "text/plain": [
              "                                            sentence  label  idx\n",
              "0       hide new secretions from the parental units       0    0\n",
              "1               contains no wit , only labored gags       0    1\n",
              "2  that loves its characters and communicates som...      1    2\n",
              "3  remains utterly satisfied to remain the same t...      0    3\n",
              "4  on the worst revenge-of-the-nerds clichés the ...      0    4"
            ]
          },
          "execution_count": 3,
          "metadata": {},
          "output_type": "execute_result"
        }
      ],
      "source": [
        "train_dataset.head(5)"
      ]
    },
    {
      "cell_type": "markdown",
      "metadata": {
        "id": "ENcUQbOgTjhE"
      },
      "source": [
        "Separate the data into X and y:"
      ]
    },
    {
      "cell_type": "code",
      "execution_count": 13,
      "metadata": {
        "id": "GA0VH9URTjhF"
      },
      "outputs": [],
      "source": [
        "custom_sent_keys = [\"sentence\"]          # specify the column names of the input sentences\n",
        "label_key = \"label\"                                    # specify the column name of the label\n",
        "\n",
        "X_train, y_train = train_dataset[custom_sent_keys], train_dataset[label_key]\n",
        "X_val, y_val = dev_dataset[custom_sent_keys], dev_dataset[label_key]\n",
        "X_test = test_dataset[custom_sent_keys]"
      ]
    },
    {
      "cell_type": "markdown",
      "metadata": {
        "id": "NpRqB153TjhF"
      },
      "source": [
        "### Run FLAML"
      ]
    },
    {
      "cell_type": "markdown",
      "metadata": {
        "id": "2kXabqxZuzQl"
      },
      "source": [
        "Now we can run AutoML with FLAML:"
      ]
    },
    {
      "cell_type": "code",
      "execution_count": 14,
      "metadata": {
        "id": "asYbkzrXTjhF"
      },
      "outputs": [],
      "source": [
        "from flaml import AutoML\n",
        "automl = AutoML()\n"
      ]
    },
    {
      "cell_type": "markdown",
      "metadata": {
        "id": "2XZmrBRru_A0"
      },
      "source": [
        "Let's run FLAML for 30 mins. Here we use Electra's [small model](https://huggingface.co/google/electra-small-discriminator) for the tuning. We set gpu_per_trial to 1, and n_concurrent_trials to 1 (the number of trials running at the same time). Make sure gpu_per_trial * n_concurrent_trials does not exceed the GPU number you have. While running you can observe the resource usage (including the GPU) on the right. "
      ]
    },
    {
      "cell_type": "code",
      "execution_count": 15,
      "metadata": {
        "id": "QEvR2bZiTjhG"
      },
      "outputs": [],
      "source": [
        "TIME_BUDGET=1800\n",
        "automl_settings = {\n",
        "    \"time_budget\": TIME_BUDGET,                  # setting the time budget\n",
        "    \"task\": \"seq-classification\",       # setting the task as seq-classification\n",
        "    \"fit_kwargs_by_estimator\": {\n",
        "        \"transformer\": {\n",
        "            \"output_dir\": \"data/output/\",   # setting the output directory\n",
        "            \"model_path\": \"google/electra-small-discriminator\",  # if model_path is not set, the default model is facebook/muppet-roberta-base: https://huggingface.co/facebook/muppet-roberta-base\n",
        "        }\n",
        "    },\n",
        "    \"gpu_per_trial\": 1,                 # using 1 GPU for each trial\n",
        "    \"log_file_name\": \"seqclass.log\",    # set the file to save the log for HPO\n",
        "    \"log_type\": \"all\",                  # the log type for trials: \"all\" if logging all the trials, \"better\" if only keeping the better trials\n",
        "    \"use_ray\": False,                   # If parallel tuning, set \"use_ray\" to {\"local_dir\": \"data/output/\"}\n",
        "    \"n_concurrent_trials\": 1,           # How many trials to run at the same time, n_concurrent_trials * gpu_per_trial must not exceed the total number of GPUs\n",
        "    \"keep_search_state\": True,          # keeping the search state\n",
        "    \"fp16\": False                       # whether to use fp16, this option is True by default. \n",
        "}"
      ]
    },
    {
      "cell_type": "code",
      "execution_count": 23,
      "metadata": {
        "colab": {
          "base_uri": "https://localhost:8080/"
        },
        "id": "EXjF65hOTjhG",
        "outputId": "e706d9e0-c890-41a0-cf9e-fb308d7c9533"
      },
      "outputs": [
        {
          "name": "stderr",
          "output_type": "stream",
          "text": [
            "/usr/local/lib/python3.7/dist-packages/pandas/core/frame.py:3641: SettingWithCopyWarning: \n",
            "A value is trying to be set on a copy of a slice from a DataFrame.\n",
            "Try using .loc[row_indexer,col_indexer] = value instead\n",
            "\n",
            "See the caveats in the documentation: https://pandas.pydata.org/pandas-docs/stable/user_guide/indexing.html#returning-a-view-versus-a-copy\n",
            "  self[k1] = value[k2]\n",
            "[flaml.automl: 08-21 02:50:27] {2565} INFO - task = seq-classification\n",
            "INFO:flaml.automl:task = seq-classification\n",
            "[flaml.automl: 08-21 02:50:27] {2567} INFO - Data split method: stratified\n",
            "INFO:flaml.automl:Data split method: stratified\n",
            "[flaml.automl: 08-21 02:50:27] {2570} INFO - Evaluation method: holdout\n",
            "INFO:flaml.automl:Evaluation method: holdout\n",
            "[flaml.automl: 08-21 02:50:27] {2689} INFO - Minimizing error metric: 1-accuracy\n",
            "INFO:flaml.automl:Minimizing error metric: 1-accuracy\n",
            "[flaml.automl: 08-21 02:50:27] {2831} INFO - List of ML learners in AutoML Run: ['transformer']\n",
            "INFO:flaml.automl:List of ML learners in AutoML Run: ['transformer']\n",
            "[flaml.automl: 08-21 02:50:27] {3133} INFO - iteration 0, current learner transformer\n",
            "INFO:flaml.automl:iteration 0, current learner transformer\n",
            "/usr/local/lib/python3.7/dist-packages/transformers/optimization.py:309: FutureWarning: This implementation of AdamW is deprecated and will be removed in a future version. Use the PyTorch implementation torch.optim.AdamW instead, or set `no_deprecation_warning=True` to disable this warning\n",
            "  FutureWarning,\n"
          ]
        },
        {
          "name": "stdout",
          "output_type": "stream",
          "text": [
            "{'loss': 0.5665, 'learning_rate': 4.6751863684771026e-06, 'epoch': 1.6}\n",
            "{'eval_loss': 0.42372775077819824, 'eval_automl_metric': 0.1754587155963303, 'eval_runtime': 10.818, 'eval_samples_per_second': 80.606, 'eval_steps_per_second': 80.606, 'epoch': 2.0}\n",
            "{'eval_loss': 0.4013938903808594, 'eval_automl_metric': 0.16399082568807344, 'eval_runtime': 10.8291, 'eval_samples_per_second': 80.524, 'eval_steps_per_second': 80.524, 'epoch': 3.0}\n",
            "{'train_runtime': 81.4429, 'train_samples_per_second': 368.356, 'train_steps_per_second': 11.53, 'train_loss': 0.4875296855759951, 'epoch': 3.0}\n"
          ]
        },
        {
          "name": "stderr",
          "output_type": "stream",
          "text": [
            "***** Running Prediction *****\n",
            "  Num examples = 872\n",
            "  Batch size = 1\n",
            "Didn't find file data/output/train_2022-08-21_02-50-27/train_036eed6c_15_s=9223372036854775807,e=1e-05,s=-1,s=3,e=32,d=20_2022-08-21_02-50-27/checkpoint-939/added_tokens.json. We won't load it.\n",
            "loading file data/output/train_2022-08-21_02-50-27/train_036eed6c_15_s=9223372036854775807,e=1e-05,s=-1,s=3,e=32,d=20_2022-08-21_02-50-27/checkpoint-939/vocab.txt\n",
            "loading file data/output/train_2022-08-21_02-50-27/train_036eed6c_15_s=9223372036854775807,e=1e-05,s=-1,s=3,e=32,d=20_2022-08-21_02-50-27/checkpoint-939/tokenizer.json\n",
            "loading file None\n",
            "loading file data/output/train_2022-08-21_02-50-27/train_036eed6c_15_s=9223372036854775807,e=1e-05,s=-1,s=3,e=32,d=20_2022-08-21_02-50-27/checkpoint-939/special_tokens_map.json\n",
            "loading file data/output/train_2022-08-21_02-50-27/train_036eed6c_15_s=9223372036854775807,e=1e-05,s=-1,s=3,e=32,d=20_2022-08-21_02-50-27/checkpoint-939/tokenizer_config.json\n",
            "[flaml.automl: 08-21 02:52:09] {3267} INFO - Estimated sufficient time budget=6862714s. Estimated necessary time budget=6863s.\n",
            "INFO:flaml.automl:Estimated sufficient time budget=6862714s. Estimated necessary time budget=6863s.\n",
            "[flaml.automl: 08-21 02:52:09] {3319} INFO -  at 102.1s,\testimator transformer's best error=0.1640,\tbest estimator transformer's best error=0.1640\n",
            "INFO:flaml.automl: at 102.1s,\testimator transformer's best error=0.1640,\tbest estimator transformer's best error=0.1640\n",
            "[flaml.automl: 08-21 02:52:09] {3133} INFO - iteration 1, current learner transformer\n",
            "INFO:flaml.automl:iteration 1, current learner transformer\n",
            "/usr/local/lib/python3.7/dist-packages/transformers/optimization.py:309: FutureWarning: This implementation of AdamW is deprecated and will be removed in a future version. Use the PyTorch implementation torch.optim.AdamW instead, or set `no_deprecation_warning=True` to disable this warning\n",
            "  FutureWarning,\n"
          ]
        },
        {
          "name": "stdout",
          "output_type": "stream",
          "text": [
            "{'eval_loss': 0.4843567907810211, 'eval_automl_metric': 0.18233944954128445, 'eval_runtime': 10.5457, 'eval_samples_per_second': 82.688, 'eval_steps_per_second': 82.688, 'epoch': 2.0}\n",
            "{'eval_loss': 0.4618026912212372, 'eval_automl_metric': 0.17889908256880738, 'eval_runtime': 10.645, 'eval_samples_per_second': 81.916, 'eval_steps_per_second': 81.916, 'epoch': 3.0}\n",
            "{'train_runtime': 65.5885, 'train_samples_per_second': 457.397, 'train_steps_per_second': 7.181, 'train_loss': 0.5575582905180135, 'epoch': 3.0}\n"
          ]
        },
        {
          "name": "stderr",
          "output_type": "stream",
          "text": [
            "***** Running Prediction *****\n",
            "  Num examples = 872\n",
            "  Batch size = 1\n",
            "Didn't find file data/output/train_2022-08-21_02-52-09/train_402e7e16_16_s=9223372036854775807,e=9.7119e-06,s=-1,s=3,e=64,d=14_2022-08-21_02-52-09/checkpoint-471/added_tokens.json. We won't load it.\n",
            "loading file data/output/train_2022-08-21_02-52-09/train_402e7e16_16_s=9223372036854775807,e=9.7119e-06,s=-1,s=3,e=64,d=14_2022-08-21_02-52-09/checkpoint-471/vocab.txt\n",
            "loading file data/output/train_2022-08-21_02-52-09/train_402e7e16_16_s=9223372036854775807,e=9.7119e-06,s=-1,s=3,e=64,d=14_2022-08-21_02-52-09/checkpoint-471/tokenizer.json\n",
            "loading file None\n",
            "loading file data/output/train_2022-08-21_02-52-09/train_402e7e16_16_s=9223372036854775807,e=9.7119e-06,s=-1,s=3,e=64,d=14_2022-08-21_02-52-09/checkpoint-471/special_tokens_map.json\n",
            "loading file data/output/train_2022-08-21_02-52-09/train_402e7e16_16_s=9223372036854775807,e=9.7119e-06,s=-1,s=3,e=64,d=14_2022-08-21_02-52-09/checkpoint-471/tokenizer_config.json\n",
            "[flaml.automl: 08-21 02:53:35] {3319} INFO -  at 188.2s,\testimator transformer's best error=0.1640,\tbest estimator transformer's best error=0.1640\n",
            "INFO:flaml.automl: at 188.2s,\testimator transformer's best error=0.1640,\tbest estimator transformer's best error=0.1640\n",
            "[flaml.automl: 08-21 02:53:36] {3133} INFO - iteration 2, current learner transformer\n",
            "INFO:flaml.automl:iteration 2, current learner transformer\n",
            "/usr/local/lib/python3.7/dist-packages/transformers/optimization.py:309: FutureWarning: This implementation of AdamW is deprecated and will be removed in a future version. Use the PyTorch implementation torch.optim.AdamW instead, or set `no_deprecation_warning=True` to disable this warning\n",
            "  FutureWarning,\n"
          ]
        },
        {
          "name": "stdout",
          "output_type": "stream",
          "text": [
            "{'loss': 0.5778, 'learning_rate': 7.550901222797876e-06, 'epoch': 0.8}\n",
            "{'loss': 0.3836, 'learning_rate': 4.805118959962285e-06, 'epoch': 1.6}\n",
            "{'eval_loss': 0.3749224543571472, 'eval_automl_metric': 0.15596330275229353, 'eval_runtime': 10.5464, 'eval_samples_per_second': 82.682, 'eval_steps_per_second': 82.682, 'epoch': 2.0}\n",
            "{'loss': 0.3399, 'learning_rate': 2.0593366971266936e-06, 'epoch': 2.4}\n",
            "{'eval_loss': 0.37013810873031616, 'eval_automl_metric': 0.1513761467889908, 'eval_runtime': 10.6222, 'eval_samples_per_second': 82.092, 'eval_steps_per_second': 82.092, 'epoch': 3.0}\n",
            "{'train_runtime': 126.516, 'train_samples_per_second': 237.124, 'train_steps_per_second': 14.82, 'train_loss': 0.40950755208333334, 'epoch': 3.0}\n"
          ]
        },
        {
          "name": "stderr",
          "output_type": "stream",
          "text": [
            "***** Running Prediction *****\n",
            "  Num examples = 872\n",
            "  Batch size = 1\n",
            "Didn't find file data/output/train_2022-08-21_02-53-36/train_7382565c_17_s=9223372036854775807,e=1.0297e-05,s=-1,s=3,e=16,d=26_2022-08-21_02-53-36/checkpoint-1875/added_tokens.json. We won't load it.\n",
            "loading file data/output/train_2022-08-21_02-53-36/train_7382565c_17_s=9223372036854775807,e=1.0297e-05,s=-1,s=3,e=16,d=26_2022-08-21_02-53-36/checkpoint-1875/vocab.txt\n",
            "loading file data/output/train_2022-08-21_02-53-36/train_7382565c_17_s=9223372036854775807,e=1.0297e-05,s=-1,s=3,e=16,d=26_2022-08-21_02-53-36/checkpoint-1875/tokenizer.json\n",
            "loading file None\n",
            "loading file data/output/train_2022-08-21_02-53-36/train_7382565c_17_s=9223372036854775807,e=1.0297e-05,s=-1,s=3,e=16,d=26_2022-08-21_02-53-36/checkpoint-1875/special_tokens_map.json\n",
            "loading file data/output/train_2022-08-21_02-53-36/train_7382565c_17_s=9223372036854775807,e=1.0297e-05,s=-1,s=3,e=16,d=26_2022-08-21_02-53-36/checkpoint-1875/tokenizer_config.json\n",
            "[flaml.automl: 08-21 02:56:03] {729} WARNING - checkpoint data/output/train_2022-08-21_02-50-27/train_036eed6c_15_s=9223372036854775807,e=1e-05,s=-1,s=3,e=32,d=20_2022-08-21_02-50-27/checkpoint-939 not found\n",
            "WARNING:flaml.automl:checkpoint data/output/train_2022-08-21_02-50-27/train_036eed6c_15_s=9223372036854775807,e=1e-05,s=-1,s=3,e=32,d=20_2022-08-21_02-50-27/checkpoint-939 not found\n",
            "[flaml.automl: 08-21 02:56:03] {3319} INFO -  at 335.5s,\testimator transformer's best error=0.1514,\tbest estimator transformer's best error=0.1514\n",
            "INFO:flaml.automl: at 335.5s,\testimator transformer's best error=0.1514,\tbest estimator transformer's best error=0.1514\n",
            "[flaml.automl: 08-21 02:56:03] {3133} INFO - iteration 3, current learner transformer\n",
            "INFO:flaml.automl:iteration 3, current learner transformer\n",
            "/usr/local/lib/python3.7/dist-packages/transformers/optimization.py:309: FutureWarning: This implementation of AdamW is deprecated and will be removed in a future version. Use the PyTorch implementation torch.optim.AdamW instead, or set `no_deprecation_warning=True` to disable this warning\n",
            "  FutureWarning,\n"
          ]
        },
        {
          "name": "stdout",
          "output_type": "stream",
          "text": [
            "{'loss': 0.5362, 'learning_rate': 8.879996750213199e-06, 'epoch': 0.8}\n",
            "{'eval_loss': 0.3863365948200226, 'eval_automl_metric': 0.1594036697247706, 'eval_runtime': 10.6255, 'eval_samples_per_second': 82.067, 'eval_steps_per_second': 82.067, 'epoch': 1.0}\n",
            "{'loss': 0.3654, 'learning_rate': 2.959998916737733e-06, 'epoch': 1.6}\n",
            "{'eval_loss': 0.375693142414093, 'eval_automl_metric': 0.15596330275229353, 'eval_runtime': 10.6464, 'eval_samples_per_second': 81.906, 'eval_steps_per_second': 81.906, 'epoch': 2.0}\n",
            "{'train_runtime': 91.5445, 'train_samples_per_second': 218.473, 'train_steps_per_second': 13.655, 'train_loss': 0.42628193359375, 'epoch': 2.0}\n"
          ]
        },
        {
          "name": "stderr",
          "output_type": "stream",
          "text": [
            "***** Running Prediction *****\n",
            "  Num examples = 872\n",
            "  Batch size = 1\n",
            "Didn't find file data/output/train_2022-08-21_02-56-03/train_cb570bac_18_s=9223372036854775807,e=1.48e-05,s=-1,s=2,e=16,d=25_2022-08-21_02-56-03/checkpoint-1250/added_tokens.json. We won't load it.\n",
            "loading file data/output/train_2022-08-21_02-56-03/train_cb570bac_18_s=9223372036854775807,e=1.48e-05,s=-1,s=2,e=16,d=25_2022-08-21_02-56-03/checkpoint-1250/vocab.txt\n",
            "loading file data/output/train_2022-08-21_02-56-03/train_cb570bac_18_s=9223372036854775807,e=1.48e-05,s=-1,s=2,e=16,d=25_2022-08-21_02-56-03/checkpoint-1250/tokenizer.json\n",
            "loading file None\n",
            "loading file data/output/train_2022-08-21_02-56-03/train_cb570bac_18_s=9223372036854775807,e=1.48e-05,s=-1,s=2,e=16,d=25_2022-08-21_02-56-03/checkpoint-1250/special_tokens_map.json\n",
            "loading file data/output/train_2022-08-21_02-56-03/train_cb570bac_18_s=9223372036854775807,e=1.48e-05,s=-1,s=2,e=16,d=25_2022-08-21_02-56-03/checkpoint-1250/tokenizer_config.json\n",
            "[flaml.automl: 08-21 02:57:55] {3319} INFO -  at 447.3s,\testimator transformer's best error=0.1514,\tbest estimator transformer's best error=0.1514\n",
            "INFO:flaml.automl: at 447.3s,\testimator transformer's best error=0.1514,\tbest estimator transformer's best error=0.1514\n",
            "[flaml.automl: 08-21 02:57:55] {3133} INFO - iteration 4, current learner transformer\n",
            "INFO:flaml.automl:iteration 4, current learner transformer\n",
            "/usr/local/lib/python3.7/dist-packages/transformers/optimization.py:309: FutureWarning: This implementation of AdamW is deprecated and will be removed in a future version. Use the PyTorch implementation torch.optim.AdamW instead, or set `no_deprecation_warning=True` to disable this warning\n",
            "  FutureWarning,\n"
          ]
        },
        {
          "name": "stdout",
          "output_type": "stream",
          "text": [
            "{'loss': 0.6402, 'learning_rate': 5.730904302906456e-06, 'epoch': 0.8}\n",
            "{'loss': 0.4537, 'learning_rate': 4.298178227179842e-06, 'epoch': 1.6}\n",
            "{'loss': 0.3716, 'learning_rate': 2.865452151453228e-06, 'epoch': 2.4}\n",
            "{'eval_loss': 0.4031089246273041, 'eval_automl_metric': 0.16284403669724767, 'eval_runtime': 10.6207, 'eval_samples_per_second': 82.104, 'eval_steps_per_second': 82.104, 'epoch': 2.88}\n",
            "{'eval_loss': 0.4031089246273041, 'eval_automl_metric': 0.16284403669724767, 'eval_runtime': 10.663, 'eval_samples_per_second': 81.778, 'eval_steps_per_second': 81.778, 'epoch': 2.88}\n",
            "{'train_runtime': 122.6118, 'train_samples_per_second': 326.233, 'train_steps_per_second': 20.39, 'train_loss': 0.46601707301930595, 'epoch': 2.88}\n"
          ]
        },
        {
          "name": "stderr",
          "output_type": "stream",
          "text": [
            "***** Running Prediction *****\n",
            "  Num examples = 872\n",
            "  Batch size = 1\n",
            "Didn't find file data/output/train_2022-08-21_02-57-55/train_0df42e0e_19_s=9223372036854775807,e=7.1636e-06,s=-1,s=4,e=16,d=27_2022-08-21_02-57-55/checkpoint-1803/added_tokens.json. We won't load it.\n",
            "loading file data/output/train_2022-08-21_02-57-55/train_0df42e0e_19_s=9223372036854775807,e=7.1636e-06,s=-1,s=4,e=16,d=27_2022-08-21_02-57-55/checkpoint-1803/vocab.txt\n",
            "loading file data/output/train_2022-08-21_02-57-55/train_0df42e0e_19_s=9223372036854775807,e=7.1636e-06,s=-1,s=4,e=16,d=27_2022-08-21_02-57-55/checkpoint-1803/tokenizer.json\n",
            "loading file None\n",
            "loading file data/output/train_2022-08-21_02-57-55/train_0df42e0e_19_s=9223372036854775807,e=7.1636e-06,s=-1,s=4,e=16,d=27_2022-08-21_02-57-55/checkpoint-1803/special_tokens_map.json\n",
            "loading file data/output/train_2022-08-21_02-57-55/train_0df42e0e_19_s=9223372036854775807,e=7.1636e-06,s=-1,s=4,e=16,d=27_2022-08-21_02-57-55/checkpoint-1803/tokenizer_config.json\n",
            "[flaml.automl: 08-21 03:00:18] {3319} INFO -  at 590.4s,\testimator transformer's best error=0.1514,\tbest estimator transformer's best error=0.1514\n",
            "INFO:flaml.automl: at 590.4s,\testimator transformer's best error=0.1514,\tbest estimator transformer's best error=0.1514\n",
            "[flaml.automl: 08-21 03:00:18] {3133} INFO - iteration 5, current learner transformer\n",
            "INFO:flaml.automl:iteration 5, current learner transformer\n",
            "/usr/local/lib/python3.7/dist-packages/transformers/optimization.py:309: FutureWarning: This implementation of AdamW is deprecated and will be removed in a future version. Use the PyTorch implementation torch.optim.AdamW instead, or set `no_deprecation_warning=True` to disable this warning\n",
            "  FutureWarning,\n"
          ]
        },
        {
          "name": "stdout",
          "output_type": "stream",
          "text": [
            "{'loss': 0.5223, 'learning_rate': 1.3121346786922505e-05, 'epoch': 0.8}\n",
            "{'loss': 0.333, 'learning_rate': 8.349947955314322e-06, 'epoch': 1.6}\n",
            "{'eval_loss': 0.37441486120224, 'eval_automl_metric': 0.16169724770642202, 'eval_runtime': 10.5419, 'eval_samples_per_second': 82.717, 'eval_steps_per_second': 82.717, 'epoch': 2.0}\n",
            "{'eval_loss': 0.3761043846607208, 'eval_automl_metric': 0.15481651376146788, 'eval_runtime': 10.512, 'eval_samples_per_second': 82.953, 'eval_steps_per_second': 82.953, 'epoch': 2.23}\n",
            "{'eval_loss': 0.3761043846607208, 'eval_automl_metric': 0.15481651376146788, 'eval_runtime': 10.5934, 'eval_samples_per_second': 82.316, 'eval_steps_per_second': 82.316, 'epoch': 2.23}\n",
            "{'train_runtime': 111.7637, 'train_samples_per_second': 268.423, 'train_steps_per_second': 16.776, 'train_loss': 0.39087216824957316, 'epoch': 2.23}\n"
          ]
        },
        {
          "name": "stderr",
          "output_type": "stream",
          "text": [
            "***** Running Prediction *****\n",
            "  Num examples = 872\n",
            "  Batch size = 1\n",
            "Didn't find file data/output/train_2022-08-21_03-00-18/train_634289e6_20_s=9223372036854775807,e=1.7893e-05,s=-1,s=3,e=16,d=32_2022-08-21_03-00-18/checkpoint-1391/added_tokens.json. We won't load it.\n",
            "loading file data/output/train_2022-08-21_03-00-18/train_634289e6_20_s=9223372036854775807,e=1.7893e-05,s=-1,s=3,e=16,d=32_2022-08-21_03-00-18/checkpoint-1391/vocab.txt\n",
            "loading file data/output/train_2022-08-21_03-00-18/train_634289e6_20_s=9223372036854775807,e=1.7893e-05,s=-1,s=3,e=16,d=32_2022-08-21_03-00-18/checkpoint-1391/tokenizer.json\n",
            "loading file None\n",
            "loading file data/output/train_2022-08-21_03-00-18/train_634289e6_20_s=9223372036854775807,e=1.7893e-05,s=-1,s=3,e=16,d=32_2022-08-21_03-00-18/checkpoint-1391/special_tokens_map.json\n",
            "loading file data/output/train_2022-08-21_03-00-18/train_634289e6_20_s=9223372036854775807,e=1.7893e-05,s=-1,s=3,e=16,d=32_2022-08-21_03-00-18/checkpoint-1391/tokenizer_config.json\n",
            "[flaml.automl: 08-21 03:02:30] {3319} INFO -  at 722.7s,\testimator transformer's best error=0.1514,\tbest estimator transformer's best error=0.1514\n",
            "INFO:flaml.automl: at 722.7s,\testimator transformer's best error=0.1514,\tbest estimator transformer's best error=0.1514\n",
            "[flaml.automl: 08-21 03:02:30] {3133} INFO - iteration 6, current learner transformer\n",
            "INFO:flaml.automl:iteration 6, current learner transformer\n",
            "/usr/local/lib/python3.7/dist-packages/transformers/optimization.py:309: FutureWarning: This implementation of AdamW is deprecated and will be removed in a future version. Use the PyTorch implementation torch.optim.AdamW instead, or set `no_deprecation_warning=True` to disable this warning\n",
            "  FutureWarning,\n"
          ]
        },
        {
          "name": "stdout",
          "output_type": "stream",
          "text": [
            "{'loss': 0.6593, 'learning_rate': 4.3452939856201385e-06, 'epoch': 0.8}\n",
            "{'loss': 0.5039, 'learning_rate': 2.76518708175827e-06, 'epoch': 1.6}\n",
            "{'eval_loss': 0.4441715180873871, 'eval_automl_metric': 0.18463302752293576, 'eval_runtime': 10.6465, 'eval_samples_per_second': 81.905, 'eval_steps_per_second': 81.905, 'epoch': 2.0}\n",
            "{'eval_loss': 0.444117933511734, 'eval_automl_metric': 0.18463302752293576, 'eval_runtime': 10.6581, 'eval_samples_per_second': 81.815, 'eval_steps_per_second': 81.815, 'epoch': 2.0}\n",
            "{'eval_loss': 0.444117933511734, 'eval_automl_metric': 0.18463302752293576, 'eval_runtime': 10.659, 'eval_samples_per_second': 81.809, 'eval_steps_per_second': 81.809, 'epoch': 2.0}\n",
            "{'train_runtime': 103.8522, 'train_samples_per_second': 288.872, 'train_steps_per_second': 18.055, 'train_loss': 0.5531763736959651, 'epoch': 2.0}\n"
          ]
        },
        {
          "name": "stderr",
          "output_type": "stream",
          "text": [
            "***** Running Prediction *****\n",
            "  Num examples = 872\n",
            "  Batch size = 1\n",
            "Didn't find file data/output/train_2022-08-21_03-02-30/train_b2206e84_21_s=9223372036854775807,e=5.9254e-06,s=-1,s=3,e=16,d=20_2022-08-21_03-02-30/checkpoint-1250/added_tokens.json. We won't load it.\n",
            "loading file data/output/train_2022-08-21_03-02-30/train_b2206e84_21_s=9223372036854775807,e=5.9254e-06,s=-1,s=3,e=16,d=20_2022-08-21_03-02-30/checkpoint-1250/vocab.txt\n",
            "loading file data/output/train_2022-08-21_03-02-30/train_b2206e84_21_s=9223372036854775807,e=5.9254e-06,s=-1,s=3,e=16,d=20_2022-08-21_03-02-30/checkpoint-1250/tokenizer.json\n",
            "loading file None\n",
            "loading file data/output/train_2022-08-21_03-02-30/train_b2206e84_21_s=9223372036854775807,e=5.9254e-06,s=-1,s=3,e=16,d=20_2022-08-21_03-02-30/checkpoint-1250/special_tokens_map.json\n",
            "loading file data/output/train_2022-08-21_03-02-30/train_b2206e84_21_s=9223372036854775807,e=5.9254e-06,s=-1,s=3,e=16,d=20_2022-08-21_03-02-30/checkpoint-1250/tokenizer_config.json\n",
            "[flaml.automl: 08-21 03:04:34] {3319} INFO -  at 847.0s,\testimator transformer's best error=0.1514,\tbest estimator transformer's best error=0.1514\n",
            "INFO:flaml.automl: at 847.0s,\testimator transformer's best error=0.1514,\tbest estimator transformer's best error=0.1514\n",
            "[flaml.automl: 08-21 03:04:34] {3133} INFO - iteration 7, current learner transformer\n",
            "INFO:flaml.automl:iteration 7, current learner transformer\n",
            "/usr/local/lib/python3.7/dist-packages/transformers/optimization.py:309: FutureWarning: This implementation of AdamW is deprecated and will be removed in a future version. Use the PyTorch implementation torch.optim.AdamW instead, or set `no_deprecation_warning=True` to disable this warning\n",
            "  FutureWarning,\n"
          ]
        },
        {
          "name": "stdout",
          "output_type": "stream",
          "text": [
            "{'loss': 0.4949, 'learning_rate': 1.624682269684853e-05, 'epoch': 0.8}\n",
            "{'loss': 0.3234, 'learning_rate': 1.0338887170721792e-05, 'epoch': 1.6}\n",
            "{'eval_loss': 0.34439605474472046, 'eval_automl_metric': 0.13188073394495414, 'eval_runtime': 10.6017, 'eval_samples_per_second': 82.251, 'eval_steps_per_second': 82.251, 'epoch': 2.0}\n",
            "{'eval_loss': 0.3457942605018616, 'eval_automl_metric': 0.13188073394495414, 'eval_runtime': 10.539, 'eval_samples_per_second': 82.74, 'eval_steps_per_second': 82.74, 'epoch': 2.0}\n",
            "{'eval_loss': 0.3457942605018616, 'eval_automl_metric': 0.13188073394495414, 'eval_runtime': 10.661, 'eval_samples_per_second': 81.794, 'eval_steps_per_second': 81.794, 'epoch': 2.0}\n",
            "{'train_runtime': 102.8292, 'train_samples_per_second': 291.746, 'train_steps_per_second': 18.234, 'train_loss': 0.39010055993291304, 'epoch': 2.0}\n"
          ]
        },
        {
          "name": "stderr",
          "output_type": "stream",
          "text": [
            "***** Running Prediction *****\n",
            "  Num examples = 872\n",
            "  Batch size = 1\n",
            "Didn't find file data/output/train_2022-08-21_03-04-34/train_fc3698e0_22_s=9223372036854775807,e=2.2155e-05,s=-1,s=3,e=16,d=24_2022-08-21_03-04-34/checkpoint-1250/added_tokens.json. We won't load it.\n",
            "loading file data/output/train_2022-08-21_03-04-34/train_fc3698e0_22_s=9223372036854775807,e=2.2155e-05,s=-1,s=3,e=16,d=24_2022-08-21_03-04-34/checkpoint-1250/vocab.txt\n",
            "loading file data/output/train_2022-08-21_03-04-34/train_fc3698e0_22_s=9223372036854775807,e=2.2155e-05,s=-1,s=3,e=16,d=24_2022-08-21_03-04-34/checkpoint-1250/tokenizer.json\n",
            "loading file None\n",
            "loading file data/output/train_2022-08-21_03-04-34/train_fc3698e0_22_s=9223372036854775807,e=2.2155e-05,s=-1,s=3,e=16,d=24_2022-08-21_03-04-34/checkpoint-1250/special_tokens_map.json\n",
            "loading file data/output/train_2022-08-21_03-04-34/train_fc3698e0_22_s=9223372036854775807,e=2.2155e-05,s=-1,s=3,e=16,d=24_2022-08-21_03-04-34/checkpoint-1250/tokenizer_config.json\n",
            "[flaml.automl: 08-21 03:06:38] {729} WARNING - checkpoint data/output/train_2022-08-21_02-53-36/train_7382565c_17_s=9223372036854775807,e=1.0297e-05,s=-1,s=3,e=16,d=26_2022-08-21_02-53-36/checkpoint-1875 not found\n",
            "WARNING:flaml.automl:checkpoint data/output/train_2022-08-21_02-53-36/train_7382565c_17_s=9223372036854775807,e=1.0297e-05,s=-1,s=3,e=16,d=26_2022-08-21_02-53-36/checkpoint-1875 not found\n",
            "[flaml.automl: 08-21 03:06:38] {3319} INFO -  at 971.1s,\testimator transformer's best error=0.1319,\tbest estimator transformer's best error=0.1319\n",
            "INFO:flaml.automl: at 971.1s,\testimator transformer's best error=0.1319,\tbest estimator transformer's best error=0.1319\n",
            "[flaml.automl: 08-21 03:06:38] {3133} INFO - iteration 8, current learner transformer\n",
            "INFO:flaml.automl:iteration 8, current learner transformer\n",
            "/usr/local/lib/python3.7/dist-packages/transformers/optimization.py:309: FutureWarning: This implementation of AdamW is deprecated and will be removed in a future version. Use the PyTorch implementation torch.optim.AdamW instead, or set `no_deprecation_warning=True` to disable this warning\n",
            "  FutureWarning,\n"
          ]
        },
        {
          "name": "stdout",
          "output_type": "stream",
          "text": [
            "{'loss': 0.5516, 'learning_rate': 2.1517120038185796e-05, 'epoch': 0.4}\n",
            "{'loss': 0.3741, 'learning_rate': 1.8206793878464904e-05, 'epoch': 0.8}\n",
            "{'eval_loss': 0.4729900658130646, 'eval_automl_metric': 0.1674311926605505, 'eval_runtime': 10.6305, 'eval_samples_per_second': 82.028, 'eval_steps_per_second': 82.028, 'epoch': 0.92}\n",
            "{'eval_loss': 0.4729900658130646, 'eval_automl_metric': 0.1674311926605505, 'eval_runtime': 10.6789, 'eval_samples_per_second': 81.656, 'eval_steps_per_second': 81.656, 'epoch': 0.92}\n",
            "{'train_runtime': 83.7502, 'train_samples_per_second': 358.208, 'train_steps_per_second': 44.776, 'train_loss': 0.450164735005164, 'epoch': 0.92}\n"
          ]
        },
        {
          "name": "stderr",
          "output_type": "stream",
          "text": [
            "***** Running Prediction *****\n",
            "  Num examples = 872\n",
            "  Batch size = 1\n",
            "Didn't find file data/output/train_2022-08-21_03-06-38/train_462df83a_23_s=9223372036854775807,e=2.4827e-05,s=-1,s=3,e=8,d=24_2022-08-21_03-06-38/checkpoint-1146/added_tokens.json. We won't load it.\n",
            "loading file data/output/train_2022-08-21_03-06-38/train_462df83a_23_s=9223372036854775807,e=2.4827e-05,s=-1,s=3,e=8,d=24_2022-08-21_03-06-38/checkpoint-1146/vocab.txt\n",
            "loading file data/output/train_2022-08-21_03-06-38/train_462df83a_23_s=9223372036854775807,e=2.4827e-05,s=-1,s=3,e=8,d=24_2022-08-21_03-06-38/checkpoint-1146/tokenizer.json\n",
            "loading file None\n",
            "loading file data/output/train_2022-08-21_03-06-38/train_462df83a_23_s=9223372036854775807,e=2.4827e-05,s=-1,s=3,e=8,d=24_2022-08-21_03-06-38/checkpoint-1146/special_tokens_map.json\n",
            "loading file data/output/train_2022-08-21_03-06-38/train_462df83a_23_s=9223372036854775807,e=2.4827e-05,s=-1,s=3,e=8,d=24_2022-08-21_03-06-38/checkpoint-1146/tokenizer_config.json\n",
            "[flaml.automl: 08-21 03:08:23] {3319} INFO -  at 1076.1s,\testimator transformer's best error=0.1319,\tbest estimator transformer's best error=0.1319\n",
            "INFO:flaml.automl: at 1076.1s,\testimator transformer's best error=0.1319,\tbest estimator transformer's best error=0.1319\n",
            "[flaml.automl: 08-21 03:08:23] {3133} INFO - iteration 9, current learner transformer\n",
            "INFO:flaml.automl:iteration 9, current learner transformer\n",
            "/usr/local/lib/python3.7/dist-packages/transformers/optimization.py:309: FutureWarning: This implementation of AdamW is deprecated and will be removed in a future version. Use the PyTorch implementation torch.optim.AdamW instead, or set `no_deprecation_warning=True` to disable this warning\n",
            "  FutureWarning,\n"
          ]
        },
        {
          "name": "stdout",
          "output_type": "stream",
          "text": [
            "{'loss': 0.4588, 'learning_rate': 9.24274365870653e-06, 'epoch': 1.6}\n",
            "{'eval_loss': 0.35305526852607727, 'eval_automl_metric': 0.14220183486238536, 'eval_runtime': 10.7298, 'eval_samples_per_second': 81.269, 'eval_steps_per_second': 81.269, 'epoch': 2.0}\n",
            "{'eval_loss': 0.3390190303325653, 'eval_automl_metric': 0.13876146788990829, 'eval_runtime': 10.6766, 'eval_samples_per_second': 81.674, 'eval_steps_per_second': 81.674, 'epoch': 2.22}\n",
            "{'eval_loss': 0.3390190303325653, 'eval_automl_metric': 0.13876146788990829, 'eval_runtime': 10.7321, 'eval_samples_per_second': 81.252, 'eval_steps_per_second': 81.252, 'epoch': 2.22}\n",
            "{'train_runtime': 76.0261, 'train_samples_per_second': 394.602, 'train_steps_per_second': 12.351, 'train_loss': 0.42033653918879177, 'epoch': 2.22}\n"
          ]
        },
        {
          "name": "stderr",
          "output_type": "stream",
          "text": [
            "***** Running Prediction *****\n",
            "  Num examples = 872\n",
            "  Batch size = 1\n",
            "Didn't find file data/output/train_2022-08-21_03-08-23/train_84bb5b06_24_s=9223372036854775807,e=1.977e-05,s=-1,s=3,e=32,d=24_2022-08-21_03-08-23/checkpoint-694/added_tokens.json. We won't load it.\n",
            "loading file data/output/train_2022-08-21_03-08-23/train_84bb5b06_24_s=9223372036854775807,e=1.977e-05,s=-1,s=3,e=32,d=24_2022-08-21_03-08-23/checkpoint-694/vocab.txt\n",
            "loading file data/output/train_2022-08-21_03-08-23/train_84bb5b06_24_s=9223372036854775807,e=1.977e-05,s=-1,s=3,e=32,d=24_2022-08-21_03-08-23/checkpoint-694/tokenizer.json\n",
            "loading file None\n",
            "loading file data/output/train_2022-08-21_03-08-23/train_84bb5b06_24_s=9223372036854775807,e=1.977e-05,s=-1,s=3,e=32,d=24_2022-08-21_03-08-23/checkpoint-694/special_tokens_map.json\n",
            "loading file data/output/train_2022-08-21_03-08-23/train_84bb5b06_24_s=9223372036854775807,e=1.977e-05,s=-1,s=3,e=32,d=24_2022-08-21_03-08-23/checkpoint-694/tokenizer_config.json\n",
            "[flaml.automl: 08-21 03:10:00] {3319} INFO -  at 1172.6s,\testimator transformer's best error=0.1319,\tbest estimator transformer's best error=0.1319\n",
            "INFO:flaml.automl: at 1172.6s,\testimator transformer's best error=0.1319,\tbest estimator transformer's best error=0.1319\n",
            "[flaml.automl: 08-21 03:10:00] {3133} INFO - iteration 10, current learner transformer\n",
            "INFO:flaml.automl:iteration 10, current learner transformer\n",
            "/usr/local/lib/python3.7/dist-packages/transformers/optimization.py:309: FutureWarning: This implementation of AdamW is deprecated and will be removed in a future version. Use the PyTorch implementation torch.optim.AdamW instead, or set `no_deprecation_warning=True` to disable this warning\n",
            "  FutureWarning,\n"
          ]
        },
        {
          "name": "stdout",
          "output_type": "stream",
          "text": [
            "{'loss': 0.5476, 'learning_rate': 1.0987792912546241e-05, 'epoch': 0.8}\n",
            "{'eval_loss': 0.41232776641845703, 'eval_automl_metric': 0.1594036697247706, 'eval_runtime': 10.5607, 'eval_samples_per_second': 82.57, 'eval_steps_per_second': 82.57, 'epoch': 1.35}\n",
            "{'eval_loss': 0.41232776641845703, 'eval_automl_metric': 0.1594036697247706, 'eval_runtime': 10.5165, 'eval_samples_per_second': 82.918, 'eval_steps_per_second': 82.918, 'epoch': 1.35}\n",
            "{'train_runtime': 68.5081, 'train_samples_per_second': 437.905, 'train_steps_per_second': 27.369, 'train_loss': 0.47965226870796485, 'epoch': 1.35}\n"
          ]
        },
        {
          "name": "stderr",
          "output_type": "stream",
          "text": [
            "***** Running Prediction *****\n",
            "  Num examples = 872\n",
            "  Batch size = 1\n",
            "Didn't find file data/output/train_2022-08-21_03-10-00/train_be42d944_25_s=9223372036854775807,e=1.4983e-05,s=-1,s=3,e=16,d=18_2022-08-21_03-10-00/checkpoint-841/added_tokens.json. We won't load it.\n",
            "loading file data/output/train_2022-08-21_03-10-00/train_be42d944_25_s=9223372036854775807,e=1.4983e-05,s=-1,s=3,e=16,d=18_2022-08-21_03-10-00/checkpoint-841/vocab.txt\n",
            "loading file data/output/train_2022-08-21_03-10-00/train_be42d944_25_s=9223372036854775807,e=1.4983e-05,s=-1,s=3,e=16,d=18_2022-08-21_03-10-00/checkpoint-841/tokenizer.json\n",
            "loading file None\n",
            "loading file data/output/train_2022-08-21_03-10-00/train_be42d944_25_s=9223372036854775807,e=1.4983e-05,s=-1,s=3,e=16,d=18_2022-08-21_03-10-00/checkpoint-841/special_tokens_map.json\n",
            "loading file data/output/train_2022-08-21_03-10-00/train_be42d944_25_s=9223372036854775807,e=1.4983e-05,s=-1,s=3,e=16,d=18_2022-08-21_03-10-00/checkpoint-841/tokenizer_config.json\n",
            "[flaml.automl: 08-21 03:11:29] {3319} INFO -  at 1262.0s,\testimator transformer's best error=0.1319,\tbest estimator transformer's best error=0.1319\n",
            "INFO:flaml.automl: at 1262.0s,\testimator transformer's best error=0.1319,\tbest estimator transformer's best error=0.1319\n",
            "[flaml.automl: 08-21 03:11:29] {3133} INFO - iteration 11, current learner transformer\n",
            "INFO:flaml.automl:iteration 11, current learner transformer\n",
            "/usr/local/lib/python3.7/dist-packages/transformers/optimization.py:309: FutureWarning: This implementation of AdamW is deprecated and will be removed in a future version. Use the PyTorch implementation torch.optim.AdamW instead, or set `no_deprecation_warning=True` to disable this warning\n",
            "  FutureWarning,\n"
          ]
        },
        {
          "name": "stdout",
          "output_type": "stream",
          "text": [
            "{'loss': 0.4679, 'learning_rate': 2.402295436797273e-05, 'epoch': 0.8}\n",
            "{'eval_loss': 0.3937930166721344, 'eval_automl_metric': 0.1513761467889908, 'eval_runtime': 10.5403, 'eval_samples_per_second': 82.73, 'eval_steps_per_second': 82.73, 'epoch': 1.14}\n",
            "{'eval_loss': 0.3937930166721344, 'eval_automl_metric': 0.1513761467889908, 'eval_runtime': 10.5525, 'eval_samples_per_second': 82.634, 'eval_steps_per_second': 82.634, 'epoch': 1.14}\n",
            "{'train_runtime': 61.8987, 'train_samples_per_second': 484.663, 'train_steps_per_second': 30.291, 'train_loss': 0.4275143780285799, 'epoch': 1.14}\n"
          ]
        },
        {
          "name": "stderr",
          "output_type": "stream",
          "text": [
            "***** Running Prediction *****\n",
            "  Num examples = 872\n",
            "  Batch size = 1\n",
            "Didn't find file data/output/train_2022-08-21_03-11-29/train_f38a7ed6_26_s=9223372036854775807,e=3.2759e-05,s=-1,s=3,e=16,d=30_2022-08-21_03-11-29/checkpoint-711/added_tokens.json. We won't load it.\n",
            "loading file data/output/train_2022-08-21_03-11-29/train_f38a7ed6_26_s=9223372036854775807,e=3.2759e-05,s=-1,s=3,e=16,d=30_2022-08-21_03-11-29/checkpoint-711/vocab.txt\n",
            "loading file data/output/train_2022-08-21_03-11-29/train_f38a7ed6_26_s=9223372036854775807,e=3.2759e-05,s=-1,s=3,e=16,d=30_2022-08-21_03-11-29/checkpoint-711/tokenizer.json\n",
            "loading file None\n",
            "loading file data/output/train_2022-08-21_03-11-29/train_f38a7ed6_26_s=9223372036854775807,e=3.2759e-05,s=-1,s=3,e=16,d=30_2022-08-21_03-11-29/checkpoint-711/special_tokens_map.json\n",
            "loading file data/output/train_2022-08-21_03-11-29/train_f38a7ed6_26_s=9223372036854775807,e=3.2759e-05,s=-1,s=3,e=16,d=30_2022-08-21_03-11-29/checkpoint-711/tokenizer_config.json\n",
            "[flaml.automl: 08-21 03:12:52] {3319} INFO -  at 1344.3s,\testimator transformer's best error=0.1319,\tbest estimator transformer's best error=0.1319\n",
            "INFO:flaml.automl: at 1344.3s,\testimator transformer's best error=0.1319,\tbest estimator transformer's best error=0.1319\n",
            "[flaml.automl: 08-21 03:12:52] {3133} INFO - iteration 12, current learner transformer\n",
            "INFO:flaml.automl:iteration 12, current learner transformer\n",
            "/usr/local/lib/python3.7/dist-packages/transformers/optimization.py:309: FutureWarning: This implementation of AdamW is deprecated and will be removed in a future version. Use the PyTorch implementation torch.optim.AdamW instead, or set `no_deprecation_warning=True` to disable this warning\n",
            "  FutureWarning,\n"
          ]
        },
        {
          "name": "stdout",
          "output_type": "stream",
          "text": [
            "{'loss': 0.4939, 'learning_rate': 2.1277689409714175e-05, 'epoch': 0.12}\n",
            "{'loss': 0.3558, 'learning_rate': 2.040062059645308e-05, 'epoch': 0.24}\n",
            "{'loss': 0.3081, 'learning_rate': 1.9523551783191982e-05, 'epoch': 0.36}\n",
            "{'loss': 0.2893, 'learning_rate': 1.8646482969930888e-05, 'epoch': 0.48}\n",
            "{'loss': 0.2667, 'learning_rate': 1.776941415666979e-05, 'epoch': 0.59}\n",
            "{'loss': 0.2576, 'learning_rate': 1.6892345343408696e-05, 'epoch': 0.71}\n",
            "{'loss': 0.2435, 'learning_rate': 1.60152765301476e-05, 'epoch': 0.83}\n",
            "{'loss': 0.2409, 'learning_rate': 1.5138207716886507e-05, 'epoch': 0.95}\n",
            "{'loss': 0.2148, 'learning_rate': 1.4261138903625411e-05, 'epoch': 1.07}\n",
            "{'loss': 0.2032, 'learning_rate': 1.3384070090364317e-05, 'epoch': 1.19}\n",
            "{'loss': 0.1991, 'learning_rate': 1.2507001277103219e-05, 'epoch': 1.31}\n",
            "{'loss': 0.2109, 'learning_rate': 1.1629932463842124e-05, 'epoch': 1.43}\n",
            "{'loss': 0.1921, 'learning_rate': 1.0752863650581028e-05, 'epoch': 1.54}\n",
            "{'loss': 0.1924, 'learning_rate': 9.875794837319934e-06, 'epoch': 1.66}\n",
            "{'loss': 0.1903, 'learning_rate': 8.99872602405884e-06, 'epoch': 1.78}\n",
            "{'loss': 0.1865, 'learning_rate': 8.121657210797743e-06, 'epoch': 1.9}\n",
            "{'eval_loss': 0.317385196685791, 'eval_automl_metric': 0.08944954128440363, 'eval_runtime': 10.4635, 'eval_samples_per_second': 83.338, 'eval_steps_per_second': 83.338, 'epoch': 1.93}\n",
            "{'eval_loss': 0.317385196685791, 'eval_automl_metric': 0.08944954128440363, 'eval_runtime': 10.5911, 'eval_samples_per_second': 82.333, 'eval_steps_per_second': 82.333, 'epoch': 1.93}\n",
            "{'train_runtime': 477.591, 'train_samples_per_second': 423.054, 'train_steps_per_second': 26.445, 'train_loss': 0.2517916716532359, 'epoch': 1.93}\n"
          ]
        },
        {
          "name": "stderr",
          "output_type": "stream",
          "text": [
            "***** Running Prediction *****\n",
            "  Num examples = 872\n",
            "  Batch size = 1\n",
            "Didn't find file data/output/train_2022-08-21_03-12-52/train_249deb52_27_s=9223372036854775807,e=2.2155e-05,s=-1,s=3,e=16,d=24_2022-08-21_03-12-52/checkpoint-8112/added_tokens.json. We won't load it.\n",
            "loading file data/output/train_2022-08-21_03-12-52/train_249deb52_27_s=9223372036854775807,e=2.2155e-05,s=-1,s=3,e=16,d=24_2022-08-21_03-12-52/checkpoint-8112/vocab.txt\n",
            "loading file data/output/train_2022-08-21_03-12-52/train_249deb52_27_s=9223372036854775807,e=2.2155e-05,s=-1,s=3,e=16,d=24_2022-08-21_03-12-52/checkpoint-8112/tokenizer.json\n",
            "loading file None\n",
            "loading file data/output/train_2022-08-21_03-12-52/train_249deb52_27_s=9223372036854775807,e=2.2155e-05,s=-1,s=3,e=16,d=24_2022-08-21_03-12-52/checkpoint-8112/special_tokens_map.json\n",
            "loading file data/output/train_2022-08-21_03-12-52/train_249deb52_27_s=9223372036854775807,e=2.2155e-05,s=-1,s=3,e=16,d=24_2022-08-21_03-12-52/checkpoint-8112/tokenizer_config.json\n",
            "[flaml.automl: 08-21 03:21:35] {729} WARNING - checkpoint data/output/train_2022-08-21_03-04-34/train_fc3698e0_22_s=9223372036854775807,e=2.2155e-05,s=-1,s=3,e=16,d=24_2022-08-21_03-04-34/checkpoint-1250 not found\n",
            "WARNING:flaml.automl:checkpoint data/output/train_2022-08-21_03-04-34/train_fc3698e0_22_s=9223372036854775807,e=2.2155e-05,s=-1,s=3,e=16,d=24_2022-08-21_03-04-34/checkpoint-1250 not found\n",
            "[flaml.automl: 08-21 03:21:35] {3319} INFO -  at 1867.4s,\testimator transformer's best error=0.0894,\tbest estimator transformer's best error=0.0894\n",
            "INFO:flaml.automl: at 1867.4s,\testimator transformer's best error=0.0894,\tbest estimator transformer's best error=0.0894\n",
            "[flaml.automl: 08-21 03:21:35] {3434} INFO - selected model: None\n",
            "INFO:flaml.automl:selected model: None\n",
            "[flaml.automl: 08-21 03:21:35] {2862} INFO - fit succeeded\n",
            "INFO:flaml.automl:fit succeeded\n",
            "[flaml.automl: 08-21 03:21:35] {2864} INFO - Time taken to find the best model: 1867.4163627624512\n",
            "INFO:flaml.automl:Time taken to find the best model: 1867.4163627624512\n",
            "[flaml.automl: 08-21 03:21:35] {2878} WARNING - Time taken to find the best model is 104% of the provided time budget and not all estimators' hyperparameter search converged. Consider increasing the time budget.\n",
            "WARNING:flaml.automl:Time taken to find the best model is 104% of the provided time budget and not all estimators' hyperparameter search converged. Consider increasing the time budget.\n"
          ]
        }
      ],
      "source": [
        "'''The main flaml automl API'''\n",
        "automl.fit(X_train=X_train, y_train=y_train, X_val=X_val, y_val=y_val, **automl_settings)"
      ]
    },
    {
      "cell_type": "markdown",
      "metadata": {
        "id": "Ehn1SDb5xAH9"
      },
      "source": [
        "The run searched for 9 trials. We can print the best trial's loss, which is 1-the accuracy. The accuracy we got is 91.0% which is close to 91.2% reported by [the Electra model github](https://github.com/google-research/electra). "
      ]
    },
    {
      "cell_type": "code",
      "execution_count": 25,
      "metadata": {
        "colab": {
          "base_uri": "https://localhost:8080/"
        },
        "id": "qbTAqBsnTjhG",
        "outputId": "08c88e0e-0fd8-4b76-8275-e8893c4fe0b1"
      },
      "outputs": [
        {
          "name": "stdout",
          "output_type": "stream",
          "text": [
            "The best loss by FLAML: 0.9105504587155964\n"
          ]
        }
      ],
      "source": [
        "print(\"The best loss by FLAML: {}\".format(1-automl.best_loss))"
      ]
    },
    {
      "cell_type": "markdown",
      "metadata": {
        "id": "wcO2th5M6AIu"
      },
      "source": [
        "If you have more GPUs on your server, you can use flaml.tune with the ray tune option, which will often give you a better score. For example, with the 4 NVIDIA V100 GPUs, the accuracy was 92.2%. For that experiment, you can open this notebook on your GPU server and set \"use_ray\" to {\"local_dir\": \"data/output/\"} and n_concurrent_trials to more than 1. "
      ]
    },
    {
      "cell_type": "markdown",
      "metadata": {
        "id": "QFP5JNdPTjhG"
      },
      "source": [
        "### Best model and metric"
      ]
    },
    {
      "cell_type": "markdown",
      "metadata": {
        "id": "mY07pTY_xlIV"
      },
      "source": [
        "Next, we can print the best hyperparameter and the best score:"
      ]
    },
    {
      "cell_type": "code",
      "execution_count": 26,
      "metadata": {
        "colab": {
          "base_uri": "https://localhost:8080/"
        },
        "id": "sbnhP3WrTjhG",
        "outputId": "e7be276a-d30f-4dde-acea-d7b00107a161"
      },
      "outputs": [
        {
          "name": "stdout",
          "output_type": "stream",
          "text": [
            "Best hyperparmeter config: {'learning_rate': 2.215475822297527e-05, 'num_train_epochs': 3, 'per_device_train_batch_size': 16, 'seed': 24, 'global_max_steps': 8112, 'FLAML_sample_size': 67349}\n",
            "Best accuracy on validation data: 0.9106\n",
            "Training duration of best run: 523.1 s\n"
          ]
        }
      ],
      "source": [
        "'''retrieve best config and best learner'''\n",
        "print('Best hyperparmeter config:', automl.best_config)\n",
        "print('Best accuracy on validation data: {0:.4g}'.format(1-automl.best_loss))\n",
        "print('Training duration of best run: {0:.4g} s'.format(automl.best_config_train_time))"
      ]
    },
    {
      "cell_type": "markdown",
      "metadata": {
        "id": "MqIpmxl0dKWu"
      },
      "source": [
        "Save and load the model:"
      ]
    },
    {
      "cell_type": "code",
      "execution_count": 27,
      "metadata": {
        "id": "gfUNXfcNTBA2"
      },
      "outputs": [],
      "source": [
        "import pickle\n",
        "automl.pickle(\"automl.pkl\")\n",
        "\n",
        "with open(\"automl.pkl\", \"rb\") as f:\n",
        "    automl = pickle.load(f)"
      ]
    },
    {
      "cell_type": "markdown",
      "metadata": {
        "id": "6mdBURdexxJS"
      },
      "source": [
        "Run the prediction:\n",
        "\n",
        "\n"
      ]
    },
    {
      "cell_type": "code",
      "execution_count": 28,
      "metadata": {
        "colab": {
          "base_uri": "https://localhost:8080/"
        },
        "id": "kRl7pnEKTjhH",
        "outputId": "19b17fb3-cf01-472c-958d-1511be54379d",
        "scrolled": true
      },
      "outputs": [
        {
          "name": "stderr",
          "output_type": "stream",
          "text": [
            "***** Running Prediction *****\n",
            "  Num examples = 872\n",
            "  Batch size = 1\n",
            "Didn't find file data/output/train_2022-08-21_03-12-52/train_249deb52_27_s=9223372036854775807,e=2.2155e-05,s=-1,s=3,e=16,d=24_2022-08-21_03-12-52/checkpoint-8112/added_tokens.json. We won't load it.\n",
            "loading file data/output/train_2022-08-21_03-12-52/train_249deb52_27_s=9223372036854775807,e=2.2155e-05,s=-1,s=3,e=16,d=24_2022-08-21_03-12-52/checkpoint-8112/vocab.txt\n",
            "loading file data/output/train_2022-08-21_03-12-52/train_249deb52_27_s=9223372036854775807,e=2.2155e-05,s=-1,s=3,e=16,d=24_2022-08-21_03-12-52/checkpoint-8112/tokenizer.json\n",
            "loading file None\n",
            "loading file data/output/train_2022-08-21_03-12-52/train_249deb52_27_s=9223372036854775807,e=2.2155e-05,s=-1,s=3,e=16,d=24_2022-08-21_03-12-52/checkpoint-8112/special_tokens_map.json\n",
            "loading file data/output/train_2022-08-21_03-12-52/train_249deb52_27_s=9223372036854775807,e=2.2155e-05,s=-1,s=3,e=16,d=24_2022-08-21_03-12-52/checkpoint-8112/tokenizer_config.json\n"
          ]
        },
        {
          "name": "stdout",
          "output_type": "stream",
          "text": [
            "Predicted labels [1 1 1 1 0 1 0 0 1 0 1 0 0 0 0 1 1 1 0 0 0 0 0 1 1 0 0 1 0 0 1 0 1 0 0 0 1\n",
            " 0 1 1 1 1 1 1 0 0 0 1 1 0 0 1 1 1 0 1 0 0 0 0 1 0 1 1 1 0 1 1 1 0 0 1 1 1\n",
            " 0 1 0 1 1 0 1 0 0 1 1 1 0 1 1 1 1 1 1 0 1 1 1 1 0 0 1 0 1 1 1 0 1 0 0 1 0\n",
            " 0 1 0 1 1 1 1 0 0 1 1 1 0 1 1 0 0 1 1 0 0 1 0 0 1 0 0 1 0 0 0 1 1 0 0 1 0\n",
            " 0 1 1 1 1 0 1 0 1 0 1 1 0 0 0 0 1 0 0 0 1 1 1 1 1 0 1 1 1 0 0 1 0 0 0 1 0\n",
            " 1 1 1 0 0 0 1 1 1 1 1 1 0 1 0 1 1 0 0 1 1 1 1 0 0 1 0 0 1 0 0 1 0 1 1 1 0\n",
            " 1 1 1 1 0 1 1 0 1 1 0 0 1 1 1 0 0 1 1 0 0 1 1 1 1 0 0 1 1 0 1 1 0 0 0 0 0\n",
            " 1 0 1 0 1 0 0 0 0 0 0 1 0 0 1 1 1 1 1 0 1 1 0 0 1 0 0 1 1 1 1 1 0 1 1 1 1\n",
            " 0 1 0 1 1 1 1 1 1 0 1 1 1 1 1 1 0 1 1 0 1 1 0 0 1 0 0 1 0 1 1 1 0 0 0 1 1\n",
            " 1 1 0 1 0 0 1 0 1 0 0 1 1 0 0 0 0 0 1 1 1 1 0 0 0 0 1 1 0 1 0 0 0 1 1 0 1\n",
            " 0 1 1 0 0 0 0 0 0 0 0 1 0 1 0 1 1 1 0 1 0 0 0 1 1 1 1 1 1 0 1 1 1 0 1 0 1\n",
            " 0 0 0 1 1 0 0 1 1 1 1 1 0 0 1 1 0 1 1 1 1 1 0 1 0 0 1 0 1 0 1 1 1 1 0 1 1\n",
            " 0 1 1 1 0 1 1 1 0 1 0 1 0 1 1 1 1 0 0 0 0 0 1 1 1 0 1 0 1 1 0 1 0 1 1 1 1\n",
            " 1 1 1 1 1 0 0 1 0 0 0 1 0 1 1 1 0 1 1 0 0 0 0 1 1 1 1 1 1 1 1 0 1 1 0 0 1\n",
            " 1 1 1 0 0 1 1 1 0 0 1 0 1 0 1 1 1 1 0 1 0 0 1 1 0 0 1 0 1 0 0 0 0 0 0 1 0\n",
            " 0 0 1 1 0 0 0 0 1 0 1 0 1 0 1 1 1 0 1 0 0 0 1 0 0 1 0 0 0 0 0 0 0 1 1 0 0\n",
            " 0 1 1 0 0 0 0 0 1 0 1 1 1 1 0 1 1 1 0 1 1 1 1 0 1 1 1 0 0 1 1 1 1 1 1 0 1\n",
            " 0 1 0 0 1 1 0 1 0 1 0 1 1 0 0 1 0 1 0 1 0 0 0 0 0 0 1 1 0 1 0 1 0 0 1 1 1\n",
            " 1 1 0 1 0 1 0 0 1 1 0 1 1 1 1 0 0 1 1 0 1 0 0 1 0 1 1 0 0 1 1 1 1 0 0 0 0\n",
            " 0 1 0 0 0 1 0 0 0 0 0 1 0 1 1 1 0 1 1 0 1 0 1 1 0 1 1 0 0 0 1 0 0 1 1 1 1\n",
            " 1 1 1 0 1 0 1 1 0 0 0 0 0 1 1 1 0 0 1 0 0 0 1 1 0 0 1 1 1 1 0 1 1 1 0 0 0\n",
            " 1 1 0 1 0 1 1 1 1 0 0 1 0 0 1 1 1 1 0 1 0 0 1 0 0 0 1 0 1 1 1 1 1 1 0 1 1\n",
            " 0 1 1 1 0 0 1 1 0 1 0 1 1 1 0 1 1 1 0 0 1 1 0 1 0 0 0 1 0 0 0 0 1 1 1 1 0\n",
            " 0 0 1 0 1 1 1 1 1 1 1 1 0 0 0 1 0 1 0 1 1]\n"
          ]
        }
      ],
      "source": [
        "'''compute predictions of testing dataset''' \n",
        "y_pred = automl.predict(X_val, **{\"per_device_eval_batch_size\": 1})\n",
        "print('Predicted labels', y_pred)"
      ]
    },
    {
      "cell_type": "markdown",
      "metadata": {
        "id": "QThcVssKTjhH"
      },
      "source": [
        "### Log history"
      ]
    },
    {
      "cell_type": "markdown",
      "metadata": {
        "id": "OEFqWAuLyYIQ"
      },
      "source": [
        "You can also save and plot the history:"
      ]
    },
    {
      "cell_type": "code",
      "execution_count": 29,
      "metadata": {
        "colab": {
          "base_uri": "https://localhost:8080/"
        },
        "id": "58wpj4vPTjhH",
        "outputId": "bbd9850e-dc0e-416b-d9eb-342bb4a3a052"
      },
      "outputs": [
        {
          "name": "stdout",
          "output_type": "stream",
          "text": [
            "{'Current Learner': 'transformer', 'Current Sample': 10000, 'Current Hyper-parameters': {'learning_rate': 9.999999999999999e-06, 'num_train_epochs': 3, 'per_device_train_batch_size': 32, 'seed': 20, 'global_max_steps': 939, 'FLAML_sample_size': 10000}, 'Best Learner': 'transformer', 'Best Hyper-parameters': {'learning_rate': 9.999999999999999e-06, 'num_train_epochs': 3, 'per_device_train_batch_size': 32, 'seed': 20, 'global_max_steps': 939, 'FLAML_sample_size': 10000}}\n",
            "{'Current Learner': 'transformer', 'Current Sample': 10000, 'Current Hyper-parameters': {'learning_rate': 9.711865003865157e-06, 'num_train_epochs': 3, 'per_device_train_batch_size': 64, 'seed': 14, 'global_max_steps': 471, 'FLAML_sample_size': 10000}, 'Best Learner': 'transformer', 'Best Hyper-parameters': {'learning_rate': 9.999999999999999e-06, 'num_train_epochs': 3, 'per_device_train_batch_size': 32, 'seed': 20, 'global_max_steps': 939, 'FLAML_sample_size': 10000}}\n",
            "{'Current Learner': 'transformer', 'Current Sample': 10000, 'Current Hyper-parameters': {'learning_rate': 1.0296683485633468e-05, 'num_train_epochs': 3, 'per_device_train_batch_size': 16, 'seed': 26, 'global_max_steps': 1875, 'FLAML_sample_size': 10000}, 'Best Learner': 'transformer', 'Best Hyper-parameters': {'learning_rate': 1.0296683485633468e-05, 'num_train_epochs': 3, 'per_device_train_batch_size': 16, 'seed': 26, 'global_max_steps': 1875, 'FLAML_sample_size': 10000}}\n",
            "{'Current Learner': 'transformer', 'Current Sample': 10000, 'Current Hyper-parameters': {'learning_rate': 1.4799994583688665e-05, 'num_train_epochs': 2, 'per_device_train_batch_size': 16, 'seed': 25, 'global_max_steps': 1250, 'FLAML_sample_size': 10000}, 'Best Learner': 'transformer', 'Best Hyper-parameters': {'learning_rate': 1.0296683485633468e-05, 'num_train_epochs': 3, 'per_device_train_batch_size': 16, 'seed': 26, 'global_max_steps': 1875, 'FLAML_sample_size': 10000}}\n",
            "{'Current Learner': 'transformer', 'Current Sample': 10000, 'Current Hyper-parameters': {'learning_rate': 7.163630378633069e-06, 'num_train_epochs': 4, 'per_device_train_batch_size': 16, 'seed': 27, 'global_max_steps': 1803, 'FLAML_sample_size': 10000}, 'Best Learner': 'transformer', 'Best Hyper-parameters': {'learning_rate': 1.0296683485633468e-05, 'num_train_epochs': 3, 'per_device_train_batch_size': 16, 'seed': 26, 'global_max_steps': 1875, 'FLAML_sample_size': 10000}}\n",
            "{'Current Learner': 'transformer', 'Current Sample': 10000, 'Current Hyper-parameters': {'learning_rate': 1.789274561853069e-05, 'num_train_epochs': 3, 'per_device_train_batch_size': 16, 'seed': 32, 'global_max_steps': 1391, 'FLAML_sample_size': 10000}, 'Best Learner': 'transformer', 'Best Hyper-parameters': {'learning_rate': 1.0296683485633468e-05, 'num_train_epochs': 3, 'per_device_train_batch_size': 16, 'seed': 26, 'global_max_steps': 1875, 'FLAML_sample_size': 10000}}\n",
            "{'Current Learner': 'transformer', 'Current Sample': 10000, 'Current Hyper-parameters': {'learning_rate': 5.925400889482007e-06, 'num_train_epochs': 3, 'per_device_train_batch_size': 16, 'seed': 20, 'global_max_steps': 1250, 'FLAML_sample_size': 10000}, 'Best Learner': 'transformer', 'Best Hyper-parameters': {'learning_rate': 1.0296683485633468e-05, 'num_train_epochs': 3, 'per_device_train_batch_size': 16, 'seed': 26, 'global_max_steps': 1875, 'FLAML_sample_size': 10000}}\n",
            "{'Current Learner': 'transformer', 'Current Sample': 10000, 'Current Hyper-parameters': {'learning_rate': 2.215475822297527e-05, 'num_train_epochs': 3, 'per_device_train_batch_size': 16, 'seed': 24, 'global_max_steps': 1250, 'FLAML_sample_size': 10000}, 'Best Learner': 'transformer', 'Best Hyper-parameters': {'learning_rate': 2.215475822297527e-05, 'num_train_epochs': 3, 'per_device_train_batch_size': 16, 'seed': 24, 'global_max_steps': 1250, 'FLAML_sample_size': 10000}}\n",
            "{'Current Learner': 'transformer', 'Current Sample': 10000, 'Current Hyper-parameters': {'learning_rate': 2.4827446197906688e-05, 'num_train_epochs': 3, 'per_device_train_batch_size': 8, 'seed': 24, 'global_max_steps': 1146, 'FLAML_sample_size': 10000}, 'Best Learner': 'transformer', 'Best Hyper-parameters': {'learning_rate': 2.215475822297527e-05, 'num_train_epochs': 3, 'per_device_train_batch_size': 16, 'seed': 24, 'global_max_steps': 1250, 'FLAML_sample_size': 10000}}\n",
            "{'Current Learner': 'transformer', 'Current Sample': 10000, 'Current Hyper-parameters': {'learning_rate': 1.9769786550171826e-05, 'num_train_epochs': 3, 'per_device_train_batch_size': 32, 'seed': 24, 'global_max_steps': 694, 'FLAML_sample_size': 10000}, 'Best Learner': 'transformer', 'Best Hyper-parameters': {'learning_rate': 2.215475822297527e-05, 'num_train_epochs': 3, 'per_device_train_batch_size': 16, 'seed': 24, 'global_max_steps': 1250, 'FLAML_sample_size': 10000}}\n",
            "{'Current Learner': 'transformer', 'Current Sample': 10000, 'Current Hyper-parameters': {'learning_rate': 1.4983353971653967e-05, 'num_train_epochs': 3, 'per_device_train_batch_size': 16, 'seed': 18, 'global_max_steps': 841, 'FLAML_sample_size': 10000}, 'Best Learner': 'transformer', 'Best Hyper-parameters': {'learning_rate': 2.215475822297527e-05, 'num_train_epochs': 3, 'per_device_train_batch_size': 16, 'seed': 24, 'global_max_steps': 1250, 'FLAML_sample_size': 10000}}\n",
            "{'Current Learner': 'transformer', 'Current Sample': 10000, 'Current Hyper-parameters': {'learning_rate': 3.2758574138144633e-05, 'num_train_epochs': 3, 'per_device_train_batch_size': 16, 'seed': 30, 'global_max_steps': 711, 'FLAML_sample_size': 10000}, 'Best Learner': 'transformer', 'Best Hyper-parameters': {'learning_rate': 2.215475822297527e-05, 'num_train_epochs': 3, 'per_device_train_batch_size': 16, 'seed': 24, 'global_max_steps': 1250, 'FLAML_sample_size': 10000}}\n",
            "{'Current Learner': 'transformer', 'Current Sample': 67349, 'Current Hyper-parameters': {'learning_rate': 2.215475822297527e-05, 'num_train_epochs': 3, 'per_device_train_batch_size': 16, 'seed': 24, 'global_max_steps': 8112, 'FLAML_sample_size': 67349}, 'Best Learner': 'transformer', 'Best Hyper-parameters': {'learning_rate': 2.215475822297527e-05, 'num_train_epochs': 3, 'per_device_train_batch_size': 16, 'seed': 24, 'global_max_steps': 8112, 'FLAML_sample_size': 67349}}\n"
          ]
        }
      ],
      "source": [
        "from flaml.data import get_output_from_log\n",
        "time_history, best_valid_loss_history, valid_loss_history, config_history, metric_history = \\\n",
        "    get_output_from_log(filename=automl_settings['log_file_name'], time_budget=3000)\n",
        "for config in config_history:\n",
        "    print(config)"
      ]
    },
    {
      "cell_type": "code",
      "execution_count": 30,
      "metadata": {
        "colab": {
          "base_uri": "https://localhost:8080/",
          "height": 312
        },
        "id": "dtWSrLsdTjhH",
        "outputId": "dfe4f9c5-f9b7-4a7d-d519-4d4a24647aa4"
      },
      "outputs": [
        {
          "name": "stdout",
          "output_type": "stream",
          "text": [
            "13\n"
          ]
        },
        {
          "data": {
            "image/png": "[encoded data removed]",
            "text/plain": [
              "<Figure size 432x288 with 1 Axes>"
            ]
          },
          "metadata": {
            "needs_background": "light"
          },
          "output_type": "display_data"
        }
      ],
      "source": [
        "import matplotlib.pyplot as plt\n",
        "import numpy as np\n",
        "\n",
        "plt.title('Learning Curve')\n",
        "plt.xlabel('Wall Clock Time (s)')\n",
        "plt.ylabel('Validation Accuracy')\n",
        "print(len(valid_loss_history))\n",
        "plt.scatter(time_history, 1 - np.array(valid_loss_history))\n",
        "plt.step(time_history, 1 - np.array(best_valid_loss_history), where='post')\n",
        "plt.show()"
      ]
    },
    {
      "cell_type": "markdown",
      "metadata": {
        "id": "xudzM73mTjhI"
      },
      "source": [
        "## 3. Model selection"
      ]
    },
    {
      "cell_type": "markdown",
      "metadata": {
        "id": "A3gC3u_E4cO1"
      },
      "source": [
        "Given a dataset, which language model should you use for the fine tuning? It appears this is a simple question: just choose the best model according to the benchmarks such as [GLUE](https://gluebenchmark.com/leaderboard). However, we will see that under the resource constraints, the model selection is non trivial. \n",
        "\n",
        "In this example, we will tune the [spooky-author-identification](https://www.kaggle.com/competitions/spooky-author-identification/data?select=train.zip) dataset from kaggle. You can download the dataset from the website and upload it to Colab. We run FLAML for 30 mins using bert."
      ]
    },
    {
      "cell_type": "code",
      "execution_count": null,
      "metadata": {
        "colab": {
          "base_uri": "https://localhost:8080/"
        },
        "id": "HjvdojhfTjhI",
        "outputId": "c8848ff9-1ce3-4632-84aa-0a8199a7fce9"
      },
      "outputs": [
        {
          "name": "stderr",
          "output_type": "stream",
          "text": [
            "[flaml.automl: 08-19 14:50:41] {2540} INFO - task = seq-classification\n",
            "INFO:flaml.automl:task = seq-classification\n",
            "[flaml.automl: 08-19 14:50:41] {2542} INFO - Data split method: stratified\n",
            "INFO:flaml.automl:Data split method: stratified\n",
            "[flaml.automl: 08-19 14:50:41] {2545} INFO - Evaluation method: holdout\n",
            "INFO:flaml.automl:Evaluation method: holdout\n",
            "[flaml.automl: 08-19 14:50:41] {2664} INFO - Minimizing error metric: 1-accuracy\n",
            "INFO:flaml.automl:Minimizing error metric: 1-accuracy\n",
            "[flaml.automl: 08-19 14:50:41] {2806} INFO - List of ML learners in AutoML Run: ['transformer']\n",
            "INFO:flaml.automl:List of ML learners in AutoML Run: ['transformer']\n",
            "[flaml.automl: 08-19 14:50:41] {3108} INFO - iteration 0, current learner transformer\n",
            "INFO:flaml.automl:iteration 0, current learner transformer\n",
            "/usr/local/lib/python3.7/dist-packages/transformers/optimization.py:309: FutureWarning: This implementation of AdamW is deprecated and will be removed in a future version. Use the PyTorch implementation torch.optim.AdamW instead, or set `no_deprecation_warning=True` to disable this warning\n",
            "  FutureWarning,\n"
          ]
        },
        {
          "name": "stdout",
          "output_type": "stream",
          "text": [
            "{'eval_loss': 0.8782516717910767, 'eval_automl_metric': 0.3650663942798774, 'eval_runtime': 63.6528, 'eval_samples_per_second': 76.902, 'eval_steps_per_second': 76.902, 'epoch': 0.3}\n",
            "{'train_runtime': 136.3771, 'train_samples_per_second': 32.302, 'train_steps_per_second': 1.012, 'train_loss': 0.9700310748556386, 'epoch': 0.3}\n"
          ]
        },
        {
          "name": "stderr",
          "output_type": "stream",
          "text": [
            "The following columns in the test set  don't have a corresponding argument in `BertForSequenceClassification.forward` and have been ignored: __index_level_0__. If __index_level_0__ are not expected by `BertForSequenceClassification.forward`,  you can safely ignore this message.\n",
            "***** Running Prediction *****\n",
            "  Num examples = 4895\n",
            "  Batch size = 1\n",
            "Didn't find file data/output/train_2022-08-19_14-50-41/train_4ba0c0a8_18_s=9223372036854775807,e=1e-05,s=-1,s=0.3,e=32,d=20_2022-08-19_14-50-41/checkpoint-138/added_tokens.json. We won't load it.\n",
            "loading file data/output/train_2022-08-19_14-50-41/train_4ba0c0a8_18_s=9223372036854775807,e=1e-05,s=-1,s=0.3,e=32,d=20_2022-08-19_14-50-41/checkpoint-138/vocab.txt\n",
            "loading file data/output/train_2022-08-19_14-50-41/train_4ba0c0a8_18_s=9223372036854775807,e=1e-05,s=-1,s=0.3,e=32,d=20_2022-08-19_14-50-41/checkpoint-138/tokenizer.json\n",
            "loading file None\n",
            "loading file data/output/train_2022-08-19_14-50-41/train_4ba0c0a8_18_s=9223372036854775807,e=1e-05,s=-1,s=0.3,e=32,d=20_2022-08-19_14-50-41/checkpoint-138/special_tokens_map.json\n",
            "loading file data/output/train_2022-08-19_14-50-41/train_4ba0c0a8_18_s=9223372036854775807,e=1e-05,s=-1,s=0.3,e=32,d=20_2022-08-19_14-50-41/checkpoint-138/tokenizer_config.json\n",
            "[flaml.automl: 08-19 14:54:42] {3242} INFO - Estimated sufficient time budget=2413758s. Estimated necessary time budget=2414s.\n",
            "INFO:flaml.automl:Estimated sufficient time budget=2413758s. Estimated necessary time budget=2414s.\n",
            "[flaml.automl: 08-19 14:54:42] {3294} INFO -  at 241.5s,\testimator transformer's best error=0.3651,\tbest estimator transformer's best error=0.3651\n",
            "INFO:flaml.automl: at 241.5s,\testimator transformer's best error=0.3651,\tbest estimator transformer's best error=0.3651\n",
            "[flaml.automl: 08-19 14:54:42] {3108} INFO - iteration 1, current learner transformer\n",
            "INFO:flaml.automl:iteration 1, current learner transformer\n",
            "/usr/local/lib/python3.7/dist-packages/transformers/optimization.py:309: FutureWarning: This implementation of AdamW is deprecated and will be removed in a future version. Use the PyTorch implementation torch.optim.AdamW instead, or set `no_deprecation_warning=True` to disable this warning\n",
            "  FutureWarning,\n"
          ]
        },
        {
          "name": "stdout",
          "output_type": "stream",
          "text": [
            "{'eval_loss': 0.9422562122344971, 'eval_automl_metric': 0.4482124616956078, 'eval_runtime': 64.093, 'eval_samples_per_second': 76.373, 'eval_steps_per_second': 76.373, 'epoch': 0.3}\n",
            "{'train_runtime': 142.1563, 'train_samples_per_second': 30.988, 'train_steps_per_second': 0.485, 'train_loss': 1.0089939504429914, 'epoch': 0.3}\n"
          ]
        },
        {
          "name": "stderr",
          "output_type": "stream",
          "text": [
            "The following columns in the test set  don't have a corresponding argument in `BertForSequenceClassification.forward` and have been ignored: __index_level_0__. If __index_level_0__ are not expected by `BertForSequenceClassification.forward`,  you can safely ignore this message.\n",
            "***** Running Prediction *****\n",
            "  Num examples = 4895\n",
            "  Batch size = 1\n",
            "Didn't find file data/output/train_2022-08-19_14-54-42/train_db826be0_19_s=9223372036854775807,e=9.7119e-06,s=-1,s=0.3,e=64,d=14_2022-08-19_14-54-42/checkpoint-69/added_tokens.json. We won't load it.\n",
            "loading file data/output/train_2022-08-19_14-54-42/train_db826be0_19_s=9223372036854775807,e=9.7119e-06,s=-1,s=0.3,e=64,d=14_2022-08-19_14-54-42/checkpoint-69/vocab.txt\n",
            "loading file data/output/train_2022-08-19_14-54-42/train_db826be0_19_s=9223372036854775807,e=9.7119e-06,s=-1,s=0.3,e=64,d=14_2022-08-19_14-54-42/checkpoint-69/tokenizer.json\n",
            "loading file None\n",
            "loading file data/output/train_2022-08-19_14-54-42/train_db826be0_19_s=9223372036854775807,e=9.7119e-06,s=-1,s=0.3,e=64,d=14_2022-08-19_14-54-42/checkpoint-69/special_tokens_map.json\n",
            "loading file data/output/train_2022-08-19_14-54-42/train_db826be0_19_s=9223372036854775807,e=9.7119e-06,s=-1,s=0.3,e=64,d=14_2022-08-19_14-54-42/checkpoint-69/tokenizer_config.json\n",
            "[flaml.automl: 08-19 14:58:51] {3294} INFO -  at 490.1s,\testimator transformer's best error=0.3651,\tbest estimator transformer's best error=0.3651\n",
            "INFO:flaml.automl: at 490.1s,\testimator transformer's best error=0.3651,\tbest estimator transformer's best error=0.3651\n",
            "[flaml.automl: 08-19 14:58:51] {3108} INFO - iteration 2, current learner transformer\n",
            "INFO:flaml.automl:iteration 2, current learner transformer\n",
            "/usr/local/lib/python3.7/dist-packages/transformers/optimization.py:309: FutureWarning: This implementation of AdamW is deprecated and will be removed in a future version. Use the PyTorch implementation torch.optim.AdamW instead, or set `no_deprecation_warning=True` to disable this warning\n",
            "  FutureWarning,\n"
          ]
        },
        {
          "name": "stdout",
          "output_type": "stream",
          "text": [
            "{'eval_loss': 0.764643669128418, 'eval_automl_metric': 0.30684371807967314, 'eval_runtime': 64.3046, 'eval_samples_per_second': 76.122, 'eval_steps_per_second': 76.122, 'epoch': 0.3}\n",
            "{'train_runtime': 139.6474, 'train_samples_per_second': 31.545, 'train_steps_per_second': 1.976, 'train_loss': 0.9045784438865773, 'epoch': 0.3}\n"
          ]
        },
        {
          "name": "stderr",
          "output_type": "stream",
          "text": [
            "The following columns in the test set  don't have a corresponding argument in `BertForSequenceClassification.forward` and have been ignored: __index_level_0__. If __index_level_0__ are not expected by `BertForSequenceClassification.forward`,  you can safely ignore this message.\n",
            "***** Running Prediction *****\n",
            "  Num examples = 4895\n",
            "  Batch size = 1\n",
            "Didn't find file data/output/train_2022-08-19_14-58-51/train_6fc6d930_20_s=9223372036854775807,e=1.0297e-05,s=-1,s=0.3,e=16,d=26_2022-08-19_14-58-51/checkpoint-276/added_tokens.json. We won't load it.\n",
            "loading file data/output/train_2022-08-19_14-58-51/train_6fc6d930_20_s=9223372036854775807,e=1.0297e-05,s=-1,s=0.3,e=16,d=26_2022-08-19_14-58-51/checkpoint-276/vocab.txt\n",
            "loading file data/output/train_2022-08-19_14-58-51/train_6fc6d930_20_s=9223372036854775807,e=1.0297e-05,s=-1,s=0.3,e=16,d=26_2022-08-19_14-58-51/checkpoint-276/tokenizer.json\n",
            "loading file None\n",
            "loading file data/output/train_2022-08-19_14-58-51/train_6fc6d930_20_s=9223372036854775807,e=1.0297e-05,s=-1,s=0.3,e=16,d=26_2022-08-19_14-58-51/checkpoint-276/special_tokens_map.json\n",
            "loading file data/output/train_2022-08-19_14-58-51/train_6fc6d930_20_s=9223372036854775807,e=1.0297e-05,s=-1,s=0.3,e=16,d=26_2022-08-19_14-58-51/checkpoint-276/tokenizer_config.json\n",
            "[flaml.automl: 08-19 15:02:56] {729} WARNING - checkpoint data/output/train_2022-08-19_14-50-41/train_4ba0c0a8_18_s=9223372036854775807,e=1e-05,s=-1,s=0.3,e=32,d=20_2022-08-19_14-50-41/checkpoint-138 not found\n",
            "WARNING:flaml.automl:checkpoint data/output/train_2022-08-19_14-50-41/train_4ba0c0a8_18_s=9223372036854775807,e=1e-05,s=-1,s=0.3,e=32,d=20_2022-08-19_14-50-41/checkpoint-138 not found\n",
            "[flaml.automl: 08-19 15:02:56] {3294} INFO -  at 735.2s,\testimator transformer's best error=0.3068,\tbest estimator transformer's best error=0.3068\n",
            "INFO:flaml.automl: at 735.2s,\testimator transformer's best error=0.3068,\tbest estimator transformer's best error=0.3068\n",
            "[flaml.automl: 08-19 15:02:56] {3108} INFO - iteration 3, current learner transformer\n",
            "INFO:flaml.automl:iteration 3, current learner transformer\n",
            "/usr/local/lib/python3.7/dist-packages/transformers/optimization.py:309: FutureWarning: This implementation of AdamW is deprecated and will be removed in a future version. Use the PyTorch implementation torch.optim.AdamW instead, or set `no_deprecation_warning=True` to disable this warning\n",
            "  FutureWarning,\n"
          ]
        },
        {
          "name": "stdout",
          "output_type": "stream",
          "text": [
            "{'eval_loss': 0.6895061731338501, 'eval_automl_metric': 0.26414708886619, 'eval_runtime': 64.1612, 'eval_samples_per_second': 76.292, 'eval_steps_per_second': 76.292, 'epoch': 0.3}\n",
            "{'train_runtime': 137.9967, 'train_samples_per_second': 31.923, 'train_steps_per_second': 2.0, 'train_loss': 0.8616765340169271, 'epoch': 0.3}\n"
          ]
        },
        {
          "name": "stderr",
          "output_type": "stream",
          "text": [
            "The following columns in the test set  don't have a corresponding argument in `BertForSequenceClassification.forward` and have been ignored: __index_level_0__. If __index_level_0__ are not expected by `BertForSequenceClassification.forward`,  you can safely ignore this message.\n",
            "***** Running Prediction *****\n",
            "  Num examples = 4895\n",
            "  Batch size = 1\n",
            "Didn't find file data/output/train_2022-08-19_15-02-56/train_01e528ee_21_s=9223372036854775807,e=1.48e-05,s=-1,s=0.3,e=16,d=25_2022-08-19_15-02-56/checkpoint-276/added_tokens.json. We won't load it.\n",
            "loading file data/output/train_2022-08-19_15-02-56/train_01e528ee_21_s=9223372036854775807,e=1.48e-05,s=-1,s=0.3,e=16,d=25_2022-08-19_15-02-56/checkpoint-276/vocab.txt\n",
            "loading file data/output/train_2022-08-19_15-02-56/train_01e528ee_21_s=9223372036854775807,e=1.48e-05,s=-1,s=0.3,e=16,d=25_2022-08-19_15-02-56/checkpoint-276/tokenizer.json\n",
            "loading file None\n",
            "loading file data/output/train_2022-08-19_15-02-56/train_01e528ee_21_s=9223372036854775807,e=1.48e-05,s=-1,s=0.3,e=16,d=25_2022-08-19_15-02-56/checkpoint-276/special_tokens_map.json\n",
            "loading file data/output/train_2022-08-19_15-02-56/train_01e528ee_21_s=9223372036854775807,e=1.48e-05,s=-1,s=0.3,e=16,d=25_2022-08-19_15-02-56/checkpoint-276/tokenizer_config.json\n",
            "[flaml.automl: 08-19 15:07:00] {729} WARNING - checkpoint data/output/train_2022-08-19_14-58-51/train_6fc6d930_20_s=9223372036854775807,e=1.0297e-05,s=-1,s=0.3,e=16,d=26_2022-08-19_14-58-51/checkpoint-276 not found\n",
            "WARNING:flaml.automl:checkpoint data/output/train_2022-08-19_14-58-51/train_6fc6d930_20_s=9223372036854775807,e=1.0297e-05,s=-1,s=0.3,e=16,d=26_2022-08-19_14-58-51/checkpoint-276 not found\n",
            "[flaml.automl: 08-19 15:07:00] {3294} INFO -  at 979.1s,\testimator transformer's best error=0.2641,\tbest estimator transformer's best error=0.2641\n",
            "INFO:flaml.automl: at 979.1s,\testimator transformer's best error=0.2641,\tbest estimator transformer's best error=0.2641\n",
            "[flaml.automl: 08-19 15:07:00] {3108} INFO - iteration 4, current learner transformer\n",
            "INFO:flaml.automl:iteration 4, current learner transformer\n",
            "/usr/local/lib/python3.7/dist-packages/transformers/optimization.py:309: FutureWarning: This implementation of AdamW is deprecated and will be removed in a future version. Use the PyTorch implementation torch.optim.AdamW instead, or set `no_deprecation_warning=True` to disable this warning\n",
            "  FutureWarning,\n"
          ]
        },
        {
          "name": "stdout",
          "output_type": "stream",
          "text": [
            "{'loss': 0.7586, 'learning_rate': 4.688468079515019e-06, 'epoch': 0.54}\n",
            "{'eval_loss': 0.4876616895198822, 'eval_automl_metric': 0.18447395301327885, 'eval_runtime': 64.0236, 'eval_samples_per_second': 76.456, 'eval_steps_per_second': 76.456, 'epoch': 1.0}\n",
            "{'train_runtime': 312.4704, 'train_samples_per_second': 46.993, 'train_steps_per_second': 2.938, 'train_loss': 0.6536963469062755, 'epoch': 1.0}\n"
          ]
        },
        {
          "name": "stderr",
          "output_type": "stream",
          "text": [
            "The following columns in the test set  don't have a corresponding argument in `BertForSequenceClassification.forward` and have been ignored: __index_level_0__. If __index_level_0__ are not expected by `BertForSequenceClassification.forward`,  you can safely ignore this message.\n",
            "***** Running Prediction *****\n",
            "  Num examples = 4895\n",
            "  Batch size = 1\n",
            "Didn't find file data/output/train_2022-08-19_15-07-00/train_933f400e_22_s=9223372036854775807,e=1.0297e-05,s=-1,s=1,e=16,d=26_2022-08-19_15-07-00/checkpoint-918/added_tokens.json. We won't load it.\n",
            "loading file data/output/train_2022-08-19_15-07-00/train_933f400e_22_s=9223372036854775807,e=1.0297e-05,s=-1,s=1,e=16,d=26_2022-08-19_15-07-00/checkpoint-918/vocab.txt\n",
            "loading file data/output/train_2022-08-19_15-07-00/train_933f400e_22_s=9223372036854775807,e=1.0297e-05,s=-1,s=1,e=16,d=26_2022-08-19_15-07-00/checkpoint-918/tokenizer.json\n",
            "loading file None\n",
            "loading file data/output/train_2022-08-19_15-07-00/train_933f400e_22_s=9223372036854775807,e=1.0297e-05,s=-1,s=1,e=16,d=26_2022-08-19_15-07-00/checkpoint-918/special_tokens_map.json\n",
            "loading file data/output/train_2022-08-19_15-07-00/train_933f400e_22_s=9223372036854775807,e=1.0297e-05,s=-1,s=1,e=16,d=26_2022-08-19_15-07-00/checkpoint-918/tokenizer_config.json\n",
            "[flaml.automl: 08-19 15:13:57] {729} WARNING - checkpoint data/output/train_2022-08-19_15-02-56/train_01e528ee_21_s=9223372036854775807,e=1.48e-05,s=-1,s=0.3,e=16,d=25_2022-08-19_15-02-56/checkpoint-276 not found\n",
            "WARNING:flaml.automl:checkpoint data/output/train_2022-08-19_15-02-56/train_01e528ee_21_s=9223372036854775807,e=1.48e-05,s=-1,s=0.3,e=16,d=25_2022-08-19_15-02-56/checkpoint-276 not found\n",
            "[flaml.automl: 08-19 15:13:57] {3294} INFO -  at 1396.3s,\testimator transformer's best error=0.1845,\tbest estimator transformer's best error=0.1845\n",
            "INFO:flaml.automl: at 1396.3s,\testimator transformer's best error=0.1845,\tbest estimator transformer's best error=0.1845\n",
            "[flaml.automl: 08-19 15:13:57] {3409} INFO - selected model: None\n",
            "INFO:flaml.automl:selected model: None\n",
            "[flaml.automl: 08-19 15:13:57] {2837} INFO - fit succeeded\n",
            "INFO:flaml.automl:fit succeeded\n",
            "[flaml.automl: 08-19 15:13:57] {2839} INFO - Time taken to find the best model: 1396.3099913597107\n",
            "INFO:flaml.automl:Time taken to find the best model: 1396.3099913597107\n",
            "[flaml.automl: 08-19 15:13:57] {2853} WARNING - Time taken to find the best model is 78% of the provided time budget and not all estimators' hyperparameter search converged. Consider increasing the time budget.\n",
            "WARNING:flaml.automl:Time taken to find the best model is 78% of the provided time budget and not all estimators' hyperparameter search converged. Consider increasing the time budget.\n"
          ]
        }
      ],
      "source": [
        "import flaml\n",
        "from flaml import AutoML\n",
        "import pandas as pd\n",
        "from sklearn.model_selection import train_test_split\n",
        "\n",
        "df = pd.read_csv('spooky-author-identification.csv')\n",
        "X, y = df.drop('author', axis=1), df['author']\n",
        "\n",
        "X_train, X_val, y_train, y_val = train_test_split(X, y, random_state=123)\n",
        "automl_model = AutoML()\n",
        "\n",
        "automl_settings = {\n",
        "    \"time_budget\": 1800,                 \n",
        "    \"task\": \"seq-classification\",       \n",
        "    \"fit_kwargs_by_estimator\": {\n",
        "        \"transformer\": {\n",
        "            \"output_dir\": \"data/output/\",   \n",
        "            \"model_path\": \"bert-base-uncased\",  \n",
        "        }\n",
        "    },\n",
        "    \"metric\": \"accuracy\",\n",
        "    \"gpu_per_trial\": 1,  \n",
        "    \"log_file_name\": \"spooky_bert.log\", \n",
        "    \"log_type\": \"all\",                 \n",
        "    \"use_ray\": False,                    # set whether to use Ray\n",
        "    \"n_concurrent_trials\": 1,\n",
        "    \"keep_search_state\": True,          # keeping the search state\n",
        "}\n",
        "\n",
        "from flaml import tune\n",
        "custom_hp = {\n",
        "    \"transformer\": {\n",
        "            \"num_train_epochs\": {\n",
        "                \"domain\": tune.choice([0.3, 1, 2, 3, 4, 5]),\n",
        "                \"init_value\": 0.3,  \n",
        "                \"low_cost_init_value\": 0.3,\n",
        "            },\n",
        "        }\n",
        "}\n",
        "\n",
        "automl_model.fit(X_train=X_train, y_train=y_train,X_val=X_val, y_val=y_val, custom_hp=custom_hp, **automl_settings)"
      ]
    },
    {
      "cell_type": "markdown",
      "metadata": {
        "id": "9jZiKSU75jjl"
      },
      "source": [
        "The job ran for 23m and searched for 4 trials. This time is shorter than our budget 30m because FLAML early stops the last trial which will run for too long. If you want to run for longer time, set a larger time budget. "
      ]
    },
    {
      "cell_type": "code",
      "execution_count": null,
      "metadata": {
        "colab": {
          "base_uri": "https://localhost:8080/"
        },
        "id": "xpA-rzYzTjhI",
        "outputId": "bacf6804-5ae5-4cea-ee01-be4f35f5c90f"
      },
      "outputs": [
        {
          "name": "stdout",
          "output_type": "stream",
          "text": [
            "the best loss for spooky author identification: 0.18447395301327885\n"
          ]
        }
      ],
      "source": [
        "print(\"the best loss for spooky author identification: {}\".format(automl_model.best_loss))"
      ]
    },
    {
      "cell_type": "markdown",
      "metadata": {
        "id": "TzDjaBTA6ZaD"
      },
      "source": [
        "Next, we set the model to roberta and run again. RoBERTa outperforms BERT by 15% on the [SuperGLUE](https://super.gluebenchmark.com/) benchmark, as well as [GLUE](https://gluebenchmark.com/), [SQuAD](https://rajpurkar.github.io/SQuAD-explorer/), [RACE](https://www.cs.cmu.edu/~glai1/data/race/), etc. Does this mean we should always use RoBERTa and never use BERT? To answer this question, we run the same experiment again with RoBERTa:"
      ]
    },
    {
      "cell_type": "code",
      "execution_count": null,
      "metadata": {
        "colab": {
          "base_uri": "https://localhost:8080/"
        },
        "id": "6MTZCJz1TjhJ",
        "outputId": "8adde438-ec14-44d2-f174-c549deb44729"
      },
      "outputs": [
        {
          "name": "stderr",
          "output_type": "stream",
          "text": [
            "[flaml.automl: 08-19 15:21:09] {2540} INFO - task = seq-classification\n",
            "INFO:flaml.automl:task = seq-classification\n",
            "[flaml.automl: 08-19 15:21:09] {2542} INFO - Data split method: stratified\n",
            "INFO:flaml.automl:Data split method: stratified\n",
            "[flaml.automl: 08-19 15:21:09] {2545} INFO - Evaluation method: holdout\n",
            "INFO:flaml.automl:Evaluation method: holdout\n",
            "[flaml.automl: 08-19 15:21:09] {2664} INFO - Minimizing error metric: 1-accuracy\n",
            "INFO:flaml.automl:Minimizing error metric: 1-accuracy\n",
            "[flaml.automl: 08-19 15:21:09] {2806} INFO - List of ML learners in AutoML Run: ['transformer']\n",
            "INFO:flaml.automl:List of ML learners in AutoML Run: ['transformer']\n",
            "[flaml.automl: 08-19 15:21:09] {3108} INFO - iteration 0, current learner transformer\n",
            "INFO:flaml.automl:iteration 0, current learner transformer\n",
            "/usr/local/lib/python3.7/dist-packages/transformers/optimization.py:309: FutureWarning: This implementation of AdamW is deprecated and will be removed in a future version. Use the PyTorch implementation torch.optim.AdamW instead, or set `no_deprecation_warning=True` to disable this warning\n",
            "  FutureWarning,\n"
          ]
        },
        {
          "name": "stdout",
          "output_type": "stream",
          "text": [
            "{'eval_loss': 0.7796056866645813, 'eval_automl_metric': 0.3170582226762002, 'eval_runtime': 65.2086, 'eval_samples_per_second': 75.067, 'eval_steps_per_second': 75.067, 'epoch': 0.3}\n",
            "{'train_runtime': 139.2884, 'train_samples_per_second': 31.626, 'train_steps_per_second': 0.991, 'train_loss': 0.9700887928838315, 'epoch': 0.3}\n"
          ]
        },
        {
          "name": "stderr",
          "output_type": "stream",
          "text": [
            "The following columns in the test set  don't have a corresponding argument in `RobertaForSequenceClassification.forward` and have been ignored: __index_level_0__. If __index_level_0__ are not expected by `RobertaForSequenceClassification.forward`,  you can safely ignore this message.\n",
            "***** Running Prediction *****\n",
            "  Num examples = 4895\n",
            "  Batch size = 1\n",
            "Didn't find file data/output/train_2022-08-19_15-21-09/train_8d9e8af4_24_s=9223372036854775807,e=1e-05,s=-1,s=0.3,e=32,d=20_2022-08-19_15-21-09/checkpoint-138/added_tokens.json. We won't load it.\n",
            "loading file data/output/train_2022-08-19_15-21-09/train_8d9e8af4_24_s=9223372036854775807,e=1e-05,s=-1,s=0.3,e=32,d=20_2022-08-19_15-21-09/checkpoint-138/vocab.json\n",
            "loading file data/output/train_2022-08-19_15-21-09/train_8d9e8af4_24_s=9223372036854775807,e=1e-05,s=-1,s=0.3,e=32,d=20_2022-08-19_15-21-09/checkpoint-138/merges.txt\n",
            "loading file data/output/train_2022-08-19_15-21-09/train_8d9e8af4_24_s=9223372036854775807,e=1e-05,s=-1,s=0.3,e=32,d=20_2022-08-19_15-21-09/checkpoint-138/tokenizer.json\n",
            "loading file None\n",
            "loading file data/output/train_2022-08-19_15-21-09/train_8d9e8af4_24_s=9223372036854775807,e=1e-05,s=-1,s=0.3,e=32,d=20_2022-08-19_15-21-09/checkpoint-138/special_tokens_map.json\n",
            "loading file data/output/train_2022-08-19_15-21-09/train_8d9e8af4_24_s=9223372036854775807,e=1e-05,s=-1,s=0.3,e=32,d=20_2022-08-19_15-21-09/checkpoint-138/tokenizer_config.json\n",
            "[flaml.automl: 08-19 15:25:18] {3242} INFO - Estimated sufficient time budget=2487757s. Estimated necessary time budget=2488s.\n",
            "INFO:flaml.automl:Estimated sufficient time budget=2487757s. Estimated necessary time budget=2488s.\n",
            "[flaml.automl: 08-19 15:25:18] {3294} INFO -  at 249.0s,\testimator transformer's best error=0.3171,\tbest estimator transformer's best error=0.3171\n",
            "INFO:flaml.automl: at 249.0s,\testimator transformer's best error=0.3171,\tbest estimator transformer's best error=0.3171\n",
            "[flaml.automl: 08-19 15:25:18] {3108} INFO - iteration 1, current learner transformer\n",
            "INFO:flaml.automl:iteration 1, current learner transformer\n",
            "/usr/local/lib/python3.7/dist-packages/transformers/optimization.py:309: FutureWarning: This implementation of AdamW is deprecated and will be removed in a future version. Use the PyTorch implementation torch.optim.AdamW instead, or set `no_deprecation_warning=True` to disable this warning\n",
            "  FutureWarning,\n"
          ]
        },
        {
          "name": "stdout",
          "output_type": "stream",
          "text": [
            "{'eval_loss': 1.0274657011032104, 'eval_automl_metric': 0.5805924412665986, 'eval_runtime': 65.4388, 'eval_samples_per_second': 74.803, 'eval_steps_per_second': 74.803, 'epoch': 0.3}\n",
            "{'train_runtime': 141.3162, 'train_samples_per_second': 31.173, 'train_steps_per_second': 0.488, 'train_loss': 1.0675905752873076, 'epoch': 0.3}\n"
          ]
        },
        {
          "name": "stderr",
          "output_type": "stream",
          "text": [
            "The following columns in the test set  don't have a corresponding argument in `RobertaForSequenceClassification.forward` and have been ignored: __index_level_0__. If __index_level_0__ are not expected by `RobertaForSequenceClassification.forward`,  you can safely ignore this message.\n",
            "***** Running Prediction *****\n",
            "  Num examples = 4895\n",
            "  Batch size = 1\n",
            "Didn't find file data/output/train_2022-08-19_15-25-18/train_21eb5d04_25_s=9223372036854775807,e=9.7119e-06,s=-1,s=0.3,e=64,d=14_2022-08-19_15-25-18/checkpoint-69/added_tokens.json. We won't load it.\n",
            "loading file data/output/train_2022-08-19_15-25-18/train_21eb5d04_25_s=9223372036854775807,e=9.7119e-06,s=-1,s=0.3,e=64,d=14_2022-08-19_15-25-18/checkpoint-69/vocab.json\n",
            "loading file data/output/train_2022-08-19_15-25-18/train_21eb5d04_25_s=9223372036854775807,e=9.7119e-06,s=-1,s=0.3,e=64,d=14_2022-08-19_15-25-18/checkpoint-69/merges.txt\n",
            "loading file data/output/train_2022-08-19_15-25-18/train_21eb5d04_25_s=9223372036854775807,e=9.7119e-06,s=-1,s=0.3,e=64,d=14_2022-08-19_15-25-18/checkpoint-69/tokenizer.json\n",
            "loading file None\n",
            "loading file data/output/train_2022-08-19_15-25-18/train_21eb5d04_25_s=9223372036854775807,e=9.7119e-06,s=-1,s=0.3,e=64,d=14_2022-08-19_15-25-18/checkpoint-69/special_tokens_map.json\n",
            "loading file data/output/train_2022-08-19_15-25-18/train_21eb5d04_25_s=9223372036854775807,e=9.7119e-06,s=-1,s=0.3,e=64,d=14_2022-08-19_15-25-18/checkpoint-69/tokenizer_config.json\n",
            "[flaml.automl: 08-19 15:29:30] {3294} INFO -  at 500.5s,\testimator transformer's best error=0.3171,\tbest estimator transformer's best error=0.3171\n",
            "INFO:flaml.automl: at 500.5s,\testimator transformer's best error=0.3171,\tbest estimator transformer's best error=0.3171\n",
            "[flaml.automl: 08-19 15:29:30] {3108} INFO - iteration 2, current learner transformer\n",
            "INFO:flaml.automl:iteration 2, current learner transformer\n",
            "/usr/local/lib/python3.7/dist-packages/transformers/optimization.py:309: FutureWarning: This implementation of AdamW is deprecated and will be removed in a future version. Use the PyTorch implementation torch.optim.AdamW instead, or set `no_deprecation_warning=True` to disable this warning\n",
            "  FutureWarning,\n"
          ]
        },
        {
          "name": "stdout",
          "output_type": "stream",
          "text": [
            "{'eval_loss': 0.6534864902496338, 'eval_automl_metric': 0.27436159346271705, 'eval_runtime': 65.6703, 'eval_samples_per_second': 74.539, 'eval_steps_per_second': 74.539, 'epoch': 0.3}\n",
            "{'train_runtime': 142.8116, 'train_samples_per_second': 30.846, 'train_steps_per_second': 1.933, 'train_loss': 0.8491502291914346, 'epoch': 0.3}\n"
          ]
        },
        {
          "name": "stderr",
          "output_type": "stream",
          "text": [
            "The following columns in the test set  don't have a corresponding argument in `RobertaForSequenceClassification.forward` and have been ignored: __index_level_0__. If __index_level_0__ are not expected by `RobertaForSequenceClassification.forward`,  you can safely ignore this message.\n",
            "***** Running Prediction *****\n",
            "  Num examples = 4895\n",
            "  Batch size = 1\n",
            "Didn't find file data/output/train_2022-08-19_15-29-30/train_b7eb3874_26_s=9223372036854775807,e=1.0297e-05,s=-1,s=0.3,e=16,d=26_2022-08-19_15-29-30/checkpoint-276/added_tokens.json. We won't load it.\n",
            "loading file data/output/train_2022-08-19_15-29-30/train_b7eb3874_26_s=9223372036854775807,e=1.0297e-05,s=-1,s=0.3,e=16,d=26_2022-08-19_15-29-30/checkpoint-276/vocab.json\n",
            "loading file data/output/train_2022-08-19_15-29-30/train_b7eb3874_26_s=9223372036854775807,e=1.0297e-05,s=-1,s=0.3,e=16,d=26_2022-08-19_15-29-30/checkpoint-276/merges.txt\n",
            "loading file data/output/train_2022-08-19_15-29-30/train_b7eb3874_26_s=9223372036854775807,e=1.0297e-05,s=-1,s=0.3,e=16,d=26_2022-08-19_15-29-30/checkpoint-276/tokenizer.json\n",
            "loading file None\n",
            "loading file data/output/train_2022-08-19_15-29-30/train_b7eb3874_26_s=9223372036854775807,e=1.0297e-05,s=-1,s=0.3,e=16,d=26_2022-08-19_15-29-30/checkpoint-276/special_tokens_map.json\n",
            "loading file data/output/train_2022-08-19_15-29-30/train_b7eb3874_26_s=9223372036854775807,e=1.0297e-05,s=-1,s=0.3,e=16,d=26_2022-08-19_15-29-30/checkpoint-276/tokenizer_config.json\n",
            "[flaml.automl: 08-19 15:33:42] {729} WARNING - checkpoint data/output/train_2022-08-19_15-21-09/train_8d9e8af4_24_s=9223372036854775807,e=1e-05,s=-1,s=0.3,e=32,d=20_2022-08-19_15-21-09/checkpoint-138 not found\n",
            "WARNING:flaml.automl:checkpoint data/output/train_2022-08-19_15-21-09/train_8d9e8af4_24_s=9223372036854775807,e=1e-05,s=-1,s=0.3,e=32,d=20_2022-08-19_15-21-09/checkpoint-138 not found\n",
            "[flaml.automl: 08-19 15:33:42] {3294} INFO -  at 753.0s,\testimator transformer's best error=0.2744,\tbest estimator transformer's best error=0.2744\n",
            "INFO:flaml.automl: at 753.0s,\testimator transformer's best error=0.2744,\tbest estimator transformer's best error=0.2744\n",
            "[flaml.automl: 08-19 15:33:42] {3108} INFO - iteration 3, current learner transformer\n",
            "INFO:flaml.automl:iteration 3, current learner transformer\n",
            "/usr/local/lib/python3.7/dist-packages/transformers/optimization.py:309: FutureWarning: This implementation of AdamW is deprecated and will be removed in a future version. Use the PyTorch implementation torch.optim.AdamW instead, or set `no_deprecation_warning=True` to disable this warning\n",
            "  FutureWarning,\n"
          ]
        },
        {
          "name": "stdout",
          "output_type": "stream",
          "text": [
            "{'eval_loss': 0.586589515209198, 'eval_automl_metric': 0.2402451481103166, 'eval_runtime': 65.9616, 'eval_samples_per_second': 74.21, 'eval_steps_per_second': 74.21, 'epoch': 0.3}\n",
            "{'train_runtime': 140.9957, 'train_samples_per_second': 31.243, 'train_steps_per_second': 1.958, 'train_loss': 0.7886253025220789, 'epoch': 0.3}\n"
          ]
        },
        {
          "name": "stderr",
          "output_type": "stream",
          "text": [
            "The following columns in the test set  don't have a corresponding argument in `RobertaForSequenceClassification.forward` and have been ignored: __index_level_0__. If __index_level_0__ are not expected by `RobertaForSequenceClassification.forward`,  you can safely ignore this message.\n",
            "***** Running Prediction *****\n",
            "  Num examples = 4895\n",
            "  Batch size = 1\n",
            "Didn't find file data/output/train_2022-08-19_15-33-42/train_4e5c88d0_27_s=9223372036854775807,e=1.48e-05,s=-1,s=0.3,e=16,d=25_2022-08-19_15-33-42/checkpoint-276/added_tokens.json. We won't load it.\n",
            "loading file data/output/train_2022-08-19_15-33-42/train_4e5c88d0_27_s=9223372036854775807,e=1.48e-05,s=-1,s=0.3,e=16,d=25_2022-08-19_15-33-42/checkpoint-276/vocab.json\n",
            "loading file data/output/train_2022-08-19_15-33-42/train_4e5c88d0_27_s=9223372036854775807,e=1.48e-05,s=-1,s=0.3,e=16,d=25_2022-08-19_15-33-42/checkpoint-276/merges.txt\n",
            "loading file data/output/train_2022-08-19_15-33-42/train_4e5c88d0_27_s=9223372036854775807,e=1.48e-05,s=-1,s=0.3,e=16,d=25_2022-08-19_15-33-42/checkpoint-276/tokenizer.json\n",
            "loading file None\n",
            "loading file data/output/train_2022-08-19_15-33-42/train_4e5c88d0_27_s=9223372036854775807,e=1.48e-05,s=-1,s=0.3,e=16,d=25_2022-08-19_15-33-42/checkpoint-276/special_tokens_map.json\n",
            "loading file data/output/train_2022-08-19_15-33-42/train_4e5c88d0_27_s=9223372036854775807,e=1.48e-05,s=-1,s=0.3,e=16,d=25_2022-08-19_15-33-42/checkpoint-276/tokenizer_config.json\n",
            "[flaml.automl: 08-19 15:37:54] {729} WARNING - checkpoint data/output/train_2022-08-19_15-29-30/train_b7eb3874_26_s=9223372036854775807,e=1.0297e-05,s=-1,s=0.3,e=16,d=26_2022-08-19_15-29-30/checkpoint-276 not found\n",
            "WARNING:flaml.automl:checkpoint data/output/train_2022-08-19_15-29-30/train_b7eb3874_26_s=9223372036854775807,e=1.0297e-05,s=-1,s=0.3,e=16,d=26_2022-08-19_15-29-30/checkpoint-276 not found\n",
            "[flaml.automl: 08-19 15:37:54] {3294} INFO -  at 1004.8s,\testimator transformer's best error=0.2402,\tbest estimator transformer's best error=0.2402\n",
            "INFO:flaml.automl: at 1004.8s,\testimator transformer's best error=0.2402,\tbest estimator transformer's best error=0.2402\n",
            "[flaml.automl: 08-19 15:37:54] {3108} INFO - iteration 4, current learner transformer\n",
            "INFO:flaml.automl:iteration 4, current learner transformer\n",
            "/usr/local/lib/python3.7/dist-packages/transformers/optimization.py:309: FutureWarning: This implementation of AdamW is deprecated and will be removed in a future version. Use the PyTorch implementation torch.optim.AdamW instead, or set `no_deprecation_warning=True` to disable this warning\n",
            "  FutureWarning,\n"
          ]
        },
        {
          "name": "stdout",
          "output_type": "stream",
          "text": [
            "{'loss': 0.7223, 'learning_rate': 4.688468079515019e-06, 'epoch': 0.54}\n",
            "{'eval_loss': 0.4903346300125122, 'eval_automl_metric': 0.1953013278855975, 'eval_runtime': 65.2412, 'eval_samples_per_second': 75.029, 'eval_steps_per_second': 75.029, 'epoch': 1.0}\n",
            "{'train_runtime': 310.9644, 'train_samples_per_second': 47.221, 'train_steps_per_second': 2.952, 'train_loss': 0.624375353711363, 'epoch': 1.0}\n"
          ]
        },
        {
          "name": "stderr",
          "output_type": "stream",
          "text": [
            "The following columns in the test set  don't have a corresponding argument in `RobertaForSequenceClassification.forward` and have been ignored: __index_level_0__. If __index_level_0__ are not expected by `RobertaForSequenceClassification.forward`,  you can safely ignore this message.\n",
            "***** Running Prediction *****\n",
            "  Num examples = 4895\n",
            "  Batch size = 1\n",
            "Didn't find file data/output/train_2022-08-19_15-37-54/train_e47787a2_28_s=9223372036854775807,e=1.0297e-05,s=-1,s=1,e=16,d=26_2022-08-19_15-37-54/checkpoint-918/added_tokens.json. We won't load it.\n",
            "loading file data/output/train_2022-08-19_15-37-54/train_e47787a2_28_s=9223372036854775807,e=1.0297e-05,s=-1,s=1,e=16,d=26_2022-08-19_15-37-54/checkpoint-918/vocab.json\n",
            "loading file data/output/train_2022-08-19_15-37-54/train_e47787a2_28_s=9223372036854775807,e=1.0297e-05,s=-1,s=1,e=16,d=26_2022-08-19_15-37-54/checkpoint-918/merges.txt\n",
            "loading file data/output/train_2022-08-19_15-37-54/train_e47787a2_28_s=9223372036854775807,e=1.0297e-05,s=-1,s=1,e=16,d=26_2022-08-19_15-37-54/checkpoint-918/tokenizer.json\n",
            "loading file None\n",
            "loading file data/output/train_2022-08-19_15-37-54/train_e47787a2_28_s=9223372036854775807,e=1.0297e-05,s=-1,s=1,e=16,d=26_2022-08-19_15-37-54/checkpoint-918/special_tokens_map.json\n",
            "loading file data/output/train_2022-08-19_15-37-54/train_e47787a2_28_s=9223372036854775807,e=1.0297e-05,s=-1,s=1,e=16,d=26_2022-08-19_15-37-54/checkpoint-918/tokenizer_config.json\n",
            "[flaml.automl: 08-19 15:44:56] {729} WARNING - checkpoint data/output/train_2022-08-19_15-33-42/train_4e5c88d0_27_s=9223372036854775807,e=1.48e-05,s=-1,s=0.3,e=16,d=25_2022-08-19_15-33-42/checkpoint-276 not found\n",
            "WARNING:flaml.automl:checkpoint data/output/train_2022-08-19_15-33-42/train_4e5c88d0_27_s=9223372036854775807,e=1.48e-05,s=-1,s=0.3,e=16,d=25_2022-08-19_15-33-42/checkpoint-276 not found\n",
            "[flaml.automl: 08-19 15:44:56] {3294} INFO -  at 1426.8s,\testimator transformer's best error=0.1953,\tbest estimator transformer's best error=0.1953\n",
            "INFO:flaml.automl: at 1426.8s,\testimator transformer's best error=0.1953,\tbest estimator transformer's best error=0.1953\n",
            "[flaml.automl: 08-19 15:44:56] {3409} INFO - selected model: None\n",
            "INFO:flaml.automl:selected model: None\n",
            "[flaml.automl: 08-19 15:44:56] {2837} INFO - fit succeeded\n",
            "INFO:flaml.automl:fit succeeded\n",
            "[flaml.automl: 08-19 15:44:56] {2839} INFO - Time taken to find the best model: 1426.8331220149994\n",
            "INFO:flaml.automl:Time taken to find the best model: 1426.8331220149994\n",
            "[flaml.automl: 08-19 15:44:56] {2853} WARNING - Time taken to find the best model is 79% of the provided time budget and not all estimators' hyperparameter search converged. Consider increasing the time budget.\n",
            "WARNING:flaml.automl:Time taken to find the best model is 79% of the provided time budget and not all estimators' hyperparameter search converged. Consider increasing the time budget.\n"
          ]
        }
      ],
      "source": [
        "automl_settings[\"fit_kwargs_by_estimator\"][\"transformer\"][\"model_path\"] = \"roberta-base\"\n",
        "automl_settings[\"log_file_name\"] = \"spooky_roberta.log\"\n",
        "automl_model.fit(X_train=X_train, y_train=y_train,X_val=X_val, y_val=y_val, custom_hp=custom_hp, **automl_settings)"
      ]
    },
    {
      "cell_type": "markdown",
      "metadata": {
        "id": "MknjX6ij7lpX"
      },
      "source": [
        "We plot the performance of BERT and RoBERTa w.r.t. the wall clock time. We find that although RoBERTa frequently outperforms BERT on benchmark datasets, its performance on the spooky-author-identification dataset is worse than BERT using the same time budget. Therefore, model selection is a non trivial problem. "
      ]
    },
    {
      "cell_type": "code",
      "execution_count": null,
      "metadata": {
        "colab": {
          "base_uri": "https://localhost:8080/",
          "height": 300
        },
        "id": "IHqpFgG3TjhJ",
        "outputId": "dcd3f094-1689-4ebf-d796-55c127ba048c"
      },
      "outputs": [
        {
          "name": "stdout",
          "output_type": "stream",
          "text": [
            "5\n",
            "5\n"
          ]
        },
        {
          "data": {
            "image/png": "[encoded data removed]",
            "text/plain": [
              "<Figure size 432x288 with 1 Axes>"
            ]
          },
          "metadata": {
            "needs_background": "light"
          },
          "output_type": "display_data"
        }
      ],
      "source": [
        "from flaml.data import get_output_from_log\n",
        "import matplotlib.pyplot as plt\n",
        "import numpy as np\n",
        "\n",
        "for each_file_name in ['bert', 'roberta']:\n",
        "    time_history, best_valid_loss_history, valid_loss_history, config_history, metric_history = \\\n",
        "        get_output_from_log(filename='spooky_' + each_file_name + '.log', time_budget=3000)\n",
        "    print(len(valid_loss_history))\n",
        "    plt.scatter(time_history, 1 - np.array(valid_loss_history))\n",
        "    plt.step(time_history, 1 - np.array(best_valid_loss_history), where='post')\n",
        "\n",
        "plt.legend(['bert', 'roberta'])\n",
        "plt.show()"
      ]
    },
    {
      "cell_type": "markdown",
      "metadata": {
        "id": "lT7IwNCoTjhJ"
      },
      "source": [
        "## 4. Other Tasks"
      ]
    },
    {
      "cell_type": "markdown",
      "metadata": {
        "id": "Fzkr77iATjhJ"
      },
      "source": [
        "Besides sequence classification, FLAML currently also supports four other tasks (more tasks are to be supported, which can be found on [FLAML's documentation website] (https://microsoft.github.io/FLAML/docs/Examples/AutoML-NLP)):\n",
        "\n",
        "- sequence regression: predicting a float number from the input sequence, e.g., predicting the rating of a hotel review based on the text content;\n",
        "- token classification: predicting the label of each token in a sequence, e.g., named entity recognition;\n",
        "- multiple choice: predicting the best second half of a sentence that comes next to the first part of a sentence based on common sensen reasoning. An example is seen below;\n",
        "- (abstractive) summarization: generating the textual summarization of an input paragraph;\n",
        "\n",
        "Here we look into two tasks: multiple choice classification and text summarization. These tasks require significant computational resources, therefore instead of Colab, we run them using 4 NVIDIA V100 GPUs and Ray Tune on our server."
      ]
    },
    {
      "cell_type": "markdown",
      "metadata": {
        "id": "Y4VgUR5TTjhJ"
      },
      "source": [
        "### 4.1 Multiple Choice Example"
      ]
    },
    {
      "cell_type": "markdown",
      "metadata": {
        "id": "OO8GqaH3TjhJ"
      },
      "source": [
        "Multiple choice is a task of predicting the best second half of a sentence that follows the first half based on common sense reasoning. An example of multiple-choice classification problem is:\n",
        "\n",
        "On stage, a woman takes a seat at the piano. She\n",
        "a) sits on a bench as her sister plays with the doll.\n",
        "b) smiles with someone as the music plays.\n",
        "c) is in the crowd, watching the dancers.\n",
        "d) *nervously sets her fingers on the keys*."
      ]
    },
    {
      "cell_type": "code",
      "execution_count": null,
      "metadata": {
        "colab": {
          "base_uri": "https://localhost:8080/",
          "height": 382,
          "referenced_widgets": [
            "3588f07c45694ec4a484afaaa9e9c599",
            "998b0ca5b37b47b88ea47327462c76fa",
            "38bb77cefa2e4c17b8e9c419125d6c45",
            "ded6921a6b8140b3bcd59d0e7bbd7900",
            "ad994aff0bf94c2ea4ac9aa8d5c067e3",
            "6be493d86857493190ee47a08c04ff40",
            "46e340fe82414a58b283c78cdf953773",
            "760feb714cc54846a52fc399703891d7",
            "a21f2bb483e44c749ec41a2b1784ee4b",
            "9cf2c0d8439a4f5a86b4769a27babb94",
            "007a43463f5e4da3983f59dfeb793e64",
            "2e00672f9d1f46cea3e5db651bca19a3",
            "cc378c1990634f7da6ffba019fe38c59",
            "642323b1bafa4d0fbeca1adff2426c02",
            "a902290681e942cbae40024baaa2e9b7",
            "3a014eef1b7d44698572bc5cada4cb8c",
            "c1792bbceb854dc5880003f64e5623cb",
            "b167b817426e4832b73a7a37b72115c1",
            "5ea642008bf74641a021e17b7e3fd6e7",
            "2d975d14c3f0434583e73ae97f580951",
            "26f3abaf861a4c63986ff0691294d70c",
            "1a701b0fa5a34fb9b64fb92b5c8e4306",
            "7dc52faf4b3b4643b7d7019f1722c1d8",
            "44cf4e612b5f482d8bf224413c1bc852",
            "f4ec7bc190af4c9dbe6a5fc05fad4540",
            "9dd6ab0e0cb940bebe25cba5492b2486",
            "e556c049fbb24669a49b26c7f107e6a5",
            "805c722b7dec4fc59ef64f8704e29424",
            "0c3a0eb88b16493e9d0f62e3d5abf195",
            "bfbcfceca0444337ac6c4033a7734fc1",
            "5ad8132df42340c58f1375b1e52eb5bc",
            "aa1c4b91b583440a8e6f79dd06cfd200",
            "b37bd95afbe44cd196fc5ab2d52bccd0",
            "b649c32bcc8446cf91c53604fc1dcaa6",
            "b70e2d813be3473f90ca76e293251c0b",
            "b66e17d6fd094f44bc10eade34fc5261",
            "9509ad27a9b54e3e80f796d224f3e189",
            "920c8dd736a4454f9469fb3fa0a9af90",
            "8f5311cebd554f5ba645b8d33b0722a3",
            "aad092fcb29d4045a342288aa9d6a329",
            "811d914b52904fa0913adc9daa33695c",
            "98f179b9be5044c79bc867f5261e2b47",
            "18091d361aa44881a3db5d1951882082",
            "2a1aa694683d4df9b509f5ce4d6d53b0",
            "f74dfe0a3de64c3ea051e14fba9a04e4",
            "37d4912ed8ee4c0c9f0a9187bad156fd",
            "6284429508d849bd8259460913efc250",
            "e1f77bef878c4b0bbfac867c5a9eea98",
            "20624397998c4e188b419c6267affb65",
            "3b6eaa3d64924ec581c412b04b9196fa",
            "94a2d9480adc426abb4ade344ca8dd2f",
            "d4830572efa244968881c31932ec5dff",
            "21f848683b2648c08a7476658d382177",
            "5a392cc22ee84433bac08ef8a6a3e0d4",
            "98bcaff9e28547e3b1f9b0640d598f99",
            "3b684b9f50ce48ff92b075d62619368b",
            "a3e42e8e532c4628abaa6e154d667ed2",
            "49290455306b47aaaf8153bed5e49742",
            "d8468fc2f0b94b2b8dab75336a0d29a3",
            "b09d990f98f0419e84f5939d3b48d381",
            "4b92faf53c2b4f7986066af8026ffc3a",
            "8497fe93c0d148a49f9a0a0c56961f36",
            "d226d72577ea4cc299ed78c2fa99a486",
            "82e0dbe1328a4c54807932984e0c4efb",
            "eb395373be244e6e8815087d5d32a801",
            "1ffd6e8c1f834dc48d66116b6089f7a2",
            "155d7e95c2504507b83b12dc60f1edc1",
            "feaf1f712b8e499db2558dc0fdd4261e",
            "51392c27affa4fd3b4184cde01b7029d",
            "5dd6914461ea456e9dc96ccf8c391c6e",
            "069feb62f1ec4392b04ee1d80aa4b445",
            "62bdec145ccb48faa4fe5f51d2879732",
            "c96613989db447b5acfb35cfef553145",
            "db589666b507409f9647930b1222b0a9",
            "1fed6cdd71c4453b976e8651b7b34cae",
            "f307d9be05d24940b57d9edc82be8976",
            "20abb46ea9c948b8ba85a921aee8af6d",
            "ca550fa3fe1147bd8285c2b7cadde206",
            "263e99ca21124b79a26e1078b187273d",
            "894de256daec49329f6404326eddaa39",
            "7feeefa264da4af89ddc8ddf331b4f9f",
            "4b2b38b8064040849b10c63b9f2ed8fd",
            "a91dc7ddd7f641d9b60b59bbbde7bae6",
            "96c6874b9bd045a5bc67596b2ab04df2",
            "57aca5124cc14ed69da5a0b24a2c1052",
            "8f2c2b10e21e42569ef5396e42c65e30",
            "be21476b15a14c0084712a9d5aedc22f",
            "362f58e6d05f4d0c865cbe6a956d677b",
            "c274c717ac7e4fa2888e0d101c3fe1fb",
            "9cbec0a1fe3247ed8a46290df56756fa",
            "35151380719b41349a2113b0b893bd6f",
            "1fb6335656b1444abe05aa94a7d13825",
            "a6431dfb76084a838d63849fa362de35",
            "26885bbae6c646e7bcc4a0459620c37a",
            "a56b058d910244588c1454b02c8cda8c",
            "efca4a3072e94170a1b851f9dec6164d",
            "791101442898470f8524ebee4cb9459d",
            "6a24dd061b2d40d4baca4036059fc94c",
            "9fdc731eb58247cbafef9286b49c66f9",
            "4fa9926221cb4d29bc0cc0c3d0bf93f3",
            "4e956bd06d3a45eca66b192990416a62",
            "e319f91c3ba841f99a9a1ca1c7b551f2",
            "da31e023dddb4c25a035258c0e4ed0d7",
            "574c7a42dad940379a96b9f0968d3be1",
            "ab2c48f34b7f43c5a5fb37c80a7d47f3",
            "834bdf06646a4d009648b6bc270c7624",
            "2e0b939889d84c07a90d36a57065aac4",
            "929cdd7c2f8e4902aac96a9a3afa5866",
            "87639f90c2ab47db986419c03e165d7a",
            "a18b9c22460940cfa53b657849b034bf"
          ]
        },
        "id": "hQ5fX0N3TjhJ",
        "outputId": "e1701a84-daad-4e70-82ac-c2c14d718793"
      },
      "outputs": [
        {
          "name": "stderr",
          "output_type": "stream",
          "text": [
            "No config specified, defaulting to: swag/regular\n",
            "Reusing dataset swag (/home/xliu127/.cache/huggingface/datasets/swag/regular/0.0.0/9640de08cdba6a1469ed3834fcab4b8ad8e38caf5d1ba5e7436d8b1fd067ad4c)\n",
            "No config specified, defaulting to: swag/regular\n",
            "Reusing dataset swag (/home/xliu127/.cache/huggingface/datasets/swag/regular/0.0.0/9640de08cdba6a1469ed3834fcab4b8ad8e38caf5d1ba5e7436d8b1fd067ad4c)\n",
            "No config specified, defaulting to: swag/regular\n",
            "Reusing dataset swag (/home/xliu127/.cache/huggingface/datasets/swag/regular/0.0.0/9640de08cdba6a1469ed3834fcab4b8ad8e38caf5d1ba5e7436d8b1fd067ad4c)\n"
          ]
        },
        {
          "name": "stdout",
          "output_type": "stream",
          "text": [
            "73546\n"
          ]
        }
      ],
      "source": [
        "from datasets import load_dataset\n",
        "\n",
        "train_dataset = load_dataset(\"swag\", split=\"train\").to_pandas()\n",
        "dev_dataset = load_dataset(\"swag\", split=\"validation\").to_pandas()\n",
        "test_dataset = load_dataset(\"swag\", split=\"test\").to_pandas()\n",
        "\n",
        "custom_sent_keys = [\n",
        "        \"sent1\",\n",
        "        \"sent2\",\n",
        "        \"ending0\",\n",
        "        \"ending1\",\n",
        "        \"ending2\",\n",
        "        \"ending3\",\n",
        "        \"gold-source\",\n",
        "        \"video-id\",\n",
        "        \"startphrase\",\n",
        "        \"fold-ind\",\n",
        "    ]                                                  # specify the column names of the input sentences\n",
        "label_key = \"label\"                                    # specify the column name of the label\n",
        "\n",
        "X_train, y_train = train_dataset[custom_sent_keys], train_dataset[label_key]\n",
        "X_val, y_val = dev_dataset[custom_sent_keys], dev_dataset[label_key]\n",
        "X_test = test_dataset[custom_sent_keys]\n",
        "\n",
        "print(len(X_train))"
      ]
    },
    {
      "cell_type": "code",
      "execution_count": null,
      "metadata": {
        "colab": {
          "base_uri": "https://localhost:8080/",
          "height": 53
        },
        "id": "19m2ZpRGTjhJ",
        "outputId": "65a82458-dfd0-4e90-d0ac-fdbd231822f1"
      },
      "outputs": [
        {
          "data": {
            "application/vnd.google.colaboratory.intrinsic+json": {
              "type": "string"
            },
            "text/plain": [
              "'Members of the procession walk down the street holding small horn brass instruments.'"
            ]
          },
          "execution_count": 29,
          "metadata": {},
          "output_type": "execute_result"
        }
      ],
      "source": [
        "train_dataset.iloc[0][\"sent1\"]"
      ]
    },
    {
      "cell_type": "code",
      "execution_count": null,
      "metadata": {
        "colab": {
          "base_uri": "https://localhost:8080/"
        },
        "id": "uvNeyzFsTjhJ",
        "outputId": "b423df4f-a056-4abd-cece-ac653ea639e2"
      },
      "outputs": [
        {
          "data": {
            "text/html": [
              "== Status ==<br>Current time: 2022-08-20 09:44:29 (running for 00:30:25.10)<br>Memory usage on this node: 23.7/376.6 GiB<br>Using FIFO scheduling algorithm.<br>Resources requested: 0/4 CPUs, 0/4 GPUs, 0.0/252.27 GiB heap, 0.0/112.11 GiB objects (0.0/1.0 accelerator_type:V100)<br>Current best trial: a6161fe9 with val_loss=0.2717684694591622 and parameters={'learning_rate': 1.0471607729914847e-05, 'num_train_epochs': 4, 'per_device_train_batch_size': 16, 'seed': 21, 'global_max_steps': 9223372036854775807, 'learner': 'transformer', 'FLAML_sample_size': 10000}<br>Result logdir: /data/xliu127/projects/hyperopt/FLAML/notebook/data/output/train_2022-08-20_09-14-03<br>Number of trials: 12/1000000 (12 TERMINATED)<br><br>"
            ],
            "text/plain": [
              "<IPython.core.display.HTML object>"
            ]
          },
          "metadata": {},
          "output_type": "display_data"
        },
        {
          "name": "stderr",
          "output_type": "stream",
          "text": [
            "\u001b[2m\u001b[36m(train pid=9840)\u001b[0m The following columns in the test set  don't have a corresponding argument in `BertForMultipleChoice.forward` and have been ignored: sent1, ending3, video-id, startphrase, fold-ind, ending0, ending1, ending2, gold-source, sent2. If sent1, ending3, video-id, startphrase, fold-ind, ending0, ending1, ending2, gold-source, sent2 are not expected by `BertForMultipleChoice.forward`,  you can safely ignore this message.\n",
            "\u001b[2m\u001b[36m(train pid=9840)\u001b[0m ***** Running Prediction *****\n",
            "\u001b[2m\u001b[36m(train pid=9840)\u001b[0m   Num examples = 20006\n",
            "\u001b[2m\u001b[36m(train pid=9840)\u001b[0m   Batch size = 1\n"
          ]
        },
        {
          "name": "stdout",
          "output_type": "stream",
          "text": [
            "\u001b[2m\u001b[36m(train pid=10183)\u001b[0m {'eval_loss': 0.6692697405815125, 'eval_automl_metric': 0.25667299810056987, 'eval_runtime': 158.3379, 'eval_samples_per_second': 126.35, 'eval_steps_per_second': 126.35, 'epoch': 0.93}\n",
            "\u001b[2m\u001b[36m(train pid=10015)\u001b[0m {'eval_loss': 0.8068006634712219, 'eval_automl_metric': 0.301259622113366, 'eval_runtime': 166.133, 'eval_samples_per_second': 120.422, 'eval_steps_per_second': 120.422, 'epoch': 1.02}\n",
            "\u001b[2m\u001b[36m(train pid=10183)\u001b[0m {'train_runtime': 444.8991, 'train_samples_per_second': 89.908, 'train_steps_per_second': 11.239, 'train_loss': 0.9226323432562794, 'epoch': 0.93}\n",
            "\u001b[2m\u001b[36m(train pid=10015)\u001b[0m {'train_runtime': 462.8118, 'train_samples_per_second': 108.035, 'train_steps_per_second': 6.752, 'train_loss': 1.0871613750307578, 'epoch': 1.02}\n"
          ]
        },
        {
          "name": "stderr",
          "output_type": "stream",
          "text": [
            "\u001b[2m\u001b[36m(train pid=10183)\u001b[0m The following columns in the test set  don't have a corresponding argument in `BertForMultipleChoice.forward` and have been ignored: ending2, ending1, sent1, gold-source, ending0, fold-ind, video-id, ending3, sent2, startphrase. If ending2, ending1, sent1, gold-source, ending0, fold-ind, video-id, ending3, sent2, startphrase are not expected by `BertForMultipleChoice.forward`,  you can safely ignore this message.\n",
            "\u001b[2m\u001b[36m(train pid=10183)\u001b[0m ***** Running Prediction *****\n",
            "\u001b[2m\u001b[36m(train pid=10183)\u001b[0m   Num examples = 20006\n",
            "\u001b[2m\u001b[36m(train pid=10183)\u001b[0m   Batch size = 1\n",
            "\u001b[2m\u001b[36m(train pid=10015)\u001b[0m The following columns in the test set  don't have a corresponding argument in `BertForMultipleChoice.forward` and have been ignored: ending1, ending0, ending3, gold-source, video-id, fold-ind, startphrase, ending2, sent1, sent2. If ending1, ending0, ending3, gold-source, video-id, fold-ind, startphrase, ending2, sent1, sent2 are not expected by `BertForMultipleChoice.forward`,  you can safely ignore this message.\n",
            "\u001b[2m\u001b[36m(train pid=10015)\u001b[0m ***** Running Prediction *****\n",
            "\u001b[2m\u001b[36m(train pid=10015)\u001b[0m   Num examples = 20006\n",
            "\u001b[2m\u001b[36m(train pid=10015)\u001b[0m   Batch size = 1\n",
            "\u001b[2m\u001b[36m(train pid=9672)\u001b[0m Didn't find file /data/xliu127/projects/hyperopt/FLAML/notebook/data/output/train_2022-08-20_09-14-03/train_259ba87c_9_FLAML_sample_size=10000,global_max_steps=9223372036854775807,learner=transformer,learning_rate=0.0000,num_train_e_2022-08-20_09-35-49/checkpoint-630/added_tokens.json. We won't load it.\n",
            "\u001b[2m\u001b[36m(train pid=9672)\u001b[0m loading file /data/xliu127/projects/hyperopt/FLAML/notebook/data/output/train_2022-08-20_09-14-03/train_259ba87c_9_FLAML_sample_size=10000,global_max_steps=9223372036854775807,learner=transformer,learning_rate=0.0000,num_train_e_2022-08-20_09-35-49/checkpoint-630/vocab.txt\n",
            "\u001b[2m\u001b[36m(train pid=9672)\u001b[0m loading file /data/xliu127/projects/hyperopt/FLAML/notebook/data/output/train_2022-08-20_09-14-03/train_259ba87c_9_FLAML_sample_size=10000,global_max_steps=9223372036854775807,learner=transformer,learning_rate=0.0000,num_train_e_2022-08-20_09-35-49/checkpoint-630/tokenizer.json\n",
            "\u001b[2m\u001b[36m(train pid=9672)\u001b[0m loading file None\n",
            "\u001b[2m\u001b[36m(train pid=9672)\u001b[0m loading file /data/xliu127/projects/hyperopt/FLAML/notebook/data/output/train_2022-08-20_09-14-03/train_259ba87c_9_FLAML_sample_size=10000,global_max_steps=9223372036854775807,learner=transformer,learning_rate=0.0000,num_train_e_2022-08-20_09-35-49/checkpoint-630/special_tokens_map.json\n",
            "\u001b[2m\u001b[36m(train pid=9672)\u001b[0m loading file /data/xliu127/projects/hyperopt/FLAML/notebook/data/output/train_2022-08-20_09-14-03/train_259ba87c_9_FLAML_sample_size=10000,global_max_steps=9223372036854775807,learner=transformer,learning_rate=0.0000,num_train_e_2022-08-20_09-35-49/checkpoint-630/tokenizer_config.json\n",
            "\u001b[2m\u001b[36m(train pid=9840)\u001b[0m Didn't find file /data/xliu127/projects/hyperopt/FLAML/notebook/data/output/train_2022-08-20_09-14-03/train_31f5f7b3_10_FLAML_sample_size=10000,global_max_steps=9223372036854775807,learner=transformer,learning_rate=0.0000,num_train__2022-08-20_09-36-11/checkpoint-612/added_tokens.json. We won't load it.\n",
            "\u001b[2m\u001b[36m(train pid=9840)\u001b[0m loading file /data/xliu127/projects/hyperopt/FLAML/notebook/data/output/train_2022-08-20_09-14-03/train_31f5f7b3_10_FLAML_sample_size=10000,global_max_steps=9223372036854775807,learner=transformer,learning_rate=0.0000,num_train__2022-08-20_09-36-11/checkpoint-612/vocab.txt\n",
            "\u001b[2m\u001b[36m(train pid=9840)\u001b[0m loading file /data/xliu127/projects/hyperopt/FLAML/notebook/data/output/train_2022-08-20_09-14-03/train_31f5f7b3_10_FLAML_sample_size=10000,global_max_steps=9223372036854775807,learner=transformer,learning_rate=0.0000,num_train__2022-08-20_09-36-11/checkpoint-612/tokenizer.json\n",
            "\u001b[2m\u001b[36m(train pid=9840)\u001b[0m loading file None\n",
            "\u001b[2m\u001b[36m(train pid=9840)\u001b[0m loading file /data/xliu127/projects/hyperopt/FLAML/notebook/data/output/train_2022-08-20_09-14-03/train_31f5f7b3_10_FLAML_sample_size=10000,global_max_steps=9223372036854775807,learner=transformer,learning_rate=0.0000,num_train__2022-08-20_09-36-11/checkpoint-612/special_tokens_map.json\n",
            "\u001b[2m\u001b[36m(train pid=9840)\u001b[0m loading file /data/xliu127/projects/hyperopt/FLAML/notebook/data/output/train_2022-08-20_09-14-03/train_31f5f7b3_10_FLAML_sample_size=10000,global_max_steps=9223372036854775807,learner=transformer,learning_rate=0.0000,num_train__2022-08-20_09-36-11/checkpoint-612/tokenizer_config.json\n",
            "\u001b[2m\u001b[36m(train pid=10183)\u001b[0m Didn't find file /data/xliu127/projects/hyperopt/FLAML/notebook/data/output/train_2022-08-20_09-14-03/train_46c248b3_12_FLAML_sample_size=10000,global_max_steps=9223372036854775807,learner=transformer,learning_rate=0.0000,num_train__2022-08-20_09-36-46/checkpoint-1167/added_tokens.json. We won't load it.\n",
            "\u001b[2m\u001b[36m(train pid=10183)\u001b[0m loading file /data/xliu127/projects/hyperopt/FLAML/notebook/data/output/train_2022-08-20_09-14-03/train_46c248b3_12_FLAML_sample_size=10000,global_max_steps=9223372036854775807,learner=transformer,learning_rate=0.0000,num_train__2022-08-20_09-36-46/checkpoint-1167/vocab.txt\n",
            "\u001b[2m\u001b[36m(train pid=10183)\u001b[0m loading file /data/xliu127/projects/hyperopt/FLAML/notebook/data/output/train_2022-08-20_09-14-03/train_46c248b3_12_FLAML_sample_size=10000,global_max_steps=9223372036854775807,learner=transformer,learning_rate=0.0000,num_train__2022-08-20_09-36-46/checkpoint-1167/tokenizer.json\n",
            "\u001b[2m\u001b[36m(train pid=10183)\u001b[0m loading file None\n",
            "\u001b[2m\u001b[36m(train pid=10183)\u001b[0m loading file /data/xliu127/projects/hyperopt/FLAML/notebook/data/output/train_2022-08-20_09-14-03/train_46c248b3_12_FLAML_sample_size=10000,global_max_steps=9223372036854775807,learner=transformer,learning_rate=0.0000,num_train__2022-08-20_09-36-46/checkpoint-1167/special_tokens_map.json\n",
            "\u001b[2m\u001b[36m(train pid=10183)\u001b[0m loading file /data/xliu127/projects/hyperopt/FLAML/notebook/data/output/train_2022-08-20_09-14-03/train_46c248b3_12_FLAML_sample_size=10000,global_max_steps=9223372036854775807,learner=transformer,learning_rate=0.0000,num_train__2022-08-20_09-36-46/checkpoint-1167/tokenizer_config.json\n",
            "\u001b[2m\u001b[36m(train pid=10015)\u001b[0m Didn't find file /data/xliu127/projects/hyperopt/FLAML/notebook/data/output/train_2022-08-20_09-14-03/train_3f1c7a06_11_FLAML_sample_size=10000,global_max_steps=9223372036854775807,learner=transformer,learning_rate=0.0000,num_train__2022-08-20_09-36-32/checkpoint-635/added_tokens.json. We won't load it.\n",
            "\u001b[2m\u001b[36m(train pid=10015)\u001b[0m loading file /data/xliu127/projects/hyperopt/FLAML/notebook/data/output/train_2022-08-20_09-14-03/train_3f1c7a06_11_FLAML_sample_size=10000,global_max_steps=9223372036854775807,learner=transformer,learning_rate=0.0000,num_train__2022-08-20_09-36-32/checkpoint-635/vocab.txt\n",
            "\u001b[2m\u001b[36m(train pid=10015)\u001b[0m loading file /data/xliu127/projects/hyperopt/FLAML/notebook/data/output/train_2022-08-20_09-14-03/train_3f1c7a06_11_FLAML_sample_size=10000,global_max_steps=9223372036854775807,learner=transformer,learning_rate=0.0000,num_train__2022-08-20_09-36-32/checkpoint-635/tokenizer.json\n",
            "\u001b[2m\u001b[36m(train pid=10015)\u001b[0m loading file None\n",
            "\u001b[2m\u001b[36m(train pid=10015)\u001b[0m loading file /data/xliu127/projects/hyperopt/FLAML/notebook/data/output/train_2022-08-20_09-14-03/train_3f1c7a06_11_FLAML_sample_size=10000,global_max_steps=9223372036854775807,learner=transformer,learning_rate=0.0000,num_train__2022-08-20_09-36-32/checkpoint-635/special_tokens_map.json\n",
            "\u001b[2m\u001b[36m(train pid=10015)\u001b[0m loading file /data/xliu127/projects/hyperopt/FLAML/notebook/data/output/train_2022-08-20_09-14-03/train_3f1c7a06_11_FLAML_sample_size=10000,global_max_steps=9223372036854775807,learner=transformer,learning_rate=0.0000,num_train__2022-08-20_09-36-32/checkpoint-635/tokenizer_config.json\n",
            "2022-08-20 09:47:40,258\tINFO tune.py:747 -- Total run time: 2017.12 seconds (1805.20 seconds for the tuning loop).\n",
            "[flaml.automl: 08-20 09:47:52] {3322} INFO - selected model: None\n",
            "/data/installation/anaconda3/envs/tmp/lib/python3.8/site-packages/transformers/optimization.py:306: FutureWarning: This implementation of AdamW is deprecated and will be removed in a future version. Use the PyTorch implementation torch.optim.AdamW instead, or set `no_deprecation_warning=True` to disable this warning\n",
            "  warnings.warn(\n"
          ]
        },
        {
          "name": "stdout",
          "output_type": "stream",
          "text": [
            "{'loss': 1.0426, 'learning_rate': 1.0186867471868435e-05, 'epoch': 0.11}\n"
          ]
        },
        {
          "name": "stderr",
          "output_type": "stream",
          "text": [
            "[flaml.automl: 08-20 09:51:13] {3465} INFO - retrain transformer for 200.9s\n",
            "[flaml.automl: 08-20 09:51:13] {3472} INFO - retrained model: None\n",
            "[flaml.automl: 08-20 09:51:13] {2749} INFO - fit succeeded\n",
            "[flaml.automl: 08-20 09:51:13] {2750} INFO - Time taken to find the best model: 1323.6405737400055\n",
            "[flaml.automl: 08-20 09:51:13] {2761} WARNING - Time taken to find the best model is 74% of the provided time budget and not all estimators' hyperparameter search converged. Consider increasing the time budget.\n"
          ]
        },
        {
          "name": "stdout",
          "output_type": "stream",
          "text": [
            "{'train_runtime': 128.202, 'train_samples_per_second': 2294.692, 'train_steps_per_second': 143.43, 'train_loss': 1.0108715354543423, 'epoch': 0.14}\n"
          ]
        }
      ],
      "source": [
        "''' import AutoML class from flaml package '''\n",
        "from flaml import AutoML\n",
        "automl = AutoML()\n",
        "\n",
        "import ray\n",
        "\n",
        "if ray.is_initialized() == False:\n",
        "    ray.init(num_gpus=4, num_cpus=4)\n",
        "\n",
        "automl_settings = {\n",
        "    \"time_budget\": 1800,                 # setting the time budget\n",
        "    \"task\": \"multichoice-classification\",       # setting the task as multiplechoice-classification\n",
        "    \"fit_kwargs_by_estimator\": {          # if model_path is not set, the default model is facebook/muppet-roberta-base: https://huggingface.co/facebook/muppet-roberta-base\n",
        "        \"transformer\": {\n",
        "            \"output_dir\": \"data/output/\",  # setting the output directory\n",
        "            \"model_path\": \"bert-base-uncased\", # the batch size for validation (inference)\n",
        "        }\n",
        "    },\n",
        "    \"gpu_per_trial\": 1,                 # set to 0 if no GPU is available\n",
        "    \"log_file_name\": \"seqclass.log\",    # set the file to save the log for HPO\n",
        "    \"log_type\": \"all\",                  # the log type for trials: \"all\" if logging all the trials, \"better\" if only keeping the better trials\n",
        "    \"use_ray\": {\"local_dir\": \"data/output/\"},                    # set whether to use Ray\n",
        "    \"n_concurrent_trials\": 4\n",
        "}\n",
        "\n",
        "'''The main flaml automl API'''\n",
        "automl.fit(X_train=X_train, y_train=y_train, X_val=X_val, y_val=y_val, **automl_settings)"
      ]
    },
    {
      "cell_type": "code",
      "execution_count": null,
      "metadata": {
        "colab": {
          "base_uri": "https://localhost:8080/",
          "height": 350
        },
        "id": "kh7ZJsIKTjhJ",
        "outputId": "36fd683c-0792-4c26-ecc3-9e981b791b39"
      },
      "outputs": [
        {
          "name": "stdout",
          "output_type": "stream",
          "text": [
            "{'Current Learner': 'transformer', 'Current Sample': 10000, 'Current Hyper-parameters': {'learning_rate': 5.316409886511772e-06, 'num_train_epochs': 1, 'per_device_train_batch_size': 64, 'seed': 26, 'global_max_steps': 152, 'learner': 'transformer', 'FLAML_sample_size': 10000}, 'Best Learner': 'transformer', 'Best Hyper-parameters': {'learning_rate': 5.316409886511772e-06, 'num_train_epochs': 1, 'per_device_train_batch_size': 64, 'seed': 26, 'global_max_steps': 152, 'learner': 'transformer', 'FLAML_sample_size': 10000}}\n",
            "{'Current Learner': 'transformer', 'Current Sample': 10000, 'Current Hyper-parameters': {'learning_rate': 9.999999999999999e-06, 'num_train_epochs': 3, 'per_device_train_batch_size': 32, 'seed': 20, 'global_max_steps': 322, 'learner': 'transformer', 'FLAML_sample_size': 10000}, 'Best Learner': 'transformer', 'Best Hyper-parameters': {'learning_rate': 9.999999999999999e-06, 'num_train_epochs': 3, 'per_device_train_batch_size': 32, 'seed': 20, 'global_max_steps': 322, 'learner': 'transformer', 'FLAML_sample_size': 10000}}\n",
            "{'Current Learner': 'transformer', 'Current Sample': 10000, 'Current Hyper-parameters': {'learning_rate': 1.5662610420278344e-06, 'num_train_epochs': 1, 'per_device_train_batch_size': 64, 'seed': 6, 'global_max_steps': 151, 'learner': 'transformer', 'FLAML_sample_size': 10000}, 'Best Learner': 'transformer', 'Best Hyper-parameters': {'learning_rate': 9.999999999999999e-06, 'num_train_epochs': 3, 'per_device_train_batch_size': 32, 'seed': 20, 'global_max_steps': 322, 'learner': 'transformer', 'FLAML_sample_size': 10000}}\n",
            "{'Current Learner': 'transformer', 'Current Sample': 10000, 'Current Hyper-parameters': {'learning_rate': 5.461587558683657e-06, 'num_train_epochs': 1, 'per_device_train_batch_size': 64, 'seed': 25, 'global_max_steps': 157, 'learner': 'transformer', 'FLAML_sample_size': 10000}, 'Best Learner': 'transformer', 'Best Hyper-parameters': {'learning_rate': 9.999999999999999e-06, 'num_train_epochs': 3, 'per_device_train_batch_size': 32, 'seed': 20, 'global_max_steps': 322, 'learner': 'transformer', 'FLAML_sample_size': 10000}}\n",
            "{'Current Learner': 'transformer', 'Current Sample': 10000, 'Current Hyper-parameters': {'learning_rate': 5.163225512301641e-06, 'num_train_epochs': 1, 'per_device_train_batch_size': 64, 'seed': 20, 'global_max_steps': 152, 'learner': 'transformer', 'FLAML_sample_size': 10000}, 'Best Learner': 'transformer', 'Best Hyper-parameters': {'learning_rate': 9.999999999999999e-06, 'num_train_epochs': 3, 'per_device_train_batch_size': 32, 'seed': 20, 'global_max_steps': 322, 'learner': 'transformer', 'FLAML_sample_size': 10000}}\n",
            "{'Current Learner': 'transformer', 'Current Sample': 10000, 'Current Hyper-parameters': {'learning_rate': 1.0471607729914847e-05, 'num_train_epochs': 4, 'per_device_train_batch_size': 16, 'seed': 21, 'global_max_steps': 629, 'learner': 'transformer', 'FLAML_sample_size': 10000}, 'Best Learner': 'transformer', 'Best Hyper-parameters': {'learning_rate': 1.0471607729914847e-05, 'num_train_epochs': 4, 'per_device_train_batch_size': 16, 'seed': 21, 'global_max_steps': 629, 'learner': 'transformer', 'FLAML_sample_size': 10000}}\n",
            "{'Current Learner': 'transformer', 'Current Sample': 10000, 'Current Hyper-parameters': {'learning_rate': 9.54963197430746e-06, 'num_train_epochs': 2, 'per_device_train_batch_size': 64, 'seed': 19, 'global_max_steps': 154, 'learner': 'transformer', 'FLAML_sample_size': 10000}, 'Best Learner': 'transformer', 'Best Hyper-parameters': {'learning_rate': 1.0471607729914847e-05, 'num_train_epochs': 4, 'per_device_train_batch_size': 16, 'seed': 21, 'global_max_steps': 629, 'learner': 'transformer', 'FLAML_sample_size': 10000}}\n",
            "{'Current Learner': 'transformer', 'Current Sample': 10000, 'Current Hyper-parameters': {'learning_rate': 7.798079645313044e-06, 'num_train_epochs': 2, 'per_device_train_batch_size': 64, 'seed': 15, 'global_max_steps': 155, 'learner': 'transformer', 'FLAML_sample_size': 10000}, 'Best Learner': 'transformer', 'Best Hyper-parameters': {'learning_rate': 1.0471607729914847e-05, 'num_train_epochs': 4, 'per_device_train_batch_size': 16, 'seed': 21, 'global_max_steps': 629, 'learner': 'transformer', 'FLAML_sample_size': 10000}}\n",
            "8\n"
          ]
        },
        {
          "data": {
            "image/png": "[encoded data removed]",
            "text/plain": [
              "<Figure size 432x288 with 1 Axes>"
            ]
          },
          "metadata": {
            "needs_background": "light"
          },
          "output_type": "display_data"
        }
      ],
      "source": [
        "from flaml.data import get_output_from_log\n",
        "time_history, best_valid_loss_history, valid_loss_history, config_history, metric_history = \\\n",
        "    get_output_from_log(filename=automl_settings['log_file_name'], time_budget=3000)\n",
        "for config in config_history:\n",
        "    print(config)\n",
        "\n",
        "import matplotlib.pyplot as plt\n",
        "import numpy as np\n",
        "plt.title('Learning Curve')\n",
        "plt.xlabel('Wall Clock Time (s)')\n",
        "plt.ylabel('Validation Accuracy')\n",
        "print(len(valid_loss_history))\n",
        "plt.scatter(time_history, 1 - np.array(valid_loss_history))\n",
        "plt.step(time_history, 1 - np.array(best_valid_loss_history), where='post')\n",
        "plt.show()"
      ]
    },
    {
      "cell_type": "markdown",
      "metadata": {
        "id": "664qCdihTjhJ"
      },
      "source": [
        "### 4.2 Text Summarization Example"
      ]
    },
    {
      "cell_type": "markdown",
      "metadata": {
        "id": "kmB4kaF_TjhJ"
      },
      "source": [
        "The text summarization task summarizes a long text into a short sentence. For example:\n",
        "\n",
        "- Document: Army explosives experts were called out to deal with a suspect package at the offices on the Newtownards Road on Friday night. Roads were sealed off and traffic diverted as a controlled explosion was carried out. The premises, used by East Belfast MP Naomi Long, have been targeted a number of times. Most recently, petrol bomb attacks were carried out on the offices on consecutive nights in April and May. The attacks began following a Belfast City Council vote in December 2012 restricting the flying of the union flag at the City Hall. Condemning the latest hoax, Alliance MLA Chris Lyttle said: \"It is a serious incident for the local area, it causes serious disruption, it puts people's lives at risk, it can prevent emergency services reaching the area. \"Ultimately we need people with information to share that with the police in order for them to do their job and bring these people to justice.\n",
        "\n",
        "- Summary: A suspicious package left outside an Alliance Party office in east Belfast has been declared a hoax.\n",
        "\n",
        "In this example, we use FLAML to perform *abstractive summarization* using the t5-small language model, i.e., the summary is generated word-by-word. "
      ]
    },
    {
      "cell_type": "code",
      "execution_count": null,
      "metadata": {
        "colab": {
          "base_uri": "https://localhost:8080/"
        },
        "id": "amlQnvcxTjhK",
        "outputId": "5382a8f5-8c7a-4884-a8bf-8151c7f27624"
      },
      "outputs": [
        {
          "name": "stderr",
          "output_type": "stream",
          "text": [
            "Using custom data configuration default\n",
            "Reusing dataset xsum (/home/xliu127/.cache/huggingface/datasets/xsum/default/1.2.0/32c23220eadddb1149b16ed2e9430a05293768cfffbdfd151058697d4c11f934)\n",
            "Using custom data configuration default\n",
            "Reusing dataset xsum (/home/xliu127/.cache/huggingface/datasets/xsum/default/1.2.0/32c23220eadddb1149b16ed2e9430a05293768cfffbdfd151058697d4c11f934)\n"
          ]
        },
        {
          "name": "stdout",
          "output_type": "stream",
          "text": [
            "204045\n"
          ]
        },
        {
          "name": "stderr",
          "output_type": "stream",
          "text": [
            "Using custom data configuration default\n",
            "Reusing dataset xsum (/home/xliu127/.cache/huggingface/datasets/xsum/default/1.2.0/32c23220eadddb1149b16ed2e9430a05293768cfffbdfd151058697d4c11f934)\n"
          ]
        }
      ],
      "source": [
        "from datasets import load_dataset\n",
        "\n",
        "train_dataset = load_dataset(\"xsum\", split=\"train\").to_pandas()\n",
        "print(len(train_dataset))\n",
        "valid_dataset = load_dataset(\"xsum\", split=\"validation\").to_pandas()\n",
        "test_dataset = load_dataset(\"xsum\", split=\"test\").to_pandas()\n",
        "\n",
        "custom_sent_keys = [\"document\"]       # specify the column names of the input sentences\n",
        "label_key = \"summary\"                 # specify the column name of the label                              \n",
        "\n",
        "X_train, y_train = train_dataset[custom_sent_keys], train_dataset[label_key]\n",
        "X_val, y_val = valid_dataset[custom_sent_keys], valid_dataset[label_key]\n",
        "X_test = test_dataset[custom_sent_keys]"
      ]
    },
    {
      "cell_type": "code",
      "execution_count": null,
      "metadata": {
        "colab": {
          "base_uri": "https://localhost:8080/",
          "height": 626
        },
        "id": "aYq8XAtxTjhK",
        "outputId": "267fffbb-e5a5-4f45-b8d1-4f718b298e01"
      },
      "outputs": [
        {
          "data": {
            "text/html": [
              "== Status ==<br>Current time: 2022-08-20 10:53:00 (running for 01:00:10.16)<br>Memory usage on this node: 24.9/376.6 GiB<br>Using FIFO scheduling algorithm.<br>Resources requested: 0/4 CPUs, 0/4 GPUs, 0.0/252.27 GiB heap, 0.0/112.11 GiB objects (0.0/1.0 accelerator_type:V100)<br>Current best trial: 888b71b8 with val_loss=0.8562685839953479 and parameters={'learning_rate': 4.747405262702932e-05, 'num_train_epochs': 0.1, 'per_device_train_batch_size': 64, 'seed': 19, 'global_max_steps': 9223372036854775807, 'learner': 'transformer', 'FLAML_sample_size': 10000}<br>Result logdir: /data/xliu127/projects/hyperopt/FLAML/notebook/data/output/train_2022-08-20_09-52-50<br>Number of trials: 8/1000000 (8 TERMINATED)<br><br>"
            ],
            "text/plain": [
              "<IPython.core.display.HTML object>"
            ]
          },
          "metadata": {},
          "output_type": "display_data"
        },
        {
          "name": "stderr",
          "output_type": "stream",
          "text": [
            "\u001b[2m\u001b[36m(train pid=12776)\u001b[0m [nltk_data] Downloading package punkt to /home/xliu127/nltk_data...\n",
            "\u001b[2m\u001b[36m(train pid=12776)\u001b[0m [nltk_data]   Package punkt is already up-to-date!\n"
          ]
        },
        {
          "name": "stdout",
          "output_type": "stream",
          "text": [
            "\u001b[2m\u001b[36m(train pid=12776)\u001b[0m {'eval_loss': 3.629159688949585, 'eval_automl_metric': 0.8566706912648477, 'eval_runtime': 1292.7731, 'eval_samples_per_second': 8.766, 'eval_steps_per_second': 8.766, 'epoch': 0.1}\n",
            "\u001b[2m\u001b[36m(train pid=12776)\u001b[0m {'train_runtime': 1299.5697, 'train_samples_per_second': 0.769, 'train_steps_per_second': 0.012, 'train_loss': 3.952885627746582, 'epoch': 0.1}\n"
          ]
        },
        {
          "name": "stderr",
          "output_type": "stream",
          "text": [
            "\u001b[2m\u001b[36m(train pid=12943)\u001b[0m [nltk_data] Downloading package punkt to /home/xliu127/nltk_data...\n",
            "\u001b[2m\u001b[36m(train pid=12943)\u001b[0m [nltk_data]   Package punkt is already up-to-date!\n"
          ]
        },
        {
          "name": "stdout",
          "output_type": "stream",
          "text": [
            "\u001b[2m\u001b[36m(train pid=12943)\u001b[0m {'eval_loss': 3.3510377407073975, 'eval_automl_metric': 0.8490142159489932, 'eval_runtime': 1295.8577, 'eval_samples_per_second': 8.745, 'eval_steps_per_second': 8.745, 'epoch': 0.1}\n",
            "\u001b[2m\u001b[36m(train pid=12943)\u001b[0m {'train_runtime': 1303.1308, 'train_samples_per_second': 0.767, 'train_steps_per_second': 0.025, 'train_loss': 3.790097713470459, 'epoch': 0.1}\n"
          ]
        },
        {
          "name": "stderr",
          "output_type": "stream",
          "text": [
            "\u001b[2m\u001b[36m(train pid=12776)\u001b[0m ***** Running Prediction *****\n",
            "\u001b[2m\u001b[36m(train pid=12776)\u001b[0m   Num examples = 11332\n",
            "\u001b[2m\u001b[36m(train pid=12776)\u001b[0m   Batch size = 1\n",
            "\u001b[2m\u001b[36m(train pid=13121)\u001b[0m [nltk_data] Downloading package punkt to /home/xliu127/nltk_data...\n",
            "\u001b[2m\u001b[36m(train pid=13121)\u001b[0m [nltk_data]   Package punkt is already up-to-date!\n",
            "\u001b[2m\u001b[36m(train pid=12943)\u001b[0m ***** Running Prediction *****\n",
            "\u001b[2m\u001b[36m(train pid=12943)\u001b[0m   Num examples = 11332\n",
            "\u001b[2m\u001b[36m(train pid=12943)\u001b[0m   Batch size = 1\n"
          ]
        },
        {
          "name": "stdout",
          "output_type": "stream",
          "text": [
            "\u001b[2m\u001b[36m(train pid=13121)\u001b[0m {'eval_loss': 3.418060064315796, 'eval_automl_metric': 0.8528926893980235, 'eval_runtime': 1291.0528, 'eval_samples_per_second': 8.777, 'eval_steps_per_second': 8.777, 'epoch': 0.1}\n",
            "\u001b[2m\u001b[36m(train pid=13121)\u001b[0m {'train_runtime': 1297.7666, 'train_samples_per_second': 0.771, 'train_steps_per_second': 0.012, 'train_loss': 3.8431835174560547, 'epoch': 0.1}\n"
          ]
        },
        {
          "name": "stderr",
          "output_type": "stream",
          "text": [
            "\u001b[2m\u001b[36m(train pid=13121)\u001b[0m ***** Running Prediction *****\n",
            "\u001b[2m\u001b[36m(train pid=13121)\u001b[0m   Num examples = 11332\n",
            "\u001b[2m\u001b[36m(train pid=13121)\u001b[0m   Batch size = 1\n",
            "\u001b[2m\u001b[36m(train pid=13312)\u001b[0m [nltk_data] Downloading package punkt to /home/xliu127/nltk_data...\n",
            "\u001b[2m\u001b[36m(train pid=13312)\u001b[0m [nltk_data]   Package punkt is already up-to-date!\n"
          ]
        },
        {
          "name": "stdout",
          "output_type": "stream",
          "text": [
            "\u001b[2m\u001b[36m(train pid=13312)\u001b[0m {'eval_loss': 3.036466598510742, 'eval_automl_metric': 0.8168502922908516, 'eval_runtime': 1287.5045, 'eval_samples_per_second': 8.802, 'eval_steps_per_second': 8.802, 'epoch': 1.0}\n",
            "\u001b[2m\u001b[36m(train pid=13312)\u001b[0m {'train_runtime': 1341.8008, 'train_samples_per_second': 7.453, 'train_steps_per_second': 0.117, 'train_loss': 3.455144991540605, 'epoch': 1.0}\n"
          ]
        },
        {
          "name": "stderr",
          "output_type": "stream",
          "text": [
            "\u001b[2m\u001b[36m(train pid=13312)\u001b[0m ***** Running Prediction *****\n",
            "\u001b[2m\u001b[36m(train pid=13312)\u001b[0m   Num examples = 11332\n",
            "\u001b[2m\u001b[36m(train pid=13312)\u001b[0m   Batch size = 1\n",
            "\u001b[2m\u001b[36m(train pid=12776)\u001b[0m Didn't find file /data/xliu127/projects/hyperopt/FLAML/notebook/data/output/train_2022-08-20_09-52-50/train_bba8754c_5_FLAML_sample_size=10000,global_max_steps=9223372036854775807,learner=transformer,learning_rate=0.0000,num_train_e_2022-08-20_10-37-19/checkpoint-16/spiece.model. We won't load it.\n",
            "\u001b[2m\u001b[36m(train pid=12776)\u001b[0m Didn't find file /data/xliu127/projects/hyperopt/FLAML/notebook/data/output/train_2022-08-20_09-52-50/train_bba8754c_5_FLAML_sample_size=10000,global_max_steps=9223372036854775807,learner=transformer,learning_rate=0.0000,num_train_e_2022-08-20_10-37-19/checkpoint-16/added_tokens.json. We won't load it.\n",
            "\u001b[2m\u001b[36m(train pid=12776)\u001b[0m loading file None\n",
            "\u001b[2m\u001b[36m(train pid=12776)\u001b[0m loading file /data/xliu127/projects/hyperopt/FLAML/notebook/data/output/train_2022-08-20_09-52-50/train_bba8754c_5_FLAML_sample_size=10000,global_max_steps=9223372036854775807,learner=transformer,learning_rate=0.0000,num_train_e_2022-08-20_10-37-19/checkpoint-16/tokenizer.json\n",
            "\u001b[2m\u001b[36m(train pid=12776)\u001b[0m loading file None\n",
            "\u001b[2m\u001b[36m(train pid=12776)\u001b[0m loading file /data/xliu127/projects/hyperopt/FLAML/notebook/data/output/train_2022-08-20_09-52-50/train_bba8754c_5_FLAML_sample_size=10000,global_max_steps=9223372036854775807,learner=transformer,learning_rate=0.0000,num_train_e_2022-08-20_10-37-19/checkpoint-16/special_tokens_map.json\n",
            "\u001b[2m\u001b[36m(train pid=12776)\u001b[0m loading file /data/xliu127/projects/hyperopt/FLAML/notebook/data/output/train_2022-08-20_09-52-50/train_bba8754c_5_FLAML_sample_size=10000,global_max_steps=9223372036854775807,learner=transformer,learning_rate=0.0000,num_train_e_2022-08-20_10-37-19/checkpoint-16/tokenizer_config.json\n",
            "\u001b[2m\u001b[36m(train pid=12776)\u001b[0m [nltk_data] Downloading package punkt to /home/xliu127/nltk_data...\n",
            "\u001b[2m\u001b[36m(train pid=12776)\u001b[0m [nltk_data]   Package punkt is already up-to-date!\n",
            "\u001b[2m\u001b[36m(train pid=12943)\u001b[0m Didn't find file /data/xliu127/projects/hyperopt/FLAML/notebook/data/output/train_2022-08-20_09-52-50/train_c5039194_6_FLAML_sample_size=10000,global_max_steps=9223372036854775807,learner=transformer,learning_rate=0.0000,num_train_e_2022-08-20_10-37-35/checkpoint-32/spiece.model. We won't load it.\n",
            "\u001b[2m\u001b[36m(train pid=12943)\u001b[0m Didn't find file /data/xliu127/projects/hyperopt/FLAML/notebook/data/output/train_2022-08-20_09-52-50/train_c5039194_6_FLAML_sample_size=10000,global_max_steps=9223372036854775807,learner=transformer,learning_rate=0.0000,num_train_e_2022-08-20_10-37-35/checkpoint-32/added_tokens.json. We won't load it.\n",
            "\u001b[2m\u001b[36m(train pid=12943)\u001b[0m loading file None\n",
            "\u001b[2m\u001b[36m(train pid=12943)\u001b[0m loading file /data/xliu127/projects/hyperopt/FLAML/notebook/data/output/train_2022-08-20_09-52-50/train_c5039194_6_FLAML_sample_size=10000,global_max_steps=9223372036854775807,learner=transformer,learning_rate=0.0000,num_train_e_2022-08-20_10-37-35/checkpoint-32/tokenizer.json\n",
            "\u001b[2m\u001b[36m(train pid=12943)\u001b[0m loading file None\n",
            "\u001b[2m\u001b[36m(train pid=12943)\u001b[0m loading file /data/xliu127/projects/hyperopt/FLAML/notebook/data/output/train_2022-08-20_09-52-50/train_c5039194_6_FLAML_sample_size=10000,global_max_steps=9223372036854775807,learner=transformer,learning_rate=0.0000,num_train_e_2022-08-20_10-37-35/checkpoint-32/special_tokens_map.json\n",
            "\u001b[2m\u001b[36m(train pid=12943)\u001b[0m loading file /data/xliu127/projects/hyperopt/FLAML/notebook/data/output/train_2022-08-20_09-52-50/train_c5039194_6_FLAML_sample_size=10000,global_max_steps=9223372036854775807,learner=transformer,learning_rate=0.0000,num_train_e_2022-08-20_10-37-35/checkpoint-32/tokenizer_config.json\n",
            "\u001b[2m\u001b[36m(train pid=12943)\u001b[0m [nltk_data] Downloading package punkt to /home/xliu127/nltk_data...\n",
            "\u001b[2m\u001b[36m(train pid=12943)\u001b[0m [nltk_data]   Package punkt is already up-to-date!\n",
            "\u001b[2m\u001b[36m(train pid=13121)\u001b[0m Didn't find file /data/xliu127/projects/hyperopt/FLAML/notebook/data/output/train_2022-08-20_09-52-50/train_de0b5a76_7_FLAML_sample_size=10000,global_max_steps=9223372036854775807,learner=transformer,learning_rate=0.0001,num_train_e_2022-08-20_10-38-15/checkpoint-16/spiece.model. We won't load it.\n",
            "\u001b[2m\u001b[36m(train pid=13121)\u001b[0m Didn't find file /data/xliu127/projects/hyperopt/FLAML/notebook/data/output/train_2022-08-20_09-52-50/train_de0b5a76_7_FLAML_sample_size=10000,global_max_steps=9223372036854775807,learner=transformer,learning_rate=0.0001,num_train_e_2022-08-20_10-38-15/checkpoint-16/added_tokens.json. We won't load it.\n",
            "\u001b[2m\u001b[36m(train pid=13121)\u001b[0m loading file None\n",
            "\u001b[2m\u001b[36m(train pid=13121)\u001b[0m loading file /data/xliu127/projects/hyperopt/FLAML/notebook/data/output/train_2022-08-20_09-52-50/train_de0b5a76_7_FLAML_sample_size=10000,global_max_steps=9223372036854775807,learner=transformer,learning_rate=0.0001,num_train_e_2022-08-20_10-38-15/checkpoint-16/tokenizer.json\n",
            "\u001b[2m\u001b[36m(train pid=13121)\u001b[0m loading file None\n",
            "\u001b[2m\u001b[36m(train pid=13121)\u001b[0m loading file /data/xliu127/projects/hyperopt/FLAML/notebook/data/output/train_2022-08-20_09-52-50/train_de0b5a76_7_FLAML_sample_size=10000,global_max_steps=9223372036854775807,learner=transformer,learning_rate=0.0001,num_train_e_2022-08-20_10-38-15/checkpoint-16/special_tokens_map.json\n",
            "\u001b[2m\u001b[36m(train pid=13121)\u001b[0m loading file /data/xliu127/projects/hyperopt/FLAML/notebook/data/output/train_2022-08-20_09-52-50/train_de0b5a76_7_FLAML_sample_size=10000,global_max_steps=9223372036854775807,learner=transformer,learning_rate=0.0001,num_train_e_2022-08-20_10-38-15/checkpoint-16/tokenizer_config.json\n",
            "\u001b[2m\u001b[36m(train pid=13121)\u001b[0m [nltk_data] Downloading package punkt to /home/xliu127/nltk_data...\n",
            "\u001b[2m\u001b[36m(train pid=13121)\u001b[0m [nltk_data]   Package punkt is already up-to-date!\n",
            "\u001b[2m\u001b[36m(train pid=13312)\u001b[0m Didn't find file /data/xliu127/projects/hyperopt/FLAML/notebook/data/output/train_2022-08-20_09-52-50/train_f69bd7dc_8_FLAML_sample_size=10000,global_max_steps=9223372036854775807,learner=transformer,learning_rate=0.0000,num_train_e_2022-08-20_10-38-56/checkpoint-157/spiece.model. We won't load it.\n",
            "\u001b[2m\u001b[36m(train pid=13312)\u001b[0m Didn't find file /data/xliu127/projects/hyperopt/FLAML/notebook/data/output/train_2022-08-20_09-52-50/train_f69bd7dc_8_FLAML_sample_size=10000,global_max_steps=9223372036854775807,learner=transformer,learning_rate=0.0000,num_train_e_2022-08-20_10-38-56/checkpoint-157/added_tokens.json. We won't load it.\n",
            "\u001b[2m\u001b[36m(train pid=13312)\u001b[0m loading file None\n",
            "\u001b[2m\u001b[36m(train pid=13312)\u001b[0m loading file /data/xliu127/projects/hyperopt/FLAML/notebook/data/output/train_2022-08-20_09-52-50/train_f69bd7dc_8_FLAML_sample_size=10000,global_max_steps=9223372036854775807,learner=transformer,learning_rate=0.0000,num_train_e_2022-08-20_10-38-56/checkpoint-157/tokenizer.json\n",
            "\u001b[2m\u001b[36m(train pid=13312)\u001b[0m loading file None\n",
            "\u001b[2m\u001b[36m(train pid=13312)\u001b[0m loading file /data/xliu127/projects/hyperopt/FLAML/notebook/data/output/train_2022-08-20_09-52-50/train_f69bd7dc_8_FLAML_sample_size=10000,global_max_steps=9223372036854775807,learner=transformer,learning_rate=0.0000,num_train_e_2022-08-20_10-38-56/checkpoint-157/special_tokens_map.json\n",
            "\u001b[2m\u001b[36m(train pid=13312)\u001b[0m loading file /data/xliu127/projects/hyperopt/FLAML/notebook/data/output/train_2022-08-20_09-52-50/train_f69bd7dc_8_FLAML_sample_size=10000,global_max_steps=9223372036854775807,learner=transformer,learning_rate=0.0000,num_train_e_2022-08-20_10-38-56/checkpoint-157/tokenizer_config.json\n",
            "\u001b[2m\u001b[36m(train pid=13312)\u001b[0m [nltk_data] Downloading package punkt to /home/xliu127/nltk_data...\n",
            "\u001b[2m\u001b[36m(train pid=13312)\u001b[0m [nltk_data]   Package punkt is already up-to-date!\n",
            "2022-08-20 11:25:23,543\tINFO tune.py:747 -- Total run time: 5553.09 seconds (3602.98 seconds for the tuning loop).\n",
            "[flaml.automl: 08-20 11:25:27] {3322} INFO - selected model: None\n",
            "/data/installation/anaconda3/envs/tmp/lib/python3.8/site-packages/transformers/optimization.py:306: FutureWarning: This implementation of AdamW is deprecated and will be removed in a future version. Use the PyTorch implementation torch.optim.AdamW instead, or set `no_deprecation_warning=True` to disable this warning\n",
            "  warnings.warn(\n"
          ]
        },
        {
          "name": "stderr",
          "output_type": "stream",
          "text": [
            "[flaml.automl: 08-20 11:37:29] {3465} INFO - retrain transformer for 721.8s\n",
            "[flaml.automl: 08-20 11:37:29] {3472} INFO - retrained model: None\n",
            "[flaml.automl: 08-20 11:37:29] {2749} INFO - fit succeeded\n",
            "[flaml.automl: 08-20 11:37:29] {2750} INFO - Time taken to find the best model: 2666.945666074753\n",
            "[flaml.automl: 08-20 11:37:29] {2761} WARNING - Time taken to find the best model is 74% of the provided time budget and not all estimators' hyperparameter search converged. Consider increasing the time budget.\n"
          ]
        },
        {
          "name": "stdout",
          "output_type": "stream",
          "text": [
            "{'train_runtime': 9.5593, 'train_samples_per_second': 2134.522, 'train_steps_per_second': 33.371, 'train_loss': 3.9266421794891357, 'epoch': 0.01}\n"
          ]
        }
      ],
      "source": [
        "''' import AutoML class from flaml package '''\n",
        "from flaml import AutoML\n",
        "automl = AutoML()\n",
        "\n",
        "import ray\n",
        "\n",
        "if ray.is_initialized() == False:\n",
        "    ray.init(num_gpus=4, num_cpus=4)\n",
        "\n",
        "automl_settings = {\n",
        "    \"time_budget\": 3600,         # setting the time budget\n",
        "    \"task\": \"summarization\",    # setting the task as summarization\n",
        "    \"fit_kwargs_by_estimator\": {  # if model_path is not set, the default model is t5-small: https://huggingface.co/t5-small\n",
        "        \"transformer\": {\n",
        "            \"output_dir\": \"data/output/\",  # setting the output directory\n",
        "            \"model_path\": \"t5-small\",\n",
        "            \"pad_to_max_length\": True,\n",
        "        }\n",
        "    },\n",
        "    \"gpu_per_trial\": 1,  # set to 0 if no GPU is available\n",
        "    \"log_file_name\": \"seqclass.log\",  # set the file to save the log for HPO\n",
        "    \"log_type\": \"all\",   # the log type for trials: \"all\" if logging all the trials, \"better\" if only keeping the better trials\n",
        "    \"use_ray\": {\"local_dir\": \"data/output/\"},  # set whether to use Ray\n",
        "    \"metric\": \"rouge1\",\n",
        "    \"sample\": True,       # sample: False # if the time is sufficient (e.g., longer than one trial's running time), you can set \n",
        "    \"n_concurrent_trials\": 4,  \n",
        "}\n",
        "\n",
        "from flaml import tune\n",
        "custom_hp = {\n",
        "    \"transformer\": {\n",
        "            \"num_train_epochs\": {\n",
        "                \"domain\": tune.choice([0.1, 1, 2, 3, 4, 5]),\n",
        "                \"init_value\": 0.1,  \n",
        "                \"low_cost_init_value\": 0.1,\n",
        "            },\n",
        "        }\n",
        "}\n",
        "\n",
        "\n",
        "'''The main flaml automl API'''\n",
        "automl.fit(X_train=X_train, y_train=y_train, X_val=X_val, y_val=y_val, custom_hp=custom_hp, **automl_settings)"
      ]
    },
    {
      "cell_type": "code",
      "execution_count": null,
      "metadata": {
        "id": "xPy67MBFTjhK",
        "outputId": "fe0ca67e-b129-4889-ee03-972620bc8421",
        "scrolled": true
      },
      "outputs": [
        {
          "name": "stdout",
          "output_type": "stream",
          "text": [
            "{'Current Learner': 'transformer', 'Current Sample': 10000, 'Current Hyper-parameters': {'learning_rate': 4.747405262702932e-05, 'num_train_epochs': 0.1, 'per_device_train_batch_size': 64, 'seed': 19, 'global_max_steps': 16, 'learner': 'transformer', 'FLAML_sample_size': 10000}, 'Best Learner': 'transformer', 'Best Hyper-parameters': {'learning_rate': 4.747405262702932e-05, 'num_train_epochs': 0.1, 'per_device_train_batch_size': 64, 'seed': 19, 'global_max_steps': 16, 'learner': 'transformer', 'FLAML_sample_size': 10000}}\n",
            "{'Current Learner': 'transformer', 'Current Sample': 10000, 'Current Hyper-parameters': {'learning_rate': 1.5662610420278344e-06, 'num_train_epochs': 0.1, 'per_device_train_batch_size': 64, 'seed': 6, 'global_max_steps': 16, 'learner': 'transformer', 'FLAML_sample_size': 10000}, 'Best Learner': 'transformer', 'Best Hyper-parameters': {'learning_rate': 4.747405262702932e-05, 'num_train_epochs': 0.1, 'per_device_train_batch_size': 64, 'seed': 19, 'global_max_steps': 16, 'learner': 'transformer', 'FLAML_sample_size': 10000}}\n",
            "{'Current Learner': 'transformer', 'Current Sample': 10000, 'Current Hyper-parameters': {'learning_rate': 5.316409886511772e-06, 'num_train_epochs': 1, 'per_device_train_batch_size': 64, 'seed': 26, 'global_max_steps': 157, 'learner': 'transformer', 'FLAML_sample_size': 10000}, 'Best Learner': 'transformer', 'Best Hyper-parameters': {'learning_rate': 4.747405262702932e-05, 'num_train_epochs': 0.1, 'per_device_train_batch_size': 64, 'seed': 19, 'global_max_steps': 16, 'learner': 'transformer', 'FLAML_sample_size': 10000}}\n",
            "{'Current Learner': 'transformer', 'Current Sample': 10000, 'Current Hyper-parameters': {'learning_rate': 9.999999999999999e-06, 'num_train_epochs': 0.1, 'per_device_train_batch_size': 32, 'seed': 20, 'global_max_steps': 32, 'learner': 'transformer', 'FLAML_sample_size': 10000}, 'Best Learner': 'transformer', 'Best Hyper-parameters': {'learning_rate': 4.747405262702932e-05, 'num_train_epochs': 0.1, 'per_device_train_batch_size': 64, 'seed': 19, 'global_max_steps': 16, 'learner': 'transformer', 'FLAML_sample_size': 10000}}\n",
            "4\n"
          ]
        },
        {
          "data": {
            "image/png": "[encoded data removed]",
            "text/plain": [
              "<Figure size 432x288 with 1 Axes>"
            ]
          },
          "metadata": {
            "needs_background": "light"
          },
          "output_type": "display_data"
        }
      ],
      "source": [
        "\n",
        "from flaml.data import get_output_from_log\n",
        "time_history, best_valid_loss_history, valid_loss_history, config_history, metric_history = \\\n",
        "    get_output_from_log(filename=automl_settings['log_file_name'], time_budget=3000)\n",
        "for config in config_history:\n",
        "    print(config)\n",
        "\n",
        "import matplotlib.pyplot as plt\n",
        "import numpy as np\n",
        "plt.title('Learning Curve')\n",
        "plt.xlabel('Wall Clock Time (s)')\n",
        "plt.ylabel('Rouge 1')\n",
        "print(len(valid_loss_history))\n",
        "plt.scatter(time_history, 1 - np.array(valid_loss_history))\n",
        "plt.step(time_history, 1 - np.array(best_valid_loss_history), where='post')\n",
        "plt.show()"
      ]
    },
    {
      "cell_type": "code",
      "execution_count": null,
      "metadata": {
        "id": "AzID7DyALObP"
      },
      "outputs": [],
      "source": []
    }
  ],
  "metadata": {
    "accelerator": "GPU",
    "colab": {
      "collapsed_sections": [],
      "include_colab_link": true,
      "name": "Copy of automl_nlp.ipynb",
      "provenance": []
    },
    "gpuClass": "standard",
    "interpreter": {
      "hash": "e9d36fc5b7c3dd4177ff1b60184dd696c0acc18150a44682abca4d769811bd46"
    },
    "kernelspec": {
      "display_name": "Python 3 (ipykernel)",
      "language": "python",
      "name": "python3"
    },
    "language_info": {
      "codemirror_mode": {
        "name": "ipython",
        "version": 3
      },
      "file_extension": ".py",
      "mimetype": "text/x-python",
      "name": "python",
      "nbconvert_exporter": "python",
      "pygments_lexer": "ipython3",
      "version": "3.8.0"
    },
    "widgets": {
      "application/vnd.jupyter.widget-state+json": {
        "007a43463f5e4da3983f59dfeb793e64": {
          "model_module": "@jupyter-widgets/controls",
          "model_module_version": "1.5.0",
          "model_name": "DescriptionStyleModel",
          "state": {
            "_model_module": "@jupyter-widgets/controls",
            "_model_module_version": "1.5.0",
            "_model_name": "DescriptionStyleModel",
            "_view_count": null,
            "_view_module": "@jupyter-widgets/base",
            "_view_module_version": "1.2.0",
            "_view_name": "StyleView",
            "description_width": ""
          }
        },
        "069feb62f1ec4392b04ee1d80aa4b445": {
          "model_module": "@jupyter-widgets/base",
          "model_module_version": "1.2.0",
          "model_name": "LayoutModel",
          "state": {
            "_model_module": "@jupyter-widgets/base",
            "_model_module_version": "1.2.0",
            "_model_name": "LayoutModel",
            "_view_count": null,
            "_view_module": "@jupyter-widgets/base",
            "_view_module_version": "1.2.0",
            "_view_name": "LayoutView",
            "align_content": null,
            "align_items": null,
            "align_self": null,
            "border": null,
            "bottom": null,
            "display": null,
            "flex": null,
            "flex_flow": null,
            "grid_area": null,
            "grid_auto_columns": null,
            "grid_auto_flow": null,
            "grid_auto_rows": null,
            "grid_column": null,
            "grid_gap": null,
            "grid_row": null,
            "grid_template_areas": null,
            "grid_template_columns": null,
            "grid_template_rows": null,
            "height": null,
            "justify_content": null,
            "justify_items": null,
            "left": null,
            "margin": null,
            "max_height": null,
            "max_width": null,
            "min_height": null,
            "min_width": null,
            "object_fit": null,
            "object_position": null,
            "order": null,
            "overflow": null,
            "overflow_x": null,
            "overflow_y": null,
            "padding": null,
            "right": null,
            "top": null,
            "visibility": null,
            "width": null
          }
        },
        "0c3a0eb88b16493e9d0f62e3d5abf195": {
          "model_module": "@jupyter-widgets/controls",
          "model_module_version": "1.5.0",
          "model_name": "DescriptionStyleModel",
          "state": {
            "_model_module": "@jupyter-widgets/controls",
            "_model_module_version": "1.5.0",
            "_model_name": "DescriptionStyleModel",
            "_view_count": null,
            "_view_module": "@jupyter-widgets/base",
            "_view_module_version": "1.2.0",
            "_view_name": "StyleView",
            "description_width": ""
          }
        },
        "0c8473019e434db0ae34d58b69605a69": {
          "model_module": "@jupyter-widgets/controls",
          "model_module_version": "2.0.0",
          "model_name": "HTMLModel",
          "state": {
            "_dom_classes": [],
            "_model_module": "@jupyter-widgets/controls",
            "_model_module_version": "2.0.0",
            "_model_name": "HTMLModel",
            "_view_count": null,
            "_view_module": "@jupyter-widgets/controls",
            "_view_module_version": "2.0.0",
            "_view_name": "HTMLView",
            "description": "",
            "description_allow_html": false,
            "layout": "IPY_MODEL_1794a34790b647b3a8a845c55e5e0744",
            "placeholder": "​",
            "style": "IPY_MODEL_13d813116e1846a3a0e42a5e8423f80e",
            "tabbable": null,
            "tooltip": null,
            "value": " 7.44M/7.44M [00:00&lt;00:00, 13.9MB/s]"
          }
        },
        "129488cadbb9477ca593ae106ee8e9f7": {
          "model_module": "@jupyter-widgets/base",
          "model_module_version": "2.0.0",
          "model_name": "LayoutModel",
          "state": {
            "_model_module": "@jupyter-widgets/base",
            "_model_module_version": "2.0.0",
            "_model_name": "LayoutModel",
            "_view_count": null,
            "_view_module": "@jupyter-widgets/base",
            "_view_module_version": "2.0.0",
            "_view_name": "LayoutView",
            "align_content": null,
            "align_items": null,
            "align_self": null,
            "border_bottom": null,
            "border_left": null,
            "border_right": null,
            "border_top": null,
            "bottom": null,
            "display": null,
            "flex": null,
            "flex_flow": null,
            "grid_area": null,
            "grid_auto_columns": null,
            "grid_auto_flow": null,
            "grid_auto_rows": null,
            "grid_column": null,
            "grid_gap": null,
            "grid_row": null,
            "grid_template_areas": null,
            "grid_template_columns": null,
            "grid_template_rows": null,
            "height": null,
            "justify_content": null,
            "justify_items": null,
            "left": null,
            "margin": null,
            "max_height": null,
            "max_width": null,
            "min_height": null,
            "min_width": null,
            "object_fit": null,
            "object_position": null,
            "order": null,
            "overflow": null,
            "padding": null,
            "right": null,
            "top": null,
            "visibility": null,
            "width": null
          }
        },
        "13d813116e1846a3a0e42a5e8423f80e": {
          "model_module": "@jupyter-widgets/controls",
          "model_module_version": "2.0.0",
          "model_name": "HTMLStyleModel",
          "state": {
            "_model_module": "@jupyter-widgets/controls",
            "_model_module_version": "2.0.0",
            "_model_name": "HTMLStyleModel",
            "_view_count": null,
            "_view_module": "@jupyter-widgets/base",
            "_view_module_version": "2.0.0",
            "_view_name": "StyleView",
            "background": null,
            "description_width": "",
            "font_size": null,
            "text_color": null
          }
        },
        "155d7e95c2504507b83b12dc60f1edc1": {
          "model_module": "@jupyter-widgets/controls",
          "model_module_version": "1.5.0",
          "model_name": "HBoxModel",
          "state": {
            "_dom_classes": [],
            "_model_module": "@jupyter-widgets/controls",
            "_model_module_version": "1.5.0",
            "_model_name": "HBoxModel",
            "_view_count": null,
            "_view_module": "@jupyter-widgets/controls",
            "_view_module_version": "1.5.0",
            "_view_name": "HBoxView",
            "box_style": "",
            "children": [
              "IPY_MODEL_feaf1f712b8e499db2558dc0fdd4261e",
              "IPY_MODEL_51392c27affa4fd3b4184cde01b7029d",
              "IPY_MODEL_5dd6914461ea456e9dc96ccf8c391c6e"
            ],
            "layout": "IPY_MODEL_069feb62f1ec4392b04ee1d80aa4b445"
          }
        },
        "16fba9eb9e4542bc9d34eca00d71cc14": {
          "model_module": "@jupyter-widgets/controls",
          "model_module_version": "2.0.0",
          "model_name": "HBoxModel",
          "state": {
            "_dom_classes": [],
            "_model_module": "@jupyter-widgets/controls",
            "_model_module_version": "2.0.0",
            "_model_name": "HBoxModel",
            "_view_count": null,
            "_view_module": "@jupyter-widgets/controls",
            "_view_module_version": "2.0.0",
            "_view_name": "HBoxView",
            "box_style": "",
            "children": [
              "IPY_MODEL_c81f11a99b9d4d1d95533f24bea1d5ac",
              "IPY_MODEL_e4ce5cf6ea174583a14675a75d31992d",
              "IPY_MODEL_0c8473019e434db0ae34d58b69605a69"
            ],
            "layout": "IPY_MODEL_814d3f2b7212461ca51f8635b5106783",
            "tabbable": null,
            "tooltip": null
          }
        },
        "1794a34790b647b3a8a845c55e5e0744": {
          "model_module": "@jupyter-widgets/base",
          "model_module_version": "2.0.0",
          "model_name": "LayoutModel",
          "state": {
            "_model_module": "@jupyter-widgets/base",
            "_model_module_version": "2.0.0",
            "_model_name": "LayoutModel",
            "_view_count": null,
            "_view_module": "@jupyter-widgets/base",
            "_view_module_version": "2.0.0",
            "_view_name": "LayoutView",
            "align_content": null,
            "align_items": null,
            "align_self": null,
            "border_bottom": null,
            "border_left": null,
            "border_right": null,
            "border_top": null,
            "bottom": null,
            "display": null,
            "flex": null,
            "flex_flow": null,
            "grid_area": null,
            "grid_auto_columns": null,
            "grid_auto_flow": null,
            "grid_auto_rows": null,
            "grid_column": null,
            "grid_gap": null,
            "grid_row": null,
            "grid_template_areas": null,
            "grid_template_columns": null,
            "grid_template_rows": null,
            "height": null,
            "justify_content": null,
            "justify_items": null,
            "left": null,
            "margin": null,
            "max_height": null,
            "max_width": null,
            "min_height": null,
            "min_width": null,
            "object_fit": null,
            "object_position": null,
            "order": null,
            "overflow": null,
            "padding": null,
            "right": null,
            "top": null,
            "visibility": null,
            "width": null
          }
        },
        "18091d361aa44881a3db5d1951882082": {
          "model_module": "@jupyter-widgets/base",
          "model_module_version": "1.2.0",
          "model_name": "LayoutModel",
          "state": {
            "_model_module": "@jupyter-widgets/base",
            "_model_module_version": "1.2.0",
            "_model_name": "LayoutModel",
            "_view_count": null,
            "_view_module": "@jupyter-widgets/base",
            "_view_module_version": "1.2.0",
            "_view_name": "LayoutView",
            "align_content": null,
            "align_items": null,
            "align_self": null,
            "border": null,
            "bottom": null,
            "display": null,
            "flex": null,
            "flex_flow": null,
            "grid_area": null,
            "grid_auto_columns": null,
            "grid_auto_flow": null,
            "grid_auto_rows": null,
            "grid_column": null,
            "grid_gap": null,
            "grid_row": null,
            "grid_template_areas": null,
            "grid_template_columns": null,
            "grid_template_rows": null,
            "height": null,
            "justify_content": null,
            "justify_items": null,
            "left": null,
            "margin": null,
            "max_height": null,
            "max_width": null,
            "min_height": null,
            "min_width": null,
            "object_fit": null,
            "object_position": null,
            "order": null,
            "overflow": null,
            "overflow_x": null,
            "overflow_y": null,
            "padding": null,
            "right": null,
            "top": null,
            "visibility": null,
            "width": null
          }
        },
        "1a701b0fa5a34fb9b64fb92b5c8e4306": {
          "model_module": "@jupyter-widgets/controls",
          "model_module_version": "1.5.0",
          "model_name": "DescriptionStyleModel",
          "state": {
            "_model_module": "@jupyter-widgets/controls",
            "_model_module_version": "1.5.0",
            "_model_name": "DescriptionStyleModel",
            "_view_count": null,
            "_view_module": "@jupyter-widgets/base",
            "_view_module_version": "1.2.0",
            "_view_name": "StyleView",
            "description_width": ""
          }
        },
        "1fb6335656b1444abe05aa94a7d13825": {
          "model_module": "@jupyter-widgets/controls",
          "model_module_version": "1.5.0",
          "model_name": "HTMLModel",
          "state": {
            "_dom_classes": [],
            "_model_module": "@jupyter-widgets/controls",
            "_model_module_version": "1.5.0",
            "_model_name": "HTMLModel",
            "_view_count": null,
            "_view_module": "@jupyter-widgets/controls",
            "_view_module_version": "1.5.0",
            "_view_name": "HTMLView",
            "description": "",
            "description_tooltip": null,
            "layout": "IPY_MODEL_6a24dd061b2d40d4baca4036059fc94c",
            "placeholder": "​",
            "style": "IPY_MODEL_9fdc731eb58247cbafef9286b49c66f9",
            "value": " 19566/20006 [00:02&lt;00:00, 9081.23 examples/s]"
          }
        },
        "1fed6cdd71c4453b976e8651b7b34cae": {
          "model_module": "@jupyter-widgets/controls",
          "model_module_version": "1.5.0",
          "model_name": "ProgressStyleModel",
          "state": {
            "_model_module": "@jupyter-widgets/controls",
            "_model_module_version": "1.5.0",
            "_model_name": "ProgressStyleModel",
            "_view_count": null,
            "_view_module": "@jupyter-widgets/base",
            "_view_module_version": "1.2.0",
            "_view_name": "StyleView",
            "bar_color": null,
            "description_width": ""
          }
        },
        "1ffd6e8c1f834dc48d66116b6089f7a2": {
          "model_module": "@jupyter-widgets/controls",
          "model_module_version": "1.5.0",
          "model_name": "DescriptionStyleModel",
          "state": {
            "_model_module": "@jupyter-widgets/controls",
            "_model_module_version": "1.5.0",
            "_model_name": "DescriptionStyleModel",
            "_view_count": null,
            "_view_module": "@jupyter-widgets/base",
            "_view_module_version": "1.2.0",
            "_view_name": "StyleView",
            "description_width": ""
          }
        },
        "20624397998c4e188b419c6267affb65": {
          "model_module": "@jupyter-widgets/base",
          "model_module_version": "1.2.0",
          "model_name": "LayoutModel",
          "state": {
            "_model_module": "@jupyter-widgets/base",
            "_model_module_version": "1.2.0",
            "_model_name": "LayoutModel",
            "_view_count": null,
            "_view_module": "@jupyter-widgets/base",
            "_view_module_version": "1.2.0",
            "_view_name": "LayoutView",
            "align_content": null,
            "align_items": null,
            "align_self": null,
            "border": null,
            "bottom": null,
            "display": null,
            "flex": null,
            "flex_flow": null,
            "grid_area": null,
            "grid_auto_columns": null,
            "grid_auto_flow": null,
            "grid_auto_rows": null,
            "grid_column": null,
            "grid_gap": null,
            "grid_row": null,
            "grid_template_areas": null,
            "grid_template_columns": null,
            "grid_template_rows": null,
            "height": null,
            "justify_content": null,
            "justify_items": null,
            "left": null,
            "margin": null,
            "max_height": null,
            "max_width": null,
            "min_height": null,
            "min_width": null,
            "object_fit": null,
            "object_position": null,
            "order": null,
            "overflow": null,
            "overflow_x": null,
            "overflow_y": null,
            "padding": null,
            "right": null,
            "top": null,
            "visibility": null,
            "width": null
          }
        },
        "20abb46ea9c948b8ba85a921aee8af6d": {
          "model_module": "@jupyter-widgets/controls",
          "model_module_version": "1.5.0",
          "model_name": "DescriptionStyleModel",
          "state": {
            "_model_module": "@jupyter-widgets/controls",
            "_model_module_version": "1.5.0",
            "_model_name": "DescriptionStyleModel",
            "_view_count": null,
            "_view_module": "@jupyter-widgets/base",
            "_view_module_version": "1.2.0",
            "_view_name": "StyleView",
            "description_width": ""
          }
        },
        "21f848683b2648c08a7476658d382177": {
          "model_module": "@jupyter-widgets/controls",
          "model_module_version": "1.5.0",
          "model_name": "ProgressStyleModel",
          "state": {
            "_model_module": "@jupyter-widgets/controls",
            "_model_module_version": "1.5.0",
            "_model_name": "ProgressStyleModel",
            "_view_count": null,
            "_view_module": "@jupyter-widgets/base",
            "_view_module_version": "1.2.0",
            "_view_name": "StyleView",
            "bar_color": null,
            "description_width": ""
          }
        },
        "263e99ca21124b79a26e1078b187273d": {
          "model_module": "@jupyter-widgets/controls",
          "model_module_version": "1.5.0",
          "model_name": "HTMLModel",
          "state": {
            "_dom_classes": [],
            "_model_module": "@jupyter-widgets/controls",
            "_model_module_version": "1.5.0",
            "_model_name": "HTMLModel",
            "_view_count": null,
            "_view_module": "@jupyter-widgets/controls",
            "_view_module_version": "1.5.0",
            "_view_name": "HTMLView",
            "description": "",
            "description_tooltip": null,
            "layout": "IPY_MODEL_a91dc7ddd7f641d9b60b59bbbde7bae6",
            "placeholder": "​",
            "style": "IPY_MODEL_96c6874b9bd045a5bc67596b2ab04df2",
            "value": "Generating train split: 100%"
          }
        },
        "26885bbae6c646e7bcc4a0459620c37a": {
          "model_module": "@jupyter-widgets/base",
          "model_module_version": "1.2.0",
          "model_name": "LayoutModel",
          "state": {
            "_model_module": "@jupyter-widgets/base",
            "_model_module_version": "1.2.0",
            "_model_name": "LayoutModel",
            "_view_count": null,
            "_view_module": "@jupyter-widgets/base",
            "_view_module_version": "1.2.0",
            "_view_name": "LayoutView",
            "align_content": null,
            "align_items": null,
            "align_self": null,
            "border": null,
            "bottom": null,
            "display": null,
            "flex": null,
            "flex_flow": null,
            "grid_area": null,
            "grid_auto_columns": null,
            "grid_auto_flow": null,
            "grid_auto_rows": null,
            "grid_column": null,
            "grid_gap": null,
            "grid_row": null,
            "grid_template_areas": null,
            "grid_template_columns": null,
            "grid_template_rows": null,
            "height": null,
            "justify_content": null,
            "justify_items": null,
            "left": null,
            "margin": null,
            "max_height": null,
            "max_width": null,
            "min_height": null,
            "min_width": null,
            "object_fit": null,
            "object_position": null,
            "order": null,
            "overflow": null,
            "overflow_x": null,
            "overflow_y": null,
            "padding": null,
            "right": null,
            "top": null,
            "visibility": null,
            "width": null
          }
        },
        "26f3abaf861a4c63986ff0691294d70c": {
          "model_module": "@jupyter-widgets/base",
          "model_module_version": "1.2.0",
          "model_name": "LayoutModel",
          "state": {
            "_model_module": "@jupyter-widgets/base",
            "_model_module_version": "1.2.0",
            "_model_name": "LayoutModel",
            "_view_count": null,
            "_view_module": "@jupyter-widgets/base",
            "_view_module_version": "1.2.0",
            "_view_name": "LayoutView",
            "align_content": null,
            "align_items": null,
            "align_self": null,
            "border": null,
            "bottom": null,
            "display": null,
            "flex": null,
            "flex_flow": null,
            "grid_area": null,
            "grid_auto_columns": null,
            "grid_auto_flow": null,
            "grid_auto_rows": null,
            "grid_column": null,
            "grid_gap": null,
            "grid_row": null,
            "grid_template_areas": null,
            "grid_template_columns": null,
            "grid_template_rows": null,
            "height": null,
            "justify_content": null,
            "justify_items": null,
            "left": null,
            "margin": null,
            "max_height": null,
            "max_width": null,
            "min_height": null,
            "min_width": null,
            "object_fit": null,
            "object_position": null,
            "order": null,
            "overflow": null,
            "overflow_x": null,
            "overflow_y": null,
            "padding": null,
            "right": null,
            "top": null,
            "visibility": null,
            "width": null
          }
        },
        "2a1aa694683d4df9b509f5ce4d6d53b0": {
          "model_module": "@jupyter-widgets/controls",
          "model_module_version": "1.5.0",
          "model_name": "DescriptionStyleModel",
          "state": {
            "_model_module": "@jupyter-widgets/controls",
            "_model_module_version": "1.5.0",
            "_model_name": "DescriptionStyleModel",
            "_view_count": null,
            "_view_module": "@jupyter-widgets/base",
            "_view_module_version": "1.2.0",
            "_view_name": "StyleView",
            "description_width": ""
          }
        },
        "2aa02213244048fead33ea157c17837b": {
          "model_module": "@jupyter-widgets/controls",
          "model_module_version": "2.0.0",
          "model_name": "HBoxModel",
          "state": {
            "_dom_classes": [],
            "_model_module": "@jupyter-widgets/controls",
            "_model_module_version": "2.0.0",
            "_model_name": "HBoxModel",
            "_view_count": null,
            "_view_module": "@jupyter-widgets/controls",
            "_view_module_version": "2.0.0",
            "_view_name": "HBoxView",
            "box_style": "",
            "children": [
              "IPY_MODEL_dfee126a02ef4934a0f654a101dadc1b",
              "IPY_MODEL_8e58d795d528405f8d1c48bfc2afe399",
              "IPY_MODEL_e23212ae504e493a85e4b2524f0217e1"
            ],
            "layout": "IPY_MODEL_b84af540de4741ceb206456d2f05fa4b",
            "tabbable": null,
            "tooltip": null
          }
        },
        "2aa0f33b8d3a4bc7bedf3b66e06b62f0": {
          "model_module": "@jupyter-widgets/controls",
          "model_module_version": "2.0.0",
          "model_name": "ProgressStyleModel",
          "state": {
            "_model_module": "@jupyter-widgets/controls",
            "_model_module_version": "2.0.0",
            "_model_name": "ProgressStyleModel",
            "_view_count": null,
            "_view_module": "@jupyter-widgets/base",
            "_view_module_version": "2.0.0",
            "_view_name": "StyleView",
            "bar_color": null,
            "description_width": ""
          }
        },
        "2c31d2eb9ae44ffbb0f02ad1b1e7937a": {
          "model_module": "@jupyter-widgets/controls",
          "model_module_version": "2.0.0",
          "model_name": "HBoxModel",
          "state": {
            "_dom_classes": [],
            "_model_module": "@jupyter-widgets/controls",
            "_model_module_version": "2.0.0",
            "_model_name": "HBoxModel",
            "_view_count": null,
            "_view_module": "@jupyter-widgets/controls",
            "_view_module_version": "2.0.0",
            "_view_name": "HBoxView",
            "box_style": "",
            "children": [
              "IPY_MODEL_cd5ec1bd9cf54dbfbfd577a096a9e588",
              "IPY_MODEL_d1ba6870db484696879f0d6e5d3a9d70",
              "IPY_MODEL_e7405147ca374cc4998ca947be069652"
            ],
            "layout": "IPY_MODEL_fb72bbb82aec4184a8e0a510177433cf",
            "tabbable": null,
            "tooltip": null
          }
        },
        "2d975d14c3f0434583e73ae97f580951": {
          "model_module": "@jupyter-widgets/controls",
          "model_module_version": "1.5.0",
          "model_name": "ProgressStyleModel",
          "state": {
            "_model_module": "@jupyter-widgets/controls",
            "_model_module_version": "1.5.0",
            "_model_name": "ProgressStyleModel",
            "_view_count": null,
            "_view_module": "@jupyter-widgets/base",
            "_view_module_version": "1.2.0",
            "_view_name": "StyleView",
            "bar_color": null,
            "description_width": ""
          }
        },
        "2e00672f9d1f46cea3e5db651bca19a3": {
          "model_module": "@jupyter-widgets/controls",
          "model_module_version": "1.5.0",
          "model_name": "HBoxModel",
          "state": {
            "_dom_classes": [],
            "_model_module": "@jupyter-widgets/controls",
            "_model_module_version": "1.5.0",
            "_model_name": "HBoxModel",
            "_view_count": null,
            "_view_module": "@jupyter-widgets/controls",
            "_view_module_version": "1.5.0",
            "_view_name": "HBoxView",
            "box_style": "",
            "children": [
              "IPY_MODEL_cc378c1990634f7da6ffba019fe38c59",
              "IPY_MODEL_642323b1bafa4d0fbeca1adff2426c02",
              "IPY_MODEL_a902290681e942cbae40024baaa2e9b7"
            ],
            "layout": "IPY_MODEL_3a014eef1b7d44698572bc5cada4cb8c"
          }
        },
        "2e0b939889d84c07a90d36a57065aac4": {
          "model_module": "@jupyter-widgets/base",
          "model_module_version": "1.2.0",
          "model_name": "LayoutModel",
          "state": {
            "_model_module": "@jupyter-widgets/base",
            "_model_module_version": "1.2.0",
            "_model_name": "LayoutModel",
            "_view_count": null,
            "_view_module": "@jupyter-widgets/base",
            "_view_module_version": "1.2.0",
            "_view_name": "LayoutView",
            "align_content": null,
            "align_items": null,
            "align_self": null,
            "border": null,
            "bottom": null,
            "display": null,
            "flex": null,
            "flex_flow": null,
            "grid_area": null,
            "grid_auto_columns": null,
            "grid_auto_flow": null,
            "grid_auto_rows": null,
            "grid_column": null,
            "grid_gap": null,
            "grid_row": null,
            "grid_template_areas": null,
            "grid_template_columns": null,
            "grid_template_rows": null,
            "height": null,
            "justify_content": null,
            "justify_items": null,
            "left": null,
            "margin": null,
            "max_height": null,
            "max_width": null,
            "min_height": null,
            "min_width": null,
            "object_fit": null,
            "object_position": null,
            "order": null,
            "overflow": null,
            "overflow_x": null,
            "overflow_y": null,
            "padding": null,
            "right": null,
            "top": null,
            "visibility": null,
            "width": null
          }
        },
        "35151380719b41349a2113b0b893bd6f": {
          "model_module": "@jupyter-widgets/controls",
          "model_module_version": "1.5.0",
          "model_name": "FloatProgressModel",
          "state": {
            "_dom_classes": [],
            "_model_module": "@jupyter-widgets/controls",
            "_model_module_version": "1.5.0",
            "_model_name": "FloatProgressModel",
            "_view_count": null,
            "_view_module": "@jupyter-widgets/controls",
            "_view_module_version": "1.5.0",
            "_view_name": "ProgressView",
            "bar_style": "",
            "description": "",
            "description_tooltip": null,
            "layout": "IPY_MODEL_efca4a3072e94170a1b851f9dec6164d",
            "max": 20006,
            "min": 0,
            "orientation": "horizontal",
            "style": "IPY_MODEL_791101442898470f8524ebee4cb9459d",
            "value": 20006
          }
        },
        "3588f07c45694ec4a484afaaa9e9c599": {
          "model_module": "@jupyter-widgets/controls",
          "model_module_version": "1.5.0",
          "model_name": "HBoxModel",
          "state": {
            "_dom_classes": [],
            "_model_module": "@jupyter-widgets/controls",
            "_model_module_version": "1.5.0",
            "_model_name": "HBoxModel",
            "_view_count": null,
            "_view_module": "@jupyter-widgets/controls",
            "_view_module_version": "1.5.0",
            "_view_name": "HBoxView",
            "box_style": "",
            "children": [
              "IPY_MODEL_998b0ca5b37b47b88ea47327462c76fa",
              "IPY_MODEL_38bb77cefa2e4c17b8e9c419125d6c45",
              "IPY_MODEL_ded6921a6b8140b3bcd59d0e7bbd7900"
            ],
            "layout": "IPY_MODEL_ad994aff0bf94c2ea4ac9aa8d5c067e3"
          }
        },
        "362f58e6d05f4d0c865cbe6a956d677b": {
          "model_module": "@jupyter-widgets/controls",
          "model_module_version": "1.5.0",
          "model_name": "DescriptionStyleModel",
          "state": {
            "_model_module": "@jupyter-widgets/controls",
            "_model_module_version": "1.5.0",
            "_model_name": "DescriptionStyleModel",
            "_view_count": null,
            "_view_module": "@jupyter-widgets/base",
            "_view_module_version": "1.2.0",
            "_view_name": "StyleView",
            "description_width": ""
          }
        },
        "37d4912ed8ee4c0c9f0a9187bad156fd": {
          "model_module": "@jupyter-widgets/controls",
          "model_module_version": "1.5.0",
          "model_name": "HTMLModel",
          "state": {
            "_dom_classes": [],
            "_model_module": "@jupyter-widgets/controls",
            "_model_module_version": "1.5.0",
            "_model_name": "HTMLModel",
            "_view_count": null,
            "_view_module": "@jupyter-widgets/controls",
            "_view_module_version": "1.5.0",
            "_view_name": "HTMLView",
            "description": "",
            "description_tooltip": null,
            "layout": "IPY_MODEL_3b6eaa3d64924ec581c412b04b9196fa",
            "placeholder": "​",
            "style": "IPY_MODEL_94a2d9480adc426abb4ade344ca8dd2f",
            "value": "Downloading data: "
          }
        },
        "38bb77cefa2e4c17b8e9c419125d6c45": {
          "model_module": "@jupyter-widgets/controls",
          "model_module_version": "1.5.0",
          "model_name": "FloatProgressModel",
          "state": {
            "_dom_classes": [],
            "_model_module": "@jupyter-widgets/controls",
            "_model_module_version": "1.5.0",
            "_model_name": "FloatProgressModel",
            "_view_count": null,
            "_view_module": "@jupyter-widgets/controls",
            "_view_module_version": "1.5.0",
            "_view_name": "ProgressView",
            "bar_style": "success",
            "description": "",
            "description_tooltip": null,
            "layout": "IPY_MODEL_760feb714cc54846a52fc399703891d7",
            "max": 2348,
            "min": 0,
            "orientation": "horizontal",
            "style": "IPY_MODEL_a21f2bb483e44c749ec41a2b1784ee4b",
            "value": 2348
          }
        },
        "3a014eef1b7d44698572bc5cada4cb8c": {
          "model_module": "@jupyter-widgets/base",
          "model_module_version": "1.2.0",
          "model_name": "LayoutModel",
          "state": {
            "_model_module": "@jupyter-widgets/base",
            "_model_module_version": "1.2.0",
            "_model_name": "LayoutModel",
            "_view_count": null,
            "_view_module": "@jupyter-widgets/base",
            "_view_module_version": "1.2.0",
            "_view_name": "LayoutView",
            "align_content": null,
            "align_items": null,
            "align_self": null,
            "border": null,
            "bottom": null,
            "display": null,
            "flex": null,
            "flex_flow": null,
            "grid_area": null,
            "grid_auto_columns": null,
            "grid_auto_flow": null,
            "grid_auto_rows": null,
            "grid_column": null,
            "grid_gap": null,
            "grid_row": null,
            "grid_template_areas": null,
            "grid_template_columns": null,
            "grid_template_rows": null,
            "height": null,
            "justify_content": null,
            "justify_items": null,
            "left": null,
            "margin": null,
            "max_height": null,
            "max_width": null,
            "min_height": null,
            "min_width": null,
            "object_fit": null,
            "object_position": null,
            "order": null,
            "overflow": null,
            "overflow_x": null,
            "overflow_y": null,
            "padding": null,
            "right": null,
            "top": null,
            "visibility": null,
            "width": null
          }
        },
        "3b684b9f50ce48ff92b075d62619368b": {
          "model_module": "@jupyter-widgets/controls",
          "model_module_version": "1.5.0",
          "model_name": "HBoxModel",
          "state": {
            "_dom_classes": [],
            "_model_module": "@jupyter-widgets/controls",
            "_model_module_version": "1.5.0",
            "_model_name": "HBoxModel",
            "_view_count": null,
            "_view_module": "@jupyter-widgets/controls",
            "_view_module_version": "1.5.0",
            "_view_name": "HBoxView",
            "box_style": "",
            "children": [
              "IPY_MODEL_a3e42e8e532c4628abaa6e154d667ed2",
              "IPY_MODEL_49290455306b47aaaf8153bed5e49742",
              "IPY_MODEL_d8468fc2f0b94b2b8dab75336a0d29a3"
            ],
            "layout": "IPY_MODEL_b09d990f98f0419e84f5939d3b48d381"
          }
        },
        "3b6eaa3d64924ec581c412b04b9196fa": {
          "model_module": "@jupyter-widgets/base",
          "model_module_version": "1.2.0",
          "model_name": "LayoutModel",
          "state": {
            "_model_module": "@jupyter-widgets/base",
            "_model_module_version": "1.2.0",
            "_model_name": "LayoutModel",
            "_view_count": null,
            "_view_module": "@jupyter-widgets/base",
            "_view_module_version": "1.2.0",
            "_view_name": "LayoutView",
            "align_content": null,
            "align_items": null,
            "align_self": null,
            "border": null,
            "bottom": null,
            "display": null,
            "flex": null,
            "flex_flow": null,
            "grid_area": null,
            "grid_auto_columns": null,
            "grid_auto_flow": null,
            "grid_auto_rows": null,
            "grid_column": null,
            "grid_gap": null,
            "grid_row": null,
            "grid_template_areas": null,
            "grid_template_columns": null,
            "grid_template_rows": null,
            "height": null,
            "justify_content": null,
            "justify_items": null,
            "left": null,
            "margin": null,
            "max_height": null,
            "max_width": null,
            "min_height": null,
            "min_width": null,
            "object_fit": null,
            "object_position": null,
            "order": null,
            "overflow": null,
            "overflow_x": null,
            "overflow_y": null,
            "padding": null,
            "right": null,
            "top": null,
            "visibility": null,
            "width": null
          }
        },
        "3c95b6d54b294fe2a958056c463ce541": {
          "model_module": "@jupyter-widgets/controls",
          "model_module_version": "2.0.0",
          "model_name": "HTMLStyleModel",
          "state": {
            "_model_module": "@jupyter-widgets/controls",
            "_model_module_version": "2.0.0",
            "_model_name": "HTMLStyleModel",
            "_view_count": null,
            "_view_module": "@jupyter-widgets/base",
            "_view_module_version": "2.0.0",
            "_view_name": "StyleView",
            "background": null,
            "description_width": "",
            "font_size": null,
            "text_color": null
          }
        },
        "428db79c8cd74257ad09539518a21835": {
          "model_module": "@jupyter-widgets/base",
          "model_module_version": "2.0.0",
          "model_name": "LayoutModel",
          "state": {
            "_model_module": "@jupyter-widgets/base",
            "_model_module_version": "2.0.0",
            "_model_name": "LayoutModel",
            "_view_count": null,
            "_view_module": "@jupyter-widgets/base",
            "_view_module_version": "2.0.0",
            "_view_name": "LayoutView",
            "align_content": null,
            "align_items": null,
            "align_self": null,
            "border_bottom": null,
            "border_left": null,
            "border_right": null,
            "border_top": null,
            "bottom": null,
            "display": null,
            "flex": null,
            "flex_flow": null,
            "grid_area": null,
            "grid_auto_columns": null,
            "grid_auto_flow": null,
            "grid_auto_rows": null,
            "grid_column": null,
            "grid_gap": null,
            "grid_row": null,
            "grid_template_areas": null,
            "grid_template_columns": null,
            "grid_template_rows": null,
            "height": null,
            "justify_content": null,
            "justify_items": null,
            "left": null,
            "margin": null,
            "max_height": null,
            "max_width": null,
            "min_height": null,
            "min_width": null,
            "object_fit": null,
            "object_position": null,
            "order": null,
            "overflow": null,
            "padding": null,
            "right": null,
            "top": null,
            "visibility": null,
            "width": null
          }
        },
        "44803ba97fd54ceab2afe0555e21dfe8": {
          "model_module": "@jupyter-widgets/controls",
          "model_module_version": "2.0.0",
          "model_name": "ProgressStyleModel",
          "state": {
            "_model_module": "@jupyter-widgets/controls",
            "_model_module_version": "2.0.0",
            "_model_name": "ProgressStyleModel",
            "_view_count": null,
            "_view_module": "@jupyter-widgets/base",
            "_view_module_version": "2.0.0",
            "_view_name": "StyleView",
            "bar_color": null,
            "description_width": ""
          }
        },
        "44cf4e612b5f482d8bf224413c1bc852": {
          "model_module": "@jupyter-widgets/controls",
          "model_module_version": "1.5.0",
          "model_name": "HTMLModel",
          "state": {
            "_dom_classes": [],
            "_model_module": "@jupyter-widgets/controls",
            "_model_module_version": "1.5.0",
            "_model_name": "HTMLModel",
            "_view_count": null,
            "_view_module": "@jupyter-widgets/controls",
            "_view_module_version": "1.5.0",
            "_view_name": "HTMLView",
            "description": "",
            "description_tooltip": null,
            "layout": "IPY_MODEL_805c722b7dec4fc59ef64f8704e29424",
            "placeholder": "​",
            "style": "IPY_MODEL_0c3a0eb88b16493e9d0f62e3d5abf195",
            "value": "Downloading data files: 100%"
          }
        },
        "46e340fe82414a58b283c78cdf953773": {
          "model_module": "@jupyter-widgets/controls",
          "model_module_version": "1.5.0",
          "model_name": "DescriptionStyleModel",
          "state": {
            "_model_module": "@jupyter-widgets/controls",
            "_model_module_version": "1.5.0",
            "_model_name": "DescriptionStyleModel",
            "_view_count": null,
            "_view_module": "@jupyter-widgets/base",
            "_view_module_version": "1.2.0",
            "_view_name": "StyleView",
            "description_width": ""
          }
        },
        "470b17af8c8442e49757dc4e385d16f0": {
          "model_module": "@jupyter-widgets/controls",
          "model_module_version": "2.0.0",
          "model_name": "HTMLStyleModel",
          "state": {
            "_model_module": "@jupyter-widgets/controls",
            "_model_module_version": "2.0.0",
            "_model_name": "HTMLStyleModel",
            "_view_count": null,
            "_view_module": "@jupyter-widgets/base",
            "_view_module_version": "2.0.0",
            "_view_name": "StyleView",
            "background": null,
            "description_width": "",
            "font_size": null,
            "text_color": null
          }
        },
        "49290455306b47aaaf8153bed5e49742": {
          "model_module": "@jupyter-widgets/controls",
          "model_module_version": "1.5.0",
          "model_name": "FloatProgressModel",
          "state": {
            "_dom_classes": [],
            "_model_module": "@jupyter-widgets/controls",
            "_model_module_version": "1.5.0",
            "_model_name": "FloatProgressModel",
            "_view_count": null,
            "_view_module": "@jupyter-widgets/controls",
            "_view_module_version": "1.5.0",
            "_view_name": "ProgressView",
            "bar_style": "success",
            "description": "",
            "description_tooltip": null,
            "layout": "IPY_MODEL_d226d72577ea4cc299ed78c2fa99a486",
            "max": 2214653,
            "min": 0,
            "orientation": "horizontal",
            "style": "IPY_MODEL_82e0dbe1328a4c54807932984e0c4efb",
            "value": 2214653
          }
        },
        "4b2b38b8064040849b10c63b9f2ed8fd": {
          "model_module": "@jupyter-widgets/base",
          "model_module_version": "1.2.0",
          "model_name": "LayoutModel",
          "state": {
            "_model_module": "@jupyter-widgets/base",
            "_model_module_version": "1.2.0",
            "_model_name": "LayoutModel",
            "_view_count": null,
            "_view_module": "@jupyter-widgets/base",
            "_view_module_version": "1.2.0",
            "_view_name": "LayoutView",
            "align_content": null,
            "align_items": null,
            "align_self": null,
            "border": null,
            "bottom": null,
            "display": null,
            "flex": null,
            "flex_flow": null,
            "grid_area": null,
            "grid_auto_columns": null,
            "grid_auto_flow": null,
            "grid_auto_rows": null,
            "grid_column": null,
            "grid_gap": null,
            "grid_row": null,
            "grid_template_areas": null,
            "grid_template_columns": null,
            "grid_template_rows": null,
            "height": null,
            "justify_content": null,
            "justify_items": null,
            "left": null,
            "margin": null,
            "max_height": null,
            "max_width": null,
            "min_height": null,
            "min_width": null,
            "object_fit": null,
            "object_position": null,
            "order": null,
            "overflow": null,
            "overflow_x": null,
            "overflow_y": null,
            "padding": null,
            "right": null,
            "top": null,
            "visibility": null,
            "width": null
          }
        },
        "4b92faf53c2b4f7986066af8026ffc3a": {
          "model_module": "@jupyter-widgets/base",
          "model_module_version": "1.2.0",
          "model_name": "LayoutModel",
          "state": {
            "_model_module": "@jupyter-widgets/base",
            "_model_module_version": "1.2.0",
            "_model_name": "LayoutModel",
            "_view_count": null,
            "_view_module": "@jupyter-widgets/base",
            "_view_module_version": "1.2.0",
            "_view_name": "LayoutView",
            "align_content": null,
            "align_items": null,
            "align_self": null,
            "border": null,
            "bottom": null,
            "display": null,
            "flex": null,
            "flex_flow": null,
            "grid_area": null,
            "grid_auto_columns": null,
            "grid_auto_flow": null,
            "grid_auto_rows": null,
            "grid_column": null,
            "grid_gap": null,
            "grid_row": null,
            "grid_template_areas": null,
            "grid_template_columns": null,
            "grid_template_rows": null,
            "height": null,
            "justify_content": null,
            "justify_items": null,
            "left": null,
            "margin": null,
            "max_height": null,
            "max_width": null,
            "min_height": null,
            "min_width": null,
            "object_fit": null,
            "object_position": null,
            "order": null,
            "overflow": null,
            "overflow_x": null,
            "overflow_y": null,
            "padding": null,
            "right": null,
            "top": null,
            "visibility": null,
            "width": null
          }
        },
        "4e956bd06d3a45eca66b192990416a62": {
          "model_module": "@jupyter-widgets/controls",
          "model_module_version": "1.5.0",
          "model_name": "HTMLModel",
          "state": {
            "_dom_classes": [],
            "_model_module": "@jupyter-widgets/controls",
            "_model_module_version": "1.5.0",
            "_model_name": "HTMLModel",
            "_view_count": null,
            "_view_module": "@jupyter-widgets/controls",
            "_view_module_version": "1.5.0",
            "_view_name": "HTMLView",
            "description": "",
            "description_tooltip": null,
            "layout": "IPY_MODEL_ab2c48f34b7f43c5a5fb37c80a7d47f3",
            "placeholder": "​",
            "style": "IPY_MODEL_834bdf06646a4d009648b6bc270c7624",
            "value": "Generating test split:  98%"
          }
        },
        "4ec28fbc9433413f8355e0c976839a94": {
          "model_module": "@jupyter-widgets/base",
          "model_module_version": "2.0.0",
          "model_name": "LayoutModel",
          "state": {
            "_model_module": "@jupyter-widgets/base",
            "_model_module_version": "2.0.0",
            "_model_name": "LayoutModel",
            "_view_count": null,
            "_view_module": "@jupyter-widgets/base",
            "_view_module_version": "2.0.0",
            "_view_name": "LayoutView",
            "align_content": null,
            "align_items": null,
            "align_self": null,
            "border_bottom": null,
            "border_left": null,
            "border_right": null,
            "border_top": null,
            "bottom": null,
            "display": null,
            "flex": null,
            "flex_flow": null,
            "grid_area": null,
            "grid_auto_columns": null,
            "grid_auto_flow": null,
            "grid_auto_rows": null,
            "grid_column": null,
            "grid_gap": null,
            "grid_row": null,
            "grid_template_areas": null,
            "grid_template_columns": null,
            "grid_template_rows": null,
            "height": null,
            "justify_content": null,
            "justify_items": null,
            "left": null,
            "margin": null,
            "max_height": null,
            "max_width": null,
            "min_height": null,
            "min_width": null,
            "object_fit": null,
            "object_position": null,
            "order": null,
            "overflow": null,
            "padding": null,
            "right": null,
            "top": null,
            "visibility": null,
            "width": null
          }
        },
        "4fa9926221cb4d29bc0cc0c3d0bf93f3": {
          "model_module": "@jupyter-widgets/controls",
          "model_module_version": "1.5.0",
          "model_name": "HBoxModel",
          "state": {
            "_dom_classes": [],
            "_model_module": "@jupyter-widgets/controls",
            "_model_module_version": "1.5.0",
            "_model_name": "HBoxModel",
            "_view_count": null,
            "_view_module": "@jupyter-widgets/controls",
            "_view_module_version": "1.5.0",
            "_view_name": "HBoxView",
            "box_style": "",
            "children": [
              "IPY_MODEL_4e956bd06d3a45eca66b192990416a62",
              "IPY_MODEL_e319f91c3ba841f99a9a1ca1c7b551f2",
              "IPY_MODEL_da31e023dddb4c25a035258c0e4ed0d7"
            ],
            "layout": "IPY_MODEL_574c7a42dad940379a96b9f0968d3be1"
          }
        },
        "51392c27affa4fd3b4184cde01b7029d": {
          "model_module": "@jupyter-widgets/controls",
          "model_module_version": "1.5.0",
          "model_name": "FloatProgressModel",
          "state": {
            "_dom_classes": [],
            "_model_module": "@jupyter-widgets/controls",
            "_model_module_version": "1.5.0",
            "_model_name": "FloatProgressModel",
            "_view_count": null,
            "_view_module": "@jupyter-widgets/controls",
            "_view_module_version": "1.5.0",
            "_view_name": "ProgressView",
            "bar_style": "success",
            "description": "",
            "description_tooltip": null,
            "layout": "IPY_MODEL_db589666b507409f9647930b1222b0a9",
            "max": 3,
            "min": 0,
            "orientation": "horizontal",
            "style": "IPY_MODEL_1fed6cdd71c4453b976e8651b7b34cae",
            "value": 3
          }
        },
        "574c7a42dad940379a96b9f0968d3be1": {
          "model_module": "@jupyter-widgets/base",
          "model_module_version": "1.2.0",
          "model_name": "LayoutModel",
          "state": {
            "_model_module": "@jupyter-widgets/base",
            "_model_module_version": "1.2.0",
            "_model_name": "LayoutModel",
            "_view_count": null,
            "_view_module": "@jupyter-widgets/base",
            "_view_module_version": "1.2.0",
            "_view_name": "LayoutView",
            "align_content": null,
            "align_items": null,
            "align_self": null,
            "border": null,
            "bottom": null,
            "display": null,
            "flex": null,
            "flex_flow": null,
            "grid_area": null,
            "grid_auto_columns": null,
            "grid_auto_flow": null,
            "grid_auto_rows": null,
            "grid_column": null,
            "grid_gap": null,
            "grid_row": null,
            "grid_template_areas": null,
            "grid_template_columns": null,
            "grid_template_rows": null,
            "height": null,
            "justify_content": null,
            "justify_items": null,
            "left": null,
            "margin": null,
            "max_height": null,
            "max_width": null,
            "min_height": null,
            "min_width": null,
            "object_fit": null,
            "object_position": null,
            "order": null,
            "overflow": null,
            "overflow_x": null,
            "overflow_y": null,
            "padding": null,
            "right": null,
            "top": null,
            "visibility": null,
            "width": null
          }
        },
        "57aca5124cc14ed69da5a0b24a2c1052": {
          "model_module": "@jupyter-widgets/base",
          "model_module_version": "1.2.0",
          "model_name": "LayoutModel",
          "state": {
            "_model_module": "@jupyter-widgets/base",
            "_model_module_version": "1.2.0",
            "_model_name": "LayoutModel",
            "_view_count": null,
            "_view_module": "@jupyter-widgets/base",
            "_view_module_version": "1.2.0",
            "_view_name": "LayoutView",
            "align_content": null,
            "align_items": null,
            "align_self": null,
            "border": null,
            "bottom": null,
            "display": null,
            "flex": null,
            "flex_flow": null,
            "grid_area": null,
            "grid_auto_columns": null,
            "grid_auto_flow": null,
            "grid_auto_rows": null,
            "grid_column": null,
            "grid_gap": null,
            "grid_row": null,
            "grid_template_areas": null,
            "grid_template_columns": null,
            "grid_template_rows": null,
            "height": null,
            "justify_content": null,
            "justify_items": null,
            "left": null,
            "margin": null,
            "max_height": null,
            "max_width": null,
            "min_height": null,
            "min_width": null,
            "object_fit": null,
            "object_position": null,
            "order": null,
            "overflow": null,
            "overflow_x": null,
            "overflow_y": null,
            "padding": null,
            "right": null,
            "top": null,
            "visibility": null,
            "width": null
          }
        },
        "5a392cc22ee84433bac08ef8a6a3e0d4": {
          "model_module": "@jupyter-widgets/base",
          "model_module_version": "1.2.0",
          "model_name": "LayoutModel",
          "state": {
            "_model_module": "@jupyter-widgets/base",
            "_model_module_version": "1.2.0",
            "_model_name": "LayoutModel",
            "_view_count": null,
            "_view_module": "@jupyter-widgets/base",
            "_view_module_version": "1.2.0",
            "_view_name": "LayoutView",
            "align_content": null,
            "align_items": null,
            "align_self": null,
            "border": null,
            "bottom": null,
            "display": null,
            "flex": null,
            "flex_flow": null,
            "grid_area": null,
            "grid_auto_columns": null,
            "grid_auto_flow": null,
            "grid_auto_rows": null,
            "grid_column": null,
            "grid_gap": null,
            "grid_row": null,
            "grid_template_areas": null,
            "grid_template_columns": null,
            "grid_template_rows": null,
            "height": null,
            "justify_content": null,
            "justify_items": null,
            "left": null,
            "margin": null,
            "max_height": null,
            "max_width": null,
            "min_height": null,
            "min_width": null,
            "object_fit": null,
            "object_position": null,
            "order": null,
            "overflow": null,
            "overflow_x": null,
            "overflow_y": null,
            "padding": null,
            "right": null,
            "top": null,
            "visibility": null,
            "width": null
          }
        },
        "5ad8132df42340c58f1375b1e52eb5bc": {
          "model_module": "@jupyter-widgets/controls",
          "model_module_version": "1.5.0",
          "model_name": "ProgressStyleModel",
          "state": {
            "_model_module": "@jupyter-widgets/controls",
            "_model_module_version": "1.5.0",
            "_model_name": "ProgressStyleModel",
            "_view_count": null,
            "_view_module": "@jupyter-widgets/base",
            "_view_module_version": "1.2.0",
            "_view_name": "StyleView",
            "bar_color": null,
            "description_width": ""
          }
        },
        "5dd6914461ea456e9dc96ccf8c391c6e": {
          "model_module": "@jupyter-widgets/controls",
          "model_module_version": "1.5.0",
          "model_name": "HTMLModel",
          "state": {
            "_dom_classes": [],
            "_model_module": "@jupyter-widgets/controls",
            "_model_module_version": "1.5.0",
            "_model_name": "HTMLModel",
            "_view_count": null,
            "_view_module": "@jupyter-widgets/controls",
            "_view_module_version": "1.5.0",
            "_view_name": "HTMLView",
            "description": "",
            "description_tooltip": null,
            "layout": "IPY_MODEL_f307d9be05d24940b57d9edc82be8976",
            "placeholder": "​",
            "style": "IPY_MODEL_20abb46ea9c948b8ba85a921aee8af6d",
            "value": " 3/3 [00:00&lt;00:00, 85.61it/s]"
          }
        },
        "5ea642008bf74641a021e17b7e3fd6e7": {
          "model_module": "@jupyter-widgets/base",
          "model_module_version": "1.2.0",
          "model_name": "LayoutModel",
          "state": {
            "_model_module": "@jupyter-widgets/base",
            "_model_module_version": "1.2.0",
            "_model_name": "LayoutModel",
            "_view_count": null,
            "_view_module": "@jupyter-widgets/base",
            "_view_module_version": "1.2.0",
            "_view_name": "LayoutView",
            "align_content": null,
            "align_items": null,
            "align_self": null,
            "border": null,
            "bottom": null,
            "display": null,
            "flex": null,
            "flex_flow": null,
            "grid_area": null,
            "grid_auto_columns": null,
            "grid_auto_flow": null,
            "grid_auto_rows": null,
            "grid_column": null,
            "grid_gap": null,
            "grid_row": null,
            "grid_template_areas": null,
            "grid_template_columns": null,
            "grid_template_rows": null,
            "height": null,
            "justify_content": null,
            "justify_items": null,
            "left": null,
            "margin": null,
            "max_height": null,
            "max_width": null,
            "min_height": null,
            "min_width": null,
            "object_fit": null,
            "object_position": null,
            "order": null,
            "overflow": null,
            "overflow_x": null,
            "overflow_y": null,
            "padding": null,
            "right": null,
            "top": null,
            "visibility": null,
            "width": null
          }
        },
        "5f9f744825e44fdbae9c126837e40efe": {
          "model_module": "@jupyter-widgets/base",
          "model_module_version": "2.0.0",
          "model_name": "LayoutModel",
          "state": {
            "_model_module": "@jupyter-widgets/base",
            "_model_module_version": "2.0.0",
            "_model_name": "LayoutModel",
            "_view_count": null,
            "_view_module": "@jupyter-widgets/base",
            "_view_module_version": "2.0.0",
            "_view_name": "LayoutView",
            "align_content": null,
            "align_items": null,
            "align_self": null,
            "border_bottom": null,
            "border_left": null,
            "border_right": null,
            "border_top": null,
            "bottom": null,
            "display": null,
            "flex": null,
            "flex_flow": null,
            "grid_area": null,
            "grid_auto_columns": null,
            "grid_auto_flow": null,
            "grid_auto_rows": null,
            "grid_column": null,
            "grid_gap": null,
            "grid_row": null,
            "grid_template_areas": null,
            "grid_template_columns": null,
            "grid_template_rows": null,
            "height": null,
            "justify_content": null,
            "justify_items": null,
            "left": null,
            "margin": null,
            "max_height": null,
            "max_width": null,
            "min_height": null,
            "min_width": null,
            "object_fit": null,
            "object_position": null,
            "order": null,
            "overflow": null,
            "padding": null,
            "right": null,
            "top": null,
            "visibility": null,
            "width": null
          }
        },
        "6284429508d849bd8259460913efc250": {
          "model_module": "@jupyter-widgets/controls",
          "model_module_version": "1.5.0",
          "model_name": "FloatProgressModel",
          "state": {
            "_dom_classes": [],
            "_model_module": "@jupyter-widgets/controls",
            "_model_module_version": "1.5.0",
            "_model_name": "FloatProgressModel",
            "_view_count": null,
            "_view_module": "@jupyter-widgets/controls",
            "_view_module_version": "1.5.0",
            "_view_name": "ProgressView",
            "bar_style": "success",
            "description": "",
            "description_tooltip": null,
            "layout": "IPY_MODEL_d4830572efa244968881c31932ec5dff",
            "max": 2238601,
            "min": 0,
            "orientation": "horizontal",
            "style": "IPY_MODEL_21f848683b2648c08a7476658d382177",
            "value": 2238601
          }
        },
        "62bdec145ccb48faa4fe5f51d2879732": {
          "model_module": "@jupyter-widgets/base",
          "model_module_version": "1.2.0",
          "model_name": "LayoutModel",
          "state": {
            "_model_module": "@jupyter-widgets/base",
            "_model_module_version": "1.2.0",
            "_model_name": "LayoutModel",
            "_view_count": null,
            "_view_module": "@jupyter-widgets/base",
            "_view_module_version": "1.2.0",
            "_view_name": "LayoutView",
            "align_content": null,
            "align_items": null,
            "align_self": null,
            "border": null,
            "bottom": null,
            "display": null,
            "flex": null,
            "flex_flow": null,
            "grid_area": null,
            "grid_auto_columns": null,
            "grid_auto_flow": null,
            "grid_auto_rows": null,
            "grid_column": null,
            "grid_gap": null,
            "grid_row": null,
            "grid_template_areas": null,
            "grid_template_columns": null,
            "grid_template_rows": null,
            "height": null,
            "justify_content": null,
            "justify_items": null,
            "left": null,
            "margin": null,
            "max_height": null,
            "max_width": null,
            "min_height": null,
            "min_width": null,
            "object_fit": null,
            "object_position": null,
            "order": null,
            "overflow": null,
            "overflow_x": null,
            "overflow_y": null,
            "padding": null,
            "right": null,
            "top": null,
            "visibility": null,
            "width": null
          }
        },
        "642323b1bafa4d0fbeca1adff2426c02": {
          "model_module": "@jupyter-widgets/controls",
          "model_module_version": "1.5.0",
          "model_name": "FloatProgressModel",
          "state": {
            "_dom_classes": [],
            "_model_module": "@jupyter-widgets/controls",
            "_model_module_version": "1.5.0",
            "_model_name": "FloatProgressModel",
            "_view_count": null,
            "_view_module": "@jupyter-widgets/controls",
            "_view_module_version": "1.5.0",
            "_view_name": "ProgressView",
            "bar_style": "success",
            "description": "",
            "description_tooltip": null,
            "layout": "IPY_MODEL_5ea642008bf74641a021e17b7e3fd6e7",
            "max": 1775,
            "min": 0,
            "orientation": "horizontal",
            "style": "IPY_MODEL_2d975d14c3f0434583e73ae97f580951",
            "value": 1775
          }
        },
        "6a24dd061b2d40d4baca4036059fc94c": {
          "model_module": "@jupyter-widgets/base",
          "model_module_version": "1.2.0",
          "model_name": "LayoutModel",
          "state": {
            "_model_module": "@jupyter-widgets/base",
            "_model_module_version": "1.2.0",
            "_model_name": "LayoutModel",
            "_view_count": null,
            "_view_module": "@jupyter-widgets/base",
            "_view_module_version": "1.2.0",
            "_view_name": "LayoutView",
            "align_content": null,
            "align_items": null,
            "align_self": null,
            "border": null,
            "bottom": null,
            "display": null,
            "flex": null,
            "flex_flow": null,
            "grid_area": null,
            "grid_auto_columns": null,
            "grid_auto_flow": null,
            "grid_auto_rows": null,
            "grid_column": null,
            "grid_gap": null,
            "grid_row": null,
            "grid_template_areas": null,
            "grid_template_columns": null,
            "grid_template_rows": null,
            "height": null,
            "justify_content": null,
            "justify_items": null,
            "left": null,
            "margin": null,
            "max_height": null,
            "max_width": null,
            "min_height": null,
            "min_width": null,
            "object_fit": null,
            "object_position": null,
            "order": null,
            "overflow": null,
            "overflow_x": null,
            "overflow_y": null,
            "padding": null,
            "right": null,
            "top": null,
            "visibility": null,
            "width": null
          }
        },
        "6a8be136bafe40eea3430dda4063e6db": {
          "model_module": "@jupyter-widgets/controls",
          "model_module_version": "2.0.0",
          "model_name": "HBoxModel",
          "state": {
            "_dom_classes": [],
            "_model_module": "@jupyter-widgets/controls",
            "_model_module_version": "2.0.0",
            "_model_name": "HBoxModel",
            "_view_count": null,
            "_view_module": "@jupyter-widgets/controls",
            "_view_module_version": "2.0.0",
            "_view_name": "HBoxView",
            "box_style": "",
            "children": [
              "IPY_MODEL_f28c1b9dee064db99c389beb98306f86",
              "IPY_MODEL_b2a5550cd6474de7a46eab6a973305e0",
              "IPY_MODEL_a4e9b7b28055406c9569e585296850c6"
            ],
            "layout": "IPY_MODEL_ac534b02efb34100b53999031767e8a3",
            "tabbable": null,
            "tooltip": null
          }
        },
        "6be493d86857493190ee47a08c04ff40": {
          "model_module": "@jupyter-widgets/base",
          "model_module_version": "1.2.0",
          "model_name": "LayoutModel",
          "state": {
            "_model_module": "@jupyter-widgets/base",
            "_model_module_version": "1.2.0",
            "_model_name": "LayoutModel",
            "_view_count": null,
            "_view_module": "@jupyter-widgets/base",
            "_view_module_version": "1.2.0",
            "_view_name": "LayoutView",
            "align_content": null,
            "align_items": null,
            "align_self": null,
            "border": null,
            "bottom": null,
            "display": null,
            "flex": null,
            "flex_flow": null,
            "grid_area": null,
            "grid_auto_columns": null,
            "grid_auto_flow": null,
            "grid_auto_rows": null,
            "grid_column": null,
            "grid_gap": null,
            "grid_row": null,
            "grid_template_areas": null,
            "grid_template_columns": null,
            "grid_template_rows": null,
            "height": null,
            "justify_content": null,
            "justify_items": null,
            "left": null,
            "margin": null,
            "max_height": null,
            "max_width": null,
            "min_height": null,
            "min_width": null,
            "object_fit": null,
            "object_position": null,
            "order": null,
            "overflow": null,
            "overflow_x": null,
            "overflow_y": null,
            "padding": null,
            "right": null,
            "top": null,
            "visibility": null,
            "width": null
          }
        },
        "6fe78cfd377b4c10a626588f46a569cf": {
          "model_module": "@jupyter-widgets/base",
          "model_module_version": "2.0.0",
          "model_name": "LayoutModel",
          "state": {
            "_model_module": "@jupyter-widgets/base",
            "_model_module_version": "2.0.0",
            "_model_name": "LayoutModel",
            "_view_count": null,
            "_view_module": "@jupyter-widgets/base",
            "_view_module_version": "2.0.0",
            "_view_name": "LayoutView",
            "align_content": null,
            "align_items": null,
            "align_self": null,
            "border_bottom": null,
            "border_left": null,
            "border_right": null,
            "border_top": null,
            "bottom": null,
            "display": null,
            "flex": null,
            "flex_flow": null,
            "grid_area": null,
            "grid_auto_columns": null,
            "grid_auto_flow": null,
            "grid_auto_rows": null,
            "grid_column": null,
            "grid_gap": null,
            "grid_row": null,
            "grid_template_areas": null,
            "grid_template_columns": null,
            "grid_template_rows": null,
            "height": null,
            "justify_content": null,
            "justify_items": null,
            "left": null,
            "margin": null,
            "max_height": null,
            "max_width": null,
            "min_height": null,
            "min_width": null,
            "object_fit": null,
            "object_position": null,
            "order": null,
            "overflow": null,
            "padding": null,
            "right": null,
            "top": null,
            "visibility": null,
            "width": null
          }
        },
        "760feb714cc54846a52fc399703891d7": {
          "model_module": "@jupyter-widgets/base",
          "model_module_version": "1.2.0",
          "model_name": "LayoutModel",
          "state": {
            "_model_module": "@jupyter-widgets/base",
            "_model_module_version": "1.2.0",
            "_model_name": "LayoutModel",
            "_view_count": null,
            "_view_module": "@jupyter-widgets/base",
            "_view_module_version": "1.2.0",
            "_view_name": "LayoutView",
            "align_content": null,
            "align_items": null,
            "align_self": null,
            "border": null,
            "bottom": null,
            "display": null,
            "flex": null,
            "flex_flow": null,
            "grid_area": null,
            "grid_auto_columns": null,
            "grid_auto_flow": null,
            "grid_auto_rows": null,
            "grid_column": null,
            "grid_gap": null,
            "grid_row": null,
            "grid_template_areas": null,
            "grid_template_columns": null,
            "grid_template_rows": null,
            "height": null,
            "justify_content": null,
            "justify_items": null,
            "left": null,
            "margin": null,
            "max_height": null,
            "max_width": null,
            "min_height": null,
            "min_width": null,
            "object_fit": null,
            "object_position": null,
            "order": null,
            "overflow": null,
            "overflow_x": null,
            "overflow_y": null,
            "padding": null,
            "right": null,
            "top": null,
            "visibility": null,
            "width": null
          }
        },
        "791101442898470f8524ebee4cb9459d": {
          "model_module": "@jupyter-widgets/controls",
          "model_module_version": "1.5.0",
          "model_name": "ProgressStyleModel",
          "state": {
            "_model_module": "@jupyter-widgets/controls",
            "_model_module_version": "1.5.0",
            "_model_name": "ProgressStyleModel",
            "_view_count": null,
            "_view_module": "@jupyter-widgets/base",
            "_view_module_version": "1.2.0",
            "_view_name": "StyleView",
            "bar_color": null,
            "description_width": ""
          }
        },
        "7dc52faf4b3b4643b7d7019f1722c1d8": {
          "model_module": "@jupyter-widgets/controls",
          "model_module_version": "1.5.0",
          "model_name": "HBoxModel",
          "state": {
            "_dom_classes": [],
            "_model_module": "@jupyter-widgets/controls",
            "_model_module_version": "1.5.0",
            "_model_name": "HBoxModel",
            "_view_count": null,
            "_view_module": "@jupyter-widgets/controls",
            "_view_module_version": "1.5.0",
            "_view_name": "HBoxView",
            "box_style": "",
            "children": [
              "IPY_MODEL_44cf4e612b5f482d8bf224413c1bc852",
              "IPY_MODEL_f4ec7bc190af4c9dbe6a5fc05fad4540",
              "IPY_MODEL_9dd6ab0e0cb940bebe25cba5492b2486"
            ],
            "layout": "IPY_MODEL_e556c049fbb24669a49b26c7f107e6a5"
          }
        },
        "7feeefa264da4af89ddc8ddf331b4f9f": {
          "model_module": "@jupyter-widgets/controls",
          "model_module_version": "1.5.0",
          "model_name": "HTMLModel",
          "state": {
            "_dom_classes": [],
            "_model_module": "@jupyter-widgets/controls",
            "_model_module_version": "1.5.0",
            "_model_name": "HTMLModel",
            "_view_count": null,
            "_view_module": "@jupyter-widgets/controls",
            "_view_module_version": "1.5.0",
            "_view_name": "HTMLView",
            "description": "",
            "description_tooltip": null,
            "layout": "IPY_MODEL_be21476b15a14c0084712a9d5aedc22f",
            "placeholder": "​",
            "style": "IPY_MODEL_362f58e6d05f4d0c865cbe6a956d677b",
            "value": " 73335/73546 [00:15&lt;00:00, 4205.15 examples/s]"
          }
        },
        "805c722b7dec4fc59ef64f8704e29424": {
          "model_module": "@jupyter-widgets/base",
          "model_module_version": "1.2.0",
          "model_name": "LayoutModel",
          "state": {
            "_model_module": "@jupyter-widgets/base",
            "_model_module_version": "1.2.0",
            "_model_name": "LayoutModel",
            "_view_count": null,
            "_view_module": "@jupyter-widgets/base",
            "_view_module_version": "1.2.0",
            "_view_name": "LayoutView",
            "align_content": null,
            "align_items": null,
            "align_self": null,
            "border": null,
            "bottom": null,
            "display": null,
            "flex": null,
            "flex_flow": null,
            "grid_area": null,
            "grid_auto_columns": null,
            "grid_auto_flow": null,
            "grid_auto_rows": null,
            "grid_column": null,
            "grid_gap": null,
            "grid_row": null,
            "grid_template_areas": null,
            "grid_template_columns": null,
            "grid_template_rows": null,
            "height": null,
            "justify_content": null,
            "justify_items": null,
            "left": null,
            "margin": null,
            "max_height": null,
            "max_width": null,
            "min_height": null,
            "min_width": null,
            "object_fit": null,
            "object_position": null,
            "order": null,
            "overflow": null,
            "overflow_x": null,
            "overflow_y": null,
            "padding": null,
            "right": null,
            "top": null,
            "visibility": null,
            "width": null
          }
        },
        "811d914b52904fa0913adc9daa33695c": {
          "model_module": "@jupyter-widgets/base",
          "model_module_version": "1.2.0",
          "model_name": "LayoutModel",
          "state": {
            "_model_module": "@jupyter-widgets/base",
            "_model_module_version": "1.2.0",
            "_model_name": "LayoutModel",
            "_view_count": null,
            "_view_module": "@jupyter-widgets/base",
            "_view_module_version": "1.2.0",
            "_view_name": "LayoutView",
            "align_content": null,
            "align_items": null,
            "align_self": null,
            "border": null,
            "bottom": null,
            "display": null,
            "flex": null,
            "flex_flow": null,
            "grid_area": null,
            "grid_auto_columns": null,
            "grid_auto_flow": null,
            "grid_auto_rows": null,
            "grid_column": null,
            "grid_gap": null,
            "grid_row": null,
            "grid_template_areas": null,
            "grid_template_columns": null,
            "grid_template_rows": null,
            "height": null,
            "justify_content": null,
            "justify_items": null,
            "left": null,
            "margin": null,
            "max_height": null,
            "max_width": null,
            "min_height": null,
            "min_width": null,
            "object_fit": null,
            "object_position": null,
            "order": null,
            "overflow": null,
            "overflow_x": null,
            "overflow_y": null,
            "padding": null,
            "right": null,
            "top": null,
            "visibility": null,
            "width": null
          }
        },
        "814d3f2b7212461ca51f8635b5106783": {
          "model_module": "@jupyter-widgets/base",
          "model_module_version": "2.0.0",
          "model_name": "LayoutModel",
          "state": {
            "_model_module": "@jupyter-widgets/base",
            "_model_module_version": "2.0.0",
            "_model_name": "LayoutModel",
            "_view_count": null,
            "_view_module": "@jupyter-widgets/base",
            "_view_module_version": "2.0.0",
            "_view_name": "LayoutView",
            "align_content": null,
            "align_items": null,
            "align_self": null,
            "border_bottom": null,
            "border_left": null,
            "border_right": null,
            "border_top": null,
            "bottom": null,
            "display": null,
            "flex": null,
            "flex_flow": null,
            "grid_area": null,
            "grid_auto_columns": null,
            "grid_auto_flow": null,
            "grid_auto_rows": null,
            "grid_column": null,
            "grid_gap": null,
            "grid_row": null,
            "grid_template_areas": null,
            "grid_template_columns": null,
            "grid_template_rows": null,
            "height": null,
            "justify_content": null,
            "justify_items": null,
            "left": null,
            "margin": null,
            "max_height": null,
            "max_width": null,
            "min_height": null,
            "min_width": null,
            "object_fit": null,
            "object_position": null,
            "order": null,
            "overflow": null,
            "padding": null,
            "right": null,
            "top": null,
            "visibility": null,
            "width": null
          }
        },
        "82e0dbe1328a4c54807932984e0c4efb": {
          "model_module": "@jupyter-widgets/controls",
          "model_module_version": "1.5.0",
          "model_name": "ProgressStyleModel",
          "state": {
            "_model_module": "@jupyter-widgets/controls",
            "_model_module_version": "1.5.0",
            "_model_name": "ProgressStyleModel",
            "_view_count": null,
            "_view_module": "@jupyter-widgets/base",
            "_view_module_version": "1.2.0",
            "_view_name": "StyleView",
            "bar_color": null,
            "description_width": ""
          }
        },
        "834bdf06646a4d009648b6bc270c7624": {
          "model_module": "@jupyter-widgets/controls",
          "model_module_version": "1.5.0",
          "model_name": "DescriptionStyleModel",
          "state": {
            "_model_module": "@jupyter-widgets/controls",
            "_model_module_version": "1.5.0",
            "_model_name": "DescriptionStyleModel",
            "_view_count": null,
            "_view_module": "@jupyter-widgets/base",
            "_view_module_version": "1.2.0",
            "_view_name": "StyleView",
            "description_width": ""
          }
        },
        "8497fe93c0d148a49f9a0a0c56961f36": {
          "model_module": "@jupyter-widgets/controls",
          "model_module_version": "1.5.0",
          "model_name": "DescriptionStyleModel",
          "state": {
            "_model_module": "@jupyter-widgets/controls",
            "_model_module_version": "1.5.0",
            "_model_name": "DescriptionStyleModel",
            "_view_count": null,
            "_view_module": "@jupyter-widgets/base",
            "_view_module_version": "1.2.0",
            "_view_name": "StyleView",
            "description_width": ""
          }
        },
        "87639f90c2ab47db986419c03e165d7a": {
          "model_module": "@jupyter-widgets/base",
          "model_module_version": "1.2.0",
          "model_name": "LayoutModel",
          "state": {
            "_model_module": "@jupyter-widgets/base",
            "_model_module_version": "1.2.0",
            "_model_name": "LayoutModel",
            "_view_count": null,
            "_view_module": "@jupyter-widgets/base",
            "_view_module_version": "1.2.0",
            "_view_name": "LayoutView",
            "align_content": null,
            "align_items": null,
            "align_self": null,
            "border": null,
            "bottom": null,
            "display": null,
            "flex": null,
            "flex_flow": null,
            "grid_area": null,
            "grid_auto_columns": null,
            "grid_auto_flow": null,
            "grid_auto_rows": null,
            "grid_column": null,
            "grid_gap": null,
            "grid_row": null,
            "grid_template_areas": null,
            "grid_template_columns": null,
            "grid_template_rows": null,
            "height": null,
            "justify_content": null,
            "justify_items": null,
            "left": null,
            "margin": null,
            "max_height": null,
            "max_width": null,
            "min_height": null,
            "min_width": null,
            "object_fit": null,
            "object_position": null,
            "order": null,
            "overflow": null,
            "overflow_x": null,
            "overflow_y": null,
            "padding": null,
            "right": null,
            "top": null,
            "visibility": null,
            "width": null
          }
        },
        "894de256daec49329f6404326eddaa39": {
          "model_module": "@jupyter-widgets/controls",
          "model_module_version": "1.5.0",
          "model_name": "FloatProgressModel",
          "state": {
            "_dom_classes": [],
            "_model_module": "@jupyter-widgets/controls",
            "_model_module_version": "1.5.0",
            "_model_name": "FloatProgressModel",
            "_view_count": null,
            "_view_module": "@jupyter-widgets/controls",
            "_view_module_version": "1.5.0",
            "_view_name": "ProgressView",
            "bar_style": "",
            "description": "",
            "description_tooltip": null,
            "layout": "IPY_MODEL_57aca5124cc14ed69da5a0b24a2c1052",
            "max": 73546,
            "min": 0,
            "orientation": "horizontal",
            "style": "IPY_MODEL_8f2c2b10e21e42569ef5396e42c65e30",
            "value": 73546
          }
        },
        "8cfa8c0a28f549c19649ec9b390aa528": {
          "model_module": "@jupyter-widgets/base",
          "model_module_version": "2.0.0",
          "model_name": "LayoutModel",
          "state": {
            "_model_module": "@jupyter-widgets/base",
            "_model_module_version": "2.0.0",
            "_model_name": "LayoutModel",
            "_view_count": null,
            "_view_module": "@jupyter-widgets/base",
            "_view_module_version": "2.0.0",
            "_view_name": "LayoutView",
            "align_content": null,
            "align_items": null,
            "align_self": null,
            "border_bottom": null,
            "border_left": null,
            "border_right": null,
            "border_top": null,
            "bottom": null,
            "display": null,
            "flex": null,
            "flex_flow": null,
            "grid_area": null,
            "grid_auto_columns": null,
            "grid_auto_flow": null,
            "grid_auto_rows": null,
            "grid_column": null,
            "grid_gap": null,
            "grid_row": null,
            "grid_template_areas": null,
            "grid_template_columns": null,
            "grid_template_rows": null,
            "height": null,
            "justify_content": null,
            "justify_items": null,
            "left": null,
            "margin": null,
            "max_height": null,
            "max_width": null,
            "min_height": null,
            "min_width": null,
            "object_fit": null,
            "object_position": null,
            "order": null,
            "overflow": null,
            "padding": null,
            "right": null,
            "top": null,
            "visibility": null,
            "width": null
          }
        },
        "8e58d795d528405f8d1c48bfc2afe399": {
          "model_module": "@jupyter-widgets/controls",
          "model_module_version": "2.0.0",
          "model_name": "FloatProgressModel",
          "state": {
            "_dom_classes": [],
            "_model_module": "@jupyter-widgets/controls",
            "_model_module_version": "2.0.0",
            "_model_name": "FloatProgressModel",
            "_view_count": null,
            "_view_module": "@jupyter-widgets/controls",
            "_view_module_version": "2.0.0",
            "_view_name": "ProgressView",
            "bar_style": "",
            "description": "",
            "description_allow_html": false,
            "layout": "IPY_MODEL_c5f0ba4cda014a63a99ecc989f72f731",
            "max": 67349,
            "min": 0,
            "orientation": "horizontal",
            "style": "IPY_MODEL_44803ba97fd54ceab2afe0555e21dfe8",
            "tabbable": null,
            "tooltip": null,
            "value": 67349
          }
        },
        "8f2c2b10e21e42569ef5396e42c65e30": {
          "model_module": "@jupyter-widgets/controls",
          "model_module_version": "1.5.0",
          "model_name": "ProgressStyleModel",
          "state": {
            "_model_module": "@jupyter-widgets/controls",
            "_model_module_version": "1.5.0",
            "_model_name": "ProgressStyleModel",
            "_view_count": null,
            "_view_module": "@jupyter-widgets/base",
            "_view_module_version": "1.2.0",
            "_view_name": "StyleView",
            "bar_color": null,
            "description_width": ""
          }
        },
        "8f5311cebd554f5ba645b8d33b0722a3": {
          "model_module": "@jupyter-widgets/base",
          "model_module_version": "1.2.0",
          "model_name": "LayoutModel",
          "state": {
            "_model_module": "@jupyter-widgets/base",
            "_model_module_version": "1.2.0",
            "_model_name": "LayoutModel",
            "_view_count": null,
            "_view_module": "@jupyter-widgets/base",
            "_view_module_version": "1.2.0",
            "_view_name": "LayoutView",
            "align_content": null,
            "align_items": null,
            "align_self": null,
            "border": null,
            "bottom": null,
            "display": null,
            "flex": null,
            "flex_flow": null,
            "grid_area": null,
            "grid_auto_columns": null,
            "grid_auto_flow": null,
            "grid_auto_rows": null,
            "grid_column": null,
            "grid_gap": null,
            "grid_row": null,
            "grid_template_areas": null,
            "grid_template_columns": null,
            "grid_template_rows": null,
            "height": null,
            "justify_content": null,
            "justify_items": null,
            "left": null,
            "margin": null,
            "max_height": null,
            "max_width": null,
            "min_height": null,
            "min_width": null,
            "object_fit": null,
            "object_position": null,
            "order": null,
            "overflow": null,
            "overflow_x": null,
            "overflow_y": null,
            "padding": null,
            "right": null,
            "top": null,
            "visibility": null,
            "width": null
          }
        },
        "920c8dd736a4454f9469fb3fa0a9af90": {
          "model_module": "@jupyter-widgets/base",
          "model_module_version": "1.2.0",
          "model_name": "LayoutModel",
          "state": {
            "_model_module": "@jupyter-widgets/base",
            "_model_module_version": "1.2.0",
            "_model_name": "LayoutModel",
            "_view_count": null,
            "_view_module": "@jupyter-widgets/base",
            "_view_module_version": "1.2.0",
            "_view_name": "LayoutView",
            "align_content": null,
            "align_items": null,
            "align_self": null,
            "border": null,
            "bottom": null,
            "display": null,
            "flex": null,
            "flex_flow": null,
            "grid_area": null,
            "grid_auto_columns": null,
            "grid_auto_flow": null,
            "grid_auto_rows": null,
            "grid_column": null,
            "grid_gap": null,
            "grid_row": null,
            "grid_template_areas": null,
            "grid_template_columns": null,
            "grid_template_rows": null,
            "height": null,
            "justify_content": null,
            "justify_items": null,
            "left": null,
            "margin": null,
            "max_height": null,
            "max_width": null,
            "min_height": null,
            "min_width": null,
            "object_fit": null,
            "object_position": null,
            "order": null,
            "overflow": null,
            "overflow_x": null,
            "overflow_y": null,
            "padding": null,
            "right": null,
            "top": null,
            "visibility": null,
            "width": null
          }
        },
        "929cdd7c2f8e4902aac96a9a3afa5866": {
          "model_module": "@jupyter-widgets/controls",
          "model_module_version": "1.5.0",
          "model_name": "ProgressStyleModel",
          "state": {
            "_model_module": "@jupyter-widgets/controls",
            "_model_module_version": "1.5.0",
            "_model_name": "ProgressStyleModel",
            "_view_count": null,
            "_view_module": "@jupyter-widgets/base",
            "_view_module_version": "1.2.0",
            "_view_name": "StyleView",
            "bar_color": null,
            "description_width": ""
          }
        },
        "94a2d9480adc426abb4ade344ca8dd2f": {
          "model_module": "@jupyter-widgets/controls",
          "model_module_version": "1.5.0",
          "model_name": "DescriptionStyleModel",
          "state": {
            "_model_module": "@jupyter-widgets/controls",
            "_model_module_version": "1.5.0",
            "_model_name": "DescriptionStyleModel",
            "_view_count": null,
            "_view_module": "@jupyter-widgets/base",
            "_view_module_version": "1.2.0",
            "_view_name": "StyleView",
            "description_width": ""
          }
        },
        "9509ad27a9b54e3e80f796d224f3e189": {
          "model_module": "@jupyter-widgets/controls",
          "model_module_version": "1.5.0",
          "model_name": "HTMLModel",
          "state": {
            "_dom_classes": [],
            "_model_module": "@jupyter-widgets/controls",
            "_model_module_version": "1.5.0",
            "_model_name": "HTMLModel",
            "_view_count": null,
            "_view_module": "@jupyter-widgets/controls",
            "_view_module_version": "1.5.0",
            "_view_name": "HTMLView",
            "description": "",
            "description_tooltip": null,
            "layout": "IPY_MODEL_18091d361aa44881a3db5d1951882082",
            "placeholder": "​",
            "style": "IPY_MODEL_2a1aa694683d4df9b509f5ce4d6d53b0",
            "value": " 28.2M/? [00:00&lt;00:00, 56.9MB/s]"
          }
        },
        "95ad5a87c66f405599a710b8a5fa0a9d": {
          "model_module": "@jupyter-widgets/base",
          "model_module_version": "2.0.0",
          "model_name": "LayoutModel",
          "state": {
            "_model_module": "@jupyter-widgets/base",
            "_model_module_version": "2.0.0",
            "_model_name": "LayoutModel",
            "_view_count": null,
            "_view_module": "@jupyter-widgets/base",
            "_view_module_version": "2.0.0",
            "_view_name": "LayoutView",
            "align_content": null,
            "align_items": null,
            "align_self": null,
            "border_bottom": null,
            "border_left": null,
            "border_right": null,
            "border_top": null,
            "bottom": null,
            "display": null,
            "flex": null,
            "flex_flow": null,
            "grid_area": null,
            "grid_auto_columns": null,
            "grid_auto_flow": null,
            "grid_auto_rows": null,
            "grid_column": null,
            "grid_gap": null,
            "grid_row": null,
            "grid_template_areas": null,
            "grid_template_columns": null,
            "grid_template_rows": null,
            "height": null,
            "justify_content": null,
            "justify_items": null,
            "left": null,
            "margin": null,
            "max_height": null,
            "max_width": null,
            "min_height": null,
            "min_width": null,
            "object_fit": null,
            "object_position": null,
            "order": null,
            "overflow": null,
            "padding": null,
            "right": null,
            "top": null,
            "visibility": null,
            "width": null
          }
        },
        "96c6874b9bd045a5bc67596b2ab04df2": {
          "model_module": "@jupyter-widgets/controls",
          "model_module_version": "1.5.0",
          "model_name": "DescriptionStyleModel",
          "state": {
            "_model_module": "@jupyter-widgets/controls",
            "_model_module_version": "1.5.0",
            "_model_name": "DescriptionStyleModel",
            "_view_count": null,
            "_view_module": "@jupyter-widgets/base",
            "_view_module_version": "1.2.0",
            "_view_name": "StyleView",
            "description_width": ""
          }
        },
        "98bcaff9e28547e3b1f9b0640d598f99": {
          "model_module": "@jupyter-widgets/controls",
          "model_module_version": "1.5.0",
          "model_name": "DescriptionStyleModel",
          "state": {
            "_model_module": "@jupyter-widgets/controls",
            "_model_module_version": "1.5.0",
            "_model_name": "DescriptionStyleModel",
            "_view_count": null,
            "_view_module": "@jupyter-widgets/base",
            "_view_module_version": "1.2.0",
            "_view_name": "StyleView",
            "description_width": ""
          }
        },
        "98f179b9be5044c79bc867f5261e2b47": {
          "model_module": "@jupyter-widgets/controls",
          "model_module_version": "1.5.0",
          "model_name": "ProgressStyleModel",
          "state": {
            "_model_module": "@jupyter-widgets/controls",
            "_model_module_version": "1.5.0",
            "_model_name": "ProgressStyleModel",
            "_view_count": null,
            "_view_module": "@jupyter-widgets/base",
            "_view_module_version": "1.2.0",
            "_view_name": "StyleView",
            "bar_color": null,
            "description_width": ""
          }
        },
        "998b0ca5b37b47b88ea47327462c76fa": {
          "model_module": "@jupyter-widgets/controls",
          "model_module_version": "1.5.0",
          "model_name": "HTMLModel",
          "state": {
            "_dom_classes": [],
            "_model_module": "@jupyter-widgets/controls",
            "_model_module_version": "1.5.0",
            "_model_name": "HTMLModel",
            "_view_count": null,
            "_view_module": "@jupyter-widgets/controls",
            "_view_module_version": "1.5.0",
            "_view_name": "HTMLView",
            "description": "",
            "description_tooltip": null,
            "layout": "IPY_MODEL_6be493d86857493190ee47a08c04ff40",
            "placeholder": "​",
            "style": "IPY_MODEL_46e340fe82414a58b283c78cdf953773",
            "value": "Downloading builder script: "
          }
        },
        "9ba620aa4e51456c9b3b2469c2c887c3": {
          "model_module": "@jupyter-widgets/base",
          "model_module_version": "2.0.0",
          "model_name": "LayoutModel",
          "state": {
            "_model_module": "@jupyter-widgets/base",
            "_model_module_version": "2.0.0",
            "_model_name": "LayoutModel",
            "_view_count": null,
            "_view_module": "@jupyter-widgets/base",
            "_view_module_version": "2.0.0",
            "_view_name": "LayoutView",
            "align_content": null,
            "align_items": null,
            "align_self": null,
            "border_bottom": null,
            "border_left": null,
            "border_right": null,
            "border_top": null,
            "bottom": null,
            "display": null,
            "flex": null,
            "flex_flow": null,
            "grid_area": null,
            "grid_auto_columns": null,
            "grid_auto_flow": null,
            "grid_auto_rows": null,
            "grid_column": null,
            "grid_gap": null,
            "grid_row": null,
            "grid_template_areas": null,
            "grid_template_columns": null,
            "grid_template_rows": null,
            "height": null,
            "justify_content": null,
            "justify_items": null,
            "left": null,
            "margin": null,
            "max_height": null,
            "max_width": null,
            "min_height": null,
            "min_width": null,
            "object_fit": null,
            "object_position": null,
            "order": null,
            "overflow": null,
            "padding": null,
            "right": null,
            "top": null,
            "visibility": null,
            "width": null
          }
        },
        "9cbec0a1fe3247ed8a46290df56756fa": {
          "model_module": "@jupyter-widgets/controls",
          "model_module_version": "1.5.0",
          "model_name": "HTMLModel",
          "state": {
            "_dom_classes": [],
            "_model_module": "@jupyter-widgets/controls",
            "_model_module_version": "1.5.0",
            "_model_name": "HTMLModel",
            "_view_count": null,
            "_view_module": "@jupyter-widgets/controls",
            "_view_module_version": "1.5.0",
            "_view_name": "HTMLView",
            "description": "",
            "description_tooltip": null,
            "layout": "IPY_MODEL_26885bbae6c646e7bcc4a0459620c37a",
            "placeholder": "​",
            "style": "IPY_MODEL_a56b058d910244588c1454b02c8cda8c",
            "value": "Generating validation split:  98%"
          }
        },
        "9cf2c0d8439a4f5a86b4769a27babb94": {
          "model_module": "@jupyter-widgets/base",
          "model_module_version": "1.2.0",
          "model_name": "LayoutModel",
          "state": {
            "_model_module": "@jupyter-widgets/base",
            "_model_module_version": "1.2.0",
            "_model_name": "LayoutModel",
            "_view_count": null,
            "_view_module": "@jupyter-widgets/base",
            "_view_module_version": "1.2.0",
            "_view_name": "LayoutView",
            "align_content": null,
            "align_items": null,
            "align_self": null,
            "border": null,
            "bottom": null,
            "display": null,
            "flex": null,
            "flex_flow": null,
            "grid_area": null,
            "grid_auto_columns": null,
            "grid_auto_flow": null,
            "grid_auto_rows": null,
            "grid_column": null,
            "grid_gap": null,
            "grid_row": null,
            "grid_template_areas": null,
            "grid_template_columns": null,
            "grid_template_rows": null,
            "height": null,
            "justify_content": null,
            "justify_items": null,
            "left": null,
            "margin": null,
            "max_height": null,
            "max_width": null,
            "min_height": null,
            "min_width": null,
            "object_fit": null,
            "object_position": null,
            "order": null,
            "overflow": null,
            "overflow_x": null,
            "overflow_y": null,
            "padding": null,
            "right": null,
            "top": null,
            "visibility": null,
            "width": null
          }
        },
        "9dd6ab0e0cb940bebe25cba5492b2486": {
          "model_module": "@jupyter-widgets/controls",
          "model_module_version": "1.5.0",
          "model_name": "HTMLModel",
          "state": {
            "_dom_classes": [],
            "_model_module": "@jupyter-widgets/controls",
            "_model_module_version": "1.5.0",
            "_model_name": "HTMLModel",
            "_view_count": null,
            "_view_module": "@jupyter-widgets/controls",
            "_view_module_version": "1.5.0",
            "_view_name": "HTMLView",
            "description": "",
            "description_tooltip": null,
            "layout": "IPY_MODEL_aa1c4b91b583440a8e6f79dd06cfd200",
            "placeholder": "​",
            "style": "IPY_MODEL_b37bd95afbe44cd196fc5ab2d52bccd0",
            "value": " 3/3 [00:13&lt;00:00,  4.35s/it]"
          }
        },
        "9fdc731eb58247cbafef9286b49c66f9": {
          "model_module": "@jupyter-widgets/controls",
          "model_module_version": "1.5.0",
          "model_name": "DescriptionStyleModel",
          "state": {
            "_model_module": "@jupyter-widgets/controls",
            "_model_module_version": "1.5.0",
            "_model_name": "DescriptionStyleModel",
            "_view_count": null,
            "_view_module": "@jupyter-widgets/base",
            "_view_module_version": "1.2.0",
            "_view_name": "StyleView",
            "description_width": ""
          }
        },
        "a18b9c22460940cfa53b657849b034bf": {
          "model_module": "@jupyter-widgets/controls",
          "model_module_version": "1.5.0",
          "model_name": "DescriptionStyleModel",
          "state": {
            "_model_module": "@jupyter-widgets/controls",
            "_model_module_version": "1.5.0",
            "_model_name": "DescriptionStyleModel",
            "_view_count": null,
            "_view_module": "@jupyter-widgets/base",
            "_view_module_version": "1.2.0",
            "_view_name": "StyleView",
            "description_width": ""
          }
        },
        "a21f2bb483e44c749ec41a2b1784ee4b": {
          "model_module": "@jupyter-widgets/controls",
          "model_module_version": "1.5.0",
          "model_name": "ProgressStyleModel",
          "state": {
            "_model_module": "@jupyter-widgets/controls",
            "_model_module_version": "1.5.0",
            "_model_name": "ProgressStyleModel",
            "_view_count": null,
            "_view_module": "@jupyter-widgets/base",
            "_view_module_version": "1.2.0",
            "_view_name": "StyleView",
            "bar_color": null,
            "description_width": ""
          }
        },
        "a3e42e8e532c4628abaa6e154d667ed2": {
          "model_module": "@jupyter-widgets/controls",
          "model_module_version": "1.5.0",
          "model_name": "HTMLModel",
          "state": {
            "_dom_classes": [],
            "_model_module": "@jupyter-widgets/controls",
            "_model_module_version": "1.5.0",
            "_model_name": "HTMLModel",
            "_view_count": null,
            "_view_module": "@jupyter-widgets/controls",
            "_view_module_version": "1.5.0",
            "_view_name": "HTMLView",
            "description": "",
            "description_tooltip": null,
            "layout": "IPY_MODEL_4b92faf53c2b4f7986066af8026ffc3a",
            "placeholder": "​",
            "style": "IPY_MODEL_8497fe93c0d148a49f9a0a0c56961f36",
            "value": "Downloading data: "
          }
        },
        "a4e9b7b28055406c9569e585296850c6": {
          "model_module": "@jupyter-widgets/controls",
          "model_module_version": "2.0.0",
          "model_name": "HTMLModel",
          "state": {
            "_dom_classes": [],
            "_model_module": "@jupyter-widgets/controls",
            "_model_module_version": "2.0.0",
            "_model_name": "HTMLModel",
            "_view_count": null,
            "_view_module": "@jupyter-widgets/controls",
            "_view_module_version": "2.0.0",
            "_view_name": "HTMLView",
            "description": "",
            "description_allow_html": false,
            "layout": "IPY_MODEL_8cfa8c0a28f549c19649ec9b390aa528",
            "placeholder": "​",
            "style": "IPY_MODEL_470b17af8c8442e49757dc4e385d16f0",
            "tabbable": null,
            "tooltip": null,
            "value": " 798/872 [00:00&lt;00:00, 7979.17 examples/s]"
          }
        },
        "a56b058d910244588c1454b02c8cda8c": {
          "model_module": "@jupyter-widgets/controls",
          "model_module_version": "1.5.0",
          "model_name": "DescriptionStyleModel",
          "state": {
            "_model_module": "@jupyter-widgets/controls",
            "_model_module_version": "1.5.0",
            "_model_name": "DescriptionStyleModel",
            "_view_count": null,
            "_view_module": "@jupyter-widgets/base",
            "_view_module_version": "1.2.0",
            "_view_name": "StyleView",
            "description_width": ""
          }
        },
        "a6431dfb76084a838d63849fa362de35": {
          "model_module": "@jupyter-widgets/base",
          "model_module_version": "1.2.0",
          "model_name": "LayoutModel",
          "state": {
            "_model_module": "@jupyter-widgets/base",
            "_model_module_version": "1.2.0",
            "_model_name": "LayoutModel",
            "_view_count": null,
            "_view_module": "@jupyter-widgets/base",
            "_view_module_version": "1.2.0",
            "_view_name": "LayoutView",
            "align_content": null,
            "align_items": null,
            "align_self": null,
            "border": null,
            "bottom": null,
            "display": null,
            "flex": null,
            "flex_flow": null,
            "grid_area": null,
            "grid_auto_columns": null,
            "grid_auto_flow": null,
            "grid_auto_rows": null,
            "grid_column": null,
            "grid_gap": null,
            "grid_row": null,
            "grid_template_areas": null,
            "grid_template_columns": null,
            "grid_template_rows": null,
            "height": null,
            "justify_content": null,
            "justify_items": null,
            "left": null,
            "margin": null,
            "max_height": null,
            "max_width": null,
            "min_height": null,
            "min_width": null,
            "object_fit": null,
            "object_position": null,
            "order": null,
            "overflow": null,
            "overflow_x": null,
            "overflow_y": null,
            "padding": null,
            "right": null,
            "top": null,
            "visibility": null,
            "width": null
          }
        },
        "a902290681e942cbae40024baaa2e9b7": {
          "model_module": "@jupyter-widgets/controls",
          "model_module_version": "1.5.0",
          "model_name": "HTMLModel",
          "state": {
            "_dom_classes": [],
            "_model_module": "@jupyter-widgets/controls",
            "_model_module_version": "1.5.0",
            "_model_name": "HTMLModel",
            "_view_count": null,
            "_view_module": "@jupyter-widgets/controls",
            "_view_module_version": "1.5.0",
            "_view_name": "HTMLView",
            "description": "",
            "description_tooltip": null,
            "layout": "IPY_MODEL_26f3abaf861a4c63986ff0691294d70c",
            "placeholder": "​",
            "style": "IPY_MODEL_1a701b0fa5a34fb9b64fb92b5c8e4306",
            "value": " 7.10k/? [00:00&lt;00:00, 221kB/s]"
          }
        },
        "a91dc7ddd7f641d9b60b59bbbde7bae6": {
          "model_module": "@jupyter-widgets/base",
          "model_module_version": "1.2.0",
          "model_name": "LayoutModel",
          "state": {
            "_model_module": "@jupyter-widgets/base",
            "_model_module_version": "1.2.0",
            "_model_name": "LayoutModel",
            "_view_count": null,
            "_view_module": "@jupyter-widgets/base",
            "_view_module_version": "1.2.0",
            "_view_name": "LayoutView",
            "align_content": null,
            "align_items": null,
            "align_self": null,
            "border": null,
            "bottom": null,
            "display": null,
            "flex": null,
            "flex_flow": null,
            "grid_area": null,
            "grid_auto_columns": null,
            "grid_auto_flow": null,
            "grid_auto_rows": null,
            "grid_column": null,
            "grid_gap": null,
            "grid_row": null,
            "grid_template_areas": null,
            "grid_template_columns": null,
            "grid_template_rows": null,
            "height": null,
            "justify_content": null,
            "justify_items": null,
            "left": null,
            "margin": null,
            "max_height": null,
            "max_width": null,
            "min_height": null,
            "min_width": null,
            "object_fit": null,
            "object_position": null,
            "order": null,
            "overflow": null,
            "overflow_x": null,
            "overflow_y": null,
            "padding": null,
            "right": null,
            "top": null,
            "visibility": null,
            "width": null
          }
        },
        "aa1c4b91b583440a8e6f79dd06cfd200": {
          "model_module": "@jupyter-widgets/base",
          "model_module_version": "1.2.0",
          "model_name": "LayoutModel",
          "state": {
            "_model_module": "@jupyter-widgets/base",
            "_model_module_version": "1.2.0",
            "_model_name": "LayoutModel",
            "_view_count": null,
            "_view_module": "@jupyter-widgets/base",
            "_view_module_version": "1.2.0",
            "_view_name": "LayoutView",
            "align_content": null,
            "align_items": null,
            "align_self": null,
            "border": null,
            "bottom": null,
            "display": null,
            "flex": null,
            "flex_flow": null,
            "grid_area": null,
            "grid_auto_columns": null,
            "grid_auto_flow": null,
            "grid_auto_rows": null,
            "grid_column": null,
            "grid_gap": null,
            "grid_row": null,
            "grid_template_areas": null,
            "grid_template_columns": null,
            "grid_template_rows": null,
            "height": null,
            "justify_content": null,
            "justify_items": null,
            "left": null,
            "margin": null,
            "max_height": null,
            "max_width": null,
            "min_height": null,
            "min_width": null,
            "object_fit": null,
            "object_position": null,
            "order": null,
            "overflow": null,
            "overflow_x": null,
            "overflow_y": null,
            "padding": null,
            "right": null,
            "top": null,
            "visibility": null,
            "width": null
          }
        },
        "aad092fcb29d4045a342288aa9d6a329": {
          "model_module": "@jupyter-widgets/controls",
          "model_module_version": "1.5.0",
          "model_name": "DescriptionStyleModel",
          "state": {
            "_model_module": "@jupyter-widgets/controls",
            "_model_module_version": "1.5.0",
            "_model_name": "DescriptionStyleModel",
            "_view_count": null,
            "_view_module": "@jupyter-widgets/base",
            "_view_module_version": "1.2.0",
            "_view_name": "StyleView",
            "description_width": ""
          }
        },
        "ab2c48f34b7f43c5a5fb37c80a7d47f3": {
          "model_module": "@jupyter-widgets/base",
          "model_module_version": "1.2.0",
          "model_name": "LayoutModel",
          "state": {
            "_model_module": "@jupyter-widgets/base",
            "_model_module_version": "1.2.0",
            "_model_name": "LayoutModel",
            "_view_count": null,
            "_view_module": "@jupyter-widgets/base",
            "_view_module_version": "1.2.0",
            "_view_name": "LayoutView",
            "align_content": null,
            "align_items": null,
            "align_self": null,
            "border": null,
            "bottom": null,
            "display": null,
            "flex": null,
            "flex_flow": null,
            "grid_area": null,
            "grid_auto_columns": null,
            "grid_auto_flow": null,
            "grid_auto_rows": null,
            "grid_column": null,
            "grid_gap": null,
            "grid_row": null,
            "grid_template_areas": null,
            "grid_template_columns": null,
            "grid_template_rows": null,
            "height": null,
            "justify_content": null,
            "justify_items": null,
            "left": null,
            "margin": null,
            "max_height": null,
            "max_width": null,
            "min_height": null,
            "min_width": null,
            "object_fit": null,
            "object_position": null,
            "order": null,
            "overflow": null,
            "overflow_x": null,
            "overflow_y": null,
            "padding": null,
            "right": null,
            "top": null,
            "visibility": null,
            "width": null
          }
        },
        "ac534b02efb34100b53999031767e8a3": {
          "model_module": "@jupyter-widgets/base",
          "model_module_version": "2.0.0",
          "model_name": "LayoutModel",
          "state": {
            "_model_module": "@jupyter-widgets/base",
            "_model_module_version": "2.0.0",
            "_model_name": "LayoutModel",
            "_view_count": null,
            "_view_module": "@jupyter-widgets/base",
            "_view_module_version": "2.0.0",
            "_view_name": "LayoutView",
            "align_content": null,
            "align_items": null,
            "align_self": null,
            "border_bottom": null,
            "border_left": null,
            "border_right": null,
            "border_top": null,
            "bottom": null,
            "display": null,
            "flex": null,
            "flex_flow": null,
            "grid_area": null,
            "grid_auto_columns": null,
            "grid_auto_flow": null,
            "grid_auto_rows": null,
            "grid_column": null,
            "grid_gap": null,
            "grid_row": null,
            "grid_template_areas": null,
            "grid_template_columns": null,
            "grid_template_rows": null,
            "height": null,
            "justify_content": null,
            "justify_items": null,
            "left": null,
            "margin": null,
            "max_height": null,
            "max_width": null,
            "min_height": null,
            "min_width": null,
            "object_fit": null,
            "object_position": null,
            "order": null,
            "overflow": null,
            "padding": null,
            "right": null,
            "top": null,
            "visibility": null,
            "width": null
          }
        },
        "ad994aff0bf94c2ea4ac9aa8d5c067e3": {
          "model_module": "@jupyter-widgets/base",
          "model_module_version": "1.2.0",
          "model_name": "LayoutModel",
          "state": {
            "_model_module": "@jupyter-widgets/base",
            "_model_module_version": "1.2.0",
            "_model_name": "LayoutModel",
            "_view_count": null,
            "_view_module": "@jupyter-widgets/base",
            "_view_module_version": "1.2.0",
            "_view_name": "LayoutView",
            "align_content": null,
            "align_items": null,
            "align_self": null,
            "border": null,
            "bottom": null,
            "display": null,
            "flex": null,
            "flex_flow": null,
            "grid_area": null,
            "grid_auto_columns": null,
            "grid_auto_flow": null,
            "grid_auto_rows": null,
            "grid_column": null,
            "grid_gap": null,
            "grid_row": null,
            "grid_template_areas": null,
            "grid_template_columns": null,
            "grid_template_rows": null,
            "height": null,
            "justify_content": null,
            "justify_items": null,
            "left": null,
            "margin": null,
            "max_height": null,
            "max_width": null,
            "min_height": null,
            "min_width": null,
            "object_fit": null,
            "object_position": null,
            "order": null,
            "overflow": null,
            "overflow_x": null,
            "overflow_y": null,
            "padding": null,
            "right": null,
            "top": null,
            "visibility": null,
            "width": null
          }
        },
        "b09d990f98f0419e84f5939d3b48d381": {
          "model_module": "@jupyter-widgets/base",
          "model_module_version": "1.2.0",
          "model_name": "LayoutModel",
          "state": {
            "_model_module": "@jupyter-widgets/base",
            "_model_module_version": "1.2.0",
            "_model_name": "LayoutModel",
            "_view_count": null,
            "_view_module": "@jupyter-widgets/base",
            "_view_module_version": "1.2.0",
            "_view_name": "LayoutView",
            "align_content": null,
            "align_items": null,
            "align_self": null,
            "border": null,
            "bottom": null,
            "display": null,
            "flex": null,
            "flex_flow": null,
            "grid_area": null,
            "grid_auto_columns": null,
            "grid_auto_flow": null,
            "grid_auto_rows": null,
            "grid_column": null,
            "grid_gap": null,
            "grid_row": null,
            "grid_template_areas": null,
            "grid_template_columns": null,
            "grid_template_rows": null,
            "height": null,
            "justify_content": null,
            "justify_items": null,
            "left": null,
            "margin": null,
            "max_height": null,
            "max_width": null,
            "min_height": null,
            "min_width": null,
            "object_fit": null,
            "object_position": null,
            "order": null,
            "overflow": null,
            "overflow_x": null,
            "overflow_y": null,
            "padding": null,
            "right": null,
            "top": null,
            "visibility": null,
            "width": null
          }
        },
        "b167b817426e4832b73a7a37b72115c1": {
          "model_module": "@jupyter-widgets/controls",
          "model_module_version": "1.5.0",
          "model_name": "DescriptionStyleModel",
          "state": {
            "_model_module": "@jupyter-widgets/controls",
            "_model_module_version": "1.5.0",
            "_model_name": "DescriptionStyleModel",
            "_view_count": null,
            "_view_module": "@jupyter-widgets/base",
            "_view_module_version": "1.2.0",
            "_view_name": "StyleView",
            "description_width": ""
          }
        },
        "b2a5550cd6474de7a46eab6a973305e0": {
          "model_module": "@jupyter-widgets/controls",
          "model_module_version": "2.0.0",
          "model_name": "FloatProgressModel",
          "state": {
            "_dom_classes": [],
            "_model_module": "@jupyter-widgets/controls",
            "_model_module_version": "2.0.0",
            "_model_name": "FloatProgressModel",
            "_view_count": null,
            "_view_module": "@jupyter-widgets/controls",
            "_view_module_version": "2.0.0",
            "_view_name": "ProgressView",
            "bar_style": "",
            "description": "",
            "description_allow_html": false,
            "layout": "IPY_MODEL_4ec28fbc9433413f8355e0c976839a94",
            "max": 872,
            "min": 0,
            "orientation": "horizontal",
            "style": "IPY_MODEL_fab424da92b541cfac6b3bb05ee4e17b",
            "tabbable": null,
            "tooltip": null,
            "value": 872
          }
        },
        "b37bd95afbe44cd196fc5ab2d52bccd0": {
          "model_module": "@jupyter-widgets/controls",
          "model_module_version": "1.5.0",
          "model_name": "DescriptionStyleModel",
          "state": {
            "_model_module": "@jupyter-widgets/controls",
            "_model_module_version": "1.5.0",
            "_model_name": "DescriptionStyleModel",
            "_view_count": null,
            "_view_module": "@jupyter-widgets/base",
            "_view_module_version": "1.2.0",
            "_view_name": "StyleView",
            "description_width": ""
          }
        },
        "b649c32bcc8446cf91c53604fc1dcaa6": {
          "model_module": "@jupyter-widgets/controls",
          "model_module_version": "1.5.0",
          "model_name": "HBoxModel",
          "state": {
            "_dom_classes": [],
            "_model_module": "@jupyter-widgets/controls",
            "_model_module_version": "1.5.0",
            "_model_name": "HBoxModel",
            "_view_count": null,
            "_view_module": "@jupyter-widgets/controls",
            "_view_module_version": "1.5.0",
            "_view_name": "HBoxView",
            "box_style": "",
            "children": [
              "IPY_MODEL_b70e2d813be3473f90ca76e293251c0b",
              "IPY_MODEL_b66e17d6fd094f44bc10eade34fc5261",
              "IPY_MODEL_9509ad27a9b54e3e80f796d224f3e189"
            ],
            "layout": "IPY_MODEL_920c8dd736a4454f9469fb3fa0a9af90"
          }
        },
        "b66e17d6fd094f44bc10eade34fc5261": {
          "model_module": "@jupyter-widgets/controls",
          "model_module_version": "1.5.0",
          "model_name": "FloatProgressModel",
          "state": {
            "_dom_classes": [],
            "_model_module": "@jupyter-widgets/controls",
            "_model_module_version": "1.5.0",
            "_model_name": "FloatProgressModel",
            "_view_count": null,
            "_view_module": "@jupyter-widgets/controls",
            "_view_module_version": "1.5.0",
            "_view_name": "ProgressView",
            "bar_style": "success",
            "description": "",
            "description_tooltip": null,
            "layout": "IPY_MODEL_811d914b52904fa0913adc9daa33695c",
            "max": 6710578,
            "min": 0,
            "orientation": "horizontal",
            "style": "IPY_MODEL_98f179b9be5044c79bc867f5261e2b47",
            "value": 6710578
          }
        },
        "b70e2d813be3473f90ca76e293251c0b": {
          "model_module": "@jupyter-widgets/controls",
          "model_module_version": "1.5.0",
          "model_name": "HTMLModel",
          "state": {
            "_dom_classes": [],
            "_model_module": "@jupyter-widgets/controls",
            "_model_module_version": "1.5.0",
            "_model_name": "HTMLModel",
            "_view_count": null,
            "_view_module": "@jupyter-widgets/controls",
            "_view_module_version": "1.5.0",
            "_view_name": "HTMLView",
            "description": "",
            "description_tooltip": null,
            "layout": "IPY_MODEL_8f5311cebd554f5ba645b8d33b0722a3",
            "placeholder": "​",
            "style": "IPY_MODEL_aad092fcb29d4045a342288aa9d6a329",
            "value": "Downloading data: "
          }
        },
        "b84af540de4741ceb206456d2f05fa4b": {
          "model_module": "@jupyter-widgets/base",
          "model_module_version": "2.0.0",
          "model_name": "LayoutModel",
          "state": {
            "_model_module": "@jupyter-widgets/base",
            "_model_module_version": "2.0.0",
            "_model_name": "LayoutModel",
            "_view_count": null,
            "_view_module": "@jupyter-widgets/base",
            "_view_module_version": "2.0.0",
            "_view_name": "LayoutView",
            "align_content": null,
            "align_items": null,
            "align_self": null,
            "border_bottom": null,
            "border_left": null,
            "border_right": null,
            "border_top": null,
            "bottom": null,
            "display": null,
            "flex": null,
            "flex_flow": null,
            "grid_area": null,
            "grid_auto_columns": null,
            "grid_auto_flow": null,
            "grid_auto_rows": null,
            "grid_column": null,
            "grid_gap": null,
            "grid_row": null,
            "grid_template_areas": null,
            "grid_template_columns": null,
            "grid_template_rows": null,
            "height": null,
            "justify_content": null,
            "justify_items": null,
            "left": null,
            "margin": null,
            "max_height": null,
            "max_width": null,
            "min_height": null,
            "min_width": null,
            "object_fit": null,
            "object_position": null,
            "order": null,
            "overflow": null,
            "padding": null,
            "right": null,
            "top": null,
            "visibility": null,
            "width": null
          }
        },
        "be21476b15a14c0084712a9d5aedc22f": {
          "model_module": "@jupyter-widgets/base",
          "model_module_version": "1.2.0",
          "model_name": "LayoutModel",
          "state": {
            "_model_module": "@jupyter-widgets/base",
            "_model_module_version": "1.2.0",
            "_model_name": "LayoutModel",
            "_view_count": null,
            "_view_module": "@jupyter-widgets/base",
            "_view_module_version": "1.2.0",
            "_view_name": "LayoutView",
            "align_content": null,
            "align_items": null,
            "align_self": null,
            "border": null,
            "bottom": null,
            "display": null,
            "flex": null,
            "flex_flow": null,
            "grid_area": null,
            "grid_auto_columns": null,
            "grid_auto_flow": null,
            "grid_auto_rows": null,
            "grid_column": null,
            "grid_gap": null,
            "grid_row": null,
            "grid_template_areas": null,
            "grid_template_columns": null,
            "grid_template_rows": null,
            "height": null,
            "justify_content": null,
            "justify_items": null,
            "left": null,
            "margin": null,
            "max_height": null,
            "max_width": null,
            "min_height": null,
            "min_width": null,
            "object_fit": null,
            "object_position": null,
            "order": null,
            "overflow": null,
            "overflow_x": null,
            "overflow_y": null,
            "padding": null,
            "right": null,
            "top": null,
            "visibility": null,
            "width": null
          }
        },
        "bfbcfceca0444337ac6c4033a7734fc1": {
          "model_module": "@jupyter-widgets/base",
          "model_module_version": "1.2.0",
          "model_name": "LayoutModel",
          "state": {
            "_model_module": "@jupyter-widgets/base",
            "_model_module_version": "1.2.0",
            "_model_name": "LayoutModel",
            "_view_count": null,
            "_view_module": "@jupyter-widgets/base",
            "_view_module_version": "1.2.0",
            "_view_name": "LayoutView",
            "align_content": null,
            "align_items": null,
            "align_self": null,
            "border": null,
            "bottom": null,
            "display": null,
            "flex": null,
            "flex_flow": null,
            "grid_area": null,
            "grid_auto_columns": null,
            "grid_auto_flow": null,
            "grid_auto_rows": null,
            "grid_column": null,
            "grid_gap": null,
            "grid_row": null,
            "grid_template_areas": null,
            "grid_template_columns": null,
            "grid_template_rows": null,
            "height": null,
            "justify_content": null,
            "justify_items": null,
            "left": null,
            "margin": null,
            "max_height": null,
            "max_width": null,
            "min_height": null,
            "min_width": null,
            "object_fit": null,
            "object_position": null,
            "order": null,
            "overflow": null,
            "overflow_x": null,
            "overflow_y": null,
            "padding": null,
            "right": null,
            "top": null,
            "visibility": null,
            "width": null
          }
        },
        "c1792bbceb854dc5880003f64e5623cb": {
          "model_module": "@jupyter-widgets/base",
          "model_module_version": "1.2.0",
          "model_name": "LayoutModel",
          "state": {
            "_model_module": "@jupyter-widgets/base",
            "_model_module_version": "1.2.0",
            "_model_name": "LayoutModel",
            "_view_count": null,
            "_view_module": "@jupyter-widgets/base",
            "_view_module_version": "1.2.0",
            "_view_name": "LayoutView",
            "align_content": null,
            "align_items": null,
            "align_self": null,
            "border": null,
            "bottom": null,
            "display": null,
            "flex": null,
            "flex_flow": null,
            "grid_area": null,
            "grid_auto_columns": null,
            "grid_auto_flow": null,
            "grid_auto_rows": null,
            "grid_column": null,
            "grid_gap": null,
            "grid_row": null,
            "grid_template_areas": null,
            "grid_template_columns": null,
            "grid_template_rows": null,
            "height": null,
            "justify_content": null,
            "justify_items": null,
            "left": null,
            "margin": null,
            "max_height": null,
            "max_width": null,
            "min_height": null,
            "min_width": null,
            "object_fit": null,
            "object_position": null,
            "order": null,
            "overflow": null,
            "overflow_x": null,
            "overflow_y": null,
            "padding": null,
            "right": null,
            "top": null,
            "visibility": null,
            "width": null
          }
        },
        "c274c717ac7e4fa2888e0d101c3fe1fb": {
          "model_module": "@jupyter-widgets/controls",
          "model_module_version": "1.5.0",
          "model_name": "HBoxModel",
          "state": {
            "_dom_classes": [],
            "_model_module": "@jupyter-widgets/controls",
            "_model_module_version": "1.5.0",
            "_model_name": "HBoxModel",
            "_view_count": null,
            "_view_module": "@jupyter-widgets/controls",
            "_view_module_version": "1.5.0",
            "_view_name": "HBoxView",
            "box_style": "",
            "children": [
              "IPY_MODEL_9cbec0a1fe3247ed8a46290df56756fa",
              "IPY_MODEL_35151380719b41349a2113b0b893bd6f",
              "IPY_MODEL_1fb6335656b1444abe05aa94a7d13825"
            ],
            "layout": "IPY_MODEL_a6431dfb76084a838d63849fa362de35"
          }
        },
        "c3f7a2bb90b44a21a43939f78914f9b8": {
          "model_module": "@jupyter-widgets/controls",
          "model_module_version": "2.0.0",
          "model_name": "HTMLStyleModel",
          "state": {
            "_model_module": "@jupyter-widgets/controls",
            "_model_module_version": "2.0.0",
            "_model_name": "HTMLStyleModel",
            "_view_count": null,
            "_view_module": "@jupyter-widgets/base",
            "_view_module_version": "2.0.0",
            "_view_name": "StyleView",
            "background": null,
            "description_width": "",
            "font_size": null,
            "text_color": null
          }
        },
        "c5f0ba4cda014a63a99ecc989f72f731": {
          "model_module": "@jupyter-widgets/base",
          "model_module_version": "2.0.0",
          "model_name": "LayoutModel",
          "state": {
            "_model_module": "@jupyter-widgets/base",
            "_model_module_version": "2.0.0",
            "_model_name": "LayoutModel",
            "_view_count": null,
            "_view_module": "@jupyter-widgets/base",
            "_view_module_version": "2.0.0",
            "_view_name": "LayoutView",
            "align_content": null,
            "align_items": null,
            "align_self": null,
            "border_bottom": null,
            "border_left": null,
            "border_right": null,
            "border_top": null,
            "bottom": null,
            "display": null,
            "flex": null,
            "flex_flow": null,
            "grid_area": null,
            "grid_auto_columns": null,
            "grid_auto_flow": null,
            "grid_auto_rows": null,
            "grid_column": null,
            "grid_gap": null,
            "grid_row": null,
            "grid_template_areas": null,
            "grid_template_columns": null,
            "grid_template_rows": null,
            "height": null,
            "justify_content": null,
            "justify_items": null,
            "left": null,
            "margin": null,
            "max_height": null,
            "max_width": null,
            "min_height": null,
            "min_width": null,
            "object_fit": null,
            "object_position": null,
            "order": null,
            "overflow": null,
            "padding": null,
            "right": null,
            "top": null,
            "visibility": null,
            "width": null
          }
        },
        "c7aaa1fbd10942649c90044c0c901d99": {
          "model_module": "@jupyter-widgets/controls",
          "model_module_version": "2.0.0",
          "model_name": "HTMLStyleModel",
          "state": {
            "_model_module": "@jupyter-widgets/controls",
            "_model_module_version": "2.0.0",
            "_model_name": "HTMLStyleModel",
            "_view_count": null,
            "_view_module": "@jupyter-widgets/base",
            "_view_module_version": "2.0.0",
            "_view_name": "StyleView",
            "background": null,
            "description_width": "",
            "font_size": null,
            "text_color": null
          }
        },
        "c81f11a99b9d4d1d95533f24bea1d5ac": {
          "model_module": "@jupyter-widgets/controls",
          "model_module_version": "2.0.0",
          "model_name": "HTMLModel",
          "state": {
            "_dom_classes": [],
            "_model_module": "@jupyter-widgets/controls",
            "_model_module_version": "2.0.0",
            "_model_name": "HTMLModel",
            "_view_count": null,
            "_view_module": "@jupyter-widgets/controls",
            "_view_module_version": "2.0.0",
            "_view_name": "HTMLView",
            "description": "",
            "description_allow_html": false,
            "layout": "IPY_MODEL_129488cadbb9477ca593ae106ee8e9f7",
            "placeholder": "​",
            "style": "IPY_MODEL_c7aaa1fbd10942649c90044c0c901d99",
            "tabbable": null,
            "tooltip": null,
            "value": "Downloading data: 100%"
          }
        },
        "c96613989db447b5acfb35cfef553145": {
          "model_module": "@jupyter-widgets/controls",
          "model_module_version": "1.5.0",
          "model_name": "DescriptionStyleModel",
          "state": {
            "_model_module": "@jupyter-widgets/controls",
            "_model_module_version": "1.5.0",
            "_model_name": "DescriptionStyleModel",
            "_view_count": null,
            "_view_module": "@jupyter-widgets/base",
            "_view_module_version": "1.2.0",
            "_view_name": "StyleView",
            "description_width": ""
          }
        },
        "ca550fa3fe1147bd8285c2b7cadde206": {
          "model_module": "@jupyter-widgets/controls",
          "model_module_version": "1.5.0",
          "model_name": "HBoxModel",
          "state": {
            "_dom_classes": [],
            "_model_module": "@jupyter-widgets/controls",
            "_model_module_version": "1.5.0",
            "_model_name": "HBoxModel",
            "_view_count": null,
            "_view_module": "@jupyter-widgets/controls",
            "_view_module_version": "1.5.0",
            "_view_name": "HBoxView",
            "box_style": "",
            "children": [
              "IPY_MODEL_263e99ca21124b79a26e1078b187273d",
              "IPY_MODEL_894de256daec49329f6404326eddaa39",
              "IPY_MODEL_7feeefa264da4af89ddc8ddf331b4f9f"
            ],
            "layout": "IPY_MODEL_4b2b38b8064040849b10c63b9f2ed8fd"
          }
        },
        "cc378c1990634f7da6ffba019fe38c59": {
          "model_module": "@jupyter-widgets/controls",
          "model_module_version": "1.5.0",
          "model_name": "HTMLModel",
          "state": {
            "_dom_classes": [],
            "_model_module": "@jupyter-widgets/controls",
            "_model_module_version": "1.5.0",
            "_model_name": "HTMLModel",
            "_view_count": null,
            "_view_module": "@jupyter-widgets/controls",
            "_view_module_version": "1.5.0",
            "_view_name": "HTMLView",
            "description": "",
            "description_tooltip": null,
            "layout": "IPY_MODEL_c1792bbceb854dc5880003f64e5623cb",
            "placeholder": "​",
            "style": "IPY_MODEL_b167b817426e4832b73a7a37b72115c1",
            "value": "Downloading metadata: "
          }
        },
        "cc8f1bc7322542828205777903530f1e": {
          "model_module": "@jupyter-widgets/controls",
          "model_module_version": "2.0.0",
          "model_name": "HTMLStyleModel",
          "state": {
            "_model_module": "@jupyter-widgets/controls",
            "_model_module_version": "2.0.0",
            "_model_name": "HTMLStyleModel",
            "_view_count": null,
            "_view_module": "@jupyter-widgets/base",
            "_view_module_version": "2.0.0",
            "_view_name": "StyleView",
            "background": null,
            "description_width": "",
            "font_size": null,
            "text_color": null
          }
        },
        "cd5ec1bd9cf54dbfbfd577a096a9e588": {
          "model_module": "@jupyter-widgets/controls",
          "model_module_version": "2.0.0",
          "model_name": "HTMLModel",
          "state": {
            "_dom_classes": [],
            "_model_module": "@jupyter-widgets/controls",
            "_model_module_version": "2.0.0",
            "_model_name": "HTMLModel",
            "_view_count": null,
            "_view_module": "@jupyter-widgets/controls",
            "_view_module_version": "2.0.0",
            "_view_name": "HTMLView",
            "description": "",
            "description_allow_html": false,
            "layout": "IPY_MODEL_f37c66b863854588b7a8891720372dc6",
            "placeholder": "​",
            "style": "IPY_MODEL_f48c7243c49a43acac4d1ba3a6fe674f",
            "tabbable": null,
            "tooltip": null,
            "value": "Generating test split:  50%"
          }
        },
        "d1ba6870db484696879f0d6e5d3a9d70": {
          "model_module": "@jupyter-widgets/controls",
          "model_module_version": "2.0.0",
          "model_name": "FloatProgressModel",
          "state": {
            "_dom_classes": [],
            "_model_module": "@jupyter-widgets/controls",
            "_model_module_version": "2.0.0",
            "_model_name": "FloatProgressModel",
            "_view_count": null,
            "_view_module": "@jupyter-widgets/controls",
            "_view_module_version": "2.0.0",
            "_view_name": "ProgressView",
            "bar_style": "",
            "description": "",
            "description_allow_html": false,
            "layout": "IPY_MODEL_95ad5a87c66f405599a710b8a5fa0a9d",
            "max": 1821,
            "min": 0,
            "orientation": "horizontal",
            "style": "IPY_MODEL_de103ee4780843db8502ebe64f5d2b28",
            "tabbable": null,
            "tooltip": null,
            "value": 1821
          }
        },
        "d226d72577ea4cc299ed78c2fa99a486": {
          "model_module": "@jupyter-widgets/base",
          "model_module_version": "1.2.0",
          "model_name": "LayoutModel",
          "state": {
            "_model_module": "@jupyter-widgets/base",
            "_model_module_version": "1.2.0",
            "_model_name": "LayoutModel",
            "_view_count": null,
            "_view_module": "@jupyter-widgets/base",
            "_view_module_version": "1.2.0",
            "_view_name": "LayoutView",
            "align_content": null,
            "align_items": null,
            "align_self": null,
            "border": null,
            "bottom": null,
            "display": null,
            "flex": null,
            "flex_flow": null,
            "grid_area": null,
            "grid_auto_columns": null,
            "grid_auto_flow": null,
            "grid_auto_rows": null,
            "grid_column": null,
            "grid_gap": null,
            "grid_row": null,
            "grid_template_areas": null,
            "grid_template_columns": null,
            "grid_template_rows": null,
            "height": null,
            "justify_content": null,
            "justify_items": null,
            "left": null,
            "margin": null,
            "max_height": null,
            "max_width": null,
            "min_height": null,
            "min_width": null,
            "object_fit": null,
            "object_position": null,
            "order": null,
            "overflow": null,
            "overflow_x": null,
            "overflow_y": null,
            "padding": null,
            "right": null,
            "top": null,
            "visibility": null,
            "width": null
          }
        },
        "d4830572efa244968881c31932ec5dff": {
          "model_module": "@jupyter-widgets/base",
          "model_module_version": "1.2.0",
          "model_name": "LayoutModel",
          "state": {
            "_model_module": "@jupyter-widgets/base",
            "_model_module_version": "1.2.0",
            "_model_name": "LayoutModel",
            "_view_count": null,
            "_view_module": "@jupyter-widgets/base",
            "_view_module_version": "1.2.0",
            "_view_name": "LayoutView",
            "align_content": null,
            "align_items": null,
            "align_self": null,
            "border": null,
            "bottom": null,
            "display": null,
            "flex": null,
            "flex_flow": null,
            "grid_area": null,
            "grid_auto_columns": null,
            "grid_auto_flow": null,
            "grid_auto_rows": null,
            "grid_column": null,
            "grid_gap": null,
            "grid_row": null,
            "grid_template_areas": null,
            "grid_template_columns": null,
            "grid_template_rows": null,
            "height": null,
            "justify_content": null,
            "justify_items": null,
            "left": null,
            "margin": null,
            "max_height": null,
            "max_width": null,
            "min_height": null,
            "min_width": null,
            "object_fit": null,
            "object_position": null,
            "order": null,
            "overflow": null,
            "overflow_x": null,
            "overflow_y": null,
            "padding": null,
            "right": null,
            "top": null,
            "visibility": null,
            "width": null
          }
        },
        "d8468fc2f0b94b2b8dab75336a0d29a3": {
          "model_module": "@jupyter-widgets/controls",
          "model_module_version": "1.5.0",
          "model_name": "HTMLModel",
          "state": {
            "_dom_classes": [],
            "_model_module": "@jupyter-widgets/controls",
            "_model_module_version": "1.5.0",
            "_model_name": "HTMLModel",
            "_view_count": null,
            "_view_module": "@jupyter-widgets/controls",
            "_view_module_version": "1.5.0",
            "_view_name": "HTMLView",
            "description": "",
            "description_tooltip": null,
            "layout": "IPY_MODEL_eb395373be244e6e8815087d5d32a801",
            "placeholder": "​",
            "style": "IPY_MODEL_1ffd6e8c1f834dc48d66116b6089f7a2",
            "value": " 7.82M/? [00:00&lt;00:00, 38.6MB/s]"
          }
        },
        "da31e023dddb4c25a035258c0e4ed0d7": {
          "model_module": "@jupyter-widgets/controls",
          "model_module_version": "1.5.0",
          "model_name": "HTMLModel",
          "state": {
            "_dom_classes": [],
            "_model_module": "@jupyter-widgets/controls",
            "_model_module_version": "1.5.0",
            "_model_name": "HTMLModel",
            "_view_count": null,
            "_view_module": "@jupyter-widgets/controls",
            "_view_module_version": "1.5.0",
            "_view_name": "HTMLView",
            "description": "",
            "description_tooltip": null,
            "layout": "IPY_MODEL_87639f90c2ab47db986419c03e165d7a",
            "placeholder": "​",
            "style": "IPY_MODEL_a18b9c22460940cfa53b657849b034bf",
            "value": " 19617/20005 [00:02&lt;00:00, 9178.75 examples/s]"
          }
        },
        "db589666b507409f9647930b1222b0a9": {
          "model_module": "@jupyter-widgets/base",
          "model_module_version": "1.2.0",
          "model_name": "LayoutModel",
          "state": {
            "_model_module": "@jupyter-widgets/base",
            "_model_module_version": "1.2.0",
            "_model_name": "LayoutModel",
            "_view_count": null,
            "_view_module": "@jupyter-widgets/base",
            "_view_module_version": "1.2.0",
            "_view_name": "LayoutView",
            "align_content": null,
            "align_items": null,
            "align_self": null,
            "border": null,
            "bottom": null,
            "display": null,
            "flex": null,
            "flex_flow": null,
            "grid_area": null,
            "grid_auto_columns": null,
            "grid_auto_flow": null,
            "grid_auto_rows": null,
            "grid_column": null,
            "grid_gap": null,
            "grid_row": null,
            "grid_template_areas": null,
            "grid_template_columns": null,
            "grid_template_rows": null,
            "height": null,
            "justify_content": null,
            "justify_items": null,
            "left": null,
            "margin": null,
            "max_height": null,
            "max_width": null,
            "min_height": null,
            "min_width": null,
            "object_fit": null,
            "object_position": null,
            "order": null,
            "overflow": null,
            "overflow_x": null,
            "overflow_y": null,
            "padding": null,
            "right": null,
            "top": null,
            "visibility": null,
            "width": null
          }
        },
        "de103ee4780843db8502ebe64f5d2b28": {
          "model_module": "@jupyter-widgets/controls",
          "model_module_version": "2.0.0",
          "model_name": "ProgressStyleModel",
          "state": {
            "_model_module": "@jupyter-widgets/controls",
            "_model_module_version": "2.0.0",
            "_model_name": "ProgressStyleModel",
            "_view_count": null,
            "_view_module": "@jupyter-widgets/base",
            "_view_module_version": "2.0.0",
            "_view_name": "StyleView",
            "bar_color": null,
            "description_width": ""
          }
        },
        "ded6921a6b8140b3bcd59d0e7bbd7900": {
          "model_module": "@jupyter-widgets/controls",
          "model_module_version": "1.5.0",
          "model_name": "HTMLModel",
          "state": {
            "_dom_classes": [],
            "_model_module": "@jupyter-widgets/controls",
            "_model_module_version": "1.5.0",
            "_model_name": "HTMLModel",
            "_view_count": null,
            "_view_module": "@jupyter-widgets/controls",
            "_view_module_version": "1.5.0",
            "_view_name": "HTMLView",
            "description": "",
            "description_tooltip": null,
            "layout": "IPY_MODEL_9cf2c0d8439a4f5a86b4769a27babb94",
            "placeholder": "​",
            "style": "IPY_MODEL_007a43463f5e4da3983f59dfeb793e64",
            "value": " 7.97k/? [00:00&lt;00:00, 244kB/s]"
          }
        },
        "dfee126a02ef4934a0f654a101dadc1b": {
          "model_module": "@jupyter-widgets/controls",
          "model_module_version": "2.0.0",
          "model_name": "HTMLModel",
          "state": {
            "_dom_classes": [],
            "_model_module": "@jupyter-widgets/controls",
            "_model_module_version": "2.0.0",
            "_model_name": "HTMLModel",
            "_view_count": null,
            "_view_module": "@jupyter-widgets/controls",
            "_view_module_version": "2.0.0",
            "_view_name": "HTMLView",
            "description": "",
            "description_allow_html": false,
            "layout": "IPY_MODEL_9ba620aa4e51456c9b3b2469c2c887c3",
            "placeholder": "​",
            "style": "IPY_MODEL_cc8f1bc7322542828205777903530f1e",
            "tabbable": null,
            "tooltip": null,
            "value": "Generating train split:  98%"
          }
        },
        "e1f77bef878c4b0bbfac867c5a9eea98": {
          "model_module": "@jupyter-widgets/controls",
          "model_module_version": "1.5.0",
          "model_name": "HTMLModel",
          "state": {
            "_dom_classes": [],
            "_model_module": "@jupyter-widgets/controls",
            "_model_module_version": "1.5.0",
            "_model_name": "HTMLModel",
            "_view_count": null,
            "_view_module": "@jupyter-widgets/controls",
            "_view_module_version": "1.5.0",
            "_view_name": "HTMLView",
            "description": "",
            "description_tooltip": null,
            "layout": "IPY_MODEL_5a392cc22ee84433bac08ef8a6a3e0d4",
            "placeholder": "​",
            "style": "IPY_MODEL_98bcaff9e28547e3b1f9b0640d598f99",
            "value": " 7.89M/? [00:00&lt;00:00, 41.2MB/s]"
          }
        },
        "e23212ae504e493a85e4b2524f0217e1": {
          "model_module": "@jupyter-widgets/controls",
          "model_module_version": "2.0.0",
          "model_name": "HTMLModel",
          "state": {
            "_dom_classes": [],
            "_model_module": "@jupyter-widgets/controls",
            "_model_module_version": "2.0.0",
            "_model_name": "HTMLModel",
            "_view_count": null,
            "_view_module": "@jupyter-widgets/controls",
            "_view_module_version": "2.0.0",
            "_view_name": "HTMLView",
            "description": "",
            "description_allow_html": false,
            "layout": "IPY_MODEL_f4ca1b7b5868446da945574f4db4373b",
            "placeholder": "​",
            "style": "IPY_MODEL_f7070757d4784c8099ef7dd9bd280ed3",
            "tabbable": null,
            "tooltip": null,
            "value": " 65772/67349 [00:03&lt;00:00, 18334.90 examples/s]"
          }
        },
        "e319f91c3ba841f99a9a1ca1c7b551f2": {
          "model_module": "@jupyter-widgets/controls",
          "model_module_version": "1.5.0",
          "model_name": "FloatProgressModel",
          "state": {
            "_dom_classes": [],
            "_model_module": "@jupyter-widgets/controls",
            "_model_module_version": "1.5.0",
            "_model_name": "FloatProgressModel",
            "_view_count": null,
            "_view_module": "@jupyter-widgets/controls",
            "_view_module_version": "1.5.0",
            "_view_name": "ProgressView",
            "bar_style": "",
            "description": "",
            "description_tooltip": null,
            "layout": "IPY_MODEL_2e0b939889d84c07a90d36a57065aac4",
            "max": 20005,
            "min": 0,
            "orientation": "horizontal",
            "style": "IPY_MODEL_929cdd7c2f8e4902aac96a9a3afa5866",
            "value": 20005
          }
        },
        "e4ce5cf6ea174583a14675a75d31992d": {
          "model_module": "@jupyter-widgets/controls",
          "model_module_version": "2.0.0",
          "model_name": "FloatProgressModel",
          "state": {
            "_dom_classes": [],
            "_model_module": "@jupyter-widgets/controls",
            "_model_module_version": "2.0.0",
            "_model_name": "FloatProgressModel",
            "_view_count": null,
            "_view_module": "@jupyter-widgets/controls",
            "_view_module_version": "2.0.0",
            "_view_name": "ProgressView",
            "bar_style": "success",
            "description": "",
            "description_allow_html": false,
            "layout": "IPY_MODEL_6fe78cfd377b4c10a626588f46a569cf",
            "max": 7439277,
            "min": 0,
            "orientation": "horizontal",
            "style": "IPY_MODEL_2aa0f33b8d3a4bc7bedf3b66e06b62f0",
            "tabbable": null,
            "tooltip": null,
            "value": 7439277
          }
        },
        "e556c049fbb24669a49b26c7f107e6a5": {
          "model_module": "@jupyter-widgets/base",
          "model_module_version": "1.2.0",
          "model_name": "LayoutModel",
          "state": {
            "_model_module": "@jupyter-widgets/base",
            "_model_module_version": "1.2.0",
            "_model_name": "LayoutModel",
            "_view_count": null,
            "_view_module": "@jupyter-widgets/base",
            "_view_module_version": "1.2.0",
            "_view_name": "LayoutView",
            "align_content": null,
            "align_items": null,
            "align_self": null,
            "border": null,
            "bottom": null,
            "display": null,
            "flex": null,
            "flex_flow": null,
            "grid_area": null,
            "grid_auto_columns": null,
            "grid_auto_flow": null,
            "grid_auto_rows": null,
            "grid_column": null,
            "grid_gap": null,
            "grid_row": null,
            "grid_template_areas": null,
            "grid_template_columns": null,
            "grid_template_rows": null,
            "height": null,
            "justify_content": null,
            "justify_items": null,
            "left": null,
            "margin": null,
            "max_height": null,
            "max_width": null,
            "min_height": null,
            "min_width": null,
            "object_fit": null,
            "object_position": null,
            "order": null,
            "overflow": null,
            "overflow_x": null,
            "overflow_y": null,
            "padding": null,
            "right": null,
            "top": null,
            "visibility": null,
            "width": null
          }
        },
        "e7405147ca374cc4998ca947be069652": {
          "model_module": "@jupyter-widgets/controls",
          "model_module_version": "2.0.0",
          "model_name": "HTMLModel",
          "state": {
            "_dom_classes": [],
            "_model_module": "@jupyter-widgets/controls",
            "_model_module_version": "2.0.0",
            "_model_name": "HTMLModel",
            "_view_count": null,
            "_view_module": "@jupyter-widgets/controls",
            "_view_module_version": "2.0.0",
            "_view_name": "HTMLView",
            "description": "",
            "description_allow_html": false,
            "layout": "IPY_MODEL_428db79c8cd74257ad09539518a21835",
            "placeholder": "​",
            "style": "IPY_MODEL_3c95b6d54b294fe2a958056c463ce541",
            "tabbable": null,
            "tooltip": null,
            "value": " 915/1821 [00:00&lt;00:00, 9145.67 examples/s]"
          }
        },
        "eb395373be244e6e8815087d5d32a801": {
          "model_module": "@jupyter-widgets/base",
          "model_module_version": "1.2.0",
          "model_name": "LayoutModel",
          "state": {
            "_model_module": "@jupyter-widgets/base",
            "_model_module_version": "1.2.0",
            "_model_name": "LayoutModel",
            "_view_count": null,
            "_view_module": "@jupyter-widgets/base",
            "_view_module_version": "1.2.0",
            "_view_name": "LayoutView",
            "align_content": null,
            "align_items": null,
            "align_self": null,
            "border": null,
            "bottom": null,
            "display": null,
            "flex": null,
            "flex_flow": null,
            "grid_area": null,
            "grid_auto_columns": null,
            "grid_auto_flow": null,
            "grid_auto_rows": null,
            "grid_column": null,
            "grid_gap": null,
            "grid_row": null,
            "grid_template_areas": null,
            "grid_template_columns": null,
            "grid_template_rows": null,
            "height": null,
            "justify_content": null,
            "justify_items": null,
            "left": null,
            "margin": null,
            "max_height": null,
            "max_width": null,
            "min_height": null,
            "min_width": null,
            "object_fit": null,
            "object_position": null,
            "order": null,
            "overflow": null,
            "overflow_x": null,
            "overflow_y": null,
            "padding": null,
            "right": null,
            "top": null,
            "visibility": null,
            "width": null
          }
        },
        "efca4a3072e94170a1b851f9dec6164d": {
          "model_module": "@jupyter-widgets/base",
          "model_module_version": "1.2.0",
          "model_name": "LayoutModel",
          "state": {
            "_model_module": "@jupyter-widgets/base",
            "_model_module_version": "1.2.0",
            "_model_name": "LayoutModel",
            "_view_count": null,
            "_view_module": "@jupyter-widgets/base",
            "_view_module_version": "1.2.0",
            "_view_name": "LayoutView",
            "align_content": null,
            "align_items": null,
            "align_self": null,
            "border": null,
            "bottom": null,
            "display": null,
            "flex": null,
            "flex_flow": null,
            "grid_area": null,
            "grid_auto_columns": null,
            "grid_auto_flow": null,
            "grid_auto_rows": null,
            "grid_column": null,
            "grid_gap": null,
            "grid_row": null,
            "grid_template_areas": null,
            "grid_template_columns": null,
            "grid_template_rows": null,
            "height": null,
            "justify_content": null,
            "justify_items": null,
            "left": null,
            "margin": null,
            "max_height": null,
            "max_width": null,
            "min_height": null,
            "min_width": null,
            "object_fit": null,
            "object_position": null,
            "order": null,
            "overflow": null,
            "overflow_x": null,
            "overflow_y": null,
            "padding": null,
            "right": null,
            "top": null,
            "visibility": null,
            "width": null
          }
        },
        "f28c1b9dee064db99c389beb98306f86": {
          "model_module": "@jupyter-widgets/controls",
          "model_module_version": "2.0.0",
          "model_name": "HTMLModel",
          "state": {
            "_dom_classes": [],
            "_model_module": "@jupyter-widgets/controls",
            "_model_module_version": "2.0.0",
            "_model_name": "HTMLModel",
            "_view_count": null,
            "_view_module": "@jupyter-widgets/controls",
            "_view_module_version": "2.0.0",
            "_view_name": "HTMLView",
            "description": "",
            "description_allow_html": false,
            "layout": "IPY_MODEL_5f9f744825e44fdbae9c126837e40efe",
            "placeholder": "​",
            "style": "IPY_MODEL_c3f7a2bb90b44a21a43939f78914f9b8",
            "tabbable": null,
            "tooltip": null,
            "value": "Generating validation split:  92%"
          }
        },
        "f307d9be05d24940b57d9edc82be8976": {
          "model_module": "@jupyter-widgets/base",
          "model_module_version": "1.2.0",
          "model_name": "LayoutModel",
          "state": {
            "_model_module": "@jupyter-widgets/base",
            "_model_module_version": "1.2.0",
            "_model_name": "LayoutModel",
            "_view_count": null,
            "_view_module": "@jupyter-widgets/base",
            "_view_module_version": "1.2.0",
            "_view_name": "LayoutView",
            "align_content": null,
            "align_items": null,
            "align_self": null,
            "border": null,
            "bottom": null,
            "display": null,
            "flex": null,
            "flex_flow": null,
            "grid_area": null,
            "grid_auto_columns": null,
            "grid_auto_flow": null,
            "grid_auto_rows": null,
            "grid_column": null,
            "grid_gap": null,
            "grid_row": null,
            "grid_template_areas": null,
            "grid_template_columns": null,
            "grid_template_rows": null,
            "height": null,
            "justify_content": null,
            "justify_items": null,
            "left": null,
            "margin": null,
            "max_height": null,
            "max_width": null,
            "min_height": null,
            "min_width": null,
            "object_fit": null,
            "object_position": null,
            "order": null,
            "overflow": null,
            "overflow_x": null,
            "overflow_y": null,
            "padding": null,
            "right": null,
            "top": null,
            "visibility": null,
            "width": null
          }
        },
        "f37c66b863854588b7a8891720372dc6": {
          "model_module": "@jupyter-widgets/base",
          "model_module_version": "2.0.0",
          "model_name": "LayoutModel",
          "state": {
            "_model_module": "@jupyter-widgets/base",
            "_model_module_version": "2.0.0",
            "_model_name": "LayoutModel",
            "_view_count": null,
            "_view_module": "@jupyter-widgets/base",
            "_view_module_version": "2.0.0",
            "_view_name": "LayoutView",
            "align_content": null,
            "align_items": null,
            "align_self": null,
            "border_bottom": null,
            "border_left": null,
            "border_right": null,
            "border_top": null,
            "bottom": null,
            "display": null,
            "flex": null,
            "flex_flow": null,
            "grid_area": null,
            "grid_auto_columns": null,
            "grid_auto_flow": null,
            "grid_auto_rows": null,
            "grid_column": null,
            "grid_gap": null,
            "grid_row": null,
            "grid_template_areas": null,
            "grid_template_columns": null,
            "grid_template_rows": null,
            "height": null,
            "justify_content": null,
            "justify_items": null,
            "left": null,
            "margin": null,
            "max_height": null,
            "max_width": null,
            "min_height": null,
            "min_width": null,
            "object_fit": null,
            "object_position": null,
            "order": null,
            "overflow": null,
            "padding": null,
            "right": null,
            "top": null,
            "visibility": null,
            "width": null
          }
        },
        "f48c7243c49a43acac4d1ba3a6fe674f": {
          "model_module": "@jupyter-widgets/controls",
          "model_module_version": "2.0.0",
          "model_name": "HTMLStyleModel",
          "state": {
            "_model_module": "@jupyter-widgets/controls",
            "_model_module_version": "2.0.0",
            "_model_name": "HTMLStyleModel",
            "_view_count": null,
            "_view_module": "@jupyter-widgets/base",
            "_view_module_version": "2.0.0",
            "_view_name": "StyleView",
            "background": null,
            "description_width": "",
            "font_size": null,
            "text_color": null
          }
        },
        "f4ca1b7b5868446da945574f4db4373b": {
          "model_module": "@jupyter-widgets/base",
          "model_module_version": "2.0.0",
          "model_name": "LayoutModel",
          "state": {
            "_model_module": "@jupyter-widgets/base",
            "_model_module_version": "2.0.0",
            "_model_name": "LayoutModel",
            "_view_count": null,
            "_view_module": "@jupyter-widgets/base",
            "_view_module_version": "2.0.0",
            "_view_name": "LayoutView",
            "align_content": null,
            "align_items": null,
            "align_self": null,
            "border_bottom": null,
            "border_left": null,
            "border_right": null,
            "border_top": null,
            "bottom": null,
            "display": null,
            "flex": null,
            "flex_flow": null,
            "grid_area": null,
            "grid_auto_columns": null,
            "grid_auto_flow": null,
            "grid_auto_rows": null,
            "grid_column": null,
            "grid_gap": null,
            "grid_row": null,
            "grid_template_areas": null,
            "grid_template_columns": null,
            "grid_template_rows": null,
            "height": null,
            "justify_content": null,
            "justify_items": null,
            "left": null,
            "margin": null,
            "max_height": null,
            "max_width": null,
            "min_height": null,
            "min_width": null,
            "object_fit": null,
            "object_position": null,
            "order": null,
            "overflow": null,
            "padding": null,
            "right": null,
            "top": null,
            "visibility": null,
            "width": null
          }
        },
        "f4ec7bc190af4c9dbe6a5fc05fad4540": {
          "model_module": "@jupyter-widgets/controls",
          "model_module_version": "1.5.0",
          "model_name": "FloatProgressModel",
          "state": {
            "_dom_classes": [],
            "_model_module": "@jupyter-widgets/controls",
            "_model_module_version": "1.5.0",
            "_model_name": "FloatProgressModel",
            "_view_count": null,
            "_view_module": "@jupyter-widgets/controls",
            "_view_module_version": "1.5.0",
            "_view_name": "ProgressView",
            "bar_style": "success",
            "description": "",
            "description_tooltip": null,
            "layout": "IPY_MODEL_bfbcfceca0444337ac6c4033a7734fc1",
            "max": 3,
            "min": 0,
            "orientation": "horizontal",
            "style": "IPY_MODEL_5ad8132df42340c58f1375b1e52eb5bc",
            "value": 3
          }
        },
        "f7070757d4784c8099ef7dd9bd280ed3": {
          "model_module": "@jupyter-widgets/controls",
          "model_module_version": "2.0.0",
          "model_name": "HTMLStyleModel",
          "state": {
            "_model_module": "@jupyter-widgets/controls",
            "_model_module_version": "2.0.0",
            "_model_name": "HTMLStyleModel",
            "_view_count": null,
            "_view_module": "@jupyter-widgets/base",
            "_view_module_version": "2.0.0",
            "_view_name": "StyleView",
            "background": null,
            "description_width": "",
            "font_size": null,
            "text_color": null
          }
        },
        "f74dfe0a3de64c3ea051e14fba9a04e4": {
          "model_module": "@jupyter-widgets/controls",
          "model_module_version": "1.5.0",
          "model_name": "HBoxModel",
          "state": {
            "_dom_classes": [],
            "_model_module": "@jupyter-widgets/controls",
            "_model_module_version": "1.5.0",
            "_model_name": "HBoxModel",
            "_view_count": null,
            "_view_module": "@jupyter-widgets/controls",
            "_view_module_version": "1.5.0",
            "_view_name": "HBoxView",
            "box_style": "",
            "children": [
              "IPY_MODEL_37d4912ed8ee4c0c9f0a9187bad156fd",
              "IPY_MODEL_6284429508d849bd8259460913efc250",
              "IPY_MODEL_e1f77bef878c4b0bbfac867c5a9eea98"
            ],
            "layout": "IPY_MODEL_20624397998c4e188b419c6267affb65"
          }
        },
        "fab424da92b541cfac6b3bb05ee4e17b": {
          "model_module": "@jupyter-widgets/controls",
          "model_module_version": "2.0.0",
          "model_name": "ProgressStyleModel",
          "state": {
            "_model_module": "@jupyter-widgets/controls",
            "_model_module_version": "2.0.0",
            "_model_name": "ProgressStyleModel",
            "_view_count": null,
            "_view_module": "@jupyter-widgets/base",
            "_view_module_version": "2.0.0",
            "_view_name": "StyleView",
            "bar_color": null,
            "description_width": ""
          }
        },
        "fb72bbb82aec4184a8e0a510177433cf": {
          "model_module": "@jupyter-widgets/base",
          "model_module_version": "2.0.0",
          "model_name": "LayoutModel",
          "state": {
            "_model_module": "@jupyter-widgets/base",
            "_model_module_version": "2.0.0",
            "_model_name": "LayoutModel",
            "_view_count": null,
            "_view_module": "@jupyter-widgets/base",
            "_view_module_version": "2.0.0",
            "_view_name": "LayoutView",
            "align_content": null,
            "align_items": null,
            "align_self": null,
            "border_bottom": null,
            "border_left": null,
            "border_right": null,
            "border_top": null,
            "bottom": null,
            "display": null,
            "flex": null,
            "flex_flow": null,
            "grid_area": null,
            "grid_auto_columns": null,
            "grid_auto_flow": null,
            "grid_auto_rows": null,
            "grid_column": null,
            "grid_gap": null,
            "grid_row": null,
            "grid_template_areas": null,
            "grid_template_columns": null,
            "grid_template_rows": null,
            "height": null,
            "justify_content": null,
            "justify_items": null,
            "left": null,
            "margin": null,
            "max_height": null,
            "max_width": null,
            "min_height": null,
            "min_width": null,
            "object_fit": null,
            "object_position": null,
            "order": null,
            "overflow": null,
            "padding": null,
            "right": null,
            "top": null,
            "visibility": null,
            "width": null
          }
        },
        "feaf1f712b8e499db2558dc0fdd4261e": {
          "model_module": "@jupyter-widgets/controls",
          "model_module_version": "1.5.0",
          "model_name": "HTMLModel",
          "state": {
            "_dom_classes": [],
            "_model_module": "@jupyter-widgets/controls",
            "_model_module_version": "1.5.0",
            "_model_name": "HTMLModel",
            "_view_count": null,
            "_view_module": "@jupyter-widgets/controls",
            "_view_module_version": "1.5.0",
            "_view_name": "HTMLView",
            "description": "",
            "description_tooltip": null,
            "layout": "IPY_MODEL_62bdec145ccb48faa4fe5f51d2879732",
            "placeholder": "​",
            "style": "IPY_MODEL_c96613989db447b5acfb35cfef553145",
            "value": "Extracting data files: 100%"
          }
        }
      }
    }
  },
  "nbformat": 4,
  "nbformat_minor": 0
}
