{
 "cells": [
  {
   "cell_type": "markdown",
   "metadata": {
    "slideshow": {
     "slide_type": "slide"
    }
   },
   "source": [
    "Copyright (c) 2020 Microsoft Corporation. All rights reserved. \n",
    "\n",
    "Licensed under the MIT License.\n",
    "\n",
    "# Demo of AutoML with FLAML Library\n",
    "\n",
    "\n",
    "## 1. Introduction\n",
    "\n",
    "FLAML is a Python library (https://github.com/microsoft/FLAML) designed to automatically produce accurate machine learning models \n",
    "with low computational cost. It is fast and cheap. The simple and lightweight design makes it easy \n",
    "to use and extend, such as adding new learners. FLAML can \n",
    "- serve as an economical AutoML engine,\n",
    "- be used as a fast hyperparameter tuning tool, or \n",
    "- be embedded in self-tuning software that requires low latency & resource in repetitive\n",
    "   tuning tasks.\n",
    "\n",
    "In this notebook, we use one real data example (binary classification) to showcase how to ues FLAML library.\n",
    "\n",
    "FLAML requires `Python>=3.6`. To run this notebook example, please install flaml with the [notebook] option:\n",
    "```bash\n",
    "pip install flaml[notebook]\n",
    "```"
   ]
  },
  {
   "cell_type": "markdown",
   "metadata": {
    "slideshow": {
     "slide_type": "slide"
    }
   },
   "source": [
    "## 2. Real Data Example\n",
    "### Load data and preprocess\n",
    "\n",
    "Download [Airlines dataset](https://www.openml.org/d/1169) from OpenML. The task is to predict whether a given flight will be delayed, given the information of the scheduled departure."
   ]
  },
  {
   "cell_type": "code",
   "execution_count": 1,
   "metadata": {
    "slideshow": {
     "slide_type": "subslide"
    },
    "tags": []
   },
   "outputs": [
    {
     "output_type": "stream",
     "name": "stdout",
     "text": [
      "load dataset from ./openml_ds1169.pkl\n",
      "Dataset name: airlines\n",
      "X_train.shape: (404537, 7), y_train.shape: (404537,);\n",
      "X_test.shape: (134846, 7), y_test.shape: (134846,)\n"
     ]
    }
   ],
   "source": [
    "from flaml.data import load_openml_dataset\n",
    "X_train, X_test, y_train, y_test = load_openml_dataset(dataset_id = 1169, data_dir = './')"
   ]
  },
  {
   "cell_type": "markdown",
   "metadata": {
    "slideshow": {
     "slide_type": "slide"
    }
   },
   "source": [
    "### Run FLAML\n",
    "In the FLAML automl run configuration, users can specify the task type, time budget, error metric, learner list, whether to subsample, resampling strategy type, and so on. All these arguments have default values which will be used if users do not provide them. For example, the default ML learners of FLAML are `['lgbm', 'xgboost', 'catboost', 'rf', 'extra_tree', 'lrl1']`. "
   ]
  },
  {
   "cell_type": "code",
   "execution_count": 2,
   "metadata": {
    "slideshow": {
     "slide_type": "slide"
    }
   },
   "outputs": [],
   "source": [
    "''' import AutoML class from flaml package '''\n",
    "from flaml import AutoML\n",
    "automl = AutoML()"
   ]
  },
  {
   "cell_type": "code",
   "execution_count": 3,
   "metadata": {
    "slideshow": {
     "slide_type": "slide"
    }
   },
   "outputs": [],
   "source": [
    "settings = {\n",
    "    \"time_budget\": 60, # total running time in seconds\n",
    "    \"metric\": 'accuracy', # primary metrics can be chosen from: ['accuracy','roc_auc','f1','log_loss','mae','mse','r2']\n",
    "    \"estimator_list\": ['lgbm', 'rf', 'xgboost'], # list of ML learners\n",
    "    \"task\": 'classification', # task type    \n",
    "    \"sample\": False, # whether to subsample training data\n",
    "    \"log_file_name\": 'airlines_experiment.log', # cache directory of flaml log files \n",
    "}"
   ]
  },
  {
   "cell_type": "code",
   "execution_count": 4,
   "metadata": {
    "slideshow": {
     "slide_type": "slide"
    },
    "tags": []
   },
   "outputs": [
    {
     "output_type": "stream",
     "name": "stderr",
     "text": [
      "[flaml.automl: 12-15 07:41:38] {660} INFO - List of ML learners in AutoML Run: ['lgbm', 'rf', 'xgboost']\n",
      "[flaml.automl: 12-15 07:41:38] {665} INFO - Evaluation method: holdout\n",
      "[flaml.automl: 12-15 07:41:38] {683} INFO - Minimizing error metric: 1-accuracy\n",
      "[flaml.automl: 12-15 07:41:39] {327} INFO - Using StratifiedKFold\n",
      "[flaml.automl: 12-15 07:41:39] {728} INFO - iteration 0  current learner lgbm\n",
      "[flaml.automl: 12-15 07:41:41] {793} INFO -  at 3.6s,\tbest lgbm's error=0.3748,\tbest lgbm's error=0.3748\n",
      "[flaml.automl: 12-15 07:41:41] {728} INFO - iteration 1  current learner lgbm\n",
      "[flaml.automl: 12-15 07:41:45] {793} INFO -  at 7.5s,\tbest lgbm's error=0.3735,\tbest lgbm's error=0.3735\n",
      "[flaml.automl: 12-15 07:41:45] {728} INFO - iteration 2  current learner lgbm\n",
      "[flaml.automl: 12-15 07:41:47] {793} INFO -  at 9.2s,\tbest lgbm's error=0.3668,\tbest lgbm's error=0.3668\n",
      "[flaml.automl: 12-15 07:41:47] {728} INFO - iteration 3  current learner lgbm\n",
      "[flaml.automl: 12-15 07:41:49] {793} INFO -  at 11.4s,\tbest lgbm's error=0.3613,\tbest lgbm's error=0.3613\n",
      "[flaml.automl: 12-15 07:41:49] {728} INFO - iteration 4  current learner lgbm\n",
      "[flaml.automl: 12-15 07:41:53] {793} INFO -  at 15.0s,\tbest lgbm's error=0.3613,\tbest lgbm's error=0.3613\n",
      "[flaml.automl: 12-15 07:41:53] {728} INFO - iteration 5  current learner xgboost\n",
      "[flaml.automl: 12-15 07:41:56] {793} INFO -  at 18.1s,\tbest xgboost's error=0.3740,\tbest lgbm's error=0.3613\n",
      "[flaml.automl: 12-15 07:41:56] {728} INFO - iteration 6  current learner lgbm\n",
      "[flaml.automl: 12-15 07:42:00] {793} INFO -  at 22.7s,\tbest lgbm's error=0.3613,\tbest lgbm's error=0.3613\n",
      "[flaml.automl: 12-15 07:42:00] {728} INFO - iteration 7  current learner xgboost\n",
      "[flaml.automl: 12-15 07:42:02] {793} INFO -  at 24.8s,\tbest xgboost's error=0.3659,\tbest lgbm's error=0.3613\n",
      "[flaml.automl: 12-15 07:42:02] {728} INFO - iteration 8  current learner lgbm\n",
      "[flaml.automl: 12-15 07:42:11] {793} INFO -  at 33.0s,\tbest lgbm's error=0.3544,\tbest lgbm's error=0.3544\n",
      "[flaml.automl: 12-15 07:42:11] {728} INFO - iteration 9  current learner rf\n",
      "[flaml.automl: 12-15 07:42:20] {793} INFO -  at 41.9s,\tbest rf's error=0.3895,\tbest lgbm's error=0.3544\n",
      "[flaml.automl: 12-15 07:42:20] {728} INFO - iteration 10  current learner xgboost\n",
      "[flaml.automl: 12-15 07:42:24] {793} INFO -  at 45.8s,\tbest xgboost's error=0.3659,\tbest lgbm's error=0.3544\n",
      "[flaml.automl: 12-15 07:42:24] {728} INFO - iteration 11  current learner lgbm\n",
      "[flaml.automl: 12-15 07:42:29] {793} INFO -  at 51.5s,\tbest lgbm's error=0.3410,\tbest lgbm's error=0.3410\n",
      "[flaml.automl: 12-15 07:42:29] {728} INFO - iteration 12  current learner rf\n",
      "[flaml.automl: 12-15 07:42:29] {793} INFO -  at 51.5s,\tbest rf's error=0.3895,\tbest lgbm's error=0.3410\n",
      "[flaml.automl: 12-15 07:42:29] {728} INFO - iteration 13  current learner lgbm\n",
      "[flaml.automl: 12-15 07:42:35] {793} INFO -  at 57.1s,\tbest lgbm's error=0.3383,\tbest lgbm's error=0.3383\n",
      "[flaml.automl: 12-15 07:42:35] {728} INFO - iteration 14  current learner xgboost\n",
      "[flaml.automl: 12-15 07:42:38] {793} INFO -  at 60.4s,\tbest xgboost's error=0.3659,\tbest lgbm's error=0.3383\n",
      "[flaml.automl: 12-15 07:42:38] {814} INFO - LGBMClassifier(learning_rate=0.5482637744255212, max_bin=1023,\n",
      "               min_child_weight=1.1930700595990091, n_estimators=76,\n",
      "               num_leaves=67, objective='binary',\n",
      "               reg_alpha=3.668052110134859e-10, reg_lambda=0.49371485228257217,\n",
      "               subsample=0.6)\n",
      "[flaml.automl: 12-15 07:42:38] {702} INFO - fit succeeded\n"
     ]
    }
   ],
   "source": [
    "'''The main flaml automl API'''\n",
    "automl.fit(X_train = X_train, y_train = y_train, **settings)"
   ]
  },
  {
   "cell_type": "markdown",
   "metadata": {
    "slideshow": {
     "slide_type": "slide"
    }
   },
   "source": [
    "### Best model and metric"
   ]
  },
  {
   "cell_type": "code",
   "execution_count": 5,
   "metadata": {
    "slideshow": {
     "slide_type": "slide"
    },
    "tags": []
   },
   "outputs": [
    {
     "output_type": "stream",
     "name": "stdout",
     "text": [
      "Best ML leaner: lgbm\nBest hyperparmeter config: {'n_estimators': 76.23660313632638, 'max_leaves': 66.93360726547702, 'min_child_weight': 1.1930700595990091, 'learning_rate': 0.5482637744255212, 'subsample': 0.6, 'log_max_bin': 10.0, 'reg_alpha': 3.668052110134859e-10, 'reg_lambda': 0.49371485228257217, 'colsample_bytree': 1.0}\nBest accuracy on validation data: 0.6617\nTraining duration of best run: 5.522 s\n"
     ]
    }
   ],
   "source": [
    "''' retrieve best config and best learner'''\n",
    "print('Best ML leaner:', automl.best_estimator)\n",
    "print('Best hyperparmeter config:', automl.best_config)\n",
    "print('Best accuracy on validation data: {0:.4g}'.format(1-automl.best_loss))\n",
    "print('Training duration of best run: {0:.4g} s'.format(automl.best_config_train_time))"
   ]
  },
  {
   "cell_type": "code",
   "execution_count": 6,
   "metadata": {
    "slideshow": {
     "slide_type": "slide"
    }
   },
   "outputs": [
    {
     "output_type": "execute_result",
     "data": {
      "text/plain": [
       "LGBMClassifier(learning_rate=0.5482637744255212, max_bin=1023,\n",
       "               min_child_weight=1.1930700595990091, n_estimators=76,\n",
       "               num_leaves=67, objective='binary',\n",
       "               reg_alpha=3.668052110134859e-10, reg_lambda=0.49371485228257217,\n",
       "               subsample=0.6)"
      ]
     },
     "metadata": {},
     "execution_count": 6
    }
   ],
   "source": [
    "automl.model"
   ]
  },
  {
   "cell_type": "code",
   "execution_count": 7,
   "metadata": {
    "slideshow": {
     "slide_type": "slide"
    }
   },
   "outputs": [],
   "source": [
    "''' pickle and save the best model '''\n",
    "import pickle\n",
    "with open('best_model.pkl', 'wb') as f:\n",
    "    pickle.dump(automl.model, f, pickle.HIGHEST_PROTOCOL)"
   ]
  },
  {
   "cell_type": "code",
   "execution_count": 8,
   "metadata": {
    "slideshow": {
     "slide_type": "slide"
    },
    "tags": []
   },
   "outputs": [
    {
     "output_type": "stream",
     "name": "stdout",
     "text": [
      "Predicted labels [1 0 1 ... 1 0 0]\nTrue labels [0 0 0 ... 0 1 0]\n"
     ]
    }
   ],
   "source": [
    "''' compute predictions of testing dataset ''' \n",
    "y_pred = automl.predict(X_test)\n",
    "print('Predicted labels', y_pred)\n",
    "print('True labels', y_test)\n",
    "y_pred_proba = automl.predict_proba(X_test)[:,1]"
   ]
  },
  {
   "cell_type": "code",
   "execution_count": 9,
   "metadata": {
    "slideshow": {
     "slide_type": "slide"
    },
    "tags": []
   },
   "outputs": [
    {
     "output_type": "stream",
     "name": "stdout",
     "text": [
      "accuracy = 0.6666493629770256\n",
      "roc_auc = 0.7173397375696496\n",
      "log_loss = 0.6095801351363471\n",
      "f1 = 0.580528363863719\n"
     ]
    }
   ],
   "source": [
    "''' compute different metric values on testing dataset'''\n",
    "from flaml.ml import sklearn_metric_loss_score\n",
    "print('accuracy', '=', 1 - sklearn_metric_loss_score('accuracy', y_pred, y_test))\n",
    "print('roc_auc', '=', 1 - sklearn_metric_loss_score('roc_auc', y_pred_proba, y_test))\n",
    "print('log_loss', '=', sklearn_metric_loss_score('log_loss', y_pred_proba, y_test))\n",
    "print('f1', '=', 1 - sklearn_metric_loss_score('f1', y_pred, y_test))"
   ]
  },
  {
   "cell_type": "markdown",
   "metadata": {
    "slideshow": {
     "slide_type": "slide"
    }
   },
   "source": [
    "### Log history"
   ]
  },
  {
   "cell_type": "code",
   "execution_count": 10,
   "metadata": {
    "slideshow": {
     "slide_type": "subslide"
    },
    "tags": []
   },
   "outputs": [
    {
     "output_type": "stream",
     "name": "stdout",
     "text": [
      "{'Current Learner': 'lgbm', 'Current Sample': 364083, 'Current Hyper-parameters': {'n_estimators': 4, 'max_leaves': 4, 'min_child_weight': 20, 'learning_rate': 0.1, 'subsample': 1.0, 'log_max_bin': 8, 'reg_alpha': 1e-10, 'reg_lambda': 1.0, 'colsample_bytree': 1.0}, 'Best Learner': 'lgbm', 'Best Hyper-parameters': {'n_estimators': 4, 'max_leaves': 4, 'min_child_weight': 20, 'learning_rate': 0.1, 'subsample': 1.0, 'log_max_bin': 8, 'reg_alpha': 1e-10, 'reg_lambda': 1.0, 'colsample_bytree': 1.0}}\n{'Current Learner': 'lgbm', 'Current Sample': 364083, 'Current Hyper-parameters': {'n_estimators': 4.345841756255061, 'max_leaves': 10.353390566270846, 'min_child_weight': 20.0, 'learning_rate': 0.04742496726415123, 'subsample': 0.9045133325444861, 'log_max_bin': 10.0, 'reg_alpha': 1e-10, 'reg_lambda': 1.0, 'colsample_bytree': 0.9407474408255333}, 'Best Learner': 'lgbm', 'Best Hyper-parameters': {'n_estimators': 4, 'max_leaves': 4, 'min_child_weight': 20, 'learning_rate': 0.1, 'subsample': 1.0, 'log_max_bin': 8, 'reg_alpha': 1e-10, 'reg_lambda': 1.0, 'colsample_bytree': 1.0}}\n{'Current Learner': 'lgbm', 'Current Sample': 364083, 'Current Hyper-parameters': {'n_estimators': 4.0, 'max_leaves': 4.0, 'min_child_weight': 9.874086709908818, 'learning_rate': 0.21085939699865755, 'subsample': 1.0, 'log_max_bin': 3.0, 'reg_alpha': 2.6875093824678297e-10, 'reg_lambda': 0.7230542131309051, 'colsample_bytree': 1.0}, 'Best Learner': 'lgbm', 'Best Hyper-parameters': {'n_estimators': 4.0, 'max_leaves': 4.0, 'min_child_weight': 9.874086709908818, 'learning_rate': 0.21085939699865755, 'subsample': 1.0, 'log_max_bin': 3.0, 'reg_alpha': 2.6875093824678297e-10, 'reg_lambda': 0.7230542131309051, 'colsample_bytree': 1.0}}\n{'Current Learner': 'lgbm', 'Current Sample': 364083, 'Current Hyper-parameters': {'n_estimators': 6.30703808576676, 'max_leaves': 4.615126183980338, 'min_child_weight': 5.419442970309873, 'learning_rate': 0.45611181052279925, 'subsample': 1.0, 'log_max_bin': 3.0, 'reg_alpha': 1e-10, 'reg_lambda': 0.5948168429421155, 'colsample_bytree': 1.0}, 'Best Learner': 'lgbm', 'Best Hyper-parameters': {'n_estimators': 6.30703808576676, 'max_leaves': 4.615126183980338, 'min_child_weight': 5.419442970309873, 'learning_rate': 0.45611181052279925, 'subsample': 1.0, 'log_max_bin': 3.0, 'reg_alpha': 1e-10, 'reg_lambda': 0.5948168429421155, 'colsample_bytree': 1.0}}\n{'Current Learner': 'lgbm', 'Current Sample': 364083, 'Current Hyper-parameters': {'n_estimators': 13.346655408225933, 'max_leaves': 7.128882408907543, 'min_child_weight': 3.5378687932000563, 'learning_rate': 0.27022645132691947, 'subsample': 1.0, 'log_max_bin': 3.9062497595361734, 'reg_alpha': 4.798429666191569e-10, 'reg_lambda': 0.31076883570242425, 'colsample_bytree': 1.0}, 'Best Learner': 'lgbm', 'Best Hyper-parameters': {'n_estimators': 13.346655408225933, 'max_leaves': 7.128882408907543, 'min_child_weight': 3.5378687932000563, 'learning_rate': 0.27022645132691947, 'subsample': 1.0, 'log_max_bin': 3.9062497595361734, 'reg_alpha': 4.798429666191569e-10, 'reg_lambda': 0.31076883570242425, 'colsample_bytree': 1.0}}\n{'Current Learner': 'lgbm', 'Current Sample': 364083, 'Current Hyper-parameters': {'n_estimators': 9.168255249166949, 'max_leaves': 16.406314436487644, 'min_child_weight': 1.2440119163470513, 'learning_rate': 0.34085789038743874, 'subsample': 0.8622669492242545, 'log_max_bin': 3.9088586623653176, 'reg_alpha': 6.716698258358434e-10, 'reg_lambda': 0.08971222222676836, 'colsample_bytree': 0.7}, 'Best Learner': 'lgbm', 'Best Hyper-parameters': {'n_estimators': 13.346655408225933, 'max_leaves': 7.128882408907543, 'min_child_weight': 3.5378687932000563, 'learning_rate': 0.27022645132691947, 'subsample': 1.0, 'log_max_bin': 3.9062497595361734, 'reg_alpha': 4.798429666191569e-10, 'reg_lambda': 0.31076883570242425, 'colsample_bytree': 1.0}}\n{'Current Learner': 'lgbm', 'Current Sample': 364083, 'Current Hyper-parameters': {'n_estimators': 19.429346778070144, 'max_leaves': 4.0, 'min_child_weight': 10.061411336518901, 'learning_rate': 0.21423102429501803, 'subsample': 1.0, 'log_max_bin': 3.903642597975916, 'reg_alpha': 3.428012749081665e-10, 'reg_lambda': 1.0, 'colsample_bytree': 1.0}, 'Best Learner': 'lgbm', 'Best Hyper-parameters': {'n_estimators': 13.346655408225933, 'max_leaves': 7.128882408907543, 'min_child_weight': 3.5378687932000563, 'learning_rate': 0.27022645132691947, 'subsample': 1.0, 'log_max_bin': 3.9062497595361734, 'reg_alpha': 4.798429666191569e-10, 'reg_lambda': 0.31076883570242425, 'colsample_bytree': 1.0}}\n{'Current Learner': 'xgboost', 'Current Sample': 364083, 'Current Hyper-parameters': {'n_estimators': 4, 'max_leaves': 4, 'min_child_weight': 20.0, 'learning_rate': 0.1, 'subsample': 1.0, 'reg_alpha': 1e-10, 'reg_lambda': 1.0, 'colsample_bylevel': 1.0, 'colsample_bytree': 1.0}, 'Best Learner': 'lgbm', 'Best Hyper-parameters': {'n_estimators': 13.346655408225933, 'max_leaves': 7.128882408907543, 'min_child_weight': 3.5378687932000563, 'learning_rate': 0.27022645132691947, 'subsample': 1.0, 'log_max_bin': 3.9062497595361734, 'reg_alpha': 4.798429666191569e-10, 'reg_lambda': 0.31076883570242425, 'colsample_bytree': 1.0}}\n{'Current Learner': 'lgbm', 'Current Sample': 364083, 'Current Hyper-parameters': {'n_estimators': 5.008309383948613, 'max_leaves': 9.693976070518184, 'min_child_weight': 2.0342098563400848, 'learning_rate': 0.8024873058142261, 'subsample': 0.6512672999141046, 'log_max_bin': 4.485581916675402, 'reg_alpha': 4.235615166719706e-10, 'reg_lambda': 0.1209714816813433, 'colsample_bytree': 0.7}, 'Best Learner': 'lgbm', 'Best Hyper-parameters': {'n_estimators': 13.346655408225933, 'max_leaves': 7.128882408907543, 'min_child_weight': 3.5378687932000563, 'learning_rate': 0.27022645132691947, 'subsample': 1.0, 'log_max_bin': 3.9062497595361734, 'reg_alpha': 4.798429666191569e-10, 'reg_lambda': 0.31076883570242425, 'colsample_bytree': 1.0}}\n{'Current Learner': 'lgbm', 'Current Sample': 364083, 'Current Hyper-parameters': {'n_estimators': 35.567533259194164, 'max_leaves': 5.242530415831202, 'min_child_weight': 6.15301098797069, 'learning_rate': 0.09099500324512855, 'subsample': 1.0, 'log_max_bin': 3.4017408370474773, 'reg_alpha': 5.436029090248796e-10, 'reg_lambda': 0.7983474113199597, 'colsample_bytree': 1.0}, 'Best Learner': 'lgbm', 'Best Hyper-parameters': {'n_estimators': 13.346655408225933, 'max_leaves': 7.128882408907543, 'min_child_weight': 3.5378687932000563, 'learning_rate': 0.27022645132691947, 'subsample': 1.0, 'log_max_bin': 3.9062497595361734, 'reg_alpha': 4.798429666191569e-10, 'reg_lambda': 0.31076883570242425, 'colsample_bytree': 1.0}}\n{'Current Learner': 'xgboost', 'Current Sample': 364083, 'Current Hyper-parameters': {'n_estimators': 4.0, 'max_leaves': 7.946393543064438, 'min_child_weight': 20.0, 'learning_rate': 0.06505010684115302, 'subsample': 0.6, 'reg_alpha': 2.879414788721035e-10, 'reg_lambda': 0.9747843231355767, 'colsample_bylevel': 1.0, 'colsample_bytree': 1.0}, 'Best Learner': 'lgbm', 'Best Hyper-parameters': {'n_estimators': 13.346655408225933, 'max_leaves': 7.128882408907543, 'min_child_weight': 3.5378687932000563, 'learning_rate': 0.27022645132691947, 'subsample': 1.0, 'log_max_bin': 3.9062497595361734, 'reg_alpha': 4.798429666191569e-10, 'reg_lambda': 0.31076883570242425, 'colsample_bytree': 1.0}}\n{'Current Learner': 'lgbm', 'Current Sample': 364083, 'Current Hyper-parameters': {'n_estimators': 26.66408504703253, 'max_leaves': 31.775028586333367, 'min_child_weight': 2.101032324057992, 'learning_rate': 0.3750121217006764, 'subsample': 0.8711935510039006, 'log_max_bin': 3.1949625175875354, 'reg_alpha': 5.201043116468452e-10, 'reg_lambda': 0.6849921466924215, 'colsample_bytree': 1.0}, 'Best Learner': 'lgbm', 'Best Hyper-parameters': {'n_estimators': 26.66408504703253, 'max_leaves': 31.775028586333367, 'min_child_weight': 2.101032324057992, 'learning_rate': 0.3750121217006764, 'subsample': 0.8711935510039006, 'log_max_bin': 3.1949625175875354, 'reg_alpha': 5.201043116468452e-10, 'reg_lambda': 0.6849921466924215, 'colsample_bytree': 1.0}}\n{'Current Learner': 'rf', 'Current Sample': 364083, 'Current Hyper-parameters': {'n_estimators': 4, 'criterion': 1, 'max_features': 1.0}, 'Best Learner': 'lgbm', 'Best Hyper-parameters': {'n_estimators': 26.66408504703253, 'max_leaves': 31.775028586333367, 'min_child_weight': 2.101032324057992, 'learning_rate': 0.3750121217006764, 'subsample': 0.8711935510039006, 'log_max_bin': 3.1949625175875354, 'reg_alpha': 5.201043116468452e-10, 'reg_lambda': 0.6849921466924215, 'colsample_bytree': 1.0}}\n{'Current Learner': 'xgboost', 'Current Sample': 364083, 'Current Hyper-parameters': {'n_estimators': 5.908417243275515, 'max_leaves': 5.7730103299390825, 'min_child_weight': 20.0, 'learning_rate': 0.18663315779626963, 'subsample': 1.0, 'reg_alpha': 1.2498021235418823e-10, 'reg_lambda': 1.0, 'colsample_bylevel': 0.6, 'colsample_bytree': 1.0}, 'Best Learner': 'lgbm', 'Best Hyper-parameters': {'n_estimators': 26.66408504703253, 'max_leaves': 31.775028586333367, 'min_child_weight': 2.101032324057992, 'learning_rate': 0.3750121217006764, 'subsample': 0.8711935510039006, 'log_max_bin': 3.1949625175875354, 'reg_alpha': 5.201043116468452e-10, 'reg_lambda': 0.6849921466924215, 'colsample_bytree': 1.0}}\n{'Current Learner': 'xgboost', 'Current Sample': 364083, 'Current Hyper-parameters': {'n_estimators': 4.0, 'max_leaves': 10.937997116302148, 'min_child_weight': 9.37137175953572, 'learning_rate': 0.022672907912025912, 'subsample': 0.6, 'reg_alpha': 6.633873770360544e-10, 'reg_lambda': 0.7590775750138271, 'colsample_bylevel': 1.0, 'colsample_bytree': 0.7}, 'Best Learner': 'lgbm', 'Best Hyper-parameters': {'n_estimators': 26.66408504703253, 'max_leaves': 31.775028586333367, 'min_child_weight': 2.101032324057992, 'learning_rate': 0.3750121217006764, 'subsample': 0.8711935510039006, 'log_max_bin': 3.1949625175875354, 'reg_alpha': 5.201043116468452e-10, 'reg_lambda': 0.6849921466924215, 'colsample_bytree': 1.0}}\n{'Current Learner': 'lgbm', 'Current Sample': 364083, 'Current Hyper-parameters': {'n_estimators': 23.158867908507276, 'max_leaves': 22.03591314927381, 'min_child_weight': 3.8955300015298784, 'learning_rate': 0.24051679800463044, 'subsample': 0.6, 'log_max_bin': 3.0, 'reg_alpha': 3.0792188923459856e-10, 'reg_lambda': 0.9016340605593407, 'colsample_bytree': 1.0}, 'Best Learner': 'lgbm', 'Best Hyper-parameters': {'n_estimators': 26.66408504703253, 'max_leaves': 31.775028586333367, 'min_child_weight': 2.101032324057992, 'learning_rate': 0.3750121217006764, 'subsample': 0.8711935510039006, 'log_max_bin': 3.1949625175875354, 'reg_alpha': 5.201043116468452e-10, 'reg_lambda': 0.6849921466924215, 'colsample_bytree': 1.0}}\n{'Current Learner': 'lgbm', 'Current Sample': 364083, 'Current Hyper-parameters': {'n_estimators': 30.699835337556014, 'max_leaves': 45.81849795934486, 'min_child_weight': 1.1331800358366897, 'learning_rate': 0.5847162966959815, 'subsample': 1.0, 'log_max_bin': 7.2980887397386915, 'reg_alpha': 8.784971268721483e-10, 'reg_lambda': 0.5204042987675161, 'colsample_bytree': 0.7}, 'Best Learner': 'lgbm', 'Best Hyper-parameters': {'n_estimators': 30.699835337556014, 'max_leaves': 45.81849795934486, 'min_child_weight': 1.1331800358366897, 'learning_rate': 0.5847162966959815, 'subsample': 1.0, 'log_max_bin': 7.2980887397386915, 'reg_alpha': 8.784971268721483e-10, 'reg_lambda': 0.5204042987675161, 'colsample_bytree': 0.7}}\n{'Current Learner': 'lgbm', 'Current Sample': 364083, 'Current Hyper-parameters': {'n_estimators': 76.23660313632638, 'max_leaves': 66.93360726547702, 'min_child_weight': 1.1930700595990091, 'learning_rate': 0.5482637744255212, 'subsample': 0.6, 'log_max_bin': 10.0, 'reg_alpha': 3.668052110134859e-10, 'reg_lambda': 0.49371485228257217, 'colsample_bytree': 1.0}, 'Best Learner': 'lgbm', 'Best Hyper-parameters': {'n_estimators': 76.23660313632638, 'max_leaves': 66.93360726547702, 'min_child_weight': 1.1930700595990091, 'learning_rate': 0.5482637744255212, 'subsample': 0.6, 'log_max_bin': 10.0, 'reg_alpha': 3.668052110134859e-10, 'reg_lambda': 0.49371485228257217, 'colsample_bytree': 1.0}}\n"
     ]
    }
   ],
   "source": [
    "from flaml.data import get_output_from_log\n",
    "time_history, best_valid_loss_history, valid_loss_history, config_history, train_loss_history = \\\n",
    "    get_output_from_log(filename = settings['log_file_name'], time_budget = 60)\n",
    "\n",
    "for config in config_history:\n",
    "    print(config)"
   ]
  },
  {
   "cell_type": "code",
   "execution_count": 11,
   "metadata": {
    "slideshow": {
     "slide_type": "slide"
    }
   },
   "outputs": [
    {
     "output_type": "display_data",
     "data": {
      "text/plain": "<Figure size 432x288 with 1 Axes>",
      "image/svg+xml": "<?xml version=\"1.0\" encoding=\"utf-8\" standalone=\"no\"?>\r\n<!DOCTYPE svg PUBLIC \"-//W3C//DTD SVG 1.1//EN\"\r\n  \"http://www.w3.org/Graphics/SVG/1.1/DTD/svg11.dtd\">\r\n<!-- Created with matplotlib (https://matplotlib.org/) -->\r\n<svg height=\"277.314375pt\" version=\"1.1\" viewBox=\"0 0 392.14375 277.314375\" width=\"392.14375pt\" xmlns=\"http://www.w3.org/2000/svg\" xmlns:xlink=\"http://www.w3.org/1999/xlink\">\r\n <defs>\r\n  <style type=\"text/css\">\r\n*{stroke-linecap:butt;stroke-linejoin:round;}\r\n  </style>\r\n </defs>\r\n <g id=\"figure_1\">\r\n  <g id=\"patch_1\">\r\n   <path d=\"M 0 277.314375 \r\nL 392.14375 277.314375 \r\nL 392.14375 0 \r\nL 0 0 \r\nz\r\n\" style=\"fill:none;\"/>\r\n  </g>\r\n  <g id=\"axes_1\">\r\n   <g id=\"patch_2\">\r\n    <path d=\"M 50.14375 239.758125 \r\nL 384.94375 239.758125 \r\nL 384.94375 22.318125 \r\nL 50.14375 22.318125 \r\nz\r\n\" style=\"fill:#ffffff;\"/>\r\n   </g>\r\n   <g id=\"PathCollection_1\">\r\n    <defs>\r\n     <path d=\"M 0 3 \r\nC 0.795609 3 1.55874 2.683901 2.12132 2.12132 \r\nC 2.683901 1.55874 3 0.795609 3 0 \r\nC 3 -0.795609 2.683901 -1.55874 2.12132 -2.12132 \r\nC 1.55874 -2.683901 0.795609 -3 0 -3 \r\nC -0.795609 -3 -1.55874 -2.683901 -2.12132 -2.12132 \r\nC -2.683901 -1.55874 -3 -0.795609 -3 0 \r\nC -3 0.795609 -2.683901 1.55874 -2.12132 2.12132 \r\nC -1.55874 2.683901 -0.795609 3 0 3 \r\nz\r\n\" id=\"m3c030bdee4\" style=\"stroke:#1f77b4;\"/>\r\n    </defs>\r\n    <g clip-path=\"url(#p1603db58c1)\">\r\n     <use style=\"fill:#1f77b4;stroke:#1f77b4;\" x=\"65.361932\" xlink:href=\"#m3c030bdee4\" y=\"173.301165\"/>\r\n     <use style=\"fill:#1f77b4;stroke:#1f77b4;\" x=\"79.674828\" xlink:href=\"#m3c030bdee4\" y=\"222.528543\"/>\r\n     <use style=\"fill:#1f77b4;stroke:#1f77b4;\" x=\"87.738087\" xlink:href=\"#m3c030bdee4\" y=\"168.05406\"/>\r\n     <use style=\"fill:#1f77b4;stroke:#1f77b4;\" x=\"97.300075\" xlink:href=\"#m3c030bdee4\" y=\"142.295549\"/>\r\n     <use style=\"fill:#1f77b4;stroke:#1f77b4;\" x=\"109.900498\" xlink:href=\"#m3c030bdee4\" y=\"120.925524\"/>\r\n     <use style=\"fill:#1f77b4;stroke:#1f77b4;\" x=\"120.541856\" xlink:href=\"#m3c030bdee4\" y=\"127.412853\"/>\r\n     <use style=\"fill:#1f77b4;stroke:#1f77b4;\" x=\"130.415606\" xlink:href=\"#m3c030bdee4\" y=\"130.370312\"/>\r\n     <use style=\"fill:#1f77b4;stroke:#1f77b4;\" x=\"147.983308\" xlink:href=\"#m3c030bdee4\" y=\"170.152902\"/>\r\n     <use style=\"fill:#1f77b4;stroke:#1f77b4;\" x=\"160.53905\" xlink:href=\"#m3c030bdee4\" y=\"135.80822\"/>\r\n     <use style=\"fill:#1f77b4;stroke:#1f77b4;\" x=\"174.517433\" xlink:href=\"#m3c030bdee4\" y=\"146.588634\"/>\r\n     <use style=\"fill:#1f77b4;stroke:#1f77b4;\" x=\"186.019966\" xlink:href=\"#m3c030bdee4\" y=\"138.765679\"/>\r\n     <use style=\"fill:#1f77b4;stroke:#1f77b4;\" x=\"233.019224\" xlink:href=\"#m3c030bdee4\" y=\"94.499199\"/>\r\n     <use style=\"fill:#1f77b4;stroke:#1f77b4;\" x=\"283.373055\" xlink:href=\"#m3c030bdee4\" y=\"229.874489\"/>\r\n     <use style=\"fill:#1f77b4;stroke:#1f77b4;\" x=\"296.670361\" xlink:href=\"#m3c030bdee4\" y=\"170.343706\"/>\r\n     <use style=\"fill:#1f77b4;stroke:#1f77b4;\" x=\"305.914886\" xlink:href=\"#m3c030bdee4\" y=\"140.482913\"/>\r\n     <use style=\"fill:#1f77b4;stroke:#1f77b4;\" x=\"318.831045\" xlink:href=\"#m3c030bdee4\" y=\"106.13823\"/>\r\n     <use style=\"fill:#1f77b4;stroke:#1f77b4;\" x=\"338.241899\" xlink:href=\"#m3c030bdee4\" y=\"42.791372\"/>\r\n     <use style=\"fill:#1f77b4;stroke:#1f77b4;\" x=\"369.725568\" xlink:href=\"#m3c030bdee4\" y=\"32.201761\"/>\r\n    </g>\r\n   </g>\r\n   <g id=\"matplotlib.axis_1\">\r\n    <g id=\"xtick_1\">\r\n     <g id=\"line2d_1\">\r\n      <defs>\r\n       <path d=\"M 0 0 \r\nL 0 3.5 \r\n\" id=\"madf86e0e70\" style=\"stroke:#000000;stroke-width:0.8;\"/>\r\n      </defs>\r\n      <g>\r\n       <use style=\"stroke:#000000;stroke-width:0.8;\" x=\"101.977632\" xlink:href=\"#madf86e0e70\" y=\"239.758125\"/>\r\n      </g>\r\n     </g>\r\n     <g id=\"text_1\">\r\n      <!-- 10 -->\r\n      <defs>\r\n       <path d=\"M 12.40625 8.296875 \r\nL 28.515625 8.296875 \r\nL 28.515625 63.921875 \r\nL 10.984375 60.40625 \r\nL 10.984375 69.390625 \r\nL 28.421875 72.90625 \r\nL 38.28125 72.90625 \r\nL 38.28125 8.296875 \r\nL 54.390625 8.296875 \r\nL 54.390625 0 \r\nL 12.40625 0 \r\nz\r\n\" id=\"DejaVuSans-49\"/>\r\n       <path d=\"M 31.78125 66.40625 \r\nQ 24.171875 66.40625 20.328125 58.90625 \r\nQ 16.5 51.421875 16.5 36.375 \r\nQ 16.5 21.390625 20.328125 13.890625 \r\nQ 24.171875 6.390625 31.78125 6.390625 \r\nQ 39.453125 6.390625 43.28125 13.890625 \r\nQ 47.125 21.390625 47.125 36.375 \r\nQ 47.125 51.421875 43.28125 58.90625 \r\nQ 39.453125 66.40625 31.78125 66.40625 \r\nz\r\nM 31.78125 74.21875 \r\nQ 44.046875 74.21875 50.515625 64.515625 \r\nQ 56.984375 54.828125 56.984375 36.375 \r\nQ 56.984375 17.96875 50.515625 8.265625 \r\nQ 44.046875 -1.421875 31.78125 -1.421875 \r\nQ 19.53125 -1.421875 13.0625 8.265625 \r\nQ 6.59375 17.96875 6.59375 36.375 \r\nQ 6.59375 54.828125 13.0625 64.515625 \r\nQ 19.53125 74.21875 31.78125 74.21875 \r\nz\r\n\" id=\"DejaVuSans-48\"/>\r\n      </defs>\r\n      <g transform=\"translate(95.615132 254.356562)scale(0.1 -0.1)\">\r\n       <use xlink:href=\"#DejaVuSans-49\"/>\r\n       <use x=\"63.623047\" xlink:href=\"#DejaVuSans-48\"/>\r\n      </g>\r\n     </g>\r\n    </g>\r\n    <g id=\"xtick_2\">\r\n     <g id=\"line2d_2\">\r\n      <g>\r\n       <use style=\"stroke:#000000;stroke-width:0.8;\" x=\"158.881442\" xlink:href=\"#madf86e0e70\" y=\"239.758125\"/>\r\n      </g>\r\n     </g>\r\n     <g id=\"text_2\">\r\n      <!-- 20 -->\r\n      <defs>\r\n       <path d=\"M 19.1875 8.296875 \r\nL 53.609375 8.296875 \r\nL 53.609375 0 \r\nL 7.328125 0 \r\nL 7.328125 8.296875 \r\nQ 12.9375 14.109375 22.625 23.890625 \r\nQ 32.328125 33.6875 34.8125 36.53125 \r\nQ 39.546875 41.84375 41.421875 45.53125 \r\nQ 43.3125 49.21875 43.3125 52.78125 \r\nQ 43.3125 58.59375 39.234375 62.25 \r\nQ 35.15625 65.921875 28.609375 65.921875 \r\nQ 23.96875 65.921875 18.8125 64.3125 \r\nQ 13.671875 62.703125 7.8125 59.421875 \r\nL 7.8125 69.390625 \r\nQ 13.765625 71.78125 18.9375 73 \r\nQ 24.125 74.21875 28.421875 74.21875 \r\nQ 39.75 74.21875 46.484375 68.546875 \r\nQ 53.21875 62.890625 53.21875 53.421875 \r\nQ 53.21875 48.921875 51.53125 44.890625 \r\nQ 49.859375 40.875 45.40625 35.40625 \r\nQ 44.1875 33.984375 37.640625 27.21875 \r\nQ 31.109375 20.453125 19.1875 8.296875 \r\nz\r\n\" id=\"DejaVuSans-50\"/>\r\n      </defs>\r\n      <g transform=\"translate(152.518942 254.356562)scale(0.1 -0.1)\">\r\n       <use xlink:href=\"#DejaVuSans-50\"/>\r\n       <use x=\"63.623047\" xlink:href=\"#DejaVuSans-48\"/>\r\n      </g>\r\n     </g>\r\n    </g>\r\n    <g id=\"xtick_3\">\r\n     <g id=\"line2d_3\">\r\n      <g>\r\n       <use style=\"stroke:#000000;stroke-width:0.8;\" x=\"215.785251\" xlink:href=\"#madf86e0e70\" y=\"239.758125\"/>\r\n      </g>\r\n     </g>\r\n     <g id=\"text_3\">\r\n      <!-- 30 -->\r\n      <defs>\r\n       <path d=\"M 40.578125 39.3125 \r\nQ 47.65625 37.796875 51.625 33 \r\nQ 55.609375 28.21875 55.609375 21.1875 \r\nQ 55.609375 10.40625 48.1875 4.484375 \r\nQ 40.765625 -1.421875 27.09375 -1.421875 \r\nQ 22.515625 -1.421875 17.65625 -0.515625 \r\nQ 12.796875 0.390625 7.625 2.203125 \r\nL 7.625 11.71875 \r\nQ 11.71875 9.328125 16.59375 8.109375 \r\nQ 21.484375 6.890625 26.8125 6.890625 \r\nQ 36.078125 6.890625 40.9375 10.546875 \r\nQ 45.796875 14.203125 45.796875 21.1875 \r\nQ 45.796875 27.640625 41.28125 31.265625 \r\nQ 36.765625 34.90625 28.71875 34.90625 \r\nL 20.21875 34.90625 \r\nL 20.21875 43.015625 \r\nL 29.109375 43.015625 \r\nQ 36.375 43.015625 40.234375 45.921875 \r\nQ 44.09375 48.828125 44.09375 54.296875 \r\nQ 44.09375 59.90625 40.109375 62.90625 \r\nQ 36.140625 65.921875 28.71875 65.921875 \r\nQ 24.65625 65.921875 20.015625 65.03125 \r\nQ 15.375 64.15625 9.8125 62.3125 \r\nL 9.8125 71.09375 \r\nQ 15.4375 72.65625 20.34375 73.4375 \r\nQ 25.25 74.21875 29.59375 74.21875 \r\nQ 40.828125 74.21875 47.359375 69.109375 \r\nQ 53.90625 64.015625 53.90625 55.328125 \r\nQ 53.90625 49.265625 50.4375 45.09375 \r\nQ 46.96875 40.921875 40.578125 39.3125 \r\nz\r\n\" id=\"DejaVuSans-51\"/>\r\n      </defs>\r\n      <g transform=\"translate(209.422751 254.356562)scale(0.1 -0.1)\">\r\n       <use xlink:href=\"#DejaVuSans-51\"/>\r\n       <use x=\"63.623047\" xlink:href=\"#DejaVuSans-48\"/>\r\n      </g>\r\n     </g>\r\n    </g>\r\n    <g id=\"xtick_4\">\r\n     <g id=\"line2d_4\">\r\n      <g>\r\n       <use style=\"stroke:#000000;stroke-width:0.8;\" x=\"272.689061\" xlink:href=\"#madf86e0e70\" y=\"239.758125\"/>\r\n      </g>\r\n     </g>\r\n     <g id=\"text_4\">\r\n      <!-- 40 -->\r\n      <defs>\r\n       <path d=\"M 37.796875 64.3125 \r\nL 12.890625 25.390625 \r\nL 37.796875 25.390625 \r\nz\r\nM 35.203125 72.90625 \r\nL 47.609375 72.90625 \r\nL 47.609375 25.390625 \r\nL 58.015625 25.390625 \r\nL 58.015625 17.1875 \r\nL 47.609375 17.1875 \r\nL 47.609375 0 \r\nL 37.796875 0 \r\nL 37.796875 17.1875 \r\nL 4.890625 17.1875 \r\nL 4.890625 26.703125 \r\nz\r\n\" id=\"DejaVuSans-52\"/>\r\n      </defs>\r\n      <g transform=\"translate(266.326561 254.356562)scale(0.1 -0.1)\">\r\n       <use xlink:href=\"#DejaVuSans-52\"/>\r\n       <use x=\"63.623047\" xlink:href=\"#DejaVuSans-48\"/>\r\n      </g>\r\n     </g>\r\n    </g>\r\n    <g id=\"xtick_5\">\r\n     <g id=\"line2d_5\">\r\n      <g>\r\n       <use style=\"stroke:#000000;stroke-width:0.8;\" x=\"329.59287\" xlink:href=\"#madf86e0e70\" y=\"239.758125\"/>\r\n      </g>\r\n     </g>\r\n     <g id=\"text_5\">\r\n      <!-- 50 -->\r\n      <defs>\r\n       <path d=\"M 10.796875 72.90625 \r\nL 49.515625 72.90625 \r\nL 49.515625 64.59375 \r\nL 19.828125 64.59375 \r\nL 19.828125 46.734375 \r\nQ 21.96875 47.46875 24.109375 47.828125 \r\nQ 26.265625 48.1875 28.421875 48.1875 \r\nQ 40.625 48.1875 47.75 41.5 \r\nQ 54.890625 34.8125 54.890625 23.390625 \r\nQ 54.890625 11.625 47.5625 5.09375 \r\nQ 40.234375 -1.421875 26.90625 -1.421875 \r\nQ 22.3125 -1.421875 17.546875 -0.640625 \r\nQ 12.796875 0.140625 7.71875 1.703125 \r\nL 7.71875 11.625 \r\nQ 12.109375 9.234375 16.796875 8.0625 \r\nQ 21.484375 6.890625 26.703125 6.890625 \r\nQ 35.15625 6.890625 40.078125 11.328125 \r\nQ 45.015625 15.765625 45.015625 23.390625 \r\nQ 45.015625 31 40.078125 35.4375 \r\nQ 35.15625 39.890625 26.703125 39.890625 \r\nQ 22.75 39.890625 18.8125 39.015625 \r\nQ 14.890625 38.140625 10.796875 36.28125 \r\nz\r\n\" id=\"DejaVuSans-53\"/>\r\n      </defs>\r\n      <g transform=\"translate(323.23037 254.356562)scale(0.1 -0.1)\">\r\n       <use xlink:href=\"#DejaVuSans-53\"/>\r\n       <use x=\"63.623047\" xlink:href=\"#DejaVuSans-48\"/>\r\n      </g>\r\n     </g>\r\n    </g>\r\n    <g id=\"text_6\">\r\n     <!-- Wall Clock Time (s) -->\r\n     <defs>\r\n      <path d=\"M 3.328125 72.90625 \r\nL 13.28125 72.90625 \r\nL 28.609375 11.28125 \r\nL 43.890625 72.90625 \r\nL 54.984375 72.90625 \r\nL 70.3125 11.28125 \r\nL 85.59375 72.90625 \r\nL 95.609375 72.90625 \r\nL 77.296875 0 \r\nL 64.890625 0 \r\nL 49.515625 63.28125 \r\nL 33.984375 0 \r\nL 21.578125 0 \r\nz\r\n\" id=\"DejaVuSans-87\"/>\r\n      <path d=\"M 34.28125 27.484375 \r\nQ 23.390625 27.484375 19.1875 25 \r\nQ 14.984375 22.515625 14.984375 16.5 \r\nQ 14.984375 11.71875 18.140625 8.90625 \r\nQ 21.296875 6.109375 26.703125 6.109375 \r\nQ 34.1875 6.109375 38.703125 11.40625 \r\nQ 43.21875 16.703125 43.21875 25.484375 \r\nL 43.21875 27.484375 \r\nz\r\nM 52.203125 31.203125 \r\nL 52.203125 0 \r\nL 43.21875 0 \r\nL 43.21875 8.296875 \r\nQ 40.140625 3.328125 35.546875 0.953125 \r\nQ 30.953125 -1.421875 24.3125 -1.421875 \r\nQ 15.921875 -1.421875 10.953125 3.296875 \r\nQ 6 8.015625 6 15.921875 \r\nQ 6 25.140625 12.171875 29.828125 \r\nQ 18.359375 34.515625 30.609375 34.515625 \r\nL 43.21875 34.515625 \r\nL 43.21875 35.40625 \r\nQ 43.21875 41.609375 39.140625 45 \r\nQ 35.0625 48.390625 27.6875 48.390625 \r\nQ 23 48.390625 18.546875 47.265625 \r\nQ 14.109375 46.140625 10.015625 43.890625 \r\nL 10.015625 52.203125 \r\nQ 14.9375 54.109375 19.578125 55.046875 \r\nQ 24.21875 56 28.609375 56 \r\nQ 40.484375 56 46.34375 49.84375 \r\nQ 52.203125 43.703125 52.203125 31.203125 \r\nz\r\n\" id=\"DejaVuSans-97\"/>\r\n      <path d=\"M 9.421875 75.984375 \r\nL 18.40625 75.984375 \r\nL 18.40625 0 \r\nL 9.421875 0 \r\nz\r\n\" id=\"DejaVuSans-108\"/>\r\n      <path id=\"DejaVuSans-32\"/>\r\n      <path d=\"M 64.40625 67.28125 \r\nL 64.40625 56.890625 \r\nQ 59.421875 61.53125 53.78125 63.8125 \r\nQ 48.140625 66.109375 41.796875 66.109375 \r\nQ 29.296875 66.109375 22.65625 58.46875 \r\nQ 16.015625 50.828125 16.015625 36.375 \r\nQ 16.015625 21.96875 22.65625 14.328125 \r\nQ 29.296875 6.6875 41.796875 6.6875 \r\nQ 48.140625 6.6875 53.78125 8.984375 \r\nQ 59.421875 11.28125 64.40625 15.921875 \r\nL 64.40625 5.609375 \r\nQ 59.234375 2.09375 53.4375 0.328125 \r\nQ 47.65625 -1.421875 41.21875 -1.421875 \r\nQ 24.65625 -1.421875 15.125 8.703125 \r\nQ 5.609375 18.84375 5.609375 36.375 \r\nQ 5.609375 53.953125 15.125 64.078125 \r\nQ 24.65625 74.21875 41.21875 74.21875 \r\nQ 47.75 74.21875 53.53125 72.484375 \r\nQ 59.328125 70.75 64.40625 67.28125 \r\nz\r\n\" id=\"DejaVuSans-67\"/>\r\n      <path d=\"M 30.609375 48.390625 \r\nQ 23.390625 48.390625 19.1875 42.75 \r\nQ 14.984375 37.109375 14.984375 27.296875 \r\nQ 14.984375 17.484375 19.15625 11.84375 \r\nQ 23.34375 6.203125 30.609375 6.203125 \r\nQ 37.796875 6.203125 41.984375 11.859375 \r\nQ 46.1875 17.53125 46.1875 27.296875 \r\nQ 46.1875 37.015625 41.984375 42.703125 \r\nQ 37.796875 48.390625 30.609375 48.390625 \r\nz\r\nM 30.609375 56 \r\nQ 42.328125 56 49.015625 48.375 \r\nQ 55.71875 40.765625 55.71875 27.296875 \r\nQ 55.71875 13.875 49.015625 6.21875 \r\nQ 42.328125 -1.421875 30.609375 -1.421875 \r\nQ 18.84375 -1.421875 12.171875 6.21875 \r\nQ 5.515625 13.875 5.515625 27.296875 \r\nQ 5.515625 40.765625 12.171875 48.375 \r\nQ 18.84375 56 30.609375 56 \r\nz\r\n\" id=\"DejaVuSans-111\"/>\r\n      <path d=\"M 48.78125 52.59375 \r\nL 48.78125 44.1875 \r\nQ 44.96875 46.296875 41.140625 47.34375 \r\nQ 37.3125 48.390625 33.40625 48.390625 \r\nQ 24.65625 48.390625 19.8125 42.84375 \r\nQ 14.984375 37.3125 14.984375 27.296875 \r\nQ 14.984375 17.28125 19.8125 11.734375 \r\nQ 24.65625 6.203125 33.40625 6.203125 \r\nQ 37.3125 6.203125 41.140625 7.25 \r\nQ 44.96875 8.296875 48.78125 10.40625 \r\nL 48.78125 2.09375 \r\nQ 45.015625 0.34375 40.984375 -0.53125 \r\nQ 36.96875 -1.421875 32.421875 -1.421875 \r\nQ 20.0625 -1.421875 12.78125 6.34375 \r\nQ 5.515625 14.109375 5.515625 27.296875 \r\nQ 5.515625 40.671875 12.859375 48.328125 \r\nQ 20.21875 56 33.015625 56 \r\nQ 37.15625 56 41.109375 55.140625 \r\nQ 45.0625 54.296875 48.78125 52.59375 \r\nz\r\n\" id=\"DejaVuSans-99\"/>\r\n      <path d=\"M 9.078125 75.984375 \r\nL 18.109375 75.984375 \r\nL 18.109375 31.109375 \r\nL 44.921875 54.6875 \r\nL 56.390625 54.6875 \r\nL 27.390625 29.109375 \r\nL 57.625 0 \r\nL 45.90625 0 \r\nL 18.109375 26.703125 \r\nL 18.109375 0 \r\nL 9.078125 0 \r\nz\r\n\" id=\"DejaVuSans-107\"/>\r\n      <path d=\"M -0.296875 72.90625 \r\nL 61.375 72.90625 \r\nL 61.375 64.59375 \r\nL 35.5 64.59375 \r\nL 35.5 0 \r\nL 25.59375 0 \r\nL 25.59375 64.59375 \r\nL -0.296875 64.59375 \r\nz\r\n\" id=\"DejaVuSans-84\"/>\r\n      <path d=\"M 9.421875 54.6875 \r\nL 18.40625 54.6875 \r\nL 18.40625 0 \r\nL 9.421875 0 \r\nz\r\nM 9.421875 75.984375 \r\nL 18.40625 75.984375 \r\nL 18.40625 64.59375 \r\nL 9.421875 64.59375 \r\nz\r\n\" id=\"DejaVuSans-105\"/>\r\n      <path d=\"M 52 44.1875 \r\nQ 55.375 50.25 60.0625 53.125 \r\nQ 64.75 56 71.09375 56 \r\nQ 79.640625 56 84.28125 50.015625 \r\nQ 88.921875 44.046875 88.921875 33.015625 \r\nL 88.921875 0 \r\nL 79.890625 0 \r\nL 79.890625 32.71875 \r\nQ 79.890625 40.578125 77.09375 44.375 \r\nQ 74.3125 48.1875 68.609375 48.1875 \r\nQ 61.625 48.1875 57.5625 43.546875 \r\nQ 53.515625 38.921875 53.515625 30.90625 \r\nL 53.515625 0 \r\nL 44.484375 0 \r\nL 44.484375 32.71875 \r\nQ 44.484375 40.625 41.703125 44.40625 \r\nQ 38.921875 48.1875 33.109375 48.1875 \r\nQ 26.21875 48.1875 22.15625 43.53125 \r\nQ 18.109375 38.875 18.109375 30.90625 \r\nL 18.109375 0 \r\nL 9.078125 0 \r\nL 9.078125 54.6875 \r\nL 18.109375 54.6875 \r\nL 18.109375 46.1875 \r\nQ 21.1875 51.21875 25.484375 53.609375 \r\nQ 29.78125 56 35.6875 56 \r\nQ 41.65625 56 45.828125 52.96875 \r\nQ 50 49.953125 52 44.1875 \r\nz\r\n\" id=\"DejaVuSans-109\"/>\r\n      <path d=\"M 56.203125 29.59375 \r\nL 56.203125 25.203125 \r\nL 14.890625 25.203125 \r\nQ 15.484375 15.921875 20.484375 11.0625 \r\nQ 25.484375 6.203125 34.421875 6.203125 \r\nQ 39.59375 6.203125 44.453125 7.46875 \r\nQ 49.3125 8.734375 54.109375 11.28125 \r\nL 54.109375 2.78125 \r\nQ 49.265625 0.734375 44.1875 -0.34375 \r\nQ 39.109375 -1.421875 33.890625 -1.421875 \r\nQ 20.796875 -1.421875 13.15625 6.1875 \r\nQ 5.515625 13.8125 5.515625 26.8125 \r\nQ 5.515625 40.234375 12.765625 48.109375 \r\nQ 20.015625 56 32.328125 56 \r\nQ 43.359375 56 49.78125 48.890625 \r\nQ 56.203125 41.796875 56.203125 29.59375 \r\nz\r\nM 47.21875 32.234375 \r\nQ 47.125 39.59375 43.09375 43.984375 \r\nQ 39.0625 48.390625 32.421875 48.390625 \r\nQ 24.90625 48.390625 20.390625 44.140625 \r\nQ 15.875 39.890625 15.1875 32.171875 \r\nz\r\n\" id=\"DejaVuSans-101\"/>\r\n      <path d=\"M 31 75.875 \r\nQ 24.46875 64.65625 21.28125 53.65625 \r\nQ 18.109375 42.671875 18.109375 31.390625 \r\nQ 18.109375 20.125 21.3125 9.0625 \r\nQ 24.515625 -2 31 -13.1875 \r\nL 23.1875 -13.1875 \r\nQ 15.875 -1.703125 12.234375 9.375 \r\nQ 8.59375 20.453125 8.59375 31.390625 \r\nQ 8.59375 42.28125 12.203125 53.3125 \r\nQ 15.828125 64.359375 23.1875 75.875 \r\nz\r\n\" id=\"DejaVuSans-40\"/>\r\n      <path d=\"M 44.28125 53.078125 \r\nL 44.28125 44.578125 \r\nQ 40.484375 46.53125 36.375 47.5 \r\nQ 32.28125 48.484375 27.875 48.484375 \r\nQ 21.1875 48.484375 17.84375 46.4375 \r\nQ 14.5 44.390625 14.5 40.28125 \r\nQ 14.5 37.15625 16.890625 35.375 \r\nQ 19.28125 33.59375 26.515625 31.984375 \r\nL 29.59375 31.296875 \r\nQ 39.15625 29.25 43.1875 25.515625 \r\nQ 47.21875 21.78125 47.21875 15.09375 \r\nQ 47.21875 7.46875 41.1875 3.015625 \r\nQ 35.15625 -1.421875 24.609375 -1.421875 \r\nQ 20.21875 -1.421875 15.453125 -0.5625 \r\nQ 10.6875 0.296875 5.421875 2 \r\nL 5.421875 11.28125 \r\nQ 10.40625 8.6875 15.234375 7.390625 \r\nQ 20.0625 6.109375 24.8125 6.109375 \r\nQ 31.15625 6.109375 34.5625 8.28125 \r\nQ 37.984375 10.453125 37.984375 14.40625 \r\nQ 37.984375 18.0625 35.515625 20.015625 \r\nQ 33.0625 21.96875 24.703125 23.78125 \r\nL 21.578125 24.515625 \r\nQ 13.234375 26.265625 9.515625 29.90625 \r\nQ 5.8125 33.546875 5.8125 39.890625 \r\nQ 5.8125 47.609375 11.28125 51.796875 \r\nQ 16.75 56 26.8125 56 \r\nQ 31.78125 56 36.171875 55.265625 \r\nQ 40.578125 54.546875 44.28125 53.078125 \r\nz\r\n\" id=\"DejaVuSans-115\"/>\r\n      <path d=\"M 8.015625 75.875 \r\nL 15.828125 75.875 \r\nQ 23.140625 64.359375 26.78125 53.3125 \r\nQ 30.421875 42.28125 30.421875 31.390625 \r\nQ 30.421875 20.453125 26.78125 9.375 \r\nQ 23.140625 -1.703125 15.828125 -13.1875 \r\nL 8.015625 -13.1875 \r\nQ 14.5 -2 17.703125 9.0625 \r\nQ 20.90625 20.125 20.90625 31.390625 \r\nQ 20.90625 42.671875 17.703125 53.65625 \r\nQ 14.5 64.65625 8.015625 75.875 \r\nz\r\n\" id=\"DejaVuSans-41\"/>\r\n     </defs>\r\n     <g transform=\"translate(169.985156 268.034687)scale(0.1 -0.1)\">\r\n      <use xlink:href=\"#DejaVuSans-87\"/>\r\n      <use x=\"92.501953\" xlink:href=\"#DejaVuSans-97\"/>\r\n      <use x=\"153.78125\" xlink:href=\"#DejaVuSans-108\"/>\r\n      <use x=\"181.564453\" xlink:href=\"#DejaVuSans-108\"/>\r\n      <use x=\"209.347656\" xlink:href=\"#DejaVuSans-32\"/>\r\n      <use x=\"241.134766\" xlink:href=\"#DejaVuSans-67\"/>\r\n      <use x=\"310.958984\" xlink:href=\"#DejaVuSans-108\"/>\r\n      <use x=\"338.742188\" xlink:href=\"#DejaVuSans-111\"/>\r\n      <use x=\"399.923828\" xlink:href=\"#DejaVuSans-99\"/>\r\n      <use x=\"454.904297\" xlink:href=\"#DejaVuSans-107\"/>\r\n      <use x=\"512.814453\" xlink:href=\"#DejaVuSans-32\"/>\r\n      <use x=\"544.601562\" xlink:href=\"#DejaVuSans-84\"/>\r\n      <use x=\"602.560547\" xlink:href=\"#DejaVuSans-105\"/>\r\n      <use x=\"630.34375\" xlink:href=\"#DejaVuSans-109\"/>\r\n      <use x=\"727.755859\" xlink:href=\"#DejaVuSans-101\"/>\r\n      <use x=\"789.279297\" xlink:href=\"#DejaVuSans-32\"/>\r\n      <use x=\"821.066406\" xlink:href=\"#DejaVuSans-40\"/>\r\n      <use x=\"860.080078\" xlink:href=\"#DejaVuSans-115\"/>\r\n      <use x=\"912.179688\" xlink:href=\"#DejaVuSans-41\"/>\r\n     </g>\r\n    </g>\r\n   </g>\r\n   <g id=\"matplotlib.axis_2\">\r\n    <g id=\"ytick_1\">\r\n     <g id=\"line2d_6\">\r\n      <defs>\r\n       <path d=\"M 0 0 \r\nL -3.5 0 \r\n\" id=\"me42aded281\" style=\"stroke:#000000;stroke-width:0.8;\"/>\r\n      </defs>\r\n      <g>\r\n       <use style=\"stroke:#000000;stroke-width:0.8;\" x=\"50.14375\" xlink:href=\"#me42aded281\" y=\"231.862664\"/>\r\n      </g>\r\n     </g>\r\n     <g id=\"text_7\">\r\n      <!-- 0.61 -->\r\n      <defs>\r\n       <path d=\"M 10.6875 12.40625 \r\nL 21 12.40625 \r\nL 21 0 \r\nL 10.6875 0 \r\nz\r\n\" id=\"DejaVuSans-46\"/>\r\n       <path d=\"M 33.015625 40.375 \r\nQ 26.375 40.375 22.484375 35.828125 \r\nQ 18.609375 31.296875 18.609375 23.390625 \r\nQ 18.609375 15.53125 22.484375 10.953125 \r\nQ 26.375 6.390625 33.015625 6.390625 \r\nQ 39.65625 6.390625 43.53125 10.953125 \r\nQ 47.40625 15.53125 47.40625 23.390625 \r\nQ 47.40625 31.296875 43.53125 35.828125 \r\nQ 39.65625 40.375 33.015625 40.375 \r\nz\r\nM 52.59375 71.296875 \r\nL 52.59375 62.3125 \r\nQ 48.875 64.0625 45.09375 64.984375 \r\nQ 41.3125 65.921875 37.59375 65.921875 \r\nQ 27.828125 65.921875 22.671875 59.328125 \r\nQ 17.53125 52.734375 16.796875 39.40625 \r\nQ 19.671875 43.65625 24.015625 45.921875 \r\nQ 28.375 48.1875 33.59375 48.1875 \r\nQ 44.578125 48.1875 50.953125 41.515625 \r\nQ 57.328125 34.859375 57.328125 23.390625 \r\nQ 57.328125 12.15625 50.6875 5.359375 \r\nQ 44.046875 -1.421875 33.015625 -1.421875 \r\nQ 20.359375 -1.421875 13.671875 8.265625 \r\nQ 6.984375 17.96875 6.984375 36.375 \r\nQ 6.984375 53.65625 15.1875 63.9375 \r\nQ 23.390625 74.21875 37.203125 74.21875 \r\nQ 40.921875 74.21875 44.703125 73.484375 \r\nQ 48.484375 72.75 52.59375 71.296875 \r\nz\r\n\" id=\"DejaVuSans-54\"/>\r\n      </defs>\r\n      <g transform=\"translate(20.878125 235.661883)scale(0.1 -0.1)\">\r\n       <use xlink:href=\"#DejaVuSans-48\"/>\r\n       <use x=\"63.623047\" xlink:href=\"#DejaVuSans-46\"/>\r\n       <use x=\"95.410156\" xlink:href=\"#DejaVuSans-54\"/>\r\n       <use x=\"159.033203\" xlink:href=\"#DejaVuSans-49\"/>\r\n      </g>\r\n     </g>\r\n    </g>\r\n    <g id=\"ytick_2\">\r\n     <g id=\"line2d_7\">\r\n      <g>\r\n       <use style=\"stroke:#000000;stroke-width:0.8;\" x=\"50.14375\" xlink:href=\"#me42aded281\" y=\"193.266873\"/>\r\n      </g>\r\n     </g>\r\n     <g id=\"text_8\">\r\n      <!-- 0.62 -->\r\n      <g transform=\"translate(20.878125 197.066092)scale(0.1 -0.1)\">\r\n       <use xlink:href=\"#DejaVuSans-48\"/>\r\n       <use x=\"63.623047\" xlink:href=\"#DejaVuSans-46\"/>\r\n       <use x=\"95.410156\" xlink:href=\"#DejaVuSans-54\"/>\r\n       <use x=\"159.033203\" xlink:href=\"#DejaVuSans-50\"/>\r\n      </g>\r\n     </g>\r\n    </g>\r\n    <g id=\"ytick_3\">\r\n     <g id=\"line2d_8\">\r\n      <g>\r\n       <use style=\"stroke:#000000;stroke-width:0.8;\" x=\"50.14375\" xlink:href=\"#me42aded281\" y=\"154.671083\"/>\r\n      </g>\r\n     </g>\r\n     <g id=\"text_9\">\r\n      <!-- 0.63 -->\r\n      <g transform=\"translate(20.878125 158.470301)scale(0.1 -0.1)\">\r\n       <use xlink:href=\"#DejaVuSans-48\"/>\r\n       <use x=\"63.623047\" xlink:href=\"#DejaVuSans-46\"/>\r\n       <use x=\"95.410156\" xlink:href=\"#DejaVuSans-54\"/>\r\n       <use x=\"159.033203\" xlink:href=\"#DejaVuSans-51\"/>\r\n      </g>\r\n     </g>\r\n    </g>\r\n    <g id=\"ytick_4\">\r\n     <g id=\"line2d_9\">\r\n      <g>\r\n       <use style=\"stroke:#000000;stroke-width:0.8;\" x=\"50.14375\" xlink:href=\"#me42aded281\" y=\"116.075292\"/>\r\n      </g>\r\n     </g>\r\n     <g id=\"text_10\">\r\n      <!-- 0.64 -->\r\n      <g transform=\"translate(20.878125 119.87451)scale(0.1 -0.1)\">\r\n       <use xlink:href=\"#DejaVuSans-48\"/>\r\n       <use x=\"63.623047\" xlink:href=\"#DejaVuSans-46\"/>\r\n       <use x=\"95.410156\" xlink:href=\"#DejaVuSans-54\"/>\r\n       <use x=\"159.033203\" xlink:href=\"#DejaVuSans-52\"/>\r\n      </g>\r\n     </g>\r\n    </g>\r\n    <g id=\"ytick_5\">\r\n     <g id=\"line2d_10\">\r\n      <g>\r\n       <use style=\"stroke:#000000;stroke-width:0.8;\" x=\"50.14375\" xlink:href=\"#me42aded281\" y=\"77.479501\"/>\r\n      </g>\r\n     </g>\r\n     <g id=\"text_11\">\r\n      <!-- 0.65 -->\r\n      <g transform=\"translate(20.878125 81.27872)scale(0.1 -0.1)\">\r\n       <use xlink:href=\"#DejaVuSans-48\"/>\r\n       <use x=\"63.623047\" xlink:href=\"#DejaVuSans-46\"/>\r\n       <use x=\"95.410156\" xlink:href=\"#DejaVuSans-54\"/>\r\n       <use x=\"159.033203\" xlink:href=\"#DejaVuSans-53\"/>\r\n      </g>\r\n     </g>\r\n    </g>\r\n    <g id=\"ytick_6\">\r\n     <g id=\"line2d_11\">\r\n      <g>\r\n       <use style=\"stroke:#000000;stroke-width:0.8;\" x=\"50.14375\" xlink:href=\"#me42aded281\" y=\"38.88371\"/>\r\n      </g>\r\n     </g>\r\n     <g id=\"text_12\">\r\n      <!-- 0.66 -->\r\n      <g transform=\"translate(20.878125 42.682929)scale(0.1 -0.1)\">\r\n       <use xlink:href=\"#DejaVuSans-48\"/>\r\n       <use x=\"63.623047\" xlink:href=\"#DejaVuSans-46\"/>\r\n       <use x=\"95.410156\" xlink:href=\"#DejaVuSans-54\"/>\r\n       <use x=\"159.033203\" xlink:href=\"#DejaVuSans-54\"/>\r\n      </g>\r\n     </g>\r\n    </g>\r\n    <g id=\"text_13\">\r\n     <!-- Validation Accuracy -->\r\n     <defs>\r\n      <path d=\"M 28.609375 0 \r\nL 0.78125 72.90625 \r\nL 11.078125 72.90625 \r\nL 34.1875 11.53125 \r\nL 57.328125 72.90625 \r\nL 67.578125 72.90625 \r\nL 39.796875 0 \r\nz\r\n\" id=\"DejaVuSans-86\"/>\r\n      <path d=\"M 45.40625 46.390625 \r\nL 45.40625 75.984375 \r\nL 54.390625 75.984375 \r\nL 54.390625 0 \r\nL 45.40625 0 \r\nL 45.40625 8.203125 \r\nQ 42.578125 3.328125 38.25 0.953125 \r\nQ 33.9375 -1.421875 27.875 -1.421875 \r\nQ 17.96875 -1.421875 11.734375 6.484375 \r\nQ 5.515625 14.40625 5.515625 27.296875 \r\nQ 5.515625 40.1875 11.734375 48.09375 \r\nQ 17.96875 56 27.875 56 \r\nQ 33.9375 56 38.25 53.625 \r\nQ 42.578125 51.265625 45.40625 46.390625 \r\nz\r\nM 14.796875 27.296875 \r\nQ 14.796875 17.390625 18.875 11.75 \r\nQ 22.953125 6.109375 30.078125 6.109375 \r\nQ 37.203125 6.109375 41.296875 11.75 \r\nQ 45.40625 17.390625 45.40625 27.296875 \r\nQ 45.40625 37.203125 41.296875 42.84375 \r\nQ 37.203125 48.484375 30.078125 48.484375 \r\nQ 22.953125 48.484375 18.875 42.84375 \r\nQ 14.796875 37.203125 14.796875 27.296875 \r\nz\r\n\" id=\"DejaVuSans-100\"/>\r\n      <path d=\"M 18.3125 70.21875 \r\nL 18.3125 54.6875 \r\nL 36.8125 54.6875 \r\nL 36.8125 47.703125 \r\nL 18.3125 47.703125 \r\nL 18.3125 18.015625 \r\nQ 18.3125 11.328125 20.140625 9.421875 \r\nQ 21.96875 7.515625 27.59375 7.515625 \r\nL 36.8125 7.515625 \r\nL 36.8125 0 \r\nL 27.59375 0 \r\nQ 17.1875 0 13.234375 3.875 \r\nQ 9.28125 7.765625 9.28125 18.015625 \r\nL 9.28125 47.703125 \r\nL 2.6875 47.703125 \r\nL 2.6875 54.6875 \r\nL 9.28125 54.6875 \r\nL 9.28125 70.21875 \r\nz\r\n\" id=\"DejaVuSans-116\"/>\r\n      <path d=\"M 54.890625 33.015625 \r\nL 54.890625 0 \r\nL 45.90625 0 \r\nL 45.90625 32.71875 \r\nQ 45.90625 40.484375 42.875 44.328125 \r\nQ 39.84375 48.1875 33.796875 48.1875 \r\nQ 26.515625 48.1875 22.3125 43.546875 \r\nQ 18.109375 38.921875 18.109375 30.90625 \r\nL 18.109375 0 \r\nL 9.078125 0 \r\nL 9.078125 54.6875 \r\nL 18.109375 54.6875 \r\nL 18.109375 46.1875 \r\nQ 21.34375 51.125 25.703125 53.5625 \r\nQ 30.078125 56 35.796875 56 \r\nQ 45.21875 56 50.046875 50.171875 \r\nQ 54.890625 44.34375 54.890625 33.015625 \r\nz\r\n\" id=\"DejaVuSans-110\"/>\r\n      <path d=\"M 34.1875 63.1875 \r\nL 20.796875 26.90625 \r\nL 47.609375 26.90625 \r\nz\r\nM 28.609375 72.90625 \r\nL 39.796875 72.90625 \r\nL 67.578125 0 \r\nL 57.328125 0 \r\nL 50.6875 18.703125 \r\nL 17.828125 18.703125 \r\nL 11.1875 0 \r\nL 0.78125 0 \r\nz\r\n\" id=\"DejaVuSans-65\"/>\r\n      <path d=\"M 8.5 21.578125 \r\nL 8.5 54.6875 \r\nL 17.484375 54.6875 \r\nL 17.484375 21.921875 \r\nQ 17.484375 14.15625 20.5 10.265625 \r\nQ 23.53125 6.390625 29.59375 6.390625 \r\nQ 36.859375 6.390625 41.078125 11.03125 \r\nQ 45.3125 15.671875 45.3125 23.6875 \r\nL 45.3125 54.6875 \r\nL 54.296875 54.6875 \r\nL 54.296875 0 \r\nL 45.3125 0 \r\nL 45.3125 8.40625 \r\nQ 42.046875 3.421875 37.71875 1 \r\nQ 33.40625 -1.421875 27.6875 -1.421875 \r\nQ 18.265625 -1.421875 13.375 4.4375 \r\nQ 8.5 10.296875 8.5 21.578125 \r\nz\r\nM 31.109375 56 \r\nz\r\n\" id=\"DejaVuSans-117\"/>\r\n      <path d=\"M 41.109375 46.296875 \r\nQ 39.59375 47.171875 37.8125 47.578125 \r\nQ 36.03125 48 33.890625 48 \r\nQ 26.265625 48 22.1875 43.046875 \r\nQ 18.109375 38.09375 18.109375 28.8125 \r\nL 18.109375 0 \r\nL 9.078125 0 \r\nL 9.078125 54.6875 \r\nL 18.109375 54.6875 \r\nL 18.109375 46.1875 \r\nQ 20.953125 51.171875 25.484375 53.578125 \r\nQ 30.03125 56 36.53125 56 \r\nQ 37.453125 56 38.578125 55.875 \r\nQ 39.703125 55.765625 41.0625 55.515625 \r\nz\r\n\" id=\"DejaVuSans-114\"/>\r\n      <path d=\"M 32.171875 -5.078125 \r\nQ 28.375 -14.84375 24.75 -17.8125 \r\nQ 21.140625 -20.796875 15.09375 -20.796875 \r\nL 7.90625 -20.796875 \r\nL 7.90625 -13.28125 \r\nL 13.1875 -13.28125 \r\nQ 16.890625 -13.28125 18.9375 -11.515625 \r\nQ 21 -9.765625 23.484375 -3.21875 \r\nL 25.09375 0.875 \r\nL 2.984375 54.6875 \r\nL 12.5 54.6875 \r\nL 29.59375 11.921875 \r\nL 46.6875 54.6875 \r\nL 56.203125 54.6875 \r\nz\r\n\" id=\"DejaVuSans-121\"/>\r\n     </defs>\r\n     <g transform=\"translate(14.798438 180.145937)rotate(-90)scale(0.1 -0.1)\">\r\n      <use xlink:href=\"#DejaVuSans-86\"/>\r\n      <use x=\"60.658203\" xlink:href=\"#DejaVuSans-97\"/>\r\n      <use x=\"121.9375\" xlink:href=\"#DejaVuSans-108\"/>\r\n      <use x=\"149.720703\" xlink:href=\"#DejaVuSans-105\"/>\r\n      <use x=\"177.503906\" xlink:href=\"#DejaVuSans-100\"/>\r\n      <use x=\"240.980469\" xlink:href=\"#DejaVuSans-97\"/>\r\n      <use x=\"302.259766\" xlink:href=\"#DejaVuSans-116\"/>\r\n      <use x=\"341.46875\" xlink:href=\"#DejaVuSans-105\"/>\r\n      <use x=\"369.251953\" xlink:href=\"#DejaVuSans-111\"/>\r\n      <use x=\"430.433594\" xlink:href=\"#DejaVuSans-110\"/>\r\n      <use x=\"493.8125\" xlink:href=\"#DejaVuSans-32\"/>\r\n      <use x=\"525.599609\" xlink:href=\"#DejaVuSans-65\"/>\r\n      <use x=\"592.257812\" xlink:href=\"#DejaVuSans-99\"/>\r\n      <use x=\"647.238281\" xlink:href=\"#DejaVuSans-99\"/>\r\n      <use x=\"702.21875\" xlink:href=\"#DejaVuSans-117\"/>\r\n      <use x=\"765.597656\" xlink:href=\"#DejaVuSans-114\"/>\r\n      <use x=\"806.710938\" xlink:href=\"#DejaVuSans-97\"/>\r\n      <use x=\"867.990234\" xlink:href=\"#DejaVuSans-99\"/>\r\n      <use x=\"922.970703\" xlink:href=\"#DejaVuSans-121\"/>\r\n     </g>\r\n    </g>\r\n   </g>\r\n   <g id=\"line2d_12\">\r\n    <path clip-path=\"url(#p1603db58c1)\" d=\"M 65.361932 173.301165 \r\nL 79.674828 173.301165 \r\nL 87.738087 168.05406 \r\nL 97.300075 142.295549 \r\nL 109.900498 120.925524 \r\nL 120.541856 120.925524 \r\nL 130.415606 120.925524 \r\nL 147.983308 120.925524 \r\nL 160.53905 120.925524 \r\nL 174.517433 120.925524 \r\nL 186.019966 120.925524 \r\nL 233.019224 94.499199 \r\nL 283.373055 94.499199 \r\nL 296.670361 94.499199 \r\nL 305.914886 94.499199 \r\nL 318.831045 94.499199 \r\nL 338.241899 42.791372 \r\nL 369.725568 32.201761 \r\n\" style=\"fill:none;stroke:#1f77b4;stroke-linecap:square;stroke-width:1.5;\"/>\r\n   </g>\r\n   <g id=\"patch_3\">\r\n    <path d=\"M 50.14375 239.758125 \r\nL 50.14375 22.318125 \r\n\" style=\"fill:none;stroke:#000000;stroke-linecap:square;stroke-linejoin:miter;stroke-width:0.8;\"/>\r\n   </g>\r\n   <g id=\"patch_4\">\r\n    <path d=\"M 384.94375 239.758125 \r\nL 384.94375 22.318125 \r\n\" style=\"fill:none;stroke:#000000;stroke-linecap:square;stroke-linejoin:miter;stroke-width:0.8;\"/>\r\n   </g>\r\n   <g id=\"patch_5\">\r\n    <path d=\"M 50.14375 239.758125 \r\nL 384.94375 239.758125 \r\n\" style=\"fill:none;stroke:#000000;stroke-linecap:square;stroke-linejoin:miter;stroke-width:0.8;\"/>\r\n   </g>\r\n   <g id=\"patch_6\">\r\n    <path d=\"M 50.14375 22.318125 \r\nL 384.94375 22.318125 \r\n\" style=\"fill:none;stroke:#000000;stroke-linecap:square;stroke-linejoin:miter;stroke-width:0.8;\"/>\r\n   </g>\r\n   <g id=\"text_14\">\r\n    <!-- Learning Curve -->\r\n    <defs>\r\n     <path d=\"M 9.8125 72.90625 \r\nL 19.671875 72.90625 \r\nL 19.671875 8.296875 \r\nL 55.171875 8.296875 \r\nL 55.171875 0 \r\nL 9.8125 0 \r\nz\r\n\" id=\"DejaVuSans-76\"/>\r\n     <path d=\"M 45.40625 27.984375 \r\nQ 45.40625 37.75 41.375 43.109375 \r\nQ 37.359375 48.484375 30.078125 48.484375 \r\nQ 22.859375 48.484375 18.828125 43.109375 \r\nQ 14.796875 37.75 14.796875 27.984375 \r\nQ 14.796875 18.265625 18.828125 12.890625 \r\nQ 22.859375 7.515625 30.078125 7.515625 \r\nQ 37.359375 7.515625 41.375 12.890625 \r\nQ 45.40625 18.265625 45.40625 27.984375 \r\nz\r\nM 54.390625 6.78125 \r\nQ 54.390625 -7.171875 48.1875 -13.984375 \r\nQ 42 -20.796875 29.203125 -20.796875 \r\nQ 24.46875 -20.796875 20.265625 -20.09375 \r\nQ 16.0625 -19.390625 12.109375 -17.921875 \r\nL 12.109375 -9.1875 \r\nQ 16.0625 -11.328125 19.921875 -12.34375 \r\nQ 23.78125 -13.375 27.78125 -13.375 \r\nQ 36.625 -13.375 41.015625 -8.765625 \r\nQ 45.40625 -4.15625 45.40625 5.171875 \r\nL 45.40625 9.625 \r\nQ 42.625 4.78125 38.28125 2.390625 \r\nQ 33.9375 0 27.875 0 \r\nQ 17.828125 0 11.671875 7.65625 \r\nQ 5.515625 15.328125 5.515625 27.984375 \r\nQ 5.515625 40.671875 11.671875 48.328125 \r\nQ 17.828125 56 27.875 56 \r\nQ 33.9375 56 38.28125 53.609375 \r\nQ 42.625 51.21875 45.40625 46.390625 \r\nL 45.40625 54.6875 \r\nL 54.390625 54.6875 \r\nz\r\n\" id=\"DejaVuSans-103\"/>\r\n     <path d=\"M 2.984375 54.6875 \r\nL 12.5 54.6875 \r\nL 29.59375 8.796875 \r\nL 46.6875 54.6875 \r\nL 56.203125 54.6875 \r\nL 35.6875 0 \r\nL 23.484375 0 \r\nz\r\n\" id=\"DejaVuSans-118\"/>\r\n    </defs>\r\n    <g transform=\"translate(171.885625 16.318125)scale(0.12 -0.12)\">\r\n     <use xlink:href=\"#DejaVuSans-76\"/>\r\n     <use x=\"53.962891\" xlink:href=\"#DejaVuSans-101\"/>\r\n     <use x=\"115.486328\" xlink:href=\"#DejaVuSans-97\"/>\r\n     <use x=\"176.765625\" xlink:href=\"#DejaVuSans-114\"/>\r\n     <use x=\"216.128906\" xlink:href=\"#DejaVuSans-110\"/>\r\n     <use x=\"279.507812\" xlink:href=\"#DejaVuSans-105\"/>\r\n     <use x=\"307.291016\" xlink:href=\"#DejaVuSans-110\"/>\r\n     <use x=\"370.669922\" xlink:href=\"#DejaVuSans-103\"/>\r\n     <use x=\"434.146484\" xlink:href=\"#DejaVuSans-32\"/>\r\n     <use x=\"465.933594\" xlink:href=\"#DejaVuSans-67\"/>\r\n     <use x=\"535.757812\" xlink:href=\"#DejaVuSans-117\"/>\r\n     <use x=\"599.136719\" xlink:href=\"#DejaVuSans-114\"/>\r\n     <use x=\"640.25\" xlink:href=\"#DejaVuSans-118\"/>\r\n     <use x=\"699.429688\" xlink:href=\"#DejaVuSans-101\"/>\r\n    </g>\r\n   </g>\r\n  </g>\r\n </g>\r\n <defs>\r\n  <clipPath id=\"p1603db58c1\">\r\n   <rect height=\"217.44\" width=\"334.8\" x=\"50.14375\" y=\"22.318125\"/>\r\n  </clipPath>\r\n </defs>\r\n</svg>\r\n",
      "image/png": "[encoded data removed]"
     },
     "metadata": {
      "needs_background": "light"
     }
    }
   ],
   "source": [
    "import matplotlib.pyplot as plt\n",
    "import numpy as np\n",
    "\n",
    "plt.title('Learning Curve')\n",
    "plt.xlabel('Wall Clock Time (s)')\n",
    "plt.ylabel('Validation Accuracy')\n",
    "plt.scatter(time_history, 1-np.array(valid_loss_history))\n",
    "plt.plot(time_history, 1-np.array(best_valid_loss_history))\n",
    "plt.show()"
   ]
  },
  {
   "cell_type": "markdown",
   "metadata": {
    "slideshow": {
     "slide_type": "slide"
    }
   },
   "source": [
    "## 3. Customized Learner"
   ]
  },
  {
   "cell_type": "markdown",
   "metadata": {
    "slideshow": {
     "slide_type": "slide"
    }
   },
   "source": [
    "Some experienced automl users may have a preferred model to tune or may already have a reasonably by-hand-tuned model before launching the automl experiment. They need to select optimal configurations for the customized model mixed with standard built-in learners. \n",
    "\n",
    "FLAML can easily incorporate customized/new learners (preferably with sklearn API) provided by users in a real-time manner, as demonstrated below."
   ]
  },
  {
   "cell_type": "markdown",
   "metadata": {
    "slideshow": {
     "slide_type": "slide"
    }
   },
   "source": [
    "### Example of Regularized Greedy Forest\n",
    "\n",
    "[Regularized Greedy Forest](https://arxiv.org/abs/1109.0887) (RGF) is a machine learning method currently not included in FLAML. The RGF has many tuning parameters, the most critical of which are: `[max_leaf, n_iter, n_tree_search, opt_interval, min_samples_leaf]`. To run a customized/new learner, the user needs to provide the following information:\n",
    "* an implementation of the customized/new learner\n",
    "* a list of hyperparameter names and types\n",
    "* rough ranges of hyperparameters (i.e., upper/lower bounds)\n",
    "* choose initial value corresponding to low cost for cost-related hyperparameters (e.g., initial value for max_leaf and n_iter should be small)\n",
    "\n",
    "In this example, the above information for RGF is wrapped in a python class called *MyRegularizedGreedyForest* that exposes the hyperparameters."
   ]
  },
  {
   "cell_type": "code",
   "execution_count": 12,
   "metadata": {
    "slideshow": {
     "slide_type": "slide"
    }
   },
   "outputs": [],
   "source": [
    "''' BaseEstimator is the parent class for a customized learner '''\n",
    "from flaml.model import BaseEstimator\n",
    "from flaml.space import ConfigSearchInfo\n",
    "''' import the RGF implementation from rgf.sklearn module'''\n",
    "from rgf.sklearn import RGFClassifier, RGFRegressor\n",
    "\n",
    "\n",
    "class MyRegularizedGreedyForest(BaseEstimator):\n",
    "\n",
    "    # search space\n",
    "    params_configsearch_info = {\n",
    "        'max_leaf': ConfigSearchInfo(name = 'max_leaf', type = int, lower = 4, init = 4, upper = 10000),\n",
    "        'n_iter': ConfigSearchInfo(name = 'n_iter', type = int, lower = 1, init = 1, upper = 32768),\n",
    "        'n_tree_search': ConfigSearchInfo(name = 'n_tree_search', type = int, lower = 1, init = 1, upper = 32768),\n",
    "        'opt_interval': ConfigSearchInfo(name = 'opt_interval', type = int, lower = 1, init = 100, upper = 10000),\n",
    "        'learning_rate': ConfigSearchInfo(name = 'learning_rate', type = float, lower = 0.01, init = 1.0, upper = 20.0),\n",
    "        'min_samples_leaf': ConfigSearchInfo(name = 'min_samples_leaf', type = int, lower = 1, init = 20, upper = 20)\n",
    "    }\n",
    "    \n",
    "    def __init__(self, objective_name = 'binary:logistic', n_jobs = 1, max_leaf = 1000, \n",
    "    n_iter = 1, n_tree_search = 1, opt_interval = 1, learning_rate = 1.0, min_samples_leaf = 1):\n",
    "\n",
    "        '''regression for RGFRegressor; binary:logistic and multiclass for RGFClassifier'''\n",
    "        self.objective_name = objective_name\n",
    "\n",
    "        if 'regression' in objective_name:\n",
    "            self.estimator_class = RGFRegressor\n",
    "        else:\n",
    "            self.estimator_class = RGFClassifier\n",
    "\n",
    "        # round integer hyperparameters\n",
    "        self.params = {\n",
    "            \"n_jobs\": n_jobs,\n",
    "            'max_leaf': int(round(max_leaf)),\n",
    "            'n_iter': int(round(n_iter)),\n",
    "            'n_tree_search': int(round(n_tree_search)),\n",
    "            'opt_interval': int(round(opt_interval)),\n",
    "            'learning_rate': learning_rate,\n",
    "            'min_samples_leaf':int(round(min_samples_leaf))\n",
    "        }    \n"
   ]
  },
  {
   "cell_type": "markdown",
   "metadata": {
    "slideshow": {
     "slide_type": "slide"
    }
   },
   "source": [
    "### Add Customized Learner and Run FLAML AutoML\n",
    "\n",
    "After adding RGF into the list of learners, we run automl by tuning hyperpameters of RGF as well as the default learners. "
   ]
  },
  {
   "cell_type": "code",
   "execution_count": 13,
   "metadata": {
    "slideshow": {
     "slide_type": "slide"
    }
   },
   "outputs": [],
   "source": [
    "''' add a new learner RGF'''\n",
    "automl = AutoML()\n",
    "automl.add_learner(learner_name = 'RGF', learner_class = MyRegularizedGreedyForest)"
   ]
  },
  {
   "cell_type": "code",
   "execution_count": 14,
   "metadata": {
    "slideshow": {
     "slide_type": "slide"
    },
    "tags": []
   },
   "outputs": [
    {
     "output_type": "stream",
     "name": "stderr",
     "text": [
      "[flaml.automl: 12-15 07:42:43] {660} INFO - List of ML learners in AutoML Run: ['RGF', 'lgbm', 'rf', 'xgboost']\n",
      "[flaml.automl: 12-15 07:42:43] {665} INFO - Evaluation method: holdout\n",
      "[flaml.automl: 12-15 07:42:43] {683} INFO - Minimizing error metric: 1-accuracy\n",
      "[flaml.automl: 12-15 07:42:45] {327} INFO - Using StratifiedKFold\n",
      "[flaml.automl: 12-15 07:42:45] {728} INFO - iteration 0  current learner RGF\n",
      "[flaml.automl: 12-15 07:42:47] {793} INFO -  at 4.0s,\tbest RGF's error=0.3764,\tbest RGF's error=0.3764\n",
      "[flaml.automl: 12-15 07:42:47] {728} INFO - iteration 1  current learner RGF\n",
      "[flaml.automl: 12-15 07:42:52] {793} INFO -  at 8.7s,\tbest RGF's error=0.3764,\tbest RGF's error=0.3764\n",
      "[flaml.automl: 12-15 07:42:52] {728} INFO - iteration 2  current learner lgbm\n",
      "[flaml.automl: 12-15 07:42:52] {793} INFO -  at 8.9s,\tbest lgbm's error=0.3790,\tbest RGF's error=0.3764\n",
      "[flaml.automl: 12-15 07:42:52] {728} INFO - iteration 3  current learner lgbm\n",
      "[flaml.automl: 12-15 07:42:53] {793} INFO -  at 9.3s,\tbest lgbm's error=0.3790,\tbest RGF's error=0.3764\n",
      "[flaml.automl: 12-15 07:42:53] {728} INFO - iteration 4  current learner lgbm\n",
      "[flaml.automl: 12-15 07:42:53] {793} INFO -  at 9.8s,\tbest lgbm's error=0.3718,\tbest lgbm's error=0.3718\n",
      "[flaml.automl: 12-15 07:42:53] {728} INFO - iteration 5  current learner lgbm\n",
      "[flaml.automl: 12-15 07:42:53] {793} INFO -  at 10.0s,\tbest lgbm's error=0.3652,\tbest lgbm's error=0.3652\n",
      "[flaml.automl: 12-15 07:42:53] {728} INFO - iteration 6  current learner lgbm\n",
      "[flaml.automl: 12-15 07:42:54] {793} INFO -  at 10.5s,\tbest lgbm's error=0.3652,\tbest lgbm's error=0.3652\n",
      "[flaml.automl: 12-15 07:42:54] {728} INFO - iteration 7  current learner lgbm\n",
      "[flaml.automl: 12-15 07:42:55] {793} INFO -  at 11.8s,\tbest lgbm's error=0.3652,\tbest lgbm's error=0.3652\n",
      "[flaml.automl: 12-15 07:42:55] {728} INFO - iteration 8  current learner lgbm\n",
      "[flaml.automl: 12-15 07:42:57] {793} INFO -  at 14.0s,\tbest lgbm's error=0.3568,\tbest lgbm's error=0.3568\n",
      "[flaml.automl: 12-15 07:42:57] {728} INFO - iteration 9  current learner lgbm\n",
      "[flaml.automl: 12-15 07:43:02] {793} INFO -  at 18.1s,\tbest lgbm's error=0.3547,\tbest lgbm's error=0.3547\n",
      "[flaml.automl: 12-15 07:43:02] {728} INFO - iteration 10  current learner lgbm\n",
      "[flaml.automl: 12-15 07:43:07] {793} INFO -  at 23.2s,\tbest lgbm's error=0.3522,\tbest lgbm's error=0.3522\n",
      "[flaml.automl: 12-15 07:43:07] {728} INFO - iteration 11  current learner xgboost\n",
      "[flaml.automl: 12-15 07:43:07] {793} INFO -  at 23.9s,\tbest xgboost's error=0.3764,\tbest lgbm's error=0.3522\n",
      "[flaml.automl: 12-15 07:43:07] {728} INFO - iteration 12  current learner xgboost\n",
      "[flaml.automl: 12-15 07:43:08] {793} INFO -  at 24.7s,\tbest xgboost's error=0.3671,\tbest lgbm's error=0.3522\n",
      "[flaml.automl: 12-15 07:43:08] {728} INFO - iteration 13  current learner xgboost\n",
      "[flaml.automl: 12-15 07:43:09] {793} INFO -  at 26.0s,\tbest xgboost's error=0.3671,\tbest lgbm's error=0.3522\n",
      "[flaml.automl: 12-15 07:43:09] {728} INFO - iteration 14  current learner lgbm\n",
      "[flaml.automl: 12-15 07:43:18] {793} INFO -  at 34.7s,\tbest lgbm's error=0.3522,\tbest lgbm's error=0.3522\n",
      "[flaml.automl: 12-15 07:43:18] {728} INFO - iteration 15  current learner rf\n",
      "[flaml.automl: 12-15 07:43:19] {793} INFO -  at 35.3s,\tbest rf's error=0.4323,\tbest lgbm's error=0.3522\n",
      "[flaml.automl: 12-15 07:43:19] {728} INFO - iteration 16  current learner rf\n",
      "[flaml.automl: 12-15 07:43:19] {793} INFO -  at 36.0s,\tbest rf's error=0.4033,\tbest lgbm's error=0.3522\n",
      "[flaml.automl: 12-15 07:43:19] {728} INFO - iteration 17  current learner RGF\n",
      "[flaml.automl: 12-15 07:43:28] {793} INFO -  at 44.7s,\tbest RGF's error=0.3764,\tbest lgbm's error=0.3522\n",
      "[flaml.automl: 12-15 07:43:28] {728} INFO - iteration 18  current learner xgboost\n",
      "[flaml.automl: 12-15 07:43:29] {793} INFO -  at 45.4s,\tbest xgboost's error=0.3602,\tbest lgbm's error=0.3522\n",
      "[flaml.automl: 12-15 07:43:29] {728} INFO - iteration 19  current learner xgboost\n",
      "[flaml.automl: 12-15 07:43:31] {793} INFO -  at 47.3s,\tbest xgboost's error=0.3544,\tbest lgbm's error=0.3522\n",
      "[flaml.automl: 12-15 07:43:31] {728} INFO - iteration 20  current learner xgboost\n",
      "[flaml.automl: 12-15 07:43:32] {793} INFO -  at 48.9s,\tbest xgboost's error=0.3525,\tbest lgbm's error=0.3522\n",
      "[flaml.automl: 12-15 07:43:32] {728} INFO - iteration 21  current learner xgboost\n",
      "[flaml.automl: 12-15 07:43:37] {793} INFO -  at 53.5s,\tbest xgboost's error=0.3525,\tbest lgbm's error=0.3522\n",
      "[flaml.automl: 12-15 07:43:37] {728} INFO - iteration 22  current learner lgbm\n",
      "[flaml.automl: 12-15 07:43:42] {793} INFO -  at 59.0s,\tbest lgbm's error=0.3522,\tbest lgbm's error=0.3522\n",
      "[flaml.automl: 12-15 07:43:42] {728} INFO - iteration 23  current learner xgboost\n",
      "[flaml.automl: 12-15 07:43:43] {793} INFO -  at 59.9s,\tbest xgboost's error=0.3525,\tbest lgbm's error=0.3522\n",
      "[flaml.automl: 12-15 07:43:43] {728} INFO - iteration 24  current learner rf\n",
      "[flaml.automl: 12-15 07:43:43] {793} INFO -  at 59.9s,\tbest rf's error=0.4033,\tbest lgbm's error=0.3522\n",
      "[flaml.automl: 12-15 07:43:43] {728} INFO - iteration 25  current learner RGF\n",
      "[flaml.automl: 12-15 07:43:47] {793} INFO -  at 63.9s,\tbest RGF's error=0.3764,\tbest lgbm's error=0.3522\n",
      "[flaml.automl: 12-15 07:43:47] {814} INFO - LGBMClassifier(colsample_bytree=0.7, learning_rate=0.06177098582210786,\n",
      "               max_bin=127, min_child_weight=5.058775453728698, n_estimators=80,\n",
      "               num_leaves=17, objective='binary',\n",
      "               reg_alpha=3.690867311882246e-10, reg_lambda=1.0,\n",
      "               subsample=0.7382230019481447)\n",
      "[flaml.automl: 12-15 07:43:47] {702} INFO - fit succeeded\n"
     ]
    }
   ],
   "source": [
    "settings = {\n",
    "    \"time_budget\": 60, # total running time in seconds\n",
    "    \"metric\": 'accuracy', \n",
    "    \"estimator_list\": ['RGF', 'lgbm', 'rf', 'xgboost'], # list of ML learners\n",
    "    \"task\": 'classification', # task type    \n",
    "    \"sample\": True, # whether to subsample training data\n",
    "    \"log_file_name\": 'airlines_experiment.log', # cache directory of flaml log files \n",
    "    \"log_training_metric\": True, # whether to log training metric\n",
    "}\n",
    "\n",
    "'''The main flaml automl API'''\n",
    "automl.fit(X_train = X_train, y_train = y_train, **settings)"
   ]
  }
 ],
 "metadata": {
  "kernelspec": {
   "name": "python3",
   "display_name": "Python 3.7.9 64-bit ('test': conda)",
   "metadata": {
    "interpreter": {
     "hash": "d432c3c2bcf16c697a4c55907b7ae9cb502fbbf6a7955e813637a3b18956f9d0"
    }
   }
  },
  "language_info": {
   "codemirror_mode": {
    "name": "ipython",
    "version": 3
   },
   "file_extension": ".py",
   "mimetype": "text/x-python",
   "name": "python",
   "nbconvert_exporter": "python",
   "pygments_lexer": "ipython3",
   "version": "3.7.9-final"
  }
 },
 "nbformat": 4,
 "nbformat_minor": 2
}